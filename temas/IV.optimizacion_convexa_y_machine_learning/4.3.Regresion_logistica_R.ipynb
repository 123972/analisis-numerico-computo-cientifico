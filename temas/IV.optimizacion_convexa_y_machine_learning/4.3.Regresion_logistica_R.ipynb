{
 "cells": [
  {
   "cell_type": "code",
   "execution_count": 1,
   "metadata": {},
   "outputs": [
    {
     "name": "stderr",
     "output_type": "stream",
     "text": [
      "\n",
      "Attaching package: ‘dplyr’\n",
      "\n",
      "\n",
      "The following objects are masked from ‘package:stats’:\n",
      "\n",
      "    filter, lag\n",
      "\n",
      "\n",
      "The following objects are masked from ‘package:base’:\n",
      "\n",
      "    intersect, setdiff, setequal, union\n",
      "\n",
      "\n"
     ]
    }
   ],
   "source": [
    "library(datasets)\n",
    "library(dplyr)\n"
   ]
  },
  {
   "cell_type": "code",
   "execution_count": 2,
   "metadata": {},
   "outputs": [
    {
     "data": {
      "text/plain": [
       "  Sepal.Length    Sepal.Width     Petal.Length    Petal.Width   \n",
       " Min.   :4.300   Min.   :2.000   Min.   :1.000   Min.   :0.100  \n",
       " 1st Qu.:5.100   1st Qu.:2.800   1st Qu.:1.600   1st Qu.:0.300  \n",
       " Median :5.800   Median :3.000   Median :4.350   Median :1.300  \n",
       " Mean   :5.843   Mean   :3.057   Mean   :3.758   Mean   :1.199  \n",
       " 3rd Qu.:6.400   3rd Qu.:3.300   3rd Qu.:5.100   3rd Qu.:1.800  \n",
       " Max.   :7.900   Max.   :4.400   Max.   :6.900   Max.   :2.500  \n",
       "       Species  \n",
       " setosa    :50  \n",
       " versicolor:50  \n",
       " virginica :50  \n",
       "                \n",
       "                \n",
       "                "
      ]
     },
     "metadata": {},
     "output_type": "display_data"
    },
    {
     "data": {
      "text/html": [
       "150"
      ],
      "text/latex": [
       "150"
      ],
      "text/markdown": [
       "150"
      ],
      "text/plain": [
       "[1] 150"
      ]
     },
     "metadata": {},
     "output_type": "display_data"
    },
    {
     "data": {
      "text/html": [
       "5"
      ],
      "text/latex": [
       "5"
      ],
      "text/markdown": [
       "5"
      ],
      "text/plain": [
       "[1] 5"
      ]
     },
     "metadata": {},
     "output_type": "display_data"
    }
   ],
   "source": [
    "data(iris)\n",
    "summary(iris)\n",
    "nrow(iris)\n",
    "ncol(iris)"
   ]
  },
  {
   "cell_type": "code",
   "execution_count": 3,
   "metadata": {},
   "outputs": [],
   "source": [
    "iris_subset <- filter(iris, Species %in% c(\"virginica\", \"versicolor\"))\n"
   ]
  },
  {
   "cell_type": "code",
   "execution_count": 4,
   "metadata": {},
   "outputs": [
    {
     "data": {
      "text/html": [
       "<table>\n",
       "<caption>A data.frame: 6 × 5</caption>\n",
       "<thead>\n",
       "\t<tr><th></th><th scope=col>Sepal.Length</th><th scope=col>Sepal.Width</th><th scope=col>Petal.Length</th><th scope=col>Petal.Width</th><th scope=col>Species</th></tr>\n",
       "\t<tr><th></th><th scope=col>&lt;dbl&gt;</th><th scope=col>&lt;dbl&gt;</th><th scope=col>&lt;dbl&gt;</th><th scope=col>&lt;dbl&gt;</th><th scope=col>&lt;fct&gt;</th></tr>\n",
       "</thead>\n",
       "<tbody>\n",
       "\t<tr><th scope=row>1</th><td>7.0</td><td>3.2</td><td>4.7</td><td>1.4</td><td>versicolor</td></tr>\n",
       "\t<tr><th scope=row>2</th><td>6.4</td><td>3.2</td><td>4.5</td><td>1.5</td><td>versicolor</td></tr>\n",
       "\t<tr><th scope=row>3</th><td>6.9</td><td>3.1</td><td>4.9</td><td>1.5</td><td>versicolor</td></tr>\n",
       "\t<tr><th scope=row>4</th><td>5.5</td><td>2.3</td><td>4.0</td><td>1.3</td><td>versicolor</td></tr>\n",
       "\t<tr><th scope=row>5</th><td>6.5</td><td>2.8</td><td>4.6</td><td>1.5</td><td>versicolor</td></tr>\n",
       "\t<tr><th scope=row>6</th><td>5.7</td><td>2.8</td><td>4.5</td><td>1.3</td><td>versicolor</td></tr>\n",
       "</tbody>\n",
       "</table>\n"
      ],
      "text/latex": [
       "A data.frame: 6 × 5\n",
       "\\begin{tabular}{r|lllll}\n",
       "  & Sepal.Length & Sepal.Width & Petal.Length & Petal.Width & Species\\\\\n",
       "  & <dbl> & <dbl> & <dbl> & <dbl> & <fct>\\\\\n",
       "\\hline\n",
       "\t1 & 7.0 & 3.2 & 4.7 & 1.4 & versicolor\\\\\n",
       "\t2 & 6.4 & 3.2 & 4.5 & 1.5 & versicolor\\\\\n",
       "\t3 & 6.9 & 3.1 & 4.9 & 1.5 & versicolor\\\\\n",
       "\t4 & 5.5 & 2.3 & 4.0 & 1.3 & versicolor\\\\\n",
       "\t5 & 6.5 & 2.8 & 4.6 & 1.5 & versicolor\\\\\n",
       "\t6 & 5.7 & 2.8 & 4.5 & 1.3 & versicolor\\\\\n",
       "\\end{tabular}\n"
      ],
      "text/markdown": [
       "\n",
       "A data.frame: 6 × 5\n",
       "\n",
       "| <!--/--> | Sepal.Length &lt;dbl&gt; | Sepal.Width &lt;dbl&gt; | Petal.Length &lt;dbl&gt; | Petal.Width &lt;dbl&gt; | Species &lt;fct&gt; |\n",
       "|---|---|---|---|---|---|\n",
       "| 1 | 7.0 | 3.2 | 4.7 | 1.4 | versicolor |\n",
       "| 2 | 6.4 | 3.2 | 4.5 | 1.5 | versicolor |\n",
       "| 3 | 6.9 | 3.1 | 4.9 | 1.5 | versicolor |\n",
       "| 4 | 5.5 | 2.3 | 4.0 | 1.3 | versicolor |\n",
       "| 5 | 6.5 | 2.8 | 4.6 | 1.5 | versicolor |\n",
       "| 6 | 5.7 | 2.8 | 4.5 | 1.3 | versicolor |\n",
       "\n"
      ],
      "text/plain": [
       "  Sepal.Length Sepal.Width Petal.Length Petal.Width Species   \n",
       "1 7.0          3.2         4.7          1.4         versicolor\n",
       "2 6.4          3.2         4.5          1.5         versicolor\n",
       "3 6.9          3.1         4.9          1.5         versicolor\n",
       "4 5.5          2.3         4.0          1.3         versicolor\n",
       "5 6.5          2.8         4.6          1.5         versicolor\n",
       "6 5.7          2.8         4.5          1.3         versicolor"
      ]
     },
     "metadata": {},
     "output_type": "display_data"
    }
   ],
   "source": [
    "head(iris_subset)"
   ]
  },
  {
   "cell_type": "code",
   "execution_count": 5,
   "metadata": {},
   "outputs": [
    {
     "data": {
      "text/html": [
       "100"
      ],
      "text/latex": [
       "100"
      ],
      "text/markdown": [
       "100"
      ],
      "text/plain": [
       "[1] 100"
      ]
     },
     "metadata": {},
     "output_type": "display_data"
    }
   ],
   "source": [
    "nrow(iris_subset)\n"
   ]
  },
  {
   "cell_type": "code",
   "execution_count": 6,
   "metadata": {},
   "outputs": [
    {
     "data": {
      "text/html": [
       "<table>\n",
       "<caption>A matrix: 4 × 4 of type dbl</caption>\n",
       "<thead>\n",
       "\t<tr><th></th><th scope=col>Sepal.Length</th><th scope=col>Sepal.Width</th><th scope=col>Petal.Length</th><th scope=col>Petal.Width</th></tr>\n",
       "</thead>\n",
       "<tbody>\n",
       "\t<tr><th scope=row>Sepal.Length</th><td>1.0000000</td><td>0.5538548</td><td>0.8284787</td><td>0.5937094</td></tr>\n",
       "\t<tr><th scope=row>Sepal.Width</th><td>0.5538548</td><td>1.0000000</td><td>0.5198023</td><td>0.5662025</td></tr>\n",
       "\t<tr><th scope=row>Petal.Length</th><td>0.8284787</td><td>0.5198023</td><td>1.0000000</td><td>0.8233476</td></tr>\n",
       "\t<tr><th scope=row>Petal.Width</th><td>0.5937094</td><td>0.5662025</td><td>0.8233476</td><td>1.0000000</td></tr>\n",
       "</tbody>\n",
       "</table>\n"
      ],
      "text/latex": [
       "A matrix: 4 × 4 of type dbl\n",
       "\\begin{tabular}{r|llll}\n",
       "  & Sepal.Length & Sepal.Width & Petal.Length & Petal.Width\\\\\n",
       "\\hline\n",
       "\tSepal.Length & 1.0000000 & 0.5538548 & 0.8284787 & 0.5937094\\\\\n",
       "\tSepal.Width & 0.5538548 & 1.0000000 & 0.5198023 & 0.5662025\\\\\n",
       "\tPetal.Length & 0.8284787 & 0.5198023 & 1.0000000 & 0.8233476\\\\\n",
       "\tPetal.Width & 0.5937094 & 0.5662025 & 0.8233476 & 1.0000000\\\\\n",
       "\\end{tabular}\n"
      ],
      "text/markdown": [
       "\n",
       "A matrix: 4 × 4 of type dbl\n",
       "\n",
       "| <!--/--> | Sepal.Length | Sepal.Width | Petal.Length | Petal.Width |\n",
       "|---|---|---|---|---|\n",
       "| Sepal.Length | 1.0000000 | 0.5538548 | 0.8284787 | 0.5937094 |\n",
       "| Sepal.Width | 0.5538548 | 1.0000000 | 0.5198023 | 0.5662025 |\n",
       "| Petal.Length | 0.8284787 | 0.5198023 | 1.0000000 | 0.8233476 |\n",
       "| Petal.Width | 0.5937094 | 0.5662025 | 0.8233476 | 1.0000000 |\n",
       "\n"
      ],
      "text/plain": [
       "             Sepal.Length Sepal.Width Petal.Length Petal.Width\n",
       "Sepal.Length 1.0000000    0.5538548   0.8284787    0.5937094  \n",
       "Sepal.Width  0.5538548    1.0000000   0.5198023    0.5662025  \n",
       "Petal.Length 0.8284787    0.5198023   1.0000000    0.8233476  \n",
       "Petal.Width  0.5937094    0.5662025   0.8233476    1.0000000  "
      ]
     },
     "metadata": {},
     "output_type": "display_data"
    }
   ],
   "source": [
    "cor(as.matrix(iris_subset[,-ncol(iris_subset)]))"
   ]
  },
  {
   "cell_type": "code",
   "execution_count": 7,
   "metadata": {},
   "outputs": [],
   "source": [
    "A<-iris_subset[,-c(3,ncol(iris_subset))]"
   ]
  },
  {
   "cell_type": "code",
   "execution_count": 8,
   "metadata": {},
   "outputs": [],
   "source": [
    "y_hat <- iris_subset[,ncol(iris_subset)]"
   ]
  },
  {
   "cell_type": "code",
   "execution_count": 9,
   "metadata": {},
   "outputs": [
    {
     "data": {
      "text/html": [
       "<table>\n",
       "<caption>A data.frame: 6 × 3</caption>\n",
       "<thead>\n",
       "\t<tr><th></th><th scope=col>Sepal.Length</th><th scope=col>Sepal.Width</th><th scope=col>Petal.Width</th></tr>\n",
       "\t<tr><th></th><th scope=col>&lt;dbl&gt;</th><th scope=col>&lt;dbl&gt;</th><th scope=col>&lt;dbl&gt;</th></tr>\n",
       "</thead>\n",
       "<tbody>\n",
       "\t<tr><th scope=row>1</th><td>7.0</td><td>3.2</td><td>1.4</td></tr>\n",
       "\t<tr><th scope=row>2</th><td>6.4</td><td>3.2</td><td>1.5</td></tr>\n",
       "\t<tr><th scope=row>3</th><td>6.9</td><td>3.1</td><td>1.5</td></tr>\n",
       "\t<tr><th scope=row>4</th><td>5.5</td><td>2.3</td><td>1.3</td></tr>\n",
       "\t<tr><th scope=row>5</th><td>6.5</td><td>2.8</td><td>1.5</td></tr>\n",
       "\t<tr><th scope=row>6</th><td>5.7</td><td>2.8</td><td>1.3</td></tr>\n",
       "</tbody>\n",
       "</table>\n"
      ],
      "text/latex": [
       "A data.frame: 6 × 3\n",
       "\\begin{tabular}{r|lll}\n",
       "  & Sepal.Length & Sepal.Width & Petal.Width\\\\\n",
       "  & <dbl> & <dbl> & <dbl>\\\\\n",
       "\\hline\n",
       "\t1 & 7.0 & 3.2 & 1.4\\\\\n",
       "\t2 & 6.4 & 3.2 & 1.5\\\\\n",
       "\t3 & 6.9 & 3.1 & 1.5\\\\\n",
       "\t4 & 5.5 & 2.3 & 1.3\\\\\n",
       "\t5 & 6.5 & 2.8 & 1.5\\\\\n",
       "\t6 & 5.7 & 2.8 & 1.3\\\\\n",
       "\\end{tabular}\n"
      ],
      "text/markdown": [
       "\n",
       "A data.frame: 6 × 3\n",
       "\n",
       "| <!--/--> | Sepal.Length &lt;dbl&gt; | Sepal.Width &lt;dbl&gt; | Petal.Width &lt;dbl&gt; |\n",
       "|---|---|---|---|\n",
       "| 1 | 7.0 | 3.2 | 1.4 |\n",
       "| 2 | 6.4 | 3.2 | 1.5 |\n",
       "| 3 | 6.9 | 3.1 | 1.5 |\n",
       "| 4 | 5.5 | 2.3 | 1.3 |\n",
       "| 5 | 6.5 | 2.8 | 1.5 |\n",
       "| 6 | 5.7 | 2.8 | 1.3 |\n",
       "\n"
      ],
      "text/plain": [
       "  Sepal.Length Sepal.Width Petal.Width\n",
       "1 7.0          3.2         1.4        \n",
       "2 6.4          3.2         1.5        \n",
       "3 6.9          3.1         1.5        \n",
       "4 5.5          2.3         1.3        \n",
       "5 6.5          2.8         1.5        \n",
       "6 5.7          2.8         1.3        "
      ]
     },
     "metadata": {},
     "output_type": "display_data"
    }
   ],
   "source": [
    "head(A)"
   ]
  },
  {
   "cell_type": "code",
   "execution_count": 10,
   "metadata": {},
   "outputs": [
    {
     "data": {
      "text/html": [
       "<ol class=list-inline>\n",
       "\t<li>versicolor</li>\n",
       "\t<li>versicolor</li>\n",
       "\t<li>versicolor</li>\n",
       "\t<li>versicolor</li>\n",
       "\t<li>versicolor</li>\n",
       "\t<li>versicolor</li>\n",
       "</ol>\n",
       "\n",
       "<details>\n",
       "\t<summary style=display:list-item;cursor:pointer>\n",
       "\t\t<strong>Levels</strong>:\n",
       "\t</summary>\n",
       "\t<ol class=list-inline>\n",
       "\t\t<li>'setosa'</li>\n",
       "\t\t<li>'versicolor'</li>\n",
       "\t\t<li>'virginica'</li>\n",
       "\t</ol>\n",
       "</details>"
      ],
      "text/latex": [
       "\\begin{enumerate*}\n",
       "\\item versicolor\n",
       "\\item versicolor\n",
       "\\item versicolor\n",
       "\\item versicolor\n",
       "\\item versicolor\n",
       "\\item versicolor\n",
       "\\end{enumerate*}\n",
       "\n",
       "\\emph{Levels}: \\begin{enumerate*}\n",
       "\\item 'setosa'\n",
       "\\item 'versicolor'\n",
       "\\item 'virginica'\n",
       "\\end{enumerate*}\n"
      ],
      "text/markdown": [
       "1. versicolor\n",
       "2. versicolor\n",
       "3. versicolor\n",
       "4. versicolor\n",
       "5. versicolor\n",
       "6. versicolor\n",
       "\n",
       "\n",
       "\n",
       "**Levels**: 1. 'setosa'\n",
       "2. 'versicolor'\n",
       "3. 'virginica'\n",
       "\n",
       "\n"
      ],
      "text/plain": [
       "[1] versicolor versicolor versicolor versicolor versicolor versicolor\n",
       "Levels: setosa versicolor virginica"
      ]
     },
     "metadata": {},
     "output_type": "display_data"
    }
   ],
   "source": [
    "head(y_hat)"
   ]
  },
  {
   "cell_type": "code",
   "execution_count": 11,
   "metadata": {},
   "outputs": [],
   "source": [
    "glm.out <- glm(Species ~ Sepal.Length + Sepal.Width  + Petal.Width,\n",
    "               data = iris_subset,family = binomial)\n"
   ]
  },
  {
   "cell_type": "code",
   "execution_count": 12,
   "metadata": {},
   "outputs": [
    {
     "data": {
      "text/plain": [
       "\n",
       "Call:\n",
       "glm(formula = Species ~ Sepal.Length + Sepal.Width + Petal.Width, \n",
       "    family = binomial, data = iris_subset)\n",
       "\n",
       "Deviance Residuals: \n",
       "     Min        1Q    Median        3Q       Max  \n",
       "-1.62754  -0.12171  -0.00435   0.06825   2.32596  \n",
       "\n",
       "Coefficients:\n",
       "             Estimate Std. Error z value Pr(>|z|)    \n",
       "(Intercept)   -20.287      8.055  -2.519   0.0118 *  \n",
       "Sepal.Length    1.295      1.089   1.189   0.2344    \n",
       "Sepal.Width    -4.823      2.097  -2.300   0.0214 *  \n",
       "Petal.Width    15.923      3.981   4.000 6.33e-05 ***\n",
       "---\n",
       "Signif. codes:  0 ‘***’ 0.001 ‘**’ 0.01 ‘*’ 0.05 ‘.’ 0.1 ‘ ’ 1\n",
       "\n",
       "(Dispersion parameter for binomial family taken to be 1)\n",
       "\n",
       "    Null deviance: 138.629  on 99  degrees of freedom\n",
       "Residual deviance:  25.902  on 96  degrees of freedom\n",
       "AIC: 33.902\n",
       "\n",
       "Number of Fisher Scoring iterations: 8\n"
      ]
     },
     "metadata": {},
     "output_type": "display_data"
    }
   ],
   "source": [
    "summary(glm.out)"
   ]
  },
  {
   "cell_type": "code",
   "execution_count": 13,
   "metadata": {},
   "outputs": [
    {
     "data": {
      "text/html": [
       "<dl class=dl-horizontal>\n",
       "\t<dt>(Intercept)</dt>\n",
       "\t\t<dd>-20.2873288566835</dd>\n",
       "\t<dt>Sepal.Length</dt>\n",
       "\t\t<dd>1.29512927786856</dd>\n",
       "\t<dt>Sepal.Width</dt>\n",
       "\t\t<dd>-4.8232741255399</dd>\n",
       "\t<dt>Petal.Width</dt>\n",
       "\t\t<dd>15.9226604844903</dd>\n",
       "</dl>\n"
      ],
      "text/latex": [
       "\\begin{description*}\n",
       "\\item[(Intercept)] -20.2873288566835\n",
       "\\item[Sepal.Length] 1.29512927786856\n",
       "\\item[Sepal.Width] -4.8232741255399\n",
       "\\item[Petal.Width] 15.9226604844903\n",
       "\\end{description*}\n"
      ],
      "text/markdown": [
       "(Intercept)\n",
       ":   -20.2873288566835Sepal.Length\n",
       ":   1.29512927786856Sepal.Width\n",
       ":   -4.8232741255399Petal.Width\n",
       ":   15.9226604844903\n",
       "\n"
      ],
      "text/plain": [
       " (Intercept) Sepal.Length  Sepal.Width  Petal.Width \n",
       "  -20.287329     1.295129    -4.823274    15.922660 "
      ]
     },
     "metadata": {},
     "output_type": "display_data"
    }
   ],
   "source": [
    "glm.out$coefficients"
   ]
  },
  {
   "cell_type": "markdown",
   "metadata": {},
   "source": [
    "# Descenso en gradiente"
   ]
  },
  {
   "cell_type": "markdown",
   "metadata": {},
   "source": [
    "$$2 \\displaystyle \\sum_{i=1}^m log(1+exp(\\beta^Tx_i))-\\hat{y}_i\\beta^Tx_i$$\n",
    "\n",
    "donde: $\\hat{y}_i \\in \\{0,1\\}$, $x_i$ $i$-ésimo renglón de matriz A."
   ]
  },
  {
   "cell_type": "code",
   "execution_count": 14,
   "metadata": {},
   "outputs": [
    {
     "data": {
      "text/html": [
       "<table>\n",
       "<caption>A data.frame: 6 × 3</caption>\n",
       "<thead>\n",
       "\t<tr><th></th><th scope=col>Sepal.Length</th><th scope=col>Sepal.Width</th><th scope=col>Petal.Width</th></tr>\n",
       "\t<tr><th></th><th scope=col>&lt;dbl&gt;</th><th scope=col>&lt;dbl&gt;</th><th scope=col>&lt;dbl&gt;</th></tr>\n",
       "</thead>\n",
       "<tbody>\n",
       "\t<tr><th scope=row>1</th><td>7.0</td><td>3.2</td><td>1.4</td></tr>\n",
       "\t<tr><th scope=row>2</th><td>6.4</td><td>3.2</td><td>1.5</td></tr>\n",
       "\t<tr><th scope=row>3</th><td>6.9</td><td>3.1</td><td>1.5</td></tr>\n",
       "\t<tr><th scope=row>4</th><td>5.5</td><td>2.3</td><td>1.3</td></tr>\n",
       "\t<tr><th scope=row>5</th><td>6.5</td><td>2.8</td><td>1.5</td></tr>\n",
       "\t<tr><th scope=row>6</th><td>5.7</td><td>2.8</td><td>1.3</td></tr>\n",
       "</tbody>\n",
       "</table>\n"
      ],
      "text/latex": [
       "A data.frame: 6 × 3\n",
       "\\begin{tabular}{r|lll}\n",
       "  & Sepal.Length & Sepal.Width & Petal.Width\\\\\n",
       "  & <dbl> & <dbl> & <dbl>\\\\\n",
       "\\hline\n",
       "\t1 & 7.0 & 3.2 & 1.4\\\\\n",
       "\t2 & 6.4 & 3.2 & 1.5\\\\\n",
       "\t3 & 6.9 & 3.1 & 1.5\\\\\n",
       "\t4 & 5.5 & 2.3 & 1.3\\\\\n",
       "\t5 & 6.5 & 2.8 & 1.5\\\\\n",
       "\t6 & 5.7 & 2.8 & 1.3\\\\\n",
       "\\end{tabular}\n"
      ],
      "text/markdown": [
       "\n",
       "A data.frame: 6 × 3\n",
       "\n",
       "| <!--/--> | Sepal.Length &lt;dbl&gt; | Sepal.Width &lt;dbl&gt; | Petal.Width &lt;dbl&gt; |\n",
       "|---|---|---|---|\n",
       "| 1 | 7.0 | 3.2 | 1.4 |\n",
       "| 2 | 6.4 | 3.2 | 1.5 |\n",
       "| 3 | 6.9 | 3.1 | 1.5 |\n",
       "| 4 | 5.5 | 2.3 | 1.3 |\n",
       "| 5 | 6.5 | 2.8 | 1.5 |\n",
       "| 6 | 5.7 | 2.8 | 1.3 |\n",
       "\n"
      ],
      "text/plain": [
       "  Sepal.Length Sepal.Width Petal.Width\n",
       "1 7.0          3.2         1.4        \n",
       "2 6.4          3.2         1.5        \n",
       "3 6.9          3.1         1.5        \n",
       "4 5.5          2.3         1.3        \n",
       "5 6.5          2.8         1.5        \n",
       "6 5.7          2.8         1.3        "
      ]
     },
     "metadata": {},
     "output_type": "display_data"
    }
   ],
   "source": [
    "head(A)"
   ]
  },
  {
   "cell_type": "code",
   "execution_count": 15,
   "metadata": {},
   "outputs": [],
   "source": [
    "A<-cbind(rep(1,nrow(A)),A)"
   ]
  },
  {
   "cell_type": "code",
   "execution_count": 16,
   "metadata": {},
   "outputs": [
    {
     "data": {
      "text/html": [
       "<table>\n",
       "<caption>A data.frame: 6 × 4</caption>\n",
       "<thead>\n",
       "\t<tr><th></th><th scope=col>rep(1, nrow(A))</th><th scope=col>Sepal.Length</th><th scope=col>Sepal.Width</th><th scope=col>Petal.Width</th></tr>\n",
       "\t<tr><th></th><th scope=col>&lt;dbl&gt;</th><th scope=col>&lt;dbl&gt;</th><th scope=col>&lt;dbl&gt;</th><th scope=col>&lt;dbl&gt;</th></tr>\n",
       "</thead>\n",
       "<tbody>\n",
       "\t<tr><th scope=row>1</th><td>1</td><td>7.0</td><td>3.2</td><td>1.4</td></tr>\n",
       "\t<tr><th scope=row>2</th><td>1</td><td>6.4</td><td>3.2</td><td>1.5</td></tr>\n",
       "\t<tr><th scope=row>3</th><td>1</td><td>6.9</td><td>3.1</td><td>1.5</td></tr>\n",
       "\t<tr><th scope=row>4</th><td>1</td><td>5.5</td><td>2.3</td><td>1.3</td></tr>\n",
       "\t<tr><th scope=row>5</th><td>1</td><td>6.5</td><td>2.8</td><td>1.5</td></tr>\n",
       "\t<tr><th scope=row>6</th><td>1</td><td>5.7</td><td>2.8</td><td>1.3</td></tr>\n",
       "</tbody>\n",
       "</table>\n"
      ],
      "text/latex": [
       "A data.frame: 6 × 4\n",
       "\\begin{tabular}{r|llll}\n",
       "  & rep(1, nrow(A)) & Sepal.Length & Sepal.Width & Petal.Width\\\\\n",
       "  & <dbl> & <dbl> & <dbl> & <dbl>\\\\\n",
       "\\hline\n",
       "\t1 & 1 & 7.0 & 3.2 & 1.4\\\\\n",
       "\t2 & 1 & 6.4 & 3.2 & 1.5\\\\\n",
       "\t3 & 1 & 6.9 & 3.1 & 1.5\\\\\n",
       "\t4 & 1 & 5.5 & 2.3 & 1.3\\\\\n",
       "\t5 & 1 & 6.5 & 2.8 & 1.5\\\\\n",
       "\t6 & 1 & 5.7 & 2.8 & 1.3\\\\\n",
       "\\end{tabular}\n"
      ],
      "text/markdown": [
       "\n",
       "A data.frame: 6 × 4\n",
       "\n",
       "| <!--/--> | rep(1, nrow(A)) &lt;dbl&gt; | Sepal.Length &lt;dbl&gt; | Sepal.Width &lt;dbl&gt; | Petal.Width &lt;dbl&gt; |\n",
       "|---|---|---|---|---|\n",
       "| 1 | 1 | 7.0 | 3.2 | 1.4 |\n",
       "| 2 | 1 | 6.4 | 3.2 | 1.5 |\n",
       "| 3 | 1 | 6.9 | 3.1 | 1.5 |\n",
       "| 4 | 1 | 5.5 | 2.3 | 1.3 |\n",
       "| 5 | 1 | 6.5 | 2.8 | 1.5 |\n",
       "| 6 | 1 | 5.7 | 2.8 | 1.3 |\n",
       "\n"
      ],
      "text/plain": [
       "  rep(1, nrow(A)) Sepal.Length Sepal.Width Petal.Width\n",
       "1 1               7.0          3.2         1.4        \n",
       "2 1               6.4          3.2         1.5        \n",
       "3 1               6.9          3.1         1.5        \n",
       "4 1               5.5          2.3         1.3        \n",
       "5 1               6.5          2.8         1.5        \n",
       "6 1               5.7          2.8         1.3        "
      ]
     },
     "metadata": {},
     "output_type": "display_data"
    }
   ],
   "source": [
    "head(A)"
   ]
  },
  {
   "cell_type": "code",
   "execution_count": 17,
   "metadata": {},
   "outputs": [],
   "source": [
    "y_hat <- iris_subset[,ncol(iris_subset)]"
   ]
  },
  {
   "cell_type": "code",
   "execution_count": 18,
   "metadata": {},
   "outputs": [
    {
     "data": {
      "text/html": [
       "<ol class=list-inline>\n",
       "\t<li>versicolor</li>\n",
       "\t<li>versicolor</li>\n",
       "\t<li>versicolor</li>\n",
       "\t<li>versicolor</li>\n",
       "\t<li>versicolor</li>\n",
       "\t<li>versicolor</li>\n",
       "</ol>\n",
       "\n",
       "<details>\n",
       "\t<summary style=display:list-item;cursor:pointer>\n",
       "\t\t<strong>Levels</strong>:\n",
       "\t</summary>\n",
       "\t<ol class=list-inline>\n",
       "\t\t<li>'setosa'</li>\n",
       "\t\t<li>'versicolor'</li>\n",
       "\t\t<li>'virginica'</li>\n",
       "\t</ol>\n",
       "</details>"
      ],
      "text/latex": [
       "\\begin{enumerate*}\n",
       "\\item versicolor\n",
       "\\item versicolor\n",
       "\\item versicolor\n",
       "\\item versicolor\n",
       "\\item versicolor\n",
       "\\item versicolor\n",
       "\\end{enumerate*}\n",
       "\n",
       "\\emph{Levels}: \\begin{enumerate*}\n",
       "\\item 'setosa'\n",
       "\\item 'versicolor'\n",
       "\\item 'virginica'\n",
       "\\end{enumerate*}\n"
      ],
      "text/markdown": [
       "1. versicolor\n",
       "2. versicolor\n",
       "3. versicolor\n",
       "4. versicolor\n",
       "5. versicolor\n",
       "6. versicolor\n",
       "\n",
       "\n",
       "\n",
       "**Levels**: 1. 'setosa'\n",
       "2. 'versicolor'\n",
       "3. 'virginica'\n",
       "\n",
       "\n"
      ],
      "text/plain": [
       "[1] versicolor versicolor versicolor versicolor versicolor versicolor\n",
       "Levels: setosa versicolor virginica"
      ]
     },
     "metadata": {},
     "output_type": "display_data"
    }
   ],
   "source": [
    "head(y_hat)"
   ]
  },
  {
   "cell_type": "code",
   "execution_count": 19,
   "metadata": {},
   "outputs": [
    {
     "data": {
      "text/html": [
       "<ol class=list-inline>\n",
       "\t<li>virginica</li>\n",
       "\t<li>virginica</li>\n",
       "\t<li>virginica</li>\n",
       "\t<li>virginica</li>\n",
       "\t<li>virginica</li>\n",
       "\t<li>virginica</li>\n",
       "</ol>\n",
       "\n",
       "<details>\n",
       "\t<summary style=display:list-item;cursor:pointer>\n",
       "\t\t<strong>Levels</strong>:\n",
       "\t</summary>\n",
       "\t<ol class=list-inline>\n",
       "\t\t<li>'setosa'</li>\n",
       "\t\t<li>'versicolor'</li>\n",
       "\t\t<li>'virginica'</li>\n",
       "\t</ol>\n",
       "</details>"
      ],
      "text/latex": [
       "\\begin{enumerate*}\n",
       "\\item virginica\n",
       "\\item virginica\n",
       "\\item virginica\n",
       "\\item virginica\n",
       "\\item virginica\n",
       "\\item virginica\n",
       "\\end{enumerate*}\n",
       "\n",
       "\\emph{Levels}: \\begin{enumerate*}\n",
       "\\item 'setosa'\n",
       "\\item 'versicolor'\n",
       "\\item 'virginica'\n",
       "\\end{enumerate*}\n"
      ],
      "text/markdown": [
       "1. virginica\n",
       "2. virginica\n",
       "3. virginica\n",
       "4. virginica\n",
       "5. virginica\n",
       "6. virginica\n",
       "\n",
       "\n",
       "\n",
       "**Levels**: 1. 'setosa'\n",
       "2. 'versicolor'\n",
       "3. 'virginica'\n",
       "\n",
       "\n"
      ],
      "text/plain": [
       "[1] virginica virginica virginica virginica virginica virginica\n",
       "Levels: setosa versicolor virginica"
      ]
     },
     "metadata": {},
     "output_type": "display_data"
    }
   ],
   "source": [
    "tail(y_hat)"
   ]
  },
  {
   "cell_type": "code",
   "execution_count": 20,
   "metadata": {},
   "outputs": [],
   "source": [
    "#y_hat <- as.numeric(y_hat)-2\n",
    "#or \n",
    "y_hat <- as.numeric(y_hat)-3\n",
    "#then: \n",
    "y_hat[y_hat==-1] <- -1*y_hat[y_hat==-1]"
   ]
  },
  {
   "cell_type": "code",
   "execution_count": 21,
   "metadata": {},
   "outputs": [
    {
     "data": {
      "text/html": [
       "<ol class=list-inline>\n",
       "\t<li>1</li>\n",
       "\t<li>1</li>\n",
       "\t<li>1</li>\n",
       "\t<li>1</li>\n",
       "\t<li>1</li>\n",
       "\t<li>1</li>\n",
       "</ol>\n"
      ],
      "text/latex": [
       "\\begin{enumerate*}\n",
       "\\item 1\n",
       "\\item 1\n",
       "\\item 1\n",
       "\\item 1\n",
       "\\item 1\n",
       "\\item 1\n",
       "\\end{enumerate*}\n"
      ],
      "text/markdown": [
       "1. 1\n",
       "2. 1\n",
       "3. 1\n",
       "4. 1\n",
       "5. 1\n",
       "6. 1\n",
       "\n",
       "\n"
      ],
      "text/plain": [
       "[1] 1 1 1 1 1 1"
      ]
     },
     "metadata": {},
     "output_type": "display_data"
    }
   ],
   "source": [
    "head(y_hat)"
   ]
  },
  {
   "cell_type": "code",
   "execution_count": 22,
   "metadata": {},
   "outputs": [
    {
     "data": {
      "text/html": [
       "<ol class=list-inline>\n",
       "\t<li>0</li>\n",
       "\t<li>0</li>\n",
       "\t<li>0</li>\n",
       "\t<li>0</li>\n",
       "\t<li>0</li>\n",
       "\t<li>0</li>\n",
       "</ol>\n"
      ],
      "text/latex": [
       "\\begin{enumerate*}\n",
       "\\item 0\n",
       "\\item 0\n",
       "\\item 0\n",
       "\\item 0\n",
       "\\item 0\n",
       "\\item 0\n",
       "\\end{enumerate*}\n"
      ],
      "text/markdown": [
       "1. 0\n",
       "2. 0\n",
       "3. 0\n",
       "4. 0\n",
       "5. 0\n",
       "6. 0\n",
       "\n",
       "\n"
      ],
      "text/plain": [
       "[1] 0 0 0 0 0 0"
      ]
     },
     "metadata": {},
     "output_type": "display_data"
    }
   ],
   "source": [
    "tail(y_hat)"
   ]
  },
  {
   "cell_type": "code",
   "execution_count": 23,
   "metadata": {},
   "outputs": [],
   "source": [
    "#load numerical differentiation\n",
    "#load utils\n",
    "#load algorithms for unconstrained convex optimization\n",
    "#load line search\n",
    "dir_R=\"algoritmos/R\"\n",
    "source(paste(dir_R,\"/numerical_differentiation.R\", \n",
    "             sep=\"\"))\n",
    "source(paste(dir_R,\"/utils.R\", \n",
    "             sep=\"\"))\n",
    "source(paste(dir_R,\"/algorithms_for_uco.R\", \n",
    "             sep=\"\"))\n",
    "source(paste(dir_R,\"/line_search.R\",\n",
    "             sep=\"\"))"
   ]
  },
  {
   "cell_type": "markdown",
   "metadata": {},
   "source": [
    "$$2 \\displaystyle \\sum_{i=1}^m log(1+exp(\\beta^Tx_i))-\\hat{y}_i\\beta^Tx_i$$\n",
    "\n",
    "donde: $\\hat{y}_i \\in \\{0,1\\}$, $x_i$ $i$-ésimo renglón de matriz A."
   ]
  },
  {
   "cell_type": "code",
   "execution_count": 24,
   "metadata": {},
   "outputs": [],
   "source": [
    "beta_0 <- c(0,0,0,0)"
   ]
  },
  {
   "cell_type": "code",
   "execution_count": 25,
   "metadata": {},
   "outputs": [],
   "source": [
    "A<-as.matrix(A)"
   ]
  },
  {
   "cell_type": "code",
   "execution_count": 26,
   "metadata": {},
   "outputs": [
    {
     "data": {
      "text/html": [
       "<table>\n",
       "<caption>A matrix: 6 × 4 of type dbl</caption>\n",
       "<thead>\n",
       "\t<tr><th scope=col>rep(1, nrow(A))</th><th scope=col>Sepal.Length</th><th scope=col>Sepal.Width</th><th scope=col>Petal.Width</th></tr>\n",
       "</thead>\n",
       "<tbody>\n",
       "\t<tr><td>1</td><td>7.0</td><td>3.2</td><td>1.4</td></tr>\n",
       "\t<tr><td>1</td><td>6.4</td><td>3.2</td><td>1.5</td></tr>\n",
       "\t<tr><td>1</td><td>6.9</td><td>3.1</td><td>1.5</td></tr>\n",
       "\t<tr><td>1</td><td>5.5</td><td>2.3</td><td>1.3</td></tr>\n",
       "\t<tr><td>1</td><td>6.5</td><td>2.8</td><td>1.5</td></tr>\n",
       "\t<tr><td>1</td><td>5.7</td><td>2.8</td><td>1.3</td></tr>\n",
       "</tbody>\n",
       "</table>\n"
      ],
      "text/latex": [
       "A matrix: 6 × 4 of type dbl\n",
       "\\begin{tabular}{llll}\n",
       " rep(1, nrow(A)) & Sepal.Length & Sepal.Width & Petal.Width\\\\\n",
       "\\hline\n",
       "\t 1 & 7.0 & 3.2 & 1.4\\\\\n",
       "\t 1 & 6.4 & 3.2 & 1.5\\\\\n",
       "\t 1 & 6.9 & 3.1 & 1.5\\\\\n",
       "\t 1 & 5.5 & 2.3 & 1.3\\\\\n",
       "\t 1 & 6.5 & 2.8 & 1.5\\\\\n",
       "\t 1 & 5.7 & 2.8 & 1.3\\\\\n",
       "\\end{tabular}\n"
      ],
      "text/markdown": [
       "\n",
       "A matrix: 6 × 4 of type dbl\n",
       "\n",
       "| rep(1, nrow(A)) | Sepal.Length | Sepal.Width | Petal.Width |\n",
       "|---|---|---|---|\n",
       "| 1 | 7.0 | 3.2 | 1.4 |\n",
       "| 1 | 6.4 | 3.2 | 1.5 |\n",
       "| 1 | 6.9 | 3.1 | 1.5 |\n",
       "| 1 | 5.5 | 2.3 | 1.3 |\n",
       "| 1 | 6.5 | 2.8 | 1.5 |\n",
       "| 1 | 5.7 | 2.8 | 1.3 |\n",
       "\n"
      ],
      "text/plain": [
       "     rep(1, nrow(A)) Sepal.Length Sepal.Width Petal.Width\n",
       "[1,] 1               7.0          3.2         1.4        \n",
       "[2,] 1               6.4          3.2         1.5        \n",
       "[3,] 1               6.9          3.1         1.5        \n",
       "[4,] 1               5.5          2.3         1.3        \n",
       "[5,] 1               6.5          2.8         1.5        \n",
       "[6,] 1               5.7          2.8         1.3        "
      ]
     },
     "metadata": {},
     "output_type": "display_data"
    }
   ],
   "source": [
    "head(A)"
   ]
  },
  {
   "cell_type": "code",
   "execution_count": 27,
   "metadata": {},
   "outputs": [
    {
     "data": {
      "text/html": [
       "<table>\n",
       "<caption>A matrix: 3 × 3 of type dbl</caption>\n",
       "<thead>\n",
       "\t<tr><th></th><th scope=col>Sepal.Length</th><th scope=col>Sepal.Width</th><th scope=col>Petal.Width</th></tr>\n",
       "</thead>\n",
       "<tbody>\n",
       "\t<tr><th scope=row>Sepal.Length</th><td>1.0000000</td><td>0.5538548</td><td>0.5937094</td></tr>\n",
       "\t<tr><th scope=row>Sepal.Width</th><td>0.5538548</td><td>1.0000000</td><td>0.5662025</td></tr>\n",
       "\t<tr><th scope=row>Petal.Width</th><td>0.5937094</td><td>0.5662025</td><td>1.0000000</td></tr>\n",
       "</tbody>\n",
       "</table>\n"
      ],
      "text/latex": [
       "A matrix: 3 × 3 of type dbl\n",
       "\\begin{tabular}{r|lll}\n",
       "  & Sepal.Length & Sepal.Width & Petal.Width\\\\\n",
       "\\hline\n",
       "\tSepal.Length & 1.0000000 & 0.5538548 & 0.5937094\\\\\n",
       "\tSepal.Width & 0.5538548 & 1.0000000 & 0.5662025\\\\\n",
       "\tPetal.Width & 0.5937094 & 0.5662025 & 1.0000000\\\\\n",
       "\\end{tabular}\n"
      ],
      "text/markdown": [
       "\n",
       "A matrix: 3 × 3 of type dbl\n",
       "\n",
       "| <!--/--> | Sepal.Length | Sepal.Width | Petal.Width |\n",
       "|---|---|---|---|\n",
       "| Sepal.Length | 1.0000000 | 0.5538548 | 0.5937094 |\n",
       "| Sepal.Width | 0.5538548 | 1.0000000 | 0.5662025 |\n",
       "| Petal.Width | 0.5937094 | 0.5662025 | 1.0000000 |\n",
       "\n"
      ],
      "text/plain": [
       "             Sepal.Length Sepal.Width Petal.Width\n",
       "Sepal.Length 1.0000000    0.5538548   0.5937094  \n",
       "Sepal.Width  0.5538548    1.0000000   0.5662025  \n",
       "Petal.Width  0.5937094    0.5662025   1.0000000  "
      ]
     },
     "metadata": {},
     "output_type": "display_data"
    }
   ],
   "source": [
    "cor(A[,-1])"
   ]
  },
  {
   "cell_type": "code",
   "execution_count": 28,
   "metadata": {},
   "outputs": [],
   "source": [
    "fo <- function(beta){\n",
    "    mat_vec <- A%*%beta\n",
    "    2*sum(log(1+exp(mat_vec))-y_hat*mat_vec)\n",
    "    }"
   ]
  },
  {
   "cell_type": "markdown",
   "metadata": {},
   "source": [
    "### Método de descenso en gradiente"
   ]
  },
  {
   "cell_type": "markdown",
   "metadata": {},
   "source": [
    "Usando $\\beta_0=(1,1,1,1)^T$:"
   ]
  },
  {
   "cell_type": "code",
   "execution_count": 29,
   "metadata": {},
   "outputs": [],
   "source": [
    "beta_0 <- c(1,1,1,1)"
   ]
  },
  {
   "cell_type": "code",
   "execution_count": 30,
   "metadata": {},
   "outputs": [],
   "source": [
    "beta_ast <- glm.out$coefficients\n"
   ]
  },
  {
   "cell_type": "code",
   "execution_count": 31,
   "metadata": {},
   "outputs": [
    {
     "data": {
      "text/html": [
       "<dl class=dl-horizontal>\n",
       "\t<dt>(Intercept)</dt>\n",
       "\t\t<dd>-20.2873288566835</dd>\n",
       "\t<dt>Sepal.Length</dt>\n",
       "\t\t<dd>1.29512927786856</dd>\n",
       "\t<dt>Sepal.Width</dt>\n",
       "\t\t<dd>-4.8232741255399</dd>\n",
       "\t<dt>Petal.Width</dt>\n",
       "\t\t<dd>15.9226604844903</dd>\n",
       "</dl>\n"
      ],
      "text/latex": [
       "\\begin{description*}\n",
       "\\item[(Intercept)] -20.2873288566835\n",
       "\\item[Sepal.Length] 1.29512927786856\n",
       "\\item[Sepal.Width] -4.8232741255399\n",
       "\\item[Petal.Width] 15.9226604844903\n",
       "\\end{description*}\n"
      ],
      "text/markdown": [
       "(Intercept)\n",
       ":   -20.2873288566835Sepal.Length\n",
       ":   1.29512927786856Sepal.Width\n",
       ":   -4.8232741255399Petal.Width\n",
       ":   15.9226604844903\n",
       "\n"
      ],
      "text/plain": [
       " (Intercept) Sepal.Length  Sepal.Width  Petal.Width \n",
       "  -20.287329     1.295129    -4.823274    15.922660 "
      ]
     },
     "metadata": {},
     "output_type": "display_data"
    }
   ],
   "source": [
    "beta_ast"
   ]
  },
  {
   "cell_type": "code",
   "execution_count": 32,
   "metadata": {},
   "outputs": [],
   "source": [
    "p_ast <- fo(beta_ast)"
   ]
  },
  {
   "cell_type": "code",
   "execution_count": 33,
   "metadata": {},
   "outputs": [
    {
     "data": {
      "text/html": [
       "1126.53564957492"
      ],
      "text/latex": [
       "1126.53564957492"
      ],
      "text/markdown": [
       "1126.53564957492"
      ],
      "text/plain": [
       "[1] 1126.536"
      ]
     },
     "metadata": {},
     "output_type": "display_data"
    }
   ],
   "source": [
    "p_ast"
   ]
  },
  {
   "cell_type": "code",
   "execution_count": 34,
   "metadata": {},
   "outputs": [],
   "source": [
    "tol <- 1e-8\n",
    "tol_backtracking <- 1e-14\n",
    "maxiter <- 30\n",
    "p_ast <- fo(beta_ast)\n"
   ]
  },
  {
   "cell_type": "code",
   "execution_count": 35,
   "metadata": {},
   "outputs": [
    {
     "name": "stdout",
     "output_type": "stream",
     "text": [
      "I    Normagf   Error x_ast   Error p_ast   line search\n",
      "1    7.57e+02   1.01e+00      1.32e+02      ---\n",
      "2    6.76e+02   1.02e+00      2.36e+02      0.00390625\n",
      "3    7.45e+01   1.02e+00      9.80e+02      0.001953125\n",
      "4    3.35e+01   1.02e+00      9.81e+02      0.00048828125\n",
      "5    7.26e+01   1.02e+00      9.82e+02      0.001953125\n",
      "6    3.30e+01   1.02e+00      9.83e+02      0.00048828125\n",
      "7    7.13e+01   1.02e+00      9.84e+02      0.001953125\n",
      "8    3.26e+01   1.02e+00      9.85e+02      0.00048828125\n",
      "9    7.04e+01   1.02e+00      9.86e+02      0.001953125\n",
      "10    3.22e+01   1.02e+00      9.87e+02      0.00048828125\n",
      "11    6.99e+01   1.02e+00      9.88e+02      0.001953125\n",
      "12    3.18e+01   1.03e+00      9.89e+02      0.00048828125\n",
      "13    6.95e+01   1.03e+00      9.89e+02      0.001953125\n",
      "14    3.15e+01   1.03e+00      9.91e+02      0.00048828125\n",
      "15    6.93e+01   1.03e+00      9.91e+02      0.001953125\n",
      "16    3.12e+01   1.03e+00      9.92e+02      0.00048828125\n",
      "17    6.91e+01   1.03e+00      9.93e+02      0.001953125\n",
      "18    3.09e+01   1.03e+00      9.94e+02      0.00048828125\n",
      "19    6.89e+01   1.03e+00      9.95e+02      0.001953125\n",
      "20    3.05e+01   1.03e+00      9.96e+02      0.00048828125\n",
      "21    6.86e+01   1.03e+00      9.96e+02      0.001953125\n",
      "22    3.02e+01   1.03e+00      9.97e+02      0.00048828125\n",
      "23    6.80e+01   1.04e+00      9.98e+02      0.001953125\n",
      "24    2.98e+01   1.04e+00      9.99e+02      0.00048828125\n",
      "25    6.72e+01   1.04e+00      1.00e+03      0.001953125\n",
      "26    2.94e+01   1.04e+00      1.00e+03      0.00048828125\n",
      "27    6.60e+01   1.04e+00      1.00e+03      0.001953125\n",
      "28    2.89e+01   1.04e+00      1.00e+03      0.00048828125\n",
      "29    6.44e+01   1.04e+00      1.00e+03      0.001953125\n",
      "30    2.84e+01   1.04e+00      1.00e+03      0.00048828125\n",
      "Error of x with respect to x_ast: 1.04e+00\n",
      "Approximate solution:[1]  0.9645237 -0.3067851  0.4984840 -0.3660336\n"
     ]
    }
   ],
   "source": [
    "l<-gradient_descent(fo, beta_0, tol, tol_backtracking, beta_ast, p_ast, maxiter)"
   ]
  },
  {
   "cell_type": "code",
   "execution_count": 36,
   "metadata": {},
   "outputs": [],
   "source": [
    "beta <- l[[1]]\n",
    "total_of_iterations <- l[[2]]\n",
    "Err_plot <- l[[3]]\n",
    "beta_plot <- l[[4]]\n"
   ]
  },
  {
   "cell_type": "code",
   "execution_count": 37,
   "metadata": {},
   "outputs": [
    {
     "name": "stdout",
     "output_type": "stream",
     "text": [
      "[1]  0.9645237 -0.3067851  0.4984840 -0.3660336\n"
     ]
    }
   ],
   "source": [
    "print(beta)"
   ]
  },
  {
   "cell_type": "code",
   "execution_count": 38,
   "metadata": {},
   "outputs": [
    {
     "name": "stdout",
     "output_type": "stream",
     "text": [
      " (Intercept) Sepal.Length  Sepal.Width  Petal.Width \n",
      "  -20.287329     1.295129    -4.823274    15.922660 \n"
     ]
    }
   ],
   "source": [
    "print(beta_ast)"
   ]
  },
  {
   "cell_type": "code",
   "execution_count": 39,
   "metadata": {},
   "outputs": [
    {
     "data": {
      "text/html": [
       "1.04104033469526"
      ],
      "text/latex": [
       "1.04104033469526"
      ],
      "text/markdown": [
       "1.04104033469526"
      ],
      "text/plain": [
       "[1] 1.04104"
      ]
     },
     "metadata": {},
     "output_type": "display_data"
    }
   ],
   "source": [
    "compute_error(x_approx = beta,x_obj = beta_ast)"
   ]
  },
  {
   "cell_type": "code",
   "execution_count": 40,
   "metadata": {},
   "outputs": [
    {
     "name": "stdout",
     "output_type": "stream",
     "text": [
      "I    Normagf   Error x_ast   Error p_ast   line search\n",
      "1    7.57e+02   1.01e+00      1.32e+02      ---\n",
      "2    6.52e+02   1.02e+00      6.99e+02      0.00390625\n",
      "3    6.60e+02   1.02e+00      8.11e+02      0.001953125\n",
      "4    2.20e+02   1.02e+00      9.54e+02      0.0009765625\n",
      "5    4.24e+01   1.02e+00      9.65e+02      0.00048828125\n",
      "6    3.25e+01   1.02e+00      9.65e+02      0.00048828125\n",
      "7    1.39e+02   1.02e+00      9.69e+02      0.0078125\n",
      "8    3.22e+01   1.02e+00      9.73e+02      0.00048828125\n",
      "9    1.34e+02   1.03e+00      9.76e+02      0.0078125\n",
      "10    3.07e+01   1.03e+00      9.80e+02      0.00048828125\n",
      "11    1.30e+02   1.03e+00      9.82e+02      0.0078125\n",
      "12    2.93e+01   1.03e+00      9.86e+02      0.00048828125\n",
      "13    1.26e+02   1.04e+00      9.88e+02      0.0078125\n",
      "14    2.80e+01   1.04e+00      9.92e+02      0.00048828125\n",
      "15    1.21e+02   1.04e+00      9.94e+02      0.0078125\n",
      "16    2.68e+01   1.04e+00      9.97e+02      0.00048828125\n",
      "17    1.16e+02   1.04e+00      9.99e+02      0.0078125\n",
      "18    2.58e+01   1.04e+00      1.00e+03      0.00048828125\n",
      "19    1.11e+02   1.05e+00      1.00e+03      0.0078125\n",
      "20    2.48e+01   1.05e+00      1.01e+03      0.00048828125\n",
      "21    1.06e+02   1.05e+00      1.01e+03      0.0078125\n",
      "22    2.38e+01   1.05e+00      1.01e+03      0.00048828125\n",
      "23    1.02e+02   1.06e+00      1.01e+03      0.0078125\n",
      "24    2.30e+01   1.06e+00      1.01e+03      0.00048828125\n",
      "25    9.69e+01   1.06e+00      1.02e+03      0.0078125\n",
      "26    2.22e+01   1.06e+00      1.02e+03      0.00048828125\n",
      "27    9.25e+01   1.06e+00      1.02e+03      0.0078125\n",
      "28    2.16e+01   1.06e+00      1.02e+03      0.00048828125\n",
      "29    8.83e+01   1.07e+00      1.02e+03      0.0078125\n",
      "30    2.09e+01   1.07e+00      1.02e+03      0.00048828125\n",
      "Error of x with respect to x_ast: 1.07e+00\n",
      "Approximate solution:[1]  1.0000000 -0.3073872  1.0000000 -1.2274378\n"
     ]
    }
   ],
   "source": [
    "l<-coordinate_descent(fo, beta_0, tol, tol_backtracking, beta_ast, p_ast, maxiter)"
   ]
  },
  {
   "cell_type": "code",
   "execution_count": 41,
   "metadata": {},
   "outputs": [],
   "source": [
    "beta <- l[[1]]\n",
    "total_of_iterations <- l[[2]]\n",
    "Err_plot <- l[[3]]\n",
    "beta_plot <- l[[4]]\n"
   ]
  },
  {
   "cell_type": "code",
   "execution_count": 42,
   "metadata": {},
   "outputs": [
    {
     "name": "stdout",
     "output_type": "stream",
     "text": [
      "[1]  1.0000000 -0.3073872  1.0000000 -1.2274378\n"
     ]
    }
   ],
   "source": [
    "print(beta)"
   ]
  },
  {
   "cell_type": "code",
   "execution_count": 43,
   "metadata": {},
   "outputs": [
    {
     "name": "stdout",
     "output_type": "stream",
     "text": [
      " (Intercept) Sepal.Length  Sepal.Width  Petal.Width \n",
      "  -20.287329     1.295129    -4.823274    15.922660 \n"
     ]
    }
   ],
   "source": [
    "print(beta_ast)"
   ]
  },
  {
   "cell_type": "code",
   "execution_count": 44,
   "metadata": {},
   "outputs": [],
   "source": [
    "tol <- 1e-8\n",
    "tol_backtracking <- 1e-14\n",
    "maxiter <- 30\n",
    "p_ast <- fo(beta_ast)\n"
   ]
  },
  {
   "cell_type": "code",
   "execution_count": 45,
   "metadata": {},
   "outputs": [
    {
     "name": "stdout",
     "output_type": "stream",
     "text": [
      "I    Normgf   Newton Decrement   Error x_ast   Error p_ast   line search    condHf\n",
      "1    7.57e+02   1.33e+06           1.01e+00      1.32e+02      ---         4.05e+00\n",
      "2    1.93e+02   2.84e+02           1.01e+00      9.41e+02      9.77e-04    7.05e+03\n",
      "3    9.70e+01   2.56e+01           1.26e+00      1.08e+03      1.00e+00    5.79e+03\n",
      "4    3.08e+01   1.03e+01           1.46e+00      1.09e+03      1.00e+00    7.18e+03\n",
      "5    9.25e+00   2.78e+00           1.68e+00      1.10e+03      1.00e+00    7.50e+03\n",
      "6    1.52e+00   3.78e-01           1.84e+00      1.10e+03      1.00e+00    6.27e+03\n",
      "7    7.86e-02   1.84e-01           1.92e+00      1.10e+03      1.00e+00    1.69e+04\n",
      "8    1.28e-01   1.01e-02           2.02e+00      1.10e+03      1.00e+00    7.21e+03\n",
      "9    9.80e-03   1.25e-02           2.01e+00      1.10e+03      1.00e+00    6.71e+04\n",
      "10    4.83e-03   7.50e-05           2.00e+00      1.10e+03      2.50e-01    8.13e+03\n",
      "11    8.75e-04   -1.25e-04           2.00e+00      1.10e+03      1.00e+00    9.03e+04\n",
      "Error of x with respect to x_ast: 2.00e+00\n",
      "Approximate solution:[1]  20.262418  -1.292617   4.822189 -15.915167\n"
     ]
    }
   ],
   "source": [
    "l<-Newtons_method(fo, beta_0, tol, tol_backtracking, beta_ast, p_ast, maxiter)"
   ]
  },
  {
   "cell_type": "code",
   "execution_count": 46,
   "metadata": {},
   "outputs": [],
   "source": [
    "beta <- l[[1]]\n",
    "total_of_iterations <- l[[2]]\n",
    "Err_plot <- l[[3]]\n",
    "beta_plot <- l[[4]]\n"
   ]
  },
  {
   "cell_type": "code",
   "execution_count": 47,
   "metadata": {},
   "outputs": [
    {
     "name": "stdout",
     "output_type": "stream",
     "text": [
      "[1]  20.262418  -1.292617   4.822189 -15.915167\n"
     ]
    }
   ],
   "source": [
    "print(beta)"
   ]
  },
  {
   "cell_type": "code",
   "execution_count": 48,
   "metadata": {},
   "outputs": [
    {
     "name": "stdout",
     "output_type": "stream",
     "text": [
      " (Intercept) Sepal.Length  Sepal.Width  Petal.Width \n",
      "  -20.287329     1.295129    -4.823274    15.922660 \n"
     ]
    }
   ],
   "source": [
    "print(beta_ast)"
   ]
  },
  {
   "cell_type": "markdown",
   "metadata": {},
   "source": [
    "**Comparación con paquete glmnet**"
   ]
  },
  {
   "cell_type": "code",
   "execution_count": 49,
   "metadata": {},
   "outputs": [],
   "source": [
    "#install.packages(c(\"latex2exp\",\"glmnet\"),lib=\"/usr/local/lib/R/site-library/\",\n",
    "#                repos=\"https://cran.itam.mx/\")"
   ]
  },
  {
   "cell_type": "code",
   "execution_count": 50,
   "metadata": {},
   "outputs": [
    {
     "name": "stderr",
     "output_type": "stream",
     "text": [
      "Loading required package: Matrix\n",
      "\n",
      "Loaded glmnet 3.0-2\n",
      "\n",
      "\n"
     ]
    }
   ],
   "source": [
    "library(glmnet)"
   ]
  },
  {
   "cell_type": "code",
   "execution_count": 51,
   "metadata": {},
   "outputs": [],
   "source": [
    "fit<-glmnet(A[,-1],y_hat,family=\"binomial\",alpha=0,lambda=0,standardize=F,nlambda=1, thresh=1e-8)\n"
   ]
  },
  {
   "cell_type": "code",
   "execution_count": 52,
   "metadata": {},
   "outputs": [],
   "source": [
    "beta_ast <- as.matrix(fit$beta)"
   ]
  },
  {
   "cell_type": "code",
   "execution_count": 53,
   "metadata": {},
   "outputs": [
    {
     "name": "stdout",
     "output_type": "stream",
     "text": [
      "                     s0\n",
      "Sepal.Length  -1.295005\n",
      "Sepal.Width    4.823018\n",
      "Petal.Width  -15.922371\n"
     ]
    }
   ],
   "source": [
    "print(beta_ast)"
   ]
  },
  {
   "cell_type": "code",
   "execution_count": 54,
   "metadata": {},
   "outputs": [
    {
     "data": {
      "text/html": [
       "0.000457551547710556"
      ],
      "text/latex": [
       "0.000457551547710556"
      ],
      "text/markdown": [
       "0.000457551547710556"
      ],
      "text/plain": [
       "[1] 0.0004575515"
      ]
     },
     "metadata": {},
     "output_type": "display_data"
    }
   ],
   "source": [
    "compute_error(x_approx = beta[-1], x_obj = beta_ast)"
   ]
  },
  {
   "cell_type": "code",
   "execution_count": 55,
   "metadata": {},
   "outputs": [
    {
     "data": {
      "text/html": [
       "<table>\n",
       "<caption>A matrix: 6 × 4 of type dbl</caption>\n",
       "<thead>\n",
       "\t<tr><th scope=col>rep(1, nrow(A))</th><th scope=col>Sepal.Length</th><th scope=col>Sepal.Width</th><th scope=col>Petal.Width</th></tr>\n",
       "</thead>\n",
       "<tbody>\n",
       "\t<tr><td>1</td><td>7.0</td><td>3.2</td><td>1.4</td></tr>\n",
       "\t<tr><td>1</td><td>6.4</td><td>3.2</td><td>1.5</td></tr>\n",
       "\t<tr><td>1</td><td>6.9</td><td>3.1</td><td>1.5</td></tr>\n",
       "\t<tr><td>1</td><td>5.5</td><td>2.3</td><td>1.3</td></tr>\n",
       "\t<tr><td>1</td><td>6.5</td><td>2.8</td><td>1.5</td></tr>\n",
       "\t<tr><td>1</td><td>5.7</td><td>2.8</td><td>1.3</td></tr>\n",
       "</tbody>\n",
       "</table>\n"
      ],
      "text/latex": [
       "A matrix: 6 × 4 of type dbl\n",
       "\\begin{tabular}{llll}\n",
       " rep(1, nrow(A)) & Sepal.Length & Sepal.Width & Petal.Width\\\\\n",
       "\\hline\n",
       "\t 1 & 7.0 & 3.2 & 1.4\\\\\n",
       "\t 1 & 6.4 & 3.2 & 1.5\\\\\n",
       "\t 1 & 6.9 & 3.1 & 1.5\\\\\n",
       "\t 1 & 5.5 & 2.3 & 1.3\\\\\n",
       "\t 1 & 6.5 & 2.8 & 1.5\\\\\n",
       "\t 1 & 5.7 & 2.8 & 1.3\\\\\n",
       "\\end{tabular}\n"
      ],
      "text/markdown": [
       "\n",
       "A matrix: 6 × 4 of type dbl\n",
       "\n",
       "| rep(1, nrow(A)) | Sepal.Length | Sepal.Width | Petal.Width |\n",
       "|---|---|---|---|\n",
       "| 1 | 7.0 | 3.2 | 1.4 |\n",
       "| 1 | 6.4 | 3.2 | 1.5 |\n",
       "| 1 | 6.9 | 3.1 | 1.5 |\n",
       "| 1 | 5.5 | 2.3 | 1.3 |\n",
       "| 1 | 6.5 | 2.8 | 1.5 |\n",
       "| 1 | 5.7 | 2.8 | 1.3 |\n",
       "\n"
      ],
      "text/plain": [
       "     rep(1, nrow(A)) Sepal.Length Sepal.Width Petal.Width\n",
       "[1,] 1               7.0          3.2         1.4        \n",
       "[2,] 1               6.4          3.2         1.5        \n",
       "[3,] 1               6.9          3.1         1.5        \n",
       "[4,] 1               5.5          2.3         1.3        \n",
       "[5,] 1               6.5          2.8         1.5        \n",
       "[6,] 1               5.7          2.8         1.3        "
      ]
     },
     "metadata": {},
     "output_type": "display_data"
    }
   ],
   "source": [
    "head(A)"
   ]
  },
  {
   "cell_type": "markdown",
   "metadata": {},
   "source": [
    "# Penalización ridge con intercepto"
   ]
  },
  {
   "cell_type": "code",
   "execution_count": 56,
   "metadata": {},
   "outputs": [],
   "source": [
    "reg<-0.5"
   ]
  },
  {
   "cell_type": "code",
   "execution_count": 57,
   "metadata": {},
   "outputs": [],
   "source": [
    "fit<-glmnet(A,y_hat,family=\"binomial\",alpha=0,lambda=reg,standardize=F,nlambda=1, thresh=1e-8)\n"
   ]
  },
  {
   "cell_type": "code",
   "execution_count": 58,
   "metadata": {},
   "outputs": [],
   "source": [
    "beta_ast<-as.matrix(fit$beta)"
   ]
  },
  {
   "cell_type": "code",
   "execution_count": 59,
   "metadata": {},
   "outputs": [
    {
     "name": "stdout",
     "output_type": "stream",
     "text": [
      "                         s0\n",
      "rep(1, nrow(A))  0.00000000\n",
      "Sepal.Length    -0.24479206\n",
      "Sepal.Width     -0.07182931\n",
      "Petal.Width     -0.30070071\n"
     ]
    }
   ],
   "source": [
    "print(beta_ast)"
   ]
  },
  {
   "cell_type": "code",
   "execution_count": 60,
   "metadata": {},
   "outputs": [],
   "source": [
    "#svd of A\n",
    "singular_value_decomposition <- svd(A)\n",
    "s <- singular_value_decomposition$d\n",
    "u <- singular_value_decomposition$u\n",
    "tv <- t(singular_value_decomposition$v)\n",
    "\n",
    "cte_svd <- s/(s^2+reg)*(t(u)%*%y_hat)"
   ]
  },
  {
   "cell_type": "code",
   "execution_count": 61,
   "metadata": {},
   "outputs": [],
   "source": [
    "beta_ridge <- solve(tv,cte_svd)"
   ]
  },
  {
   "cell_type": "code",
   "execution_count": 62,
   "metadata": {},
   "outputs": [
    {
     "data": {
      "text/html": [
       "<table>\n",
       "<caption>A matrix: 4 × 1 of type dbl</caption>\n",
       "<tbody>\n",
       "\t<tr><td> 1.073147786</td></tr>\n",
       "\t<tr><td>-0.007613912</td></tr>\n",
       "\t<tr><td> 0.452737088</td></tr>\n",
       "\t<tr><td>-1.092539453</td></tr>\n",
       "</tbody>\n",
       "</table>\n"
      ],
      "text/latex": [
       "A matrix: 4 × 1 of type dbl\n",
       "\\begin{tabular}{l}\n",
       "\t  1.073147786\\\\\n",
       "\t -0.007613912\\\\\n",
       "\t  0.452737088\\\\\n",
       "\t -1.092539453\\\\\n",
       "\\end{tabular}\n"
      ],
      "text/markdown": [
       "\n",
       "A matrix: 4 × 1 of type dbl\n",
       "\n",
       "|  1.073147786 |\n",
       "| -0.007613912 |\n",
       "|  0.452737088 |\n",
       "| -1.092539453 |\n",
       "\n"
      ],
      "text/plain": [
       "     [,1]        \n",
       "[1,]  1.073147786\n",
       "[2,] -0.007613912\n",
       "[3,]  0.452737088\n",
       "[4,] -1.092539453"
      ]
     },
     "metadata": {},
     "output_type": "display_data"
    }
   ],
   "source": [
    "beta_ridge"
   ]
  },
  {
   "cell_type": "markdown",
   "metadata": {},
   "source": [
    "**con Newton**"
   ]
  },
  {
   "cell_type": "code",
   "execution_count": 63,
   "metadata": {},
   "outputs": [
    {
     "data": {
      "text/html": [
       "<table>\n",
       "<caption>A matrix: 6 × 4 of type dbl</caption>\n",
       "<thead>\n",
       "\t<tr><th scope=col>rep(1, nrow(A))</th><th scope=col>Sepal.Length</th><th scope=col>Sepal.Width</th><th scope=col>Petal.Width</th></tr>\n",
       "</thead>\n",
       "<tbody>\n",
       "\t<tr><td>1</td><td>7.0</td><td>3.2</td><td>1.4</td></tr>\n",
       "\t<tr><td>1</td><td>6.4</td><td>3.2</td><td>1.5</td></tr>\n",
       "\t<tr><td>1</td><td>6.9</td><td>3.1</td><td>1.5</td></tr>\n",
       "\t<tr><td>1</td><td>5.5</td><td>2.3</td><td>1.3</td></tr>\n",
       "\t<tr><td>1</td><td>6.5</td><td>2.8</td><td>1.5</td></tr>\n",
       "\t<tr><td>1</td><td>5.7</td><td>2.8</td><td>1.3</td></tr>\n",
       "</tbody>\n",
       "</table>\n"
      ],
      "text/latex": [
       "A matrix: 6 × 4 of type dbl\n",
       "\\begin{tabular}{llll}\n",
       " rep(1, nrow(A)) & Sepal.Length & Sepal.Width & Petal.Width\\\\\n",
       "\\hline\n",
       "\t 1 & 7.0 & 3.2 & 1.4\\\\\n",
       "\t 1 & 6.4 & 3.2 & 1.5\\\\\n",
       "\t 1 & 6.9 & 3.1 & 1.5\\\\\n",
       "\t 1 & 5.5 & 2.3 & 1.3\\\\\n",
       "\t 1 & 6.5 & 2.8 & 1.5\\\\\n",
       "\t 1 & 5.7 & 2.8 & 1.3\\\\\n",
       "\\end{tabular}\n"
      ],
      "text/markdown": [
       "\n",
       "A matrix: 6 × 4 of type dbl\n",
       "\n",
       "| rep(1, nrow(A)) | Sepal.Length | Sepal.Width | Petal.Width |\n",
       "|---|---|---|---|\n",
       "| 1 | 7.0 | 3.2 | 1.4 |\n",
       "| 1 | 6.4 | 3.2 | 1.5 |\n",
       "| 1 | 6.9 | 3.1 | 1.5 |\n",
       "| 1 | 5.5 | 2.3 | 1.3 |\n",
       "| 1 | 6.5 | 2.8 | 1.5 |\n",
       "| 1 | 5.7 | 2.8 | 1.3 |\n",
       "\n"
      ],
      "text/plain": [
       "     rep(1, nrow(A)) Sepal.Length Sepal.Width Petal.Width\n",
       "[1,] 1               7.0          3.2         1.4        \n",
       "[2,] 1               6.4          3.2         1.5        \n",
       "[3,] 1               6.9          3.1         1.5        \n",
       "[4,] 1               5.5          2.3         1.3        \n",
       "[5,] 1               6.5          2.8         1.5        \n",
       "[6,] 1               5.7          2.8         1.3        "
      ]
     },
     "metadata": {},
     "output_type": "display_data"
    }
   ],
   "source": [
    "head(A)"
   ]
  },
  {
   "cell_type": "code",
   "execution_count": 64,
   "metadata": {},
   "outputs": [],
   "source": [
    "mpoints<-nrow(A)"
   ]
  },
  {
   "cell_type": "code",
   "execution_count": 65,
   "metadata": {},
   "outputs": [],
   "source": [
    "fo <-function(beta){\n",
    "    mat_vec <- A %*% beta\n",
    "    1/mpoints*(sum(log(1 + exp(mat_vec)) - y_hat * mat_vec)) + reg/2*sum(beta[2:length(beta)]*beta[2:length(beta)])\n",
    "    }"
   ]
  },
  {
   "cell_type": "code",
   "execution_count": 66,
   "metadata": {},
   "outputs": [],
   "source": [
    "beta_0 <- c(0,0,0,0)"
   ]
  },
  {
   "cell_type": "code",
   "execution_count": 67,
   "metadata": {},
   "outputs": [],
   "source": [
    "p_ast <- fo(beta_ast)"
   ]
  },
  {
   "cell_type": "code",
   "execution_count": 68,
   "metadata": {},
   "outputs": [
    {
     "data": {
      "text/html": [
       "1.16837272585521"
      ],
      "text/latex": [
       "1.16837272585521"
      ],
      "text/markdown": [
       "1.16837272585521"
      ],
      "text/plain": [
       "[1] 1.168373"
      ]
     },
     "metadata": {},
     "output_type": "display_data"
    }
   ],
   "source": [
    "p_ast"
   ]
  },
  {
   "cell_type": "code",
   "execution_count": 69,
   "metadata": {},
   "outputs": [],
   "source": [
    "tol <- 1e-12\n",
    "tol_backtracking <- 1e-14\n",
    "maxiter <- 30\n",
    "p_ast <- fo(beta_ast)\n"
   ]
  },
  {
   "cell_type": "code",
   "execution_count": 70,
   "metadata": {},
   "outputs": [
    {
     "name": "stdout",
     "output_type": "stream",
     "text": [
      "I    Normgf   Newton Decrement   Error x_ast   Error p_ast   line search    condHf\n",
      "1    2.45e-01   9.60e-02           1.00e+00      4.75e-01      ---         1.14e+03\n",
      "2    1.43e-03   3.95e-07           5.68e+00      5.23e-01      1.00e+00    1.13e+03\n",
      "3    6.14e-07   1.79e-12           5.69e+00      5.23e-01      1.00e+00    1.14e+03\n",
      "Error of x with respect to x_ast: 5.69e+00\n",
      "Approximate solution:[1]  2.24298485 -0.24479077 -0.07182857 -0.30070082\n"
     ]
    }
   ],
   "source": [
    "l<-Newtons_method(fo, beta_0, tol, tol_backtracking, beta_ast, p_ast, maxiter)"
   ]
  },
  {
   "cell_type": "code",
   "execution_count": 71,
   "metadata": {},
   "outputs": [],
   "source": [
    "beta <- l[[1]]\n",
    "total_of_iterations <- l[[2]]\n",
    "Err_plot <- l[[3]]\n",
    "beta_plot <- l[[4]]\n"
   ]
  },
  {
   "cell_type": "code",
   "execution_count": 72,
   "metadata": {},
   "outputs": [
    {
     "name": "stdout",
     "output_type": "stream",
     "text": [
      "[1]  2.24298485 -0.24479077 -0.07182857 -0.30070082\n"
     ]
    }
   ],
   "source": [
    "print(beta)"
   ]
  },
  {
   "cell_type": "code",
   "execution_count": 73,
   "metadata": {},
   "outputs": [
    {
     "name": "stdout",
     "output_type": "stream",
     "text": [
      "                         s0\n",
      "rep(1, nrow(A))  0.00000000\n",
      "Sepal.Length    -0.24479206\n",
      "Sepal.Width     -0.07182931\n",
      "Petal.Width     -0.30070071\n"
     ]
    }
   ],
   "source": [
    "print(beta_ast)"
   ]
  },
  {
   "cell_type": "markdown",
   "metadata": {},
   "source": [
    "# Penalización Ridge sin intercepto"
   ]
  },
  {
   "cell_type": "code",
   "execution_count": 74,
   "metadata": {},
   "outputs": [],
   "source": [
    "A<-A[,-1]"
   ]
  },
  {
   "cell_type": "code",
   "execution_count": 75,
   "metadata": {},
   "outputs": [
    {
     "data": {
      "text/html": [
       "<table>\n",
       "<caption>A matrix: 6 × 3 of type dbl</caption>\n",
       "<thead>\n",
       "\t<tr><th scope=col>Sepal.Length</th><th scope=col>Sepal.Width</th><th scope=col>Petal.Width</th></tr>\n",
       "</thead>\n",
       "<tbody>\n",
       "\t<tr><td>7.0</td><td>3.2</td><td>1.4</td></tr>\n",
       "\t<tr><td>6.4</td><td>3.2</td><td>1.5</td></tr>\n",
       "\t<tr><td>6.9</td><td>3.1</td><td>1.5</td></tr>\n",
       "\t<tr><td>5.5</td><td>2.3</td><td>1.3</td></tr>\n",
       "\t<tr><td>6.5</td><td>2.8</td><td>1.5</td></tr>\n",
       "\t<tr><td>5.7</td><td>2.8</td><td>1.3</td></tr>\n",
       "</tbody>\n",
       "</table>\n"
      ],
      "text/latex": [
       "A matrix: 6 × 3 of type dbl\n",
       "\\begin{tabular}{lll}\n",
       " Sepal.Length & Sepal.Width & Petal.Width\\\\\n",
       "\\hline\n",
       "\t 7.0 & 3.2 & 1.4\\\\\n",
       "\t 6.4 & 3.2 & 1.5\\\\\n",
       "\t 6.9 & 3.1 & 1.5\\\\\n",
       "\t 5.5 & 2.3 & 1.3\\\\\n",
       "\t 6.5 & 2.8 & 1.5\\\\\n",
       "\t 5.7 & 2.8 & 1.3\\\\\n",
       "\\end{tabular}\n"
      ],
      "text/markdown": [
       "\n",
       "A matrix: 6 × 3 of type dbl\n",
       "\n",
       "| Sepal.Length | Sepal.Width | Petal.Width |\n",
       "|---|---|---|\n",
       "| 7.0 | 3.2 | 1.4 |\n",
       "| 6.4 | 3.2 | 1.5 |\n",
       "| 6.9 | 3.1 | 1.5 |\n",
       "| 5.5 | 2.3 | 1.3 |\n",
       "| 6.5 | 2.8 | 1.5 |\n",
       "| 5.7 | 2.8 | 1.3 |\n",
       "\n"
      ],
      "text/plain": [
       "     Sepal.Length Sepal.Width Petal.Width\n",
       "[1,] 7.0          3.2         1.4        \n",
       "[2,] 6.4          3.2         1.5        \n",
       "[3,] 6.9          3.1         1.5        \n",
       "[4,] 5.5          2.3         1.3        \n",
       "[5,] 6.5          2.8         1.5        \n",
       "[6,] 5.7          2.8         1.3        "
      ]
     },
     "metadata": {},
     "output_type": "display_data"
    }
   ],
   "source": [
    "head(A)"
   ]
  },
  {
   "cell_type": "code",
   "execution_count": 76,
   "metadata": {},
   "outputs": [],
   "source": [
    "fit<-glmnet(A,y_hat,family=\"binomial\",alpha=0,lambda=reg,standardize=F,nlambda=1, intercept=F, thresh=1e-8)\n"
   ]
  },
  {
   "cell_type": "code",
   "execution_count": 77,
   "metadata": {},
   "outputs": [],
   "source": [
    "beta_ast <- as.matrix(fit$beta)"
   ]
  },
  {
   "cell_type": "code",
   "execution_count": 78,
   "metadata": {},
   "outputs": [
    {
     "name": "stdout",
     "output_type": "stream",
     "text": [
      "                      s0\n",
      "Sepal.Length  0.02157718\n",
      "Sepal.Width   0.05710003\n",
      "Petal.Width  -0.24262286\n"
     ]
    }
   ],
   "source": [
    "print(beta_ast)"
   ]
  },
  {
   "cell_type": "code",
   "execution_count": 79,
   "metadata": {},
   "outputs": [],
   "source": [
    "#svd of A\n",
    "singular_value_decomposition <- svd(A)\n",
    "s <- singular_value_decomposition$d\n",
    "u <- singular_value_decomposition$u\n",
    "tv <- t(singular_value_decomposition$v)\n",
    "\n",
    "cte_svd <- s/(s^2+reg)*(t(u)%*%y_hat)"
   ]
  },
  {
   "cell_type": "code",
   "execution_count": 80,
   "metadata": {},
   "outputs": [],
   "source": [
    "beta_ridge <- solve(tv,cte_svd)"
   ]
  },
  {
   "cell_type": "code",
   "execution_count": 81,
   "metadata": {},
   "outputs": [
    {
     "data": {
      "text/html": [
       "<table>\n",
       "<caption>A matrix: 3 × 1 of type dbl</caption>\n",
       "<tbody>\n",
       "\t<tr><td> 0.1112952</td></tr>\n",
       "\t<tr><td> 0.6207321</td></tr>\n",
       "\t<tr><td>-1.1897780</td></tr>\n",
       "</tbody>\n",
       "</table>\n"
      ],
      "text/latex": [
       "A matrix: 3 × 1 of type dbl\n",
       "\\begin{tabular}{l}\n",
       "\t  0.1112952\\\\\n",
       "\t  0.6207321\\\\\n",
       "\t -1.1897780\\\\\n",
       "\\end{tabular}\n"
      ],
      "text/markdown": [
       "\n",
       "A matrix: 3 × 1 of type dbl\n",
       "\n",
       "|  0.1112952 |\n",
       "|  0.6207321 |\n",
       "| -1.1897780 |\n",
       "\n"
      ],
      "text/plain": [
       "     [,1]      \n",
       "[1,]  0.1112952\n",
       "[2,]  0.6207321\n",
       "[3,] -1.1897780"
      ]
     },
     "metadata": {},
     "output_type": "display_data"
    }
   ],
   "source": [
    "beta_ridge"
   ]
  },
  {
   "cell_type": "markdown",
   "metadata": {},
   "source": [
    "## Método de Newton"
   ]
  },
  {
   "cell_type": "code",
   "execution_count": 82,
   "metadata": {},
   "outputs": [],
   "source": [
    "beta_0 <- c(0,0,0)"
   ]
  },
  {
   "cell_type": "code",
   "execution_count": 83,
   "metadata": {},
   "outputs": [],
   "source": [
    "p_ast <- fo(beta_ast)"
   ]
  },
  {
   "cell_type": "code",
   "execution_count": 84,
   "metadata": {},
   "outputs": [
    {
     "data": {
      "text/html": [
       "0.675020396795341"
      ],
      "text/latex": [
       "0.675020396795341"
      ],
      "text/markdown": [
       "0.675020396795341"
      ],
      "text/plain": [
       "[1] 0.6750204"
      ]
     },
     "metadata": {},
     "output_type": "display_data"
    }
   ],
   "source": [
    "p_ast"
   ]
  },
  {
   "cell_type": "code",
   "execution_count": 85,
   "metadata": {},
   "outputs": [],
   "source": [
    "tol <- 1e-12\n",
    "tol_backtracking <- 1e-14\n",
    "maxiter <- 30\n",
    "p_ast <- fo(beta_ast)\n"
   ]
  },
  {
   "cell_type": "code",
   "execution_count": 86,
   "metadata": {},
   "outputs": [],
   "source": [
    "mpoints<-nrow(A)"
   ]
  },
  {
   "cell_type": "code",
   "execution_count": 87,
   "metadata": {},
   "outputs": [],
   "source": [
    "fo <-function(beta){\n",
    "    mat_vec <- A %*% beta\n",
    "    1/mpoints*(sum(log(1 + exp(mat_vec)) - y_hat * mat_vec)) + reg/2*sum(beta*beta)\n",
    "    }"
   ]
  },
  {
   "cell_type": "code",
   "execution_count": 88,
   "metadata": {},
   "outputs": [
    {
     "name": "stdout",
     "output_type": "stream",
     "text": [
      "I    Normgf   Newton Decrement   Error x_ast   Error p_ast   line search    condHf\n",
      "1    2.45e-01   3.60e-02           1.00e+00      1.81e-02      ---         2.55e+01\n",
      "2    5.61e-04   2.53e-08           2.79e-04      1.16e-04      1.00e+00    2.54e+01\n",
      "3    4.15e-08   1.97e-15           5.27e-05      1.16e-04      1.00e+00    2.54e+01\n",
      "Error of x with respect to x_ast: 5.27e-05\n",
      "Approximate solution:[1]  0.02157031  0.05711028 -0.24261826\n"
     ]
    }
   ],
   "source": [
    "l<-Newtons_method(fo, beta_0, tol, tol_backtracking, beta_ast, p_ast, maxiter)"
   ]
  },
  {
   "cell_type": "code",
   "execution_count": 89,
   "metadata": {},
   "outputs": [],
   "source": [
    "beta <- l[[1]]\n",
    "total_of_iterations <- l[[2]]\n",
    "Err_plot <- l[[3]]\n",
    "beta_plot <- l[[4]]\n"
   ]
  },
  {
   "cell_type": "code",
   "execution_count": 90,
   "metadata": {},
   "outputs": [
    {
     "name": "stdout",
     "output_type": "stream",
     "text": [
      "[1]  0.02157031  0.05711028 -0.24261826\n"
     ]
    }
   ],
   "source": [
    "print(beta)"
   ]
  },
  {
   "cell_type": "code",
   "execution_count": 91,
   "metadata": {},
   "outputs": [
    {
     "name": "stdout",
     "output_type": "stream",
     "text": [
      "                      s0\n",
      "Sepal.Length  0.02157718\n",
      "Sepal.Width   0.05710003\n",
      "Petal.Width  -0.24262286\n"
     ]
    }
   ],
   "source": [
    "print(beta_ast)"
   ]
  },
  {
   "cell_type": "code",
   "execution_count": 92,
   "metadata": {},
   "outputs": [
    {
     "data": {
      "text/html": [
       "5.26634983427347e-05"
      ],
      "text/latex": [
       "5.26634983427347e-05"
      ],
      "text/markdown": [
       "5.26634983427347e-05"
      ],
      "text/plain": [
       "[1] 5.26635e-05"
      ]
     },
     "metadata": {},
     "output_type": "display_data"
    }
   ],
   "source": [
    "compute_error(x_approx = beta, x_obj = beta_ast)"
   ]
  },
  {
   "cell_type": "markdown",
   "metadata": {},
   "source": [
    "## Penalización Lasso sin intercepto"
   ]
  },
  {
   "cell_type": "code",
   "execution_count": 93,
   "metadata": {},
   "outputs": [],
   "source": [
    "fit<-glmnet(A,y_hat,family=\"binomial\",alpha=1,lambda=reg,standardize=F,nlambda=1, intercept=F, thresh=1e-8)\n"
   ]
  },
  {
   "cell_type": "code",
   "execution_count": 94,
   "metadata": {},
   "outputs": [],
   "source": [
    "beta_ast <- as.matrix(fit$beta)"
   ]
  },
  {
   "cell_type": "code",
   "execution_count": 95,
   "metadata": {},
   "outputs": [
    {
     "name": "stdout",
     "output_type": "stream",
     "text": [
      "             s0\n",
      "Sepal.Length  0\n",
      "Sepal.Width   0\n",
      "Petal.Width   0\n"
     ]
    }
   ],
   "source": [
    "print(beta_ast)"
   ]
  },
  {
   "cell_type": "code",
   "execution_count": 97,
   "metadata": {},
   "outputs": [],
   "source": [
    "quita_signo<-function(beta){\n",
    "    beta<-sign(beta)*beta\n",
    "    ind <- beta < .Machine$double.xmin & beta > -.Machine$double.xmin \n",
    "    beta[ind] <- .Machine$double.xmin \n",
    "    beta\n",
    "    }"
   ]
  },
  {
   "cell_type": "code",
   "execution_count": 98,
   "metadata": {},
   "outputs": [],
   "source": [
    "fo <-function(beta){\n",
    "    mat_vec <- A %*% beta\n",
    "    1/mpoints*(sum(log(1 + exp(mat_vec)) - y_hat * mat_vec)) + reg*sum(quita_signo(beta))\n",
    "    }"
   ]
  },
  {
   "cell_type": "code",
   "execution_count": 108,
   "metadata": {},
   "outputs": [],
   "source": [
    "#l<-Newtons_method(fo, beta_0, tol, tol_backtracking, beta_ast, p_ast, maxiter)"
   ]
  },
  {
   "cell_type": "code",
   "execution_count": 109,
   "metadata": {},
   "outputs": [],
   "source": [
    "#beta <- l[[1]]\n",
    "#total_of_iterations <- l[[2]]\n",
    "#Err_plot <- l[[3]]\n",
    "#beta_plot <- l[[4]]\n",
    "#"
   ]
  },
  {
   "cell_type": "code",
   "execution_count": 110,
   "metadata": {},
   "outputs": [],
   "source": [
    "#print(beta)"
   ]
  },
  {
   "cell_type": "code",
   "execution_count": 111,
   "metadata": {},
   "outputs": [],
   "source": [
    "#print(beta_ast)"
   ]
  },
  {
   "cell_type": "code",
   "execution_count": 112,
   "metadata": {},
   "outputs": [],
   "source": [
    "#compute_error(x_approx = beta, x_obj = beta_ast)"
   ]
  },
  {
   "cell_type": "markdown",
   "metadata": {},
   "source": [
    "### Cambiando parámetro de regularización"
   ]
  },
  {
   "cell_type": "code",
   "execution_count": 99,
   "metadata": {},
   "outputs": [],
   "source": [
    "reg<-.01"
   ]
  },
  {
   "cell_type": "code",
   "execution_count": 100,
   "metadata": {},
   "outputs": [
    {
     "data": {
      "text/html": [
       "<table>\n",
       "<caption>A matrix: 6 × 3 of type dbl</caption>\n",
       "<thead>\n",
       "\t<tr><th scope=col>Sepal.Length</th><th scope=col>Sepal.Width</th><th scope=col>Petal.Width</th></tr>\n",
       "</thead>\n",
       "<tbody>\n",
       "\t<tr><td>7.0</td><td>3.2</td><td>1.4</td></tr>\n",
       "\t<tr><td>6.4</td><td>3.2</td><td>1.5</td></tr>\n",
       "\t<tr><td>6.9</td><td>3.1</td><td>1.5</td></tr>\n",
       "\t<tr><td>5.5</td><td>2.3</td><td>1.3</td></tr>\n",
       "\t<tr><td>6.5</td><td>2.8</td><td>1.5</td></tr>\n",
       "\t<tr><td>5.7</td><td>2.8</td><td>1.3</td></tr>\n",
       "</tbody>\n",
       "</table>\n"
      ],
      "text/latex": [
       "A matrix: 6 × 3 of type dbl\n",
       "\\begin{tabular}{lll}\n",
       " Sepal.Length & Sepal.Width & Petal.Width\\\\\n",
       "\\hline\n",
       "\t 7.0 & 3.2 & 1.4\\\\\n",
       "\t 6.4 & 3.2 & 1.5\\\\\n",
       "\t 6.9 & 3.1 & 1.5\\\\\n",
       "\t 5.5 & 2.3 & 1.3\\\\\n",
       "\t 6.5 & 2.8 & 1.5\\\\\n",
       "\t 5.7 & 2.8 & 1.3\\\\\n",
       "\\end{tabular}\n"
      ],
      "text/markdown": [
       "\n",
       "A matrix: 6 × 3 of type dbl\n",
       "\n",
       "| Sepal.Length | Sepal.Width | Petal.Width |\n",
       "|---|---|---|\n",
       "| 7.0 | 3.2 | 1.4 |\n",
       "| 6.4 | 3.2 | 1.5 |\n",
       "| 6.9 | 3.1 | 1.5 |\n",
       "| 5.5 | 2.3 | 1.3 |\n",
       "| 6.5 | 2.8 | 1.5 |\n",
       "| 5.7 | 2.8 | 1.3 |\n",
       "\n"
      ],
      "text/plain": [
       "     Sepal.Length Sepal.Width Petal.Width\n",
       "[1,] 7.0          3.2         1.4        \n",
       "[2,] 6.4          3.2         1.5        \n",
       "[3,] 6.9          3.1         1.5        \n",
       "[4,] 5.5          2.3         1.3        \n",
       "[5,] 6.5          2.8         1.5        \n",
       "[6,] 5.7          2.8         1.3        "
      ]
     },
     "metadata": {},
     "output_type": "display_data"
    }
   ],
   "source": [
    "head(A)"
   ]
  },
  {
   "cell_type": "code",
   "execution_count": 101,
   "metadata": {},
   "outputs": [],
   "source": [
    "fit<-glmnet(A,y_hat,family=\"binomial\",alpha=1,lambda=reg,standardize=F,nlambda=1, intercept=F, thresh=1e-8)\n"
   ]
  },
  {
   "cell_type": "code",
   "execution_count": 102,
   "metadata": {},
   "outputs": [],
   "source": [
    "beta_ast <- as.matrix(fit$beta)"
   ]
  },
  {
   "cell_type": "code",
   "execution_count": 103,
   "metadata": {},
   "outputs": [
    {
     "name": "stdout",
     "output_type": "stream",
     "text": [
      "                     s0\n",
      "Sepal.Length  0.6246049\n",
      "Sepal.Width   3.0968033\n",
      "Petal.Width  -7.8624767\n"
     ]
    }
   ],
   "source": [
    "print(beta_ast)"
   ]
  },
  {
   "cell_type": "code",
   "execution_count": 104,
   "metadata": {},
   "outputs": [],
   "source": [
    "beta_0<-c(1,1,1)"
   ]
  },
  {
   "cell_type": "code",
   "execution_count": 105,
   "metadata": {},
   "outputs": [
    {
     "name": "stdout",
     "output_type": "stream",
     "text": [
      "I    Normgf   Newton Decrement   Error x_ast   Error p_ast   line search    condHf\n",
      "1    3.77e+00   6.18e+03           1.08e+00      5.15e+00      ---         5.41e+00\n",
      "2    4.53e-01   2.39e-01           7.19e-01      1.73e-01      9.77e-04    7.90e+02\n",
      "3    1.81e-01   4.24e-02           3.57e-01      3.08e-01      1.00e+00    8.36e+02\n",
      "4    5.06e-02   4.76e-03           1.19e-01      3.33e-01      1.00e+00    1.09e+03\n",
      "5    6.55e-03   7.16e-05           1.41e-02      3.36e-01      1.00e+00    1.21e+03\n",
      "6    1.15e-04   7.11e-08           8.06e-04      3.36e-01      1.00e+00    1.24e+03\n",
      "7    1.60e-07   6.13e-12           9.60e-04      3.36e-01      1.00e+00    1.27e+03\n",
      "8    1.92e-08   1.35e-14           9.63e-04      3.36e-01      1.00e+00    1.26e+03\n",
      "Error of x with respect to x_ast: 9.63e-04\n",
      "Approximate solution:[1]  0.6222248  3.1038730 -7.8657876\n"
     ]
    }
   ],
   "source": [
    "l<-Newtons_method(fo, beta_0, tol, tol_backtracking, beta_ast, p_ast, maxiter)"
   ]
  },
  {
   "cell_type": "code",
   "execution_count": 106,
   "metadata": {},
   "outputs": [],
   "source": [
    "beta <- l[[1]]\n",
    "total_of_iterations <- l[[2]]\n",
    "Err_plot <- l[[3]]\n",
    "beta_plot <- l[[4]]\n"
   ]
  },
  {
   "cell_type": "code",
   "execution_count": 107,
   "metadata": {},
   "outputs": [
    {
     "name": "stdout",
     "output_type": "stream",
     "text": [
      "[1]  0.6222248  3.1038730 -7.8657876\n"
     ]
    }
   ],
   "source": [
    "print(beta)"
   ]
  },
  {
   "cell_type": "code",
   "execution_count": 108,
   "metadata": {},
   "outputs": [
    {
     "name": "stdout",
     "output_type": "stream",
     "text": [
      "                     s0\n",
      "Sepal.Length  0.6246049\n",
      "Sepal.Width   3.0968033\n",
      "Petal.Width  -7.8624767\n"
     ]
    }
   ],
   "source": [
    "print(beta_ast)"
   ]
  },
  {
   "cell_type": "code",
   "execution_count": 110,
   "metadata": {},
   "outputs": [
    {
     "data": {
      "text/html": [
       "0.000963169046506325"
      ],
      "text/latex": [
       "0.000963169046506325"
      ],
      "text/markdown": [
       "0.000963169046506325"
      ],
      "text/plain": [
       "[1] 0.000963169"
      ]
     },
     "metadata": {},
     "output_type": "display_data"
    }
   ],
   "source": [
    "compute_error(x_approx = beta, x_obj = beta_ast)"
   ]
  },
  {
   "cell_type": "markdown",
   "metadata": {},
   "source": [
    "**Siguientes ejemplos no funcionan:**"
   ]
  },
  {
   "cell_type": "markdown",
   "metadata": {},
   "source": [
    "### Lasso con intercepto"
   ]
  },
  {
   "cell_type": "code",
   "execution_count": 111,
   "metadata": {},
   "outputs": [],
   "source": [
    "A<-iris_subset[,-c(3,ncol(iris_subset))]"
   ]
  },
  {
   "cell_type": "code",
   "execution_count": 112,
   "metadata": {},
   "outputs": [
    {
     "data": {
      "text/html": [
       "<table>\n",
       "<caption>A data.frame: 6 × 3</caption>\n",
       "<thead>\n",
       "\t<tr><th></th><th scope=col>Sepal.Length</th><th scope=col>Sepal.Width</th><th scope=col>Petal.Width</th></tr>\n",
       "\t<tr><th></th><th scope=col>&lt;dbl&gt;</th><th scope=col>&lt;dbl&gt;</th><th scope=col>&lt;dbl&gt;</th></tr>\n",
       "</thead>\n",
       "<tbody>\n",
       "\t<tr><th scope=row>1</th><td>7.0</td><td>3.2</td><td>1.4</td></tr>\n",
       "\t<tr><th scope=row>2</th><td>6.4</td><td>3.2</td><td>1.5</td></tr>\n",
       "\t<tr><th scope=row>3</th><td>6.9</td><td>3.1</td><td>1.5</td></tr>\n",
       "\t<tr><th scope=row>4</th><td>5.5</td><td>2.3</td><td>1.3</td></tr>\n",
       "\t<tr><th scope=row>5</th><td>6.5</td><td>2.8</td><td>1.5</td></tr>\n",
       "\t<tr><th scope=row>6</th><td>5.7</td><td>2.8</td><td>1.3</td></tr>\n",
       "</tbody>\n",
       "</table>\n"
      ],
      "text/latex": [
       "A data.frame: 6 × 3\n",
       "\\begin{tabular}{r|lll}\n",
       "  & Sepal.Length & Sepal.Width & Petal.Width\\\\\n",
       "  & <dbl> & <dbl> & <dbl>\\\\\n",
       "\\hline\n",
       "\t1 & 7.0 & 3.2 & 1.4\\\\\n",
       "\t2 & 6.4 & 3.2 & 1.5\\\\\n",
       "\t3 & 6.9 & 3.1 & 1.5\\\\\n",
       "\t4 & 5.5 & 2.3 & 1.3\\\\\n",
       "\t5 & 6.5 & 2.8 & 1.5\\\\\n",
       "\t6 & 5.7 & 2.8 & 1.3\\\\\n",
       "\\end{tabular}\n"
      ],
      "text/markdown": [
       "\n",
       "A data.frame: 6 × 3\n",
       "\n",
       "| <!--/--> | Sepal.Length &lt;dbl&gt; | Sepal.Width &lt;dbl&gt; | Petal.Width &lt;dbl&gt; |\n",
       "|---|---|---|---|\n",
       "| 1 | 7.0 | 3.2 | 1.4 |\n",
       "| 2 | 6.4 | 3.2 | 1.5 |\n",
       "| 3 | 6.9 | 3.1 | 1.5 |\n",
       "| 4 | 5.5 | 2.3 | 1.3 |\n",
       "| 5 | 6.5 | 2.8 | 1.5 |\n",
       "| 6 | 5.7 | 2.8 | 1.3 |\n",
       "\n"
      ],
      "text/plain": [
       "  Sepal.Length Sepal.Width Petal.Width\n",
       "1 7.0          3.2         1.4        \n",
       "2 6.4          3.2         1.5        \n",
       "3 6.9          3.1         1.5        \n",
       "4 5.5          2.3         1.3        \n",
       "5 6.5          2.8         1.5        \n",
       "6 5.7          2.8         1.3        "
      ]
     },
     "metadata": {},
     "output_type": "display_data"
    }
   ],
   "source": [
    "head(A)"
   ]
  },
  {
   "cell_type": "code",
   "execution_count": 113,
   "metadata": {},
   "outputs": [],
   "source": [
    "A<-cbind(rep(1,nrow(A)),A)"
   ]
  },
  {
   "cell_type": "code",
   "execution_count": 114,
   "metadata": {},
   "outputs": [],
   "source": [
    "A<-as.matrix(A)"
   ]
  },
  {
   "cell_type": "code",
   "execution_count": 115,
   "metadata": {},
   "outputs": [
    {
     "data": {
      "text/html": [
       "<table>\n",
       "<caption>A matrix: 6 × 4 of type dbl</caption>\n",
       "<thead>\n",
       "\t<tr><th scope=col>rep(1, nrow(A))</th><th scope=col>Sepal.Length</th><th scope=col>Sepal.Width</th><th scope=col>Petal.Width</th></tr>\n",
       "</thead>\n",
       "<tbody>\n",
       "\t<tr><td>1</td><td>7.0</td><td>3.2</td><td>1.4</td></tr>\n",
       "\t<tr><td>1</td><td>6.4</td><td>3.2</td><td>1.5</td></tr>\n",
       "\t<tr><td>1</td><td>6.9</td><td>3.1</td><td>1.5</td></tr>\n",
       "\t<tr><td>1</td><td>5.5</td><td>2.3</td><td>1.3</td></tr>\n",
       "\t<tr><td>1</td><td>6.5</td><td>2.8</td><td>1.5</td></tr>\n",
       "\t<tr><td>1</td><td>5.7</td><td>2.8</td><td>1.3</td></tr>\n",
       "</tbody>\n",
       "</table>\n"
      ],
      "text/latex": [
       "A matrix: 6 × 4 of type dbl\n",
       "\\begin{tabular}{llll}\n",
       " rep(1, nrow(A)) & Sepal.Length & Sepal.Width & Petal.Width\\\\\n",
       "\\hline\n",
       "\t 1 & 7.0 & 3.2 & 1.4\\\\\n",
       "\t 1 & 6.4 & 3.2 & 1.5\\\\\n",
       "\t 1 & 6.9 & 3.1 & 1.5\\\\\n",
       "\t 1 & 5.5 & 2.3 & 1.3\\\\\n",
       "\t 1 & 6.5 & 2.8 & 1.5\\\\\n",
       "\t 1 & 5.7 & 2.8 & 1.3\\\\\n",
       "\\end{tabular}\n"
      ],
      "text/markdown": [
       "\n",
       "A matrix: 6 × 4 of type dbl\n",
       "\n",
       "| rep(1, nrow(A)) | Sepal.Length | Sepal.Width | Petal.Width |\n",
       "|---|---|---|---|\n",
       "| 1 | 7.0 | 3.2 | 1.4 |\n",
       "| 1 | 6.4 | 3.2 | 1.5 |\n",
       "| 1 | 6.9 | 3.1 | 1.5 |\n",
       "| 1 | 5.5 | 2.3 | 1.3 |\n",
       "| 1 | 6.5 | 2.8 | 1.5 |\n",
       "| 1 | 5.7 | 2.8 | 1.3 |\n",
       "\n"
      ],
      "text/plain": [
       "     rep(1, nrow(A)) Sepal.Length Sepal.Width Petal.Width\n",
       "[1,] 1               7.0          3.2         1.4        \n",
       "[2,] 1               6.4          3.2         1.5        \n",
       "[3,] 1               6.9          3.1         1.5        \n",
       "[4,] 1               5.5          2.3         1.3        \n",
       "[5,] 1               6.5          2.8         1.5        \n",
       "[6,] 1               5.7          2.8         1.3        "
      ]
     },
     "metadata": {},
     "output_type": "display_data"
    }
   ],
   "source": [
    "head(A)"
   ]
  },
  {
   "cell_type": "code",
   "execution_count": 116,
   "metadata": {},
   "outputs": [],
   "source": [
    "fit<-glmnet(A,y_hat,family=\"binomial\",alpha=1,lambda=reg,standardize=F,nlambda=1, thresh=1e-8)\n"
   ]
  },
  {
   "cell_type": "code",
   "execution_count": 117,
   "metadata": {},
   "outputs": [],
   "source": [
    "beta_ast <- as.matrix(fit$beta)"
   ]
  },
  {
   "cell_type": "code",
   "execution_count": 118,
   "metadata": {},
   "outputs": [
    {
     "name": "stdout",
     "output_type": "stream",
     "text": [
      "                        s0\n",
      "rep(1, nrow(A))  0.0000000\n",
      "Sepal.Length    -0.1508808\n",
      "Sepal.Width      0.7099626\n",
      "Petal.Width     -8.5108838\n"
     ]
    }
   ],
   "source": [
    "print(beta_ast)"
   ]
  },
  {
   "cell_type": "code",
   "execution_count": 119,
   "metadata": {},
   "outputs": [],
   "source": [
    "fo <-function(beta){\n",
    "    mat_vec <- A %*% beta\n",
    "    1/mpoints*(sum(log(1 + exp(mat_vec)) - y_hat * mat_vec)) + reg*sum(quita_signo(beta[2:length(beta)]))\n",
    "    }"
   ]
  },
  {
   "cell_type": "code",
   "execution_count": 120,
   "metadata": {},
   "outputs": [],
   "source": [
    "beta_0<-c(1,1,1,1)"
   ]
  },
  {
   "cell_type": "code",
   "execution_count": 121,
   "metadata": {},
   "outputs": [
    {
     "name": "stdout",
     "output_type": "stream",
     "text": [
      "I    Normgf   Newton Decrement   Error x_ast   Error p_ast   line search    condHf\n",
      "1    3.80e+00   2.46e+03           1.13e+00      5.65e+00      ---         7.84e+00\n",
      "2    3.35e+00   7.48e+01           8.21e-01      1.91e+00      3.91e-03    1.22e+03\n",
      "3    7.48e-01   -2.20e+01           2.35e+00      3.36e-01      6.25e-02    6.03e+04\n",
      "Error of x with respect to x_ast: 2.35e+00\n",
      "Approximate solution:[1] -12.213378  -2.259459  16.247077 -11.504727\n"
     ]
    }
   ],
   "source": [
    "l<-Newtons_method(fo, beta_0, tol, tol_backtracking, beta_ast, p_ast, maxiter)"
   ]
  },
  {
   "cell_type": "code",
   "execution_count": 122,
   "metadata": {},
   "outputs": [],
   "source": [
    "beta <- l[[1]]\n",
    "total_of_iterations <- l[[2]]\n",
    "Err_plot <- l[[3]]\n",
    "beta_plot <- l[[4]]\n"
   ]
  },
  {
   "cell_type": "code",
   "execution_count": 123,
   "metadata": {},
   "outputs": [
    {
     "name": "stdout",
     "output_type": "stream",
     "text": [
      "[1] -12.213378  -2.259459  16.247077 -11.504727\n"
     ]
    }
   ],
   "source": [
    "print(beta)"
   ]
  },
  {
   "cell_type": "code",
   "execution_count": 124,
   "metadata": {},
   "outputs": [
    {
     "name": "stdout",
     "output_type": "stream",
     "text": [
      "                        s0\n",
      "rep(1, nrow(A))  0.0000000\n",
      "Sepal.Length    -0.1508808\n",
      "Sepal.Width      0.7099626\n",
      "Petal.Width     -8.5108838\n"
     ]
    }
   ],
   "source": [
    "print(beta_ast)"
   ]
  },
  {
   "cell_type": "markdown",
   "metadata": {},
   "source": [
    "### Más columnas"
   ]
  },
  {
   "cell_type": "code",
   "execution_count": 125,
   "metadata": {},
   "outputs": [],
   "source": [
    "A<-iris_subset[,-c(ncol(iris_subset))]"
   ]
  },
  {
   "cell_type": "code",
   "execution_count": 126,
   "metadata": {},
   "outputs": [
    {
     "data": {
      "text/html": [
       "<table>\n",
       "<caption>A data.frame: 6 × 4</caption>\n",
       "<thead>\n",
       "\t<tr><th></th><th scope=col>Sepal.Length</th><th scope=col>Sepal.Width</th><th scope=col>Petal.Length</th><th scope=col>Petal.Width</th></tr>\n",
       "\t<tr><th></th><th scope=col>&lt;dbl&gt;</th><th scope=col>&lt;dbl&gt;</th><th scope=col>&lt;dbl&gt;</th><th scope=col>&lt;dbl&gt;</th></tr>\n",
       "</thead>\n",
       "<tbody>\n",
       "\t<tr><th scope=row>1</th><td>7.0</td><td>3.2</td><td>4.7</td><td>1.4</td></tr>\n",
       "\t<tr><th scope=row>2</th><td>6.4</td><td>3.2</td><td>4.5</td><td>1.5</td></tr>\n",
       "\t<tr><th scope=row>3</th><td>6.9</td><td>3.1</td><td>4.9</td><td>1.5</td></tr>\n",
       "\t<tr><th scope=row>4</th><td>5.5</td><td>2.3</td><td>4.0</td><td>1.3</td></tr>\n",
       "\t<tr><th scope=row>5</th><td>6.5</td><td>2.8</td><td>4.6</td><td>1.5</td></tr>\n",
       "\t<tr><th scope=row>6</th><td>5.7</td><td>2.8</td><td>4.5</td><td>1.3</td></tr>\n",
       "</tbody>\n",
       "</table>\n"
      ],
      "text/latex": [
       "A data.frame: 6 × 4\n",
       "\\begin{tabular}{r|llll}\n",
       "  & Sepal.Length & Sepal.Width & Petal.Length & Petal.Width\\\\\n",
       "  & <dbl> & <dbl> & <dbl> & <dbl>\\\\\n",
       "\\hline\n",
       "\t1 & 7.0 & 3.2 & 4.7 & 1.4\\\\\n",
       "\t2 & 6.4 & 3.2 & 4.5 & 1.5\\\\\n",
       "\t3 & 6.9 & 3.1 & 4.9 & 1.5\\\\\n",
       "\t4 & 5.5 & 2.3 & 4.0 & 1.3\\\\\n",
       "\t5 & 6.5 & 2.8 & 4.6 & 1.5\\\\\n",
       "\t6 & 5.7 & 2.8 & 4.5 & 1.3\\\\\n",
       "\\end{tabular}\n"
      ],
      "text/markdown": [
       "\n",
       "A data.frame: 6 × 4\n",
       "\n",
       "| <!--/--> | Sepal.Length &lt;dbl&gt; | Sepal.Width &lt;dbl&gt; | Petal.Length &lt;dbl&gt; | Petal.Width &lt;dbl&gt; |\n",
       "|---|---|---|---|---|\n",
       "| 1 | 7.0 | 3.2 | 4.7 | 1.4 |\n",
       "| 2 | 6.4 | 3.2 | 4.5 | 1.5 |\n",
       "| 3 | 6.9 | 3.1 | 4.9 | 1.5 |\n",
       "| 4 | 5.5 | 2.3 | 4.0 | 1.3 |\n",
       "| 5 | 6.5 | 2.8 | 4.6 | 1.5 |\n",
       "| 6 | 5.7 | 2.8 | 4.5 | 1.3 |\n",
       "\n"
      ],
      "text/plain": [
       "  Sepal.Length Sepal.Width Petal.Length Petal.Width\n",
       "1 7.0          3.2         4.7          1.4        \n",
       "2 6.4          3.2         4.5          1.5        \n",
       "3 6.9          3.1         4.9          1.5        \n",
       "4 5.5          2.3         4.0          1.3        \n",
       "5 6.5          2.8         4.6          1.5        \n",
       "6 5.7          2.8         4.5          1.3        "
      ]
     },
     "metadata": {},
     "output_type": "display_data"
    }
   ],
   "source": [
    "head(A)"
   ]
  },
  {
   "cell_type": "code",
   "execution_count": 127,
   "metadata": {},
   "outputs": [],
   "source": [
    "A<-as.matrix(A)"
   ]
  },
  {
   "cell_type": "code",
   "execution_count": 128,
   "metadata": {},
   "outputs": [],
   "source": [
    "fit<-glmnet(A,y_hat,family=\"binomial\",alpha=1,lambda=reg,standardize=F,nlambda=1, intercept=F, thresh=1e-8)\n"
   ]
  },
  {
   "cell_type": "code",
   "execution_count": 129,
   "metadata": {},
   "outputs": [],
   "source": [
    "beta_ast <- as.matrix(fit$beta)"
   ]
  },
  {
   "cell_type": "code",
   "execution_count": 130,
   "metadata": {},
   "outputs": [
    {
     "name": "stdout",
     "output_type": "stream",
     "text": [
      "                    s0\n",
      "Sepal.Length  2.623599\n",
      "Sepal.Width   2.500404\n",
      "Petal.Length -3.260574\n",
      "Petal.Width  -4.610500\n"
     ]
    }
   ],
   "source": [
    "print(beta_ast)"
   ]
  },
  {
   "cell_type": "code",
   "execution_count": 131,
   "metadata": {},
   "outputs": [],
   "source": [
    "beta_0<-c(1,1,1,1)"
   ]
  },
  {
   "cell_type": "code",
   "execution_count": 132,
   "metadata": {},
   "outputs": [
    {
     "ename": "ERROR",
     "evalue": "Error in solve.default(Hfeval, -gfeval): Lapack routine dgesv: system is exactly singular: U[1,1] = 0\n",
     "output_type": "error",
     "traceback": [
      "Error in solve.default(Hfeval, -gfeval): Lapack routine dgesv: system is exactly singular: U[1,1] = 0\nTraceback:\n",
      "1. Newtons_method(fo, beta_0, tol, tol_backtracking, beta_ast, p_ast, \n .     maxiter)",
      "2. solve(Hfeval, -gfeval)",
      "3. solve(Hfeval, -gfeval)",
      "4. solve.default(Hfeval, -gfeval)"
     ]
    }
   ],
   "source": [
    "l<-Newtons_method(fo, beta_0, tol, tol_backtracking, beta_ast, p_ast, maxiter)"
   ]
  },
  {
   "cell_type": "markdown",
   "metadata": {},
   "source": [
    "**Problemas de correlación entre las variables... y por tanto falla la solución de la ecuación de Hessiana igual a - gradiente**"
   ]
  }
 ],
 "metadata": {
  "kernelspec": {
   "display_name": "R",
   "language": "R",
   "name": "ir"
  },
  "language_info": {
   "codemirror_mode": "r",
   "file_extension": ".r",
   "mimetype": "text/x-r-source",
   "name": "R",
   "pygments_lexer": "r",
   "version": "3.6.2"
  }
 },
 "nbformat": 4,
 "nbformat_minor": 4
}
