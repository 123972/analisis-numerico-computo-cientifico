{
 "cells": [
  {
   "cell_type": "code",
   "execution_count": 1,
   "metadata": {},
   "outputs": [
    {
     "name": "stderr",
     "output_type": "stream",
     "text": [
      "\n",
      "Attaching package: ‘dplyr’\n",
      "\n",
      "\n",
      "The following objects are masked from ‘package:stats’:\n",
      "\n",
      "    filter, lag\n",
      "\n",
      "\n",
      "The following objects are masked from ‘package:base’:\n",
      "\n",
      "    intersect, setdiff, setequal, union\n",
      "\n",
      "\n"
     ]
    }
   ],
   "source": [
    "library(datasets)\n",
    "library(dplyr)\n"
   ]
  },
  {
   "cell_type": "code",
   "execution_count": 2,
   "metadata": {},
   "outputs": [
    {
     "data": {
      "text/plain": [
       "  Sepal.Length    Sepal.Width     Petal.Length    Petal.Width   \n",
       " Min.   :4.300   Min.   :2.000   Min.   :1.000   Min.   :0.100  \n",
       " 1st Qu.:5.100   1st Qu.:2.800   1st Qu.:1.600   1st Qu.:0.300  \n",
       " Median :5.800   Median :3.000   Median :4.350   Median :1.300  \n",
       " Mean   :5.843   Mean   :3.057   Mean   :3.758   Mean   :1.199  \n",
       " 3rd Qu.:6.400   3rd Qu.:3.300   3rd Qu.:5.100   3rd Qu.:1.800  \n",
       " Max.   :7.900   Max.   :4.400   Max.   :6.900   Max.   :2.500  \n",
       "       Species  \n",
       " setosa    :50  \n",
       " versicolor:50  \n",
       " virginica :50  \n",
       "                \n",
       "                \n",
       "                "
      ]
     },
     "metadata": {},
     "output_type": "display_data"
    },
    {
     "data": {
      "text/html": [
       "150"
      ],
      "text/latex": [
       "150"
      ],
      "text/markdown": [
       "150"
      ],
      "text/plain": [
       "[1] 150"
      ]
     },
     "metadata": {},
     "output_type": "display_data"
    },
    {
     "data": {
      "text/html": [
       "5"
      ],
      "text/latex": [
       "5"
      ],
      "text/markdown": [
       "5"
      ],
      "text/plain": [
       "[1] 5"
      ]
     },
     "metadata": {},
     "output_type": "display_data"
    }
   ],
   "source": [
    "data(iris)\n",
    "summary(iris)\n",
    "nrow(iris)\n",
    "ncol(iris)"
   ]
  },
  {
   "cell_type": "code",
   "execution_count": 3,
   "metadata": {},
   "outputs": [],
   "source": [
    "iris_subset <- filter(iris, Species %in% c(\"virginica\", \"versicolor\"))\n"
   ]
  },
  {
   "cell_type": "code",
   "execution_count": 4,
   "metadata": {},
   "outputs": [
    {
     "data": {
      "text/html": [
       "<table>\n",
       "<caption>A data.frame: 6 × 5</caption>\n",
       "<thead>\n",
       "\t<tr><th></th><th scope=col>Sepal.Length</th><th scope=col>Sepal.Width</th><th scope=col>Petal.Length</th><th scope=col>Petal.Width</th><th scope=col>Species</th></tr>\n",
       "\t<tr><th></th><th scope=col>&lt;dbl&gt;</th><th scope=col>&lt;dbl&gt;</th><th scope=col>&lt;dbl&gt;</th><th scope=col>&lt;dbl&gt;</th><th scope=col>&lt;fct&gt;</th></tr>\n",
       "</thead>\n",
       "<tbody>\n",
       "\t<tr><th scope=row>1</th><td>7.0</td><td>3.2</td><td>4.7</td><td>1.4</td><td>versicolor</td></tr>\n",
       "\t<tr><th scope=row>2</th><td>6.4</td><td>3.2</td><td>4.5</td><td>1.5</td><td>versicolor</td></tr>\n",
       "\t<tr><th scope=row>3</th><td>6.9</td><td>3.1</td><td>4.9</td><td>1.5</td><td>versicolor</td></tr>\n",
       "\t<tr><th scope=row>4</th><td>5.5</td><td>2.3</td><td>4.0</td><td>1.3</td><td>versicolor</td></tr>\n",
       "\t<tr><th scope=row>5</th><td>6.5</td><td>2.8</td><td>4.6</td><td>1.5</td><td>versicolor</td></tr>\n",
       "\t<tr><th scope=row>6</th><td>5.7</td><td>2.8</td><td>4.5</td><td>1.3</td><td>versicolor</td></tr>\n",
       "</tbody>\n",
       "</table>\n"
      ],
      "text/latex": [
       "A data.frame: 6 × 5\n",
       "\\begin{tabular}{r|lllll}\n",
       "  & Sepal.Length & Sepal.Width & Petal.Length & Petal.Width & Species\\\\\n",
       "  & <dbl> & <dbl> & <dbl> & <dbl> & <fct>\\\\\n",
       "\\hline\n",
       "\t1 & 7.0 & 3.2 & 4.7 & 1.4 & versicolor\\\\\n",
       "\t2 & 6.4 & 3.2 & 4.5 & 1.5 & versicolor\\\\\n",
       "\t3 & 6.9 & 3.1 & 4.9 & 1.5 & versicolor\\\\\n",
       "\t4 & 5.5 & 2.3 & 4.0 & 1.3 & versicolor\\\\\n",
       "\t5 & 6.5 & 2.8 & 4.6 & 1.5 & versicolor\\\\\n",
       "\t6 & 5.7 & 2.8 & 4.5 & 1.3 & versicolor\\\\\n",
       "\\end{tabular}\n"
      ],
      "text/markdown": [
       "\n",
       "A data.frame: 6 × 5\n",
       "\n",
       "| <!--/--> | Sepal.Length &lt;dbl&gt; | Sepal.Width &lt;dbl&gt; | Petal.Length &lt;dbl&gt; | Petal.Width &lt;dbl&gt; | Species &lt;fct&gt; |\n",
       "|---|---|---|---|---|---|\n",
       "| 1 | 7.0 | 3.2 | 4.7 | 1.4 | versicolor |\n",
       "| 2 | 6.4 | 3.2 | 4.5 | 1.5 | versicolor |\n",
       "| 3 | 6.9 | 3.1 | 4.9 | 1.5 | versicolor |\n",
       "| 4 | 5.5 | 2.3 | 4.0 | 1.3 | versicolor |\n",
       "| 5 | 6.5 | 2.8 | 4.6 | 1.5 | versicolor |\n",
       "| 6 | 5.7 | 2.8 | 4.5 | 1.3 | versicolor |\n",
       "\n"
      ],
      "text/plain": [
       "  Sepal.Length Sepal.Width Petal.Length Petal.Width Species   \n",
       "1 7.0          3.2         4.7          1.4         versicolor\n",
       "2 6.4          3.2         4.5          1.5         versicolor\n",
       "3 6.9          3.1         4.9          1.5         versicolor\n",
       "4 5.5          2.3         4.0          1.3         versicolor\n",
       "5 6.5          2.8         4.6          1.5         versicolor\n",
       "6 5.7          2.8         4.5          1.3         versicolor"
      ]
     },
     "metadata": {},
     "output_type": "display_data"
    }
   ],
   "source": [
    "head(iris_subset)"
   ]
  },
  {
   "cell_type": "code",
   "execution_count": 5,
   "metadata": {},
   "outputs": [
    {
     "data": {
      "text/html": [
       "100"
      ],
      "text/latex": [
       "100"
      ],
      "text/markdown": [
       "100"
      ],
      "text/plain": [
       "[1] 100"
      ]
     },
     "metadata": {},
     "output_type": "display_data"
    }
   ],
   "source": [
    "nrow(iris_subset)\n"
   ]
  },
  {
   "cell_type": "code",
   "execution_count": 6,
   "metadata": {},
   "outputs": [
    {
     "data": {
      "text/html": [
       "<table>\n",
       "<caption>A matrix: 4 × 4 of type dbl</caption>\n",
       "<thead>\n",
       "\t<tr><th></th><th scope=col>Sepal.Length</th><th scope=col>Sepal.Width</th><th scope=col>Petal.Length</th><th scope=col>Petal.Width</th></tr>\n",
       "</thead>\n",
       "<tbody>\n",
       "\t<tr><th scope=row>Sepal.Length</th><td>1.0000000</td><td>0.5538548</td><td>0.8284787</td><td>0.5937094</td></tr>\n",
       "\t<tr><th scope=row>Sepal.Width</th><td>0.5538548</td><td>1.0000000</td><td>0.5198023</td><td>0.5662025</td></tr>\n",
       "\t<tr><th scope=row>Petal.Length</th><td>0.8284787</td><td>0.5198023</td><td>1.0000000</td><td>0.8233476</td></tr>\n",
       "\t<tr><th scope=row>Petal.Width</th><td>0.5937094</td><td>0.5662025</td><td>0.8233476</td><td>1.0000000</td></tr>\n",
       "</tbody>\n",
       "</table>\n"
      ],
      "text/latex": [
       "A matrix: 4 × 4 of type dbl\n",
       "\\begin{tabular}{r|llll}\n",
       "  & Sepal.Length & Sepal.Width & Petal.Length & Petal.Width\\\\\n",
       "\\hline\n",
       "\tSepal.Length & 1.0000000 & 0.5538548 & 0.8284787 & 0.5937094\\\\\n",
       "\tSepal.Width & 0.5538548 & 1.0000000 & 0.5198023 & 0.5662025\\\\\n",
       "\tPetal.Length & 0.8284787 & 0.5198023 & 1.0000000 & 0.8233476\\\\\n",
       "\tPetal.Width & 0.5937094 & 0.5662025 & 0.8233476 & 1.0000000\\\\\n",
       "\\end{tabular}\n"
      ],
      "text/markdown": [
       "\n",
       "A matrix: 4 × 4 of type dbl\n",
       "\n",
       "| <!--/--> | Sepal.Length | Sepal.Width | Petal.Length | Petal.Width |\n",
       "|---|---|---|---|---|\n",
       "| Sepal.Length | 1.0000000 | 0.5538548 | 0.8284787 | 0.5937094 |\n",
       "| Sepal.Width | 0.5538548 | 1.0000000 | 0.5198023 | 0.5662025 |\n",
       "| Petal.Length | 0.8284787 | 0.5198023 | 1.0000000 | 0.8233476 |\n",
       "| Petal.Width | 0.5937094 | 0.5662025 | 0.8233476 | 1.0000000 |\n",
       "\n"
      ],
      "text/plain": [
       "             Sepal.Length Sepal.Width Petal.Length Petal.Width\n",
       "Sepal.Length 1.0000000    0.5538548   0.8284787    0.5937094  \n",
       "Sepal.Width  0.5538548    1.0000000   0.5198023    0.5662025  \n",
       "Petal.Length 0.8284787    0.5198023   1.0000000    0.8233476  \n",
       "Petal.Width  0.5937094    0.5662025   0.8233476    1.0000000  "
      ]
     },
     "metadata": {},
     "output_type": "display_data"
    }
   ],
   "source": [
    "cor(as.matrix(iris_subset[,-ncol(iris_subset)]))"
   ]
  },
  {
   "cell_type": "code",
   "execution_count": 7,
   "metadata": {},
   "outputs": [],
   "source": [
    "A<-iris_subset[,-c(3,ncol(iris_subset))]"
   ]
  },
  {
   "cell_type": "code",
   "execution_count": 8,
   "metadata": {},
   "outputs": [],
   "source": [
    "y_hat <- iris_subset[,ncol(iris_subset)]"
   ]
  },
  {
   "cell_type": "code",
   "execution_count": 9,
   "metadata": {},
   "outputs": [
    {
     "data": {
      "text/html": [
       "<table>\n",
       "<caption>A data.frame: 6 × 3</caption>\n",
       "<thead>\n",
       "\t<tr><th></th><th scope=col>Sepal.Length</th><th scope=col>Sepal.Width</th><th scope=col>Petal.Width</th></tr>\n",
       "\t<tr><th></th><th scope=col>&lt;dbl&gt;</th><th scope=col>&lt;dbl&gt;</th><th scope=col>&lt;dbl&gt;</th></tr>\n",
       "</thead>\n",
       "<tbody>\n",
       "\t<tr><th scope=row>1</th><td>7.0</td><td>3.2</td><td>1.4</td></tr>\n",
       "\t<tr><th scope=row>2</th><td>6.4</td><td>3.2</td><td>1.5</td></tr>\n",
       "\t<tr><th scope=row>3</th><td>6.9</td><td>3.1</td><td>1.5</td></tr>\n",
       "\t<tr><th scope=row>4</th><td>5.5</td><td>2.3</td><td>1.3</td></tr>\n",
       "\t<tr><th scope=row>5</th><td>6.5</td><td>2.8</td><td>1.5</td></tr>\n",
       "\t<tr><th scope=row>6</th><td>5.7</td><td>2.8</td><td>1.3</td></tr>\n",
       "</tbody>\n",
       "</table>\n"
      ],
      "text/latex": [
       "A data.frame: 6 × 3\n",
       "\\begin{tabular}{r|lll}\n",
       "  & Sepal.Length & Sepal.Width & Petal.Width\\\\\n",
       "  & <dbl> & <dbl> & <dbl>\\\\\n",
       "\\hline\n",
       "\t1 & 7.0 & 3.2 & 1.4\\\\\n",
       "\t2 & 6.4 & 3.2 & 1.5\\\\\n",
       "\t3 & 6.9 & 3.1 & 1.5\\\\\n",
       "\t4 & 5.5 & 2.3 & 1.3\\\\\n",
       "\t5 & 6.5 & 2.8 & 1.5\\\\\n",
       "\t6 & 5.7 & 2.8 & 1.3\\\\\n",
       "\\end{tabular}\n"
      ],
      "text/markdown": [
       "\n",
       "A data.frame: 6 × 3\n",
       "\n",
       "| <!--/--> | Sepal.Length &lt;dbl&gt; | Sepal.Width &lt;dbl&gt; | Petal.Width &lt;dbl&gt; |\n",
       "|---|---|---|---|\n",
       "| 1 | 7.0 | 3.2 | 1.4 |\n",
       "| 2 | 6.4 | 3.2 | 1.5 |\n",
       "| 3 | 6.9 | 3.1 | 1.5 |\n",
       "| 4 | 5.5 | 2.3 | 1.3 |\n",
       "| 5 | 6.5 | 2.8 | 1.5 |\n",
       "| 6 | 5.7 | 2.8 | 1.3 |\n",
       "\n"
      ],
      "text/plain": [
       "  Sepal.Length Sepal.Width Petal.Width\n",
       "1 7.0          3.2         1.4        \n",
       "2 6.4          3.2         1.5        \n",
       "3 6.9          3.1         1.5        \n",
       "4 5.5          2.3         1.3        \n",
       "5 6.5          2.8         1.5        \n",
       "6 5.7          2.8         1.3        "
      ]
     },
     "metadata": {},
     "output_type": "display_data"
    }
   ],
   "source": [
    "head(A)"
   ]
  },
  {
   "cell_type": "code",
   "execution_count": 10,
   "metadata": {},
   "outputs": [],
   "source": [
    "#glm.out <- glm(Species ~ Sepal.Length + Sepal.Width + Petal.Length + Petal.Width,\n",
    "#               data = iris_subset,family = binomial)\n",
    "glm.out <- glm(Species ~ Sepal.Length + Sepal.Width  + Petal.Width,\n",
    "               data = iris_subset,family = binomial)\n",
    "#glm.out <- glm.fit(A,y_hat,intercept=FALSE,family = binomial)"
   ]
  },
  {
   "cell_type": "code",
   "execution_count": 11,
   "metadata": {},
   "outputs": [
    {
     "data": {
      "text/plain": [
       "\n",
       "Call:\n",
       "glm(formula = Species ~ Sepal.Length + Sepal.Width + Petal.Width, \n",
       "    family = binomial, data = iris_subset)\n",
       "\n",
       "Deviance Residuals: \n",
       "     Min        1Q    Median        3Q       Max  \n",
       "-1.62754  -0.12171  -0.00435   0.06825   2.32596  \n",
       "\n",
       "Coefficients:\n",
       "             Estimate Std. Error z value Pr(>|z|)    \n",
       "(Intercept)   -20.287      8.055  -2.519   0.0118 *  \n",
       "Sepal.Length    1.295      1.089   1.189   0.2344    \n",
       "Sepal.Width    -4.823      2.097  -2.300   0.0214 *  \n",
       "Petal.Width    15.923      3.981   4.000 6.33e-05 ***\n",
       "---\n",
       "Signif. codes:  0 ‘***’ 0.001 ‘**’ 0.01 ‘*’ 0.05 ‘.’ 0.1 ‘ ’ 1\n",
       "\n",
       "(Dispersion parameter for binomial family taken to be 1)\n",
       "\n",
       "    Null deviance: 138.629  on 99  degrees of freedom\n",
       "Residual deviance:  25.902  on 96  degrees of freedom\n",
       "AIC: 33.902\n",
       "\n",
       "Number of Fisher Scoring iterations: 8\n"
      ]
     },
     "metadata": {},
     "output_type": "display_data"
    }
   ],
   "source": [
    "summary(glm.out)"
   ]
  },
  {
   "cell_type": "code",
   "execution_count": 12,
   "metadata": {},
   "outputs": [
    {
     "data": {
      "text/html": [
       "<dl class=dl-horizontal>\n",
       "\t<dt>(Intercept)</dt>\n",
       "\t\t<dd>-20.2873288566835</dd>\n",
       "\t<dt>Sepal.Length</dt>\n",
       "\t\t<dd>1.29512927786856</dd>\n",
       "\t<dt>Sepal.Width</dt>\n",
       "\t\t<dd>-4.8232741255399</dd>\n",
       "\t<dt>Petal.Width</dt>\n",
       "\t\t<dd>15.9226604844903</dd>\n",
       "</dl>\n"
      ],
      "text/latex": [
       "\\begin{description*}\n",
       "\\item[(Intercept)] -20.2873288566835\n",
       "\\item[Sepal.Length] 1.29512927786856\n",
       "\\item[Sepal.Width] -4.8232741255399\n",
       "\\item[Petal.Width] 15.9226604844903\n",
       "\\end{description*}\n"
      ],
      "text/markdown": [
       "(Intercept)\n",
       ":   -20.2873288566835Sepal.Length\n",
       ":   1.29512927786856Sepal.Width\n",
       ":   -4.8232741255399Petal.Width\n",
       ":   15.9226604844903\n",
       "\n"
      ],
      "text/plain": [
       " (Intercept) Sepal.Length  Sepal.Width  Petal.Width \n",
       "  -20.287329     1.295129    -4.823274    15.922660 "
      ]
     },
     "metadata": {},
     "output_type": "display_data"
    }
   ],
   "source": [
    "glm.out$coefficients"
   ]
  },
  {
   "cell_type": "markdown",
   "metadata": {},
   "source": [
    "# Descenso en gradiente"
   ]
  },
  {
   "cell_type": "markdown",
   "metadata": {},
   "source": [
    "$$2 \\displaystyle \\sum_{i=1}^m log(1+exp(\\beta^Tx_i))-\\hat{y}_i\\beta^Tx_i$$\n",
    "\n",
    "donde: $\\hat{y}_i \\in \\{0,1\\}$, $x_i$ $i$-ésimo renglón de matriz A."
   ]
  },
  {
   "cell_type": "code",
   "execution_count": 13,
   "metadata": {},
   "outputs": [],
   "source": [
    "#A<-iris_subset[,-c(3,ncol(iris_subset))]"
   ]
  },
  {
   "cell_type": "code",
   "execution_count": 14,
   "metadata": {},
   "outputs": [
    {
     "data": {
      "text/html": [
       "<table>\n",
       "<caption>A data.frame: 6 × 3</caption>\n",
       "<thead>\n",
       "\t<tr><th></th><th scope=col>Sepal.Length</th><th scope=col>Sepal.Width</th><th scope=col>Petal.Width</th></tr>\n",
       "\t<tr><th></th><th scope=col>&lt;dbl&gt;</th><th scope=col>&lt;dbl&gt;</th><th scope=col>&lt;dbl&gt;</th></tr>\n",
       "</thead>\n",
       "<tbody>\n",
       "\t<tr><th scope=row>1</th><td>7.0</td><td>3.2</td><td>1.4</td></tr>\n",
       "\t<tr><th scope=row>2</th><td>6.4</td><td>3.2</td><td>1.5</td></tr>\n",
       "\t<tr><th scope=row>3</th><td>6.9</td><td>3.1</td><td>1.5</td></tr>\n",
       "\t<tr><th scope=row>4</th><td>5.5</td><td>2.3</td><td>1.3</td></tr>\n",
       "\t<tr><th scope=row>5</th><td>6.5</td><td>2.8</td><td>1.5</td></tr>\n",
       "\t<tr><th scope=row>6</th><td>5.7</td><td>2.8</td><td>1.3</td></tr>\n",
       "</tbody>\n",
       "</table>\n"
      ],
      "text/latex": [
       "A data.frame: 6 × 3\n",
       "\\begin{tabular}{r|lll}\n",
       "  & Sepal.Length & Sepal.Width & Petal.Width\\\\\n",
       "  & <dbl> & <dbl> & <dbl>\\\\\n",
       "\\hline\n",
       "\t1 & 7.0 & 3.2 & 1.4\\\\\n",
       "\t2 & 6.4 & 3.2 & 1.5\\\\\n",
       "\t3 & 6.9 & 3.1 & 1.5\\\\\n",
       "\t4 & 5.5 & 2.3 & 1.3\\\\\n",
       "\t5 & 6.5 & 2.8 & 1.5\\\\\n",
       "\t6 & 5.7 & 2.8 & 1.3\\\\\n",
       "\\end{tabular}\n"
      ],
      "text/markdown": [
       "\n",
       "A data.frame: 6 × 3\n",
       "\n",
       "| <!--/--> | Sepal.Length &lt;dbl&gt; | Sepal.Width &lt;dbl&gt; | Petal.Width &lt;dbl&gt; |\n",
       "|---|---|---|---|\n",
       "| 1 | 7.0 | 3.2 | 1.4 |\n",
       "| 2 | 6.4 | 3.2 | 1.5 |\n",
       "| 3 | 6.9 | 3.1 | 1.5 |\n",
       "| 4 | 5.5 | 2.3 | 1.3 |\n",
       "| 5 | 6.5 | 2.8 | 1.5 |\n",
       "| 6 | 5.7 | 2.8 | 1.3 |\n",
       "\n"
      ],
      "text/plain": [
       "  Sepal.Length Sepal.Width Petal.Width\n",
       "1 7.0          3.2         1.4        \n",
       "2 6.4          3.2         1.5        \n",
       "3 6.9          3.1         1.5        \n",
       "4 5.5          2.3         1.3        \n",
       "5 6.5          2.8         1.5        \n",
       "6 5.7          2.8         1.3        "
      ]
     },
     "metadata": {},
     "output_type": "display_data"
    }
   ],
   "source": [
    "head(A)"
   ]
  },
  {
   "cell_type": "code",
   "execution_count": 15,
   "metadata": {},
   "outputs": [],
   "source": [
    "A<-cbind(rep(1,nrow(A)),A)"
   ]
  },
  {
   "cell_type": "code",
   "execution_count": 16,
   "metadata": {},
   "outputs": [
    {
     "data": {
      "text/html": [
       "<table>\n",
       "<caption>A data.frame: 6 × 4</caption>\n",
       "<thead>\n",
       "\t<tr><th></th><th scope=col>rep(1, nrow(A))</th><th scope=col>Sepal.Length</th><th scope=col>Sepal.Width</th><th scope=col>Petal.Width</th></tr>\n",
       "\t<tr><th></th><th scope=col>&lt;dbl&gt;</th><th scope=col>&lt;dbl&gt;</th><th scope=col>&lt;dbl&gt;</th><th scope=col>&lt;dbl&gt;</th></tr>\n",
       "</thead>\n",
       "<tbody>\n",
       "\t<tr><th scope=row>1</th><td>1</td><td>7.0</td><td>3.2</td><td>1.4</td></tr>\n",
       "\t<tr><th scope=row>2</th><td>1</td><td>6.4</td><td>3.2</td><td>1.5</td></tr>\n",
       "\t<tr><th scope=row>3</th><td>1</td><td>6.9</td><td>3.1</td><td>1.5</td></tr>\n",
       "\t<tr><th scope=row>4</th><td>1</td><td>5.5</td><td>2.3</td><td>1.3</td></tr>\n",
       "\t<tr><th scope=row>5</th><td>1</td><td>6.5</td><td>2.8</td><td>1.5</td></tr>\n",
       "\t<tr><th scope=row>6</th><td>1</td><td>5.7</td><td>2.8</td><td>1.3</td></tr>\n",
       "</tbody>\n",
       "</table>\n"
      ],
      "text/latex": [
       "A data.frame: 6 × 4\n",
       "\\begin{tabular}{r|llll}\n",
       "  & rep(1, nrow(A)) & Sepal.Length & Sepal.Width & Petal.Width\\\\\n",
       "  & <dbl> & <dbl> & <dbl> & <dbl>\\\\\n",
       "\\hline\n",
       "\t1 & 1 & 7.0 & 3.2 & 1.4\\\\\n",
       "\t2 & 1 & 6.4 & 3.2 & 1.5\\\\\n",
       "\t3 & 1 & 6.9 & 3.1 & 1.5\\\\\n",
       "\t4 & 1 & 5.5 & 2.3 & 1.3\\\\\n",
       "\t5 & 1 & 6.5 & 2.8 & 1.5\\\\\n",
       "\t6 & 1 & 5.7 & 2.8 & 1.3\\\\\n",
       "\\end{tabular}\n"
      ],
      "text/markdown": [
       "\n",
       "A data.frame: 6 × 4\n",
       "\n",
       "| <!--/--> | rep(1, nrow(A)) &lt;dbl&gt; | Sepal.Length &lt;dbl&gt; | Sepal.Width &lt;dbl&gt; | Petal.Width &lt;dbl&gt; |\n",
       "|---|---|---|---|---|\n",
       "| 1 | 1 | 7.0 | 3.2 | 1.4 |\n",
       "| 2 | 1 | 6.4 | 3.2 | 1.5 |\n",
       "| 3 | 1 | 6.9 | 3.1 | 1.5 |\n",
       "| 4 | 1 | 5.5 | 2.3 | 1.3 |\n",
       "| 5 | 1 | 6.5 | 2.8 | 1.5 |\n",
       "| 6 | 1 | 5.7 | 2.8 | 1.3 |\n",
       "\n"
      ],
      "text/plain": [
       "  rep(1, nrow(A)) Sepal.Length Sepal.Width Petal.Width\n",
       "1 1               7.0          3.2         1.4        \n",
       "2 1               6.4          3.2         1.5        \n",
       "3 1               6.9          3.1         1.5        \n",
       "4 1               5.5          2.3         1.3        \n",
       "5 1               6.5          2.8         1.5        \n",
       "6 1               5.7          2.8         1.3        "
      ]
     },
     "metadata": {},
     "output_type": "display_data"
    }
   ],
   "source": [
    "head(A)"
   ]
  },
  {
   "cell_type": "code",
   "execution_count": 17,
   "metadata": {},
   "outputs": [],
   "source": [
    "y_hat <- iris_subset[,ncol(iris_subset)]"
   ]
  },
  {
   "cell_type": "code",
   "execution_count": 18,
   "metadata": {},
   "outputs": [
    {
     "data": {
      "text/html": [
       "<ol class=list-inline>\n",
       "\t<li>versicolor</li>\n",
       "\t<li>versicolor</li>\n",
       "\t<li>versicolor</li>\n",
       "\t<li>versicolor</li>\n",
       "\t<li>versicolor</li>\n",
       "\t<li>versicolor</li>\n",
       "</ol>\n",
       "\n",
       "<details>\n",
       "\t<summary style=display:list-item;cursor:pointer>\n",
       "\t\t<strong>Levels</strong>:\n",
       "\t</summary>\n",
       "\t<ol class=list-inline>\n",
       "\t\t<li>'setosa'</li>\n",
       "\t\t<li>'versicolor'</li>\n",
       "\t\t<li>'virginica'</li>\n",
       "\t</ol>\n",
       "</details>"
      ],
      "text/latex": [
       "\\begin{enumerate*}\n",
       "\\item versicolor\n",
       "\\item versicolor\n",
       "\\item versicolor\n",
       "\\item versicolor\n",
       "\\item versicolor\n",
       "\\item versicolor\n",
       "\\end{enumerate*}\n",
       "\n",
       "\\emph{Levels}: \\begin{enumerate*}\n",
       "\\item 'setosa'\n",
       "\\item 'versicolor'\n",
       "\\item 'virginica'\n",
       "\\end{enumerate*}\n"
      ],
      "text/markdown": [
       "1. versicolor\n",
       "2. versicolor\n",
       "3. versicolor\n",
       "4. versicolor\n",
       "5. versicolor\n",
       "6. versicolor\n",
       "\n",
       "\n",
       "\n",
       "**Levels**: 1. 'setosa'\n",
       "2. 'versicolor'\n",
       "3. 'virginica'\n",
       "\n",
       "\n"
      ],
      "text/plain": [
       "[1] versicolor versicolor versicolor versicolor versicolor versicolor\n",
       "Levels: setosa versicolor virginica"
      ]
     },
     "metadata": {},
     "output_type": "display_data"
    }
   ],
   "source": [
    "head(y_hat)"
   ]
  },
  {
   "cell_type": "code",
   "execution_count": 19,
   "metadata": {},
   "outputs": [
    {
     "data": {
      "text/html": [
       "<ol class=list-inline>\n",
       "\t<li>virginica</li>\n",
       "\t<li>virginica</li>\n",
       "\t<li>virginica</li>\n",
       "\t<li>virginica</li>\n",
       "\t<li>virginica</li>\n",
       "\t<li>virginica</li>\n",
       "</ol>\n",
       "\n",
       "<details>\n",
       "\t<summary style=display:list-item;cursor:pointer>\n",
       "\t\t<strong>Levels</strong>:\n",
       "\t</summary>\n",
       "\t<ol class=list-inline>\n",
       "\t\t<li>'setosa'</li>\n",
       "\t\t<li>'versicolor'</li>\n",
       "\t\t<li>'virginica'</li>\n",
       "\t</ol>\n",
       "</details>"
      ],
      "text/latex": [
       "\\begin{enumerate*}\n",
       "\\item virginica\n",
       "\\item virginica\n",
       "\\item virginica\n",
       "\\item virginica\n",
       "\\item virginica\n",
       "\\item virginica\n",
       "\\end{enumerate*}\n",
       "\n",
       "\\emph{Levels}: \\begin{enumerate*}\n",
       "\\item 'setosa'\n",
       "\\item 'versicolor'\n",
       "\\item 'virginica'\n",
       "\\end{enumerate*}\n"
      ],
      "text/markdown": [
       "1. virginica\n",
       "2. virginica\n",
       "3. virginica\n",
       "4. virginica\n",
       "5. virginica\n",
       "6. virginica\n",
       "\n",
       "\n",
       "\n",
       "**Levels**: 1. 'setosa'\n",
       "2. 'versicolor'\n",
       "3. 'virginica'\n",
       "\n",
       "\n"
      ],
      "text/plain": [
       "[1] virginica virginica virginica virginica virginica virginica\n",
       "Levels: setosa versicolor virginica"
      ]
     },
     "metadata": {},
     "output_type": "display_data"
    }
   ],
   "source": [
    "tail(y_hat)"
   ]
  },
  {
   "cell_type": "code",
   "execution_count": 20,
   "metadata": {},
   "outputs": [],
   "source": [
    "#y_hat <- as.numeric(y_hat)-2\n",
    "#or \n",
    "y_hat <- as.numeric(y_hat)-3\n",
    "#then: \n",
    "y_hat[y_hat==-1] <- -1*y_hat[y_hat==-1]"
   ]
  },
  {
   "cell_type": "code",
   "execution_count": 21,
   "metadata": {},
   "outputs": [
    {
     "data": {
      "text/html": [
       "<ol class=list-inline>\n",
       "\t<li>1</li>\n",
       "\t<li>1</li>\n",
       "\t<li>1</li>\n",
       "\t<li>1</li>\n",
       "\t<li>1</li>\n",
       "\t<li>1</li>\n",
       "</ol>\n"
      ],
      "text/latex": [
       "\\begin{enumerate*}\n",
       "\\item 1\n",
       "\\item 1\n",
       "\\item 1\n",
       "\\item 1\n",
       "\\item 1\n",
       "\\item 1\n",
       "\\end{enumerate*}\n"
      ],
      "text/markdown": [
       "1. 1\n",
       "2. 1\n",
       "3. 1\n",
       "4. 1\n",
       "5. 1\n",
       "6. 1\n",
       "\n",
       "\n"
      ],
      "text/plain": [
       "[1] 1 1 1 1 1 1"
      ]
     },
     "metadata": {},
     "output_type": "display_data"
    }
   ],
   "source": [
    "head(y_hat)"
   ]
  },
  {
   "cell_type": "code",
   "execution_count": 22,
   "metadata": {},
   "outputs": [
    {
     "data": {
      "text/html": [
       "<ol class=list-inline>\n",
       "\t<li>0</li>\n",
       "\t<li>0</li>\n",
       "\t<li>0</li>\n",
       "\t<li>0</li>\n",
       "\t<li>0</li>\n",
       "\t<li>0</li>\n",
       "</ol>\n"
      ],
      "text/latex": [
       "\\begin{enumerate*}\n",
       "\\item 0\n",
       "\\item 0\n",
       "\\item 0\n",
       "\\item 0\n",
       "\\item 0\n",
       "\\item 0\n",
       "\\end{enumerate*}\n"
      ],
      "text/markdown": [
       "1. 0\n",
       "2. 0\n",
       "3. 0\n",
       "4. 0\n",
       "5. 0\n",
       "6. 0\n",
       "\n",
       "\n"
      ],
      "text/plain": [
       "[1] 0 0 0 0 0 0"
      ]
     },
     "metadata": {},
     "output_type": "display_data"
    }
   ],
   "source": [
    "tail(y_hat)"
   ]
  },
  {
   "cell_type": "code",
   "execution_count": 23,
   "metadata": {},
   "outputs": [],
   "source": [
    "#load numerical differentiation\n",
    "#load utils\n",
    "#load algorithms for unconstrained convex optimization\n",
    "source(\"algoritmos/optimizacion_convexa_sin_restricciones/R/numerical_differentiation.R\")\n",
    "source(\"algoritmos/optimizacion_convexa_sin_restricciones/R/utils.R\")\n",
    "source(\"algoritmos/optimizacion_convexa_sin_restricciones/R/algorithms.R\")"
   ]
  },
  {
   "cell_type": "markdown",
   "metadata": {},
   "source": [
    "$$2 \\displaystyle \\sum_{i=1}^m log(1+exp(\\beta^Tx_i))-\\hat{y}_i\\beta^Tx_i$$\n",
    "\n",
    "donde: $\\hat{y}_i \\in \\{0,1\\}$, $x_i$ $i$-ésimo renglón de matriz A."
   ]
  },
  {
   "cell_type": "code",
   "execution_count": 24,
   "metadata": {},
   "outputs": [],
   "source": [
    "beta_0 <- c(0,0,0,0)"
   ]
  },
  {
   "cell_type": "code",
   "execution_count": 25,
   "metadata": {},
   "outputs": [],
   "source": [
    "A<-as.matrix(A)"
   ]
  },
  {
   "cell_type": "code",
   "execution_count": 26,
   "metadata": {},
   "outputs": [
    {
     "data": {
      "text/html": [
       "<table>\n",
       "<caption>A matrix: 6 × 4 of type dbl</caption>\n",
       "<thead>\n",
       "\t<tr><th scope=col>rep(1, nrow(A))</th><th scope=col>Sepal.Length</th><th scope=col>Sepal.Width</th><th scope=col>Petal.Width</th></tr>\n",
       "</thead>\n",
       "<tbody>\n",
       "\t<tr><td>1</td><td>7.0</td><td>3.2</td><td>1.4</td></tr>\n",
       "\t<tr><td>1</td><td>6.4</td><td>3.2</td><td>1.5</td></tr>\n",
       "\t<tr><td>1</td><td>6.9</td><td>3.1</td><td>1.5</td></tr>\n",
       "\t<tr><td>1</td><td>5.5</td><td>2.3</td><td>1.3</td></tr>\n",
       "\t<tr><td>1</td><td>6.5</td><td>2.8</td><td>1.5</td></tr>\n",
       "\t<tr><td>1</td><td>5.7</td><td>2.8</td><td>1.3</td></tr>\n",
       "</tbody>\n",
       "</table>\n"
      ],
      "text/latex": [
       "A matrix: 6 × 4 of type dbl\n",
       "\\begin{tabular}{llll}\n",
       " rep(1, nrow(A)) & Sepal.Length & Sepal.Width & Petal.Width\\\\\n",
       "\\hline\n",
       "\t 1 & 7.0 & 3.2 & 1.4\\\\\n",
       "\t 1 & 6.4 & 3.2 & 1.5\\\\\n",
       "\t 1 & 6.9 & 3.1 & 1.5\\\\\n",
       "\t 1 & 5.5 & 2.3 & 1.3\\\\\n",
       "\t 1 & 6.5 & 2.8 & 1.5\\\\\n",
       "\t 1 & 5.7 & 2.8 & 1.3\\\\\n",
       "\\end{tabular}\n"
      ],
      "text/markdown": [
       "\n",
       "A matrix: 6 × 4 of type dbl\n",
       "\n",
       "| rep(1, nrow(A)) | Sepal.Length | Sepal.Width | Petal.Width |\n",
       "|---|---|---|---|\n",
       "| 1 | 7.0 | 3.2 | 1.4 |\n",
       "| 1 | 6.4 | 3.2 | 1.5 |\n",
       "| 1 | 6.9 | 3.1 | 1.5 |\n",
       "| 1 | 5.5 | 2.3 | 1.3 |\n",
       "| 1 | 6.5 | 2.8 | 1.5 |\n",
       "| 1 | 5.7 | 2.8 | 1.3 |\n",
       "\n"
      ],
      "text/plain": [
       "     rep(1, nrow(A)) Sepal.Length Sepal.Width Petal.Width\n",
       "[1,] 1               7.0          3.2         1.4        \n",
       "[2,] 1               6.4          3.2         1.5        \n",
       "[3,] 1               6.9          3.1         1.5        \n",
       "[4,] 1               5.5          2.3         1.3        \n",
       "[5,] 1               6.5          2.8         1.5        \n",
       "[6,] 1               5.7          2.8         1.3        "
      ]
     },
     "metadata": {},
     "output_type": "display_data"
    }
   ],
   "source": [
    "head(A)"
   ]
  },
  {
   "cell_type": "code",
   "execution_count": 27,
   "metadata": {},
   "outputs": [
    {
     "data": {
      "text/html": [
       "<table>\n",
       "<caption>A matrix: 3 × 3 of type dbl</caption>\n",
       "<thead>\n",
       "\t<tr><th></th><th scope=col>Sepal.Length</th><th scope=col>Sepal.Width</th><th scope=col>Petal.Width</th></tr>\n",
       "</thead>\n",
       "<tbody>\n",
       "\t<tr><th scope=row>Sepal.Length</th><td>1.0000000</td><td>0.5538548</td><td>0.5937094</td></tr>\n",
       "\t<tr><th scope=row>Sepal.Width</th><td>0.5538548</td><td>1.0000000</td><td>0.5662025</td></tr>\n",
       "\t<tr><th scope=row>Petal.Width</th><td>0.5937094</td><td>0.5662025</td><td>1.0000000</td></tr>\n",
       "</tbody>\n",
       "</table>\n"
      ],
      "text/latex": [
       "A matrix: 3 × 3 of type dbl\n",
       "\\begin{tabular}{r|lll}\n",
       "  & Sepal.Length & Sepal.Width & Petal.Width\\\\\n",
       "\\hline\n",
       "\tSepal.Length & 1.0000000 & 0.5538548 & 0.5937094\\\\\n",
       "\tSepal.Width & 0.5538548 & 1.0000000 & 0.5662025\\\\\n",
       "\tPetal.Width & 0.5937094 & 0.5662025 & 1.0000000\\\\\n",
       "\\end{tabular}\n"
      ],
      "text/markdown": [
       "\n",
       "A matrix: 3 × 3 of type dbl\n",
       "\n",
       "| <!--/--> | Sepal.Length | Sepal.Width | Petal.Width |\n",
       "|---|---|---|---|\n",
       "| Sepal.Length | 1.0000000 | 0.5538548 | 0.5937094 |\n",
       "| Sepal.Width | 0.5538548 | 1.0000000 | 0.5662025 |\n",
       "| Petal.Width | 0.5937094 | 0.5662025 | 1.0000000 |\n",
       "\n"
      ],
      "text/plain": [
       "             Sepal.Length Sepal.Width Petal.Width\n",
       "Sepal.Length 1.0000000    0.5538548   0.5937094  \n",
       "Sepal.Width  0.5538548    1.0000000   0.5662025  \n",
       "Petal.Width  0.5937094    0.5662025   1.0000000  "
      ]
     },
     "metadata": {},
     "output_type": "display_data"
    }
   ],
   "source": [
    "cor(A[,-1])"
   ]
  },
  {
   "cell_type": "code",
   "execution_count": 28,
   "metadata": {},
   "outputs": [],
   "source": [
    "fo <- function(beta){\n",
    "    mat_vec <- A%*%beta\n",
    "    2*sum(log(1+exp(mat_vec))-y_hat*mat_vec)\n",
    "    }"
   ]
  },
  {
   "cell_type": "markdown",
   "metadata": {},
   "source": [
    "### Método de descenso en gradiente"
   ]
  },
  {
   "cell_type": "markdown",
   "metadata": {},
   "source": [
    "Usando $\\beta_0=(1,1,1,1)^T$:"
   ]
  },
  {
   "cell_type": "code",
   "execution_count": 29,
   "metadata": {},
   "outputs": [],
   "source": [
    "beta_0 <- c(1,1,1,1)"
   ]
  },
  {
   "cell_type": "code",
   "execution_count": 30,
   "metadata": {},
   "outputs": [],
   "source": [
    "beta_ast <- glm.out$coefficients\n"
   ]
  },
  {
   "cell_type": "code",
   "execution_count": 31,
   "metadata": {},
   "outputs": [
    {
     "data": {
      "text/html": [
       "<dl class=dl-horizontal>\n",
       "\t<dt>(Intercept)</dt>\n",
       "\t\t<dd>-20.2873288566835</dd>\n",
       "\t<dt>Sepal.Length</dt>\n",
       "\t\t<dd>1.29512927786856</dd>\n",
       "\t<dt>Sepal.Width</dt>\n",
       "\t\t<dd>-4.8232741255399</dd>\n",
       "\t<dt>Petal.Width</dt>\n",
       "\t\t<dd>15.9226604844903</dd>\n",
       "</dl>\n"
      ],
      "text/latex": [
       "\\begin{description*}\n",
       "\\item[(Intercept)] -20.2873288566835\n",
       "\\item[Sepal.Length] 1.29512927786856\n",
       "\\item[Sepal.Width] -4.8232741255399\n",
       "\\item[Petal.Width] 15.9226604844903\n",
       "\\end{description*}\n"
      ],
      "text/markdown": [
       "(Intercept)\n",
       ":   -20.2873288566835Sepal.Length\n",
       ":   1.29512927786856Sepal.Width\n",
       ":   -4.8232741255399Petal.Width\n",
       ":   15.9226604844903\n",
       "\n"
      ],
      "text/plain": [
       " (Intercept) Sepal.Length  Sepal.Width  Petal.Width \n",
       "  -20.287329     1.295129    -4.823274    15.922660 "
      ]
     },
     "metadata": {},
     "output_type": "display_data"
    }
   ],
   "source": [
    "beta_ast"
   ]
  },
  {
   "cell_type": "code",
   "execution_count": 32,
   "metadata": {},
   "outputs": [],
   "source": [
    "p_ast <- fo(beta_ast)"
   ]
  },
  {
   "cell_type": "code",
   "execution_count": 33,
   "metadata": {},
   "outputs": [
    {
     "data": {
      "text/html": [
       "1126.53564957492"
      ],
      "text/latex": [
       "1126.53564957492"
      ],
      "text/markdown": [
       "1126.53564957492"
      ],
      "text/plain": [
       "[1] 1126.536"
      ]
     },
     "metadata": {},
     "output_type": "display_data"
    }
   ],
   "source": [
    "p_ast"
   ]
  },
  {
   "cell_type": "code",
   "execution_count": 34,
   "metadata": {},
   "outputs": [],
   "source": [
    "tol <- 1e-8\n",
    "tol_backtracking <- 1e-14\n",
    "maxiter <- 150\n",
    "p_ast <- fo(beta_ast)\n"
   ]
  },
  {
   "cell_type": "code",
   "execution_count": 35,
   "metadata": {},
   "outputs": [
    {
     "name": "stdout",
     "output_type": "stream",
     "text": [
      "I    Normagf   Error x_ast   Error p_ast   line search\n",
      "1    7.57e+02   1.01e+00      1.32e+02      ---\n",
      "2    6.76e+02   1.02e+00      2.36e+02      0.00390625\n",
      "3    7.45e+01   1.02e+00      9.80e+02      0.001953125\n",
      "4    3.35e+01   1.02e+00      9.81e+02      0.00048828125\n",
      "5    7.26e+01   1.02e+00      9.82e+02      0.001953125\n",
      "6    3.30e+01   1.02e+00      9.83e+02      0.00048828125\n",
      "7    7.13e+01   1.02e+00      9.84e+02      0.001953125\n",
      "8    3.26e+01   1.02e+00      9.85e+02      0.00048828125\n",
      "9    7.04e+01   1.02e+00      9.86e+02      0.001953125\n",
      "10    3.22e+01   1.02e+00      9.87e+02      0.00048828125\n",
      "11    6.99e+01   1.02e+00      9.88e+02      0.001953125\n",
      "12    3.18e+01   1.03e+00      9.89e+02      0.00048828125\n",
      "13    6.95e+01   1.03e+00      9.89e+02      0.001953125\n",
      "14    3.15e+01   1.03e+00      9.91e+02      0.00048828125\n",
      "15    6.93e+01   1.03e+00      9.91e+02      0.001953125\n",
      "16    3.12e+01   1.03e+00      9.92e+02      0.00048828125\n",
      "17    6.91e+01   1.03e+00      9.93e+02      0.001953125\n",
      "18    3.09e+01   1.03e+00      9.94e+02      0.00048828125\n",
      "19    6.89e+01   1.03e+00      9.95e+02      0.001953125\n",
      "20    3.05e+01   1.03e+00      9.96e+02      0.00048828125\n",
      "21    6.86e+01   1.03e+00      9.96e+02      0.001953125\n",
      "22    3.02e+01   1.03e+00      9.97e+02      0.00048828125\n",
      "23    6.80e+01   1.04e+00      9.98e+02      0.001953125\n",
      "24    2.98e+01   1.04e+00      9.99e+02      0.00048828125\n",
      "25    6.72e+01   1.04e+00      1.00e+03      0.001953125\n",
      "26    2.94e+01   1.04e+00      1.00e+03      0.00048828125\n",
      "27    6.60e+01   1.04e+00      1.00e+03      0.001953125\n",
      "28    2.89e+01   1.04e+00      1.00e+03      0.00048828125\n",
      "29    6.44e+01   1.04e+00      1.00e+03      0.001953125\n",
      "30    2.84e+01   1.04e+00      1.00e+03      0.00048828125\n",
      "31    6.24e+01   1.04e+00      1.00e+03      0.001953125\n",
      "32    2.78e+01   1.04e+00      1.01e+03      0.00048828125\n",
      "33    5.99e+01   1.04e+00      1.01e+03      0.001953125\n",
      "34    2.72e+01   1.04e+00      1.01e+03      0.00048828125\n",
      "35    5.71e+01   1.05e+00      1.01e+03      0.001953125\n",
      "36    2.65e+01   1.05e+00      1.01e+03      0.00048828125\n",
      "37    5.38e+01   1.05e+00      1.01e+03      0.001953125\n",
      "38    2.58e+01   1.05e+00      1.01e+03      0.00048828125\n",
      "39    5.02e+01   1.05e+00      1.01e+03      0.001953125\n",
      "40    2.51e+01   1.05e+00      1.01e+03      0.00048828125\n",
      "41    9.41e+01   1.05e+00      1.01e+03      0.00390625\n",
      "42    3.05e+01   1.05e+00      1.01e+03      0.00048828125\n",
      "43    3.73e+01   1.05e+00      1.01e+03      0.0009765625\n",
      "44    4.84e+01   1.05e+00      1.01e+03      0.0009765625\n",
      "45    2.39e+01   1.05e+00      1.01e+03      0.00048828125\n",
      "46    8.23e+01   1.06e+00      1.01e+03      0.00390625\n",
      "47    2.68e+01   1.06e+00      1.02e+03      0.00048828125\n",
      "48    3.13e+01   1.06e+00      1.02e+03      0.0009765625\n",
      "49    3.88e+01   1.06e+00      1.02e+03      0.0009765625\n",
      "50    5.05e+01   1.06e+00      1.02e+03      0.0009765625\n",
      "51    2.31e+01   1.06e+00      1.02e+03      0.00048828125\n",
      "52    8.18e+01   1.06e+00      1.02e+03      0.00390625\n",
      "53    2.56e+01   1.06e+00      1.02e+03      0.00048828125\n",
      "54    6.02e+01   1.06e+00      1.02e+03      0.001953125\n",
      "55    2.31e+01   1.06e+00      1.02e+03      0.00048828125\n",
      "56    4.53e+01   1.06e+00      1.02e+03      0.001953125\n",
      "57    2.16e+01   1.06e+00      1.02e+03      0.00048828125\n",
      "58    6.77e+01   1.07e+00      1.02e+03      0.00390625\n",
      "59    2.29e+01   1.07e+00      1.02e+03      0.00048828125\n",
      "60    4.71e+01   1.07e+00      1.02e+03      0.001953125\n",
      "61    2.10e+01   1.07e+00      1.02e+03      0.00048828125\n",
      "62    6.65e+01   1.07e+00      1.02e+03      0.00390625\n",
      "63    2.19e+01   1.07e+00      1.03e+03      0.00048828125\n",
      "64    4.34e+01   1.07e+00      1.03e+03      0.001953125\n",
      "65    2.00e+01   1.07e+00      1.03e+03      0.00048828125\n",
      "66    5.69e+01   1.07e+00      1.03e+03      0.00390625\n",
      "67    2.03e+01   1.07e+00      1.03e+03      0.00048828125\n",
      "68    7.14e+01   1.08e+00      1.03e+03      0.00390625\n",
      "69    2.07e+01   1.08e+00      1.03e+03      0.00048828125\n",
      "70    4.05e+01   1.08e+00      1.03e+03      0.001953125\n",
      "71    1.87e+01   1.08e+00      1.03e+03      0.00048828125\n",
      "72    9.27e+01   1.08e+00      1.03e+03      0.0078125\n",
      "73    2.05e+01   1.08e+00      1.03e+03      0.00048828125\n",
      "74    4.27e+01   1.08e+00      1.03e+03      0.001953125\n",
      "75    1.78e+01   1.08e+00      1.03e+03      0.00048828125\n",
      "76    8.53e+01   1.09e+00      1.03e+03      0.0078125\n",
      "77    1.86e+01   1.09e+00      1.04e+03      0.00048828125\n",
      "78    3.43e+01   1.09e+00      1.04e+03      0.001953125\n",
      "79    1.66e+01   1.09e+00      1.04e+03      0.00048828125\n",
      "80    1.11e+02   1.10e+00      1.04e+03      0.015625\n",
      "81    1.68e+01   1.10e+00      1.04e+03      0.00048828125\n",
      "82    5.63e+01   1.10e+00      1.04e+03      0.00390625\n",
      "83    1.54e+01   1.10e+00      1.04e+03      0.00048828125\n",
      "84    6.17e+01   1.10e+00      1.04e+03      0.0078125\n",
      "85    1.48e+01   1.10e+00      1.04e+03      0.00048828125\n",
      "86    1.04e+02   1.11e+00      1.04e+03      0.015625\n",
      "87    1.37e+01   1.11e+00      1.05e+03      0.00048828125\n",
      "88    1.16e+02   1.12e+00      1.05e+03      0.03125\n",
      "89    1.27e+01   1.12e+00      1.05e+03      0.00048828125\n",
      "90    5.93e+01   1.13e+00      1.05e+03      0.0078125\n",
      "91    1.18e+01   1.13e+00      1.05e+03      0.00048828125\n",
      "92    8.11e+01   1.14e+00      1.06e+03      0.03125\n",
      "93    1.25e+01   1.14e+00      1.06e+03      0.00048828125\n",
      "94    2.08e+01   1.14e+00      1.06e+03      0.001953125\n",
      "95    1.85e+01   1.14e+00      1.06e+03      0.0009765625\n",
      "96    1.66e+01   1.14e+00      1.06e+03      0.0009765625\n",
      "97    1.51e+01   1.14e+00      1.06e+03      0.0009765625\n",
      "98    1.38e+01   1.14e+00      1.06e+03      0.0009765625\n",
      "99    2.64e+01   1.14e+00      1.06e+03      0.001953125\n",
      "100    2.27e+01   1.14e+00      1.06e+03      0.0009765625\n",
      "101    1.97e+01   1.14e+00      1.06e+03      0.0009765625\n",
      "102    1.73e+01   1.14e+00      1.06e+03      0.0009765625\n",
      "103    1.54e+01   1.14e+00      1.06e+03      0.0009765625\n",
      "104    1.39e+01   1.14e+00      1.06e+03      0.0009765625\n",
      "105    2.69e+01   1.14e+00      1.06e+03      0.001953125\n",
      "106    2.27e+01   1.14e+00      1.06e+03      0.0009765625\n",
      "107    1.94e+01   1.14e+00      1.06e+03      0.0009765625\n",
      "108    1.68e+01   1.14e+00      1.06e+03      0.0009765625\n",
      "109    1.48e+01   1.14e+00      1.06e+03      0.0009765625\n",
      "110    1.33e+01   1.15e+00      1.06e+03      0.0009765625\n",
      "111    2.48e+01   1.15e+00      1.06e+03      0.001953125\n",
      "112    2.07e+01   1.15e+00      1.06e+03      0.0009765625\n",
      "113    1.76e+01   1.15e+00      1.06e+03      0.0009765625\n",
      "114    1.52e+01   1.15e+00      1.06e+03      0.0009765625\n",
      "115    1.35e+01   1.15e+00      1.06e+03      0.0009765625\n",
      "116    2.56e+01   1.15e+00      1.06e+03      0.001953125\n",
      "117    2.11e+01   1.15e+00      1.06e+03      0.0009765625\n",
      "118    1.76e+01   1.15e+00      1.06e+03      0.0009765625\n",
      "119    1.50e+01   1.15e+00      1.06e+03      0.0009765625\n",
      "120    1.32e+01   1.15e+00      1.06e+03      0.0009765625\n",
      "121    2.47e+01   1.15e+00      1.06e+03      0.001953125\n",
      "122    2.00e+01   1.15e+00      1.06e+03      0.0009765625\n",
      "123    1.66e+01   1.15e+00      1.06e+03      0.0009765625\n",
      "124    1.42e+01   1.15e+00      1.06e+03      0.0009765625\n",
      "125    1.25e+01   1.15e+00      1.06e+03      0.0009765625\n",
      "126    2.23e+01   1.15e+00      1.06e+03      0.001953125\n",
      "127    1.81e+01   1.15e+00      1.06e+03      0.0009765625\n",
      "128    1.50e+01   1.15e+00      1.06e+03      0.0009765625\n",
      "129    1.29e+01   1.15e+00      1.06e+03      0.0009765625\n",
      "130    2.40e+01   1.15e+00      1.06e+03      0.001953125\n",
      "131    1.91e+01   1.15e+00      1.06e+03      0.0009765625\n",
      "132    1.55e+01   1.15e+00      1.06e+03      0.0009765625\n",
      "133    1.31e+01   1.15e+00      1.06e+03      0.0009765625\n",
      "134    1.16e+01   1.15e+00      1.06e+03      0.0009765625\n",
      "135    1.94e+01   1.15e+00      1.06e+03      0.001953125\n",
      "136    1.56e+01   1.15e+00      1.06e+03      0.0009765625\n",
      "137    1.31e+01   1.16e+00      1.06e+03      0.0009765625\n",
      "138    1.14e+01   1.16e+00      1.06e+03      0.0009765625\n",
      "139    1.90e+01   1.16e+00      1.06e+03      0.001953125\n",
      "140    1.52e+01   1.16e+00      1.06e+03      0.0009765625\n",
      "141    1.26e+01   1.16e+00      1.06e+03      0.0009765625\n",
      "142    2.33e+01   1.16e+00      1.06e+03      0.001953125\n",
      "143    1.79e+01   1.16e+00      1.06e+03      0.0009765625\n",
      "144    1.43e+01   1.16e+00      1.06e+03      0.0009765625\n",
      "145    1.20e+01   1.16e+00      1.06e+03      0.0009765625\n",
      "146    2.12e+01   1.16e+00      1.06e+03      0.001953125\n",
      "147    1.63e+01   1.16e+00      1.06e+03      0.0009765625\n",
      "148    1.31e+01   1.16e+00      1.06e+03      0.0009765625\n",
      "149    1.12e+01   1.16e+00      1.06e+03      0.0009765625\n",
      "150    1.86e+01   1.16e+00      1.06e+03      0.001953125\n",
      "Error of x with respect to x_ast: 1.16e+00\n",
      "Approximate solution:[1]  1.8626469  0.1295042  1.3965404 -4.0272771\n"
     ]
    }
   ],
   "source": [
    "l<-gradient_descent(fo, beta_0, tol, tol_backtracking, beta_ast, p_ast, maxiter)"
   ]
  },
  {
   "cell_type": "code",
   "execution_count": 36,
   "metadata": {},
   "outputs": [],
   "source": [
    "beta <- l[[1]]\n",
    "total_of_iterations <- l[[2]]\n",
    "Err_plot <- l[[3]]\n",
    "beta_plot <- l[[4]]\n"
   ]
  },
  {
   "cell_type": "code",
   "execution_count": 37,
   "metadata": {},
   "outputs": [
    {
     "name": "stdout",
     "output_type": "stream",
     "text": [
      "[1]  1.8626469  0.1295042  1.3965404 -4.0272771\n"
     ]
    }
   ],
   "source": [
    "print(beta)"
   ]
  },
  {
   "cell_type": "code",
   "execution_count": 38,
   "metadata": {},
   "outputs": [
    {
     "name": "stdout",
     "output_type": "stream",
     "text": [
      " (Intercept) Sepal.Length  Sepal.Width  Petal.Width \n",
      "  -20.287329     1.295129    -4.823274    15.922660 \n"
     ]
    }
   ],
   "source": [
    "print(beta_ast)"
   ]
  },
  {
   "cell_type": "code",
   "execution_count": 39,
   "metadata": {},
   "outputs": [
    {
     "data": {
      "text/html": [
       "1.1600858230089"
      ],
      "text/latex": [
       "1.1600858230089"
      ],
      "text/markdown": [
       "1.1600858230089"
      ],
      "text/plain": [
       "[1] 1.160086"
      ]
     },
     "metadata": {},
     "output_type": "display_data"
    }
   ],
   "source": [
    "compute_error(x_approx = beta,x_obj = beta_ast)"
   ]
  },
  {
   "cell_type": "code",
   "execution_count": 40,
   "metadata": {},
   "outputs": [
    {
     "name": "stdout",
     "output_type": "stream",
     "text": [
      "I    Normagf   Error x_ast   Error p_ast   line search\n",
      "1    7.57e+02   1.01e+00      1.32e+02      ---\n",
      "2    6.52e+02   1.02e+00      6.99e+02      0.00390625\n",
      "3    6.60e+02   1.02e+00      8.11e+02      0.001953125\n",
      "4    2.20e+02   1.02e+00      9.54e+02      0.0009765625\n",
      "5    4.24e+01   1.02e+00      9.65e+02      0.00048828125\n",
      "6    3.25e+01   1.02e+00      9.65e+02      0.00048828125\n",
      "7    1.39e+02   1.02e+00      9.69e+02      0.0078125\n",
      "8    3.22e+01   1.02e+00      9.73e+02      0.00048828125\n",
      "9    1.34e+02   1.03e+00      9.76e+02      0.0078125\n",
      "10    3.07e+01   1.03e+00      9.80e+02      0.00048828125\n",
      "11    1.30e+02   1.03e+00      9.82e+02      0.0078125\n",
      "12    2.93e+01   1.03e+00      9.86e+02      0.00048828125\n",
      "13    1.26e+02   1.04e+00      9.88e+02      0.0078125\n",
      "14    2.80e+01   1.04e+00      9.92e+02      0.00048828125\n",
      "15    1.21e+02   1.04e+00      9.94e+02      0.0078125\n",
      "16    2.68e+01   1.04e+00      9.97e+02      0.00048828125\n",
      "17    1.16e+02   1.04e+00      9.99e+02      0.0078125\n",
      "18    2.58e+01   1.04e+00      1.00e+03      0.00048828125\n",
      "19    1.11e+02   1.05e+00      1.00e+03      0.0078125\n",
      "20    2.48e+01   1.05e+00      1.01e+03      0.00048828125\n",
      "21    1.06e+02   1.05e+00      1.01e+03      0.0078125\n",
      "22    2.38e+01   1.05e+00      1.01e+03      0.00048828125\n",
      "23    1.02e+02   1.06e+00      1.01e+03      0.0078125\n",
      "24    2.30e+01   1.06e+00      1.01e+03      0.00048828125\n",
      "25    9.69e+01   1.06e+00      1.02e+03      0.0078125\n",
      "26    2.22e+01   1.06e+00      1.02e+03      0.00048828125\n",
      "27    9.25e+01   1.06e+00      1.02e+03      0.0078125\n",
      "28    2.16e+01   1.06e+00      1.02e+03      0.00048828125\n",
      "29    8.83e+01   1.07e+00      1.02e+03      0.0078125\n",
      "30    2.09e+01   1.07e+00      1.02e+03      0.00048828125\n",
      "31    8.43e+01   1.07e+00      1.02e+03      0.0078125\n",
      "32    2.04e+01   1.07e+00      1.03e+03      0.00048828125\n",
      "33    8.05e+01   1.07e+00      1.03e+03      0.0078125\n",
      "34    1.99e+01   1.07e+00      1.03e+03      0.00048828125\n",
      "35    7.70e+01   1.07e+00      1.03e+03      0.0078125\n",
      "36    1.94e+01   1.07e+00      1.03e+03      0.00048828125\n",
      "37    7.37e+01   1.08e+00      1.03e+03      0.0078125\n",
      "38    1.90e+01   1.08e+00      1.03e+03      0.00048828125\n",
      "39    7.07e+01   1.08e+00      1.03e+03      0.0078125\n",
      "40    1.87e+01   1.08e+00      1.04e+03      0.00048828125\n",
      "41    6.78e+01   1.08e+00      1.04e+03      0.0078125\n",
      "42    5.25e+01   1.08e+00      1.04e+03      0.0009765625\n",
      "43    1.88e+01   1.08e+00      1.04e+03      0.00048828125\n",
      "44    6.43e+01   1.09e+00      1.04e+03      0.0078125\n",
      "45    4.84e+01   1.09e+00      1.04e+03      0.0009765625\n",
      "46    3.18e+01   1.09e+00      1.04e+03      0.0009765625\n",
      "47    2.74e+01   1.09e+00      1.04e+03      0.0009765625\n",
      "48    6.01e+01   1.09e+00      1.04e+03      0.0078125\n",
      "49    4.37e+01   1.09e+00      1.04e+03      0.0009765625\n",
      "50    2.81e+01   1.09e+00      1.04e+03      0.0009765625\n",
      "51    2.40e+01   1.09e+00      1.04e+03      0.0009765625\n",
      "52    5.63e+01   1.09e+00      1.04e+03      0.0078125\n",
      "53    3.96e+01   1.09e+00      1.04e+03      0.0009765625\n",
      "54    2.51e+01   1.09e+00      1.04e+03      0.0009765625\n",
      "55    2.14e+01   1.09e+00      1.04e+03      0.0009765625\n",
      "56    5.30e+01   1.10e+00      1.04e+03      0.0078125\n",
      "57    3.61e+01   1.10e+00      1.05e+03      0.0009765625\n",
      "58    2.26e+01   1.10e+00      1.05e+03      0.0009765625\n",
      "59    1.92e+01   1.10e+00      1.05e+03      0.0009765625\n",
      "60    5.01e+01   1.10e+00      1.05e+03      0.0078125\n",
      "61    3.31e+01   1.10e+00      1.05e+03      0.0009765625\n",
      "62    2.06e+01   1.10e+00      1.05e+03      0.0009765625\n",
      "63    1.76e+01   1.10e+00      1.05e+03      0.0009765625\n",
      "64    4.76e+01   1.10e+00      1.05e+03      0.0078125\n",
      "65    3.05e+01   1.10e+00      1.05e+03      0.0009765625\n",
      "66    1.89e+01   1.10e+00      1.05e+03      0.0009765625\n",
      "67    1.62e+01   1.10e+00      1.05e+03      0.0009765625\n",
      "68    4.53e+01   1.10e+00      1.05e+03      0.0078125\n",
      "69    2.82e+01   1.10e+00      1.05e+03      0.0009765625\n",
      "70    1.75e+01   1.10e+00      1.05e+03      0.0009765625\n",
      "71    1.51e+01   1.10e+00      1.05e+03      0.0009765625\n",
      "72    4.32e+01   1.11e+00      1.05e+03      0.0078125\n",
      "73    2.61e+01   1.11e+00      1.05e+03      0.0009765625\n",
      "74    1.63e+01   1.11e+00      1.05e+03      0.0009765625\n",
      "75    1.42e+01   1.11e+00      1.05e+03      0.0009765625\n",
      "76    4.14e+01   1.11e+00      1.05e+03      0.0078125\n",
      "77    2.43e+01   1.11e+00      1.05e+03      0.0009765625\n",
      "78    1.53e+01   1.11e+00      1.05e+03      0.0009765625\n",
      "79    1.34e+01   1.11e+00      1.05e+03      0.0009765625\n",
      "80    8.12e+01   1.11e+00      1.05e+03      0.015625\n",
      "81    3.99e+01   1.11e+00      1.05e+03      0.0009765625\n",
      "82    2.07e+01   1.11e+00      1.05e+03      0.0009765625\n",
      "83    1.45e+01   1.11e+00      1.05e+03      0.0009765625\n",
      "84    7.65e+01   1.12e+00      1.05e+03      0.015625\n",
      "85    3.49e+01   1.12e+00      1.06e+03      0.0009765625\n",
      "86    1.77e+01   1.12e+00      1.06e+03      0.0009765625\n",
      "87    1.27e+01   1.12e+00      1.06e+03      0.0009765625\n",
      "88    6.92e+01   1.12e+00      1.06e+03      0.015625\n",
      "89    2.96e+01   1.12e+00      1.06e+03      0.0009765625\n",
      "90    1.51e+01   1.12e+00      1.06e+03      0.0009765625\n",
      "91    1.14e+01   1.12e+00      1.06e+03      0.0009765625\n",
      "92    6.31e+01   1.13e+00      1.06e+03      0.015625\n",
      "93    2.55e+01   1.13e+00      1.06e+03      0.0009765625\n",
      "94    1.33e+01   1.13e+00      1.06e+03      0.0009765625\n",
      "95    1.05e+01   1.13e+00      1.06e+03      0.0009765625\n",
      "96    5.82e+01   1.13e+00      1.06e+03      0.015625\n",
      "97    2.22e+01   1.13e+00      1.06e+03      0.0009765625\n",
      "98    1.20e+01   1.13e+00      1.06e+03      0.0009765625\n",
      "99    1.53e+01   1.13e+00      1.06e+03      0.00390625\n",
      "100    5.82e+01   1.14e+00      1.06e+03      0.015625\n",
      "101    2.03e+01   1.14e+00      1.06e+03      0.0009765625\n",
      "102    1.10e+01   1.14e+00      1.06e+03      0.0009765625\n",
      "103    4.68e+01   1.14e+00      1.06e+03      0.015625\n",
      "104    1.63e+01   1.14e+00      1.06e+03      0.0009765625\n",
      "105    1.01e+01   1.14e+00      1.06e+03      0.0009765625\n",
      "106    4.53e+01   1.14e+00      1.06e+03      0.015625\n",
      "107    1.51e+01   1.14e+00      1.06e+03      0.0009765625\n",
      "108    9.66e+00   1.14e+00      1.06e+03      0.0009765625\n",
      "109    4.35e+01   1.14e+00      1.06e+03      0.015625\n",
      "110    1.40e+01   1.14e+00      1.06e+03      0.0009765625\n",
      "111    9.30e+00   1.14e+00      1.06e+03      0.0009765625\n",
      "112    4.18e+01   1.15e+00      1.06e+03      0.015625\n",
      "113    1.29e+01   1.15e+00      1.06e+03      0.0009765625\n",
      "114    4.43e+01   1.15e+00      1.07e+03      0.015625\n",
      "115    1.25e+01   1.15e+00      1.07e+03      0.0009765625\n",
      "116    8.68e+00   1.15e+00      1.07e+03      0.0009765625\n",
      "117    3.77e+01   1.15e+00      1.07e+03      0.015625\n",
      "118    1.08e+01   1.15e+00      1.07e+03      0.0009765625\n",
      "119    3.91e+01   1.16e+00      1.07e+03      0.015625\n",
      "120    1.03e+01   1.16e+00      1.07e+03      0.0009765625\n",
      "121    3.68e+01   1.16e+00      1.07e+03      0.015625\n",
      "122    9.46e+00   1.16e+00      1.07e+03      0.0009765625\n",
      "123    3.46e+01   1.16e+00      1.07e+03      0.015625\n",
      "124    8.76e+00   1.16e+00      1.07e+03      0.0009765625\n",
      "125    3.27e+01   1.16e+00      1.07e+03      0.015625\n",
      "126    8.22e+00   1.16e+00      1.07e+03      0.0009765625\n",
      "127    3.10e+01   1.17e+00      1.07e+03      0.015625\n",
      "128    7.81e+00   1.17e+00      1.07e+03      0.0009765625\n",
      "129    2.95e+01   1.17e+00      1.07e+03      0.015625\n",
      "130    7.49e+00   1.17e+00      1.07e+03      0.0009765625\n",
      "131    2.82e+01   1.17e+00      1.07e+03      0.015625\n",
      "132    7.25e+00   1.17e+00      1.07e+03      0.0009765625\n",
      "133    2.70e+01   1.17e+00      1.07e+03      0.015625\n",
      "134    7.06e+00   1.17e+00      1.07e+03      0.0009765625\n",
      "135    2.59e+01   1.18e+00      1.07e+03      0.015625\n",
      "136    6.92e+00   1.18e+00      1.07e+03      0.0009765625\n",
      "137    2.50e+01   1.18e+00      1.07e+03      0.015625\n",
      "138    6.80e+00   1.18e+00      1.07e+03      0.0009765625\n",
      "139    2.41e+01   1.18e+00      1.07e+03      0.015625\n",
      "140    6.72e+00   1.18e+00      1.07e+03      0.0009765625\n",
      "141    2.33e+01   1.18e+00      1.07e+03      0.015625\n",
      "142    6.65e+00   1.18e+00      1.07e+03      0.0009765625\n",
      "143    2.26e+01   1.18e+00      1.07e+03      0.015625\n",
      "144    6.60e+00   1.18e+00      1.07e+03      0.0009765625\n",
      "145    1.13e+01   1.18e+00      1.07e+03      0.00390625\n",
      "146    6.84e+00   1.18e+00      1.07e+03      0.0009765625\n",
      "147    1.11e+01   1.18e+00      1.07e+03      0.00390625\n",
      "148    6.79e+00   1.18e+00      1.07e+03      0.0009765625\n",
      "149    1.10e+01   1.18e+00      1.07e+03      0.00390625\n",
      "150    6.75e+00   1.18e+00      1.07e+03      0.0009765625\n",
      "Error of x with respect to x_ast: 1.18e+00\n",
      "Approximate solution:[1]  1.0000000  0.9001877  1.0822751 -5.9667128\n"
     ]
    }
   ],
   "source": [
    "l<-coordinate_descent(fo, beta_0, tol, tol_backtracking, beta_ast, p_ast, maxiter)"
   ]
  },
  {
   "cell_type": "code",
   "execution_count": 41,
   "metadata": {},
   "outputs": [],
   "source": [
    "beta <- l[[1]]\n",
    "total_of_iterations <- l[[2]]\n",
    "Err_plot <- l[[3]]\n",
    "beta_plot <- l[[4]]\n"
   ]
  },
  {
   "cell_type": "code",
   "execution_count": 42,
   "metadata": {},
   "outputs": [
    {
     "name": "stdout",
     "output_type": "stream",
     "text": [
      "[1]  1.0000000  0.9001877  1.0822751 -5.9667128\n"
     ]
    }
   ],
   "source": [
    "print(beta)"
   ]
  },
  {
   "cell_type": "code",
   "execution_count": 43,
   "metadata": {},
   "outputs": [
    {
     "name": "stdout",
     "output_type": "stream",
     "text": [
      " (Intercept) Sepal.Length  Sepal.Width  Petal.Width \n",
      "  -20.287329     1.295129    -4.823274    15.922660 \n"
     ]
    }
   ],
   "source": [
    "print(beta_ast)"
   ]
  },
  {
   "cell_type": "code",
   "execution_count": 44,
   "metadata": {},
   "outputs": [],
   "source": [
    "tol <- 1e-8\n",
    "tol_backtracking <- 1e-14\n",
    "maxiter <- 30\n",
    "p_ast <- fo(beta_ast)\n"
   ]
  },
  {
   "cell_type": "code",
   "execution_count": 45,
   "metadata": {},
   "outputs": [
    {
     "data": {
      "text/html": [
       "<table>\n",
       "<caption>A matrix: 4 × 4 of type dbl</caption>\n",
       "<tbody>\n",
       "\t<tr><td>-0.2273737</td><td>0.0000000</td><td>0.0000000</td><td>0.0000000</td></tr>\n",
       "\t<tr><td> 0.0000000</td><td>0.2273737</td><td>0.2273737</td><td>0.2273737</td></tr>\n",
       "\t<tr><td> 0.0000000</td><td>0.2273737</td><td>0.0000000</td><td>0.0000000</td></tr>\n",
       "\t<tr><td> 0.0000000</td><td>0.2273737</td><td>0.0000000</td><td>0.2273737</td></tr>\n",
       "</tbody>\n",
       "</table>\n"
      ],
      "text/latex": [
       "A matrix: 4 × 4 of type dbl\n",
       "\\begin{tabular}{llll}\n",
       "\t -0.2273737 & 0.0000000 & 0.0000000 & 0.0000000\\\\\n",
       "\t  0.0000000 & 0.2273737 & 0.2273737 & 0.2273737\\\\\n",
       "\t  0.0000000 & 0.2273737 & 0.0000000 & 0.0000000\\\\\n",
       "\t  0.0000000 & 0.2273737 & 0.0000000 & 0.2273737\\\\\n",
       "\\end{tabular}\n"
      ],
      "text/markdown": [
       "\n",
       "A matrix: 4 × 4 of type dbl\n",
       "\n",
       "| -0.2273737 | 0.0000000 | 0.0000000 | 0.0000000 |\n",
       "|  0.0000000 | 0.2273737 | 0.2273737 | 0.2273737 |\n",
       "|  0.0000000 | 0.2273737 | 0.0000000 | 0.0000000 |\n",
       "|  0.0000000 | 0.2273737 | 0.0000000 | 0.2273737 |\n",
       "\n"
      ],
      "text/plain": [
       "     [,1]       [,2]      [,3]      [,4]     \n",
       "[1,] -0.2273737 0.0000000 0.0000000 0.0000000\n",
       "[2,]  0.0000000 0.2273737 0.2273737 0.2273737\n",
       "[3,]  0.0000000 0.2273737 0.0000000 0.0000000\n",
       "[4,]  0.0000000 0.2273737 0.0000000 0.2273737"
      ]
     },
     "metadata": {},
     "output_type": "display_data"
    }
   ],
   "source": [
    "Hessian_approximation(fo,beta_0)"
   ]
  },
  {
   "cell_type": "code",
   "execution_count": 46,
   "metadata": {},
   "outputs": [
    {
     "data": {
      "text/html": [
       "<ol class=list-inline>\n",
       "\t<li>99.9970779957948</li>\n",
       "\t<li>658.783483231673</li>\n",
       "\t<li>297.392443826539</li>\n",
       "\t<li>202.596152121259</li>\n",
       "</ol>\n"
      ],
      "text/latex": [
       "\\begin{enumerate*}\n",
       "\\item 99.9970779957948\n",
       "\\item 658.783483231673\n",
       "\\item 297.392443826539\n",
       "\\item 202.596152121259\n",
       "\\end{enumerate*}\n"
      ],
      "text/markdown": [
       "1. 99.9970779957948\n",
       "2. 658.783483231673\n",
       "3. 297.392443826539\n",
       "4. 202.596152121259\n",
       "\n",
       "\n"
      ],
      "text/plain": [
       "[1]  99.99708 658.78348 297.39244 202.59615"
      ]
     },
     "metadata": {},
     "output_type": "display_data"
    }
   ],
   "source": [
    "gradient_approximation(fo,beta_0)"
   ]
  },
  {
   "cell_type": "code",
   "execution_count": 47,
   "metadata": {},
   "outputs": [],
   "source": [
    "Hessian_evaluation<-function(beta)t(A)%*%(as.vector(exp(A%*%beta)/(1+exp(A%*%beta))^2)*A)"
   ]
  },
  {
   "cell_type": "code",
   "execution_count": 48,
   "metadata": {},
   "outputs": [
    {
     "data": {
      "text/html": [
       "<table>\n",
       "<caption>A matrix: 4 × 4 of type dbl</caption>\n",
       "<thead>\n",
       "\t<tr><th></th><th scope=col>rep(1, nrow(A))</th><th scope=col>Sepal.Length</th><th scope=col>Sepal.Width</th><th scope=col>Petal.Width</th></tr>\n",
       "</thead>\n",
       "<tbody>\n",
       "\t<tr><th scope=row>rep(1, nrow(A))</th><td>0.001465184</td><td>0.008256081</td><td>0.003774895</td><td>0.001920971</td></tr>\n",
       "\t<tr><th scope=row>Sepal.Length</th><td>0.008256081</td><td>0.046954936</td><td>0.021422323</td><td>0.010979585</td></tr>\n",
       "\t<tr><th scope=row>Sepal.Width</th><td>0.003774895</td><td>0.021422323</td><td>0.009873141</td><td>0.005039848</td></tr>\n",
       "\t<tr><th scope=row>Petal.Width</th><td>0.001920971</td><td>0.010979585</td><td>0.005039848</td><td>0.002677457</td></tr>\n",
       "</tbody>\n",
       "</table>\n"
      ],
      "text/latex": [
       "A matrix: 4 × 4 of type dbl\n",
       "\\begin{tabular}{r|llll}\n",
       "  & rep(1, nrow(A)) & Sepal.Length & Sepal.Width & Petal.Width\\\\\n",
       "\\hline\n",
       "\trep(1, nrow(A)) & 0.001465184 & 0.008256081 & 0.003774895 & 0.001920971\\\\\n",
       "\tSepal.Length & 0.008256081 & 0.046954936 & 0.021422323 & 0.010979585\\\\\n",
       "\tSepal.Width & 0.003774895 & 0.021422323 & 0.009873141 & 0.005039848\\\\\n",
       "\tPetal.Width & 0.001920971 & 0.010979585 & 0.005039848 & 0.002677457\\\\\n",
       "\\end{tabular}\n"
      ],
      "text/markdown": [
       "\n",
       "A matrix: 4 × 4 of type dbl\n",
       "\n",
       "| <!--/--> | rep(1, nrow(A)) | Sepal.Length | Sepal.Width | Petal.Width |\n",
       "|---|---|---|---|---|\n",
       "| rep(1, nrow(A)) | 0.001465184 | 0.008256081 | 0.003774895 | 0.001920971 |\n",
       "| Sepal.Length | 0.008256081 | 0.046954936 | 0.021422323 | 0.010979585 |\n",
       "| Sepal.Width | 0.003774895 | 0.021422323 | 0.009873141 | 0.005039848 |\n",
       "| Petal.Width | 0.001920971 | 0.010979585 | 0.005039848 | 0.002677457 |\n",
       "\n"
      ],
      "text/plain": [
       "                rep(1, nrow(A)) Sepal.Length Sepal.Width Petal.Width\n",
       "rep(1, nrow(A)) 0.001465184     0.008256081  0.003774895 0.001920971\n",
       "Sepal.Length    0.008256081     0.046954936  0.021422323 0.010979585\n",
       "Sepal.Width     0.003774895     0.021422323  0.009873141 0.005039848\n",
       "Petal.Width     0.001920971     0.010979585  0.005039848 0.002677457"
      ]
     },
     "metadata": {},
     "output_type": "display_data"
    }
   ],
   "source": [
    "Hessian_evaluation(beta_0)"
   ]
  },
  {
   "cell_type": "code",
   "execution_count": 49,
   "metadata": {},
   "outputs": [
    {
     "data": {
      "text/html": [
       "<table>\n",
       "<caption>A matrix: 4 × 4 of type dbl</caption>\n",
       "<tbody>\n",
       "\t<tr><td>-0.2273737</td><td>0.0000000</td><td>0.0000000</td><td>0.0000000</td></tr>\n",
       "\t<tr><td> 0.0000000</td><td>0.2273737</td><td>0.2273737</td><td>0.2273737</td></tr>\n",
       "\t<tr><td> 0.0000000</td><td>0.2273737</td><td>0.0000000</td><td>0.0000000</td></tr>\n",
       "\t<tr><td> 0.0000000</td><td>0.2273737</td><td>0.0000000</td><td>0.2273737</td></tr>\n",
       "</tbody>\n",
       "</table>\n"
      ],
      "text/latex": [
       "A matrix: 4 × 4 of type dbl\n",
       "\\begin{tabular}{llll}\n",
       "\t -0.2273737 & 0.0000000 & 0.0000000 & 0.0000000\\\\\n",
       "\t  0.0000000 & 0.2273737 & 0.2273737 & 0.2273737\\\\\n",
       "\t  0.0000000 & 0.2273737 & 0.0000000 & 0.0000000\\\\\n",
       "\t  0.0000000 & 0.2273737 & 0.0000000 & 0.2273737\\\\\n",
       "\\end{tabular}\n"
      ],
      "text/markdown": [
       "\n",
       "A matrix: 4 × 4 of type dbl\n",
       "\n",
       "| -0.2273737 | 0.0000000 | 0.0000000 | 0.0000000 |\n",
       "|  0.0000000 | 0.2273737 | 0.2273737 | 0.2273737 |\n",
       "|  0.0000000 | 0.2273737 | 0.0000000 | 0.0000000 |\n",
       "|  0.0000000 | 0.2273737 | 0.0000000 | 0.2273737 |\n",
       "\n"
      ],
      "text/plain": [
       "     [,1]       [,2]      [,3]      [,4]     \n",
       "[1,] -0.2273737 0.0000000 0.0000000 0.0000000\n",
       "[2,]  0.0000000 0.2273737 0.2273737 0.2273737\n",
       "[3,]  0.0000000 0.2273737 0.0000000 0.0000000\n",
       "[4,]  0.0000000 0.2273737 0.0000000 0.2273737"
      ]
     },
     "metadata": {},
     "output_type": "display_data"
    }
   ],
   "source": [
    "Hessian_approximation(fo,beta_0)"
   ]
  },
  {
   "cell_type": "code",
   "execution_count": 50,
   "metadata": {},
   "outputs": [
    {
     "data": {
      "text/html": [
       "4473.44883197712"
      ],
      "text/latex": [
       "4473.44883197712"
      ],
      "text/markdown": [
       "4473.44883197712"
      ],
      "text/plain": [
       "[1] 4473.449"
      ]
     },
     "metadata": {},
     "output_type": "display_data"
    }
   ],
   "source": [
    "kappa(Hessian_evaluation(beta_0))"
   ]
  },
  {
   "cell_type": "code",
   "execution_count": 51,
   "metadata": {},
   "outputs": [
    {
     "name": "stdout",
     "output_type": "stream",
     "text": [
      "[1] \"Newtons direction and Newtons decrement\"\n",
      "I    Normagf   Error x_ast   Error p_ast   line search    condHf\n",
      "1    7.57e+02   1.01e+00      1.32e+02      ---\n",
      "2    1.93e+02   1.01e+00      9.41e+02      9.77e-04    7.05e+03\n",
      "3    9.70e+01   1.26e+00      1.08e+03      1.00e+00    5.79e+03\n",
      "4    3.08e+01   1.46e+00      1.09e+03      1.00e+00    7.18e+03\n",
      "5    9.25e+00   1.68e+00      1.10e+03      1.00e+00    7.50e+03\n",
      "6    1.52e+00   1.84e+00      1.10e+03      1.00e+00    6.27e+03\n",
      "7    7.86e-02   1.92e+00      1.10e+03      1.00e+00    1.69e+04\n",
      "8    1.28e-01   2.02e+00      1.10e+03      1.00e+00    7.21e+03\n",
      "9    9.80e-03   2.01e+00      1.10e+03      1.00e+00    6.71e+04\n",
      "10    4.83e-03   2.00e+00      1.10e+03      2.50e-01    8.13e+03\n",
      "11    8.75e-04   2.00e+00      1.10e+03      1.00e+00    9.03e+04\n",
      "Error of x with respect to x_ast: 2.00e+00\n",
      "Approximate solution:[1]  20.262418  -1.292617   4.822189 -15.915167\n"
     ]
    }
   ],
   "source": [
    "l<-Newtons_method(fo, beta_0, tol, tol_backtracking, beta_ast, p_ast, maxiter)"
   ]
  },
  {
   "cell_type": "code",
   "execution_count": 52,
   "metadata": {},
   "outputs": [],
   "source": [
    "beta <- l[[1]]\n",
    "total_of_iterations <- l[[2]]\n",
    "Err_plot <- l[[3]]\n",
    "beta_plot <- l[[4]]\n"
   ]
  },
  {
   "cell_type": "code",
   "execution_count": 53,
   "metadata": {},
   "outputs": [
    {
     "name": "stdout",
     "output_type": "stream",
     "text": [
      "[1]  20.262418  -1.292617   4.822189 -15.915167\n"
     ]
    }
   ],
   "source": [
    "print(beta)"
   ]
  },
  {
   "cell_type": "code",
   "execution_count": 54,
   "metadata": {},
   "outputs": [
    {
     "name": "stdout",
     "output_type": "stream",
     "text": [
      " (Intercept) Sepal.Length  Sepal.Width  Petal.Width \n",
      "  -20.287329     1.295129    -4.823274    15.922660 \n"
     ]
    }
   ],
   "source": [
    "print(beta_ast)"
   ]
  },
  {
   "cell_type": "code",
   "execution_count": null,
   "metadata": {},
   "outputs": [],
   "source": []
  }
 ],
 "metadata": {
  "kernelspec": {
   "display_name": "R",
   "language": "R",
   "name": "ir"
  },
  "language_info": {
   "codemirror_mode": "r",
   "file_extension": ".r",
   "mimetype": "text/x-r-source",
   "name": "R",
   "pygments_lexer": "r",
   "version": "3.6.2"
  }
 },
 "nbformat": 4,
 "nbformat_minor": 4
}
