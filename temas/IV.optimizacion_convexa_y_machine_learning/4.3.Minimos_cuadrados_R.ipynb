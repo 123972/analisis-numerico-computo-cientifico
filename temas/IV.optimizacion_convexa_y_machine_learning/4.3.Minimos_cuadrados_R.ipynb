{
 "cells": [
  {
   "cell_type": "markdown",
   "metadata": {},
   "source": [
    "**Notas para contenedor de docker:**"
   ]
  },
  {
   "cell_type": "markdown",
   "metadata": {},
   "source": [
    "Comando de docker para ejecución de la nota de forma local:\n",
    "\n",
    "nota: cambiar `<ruta a mi directorio>` por la ruta de directorio que se desea mapear a `/datos` dentro del contenedor de docker.\n",
    "\n",
    "```\n",
    "docker run --rm -v <ruta a mi directorio>:/datos --name jupyterlab_r_kernel_local -p 8888:8888 -d palmoreck/jupyterlab_r_kernel:1.1.0\n",
    "```\n",
    "\n",
    "password para jupyterlab: `qwerty`\n",
    "\n",
    "Detener el contenedor de docker:\n",
    "\n",
    "```\n",
    "docker stop jupyterlab_r_kernel_local\n",
    "```\n"
   ]
  },
  {
   "cell_type": "markdown",
   "metadata": {},
   "source": [
    "Documentación de la imagen de docker `palmoreck/jupyterlab_r_kernel:1.1.0` en [liga](https://github.com/palmoreck/dockerfiles/tree/master/jupyterlab/r_kernel)."
   ]
  },
  {
   "cell_type": "markdown",
   "metadata": {},
   "source": [
    "---"
   ]
  },
  {
   "cell_type": "markdown",
   "metadata": {},
   "source": [
    "Nota generada a partir de [liga1](https://www.dropbox.com/s/kns8on2z8f0gva3/Computo-matricial.pdf?dl=0) y [liga2](https://www.dropbox.com/s/6isby5h1e5f2yzs/4.2.Problemas_de_optimizacion_convexa.pdf?dl=0) "
   ]
  },
  {
   "cell_type": "markdown",
   "metadata": {},
   "source": [
    "En esta nota revisamos a los **mínimos cuadrados lineales con y sin regularización**. La **regularización** que revisamos es la de **[Tikhonov](https://en.wikipedia.org/wiki/Tikhonov_regularization)** también nombrada $\\ell_2$ o ***ridge*** y la $\\ell_1$ o también conocida como **[*lasso*](https://en.wikipedia.org/wiki/Lasso_(statistics)** (Tibshirani, 1996). Se revisan los modelos anteriores desde el punto de vista numérico, no de interpretabilidad y se comparan los resultados del paquete [glmnet stanford](https://web.stanford.edu/~hastie/glmnet/glmnet_alpha.html), [glmnet cran](https://cran.r-project.org/web/packages/glmnet/index.html) de R con los obtenidos en la implementación hecha por el prof en [algoritmos/R](algoritmos/R), en específico [algoritmos/R/algorithms_for_uco.R](https://github.com/ITAM-DS/analisis-numerico-computo-cientifico/blob/master/temas/IV.optimizacion_convexa_y_machine_learning/algoritmos/R/algorithms_for_uco.R) para problemas tipo UCO (Unconstrained Convex Optimization). "
   ]
  },
  {
   "cell_type": "markdown",
   "metadata": {},
   "source": [
    "# Mínimos cuadrados\n",
    "\n",
    "Obsérvese que hay una gran cantidad de modelos por mínimos cuadrados, por ejemplo:\n",
    "\n",
    "* [Lineales](https://en.wikipedia.org/wiki/Linear_least_squares) u [ordinarios](https://en.wikipedia.org/wiki/Ordinary_least_squares) (nombre más usado en Estadística y Econometría).\n",
    "\n",
    "* [Generalizados](https://en.wikipedia.org/wiki/Generalized_least_squares), [ponderados](https://en.wikipedia.org/wiki/Weighted_least_squares).\n",
    "\n",
    "* [No lineales](https://en.wikipedia.org/wiki/Non-linear_least_squares).\n",
    "\n",
    "* [Totales](https://en.wikipedia.org/wiki/Total_least_squares) y [parciales](https://en.wikipedia.org/wiki/Partial_least_squares_regression).\n",
    "\n",
    "* [No negativos](https://en.wikipedia.org/wiki/Non-negative_least_squares).\n",
    "\n",
    "* [Rango reducido](https://epubs.siam.org/doi/abs/10.1137/1.9780898718867.ch7).\n"
   ]
  },
  {
   "cell_type": "markdown",
   "metadata": {},
   "source": [
    "# Mínimos cuadrados lineales"
   ]
  },
  {
   "cell_type": "markdown",
   "metadata": {},
   "source": [
    "Cada uno de los modelos anteriores tienen diversas aplicaciones y propósitos. Los lineales son un caso particular del problema más general de **aproximación por normas**:\n",
    "\n",
    "$$\\displaystyle \\min_{x \\in \\mathbb{R}^n} ||Ax-b||$$\n",
    "\n",
    "donde: $A \\in \\mathbb{R}^{m \\times n}$, $b \\in \\mathbb{R}^m$ son datos del problema, $x \\in \\mathbb{R}^n$ es la variable de optimización y $|| \\cdot||$ es una norma en $\\mathbb{R}^m$. $x^* = \\text{argmin}_{x \\in \\mathbb{R}^n} ||Ax-b||$ se le nombra **solución aproximada** de $Ax \\approx b$ en la norma $|| \\cdot ||$. El vector: $r(x) = Ax -b$ se le nombra **residual** del problema.\n",
    "\n",
    "**Comentario:** el problema de aproximación por normas también se le nombra **problema de regresión**. En este contexto, los vectores $a_1, a_2, \\dots, a_n$ (columnas de $A$) son nombradas regresoras y el vector $\\displaystyle \\sum_{j=1}^n x_j^*aj$ con $x^*$ óptimo del problema es nombrado la **regresión de $b$ sobre las regresoras**.\n"
   ]
  },
  {
   "cell_type": "markdown",
   "metadata": {},
   "source": [
    "Si en el problema de aproximación de normas anterior se utiliza la norma Euclidiana o norma $2$, $|| \\cdot ||_2$, y se eleva al cuadrado la función objetivo se tiene:\n",
    "\n",
    "$$\\displaystyle \\min_{x \\in \\mathbb{R}^n} ||Ax-b||^2_2$$\n",
    "\n",
    "que es el modelo por mínimos cuadrados lineales cuyo objetivo es minimizar la suma de cuadrados de las componentes del residual $r(x)$.\n"
   ]
  },
  {
   "cell_type": "markdown",
   "metadata": {},
   "source": [
    "**En lo que continúa la variable de optimización será $\\beta$ y no $x$**:"
   ]
  },
  {
   "cell_type": "markdown",
   "metadata": {},
   "source": [
    "Supóngase que se han realizado mediciones de un fenómeno de interés en diferentes puntos $x_i$'s resultando en cantidades $y_i$'s $\\forall i=0,1,\\dots, m$ (se tienen $m+1$ puntos) y además las $y_i$'s contienen un ruido aleatorio causado por errores de medición:"
   ]
  },
  {
   "cell_type": "markdown",
   "metadata": {},
   "source": [
    "<img src=\"https://dl.dropboxusercontent.com/s/iydpi0m8ndqzb0s/mcuadrados_1.jpg?dl=0\" heigth=\"350\" width=\"350\">\n"
   ]
  },
  {
   "cell_type": "markdown",
   "metadata": {},
   "source": [
    "El objetivo de los mínimos cuadrados es construir una curva, $f(x|\\beta)$ que \"mejor\" se ajuste a los datos $(x_i,y_i)$, $\\forall i=0,1,\\dots,m$. El término de \"mejor\" se refiere a que la suma: $$\\displaystyle \\sum_{i=0}^m (y_i -f(x_i|\\beta))^2$$ sea lo más pequeña posible, esto es, a que la suma de las distancias verticales entre $y_i$ y $f(x_i|\\beta)$ $\\forall i=0,1,\\dots,m$ al cuadrado sea mínima:"
   ]
  },
  {
   "cell_type": "markdown",
   "metadata": {},
   "source": [
    "<img src=\"https://dl.dropboxusercontent.com/s/0dhzv336jj6ep4z/mcuadrados_2.jpg?dl=0\" heigth=\"350\" width=\"350\">\n"
   ]
  },
  {
   "cell_type": "markdown",
   "metadata": {},
   "source": [
    "**Obs:**\n",
    "\n",
    "* La notación $f(x|\\beta)$ se utiliza para denotar que $\\beta$ es un vector de parámetros a estimar, en específico $\\beta_0, \\beta_1, \\dots \\beta_n$, esto es: $n+1$ parámetros a estimar."
   ]
  },
  {
   "cell_type": "markdown",
   "metadata": {},
   "source": [
    "Si $m=3$ y $A \\in \\mathbb{R}^{3 \\times 2}$ geométricamente el problema de mínimos cuadrados se puede visualizar con el siguiente dibujo:"
   ]
  },
  {
   "cell_type": "markdown",
   "metadata": {},
   "source": [
    "<img src=\"https://dl.dropboxusercontent.com/s/a6pjx0pdqa3cp60/mc_beta.png?dl=0\" heigth=\"400\" width=\"400\">\n"
   ]
  },
  {
   "cell_type": "markdown",
   "metadata": {},
   "source": [
    "donde: $r(\\beta) = y-A\\beta$, el vector $y \\in \\mathbb{R}^m$ contiene las entradas $y_i$'s y la matriz $A \\in \\mathbb{R}^{m \\times n}$ contiene a las entradas $x_i$'s o funciones de éstas $\\forall i=0,1,\\dots,m$.. Por el dibujo se tiene que cumplir que $A^Tr(\\beta)=0$, esto es: las columnas de $A$ son ortogonales a $r(\\beta)$. La ecuación anterior conduce a las **ecuaciones normales**: \n",
    "\n",
    "$$0=A^Tr(\\beta)=A^T(y-A\\beta)=A^Ty-A^TA\\beta.$$"
   ]
  },
  {
   "cell_type": "markdown",
   "metadata": {},
   "source": [
    "Finalmente, considerando la variable de optimización $\\beta$ y al vector $y$ tenemos: $A^TA \\beta = A^Ty$."
   ]
  },
  {
   "cell_type": "markdown",
   "metadata": {},
   "source": [
    "* En los mínimos cuadrados lineales se supone:  $f(x|\\beta) = \\displaystyle \\sum_{j=0}^n\\beta_j\\phi_j(x)$ con $\\phi_j: \\mathbb{R} \\rightarrow \\mathbb{R}$ funciones conocidas por lo que se tiene una gran flexibilidad para el proceso de ajuste."
   ]
  },
  {
   "cell_type": "markdown",
   "metadata": {},
   "source": [
    "* La función objetivo en los mínimos cuadrados lineales puede escribirse de las siguientes formas:\n",
    "\n",
    "$$f_o(\\beta)=\\displaystyle \\sum_{i=1}^{20} (y_i -f_o(x_i|\\beta))^2 = \\displaystyle \\sum_{i=1}^{20} (y_i - A[i,:]^T\\beta)^2 = ||y - A \\beta||_2^2= (y-A\\beta)^T(y-A\\beta) = y^Ty-2\\beta^TA^Ty + \\beta^TA^TA\\beta$$"
   ]
  },
  {
   "cell_type": "markdown",
   "metadata": {},
   "source": [
    "con $A[i,:]$ $i$-ésimo renglón de $A$ visto como un vector en $\\mathbb{R}^n$. Y es común dividir por $2$ la función objetivo para finalmente tener el problema:\n",
    "\n",
    "$$\\displaystyle \\min_{\\beta \\in \\mathbb{R}^n} \\quad \\frac{1}{2}y^Ty-\\beta^TA^Ty + \\frac{1}{2}\\beta^TA^TA\\beta.$$\n",
    "\n",
    "En cualquier reescritura de la función $f_o$, el problema de aproximación con normas, o bien en su caso particular de mínimos cuadrados, es un problema de **optimización convexa** (ver [4.1.Optimizacion_numerica_y_machine_learning](https://github.com/ITAM-DS/analisis-numerico-computo-cientifico/blob/master/temas/IV.optimizacion_convexa_y_machine_learning/4.1.Optimizacion_numerica_y_machine_learning.ipynb))."
   ]
  },
  {
   "cell_type": "markdown",
   "metadata": {},
   "source": [
    "## Regularización"
   ]
  },
  {
   "cell_type": "markdown",
   "metadata": {},
   "source": [
    "En lo que sigue se adopta una nomenclatura similar utilizada en el paquete [glmnet](https://web.stanford.edu/~hastie/glmnet/glmnet_alpha.html) de R."
   ]
  },
  {
   "cell_type": "markdown",
   "metadata": {},
   "source": [
    "Una técnica muy utilizada en el contexto de *machine learning* es la regularización que tiene diferentes efectos en la solución de los problemas que surgen en esta área (por ejemplo lidiar con multicolinealidad entre variables, ver [Multicollinearity](https://en.wikipedia.org/wiki/Multicollinearity), o el sobre ajuste, ver [Overfitting](https://en.wikipedia.org/wiki/Overfitting)) . La regularización es un **caso particular** del problema más general de **optimización multicriterio, multiobjetivo, vectorial o también nombrada Pareto**, ver [Multi objective optimization](https://en.wikipedia.org/wiki/Multi-objective_optimization). \n",
    "\n",
    "Al añadir regularización al problema de aproximación por normas, se obtiene un problema de optimización *bi criterion* en el que además de minimizar la norma $||A\\beta-y||$, se tiene que encontrar $\\beta \\in \\mathbb{R}^n$ con norma $||\\cdot||$ lo más pequeña posible. Esto es, se debe resolver el siguiente problema de **optimización convexa** con dos objetivos $||A\\beta-y||$, $||\\beta||$:\n",
    "\n",
    "$$\\displaystyle \\min (||A\\beta-y||,||\\beta||)$$\n",
    "\n",
    "respecto a $\\mathbb{R}^2_+ = \\{(u,v) \\in \\mathbb{R}^2 : u \\geq 0, v \\geq 0\\}$.\n",
    "\n",
    "**Comentario:** en este problema se tiene el *tradeoff* entre tener $||\\beta||$ mínima y $||A\\beta-y||$ \"grande\" o mínima $||A\\beta-y||$ y $||\\beta||$ \"grande\"."
   ]
  },
  {
   "cell_type": "markdown",
   "metadata": {},
   "source": [
    "La regularización es una técnica para resolver el problema anterior pues se propone una función objetivo como una **suma ponderada** de los dos objetivos anteriores:\n",
    "\n",
    "$$\\displaystyle \\min_{\\beta \\in \\mathbb{R}^n} ||A\\beta-y|| + \\lambda ||\\beta||$$\n",
    "\n",
    "donde: $\\lambda > 0 $ es un **parámetro** del problema. En esta formulación $\\lambda$ varía en $(0, \\infty)$ y permite realizar el *tradeoff* en el tamaño entre $||A\\beta-y||$ vs $||\\beta||$ descrito anteriormente.\n"
   ]
  },
  {
   "cell_type": "markdown",
   "metadata": {},
   "source": [
    "Entre las elecciones de norma más populares para el problema de regresión con regularización están:\n",
    "\n",
    "* La norma $2$ o $\\ell_2$ o Euclidiana que da lugar a la regularización [Tikhonov](https://en.wikipedia.org/wiki/Tikhonov_regularization) o *ridge*: \n",
    "\n",
    "$$\\displaystyle \\min_{\\beta \\in \\mathbb{R}^n} ||A\\beta-y||_2^2 + \\lambda ||\\beta||_2^2 = \\beta^T(A^TA + \\lambda I )\\beta - 2\\beta^TAy + y^Ty$$\n",
    "\n",
    "donde: $I$ es la matriz identidad. Este problema **siempre** tiene solución (aún si $A$ es de $rank$ incompleto) pues $A^TA + \\lambda I$ es una matriz definida positiva para $\\lambda >0$. La solución está dada por: $\\beta^* = (A^TA + \\lambda I)^{-1}A^Ty$."
   ]
  },
  {
   "cell_type": "markdown",
   "metadata": {},
   "source": [
    "* La norma $1$ o $\\ell_1$ o del [taxi](https://en.wikipedia.org/wiki/Taxicab_geometry) que produce la regularización conocida como **[*lasso*](https://en.wikipedia.org/wiki/Lasso_(statistics)** (Tibshirani, 1996):\n",
    "\n",
    "$$\\displaystyle \\min_{\\beta \\in \\mathbb{R}^n} ||A\\beta-y||_2^2 + \\lambda ||\\beta||_1$$"
   ]
  },
  {
   "cell_type": "markdown",
   "metadata": {},
   "source": [
    "**Comentario:** es posible probar que los problemas anteriores son equivalentes a:\n",
    "\n",
    "$$\\displaystyle \\min_{\\beta \\in \\mathbb{R}^n} ||A\\beta-y||_2^2$$\n",
    "\n"
   ]
  },
  {
   "cell_type": "markdown",
   "metadata": {},
   "source": [
    "$$\\text{sujeto a: } ||\\beta||^2_2 \\leq 1$$"
   ]
  },
  {
   "cell_type": "markdown",
   "metadata": {},
   "source": [
    "para el caso de *ridge* y:"
   ]
  },
  {
   "cell_type": "markdown",
   "metadata": {},
   "source": [
    "$$\\displaystyle \\min_{\\beta \\in \\mathbb{R}^n} ||A\\beta-y||_2^2$$"
   ]
  },
  {
   "cell_type": "markdown",
   "metadata": {},
   "source": [
    "$$\\text{sujeto a: } ||\\beta||_1 \\leq 1.$$"
   ]
  },
  {
   "cell_type": "markdown",
   "metadata": {},
   "source": [
    "para el caso de *lasso*. Las formulaciones anteriores ayudan a visualizar lo que en el proceso de optimización se está buscando:"
   ]
  },
  {
   "cell_type": "markdown",
   "metadata": {},
   "source": [
    "<img src=\"https://dl.dropboxusercontent.com/s/lw3h8aw21yr2qhp/lasso-ridge-regularization.png?dl=0\" heigth=\"500\" width=\"500\">\n",
    "\n",
    "\n",
    "en el dibujo anterior las curvas de nivel de la función objetivo (convexa) se representan como elipses y la variable de optimización es $\\beta \\in \\mathbb{R}^2$. Del lado izquierdo tenemos la bola unitaria bajo la norma $1$ que corresponde a la regularización *lasso* y del lado derecho la bola unitaria bajo la norma $2$ que corresponde a la regularización *ridge*. En ambos dibujos se observa que la solución está dada por $\\beta^*$ y que resulta de la intersección de la curva de nivel que toca a la bola unitaria respectiva."
   ]
  },
  {
   "cell_type": "markdown",
   "metadata": {},
   "source": [
    "* [*Elastic net*](https://www.rdocumentation.org/packages/glmnet/versions/3.0-2/topics/glmnet):\n",
    "\n",
    "$$\\displaystyle \\min_{\\beta \\in \\mathbb{R}^n} ||A\\beta-y||_2^2 + \\lambda ((1-\\alpha)||\\beta||^2_2 + \\alpha ||\\beta||_1)$$\n",
    "\n",
    "para valores $\\alpha \\in [0,1]$. Obsérvese si $\\alpha = 0$ se tiene la regularización *ridge* y si $\\alpha=1$ se tiene la regularización *lasso*. Este tipo de regularización realiza un equilibrio entre ambas regularizaciones."
   ]
  },
  {
   "cell_type": "markdown",
   "metadata": {},
   "source": [
    "## Ejemplos"
   ]
  },
  {
   "cell_type": "code",
   "execution_count": 3,
   "metadata": {},
   "outputs": [
    {
     "name": "stderr",
     "output_type": "stream",
     "text": [
      "also installing the dependencies ‘iterators’, ‘foreach’, ‘shape’\n",
      "\n",
      "\n"
     ]
    }
   ],
   "source": [
    "install.packages(c(\"latex2exp\",\"glmnet\"),lib=\"/usr/local/lib/R/site-library/\",\n",
    "                repos=\"https://cran.itam.mx/\")"
   ]
  },
  {
   "cell_type": "markdown",
   "metadata": {},
   "source": [
    "### Ejemplo sin regularización vía descenso en gradiente"
   ]
  },
  {
   "cell_type": "markdown",
   "metadata": {},
   "source": [
    "**En este primer ejemplo no usamos regularización, es un problema de mínimos cuadrados lineales.**"
   ]
  },
  {
   "cell_type": "code",
   "execution_count": 1,
   "metadata": {},
   "outputs": [],
   "source": [
    "#load numerical differentiation\n",
    "#load utils\n",
    "#load algorithms for unconstrained convex optimization\n",
    "#load line search\n",
    "dir_R=\"algoritmos/R\"\n",
    "source(paste(dir_R,\"/numerical_differentiation.R\", \n",
    "             sep=\"\"))\n",
    "source(paste(dir_R,\"/utils.R\", \n",
    "             sep=\"\"))\n",
    "source(paste(dir_R,\"/algorithms_for_uco.R\", \n",
    "             sep=\"\"))\n",
    "source(paste(dir_R,\"/line_search.R\",\n",
    "             sep=\"\"))"
   ]
  },
  {
   "cell_type": "code",
   "execution_count": 2,
   "metadata": {},
   "outputs": [
    {
     "name": "stderr",
     "output_type": "stream",
     "text": [
      "Loading required package: Matrix\n",
      "\n",
      "Loaded glmnet 3.0-2\n",
      "\n",
      "\n",
      "\n",
      "Attaching package: ‘dplyr’\n",
      "\n",
      "\n",
      "The following objects are masked from ‘package:stats’:\n",
      "\n",
      "    filter, lag\n",
      "\n",
      "\n",
      "The following objects are masked from ‘package:base’:\n",
      "\n",
      "    intersect, setdiff, setequal, union\n",
      "\n",
      "\n"
     ]
    }
   ],
   "source": [
    "library(ggplot2)\n",
    "library(latex2exp)\n",
    "library(glmnet)\n",
    "library(magrittr)\n",
    "library(dplyr)"
   ]
  },
  {
   "cell_type": "markdown",
   "metadata": {},
   "source": [
    "Generamos puntos pseudo aleatorios:"
   ]
  },
  {
   "cell_type": "code",
   "execution_count": 3,
   "metadata": {},
   "outputs": [],
   "source": [
    "set.seed(1989) #para reproducibilidad\n",
    "mpoints <- 20\n",
    "df <-  data.frame(x=rnorm(mpoints))\n",
    "y <- -3*df$x + rnorm(mpoints,2,1)\n",
    "df$y <- y"
   ]
  },
  {
   "cell_type": "code",
   "execution_count": 4,
   "metadata": {},
   "outputs": [],
   "source": [
    "gg <- ggplot(data=df, aes(x=x, y=y))"
   ]
  },
  {
   "cell_type": "code",
   "execution_count": 5,
   "metadata": {},
   "outputs": [
    {
     "data": {
      "image/png": "[encoded data removed]",
      "text/plain": [
       "plot without title"
      ]
     },
     "metadata": {
      "image/png": {
       "height": 420,
       "width": 420
      }
     },
     "output_type": "display_data"
    }
   ],
   "source": [
    "gg + \n",
    "geom_point(aes(x=x,y=y),size=2)"
   ]
  },
  {
   "cell_type": "markdown",
   "metadata": {},
   "source": [
    "Usamos la función [lm](https://www.rdocumentation.org/packages/stats/versions/3.6.2/topics/lm) del paquete `stats` de R para ajustar un modelo de regresión lineal:"
   ]
  },
  {
   "cell_type": "code",
   "execution_count": 6,
   "metadata": {},
   "outputs": [],
   "source": [
    "linear_model <- lm(df$y~df$x)"
   ]
  },
  {
   "cell_type": "code",
   "execution_count": 7,
   "metadata": {},
   "outputs": [
    {
     "name": "stdout",
     "output_type": "stream",
     "text": [
      "(Intercept)        df$x \n",
      "   1.565663   -2.810582 \n"
     ]
    }
   ],
   "source": [
    "print(linear_model$coefficients)"
   ]
  },
  {
   "cell_type": "code",
   "execution_count": 8,
   "metadata": {},
   "outputs": [
    {
     "data": {
      "image/png": "[encoded data removed]",
      "text/plain": [
       "plot without title"
      ]
     },
     "metadata": {
      "image/png": {
       "height": 420,
       "width": 420
      }
     },
     "output_type": "display_data"
    }
   ],
   "source": [
    "gg +\n",
    "geom_point(aes(x=x,y=y),size=2) +\n",
    "geom_smooth(method='lm',colour='red')"
   ]
  },
  {
   "cell_type": "markdown",
   "metadata": {},
   "source": [
    "**Aplicamos el método de descenso en gradiente para comparación con lo calculado vía `lm`**"
   ]
  },
  {
   "cell_type": "markdown",
   "metadata": {},
   "source": [
    "Recordamos que el problema de optimización es: $$\\displaystyle \\min_{\\beta \\in \\mathbb{R}^n} \\quad \\frac{1}{2}y^Ty-\\beta^TA^Ty + \\frac{1}{2}\\beta^TA^TA\\beta$$"
   ]
  },
  {
   "cell_type": "code",
   "execution_count": 9,
   "metadata": {},
   "outputs": [],
   "source": [
    "cte <- sum(y*y)"
   ]
  },
  {
   "cell_type": "code",
   "execution_count": 10,
   "metadata": {},
   "outputs": [],
   "source": [
    "A <- matrix(c(rep(1,mpoints),df$x),nrow=mpoints)"
   ]
  },
  {
   "cell_type": "markdown",
   "metadata": {},
   "source": [
    "**Función objetivo:**"
   ]
  },
  {
   "cell_type": "code",
   "execution_count": 11,
   "metadata": {},
   "outputs": [],
   "source": [
    "fo <-function(beta)1/2*cte - sum(beta*(t(A)%*%y)) + 1/2*sum(beta*(t(A)%*%(A%*%beta)))\n"
   ]
  },
  {
   "cell_type": "markdown",
   "metadata": {},
   "source": [
    "**Punto inicial $\\beta_0=(0,0)^T$:**"
   ]
  },
  {
   "cell_type": "code",
   "execution_count": 12,
   "metadata": {},
   "outputs": [],
   "source": [
    "beta_0 <- matrix(c(0,0),nrow=2)"
   ]
  },
  {
   "cell_type": "code",
   "execution_count": 13,
   "metadata": {},
   "outputs": [],
   "source": [
    "beta_ast <- c(linear_model$coefficients[1],linear_model$coefficients[2])\n"
   ]
  },
  {
   "cell_type": "markdown",
   "metadata": {},
   "source": [
    "**$\\beta^*$ (punto óptimo)**:"
   ]
  },
  {
   "cell_type": "code",
   "execution_count": 14,
   "metadata": {},
   "outputs": [
    {
     "name": "stdout",
     "output_type": "stream",
     "text": [
      "(Intercept)        df$x \n",
      "   1.565663   -2.810582 \n"
     ]
    }
   ],
   "source": [
    "print(beta_ast)"
   ]
  },
  {
   "cell_type": "markdown",
   "metadata": {},
   "source": [
    "**$p^*$ (valor óptimo)**:"
   ]
  },
  {
   "cell_type": "code",
   "execution_count": 15,
   "metadata": {},
   "outputs": [],
   "source": [
    "p_ast <- fo(beta_ast)"
   ]
  },
  {
   "cell_type": "code",
   "execution_count": 16,
   "metadata": {},
   "outputs": [
    {
     "data": {
      "text/html": [
       "11.1174998924303"
      ],
      "text/latex": [
       "11.1174998924303"
      ],
      "text/markdown": [
       "11.1174998924303"
      ],
      "text/plain": [
       "[1] 11.1175"
      ]
     },
     "metadata": {},
     "output_type": "display_data"
    }
   ],
   "source": [
    "p_ast"
   ]
  },
  {
   "cell_type": "markdown",
   "metadata": {},
   "source": [
    "**argumentos para el método de descenso en gradiente:**"
   ]
  },
  {
   "cell_type": "code",
   "execution_count": 17,
   "metadata": {},
   "outputs": [],
   "source": [
    "tol <- 1e-8\n",
    "tol_backtracking <- 1e-14\n",
    "maxiter <- 30\n"
   ]
  },
  {
   "cell_type": "code",
   "execution_count": 18,
   "metadata": {},
   "outputs": [
    {
     "name": "stdout",
     "output_type": "stream",
     "text": [
      "I    Normagf   Error x_ast   Error p_ast   line search\n",
      "1    7.73e+01   1.00e+00      1.11e+01      ---\n",
      "2    4.17e+01   5.17e-01      3.11e+00      0.0625\n",
      "3    2.41e+01   2.95e-01      1.03e+00      0.0625\n",
      "4    1.41e+01   1.73e-01      3.52e-01      0.0625\n",
      "5    8.27e+00   1.01e-01      1.21e-01      0.0625\n",
      "6    4.86e+00   5.95e-02      4.18e-02      0.0625\n",
      "7    2.85e+00   3.49e-02      1.44e-02      0.0625\n",
      "8    1.68e+00   2.05e-02      4.97e-03      0.0625\n",
      "9    9.84e-01   1.20e-02      1.72e-03      0.0625\n",
      "10    5.78e-01   7.07e-03      5.92e-04      0.0625\n",
      "11    3.39e-01   4.15e-03      2.04e-04      0.0625\n",
      "12    1.99e-01   2.44e-03      7.04e-05      0.0625\n",
      "13    1.17e-01   1.43e-03      2.43e-05      0.0625\n",
      "14    6.88e-02   8.42e-04      8.38e-06      0.0625\n",
      "15    4.04e-02   4.94e-04      2.89e-06      0.0625\n",
      "16    2.37e-02   2.90e-04      9.96e-07      0.0625\n",
      "17    1.39e-02   1.70e-04      3.43e-07      0.0625\n",
      "18    8.19e-03   1.00e-04      1.19e-07      0.0625\n",
      "19    4.81e-03   5.89e-05      4.10e-08      0.0625\n",
      "20    2.82e-03   3.46e-05      1.41e-08      0.0625\n",
      "21    1.65e-03   2.03e-05      4.87e-09      0.0625\n",
      "22    9.67e-04   1.18e-05      1.66e-09      0.0625\n",
      "23    5.69e-04   6.95e-06      5.71e-10      0.0625\n",
      "24    3.34e-04   4.11e-06      1.99e-10      0.0625\n",
      "25    1.95e-04   2.39e-06      6.76e-11      0.0625\n",
      "26    1.15e-04   1.40e-06      2.30e-11      0.0625\n",
      "27    6.98e-05   8.42e-07      8.39e-12      0.0625\n",
      "28    3.99e-05   5.13e-07      3.11e-12      0.0625\n",
      "29    2.45e-05   2.62e-07      8.09e-13      0.0625\n",
      "30    2.01e-06   3.49e-08      1.41e-14      0.03125\n",
      "Error of x with respect to x_ast: 3.49e-08\n",
      "Approximate solution:          [,1]\n",
      "[1,]  1.565663\n",
      "[2,] -2.810582\n"
     ]
    }
   ],
   "source": [
    "l<-gradient_descent(fo, beta_0, tol, tol_backtracking, beta_ast, p_ast, maxiter)"
   ]
  },
  {
   "cell_type": "markdown",
   "metadata": {},
   "source": [
    "**Soluciones que están en la lista `l`:**"
   ]
  },
  {
   "cell_type": "code",
   "execution_count": 19,
   "metadata": {},
   "outputs": [],
   "source": [
    "beta <- l[[1]]\n",
    "total_of_iterations <- l[[2]]\n",
    "Err_plot <- l[[3]]\n",
    "beta_plot <- l[[4]]\n"
   ]
  },
  {
   "cell_type": "markdown",
   "metadata": {},
   "source": [
    "**$\\beta$ aproximada por el método de descenso en gradiente:**"
   ]
  },
  {
   "cell_type": "code",
   "execution_count": 20,
   "metadata": {},
   "outputs": [
    {
     "name": "stdout",
     "output_type": "stream",
     "text": [
      "          [,1]\n",
      "[1,]  1.565663\n",
      "[2,] -2.810582\n"
     ]
    }
   ],
   "source": [
    "print(beta)"
   ]
  },
  {
   "cell_type": "markdown",
   "metadata": {},
   "source": [
    "**$\\beta^*$:**"
   ]
  },
  {
   "cell_type": "code",
   "execution_count": 21,
   "metadata": {},
   "outputs": [
    {
     "name": "stdout",
     "output_type": "stream",
     "text": [
      "(Intercept)        df$x \n",
      "   1.565663   -2.810582 \n"
     ]
    }
   ],
   "source": [
    "print(beta_ast)"
   ]
  },
  {
   "cell_type": "markdown",
   "metadata": {},
   "source": [
    "**Error relativo:**"
   ]
  },
  {
   "cell_type": "code",
   "execution_count": 22,
   "metadata": {},
   "outputs": [
    {
     "data": {
      "text/html": [
       "3.48688707229212e-08"
      ],
      "text/latex": [
       "3.48688707229212e-08"
      ],
      "text/markdown": [
       "3.48688707229212e-08"
      ],
      "text/plain": [
       "[1] 3.486887e-08"
      ]
     },
     "metadata": {},
     "output_type": "display_data"
    }
   ],
   "source": [
    "compute_error(beta_ast, beta)"
   ]
  },
  {
   "cell_type": "markdown",
   "metadata": {},
   "source": [
    "**tenemos alrededor de $8$ dígitos de precisión.**"
   ]
  },
  {
   "cell_type": "code",
   "execution_count": 23,
   "metadata": {},
   "outputs": [
    {
     "data": {
      "text/html": [
       "<table>\n",
       "<caption>A matrix: 2 × 30 of type dbl</caption>\n",
       "<tbody>\n",
       "\t<tr><td>0</td><td> 1.914276</td><td> 1.503255</td><td> 1.566829</td><td> 1.573826</td><td> 1.558663</td><td> 1.570324</td><td> 1.562788</td><td> 1.567386</td><td> 1.564643</td><td>⋯</td><td> 1.565666</td><td> 1.565661</td><td> 1.565664</td><td> 1.565662</td><td> 1.565663</td><td> 1.565663</td><td> 1.565663</td><td> 1.565663</td><td> 1.565663</td><td> 1.565663</td></tr>\n",
       "\t<tr><td>0</td><td>-4.435513</td><td>-1.862656</td><td>-3.365714</td><td>-2.484941</td><td>-3.001737</td><td>-2.698338</td><td>-2.876499</td><td>-2.771869</td><td>-2.833318</td><td>⋯</td><td>-2.810517</td><td>-2.810620</td><td>-2.810560</td><td>-2.810595</td><td>-2.810574</td><td>-2.810586</td><td>-2.810579</td><td>-2.810584</td><td>-2.810581</td><td>-2.810582</td></tr>\n",
       "</tbody>\n",
       "</table>\n"
      ],
      "text/latex": [
       "A matrix: 2 × 30 of type dbl\n",
       "\\begin{tabular}{lllllllllllllllllllll}\n",
       "\t 0 &  1.914276 &  1.503255 &  1.566829 &  1.573826 &  1.558663 &  1.570324 &  1.562788 &  1.567386 &  1.564643 & ⋯ &  1.565666 &  1.565661 &  1.565664 &  1.565662 &  1.565663 &  1.565663 &  1.565663 &  1.565663 &  1.565663 &  1.565663\\\\\n",
       "\t 0 & -4.435513 & -1.862656 & -3.365714 & -2.484941 & -3.001737 & -2.698338 & -2.876499 & -2.771869 & -2.833318 & ⋯ & -2.810517 & -2.810620 & -2.810560 & -2.810595 & -2.810574 & -2.810586 & -2.810579 & -2.810584 & -2.810581 & -2.810582\\\\\n",
       "\\end{tabular}\n"
      ],
      "text/markdown": [
       "\n",
       "A matrix: 2 × 30 of type dbl\n",
       "\n",
       "| 0 |  1.914276 |  1.503255 |  1.566829 |  1.573826 |  1.558663 |  1.570324 |  1.562788 |  1.567386 |  1.564643 | ⋯ |  1.565666 |  1.565661 |  1.565664 |  1.565662 |  1.565663 |  1.565663 |  1.565663 |  1.565663 |  1.565663 |  1.565663 |\n",
       "| 0 | -4.435513 | -1.862656 | -3.365714 | -2.484941 | -3.001737 | -2.698338 | -2.876499 | -2.771869 | -2.833318 | ⋯ | -2.810517 | -2.810620 | -2.810560 | -2.810595 | -2.810574 | -2.810586 | -2.810579 | -2.810584 | -2.810581 | -2.810582 |\n",
       "\n"
      ],
      "text/plain": [
       "     [,1] [,2]      [,3]      [,4]      [,5]      [,6]      [,7]      [,8]     \n",
       "[1,] 0     1.914276  1.503255  1.566829  1.573826  1.558663  1.570324  1.562788\n",
       "[2,] 0    -4.435513 -1.862656 -3.365714 -2.484941 -3.001737 -2.698338 -2.876499\n",
       "     [,9]      [,10]     [,11] [,12]     [,13]     [,14]     [,15]    \n",
       "[1,]  1.567386  1.564643 ⋯      1.565666  1.565661  1.565664  1.565662\n",
       "[2,] -2.771869 -2.833318 ⋯     -2.810517 -2.810620 -2.810560 -2.810595\n",
       "     [,16]     [,17]     [,18]     [,19]     [,20]     [,21]    \n",
       "[1,]  1.565663  1.565663  1.565663  1.565663  1.565663  1.565663\n",
       "[2,] -2.810574 -2.810586 -2.810579 -2.810584 -2.810581 -2.810582"
      ]
     },
     "metadata": {},
     "output_type": "display_data"
    }
   ],
   "source": [
    "beta_plot"
   ]
  },
  {
   "cell_type": "code",
   "execution_count": 24,
   "metadata": {},
   "outputs": [
    {
     "data": {
      "text/html": [
       "30"
      ],
      "text/latex": [
       "30"
      ],
      "text/markdown": [
       "30"
      ],
      "text/plain": [
       "[1] 30"
      ]
     },
     "metadata": {},
     "output_type": "display_data"
    }
   ],
   "source": [
    "total_of_iterations"
   ]
  },
  {
   "cell_type": "code",
   "execution_count": 25,
   "metadata": {},
   "outputs": [],
   "source": [
    "gg <- ggplot()"
   ]
  },
  {
   "cell_type": "code",
   "execution_count": 26,
   "metadata": {},
   "outputs": [
    {
     "data": {
      "image/png": "[encoded data removed]",
      "text/plain": [
       "plot without title"
      ]
     },
     "metadata": {
      "image/png": {
       "height": 420,
       "width": 420
      }
     },
     "output_type": "display_data"
    }
   ],
   "source": [
    "gg +\n",
    "geom_line(aes(x=25:total_of_iterations,y=Err_plot[25:length(Err_plot)])) + \n",
    "xlab('Iterations') + ylab(TeX('Error relativo entre f_o(x^k) y p^*'))\n"
   ]
  },
  {
   "cell_type": "markdown",
   "metadata": {},
   "source": [
    "## Regularización"
   ]
  },
  {
   "cell_type": "markdown",
   "metadata": {},
   "source": [
    "En el paquete de R [glmnet package](https://web.stanford.edu/~hastie/glmnet/glmnet_alpha.html) se tiene la función del mismo nombre [glmnet](https://www.rdocumentation.org/packages/glmnet/versions/3.0-2/topics/glmnet) en la que se ajustan [modelos lineales generalizados](https://en.wikipedia.org/wiki/Generalized_linear_model) con penalización *elastic net*. La **función objetivo** en el caso de regresión lineal utiliza una **pérdida cuadrática** con regularización *elastic net*:\n",
    "\n",
    "$$\\displaystyle \\min_{(\\beta_0, \\beta) \\in \\mathbb{R}^{n+1}} \\frac{1}{2m} \\sum_{i=1}^m(y_i -\\beta_0 - x_i^T\\beta)^2  + \\lambda \\left (\\frac{(1-\\alpha)}{2}||\\beta||^2_2 + \\alpha ||\\beta||_1 \\right )$$"
   ]
  },
  {
   "cell_type": "markdown",
   "metadata": {},
   "source": [
    "donde: $x_i \\in \\mathbb{R}^n$. Véase el paper [Regularization Paths for Generalized Linear Models via Coordinate Descent](https://web.stanford.edu/~hastie/Papers/glmnet.pdf) para esta formulación. Obsérvese que no se penaliza la variable $\\beta_0$."
   ]
  },
  {
   "cell_type": "markdown",
   "metadata": {},
   "source": [
    "### Penalización lasso vía método de Newton"
   ]
  },
  {
   "cell_type": "markdown",
   "metadata": {},
   "source": [
    "**En este segundo ejemplo utilizamos la penalización *lasso***."
   ]
  },
  {
   "cell_type": "markdown",
   "metadata": {},
   "source": [
    "Obsérvese que para este caso la función objetivo en `glmnet` es de la forma:\n",
    "\n",
    "$$\\displaystyle \\min_{(\\beta_0, \\beta) \\in \\mathbb{R}^{n+1}} \\frac{1}{2m} \\sum_{i=1}^m(y_i -\\beta_0 - x_i^T\\beta)^2  + \\lambda \\alpha ||\\beta||_1$$"
   ]
  },
  {
   "cell_type": "markdown",
   "metadata": {},
   "source": [
    "Simulamos algunos datos:"
   ]
  },
  {
   "cell_type": "markdown",
   "metadata": {},
   "source": [
    "**Obs:** se utilizarán los siguientes argumentos para la función de R:"
   ]
  },
  {
   "cell_type": "code",
   "execution_count": 27,
   "metadata": {},
   "outputs": [],
   "source": [
    "reg<-.5 #este es lambda * alpha, el parámetro de regularización\n",
    "        #en la formulación de glmnet"
   ]
  },
  {
   "cell_type": "code",
   "execution_count": 28,
   "metadata": {},
   "outputs": [],
   "source": [
    "fit <- glmnet(A,y,alpha=1,lambda=reg,standardize=F,nlambda=1,thresh=1e-8)"
   ]
  },
  {
   "cell_type": "code",
   "execution_count": 29,
   "metadata": {},
   "outputs": [],
   "source": [
    "beta_ast <- as.matrix(fit$beta)\n"
   ]
  },
  {
   "cell_type": "markdown",
   "metadata": {},
   "source": [
    "**El valor aproximado de $\\beta^*$ es:**"
   ]
  },
  {
   "cell_type": "code",
   "execution_count": 30,
   "metadata": {},
   "outputs": [
    {
     "name": "stdout",
     "output_type": "stream",
     "text": [
      "          s0\n",
      "V1  0.000000\n",
      "V2 -2.416619\n"
     ]
    }
   ],
   "source": [
    "print(beta_ast)"
   ]
  },
  {
   "cell_type": "markdown",
   "metadata": {},
   "source": [
    "**Obsérvese que $\\beta^*_0$ es $0$ y por tanto se puede eliminar el intercepto del modelo.**"
   ]
  },
  {
   "cell_type": "code",
   "execution_count": 31,
   "metadata": {},
   "outputs": [
    {
     "data": {
      "text/html": [
       "<table>\n",
       "<caption>A matrix: 6 × 2 of type dbl</caption>\n",
       "<tbody>\n",
       "\t<tr><td>1</td><td> 1.1025783</td></tr>\n",
       "\t<tr><td>1</td><td> 1.1178965</td></tr>\n",
       "\t<tr><td>1</td><td>-1.8181019</td></tr>\n",
       "\t<tr><td>1</td><td>-0.1944140</td></tr>\n",
       "\t<tr><td>1</td><td>-0.6131956</td></tr>\n",
       "\t<tr><td>1</td><td>-0.3462673</td></tr>\n",
       "</tbody>\n",
       "</table>\n"
      ],
      "text/latex": [
       "A matrix: 6 × 2 of type dbl\n",
       "\\begin{tabular}{ll}\n",
       "\t 1 &  1.1025783\\\\\n",
       "\t 1 &  1.1178965\\\\\n",
       "\t 1 & -1.8181019\\\\\n",
       "\t 1 & -0.1944140\\\\\n",
       "\t 1 & -0.6131956\\\\\n",
       "\t 1 & -0.3462673\\\\\n",
       "\\end{tabular}\n"
      ],
      "text/markdown": [
       "\n",
       "A matrix: 6 × 2 of type dbl\n",
       "\n",
       "| 1 |  1.1025783 |\n",
       "| 1 |  1.1178965 |\n",
       "| 1 | -1.8181019 |\n",
       "| 1 | -0.1944140 |\n",
       "| 1 | -0.6131956 |\n",
       "| 1 | -0.3462673 |\n",
       "\n"
      ],
      "text/plain": [
       "     [,1] [,2]      \n",
       "[1,] 1     1.1025783\n",
       "[2,] 1     1.1178965\n",
       "[3,] 1    -1.8181019\n",
       "[4,] 1    -0.1944140\n",
       "[5,] 1    -0.6131956\n",
       "[6,] 1    -0.3462673"
      ]
     },
     "metadata": {},
     "output_type": "display_data"
    }
   ],
   "source": [
    "head(A)"
   ]
  },
  {
   "cell_type": "code",
   "execution_count": 32,
   "metadata": {},
   "outputs": [],
   "source": [
    "A<-A[,-1]"
   ]
  },
  {
   "cell_type": "code",
   "execution_count": 33,
   "metadata": {},
   "outputs": [
    {
     "data": {
      "text/html": [
       "<ol class=list-inline>\n",
       "\t<li>1.10257827022547</li>\n",
       "\t<li>1.11789649377552</li>\n",
       "\t<li>-1.8181018879213</li>\n",
       "\t<li>-0.194414025876998</li>\n",
       "\t<li>-0.613195596461864</li>\n",
       "\t<li>-0.346267255636314</li>\n",
       "</ol>\n"
      ],
      "text/latex": [
       "\\begin{enumerate*}\n",
       "\\item 1.10257827022547\n",
       "\\item 1.11789649377552\n",
       "\\item -1.8181018879213\n",
       "\\item -0.194414025876998\n",
       "\\item -0.613195596461864\n",
       "\\item -0.346267255636314\n",
       "\\end{enumerate*}\n"
      ],
      "text/markdown": [
       "1. 1.10257827022547\n",
       "2. 1.11789649377552\n",
       "3. -1.8181018879213\n",
       "4. -0.194414025876998\n",
       "5. -0.613195596461864\n",
       "6. -0.346267255636314\n",
       "\n",
       "\n"
      ],
      "text/plain": [
       "[1]  1.1025783  1.1178965 -1.8181019 -0.1944140 -0.6131956 -0.3462673"
      ]
     },
     "metadata": {},
     "output_type": "display_data"
    }
   ],
   "source": [
    "head(A)"
   ]
  },
  {
   "cell_type": "code",
   "execution_count": 37,
   "metadata": {},
   "outputs": [],
   "source": [
    "beta_ast<-beta_ast[2]"
   ]
  },
  {
   "cell_type": "code",
   "execution_count": 38,
   "metadata": {},
   "outputs": [
    {
     "name": "stdout",
     "output_type": "stream",
     "text": [
      "[1] -2.416619\n"
     ]
    }
   ],
   "source": [
    "print(beta_ast)"
   ]
  },
  {
   "cell_type": "markdown",
   "metadata": {},
   "source": [
    "Usaremos el método de **descenso por coordenadas** y el método de Newton para aproximar al vector $\\beta^*$. Ver [4.2.Descenso_por_coordenadas_R.ipynb](https://github.com/ITAM-DS/analisis-numerico-computo-cientifico/blob/master/temas/IV.optimizacion_convexa_y_machine_learning/4.2.Descenso_por_coordenadas_R.ipynb), [4.2.Metodo_de_Newton_Python](https://github.com/ITAM-DS/analisis-numerico-computo-cientifico/blob/master/temas/IV.optimizacion_convexa_y_machine_learning/4.2.Metodo_de_Newton_Python.ipynb). Además usaremos la siguiente función que ayuda a aproximar la derivada de la función objetivo $f_o$ que no es diferenciable en el vector $0$ pues $||\\beta||_1 = \\displaystyle \\sum_{i=1}^n |\\beta_i|$."
   ]
  },
  {
   "cell_type": "code",
   "execution_count": 39,
   "metadata": {},
   "outputs": [],
   "source": [
    "quita_signo<-function(beta){\n",
    "    beta<-sign(beta)*beta\n",
    "    #la siguiente variable es un índice que localiza aquellas entradas del\n",
    "    #vector beta en valor absoluto que son cercanas a 0.\n",
    "    ind <- beta < .Machine$double.xmin & beta > -.Machine$double.xmin \n",
    "    #se asigna a cada entrada localizada en ind el valor más pequeño normalizado\n",
    "    #en un sistema de punto flotante\n",
    "    beta[ind] <- .Machine$double.xmin \n",
    "    beta\n",
    "    }"
   ]
  },
  {
   "cell_type": "code",
   "execution_count": 40,
   "metadata": {},
   "outputs": [
    {
     "data": {
      "text/html": [
       "2.2250738585072e-308"
      ],
      "text/latex": [
       "2.2250738585072e-308"
      ],
      "text/markdown": [
       "2.2250738585072e-308"
      ],
      "text/plain": [
       "[1] 2.225074e-308"
      ]
     },
     "metadata": {},
     "output_type": "display_data"
    }
   ],
   "source": [
    ".Machine$double.xmin"
   ]
  },
  {
   "cell_type": "markdown",
   "metadata": {},
   "source": [
    "**La función objetivo es:**"
   ]
  },
  {
   "cell_type": "code",
   "execution_count": 41,
   "metadata": {},
   "outputs": [],
   "source": [
    "fo <-function(beta)1/mpoints*(1/2*cte - sum(beta*(A*y)) + \n",
    "                              1/2*sum(beta*(A*(A*beta)))) + \n",
    "                              reg*sum(quita_signo(beta))\n"
   ]
  },
  {
   "cell_type": "markdown",
   "metadata": {},
   "source": [
    "**Valor óptimo:**"
   ]
  },
  {
   "cell_type": "code",
   "execution_count": 42,
   "metadata": {},
   "outputs": [],
   "source": [
    "p_ast <- fo(beta_ast)"
   ]
  },
  {
   "cell_type": "code",
   "execution_count": 43,
   "metadata": {},
   "outputs": [
    {
     "data": {
      "text/html": [
       "3.08082216571328"
      ],
      "text/latex": [
       "3.08082216571328"
      ],
      "text/markdown": [
       "3.08082216571328"
      ],
      "text/plain": [
       "[1] 3.080822"
      ]
     },
     "metadata": {},
     "output_type": "display_data"
    }
   ],
   "source": [
    "p_ast"
   ]
  },
  {
   "cell_type": "markdown",
   "metadata": {},
   "source": [
    "**punto inicial $\\beta_0$:**"
   ]
  },
  {
   "cell_type": "code",
   "execution_count": 44,
   "metadata": {},
   "outputs": [],
   "source": [
    "beta_0<-c(0)"
   ]
  },
  {
   "cell_type": "markdown",
   "metadata": {},
   "source": [
    "**argumentos para el método de descenso por coordenadas:**"
   ]
  },
  {
   "cell_type": "code",
   "execution_count": 45,
   "metadata": {},
   "outputs": [],
   "source": [
    "tol <- 1e-8\n",
    "tol_backtracking <- 1e-14\n",
    "maxiter <- 30\n"
   ]
  },
  {
   "cell_type": "code",
   "execution_count": 46,
   "metadata": {},
   "outputs": [
    {
     "name": "stdout",
     "output_type": "stream",
     "text": [
      "I    Normagf   Error x_ast   Error p_ast   line search\n",
      "1    4.05e+00   1.00e+00      1.19e+00      ---\n",
      "2    4.79e-01   1.62e-01      2.93e-02      0.5\n",
      "3    1.29e-01   3.59e-02      2.08e-03      1\n",
      "4    3.47e-02   1.75e-02      1.08e-04      1\n",
      "5    9.36e-03   3.15e-03      3.50e-05      1\n",
      "6    2.52e-03   7.02e-03      4.54e-05      1\n",
      "7    6.79e-04   5.98e-03      4.62e-05      1\n",
      "8    1.83e-04   6.26e-03      4.62e-05      1\n",
      "9    4.92e-05   6.18e-03      4.62e-05      1\n",
      "10    1.32e-05   6.20e-03      4.62e-05      1\n",
      "11    3.51e-06   6.20e-03      4.62e-05      1\n",
      "12    8.88e-07   6.20e-03      4.62e-05      1\n",
      "13    2.22e-07   6.20e-03      4.62e-05      1\n",
      "14    8.88e-08   6.20e-03      4.62e-05      1\n",
      "15    0.00e+00   6.20e-03      4.62e-05      1\n",
      "Error of x with respect to x_ast: 6.20e-03\n",
      "Approximate solution:[1] -2.401638\n"
     ]
    }
   ],
   "source": [
    "l<-coordinate_descent(fo, beta_0, tol, tol_backtracking, beta_ast, p_ast, maxiter)"
   ]
  },
  {
   "cell_type": "markdown",
   "metadata": {},
   "source": [
    "**Soluciones que están en la lista `l`:**"
   ]
  },
  {
   "cell_type": "code",
   "execution_count": 47,
   "metadata": {},
   "outputs": [],
   "source": [
    "beta <- l[[1]]\n",
    "total_of_iterations <- l[[2]]\n",
    "Err_plot <- l[[3]]\n",
    "beta_plot <- l[[4]]\n"
   ]
  },
  {
   "cell_type": "markdown",
   "metadata": {},
   "source": [
    "**$\\beta$ aproximada por el método de descenso por coordenadas:**"
   ]
  },
  {
   "cell_type": "code",
   "execution_count": 48,
   "metadata": {},
   "outputs": [
    {
     "name": "stdout",
     "output_type": "stream",
     "text": [
      "[1] -2.401638\n"
     ]
    }
   ],
   "source": [
    "print(beta)"
   ]
  },
  {
   "cell_type": "markdown",
   "metadata": {},
   "source": [
    "**El valor aproximado de $\\beta^*$ es:**"
   ]
  },
  {
   "cell_type": "code",
   "execution_count": 49,
   "metadata": {},
   "outputs": [
    {
     "name": "stdout",
     "output_type": "stream",
     "text": [
      "[1] -2.416619\n"
     ]
    }
   ],
   "source": [
    "print(beta_ast)"
   ]
  },
  {
   "cell_type": "markdown",
   "metadata": {},
   "source": [
    "**Error relativo:**"
   ]
  },
  {
   "cell_type": "code",
   "execution_count": 50,
   "metadata": {},
   "outputs": [
    {
     "data": {
      "text/html": [
       "0.00619940912865578"
      ],
      "text/latex": [
       "0.00619940912865578"
      ],
      "text/markdown": [
       "0.00619940912865578"
      ],
      "text/plain": [
       "[1] 0.006199409"
      ]
     },
     "metadata": {},
     "output_type": "display_data"
    }
   ],
   "source": [
    "compute_error(beta_ast, beta)"
   ]
  },
  {
   "cell_type": "markdown",
   "metadata": {},
   "source": [
    "**Tenemos alrededor de $2$ dígitos de precisión**"
   ]
  },
  {
   "cell_type": "code",
   "execution_count": 52,
   "metadata": {},
   "outputs": [
    {
     "name": "stdout",
     "output_type": "stream",
     "text": [
      " [1]  0.000000 -2.024205 -2.503282 -2.374264 -2.409010 -2.399653 -2.402172\n",
      " [8] -2.401494 -2.401677 -2.401627 -2.401641 -2.401637 -2.401638 -2.401638\n",
      "[15] -2.401638\n"
     ]
    }
   ],
   "source": [
    "print(beta_plot)"
   ]
  },
  {
   "cell_type": "code",
   "execution_count": 56,
   "metadata": {},
   "outputs": [
    {
     "data": {
      "image/png": "[encoded data removed]",
      "text/plain": [
       "plot without title"
      ]
     },
     "metadata": {
      "image/png": {
       "height": 420,
       "width": 420
      }
     },
     "output_type": "display_data"
    }
   ],
   "source": [
    "gg +\n",
    "geom_point(aes(x=beta_plot,y=0),size=2) +\n",
    "annotate(geom='text', x=0, y=0, \n",
    "         label=TeX(\"x^{(0)}\", output='character'), parse=TRUE) + \n",
    "xlab('x') + ylab('y') + \n",
    "ggtitle(TeX('Iter del método de descenso por coordenadas para $f_o$'))"
   ]
  },
  {
   "cell_type": "markdown",
   "metadata": {},
   "source": [
    "**Método de Newton**"
   ]
  },
  {
   "cell_type": "code",
   "execution_count": 57,
   "metadata": {},
   "outputs": [
    {
     "name": "stdout",
     "output_type": "stream",
     "text": [
      "I    Normgf   Newton Decrement   Error x_ast   Error p_ast   line search    condHf\n",
      "1    4.05e+00   1.29e+01           1.00e+00      1.19e+00      ---         1.00e+00\n",
      "2    1.00e+00   7.92e-01           3.21e-01      1.29e-01      1.00e+00    1.00e+00\n",
      "3    6.24e-04   3.07e-07           6.00e-03      4.62e-05      1.00e+00    1.00e+00\n",
      "4    1.78e-07   2.48e-14           6.20e-03      4.62e-05      1.00e+00    1.00e+00\n",
      "Error of x with respect to x_ast: 6.20e-03\n",
      "Approximate solution:[1] -2.401638\n"
     ]
    }
   ],
   "source": [
    "l<-Newtons_method(fo, beta_0, tol, tol_backtracking, beta_ast, p_ast, maxiter)"
   ]
  },
  {
   "cell_type": "code",
   "execution_count": 58,
   "metadata": {},
   "outputs": [],
   "source": [
    "beta <- l[[1]]\n",
    "total_of_iterations <- l[[2]]\n",
    "Err_plot <- l[[3]]\n",
    "beta_plot <- l[[4]]\n"
   ]
  },
  {
   "cell_type": "code",
   "execution_count": 59,
   "metadata": {},
   "outputs": [
    {
     "name": "stdout",
     "output_type": "stream",
     "text": [
      "[1] -2.401638\n"
     ]
    }
   ],
   "source": [
    "print(beta)"
   ]
  },
  {
   "cell_type": "code",
   "execution_count": 60,
   "metadata": {},
   "outputs": [
    {
     "name": "stdout",
     "output_type": "stream",
     "text": [
      "[1] -2.416619\n"
     ]
    }
   ],
   "source": [
    "print(beta_ast)"
   ]
  },
  {
   "cell_type": "markdown",
   "metadata": {},
   "source": [
    "**Error relativo:**"
   ]
  },
  {
   "cell_type": "code",
   "execution_count": 61,
   "metadata": {},
   "outputs": [
    {
     "data": {
      "text/html": [
       "0.00619936026380391"
      ],
      "text/latex": [
       "0.00619936026380391"
      ],
      "text/markdown": [
       "0.00619936026380391"
      ],
      "text/plain": [
       "[1] 0.00619936"
      ]
     },
     "metadata": {},
     "output_type": "display_data"
    }
   ],
   "source": [
    "compute_error(beta_ast, beta)"
   ]
  },
  {
   "cell_type": "markdown",
   "metadata": {},
   "source": [
    "**Tenemos alrededor de $2$ dígitos de precisión**"
   ]
  },
  {
   "cell_type": "code",
   "execution_count": 63,
   "metadata": {},
   "outputs": [
    {
     "name": "stdout",
     "output_type": "stream",
     "text": [
      "[1]  0.000000 -3.191950 -2.402130 -2.401638\n"
     ]
    }
   ],
   "source": [
    "print(beta_plot)"
   ]
  },
  {
   "cell_type": "code",
   "execution_count": 64,
   "metadata": {},
   "outputs": [
    {
     "data": {
      "image/png": "[encoded data removed]",
      "text/plain": [
       "plot without title"
      ]
     },
     "metadata": {
      "image/png": {
       "height": 420,
       "width": 420
      }
     },
     "output_type": "display_data"
    }
   ],
   "source": [
    "gg +\n",
    "geom_point(aes(x=beta_plot,y=0),size=2) +\n",
    "annotate(geom='text', x=0, y=0, \n",
    "         label=TeX(\"x^{(0)}\", output='character'), parse=TRUE) + \n",
    "xlab('x') + ylab('y') + \n",
    "ggtitle(TeX('Iter del método de Newton para $f_o$'))"
   ]
  },
  {
   "cell_type": "markdown",
   "metadata": {},
   "source": [
    "**Comentarios:**\n",
    "\n",
    "* En ambos métodos se aproxima de forma correcta a $\\beta_1^*$. "
   ]
  },
  {
   "cell_type": "markdown",
   "metadata": {},
   "source": [
    "**Modelo sin intercepto**"
   ]
  },
  {
   "cell_type": "code",
   "execution_count": 55,
   "metadata": {},
   "outputs": [],
   "source": [
    "set.seed(1989) #para reproducibilidad\n",
    "mpoints <- 20\n",
    "x1 <- rnorm(mpoints)\n",
    "x2 <- rnorm(mpoints,2,1)\n",
    "y <- 3*x1 -.5*x2"
   ]
  },
  {
   "cell_type": "code",
   "execution_count": 56,
   "metadata": {},
   "outputs": [],
   "source": [
    "A<-cbind(x1,x2)"
   ]
  },
  {
   "cell_type": "code",
   "execution_count": 57,
   "metadata": {},
   "outputs": [
    {
     "data": {
      "text/html": [
       "<table>\n",
       "<caption>A matrix: 6 × 2 of type dbl</caption>\n",
       "<thead>\n",
       "\t<tr><th scope=col>x1</th><th scope=col>x2</th></tr>\n",
       "</thead>\n",
       "<tbody>\n",
       "\t<tr><td> 1.1025783</td><td> 1.5387010</td></tr>\n",
       "\t<tr><td> 1.1178965</td><td> 3.8017872</td></tr>\n",
       "\t<tr><td>-1.8181019</td><td> 0.4648409</td></tr>\n",
       "\t<tr><td>-0.1944140</td><td>-0.2847978</td></tr>\n",
       "\t<tr><td>-0.6131956</td><td> 2.7705346</td></tr>\n",
       "\t<tr><td>-0.3462673</td><td> 2.9691806</td></tr>\n",
       "</tbody>\n",
       "</table>\n"
      ],
      "text/latex": [
       "A matrix: 6 × 2 of type dbl\n",
       "\\begin{tabular}{ll}\n",
       " x1 & x2\\\\\n",
       "\\hline\n",
       "\t  1.1025783 &  1.5387010\\\\\n",
       "\t  1.1178965 &  3.8017872\\\\\n",
       "\t -1.8181019 &  0.4648409\\\\\n",
       "\t -0.1944140 & -0.2847978\\\\\n",
       "\t -0.6131956 &  2.7705346\\\\\n",
       "\t -0.3462673 &  2.9691806\\\\\n",
       "\\end{tabular}\n"
      ],
      "text/markdown": [
       "\n",
       "A matrix: 6 × 2 of type dbl\n",
       "\n",
       "| x1 | x2 |\n",
       "|---|---|\n",
       "|  1.1025783 |  1.5387010 |\n",
       "|  1.1178965 |  3.8017872 |\n",
       "| -1.8181019 |  0.4648409 |\n",
       "| -0.1944140 | -0.2847978 |\n",
       "| -0.6131956 |  2.7705346 |\n",
       "| -0.3462673 |  2.9691806 |\n",
       "\n"
      ],
      "text/plain": [
       "     x1         x2        \n",
       "[1,]  1.1025783  1.5387010\n",
       "[2,]  1.1178965  3.8017872\n",
       "[3,] -1.8181019  0.4648409\n",
       "[4,] -0.1944140 -0.2847978\n",
       "[5,] -0.6131956  2.7705346\n",
       "[6,] -0.3462673  2.9691806"
      ]
     },
     "metadata": {},
     "output_type": "display_data"
    }
   ],
   "source": [
    "head(A)"
   ]
  },
  {
   "cell_type": "code",
   "execution_count": 58,
   "metadata": {},
   "outputs": [
    {
     "data": {
      "text/html": [
       "<ol class=list-inline>\n",
       "\t<li>2.53838430579558</li>\n",
       "\t<li>1.45279586121611</li>\n",
       "\t<li>-5.68672611274816</li>\n",
       "\t<li>-0.440843176859124</li>\n",
       "\t<li>-3.22485410419491</li>\n",
       "\t<li>-2.52339208568032</li>\n",
       "</ol>\n"
      ],
      "text/latex": [
       "\\begin{enumerate*}\n",
       "\\item 2.53838430579558\n",
       "\\item 1.45279586121611\n",
       "\\item -5.68672611274816\n",
       "\\item -0.440843176859124\n",
       "\\item -3.22485410419491\n",
       "\\item -2.52339208568032\n",
       "\\end{enumerate*}\n"
      ],
      "text/markdown": [
       "1. 2.53838430579558\n",
       "2. 1.45279586121611\n",
       "3. -5.68672611274816\n",
       "4. -0.440843176859124\n",
       "5. -3.22485410419491\n",
       "6. -2.52339208568032\n",
       "\n",
       "\n"
      ],
      "text/plain": [
       "[1]  2.5383843  1.4527959 -5.6867261 -0.4408432 -3.2248541 -2.5233921"
      ]
     },
     "metadata": {},
     "output_type": "display_data"
    }
   ],
   "source": [
    "head(y)"
   ]
  },
  {
   "cell_type": "code",
   "execution_count": 59,
   "metadata": {},
   "outputs": [],
   "source": [
    "cte <- sum(y*y)\n",
    "mpoints<-nrow(A)"
   ]
  },
  {
   "cell_type": "code",
   "execution_count": 60,
   "metadata": {},
   "outputs": [
    {
     "data": {
      "text/html": [
       "230.983702685594"
      ],
      "text/latex": [
       "230.983702685594"
      ],
      "text/markdown": [
       "230.983702685594"
      ],
      "text/plain": [
       "[1] 230.9837"
      ]
     },
     "metadata": {},
     "output_type": "display_data"
    }
   ],
   "source": [
    "cte"
   ]
  },
  {
   "cell_type": "code",
   "execution_count": 61,
   "metadata": {},
   "outputs": [
    {
     "data": {
      "text/html": [
       "20"
      ],
      "text/latex": [
       "20"
      ],
      "text/markdown": [
       "20"
      ],
      "text/plain": [
       "[1] 20"
      ]
     },
     "metadata": {},
     "output_type": "display_data"
    }
   ],
   "source": [
    "mpoints"
   ]
  },
  {
   "cell_type": "code",
   "execution_count": 62,
   "metadata": {},
   "outputs": [],
   "source": [
    "fo <-function(beta)1/mpoints*(1/2*cte - sum(beta*(t(A)%*%y)) + 1/2*sum(beta*(t(A)%*%(A%*%beta)))) + reg*sum(quita_signo(beta))\n"
   ]
  },
  {
   "cell_type": "code",
   "execution_count": 63,
   "metadata": {},
   "outputs": [],
   "source": [
    "fit <- glmnet(A,y,alpha=1,lambda=reg,standardize=F,nlambda=1,intercept=F,thresh=1e-8)"
   ]
  },
  {
   "cell_type": "code",
   "execution_count": 64,
   "metadata": {},
   "outputs": [],
   "source": [
    "beta_ast <- as.matrix(fit$beta)\n"
   ]
  },
  {
   "cell_type": "code",
   "execution_count": 65,
   "metadata": {},
   "outputs": [
    {
     "name": "stdout",
     "output_type": "stream",
     "text": [
      "           s0\n",
      "x1  2.5715256\n",
      "x2 -0.3309675\n"
     ]
    }
   ],
   "source": [
    "print(beta_ast)"
   ]
  },
  {
   "cell_type": "code",
   "execution_count": 66,
   "metadata": {},
   "outputs": [],
   "source": [
    "beta_0<-c(1,1)"
   ]
  },
  {
   "cell_type": "code",
   "execution_count": 67,
   "metadata": {},
   "outputs": [],
   "source": [
    "tol <- 1e-8\n",
    "tol_backtracking <- 1e-14\n",
    "maxiter <- 30\n",
    "p_ast <- fo(beta_ast)\n"
   ]
  },
  {
   "cell_type": "code",
   "execution_count": 68,
   "metadata": {},
   "outputs": [
    {
     "name": "stdout",
     "output_type": "stream",
     "text": [
      "I    Normgf   Newton Decrement   Error x_ast   Error p_ast   line search    condHf\n",
      "1    5.65e+00   1.14e+01           7.94e-01      3.27e+00      ---         2.93e+00\n",
      "2    1.00e+00   2.81e-01           1.11e-01      8.78e-02      1.00e+00    2.94e+00\n",
      "3    5.79e-04   1.57e-07           1.19e-04      4.91e-08      1.00e+00    2.94e+00\n",
      "4    5.62e-07   2.47e-13           1.95e-07      9.92e-14      1.00e+00    2.94e+00\n",
      "Error of x with respect to x_ast: 1.95e-07\n",
      "Approximate solution:[1]  2.5715261 -0.3309675\n"
     ]
    }
   ],
   "source": [
    "l<-Newtons_method(fo, beta_0, tol, tol_backtracking, beta_ast, p_ast, maxiter)"
   ]
  },
  {
   "cell_type": "code",
   "execution_count": 69,
   "metadata": {},
   "outputs": [],
   "source": [
    "beta <- l[[1]]\n",
    "total_of_iterations <- l[[2]]\n",
    "Err_plot <- l[[3]]\n",
    "beta_plot <- l[[4]]\n"
   ]
  },
  {
   "cell_type": "code",
   "execution_count": 70,
   "metadata": {},
   "outputs": [
    {
     "name": "stdout",
     "output_type": "stream",
     "text": [
      "[1]  2.5715261 -0.3309675\n"
     ]
    }
   ],
   "source": [
    "print(beta)"
   ]
  },
  {
   "cell_type": "code",
   "execution_count": 71,
   "metadata": {},
   "outputs": [
    {
     "name": "stdout",
     "output_type": "stream",
     "text": [
      "           s0\n",
      "x1  2.5715256\n",
      "x2 -0.3309675\n"
     ]
    }
   ],
   "source": [
    "print(beta_ast)"
   ]
  },
  {
   "cell_type": "markdown",
   "metadata": {},
   "source": [
    "**Other example:**"
   ]
  },
  {
   "cell_type": "code",
   "execution_count": 80,
   "metadata": {},
   "outputs": [],
   "source": [
    "y <- mtcars %>% select(mpg) %>% as.matrix()\n",
    "X <- mtcars %>% select(-mpg) %>% as.matrix()"
   ]
  },
  {
   "cell_type": "code",
   "execution_count": 81,
   "metadata": {},
   "outputs": [],
   "source": [
    "A<-X[,c(2,4)]"
   ]
  },
  {
   "cell_type": "code",
   "execution_count": 82,
   "metadata": {},
   "outputs": [],
   "source": [
    "cte <- sum(y*y)\n",
    "mpoints<-nrow(A)"
   ]
  },
  {
   "cell_type": "code",
   "execution_count": 83,
   "metadata": {},
   "outputs": [
    {
     "data": {
      "text/html": [
       "14042.31"
      ],
      "text/latex": [
       "14042.31"
      ],
      "text/markdown": [
       "14042.31"
      ],
      "text/plain": [
       "[1] 14042.31"
      ]
     },
     "metadata": {},
     "output_type": "display_data"
    }
   ],
   "source": [
    "cte"
   ]
  },
  {
   "cell_type": "code",
   "execution_count": 84,
   "metadata": {},
   "outputs": [
    {
     "data": {
      "text/html": [
       "32"
      ],
      "text/latex": [
       "32"
      ],
      "text/markdown": [
       "32"
      ],
      "text/plain": [
       "[1] 32"
      ]
     },
     "metadata": {},
     "output_type": "display_data"
    }
   ],
   "source": [
    "mpoints"
   ]
  },
  {
   "cell_type": "code",
   "execution_count": 85,
   "metadata": {},
   "outputs": [],
   "source": [
    "fo <-function(beta)1/mpoints*(1/2*cte - sum(beta*(t(A)%*%y)) + 1/2*sum(beta*(t(A)%*%(A%*%beta)))) + reg*sum(quita_signo(beta))\n"
   ]
  },
  {
   "cell_type": "code",
   "execution_count": 86,
   "metadata": {},
   "outputs": [],
   "source": [
    "fit <- glmnet(A,y,alpha=1,lambda=reg,standardize=F,nlambda=1,intercept=F,thresh=1e-8)"
   ]
  },
  {
   "cell_type": "code",
   "execution_count": 87,
   "metadata": {},
   "outputs": [],
   "source": [
    "beta_ast <- as.matrix(fit$beta)\n"
   ]
  },
  {
   "cell_type": "code",
   "execution_count": 88,
   "metadata": {},
   "outputs": [
    {
     "name": "stdout",
     "output_type": "stream",
     "text": [
      "              s0\n",
      "disp -0.01682177\n",
      "drat  6.59053287\n"
     ]
    }
   ],
   "source": [
    "print(beta_ast)"
   ]
  },
  {
   "cell_type": "code",
   "execution_count": 89,
   "metadata": {},
   "outputs": [],
   "source": [
    "beta_0<-c(1,1)"
   ]
  },
  {
   "cell_type": "markdown",
   "metadata": {},
   "source": [
    "**Newtons method**"
   ]
  },
  {
   "cell_type": "code",
   "execution_count": 90,
   "metadata": {},
   "outputs": [
    {
     "data": {
      "text/html": [
       "<ol class=list-inline>\n",
       "\t<li>64876.0375042912</li>\n",
       "\t<li>723.540870239958</li>\n",
       "</ol>\n"
      ],
      "text/latex": [
       "\\begin{enumerate*}\n",
       "\\item 64876.0375042912\n",
       "\\item 723.540870239958\n",
       "\\end{enumerate*}\n"
      ],
      "text/markdown": [
       "1. 64876.0375042912\n",
       "2. 723.540870239958\n",
       "\n",
       "\n"
      ],
      "text/plain": [
       "[1] 64876.0375   723.5409"
      ]
     },
     "metadata": {},
     "output_type": "display_data"
    }
   ],
   "source": [
    "gradient_approximation(fo,beta_0)"
   ]
  },
  {
   "cell_type": "code",
   "execution_count": 91,
   "metadata": {},
   "outputs": [
    {
     "data": {
      "text/html": [
       "<table>\n",
       "<caption>A matrix: 2 × 1 of type dbl</caption>\n",
       "<tbody>\n",
       "\t<tr><th scope=row>disp</th><td>64876.0371</td></tr>\n",
       "\t<tr><th scope=row>drat</th><td>  723.5409</td></tr>\n",
       "</tbody>\n",
       "</table>\n"
      ],
      "text/latex": [
       "A matrix: 2 × 1 of type dbl\n",
       "\\begin{tabular}{r|l}\n",
       "\tdisp & 64876.0371\\\\\n",
       "\tdrat &   723.5409\\\\\n",
       "\\end{tabular}\n"
      ],
      "text/markdown": [
       "\n",
       "A matrix: 2 × 1 of type dbl\n",
       "\n",
       "| disp | 64876.0371 |\n",
       "| drat |   723.5409 |\n",
       "\n"
      ],
      "text/plain": [
       "     [,1]      \n",
       "disp 64876.0371\n",
       "drat   723.5409"
      ]
     },
     "metadata": {},
     "output_type": "display_data"
    }
   ],
   "source": [
    "gf_evaluation(beta_0)"
   ]
  },
  {
   "cell_type": "code",
   "execution_count": 92,
   "metadata": {},
   "outputs": [
    {
     "data": {
      "text/html": [
       "<table>\n",
       "<caption>A matrix: 2 × 2 of type dbl</caption>\n",
       "<tbody>\n",
       "\t<tr><td>68106.6012</td><td>774.889486</td></tr>\n",
       "\t<tr><td>  774.8895</td><td>  3.637979</td></tr>\n",
       "</tbody>\n",
       "</table>\n"
      ],
      "text/latex": [
       "A matrix: 2 × 2 of type dbl\n",
       "\\begin{tabular}{ll}\n",
       "\t 68106.6012 & 774.889486\\\\\n",
       "\t   774.8895 &   3.637979\\\\\n",
       "\\end{tabular}\n"
      ],
      "text/markdown": [
       "\n",
       "A matrix: 2 × 2 of type dbl\n",
       "\n",
       "| 68106.6012 | 774.889486 |\n",
       "|   774.8895 |   3.637979 |\n",
       "\n"
      ],
      "text/plain": [
       "     [,1]       [,2]      \n",
       "[1,] 68106.6012 774.889486\n",
       "[2,]   774.8895   3.637979"
      ]
     },
     "metadata": {},
     "output_type": "display_data"
    }
   ],
   "source": [
    "Hessian_approximation(fo,beta_0)"
   ]
  },
  {
   "cell_type": "code",
   "execution_count": 93,
   "metadata": {},
   "outputs": [
    {
     "data": {
      "text/html": [
       "<table>\n",
       "<caption>A matrix: 2 × 2 of type dbl</caption>\n",
       "<thead>\n",
       "\t<tr><th></th><th scope=col>disp</th><th scope=col>drat</th></tr>\n",
       "</thead>\n",
       "<tbody>\n",
       "\t<tr><th scope=row>disp</th><td>68113.3584</td><td>784.21238</td></tr>\n",
       "\t<tr><th scope=row>drat</th><td>  784.2124</td><td> 13.21221</td></tr>\n",
       "</tbody>\n",
       "</table>\n"
      ],
      "text/latex": [
       "A matrix: 2 × 2 of type dbl\n",
       "\\begin{tabular}{r|ll}\n",
       "  & disp & drat\\\\\n",
       "\\hline\n",
       "\tdisp & 68113.3584 & 784.21238\\\\\n",
       "\tdrat &   784.2124 &  13.21221\\\\\n",
       "\\end{tabular}\n"
      ],
      "text/markdown": [
       "\n",
       "A matrix: 2 × 2 of type dbl\n",
       "\n",
       "| <!--/--> | disp | drat |\n",
       "|---|---|---|\n",
       "| disp | 68113.3584 | 784.21238 |\n",
       "| drat |   784.2124 |  13.21221 |\n",
       "\n"
      ],
      "text/plain": [
       "     disp       drat     \n",
       "disp 68113.3584 784.21238\n",
       "drat   784.2124  13.21221"
      ]
     },
     "metadata": {},
     "output_type": "display_data"
    }
   ],
   "source": [
    "Hessian_evaluation()"
   ]
  },
  {
   "cell_type": "code",
   "execution_count": 94,
   "metadata": {},
   "outputs": [
    {
     "data": {
      "text/html": [
       "<ol class=list-inline>\n",
       "\t<li>1</li>\n",
       "\t<li>1</li>\n",
       "</ol>\n"
      ],
      "text/latex": [
       "\\begin{enumerate*}\n",
       "\\item 1\n",
       "\\item 1\n",
       "\\end{enumerate*}\n"
      ],
      "text/markdown": [
       "1. 1\n",
       "2. 1\n",
       "\n",
       "\n"
      ],
      "text/plain": [
       "[1] 1 1"
      ]
     },
     "metadata": {},
     "output_type": "display_data"
    }
   ],
   "source": [
    "beta_0"
   ]
  },
  {
   "cell_type": "code",
   "execution_count": 95,
   "metadata": {},
   "outputs": [],
   "source": [
    "tol <- 1e-8\n",
    "tol_backtracking <- 1e-14\n",
    "maxiter <- 30\n",
    "p_ast <- fo(beta_ast)\n"
   ]
  },
  {
   "cell_type": "code",
   "execution_count": 96,
   "metadata": {},
   "outputs": [
    {
     "name": "stdout",
     "output_type": "stream",
     "text": [
      "I    Normgf   Newton Decrement   Error x_ast   Error p_ast   line search    condHf\n",
      "1    6.49e+04   6.18e+04           8.62e-01      3.10e+04      ---         1.32e+04\n",
      "2    4.89e+01   3.15e+02           1.28e+00      1.50e+02      1.00e+00    1.64e+04\n",
      "3    1.42e+00   3.62e-01           4.42e-02      1.78e-01      1.00e+00    1.66e+04\n",
      "4    2.95e-02   1.43e-04           8.68e-04      7.21e-05      1.00e+00    1.62e+04\n",
      "5    3.69e-04   9.53e-09           1.65e-05      6.86e-08      1.00e+00    1.57e+04\n",
      "Error of x with respect to x_ast: 1.65e-05\n",
      "Approximate solution:[1] -0.01682385  6.59064139\n"
     ]
    }
   ],
   "source": [
    "l<-Newtons_method(fo, beta_0, tol, tol_backtracking, beta_ast, p_ast, maxiter)"
   ]
  },
  {
   "cell_type": "code",
   "execution_count": 97,
   "metadata": {},
   "outputs": [],
   "source": [
    "beta <- l[[1]]\n",
    "total_of_iterations <- l[[2]]\n",
    "Err_plot <- l[[3]]\n",
    "beta_plot <- l[[4]]\n"
   ]
  },
  {
   "cell_type": "code",
   "execution_count": 98,
   "metadata": {},
   "outputs": [
    {
     "name": "stdout",
     "output_type": "stream",
     "text": [
      "[1] -0.01682385  6.59064139\n"
     ]
    }
   ],
   "source": [
    "print(beta)"
   ]
  },
  {
   "cell_type": "code",
   "execution_count": 99,
   "metadata": {},
   "outputs": [
    {
     "name": "stdout",
     "output_type": "stream",
     "text": [
      "              s0\n",
      "disp -0.01682177\n",
      "drat  6.59053287\n"
     ]
    }
   ],
   "source": [
    "print(beta_ast)"
   ]
  },
  {
   "cell_type": "code",
   "execution_count": 100,
   "metadata": {},
   "outputs": [
    {
     "data": {
      "text/html": [
       "9.77736750888745"
      ],
      "text/latex": [
       "9.77736750888745"
      ],
      "text/markdown": [
       "9.77736750888745"
      ],
      "text/plain": [
       "[1] 9.777368"
      ]
     },
     "metadata": {},
     "output_type": "display_data"
    }
   ],
   "source": [
    "fo(beta)"
   ]
  },
  {
   "cell_type": "code",
   "execution_count": 101,
   "metadata": {},
   "outputs": [
    {
     "data": {
      "text/html": [
       "<table>\n",
       "<caption>A matrix: 2 × 5 of type dbl</caption>\n",
       "<tbody>\n",
       "\t<tr><td>1</td><td> 0.07949562</td><td>-0.02019068</td><td>-0.01675652</td><td>-0.01682385</td></tr>\n",
       "\t<tr><td>1</td><td>-1.81796641</td><td> 6.88212076</td><td> 6.58481401</td><td> 6.59064139</td></tr>\n",
       "</tbody>\n",
       "</table>\n"
      ],
      "text/latex": [
       "A matrix: 2 × 5 of type dbl\n",
       "\\begin{tabular}{lllll}\n",
       "\t 1 &  0.07949562 & -0.02019068 & -0.01675652 & -0.01682385\\\\\n",
       "\t 1 & -1.81796641 &  6.88212076 &  6.58481401 &  6.59064139\\\\\n",
       "\\end{tabular}\n"
      ],
      "text/markdown": [
       "\n",
       "A matrix: 2 × 5 of type dbl\n",
       "\n",
       "| 1 |  0.07949562 | -0.02019068 | -0.01675652 | -0.01682385 |\n",
       "| 1 | -1.81796641 |  6.88212076 |  6.58481401 |  6.59064139 |\n",
       "\n"
      ],
      "text/plain": [
       "     [,1] [,2]        [,3]        [,4]        [,5]       \n",
       "[1,] 1     0.07949562 -0.02019068 -0.01675652 -0.01682385\n",
       "[2,] 1    -1.81796641  6.88212076  6.58481401  6.59064139"
      ]
     },
     "metadata": {},
     "output_type": "display_data"
    }
   ],
   "source": [
    "beta_plot"
   ]
  },
  {
   "cell_type": "code",
   "execution_count": 102,
   "metadata": {},
   "outputs": [
    {
     "data": {
      "image/png": "[encoded data removed]",
      "text/plain": [
       "plot without title"
      ]
     },
     "metadata": {
      "image/png": {
       "height": 420,
       "width": 420
      }
     },
     "output_type": "display_data"
    }
   ],
   "source": [
    "gg +\n",
    "geom_point(aes(x=beta_plot[1,],y=beta_plot[2,]),size=2) +\n",
    "#annotate(geom='text', x=0.5, y=0.47, \n",
    "#         label=TeX(\"x^{(0)}\", output='character'), parse=TRUE) + \n",
    "xlab('x') + ylab('y') + \n",
    "ggtitle(TeX('Iter del método de descenso en gradiente para $f_o$'))"
   ]
  },
  {
   "cell_type": "markdown",
   "metadata": {},
   "source": [
    "\n"
   ]
  },
  {
   "cell_type": "markdown",
   "metadata": {},
   "source": [
    "**Cambiando parámetro de regularización**"
   ]
  },
  {
   "cell_type": "code",
   "execution_count": 103,
   "metadata": {},
   "outputs": [],
   "source": [
    "reg<-0.2"
   ]
  },
  {
   "cell_type": "code",
   "execution_count": 104,
   "metadata": {},
   "outputs": [],
   "source": [
    "fit <- glmnet(A,y,alpha=1,lambda=reg,standardize=F,nlambda=1,intercept=F,thresh=1e-8)"
   ]
  },
  {
   "cell_type": "code",
   "execution_count": 105,
   "metadata": {},
   "outputs": [],
   "source": [
    "beta_ast <- as.matrix(fit$beta)\n"
   ]
  },
  {
   "cell_type": "code",
   "execution_count": 106,
   "metadata": {},
   "outputs": [
    {
     "name": "stdout",
     "output_type": "stream",
     "text": [
      "              s0\n",
      "disp -0.01766132\n",
      "drat  6.66307033\n"
     ]
    }
   ],
   "source": [
    "print(beta_ast)"
   ]
  },
  {
   "cell_type": "code",
   "execution_count": 107,
   "metadata": {},
   "outputs": [],
   "source": [
    "beta_0<-c(1,1)"
   ]
  },
  {
   "cell_type": "code",
   "execution_count": 108,
   "metadata": {},
   "outputs": [],
   "source": [
    "tol <- 1e-8\n",
    "tol_backtracking <- 1e-14\n",
    "maxiter <- 30\n",
    "p_ast <- fo(beta_ast)\n"
   ]
  },
  {
   "cell_type": "markdown",
   "metadata": {},
   "source": [
    "**Newtons method**"
   ]
  },
  {
   "cell_type": "code",
   "execution_count": 109,
   "metadata": {},
   "outputs": [
    {
     "name": "stdout",
     "output_type": "stream",
     "text": [
      "I    Normgf   Newton Decrement   Error x_ast   Error p_ast   line search    condHf\n",
      "1    6.49e+04   6.16e+04           8.64e-01      3.10e+04      ---         4.20e+04\n",
      "2    9.82e+01   1.19e+03           2.54e+00      6.05e+02      1.00e+00    1.60e+04\n",
      "3    2.51e+00   2.55e-01           3.73e-02      1.30e-01      1.00e+00    1.60e+04\n",
      "4    1.66e-02   5.67e-05           5.24e-04      2.77e-05      1.00e+00    1.66e+04\n",
      "5    5.20e-04   1.93e-08           3.37e-05      6.50e-08      1.00e+00    1.59e+04\n",
      "Error of x with respect to x_ast: 3.37e-05\n",
      "Approximate solution:[1] -0.01766474  6.66329488\n"
     ]
    }
   ],
   "source": [
    "l<-Newtons_method(fo, beta_0, tol, tol_backtracking, beta_ast, p_ast, maxiter)"
   ]
  },
  {
   "cell_type": "code",
   "execution_count": 110,
   "metadata": {},
   "outputs": [],
   "source": [
    "beta <- l[[1]]\n",
    "total_of_iterations <- l[[2]]\n",
    "Err_plot <- l[[3]]\n",
    "beta_plot <- l[[4]]\n"
   ]
  },
  {
   "cell_type": "code",
   "execution_count": 111,
   "metadata": {},
   "outputs": [
    {
     "name": "stdout",
     "output_type": "stream",
     "text": [
      "[1] -0.01766474  6.66329488\n"
     ]
    }
   ],
   "source": [
    "print(beta)"
   ]
  },
  {
   "cell_type": "code",
   "execution_count": 112,
   "metadata": {},
   "outputs": [
    {
     "name": "stdout",
     "output_type": "stream",
     "text": [
      "              s0\n",
      "disp -0.01766132\n",
      "drat  6.66307033\n"
     ]
    }
   ],
   "source": [
    "print(beta_ast)"
   ]
  },
  {
   "cell_type": "code",
   "execution_count": 113,
   "metadata": {},
   "outputs": [
    {
     "data": {
      "text/html": [
       "7.78410717807856"
      ],
      "text/latex": [
       "7.78410717807856"
      ],
      "text/markdown": [
       "7.78410717807856"
      ],
      "text/plain": [
       "[1] 7.784107"
      ]
     },
     "metadata": {},
     "output_type": "display_data"
    }
   ],
   "source": [
    "fo(beta)"
   ]
  },
  {
   "cell_type": "code",
   "execution_count": 114,
   "metadata": {},
   "outputs": [
    {
     "data": {
      "text/html": [
       "<table>\n",
       "<caption>A matrix: 2 × 5 of type dbl</caption>\n",
       "<tbody>\n",
       "\t<tr><td>1</td><td>  0.1764839</td><td>-0.01483255</td><td>-0.01762187</td><td>-0.01766474</td></tr>\n",
       "\t<tr><td>1</td><td>-10.2852230</td><td> 6.41439908</td><td> 6.65957987</td><td> 6.66329488</td></tr>\n",
       "</tbody>\n",
       "</table>\n"
      ],
      "text/latex": [
       "A matrix: 2 × 5 of type dbl\n",
       "\\begin{tabular}{lllll}\n",
       "\t 1 &   0.1764839 & -0.01483255 & -0.01762187 & -0.01766474\\\\\n",
       "\t 1 & -10.2852230 &  6.41439908 &  6.65957987 &  6.66329488\\\\\n",
       "\\end{tabular}\n"
      ],
      "text/markdown": [
       "\n",
       "A matrix: 2 × 5 of type dbl\n",
       "\n",
       "| 1 |   0.1764839 | -0.01483255 | -0.01762187 | -0.01766474 |\n",
       "| 1 | -10.2852230 |  6.41439908 |  6.65957987 |  6.66329488 |\n",
       "\n"
      ],
      "text/plain": [
       "     [,1] [,2]        [,3]        [,4]        [,5]       \n",
       "[1,] 1      0.1764839 -0.01483255 -0.01762187 -0.01766474\n",
       "[2,] 1    -10.2852230  6.41439908  6.65957987  6.66329488"
      ]
     },
     "metadata": {},
     "output_type": "display_data"
    }
   ],
   "source": [
    "beta_plot"
   ]
  },
  {
   "cell_type": "code",
   "execution_count": 115,
   "metadata": {},
   "outputs": [
    {
     "data": {
      "image/png": "[encoded data removed]",
      "text/plain": [
       "plot without title"
      ]
     },
     "metadata": {
      "image/png": {
       "height": 420,
       "width": 420
      }
     },
     "output_type": "display_data"
    }
   ],
   "source": [
    "gg +\n",
    "geom_point(aes(x=beta_plot[1,],y=beta_plot[2,]),size=2) +\n",
    "#annotate(geom='text', x=0.5, y=0.47, \n",
    "#         label=TeX(\"x^{(0)}\", output='character'), parse=TRUE) + \n",
    "xlab('x') + ylab('y') + \n",
    "ggtitle(TeX('Iter del método de descenso en gradiente para $f_o$'))"
   ]
  },
  {
   "cell_type": "markdown",
   "metadata": {},
   "source": [
    "### Penalización lasso vía descenso por coordenadas"
   ]
  },
  {
   "cell_type": "code",
   "execution_count": 116,
   "metadata": {},
   "outputs": [],
   "source": [
    "beta_0<-c(0,0)"
   ]
  },
  {
   "cell_type": "code",
   "execution_count": 117,
   "metadata": {},
   "outputs": [
    {
     "name": "stdout",
     "output_type": "stream",
     "text": [
      "I    Normagf   Error x_ast   Error p_ast   line search\n",
      "1    4.02e+03   1.00e+00      2.12e+02      ---\n",
      "2    1.60e+02   1.00e+00      9.31e+01      1.52587890625e-05\n",
      "3    2.86e+01   1.00e+00      9.29e+01      1.52587890625e-05\n",
      "4    2.73e+03   4.76e-01      7.59e+01      0.125\n",
      "5    1.08e+02   4.76e-01      2.11e+01      1.52587890625e-05\n",
      "6    1.39e+01   4.76e-01      2.10e+01      1.52587890625e-05\n",
      "7    1.30e+03   2.28e-01      1.72e+01      0.125\n",
      "8    5.20e+01   2.28e-01      4.84e+00      1.52587890625e-05\n",
      "9    6.64e+00   2.28e-01      4.82e+00      1.52587890625e-05\n",
      "10    6.22e+02   1.09e-01      3.95e+00      0.125\n",
      "11    2.47e+01   1.09e-01      1.11e+00      1.52587890625e-05\n",
      "12    3.18e+00   1.09e-01      1.11e+00      1.52587890625e-05\n",
      "13    2.98e+02   5.22e-02      9.05e-01      0.125\n",
      "14    1.18e+01   5.22e-02      2.55e-01      1.52587890625e-05\n",
      "15    1.52e+00   5.22e-02      2.54e-01      1.52587890625e-05\n",
      "16    1.43e+02   2.50e-02      2.08e-01      0.125\n",
      "17    5.66e+00   2.50e-02      5.84e-02      1.52587890625e-05\n",
      "18    7.29e-01   2.50e-02      5.82e-02      1.52587890625e-05\n",
      "19    6.84e+01   1.20e-02      4.77e-02      0.125\n",
      "20    2.71e+00   1.20e-02      1.34e-02      1.52587890625e-05\n",
      "21    3.49e-01   1.20e-02      1.33e-02      1.52587890625e-05\n",
      "22    3.27e+01   5.72e-03      1.09e-02      0.125\n",
      "23    1.30e+00   5.72e-03      3.07e-03      1.52587890625e-05\n",
      "24    1.67e-01   5.72e-03      3.06e-03      1.52587890625e-05\n",
      "25    1.57e+01   2.73e-03      2.51e-03      0.125\n",
      "26    6.23e-01   2.73e-03      7.05e-04      1.52587890625e-05\n",
      "27    8.02e-02   2.73e-03      7.02e-04      1.52587890625e-05\n",
      "28    7.51e+00   1.29e-03      5.75e-04      0.125\n",
      "29    2.98e-01   1.29e-03      1.62e-04      1.52587890625e-05\n",
      "30    3.84e-02   1.29e-03      1.61e-04      1.52587890625e-05\n",
      "Error of x with respect to x_ast: 1.29e-03\n",
      "Approximate solution:[1] -0.01756272  6.65444873\n"
     ]
    }
   ],
   "source": [
    "l<-coordinate_descent(fo, beta_0, tol, tol_backtracking, beta_ast, p_ast, maxiter)"
   ]
  },
  {
   "cell_type": "code",
   "execution_count": 118,
   "metadata": {},
   "outputs": [],
   "source": [
    "beta <- l[[1]]\n",
    "total_of_iterations <- l[[2]]\n",
    "Err_plot <- l[[3]]\n",
    "beta_plot <- l[[4]]\n"
   ]
  },
  {
   "cell_type": "code",
   "execution_count": 119,
   "metadata": {},
   "outputs": [
    {
     "name": "stdout",
     "output_type": "stream",
     "text": [
      "[1] -0.01756272  6.65444873\n"
     ]
    }
   ],
   "source": [
    "print(beta)"
   ]
  },
  {
   "cell_type": "code",
   "execution_count": 120,
   "metadata": {},
   "outputs": [
    {
     "name": "stdout",
     "output_type": "stream",
     "text": [
      "              s0\n",
      "disp -0.01766132\n",
      "drat  6.66307033\n"
     ]
    }
   ],
   "source": [
    "print(beta_ast)"
   ]
  },
  {
   "cell_type": "code",
   "execution_count": 121,
   "metadata": {},
   "outputs": [
    {
     "data": {
      "text/html": [
       "7.78426833374324"
      ],
      "text/latex": [
       "7.78426833374324"
      ],
      "text/markdown": [
       "7.78426833374324"
      ],
      "text/plain": [
       "[1] 7.784268"
      ]
     },
     "metadata": {},
     "output_type": "display_data"
    }
   ],
   "source": [
    "fo(beta)"
   ]
  },
  {
   "cell_type": "code",
   "execution_count": 122,
   "metadata": {},
   "outputs": [
    {
     "data": {
      "text/html": [
       "<table>\n",
       "<caption>A matrix: 2 × 30 of type dbl</caption>\n",
       "<tbody>\n",
       "\t<tr><td>0</td><td>0.06136831</td><td>0.05895485</td><td>0.05895485</td><td>0.01724231</td><td>0.01888275</td><td>0.01888275</td><td>-0.0009476207</td><td>-0.0001616408</td><td>-0.0001616408</td><td>⋯</td><td>-0.01674264</td><td>-0.01674264</td><td>-0.01724231</td><td>-0.01722266</td><td>-0.01722266</td><td>-0.01746201</td><td>-0.0174526</td><td>-0.0174526</td><td>-0.01756723</td><td>-0.01756272</td></tr>\n",
       "\t<tr><td>0</td><td>0.00000000</td><td>0.00000000</td><td>3.49381608</td><td>3.49381608</td><td>3.49381608</td><td>5.14563299</td><td> 5.1456329864</td><td> 5.1456329864</td><td> 5.9362877280</td><td>⋯</td><td> 6.58333947</td><td> 6.62496245</td><td> 6.62496245</td><td> 6.62496245</td><td> 6.64489965</td><td> 6.64489965</td><td> 6.6448997</td><td> 6.6544487</td><td> 6.65444873</td><td> 6.65444873</td></tr>\n",
       "</tbody>\n",
       "</table>\n"
      ],
      "text/latex": [
       "A matrix: 2 × 30 of type dbl\n",
       "\\begin{tabular}{lllllllllllllllllllll}\n",
       "\t 0 & 0.06136831 & 0.05895485 & 0.05895485 & 0.01724231 & 0.01888275 & 0.01888275 & -0.0009476207 & -0.0001616408 & -0.0001616408 & ⋯ & -0.01674264 & -0.01674264 & -0.01724231 & -0.01722266 & -0.01722266 & -0.01746201 & -0.0174526 & -0.0174526 & -0.01756723 & -0.01756272\\\\\n",
       "\t 0 & 0.00000000 & 0.00000000 & 3.49381608 & 3.49381608 & 3.49381608 & 5.14563299 &  5.1456329864 &  5.1456329864 &  5.9362877280 & ⋯ &  6.58333947 &  6.62496245 &  6.62496245 &  6.62496245 &  6.64489965 &  6.64489965 &  6.6448997 &  6.6544487 &  6.65444873 &  6.65444873\\\\\n",
       "\\end{tabular}\n"
      ],
      "text/markdown": [
       "\n",
       "A matrix: 2 × 30 of type dbl\n",
       "\n",
       "| 0 | 0.06136831 | 0.05895485 | 0.05895485 | 0.01724231 | 0.01888275 | 0.01888275 | -0.0009476207 | -0.0001616408 | -0.0001616408 | ⋯ | -0.01674264 | -0.01674264 | -0.01724231 | -0.01722266 | -0.01722266 | -0.01746201 | -0.0174526 | -0.0174526 | -0.01756723 | -0.01756272 |\n",
       "| 0 | 0.00000000 | 0.00000000 | 3.49381608 | 3.49381608 | 3.49381608 | 5.14563299 |  5.1456329864 |  5.1456329864 |  5.9362877280 | ⋯ |  6.58333947 |  6.62496245 |  6.62496245 |  6.62496245 |  6.64489965 |  6.64489965 |  6.6448997 |  6.6544487 |  6.65444873 |  6.65444873 |\n",
       "\n"
      ],
      "text/plain": [
       "     [,1] [,2]       [,3]       [,4]       [,5]       [,6]       [,7]      \n",
       "[1,] 0    0.06136831 0.05895485 0.05895485 0.01724231 0.01888275 0.01888275\n",
       "[2,] 0    0.00000000 0.00000000 3.49381608 3.49381608 3.49381608 5.14563299\n",
       "     [,8]          [,9]          [,10]         [,11] [,12]       [,13]      \n",
       "[1,] -0.0009476207 -0.0001616408 -0.0001616408 ⋯     -0.01674264 -0.01674264\n",
       "[2,]  5.1456329864  5.1456329864  5.9362877280 ⋯      6.58333947  6.62496245\n",
       "     [,14]       [,15]       [,16]       [,17]       [,18]      [,19]     \n",
       "[1,] -0.01724231 -0.01722266 -0.01722266 -0.01746201 -0.0174526 -0.0174526\n",
       "[2,]  6.62496245  6.62496245  6.64489965  6.64489965  6.6448997  6.6544487\n",
       "     [,20]       [,21]      \n",
       "[1,] -0.01756723 -0.01756272\n",
       "[2,]  6.65444873  6.65444873"
      ]
     },
     "metadata": {},
     "output_type": "display_data"
    }
   ],
   "source": [
    "beta_plot"
   ]
  },
  {
   "cell_type": "code",
   "execution_count": 123,
   "metadata": {},
   "outputs": [
    {
     "data": {
      "image/png": "[encoded data removed]",
      "text/plain": [
       "plot without title"
      ]
     },
     "metadata": {
      "image/png": {
       "height": 420,
       "width": 420
      }
     },
     "output_type": "display_data"
    }
   ],
   "source": [
    "gg +\n",
    "geom_point(aes(x=beta_plot[1,],y=beta_plot[2,]),size=2) +\n",
    "#annotate(geom='text', x=0.5, y=0.47, \n",
    "#         label=TeX(\"x^{(0)}\", output='character'), parse=TRUE) + \n",
    "xlab('x') + ylab('y') + \n",
    "ggtitle(TeX('Iter del método de descenso en gradiente para $f_o$'))"
   ]
  },
  {
   "cell_type": "markdown",
   "metadata": {},
   "source": [
    "**Comparación con gradient descent**"
   ]
  },
  {
   "cell_type": "code",
   "execution_count": 124,
   "metadata": {},
   "outputs": [
    {
     "name": "stdout",
     "output_type": "stream",
     "text": [
      "I    Normagf   Error x_ast   Error p_ast   line search\n",
      "1    4.02e+03   1.00e+00      2.12e+02      ---\n",
      "2    1.61e+02   1.00e+00      9.30e+01      1.52587890625e-05\n",
      "3    2.86e+01   1.00e+00      9.28e+01      1.52587890625e-05\n",
      "4    2.04e+02   9.98e-01      9.28e+01      0.00048828125\n",
      "5    2.89e+01   9.98e-01      9.25e+01      1.52587890625e-05\n",
      "6    1.28e+02   9.97e-01      9.24e+01      0.000244140625\n",
      "7    2.82e+01   9.97e-01      9.23e+01      1.52587890625e-05\n",
      "8    1.61e+02   9.95e-01      9.21e+01      0.00048828125\n",
      "9    2.84e+01   9.95e-01      9.19e+01      1.52587890625e-05\n",
      "10    2.04e+02   9.93e-01      9.18e+01      0.00048828125\n",
      "11    2.88e+01   9.92e-01      9.15e+01      1.52587890625e-05\n",
      "12    1.28e+02   9.91e-01      9.14e+01      0.000244140625\n",
      "13    2.81e+01   9.91e-01      9.13e+01      1.52587890625e-05\n",
      "14    1.61e+02   9.89e-01      9.11e+01      0.00048828125\n",
      "15    2.83e+01   9.89e-01      9.09e+01      1.52587890625e-05\n",
      "16    2.04e+02   9.87e-01      9.08e+01      0.00048828125\n",
      "17    2.87e+01   9.87e-01      9.05e+01      1.52587890625e-05\n",
      "18    1.28e+02   9.86e-01      9.04e+01      0.000244140625\n",
      "19    2.79e+01   9.86e-01      9.03e+01      1.52587890625e-05\n",
      "20    1.61e+02   9.84e-01      9.01e+01      0.00048828125\n",
      "21    2.81e+01   9.84e-01      8.99e+01      1.52587890625e-05\n",
      "22    2.04e+02   9.82e-01      8.99e+01      0.00048828125\n",
      "23    2.85e+01   9.82e-01      8.96e+01      1.52587890625e-05\n",
      "24    1.28e+02   9.81e-01      8.95e+01      0.000244140625\n",
      "25    2.78e+01   9.81e-01      8.94e+01      1.52587890625e-05\n",
      "26    1.61e+02   9.79e-01      8.92e+01      0.00048828125\n",
      "27    2.80e+01   9.79e-01      8.90e+01      1.52587890625e-05\n",
      "28    2.04e+02   9.77e-01      8.89e+01      0.00048828125\n",
      "29    2.84e+01   9.77e-01      8.86e+01      1.52587890625e-05\n",
      "30    1.28e+02   9.76e-01      8.85e+01      0.000244140625\n",
      "Error of x with respect to x_ast: 9.76e-01\n",
      "Approximate solution:[1] 0.05901972 0.16175495\n"
     ]
    }
   ],
   "source": [
    "l<-gradient_descent(fo, beta_0, tol, tol_backtracking, beta_ast, p_ast, maxiter)"
   ]
  },
  {
   "cell_type": "code",
   "execution_count": 125,
   "metadata": {},
   "outputs": [],
   "source": [
    "beta <- l[[1]]\n",
    "total_of_iterations <- l[[2]]\n",
    "Err_plot <- l[[3]]\n",
    "beta_plot <- l[[4]]\n"
   ]
  },
  {
   "cell_type": "code",
   "execution_count": 126,
   "metadata": {},
   "outputs": [
    {
     "name": "stdout",
     "output_type": "stream",
     "text": [
      "[1] 0.05901972 0.16175495\n"
     ]
    }
   ],
   "source": [
    "print(beta)"
   ]
  },
  {
   "cell_type": "code",
   "execution_count": 127,
   "metadata": {},
   "outputs": [
    {
     "name": "stdout",
     "output_type": "stream",
     "text": [
      "              s0\n",
      "disp -0.01766132\n",
      "drat  6.66307033\n"
     ]
    }
   ],
   "source": [
    "print(beta_ast)"
   ]
  },
  {
   "cell_type": "code",
   "execution_count": 128,
   "metadata": {},
   "outputs": [
    {
     "data": {
      "text/html": [
       "96.3340924948692"
      ],
      "text/latex": [
       "96.3340924948692"
      ],
      "text/markdown": [
       "96.3340924948692"
      ],
      "text/plain": [
       "[1] 96.33409"
      ]
     },
     "metadata": {},
     "output_type": "display_data"
    }
   ],
   "source": [
    "fo(beta)"
   ]
  },
  {
   "cell_type": "code",
   "execution_count": 129,
   "metadata": {},
   "outputs": [
    {
     "data": {
      "text/html": [
       "<table>\n",
       "<caption>A matrix: 2 × 30 of type dbl</caption>\n",
       "<tbody>\n",
       "\t<tr><td>0</td><td>0.061368308</td><td>0.058941308</td><td>0.06184346</td><td>0.05875461</td><td>0.06062378</td><td>0.05871641</td><td>0.06096286</td><td>0.05853562</td><td>0.06143894</td><td>⋯</td><td>0.05773067</td><td>0.06063629</td><td>0.05754652</td><td>0.05941755</td><td>0.05750965</td><td>0.05975933</td><td>0.05733139</td><td>0.06023815</td><td>0.05714807</td><td>0.05901972</td></tr>\n",
       "\t<tr><td>0</td><td>0.001131953</td><td>0.001529336</td><td>0.01517238</td><td>0.01556124</td><td>0.02237325</td><td>0.02277526</td><td>0.03636735</td><td>0.03676248</td><td>0.05033357</td><td>⋯</td><td>0.10667081</td><td>0.12009913</td><td>0.12048129</td><td>0.12718616</td><td>0.12758147</td><td>0.14095952</td><td>0.14134797</td><td>0.15470547</td><td>0.15508541</td><td>0.16175495</td></tr>\n",
       "</tbody>\n",
       "</table>\n"
      ],
      "text/latex": [
       "A matrix: 2 × 30 of type dbl\n",
       "\\begin{tabular}{lllllllllllllllllllll}\n",
       "\t 0 & 0.061368308 & 0.058941308 & 0.06184346 & 0.05875461 & 0.06062378 & 0.05871641 & 0.06096286 & 0.05853562 & 0.06143894 & ⋯ & 0.05773067 & 0.06063629 & 0.05754652 & 0.05941755 & 0.05750965 & 0.05975933 & 0.05733139 & 0.06023815 & 0.05714807 & 0.05901972\\\\\n",
       "\t 0 & 0.001131953 & 0.001529336 & 0.01517238 & 0.01556124 & 0.02237325 & 0.02277526 & 0.03636735 & 0.03676248 & 0.05033357 & ⋯ & 0.10667081 & 0.12009913 & 0.12048129 & 0.12718616 & 0.12758147 & 0.14095952 & 0.14134797 & 0.15470547 & 0.15508541 & 0.16175495\\\\\n",
       "\\end{tabular}\n"
      ],
      "text/markdown": [
       "\n",
       "A matrix: 2 × 30 of type dbl\n",
       "\n",
       "| 0 | 0.061368308 | 0.058941308 | 0.06184346 | 0.05875461 | 0.06062378 | 0.05871641 | 0.06096286 | 0.05853562 | 0.06143894 | ⋯ | 0.05773067 | 0.06063629 | 0.05754652 | 0.05941755 | 0.05750965 | 0.05975933 | 0.05733139 | 0.06023815 | 0.05714807 | 0.05901972 |\n",
       "| 0 | 0.001131953 | 0.001529336 | 0.01517238 | 0.01556124 | 0.02237325 | 0.02277526 | 0.03636735 | 0.03676248 | 0.05033357 | ⋯ | 0.10667081 | 0.12009913 | 0.12048129 | 0.12718616 | 0.12758147 | 0.14095952 | 0.14134797 | 0.15470547 | 0.15508541 | 0.16175495 |\n",
       "\n"
      ],
      "text/plain": [
       "     [,1] [,2]        [,3]        [,4]       [,5]       [,6]       [,7]      \n",
       "[1,] 0    0.061368308 0.058941308 0.06184346 0.05875461 0.06062378 0.05871641\n",
       "[2,] 0    0.001131953 0.001529336 0.01517238 0.01556124 0.02237325 0.02277526\n",
       "     [,8]       [,9]       [,10]      [,11] [,12]      [,13]      [,14]     \n",
       "[1,] 0.06096286 0.05853562 0.06143894 ⋯     0.05773067 0.06063629 0.05754652\n",
       "[2,] 0.03636735 0.03676248 0.05033357 ⋯     0.10667081 0.12009913 0.12048129\n",
       "     [,15]      [,16]      [,17]      [,18]      [,19]      [,20]     \n",
       "[1,] 0.05941755 0.05750965 0.05975933 0.05733139 0.06023815 0.05714807\n",
       "[2,] 0.12718616 0.12758147 0.14095952 0.14134797 0.15470547 0.15508541\n",
       "     [,21]     \n",
       "[1,] 0.05901972\n",
       "[2,] 0.16175495"
      ]
     },
     "metadata": {},
     "output_type": "display_data"
    }
   ],
   "source": [
    "beta_plot"
   ]
  },
  {
   "cell_type": "code",
   "execution_count": 130,
   "metadata": {},
   "outputs": [
    {
     "data": {
      "image/png": "[encoded data removed]",
      "text/plain": [
       "plot without title"
      ]
     },
     "metadata": {
      "image/png": {
       "height": 420,
       "width": 420
      }
     },
     "output_type": "display_data"
    }
   ],
   "source": [
    "gg +\n",
    "geom_point(aes(x=beta_plot[1,],y=beta_plot[2,]),size=2) +\n",
    "#annotate(geom='text', x=0.5, y=0.47, \n",
    "#         label=TeX(\"x^{(0)}\", output='character'), parse=TRUE) + \n",
    "xlab('x') + ylab('y') + \n",
    "ggtitle(TeX('Iter del método de descenso en gradiente para $f_o$'))"
   ]
  },
  {
   "cell_type": "markdown",
   "metadata": {},
   "source": [
    "**More columns**"
   ]
  },
  {
   "cell_type": "code",
   "execution_count": 131,
   "metadata": {},
   "outputs": [],
   "source": [
    "A<-X[,c(2,4,5,6)]"
   ]
  },
  {
   "cell_type": "code",
   "execution_count": 132,
   "metadata": {},
   "outputs": [],
   "source": [
    "fit <- glmnet(A,y,alpha=1,lambda=reg,standardize=F,nlambda=1,intercept=F,thresh=1e-8)"
   ]
  },
  {
   "cell_type": "code",
   "execution_count": 133,
   "metadata": {},
   "outputs": [],
   "source": [
    "beta_ast <- as.matrix(fit$beta)\n"
   ]
  },
  {
   "cell_type": "code",
   "execution_count": 134,
   "metadata": {},
   "outputs": [
    {
     "name": "stdout",
     "output_type": "stream",
     "text": [
      "                s0\n",
      "disp  0.0006973293\n",
      "drat  2.6120443627\n",
      "wt   -3.6222009972\n",
      "qsec  1.2403485581\n"
     ]
    }
   ],
   "source": [
    "print(beta_ast)"
   ]
  },
  {
   "cell_type": "code",
   "execution_count": 135,
   "metadata": {},
   "outputs": [],
   "source": [
    "beta_0<-c(1,1,1,1)"
   ]
  },
  {
   "cell_type": "code",
   "execution_count": 136,
   "metadata": {},
   "outputs": [],
   "source": [
    "tol <- 1e-8\n",
    "tol_backtracking <- 1e-14\n",
    "maxiter <- 30\n",
    "p_ast <- fo(beta_ast)\n"
   ]
  },
  {
   "cell_type": "markdown",
   "metadata": {},
   "source": [
    "**Newtons method**"
   ]
  },
  {
   "cell_type": "code",
   "execution_count": 137,
   "metadata": {},
   "outputs": [
    {
     "name": "stdout",
     "output_type": "stream",
     "text": [
      "I    Normgf   Newton Decrement   Error x_ast   Error p_ast   line search    condHf\n",
      "1    6.99e+04   7.14e+04           1.08e+00      3.57e+04      ---         3.58e+04\n",
      "2    1.62e+01   1.66e+01           1.41e+00      6.99e+00      1.00e+00    4.71e+05\n",
      "3    1.58e+00   4.78e+00           1.00e+00      2.09e+00      1.00e+00    5.34e+05\n",
      "4    3.38e-01   3.11e-01           1.89e-01      1.33e-01      1.00e+00    3.24e+05\n",
      "5    3.03e-01   9.68e-03           3.61e-02      4.24e-03      1.00e+00    7.76e+05\n",
      "6    2.92e-02   1.34e-04           5.76e-03      6.96e-05      1.00e+00    5.27e+05\n",
      "7    5.44e-03   4.01e-05           7.19e-04      1.07e-05      1.00e+00    3.14e+05\n",
      "8    2.18e-03   8.46e-05           1.62e-03      1.64e-05      1.00e+00    3.32e+06\n",
      "9    3.01e-03   8.49e-07           3.30e-03      2.16e-05      1.25e-01    4.48e+05\n",
      "10    1.01e-04   -1.91e-09           3.43e-03      2.20e-05      1.00e+00    1.97e+06\n",
      "Error of x with respect to x_ast: 3.43e-03\n",
      "Approximate solution:[1]  0.0006261966  2.6223707978 -3.6105443552  1.2371047935\n"
     ]
    }
   ],
   "source": [
    "l<-Newtons_method(fo, beta_0, tol, tol_backtracking, beta_ast, p_ast, maxiter)"
   ]
  },
  {
   "cell_type": "code",
   "execution_count": 138,
   "metadata": {},
   "outputs": [],
   "source": [
    "beta <- l[[1]]\n",
    "total_of_iterations <- l[[2]]\n",
    "Err_plot <- l[[3]]\n",
    "beta_plot <- l[[4]]\n"
   ]
  },
  {
   "cell_type": "code",
   "execution_count": 139,
   "metadata": {},
   "outputs": [
    {
     "name": "stdout",
     "output_type": "stream",
     "text": [
      "[1]  0.0006261966  2.6223707978 -3.6105443552  1.2371047935\n"
     ]
    }
   ],
   "source": [
    "print(beta)"
   ]
  },
  {
   "cell_type": "code",
   "execution_count": 140,
   "metadata": {},
   "outputs": [
    {
     "name": "stdout",
     "output_type": "stream",
     "text": [
      "                s0\n",
      "disp  0.0006973293\n",
      "drat  2.6120443627\n",
      "wt   -3.6222009972\n",
      "qsec  1.2403485581\n"
     ]
    }
   ],
   "source": [
    "print(beta_ast)"
   ]
  },
  {
   "cell_type": "code",
   "execution_count": 141,
   "metadata": {},
   "outputs": [
    {
     "data": {
      "text/html": [
       "4.59592896526597"
      ],
      "text/latex": [
       "4.59592896526597"
      ],
      "text/markdown": [
       "4.59592896526597"
      ],
      "text/plain": [
       "[1] 4.595929"
      ]
     },
     "metadata": {},
     "output_type": "display_data"
    }
   ],
   "source": [
    "fo(beta)"
   ]
  },
  {
   "cell_type": "code",
   "execution_count": 142,
   "metadata": {},
   "outputs": [
    {
     "data": {
      "text/html": [
       "<table>\n",
       "<caption>A matrix: 4 × 10 of type dbl</caption>\n",
       "<tbody>\n",
       "\t<tr><td>1</td><td>-0.05606289</td><td>-0.01851005</td><td>-0.003576263</td><td> 0.0009944162</td><td> 0.0005168405</td><td> 0.0007160974</td><td> 0.0006791189</td><td> 0.0006377508</td><td> 0.0006261966</td></tr>\n",
       "\t<tr><td>1</td><td>-0.12200766</td><td> 5.97538040</td><td> 1.869463441</td><td> 2.7751959837</td><td> 2.6038033655</td><td> 2.6095959668</td><td> 2.6183362938</td><td> 2.6231848830</td><td> 2.6223707978</td></tr>\n",
       "\t<tr><td>1</td><td> 2.31423223</td><td>-0.55655647</td><td>-3.169499864</td><td>-3.6324961838</td><td>-3.5968211157</td><td>-3.6243745447</td><td>-3.6184323138</td><td>-3.6122536944</td><td>-3.6105443552</td></tr>\n",
       "\t<tr><td>1</td><td> 1.48267081</td><td> 0.26564075</td><td> 1.362212247</td><td> 1.2057895393</td><td> 1.2396914838</td><td> 1.2409809623</td><td> 1.2386540494</td><td> 1.2371100579</td><td> 1.2371047935</td></tr>\n",
       "</tbody>\n",
       "</table>\n"
      ],
      "text/latex": [
       "A matrix: 4 × 10 of type dbl\n",
       "\\begin{tabular}{llllllllll}\n",
       "\t 1 & -0.05606289 & -0.01851005 & -0.003576263 &  0.0009944162 &  0.0005168405 &  0.0007160974 &  0.0006791189 &  0.0006377508 &  0.0006261966\\\\\n",
       "\t 1 & -0.12200766 &  5.97538040 &  1.869463441 &  2.7751959837 &  2.6038033655 &  2.6095959668 &  2.6183362938 &  2.6231848830 &  2.6223707978\\\\\n",
       "\t 1 &  2.31423223 & -0.55655647 & -3.169499864 & -3.6324961838 & -3.5968211157 & -3.6243745447 & -3.6184323138 & -3.6122536944 & -3.6105443552\\\\\n",
       "\t 1 &  1.48267081 &  0.26564075 &  1.362212247 &  1.2057895393 &  1.2396914838 &  1.2409809623 &  1.2386540494 &  1.2371100579 &  1.2371047935\\\\\n",
       "\\end{tabular}\n"
      ],
      "text/markdown": [
       "\n",
       "A matrix: 4 × 10 of type dbl\n",
       "\n",
       "| 1 | -0.05606289 | -0.01851005 | -0.003576263 |  0.0009944162 |  0.0005168405 |  0.0007160974 |  0.0006791189 |  0.0006377508 |  0.0006261966 |\n",
       "| 1 | -0.12200766 |  5.97538040 |  1.869463441 |  2.7751959837 |  2.6038033655 |  2.6095959668 |  2.6183362938 |  2.6231848830 |  2.6223707978 |\n",
       "| 1 |  2.31423223 | -0.55655647 | -3.169499864 | -3.6324961838 | -3.5968211157 | -3.6243745447 | -3.6184323138 | -3.6122536944 | -3.6105443552 |\n",
       "| 1 |  1.48267081 |  0.26564075 |  1.362212247 |  1.2057895393 |  1.2396914838 |  1.2409809623 |  1.2386540494 |  1.2371100579 |  1.2371047935 |\n",
       "\n"
      ],
      "text/plain": [
       "     [,1] [,2]        [,3]        [,4]         [,5]          [,6]         \n",
       "[1,] 1    -0.05606289 -0.01851005 -0.003576263  0.0009944162  0.0005168405\n",
       "[2,] 1    -0.12200766  5.97538040  1.869463441  2.7751959837  2.6038033655\n",
       "[3,] 1     2.31423223 -0.55655647 -3.169499864 -3.6324961838 -3.5968211157\n",
       "[4,] 1     1.48267081  0.26564075  1.362212247  1.2057895393  1.2396914838\n",
       "     [,7]          [,8]          [,9]          [,10]        \n",
       "[1,]  0.0007160974  0.0006791189  0.0006377508  0.0006261966\n",
       "[2,]  2.6095959668  2.6183362938  2.6231848830  2.6223707978\n",
       "[3,] -3.6243745447 -3.6184323138 -3.6122536944 -3.6105443552\n",
       "[4,]  1.2409809623  1.2386540494  1.2371100579  1.2371047935"
      ]
     },
     "metadata": {},
     "output_type": "display_data"
    }
   ],
   "source": [
    "beta_plot"
   ]
  },
  {
   "cell_type": "markdown",
   "metadata": {},
   "source": [
    "### Penalización ridge vía SVD"
   ]
  },
  {
   "cell_type": "code",
   "execution_count": 143,
   "metadata": {},
   "outputs": [],
   "source": [
    "reg<-.5"
   ]
  },
  {
   "cell_type": "code",
   "execution_count": 144,
   "metadata": {},
   "outputs": [],
   "source": [
    "y <- mtcars %>% select(mpg) %>% as.matrix()\n",
    "X <- mtcars %>% select(-mpg) %>% as.matrix()"
   ]
  },
  {
   "cell_type": "code",
   "execution_count": 145,
   "metadata": {},
   "outputs": [],
   "source": [
    "A<-X[,c(2,4)]"
   ]
  },
  {
   "cell_type": "markdown",
   "metadata": {},
   "source": [
    "Computation of ridge regression solution:"
   ]
  },
  {
   "cell_type": "code",
   "execution_count": 146,
   "metadata": {},
   "outputs": [],
   "source": [
    "#svd of A\n",
    "singular_value_decomposition <- svd(A)\n",
    "s <- singular_value_decomposition$d\n",
    "u <- singular_value_decomposition$u\n",
    "tv <- t(singular_value_decomposition$v)\n",
    "\n",
    "cte_svd <- s/(s^2+reg)*(t(u)%*%y)"
   ]
  },
  {
   "cell_type": "code",
   "execution_count": 147,
   "metadata": {},
   "outputs": [],
   "source": [
    "beta_ridge <- solve(tv,cte_svd)"
   ]
  },
  {
   "cell_type": "code",
   "execution_count": 148,
   "metadata": {},
   "outputs": [
    {
     "data": {
      "text/html": [
       "<table>\n",
       "<caption>A matrix: 2 × 1 of type dbl</caption>\n",
       "<thead>\n",
       "\t<tr><th scope=col>mpg</th></tr>\n",
       "</thead>\n",
       "<tbody>\n",
       "\t<tr><td>-0.01793611</td></tr>\n",
       "\t<tr><td> 6.68661032</td></tr>\n",
       "</tbody>\n",
       "</table>\n"
      ],
      "text/latex": [
       "A matrix: 2 × 1 of type dbl\n",
       "\\begin{tabular}{l}\n",
       " mpg\\\\\n",
       "\\hline\n",
       "\t -0.01793611\\\\\n",
       "\t  6.68661032\\\\\n",
       "\\end{tabular}\n"
      ],
      "text/markdown": [
       "\n",
       "A matrix: 2 × 1 of type dbl\n",
       "\n",
       "| mpg |\n",
       "|---|\n",
       "| -0.01793611 |\n",
       "|  6.68661032 |\n",
       "\n"
      ],
      "text/plain": [
       "     mpg        \n",
       "[1,] -0.01793611\n",
       "[2,]  6.68661032"
      ]
     },
     "metadata": {},
     "output_type": "display_data"
    }
   ],
   "source": [
    "beta_ridge"
   ]
  },
  {
   "cell_type": "code",
   "execution_count": 149,
   "metadata": {},
   "outputs": [],
   "source": [
    "fit <- glmnet(A,y,alpha=0,lambda=reg,standardize=F,nlambda=1,intercept=F,thresh=1e-8)"
   ]
  },
  {
   "cell_type": "code",
   "execution_count": 150,
   "metadata": {},
   "outputs": [],
   "source": [
    "beta_ast <- as.matrix(fit$beta)\n"
   ]
  },
  {
   "cell_type": "code",
   "execution_count": 151,
   "metadata": {},
   "outputs": [
    {
     "name": "stdout",
     "output_type": "stream",
     "text": [
      "              s0\n",
      "disp -0.01669418\n",
      "drat  6.57883316\n"
     ]
    }
   ],
   "source": [
    "print(beta_ast)"
   ]
  },
  {
   "cell_type": "markdown",
   "metadata": {},
   "source": [
    "**Más columnas:**"
   ]
  },
  {
   "cell_type": "code",
   "execution_count": 152,
   "metadata": {},
   "outputs": [],
   "source": [
    "A<-X[,c(2,4,5,6)]"
   ]
  },
  {
   "cell_type": "code",
   "execution_count": 153,
   "metadata": {},
   "outputs": [],
   "source": [
    "fit <- glmnet(A,y,alpha=0,lambda=reg,standardize=F,nlambda=1,intercept=F,thresh=1e-8)"
   ]
  },
  {
   "cell_type": "code",
   "execution_count": 154,
   "metadata": {},
   "outputs": [],
   "source": [
    "beta_ast <- as.matrix(fit$beta)\n"
   ]
  },
  {
   "cell_type": "code",
   "execution_count": 155,
   "metadata": {},
   "outputs": [
    {
     "name": "stdout",
     "output_type": "stream",
     "text": [
      "               s0\n",
      "disp -0.002266897\n",
      "drat  2.574343046\n",
      "wt   -3.235364158\n",
      "qsec  1.216575201\n"
     ]
    }
   ],
   "source": [
    "print(beta_ast)"
   ]
  },
  {
   "cell_type": "code",
   "execution_count": 156,
   "metadata": {},
   "outputs": [],
   "source": [
    "#svd of A\n",
    "singular_value_decomposition <- svd(A)\n",
    "s <- singular_value_decomposition$d\n",
    "u <- singular_value_decomposition$u\n",
    "tv <- t(singular_value_decomposition$v)\n",
    "\n",
    "cte_svd <- s/(s^2+reg)*(t(u)%*%y)"
   ]
  },
  {
   "cell_type": "code",
   "execution_count": 157,
   "metadata": {},
   "outputs": [],
   "source": [
    "beta_ridge <- solve(tv,cte_svd)"
   ]
  },
  {
   "cell_type": "code",
   "execution_count": 158,
   "metadata": {},
   "outputs": [
    {
     "data": {
      "text/html": [
       "<table>\n",
       "<caption>A matrix: 4 × 1 of type dbl</caption>\n",
       "<thead>\n",
       "\t<tr><th scope=col>mpg</th></tr>\n",
       "</thead>\n",
       "<tbody>\n",
       "\t<tr><td> 0.007263538</td></tr>\n",
       "\t<tr><td> 2.819440010</td></tr>\n",
       "\t<tr><td>-4.490056911</td></tr>\n",
       "\t<tr><td> 1.271431770</td></tr>\n",
       "</tbody>\n",
       "</table>\n"
      ],
      "text/latex": [
       "A matrix: 4 × 1 of type dbl\n",
       "\\begin{tabular}{l}\n",
       " mpg\\\\\n",
       "\\hline\n",
       "\t  0.007263538\\\\\n",
       "\t  2.819440010\\\\\n",
       "\t -4.490056911\\\\\n",
       "\t  1.271431770\\\\\n",
       "\\end{tabular}\n"
      ],
      "text/markdown": [
       "\n",
       "A matrix: 4 × 1 of type dbl\n",
       "\n",
       "| mpg |\n",
       "|---|\n",
       "|  0.007263538 |\n",
       "|  2.819440010 |\n",
       "| -4.490056911 |\n",
       "|  1.271431770 |\n",
       "\n"
      ],
      "text/plain": [
       "     mpg         \n",
       "[1,]  0.007263538\n",
       "[2,]  2.819440010\n",
       "[3,] -4.490056911\n",
       "[4,]  1.271431770"
      ]
     },
     "metadata": {},
     "output_type": "display_data"
    }
   ],
   "source": [
    "beta_ridge"
   ]
  },
  {
   "cell_type": "code",
   "execution_count": 159,
   "metadata": {},
   "outputs": [],
   "source": [
    "fo <-function(beta)1/mpoints*(1/2*cte - sum(beta*(t(A)%*%y)) + 1/2*sum(beta*(t(A)%*%(A%*%beta)))) + reg/2*sum(beta*beta)\n"
   ]
  },
  {
   "cell_type": "code",
   "execution_count": 160,
   "metadata": {},
   "outputs": [
    {
     "data": {
      "text/html": [
       "<pre class=language-r><code>function (beta) \n",
       "1/mpoints * (1/2 * cte - sum(beta * (t(A) %*% y)) + 1/2 * sum(beta * \n",
       "<span style=white-space:pre-wrap>    (t(A) %*% (A %*% beta)))) + reg/2 * sum(beta * beta)</span></code></pre>"
      ],
      "text/latex": [
       "\\begin{minted}{r}\n",
       "function (beta) \n",
       "1/mpoints * (1/2 * cte - sum(beta * (t(A) \\%*\\% y)) + 1/2 * sum(beta * \n",
       "    (t(A) \\%*\\% (A \\%*\\% beta)))) + reg/2 * sum(beta * beta)\n",
       "\\end{minted}"
      ],
      "text/markdown": [
       "```r\n",
       "function (beta) \n",
       "1/mpoints * (1/2 * cte - sum(beta * (t(A) %*% y)) + 1/2 * sum(beta * \n",
       "    (t(A) %*% (A %*% beta)))) + reg/2 * sum(beta * beta)\n",
       "```"
      ],
      "text/plain": [
       "function(beta)1/mpoints*(1/2*cte - sum(beta*(t(A)%*%y)) + 1/2*sum(beta*(t(A)%*%(A%*%beta)))) + reg/2*sum(beta*beta)"
      ]
     },
     "metadata": {},
     "output_type": "display_data"
    }
   ],
   "source": [
    "fo"
   ]
  },
  {
   "cell_type": "code",
   "execution_count": 161,
   "metadata": {},
   "outputs": [],
   "source": [
    "Hessian_evaluation<-function(beta)1/mpoints*t(A)%*%A + reg*diag(rep(length(beta)))"
   ]
  },
  {
   "cell_type": "code",
   "execution_count": 162,
   "metadata": {},
   "outputs": [],
   "source": [
    "gf_evaluation<- function(beta) 1/mpoints * t(A)%*%(A%*%beta-y) + reg*beta"
   ]
  },
  {
   "cell_type": "code",
   "execution_count": 163,
   "metadata": {},
   "outputs": [],
   "source": [
    "beta_0<-c(1,1,1,1)"
   ]
  },
  {
   "cell_type": "code",
   "execution_count": 164,
   "metadata": {},
   "outputs": [
    {
     "data": {
      "text/html": [
       "<ol class=list-inline>\n",
       "\t<li>69747.6956702303</li>\n",
       "\t<li>799.031113274395</li>\n",
       "\t<li>867.046037456021</li>\n",
       "\t<li>4105.66572099924</li>\n",
       "</ol>\n"
      ],
      "text/latex": [
       "\\begin{enumerate*}\n",
       "\\item 69747.6956702303\n",
       "\\item 799.031113274395\n",
       "\\item 867.046037456021\n",
       "\\item 4105.66572099924\n",
       "\\end{enumerate*}\n"
      ],
      "text/markdown": [
       "1. 69747.6956702303\n",
       "2. 799.031113274395\n",
       "3. 867.046037456021\n",
       "4. 4105.66572099924\n",
       "\n",
       "\n"
      ],
      "text/plain": [
       "[1] 69747.6957   799.0311   867.0460  4105.6657"
      ]
     },
     "metadata": {},
     "output_type": "display_data"
    }
   ],
   "source": [
    "gradient_approximation(fo,beta_0)"
   ]
  },
  {
   "cell_type": "code",
   "execution_count": 165,
   "metadata": {},
   "outputs": [
    {
     "data": {
      "text/html": [
       "<table>\n",
       "<caption>A matrix: 4 × 1 of type dbl</caption>\n",
       "<tbody>\n",
       "\t<tr><th scope=row>disp</th><td>69747.6931</td></tr>\n",
       "\t<tr><th scope=row>drat</th><td>  799.0295</td></tr>\n",
       "\t<tr><th scope=row>wt</th><td>  867.0453</td></tr>\n",
       "\t<tr><th scope=row>qsec</th><td> 4105.6640</td></tr>\n",
       "</tbody>\n",
       "</table>\n"
      ],
      "text/latex": [
       "A matrix: 4 × 1 of type dbl\n",
       "\\begin{tabular}{r|l}\n",
       "\tdisp & 69747.6931\\\\\n",
       "\tdrat &   799.0295\\\\\n",
       "\twt &   867.0453\\\\\n",
       "\tqsec &  4105.6640\\\\\n",
       "\\end{tabular}\n"
      ],
      "text/markdown": [
       "\n",
       "A matrix: 4 × 1 of type dbl\n",
       "\n",
       "| disp | 69747.6931 |\n",
       "| drat |   799.0295 |\n",
       "| wt |   867.0453 |\n",
       "| qsec |  4105.6640 |\n",
       "\n"
      ],
      "text/plain": [
       "     [,1]      \n",
       "disp 69747.6931\n",
       "drat   799.0295\n",
       "wt     867.0453\n",
       "qsec  4105.6640"
      ]
     },
     "metadata": {},
     "output_type": "display_data"
    }
   ],
   "source": [
    "gf_evaluation(beta_0)"
   ]
  },
  {
   "cell_type": "code",
   "execution_count": 166,
   "metadata": {},
   "outputs": [
    {
     "data": {
      "text/html": [
       "<table>\n",
       "<caption>A matrix: 4 × 4 of type dbl</caption>\n",
       "<tbody>\n",
       "\t<tr><td>68095.6873</td><td>763.975549</td><td>829.45917</td><td>4016.32860</td></tr>\n",
       "\t<tr><td>  763.9755</td><td> -7.275958</td><td>-14.55192</td><td>  50.93170</td></tr>\n",
       "\t<tr><td>  829.4592</td><td>-14.551915</td><td>-14.55192</td><td>  36.37979</td></tr>\n",
       "\t<tr><td> 4016.3286</td><td> 50.931703</td><td> 36.37979</td><td> 312.86618</td></tr>\n",
       "</tbody>\n",
       "</table>\n"
      ],
      "text/latex": [
       "A matrix: 4 × 4 of type dbl\n",
       "\\begin{tabular}{llll}\n",
       "\t 68095.6873 & 763.975549 & 829.45917 & 4016.32860\\\\\n",
       "\t   763.9755 &  -7.275958 & -14.55192 &   50.93170\\\\\n",
       "\t   829.4592 & -14.551915 & -14.55192 &   36.37979\\\\\n",
       "\t  4016.3286 &  50.931703 &  36.37979 &  312.86618\\\\\n",
       "\\end{tabular}\n"
      ],
      "text/markdown": [
       "\n",
       "A matrix: 4 × 4 of type dbl\n",
       "\n",
       "| 68095.6873 | 763.975549 | 829.45917 | 4016.32860 |\n",
       "|   763.9755 |  -7.275958 | -14.55192 |   50.93170 |\n",
       "|   829.4592 | -14.551915 | -14.55192 |   36.37979 |\n",
       "|  4016.3286 |  50.931703 |  36.37979 |  312.86618 |\n",
       "\n"
      ],
      "text/plain": [
       "     [,1]       [,2]       [,3]      [,4]      \n",
       "[1,] 68095.6873 763.975549 829.45917 4016.32860\n",
       "[2,]   763.9755  -7.275958 -14.55192   50.93170\n",
       "[3,]   829.4592 -14.551915 -14.55192   36.37979\n",
       "[4,]  4016.3286  50.931703  36.37979  312.86618"
      ]
     },
     "metadata": {},
     "output_type": "display_data"
    }
   ],
   "source": [
    "Hessian_approximation(fo,beta_0)"
   ]
  },
  {
   "cell_type": "code",
   "execution_count": 167,
   "metadata": {},
   "outputs": [
    {
     "data": {
      "text/html": [
       "<table>\n",
       "<caption>A matrix: 4 × 4 of type dbl</caption>\n",
       "<thead>\n",
       "\t<tr><th></th><th scope=col>disp</th><th scope=col>drat</th><th scope=col>wt</th><th scope=col>qsec</th></tr>\n",
       "</thead>\n",
       "<tbody>\n",
       "\t<tr><th scope=row>disp</th><td>68113.8584</td><td>784.21238</td><td>846.60903</td><td>4025.04700</td></tr>\n",
       "\t<tr><th scope=row>drat</th><td>  784.2124</td><td> 13.71221</td><td> 11.20997</td><td>  64.27856</td></tr>\n",
       "\t<tr><th scope=row>wt</th><td>  846.6090</td><td> 11.20997</td><td> 11.77816</td><td>  57.12796</td></tr>\n",
       "\t<tr><th scope=row>qsec</th><td> 4025.0470</td><td> 64.27856</td><td> 57.12796</td><td> 322.17126</td></tr>\n",
       "</tbody>\n",
       "</table>\n"
      ],
      "text/latex": [
       "A matrix: 4 × 4 of type dbl\n",
       "\\begin{tabular}{r|llll}\n",
       "  & disp & drat & wt & qsec\\\\\n",
       "\\hline\n",
       "\tdisp & 68113.8584 & 784.21238 & 846.60903 & 4025.04700\\\\\n",
       "\tdrat &   784.2124 &  13.71221 &  11.20997 &   64.27856\\\\\n",
       "\twt &   846.6090 &  11.20997 &  11.77816 &   57.12796\\\\\n",
       "\tqsec &  4025.0470 &  64.27856 &  57.12796 &  322.17126\\\\\n",
       "\\end{tabular}\n"
      ],
      "text/markdown": [
       "\n",
       "A matrix: 4 × 4 of type dbl\n",
       "\n",
       "| <!--/--> | disp | drat | wt | qsec |\n",
       "|---|---|---|---|---|\n",
       "| disp | 68113.8584 | 784.21238 | 846.60903 | 4025.04700 |\n",
       "| drat |   784.2124 |  13.71221 |  11.20997 |   64.27856 |\n",
       "| wt |   846.6090 |  11.20997 |  11.77816 |   57.12796 |\n",
       "| qsec |  4025.0470 |  64.27856 |  57.12796 |  322.17126 |\n",
       "\n"
      ],
      "text/plain": [
       "     disp       drat      wt        qsec      \n",
       "disp 68113.8584 784.21238 846.60903 4025.04700\n",
       "drat   784.2124  13.71221  11.20997   64.27856\n",
       "wt     846.6090  11.20997  11.77816   57.12796\n",
       "qsec  4025.0470  64.27856  57.12796  322.17126"
      ]
     },
     "metadata": {},
     "output_type": "display_data"
    }
   ],
   "source": [
    "Hessian_evaluation(beta_0)"
   ]
  },
  {
   "cell_type": "code",
   "execution_count": 168,
   "metadata": {},
   "outputs": [
    {
     "data": {
      "text/html": [
       "124559.09175464"
      ],
      "text/latex": [
       "124559.09175464"
      ],
      "text/markdown": [
       "124559.09175464"
      ],
      "text/plain": [
       "[1] 124559.1"
      ]
     },
     "metadata": {},
     "output_type": "display_data"
    }
   ],
   "source": [
    "kappa(Hessian_evaluation(beta_0))"
   ]
  },
  {
   "cell_type": "code",
   "execution_count": 169,
   "metadata": {},
   "outputs": [],
   "source": [
    "beta_0<-c(0,0,0,0)"
   ]
  },
  {
   "cell_type": "code",
   "execution_count": 170,
   "metadata": {},
   "outputs": [
    {
     "data": {
      "text/html": [
       "<ol class=list-inline>\n",
       "\t<li>-4022.03340854612</li>\n",
       "\t<li>-74.3836551464483</li>\n",
       "\t<li>-59.679774722099</li>\n",
       "\t<li>-362.960778943489</li>\n",
       "</ol>\n"
      ],
      "text/latex": [
       "\\begin{enumerate*}\n",
       "\\item -4022.03340854612\n",
       "\\item -74.3836551464483\n",
       "\\item -59.679774722099\n",
       "\\item -362.960778943489\n",
       "\\end{enumerate*}\n"
      ],
      "text/markdown": [
       "1. -4022.03340854612\n",
       "2. -74.3836551464483\n",
       "3. -59.679774722099\n",
       "4. -362.960778943489\n",
       "\n",
       "\n"
      ],
      "text/plain": [
       "[1] -4022.03341   -74.38366   -59.67977  -362.96078"
      ]
     },
     "metadata": {},
     "output_type": "display_data"
    }
   ],
   "source": [
    "gradient_approximation(fo,beta_0)"
   ]
  },
  {
   "cell_type": "code",
   "execution_count": 171,
   "metadata": {},
   "outputs": [
    {
     "data": {
      "text/html": [
       "<table>\n",
       "<caption>A matrix: 4 × 1 of type dbl</caption>\n",
       "<tbody>\n",
       "\t<tr><th scope=row>disp</th><td>-4022.03375</td></tr>\n",
       "\t<tr><th scope=row>drat</th><td>  -74.38366</td></tr>\n",
       "\t<tr><th scope=row>wt</th><td>  -59.67977</td></tr>\n",
       "\t<tr><th scope=row>qsec</th><td> -362.96078</td></tr>\n",
       "</tbody>\n",
       "</table>\n"
      ],
      "text/latex": [
       "A matrix: 4 × 1 of type dbl\n",
       "\\begin{tabular}{r|l}\n",
       "\tdisp & -4022.03375\\\\\n",
       "\tdrat &   -74.38366\\\\\n",
       "\twt &   -59.67977\\\\\n",
       "\tqsec &  -362.96078\\\\\n",
       "\\end{tabular}\n"
      ],
      "text/markdown": [
       "\n",
       "A matrix: 4 × 1 of type dbl\n",
       "\n",
       "| disp | -4022.03375 |\n",
       "| drat |   -74.38366 |\n",
       "| wt |   -59.67977 |\n",
       "| qsec |  -362.96078 |\n",
       "\n"
      ],
      "text/plain": [
       "     [,1]       \n",
       "disp -4022.03375\n",
       "drat   -74.38366\n",
       "wt     -59.67977\n",
       "qsec  -362.96078"
      ]
     },
     "metadata": {},
     "output_type": "display_data"
    }
   ],
   "source": [
    "gf_evaluation(beta_0)"
   ]
  },
  {
   "cell_type": "code",
   "execution_count": 172,
   "metadata": {},
   "outputs": [
    {
     "data": {
      "text/html": [
       "<table>\n",
       "<caption>A matrix: 4 × 4 of type dbl</caption>\n",
       "<tbody>\n",
       "\t<tr><td>68113.8204</td><td>784.21181</td><td>846.62588</td><td>4025.05407</td></tr>\n",
       "\t<tr><td>  784.2118</td><td> 13.72769</td><td> 11.22658</td><td>  64.28991</td></tr>\n",
       "\t<tr><td>  846.6259</td><td> 11.22658</td><td> 11.79501</td><td>  57.12764</td></tr>\n",
       "\t<tr><td> 4025.0541</td><td> 64.28991</td><td> 57.12764</td><td> 322.16008</td></tr>\n",
       "</tbody>\n",
       "</table>\n"
      ],
      "text/latex": [
       "A matrix: 4 × 4 of type dbl\n",
       "\\begin{tabular}{llll}\n",
       "\t 68113.8204 & 784.21181 & 846.62588 & 4025.05407\\\\\n",
       "\t   784.2118 &  13.72769 &  11.22658 &   64.28991\\\\\n",
       "\t   846.6259 &  11.22658 &  11.79501 &   57.12764\\\\\n",
       "\t  4025.0541 &  64.28991 &  57.12764 &  322.16008\\\\\n",
       "\\end{tabular}\n"
      ],
      "text/markdown": [
       "\n",
       "A matrix: 4 × 4 of type dbl\n",
       "\n",
       "| 68113.8204 | 784.21181 | 846.62588 | 4025.05407 |\n",
       "|   784.2118 |  13.72769 |  11.22658 |   64.28991 |\n",
       "|   846.6259 |  11.22658 |  11.79501 |   57.12764 |\n",
       "|  4025.0541 |  64.28991 |  57.12764 |  322.16008 |\n",
       "\n"
      ],
      "text/plain": [
       "     [,1]       [,2]      [,3]      [,4]      \n",
       "[1,] 68113.8204 784.21181 846.62588 4025.05407\n",
       "[2,]   784.2118  13.72769  11.22658   64.28991\n",
       "[3,]   846.6259  11.22658  11.79501   57.12764\n",
       "[4,]  4025.0541  64.28991  57.12764  322.16008"
      ]
     },
     "metadata": {},
     "output_type": "display_data"
    }
   ],
   "source": [
    "Hessian_approximation(fo,beta_0)"
   ]
  },
  {
   "cell_type": "code",
   "execution_count": 173,
   "metadata": {},
   "outputs": [
    {
     "data": {
      "text/html": [
       "<table>\n",
       "<caption>A matrix: 4 × 4 of type dbl</caption>\n",
       "<thead>\n",
       "\t<tr><th></th><th scope=col>disp</th><th scope=col>drat</th><th scope=col>wt</th><th scope=col>qsec</th></tr>\n",
       "</thead>\n",
       "<tbody>\n",
       "\t<tr><th scope=row>disp</th><td>68113.8584</td><td>784.21238</td><td>846.60903</td><td>4025.04700</td></tr>\n",
       "\t<tr><th scope=row>drat</th><td>  784.2124</td><td> 13.71221</td><td> 11.20997</td><td>  64.27856</td></tr>\n",
       "\t<tr><th scope=row>wt</th><td>  846.6090</td><td> 11.20997</td><td> 11.77816</td><td>  57.12796</td></tr>\n",
       "\t<tr><th scope=row>qsec</th><td> 4025.0470</td><td> 64.27856</td><td> 57.12796</td><td> 322.17126</td></tr>\n",
       "</tbody>\n",
       "</table>\n"
      ],
      "text/latex": [
       "A matrix: 4 × 4 of type dbl\n",
       "\\begin{tabular}{r|llll}\n",
       "  & disp & drat & wt & qsec\\\\\n",
       "\\hline\n",
       "\tdisp & 68113.8584 & 784.21238 & 846.60903 & 4025.04700\\\\\n",
       "\tdrat &   784.2124 &  13.71221 &  11.20997 &   64.27856\\\\\n",
       "\twt &   846.6090 &  11.20997 &  11.77816 &   57.12796\\\\\n",
       "\tqsec &  4025.0470 &  64.27856 &  57.12796 &  322.17126\\\\\n",
       "\\end{tabular}\n"
      ],
      "text/markdown": [
       "\n",
       "A matrix: 4 × 4 of type dbl\n",
       "\n",
       "| <!--/--> | disp | drat | wt | qsec |\n",
       "|---|---|---|---|---|\n",
       "| disp | 68113.8584 | 784.21238 | 846.60903 | 4025.04700 |\n",
       "| drat |   784.2124 |  13.71221 |  11.20997 |   64.27856 |\n",
       "| wt |   846.6090 |  11.20997 |  11.77816 |   57.12796 |\n",
       "| qsec |  4025.0470 |  64.27856 |  57.12796 |  322.17126 |\n",
       "\n"
      ],
      "text/plain": [
       "     disp       drat      wt        qsec      \n",
       "disp 68113.8584 784.21238 846.60903 4025.04700\n",
       "drat   784.2124  13.71221  11.20997   64.27856\n",
       "wt     846.6090  11.20997  11.77816   57.12796\n",
       "qsec  4025.0470  64.27856  57.12796  322.17126"
      ]
     },
     "metadata": {},
     "output_type": "display_data"
    }
   ],
   "source": [
    "Hessian_evaluation(beta_0)"
   ]
  },
  {
   "cell_type": "code",
   "execution_count": 174,
   "metadata": {},
   "outputs": [
    {
     "data": {
      "text/html": [
       "124559.09175464"
      ],
      "text/latex": [
       "124559.09175464"
      ],
      "text/markdown": [
       "124559.09175464"
      ],
      "text/plain": [
       "[1] 124559.1"
      ]
     },
     "metadata": {},
     "output_type": "display_data"
    }
   ],
   "source": [
    "kappa(Hessian_evaluation(beta_0))"
   ]
  },
  {
   "cell_type": "code",
   "execution_count": 175,
   "metadata": {},
   "outputs": [
    {
     "data": {
      "text/html": [
       "588095.389032915"
      ],
      "text/latex": [
       "588095.389032915"
      ],
      "text/markdown": [
       "588095.389032915"
      ],
      "text/plain": [
       "[1] 588095.4"
      ]
     },
     "metadata": {},
     "output_type": "display_data"
    }
   ],
   "source": [
    "kappa(t(A)%*%A)"
   ]
  },
  {
   "cell_type": "markdown",
   "metadata": {},
   "source": [
    "**Other selection of columns**"
   ]
  },
  {
   "cell_type": "code",
   "execution_count": 176,
   "metadata": {},
   "outputs": [],
   "source": [
    "A<-X[,c(4,5,6)]"
   ]
  },
  {
   "cell_type": "code",
   "execution_count": 177,
   "metadata": {},
   "outputs": [
    {
     "data": {
      "text/html": [
       "<table>\n",
       "<caption>A matrix: 3 × 3 of type dbl</caption>\n",
       "<thead>\n",
       "\t<tr><th></th><th scope=col>drat</th><th scope=col>wt</th><th scope=col>qsec</th></tr>\n",
       "</thead>\n",
       "<tbody>\n",
       "\t<tr><th scope=row>drat</th><td> 1.00000000</td><td>-0.7124406</td><td> 0.09120476</td></tr>\n",
       "\t<tr><th scope=row>wt</th><td>-0.71244065</td><td> 1.0000000</td><td>-0.17471588</td></tr>\n",
       "\t<tr><th scope=row>qsec</th><td> 0.09120476</td><td>-0.1747159</td><td> 1.00000000</td></tr>\n",
       "</tbody>\n",
       "</table>\n"
      ],
      "text/latex": [
       "A matrix: 3 × 3 of type dbl\n",
       "\\begin{tabular}{r|lll}\n",
       "  & drat & wt & qsec\\\\\n",
       "\\hline\n",
       "\tdrat &  1.00000000 & -0.7124406 &  0.09120476\\\\\n",
       "\twt & -0.71244065 &  1.0000000 & -0.17471588\\\\\n",
       "\tqsec &  0.09120476 & -0.1747159 &  1.00000000\\\\\n",
       "\\end{tabular}\n"
      ],
      "text/markdown": [
       "\n",
       "A matrix: 3 × 3 of type dbl\n",
       "\n",
       "| <!--/--> | drat | wt | qsec |\n",
       "|---|---|---|---|\n",
       "| drat |  1.00000000 | -0.7124406 |  0.09120476 |\n",
       "| wt | -0.71244065 |  1.0000000 | -0.17471588 |\n",
       "| qsec |  0.09120476 | -0.1747159 |  1.00000000 |\n",
       "\n"
      ],
      "text/plain": [
       "     drat        wt         qsec       \n",
       "drat  1.00000000 -0.7124406  0.09120476\n",
       "wt   -0.71244065  1.0000000 -0.17471588\n",
       "qsec  0.09120476 -0.1747159  1.00000000"
      ]
     },
     "metadata": {},
     "output_type": "display_data"
    }
   ],
   "source": [
    "cor(A)"
   ]
  },
  {
   "cell_type": "code",
   "execution_count": 178,
   "metadata": {},
   "outputs": [
    {
     "data": {
      "text/html": [
       "1581.60553084025"
      ],
      "text/latex": [
       "1581.60553084025"
      ],
      "text/markdown": [
       "1581.60553084025"
      ],
      "text/plain": [
       "[1] 1581.606"
      ]
     },
     "metadata": {},
     "output_type": "display_data"
    }
   ],
   "source": [
    "kappa(t(A)%*%A)"
   ]
  },
  {
   "cell_type": "code",
   "execution_count": 179,
   "metadata": {},
   "outputs": [],
   "source": [
    "beta_0<-c(1,1,1)"
   ]
  },
  {
   "cell_type": "code",
   "execution_count": 180,
   "metadata": {},
   "outputs": [
    {
     "data": {
      "text/html": [
       "602.79777645265"
      ],
      "text/latex": [
       "602.79777645265"
      ],
      "text/markdown": [
       "602.79777645265"
      ],
      "text/plain": [
       "[1] 602.7978"
      ]
     },
     "metadata": {},
     "output_type": "display_data"
    }
   ],
   "source": [
    "kappa(Hessian_evaluation(beta_0))"
   ]
  },
  {
   "cell_type": "code",
   "execution_count": 181,
   "metadata": {},
   "outputs": [],
   "source": [
    "fit <- glmnet(A,y,alpha=0,lambda=reg,standardize=F,nlambda=1,intercept=F,thresh=1e-8)"
   ]
  },
  {
   "cell_type": "code",
   "execution_count": 182,
   "metadata": {},
   "outputs": [],
   "source": [
    "beta_ast <- as.matrix(fit$beta)\n"
   ]
  },
  {
   "cell_type": "code",
   "execution_count": 183,
   "metadata": {},
   "outputs": [
    {
     "name": "stdout",
     "output_type": "stream",
     "text": [
      "            s0\n",
      "drat  2.568637\n",
      "wt   -3.478654\n",
      "qsec  1.232553\n"
     ]
    }
   ],
   "source": [
    "print(beta_ast)"
   ]
  },
  {
   "cell_type": "code",
   "execution_count": 184,
   "metadata": {},
   "outputs": [],
   "source": [
    "#svd of A\n",
    "singular_value_decomposition <- svd(A)\n",
    "s <- singular_value_decomposition$d\n",
    "u <- singular_value_decomposition$u\n",
    "tv <- t(singular_value_decomposition$v)\n",
    "\n",
    "cte_svd <- s/(s^2+reg)*(t(u)%*%y)"
   ]
  },
  {
   "cell_type": "code",
   "execution_count": 185,
   "metadata": {},
   "outputs": [],
   "source": [
    "beta_ridge <- solve(tv,cte_svd)"
   ]
  },
  {
   "cell_type": "code",
   "execution_count": 186,
   "metadata": {},
   "outputs": [
    {
     "data": {
      "text/html": [
       "<table>\n",
       "<caption>A matrix: 3 × 1 of type dbl</caption>\n",
       "<thead>\n",
       "\t<tr><th scope=col>mpg</th></tr>\n",
       "</thead>\n",
       "<tbody>\n",
       "\t<tr><td> 2.892362</td></tr>\n",
       "\t<tr><td>-3.643442</td></tr>\n",
       "\t<tr><td> 1.197395</td></tr>\n",
       "</tbody>\n",
       "</table>\n"
      ],
      "text/latex": [
       "A matrix: 3 × 1 of type dbl\n",
       "\\begin{tabular}{l}\n",
       " mpg\\\\\n",
       "\\hline\n",
       "\t  2.892362\\\\\n",
       "\t -3.643442\\\\\n",
       "\t  1.197395\\\\\n",
       "\\end{tabular}\n"
      ],
      "text/markdown": [
       "\n",
       "A matrix: 3 × 1 of type dbl\n",
       "\n",
       "| mpg |\n",
       "|---|\n",
       "|  2.892362 |\n",
       "| -3.643442 |\n",
       "|  1.197395 |\n",
       "\n"
      ],
      "text/plain": [
       "     mpg      \n",
       "[1,]  2.892362\n",
       "[2,] -3.643442\n",
       "[3,]  1.197395"
      ]
     },
     "metadata": {},
     "output_type": "display_data"
    }
   ],
   "source": [
    "beta_ridge"
   ]
  },
  {
   "cell_type": "code",
   "execution_count": 187,
   "metadata": {},
   "outputs": [
    {
     "data": {
      "text/html": [
       "0.0811639753092215"
      ],
      "text/latex": [
       "0.0811639753092215"
      ],
      "text/markdown": [
       "0.0811639753092215"
      ],
      "text/plain": [
       "[1] 0.08116398"
      ]
     },
     "metadata": {},
     "output_type": "display_data"
    }
   ],
   "source": [
    "compute_error(x_approx = beta_ridge, x_obj = beta_ast)"
   ]
  },
  {
   "cell_type": "markdown",
   "metadata": {},
   "source": [
    "**Referencias:**\n",
    "\n",
    "* Ver [3_minimos_cuadrados](https://github.com/ITAM-DS/Propedeutico/blob/master/Python/clases/3_algebra_lineal/3_minimos_cuadrados.ipynb) para una introducción al problema de mínimos cuadrados con ejemplos en Python3."
   ]
  }
 ],
 "metadata": {
  "kernelspec": {
   "display_name": "R",
   "language": "R",
   "name": "ir"
  },
  "language_info": {
   "codemirror_mode": "r",
   "file_extension": ".r",
   "mimetype": "text/x-r-source",
   "name": "R",
   "pygments_lexer": "r",
   "version": "3.6.2"
  }
 },
 "nbformat": 4,
 "nbformat_minor": 4
}
