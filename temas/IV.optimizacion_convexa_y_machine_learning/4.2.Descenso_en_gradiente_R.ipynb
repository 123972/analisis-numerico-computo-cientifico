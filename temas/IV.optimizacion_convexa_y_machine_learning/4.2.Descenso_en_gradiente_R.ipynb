{
 "cells": [
  {
   "cell_type": "markdown",
   "metadata": {},
   "source": [
    "**Notas para contenedor de docker:**"
   ]
  },
  {
   "cell_type": "markdown",
   "metadata": {},
   "source": [
    "Comando de docker para ejecución de la nota de forma local:\n",
    "\n",
    "nota: cambiar `<ruta a mi directorio>` por la ruta de directorio que se desea mapear a `/datos` dentro del contenedor de docker.\n",
    "\n",
    "```\n",
    "docker run --rm -v <ruta a mi directorio>:/datos --name jupyterlab_r_kernel_local -p 8888:8888 -d palmoreck/jupyterlab_r_kernel:1.1.0\n",
    "```\n",
    "\n",
    "password para jupyterlab: `qwerty`\n",
    "\n",
    "Detener el contenedor de docker:\n",
    "\n",
    "```\n",
    "docker stop jupyterlab_r_kernel_local\n",
    "```\n"
   ]
  },
  {
   "cell_type": "markdown",
   "metadata": {},
   "source": [
    "Documentación de la imagen de docker `palmoreck/jupyterlab_r_kernel:1.1.0` en [liga](https://github.com/palmoreck/dockerfiles/tree/master/jupyterlab/r_kernel)."
   ]
  },
  {
   "cell_type": "markdown",
   "metadata": {},
   "source": [
    "---"
   ]
  },
  {
   "cell_type": "markdown",
   "metadata": {},
   "source": [
    "Nota basada en [liga1](https://drive.google.com/file/d/1xtkxPCx05Xg4Dj7JZoQ-LusBDrtYUqOF/view?usp=sharing), [liga2](https://drive.google.com/file/d/16-_PvWNaO0Zc9x04-SRsxCRdn5fxebf2/view?usp=sharing)"
   ]
  },
  {
   "cell_type": "markdown",
   "metadata": {},
   "source": [
    "En esta nota se consideran resolver problemas de la forma:\n",
    "\n",
    "$$\\min f_o(x)$$\n",
    "\n",
    "con $f_o:\\mathbb{R}^n \\rightarrow \\mathbb{R}$ fuertemente convexa y $f_o \\in \\mathcal{C}^2(\\text{dom}f_o)$ para buscar óptimos locales. Además se asume que los puntos iniciales $x^{(0)}$ de los métodos iterativos están en $\\text{dom}f_o$ y los conjuntos $f_o(x^{(0)})$-subnivel son conjuntos cerrados. Ver [1.4.Polinomios_de_Taylor_y_diferenciacion_numerica](https://github.com/ITAM-DS/analisis-numerico-computo-cientifico/blob/master/temas/I.computo_cientifico/1.4.Polinomios_de_Taylor_y_diferenciacion_numerica.ipynb) y [4.1.Optimizacion_numerica_y_machine_learning](https://github.com/ITAM-DS/analisis-numerico-computo-cientifico/blob/master/temas/IV.optimizacion_convexa_y_machine_learning/4.1.Optimizacion_numerica_y_machine_learning.ipynb) para definiciones utilizadas en esta nota.\n",
    "\n",
    "También se asume que existe un punto óptimo $x^*$ por lo que el problema tiene solución y el valor óptimo se denota por $p^* = f_o(x^*) = \\inf f_o(x)$"
   ]
  },
  {
   "cell_type": "markdown",
   "metadata": {},
   "source": [
    "Las suposición que una función $f$ sea convexa asegura que una **condición necesaria y suficiente** para que $x^*$ sea óptimo es: $\\nabla f(x^*) = 0$ la cual es **en general** es un conjunto de $n$ **ecuaciones no lineales** en $n$ variables y que resuelve el problema de optimización planteado al inicio. \n"
   ]
  },
  {
   "cell_type": "markdown",
   "metadata": {},
   "source": [
    "# Método de descenso en gradiente (implementación en R)"
   ]
  },
  {
   "cell_type": "markdown",
   "metadata": {},
   "source": [
    ">**Algoritmo de descenso en gradiente**\n",
    ">> **Dado** un **punto inicial** $x$ en $\\text{dom}f_o$\n",
    "\n",
    ">> **Repetir** el siguiente bloque para $k=0,1,2,...$\n",
    "\n",
    ">>> 1. Calcular la dirección de descenso $\\Delta x = - \\nabla f_o(x)$.\n",
    ">>> 2. Búsqueda de línea. Elegir un tamaño de paso $t > 0$.\n",
    ">>> 3. Hacer la actualización: $x = x + t\\Delta x$.\n",
    "\n",
    ">> **hasta** convergencia (satisfacer criterio de paro).\n"
   ]
  },
  {
   "cell_type": "markdown",
   "metadata": {},
   "source": [
    "**Nota:** los pasos en el algoritmo anterior representan una guía para la implementación. Al describirse los pasos de un algoritmo no implica que se tengan que implementar uno a continuación del otro como se describe. Si una implementación respeta la lógica y al mismo método, entonces pueden seguirse los pasos de una forma distinta."
   ]
  },
  {
   "cell_type": "code",
   "execution_count": 1,
   "metadata": {},
   "outputs": [],
   "source": [
    "install.packages(\"latex2exp\",lib=\"/usr/local/lib/R/site-library/\",\n",
    "                repos=\"https://cran.itam.mx/\")"
   ]
  },
  {
   "cell_type": "code",
   "execution_count": 1,
   "metadata": {},
   "outputs": [],
   "source": [
    "library(ggplot2)\n",
    "library(latex2exp)"
   ]
  },
  {
   "cell_type": "code",
   "execution_count": 2,
   "metadata": {},
   "outputs": [],
   "source": [
    "inc_index<-function(vec,index,h){\n",
    "    '\n",
    "    Auxiliary function for gradient and Hessian computation.\n",
    "    Args:\n",
    "        vec (double): vector\n",
    "        index (int): index.\n",
    "        h (float):   quantity that vec[index] will be increased.\n",
    "    Returns:\n",
    "        vec (double): vector with vec[index] increased by h.\n",
    "    '\n",
    "    vec[index]<-vec[index]+h\n",
    "    vec\n",
    "}"
   ]
  },
  {
   "cell_type": "code",
   "execution_count": 3,
   "metadata": {},
   "outputs": [],
   "source": [
    "gradient_approximation<-function(f,x,h=1e-8){\n",
    "    '\n",
    "    Numerical approximation of gradient for function f using forward differences.\n",
    "    Args:\n",
    "        f (expression): definition of function f.\n",
    "        x (double): vector that holds values where gradient will be computed.\n",
    "        h (float): step size for forward differences, tipically h=1e-8\n",
    "    Returns:\n",
    "        gf (array): numerical approximation to gradient of f.\n",
    "\n",
    "    '\n",
    "    n<-length(x)\n",
    "    gf<-vector(\"double\",n)\n",
    "    for(i in 1:n){\n",
    "        gf[i]=(f(inc_index(x,i,h))-f(x))\n",
    "    }\n",
    "    gf/h\n",
    "}"
   ]
  },
  {
   "cell_type": "code",
   "execution_count": 4,
   "metadata": {},
   "outputs": [],
   "source": [
    "Hessian_approximation<-function(f,x,h=1e-6){\n",
    "    '\n",
    "    Numerical approximation of Hessian for function f using forward differences.\n",
    "    Args:\n",
    "        f (expression): definition of function f.\n",
    "        x (double): vector that holds values where Hessian will be computed.\n",
    "        h (float): step size for forward differences, tipically h=1e-6\n",
    "    Returns:\n",
    "        Hf (double): matrix of numerical approximation to Hessian of f.\n",
    "    '\n",
    "    n<-length(x)\n",
    "    Hf<-matrix(rep(0,n^2),nrow=n,ncol=n)\n",
    "    f_x<-f(x)\n",
    "    for(i in 1:n){\n",
    "        x_inc_in_i<-inc_index(x,i,h)\n",
    "        f_x_inc_in_i<-f(x_inc_in_i)\n",
    "        for(j in i:n){\n",
    "            dif<-f(inc_index(x_inc_in_i,j,h))-f_x_inc_in_i-f(inc_index(x,j,h))+f_x\n",
    "            Hf[i,j]<-dif\n",
    "            if(j!=i)\n",
    "                Hf[j,i]<-dif\n",
    "        }\n",
    "    }\n",
    "    Hf/h^2\n",
    "}"
   ]
  },
  {
   "cell_type": "code",
   "execution_count": 5,
   "metadata": {},
   "outputs": [],
   "source": [
    "line_search_by_backtracking<-function(f,dir_desc,x,\n",
    "                                      der_direct, alpha=.15, beta=.5){\n",
    "    '\n",
    "    Line search that sufficiently decreases f restricted to a ray in the direction dir_desc.\n",
    "    Args:\n",
    "        alpha (float): parameter in line search with backtracking, tipically .15\n",
    "        beta (float): parameter in line search with backtracking, tipically .5\n",
    "        f (expression): definition of function f.\n",
    "        dir_desc (double): vector of descent direction.\n",
    "        x (double): vector that holds values where line search will be performed.\n",
    "        der_direct (float): directional derivative of f.\n",
    "    Returns:\n",
    "        t (float): positive number for stepsize along dir_desc that sufficiently decreases f.\n",
    "    '\n",
    "    t<-1\n",
    "    if (alpha > 1/2){\n",
    "        print('alpha must be less than or equal to 1/2')\n",
    "        t <- -1\n",
    "    }\n",
    "    if (beta>1){\n",
    "        print('beta must be less than 1')\n",
    "        t <- -1\n",
    "    }\n",
    "    if (t!=-1){\n",
    "        eval1 <- f(x+t*dir_desc)\n",
    "        eval2 <- f(x) + alpha*t*der_direct\n",
    "        while (eval1 > eval2){\n",
    "            t<-beta*t\n",
    "            eval1 <- f(x+t*dir_desc)\n",
    "            eval2 <- f(x)+alpha*t*der_direct\n",
    "        }\n",
    "    }else\n",
    "        t <- -1\n",
    "    t\n",
    "}"
   ]
  },
  {
   "cell_type": "code",
   "execution_count": 6,
   "metadata": {},
   "outputs": [],
   "source": [
    "Euclidian_norm<-function(vec){\n",
    "    sqrt(sum(vec*vec))\n",
    "}"
   ]
  },
  {
   "cell_type": "code",
   "execution_count": 7,
   "metadata": {},
   "outputs": [],
   "source": [
    "compute_error<-function(x_obj,x_approx){\n",
    "    '\n",
    "    Relative or absolute error between x_obj and x_approx.\n",
    "    '\n",
    "    if (Euclidian_norm(x_obj) > .Machine$double.eps){\n",
    "        Err<-Euclidian_norm(x_obj-x_approx)/Euclidian_norm(x_obj)\n",
    "    }else\n",
    "        Err<-Euclidian_norm(x_obj-x_approx)\n",
    "    Err\n",
    "}"
   ]
  },
  {
   "cell_type": "code",
   "execution_count": 8,
   "metadata": {},
   "outputs": [],
   "source": [
    "gradient_descent<-function(f, x_0, tol, \n",
    "                        tol_backtracking, x_ast, p_ast, maxiter){\n",
    "    '\n",
    "    Method of gradient descent to numerically approximate solution of min f.\n",
    "    Args:\n",
    "        f (expression): definition of function f.\n",
    "        x_0 (double): vector of initial point for gradient descent method.\n",
    "        tol (float): tolerance that will halt method. Controls norm of gradient of f.\n",
    "        tol_backtracking (float): tolerance that will halt method. Controls value of line search by backtracking.\n",
    "        x_ast (double): vector solution of min f, now its required that user knows the solution...\n",
    "        p_ast (double): vector value of f(x_ast), now its required that user knows the solution...\n",
    "        maxiter (int): maximum number of iterations\n",
    "    Returns:\n",
    "        x (double): vector approximation of x_ast.\n",
    "        iteration (int): number of iterations.\n",
    "        Err_plot (double): vector array of absolute error between p_ast and f(x) with x approximation.\n",
    "                          of x_ast. Useful for plotting.\n",
    "        x_plot (double): vector array that containts in columns vector of approximations. Last column\n",
    "                        contains x, approximation of solution. Useful for plotting.\n",
    "    '\n",
    "    iteration <- 1\n",
    "    x <- x_0\n",
    "    \n",
    "    feval <- f(x)\n",
    "    gfeval <- gradient_approximation(f,x)\n",
    "\n",
    "    normgf <- Euclidian_norm(gfeval)\n",
    "    \n",
    "    Err_plot_aux <- vector(\"double\",maxiter)\n",
    "    Err_plot_aux[iteration] <- compute_error(p_ast,feval)\n",
    "    \n",
    "    Err <- compute_error(x_ast,x)\n",
    "    n <- length(x)\n",
    "    x_plot <- matrix(0,nrow=n,ncol=maxiter)\n",
    "    x_plot[,iteration] <- x\n",
    "    \n",
    "    cat(sprintf(\"I\\tNormagf\\t\\tError x_ast\\tError p_ast\\tline search\\n\"))\n",
    "    cat(sprintf(\"%d\\t%.2e\\t%0.2e\\t%0.2e\\t%s\\n\",iteration,normgf,Err,Err_plot_aux[iteration],\"---\"))\n",
    "    iteration<-iteration + 1\n",
    "    while(normgf>tol && iteration <= maxiter){\n",
    "        dir_desc <- -gfeval\n",
    "        der_direct <- sum(gfeval*dir_desc)\n",
    "        t <- line_search_by_backtracking(f,dir_desc,x,der_direct)\n",
    "        x <- x + t*dir_desc\n",
    "        feval <- f(x)\n",
    "        gfeval <- gradient_approximation(f,x)\n",
    "        normgf <- Euclidian_norm(gfeval)\n",
    "        Err_plot_aux[iteration] <- compute_error(p_ast,feval)\n",
    "        x_plot[,iteration] <- x\n",
    "        Err <- compute_error(x_ast,x)\n",
    "        cat(sprintf(\"%d\\t%.2e\\t%0.2e\\t%0.2e\\t%0.2e\\n\",iteration,normgf,Err,Err_plot_aux[iteration],t))\n",
    "        if (t<tol_backtracking){ #if t is less than tol_backtracking then we need to check the reason\n",
    "            iter_salida <- iteration\n",
    "            iteration <- maxiter - 1\n",
    "        }\n",
    "        iteration <- iteration + 1\n",
    "    } #while\n",
    "    cat(sprintf(\"Error of x with respect to x_ast: %.2e\\n\",Err))\n",
    "    cat(sprintf(\"Approximate solution:\"))\n",
    "    print(x)\n",
    "    cond <- Err_plot_aux > .Machine$double.eps*10**(-2)\n",
    "    Err_plot <- Err_plot_aux[cond]\n",
    "    if (iteration == maxiter && t < tol_backtracking){\n",
    "        print(\"Backtracking value less than tol_backtracking, check approximation\")\n",
    "        iteration<-iter_salida\n",
    "        x_plot <- x_plot[,1:iteration]\n",
    "        iteration <- iteration -1\n",
    "    }\n",
    "    else{\n",
    "        iteration <- iteration - 1\n",
    "        x_plot <- x_plot[,1:iteration]\n",
    "        }\n",
    "   list(x,iteration,Err_plot,x_plot)\n",
    "}    \n"
   ]
  },
  {
   "cell_type": "markdown",
   "metadata": {},
   "source": [
    "## Ejemplos"
   ]
  },
  {
   "cell_type": "markdown",
   "metadata": {},
   "source": [
    "1) $$\\min \\quad (x_1-2)^2+(2-x_2)^2+x_3^2+x_4^4$$"
   ]
  },
  {
   "cell_type": "markdown",
   "metadata": {},
   "source": [
    "La solución del problema anterior es $x^* = (2,2,0,0)^T$. "
   ]
  },
  {
   "cell_type": "markdown",
   "metadata": {},
   "source": [
    "Método de descenso gradiente con $x_0=(5,5,1,0)^T$:"
   ]
  },
  {
   "cell_type": "code",
   "execution_count": 9,
   "metadata": {},
   "outputs": [],
   "source": [
    "fo <-function(x)(x[1]-2)**2 + (2-x[2])**2 + x[3]**2 + x[4]**4\n"
   ]
  },
  {
   "cell_type": "code",
   "execution_count": 10,
   "metadata": {},
   "outputs": [],
   "source": [
    "x_ast <- c(2,2,0,0)\n",
    "x_0 <- c(5,5,1,0)\n",
    "tol <- 1e-8\n",
    "tol_backtracking <- 1e-14\n",
    "maxiter <- 5\n",
    "p_ast <- fo(x_ast)\n"
   ]
  },
  {
   "cell_type": "code",
   "execution_count": 11,
   "metadata": {},
   "outputs": [
    {
     "name": "stdout",
     "output_type": "stream",
     "text": [
      "I\tNormagf\t\tError x_ast\tError p_ast\tline search\n",
      "1\t8.72e+00\t1.54e+00\t1.90e+01\t---\n",
      "2\t3.53e-07\t6.10e-08\t2.98e-14\t5.00e-01\n",
      "3\t2.20e-15\t3.06e-09\t7.50e-17\t5.00e-01\n",
      "Error of x with respect to x_ast: 3.06e-09\n",
      "Approximate solution:[1]  2e+00  2e+00 -5e-09  0e+00\n"
     ]
    }
   ],
   "source": [
    "l<-gradient_descent(fo, x_0, tol, tol_backtracking, x_ast, p_ast, maxiter)"
   ]
  },
  {
   "cell_type": "code",
   "execution_count": 12,
   "metadata": {},
   "outputs": [],
   "source": [
    "x <- l[[1]]\n",
    "total_of_iterations <- l[[2]]\n",
    "Err_plot <- l[[3]]\n",
    "x_plot <- l[[4]]\n"
   ]
  },
  {
   "cell_type": "code",
   "execution_count": 13,
   "metadata": {},
   "outputs": [],
   "source": [
    "gg <- ggplot()"
   ]
  },
  {
   "cell_type": "code",
   "execution_count": 14,
   "metadata": {},
   "outputs": [
    {
     "data": {
      "image/png": "[encoded data removed]",
      "text/plain": [
       "plot without title"
      ]
     },
     "metadata": {
      "image/png": {
       "height": 420,
       "width": 420
      }
     },
     "output_type": "display_data"
    }
   ],
   "source": [
    "gg +\n",
    "geom_line(aes(x=1:total_of_iterations,y=Err_plot)) + \n",
    "xlab('Iterations') + ylab(TeX('Error relativo entre f_o(x^k) y p^*'))"
   ]
  },
  {
   "cell_type": "markdown",
   "metadata": {},
   "source": [
    "### Ejemplo: influencia del número de condición "
   ]
  },
  {
   "cell_type": "markdown",
   "metadata": {},
   "source": [
    "2) El método de descenso en gradiente es **altamente sensible** a la forma de las curvas de nivel de la función objetivo $f_o$. Para observar esto considérese el problema: $$\\min \\frac{1}{2}\\left(x_1^2+Cx_2^2 \\right)$$"
   ]
  },
  {
   "cell_type": "markdown",
   "metadata": {},
   "source": [
    "La solución del problema anterior es $x^*=(0,0)^T$."
   ]
  },
  {
   "cell_type": "markdown",
   "metadata": {},
   "source": [
    "Método de descenso en gradiente con $x_0=(0.5,0.5)^T$."
   ]
  },
  {
   "cell_type": "markdown",
   "metadata": {},
   "source": [
    "**Descenso en gradiente para caso $C=10$**"
   ]
  },
  {
   "cell_type": "code",
   "execution_count": 15,
   "metadata": {},
   "outputs": [],
   "source": [
    "cte<-10"
   ]
  },
  {
   "cell_type": "code",
   "execution_count": 16,
   "metadata": {},
   "outputs": [],
   "source": [
    "fo <- function(x) 1/2*(x[1]**2+cte*x[2]**2)"
   ]
  },
  {
   "cell_type": "code",
   "execution_count": 17,
   "metadata": {},
   "outputs": [
    {
     "name": "stdout",
     "output_type": "stream",
     "text": [
      "I\tNormagf\t\tError x_ast\tError p_ast\tline search\n",
      "1\t5.02e+00\t7.07e-01\t1.38e+00\t---\n",
      "2\t1.32e+00\t4.55e-01\t1.74e-01\t1.25e-01\n",
      "3\t4.94e-01\t3.84e-01\t7.82e-02\t1.25e-01\n",
      "4\t5.50e-01\t2.91e-01\t5.22e-02\t2.50e-01\n",
      "5\t2.77e-01\t2.51e-01\t3.22e-02\t1.25e-01\n",
      "6\t4.85e-01\t1.34e-01\t1.89e-02\t5.00e-01\n",
      "7\t1.61e-01\t1.11e-01\t6.73e-03\t1.25e-01\n",
      "8\t1.94e-01\t8.43e-02\t4.94e-03\t2.50e-01\n",
      "9\t8.45e-02\t7.23e-02\t2.70e-03\t1.25e-01\n",
      "10\t8.53e-02\t5.45e-02\t1.68e-03\t2.50e-01\n",
      "11\t1.07e-01\t4.18e-02\t1.31e-03\t2.50e-01\n",
      "12\t4.33e-02\t3.56e-02\t6.61e-04\t1.25e-01\n",
      "13\t4.56e-02\t2.69e-02\t4.23e-04\t2.50e-01\n",
      "14\t2.51e-02\t2.33e-02\t2.76e-04\t1.25e-01\n",
      "15\t3.89e-02\t1.22e-02\t1.37e-04\t5.00e-01\n",
      "16\t1.38e-02\t1.02e-02\t5.62e-05\t1.25e-01\n",
      "17\t1.59e-02\t7.77e-03\t3.89e-05\t2.50e-01\n",
      "18\t7.54e-03\t6.70e-03\t2.30e-05\t1.25e-01\n",
      "19\t1.43e-02\t3.62e-03\t1.53e-05\t5.00e-01\n",
      "20\t4.54e-03\t2.95e-03\t4.89e-06\t1.25e-01\n",
      "21\t5.66e-03\t2.26e-03\t3.77e-06\t2.50e-01\n",
      "22\t2.32e-03\t1.92e-03\t1.93e-06\t1.25e-01\n",
      "23\t2.43e-03\t1.45e-03\t1.23e-06\t2.50e-01\n",
      "24\t1.35e-03\t1.26e-03\t8.06e-07\t1.25e-01\n",
      "25\t2.05e-03\t6.60e-04\t3.90e-07\t5.00e-01\n",
      "26\t7.37e-04\t5.54e-04\t1.64e-07\t1.25e-01\n",
      "27\t8.42e-04\t4.20e-04\t1.12e-07\t2.50e-01\n",
      "28\t4.06e-04\t3.62e-04\t6.71e-08\t1.25e-01\n",
      "29\t7.55e-04\t1.95e-04\t4.32e-08\t5.00e-01\n",
      "30\t2.42e-04\t1.59e-04\t1.42e-08\t1.25e-01\n",
      "31\t3.00e-04\t1.22e-04\t1.08e-08\t2.50e-01\n",
      "32\t1.25e-04\t1.04e-04\t5.63e-09\t1.25e-01\n",
      "33\t1.29e-04\t7.86e-05\t3.57e-09\t2.50e-01\n",
      "34\t1.65e-04\t6.04e-05\t2.90e-09\t2.50e-01\n",
      "35\t6.41e-05\t5.13e-05\t1.38e-09\t1.25e-01\n",
      "36\t6.95e-05\t3.88e-05\t9.04e-10\t2.50e-01\n",
      "37\t3.66e-05\t3.36e-05\t5.73e-10\t1.25e-01\n",
      "38\t6.04e-05\t1.77e-05\t3.09e-10\t5.00e-01\n",
      "39\t2.06e-05\t1.47e-05\t1.18e-10\t1.25e-01\n",
      "40\t2.44e-05\t1.12e-05\t8.43e-11\t2.50e-01\n",
      "41\t1.11e-05\t9.64e-06\t4.78e-11\t1.25e-01\n",
      "42\t2.23e-05\t5.28e-06\t3.53e-11\t5.00e-01\n",
      "43\t6.88e-06\t4.24e-06\t1.03e-11\t1.25e-01\n",
      "44\t8.75e-06\t3.26e-06\t8.35e-12\t2.50e-01\n",
      "45\t3.44e-06\t2.77e-06\t4.01e-12\t1.25e-01\n",
      "46\t3.70e-06\t2.09e-06\t2.62e-12\t2.50e-01\n",
      "47\t1.97e-06\t1.81e-06\t1.66e-12\t1.25e-01\n",
      "48\t3.19e-06\t9.55e-07\t8.91e-13\t5.00e-01\n",
      "49\t1.10e-06\t7.92e-07\t3.37e-13\t1.25e-01\n",
      "50\t1.29e-06\t6.03e-07\t2.46e-13\t2.50e-01\n",
      "Error of x with respect to x_ast: 6.03e-07\n",
      "Approximate solution:[1]  5.906139e-07 -1.196995e-07\n"
     ]
    }
   ],
   "source": [
    "x_ast <- c(0,0)\n",
    "x_0 <- c(0.5,0.5)\n",
    "tol <- 1e-8\n",
    "tol_backtracking <- 1e-14\n",
    "maxiter <- 50\n",
    "p_ast <- fo(x_ast)\n",
    "l<-gradient_descent(fo, x_0, tol, tol_backtracking, x_ast, p_ast, maxiter)\n",
    "x <- l[[1]]\n",
    "total_of_iterations <- l[[2]]\n",
    "Err_plot <- l[[3]]\n",
    "x_plot <- l[[4]]\n"
   ]
  },
  {
   "cell_type": "code",
   "execution_count": 18,
   "metadata": {},
   "outputs": [],
   "source": [
    "gg <- ggplot()"
   ]
  },
  {
   "cell_type": "code",
   "execution_count": 19,
   "metadata": {},
   "outputs": [
    {
     "data": {
      "image/png": "[encoded data removed]",
      "text/plain": [
       "plot without title"
      ]
     },
     "metadata": {
      "image/png": {
       "height": 420,
       "width": 420
      }
     },
     "output_type": "display_data"
    }
   ],
   "source": [
    "gg +\n",
    "geom_line(aes(x=1:total_of_iterations,y=Err_plot)) + \n",
    "xlab('Iterations') + ylab(TeX('Error relativo entre f_o(x^k) y p^*'))"
   ]
  },
  {
   "cell_type": "code",
   "execution_count": 20,
   "metadata": {},
   "outputs": [
    {
     "data": {
      "image/png": "[encoded data removed]",
      "text/plain": [
       "plot without title"
      ]
     },
     "metadata": {
      "image/png": {
       "height": 420,
       "width": 420
      }
     },
     "output_type": "display_data"
    }
   ],
   "source": [
    "gg +\n",
    "geom_point(aes(x=x_plot[1,],y=x_plot[2,]),size=2) +\n",
    "annotate(geom='text', x=0.5, y=0.47, \n",
    "         label=TeX(\"x^{(0)}\", output='character'), parse=TRUE) + \n",
    "xlab('x') + ylab('y') + \n",
    "ggtitle(TeX('Iter del método de descenso en gradiente para $f_o$ con $C=10$'))"
   ]
  },
  {
   "cell_type": "markdown",
   "metadata": {},
   "source": [
    "**Referencias:**\n",
    "\n",
    "* S. P. Boyd, L. Vandenberghe, Convex Optimization, Cambridge University Press, 2009.\n"
   ]
  }
 ],
 "metadata": {
  "kernelspec": {
   "display_name": "R",
   "language": "R",
   "name": "ir"
  },
  "language_info": {
   "codemirror_mode": "r",
   "file_extension": ".r",
   "mimetype": "text/x-r-source",
   "name": "R",
   "pygments_lexer": "r",
   "version": "3.6.2"
  }
 },
 "nbformat": 4,
 "nbformat_minor": 4
}
