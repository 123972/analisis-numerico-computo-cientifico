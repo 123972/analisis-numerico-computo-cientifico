{
 "cells": [
  {
   "cell_type": "markdown",
   "metadata": {},
   "source": [
    "# Mínimos cuadrados lineales"
   ]
  },
  {
   "cell_type": "markdown",
   "metadata": {},
   "source": [
    "Supóngase que se han realizado mediciones de un fenómeno de interés en diferentes puntos $x_i$'s resultando en cantidades $y_i$'s $\\forall i=0,1,\\dots, m$ (se tienen $m+1$ puntos) y además las $y_i$'s contienen un ruido aleatorio causado por errores de medición:"
   ]
  },
  {
   "cell_type": "markdown",
   "metadata": {},
   "source": [
    "<img src=\"https://dl.dropboxusercontent.com/s/iydpi0m8ndqzb0s/mcuadrados_1.jpg?dl=0\" heigth=\"350\" width=\"350\">\n"
   ]
  },
  {
   "cell_type": "markdown",
   "metadata": {},
   "source": [
    "El objetivo de los mínimos cuadrados lineales es construir una curva, $f(x|\\beta)$ que \"mejor\" se ajuste a los datos $(x_i,y_i)$, $\\forall i=0,1,\\dots,m$. El término de \"mejor\" se refiere a que la suma: $$\\displaystyle \\sum_{i=0}^m (y_i -f(x_i|\\beta))^2$$ sea lo más pequeña posible, esto es, a que la suma de las distancias verticales entre $y_i$ y $f(x_i|\\beta)$ $\\forall i=0,1,\\dots,m$ al cuadrado sea mínima:"
   ]
  },
  {
   "cell_type": "markdown",
   "metadata": {},
   "source": [
    "<img src=\"https://dl.dropboxusercontent.com/s/0dhzv336jj6ep4z/mcuadrados_2.jpg?dl=0\" heigth=\"350\" width=\"350\">\n"
   ]
  },
  {
   "cell_type": "markdown",
   "metadata": {},
   "source": [
    "**Obs:**\n",
    "\n",
    "* La notación $f(x|\\beta)$ se utiliza para denotar que $\\beta$ es un vector de parámetros a estimar, en específico $\\beta_0, \\beta_1, \\dots \\beta_n$, esto es: $n+1$ parámetros a estimar."
   ]
  },
  {
   "cell_type": "markdown",
   "metadata": {},
   "source": [
    "Si $m=3$ y $A \\in \\mathbb{R}^{3 \\times 2}$ geométricamente el problema de mínimos cuadrados se puede visualizar con el siguiente dibujo:"
   ]
  },
  {
   "cell_type": "markdown",
   "metadata": {},
   "source": [
    "<img src=\"https://dl.dropboxusercontent.com/s/zkbhzv9a2jiw11b/espacio_generado_columnas_de_A.png?dl=0\" heigth=\"400\" width=\"400\">"
   ]
  },
  {
   "cell_type": "markdown",
   "metadata": {},
   "source": [
    "## Modelo en mínimos cuadrados lineales"
   ]
  },
  {
   "cell_type": "markdown",
   "metadata": {},
   "source": [
    "En los mínimos cuadrados lineales se supone:  $f(x|\\beta) = \\displaystyle \\sum_{j=0}^n\\beta_j\\phi_j(x)$ con $\\phi_j: \\mathbb{R} \\rightarrow \\mathbb{R}$ funciones conocidas por lo que se tiene una gran flexibilidad para el proceso de ajuste."
   ]
  },
  {
   "cell_type": "markdown",
   "metadata": {},
   "source": [
    "**Obs:** \n",
    "\n",
    "* Si $n=m$ entonces se tiene un problema de interpolación.\n",
    "* x se nombra variable **regresora**."
   ]
  },
  {
   "cell_type": "markdown",
   "metadata": {},
   "source": [
    "## ¿Cómo ajustar el modelo anterior?"
   ]
  },
  {
   "cell_type": "markdown",
   "metadata": {},
   "source": [
    "En lo siguiente se **asume** $n+1 \\leq m+1$ (tenemos más puntos $(x_i,y_i)$'s que parámetros a estimar)."
   ]
  },
  {
   "cell_type": "markdown",
   "metadata": {},
   "source": [
    "Para realizar el ajuste de mínimos cuadrados se utilizan las ecuaciones normales: $$A^TA\\beta=A^Ty$$ donde: $A$ se construye con las $\\phi_j$'s evaluadas en los puntos $x_i$'s, el vector $\\beta$ contiene a los parámetros $\\beta_j$'s a estimar y el vector $y$, la variable **respuesta**, se construye con los puntos $y_i$'s:"
   ]
  },
  {
   "cell_type": "markdown",
   "metadata": {},
   "source": [
    "$$A = \\left[\\begin{array}{cccc}\n",
    "\\phi_0(x_0) &\\phi_1(x_0)&\\dots&\\phi_n(x_0)\\\\\n",
    "\\phi_0(x_1) &\\phi_1(x_1)&\\dots&\\phi_n(x_1)\\\\\n",
    "\\vdots &\\vdots& \\vdots&\\vdots\\\\\n",
    "\\phi_0(x_n) &\\phi_1(x_n)&\\dots&\\phi_n(x_n)\\\\\n",
    "\\vdots &\\vdots& \\vdots&\\vdots\\\\\n",
    "\\phi_0(x_{m-1}) &\\phi_1(x_{m-1})&\\dots&\\phi_n(x_{m-1})\\\\\n",
    "\\phi_0(x_m) &\\phi_1(x_m)&\\dots&\\phi_n(x_m)\n",
    "\\end{array}\n",
    "\\right] \\in \\mathbb{R}^{(m+1)x(n+1)},\n",
    "\\beta=\n",
    "\\left[\\begin{array}{c}\n",
    "\\beta_0\\\\\n",
    "\\beta_1\\\\\n",
    "\\vdots \\\\\n",
    "\\beta_n\n",
    "\\end{array}\n",
    "\\right] \\in \\mathbb{R}^n,\n",
    "y=\n",
    "\\left[\\begin{array}{c}\n",
    "y_0\\\\\n",
    "y_1\\\\\n",
    "\\vdots \\\\\n",
    "y_m\n",
    "\\end{array}\n",
    "\\right] \\in \\mathbb{R}^m\n",
    "$$"
   ]
  },
  {
   "cell_type": "markdown",
   "metadata": {},
   "source": [
    "y si $A$ es de $rank$ completo (tiene $n+1$ columnas linealmente independientes) se calcula la factorización $QR$ de $A$ : $A = QR$ y entonces: $$A^TA\\beta = A^Ty$$ "
   ]
  },
  {
   "cell_type": "markdown",
   "metadata": {},
   "source": [
    "y como $A=QR$ se tiene: $A^TA = (R^TQ^T)(QR)$ y $A^T = R^TQ^T$ por lo que:"
   ]
  },
  {
   "cell_type": "markdown",
   "metadata": {},
   "source": [
    "$$(R^TQ^T)(QR) \\beta =  R^TQ^T y$$"
   ]
  },
  {
   "cell_type": "markdown",
   "metadata": {},
   "source": [
    "y usando que $Q$ tiene columnas ortonormales:"
   ]
  },
  {
   "cell_type": "markdown",
   "metadata": {},
   "source": [
    "$$R^TR\\beta = R^TQ^Ty$$"
   ]
  },
  {
   "cell_type": "markdown",
   "metadata": {},
   "source": [
    "Como $A$ tiene $n$ columnas linealmente independientes, la matriz $R$ es invertible por lo que $R^T$ también lo es y finalmente se tiene el sistema de ecuaciones por resolver:"
   ]
  },
  {
   "cell_type": "markdown",
   "metadata": {},
   "source": [
    "$$R\\beta = Q^Ty$$"
   ]
  },
  {
   "cell_type": "markdown",
   "metadata": {},
   "source": [
    "# Ejemplo"
   ]
  },
  {
   "cell_type": "code",
   "execution_count": 107,
   "metadata": {},
   "outputs": [],
   "source": [
    "install.packages(c(\"latex2exp\",\"glmnet\"),lib=\"/usr/local/lib/R/site-library/\",\n",
    "                repos=\"https://cran.itam.mx/\")"
   ]
  },
  {
   "cell_type": "code",
   "execution_count": 1,
   "metadata": {},
   "outputs": [],
   "source": [
    "inc_index<-function(vec,index,h){\n",
    "    '\n",
    "    Auxiliary function for gradient and Hessian computation.\n",
    "    Args:\n",
    "        vec (double): vector\n",
    "        index (int): index.\n",
    "        h (float):   quantity that vec[index] will be increased.\n",
    "    Returns:\n",
    "        vec (double): vector with vec[index] increased by h.\n",
    "    '\n",
    "    vec[index]<-vec[index]+h\n",
    "    vec\n",
    "}"
   ]
  },
  {
   "cell_type": "code",
   "execution_count": 2,
   "metadata": {},
   "outputs": [],
   "source": [
    "gradient_approximation<-function(f,x,h=1e-8){\n",
    "    '\n",
    "    Numerical approximation of gradient for function f using forward differences.\n",
    "    Args:\n",
    "        f (expression): definition of function f.\n",
    "        x (double): vector that holds values where gradient will be computed.\n",
    "        h (float): step size for forward differences, tipically h=1e-8\n",
    "    Returns:\n",
    "        gf (array): numerical approximation to gradient of f.\n",
    "\n",
    "    '\n",
    "    n<-length(x)\n",
    "    gf<-vector(\"double\",n)\n",
    "    for(i in 1:n){\n",
    "        gf[i]=(f(inc_index(x,i,h))-f(x))\n",
    "    }\n",
    "    gf/h\n",
    "}"
   ]
  },
  {
   "cell_type": "code",
   "execution_count": 3,
   "metadata": {},
   "outputs": [],
   "source": [
    "Hessian_approximation<-function(f,x,h=1e-6){\n",
    "    '\n",
    "    Numerical approximation of Hessian for function f using forward differences.\n",
    "    Args:\n",
    "        f (expression): definition of function f.\n",
    "        x (double): vector that holds values where Hessian will be computed.\n",
    "        h (float): step size for forward differences, tipically h=1e-6\n",
    "    Returns:\n",
    "        Hf (double): matrix of numerical approximation to Hessian of f.\n",
    "    '\n",
    "    n<-length(x)\n",
    "    Hf<-matrix(rep(0,n^2),nrow=n,ncol=n)\n",
    "    f_x<-f(x)\n",
    "    for(i in 1:n){\n",
    "        x_inc_in_i<-inc_index(x,i,h)\n",
    "        f_x_inc_in_i<-f(x_inc_in_i)\n",
    "        for(j in i:n){\n",
    "            dif<-f(inc_index(x_inc_in_i,j,h))-f_x_inc_in_i-f(inc_index(x,j,h))+f_x\n",
    "            Hf[i,j]<-dif\n",
    "            if(j!=i)\n",
    "                Hf[j,i]<-dif\n",
    "        }\n",
    "    }\n",
    "    Hf/h^2\n",
    "}"
   ]
  },
  {
   "cell_type": "code",
   "execution_count": 4,
   "metadata": {},
   "outputs": [],
   "source": [
    "line_search_by_backtracking<-function(f,dir_desc,x,\n",
    "                                      der_direct, alpha=.15, beta=.5){\n",
    "    '\n",
    "    Line search that sufficiently decreases f restricted to a ray in the direction dir_desc.\n",
    "    Args:\n",
    "        alpha (float): parameter in line search with backtracking, tipically .15\n",
    "        beta (float): parameter in line search with backtracking, tipically .5\n",
    "        f (expression): definition of function f.\n",
    "        dir_desc (double): vector of descent direction.\n",
    "        x (double): vector that holds values where line search will be performed.\n",
    "        der_direct (float): directional derivative of f.\n",
    "    Returns:\n",
    "        t (float): positive number for stepsize along dir_desc that sufficiently decreases f.\n",
    "    '\n",
    "    t<-1\n",
    "    if (alpha > 1/2){\n",
    "        print('alpha must be less than or equal to 1/2')\n",
    "        t <- -1\n",
    "    }\n",
    "    if (beta>1){\n",
    "        print('beta must be less than 1')\n",
    "        t <- -1\n",
    "    }\n",
    "    if (t!=-1){\n",
    "        eval1 <- f(x+t*dir_desc)\n",
    "        eval2 <- f(x) + alpha*t*der_direct\n",
    "        while (eval1 > eval2){\n",
    "            t<-beta*t\n",
    "            eval1 <- f(x+t*dir_desc)\n",
    "            eval2 <- f(x)+alpha*t*der_direct\n",
    "        }\n",
    "    }else\n",
    "        t <- -1\n",
    "    t\n",
    "}"
   ]
  },
  {
   "cell_type": "code",
   "execution_count": 5,
   "metadata": {},
   "outputs": [],
   "source": [
    "Euclidian_norm<-function(vec){\n",
    "    sqrt(sum(vec*vec))\n",
    "}"
   ]
  },
  {
   "cell_type": "code",
   "execution_count": 6,
   "metadata": {},
   "outputs": [],
   "source": [
    "compute_error<-function(x_obj,x_approx){\n",
    "    '\n",
    "    Relative error between x_obj and x_approx.\n",
    "    '\n",
    "    if (Euclidian_norm(x_obj) > .Machine$double.eps){\n",
    "        Err<-Euclidian_norm(x_obj-x_approx)/Euclidian_norm(x_obj)\n",
    "    }else\n",
    "        Err<-Euclidian_norm(x_obj-x_approx)\n",
    "    Err\n",
    "}"
   ]
  },
  {
   "cell_type": "code",
   "execution_count": 118,
   "metadata": {},
   "outputs": [],
   "source": [
    "gradient_descent<-function(f, x_0, tol, \n",
    "                        tol_backtracking, x_ast, p_ast, maxiter){\n",
    "    '\n",
    "    Method of gradient descent to numerically approximate solution of min f.\n",
    "    Args:\n",
    "        f (expression): definition of function f.\n",
    "        x_0 (double): vector of initial point for gradient descent method.\n",
    "        tol (float): tolerance that will halt method. Controls norm of gradient of f.\n",
    "        tol_backtracking (float): tolerance that will halt method. Controls value of line search by backtracking.\n",
    "        x_ast (double): vector solution of min f, now its required that user knows the solution...\n",
    "        p_ast (double): vector value of f(x_ast), now its required that user knows the solution...\n",
    "        maxiter (int): maximum number of iterations\n",
    "    Returns:\n",
    "        x (double): vector approximation of x_ast.\n",
    "        iteration (int): number of iterations.\n",
    "        Err_plot (double): vector array of absolute error between p_ast and f(x) with x approximation.\n",
    "                          of x_ast. Useful for plotting.\n",
    "        x_plot (double): vector array that containts in columns vector of approximations. Last column\n",
    "                        contains x, approximation of solution. Useful for plotting.\n",
    "    '\n",
    "    iteration <- 1\n",
    "    x <- x_0\n",
    "    \n",
    "    feval <- f(x)\n",
    "    gfeval <- gradient_approximation(f,x)\n",
    "\n",
    "    normgf <- Euclidian_norm(gfeval)\n",
    "    \n",
    "    Err_plot_aux <- vector(\"double\",maxiter)\n",
    "    Err_plot_aux[iteration] <- abs(feval-p_ast)\n",
    "    \n",
    "    Err <- compute_error(x_ast,x)\n",
    "    n <- length(x)\n",
    "    x_plot <- matrix(0,nrow=n,ncol=maxiter)\n",
    "    x_plot[,iteration] <- x\n",
    "    \n",
    "    cat(sprintf(\"I    Normagf   Error x_ast   Error p_ast   line search\\n\"))\n",
    "    cat(sprintf(\"%d    %.2e   %0.2e      %0.2e      %s\\n\",iteration,normgf,Err,Err_plot_aux[iteration],\"---\"))\n",
    "    iteration<-iteration + 1\n",
    "    while(normgf>tol && iteration <= maxiter){\n",
    "        dir_desc <- -gfeval\n",
    "        der_direct <- sum(gfeval*dir_desc)\n",
    "        t <- line_search_by_backtracking(f,dir_desc,x,der_direct)\n",
    "        x <- x + t*dir_desc\n",
    "        feval <- f(x)\n",
    "        gfeval <- gradient_approximation(f,x)\n",
    "        normgf <- Euclidian_norm(gfeval)\n",
    "        Err_plot_aux[iteration] <- abs(feval-p_ast);\n",
    "        x_plot[,iteration] <- x\n",
    "        Err <- compute_error(x_ast,x)\n",
    "        cat(sprintf(\"%d    %.2e   %0.2e      %0.2e      %s\\n\",iteration,normgf,Err,Err_plot_aux[iteration],t))\n",
    "        if (t<tol_backtracking){ #if t is less than tol_backtracking then we need to check the reason\n",
    "            iter_salida <- iteration\n",
    "            iteration <- maxiter\n",
    "        }\n",
    "        iteration <- iteration + 1\n",
    "    } #while\n",
    "    cat(sprintf(\"Error of x with respect to x_ast: %.2e\\n\",Err))\n",
    "    cat(sprintf(\"Approximate solution:\"))\n",
    "    print(x)\n",
    "    cond <- Err_plot_aux > .Machine$double.eps*10**(-2)\n",
    "    Err_plot = Err_plot_aux[cond]\n",
    "    cond<- apply(x_plot,2,function(x) all(x==0))\n",
    "    x_plot <- x_plot[,!cond]\n",
    "    if (iteration == maxiter && t < tol_backtracking){\n",
    "        print(\"Backtracking value less than tol_backtracking, check approximation\")\n",
    "        iteration<-iter_salida\n",
    "    }\n",
    "   list(x,iteration-1,Err_plot,x_plot)\n",
    "    \n",
    "}    "
   ]
  },
  {
   "cell_type": "code",
   "execution_count": 119,
   "metadata": {},
   "outputs": [],
   "source": [
    "library(ggplot2)\n",
    "library(latex2exp)\n",
    "library(glmnet)"
   ]
  },
  {
   "cell_type": "markdown",
   "metadata": {},
   "source": [
    "1) $$\\min \\quad \\frac{1}{2}y^Ty-\\beta^TA^Ty + \\frac{1}{2}\\beta^TA^TA\\beta$$"
   ]
  },
  {
   "cell_type": "code",
   "execution_count": 9,
   "metadata": {},
   "outputs": [],
   "source": [
    "set.seed(1989) #para reproducibilidad\n",
    "mpoints <- 20\n",
    "df <-  data.frame(x=rnorm(mpoints))\n",
    "y <- -3*df$x + rnorm(mpoints,2,1)\n",
    "df$y <- y"
   ]
  },
  {
   "cell_type": "code",
   "execution_count": 10,
   "metadata": {},
   "outputs": [],
   "source": [
    "gg <- ggplot(data=df, aes(x=x, y=y))"
   ]
  },
  {
   "cell_type": "code",
   "execution_count": 11,
   "metadata": {},
   "outputs": [
    {
     "data": {
      "image/png": "[encoded data removed]",
      "text/plain": [
       "plot without title"
      ]
     },
     "metadata": {
      "image/png": {
       "height": 420,
       "width": 420
      }
     },
     "output_type": "display_data"
    }
   ],
   "source": [
    "gg + \n",
    "geom_point(aes(x=x,y=y),size=2)"
   ]
  },
  {
   "cell_type": "code",
   "execution_count": 14,
   "metadata": {},
   "outputs": [],
   "source": [
    "linear_model <- lm(df$y~df$x)"
   ]
  },
  {
   "cell_type": "code",
   "execution_count": 15,
   "metadata": {},
   "outputs": [
    {
     "data": {
      "text/html": [
       "<dl class=dl-horizontal>\n",
       "\t<dt>(Intercept)</dt>\n",
       "\t\t<dd>1.56566282784822</dd>\n",
       "\t<dt>df$x</dt>\n",
       "\t\t<dd>-2.81058194144795</dd>\n",
       "</dl>\n"
      ],
      "text/latex": [
       "\\begin{description*}\n",
       "\\item[(Intercept)] 1.56566282784822\n",
       "\\item[df\\textbackslash{}\\$x] -2.81058194144795\n",
       "\\end{description*}\n"
      ],
      "text/markdown": [
       "(Intercept)\n",
       ":   1.56566282784822df$x\n",
       ":   -2.81058194144795\n",
       "\n"
      ],
      "text/plain": [
       "(Intercept)        df$x \n",
       "   1.565663   -2.810582 "
      ]
     },
     "metadata": {},
     "output_type": "display_data"
    }
   ],
   "source": [
    "linear_model$coefficients"
   ]
  },
  {
   "cell_type": "code",
   "execution_count": 16,
   "metadata": {},
   "outputs": [
    {
     "data": {
      "image/png": "[encoded data removed]",
      "text/plain": [
       "plot without title"
      ]
     },
     "metadata": {
      "image/png": {
       "height": 420,
       "width": 420
      }
     },
     "output_type": "display_data"
    }
   ],
   "source": [
    "gg +\n",
    "geom_point(aes(x=x,y=y),size=2) +\n",
    "geom_smooth(method='lm',colour='red')"
   ]
  },
  {
   "cell_type": "markdown",
   "metadata": {},
   "source": [
    "Método de descenso gradiente con $\\beta_0=(0,0)^T$:"
   ]
  },
  {
   "cell_type": "markdown",
   "metadata": {},
   "source": [
    "1) $$\\min \\quad \\frac{1}{2}y^Ty-\\beta^TA^Ty + \\frac{1}{2}\\beta^TA^TA\\beta$$"
   ]
  },
  {
   "cell_type": "code",
   "execution_count": 17,
   "metadata": {},
   "outputs": [],
   "source": [
    "cte <- sum(y*y)"
   ]
  },
  {
   "cell_type": "code",
   "execution_count": 18,
   "metadata": {},
   "outputs": [],
   "source": [
    "A <- matrix(c(rep(1,mpoints),df$x),nrow=mpoints)"
   ]
  },
  {
   "cell_type": "code",
   "execution_count": 19,
   "metadata": {},
   "outputs": [],
   "source": [
    "fo <-function(beta)1/2*cte - sum(beta*(t(A)%*%y)) + 1/2*sum(beta*(t(A)%*%(A%*%beta)))\n"
   ]
  },
  {
   "cell_type": "code",
   "execution_count": 20,
   "metadata": {},
   "outputs": [],
   "source": [
    "beta_0 <- matrix(c(0,0),nrow=2)"
   ]
  },
  {
   "cell_type": "code",
   "execution_count": 21,
   "metadata": {},
   "outputs": [],
   "source": [
    "beta_ast <- c(linear_model$coefficients[1],linear_model$coefficients[2])\n"
   ]
  },
  {
   "cell_type": "code",
   "execution_count": 22,
   "metadata": {},
   "outputs": [
    {
     "data": {
      "text/html": [
       "<dl class=dl-horizontal>\n",
       "\t<dt>(Intercept)</dt>\n",
       "\t\t<dd>1.56566282784822</dd>\n",
       "\t<dt>df$x</dt>\n",
       "\t\t<dd>-2.81058194144795</dd>\n",
       "</dl>\n"
      ],
      "text/latex": [
       "\\begin{description*}\n",
       "\\item[(Intercept)] 1.56566282784822\n",
       "\\item[df\\textbackslash{}\\$x] -2.81058194144795\n",
       "\\end{description*}\n"
      ],
      "text/markdown": [
       "(Intercept)\n",
       ":   1.56566282784822df$x\n",
       ":   -2.81058194144795\n",
       "\n"
      ],
      "text/plain": [
       "(Intercept)        df$x \n",
       "   1.565663   -2.810582 "
      ]
     },
     "metadata": {},
     "output_type": "display_data"
    }
   ],
   "source": [
    "beta_ast"
   ]
  },
  {
   "cell_type": "code",
   "execution_count": 23,
   "metadata": {},
   "outputs": [],
   "source": [
    "p_ast <- fo(beta_ast)"
   ]
  },
  {
   "cell_type": "code",
   "execution_count": 24,
   "metadata": {},
   "outputs": [
    {
     "data": {
      "text/html": [
       "11.1174998924303"
      ],
      "text/latex": [
       "11.1174998924303"
      ],
      "text/markdown": [
       "11.1174998924303"
      ],
      "text/plain": [
       "[1] 11.1175"
      ]
     },
     "metadata": {},
     "output_type": "display_data"
    }
   ],
   "source": [
    "p_ast"
   ]
  },
  {
   "cell_type": "code",
   "execution_count": 25,
   "metadata": {},
   "outputs": [],
   "source": [
    "tol <- 1e-8\n",
    "tol_backtracking <- 1e-14\n",
    "maxiter <- 30\n",
    "p_ast <- fo(beta_ast)\n"
   ]
  },
  {
   "cell_type": "code",
   "execution_count": 26,
   "metadata": {},
   "outputs": [
    {
     "name": "stdout",
     "output_type": "stream",
     "text": [
      "I    Normagf   Error x_ast   Error p_ast   line search\n",
      "1    7.73e+01   1.00e+00      1.24e+02      ---\n",
      "2    4.17e+01   5.17e-01      3.46e+01      0.0625\n",
      "3    2.41e+01   2.95e-01      1.14e+01      0.0625\n",
      "4    1.41e+01   1.73e-01      3.91e+00      0.0625\n",
      "5    8.27e+00   1.01e-01      1.35e+00      0.0625\n",
      "6    4.86e+00   5.95e-02      4.65e-01      0.0625\n",
      "7    2.85e+00   3.49e-02      1.60e-01      0.0625\n",
      "8    1.68e+00   2.05e-02      5.53e-02      0.0625\n",
      "9    9.84e-01   1.20e-02      1.91e-02      0.0625\n",
      "10    5.78e-01   7.07e-03      6.58e-03      0.0625\n",
      "11    3.39e-01   4.15e-03      2.27e-03      0.0625\n",
      "12    1.99e-01   2.44e-03      7.83e-04      0.0625\n",
      "13    1.17e-01   1.43e-03      2.70e-04      0.0625\n",
      "14    6.88e-02   8.42e-04      9.31e-05      0.0625\n",
      "15    4.04e-02   4.94e-04      3.21e-05      0.0625\n",
      "16    2.37e-02   2.90e-04      1.11e-05      0.0625\n",
      "17    1.39e-02   1.70e-04      3.82e-06      0.0625\n",
      "18    8.19e-03   1.00e-04      1.32e-06      0.0625\n",
      "19    4.81e-03   5.89e-05      4.56e-07      0.0625\n",
      "20    2.82e-03   3.46e-05      1.57e-07      0.0625\n",
      "21    1.65e-03   2.03e-05      5.41e-08      0.0625\n",
      "22    9.67e-04   1.18e-05      1.84e-08      0.0625\n",
      "23    5.69e-04   6.95e-06      6.35e-09      0.0625\n",
      "24    3.34e-04   4.11e-06      2.22e-09      0.0625\n",
      "25    1.95e-04   2.39e-06      7.51e-10      0.0625\n",
      "26    1.15e-04   1.40e-06      2.56e-10      0.0625\n",
      "27    6.98e-05   8.42e-07      9.32e-11      0.0625\n",
      "28    3.99e-05   5.13e-07      3.46e-11      0.0625\n",
      "29    2.45e-05   2.62e-07      9.00e-12      0.0625\n",
      "30    2.01e-06   3.49e-08      1.56e-13      0.03125\n",
      "Error of x with respect to x_ast: 3.49e-08\n",
      "Approximate solution:          [,1]\n",
      "[1,]  1.565663\n",
      "[2,] -2.810582\n"
     ]
    }
   ],
   "source": [
    "l<-gradient_descent(fo, beta_0, tol, tol_backtracking, beta_ast, p_ast, maxiter)"
   ]
  },
  {
   "cell_type": "code",
   "execution_count": 27,
   "metadata": {},
   "outputs": [],
   "source": [
    "beta <- l[[1]]\n",
    "total_of_iterations <- l[[2]]\n",
    "Err_plot <- l[[3]]\n",
    "beta_plot <- l[[4]]\n"
   ]
  },
  {
   "cell_type": "code",
   "execution_count": 28,
   "metadata": {},
   "outputs": [
    {
     "name": "stdout",
     "output_type": "stream",
     "text": [
      "          [,1]\n",
      "[1,]  1.565663\n",
      "[2,] -2.810582\n"
     ]
    }
   ],
   "source": [
    "print(beta)"
   ]
  },
  {
   "cell_type": "code",
   "execution_count": 29,
   "metadata": {},
   "outputs": [
    {
     "name": "stdout",
     "output_type": "stream",
     "text": [
      "(Intercept)        df$x \n",
      "   1.565663   -2.810582 \n"
     ]
    }
   ],
   "source": [
    "print(beta_ast)"
   ]
  },
  {
   "cell_type": "code",
   "execution_count": 30,
   "metadata": {},
   "outputs": [],
   "source": [
    "gg <- ggplot()"
   ]
  },
  {
   "cell_type": "code",
   "execution_count": 31,
   "metadata": {},
   "outputs": [
    {
     "data": {
      "image/png": "[encoded data removed]",
      "text/plain": [
       "plot without title"
      ]
     },
     "metadata": {
      "image/png": {
       "height": 420,
       "width": 420
      }
     },
     "output_type": "display_data"
    }
   ],
   "source": [
    "gg +\n",
    "geom_line(aes(x=25:total_of_iterations,y=Err_plot[25:length(Err_plot)])) + \n",
    "xlab('Iterations') + ylab(TeX('f_o(x^k)-p^*'))\n"
   ]
  },
  {
   "cell_type": "markdown",
   "metadata": {},
   "source": [
    "# Regularización"
   ]
  },
  {
   "cell_type": "markdown",
   "metadata": {},
   "source": [
    "Penalización lasso"
   ]
  },
  {
   "cell_type": "code",
   "execution_count": 198,
   "metadata": {},
   "outputs": [],
   "source": [
    "reg<-.5"
   ]
  },
  {
   "cell_type": "code",
   "execution_count": 199,
   "metadata": {},
   "outputs": [],
   "source": [
    "quita_signo<-function(beta){\n",
    "    if(min(abs(beta)) > (.Machine$double.xmin * .Machine$double.eps)){\n",
    "    result<-sign(beta)*beta\n",
    "    }else{\n",
    "        result<- rep(.Machine$double.xmin * .Machine$double.eps,length(beta))\n",
    "        }\n",
    "    result\n",
    "    }"
   ]
  },
  {
   "cell_type": "code",
   "execution_count": 200,
   "metadata": {},
   "outputs": [],
   "source": [
    "fo <-function(beta)1/mpoints*(1/2*cte - sum(beta*(t(A)%*%y)) + 1/2*sum(beta*(t(A)%*%(A%*%beta)))) + reg*sum(quita_signo(beta))"
   ]
  },
  {
   "cell_type": "code",
   "execution_count": 201,
   "metadata": {},
   "outputs": [],
   "source": [
    "beta_0<-c(-1,2)"
   ]
  },
  {
   "cell_type": "code",
   "execution_count": 202,
   "metadata": {},
   "outputs": [],
   "source": [
    "gf <- function(beta) 1/mpoints * t(A)%*%(A%*%beta-y) + reg*sign(beta)"
   ]
  },
  {
   "cell_type": "code",
   "execution_count": 203,
   "metadata": {},
   "outputs": [
    {
     "data": {
      "text/html": [
       "<table>\n",
       "<caption>A matrix: 2 × 1 of type dbl</caption>\n",
       "<tbody>\n",
       "\t<tr><td>-3.007055</td></tr>\n",
       "\t<tr><td> 6.574837</td></tr>\n",
       "</tbody>\n",
       "</table>\n"
      ],
      "text/latex": [
       "A matrix: 2 × 1 of type dbl\n",
       "\\begin{tabular}{l}\n",
       "\t -3.007055\\\\\n",
       "\t  6.574837\\\\\n",
       "\\end{tabular}\n"
      ],
      "text/markdown": [
       "\n",
       "A matrix: 2 × 1 of type dbl\n",
       "\n",
       "| -3.007055 |\n",
       "|  6.574837 |\n",
       "\n"
      ],
      "text/plain": [
       "     [,1]     \n",
       "[1,] -3.007055\n",
       "[2,]  6.574837"
      ]
     },
     "metadata": {},
     "output_type": "display_data"
    }
   ],
   "source": [
    "gf(beta_0)"
   ]
  },
  {
   "cell_type": "code",
   "execution_count": 204,
   "metadata": {},
   "outputs": [
    {
     "data": {
      "text/html": [
       "<ol class=list-inline>\n",
       "\t<li>-3.00705487177311</li>\n",
       "\t<li>6.57483631982814</li>\n",
       "</ol>\n"
      ],
      "text/latex": [
       "\\begin{enumerate*}\n",
       "\\item -3.00705487177311\n",
       "\\item 6.57483631982814\n",
       "\\end{enumerate*}\n"
      ],
      "text/markdown": [
       "1. -3.00705487177311\n",
       "2. 6.57483631982814\n",
       "\n",
       "\n"
      ],
      "text/plain": [
       "[1] -3.007055  6.574836"
      ]
     },
     "metadata": {},
     "output_type": "display_data"
    }
   ],
   "source": [
    "gradient_approximation(fo,beta_0)"
   ]
  },
  {
   "cell_type": "code",
   "execution_count": 205,
   "metadata": {},
   "outputs": [],
   "source": [
    "beta_0 <- matrix(c(0,0),nrow=2)"
   ]
  },
  {
   "cell_type": "code",
   "execution_count": 206,
   "metadata": {},
   "outputs": [
    {
     "data": {
      "text/html": [
       "<ol class=list-inline>\n",
       "\t<li>-1.53142094561076</li>\n",
       "\t<li>3.54841018790353</li>\n",
       "</ol>\n"
      ],
      "text/latex": [
       "\\begin{enumerate*}\n",
       "\\item -1.53142094561076\n",
       "\\item 3.54841018790353\n",
       "\\end{enumerate*}\n"
      ],
      "text/markdown": [
       "1. -1.53142094561076\n",
       "2. 3.54841018790353\n",
       "\n",
       "\n"
      ],
      "text/plain": [
       "[1] -1.531421  3.548410"
      ]
     },
     "metadata": {},
     "output_type": "display_data"
    }
   ],
   "source": [
    "gradient_approximation(fo,beta_0)"
   ]
  },
  {
   "cell_type": "code",
   "execution_count": 207,
   "metadata": {},
   "outputs": [
    {
     "data": {
      "text/html": [
       "<table>\n",
       "<caption>A matrix: 2 × 1 of type dbl</caption>\n",
       "<tbody>\n",
       "\t<tr><td>-1.531421</td></tr>\n",
       "\t<tr><td> 3.548410</td></tr>\n",
       "</tbody>\n",
       "</table>\n"
      ],
      "text/latex": [
       "A matrix: 2 × 1 of type dbl\n",
       "\\begin{tabular}{l}\n",
       "\t -1.531421\\\\\n",
       "\t  3.548410\\\\\n",
       "\\end{tabular}\n"
      ],
      "text/markdown": [
       "\n",
       "A matrix: 2 × 1 of type dbl\n",
       "\n",
       "| -1.531421 |\n",
       "|  3.548410 |\n",
       "\n"
      ],
      "text/plain": [
       "     [,1]     \n",
       "[1,] -1.531421\n",
       "[2,]  3.548410"
      ]
     },
     "metadata": {},
     "output_type": "display_data"
    }
   ],
   "source": [
    "gf(beta_0)"
   ]
  },
  {
   "cell_type": "code",
   "execution_count": 208,
   "metadata": {},
   "outputs": [],
   "source": [
    "fit <- glmnet(A,y,alpha=1,lambda=reg,standardize=F,nlambda=1,thresh=1e-8)"
   ]
  },
  {
   "cell_type": "code",
   "execution_count": 209,
   "metadata": {},
   "outputs": [
    {
     "name": "stdout",
     "output_type": "stream",
     "text": [
      "          s0\n",
      "V1  0.000000\n",
      "V2 -2.416619\n"
     ]
    }
   ],
   "source": [
    "print(as.matrix(fit$beta))"
   ]
  },
  {
   "cell_type": "code",
   "execution_count": 210,
   "metadata": {},
   "outputs": [],
   "source": [
    "beta_ast <- as.matrix(fit$beta)\n"
   ]
  },
  {
   "cell_type": "code",
   "execution_count": 211,
   "metadata": {},
   "outputs": [
    {
     "data": {
      "text/html": [
       "<table>\n",
       "<caption>A matrix: 2 × 1 of type dbl</caption>\n",
       "<thead>\n",
       "\t<tr><th></th><th scope=col>s0</th></tr>\n",
       "</thead>\n",
       "<tbody>\n",
       "\t<tr><th scope=row>V1</th><td> 0.000000</td></tr>\n",
       "\t<tr><th scope=row>V2</th><td>-2.416619</td></tr>\n",
       "</tbody>\n",
       "</table>\n"
      ],
      "text/latex": [
       "A matrix: 2 × 1 of type dbl\n",
       "\\begin{tabular}{r|l}\n",
       "  & s0\\\\\n",
       "\\hline\n",
       "\tV1 &  0.000000\\\\\n",
       "\tV2 & -2.416619\\\\\n",
       "\\end{tabular}\n"
      ],
      "text/markdown": [
       "\n",
       "A matrix: 2 × 1 of type dbl\n",
       "\n",
       "| <!--/--> | s0 |\n",
       "|---|---|\n",
       "| V1 |  0.000000 |\n",
       "| V2 | -2.416619 |\n",
       "\n"
      ],
      "text/plain": [
       "   s0       \n",
       "V1  0.000000\n",
       "V2 -2.416619"
      ]
     },
     "metadata": {},
     "output_type": "display_data"
    }
   ],
   "source": [
    "beta_ast"
   ]
  },
  {
   "cell_type": "code",
   "execution_count": 212,
   "metadata": {},
   "outputs": [],
   "source": [
    "p_ast <- fo(beta_ast)"
   ]
  },
  {
   "cell_type": "code",
   "execution_count": 213,
   "metadata": {},
   "outputs": [
    {
     "data": {
      "text/html": [
       "1.87251244844826"
      ],
      "text/latex": [
       "1.87251244844826"
      ],
      "text/markdown": [
       "1.87251244844826"
      ],
      "text/plain": [
       "[1] 1.872512"
      ]
     },
     "metadata": {},
     "output_type": "display_data"
    }
   ],
   "source": [
    "p_ast"
   ]
  },
  {
   "cell_type": "code",
   "execution_count": 214,
   "metadata": {},
   "outputs": [],
   "source": [
    "beta_0<-c(0,0)"
   ]
  },
  {
   "cell_type": "code",
   "execution_count": 215,
   "metadata": {},
   "outputs": [],
   "source": [
    "tol <- 1e-8\n",
    "tol_backtracking <- 1e-14\n",
    "maxiter <- 30\n",
    "p_ast <- fo(beta_ast)\n"
   ]
  },
  {
   "cell_type": "code",
   "execution_count": 216,
   "metadata": {},
   "outputs": [
    {
     "name": "stdout",
     "output_type": "stream",
     "text": [
      "I    Normagf   Error x_ast   Error p_ast   line search\n",
      "1    3.86e+00   1.00e+00      4.87e+00      ---\n",
      "2    1.51e+00   7.88e-01      1.57e+00      1\n",
      "3    3.82e-01   4.62e-01      7.03e-01      1\n",
      "4    1.03e-01   4.39e-01      6.50e-01      1\n",
      "5    2.78e-02   4.40e-01      6.46e-01      1\n",
      "6    7.50e-03   4.39e-01      6.46e-01      1\n",
      "7    2.03e-03   4.39e-01      6.46e-01      1\n",
      "8    5.47e-04   4.39e-01      6.46e-01      1\n",
      "9    1.47e-04   4.39e-01      6.46e-01      1\n",
      "10    3.98e-05   4.39e-01      6.46e-01      1\n",
      "11    1.08e-05   4.39e-01      6.46e-01      1\n",
      "12    3.07e-06   4.39e-01      6.46e-01      1\n",
      "13    7.56e-07   4.39e-01      6.46e-01      1\n",
      "14    1.99e-07   4.39e-01      6.46e-01      1\n",
      "15    8.88e-08   4.39e-01      6.46e-01      0.5\n",
      "16    2.59e-07   4.39e-01      6.46e-01      0.25\n",
      "17    1.78e-07   4.39e-01      6.46e-01      0.015625\n",
      "18    1.33e-07   4.39e-01      6.46e-01      0.0078125\n",
      "19    2.98e-07   4.39e-01      6.46e-01      0.0001220703125\n",
      "20    1.33e-07   4.39e-01      6.46e-01      0.00390625\n",
      "21    1.99e-07   4.39e-01      6.46e-01      3.72529029846191e-09\n",
      "22    2.26e-07   4.39e-01      6.46e-01      6.103515625e-05\n",
      "23    8.88e-08   4.39e-01      6.46e-01      0.000244140625\n",
      "24    1.88e-07   4.39e-01      6.46e-01      0.0078125\n",
      "25    1.88e-07   4.39e-01      6.46e-01      4.65661287307739e-10\n",
      "26    1.88e-07   4.39e-01      6.46e-01      4.65661287307739e-10\n",
      "27    1.88e-07   4.39e-01      6.46e-01      4.65661287307739e-10\n",
      "28    1.88e-07   4.39e-01      6.46e-01      4.65661287307739e-10\n",
      "29    1.88e-07   4.39e-01      6.46e-01      4.65661287307739e-10\n",
      "30    1.88e-07   4.39e-01      6.46e-01      4.65661287307739e-10\n",
      "Error of x with respect to x_ast: 4.39e-01\n",
      "Approximate solution:[1]  1.060805 -2.411820\n"
     ]
    }
   ],
   "source": [
    "l<-gradient_descent(fo, beta_0, tol, tol_backtracking, beta_ast, p_ast, maxiter)"
   ]
  },
  {
   "cell_type": "code",
   "execution_count": 217,
   "metadata": {},
   "outputs": [],
   "source": [
    "beta <- l[[1]]\n",
    "total_of_iterations <- l[[2]]\n",
    "Err_plot <- l[[3]]\n",
    "beta_plot <- l[[4]]\n"
   ]
  },
  {
   "cell_type": "code",
   "execution_count": 218,
   "metadata": {},
   "outputs": [
    {
     "name": "stdout",
     "output_type": "stream",
     "text": [
      "[1]  1.060805 -2.411820\n"
     ]
    }
   ],
   "source": [
    "print(beta)"
   ]
  },
  {
   "cell_type": "code",
   "execution_count": 219,
   "metadata": {},
   "outputs": [
    {
     "name": "stdout",
     "output_type": "stream",
     "text": [
      "          s0\n",
      "V1  0.000000\n",
      "V2 -2.416619\n"
     ]
    }
   ],
   "source": [
    "print(beta_ast)"
   ]
  },
  {
   "cell_type": "code",
   "execution_count": 220,
   "metadata": {},
   "outputs": [
    {
     "data": {
      "text/html": [
       "2.51809227563267"
      ],
      "text/latex": [
       "2.51809227563267"
      ],
      "text/markdown": [
       "2.51809227563267"
      ],
      "text/plain": [
       "[1] 2.518092"
      ]
     },
     "metadata": {},
     "output_type": "display_data"
    }
   ],
   "source": [
    "fo(beta)"
   ]
  },
  {
   "cell_type": "code",
   "execution_count": 221,
   "metadata": {},
   "outputs": [
    {
     "data": {
      "text/html": [
       "<table>\n",
       "<caption>A matrix: 2 × 29 of type dbl</caption>\n",
       "<tbody>\n",
       "\t<tr><td> 1.531421</td><td> 1.074652</td><td> 1.057145</td><td> 1.061792</td><td> 1.060538</td><td> 1.060877</td><td> 1.060785</td><td> 1.060810</td><td> 1.060803</td><td> 1.060805</td><td>⋯</td><td> 1.060805</td><td> 1.060805</td><td> 1.060805</td><td> 1.060805</td><td> 1.060805</td><td> 1.060805</td><td> 1.060805</td><td> 1.060805</td><td> 1.060805</td><td> 1.060805</td></tr>\n",
       "\t<tr><td>-3.548410</td><td>-2.111464</td><td>-2.492876</td><td>-2.389947</td><td>-2.417722</td><td>-2.410227</td><td>-2.412250</td><td>-2.411704</td><td>-2.411851</td><td>-2.411811</td><td>⋯</td><td>-2.411820</td><td>-2.411820</td><td>-2.411820</td><td>-2.411820</td><td>-2.411820</td><td>-2.411820</td><td>-2.411820</td><td>-2.411820</td><td>-2.411820</td><td>-2.411820</td></tr>\n",
       "</tbody>\n",
       "</table>\n"
      ],
      "text/latex": [
       "A matrix: 2 × 29 of type dbl\n",
       "\\begin{tabular}{lllllllllllllllllllll}\n",
       "\t  1.531421 &  1.074652 &  1.057145 &  1.061792 &  1.060538 &  1.060877 &  1.060785 &  1.060810 &  1.060803 &  1.060805 & ⋯ &  1.060805 &  1.060805 &  1.060805 &  1.060805 &  1.060805 &  1.060805 &  1.060805 &  1.060805 &  1.060805 &  1.060805\\\\\n",
       "\t -3.548410 & -2.111464 & -2.492876 & -2.389947 & -2.417722 & -2.410227 & -2.412250 & -2.411704 & -2.411851 & -2.411811 & ⋯ & -2.411820 & -2.411820 & -2.411820 & -2.411820 & -2.411820 & -2.411820 & -2.411820 & -2.411820 & -2.411820 & -2.411820\\\\\n",
       "\\end{tabular}\n"
      ],
      "text/markdown": [
       "\n",
       "A matrix: 2 × 29 of type dbl\n",
       "\n",
       "|  1.531421 |  1.074652 |  1.057145 |  1.061792 |  1.060538 |  1.060877 |  1.060785 |  1.060810 |  1.060803 |  1.060805 | ⋯ |  1.060805 |  1.060805 |  1.060805 |  1.060805 |  1.060805 |  1.060805 |  1.060805 |  1.060805 |  1.060805 |  1.060805 |\n",
       "| -3.548410 | -2.111464 | -2.492876 | -2.389947 | -2.417722 | -2.410227 | -2.412250 | -2.411704 | -2.411851 | -2.411811 | ⋯ | -2.411820 | -2.411820 | -2.411820 | -2.411820 | -2.411820 | -2.411820 | -2.411820 | -2.411820 | -2.411820 | -2.411820 |\n",
       "\n"
      ],
      "text/plain": [
       "     [,1]      [,2]      [,3]      [,4]      [,5]      [,6]      [,7]     \n",
       "[1,]  1.531421  1.074652  1.057145  1.061792  1.060538  1.060877  1.060785\n",
       "[2,] -3.548410 -2.111464 -2.492876 -2.389947 -2.417722 -2.410227 -2.412250\n",
       "     [,8]      [,9]      [,10]     [,11] [,12]     [,13]     [,14]    \n",
       "[1,]  1.060810  1.060803  1.060805 ⋯      1.060805  1.060805  1.060805\n",
       "[2,] -2.411704 -2.411851 -2.411811 ⋯     -2.411820 -2.411820 -2.411820\n",
       "     [,15]     [,16]     [,17]     [,18]     [,19]     [,20]     [,21]    \n",
       "[1,]  1.060805  1.060805  1.060805  1.060805  1.060805  1.060805  1.060805\n",
       "[2,] -2.411820 -2.411820 -2.411820 -2.411820 -2.411820 -2.411820 -2.411820"
      ]
     },
     "metadata": {},
     "output_type": "display_data"
    }
   ],
   "source": [
    "beta_plot"
   ]
  },
  {
   "cell_type": "code",
   "execution_count": 222,
   "metadata": {},
   "outputs": [
    {
     "data": {
      "image/png": "[encoded data removed]",
      "text/plain": [
       "plot without title"
      ]
     },
     "metadata": {
      "image/png": {
       "height": 420,
       "width": 420
      }
     },
     "output_type": "display_data"
    }
   ],
   "source": [
    "gg +\n",
    "geom_point(aes(x=beta_plot[1,],y=beta_plot[2,]),size=2) +\n",
    "#annotate(geom='text', x=0.5, y=0.47, \n",
    "#         label=TeX(\"x^{(0)}\", output='character'), parse=TRUE) + \n",
    "xlab('x') + ylab('y') + \n",
    "ggtitle(TeX('Iter del método de descenso en gradiente para $f_o$'))"
   ]
  },
  {
   "cell_type": "markdown",
   "metadata": {},
   "source": [
    "\n"
   ]
  },
  {
   "cell_type": "markdown",
   "metadata": {},
   "source": [
    "**Referencias:**\n",
    "\n",
    "* Ver [3_minimos_cuadrados](https://github.com/ITAM-DS/Propedeutico/blob/master/Python/clases/3_algebra_lineal/3_minimos_cuadrados.ipynb) para una introducción al problema de mínimos cuadrados con ejemplos en Python3."
   ]
  }
 ],
 "metadata": {
  "kernelspec": {
   "display_name": "R",
   "language": "R",
   "name": "ir"
  },
  "language_info": {
   "codemirror_mode": "r",
   "file_extension": ".r",
   "mimetype": "text/x-r-source",
   "name": "R",
   "pygments_lexer": "r",
   "version": "3.6.2"
  }
 },
 "nbformat": 4,
 "nbformat_minor": 4
}
