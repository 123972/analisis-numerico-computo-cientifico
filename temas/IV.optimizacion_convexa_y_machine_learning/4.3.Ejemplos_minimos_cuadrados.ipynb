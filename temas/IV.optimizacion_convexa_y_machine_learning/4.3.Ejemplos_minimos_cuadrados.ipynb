{
 "cells": [
  {
   "cell_type": "markdown",
   "metadata": {},
   "source": [
    "# Mínimos cuadrados lineales"
   ]
  },
  {
   "cell_type": "markdown",
   "metadata": {},
   "source": [
    "Supóngase que se han realizado mediciones de un fenómeno de interés en diferentes puntos $x_i$'s resultando en cantidades $y_i$'s $\\forall i=0,1,\\dots, m$ (se tienen $m+1$ puntos) y además las $y_i$'s contienen un ruido aleatorio causado por errores de medición:"
   ]
  },
  {
   "cell_type": "markdown",
   "metadata": {},
   "source": [
    "<img src=\"https://dl.dropboxusercontent.com/s/iydpi0m8ndqzb0s/mcuadrados_1.jpg?dl=0\" heigth=\"350\" width=\"350\">\n"
   ]
  },
  {
   "cell_type": "markdown",
   "metadata": {},
   "source": [
    "El objetivo de los mínimos cuadrados lineales es construir una curva, $f(x|\\beta)$ que \"mejor\" se ajuste a los datos $(x_i,y_i)$, $\\forall i=0,1,\\dots,m$. El término de \"mejor\" se refiere a que la suma: $$\\displaystyle \\sum_{i=0}^m (y_i -f(x_i|\\beta))^2$$ sea lo más pequeña posible, esto es, a que la suma de las distancias verticales entre $y_i$ y $f(x_i|\\beta)$ $\\forall i=0,1,\\dots,m$ al cuadrado sea mínima:"
   ]
  },
  {
   "cell_type": "markdown",
   "metadata": {},
   "source": [
    "<img src=\"https://dl.dropboxusercontent.com/s/0dhzv336jj6ep4z/mcuadrados_2.jpg?dl=0\" heigth=\"350\" width=\"350\">\n"
   ]
  },
  {
   "cell_type": "markdown",
   "metadata": {},
   "source": [
    "**Obs:**\n",
    "\n",
    "* La notación $f(x|\\beta)$ se utiliza para denotar que $\\beta$ es un vector de parámetros a estimar, en específico $\\beta_0, \\beta_1, \\dots \\beta_n$, esto es: $n+1$ parámetros a estimar."
   ]
  },
  {
   "cell_type": "markdown",
   "metadata": {},
   "source": [
    "Si $m=3$ y $A \\in \\mathbb{R}^{3 \\times 2}$ geométricamente el problema de mínimos cuadrados se puede visualizar con el siguiente dibujo:"
   ]
  },
  {
   "cell_type": "markdown",
   "metadata": {},
   "source": [
    "<img src=\"https://dl.dropboxusercontent.com/s/zkbhzv9a2jiw11b/espacio_generado_columnas_de_A.png?dl=0\" heigth=\"400\" width=\"400\">"
   ]
  },
  {
   "cell_type": "markdown",
   "metadata": {},
   "source": [
    "## Modelo en mínimos cuadrados lineales"
   ]
  },
  {
   "cell_type": "markdown",
   "metadata": {},
   "source": [
    "En los mínimos cuadrados lineales se supone:  $f(x|\\beta) = \\displaystyle \\sum_{j=0}^n\\beta_j\\phi_j(x)$ con $\\phi_j: \\mathbb{R} \\rightarrow \\mathbb{R}$ funciones conocidas por lo que se tiene una gran flexibilidad para el proceso de ajuste."
   ]
  },
  {
   "cell_type": "markdown",
   "metadata": {},
   "source": [
    "**Obs:** \n",
    "\n",
    "* Si $n=m$ entonces se tiene un problema de interpolación.\n",
    "* x se nombra variable **regresora**."
   ]
  },
  {
   "cell_type": "markdown",
   "metadata": {},
   "source": [
    "## ¿Cómo ajustar el modelo anterior?"
   ]
  },
  {
   "cell_type": "markdown",
   "metadata": {},
   "source": [
    "En lo siguiente se **asume** $n+1 \\leq m+1$ (tenemos más puntos $(x_i,y_i)$'s que parámetros a estimar)."
   ]
  },
  {
   "cell_type": "markdown",
   "metadata": {},
   "source": [
    "Para realizar el ajuste de mínimos cuadrados se utilizan las ecuaciones normales: $$A^TA\\beta=A^Ty$$ donde: $A$ se construye con las $\\phi_j$'s evaluadas en los puntos $x_i$'s, el vector $\\beta$ contiene a los parámetros $\\beta_j$'s a estimar y el vector $y$, la variable **respuesta**, se construye con los puntos $y_i$'s:"
   ]
  },
  {
   "cell_type": "markdown",
   "metadata": {},
   "source": [
    "$$A = \\left[\\begin{array}{cccc}\n",
    "\\phi_0(x_0) &\\phi_1(x_0)&\\dots&\\phi_n(x_0)\\\\\n",
    "\\phi_0(x_1) &\\phi_1(x_1)&\\dots&\\phi_n(x_1)\\\\\n",
    "\\vdots &\\vdots& \\vdots&\\vdots\\\\\n",
    "\\phi_0(x_n) &\\phi_1(x_n)&\\dots&\\phi_n(x_n)\\\\\n",
    "\\vdots &\\vdots& \\vdots&\\vdots\\\\\n",
    "\\phi_0(x_{m-1}) &\\phi_1(x_{m-1})&\\dots&\\phi_n(x_{m-1})\\\\\n",
    "\\phi_0(x_m) &\\phi_1(x_m)&\\dots&\\phi_n(x_m)\n",
    "\\end{array}\n",
    "\\right] \\in \\mathbb{R}^{(m+1)x(n+1)},\n",
    "\\beta=\n",
    "\\left[\\begin{array}{c}\n",
    "\\beta_0\\\\\n",
    "\\beta_1\\\\\n",
    "\\vdots \\\\\n",
    "\\beta_n\n",
    "\\end{array}\n",
    "\\right] \\in \\mathbb{R}^n,\n",
    "y=\n",
    "\\left[\\begin{array}{c}\n",
    "y_0\\\\\n",
    "y_1\\\\\n",
    "\\vdots \\\\\n",
    "y_m\n",
    "\\end{array}\n",
    "\\right] \\in \\mathbb{R}^m\n",
    "$$"
   ]
  },
  {
   "cell_type": "markdown",
   "metadata": {},
   "source": [
    "y si $A$ es de $rank$ completo (tiene $n+1$ columnas linealmente independientes) se calcula la factorización $QR$ de $A$ : $A = QR$ y entonces: $$A^TA\\beta = A^Ty$$ "
   ]
  },
  {
   "cell_type": "markdown",
   "metadata": {},
   "source": [
    "y como $A=QR$ se tiene: $A^TA = (R^TQ^T)(QR)$ y $A^T = R^TQ^T$ por lo que:"
   ]
  },
  {
   "cell_type": "markdown",
   "metadata": {},
   "source": [
    "$$(R^TQ^T)(QR) \\beta =  R^TQ^T y$$"
   ]
  },
  {
   "cell_type": "markdown",
   "metadata": {},
   "source": [
    "y usando que $Q$ tiene columnas ortonormales:"
   ]
  },
  {
   "cell_type": "markdown",
   "metadata": {},
   "source": [
    "$$R^TR\\beta = R^TQ^Ty$$"
   ]
  },
  {
   "cell_type": "markdown",
   "metadata": {},
   "source": [
    "Como $A$ tiene $n$ columnas linealmente independientes, la matriz $R$ es invertible por lo que $R^T$ también lo es y finalmente se tiene el sistema de ecuaciones por resolver:"
   ]
  },
  {
   "cell_type": "markdown",
   "metadata": {},
   "source": [
    "$$R\\beta = Q^Ty$$"
   ]
  },
  {
   "cell_type": "markdown",
   "metadata": {},
   "source": [
    "# Ejemplo"
   ]
  },
  {
   "cell_type": "code",
   "execution_count": 1,
   "metadata": {},
   "outputs": [
    {
     "name": "stderr",
     "output_type": "stream",
     "text": [
      "also installing the dependencies ‘iterators’, ‘foreach’, ‘shape’\n",
      "\n",
      "\n"
     ]
    }
   ],
   "source": [
    "install.packages(c(\"latex2exp\",\"glmnet\"),lib=\"/usr/local/lib/R/site-library/\",\n",
    "                repos=\"https://cran.itam.mx/\")"
   ]
  },
  {
   "cell_type": "code",
   "execution_count": 1,
   "metadata": {},
   "outputs": [],
   "source": [
    "inc_index<-function(vec,index,h){\n",
    "    '\n",
    "    Auxiliary function for gradient and Hessian computation.\n",
    "    Args:\n",
    "        vec (double): vector\n",
    "        index (int): index.\n",
    "        h (float):   quantity that vec[index] will be increased.\n",
    "    Returns:\n",
    "        vec (double): vector with vec[index] increased by h.\n",
    "    '\n",
    "    vec[index]<-vec[index]+h\n",
    "    vec\n",
    "}"
   ]
  },
  {
   "cell_type": "code",
   "execution_count": 2,
   "metadata": {},
   "outputs": [],
   "source": [
    "gradient_approximation<-function(f,x,h=1e-8){\n",
    "    '\n",
    "    Numerical approximation of gradient for function f using forward differences.\n",
    "    Args:\n",
    "        f (expression): definition of function f.\n",
    "        x (double): vector that holds values where gradient will be computed.\n",
    "        h (float): step size for forward differences, tipically h=1e-8\n",
    "    Returns:\n",
    "        gf (array): numerical approximation to gradient of f.\n",
    "\n",
    "    '\n",
    "    n<-length(x)\n",
    "    gf<-vector(\"double\",n)\n",
    "    for(i in 1:n){\n",
    "        gf[i]=(f(inc_index(x,i,h))-f(x))\n",
    "    }\n",
    "    gf/h\n",
    "}"
   ]
  },
  {
   "cell_type": "code",
   "execution_count": 3,
   "metadata": {},
   "outputs": [],
   "source": [
    "Hessian_approximation<-function(f,x,h=1e-6){\n",
    "    '\n",
    "    Numerical approximation of Hessian for function f using forward differences.\n",
    "    Args:\n",
    "        f (expression): definition of function f.\n",
    "        x (double): vector that holds values where Hessian will be computed.\n",
    "        h (float): step size for forward differences, tipically h=1e-6\n",
    "    Returns:\n",
    "        Hf (double): matrix of numerical approximation to Hessian of f.\n",
    "    '\n",
    "    n<-length(x)\n",
    "    Hf<-matrix(rep(0,n^2),nrow=n,ncol=n)\n",
    "    f_x<-f(x)\n",
    "    for(i in 1:n){\n",
    "        x_inc_in_i<-inc_index(x,i,h)\n",
    "        f_x_inc_in_i<-f(x_inc_in_i)\n",
    "        for(j in i:n){\n",
    "            dif<-f(inc_index(x_inc_in_i,j,h))-f_x_inc_in_i-f(inc_index(x,j,h))+f_x\n",
    "            Hf[i,j]<-dif\n",
    "            if(j!=i)\n",
    "                Hf[j,i]<-dif\n",
    "        }\n",
    "    }\n",
    "    Hf/h^2\n",
    "}"
   ]
  },
  {
   "cell_type": "code",
   "execution_count": 4,
   "metadata": {},
   "outputs": [],
   "source": [
    "line_search_by_backtracking<-function(f,dir_desc,x,\n",
    "                                      der_direct, alpha=.15, beta=.5){\n",
    "    '\n",
    "    Line search that sufficiently decreases f restricted to a ray in the direction dir_desc.\n",
    "    Args:\n",
    "        alpha (float): parameter in line search with backtracking, tipically .15\n",
    "        beta (float): parameter in line search with backtracking, tipically .5\n",
    "        f (expression): definition of function f.\n",
    "        dir_desc (double): vector of descent direction.\n",
    "        x (double): vector that holds values where line search will be performed.\n",
    "        der_direct (float): directional derivative of f.\n",
    "    Returns:\n",
    "        t (float): positive number for stepsize along dir_desc that sufficiently decreases f.\n",
    "    '\n",
    "    t<-1\n",
    "    if (alpha > 1/2){\n",
    "        print('alpha must be less than or equal to 1/2')\n",
    "        t <- -1\n",
    "    }\n",
    "    if (beta>1){\n",
    "        print('beta must be less than 1')\n",
    "        t <- -1\n",
    "    }\n",
    "    if (t!=-1){\n",
    "        eval1 <- f(x+t*dir_desc)\n",
    "        eval2 <- f(x) + alpha*t*der_direct\n",
    "        while (eval1 > eval2){\n",
    "            t<-beta*t\n",
    "            eval1 <- f(x+t*dir_desc)\n",
    "            eval2 <- f(x)+alpha*t*der_direct\n",
    "        }\n",
    "    }else\n",
    "        t <- -1\n",
    "    t\n",
    "}"
   ]
  },
  {
   "cell_type": "code",
   "execution_count": 5,
   "metadata": {},
   "outputs": [],
   "source": [
    "Euclidian_norm<-function(vec){\n",
    "    sqrt(sum(vec*vec))\n",
    "}"
   ]
  },
  {
   "cell_type": "code",
   "execution_count": 6,
   "metadata": {},
   "outputs": [],
   "source": [
    "compute_error<-function(x_obj,x_approx){\n",
    "    '\n",
    "    Relative error between x_obj and x_approx.\n",
    "    '\n",
    "    if (Euclidian_norm(x_obj) > .Machine$double.eps){\n",
    "        Err<-Euclidian_norm(x_obj-x_approx)/Euclidian_norm(x_obj)\n",
    "    }else\n",
    "        Err<-Euclidian_norm(x_obj-x_approx)\n",
    "    Err\n",
    "}"
   ]
  },
  {
   "cell_type": "code",
   "execution_count": 7,
   "metadata": {},
   "outputs": [],
   "source": [
    "gradient_descent<-function(f, x_0, tol, \n",
    "                        tol_backtracking, x_ast, p_ast, maxiter){\n",
    "    '\n",
    "    Method of gradient descent to numerically approximate solution of min f.\n",
    "    Args:\n",
    "        f (expression): definition of function f.\n",
    "        x_0 (double): vector of initial point for gradient descent method.\n",
    "        tol (float): tolerance that will halt method. Controls norm of gradient of f.\n",
    "        tol_backtracking (float): tolerance that will halt method. Controls value of line search by backtracking.\n",
    "        x_ast (double): vector solution of min f, now its required that user knows the solution...\n",
    "        p_ast (double): vector value of f(x_ast), now its required that user knows the solution...\n",
    "        maxiter (int): maximum number of iterations\n",
    "    Returns:\n",
    "        x (double): vector approximation of x_ast.\n",
    "        iteration (int): number of iterations.\n",
    "        Err_plot (double): vector array of absolute error between p_ast and f(x) with x approximation.\n",
    "                          of x_ast. Useful for plotting.\n",
    "        x_plot (double): vector array that containts in columns vector of approximations. Last column\n",
    "                        contains x, approximation of solution. Useful for plotting.\n",
    "    '\n",
    "    iteration <- 1\n",
    "    x <- x_0\n",
    "    \n",
    "    feval <- f(x)\n",
    "    gfeval <- gradient_approximation(f,x)\n",
    "\n",
    "    normgf <- Euclidian_norm(gfeval)\n",
    "    \n",
    "    Err_plot_aux <- vector(\"double\",maxiter)\n",
    "    Err_plot_aux[iteration] <- abs(feval-p_ast)\n",
    "    \n",
    "    Err <- compute_error(x_ast,x)\n",
    "    n <- length(x)\n",
    "    x_plot <- matrix(0,nrow=n,ncol=maxiter)\n",
    "    x_plot[,iteration] <- x\n",
    "    \n",
    "    cat(sprintf(\"I    Normagf   Error x_ast   Error p_ast   line search\\n\"))\n",
    "    cat(sprintf(\"%d    %.2e   %0.2e      %0.2e      %s\\n\",iteration,normgf,Err,Err_plot_aux[iteration],\"---\"))\n",
    "    iteration<-iteration + 1\n",
    "    while(normgf>tol && iteration <= maxiter){\n",
    "        dir_desc <- -gfeval\n",
    "        der_direct <- sum(gfeval*dir_desc)\n",
    "        t <- line_search_by_backtracking(f,dir_desc,x,der_direct)\n",
    "        x <- x + t*dir_desc\n",
    "        feval <- f(x)\n",
    "        gfeval <- gradient_approximation(f,x)\n",
    "        normgf <- Euclidian_norm(gfeval)\n",
    "        Err_plot_aux[iteration] <- abs(feval-p_ast);\n",
    "        x_plot[,iteration] <- x\n",
    "        Err <- compute_error(x_ast,x)\n",
    "        cat(sprintf(\"%d    %.2e   %0.2e      %0.2e      %s\\n\",iteration,normgf,Err,Err_plot_aux[iteration],t))\n",
    "        if (t<tol_backtracking){ #if t is less than tol_backtracking then we need to check the reason\n",
    "            iter_salida <- iteration\n",
    "            iteration <- maxiter\n",
    "        }\n",
    "        iteration <- iteration + 1\n",
    "    } #while\n",
    "    cat(sprintf(\"Error of x with respect to x_ast: %.2e\\n\",Err))\n",
    "    cat(sprintf(\"Approximate solution:\"))\n",
    "    print(x)\n",
    "    cond <- Err_plot_aux > .Machine$double.eps*10**(-2)\n",
    "    Err_plot = Err_plot_aux[cond]\n",
    "    cond<- apply(x_plot,2,function(x) all(x==0))\n",
    "    x_plot <- x_plot[,!cond]\n",
    "    if (iteration == maxiter && t < tol_backtracking){\n",
    "        print(\"Backtracking value less than tol_backtracking, check approximation\")\n",
    "        iteration<-iter_salida\n",
    "    }\n",
    "   list(x,iteration-1,Err_plot,x_plot)\n",
    "    \n",
    "}    "
   ]
  },
  {
   "cell_type": "code",
   "execution_count": 8,
   "metadata": {},
   "outputs": [
    {
     "name": "stderr",
     "output_type": "stream",
     "text": [
      "Loading required package: Matrix\n",
      "\n",
      "Loaded glmnet 3.0-2\n",
      "\n",
      "\n",
      "\n",
      "Attaching package: ‘dplyr’\n",
      "\n",
      "\n",
      "The following objects are masked from ‘package:stats’:\n",
      "\n",
      "    filter, lag\n",
      "\n",
      "\n",
      "The following objects are masked from ‘package:base’:\n",
      "\n",
      "    intersect, setdiff, setequal, union\n",
      "\n",
      "\n"
     ]
    }
   ],
   "source": [
    "library(ggplot2)\n",
    "library(latex2exp)\n",
    "library(glmnet)\n",
    "library(magrittr)\n",
    "library(dplyr)"
   ]
  },
  {
   "cell_type": "markdown",
   "metadata": {},
   "source": [
    "1) $$\\min \\quad \\frac{1}{2}y^Ty-\\beta^TA^Ty + \\frac{1}{2}\\beta^TA^TA\\beta$$"
   ]
  },
  {
   "cell_type": "code",
   "execution_count": 9,
   "metadata": {},
   "outputs": [],
   "source": [
    "set.seed(1989) #para reproducibilidad\n",
    "mpoints <- 20\n",
    "df <-  data.frame(x=rnorm(mpoints))\n",
    "y <- -3*df$x + rnorm(mpoints,2,1)\n",
    "df$y <- y"
   ]
  },
  {
   "cell_type": "code",
   "execution_count": 10,
   "metadata": {},
   "outputs": [],
   "source": [
    "gg <- ggplot(data=df, aes(x=x, y=y))"
   ]
  },
  {
   "cell_type": "code",
   "execution_count": 11,
   "metadata": {},
   "outputs": [
    {
     "data": {
      "image/png": "[encoded data removed]",
      "text/plain": [
       "plot without title"
      ]
     },
     "metadata": {
      "image/png": {
       "height": 420,
       "width": 420
      }
     },
     "output_type": "display_data"
    }
   ],
   "source": [
    "gg + \n",
    "geom_point(aes(x=x,y=y),size=2)"
   ]
  },
  {
   "cell_type": "code",
   "execution_count": 12,
   "metadata": {},
   "outputs": [],
   "source": [
    "linear_model <- lm(df$y~df$x)"
   ]
  },
  {
   "cell_type": "code",
   "execution_count": 13,
   "metadata": {},
   "outputs": [
    {
     "data": {
      "text/html": [
       "<dl class=dl-horizontal>\n",
       "\t<dt>(Intercept)</dt>\n",
       "\t\t<dd>1.56566282784822</dd>\n",
       "\t<dt>df$x</dt>\n",
       "\t\t<dd>-2.81058194144795</dd>\n",
       "</dl>\n"
      ],
      "text/latex": [
       "\\begin{description*}\n",
       "\\item[(Intercept)] 1.56566282784822\n",
       "\\item[df\\textbackslash{}\\$x] -2.81058194144795\n",
       "\\end{description*}\n"
      ],
      "text/markdown": [
       "(Intercept)\n",
       ":   1.56566282784822df$x\n",
       ":   -2.81058194144795\n",
       "\n"
      ],
      "text/plain": [
       "(Intercept)        df$x \n",
       "   1.565663   -2.810582 "
      ]
     },
     "metadata": {},
     "output_type": "display_data"
    }
   ],
   "source": [
    "linear_model$coefficients"
   ]
  },
  {
   "cell_type": "code",
   "execution_count": 14,
   "metadata": {},
   "outputs": [
    {
     "data": {
      "image/png": "[encoded data removed]",
      "text/plain": [
       "plot without title"
      ]
     },
     "metadata": {
      "image/png": {
       "height": 420,
       "width": 420
      }
     },
     "output_type": "display_data"
    }
   ],
   "source": [
    "gg +\n",
    "geom_point(aes(x=x,y=y),size=2) +\n",
    "geom_smooth(method='lm',colour='red')"
   ]
  },
  {
   "cell_type": "markdown",
   "metadata": {},
   "source": [
    "Método de descenso gradiente con $\\beta_0=(0,0)^T$:"
   ]
  },
  {
   "cell_type": "markdown",
   "metadata": {},
   "source": [
    "1) $$\\min \\quad \\frac{1}{2}y^Ty-\\beta^TA^Ty + \\frac{1}{2}\\beta^TA^TA\\beta$$"
   ]
  },
  {
   "cell_type": "code",
   "execution_count": 15,
   "metadata": {},
   "outputs": [],
   "source": [
    "cte <- sum(y*y)"
   ]
  },
  {
   "cell_type": "code",
   "execution_count": 16,
   "metadata": {},
   "outputs": [],
   "source": [
    "A <- matrix(c(rep(1,mpoints),df$x),nrow=mpoints)"
   ]
  },
  {
   "cell_type": "code",
   "execution_count": 17,
   "metadata": {},
   "outputs": [],
   "source": [
    "fo <-function(beta)1/2*cte - sum(beta*(t(A)%*%y)) + 1/2*sum(beta*(t(A)%*%(A%*%beta)))\n"
   ]
  },
  {
   "cell_type": "code",
   "execution_count": 18,
   "metadata": {},
   "outputs": [],
   "source": [
    "beta_0 <- matrix(c(0,0),nrow=2)"
   ]
  },
  {
   "cell_type": "code",
   "execution_count": 19,
   "metadata": {},
   "outputs": [],
   "source": [
    "beta_ast <- c(linear_model$coefficients[1],linear_model$coefficients[2])\n"
   ]
  },
  {
   "cell_type": "code",
   "execution_count": 20,
   "metadata": {},
   "outputs": [
    {
     "data": {
      "text/html": [
       "<dl class=dl-horizontal>\n",
       "\t<dt>(Intercept)</dt>\n",
       "\t\t<dd>1.56566282784822</dd>\n",
       "\t<dt>df$x</dt>\n",
       "\t\t<dd>-2.81058194144795</dd>\n",
       "</dl>\n"
      ],
      "text/latex": [
       "\\begin{description*}\n",
       "\\item[(Intercept)] 1.56566282784822\n",
       "\\item[df\\textbackslash{}\\$x] -2.81058194144795\n",
       "\\end{description*}\n"
      ],
      "text/markdown": [
       "(Intercept)\n",
       ":   1.56566282784822df$x\n",
       ":   -2.81058194144795\n",
       "\n"
      ],
      "text/plain": [
       "(Intercept)        df$x \n",
       "   1.565663   -2.810582 "
      ]
     },
     "metadata": {},
     "output_type": "display_data"
    }
   ],
   "source": [
    "beta_ast"
   ]
  },
  {
   "cell_type": "code",
   "execution_count": 21,
   "metadata": {},
   "outputs": [],
   "source": [
    "p_ast <- fo(beta_ast)"
   ]
  },
  {
   "cell_type": "code",
   "execution_count": 22,
   "metadata": {},
   "outputs": [
    {
     "data": {
      "text/html": [
       "11.1174998924303"
      ],
      "text/latex": [
       "11.1174998924303"
      ],
      "text/markdown": [
       "11.1174998924303"
      ],
      "text/plain": [
       "[1] 11.1175"
      ]
     },
     "metadata": {},
     "output_type": "display_data"
    }
   ],
   "source": [
    "p_ast"
   ]
  },
  {
   "cell_type": "code",
   "execution_count": 23,
   "metadata": {},
   "outputs": [],
   "source": [
    "tol <- 1e-8\n",
    "tol_backtracking <- 1e-14\n",
    "maxiter <- 30\n",
    "p_ast <- fo(beta_ast)\n"
   ]
  },
  {
   "cell_type": "code",
   "execution_count": 24,
   "metadata": {},
   "outputs": [
    {
     "name": "stdout",
     "output_type": "stream",
     "text": [
      "I    Normagf   Error x_ast   Error p_ast   line search\n",
      "1    7.73e+01   1.00e+00      1.24e+02      ---\n",
      "2    4.17e+01   5.17e-01      3.46e+01      0.0625\n",
      "3    2.41e+01   2.95e-01      1.14e+01      0.0625\n",
      "4    1.41e+01   1.73e-01      3.91e+00      0.0625\n",
      "5    8.27e+00   1.01e-01      1.35e+00      0.0625\n",
      "6    4.86e+00   5.95e-02      4.65e-01      0.0625\n",
      "7    2.85e+00   3.49e-02      1.60e-01      0.0625\n",
      "8    1.68e+00   2.05e-02      5.53e-02      0.0625\n",
      "9    9.84e-01   1.20e-02      1.91e-02      0.0625\n",
      "10    5.78e-01   7.07e-03      6.58e-03      0.0625\n",
      "11    3.39e-01   4.15e-03      2.27e-03      0.0625\n",
      "12    1.99e-01   2.44e-03      7.83e-04      0.0625\n",
      "13    1.17e-01   1.43e-03      2.70e-04      0.0625\n",
      "14    6.88e-02   8.42e-04      9.31e-05      0.0625\n",
      "15    4.04e-02   4.94e-04      3.21e-05      0.0625\n",
      "16    2.37e-02   2.90e-04      1.11e-05      0.0625\n",
      "17    1.39e-02   1.70e-04      3.82e-06      0.0625\n",
      "18    8.19e-03   1.00e-04      1.32e-06      0.0625\n",
      "19    4.81e-03   5.89e-05      4.56e-07      0.0625\n",
      "20    2.82e-03   3.46e-05      1.57e-07      0.0625\n",
      "21    1.65e-03   2.03e-05      5.41e-08      0.0625\n",
      "22    9.67e-04   1.18e-05      1.84e-08      0.0625\n",
      "23    5.69e-04   6.95e-06      6.35e-09      0.0625\n",
      "24    3.34e-04   4.11e-06      2.22e-09      0.0625\n",
      "25    1.95e-04   2.39e-06      7.51e-10      0.0625\n",
      "26    1.15e-04   1.40e-06      2.56e-10      0.0625\n",
      "27    6.98e-05   8.42e-07      9.32e-11      0.0625\n",
      "28    3.99e-05   5.13e-07      3.46e-11      0.0625\n",
      "29    2.45e-05   2.62e-07      9.00e-12      0.0625\n",
      "30    2.01e-06   3.49e-08      1.56e-13      0.03125\n",
      "Error of x with respect to x_ast: 3.49e-08\n",
      "Approximate solution:          [,1]\n",
      "[1,]  1.565663\n",
      "[2,] -2.810582\n"
     ]
    }
   ],
   "source": [
    "l<-gradient_descent(fo, beta_0, tol, tol_backtracking, beta_ast, p_ast, maxiter)"
   ]
  },
  {
   "cell_type": "code",
   "execution_count": 25,
   "metadata": {},
   "outputs": [],
   "source": [
    "beta <- l[[1]]\n",
    "total_of_iterations <- l[[2]]\n",
    "Err_plot <- l[[3]]\n",
    "beta_plot <- l[[4]]\n"
   ]
  },
  {
   "cell_type": "code",
   "execution_count": 26,
   "metadata": {},
   "outputs": [
    {
     "name": "stdout",
     "output_type": "stream",
     "text": [
      "          [,1]\n",
      "[1,]  1.565663\n",
      "[2,] -2.810582\n"
     ]
    }
   ],
   "source": [
    "print(beta)"
   ]
  },
  {
   "cell_type": "code",
   "execution_count": 27,
   "metadata": {},
   "outputs": [
    {
     "name": "stdout",
     "output_type": "stream",
     "text": [
      "(Intercept)        df$x \n",
      "   1.565663   -2.810582 \n"
     ]
    }
   ],
   "source": [
    "print(beta_ast)"
   ]
  },
  {
   "cell_type": "code",
   "execution_count": 28,
   "metadata": {},
   "outputs": [],
   "source": [
    "gg <- ggplot()"
   ]
  },
  {
   "cell_type": "code",
   "execution_count": 29,
   "metadata": {},
   "outputs": [
    {
     "data": {
      "image/png": "[encoded data removed]",
      "text/plain": [
       "plot without title"
      ]
     },
     "metadata": {
      "image/png": {
       "height": 420,
       "width": 420
      }
     },
     "output_type": "display_data"
    }
   ],
   "source": [
    "gg +\n",
    "geom_line(aes(x=25:total_of_iterations,y=Err_plot[25:length(Err_plot)])) + \n",
    "xlab('Iterations') + ylab(TeX('f_o(x^k)-p^*'))\n"
   ]
  },
  {
   "cell_type": "markdown",
   "metadata": {},
   "source": [
    "# Regularización"
   ]
  },
  {
   "cell_type": "markdown",
   "metadata": {},
   "source": [
    "Penalización lasso"
   ]
  },
  {
   "cell_type": "code",
   "execution_count": 30,
   "metadata": {},
   "outputs": [],
   "source": [
    "Hessian_evaluation<-function()1/mpoints*t(A)%*%A"
   ]
  },
  {
   "cell_type": "code",
   "execution_count": 31,
   "metadata": {},
   "outputs": [],
   "source": [
    "gf_evaluation<- function(beta) 1/mpoints * t(A)%*%(A%*%beta-y) + reg*sign(beta)"
   ]
  },
  {
   "cell_type": "code",
   "execution_count": 32,
   "metadata": {},
   "outputs": [],
   "source": [
    "Newtons_method<-function(f, x_0, tol, \n",
    "                        tol_backtracking, x_ast, p_ast, maxiter){\n",
    "    '\n",
    "    Method of gradient descent to numerically approximate solution of min f.\n",
    "    Args:\n",
    "        f (expression): definition of function f.\n",
    "        x_0 (double): vector of initial point for gradient descent method.\n",
    "        tol (float): tolerance that will halt method. Controls norm of gradient of f.\n",
    "        tol_backtracking (float): tolerance that will halt method. Controls value of line search by backtracking.\n",
    "        x_ast (double): vector solution of min f, now its required that user knows the solution...\n",
    "        p_ast (double): vector value of f(x_ast), now its required that user knows the solution...\n",
    "        maxiter (int): maximum number of iterations\n",
    "    Returns:\n",
    "        x (double): vector approximation of x_ast.\n",
    "        iteration (int): number of iterations.\n",
    "        Err_plot (double): vector array of absolute error between p_ast and f(x) with x approximation.\n",
    "                          of x_ast. Useful for plotting.\n",
    "        x_plot (double): vector array that containts in columns vector of approximations. Last column\n",
    "                        contains x, approximation of solution. Useful for plotting.\n",
    "    '\n",
    "    iteration <- 1\n",
    "    x <- x_0\n",
    "    \n",
    "    feval <- f(x)\n",
    "    gfeval <- gradient_approximation(f,x)\n",
    "    Hfeval <- Hessian_approximation(f,x)\n",
    "    #condHf <- np.linalg.cond(Hfeval)\n",
    "    \n",
    "    normgf <- Euclidian_norm(gfeval)\n",
    "    \n",
    "    Err_plot_aux <- vector(\"double\",maxiter)\n",
    "    Err_plot_aux[iteration] <- abs(feval-p_ast)\n",
    "    \n",
    "    Err <- compute_error(x_ast,x)\n",
    "    n <- length(x)\n",
    "    x_plot <- matrix(0,nrow=n,ncol=maxiter)\n",
    "    x_plot[,iteration] <- x\n",
    "    \n",
    "    #Newton's direction and Newton's decrement\n",
    "    dir_Newton <- solve(Hfeval, gfeval)\n",
    "    dec_Newton <- sum(dir_Newton*(Hfeval%*%dir_Newton))\n",
    "    dir_Newton <- -dir_Newton\n",
    "    \n",
    "    cat(sprintf(\"I    Normagf   Error x_ast   Error p_ast   line search\\n\"))\n",
    "    cat(sprintf(\"%d    %.2e   %0.2e      %0.2e      %s\\n\",iteration,normgf,Err,Err_plot_aux[iteration],\"---\"))\n",
    "    \n",
    "    stopping_criteria <- dec_Newton/2\n",
    "    iteration<-iteration + 1\n",
    "    while(stopping_criteria>tol && iteration <= maxiter){\n",
    "        der_direct <- -dec_Newton\n",
    "        t <- line_search_by_backtracking(f,dir_Newton,x,der_direct)\n",
    "        x <- x + t*dir_Newton\n",
    "        feval <- f(x)\n",
    "        gfeval <- gradient_approximation(f,x)\n",
    "        Hfeval <- Hessian_approximation(f,x)\n",
    "        normgf <- Euclidian_norm(gfeval)\n",
    "        #Newton's direction and Newton's decrement\n",
    "        dir_Newton = solve(Hfeval, gfeval)\n",
    "        dec_Newton = sum(dir_Newton*(Hfeval%*%dir_Newton))\n",
    "        dir_Newton <- -dir_Newton\n",
    "        Err_plot_aux[iteration] <- abs(feval-p_ast);\n",
    "        x_plot[,iteration] <- x\n",
    "        Err <- compute_error(x_ast,x)\n",
    "        cat(sprintf(\"%d    %.2e   %0.2e      %0.2e      %s\\n\",iteration,normgf,Err,Err_plot_aux[iteration],t))\n",
    "        stopping_criteria = dec_Newton/2\n",
    "        if (t<tol_backtracking){ #if t is less than tol_backtracking then we need to check the reason\n",
    "            iter_salida <- iteration\n",
    "            iteration <- maxiter\n",
    "        }\n",
    "        iteration <- iteration + 1\n",
    "    } #while\n",
    "    cat(sprintf(\"Error of x with respect to x_ast: %.2e\\n\",Err))\n",
    "    cat(sprintf(\"Approximate solution:\"))\n",
    "    print(x)\n",
    "    cond <- Err_plot_aux > .Machine$double.eps*10**(-2)\n",
    "    Err_plot = Err_plot_aux[cond]\n",
    "    cond<- apply(x_plot,2,function(x) all(x==0))\n",
    "    x_plot <- x_plot[,!cond]\n",
    "    if (iteration == maxiter && t < tol_backtracking){\n",
    "        print(\"Backtracking value less than tol_backtracking, check approximation\")\n",
    "        iteration<-iter_salida\n",
    "    }\n",
    "   list(x,iteration-1,Err_plot,x_plot)\n",
    "    \n",
    "}    "
   ]
  },
  {
   "cell_type": "code",
   "execution_count": 33,
   "metadata": {},
   "outputs": [],
   "source": [
    "reg<-.5"
   ]
  },
  {
   "cell_type": "code",
   "execution_count": 34,
   "metadata": {},
   "outputs": [],
   "source": [
    "quita_signo<-function(beta){\n",
    "    beta<-sign(beta)*beta\n",
    "    ind <- beta ==0\n",
    "    beta[ind] <- .Machine$double.xmin \n",
    "    beta\n",
    "    }"
   ]
  },
  {
   "cell_type": "code",
   "execution_count": 35,
   "metadata": {},
   "outputs": [],
   "source": [
    "fo <-function(beta)1/mpoints*(1/2*cte - sum(beta*(t(A)%*%y)) + 1/2*sum(beta*(t(A)%*%(A%*%beta)))) + reg*sum(quita_signo(beta))\n"
   ]
  },
  {
   "cell_type": "code",
   "execution_count": 36,
   "metadata": {},
   "outputs": [],
   "source": [
    "beta_0<-c(0,2)"
   ]
  },
  {
   "cell_type": "code",
   "execution_count": 37,
   "metadata": {},
   "outputs": [
    {
     "data": {
      "text/html": [
       "<table>\n",
       "<caption>A matrix: 2 × 1 of type dbl</caption>\n",
       "<tbody>\n",
       "\t<tr><td>-1.507055</td></tr>\n",
       "\t<tr><td> 6.587020</td></tr>\n",
       "</tbody>\n",
       "</table>\n"
      ],
      "text/latex": [
       "A matrix: 2 × 1 of type dbl\n",
       "\\begin{tabular}{l}\n",
       "\t -1.507055\\\\\n",
       "\t  6.587020\\\\\n",
       "\\end{tabular}\n"
      ],
      "text/markdown": [
       "\n",
       "A matrix: 2 × 1 of type dbl\n",
       "\n",
       "| -1.507055 |\n",
       "|  6.587020 |\n",
       "\n"
      ],
      "text/plain": [
       "     [,1]     \n",
       "[1,] -1.507055\n",
       "[2,]  6.587020"
      ]
     },
     "metadata": {},
     "output_type": "display_data"
    }
   ],
   "source": [
    "gf_evaluation(beta_0)"
   ]
  },
  {
   "cell_type": "code",
   "execution_count": 38,
   "metadata": {},
   "outputs": [
    {
     "data": {
      "text/html": [
       "<ol class=list-inline>\n",
       "\t<li>-1.00705470629237</li>\n",
       "\t<li>6.58701964084685</li>\n",
       "</ol>\n"
      ],
      "text/latex": [
       "\\begin{enumerate*}\n",
       "\\item -1.00705470629237\n",
       "\\item 6.58701964084685\n",
       "\\end{enumerate*}\n"
      ],
      "text/markdown": [
       "1. -1.00705470629237\n",
       "2. 6.58701964084685\n",
       "\n",
       "\n"
      ],
      "text/plain": [
       "[1] -1.007055  6.587020"
      ]
     },
     "metadata": {},
     "output_type": "display_data"
    }
   ],
   "source": [
    "gradient_approximation(fo,beta_0)"
   ]
  },
  {
   "cell_type": "code",
   "execution_count": 39,
   "metadata": {},
   "outputs": [],
   "source": [
    "beta_0 <- matrix(c(0,0),nrow=2)"
   ]
  },
  {
   "cell_type": "code",
   "execution_count": 40,
   "metadata": {},
   "outputs": [
    {
     "data": {
      "text/html": [
       "<ol class=list-inline>\n",
       "\t<li>-1.03142090424058</li>\n",
       "\t<li>4.04841022927371</li>\n",
       "</ol>\n"
      ],
      "text/latex": [
       "\\begin{enumerate*}\n",
       "\\item -1.03142090424058\n",
       "\\item 4.04841022927371\n",
       "\\end{enumerate*}\n"
      ],
      "text/markdown": [
       "1. -1.03142090424058\n",
       "2. 4.04841022927371\n",
       "\n",
       "\n"
      ],
      "text/plain": [
       "[1] -1.031421  4.048410"
      ]
     },
     "metadata": {},
     "output_type": "display_data"
    }
   ],
   "source": [
    "gradient_approximation(fo,beta_0)"
   ]
  },
  {
   "cell_type": "code",
   "execution_count": 41,
   "metadata": {},
   "outputs": [
    {
     "data": {
      "text/html": [
       "<table>\n",
       "<caption>A matrix: 2 × 1 of type dbl</caption>\n",
       "<tbody>\n",
       "\t<tr><td>-1.531421</td></tr>\n",
       "\t<tr><td> 3.548410</td></tr>\n",
       "</tbody>\n",
       "</table>\n"
      ],
      "text/latex": [
       "A matrix: 2 × 1 of type dbl\n",
       "\\begin{tabular}{l}\n",
       "\t -1.531421\\\\\n",
       "\t  3.548410\\\\\n",
       "\\end{tabular}\n"
      ],
      "text/markdown": [
       "\n",
       "A matrix: 2 × 1 of type dbl\n",
       "\n",
       "| -1.531421 |\n",
       "|  3.548410 |\n",
       "\n"
      ],
      "text/plain": [
       "     [,1]     \n",
       "[1,] -1.531421\n",
       "[2,]  3.548410"
      ]
     },
     "metadata": {},
     "output_type": "display_data"
    }
   ],
   "source": [
    "gf_evaluation(beta_0)"
   ]
  },
  {
   "cell_type": "code",
   "execution_count": 42,
   "metadata": {},
   "outputs": [],
   "source": [
    "fit <- glmnet(A,y,alpha=1,lambda=reg,standardize=F,nlambda=1,thresh=1e-8)"
   ]
  },
  {
   "cell_type": "code",
   "execution_count": 43,
   "metadata": {},
   "outputs": [
    {
     "name": "stdout",
     "output_type": "stream",
     "text": [
      "          s0\n",
      "V1  0.000000\n",
      "V2 -2.416619\n"
     ]
    }
   ],
   "source": [
    "print(as.matrix(fit$beta))"
   ]
  },
  {
   "cell_type": "code",
   "execution_count": 44,
   "metadata": {},
   "outputs": [],
   "source": [
    "beta_ast <- as.matrix(fit$beta)\n"
   ]
  },
  {
   "cell_type": "code",
   "execution_count": 45,
   "metadata": {},
   "outputs": [
    {
     "data": {
      "text/html": [
       "<table>\n",
       "<caption>A matrix: 2 × 1 of type dbl</caption>\n",
       "<thead>\n",
       "\t<tr><th></th><th scope=col>s0</th></tr>\n",
       "</thead>\n",
       "<tbody>\n",
       "\t<tr><th scope=row>V1</th><td> 0.000000</td></tr>\n",
       "\t<tr><th scope=row>V2</th><td>-2.416619</td></tr>\n",
       "</tbody>\n",
       "</table>\n"
      ],
      "text/latex": [
       "A matrix: 2 × 1 of type dbl\n",
       "\\begin{tabular}{r|l}\n",
       "  & s0\\\\\n",
       "\\hline\n",
       "\tV1 &  0.000000\\\\\n",
       "\tV2 & -2.416619\\\\\n",
       "\\end{tabular}\n"
      ],
      "text/markdown": [
       "\n",
       "A matrix: 2 × 1 of type dbl\n",
       "\n",
       "| <!--/--> | s0 |\n",
       "|---|---|\n",
       "| V1 |  0.000000 |\n",
       "| V2 | -2.416619 |\n",
       "\n"
      ],
      "text/plain": [
       "   s0       \n",
       "V1  0.000000\n",
       "V2 -2.416619"
      ]
     },
     "metadata": {},
     "output_type": "display_data"
    }
   ],
   "source": [
    "beta_ast"
   ]
  },
  {
   "cell_type": "code",
   "execution_count": 46,
   "metadata": {},
   "outputs": [],
   "source": [
    "p_ast <- fo(beta_ast)"
   ]
  },
  {
   "cell_type": "code",
   "execution_count": 47,
   "metadata": {},
   "outputs": [
    {
     "data": {
      "text/html": [
       "3.08082216571328"
      ],
      "text/latex": [
       "3.08082216571328"
      ],
      "text/markdown": [
       "3.08082216571328"
      ],
      "text/plain": [
       "[1] 3.080822"
      ]
     },
     "metadata": {},
     "output_type": "display_data"
    }
   ],
   "source": [
    "p_ast"
   ]
  },
  {
   "cell_type": "code",
   "execution_count": 48,
   "metadata": {},
   "outputs": [],
   "source": [
    "beta_0<-c(0,0)"
   ]
  },
  {
   "cell_type": "code",
   "execution_count": 49,
   "metadata": {},
   "outputs": [],
   "source": [
    "tol <- 1e-8\n",
    "tol_backtracking <- 1e-14\n",
    "maxiter <- 30\n",
    "p_ast <- fo(beta_ast)\n"
   ]
  },
  {
   "cell_type": "code",
   "execution_count": 50,
   "metadata": {},
   "outputs": [
    {
     "data": {
      "text/html": [
       "<table>\n",
       "<caption>A matrix: 2 × 2 of type dbl</caption>\n",
       "<tbody>\n",
       "\t<tr><td>0.99920072</td><td>0.01154632</td></tr>\n",
       "\t<tr><td>0.01154632</td><td>1.26831878</td></tr>\n",
       "</tbody>\n",
       "</table>\n"
      ],
      "text/latex": [
       "A matrix: 2 × 2 of type dbl\n",
       "\\begin{tabular}{ll}\n",
       "\t 0.99920072 & 0.01154632\\\\\n",
       "\t 0.01154632 & 1.26831878\\\\\n",
       "\\end{tabular}\n"
      ],
      "text/markdown": [
       "\n",
       "A matrix: 2 × 2 of type dbl\n",
       "\n",
       "| 0.99920072 | 0.01154632 |\n",
       "| 0.01154632 | 1.26831878 |\n",
       "\n"
      ],
      "text/plain": [
       "     [,1]       [,2]      \n",
       "[1,] 0.99920072 0.01154632\n",
       "[2,] 0.01154632 1.26831878"
      ]
     },
     "metadata": {},
     "output_type": "display_data"
    }
   ],
   "source": [
    "Hessian_approximation(fo,beta_0)"
   ]
  },
  {
   "cell_type": "code",
   "execution_count": 51,
   "metadata": {},
   "outputs": [
    {
     "data": {
      "text/html": [
       "<table>\n",
       "<caption>A matrix: 2 × 2 of type dbl</caption>\n",
       "<tbody>\n",
       "\t<tr><td>1.00000000</td><td>0.01218318</td></tr>\n",
       "\t<tr><td>0.01218318</td><td>1.26930474</td></tr>\n",
       "</tbody>\n",
       "</table>\n"
      ],
      "text/latex": [
       "A matrix: 2 × 2 of type dbl\n",
       "\\begin{tabular}{ll}\n",
       "\t 1.00000000 & 0.01218318\\\\\n",
       "\t 0.01218318 & 1.26930474\\\\\n",
       "\\end{tabular}\n"
      ],
      "text/markdown": [
       "\n",
       "A matrix: 2 × 2 of type dbl\n",
       "\n",
       "| 1.00000000 | 0.01218318 |\n",
       "| 0.01218318 | 1.26930474 |\n",
       "\n"
      ],
      "text/plain": [
       "     [,1]       [,2]      \n",
       "[1,] 1.00000000 0.01218318\n",
       "[2,] 0.01218318 1.26930474"
      ]
     },
     "metadata": {},
     "output_type": "display_data"
    }
   ],
   "source": [
    "Hessian_evaluation()"
   ]
  },
  {
   "cell_type": "code",
   "execution_count": 52,
   "metadata": {},
   "outputs": [
    {
     "name": "stdout",
     "output_type": "stream",
     "text": [
      "I    Normagf   Error x_ast   Error p_ast   line search\n",
      "1    4.18e+00   1.00e+00      3.66e+00      ---\n",
      "2    1.00e+00   5.49e-01      1.67e-01      1\n",
      "3    3.28e-03   4.40e-01      5.63e-01      1\n",
      "4    2.29e-06   4.39e-01      5.63e-01      1\n",
      "Error of x with respect to x_ast: 4.39e-01\n",
      "Approximate solution:[1]  1.060803 -2.411821\n"
     ]
    }
   ],
   "source": [
    "l<-Newtons_method(fo, beta_0, tol, tol_backtracking, beta_ast, p_ast, maxiter)"
   ]
  },
  {
   "cell_type": "code",
   "execution_count": 53,
   "metadata": {},
   "outputs": [],
   "source": [
    "beta <- l[[1]]\n",
    "total_of_iterations <- l[[2]]\n",
    "Err_plot <- l[[3]]\n",
    "beta_plot <- l[[4]]\n"
   ]
  },
  {
   "cell_type": "code",
   "execution_count": 54,
   "metadata": {},
   "outputs": [
    {
     "name": "stdout",
     "output_type": "stream",
     "text": [
      "[1]  1.060803 -2.411821\n"
     ]
    }
   ],
   "source": [
    "print(beta)"
   ]
  },
  {
   "cell_type": "code",
   "execution_count": 55,
   "metadata": {},
   "outputs": [
    {
     "name": "stdout",
     "output_type": "stream",
     "text": [
      "          s0\n",
      "V1  0.000000\n",
      "V2 -2.416619\n"
     ]
    }
   ],
   "source": [
    "print(beta_ast)"
   ]
  },
  {
   "cell_type": "code",
   "execution_count": 56,
   "metadata": {},
   "outputs": [
    {
     "data": {
      "text/html": [
       "2.51809227563518"
      ],
      "text/latex": [
       "2.51809227563518"
      ],
      "text/markdown": [
       "2.51809227563518"
      ],
      "text/plain": [
       "[1] 2.518092"
      ]
     },
     "metadata": {},
     "output_type": "display_data"
    }
   ],
   "source": [
    "fo(beta)"
   ]
  },
  {
   "cell_type": "code",
   "execution_count": 57,
   "metadata": {},
   "outputs": [
    {
     "data": {
      "text/html": [
       "<table>\n",
       "<caption>A matrix: 2 × 3 of type dbl</caption>\n",
       "<tbody>\n",
       "\t<tr><td> 1.069243</td><td> 1.063071</td><td> 1.060803</td></tr>\n",
       "\t<tr><td>-3.201684</td><td>-2.413724</td><td>-2.411821</td></tr>\n",
       "</tbody>\n",
       "</table>\n"
      ],
      "text/latex": [
       "A matrix: 2 × 3 of type dbl\n",
       "\\begin{tabular}{lll}\n",
       "\t  1.069243 &  1.063071 &  1.060803\\\\\n",
       "\t -3.201684 & -2.413724 & -2.411821\\\\\n",
       "\\end{tabular}\n"
      ],
      "text/markdown": [
       "\n",
       "A matrix: 2 × 3 of type dbl\n",
       "\n",
       "|  1.069243 |  1.063071 |  1.060803 |\n",
       "| -3.201684 | -2.413724 | -2.411821 |\n",
       "\n"
      ],
      "text/plain": [
       "     [,1]      [,2]      [,3]     \n",
       "[1,]  1.069243  1.063071  1.060803\n",
       "[2,] -3.201684 -2.413724 -2.411821"
      ]
     },
     "metadata": {},
     "output_type": "display_data"
    }
   ],
   "source": [
    "beta_plot"
   ]
  },
  {
   "cell_type": "code",
   "execution_count": 58,
   "metadata": {},
   "outputs": [
    {
     "data": {
      "image/png": "[encoded data removed]",
      "text/plain": [
       "plot without title"
      ]
     },
     "metadata": {
      "image/png": {
       "height": 420,
       "width": 420
      }
     },
     "output_type": "display_data"
    }
   ],
   "source": [
    "gg +\n",
    "geom_point(aes(x=beta_plot[1,],y=beta_plot[2,]),size=2) +\n",
    "#annotate(geom='text', x=0.5, y=0.47, \n",
    "#         label=TeX(\"x^{(0)}\", output='character'), parse=TRUE) + \n",
    "xlab('x') + ylab('y') + \n",
    "ggtitle(TeX('Iter del método de descenso en gradiente para $f_o$'))"
   ]
  },
  {
   "cell_type": "markdown",
   "metadata": {},
   "source": [
    "Modelo sin intercepto"
   ]
  },
  {
   "cell_type": "code",
   "execution_count": 59,
   "metadata": {},
   "outputs": [],
   "source": [
    "y <- mtcars %>% select(mpg) %>% as.matrix()\n",
    "X <- mtcars %>% select(-mpg) %>% as.matrix()"
   ]
  },
  {
   "cell_type": "code",
   "execution_count": 60,
   "metadata": {},
   "outputs": [],
   "source": [
    "A<-X[,c(2,4)]"
   ]
  },
  {
   "cell_type": "code",
   "execution_count": 61,
   "metadata": {},
   "outputs": [],
   "source": [
    "cte <- sum(y*y)\n",
    "mpoints<-nrow(A)"
   ]
  },
  {
   "cell_type": "code",
   "execution_count": 62,
   "metadata": {},
   "outputs": [
    {
     "data": {
      "text/html": [
       "14042.31"
      ],
      "text/latex": [
       "14042.31"
      ],
      "text/markdown": [
       "14042.31"
      ],
      "text/plain": [
       "[1] 14042.31"
      ]
     },
     "metadata": {},
     "output_type": "display_data"
    }
   ],
   "source": [
    "cte"
   ]
  },
  {
   "cell_type": "code",
   "execution_count": 63,
   "metadata": {},
   "outputs": [
    {
     "data": {
      "text/html": [
       "32"
      ],
      "text/latex": [
       "32"
      ],
      "text/markdown": [
       "32"
      ],
      "text/plain": [
       "[1] 32"
      ]
     },
     "metadata": {},
     "output_type": "display_data"
    }
   ],
   "source": [
    "mpoints"
   ]
  },
  {
   "cell_type": "code",
   "execution_count": 64,
   "metadata": {},
   "outputs": [],
   "source": [
    "fit <- glmnet(A,y,alpha=1,lambda=reg,standardize=F,nlambda=1,intercept=F,thresh=1e-8)"
   ]
  },
  {
   "cell_type": "code",
   "execution_count": 65,
   "metadata": {},
   "outputs": [],
   "source": [
    "beta_ast <- as.matrix(fit$beta)\n"
   ]
  },
  {
   "cell_type": "code",
   "execution_count": 66,
   "metadata": {},
   "outputs": [
    {
     "name": "stdout",
     "output_type": "stream",
     "text": [
      "              s0\n",
      "disp -0.01682177\n",
      "drat  6.59053287\n"
     ]
    }
   ],
   "source": [
    "print(beta_ast)"
   ]
  },
  {
   "cell_type": "code",
   "execution_count": 67,
   "metadata": {},
   "outputs": [],
   "source": [
    "beta_0<-c(1,1)"
   ]
  },
  {
   "cell_type": "markdown",
   "metadata": {},
   "source": [
    "**Newtons method**"
   ]
  },
  {
   "cell_type": "code",
   "execution_count": 68,
   "metadata": {},
   "outputs": [
    {
     "data": {
      "text/html": [
       "<ol class=list-inline>\n",
       "\t<li>64876.0375042912</li>\n",
       "\t<li>723.540870239958</li>\n",
       "</ol>\n"
      ],
      "text/latex": [
       "\\begin{enumerate*}\n",
       "\\item 64876.0375042912\n",
       "\\item 723.540870239958\n",
       "\\end{enumerate*}\n"
      ],
      "text/markdown": [
       "1. 64876.0375042912\n",
       "2. 723.540870239958\n",
       "\n",
       "\n"
      ],
      "text/plain": [
       "[1] 64876.0375   723.5409"
      ]
     },
     "metadata": {},
     "output_type": "display_data"
    }
   ],
   "source": [
    "gradient_approximation(fo,beta_0)"
   ]
  },
  {
   "cell_type": "code",
   "execution_count": 69,
   "metadata": {},
   "outputs": [
    {
     "data": {
      "text/html": [
       "<table>\n",
       "<caption>A matrix: 2 × 1 of type dbl</caption>\n",
       "<tbody>\n",
       "\t<tr><th scope=row>disp</th><td>64876.0371</td></tr>\n",
       "\t<tr><th scope=row>drat</th><td>  723.5409</td></tr>\n",
       "</tbody>\n",
       "</table>\n"
      ],
      "text/latex": [
       "A matrix: 2 × 1 of type dbl\n",
       "\\begin{tabular}{r|l}\n",
       "\tdisp & 64876.0371\\\\\n",
       "\tdrat &   723.5409\\\\\n",
       "\\end{tabular}\n"
      ],
      "text/markdown": [
       "\n",
       "A matrix: 2 × 1 of type dbl\n",
       "\n",
       "| disp | 64876.0371 |\n",
       "| drat |   723.5409 |\n",
       "\n"
      ],
      "text/plain": [
       "     [,1]      \n",
       "disp 64876.0371\n",
       "drat   723.5409"
      ]
     },
     "metadata": {},
     "output_type": "display_data"
    }
   ],
   "source": [
    "gf_evaluation(beta_0)"
   ]
  },
  {
   "cell_type": "code",
   "execution_count": 70,
   "metadata": {},
   "outputs": [
    {
     "data": {
      "text/html": [
       "<table>\n",
       "<caption>A matrix: 2 × 2 of type dbl</caption>\n",
       "<tbody>\n",
       "\t<tr><td>68106.6012</td><td>774.889486</td></tr>\n",
       "\t<tr><td>  774.8895</td><td>  3.637979</td></tr>\n",
       "</tbody>\n",
       "</table>\n"
      ],
      "text/latex": [
       "A matrix: 2 × 2 of type dbl\n",
       "\\begin{tabular}{ll}\n",
       "\t 68106.6012 & 774.889486\\\\\n",
       "\t   774.8895 &   3.637979\\\\\n",
       "\\end{tabular}\n"
      ],
      "text/markdown": [
       "\n",
       "A matrix: 2 × 2 of type dbl\n",
       "\n",
       "| 68106.6012 | 774.889486 |\n",
       "|   774.8895 |   3.637979 |\n",
       "\n"
      ],
      "text/plain": [
       "     [,1]       [,2]      \n",
       "[1,] 68106.6012 774.889486\n",
       "[2,]   774.8895   3.637979"
      ]
     },
     "metadata": {},
     "output_type": "display_data"
    }
   ],
   "source": [
    "Hessian_approximation(fo,beta_0)"
   ]
  },
  {
   "cell_type": "code",
   "execution_count": 71,
   "metadata": {},
   "outputs": [
    {
     "data": {
      "text/html": [
       "<table>\n",
       "<caption>A matrix: 2 × 2 of type dbl</caption>\n",
       "<thead>\n",
       "\t<tr><th></th><th scope=col>disp</th><th scope=col>drat</th></tr>\n",
       "</thead>\n",
       "<tbody>\n",
       "\t<tr><th scope=row>disp</th><td>68113.3584</td><td>784.21238</td></tr>\n",
       "\t<tr><th scope=row>drat</th><td>  784.2124</td><td> 13.21221</td></tr>\n",
       "</tbody>\n",
       "</table>\n"
      ],
      "text/latex": [
       "A matrix: 2 × 2 of type dbl\n",
       "\\begin{tabular}{r|ll}\n",
       "  & disp & drat\\\\\n",
       "\\hline\n",
       "\tdisp & 68113.3584 & 784.21238\\\\\n",
       "\tdrat &   784.2124 &  13.21221\\\\\n",
       "\\end{tabular}\n"
      ],
      "text/markdown": [
       "\n",
       "A matrix: 2 × 2 of type dbl\n",
       "\n",
       "| <!--/--> | disp | drat |\n",
       "|---|---|---|\n",
       "| disp | 68113.3584 | 784.21238 |\n",
       "| drat |   784.2124 |  13.21221 |\n",
       "\n"
      ],
      "text/plain": [
       "     disp       drat     \n",
       "disp 68113.3584 784.21238\n",
       "drat   784.2124  13.21221"
      ]
     },
     "metadata": {},
     "output_type": "display_data"
    }
   ],
   "source": [
    "Hessian_evaluation()"
   ]
  },
  {
   "cell_type": "code",
   "execution_count": 72,
   "metadata": {},
   "outputs": [
    {
     "data": {
      "text/html": [
       "<ol class=list-inline>\n",
       "\t<li>1</li>\n",
       "\t<li>1</li>\n",
       "</ol>\n"
      ],
      "text/latex": [
       "\\begin{enumerate*}\n",
       "\\item 1\n",
       "\\item 1\n",
       "\\end{enumerate*}\n"
      ],
      "text/markdown": [
       "1. 1\n",
       "2. 1\n",
       "\n",
       "\n"
      ],
      "text/plain": [
       "[1] 1 1"
      ]
     },
     "metadata": {},
     "output_type": "display_data"
    }
   ],
   "source": [
    "beta_0"
   ]
  },
  {
   "cell_type": "code",
   "execution_count": 73,
   "metadata": {},
   "outputs": [
    {
     "name": "stdout",
     "output_type": "stream",
     "text": [
      "I    Normagf   Error x_ast   Error p_ast   line search\n",
      "1    6.49e+04   8.62e-01      3.10e+04      ---\n",
      "2    4.89e+01   1.28e+00      1.56e+02      1\n",
      "3    1.42e+00   4.42e-02      6.87e+00      1\n",
      "4    2.95e-02   8.68e-04      6.70e+00      1\n",
      "5    3.69e-04   1.65e-05      6.70e+00      1\n",
      "Error of x with respect to x_ast: 1.65e-05\n",
      "Approximate solution:[1] -0.01682385  6.59064139\n"
     ]
    }
   ],
   "source": [
    "l<-Newtons_method(fo, beta_0, tol, tol_backtracking, beta_ast, p_ast, maxiter)"
   ]
  },
  {
   "cell_type": "code",
   "execution_count": 74,
   "metadata": {},
   "outputs": [],
   "source": [
    "beta <- l[[1]]\n",
    "total_of_iterations <- l[[2]]\n",
    "Err_plot <- l[[3]]\n",
    "beta_plot <- l[[4]]\n"
   ]
  },
  {
   "cell_type": "code",
   "execution_count": 75,
   "metadata": {},
   "outputs": [
    {
     "name": "stdout",
     "output_type": "stream",
     "text": [
      "[1] -0.01682385  6.59064139\n"
     ]
    }
   ],
   "source": [
    "print(beta)"
   ]
  },
  {
   "cell_type": "code",
   "execution_count": 76,
   "metadata": {},
   "outputs": [
    {
     "name": "stdout",
     "output_type": "stream",
     "text": [
      "              s0\n",
      "disp -0.01682177\n",
      "drat  6.59053287\n"
     ]
    }
   ],
   "source": [
    "print(beta_ast)"
   ]
  },
  {
   "cell_type": "code",
   "execution_count": 77,
   "metadata": {},
   "outputs": [
    {
     "data": {
      "text/html": [
       "9.77736750888745"
      ],
      "text/latex": [
       "9.77736750888745"
      ],
      "text/markdown": [
       "9.77736750888745"
      ],
      "text/plain": [
       "[1] 9.777368"
      ]
     },
     "metadata": {},
     "output_type": "display_data"
    }
   ],
   "source": [
    "fo(beta)"
   ]
  },
  {
   "cell_type": "code",
   "execution_count": 78,
   "metadata": {},
   "outputs": [
    {
     "data": {
      "text/html": [
       "<table>\n",
       "<caption>A matrix: 2 × 5 of type dbl</caption>\n",
       "<tbody>\n",
       "\t<tr><td>1</td><td> 0.07949562</td><td>-0.02019068</td><td>-0.01675652</td><td>-0.01682385</td></tr>\n",
       "\t<tr><td>1</td><td>-1.81796641</td><td> 6.88212076</td><td> 6.58481401</td><td> 6.59064139</td></tr>\n",
       "</tbody>\n",
       "</table>\n"
      ],
      "text/latex": [
       "A matrix: 2 × 5 of type dbl\n",
       "\\begin{tabular}{lllll}\n",
       "\t 1 &  0.07949562 & -0.02019068 & -0.01675652 & -0.01682385\\\\\n",
       "\t 1 & -1.81796641 &  6.88212076 &  6.58481401 &  6.59064139\\\\\n",
       "\\end{tabular}\n"
      ],
      "text/markdown": [
       "\n",
       "A matrix: 2 × 5 of type dbl\n",
       "\n",
       "| 1 |  0.07949562 | -0.02019068 | -0.01675652 | -0.01682385 |\n",
       "| 1 | -1.81796641 |  6.88212076 |  6.58481401 |  6.59064139 |\n",
       "\n"
      ],
      "text/plain": [
       "     [,1] [,2]        [,3]        [,4]        [,5]       \n",
       "[1,] 1     0.07949562 -0.02019068 -0.01675652 -0.01682385\n",
       "[2,] 1    -1.81796641  6.88212076  6.58481401  6.59064139"
      ]
     },
     "metadata": {},
     "output_type": "display_data"
    }
   ],
   "source": [
    "beta_plot"
   ]
  },
  {
   "cell_type": "code",
   "execution_count": 79,
   "metadata": {},
   "outputs": [
    {
     "data": {
      "image/png": "[encoded data removed]",
      "text/plain": [
       "plot without title"
      ]
     },
     "metadata": {
      "image/png": {
       "height": 420,
       "width": 420
      }
     },
     "output_type": "display_data"
    }
   ],
   "source": [
    "gg +\n",
    "geom_point(aes(x=beta_plot[1,],y=beta_plot[2,]),size=2) +\n",
    "#annotate(geom='text', x=0.5, y=0.47, \n",
    "#         label=TeX(\"x^{(0)}\", output='character'), parse=TRUE) + \n",
    "xlab('x') + ylab('y') + \n",
    "ggtitle(TeX('Iter del método de descenso en gradiente para $f_o$'))"
   ]
  },
  {
   "cell_type": "markdown",
   "metadata": {},
   "source": [
    "\n"
   ]
  },
  {
   "cell_type": "markdown",
   "metadata": {},
   "source": [
    "**Coordinate descent**"
   ]
  },
  {
   "cell_type": "code",
   "execution_count": 80,
   "metadata": {},
   "outputs": [],
   "source": [
    "coordinate_descent<-function(f, x_0, tol, \n",
    "                        tol_backtracking, x_ast, p_ast, maxiter){\n",
    "    '\n",
    "    Method of coordinate descent to numerically approximate solution of min f.\n",
    "    Args:\n",
    "        f (expression): definition of function f.\n",
    "        x_0 (double): vector of initial point for coordinate descent method.\n",
    "        tol (float): tolerance that will halt method. Controls norm of gradient of f.\n",
    "        tol_backtracking (float): tolerance that will halt method. Controls value of line search by backtracking.\n",
    "        x_ast (double): vector solution of min f, now its required that user knows the solution...\n",
    "        p_ast (double): vector value of f(x_ast), now its required that user knows the solution...\n",
    "        maxiter (int): maximum number of iterations\n",
    "    Returns:\n",
    "        x (double): vector approximation of x_ast.\n",
    "        iteration (int): number of iterations.\n",
    "        Err_plot (double): vector array of absolute error between p_ast and f(x) with x approximation.\n",
    "                          of x_ast. Useful for plotting.\n",
    "        x_plot (double): vector array that containts in columns vector of approximations. Last column\n",
    "                        contains x, approximation of solution. Useful for plotting.\n",
    "    '\n",
    "    iteration <- 1\n",
    "    x <- x_0\n",
    "    \n",
    "    feval <- f(x)\n",
    "    gfeval <- gradient_approximation(f,x)\n",
    "\n",
    "    normgf <- Euclidian_norm(gfeval)\n",
    "    \n",
    "    Err_plot_aux <- vector(\"double\",maxiter)\n",
    "    Err_plot_aux[iteration] <- abs(feval-p_ast)\n",
    "    \n",
    "    Err <- compute_error(x_ast,x)\n",
    "    n <- length(x)\n",
    "    x_plot <- matrix(0,nrow=n,ncol=maxiter)\n",
    "    x_plot[,iteration] <- x\n",
    "    \n",
    "    cat(sprintf(\"I    Normagf   Error x_ast   Error p_ast   line search\\n\"))\n",
    "    cat(sprintf(\"%d    %.2e   %0.2e      %0.2e      %s\\n\",iteration,normgf,Err,Err_plot_aux[iteration],\"---\"))\n",
    "    iteration<-iteration + 1\n",
    "    while(normgf>tol && iteration <= maxiter){\n",
    "        ind_maximo <- which.max(abs(gfeval))\n",
    "        e_canonico <- vector(\"integer\",n)\n",
    "        e_canonico[ind_maximo] <- 1\n",
    "        dir_desc <- -gfeval[ind_maximo]*e_canonico\n",
    "        der_direct <- sum(gfeval*dir_desc)\n",
    "        t <- line_search_by_backtracking(f,dir_desc,x,der_direct)\n",
    "        x <- x + t*dir_desc\n",
    "        feval <- f(x)\n",
    "        gfeval <- gradient_approximation(f,x)\n",
    "        normgf <- Euclidian_norm(gfeval)\n",
    "        Err_plot_aux[iteration] <- abs(feval-p_ast);\n",
    "        x_plot[,iteration] <- x\n",
    "        Err <- compute_error(x_ast,x)\n",
    "        cat(sprintf(\"%d    %.2e   %0.2e      %0.2e      %s\\n\",iteration,normgf,Err,Err_plot_aux[iteration],t))\n",
    "        if (t<tol_backtracking){ #if t is less than tol_backtracking then we need to check the reason\n",
    "            iter_salida <- iteration\n",
    "            iteration <- maxiter\n",
    "        }\n",
    "        iteration <- iteration + 1\n",
    "    } #while\n",
    "    cat(sprintf(\"Error of x with respect to x_ast: %.2e\\n\",Err))\n",
    "    cat(sprintf(\"Approximate solution:\"))\n",
    "    print(x)\n",
    "    cond <- Err_plot_aux > .Machine$double.eps*10**(-2)\n",
    "    Err_plot = Err_plot_aux[cond]\n",
    "    cond<- apply(x_plot,2,function(x) all(x==0))\n",
    "    x_plot <- x_plot[,!cond]\n",
    "    if (iteration == maxiter && t < tol_backtracking){\n",
    "        print(\"Backtracking value less than tol_backtracking, check approximation\")\n",
    "        iteration<-iter_salida\n",
    "    }\n",
    "   list(x,iteration-1,Err_plot,x_plot)\n",
    "    \n",
    "}    "
   ]
  },
  {
   "cell_type": "code",
   "execution_count": 81,
   "metadata": {},
   "outputs": [],
   "source": [
    "beta_0<-c(0,0)"
   ]
  },
  {
   "cell_type": "code",
   "execution_count": 82,
   "metadata": {},
   "outputs": [
    {
     "name": "stdout",
     "output_type": "stream",
     "text": [
      "I    Normagf   Error x_ast   Error p_ast   line search\n",
      "1    4.02e+03   1.00e+00      2.16e+02      ---\n",
      "2    1.60e+02   1.00e+00      9.78e+01      1.52587890625e-05\n",
      "3    2.83e+01   1.00e+00      9.76e+01      1.52587890625e-05\n",
      "4    2.70e+03   4.76e-01      8.10e+01      0.125\n",
      "5    1.07e+02   4.76e-01      2.73e+01      1.52587890625e-05\n",
      "6    1.37e+01   4.76e-01      2.73e+01      1.52587890625e-05\n",
      "7    1.29e+03   2.28e-01      2.35e+01      0.125\n",
      "8    5.20e+01   2.28e-01      1.14e+01      1.52587890625e-05\n",
      "9    6.95e+00   2.28e-01      1.14e+01      1.52587890625e-05\n",
      "10    6.16e+02   1.09e-01      1.06e+01      0.125\n",
      "11    2.54e+01   1.09e-01      7.78e+00      1.52587890625e-05\n",
      "12    3.15e+00   1.09e-01      7.78e+00      1.52587890625e-05\n",
      "13    2.94e+02   5.22e-02      7.58e+00      0.125\n",
      "14    1.17e+01   5.22e-02      6.95e+00      1.52587890625e-05\n",
      "15    1.51e+00   5.22e-02      6.94e+00      1.52587890625e-05\n",
      "16    1.41e+02   2.50e-02      6.90e+00      0.125\n",
      "17    5.60e+00   2.50e-02      6.75e+00      1.52587890625e-05\n",
      "18    7.21e-01   2.50e-02      6.75e+00      1.52587890625e-05\n",
      "19    6.76e+01   1.20e-02      6.74e+00      0.125\n",
      "20    2.68e+00   1.20e-02      6.71e+00      1.52587890625e-05\n",
      "21    3.45e-01   1.20e-02      6.71e+00      1.52587890625e-05\n",
      "22    3.24e+01   5.72e-03      6.71e+00      0.125\n",
      "23    1.28e+00   5.72e-03      6.70e+00      1.52587890625e-05\n",
      "24    1.65e-01   5.72e-03      6.70e+00      1.52587890625e-05\n",
      "25    1.55e+01   2.73e-03      6.70e+00      0.125\n",
      "26    6.15e-01   2.73e-03      6.70e+00      1.52587890625e-05\n",
      "27    7.92e-02   2.73e-03      6.70e+00      1.52587890625e-05\n",
      "28    7.43e+00   1.29e-03      6.70e+00      0.125\n",
      "29    2.95e-01   1.29e-03      6.70e+00      1.52587890625e-05\n",
      "30    3.80e-02   1.29e-03      6.70e+00      1.52587890625e-05\n",
      "Error of x with respect to x_ast: 1.29e-03\n",
      "Approximate solution:[1] -0.01672429  6.58200823\n"
     ]
    }
   ],
   "source": [
    "l<-coordinate_descent(fo, beta_0, tol, tol_backtracking, beta_ast, p_ast, maxiter)"
   ]
  },
  {
   "cell_type": "code",
   "execution_count": 83,
   "metadata": {},
   "outputs": [],
   "source": [
    "beta <- l[[1]]\n",
    "total_of_iterations <- l[[2]]\n",
    "Err_plot <- l[[3]]\n",
    "beta_plot <- l[[4]]\n"
   ]
  },
  {
   "cell_type": "code",
   "execution_count": 84,
   "metadata": {},
   "outputs": [
    {
     "name": "stdout",
     "output_type": "stream",
     "text": [
      "[1] -0.01672429  6.58200823\n"
     ]
    }
   ],
   "source": [
    "print(beta)"
   ]
  },
  {
   "cell_type": "code",
   "execution_count": 85,
   "metadata": {},
   "outputs": [
    {
     "name": "stdout",
     "output_type": "stream",
     "text": [
      "              s0\n",
      "disp -0.01682177\n",
      "drat  6.59053287\n"
     ]
    }
   ],
   "source": [
    "print(beta_ast)"
   ]
  },
  {
   "cell_type": "code",
   "execution_count": 86,
   "metadata": {},
   "outputs": [
    {
     "data": {
      "text/html": [
       "9.77752506189079"
      ],
      "text/latex": [
       "9.77752506189079"
      ],
      "text/markdown": [
       "9.77752506189079"
      ],
      "text/plain": [
       "[1] 9.777525"
      ]
     },
     "metadata": {},
     "output_type": "display_data"
    }
   ],
   "source": [
    "fo(beta)"
   ]
  },
  {
   "cell_type": "code",
   "execution_count": 87,
   "metadata": {},
   "outputs": [
    {
     "data": {
      "text/html": [
       "<table>\n",
       "<caption>A matrix: 2 × 29 of type dbl</caption>\n",
       "<tbody>\n",
       "\t<tr><td>0.06136373</td><td>0.05895046</td><td>0.05895046</td><td>0.01768148</td><td>0.01930448</td><td>0.01930448</td><td>-0.0003143712</td><td>0.0004724453</td><td>0.0004724453</td><td>-0.0089231</td><td>⋯</td><td>-0.0159137</td><td>-0.0159137</td><td>-0.01640761</td><td>-0.01638818</td><td>-0.01638818</td><td>-0.01662475</td><td>-0.01661544</td><td>-0.01661544</td><td>-0.01672874</td><td>-0.01672429</td></tr>\n",
       "\t<tr><td>0.00000000</td><td>0.00000000</td><td>3.45674671</td><td>3.45674671</td><td>3.45674671</td><td>5.09094424</td><td> 5.0909442439</td><td>5.0909442439</td><td>5.8722613439</td><td> 5.8722613</td><td>⋯</td><td> 6.5117229</td><td> 6.5528649</td><td> 6.55286485</td><td> 6.55286485</td><td> 6.57257038</td><td> 6.57257038</td><td> 6.57257038</td><td> 6.58200823</td><td> 6.58200823</td><td> 6.58200823</td></tr>\n",
       "</tbody>\n",
       "</table>\n"
      ],
      "text/latex": [
       "A matrix: 2 × 29 of type dbl\n",
       "\\begin{tabular}{lllllllllllllllllllll}\n",
       "\t 0.06136373 & 0.05895046 & 0.05895046 & 0.01768148 & 0.01930448 & 0.01930448 & -0.0003143712 & 0.0004724453 & 0.0004724453 & -0.0089231 & ⋯ & -0.0159137 & -0.0159137 & -0.01640761 & -0.01638818 & -0.01638818 & -0.01662475 & -0.01661544 & -0.01661544 & -0.01672874 & -0.01672429\\\\\n",
       "\t 0.00000000 & 0.00000000 & 3.45674671 & 3.45674671 & 3.45674671 & 5.09094424 &  5.0909442439 & 5.0909442439 & 5.8722613439 &  5.8722613 & ⋯ &  6.5117229 &  6.5528649 &  6.55286485 &  6.55286485 &  6.57257038 &  6.57257038 &  6.57257038 &  6.58200823 &  6.58200823 &  6.58200823\\\\\n",
       "\\end{tabular}\n"
      ],
      "text/markdown": [
       "\n",
       "A matrix: 2 × 29 of type dbl\n",
       "\n",
       "| 0.06136373 | 0.05895046 | 0.05895046 | 0.01768148 | 0.01930448 | 0.01930448 | -0.0003143712 | 0.0004724453 | 0.0004724453 | -0.0089231 | ⋯ | -0.0159137 | -0.0159137 | -0.01640761 | -0.01638818 | -0.01638818 | -0.01662475 | -0.01661544 | -0.01661544 | -0.01672874 | -0.01672429 |\n",
       "| 0.00000000 | 0.00000000 | 3.45674671 | 3.45674671 | 3.45674671 | 5.09094424 |  5.0909442439 | 5.0909442439 | 5.8722613439 |  5.8722613 | ⋯ |  6.5117229 |  6.5528649 |  6.55286485 |  6.55286485 |  6.57257038 |  6.57257038 |  6.57257038 |  6.58200823 |  6.58200823 |  6.58200823 |\n",
       "\n"
      ],
      "text/plain": [
       "     [,1]       [,2]       [,3]       [,4]       [,5]       [,6]      \n",
       "[1,] 0.06136373 0.05895046 0.05895046 0.01768148 0.01930448 0.01930448\n",
       "[2,] 0.00000000 0.00000000 3.45674671 3.45674671 3.45674671 5.09094424\n",
       "     [,7]          [,8]         [,9]         [,10]      [,11] [,12]     \n",
       "[1,] -0.0003143712 0.0004724453 0.0004724453 -0.0089231 ⋯     -0.0159137\n",
       "[2,]  5.0909442439 5.0909442439 5.8722613439  5.8722613 ⋯      6.5117229\n",
       "     [,13]      [,14]       [,15]       [,16]       [,17]       [,18]      \n",
       "[1,] -0.0159137 -0.01640761 -0.01638818 -0.01638818 -0.01662475 -0.01661544\n",
       "[2,]  6.5528649  6.55286485  6.55286485  6.57257038  6.57257038  6.57257038\n",
       "     [,19]       [,20]       [,21]      \n",
       "[1,] -0.01661544 -0.01672874 -0.01672429\n",
       "[2,]  6.58200823  6.58200823  6.58200823"
      ]
     },
     "metadata": {},
     "output_type": "display_data"
    }
   ],
   "source": [
    "beta_plot"
   ]
  },
  {
   "cell_type": "code",
   "execution_count": 88,
   "metadata": {},
   "outputs": [
    {
     "data": {
      "image/png": "[encoded data removed]",
      "text/plain": [
       "plot without title"
      ]
     },
     "metadata": {
      "image/png": {
       "height": 420,
       "width": 420
      }
     },
     "output_type": "display_data"
    }
   ],
   "source": [
    "gg +\n",
    "geom_point(aes(x=beta_plot[1,],y=beta_plot[2,]),size=2) +\n",
    "#annotate(geom='text', x=0.5, y=0.47, \n",
    "#         label=TeX(\"x^{(0)}\", output='character'), parse=TRUE) + \n",
    "xlab('x') + ylab('y') + \n",
    "ggtitle(TeX('Iter del método de descenso en gradiente para $f_o$'))"
   ]
  },
  {
   "cell_type": "markdown",
   "metadata": {},
   "source": [
    "**gradient descent**"
   ]
  },
  {
   "cell_type": "code",
   "execution_count": 89,
   "metadata": {},
   "outputs": [
    {
     "name": "stdout",
     "output_type": "stream",
     "text": [
      "I    Normagf   Error x_ast   Error p_ast   line search\n",
      "1    4.02e+03   1.00e+00      2.16e+02      ---\n",
      "2    1.61e+02   1.00e+00      9.78e+01      1.52587890625e-05\n",
      "3    2.83e+01   1.00e+00      9.76e+01      1.52587890625e-05\n",
      "4    2.04e+02   9.98e-01      9.75e+01      0.00048828125\n",
      "5    2.86e+01   9.98e-01      9.72e+01      1.52587890625e-05\n",
      "6    1.28e+02   9.97e-01      9.71e+01      0.000244140625\n",
      "7    2.79e+01   9.97e-01      9.70e+01      1.52587890625e-05\n",
      "8    1.61e+02   9.95e-01      9.68e+01      0.00048828125\n",
      "9    2.81e+01   9.95e-01      9.66e+01      1.52587890625e-05\n",
      "10    2.04e+02   9.93e-01      9.65e+01      0.00048828125\n",
      "11    2.85e+01   9.92e-01      9.62e+01      1.52587890625e-05\n",
      "12    1.28e+02   9.91e-01      9.62e+01      0.000244140625\n",
      "13    2.78e+01   9.91e-01      9.60e+01      1.52587890625e-05\n",
      "14    1.61e+02   9.89e-01      9.59e+01      0.00048828125\n",
      "15    2.80e+01   9.89e-01      9.57e+01      1.52587890625e-05\n",
      "16    2.04e+02   9.87e-01      9.56e+01      0.00048828125\n",
      "17    2.84e+01   9.87e-01      9.53e+01      1.52587890625e-05\n",
      "18    1.28e+02   9.86e-01      9.52e+01      0.000244140625\n",
      "19    2.76e+01   9.86e-01      9.51e+01      1.52587890625e-05\n",
      "20    1.61e+02   9.84e-01      9.49e+01      0.00048828125\n",
      "21    2.79e+01   9.84e-01      9.47e+01      1.52587890625e-05\n",
      "22    2.04e+02   9.82e-01      9.47e+01      0.00048828125\n",
      "23    2.82e+01   9.82e-01      9.44e+01      1.52587890625e-05\n",
      "24    1.28e+02   9.81e-01      9.43e+01      0.000244140625\n",
      "25    2.75e+01   9.81e-01      9.42e+01      1.52587890625e-05\n",
      "26    1.61e+02   9.79e-01      9.40e+01      0.00048828125\n",
      "27    2.77e+01   9.79e-01      9.38e+01      1.52587890625e-05\n",
      "28    1.02e+02   9.78e-01      9.37e+01      0.000244140625\n",
      "29    2.72e+01   9.78e-01      9.36e+01      1.52587890625e-05\n",
      "30    2.55e+02   9.74e-01      9.34e+01      0.0009765625\n",
      "Error of x with respect to x_ast: 9.74e-01\n",
      "Approximate solution:[1] 0.06077092 0.17322958\n"
     ]
    }
   ],
   "source": [
    "l<-gradient_descent(fo, beta_0, tol, tol_backtracking, beta_ast, p_ast, maxiter)"
   ]
  },
  {
   "cell_type": "code",
   "execution_count": 90,
   "metadata": {},
   "outputs": [],
   "source": [
    "beta <- l[[1]]\n",
    "total_of_iterations <- l[[2]]\n",
    "Err_plot <- l[[3]]\n",
    "beta_plot <- l[[4]]\n"
   ]
  },
  {
   "cell_type": "code",
   "execution_count": 91,
   "metadata": {},
   "outputs": [
    {
     "name": "stdout",
     "output_type": "stream",
     "text": [
      "[1] 0.06077092 0.17322958\n"
     ]
    }
   ],
   "source": [
    "print(beta)"
   ]
  },
  {
   "cell_type": "code",
   "execution_count": 92,
   "metadata": {},
   "outputs": [
    {
     "name": "stdout",
     "output_type": "stream",
     "text": [
      "              s0\n",
      "disp -0.01682177\n",
      "drat  6.59053287\n"
     ]
    }
   ],
   "source": [
    "print(beta_ast)"
   ]
  },
  {
   "cell_type": "code",
   "execution_count": 93,
   "metadata": {},
   "outputs": [
    {
     "data": {
      "text/html": [
       "96.4487316301694"
      ],
      "text/latex": [
       "96.4487316301694"
      ],
      "text/markdown": [
       "96.4487316301694"
      ],
      "text/plain": [
       "[1] 96.44873"
      ]
     },
     "metadata": {},
     "output_type": "display_data"
    }
   ],
   "source": [
    "fo(beta)"
   ]
  },
  {
   "cell_type": "code",
   "execution_count": 94,
   "metadata": {},
   "outputs": [
    {
     "data": {
      "text/html": [
       "<table>\n",
       "<caption>A matrix: 2 × 29 of type dbl</caption>\n",
       "<tbody>\n",
       "\t<tr><td>0.061363730</td><td>0.058936966</td><td>0.06184056</td><td>0.05875199</td><td>0.06062185</td><td>0.05871467</td><td>0.06096260</td><td>0.05853560</td><td>0.06144034</td><td>0.05835146</td><td>⋯</td><td>0.05773921</td><td>0.06064624</td><td>0.05755675</td><td>0.05942846</td><td>0.05752074</td><td>0.05977188</td><td>0.05734417</td><td>0.05879825</td><td>0.0572988</td><td>0.06077092</td></tr>\n",
       "\t<tr><td>0.001127375</td><td>0.001520236</td><td>0.01501851</td><td>0.01540287</td><td>0.02214264</td><td>0.02254015</td><td>0.03598794</td><td>0.03637857</td><td>0.04980566</td><td>0.05018779</td><td>⋯</td><td>0.10554322</td><td>0.11882906</td><td>0.11920678</td><td>0.12584056</td><td>0.12623143</td><td>0.13946746</td><td>0.13985148</td><td>0.14645937</td><td>0.1468536</td><td>0.17322958</td></tr>\n",
       "</tbody>\n",
       "</table>\n"
      ],
      "text/latex": [
       "A matrix: 2 × 29 of type dbl\n",
       "\\begin{tabular}{lllllllllllllllllllll}\n",
       "\t 0.061363730 & 0.058936966 & 0.06184056 & 0.05875199 & 0.06062185 & 0.05871467 & 0.06096260 & 0.05853560 & 0.06144034 & 0.05835146 & ⋯ & 0.05773921 & 0.06064624 & 0.05755675 & 0.05942846 & 0.05752074 & 0.05977188 & 0.05734417 & 0.05879825 & 0.0572988 & 0.06077092\\\\\n",
       "\t 0.001127375 & 0.001520236 & 0.01501851 & 0.01540287 & 0.02214264 & 0.02254015 & 0.03598794 & 0.03637857 & 0.04980566 & 0.05018779 & ⋯ & 0.10554322 & 0.11882906 & 0.11920678 & 0.12584056 & 0.12623143 & 0.13946746 & 0.13985148 & 0.14645937 & 0.1468536 & 0.17322958\\\\\n",
       "\\end{tabular}\n"
      ],
      "text/markdown": [
       "\n",
       "A matrix: 2 × 29 of type dbl\n",
       "\n",
       "| 0.061363730 | 0.058936966 | 0.06184056 | 0.05875199 | 0.06062185 | 0.05871467 | 0.06096260 | 0.05853560 | 0.06144034 | 0.05835146 | ⋯ | 0.05773921 | 0.06064624 | 0.05755675 | 0.05942846 | 0.05752074 | 0.05977188 | 0.05734417 | 0.05879825 | 0.0572988 | 0.06077092 |\n",
       "| 0.001127375 | 0.001520236 | 0.01501851 | 0.01540287 | 0.02214264 | 0.02254015 | 0.03598794 | 0.03637857 | 0.04980566 | 0.05018779 | ⋯ | 0.10554322 | 0.11882906 | 0.11920678 | 0.12584056 | 0.12623143 | 0.13946746 | 0.13985148 | 0.14645937 | 0.1468536 | 0.17322958 |\n",
       "\n"
      ],
      "text/plain": [
       "     [,1]        [,2]        [,3]       [,4]       [,5]       [,6]      \n",
       "[1,] 0.061363730 0.058936966 0.06184056 0.05875199 0.06062185 0.05871467\n",
       "[2,] 0.001127375 0.001520236 0.01501851 0.01540287 0.02214264 0.02254015\n",
       "     [,7]       [,8]       [,9]       [,10]      [,11] [,12]      [,13]     \n",
       "[1,] 0.06096260 0.05853560 0.06144034 0.05835146 ⋯     0.05773921 0.06064624\n",
       "[2,] 0.03598794 0.03637857 0.04980566 0.05018779 ⋯     0.10554322 0.11882906\n",
       "     [,14]      [,15]      [,16]      [,17]      [,18]      [,19]     \n",
       "[1,] 0.05755675 0.05942846 0.05752074 0.05977188 0.05734417 0.05879825\n",
       "[2,] 0.11920678 0.12584056 0.12623143 0.13946746 0.13985148 0.14645937\n",
       "     [,20]     [,21]     \n",
       "[1,] 0.0572988 0.06077092\n",
       "[2,] 0.1468536 0.17322958"
      ]
     },
     "metadata": {},
     "output_type": "display_data"
    }
   ],
   "source": [
    "beta_plot"
   ]
  },
  {
   "cell_type": "code",
   "execution_count": 95,
   "metadata": {},
   "outputs": [
    {
     "data": {
      "image/png": "[encoded data removed]",
      "text/plain": [
       "plot without title"
      ]
     },
     "metadata": {
      "image/png": {
       "height": 420,
       "width": 420
      }
     },
     "output_type": "display_data"
    }
   ],
   "source": [
    "gg +\n",
    "geom_point(aes(x=beta_plot[1,],y=beta_plot[2,]),size=2) +\n",
    "#annotate(geom='text', x=0.5, y=0.47, \n",
    "#         label=TeX(\"x^{(0)}\", output='character'), parse=TRUE) + \n",
    "xlab('x') + ylab('y') + \n",
    "ggtitle(TeX('Iter del método de descenso en gradiente para $f_o$'))"
   ]
  },
  {
   "cell_type": "markdown",
   "metadata": {},
   "source": [
    "**Referencias:**\n",
    "\n",
    "* Ver [3_minimos_cuadrados](https://github.com/ITAM-DS/Propedeutico/blob/master/Python/clases/3_algebra_lineal/3_minimos_cuadrados.ipynb) para una introducción al problema de mínimos cuadrados con ejemplos en Python3."
   ]
  }
 ],
 "metadata": {
  "kernelspec": {
   "display_name": "R",
   "language": "R",
   "name": "ir"
  },
  "language_info": {
   "codemirror_mode": "r",
   "file_extension": ".r",
   "mimetype": "text/x-r-source",
   "name": "R",
   "pygments_lexer": "r",
   "version": "3.6.2"
  }
 },
 "nbformat": 4,
 "nbformat_minor": 4
}
