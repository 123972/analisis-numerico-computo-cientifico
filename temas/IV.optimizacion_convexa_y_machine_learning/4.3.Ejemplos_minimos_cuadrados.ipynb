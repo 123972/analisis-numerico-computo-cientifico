{
 "cells": [
  {
   "cell_type": "markdown",
   "metadata": {},
   "source": [
    "# Mínimos cuadrados lineales"
   ]
  },
  {
   "cell_type": "markdown",
   "metadata": {},
   "source": [
    "Supóngase que se han realizado mediciones de un fenómeno de interés en diferentes puntos $x_i$'s resultando en cantidades $y_i$'s $\\forall i=0,1,\\dots, m$ (se tienen $m+1$ puntos) y además las $y_i$'s contienen un ruido aleatorio causado por errores de medición:"
   ]
  },
  {
   "cell_type": "markdown",
   "metadata": {},
   "source": [
    "<img src=\"https://dl.dropboxusercontent.com/s/iydpi0m8ndqzb0s/mcuadrados_1.jpg?dl=0\" heigth=\"350\" width=\"350\">\n"
   ]
  },
  {
   "cell_type": "markdown",
   "metadata": {},
   "source": [
    "El objetivo de los mínimos cuadrados lineales es construir una curva, $f(x|\\beta)$ que \"mejor\" se ajuste a los datos $(x_i,y_i)$, $\\forall i=0,1,\\dots,m$. El término de \"mejor\" se refiere a que la suma: $$\\displaystyle \\sum_{i=0}^m (y_i -f(x_i|\\beta))^2$$ sea lo más pequeña posible, esto es, a que la suma de las distancias verticales entre $y_i$ y $f(x_i|\\beta)$ $\\forall i=0,1,\\dots,m$ al cuadrado sea mínima:"
   ]
  },
  {
   "cell_type": "markdown",
   "metadata": {},
   "source": [
    "<img src=\"https://dl.dropboxusercontent.com/s/0dhzv336jj6ep4z/mcuadrados_2.jpg?dl=0\" heigth=\"350\" width=\"350\">\n"
   ]
  },
  {
   "cell_type": "markdown",
   "metadata": {},
   "source": [
    "**Obs:**\n",
    "\n",
    "* La notación $f(x|\\beta)$ se utiliza para denotar que $\\beta$ es un vector de parámetros a estimar, en específico $\\beta_0, \\beta_1, \\dots \\beta_n$, esto es: $n+1$ parámetros a estimar."
   ]
  },
  {
   "cell_type": "markdown",
   "metadata": {},
   "source": [
    "Si $m=3$ y $A \\in \\mathbb{R}^{3 \\times 2}$ geométricamente el problema de mínimos cuadrados se puede visualizar con el siguiente dibujo:"
   ]
  },
  {
   "cell_type": "markdown",
   "metadata": {},
   "source": [
    "<img src=\"https://dl.dropboxusercontent.com/s/zkbhzv9a2jiw11b/espacio_generado_columnas_de_A.png?dl=0\" heigth=\"400\" width=\"400\">"
   ]
  },
  {
   "cell_type": "markdown",
   "metadata": {},
   "source": [
    "## Modelo en mínimos cuadrados lineales"
   ]
  },
  {
   "cell_type": "markdown",
   "metadata": {},
   "source": [
    "En los mínimos cuadrados lineales se supone:  $f(x|\\beta) = \\displaystyle \\sum_{j=0}^n\\beta_j\\phi_j(x)$ con $\\phi_j: \\mathbb{R} \\rightarrow \\mathbb{R}$ funciones conocidas por lo que se tiene una gran flexibilidad para el proceso de ajuste."
   ]
  },
  {
   "cell_type": "markdown",
   "metadata": {},
   "source": [
    "**Obs:** \n",
    "\n",
    "* Si $n=m$ entonces se tiene un problema de interpolación.\n",
    "* x se nombra variable **regresora**."
   ]
  },
  {
   "cell_type": "markdown",
   "metadata": {},
   "source": [
    "## ¿Cómo ajustar el modelo anterior?"
   ]
  },
  {
   "cell_type": "markdown",
   "metadata": {},
   "source": [
    "En lo siguiente se **asume** $n+1 \\leq m+1$ (tenemos más puntos $(x_i,y_i)$'s que parámetros a estimar)."
   ]
  },
  {
   "cell_type": "markdown",
   "metadata": {},
   "source": [
    "Para realizar el ajuste de mínimos cuadrados se utilizan las ecuaciones normales: $$A^TA\\beta=A^Ty$$ donde: $A$ se construye con las $\\phi_j$'s evaluadas en los puntos $x_i$'s, el vector $\\beta$ contiene a los parámetros $\\beta_j$'s a estimar y el vector $y$, la variable **respuesta**, se construye con los puntos $y_i$'s:"
   ]
  },
  {
   "cell_type": "markdown",
   "metadata": {},
   "source": [
    "$$A = \\left[\\begin{array}{cccc}\n",
    "\\phi_0(x_0) &\\phi_1(x_0)&\\dots&\\phi_n(x_0)\\\\\n",
    "\\phi_0(x_1) &\\phi_1(x_1)&\\dots&\\phi_n(x_1)\\\\\n",
    "\\vdots &\\vdots& \\vdots&\\vdots\\\\\n",
    "\\phi_0(x_n) &\\phi_1(x_n)&\\dots&\\phi_n(x_n)\\\\\n",
    "\\vdots &\\vdots& \\vdots&\\vdots\\\\\n",
    "\\phi_0(x_{m-1}) &\\phi_1(x_{m-1})&\\dots&\\phi_n(x_{m-1})\\\\\n",
    "\\phi_0(x_m) &\\phi_1(x_m)&\\dots&\\phi_n(x_m)\n",
    "\\end{array}\n",
    "\\right] \\in \\mathbb{R}^{(m+1)x(n+1)},\n",
    "\\beta=\n",
    "\\left[\\begin{array}{c}\n",
    "\\beta_0\\\\\n",
    "\\beta_1\\\\\n",
    "\\vdots \\\\\n",
    "\\beta_n\n",
    "\\end{array}\n",
    "\\right] \\in \\mathbb{R}^n,\n",
    "y=\n",
    "\\left[\\begin{array}{c}\n",
    "y_0\\\\\n",
    "y_1\\\\\n",
    "\\vdots \\\\\n",
    "y_m\n",
    "\\end{array}\n",
    "\\right] \\in \\mathbb{R}^m\n",
    "$$"
   ]
  },
  {
   "cell_type": "markdown",
   "metadata": {},
   "source": [
    "y si $A$ es de $rank$ completo (tiene $n+1$ columnas linealmente independientes) se calcula la factorización $QR$ de $A$ : $A = QR$ y entonces: $$A^TA\\beta = A^Ty$$ "
   ]
  },
  {
   "cell_type": "markdown",
   "metadata": {},
   "source": [
    "y como $A=QR$ se tiene: $A^TA = (R^TQ^T)(QR)$ y $A^T = R^TQ^T$ por lo que:"
   ]
  },
  {
   "cell_type": "markdown",
   "metadata": {},
   "source": [
    "$$(R^TQ^T)(QR) \\beta =  R^TQ^T y$$"
   ]
  },
  {
   "cell_type": "markdown",
   "metadata": {},
   "source": [
    "y usando que $Q$ tiene columnas ortonormales:"
   ]
  },
  {
   "cell_type": "markdown",
   "metadata": {},
   "source": [
    "$$R^TR\\beta = R^TQ^Ty$$"
   ]
  },
  {
   "cell_type": "markdown",
   "metadata": {},
   "source": [
    "Como $A$ tiene $n$ columnas linealmente independientes, la matriz $R$ es invertible por lo que $R^T$ también lo es y finalmente se tiene el sistema de ecuaciones por resolver:"
   ]
  },
  {
   "cell_type": "markdown",
   "metadata": {},
   "source": [
    "$$R\\beta = Q^Ty$$"
   ]
  },
  {
   "cell_type": "markdown",
   "metadata": {},
   "source": [
    "# Ejemplo"
   ]
  },
  {
   "cell_type": "code",
   "execution_count": 1,
   "metadata": {},
   "outputs": [
    {
     "name": "stderr",
     "output_type": "stream",
     "text": [
      "also installing the dependencies ‘iterators’, ‘foreach’, ‘shape’\n",
      "\n",
      "\n"
     ]
    }
   ],
   "source": [
    "install.packages(c(\"latex2exp\",\"glmnet\"),lib=\"/usr/local/lib/R/site-library/\",\n",
    "                repos=\"https://cran.itam.mx/\")"
   ]
  },
  {
   "cell_type": "code",
   "execution_count": 1,
   "metadata": {},
   "outputs": [],
   "source": [
    "inc_index<-function(vec,index,h){\n",
    "    '\n",
    "    Auxiliary function for gradient and Hessian computation.\n",
    "    Args:\n",
    "        vec (double): vector\n",
    "        index (int): index.\n",
    "        h (float):   quantity that vec[index] will be increased.\n",
    "    Returns:\n",
    "        vec (double): vector with vec[index] increased by h.\n",
    "    '\n",
    "    vec[index]<-vec[index]+h\n",
    "    vec\n",
    "}"
   ]
  },
  {
   "cell_type": "code",
   "execution_count": 2,
   "metadata": {},
   "outputs": [],
   "source": [
    "gradient_approximation<-function(f,x,h=1e-8){\n",
    "    '\n",
    "    Numerical approximation of gradient for function f using forward differences.\n",
    "    Args:\n",
    "        f (expression): definition of function f.\n",
    "        x (double): vector that holds values where gradient will be computed.\n",
    "        h (float): step size for forward differences, tipically h=1e-8\n",
    "    Returns:\n",
    "        gf (array): numerical approximation to gradient of f.\n",
    "\n",
    "    '\n",
    "    n<-length(x)\n",
    "    gf<-vector(\"double\",n)\n",
    "    for(i in 1:n){\n",
    "        gf[i]=(f(inc_index(x,i,h))-f(x))\n",
    "    }\n",
    "    gf/h\n",
    "}"
   ]
  },
  {
   "cell_type": "code",
   "execution_count": 3,
   "metadata": {},
   "outputs": [],
   "source": [
    "Hessian_approximation<-function(f,x,h=1e-6){\n",
    "    '\n",
    "    Numerical approximation of Hessian for function f using forward differences.\n",
    "    Args:\n",
    "        f (expression): definition of function f.\n",
    "        x (double): vector that holds values where Hessian will be computed.\n",
    "        h (float): step size for forward differences, tipically h=1e-6\n",
    "    Returns:\n",
    "        Hf (double): matrix of numerical approximation to Hessian of f.\n",
    "    '\n",
    "    n<-length(x)\n",
    "    Hf<-matrix(rep(0,n^2),nrow=n,ncol=n)\n",
    "    f_x<-f(x)\n",
    "    for(i in 1:n){\n",
    "        x_inc_in_i<-inc_index(x,i,h)\n",
    "        f_x_inc_in_i<-f(x_inc_in_i)\n",
    "        for(j in i:n){\n",
    "            dif<-f(inc_index(x_inc_in_i,j,h))-f_x_inc_in_i-f(inc_index(x,j,h))+f_x\n",
    "            Hf[i,j]<-dif\n",
    "            if(j!=i)\n",
    "                Hf[j,i]<-dif\n",
    "        }\n",
    "    }\n",
    "    Hf/h^2\n",
    "}"
   ]
  },
  {
   "cell_type": "code",
   "execution_count": 4,
   "metadata": {},
   "outputs": [],
   "source": [
    "line_search_by_backtracking<-function(f,dir_desc,x,\n",
    "                                      der_direct, alpha=.15, beta=.5){\n",
    "    '\n",
    "    Line search that sufficiently decreases f restricted to a ray in the direction dir_desc.\n",
    "    Args:\n",
    "        alpha (float): parameter in line search with backtracking, tipically .15\n",
    "        beta (float): parameter in line search with backtracking, tipically .5\n",
    "        f (expression): definition of function f.\n",
    "        dir_desc (double): vector of descent direction.\n",
    "        x (double): vector that holds values where line search will be performed.\n",
    "        der_direct (float): directional derivative of f.\n",
    "    Returns:\n",
    "        t (float): positive number for stepsize along dir_desc that sufficiently decreases f.\n",
    "    '\n",
    "    t<-1\n",
    "    if (alpha > 1/2){\n",
    "        print('alpha must be less than or equal to 1/2')\n",
    "        t <- -1\n",
    "    }\n",
    "    if (beta>1){\n",
    "        print('beta must be less than 1')\n",
    "        t <- -1\n",
    "    }\n",
    "    if (t!=-1){\n",
    "        eval1 <- f(x+t*dir_desc)\n",
    "        eval2 <- f(x) + alpha*t*der_direct\n",
    "        while (eval1 > eval2){\n",
    "            t<-beta*t\n",
    "            eval1 <- f(x+t*dir_desc)\n",
    "            eval2 <- f(x)+alpha*t*der_direct\n",
    "        }\n",
    "    }else\n",
    "        t <- -1\n",
    "    t\n",
    "}"
   ]
  },
  {
   "cell_type": "code",
   "execution_count": 5,
   "metadata": {},
   "outputs": [],
   "source": [
    "Euclidian_norm<-function(vec){\n",
    "    sqrt(sum(vec*vec))\n",
    "}"
   ]
  },
  {
   "cell_type": "code",
   "execution_count": 6,
   "metadata": {},
   "outputs": [],
   "source": [
    "compute_error<-function(x_obj,x_approx){\n",
    "    '\n",
    "    Relative error between x_obj and x_approx.\n",
    "    '\n",
    "    if (Euclidian_norm(x_obj) > .Machine$double.eps){\n",
    "        Err<-Euclidian_norm(x_obj-x_approx)/Euclidian_norm(x_obj)\n",
    "    }else\n",
    "        Err<-Euclidian_norm(x_obj-x_approx)\n",
    "    Err\n",
    "}"
   ]
  },
  {
   "cell_type": "code",
   "execution_count": 7,
   "metadata": {},
   "outputs": [],
   "source": [
    "gradient_descent<-function(f, x_0, tol, \n",
    "                        tol_backtracking, x_ast, p_ast, maxiter){\n",
    "    '\n",
    "    Method of gradient descent to numerically approximate solution of min f.\n",
    "    Args:\n",
    "        f (expression): definition of function f.\n",
    "        x_0 (double): vector of initial point for gradient descent method.\n",
    "        tol (float): tolerance that will halt method. Controls norm of gradient of f.\n",
    "        tol_backtracking (float): tolerance that will halt method. Controls value of line search by backtracking.\n",
    "        x_ast (double): vector solution of min f, now its required that user knows the solution...\n",
    "        p_ast (double): vector value of f(x_ast), now its required that user knows the solution...\n",
    "        maxiter (int): maximum number of iterations\n",
    "    Returns:\n",
    "        x (double): vector approximation of x_ast.\n",
    "        iteration (int): number of iterations.\n",
    "        Err_plot (double): vector array of absolute error between p_ast and f(x) with x approximation.\n",
    "                          of x_ast. Useful for plotting.\n",
    "        x_plot (double): vector array that containts in columns vector of approximations. Last column\n",
    "                        contains x, approximation of solution. Useful for plotting.\n",
    "    '\n",
    "    iteration <- 1\n",
    "    x <- x_0\n",
    "    \n",
    "    feval <- f(x)\n",
    "    gfeval <- gradient_approximation(f,x)\n",
    "\n",
    "    normgf <- Euclidian_norm(gfeval)\n",
    "    \n",
    "    Err_plot_aux <- vector(\"double\",maxiter)\n",
    "    Err_plot_aux[iteration] <- abs(feval-p_ast)\n",
    "    \n",
    "    Err <- compute_error(x_ast,x)\n",
    "    n <- length(x)\n",
    "    x_plot <- matrix(0,nrow=n,ncol=maxiter)\n",
    "    x_plot[,iteration] <- x\n",
    "    \n",
    "    cat(sprintf(\"I    Normagf   Error x_ast   Error p_ast   line search\\n\"))\n",
    "    cat(sprintf(\"%d    %.2e   %0.2e      %0.2e      %s\\n\",iteration,normgf,Err,Err_plot_aux[iteration],\"---\"))\n",
    "    iteration<-iteration + 1\n",
    "    while(normgf>tol && iteration <= maxiter){\n",
    "        dir_desc <- -gfeval\n",
    "        der_direct <- sum(gfeval*dir_desc)\n",
    "        t <- line_search_by_backtracking(f,dir_desc,x,der_direct)\n",
    "        x <- x + t*dir_desc\n",
    "        feval <- f(x)\n",
    "        gfeval <- gradient_approximation(f,x)\n",
    "        normgf <- Euclidian_norm(gfeval)\n",
    "        Err_plot_aux[iteration] <- abs(feval-p_ast);\n",
    "        x_plot[,iteration] <- x\n",
    "        Err <- compute_error(x_ast,x)\n",
    "        cat(sprintf(\"%d    %.2e   %0.2e      %0.2e      %s\\n\",iteration,normgf,Err,Err_plot_aux[iteration],t))\n",
    "        if (t<tol_backtracking){ #if t is less than tol_backtracking then we need to check the reason\n",
    "            iter_salida <- iteration\n",
    "            iteration <- maxiter\n",
    "        }\n",
    "        iteration <- iteration + 1\n",
    "    } #while\n",
    "    cat(sprintf(\"Error of x with respect to x_ast: %.2e\\n\",Err))\n",
    "    cat(sprintf(\"Approximate solution:\"))\n",
    "    print(x)\n",
    "    cond <- Err_plot_aux > .Machine$double.eps*10**(-2)\n",
    "    Err_plot = Err_plot_aux[cond]\n",
    "    cond<- apply(x_plot,2,function(x) all(x==0))\n",
    "    x_plot <- x_plot[,!cond]\n",
    "    if (iteration == maxiter && t < tol_backtracking){\n",
    "        print(\"Backtracking value less than tol_backtracking, check approximation\")\n",
    "        iteration<-iter_salida\n",
    "    }\n",
    "   list(x,iteration-1,Err_plot,x_plot)\n",
    "    \n",
    "}    "
   ]
  },
  {
   "cell_type": "code",
   "execution_count": 8,
   "metadata": {},
   "outputs": [
    {
     "name": "stderr",
     "output_type": "stream",
     "text": [
      "Loading required package: Matrix\n",
      "\n",
      "Loaded glmnet 3.0-2\n",
      "\n",
      "\n",
      "\n",
      "Attaching package: ‘dplyr’\n",
      "\n",
      "\n",
      "The following objects are masked from ‘package:stats’:\n",
      "\n",
      "    filter, lag\n",
      "\n",
      "\n",
      "The following objects are masked from ‘package:base’:\n",
      "\n",
      "    intersect, setdiff, setequal, union\n",
      "\n",
      "\n"
     ]
    }
   ],
   "source": [
    "library(ggplot2)\n",
    "library(latex2exp)\n",
    "library(glmnet)\n",
    "library(magrittr)\n",
    "library(dplyr)"
   ]
  },
  {
   "cell_type": "markdown",
   "metadata": {},
   "source": [
    "1) $$\\min \\quad \\frac{1}{2}y^Ty-\\beta^TA^Ty + \\frac{1}{2}\\beta^TA^TA\\beta$$"
   ]
  },
  {
   "cell_type": "code",
   "execution_count": 9,
   "metadata": {},
   "outputs": [],
   "source": [
    "set.seed(1989) #para reproducibilidad\n",
    "mpoints <- 20\n",
    "df <-  data.frame(x=rnorm(mpoints))\n",
    "y <- -3*df$x + rnorm(mpoints,2,1)\n",
    "df$y <- y"
   ]
  },
  {
   "cell_type": "code",
   "execution_count": 10,
   "metadata": {},
   "outputs": [],
   "source": [
    "gg <- ggplot(data=df, aes(x=x, y=y))"
   ]
  },
  {
   "cell_type": "code",
   "execution_count": 11,
   "metadata": {},
   "outputs": [
    {
     "data": {
      "image/png": "[encoded data removed]",
      "text/plain": [
       "plot without title"
      ]
     },
     "metadata": {
      "image/png": {
       "height": 420,
       "width": 420
      }
     },
     "output_type": "display_data"
    }
   ],
   "source": [
    "gg + \n",
    "geom_point(aes(x=x,y=y),size=2)"
   ]
  },
  {
   "cell_type": "code",
   "execution_count": 12,
   "metadata": {},
   "outputs": [],
   "source": [
    "linear_model <- lm(df$y~df$x)"
   ]
  },
  {
   "cell_type": "code",
   "execution_count": 13,
   "metadata": {},
   "outputs": [
    {
     "data": {
      "text/html": [
       "<dl class=dl-horizontal>\n",
       "\t<dt>(Intercept)</dt>\n",
       "\t\t<dd>1.56566282784822</dd>\n",
       "\t<dt>df$x</dt>\n",
       "\t\t<dd>-2.81058194144795</dd>\n",
       "</dl>\n"
      ],
      "text/latex": [
       "\\begin{description*}\n",
       "\\item[(Intercept)] 1.56566282784822\n",
       "\\item[df\\textbackslash{}\\$x] -2.81058194144795\n",
       "\\end{description*}\n"
      ],
      "text/markdown": [
       "(Intercept)\n",
       ":   1.56566282784822df$x\n",
       ":   -2.81058194144795\n",
       "\n"
      ],
      "text/plain": [
       "(Intercept)        df$x \n",
       "   1.565663   -2.810582 "
      ]
     },
     "metadata": {},
     "output_type": "display_data"
    }
   ],
   "source": [
    "linear_model$coefficients"
   ]
  },
  {
   "cell_type": "code",
   "execution_count": 14,
   "metadata": {},
   "outputs": [
    {
     "data": {
      "image/png": "[encoded data removed]",
      "text/plain": [
       "plot without title"
      ]
     },
     "metadata": {
      "image/png": {
       "height": 420,
       "width": 420
      }
     },
     "output_type": "display_data"
    }
   ],
   "source": [
    "gg +\n",
    "geom_point(aes(x=x,y=y),size=2) +\n",
    "geom_smooth(method='lm',colour='red')"
   ]
  },
  {
   "cell_type": "markdown",
   "metadata": {},
   "source": [
    "Método de descenso gradiente con $\\beta_0=(0,0)^T$:"
   ]
  },
  {
   "cell_type": "markdown",
   "metadata": {},
   "source": [
    "1) $$\\min \\quad \\frac{1}{2}y^Ty-\\beta^TA^Ty + \\frac{1}{2}\\beta^TA^TA\\beta$$"
   ]
  },
  {
   "cell_type": "code",
   "execution_count": 15,
   "metadata": {},
   "outputs": [],
   "source": [
    "cte <- sum(y*y)"
   ]
  },
  {
   "cell_type": "code",
   "execution_count": 16,
   "metadata": {},
   "outputs": [],
   "source": [
    "A <- matrix(c(rep(1,mpoints),df$x),nrow=mpoints)"
   ]
  },
  {
   "cell_type": "code",
   "execution_count": 17,
   "metadata": {},
   "outputs": [],
   "source": [
    "fo <-function(beta)1/2*cte - sum(beta*(t(A)%*%y)) + 1/2*sum(beta*(t(A)%*%(A%*%beta)))\n"
   ]
  },
  {
   "cell_type": "code",
   "execution_count": 18,
   "metadata": {},
   "outputs": [],
   "source": [
    "beta_0 <- matrix(c(0,0),nrow=2)"
   ]
  },
  {
   "cell_type": "code",
   "execution_count": 19,
   "metadata": {},
   "outputs": [],
   "source": [
    "beta_ast <- c(linear_model$coefficients[1],linear_model$coefficients[2])\n"
   ]
  },
  {
   "cell_type": "code",
   "execution_count": 20,
   "metadata": {},
   "outputs": [
    {
     "data": {
      "text/html": [
       "<dl class=dl-horizontal>\n",
       "\t<dt>(Intercept)</dt>\n",
       "\t\t<dd>1.56566282784822</dd>\n",
       "\t<dt>df$x</dt>\n",
       "\t\t<dd>-2.81058194144795</dd>\n",
       "</dl>\n"
      ],
      "text/latex": [
       "\\begin{description*}\n",
       "\\item[(Intercept)] 1.56566282784822\n",
       "\\item[df\\textbackslash{}\\$x] -2.81058194144795\n",
       "\\end{description*}\n"
      ],
      "text/markdown": [
       "(Intercept)\n",
       ":   1.56566282784822df$x\n",
       ":   -2.81058194144795\n",
       "\n"
      ],
      "text/plain": [
       "(Intercept)        df$x \n",
       "   1.565663   -2.810582 "
      ]
     },
     "metadata": {},
     "output_type": "display_data"
    }
   ],
   "source": [
    "beta_ast"
   ]
  },
  {
   "cell_type": "code",
   "execution_count": 21,
   "metadata": {},
   "outputs": [],
   "source": [
    "p_ast <- fo(beta_ast)"
   ]
  },
  {
   "cell_type": "code",
   "execution_count": 22,
   "metadata": {},
   "outputs": [
    {
     "data": {
      "text/html": [
       "11.1174998924303"
      ],
      "text/latex": [
       "11.1174998924303"
      ],
      "text/markdown": [
       "11.1174998924303"
      ],
      "text/plain": [
       "[1] 11.1175"
      ]
     },
     "metadata": {},
     "output_type": "display_data"
    }
   ],
   "source": [
    "p_ast"
   ]
  },
  {
   "cell_type": "code",
   "execution_count": 23,
   "metadata": {},
   "outputs": [],
   "source": [
    "tol <- 1e-8\n",
    "tol_backtracking <- 1e-14\n",
    "maxiter <- 30\n",
    "p_ast <- fo(beta_ast)\n"
   ]
  },
  {
   "cell_type": "code",
   "execution_count": 24,
   "metadata": {},
   "outputs": [
    {
     "name": "stdout",
     "output_type": "stream",
     "text": [
      "I    Normagf   Error x_ast   Error p_ast   line search\n",
      "1    7.73e+01   1.00e+00      1.24e+02      ---\n",
      "2    4.17e+01   5.17e-01      3.46e+01      0.0625\n",
      "3    2.41e+01   2.95e-01      1.14e+01      0.0625\n",
      "4    1.41e+01   1.73e-01      3.91e+00      0.0625\n",
      "5    8.27e+00   1.01e-01      1.35e+00      0.0625\n",
      "6    4.86e+00   5.95e-02      4.65e-01      0.0625\n",
      "7    2.85e+00   3.49e-02      1.60e-01      0.0625\n",
      "8    1.68e+00   2.05e-02      5.53e-02      0.0625\n",
      "9    9.84e-01   1.20e-02      1.91e-02      0.0625\n",
      "10    5.78e-01   7.07e-03      6.58e-03      0.0625\n",
      "11    3.39e-01   4.15e-03      2.27e-03      0.0625\n",
      "12    1.99e-01   2.44e-03      7.83e-04      0.0625\n",
      "13    1.17e-01   1.43e-03      2.70e-04      0.0625\n",
      "14    6.88e-02   8.42e-04      9.31e-05      0.0625\n",
      "15    4.04e-02   4.94e-04      3.21e-05      0.0625\n",
      "16    2.37e-02   2.90e-04      1.11e-05      0.0625\n",
      "17    1.39e-02   1.70e-04      3.82e-06      0.0625\n",
      "18    8.19e-03   1.00e-04      1.32e-06      0.0625\n",
      "19    4.81e-03   5.89e-05      4.56e-07      0.0625\n",
      "20    2.82e-03   3.46e-05      1.57e-07      0.0625\n",
      "21    1.65e-03   2.03e-05      5.41e-08      0.0625\n",
      "22    9.67e-04   1.18e-05      1.84e-08      0.0625\n",
      "23    5.69e-04   6.95e-06      6.35e-09      0.0625\n",
      "24    3.34e-04   4.11e-06      2.22e-09      0.0625\n",
      "25    1.95e-04   2.39e-06      7.51e-10      0.0625\n",
      "26    1.15e-04   1.40e-06      2.56e-10      0.0625\n",
      "27    6.98e-05   8.42e-07      9.32e-11      0.0625\n",
      "28    3.99e-05   5.13e-07      3.46e-11      0.0625\n",
      "29    2.45e-05   2.62e-07      9.00e-12      0.0625\n",
      "30    2.01e-06   3.49e-08      1.56e-13      0.03125\n",
      "Error of x with respect to x_ast: 3.49e-08\n",
      "Approximate solution:          [,1]\n",
      "[1,]  1.565663\n",
      "[2,] -2.810582\n"
     ]
    }
   ],
   "source": [
    "l<-gradient_descent(fo, beta_0, tol, tol_backtracking, beta_ast, p_ast, maxiter)"
   ]
  },
  {
   "cell_type": "code",
   "execution_count": 25,
   "metadata": {},
   "outputs": [],
   "source": [
    "beta <- l[[1]]\n",
    "total_of_iterations <- l[[2]]\n",
    "Err_plot <- l[[3]]\n",
    "beta_plot <- l[[4]]\n"
   ]
  },
  {
   "cell_type": "code",
   "execution_count": 26,
   "metadata": {},
   "outputs": [
    {
     "name": "stdout",
     "output_type": "stream",
     "text": [
      "          [,1]\n",
      "[1,]  1.565663\n",
      "[2,] -2.810582\n"
     ]
    }
   ],
   "source": [
    "print(beta)"
   ]
  },
  {
   "cell_type": "code",
   "execution_count": 27,
   "metadata": {},
   "outputs": [
    {
     "name": "stdout",
     "output_type": "stream",
     "text": [
      "(Intercept)        df$x \n",
      "   1.565663   -2.810582 \n"
     ]
    }
   ],
   "source": [
    "print(beta_ast)"
   ]
  },
  {
   "cell_type": "code",
   "execution_count": 28,
   "metadata": {},
   "outputs": [],
   "source": [
    "gg <- ggplot()"
   ]
  },
  {
   "cell_type": "code",
   "execution_count": 29,
   "metadata": {},
   "outputs": [
    {
     "data": {
      "image/png": "[encoded data removed]",
      "text/plain": [
       "plot without title"
      ]
     },
     "metadata": {
      "image/png": {
       "height": 420,
       "width": 420
      }
     },
     "output_type": "display_data"
    }
   ],
   "source": [
    "gg +\n",
    "geom_line(aes(x=25:total_of_iterations,y=Err_plot[25:length(Err_plot)])) + \n",
    "xlab('Iterations') + ylab(TeX('f_o(x^k)-p^*'))\n"
   ]
  },
  {
   "cell_type": "markdown",
   "metadata": {},
   "source": [
    "# Regularización"
   ]
  },
  {
   "cell_type": "markdown",
   "metadata": {},
   "source": [
    "Penalización lasso"
   ]
  },
  {
   "cell_type": "code",
   "execution_count": 30,
   "metadata": {},
   "outputs": [],
   "source": [
    "Hessian_evaluation<-function()1/mpoints*t(A)%*%A"
   ]
  },
  {
   "cell_type": "code",
   "execution_count": 31,
   "metadata": {},
   "outputs": [],
   "source": [
    "gf_evaluation<- function(beta) 1/mpoints * t(A)%*%(A%*%beta-y) + reg*sign(beta)"
   ]
  },
  {
   "cell_type": "markdown",
   "metadata": {},
   "source": [
    "**Coordinate descent**"
   ]
  },
  {
   "cell_type": "code",
   "execution_count": 32,
   "metadata": {},
   "outputs": [],
   "source": [
    "coordinate_descent<-function(f, x_0, tol, \n",
    "                        tol_backtracking, x_ast, p_ast, maxiter){\n",
    "    '\n",
    "    Method of coordinate descent to numerically approximate solution of min f.\n",
    "    Args:\n",
    "        f (expression): definition of function f.\n",
    "        x_0 (double): vector of initial point for coordinate descent method.\n",
    "        tol (float): tolerance that will halt method. Controls norm of gradient of f.\n",
    "        tol_backtracking (float): tolerance that will halt method. Controls value of line search by backtracking.\n",
    "        x_ast (double): vector solution of min f, now its required that user knows the solution...\n",
    "        p_ast (double): vector value of f(x_ast), now its required that user knows the solution...\n",
    "        maxiter (int): maximum number of iterations\n",
    "    Returns:\n",
    "        x (double): vector approximation of x_ast.\n",
    "        iteration (int): number of iterations.\n",
    "        Err_plot (double): vector array of absolute error between p_ast and f(x) with x approximation.\n",
    "                          of x_ast. Useful for plotting.\n",
    "        x_plot (double): vector array that containts in columns vector of approximations. Last column\n",
    "                        contains x, approximation of solution. Useful for plotting.\n",
    "    '\n",
    "    iteration <- 1\n",
    "    x <- x_0\n",
    "    \n",
    "    feval <- f(x)\n",
    "    gfeval <- gradient_approximation(f,x)\n",
    "\n",
    "    normgf <- Euclidian_norm(gfeval)\n",
    "    \n",
    "    Err_plot_aux <- vector(\"double\",maxiter)\n",
    "    Err_plot_aux[iteration] <- abs(feval-p_ast)\n",
    "    \n",
    "    Err <- compute_error(x_ast,x)\n",
    "    n <- length(x)\n",
    "    x_plot <- matrix(0,nrow=n,ncol=maxiter)\n",
    "    x_plot[,iteration] <- x\n",
    "    \n",
    "    cat(sprintf(\"I    Normagf   Error x_ast   Error p_ast   line search\\n\"))\n",
    "    cat(sprintf(\"%d    %.2e   %0.2e      %0.2e      %s\\n\",iteration,normgf,Err,Err_plot_aux[iteration],\"---\"))\n",
    "    iteration<-iteration + 1\n",
    "    while(normgf>tol && iteration <= maxiter){\n",
    "        ind_maximo <- which.max(abs(gfeval))\n",
    "        e_canonico <- vector(\"integer\",n)\n",
    "        e_canonico[ind_maximo] <- 1\n",
    "        dir_desc <- -gfeval[ind_maximo]*e_canonico\n",
    "        der_direct <- sum(gfeval*dir_desc)\n",
    "        t <- line_search_by_backtracking(f,dir_desc,x,der_direct)\n",
    "        x <- x + t*dir_desc\n",
    "        feval <- f(x)\n",
    "        gfeval <- gradient_approximation(f,x)\n",
    "        normgf <- Euclidian_norm(gfeval)\n",
    "        Err_plot_aux[iteration] <- abs(feval-p_ast);\n",
    "        x_plot[,iteration] <- x\n",
    "        Err <- compute_error(x_ast,x)\n",
    "        cat(sprintf(\"%d    %.2e   %0.2e      %0.2e      %s\\n\",iteration,normgf,Err,Err_plot_aux[iteration],t))\n",
    "        if (t<tol_backtracking){ #if t is less than tol_backtracking then we need to check the reason\n",
    "            iter_salida <- iteration\n",
    "            iteration <- maxiter\n",
    "        }\n",
    "        iteration <- iteration + 1\n",
    "    } #while\n",
    "    cat(sprintf(\"Error of x with respect to x_ast: %.2e\\n\",Err))\n",
    "    cat(sprintf(\"Approximate solution:\"))\n",
    "    print(x)\n",
    "    cond <- Err_plot_aux > .Machine$double.eps*10**(-2)\n",
    "    Err_plot = Err_plot_aux[cond]\n",
    "    cond<- apply(x_plot,2,function(x) all(x==0))\n",
    "    x_plot <- x_plot[,!cond]\n",
    "    if (iteration == maxiter && t < tol_backtracking){\n",
    "        print(\"Backtracking value less than tol_backtracking, check approximation\")\n",
    "        iteration<-iter_salida\n",
    "    }\n",
    "   list(x,iteration-1,Err_plot,x_plot)\n",
    "    \n",
    "}    "
   ]
  },
  {
   "cell_type": "markdown",
   "metadata": {},
   "source": [
    "**Newtons method**"
   ]
  },
  {
   "cell_type": "code",
   "execution_count": 33,
   "metadata": {},
   "outputs": [],
   "source": [
    "Newtons_method<-function(f, x_0, tol, \n",
    "                        tol_backtracking, x_ast, p_ast, maxiter){\n",
    "    '\n",
    "    Method of gradient descent to numerically approximate solution of min f.\n",
    "    Args:\n",
    "        f (expression): definition of function f.\n",
    "        x_0 (double): vector of initial point for gradient descent method.\n",
    "        tol (float): tolerance that will halt method. Controls norm of gradient of f.\n",
    "        tol_backtracking (float): tolerance that will halt method. Controls value of line search by backtracking.\n",
    "        x_ast (double): vector solution of min f, now its required that user knows the solution...\n",
    "        p_ast (double): vector value of f(x_ast), now its required that user knows the solution...\n",
    "        maxiter (int): maximum number of iterations\n",
    "    Returns:\n",
    "        x (double): vector approximation of x_ast.\n",
    "        iteration (int): number of iterations.\n",
    "        Err_plot (double): vector array of absolute error between p_ast and f(x) with x approximation.\n",
    "                          of x_ast. Useful for plotting.\n",
    "        x_plot (double): vector array that containts in columns vector of approximations. Last column\n",
    "                        contains x, approximation of solution. Useful for plotting.\n",
    "    '\n",
    "    iteration <- 1\n",
    "    x <- x_0\n",
    "    \n",
    "    feval <- f(x)\n",
    "    gfeval <- gradient_approximation(f,x)\n",
    "    Hfeval <- Hessian_approximation(f,x)\n",
    "    condHf <- kappa(Hfeval, exact=TRUE)\n",
    "    \n",
    "    normgf <- Euclidian_norm(gfeval)\n",
    "    \n",
    "    Err_plot_aux <- vector(\"double\",maxiter)\n",
    "    Err_plot_aux[iteration] <- abs(feval-p_ast)\n",
    "    \n",
    "    Err <- compute_error(x_ast,x)\n",
    "    n <- length(x)\n",
    "    x_plot <- matrix(0,nrow=n,ncol=maxiter)\n",
    "    x_plot[,iteration] <- x\n",
    "    \n",
    "    #Newton's direction and Newton's decrement\n",
    "    dir_Newton <- solve(Hfeval, gfeval)\n",
    "    dec_Newton <- sum(dir_Newton*(Hfeval%*%dir_Newton))\n",
    "    dir_Newton <- -dir_Newton\n",
    "    \n",
    "    cat(sprintf(\"I    Normagf   Error x_ast   Error p_ast   line search    condHf\\n\"))\n",
    "    cat(sprintf(\"%d    %.2e   %0.2e      %0.2e      %s\\n\",iteration,normgf,Err,Err_plot_aux[iteration],\"---\", condHf))\n",
    "    \n",
    "    stopping_criteria <- dec_Newton/2\n",
    "    iteration<-iteration + 1\n",
    "    while(stopping_criteria>tol && iteration <= maxiter){\n",
    "        der_direct <- -dec_Newton\n",
    "        t <- line_search_by_backtracking(f,dir_Newton,x,der_direct)\n",
    "        x <- x + t*dir_Newton\n",
    "        feval <- f(x)\n",
    "        gfeval <- gradient_approximation(f,x)\n",
    "        Hfeval <- Hessian_approximation(f,x)\n",
    "        normgf <- Euclidian_norm(gfeval)\n",
    "        condHf <- kappa(Hfeval, exact=TRUE)\n",
    "        #Newton's direction and Newton's decrement\n",
    "        dir_Newton = solve(Hfeval, gfeval)\n",
    "        dec_Newton = sum(dir_Newton*(Hfeval%*%dir_Newton))\n",
    "        dir_Newton <- -dir_Newton\n",
    "        Err_plot_aux[iteration] <- abs(feval-p_ast);\n",
    "        x_plot[,iteration] <- x\n",
    "        Err <- compute_error(x_ast,x)\n",
    "        cat(sprintf(\"%d    %.2e   %0.2e      %0.2e      %0.2e    %0.2e\\n\",iteration,normgf,Err,Err_plot_aux[iteration],t,condHf))\n",
    "        stopping_criteria = dec_Newton/2\n",
    "        if (t<tol_backtracking){ #if t is less than tol_backtracking then we need to check the reason\n",
    "            iter_salida <- iteration\n",
    "            iteration <- maxiter\n",
    "        }\n",
    "        iteration <- iteration + 1\n",
    "    } #while\n",
    "    cat(sprintf(\"Error of x with respect to x_ast: %.2e\\n\",Err))\n",
    "    cat(sprintf(\"Approximate solution:\"))\n",
    "    print(x)\n",
    "    cond <- Err_plot_aux > .Machine$double.eps*10**(-2)\n",
    "    Err_plot = Err_plot_aux[cond]\n",
    "    cond<- apply(x_plot,2,function(x) all(x==0))\n",
    "    x_plot <- x_plot[,!cond]\n",
    "    if (iteration == maxiter && t < tol_backtracking){\n",
    "        print(\"Backtracking value less than tol_backtracking, check approximation\")\n",
    "        iteration<-iter_salida\n",
    "    }\n",
    "   list(x,iteration-1,Err_plot,x_plot)\n",
    "    \n",
    "}    "
   ]
  },
  {
   "cell_type": "code",
   "execution_count": 34,
   "metadata": {},
   "outputs": [],
   "source": [
    "reg<-.5"
   ]
  },
  {
   "cell_type": "code",
   "execution_count": 35,
   "metadata": {},
   "outputs": [],
   "source": [
    "quita_signo<-function(beta){\n",
    "    beta<-sign(beta)*beta\n",
    "    ind <- beta < .Machine$double.xmin & beta > -.Machine$double.xmin \n",
    "    beta[ind] <- .Machine$double.xmin \n",
    "    beta\n",
    "    }"
   ]
  },
  {
   "cell_type": "code",
   "execution_count": 36,
   "metadata": {},
   "outputs": [],
   "source": [
    "fo <-function(beta)1/mpoints*(1/2*cte - sum(beta*(t(A)%*%y)) + 1/2*sum(beta*(t(A)%*%(A%*%beta)))) + reg*sum(quita_signo(beta))\n"
   ]
  },
  {
   "cell_type": "code",
   "execution_count": 37,
   "metadata": {},
   "outputs": [],
   "source": [
    "fo <-function(beta)1/mpoints*(1/2*cte - sum(beta*(t(A)%*%y)) + 1/2*sum(beta*(t(A)%*%(A%*%beta)))) + reg*sum(quita_signo(beta[2:length(beta)]))\n"
   ]
  },
  {
   "cell_type": "code",
   "execution_count": 38,
   "metadata": {},
   "outputs": [],
   "source": [
    "beta_0<-c(0,2)"
   ]
  },
  {
   "cell_type": "code",
   "execution_count": 39,
   "metadata": {},
   "outputs": [
    {
     "data": {
      "text/html": [
       "<table>\n",
       "<caption>A matrix: 2 × 1 of type dbl</caption>\n",
       "<tbody>\n",
       "\t<tr><td>-1.507055</td></tr>\n",
       "\t<tr><td> 6.587020</td></tr>\n",
       "</tbody>\n",
       "</table>\n"
      ],
      "text/latex": [
       "A matrix: 2 × 1 of type dbl\n",
       "\\begin{tabular}{l}\n",
       "\t -1.507055\\\\\n",
       "\t  6.587020\\\\\n",
       "\\end{tabular}\n"
      ],
      "text/markdown": [
       "\n",
       "A matrix: 2 × 1 of type dbl\n",
       "\n",
       "| -1.507055 |\n",
       "|  6.587020 |\n",
       "\n"
      ],
      "text/plain": [
       "     [,1]     \n",
       "[1,] -1.507055\n",
       "[2,]  6.587020"
      ]
     },
     "metadata": {},
     "output_type": "display_data"
    }
   ],
   "source": [
    "gf_evaluation(beta_0)"
   ]
  },
  {
   "cell_type": "code",
   "execution_count": 40,
   "metadata": {},
   "outputs": [
    {
     "data": {
      "text/html": [
       "<ol class=list-inline>\n",
       "\t<li>-1.50705474766255</li>\n",
       "\t<li>6.58701964084685</li>\n",
       "</ol>\n"
      ],
      "text/latex": [
       "\\begin{enumerate*}\n",
       "\\item -1.50705474766255\n",
       "\\item 6.58701964084685\n",
       "\\end{enumerate*}\n"
      ],
      "text/markdown": [
       "1. -1.50705474766255\n",
       "2. 6.58701964084685\n",
       "\n",
       "\n"
      ],
      "text/plain": [
       "[1] -1.507055  6.587020"
      ]
     },
     "metadata": {},
     "output_type": "display_data"
    }
   ],
   "source": [
    "gradient_approximation(fo,beta_0)"
   ]
  },
  {
   "cell_type": "code",
   "execution_count": 41,
   "metadata": {},
   "outputs": [],
   "source": [
    "beta_0 <- matrix(c(0,0),nrow=2)"
   ]
  },
  {
   "cell_type": "code",
   "execution_count": 42,
   "metadata": {},
   "outputs": [
    {
     "data": {
      "text/html": [
       "<ol class=list-inline>\n",
       "\t<li>-1.53142094561076</li>\n",
       "\t<li>4.04841022927371</li>\n",
       "</ol>\n"
      ],
      "text/latex": [
       "\\begin{enumerate*}\n",
       "\\item -1.53142094561076\n",
       "\\item 4.04841022927371\n",
       "\\end{enumerate*}\n"
      ],
      "text/markdown": [
       "1. -1.53142094561076\n",
       "2. 4.04841022927371\n",
       "\n",
       "\n"
      ],
      "text/plain": [
       "[1] -1.531421  4.048410"
      ]
     },
     "metadata": {},
     "output_type": "display_data"
    }
   ],
   "source": [
    "gradient_approximation(fo,beta_0)"
   ]
  },
  {
   "cell_type": "code",
   "execution_count": 43,
   "metadata": {},
   "outputs": [
    {
     "data": {
      "text/html": [
       "<table>\n",
       "<caption>A matrix: 2 × 1 of type dbl</caption>\n",
       "<tbody>\n",
       "\t<tr><td>-1.531421</td></tr>\n",
       "\t<tr><td> 3.548410</td></tr>\n",
       "</tbody>\n",
       "</table>\n"
      ],
      "text/latex": [
       "A matrix: 2 × 1 of type dbl\n",
       "\\begin{tabular}{l}\n",
       "\t -1.531421\\\\\n",
       "\t  3.548410\\\\\n",
       "\\end{tabular}\n"
      ],
      "text/markdown": [
       "\n",
       "A matrix: 2 × 1 of type dbl\n",
       "\n",
       "| -1.531421 |\n",
       "|  3.548410 |\n",
       "\n"
      ],
      "text/plain": [
       "     [,1]     \n",
       "[1,] -1.531421\n",
       "[2,]  3.548410"
      ]
     },
     "metadata": {},
     "output_type": "display_data"
    }
   ],
   "source": [
    "gf_evaluation(beta_0)"
   ]
  },
  {
   "cell_type": "code",
   "execution_count": 44,
   "metadata": {},
   "outputs": [],
   "source": [
    "fit <- glmnet(A,y,alpha=1,lambda=reg,standardize=F,nlambda=1,thresh=1e-8)"
   ]
  },
  {
   "cell_type": "code",
   "execution_count": 45,
   "metadata": {},
   "outputs": [
    {
     "name": "stdout",
     "output_type": "stream",
     "text": [
      "          s0\n",
      "V1  0.000000\n",
      "V2 -2.416619\n"
     ]
    }
   ],
   "source": [
    "print(as.matrix(fit$beta))"
   ]
  },
  {
   "cell_type": "code",
   "execution_count": 46,
   "metadata": {},
   "outputs": [],
   "source": [
    "beta_ast <- as.matrix(fit$beta)\n"
   ]
  },
  {
   "cell_type": "code",
   "execution_count": 47,
   "metadata": {},
   "outputs": [
    {
     "data": {
      "text/html": [
       "<table>\n",
       "<caption>A matrix: 2 × 1 of type dbl</caption>\n",
       "<thead>\n",
       "\t<tr><th></th><th scope=col>s0</th></tr>\n",
       "</thead>\n",
       "<tbody>\n",
       "\t<tr><th scope=row>V1</th><td> 0.000000</td></tr>\n",
       "\t<tr><th scope=row>V2</th><td>-2.416619</td></tr>\n",
       "</tbody>\n",
       "</table>\n"
      ],
      "text/latex": [
       "A matrix: 2 × 1 of type dbl\n",
       "\\begin{tabular}{r|l}\n",
       "  & s0\\\\\n",
       "\\hline\n",
       "\tV1 &  0.000000\\\\\n",
       "\tV2 & -2.416619\\\\\n",
       "\\end{tabular}\n"
      ],
      "text/markdown": [
       "\n",
       "A matrix: 2 × 1 of type dbl\n",
       "\n",
       "| <!--/--> | s0 |\n",
       "|---|---|\n",
       "| V1 |  0.000000 |\n",
       "| V2 | -2.416619 |\n",
       "\n"
      ],
      "text/plain": [
       "   s0       \n",
       "V1  0.000000\n",
       "V2 -2.416619"
      ]
     },
     "metadata": {},
     "output_type": "display_data"
    }
   ],
   "source": [
    "beta_ast"
   ]
  },
  {
   "cell_type": "code",
   "execution_count": 48,
   "metadata": {},
   "outputs": [],
   "source": [
    "p_ast <- fo(beta_ast)"
   ]
  },
  {
   "cell_type": "code",
   "execution_count": 49,
   "metadata": {},
   "outputs": [
    {
     "data": {
      "text/html": [
       "3.08082216571328"
      ],
      "text/latex": [
       "3.08082216571328"
      ],
      "text/markdown": [
       "3.08082216571328"
      ],
      "text/plain": [
       "[1] 3.080822"
      ]
     },
     "metadata": {},
     "output_type": "display_data"
    }
   ],
   "source": [
    "p_ast"
   ]
  },
  {
   "cell_type": "code",
   "execution_count": 50,
   "metadata": {},
   "outputs": [],
   "source": [
    "beta_0<-c(0,0)"
   ]
  },
  {
   "cell_type": "code",
   "execution_count": 51,
   "metadata": {},
   "outputs": [],
   "source": [
    "tol <- 1e-8\n",
    "tol_backtracking <- 1e-14\n",
    "maxiter <- 30\n",
    "p_ast <- fo(beta_ast)\n"
   ]
  },
  {
   "cell_type": "code",
   "execution_count": 52,
   "metadata": {},
   "outputs": [
    {
     "data": {
      "text/html": [
       "<table>\n",
       "<caption>A matrix: 2 × 2 of type dbl</caption>\n",
       "<tbody>\n",
       "\t<tr><td>0.99831254</td><td>0.01065814</td></tr>\n",
       "\t<tr><td>0.01065814</td><td>1.26831878</td></tr>\n",
       "</tbody>\n",
       "</table>\n"
      ],
      "text/latex": [
       "A matrix: 2 × 2 of type dbl\n",
       "\\begin{tabular}{ll}\n",
       "\t 0.99831254 & 0.01065814\\\\\n",
       "\t 0.01065814 & 1.26831878\\\\\n",
       "\\end{tabular}\n"
      ],
      "text/markdown": [
       "\n",
       "A matrix: 2 × 2 of type dbl\n",
       "\n",
       "| 0.99831254 | 0.01065814 |\n",
       "| 0.01065814 | 1.26831878 |\n",
       "\n"
      ],
      "text/plain": [
       "     [,1]       [,2]      \n",
       "[1,] 0.99831254 0.01065814\n",
       "[2,] 0.01065814 1.26831878"
      ]
     },
     "metadata": {},
     "output_type": "display_data"
    }
   ],
   "source": [
    "Hessian_approximation(fo,beta_0)"
   ]
  },
  {
   "cell_type": "code",
   "execution_count": 53,
   "metadata": {},
   "outputs": [
    {
     "data": {
      "text/html": [
       "<table>\n",
       "<caption>A matrix: 2 × 2 of type dbl</caption>\n",
       "<tbody>\n",
       "\t<tr><td>1.00000000</td><td>0.01218318</td></tr>\n",
       "\t<tr><td>0.01218318</td><td>1.26930474</td></tr>\n",
       "</tbody>\n",
       "</table>\n"
      ],
      "text/latex": [
       "A matrix: 2 × 2 of type dbl\n",
       "\\begin{tabular}{ll}\n",
       "\t 1.00000000 & 0.01218318\\\\\n",
       "\t 0.01218318 & 1.26930474\\\\\n",
       "\\end{tabular}\n"
      ],
      "text/markdown": [
       "\n",
       "A matrix: 2 × 2 of type dbl\n",
       "\n",
       "| 1.00000000 | 0.01218318 |\n",
       "| 0.01218318 | 1.26930474 |\n",
       "\n"
      ],
      "text/plain": [
       "     [,1]       [,2]      \n",
       "[1,] 1.00000000 0.01218318\n",
       "[2,] 0.01218318 1.26930474"
      ]
     },
     "metadata": {},
     "output_type": "display_data"
    }
   ],
   "source": [
    "Hessian_evaluation()"
   ]
  },
  {
   "cell_type": "code",
   "execution_count": 54,
   "metadata": {},
   "outputs": [
    {
     "name": "stdout",
     "output_type": "stream",
     "text": [
      "I    Normagf   Error x_ast   Error p_ast   line search\n",
      "1    4.33e+00   1.00e+00      3.66e+00      ---\n",
      "2    1.63e+00   1.62e-01      9.03e-02      0.5\n",
      "3    4.98e-01   6.64e-01      1.12e+00      1\n",
      "4    1.34e-01   6.45e-01      1.21e+00      1\n",
      "5    3.64e-02   6.44e-01      1.22e+00      1\n",
      "6    1.09e-02   6.44e-01      1.22e+00      1\n",
      "7    5.43e-03   6.44e-01      1.22e+00      1\n",
      "8    2.68e-03   6.46e-01      1.22e+00      1\n",
      "9    7.22e-04   6.46e-01      1.22e+00      1\n",
      "10    1.95e-04   6.46e-01      1.22e+00      1\n",
      "11    5.82e-05   6.46e-01      1.22e+00      1\n",
      "12    2.91e-05   6.46e-01      1.22e+00      1\n",
      "13    1.42e-05   6.46e-01      1.22e+00      1\n",
      "14    3.71e-06   6.46e-01      1.22e+00      1\n",
      "15    9.77e-07   6.46e-01      1.22e+00      1\n",
      "16    4.92e-07   6.46e-01      1.22e+00      1\n",
      "17    2.66e-07   6.46e-01      1.22e+00      1\n",
      "18    7.02e-08   6.46e-01      1.22e+00      1\n",
      "19    2.78e-07   6.46e-01      1.22e+00      1\n",
      "20    2.66e-07   6.46e-01      1.22e+00      0.5\n",
      "21    1.78e-07   6.46e-01      1.22e+00      0.00390625\n",
      "22    2.53e-07   6.46e-01      1.22e+00      0.0078125\n",
      "23    2.53e-07   6.46e-01      1.22e+00      9.31322574615479e-10\n",
      "24    2.53e-07   6.46e-01      1.22e+00      9.31322574615479e-10\n",
      "25    2.53e-07   6.46e-01      1.22e+00      9.31322574615479e-10\n",
      "26    2.53e-07   6.46e-01      1.22e+00      9.31322574615479e-10\n",
      "27    2.53e-07   6.46e-01      1.22e+00      9.31322574615479e-10\n",
      "28    2.53e-07   6.46e-01      1.22e+00      9.31322574615479e-10\n",
      "29    2.53e-07   6.46e-01      1.22e+00      9.31322574615479e-10\n",
      "30    2.53e-07   6.46e-01      1.22e+00      9.31322574615479e-10\n",
      "Error of x with respect to x_ast: 6.46e-01\n",
      "Approximate solution:[1]  1.560863 -2.416619\n"
     ]
    }
   ],
   "source": [
    "l<-coordinate_descent(fo, beta_0, tol, tol_backtracking, beta_ast, p_ast, maxiter)"
   ]
  },
  {
   "cell_type": "code",
   "execution_count": 55,
   "metadata": {},
   "outputs": [],
   "source": [
    "beta <- l[[1]]\n",
    "total_of_iterations <- l[[2]]\n",
    "Err_plot <- l[[3]]\n",
    "beta_plot <- l[[4]]\n"
   ]
  },
  {
   "cell_type": "code",
   "execution_count": 56,
   "metadata": {},
   "outputs": [
    {
     "name": "stdout",
     "output_type": "stream",
     "text": [
      "[1]  1.560863 -2.416619\n"
     ]
    }
   ],
   "source": [
    "print(beta)"
   ]
  },
  {
   "cell_type": "code",
   "execution_count": 57,
   "metadata": {},
   "outputs": [
    {
     "name": "stdout",
     "output_type": "stream",
     "text": [
      "          s0\n",
      "V1  0.000000\n",
      "V2 -2.416619\n"
     ]
    }
   ],
   "source": [
    "print(beta_ast)"
   ]
  },
  {
   "cell_type": "code",
   "execution_count": 58,
   "metadata": {},
   "outputs": [
    {
     "data": {
      "text/html": [
       "1.86267533861601"
      ],
      "text/latex": [
       "1.86267533861601"
      ],
      "text/markdown": [
       "1.86267533861601"
      ],
      "text/plain": [
       "[1] 1.862675"
      ]
     },
     "metadata": {},
     "output_type": "display_data"
    }
   ],
   "source": [
    "fo(beta)"
   ]
  },
  {
   "cell_type": "code",
   "execution_count": 59,
   "metadata": {},
   "outputs": [
    {
     "data": {
      "text/html": [
       "<table>\n",
       "<caption>A matrix: 2 × 29 of type dbl</caption>\n",
       "<tbody>\n",
       "\t<tr><td> 0.000000</td><td> 1.556082</td><td> 1.556082</td><td> 1.556082</td><td> 1.556082</td><td> 1.556082</td><td> 1.560837</td><td> 1.560837</td><td> 1.560837</td><td> 1.560837</td><td>⋯</td><td> 1.560863</td><td> 1.560863</td><td> 1.560863</td><td> 1.560863</td><td> 1.560863</td><td> 1.560863</td><td> 1.560863</td><td> 1.560863</td><td> 1.560863</td><td> 1.560863</td></tr>\n",
       "\t<tr><td>-2.024205</td><td>-2.024205</td><td>-2.522240</td><td>-2.388117</td><td>-2.424237</td><td>-2.414510</td><td>-2.414510</td><td>-2.417187</td><td>-2.416466</td><td>-2.416660</td><td>⋯</td><td>-2.416619</td><td>-2.416619</td><td>-2.416619</td><td>-2.416619</td><td>-2.416619</td><td>-2.416619</td><td>-2.416619</td><td>-2.416619</td><td>-2.416619</td><td>-2.416619</td></tr>\n",
       "</tbody>\n",
       "</table>\n"
      ],
      "text/latex": [
       "A matrix: 2 × 29 of type dbl\n",
       "\\begin{tabular}{lllllllllllllllllllll}\n",
       "\t  0.000000 &  1.556082 &  1.556082 &  1.556082 &  1.556082 &  1.556082 &  1.560837 &  1.560837 &  1.560837 &  1.560837 & ⋯ &  1.560863 &  1.560863 &  1.560863 &  1.560863 &  1.560863 &  1.560863 &  1.560863 &  1.560863 &  1.560863 &  1.560863\\\\\n",
       "\t -2.024205 & -2.024205 & -2.522240 & -2.388117 & -2.424237 & -2.414510 & -2.414510 & -2.417187 & -2.416466 & -2.416660 & ⋯ & -2.416619 & -2.416619 & -2.416619 & -2.416619 & -2.416619 & -2.416619 & -2.416619 & -2.416619 & -2.416619 & -2.416619\\\\\n",
       "\\end{tabular}\n"
      ],
      "text/markdown": [
       "\n",
       "A matrix: 2 × 29 of type dbl\n",
       "\n",
       "|  0.000000 |  1.556082 |  1.556082 |  1.556082 |  1.556082 |  1.556082 |  1.560837 |  1.560837 |  1.560837 |  1.560837 | ⋯ |  1.560863 |  1.560863 |  1.560863 |  1.560863 |  1.560863 |  1.560863 |  1.560863 |  1.560863 |  1.560863 |  1.560863 |\n",
       "| -2.024205 | -2.024205 | -2.522240 | -2.388117 | -2.424237 | -2.414510 | -2.414510 | -2.417187 | -2.416466 | -2.416660 | ⋯ | -2.416619 | -2.416619 | -2.416619 | -2.416619 | -2.416619 | -2.416619 | -2.416619 | -2.416619 | -2.416619 | -2.416619 |\n",
       "\n"
      ],
      "text/plain": [
       "     [,1]      [,2]      [,3]      [,4]      [,5]      [,6]      [,7]     \n",
       "[1,]  0.000000  1.556082  1.556082  1.556082  1.556082  1.556082  1.560837\n",
       "[2,] -2.024205 -2.024205 -2.522240 -2.388117 -2.424237 -2.414510 -2.414510\n",
       "     [,8]      [,9]      [,10]     [,11] [,12]     [,13]     [,14]    \n",
       "[1,]  1.560837  1.560837  1.560837 ⋯      1.560863  1.560863  1.560863\n",
       "[2,] -2.417187 -2.416466 -2.416660 ⋯     -2.416619 -2.416619 -2.416619\n",
       "     [,15]     [,16]     [,17]     [,18]     [,19]     [,20]     [,21]    \n",
       "[1,]  1.560863  1.560863  1.560863  1.560863  1.560863  1.560863  1.560863\n",
       "[2,] -2.416619 -2.416619 -2.416619 -2.416619 -2.416619 -2.416619 -2.416619"
      ]
     },
     "metadata": {},
     "output_type": "display_data"
    }
   ],
   "source": [
    "beta_plot"
   ]
  },
  {
   "cell_type": "code",
   "execution_count": 60,
   "metadata": {},
   "outputs": [
    {
     "data": {
      "image/png": "[encoded data removed]",
      "text/plain": [
       "plot without title"
      ]
     },
     "metadata": {
      "image/png": {
       "height": 420,
       "width": 420
      }
     },
     "output_type": "display_data"
    }
   ],
   "source": [
    "gg +\n",
    "geom_point(aes(x=beta_plot[1,],y=beta_plot[2,]),size=2) +\n",
    "#annotate(geom='text', x=0.5, y=0.47, \n",
    "#         label=TeX(\"x^{(0)}\", output='character'), parse=TRUE) + \n",
    "xlab('x') + ylab('y') + \n",
    "ggtitle(TeX('Iter del método de descenso en gradiente para $f_o$'))"
   ]
  },
  {
   "cell_type": "code",
   "execution_count": 61,
   "metadata": {},
   "outputs": [
    {
     "name": "stdout",
     "output_type": "stream",
     "text": [
      "I    Normagf   Error x_ast   Error p_ast   line search    condHf\n",
      "1    4.33e+00   1.00e+00      3.66e+00      ---\n",
      "2    1.00e+00   7.26e-01      8.24e-01      1.00e+00    1.27e+00\n",
      "3    3.68e-03   6.46e-01      1.22e+00      1.00e+00    1.27e+00\n",
      "4    2.53e-07   6.46e-01      1.22e+00      1.00e+00    1.27e+00\n",
      "Error of x with respect to x_ast: 6.46e-01\n",
      "Approximate solution:[1]  1.560863 -2.416620\n"
     ]
    }
   ],
   "source": [
    "l<-Newtons_method(fo, beta_0, tol, tol_backtracking, beta_ast, p_ast, maxiter)"
   ]
  },
  {
   "cell_type": "code",
   "execution_count": 62,
   "metadata": {},
   "outputs": [],
   "source": [
    "beta <- l[[1]]\n",
    "total_of_iterations <- l[[2]]\n",
    "Err_plot <- l[[3]]\n",
    "beta_plot <- l[[4]]\n"
   ]
  },
  {
   "cell_type": "code",
   "execution_count": 63,
   "metadata": {},
   "outputs": [
    {
     "name": "stdout",
     "output_type": "stream",
     "text": [
      "[1]  1.560863 -2.416620\n"
     ]
    }
   ],
   "source": [
    "print(beta)"
   ]
  },
  {
   "cell_type": "code",
   "execution_count": 64,
   "metadata": {},
   "outputs": [
    {
     "name": "stdout",
     "output_type": "stream",
     "text": [
      "          s0\n",
      "V1  0.000000\n",
      "V2 -2.416619\n"
     ]
    }
   ],
   "source": [
    "print(beta_ast)"
   ]
  },
  {
   "cell_type": "code",
   "execution_count": 65,
   "metadata": {},
   "outputs": [
    {
     "data": {
      "text/html": [
       "1.86267533861606"
      ],
      "text/latex": [
       "1.86267533861606"
      ],
      "text/markdown": [
       "1.86267533861606"
      ],
      "text/plain": [
       "[1] 1.862675"
      ]
     },
     "metadata": {},
     "output_type": "display_data"
    }
   ],
   "source": [
    "fo(beta)"
   ]
  },
  {
   "cell_type": "code",
   "execution_count": 66,
   "metadata": {},
   "outputs": [
    {
     "data": {
      "text/html": [
       "<table>\n",
       "<caption>A matrix: 2 × 3 of type dbl</caption>\n",
       "<tbody>\n",
       "\t<tr><td> 1.568228</td><td> 1.561673</td><td> 1.560863</td></tr>\n",
       "\t<tr><td>-3.205128</td><td>-2.413804</td><td>-2.416620</td></tr>\n",
       "</tbody>\n",
       "</table>\n"
      ],
      "text/latex": [
       "A matrix: 2 × 3 of type dbl\n",
       "\\begin{tabular}{lll}\n",
       "\t  1.568228 &  1.561673 &  1.560863\\\\\n",
       "\t -3.205128 & -2.413804 & -2.416620\\\\\n",
       "\\end{tabular}\n"
      ],
      "text/markdown": [
       "\n",
       "A matrix: 2 × 3 of type dbl\n",
       "\n",
       "|  1.568228 |  1.561673 |  1.560863 |\n",
       "| -3.205128 | -2.413804 | -2.416620 |\n",
       "\n"
      ],
      "text/plain": [
       "     [,1]      [,2]      [,3]     \n",
       "[1,]  1.568228  1.561673  1.560863\n",
       "[2,] -3.205128 -2.413804 -2.416620"
      ]
     },
     "metadata": {},
     "output_type": "display_data"
    }
   ],
   "source": [
    "beta_plot"
   ]
  },
  {
   "cell_type": "code",
   "execution_count": 67,
   "metadata": {},
   "outputs": [
    {
     "data": {
      "image/png": "[encoded data removed]",
      "text/plain": [
       "plot without title"
      ]
     },
     "metadata": {
      "image/png": {
       "height": 420,
       "width": 420
      }
     },
     "output_type": "display_data"
    }
   ],
   "source": [
    "gg +\n",
    "geom_point(aes(x=beta_plot[1,],y=beta_plot[2,]),size=2) +\n",
    "#annotate(geom='text', x=0.5, y=0.47, \n",
    "#         label=TeX(\"x^{(0)}\", output='character'), parse=TRUE) + \n",
    "xlab('x') + ylab('y') + \n",
    "ggtitle(TeX('Iter del método de descenso en gradiente para $f_o$'))"
   ]
  },
  {
   "cell_type": "markdown",
   "metadata": {},
   "source": [
    "Modelo sin intercepto"
   ]
  },
  {
   "cell_type": "code",
   "execution_count": 68,
   "metadata": {},
   "outputs": [],
   "source": [
    "y <- mtcars %>% select(mpg) %>% as.matrix()\n",
    "X <- mtcars %>% select(-mpg) %>% as.matrix()"
   ]
  },
  {
   "cell_type": "code",
   "execution_count": 69,
   "metadata": {},
   "outputs": [],
   "source": [
    "A<-X[,c(2,4)]"
   ]
  },
  {
   "cell_type": "code",
   "execution_count": 70,
   "metadata": {},
   "outputs": [],
   "source": [
    "cte <- sum(y*y)\n",
    "mpoints<-nrow(A)"
   ]
  },
  {
   "cell_type": "code",
   "execution_count": 71,
   "metadata": {},
   "outputs": [
    {
     "data": {
      "text/html": [
       "14042.31"
      ],
      "text/latex": [
       "14042.31"
      ],
      "text/markdown": [
       "14042.31"
      ],
      "text/plain": [
       "[1] 14042.31"
      ]
     },
     "metadata": {},
     "output_type": "display_data"
    }
   ],
   "source": [
    "cte"
   ]
  },
  {
   "cell_type": "code",
   "execution_count": 72,
   "metadata": {},
   "outputs": [
    {
     "data": {
      "text/html": [
       "32"
      ],
      "text/latex": [
       "32"
      ],
      "text/markdown": [
       "32"
      ],
      "text/plain": [
       "[1] 32"
      ]
     },
     "metadata": {},
     "output_type": "display_data"
    }
   ],
   "source": [
    "mpoints"
   ]
  },
  {
   "cell_type": "code",
   "execution_count": 73,
   "metadata": {},
   "outputs": [],
   "source": [
    "fo <-function(beta)1/mpoints*(1/2*cte - sum(beta*(t(A)%*%y)) + 1/2*sum(beta*(t(A)%*%(A%*%beta)))) + reg*sum(quita_signo(beta))\n"
   ]
  },
  {
   "cell_type": "code",
   "execution_count": 74,
   "metadata": {},
   "outputs": [],
   "source": [
    "fit <- glmnet(A,y,alpha=1,lambda=reg,standardize=F,nlambda=1,intercept=F,thresh=1e-8)"
   ]
  },
  {
   "cell_type": "code",
   "execution_count": 75,
   "metadata": {},
   "outputs": [],
   "source": [
    "beta_ast <- as.matrix(fit$beta)\n"
   ]
  },
  {
   "cell_type": "code",
   "execution_count": 76,
   "metadata": {},
   "outputs": [
    {
     "name": "stdout",
     "output_type": "stream",
     "text": [
      "              s0\n",
      "disp -0.01682177\n",
      "drat  6.59053287\n"
     ]
    }
   ],
   "source": [
    "print(beta_ast)"
   ]
  },
  {
   "cell_type": "code",
   "execution_count": 77,
   "metadata": {},
   "outputs": [],
   "source": [
    "beta_0<-c(1,1)"
   ]
  },
  {
   "cell_type": "markdown",
   "metadata": {},
   "source": [
    "**Newtons method**"
   ]
  },
  {
   "cell_type": "code",
   "execution_count": 78,
   "metadata": {},
   "outputs": [
    {
     "data": {
      "text/html": [
       "<ol class=list-inline>\n",
       "\t<li>64876.0375042912</li>\n",
       "\t<li>723.540870239958</li>\n",
       "</ol>\n"
      ],
      "text/latex": [
       "\\begin{enumerate*}\n",
       "\\item 64876.0375042912\n",
       "\\item 723.540870239958\n",
       "\\end{enumerate*}\n"
      ],
      "text/markdown": [
       "1. 64876.0375042912\n",
       "2. 723.540870239958\n",
       "\n",
       "\n"
      ],
      "text/plain": [
       "[1] 64876.0375   723.5409"
      ]
     },
     "metadata": {},
     "output_type": "display_data"
    }
   ],
   "source": [
    "gradient_approximation(fo,beta_0)"
   ]
  },
  {
   "cell_type": "code",
   "execution_count": 79,
   "metadata": {},
   "outputs": [
    {
     "data": {
      "text/html": [
       "<table>\n",
       "<caption>A matrix: 2 × 1 of type dbl</caption>\n",
       "<tbody>\n",
       "\t<tr><th scope=row>disp</th><td>64876.0371</td></tr>\n",
       "\t<tr><th scope=row>drat</th><td>  723.5409</td></tr>\n",
       "</tbody>\n",
       "</table>\n"
      ],
      "text/latex": [
       "A matrix: 2 × 1 of type dbl\n",
       "\\begin{tabular}{r|l}\n",
       "\tdisp & 64876.0371\\\\\n",
       "\tdrat &   723.5409\\\\\n",
       "\\end{tabular}\n"
      ],
      "text/markdown": [
       "\n",
       "A matrix: 2 × 1 of type dbl\n",
       "\n",
       "| disp | 64876.0371 |\n",
       "| drat |   723.5409 |\n",
       "\n"
      ],
      "text/plain": [
       "     [,1]      \n",
       "disp 64876.0371\n",
       "drat   723.5409"
      ]
     },
     "metadata": {},
     "output_type": "display_data"
    }
   ],
   "source": [
    "gf_evaluation(beta_0)"
   ]
  },
  {
   "cell_type": "code",
   "execution_count": 80,
   "metadata": {},
   "outputs": [
    {
     "data": {
      "text/html": [
       "<table>\n",
       "<caption>A matrix: 2 × 2 of type dbl</caption>\n",
       "<tbody>\n",
       "\t<tr><td>68106.6012</td><td>774.889486</td></tr>\n",
       "\t<tr><td>  774.8895</td><td>  3.637979</td></tr>\n",
       "</tbody>\n",
       "</table>\n"
      ],
      "text/latex": [
       "A matrix: 2 × 2 of type dbl\n",
       "\\begin{tabular}{ll}\n",
       "\t 68106.6012 & 774.889486\\\\\n",
       "\t   774.8895 &   3.637979\\\\\n",
       "\\end{tabular}\n"
      ],
      "text/markdown": [
       "\n",
       "A matrix: 2 × 2 of type dbl\n",
       "\n",
       "| 68106.6012 | 774.889486 |\n",
       "|   774.8895 |   3.637979 |\n",
       "\n"
      ],
      "text/plain": [
       "     [,1]       [,2]      \n",
       "[1,] 68106.6012 774.889486\n",
       "[2,]   774.8895   3.637979"
      ]
     },
     "metadata": {},
     "output_type": "display_data"
    }
   ],
   "source": [
    "Hessian_approximation(fo,beta_0)"
   ]
  },
  {
   "cell_type": "code",
   "execution_count": 81,
   "metadata": {},
   "outputs": [
    {
     "data": {
      "text/html": [
       "<table>\n",
       "<caption>A matrix: 2 × 2 of type dbl</caption>\n",
       "<thead>\n",
       "\t<tr><th></th><th scope=col>disp</th><th scope=col>drat</th></tr>\n",
       "</thead>\n",
       "<tbody>\n",
       "\t<tr><th scope=row>disp</th><td>68113.3584</td><td>784.21238</td></tr>\n",
       "\t<tr><th scope=row>drat</th><td>  784.2124</td><td> 13.21221</td></tr>\n",
       "</tbody>\n",
       "</table>\n"
      ],
      "text/latex": [
       "A matrix: 2 × 2 of type dbl\n",
       "\\begin{tabular}{r|ll}\n",
       "  & disp & drat\\\\\n",
       "\\hline\n",
       "\tdisp & 68113.3584 & 784.21238\\\\\n",
       "\tdrat &   784.2124 &  13.21221\\\\\n",
       "\\end{tabular}\n"
      ],
      "text/markdown": [
       "\n",
       "A matrix: 2 × 2 of type dbl\n",
       "\n",
       "| <!--/--> | disp | drat |\n",
       "|---|---|---|\n",
       "| disp | 68113.3584 | 784.21238 |\n",
       "| drat |   784.2124 |  13.21221 |\n",
       "\n"
      ],
      "text/plain": [
       "     disp       drat     \n",
       "disp 68113.3584 784.21238\n",
       "drat   784.2124  13.21221"
      ]
     },
     "metadata": {},
     "output_type": "display_data"
    }
   ],
   "source": [
    "Hessian_evaluation()"
   ]
  },
  {
   "cell_type": "code",
   "execution_count": 82,
   "metadata": {},
   "outputs": [
    {
     "data": {
      "text/html": [
       "<ol class=list-inline>\n",
       "\t<li>1</li>\n",
       "\t<li>1</li>\n",
       "</ol>\n"
      ],
      "text/latex": [
       "\\begin{enumerate*}\n",
       "\\item 1\n",
       "\\item 1\n",
       "\\end{enumerate*}\n"
      ],
      "text/markdown": [
       "1. 1\n",
       "2. 1\n",
       "\n",
       "\n"
      ],
      "text/plain": [
       "[1] 1 1"
      ]
     },
     "metadata": {},
     "output_type": "display_data"
    }
   ],
   "source": [
    "beta_0"
   ]
  },
  {
   "cell_type": "code",
   "execution_count": 83,
   "metadata": {},
   "outputs": [],
   "source": [
    "tol <- 1e-8\n",
    "tol_backtracking <- 1e-14\n",
    "maxiter <- 30\n",
    "p_ast <- fo(beta_ast)\n"
   ]
  },
  {
   "cell_type": "code",
   "execution_count": 84,
   "metadata": {},
   "outputs": [
    {
     "name": "stdout",
     "output_type": "stream",
     "text": [
      "I    Normagf   Error x_ast   Error p_ast   line search    condHf\n",
      "1    6.49e+04   8.62e-01      3.10e+04      ---\n",
      "2    4.89e+01   1.28e+00      1.50e+02      1.00e+00    1.64e+04\n",
      "3    1.42e+00   4.42e-02      1.78e-01      1.00e+00    1.66e+04\n",
      "4    2.95e-02   8.68e-04      7.21e-05      1.00e+00    1.62e+04\n",
      "5    3.69e-04   1.65e-05      6.86e-08      1.00e+00    1.57e+04\n",
      "Error of x with respect to x_ast: 1.65e-05\n",
      "Approximate solution:[1] -0.01682385  6.59064139\n"
     ]
    }
   ],
   "source": [
    "l<-Newtons_method(fo, beta_0, tol, tol_backtracking, beta_ast, p_ast, maxiter)"
   ]
  },
  {
   "cell_type": "code",
   "execution_count": 85,
   "metadata": {},
   "outputs": [],
   "source": [
    "beta <- l[[1]]\n",
    "total_of_iterations <- l[[2]]\n",
    "Err_plot <- l[[3]]\n",
    "beta_plot <- l[[4]]\n"
   ]
  },
  {
   "cell_type": "code",
   "execution_count": 86,
   "metadata": {},
   "outputs": [
    {
     "name": "stdout",
     "output_type": "stream",
     "text": [
      "[1] -0.01682385  6.59064139\n"
     ]
    }
   ],
   "source": [
    "print(beta)"
   ]
  },
  {
   "cell_type": "code",
   "execution_count": 87,
   "metadata": {},
   "outputs": [
    {
     "name": "stdout",
     "output_type": "stream",
     "text": [
      "              s0\n",
      "disp -0.01682177\n",
      "drat  6.59053287\n"
     ]
    }
   ],
   "source": [
    "print(beta_ast)"
   ]
  },
  {
   "cell_type": "code",
   "execution_count": 88,
   "metadata": {},
   "outputs": [
    {
     "data": {
      "text/html": [
       "9.77736750888745"
      ],
      "text/latex": [
       "9.77736750888745"
      ],
      "text/markdown": [
       "9.77736750888745"
      ],
      "text/plain": [
       "[1] 9.777368"
      ]
     },
     "metadata": {},
     "output_type": "display_data"
    }
   ],
   "source": [
    "fo(beta)"
   ]
  },
  {
   "cell_type": "code",
   "execution_count": 89,
   "metadata": {},
   "outputs": [
    {
     "data": {
      "text/html": [
       "<table>\n",
       "<caption>A matrix: 2 × 5 of type dbl</caption>\n",
       "<tbody>\n",
       "\t<tr><td>1</td><td> 0.07949562</td><td>-0.02019068</td><td>-0.01675652</td><td>-0.01682385</td></tr>\n",
       "\t<tr><td>1</td><td>-1.81796641</td><td> 6.88212076</td><td> 6.58481401</td><td> 6.59064139</td></tr>\n",
       "</tbody>\n",
       "</table>\n"
      ],
      "text/latex": [
       "A matrix: 2 × 5 of type dbl\n",
       "\\begin{tabular}{lllll}\n",
       "\t 1 &  0.07949562 & -0.02019068 & -0.01675652 & -0.01682385\\\\\n",
       "\t 1 & -1.81796641 &  6.88212076 &  6.58481401 &  6.59064139\\\\\n",
       "\\end{tabular}\n"
      ],
      "text/markdown": [
       "\n",
       "A matrix: 2 × 5 of type dbl\n",
       "\n",
       "| 1 |  0.07949562 | -0.02019068 | -0.01675652 | -0.01682385 |\n",
       "| 1 | -1.81796641 |  6.88212076 |  6.58481401 |  6.59064139 |\n",
       "\n"
      ],
      "text/plain": [
       "     [,1] [,2]        [,3]        [,4]        [,5]       \n",
       "[1,] 1     0.07949562 -0.02019068 -0.01675652 -0.01682385\n",
       "[2,] 1    -1.81796641  6.88212076  6.58481401  6.59064139"
      ]
     },
     "metadata": {},
     "output_type": "display_data"
    }
   ],
   "source": [
    "beta_plot"
   ]
  },
  {
   "cell_type": "code",
   "execution_count": 90,
   "metadata": {},
   "outputs": [
    {
     "data": {
      "image/png": "[encoded data removed]",
      "text/plain": [
       "plot without title"
      ]
     },
     "metadata": {
      "image/png": {
       "height": 420,
       "width": 420
      }
     },
     "output_type": "display_data"
    }
   ],
   "source": [
    "gg +\n",
    "geom_point(aes(x=beta_plot[1,],y=beta_plot[2,]),size=2) +\n",
    "#annotate(geom='text', x=0.5, y=0.47, \n",
    "#         label=TeX(\"x^{(0)}\", output='character'), parse=TRUE) + \n",
    "xlab('x') + ylab('y') + \n",
    "ggtitle(TeX('Iter del método de descenso en gradiente para $f_o$'))"
   ]
  },
  {
   "cell_type": "markdown",
   "metadata": {},
   "source": [
    "\n"
   ]
  },
  {
   "cell_type": "markdown",
   "metadata": {},
   "source": [
    "**Cambiando parámetro de regularización**"
   ]
  },
  {
   "cell_type": "code",
   "execution_count": 91,
   "metadata": {},
   "outputs": [],
   "source": [
    "reg<-0.2"
   ]
  },
  {
   "cell_type": "code",
   "execution_count": 92,
   "metadata": {},
   "outputs": [],
   "source": [
    "fit <- glmnet(A,y,alpha=1,lambda=reg,standardize=F,nlambda=1,intercept=F,thresh=1e-8)"
   ]
  },
  {
   "cell_type": "code",
   "execution_count": 93,
   "metadata": {},
   "outputs": [],
   "source": [
    "beta_ast <- as.matrix(fit$beta)\n"
   ]
  },
  {
   "cell_type": "code",
   "execution_count": 94,
   "metadata": {},
   "outputs": [
    {
     "name": "stdout",
     "output_type": "stream",
     "text": [
      "              s0\n",
      "disp -0.01766132\n",
      "drat  6.66307033\n"
     ]
    }
   ],
   "source": [
    "print(beta_ast)"
   ]
  },
  {
   "cell_type": "code",
   "execution_count": 95,
   "metadata": {},
   "outputs": [],
   "source": [
    "beta_0<-c(1,1)"
   ]
  },
  {
   "cell_type": "code",
   "execution_count": 96,
   "metadata": {},
   "outputs": [],
   "source": [
    "tol <- 1e-8\n",
    "tol_backtracking <- 1e-14\n",
    "maxiter <- 30\n",
    "p_ast <- fo(beta_ast)\n"
   ]
  },
  {
   "cell_type": "markdown",
   "metadata": {},
   "source": [
    "**Newtons method**"
   ]
  },
  {
   "cell_type": "code",
   "execution_count": 97,
   "metadata": {},
   "outputs": [
    {
     "name": "stdout",
     "output_type": "stream",
     "text": [
      "I    Normagf   Error x_ast   Error p_ast   line search    condHf\n",
      "1    6.49e+04   8.64e-01      3.10e+04      ---\n",
      "2    9.82e+01   2.54e+00      6.05e+02      1.00e+00    1.60e+04\n",
      "3    2.51e+00   3.73e-02      1.30e-01      1.00e+00    1.60e+04\n",
      "4    1.66e-02   5.24e-04      2.77e-05      1.00e+00    1.66e+04\n",
      "5    5.20e-04   3.37e-05      6.50e-08      1.00e+00    1.59e+04\n",
      "Error of x with respect to x_ast: 3.37e-05\n",
      "Approximate solution:[1] -0.01766474  6.66329488\n"
     ]
    }
   ],
   "source": [
    "l<-Newtons_method(fo, beta_0, tol, tol_backtracking, beta_ast, p_ast, maxiter)"
   ]
  },
  {
   "cell_type": "code",
   "execution_count": 98,
   "metadata": {},
   "outputs": [],
   "source": [
    "beta <- l[[1]]\n",
    "total_of_iterations <- l[[2]]\n",
    "Err_plot <- l[[3]]\n",
    "beta_plot <- l[[4]]\n"
   ]
  },
  {
   "cell_type": "code",
   "execution_count": 99,
   "metadata": {},
   "outputs": [
    {
     "name": "stdout",
     "output_type": "stream",
     "text": [
      "[1] -0.01766474  6.66329488\n"
     ]
    }
   ],
   "source": [
    "print(beta)"
   ]
  },
  {
   "cell_type": "code",
   "execution_count": 100,
   "metadata": {},
   "outputs": [
    {
     "name": "stdout",
     "output_type": "stream",
     "text": [
      "              s0\n",
      "disp -0.01766132\n",
      "drat  6.66307033\n"
     ]
    }
   ],
   "source": [
    "print(beta_ast)"
   ]
  },
  {
   "cell_type": "code",
   "execution_count": 101,
   "metadata": {},
   "outputs": [
    {
     "data": {
      "text/html": [
       "7.78410717807856"
      ],
      "text/latex": [
       "7.78410717807856"
      ],
      "text/markdown": [
       "7.78410717807856"
      ],
      "text/plain": [
       "[1] 7.784107"
      ]
     },
     "metadata": {},
     "output_type": "display_data"
    }
   ],
   "source": [
    "fo(beta)"
   ]
  },
  {
   "cell_type": "code",
   "execution_count": 102,
   "metadata": {},
   "outputs": [
    {
     "data": {
      "text/html": [
       "<table>\n",
       "<caption>A matrix: 2 × 5 of type dbl</caption>\n",
       "<tbody>\n",
       "\t<tr><td>1</td><td>  0.1764839</td><td>-0.01483255</td><td>-0.01762187</td><td>-0.01766474</td></tr>\n",
       "\t<tr><td>1</td><td>-10.2852230</td><td> 6.41439908</td><td> 6.65957987</td><td> 6.66329488</td></tr>\n",
       "</tbody>\n",
       "</table>\n"
      ],
      "text/latex": [
       "A matrix: 2 × 5 of type dbl\n",
       "\\begin{tabular}{lllll}\n",
       "\t 1 &   0.1764839 & -0.01483255 & -0.01762187 & -0.01766474\\\\\n",
       "\t 1 & -10.2852230 &  6.41439908 &  6.65957987 &  6.66329488\\\\\n",
       "\\end{tabular}\n"
      ],
      "text/markdown": [
       "\n",
       "A matrix: 2 × 5 of type dbl\n",
       "\n",
       "| 1 |   0.1764839 | -0.01483255 | -0.01762187 | -0.01766474 |\n",
       "| 1 | -10.2852230 |  6.41439908 |  6.65957987 |  6.66329488 |\n",
       "\n"
      ],
      "text/plain": [
       "     [,1] [,2]        [,3]        [,4]        [,5]       \n",
       "[1,] 1      0.1764839 -0.01483255 -0.01762187 -0.01766474\n",
       "[2,] 1    -10.2852230  6.41439908  6.65957987  6.66329488"
      ]
     },
     "metadata": {},
     "output_type": "display_data"
    }
   ],
   "source": [
    "beta_plot"
   ]
  },
  {
   "cell_type": "code",
   "execution_count": 103,
   "metadata": {},
   "outputs": [
    {
     "data": {
      "image/png": "[encoded data removed]",
      "text/plain": [
       "plot without title"
      ]
     },
     "metadata": {
      "image/png": {
       "height": 420,
       "width": 420
      }
     },
     "output_type": "display_data"
    }
   ],
   "source": [
    "gg +\n",
    "geom_point(aes(x=beta_plot[1,],y=beta_plot[2,]),size=2) +\n",
    "#annotate(geom='text', x=0.5, y=0.47, \n",
    "#         label=TeX(\"x^{(0)}\", output='character'), parse=TRUE) + \n",
    "xlab('x') + ylab('y') + \n",
    "ggtitle(TeX('Iter del método de descenso en gradiente para $f_o$'))"
   ]
  },
  {
   "cell_type": "code",
   "execution_count": 104,
   "metadata": {},
   "outputs": [],
   "source": [
    "beta_0<-c(0,0)"
   ]
  },
  {
   "cell_type": "code",
   "execution_count": 105,
   "metadata": {},
   "outputs": [
    {
     "name": "stdout",
     "output_type": "stream",
     "text": [
      "I    Normagf   Error x_ast   Error p_ast   line search\n",
      "1    4.02e+03   1.00e+00      2.12e+02      ---\n",
      "2    1.60e+02   1.00e+00      9.31e+01      1.52587890625e-05\n",
      "3    2.86e+01   1.00e+00      9.29e+01      1.52587890625e-05\n",
      "4    2.73e+03   4.76e-01      7.59e+01      0.125\n",
      "5    1.08e+02   4.76e-01      2.11e+01      1.52587890625e-05\n",
      "6    1.39e+01   4.76e-01      2.10e+01      1.52587890625e-05\n",
      "7    1.30e+03   2.28e-01      1.72e+01      0.125\n",
      "8    5.20e+01   2.28e-01      4.84e+00      1.52587890625e-05\n",
      "9    6.64e+00   2.28e-01      4.82e+00      1.52587890625e-05\n",
      "10    6.22e+02   1.09e-01      3.95e+00      0.125\n",
      "11    2.47e+01   1.09e-01      1.11e+00      1.52587890625e-05\n",
      "12    3.18e+00   1.09e-01      1.11e+00      1.52587890625e-05\n",
      "13    2.98e+02   5.22e-02      9.05e-01      0.125\n",
      "14    1.18e+01   5.22e-02      2.55e-01      1.52587890625e-05\n",
      "15    1.52e+00   5.22e-02      2.54e-01      1.52587890625e-05\n",
      "16    1.43e+02   2.50e-02      2.08e-01      0.125\n",
      "17    5.66e+00   2.50e-02      5.84e-02      1.52587890625e-05\n",
      "18    7.29e-01   2.50e-02      5.82e-02      1.52587890625e-05\n",
      "19    6.84e+01   1.20e-02      4.77e-02      0.125\n",
      "20    2.71e+00   1.20e-02      1.34e-02      1.52587890625e-05\n",
      "21    3.49e-01   1.20e-02      1.33e-02      1.52587890625e-05\n",
      "22    3.27e+01   5.72e-03      1.09e-02      0.125\n",
      "23    1.30e+00   5.72e-03      3.07e-03      1.52587890625e-05\n",
      "24    1.67e-01   5.72e-03      3.06e-03      1.52587890625e-05\n",
      "25    1.57e+01   2.73e-03      2.51e-03      0.125\n",
      "26    6.23e-01   2.73e-03      7.05e-04      1.52587890625e-05\n",
      "27    8.02e-02   2.73e-03      7.02e-04      1.52587890625e-05\n",
      "28    7.51e+00   1.29e-03      5.75e-04      0.125\n",
      "29    2.98e-01   1.29e-03      1.62e-04      1.52587890625e-05\n",
      "30    3.84e-02   1.29e-03      1.61e-04      1.52587890625e-05\n",
      "Error of x with respect to x_ast: 1.29e-03\n",
      "Approximate solution:[1] -0.01756272  6.65444873\n"
     ]
    }
   ],
   "source": [
    "l<-coordinate_descent(fo, beta_0, tol, tol_backtracking, beta_ast, p_ast, maxiter)"
   ]
  },
  {
   "cell_type": "code",
   "execution_count": 106,
   "metadata": {},
   "outputs": [],
   "source": [
    "beta <- l[[1]]\n",
    "total_of_iterations <- l[[2]]\n",
    "Err_plot <- l[[3]]\n",
    "beta_plot <- l[[4]]\n"
   ]
  },
  {
   "cell_type": "code",
   "execution_count": 107,
   "metadata": {},
   "outputs": [
    {
     "name": "stdout",
     "output_type": "stream",
     "text": [
      "[1] -0.01756272  6.65444873\n"
     ]
    }
   ],
   "source": [
    "print(beta)"
   ]
  },
  {
   "cell_type": "code",
   "execution_count": 108,
   "metadata": {},
   "outputs": [
    {
     "name": "stdout",
     "output_type": "stream",
     "text": [
      "              s0\n",
      "disp -0.01766132\n",
      "drat  6.66307033\n"
     ]
    }
   ],
   "source": [
    "print(beta_ast)"
   ]
  },
  {
   "cell_type": "code",
   "execution_count": 109,
   "metadata": {},
   "outputs": [
    {
     "data": {
      "text/html": [
       "7.78426833374324"
      ],
      "text/latex": [
       "7.78426833374324"
      ],
      "text/markdown": [
       "7.78426833374324"
      ],
      "text/plain": [
       "[1] 7.784268"
      ]
     },
     "metadata": {},
     "output_type": "display_data"
    }
   ],
   "source": [
    "fo(beta)"
   ]
  },
  {
   "cell_type": "code",
   "execution_count": 110,
   "metadata": {},
   "outputs": [
    {
     "data": {
      "text/html": [
       "<table>\n",
       "<caption>A matrix: 2 × 29 of type dbl</caption>\n",
       "<tbody>\n",
       "\t<tr><td>0.06136831</td><td>0.05895485</td><td>0.05895485</td><td>0.01724231</td><td>0.01888275</td><td>0.01888275</td><td>-0.0009476207</td><td>-0.0001616408</td><td>-0.0001616408</td><td>-0.00965363</td><td>⋯</td><td>-0.01674264</td><td>-0.01674264</td><td>-0.01724231</td><td>-0.01722266</td><td>-0.01722266</td><td>-0.01746201</td><td>-0.0174526</td><td>-0.0174526</td><td>-0.01756723</td><td>-0.01756272</td></tr>\n",
       "\t<tr><td>0.00000000</td><td>0.00000000</td><td>3.49381608</td><td>3.49381608</td><td>3.49381608</td><td>5.14563299</td><td> 5.1456329864</td><td> 5.1456329864</td><td> 5.9362877280</td><td> 5.93628773</td><td>⋯</td><td> 6.58333947</td><td> 6.62496245</td><td> 6.62496245</td><td> 6.62496245</td><td> 6.64489965</td><td> 6.64489965</td><td> 6.6448997</td><td> 6.6544487</td><td> 6.65444873</td><td> 6.65444873</td></tr>\n",
       "</tbody>\n",
       "</table>\n"
      ],
      "text/latex": [
       "A matrix: 2 × 29 of type dbl\n",
       "\\begin{tabular}{lllllllllllllllllllll}\n",
       "\t 0.06136831 & 0.05895485 & 0.05895485 & 0.01724231 & 0.01888275 & 0.01888275 & -0.0009476207 & -0.0001616408 & -0.0001616408 & -0.00965363 & ⋯ & -0.01674264 & -0.01674264 & -0.01724231 & -0.01722266 & -0.01722266 & -0.01746201 & -0.0174526 & -0.0174526 & -0.01756723 & -0.01756272\\\\\n",
       "\t 0.00000000 & 0.00000000 & 3.49381608 & 3.49381608 & 3.49381608 & 5.14563299 &  5.1456329864 &  5.1456329864 &  5.9362877280 &  5.93628773 & ⋯ &  6.58333947 &  6.62496245 &  6.62496245 &  6.62496245 &  6.64489965 &  6.64489965 &  6.6448997 &  6.6544487 &  6.65444873 &  6.65444873\\\\\n",
       "\\end{tabular}\n"
      ],
      "text/markdown": [
       "\n",
       "A matrix: 2 × 29 of type dbl\n",
       "\n",
       "| 0.06136831 | 0.05895485 | 0.05895485 | 0.01724231 | 0.01888275 | 0.01888275 | -0.0009476207 | -0.0001616408 | -0.0001616408 | -0.00965363 | ⋯ | -0.01674264 | -0.01674264 | -0.01724231 | -0.01722266 | -0.01722266 | -0.01746201 | -0.0174526 | -0.0174526 | -0.01756723 | -0.01756272 |\n",
       "| 0.00000000 | 0.00000000 | 3.49381608 | 3.49381608 | 3.49381608 | 5.14563299 |  5.1456329864 |  5.1456329864 |  5.9362877280 |  5.93628773 | ⋯ |  6.58333947 |  6.62496245 |  6.62496245 |  6.62496245 |  6.64489965 |  6.64489965 |  6.6448997 |  6.6544487 |  6.65444873 |  6.65444873 |\n",
       "\n"
      ],
      "text/plain": [
       "     [,1]       [,2]       [,3]       [,4]       [,5]       [,6]      \n",
       "[1,] 0.06136831 0.05895485 0.05895485 0.01724231 0.01888275 0.01888275\n",
       "[2,] 0.00000000 0.00000000 3.49381608 3.49381608 3.49381608 5.14563299\n",
       "     [,7]          [,8]          [,9]          [,10]       [,11] [,12]      \n",
       "[1,] -0.0009476207 -0.0001616408 -0.0001616408 -0.00965363 ⋯     -0.01674264\n",
       "[2,]  5.1456329864  5.1456329864  5.9362877280  5.93628773 ⋯      6.58333947\n",
       "     [,13]       [,14]       [,15]       [,16]       [,17]       [,18]     \n",
       "[1,] -0.01674264 -0.01724231 -0.01722266 -0.01722266 -0.01746201 -0.0174526\n",
       "[2,]  6.62496245  6.62496245  6.62496245  6.64489965  6.64489965  6.6448997\n",
       "     [,19]      [,20]       [,21]      \n",
       "[1,] -0.0174526 -0.01756723 -0.01756272\n",
       "[2,]  6.6544487  6.65444873  6.65444873"
      ]
     },
     "metadata": {},
     "output_type": "display_data"
    }
   ],
   "source": [
    "beta_plot"
   ]
  },
  {
   "cell_type": "code",
   "execution_count": 111,
   "metadata": {},
   "outputs": [
    {
     "data": {
      "image/png": "[encoded data removed]",
      "text/plain": [
       "plot without title"
      ]
     },
     "metadata": {
      "image/png": {
       "height": 420,
       "width": 420
      }
     },
     "output_type": "display_data"
    }
   ],
   "source": [
    "gg +\n",
    "geom_point(aes(x=beta_plot[1,],y=beta_plot[2,]),size=2) +\n",
    "#annotate(geom='text', x=0.5, y=0.47, \n",
    "#         label=TeX(\"x^{(0)}\", output='character'), parse=TRUE) + \n",
    "xlab('x') + ylab('y') + \n",
    "ggtitle(TeX('Iter del método de descenso en gradiente para $f_o$'))"
   ]
  },
  {
   "cell_type": "markdown",
   "metadata": {},
   "source": [
    "**gradient descent**"
   ]
  },
  {
   "cell_type": "code",
   "execution_count": 112,
   "metadata": {},
   "outputs": [
    {
     "name": "stdout",
     "output_type": "stream",
     "text": [
      "I    Normagf   Error x_ast   Error p_ast   line search\n",
      "1    4.02e+03   1.00e+00      2.12e+02      ---\n",
      "2    1.61e+02   1.00e+00      9.30e+01      1.52587890625e-05\n",
      "3    2.86e+01   1.00e+00      9.28e+01      1.52587890625e-05\n",
      "4    2.04e+02   9.98e-01      9.28e+01      0.00048828125\n",
      "5    2.89e+01   9.98e-01      9.25e+01      1.52587890625e-05\n",
      "6    1.28e+02   9.97e-01      9.24e+01      0.000244140625\n",
      "7    2.82e+01   9.97e-01      9.23e+01      1.52587890625e-05\n",
      "8    1.61e+02   9.95e-01      9.21e+01      0.00048828125\n",
      "9    2.84e+01   9.95e-01      9.19e+01      1.52587890625e-05\n",
      "10    2.04e+02   9.93e-01      9.18e+01      0.00048828125\n",
      "11    2.88e+01   9.92e-01      9.15e+01      1.52587890625e-05\n",
      "12    1.28e+02   9.91e-01      9.14e+01      0.000244140625\n",
      "13    2.81e+01   9.91e-01      9.13e+01      1.52587890625e-05\n",
      "14    1.61e+02   9.89e-01      9.11e+01      0.00048828125\n",
      "15    2.83e+01   9.89e-01      9.09e+01      1.52587890625e-05\n",
      "16    2.04e+02   9.87e-01      9.08e+01      0.00048828125\n",
      "17    2.87e+01   9.87e-01      9.05e+01      1.52587890625e-05\n",
      "18    1.28e+02   9.86e-01      9.04e+01      0.000244140625\n",
      "19    2.79e+01   9.86e-01      9.03e+01      1.52587890625e-05\n",
      "20    1.61e+02   9.84e-01      9.01e+01      0.00048828125\n",
      "21    2.81e+01   9.84e-01      8.99e+01      1.52587890625e-05\n",
      "22    2.04e+02   9.82e-01      8.99e+01      0.00048828125\n",
      "23    2.85e+01   9.82e-01      8.96e+01      1.52587890625e-05\n",
      "24    1.28e+02   9.81e-01      8.95e+01      0.000244140625\n",
      "25    2.78e+01   9.81e-01      8.94e+01      1.52587890625e-05\n",
      "26    1.61e+02   9.79e-01      8.92e+01      0.00048828125\n",
      "27    2.80e+01   9.79e-01      8.90e+01      1.52587890625e-05\n",
      "28    2.04e+02   9.77e-01      8.89e+01      0.00048828125\n",
      "29    2.84e+01   9.77e-01      8.86e+01      1.52587890625e-05\n",
      "30    1.28e+02   9.76e-01      8.85e+01      0.000244140625\n",
      "Error of x with respect to x_ast: 9.76e-01\n",
      "Approximate solution:[1] 0.05901972 0.16175495\n"
     ]
    }
   ],
   "source": [
    "l<-gradient_descent(fo, beta_0, tol, tol_backtracking, beta_ast, p_ast, maxiter)"
   ]
  },
  {
   "cell_type": "code",
   "execution_count": 113,
   "metadata": {},
   "outputs": [],
   "source": [
    "beta <- l[[1]]\n",
    "total_of_iterations <- l[[2]]\n",
    "Err_plot <- l[[3]]\n",
    "beta_plot <- l[[4]]\n"
   ]
  },
  {
   "cell_type": "code",
   "execution_count": 114,
   "metadata": {},
   "outputs": [
    {
     "name": "stdout",
     "output_type": "stream",
     "text": [
      "[1] 0.05901972 0.16175495\n"
     ]
    }
   ],
   "source": [
    "print(beta)"
   ]
  },
  {
   "cell_type": "code",
   "execution_count": 115,
   "metadata": {},
   "outputs": [
    {
     "name": "stdout",
     "output_type": "stream",
     "text": [
      "              s0\n",
      "disp -0.01766132\n",
      "drat  6.66307033\n"
     ]
    }
   ],
   "source": [
    "print(beta_ast)"
   ]
  },
  {
   "cell_type": "code",
   "execution_count": 116,
   "metadata": {},
   "outputs": [
    {
     "data": {
      "text/html": [
       "96.3340924948692"
      ],
      "text/latex": [
       "96.3340924948692"
      ],
      "text/markdown": [
       "96.3340924948692"
      ],
      "text/plain": [
       "[1] 96.33409"
      ]
     },
     "metadata": {},
     "output_type": "display_data"
    }
   ],
   "source": [
    "fo(beta)"
   ]
  },
  {
   "cell_type": "code",
   "execution_count": 117,
   "metadata": {},
   "outputs": [
    {
     "data": {
      "text/html": [
       "<table>\n",
       "<caption>A matrix: 2 × 29 of type dbl</caption>\n",
       "<tbody>\n",
       "\t<tr><td>0.061368308</td><td>0.058941308</td><td>0.06184346</td><td>0.05875461</td><td>0.06062378</td><td>0.05871641</td><td>0.06096286</td><td>0.05853562</td><td>0.06143894</td><td>0.05834978</td><td>⋯</td><td>0.05773067</td><td>0.06063629</td><td>0.05754652</td><td>0.05941755</td><td>0.05750965</td><td>0.05975933</td><td>0.05733139</td><td>0.06023815</td><td>0.05714807</td><td>0.05901972</td></tr>\n",
       "\t<tr><td>0.001131953</td><td>0.001529336</td><td>0.01517238</td><td>0.01556124</td><td>0.02237325</td><td>0.02277526</td><td>0.03636735</td><td>0.03676248</td><td>0.05033357</td><td>0.05072019</td><td>⋯</td><td>0.10667081</td><td>0.12009913</td><td>0.12048129</td><td>0.12718616</td><td>0.12758147</td><td>0.14095952</td><td>0.14134797</td><td>0.15470547</td><td>0.15508541</td><td>0.16175495</td></tr>\n",
       "</tbody>\n",
       "</table>\n"
      ],
      "text/latex": [
       "A matrix: 2 × 29 of type dbl\n",
       "\\begin{tabular}{lllllllllllllllllllll}\n",
       "\t 0.061368308 & 0.058941308 & 0.06184346 & 0.05875461 & 0.06062378 & 0.05871641 & 0.06096286 & 0.05853562 & 0.06143894 & 0.05834978 & ⋯ & 0.05773067 & 0.06063629 & 0.05754652 & 0.05941755 & 0.05750965 & 0.05975933 & 0.05733139 & 0.06023815 & 0.05714807 & 0.05901972\\\\\n",
       "\t 0.001131953 & 0.001529336 & 0.01517238 & 0.01556124 & 0.02237325 & 0.02277526 & 0.03636735 & 0.03676248 & 0.05033357 & 0.05072019 & ⋯ & 0.10667081 & 0.12009913 & 0.12048129 & 0.12718616 & 0.12758147 & 0.14095952 & 0.14134797 & 0.15470547 & 0.15508541 & 0.16175495\\\\\n",
       "\\end{tabular}\n"
      ],
      "text/markdown": [
       "\n",
       "A matrix: 2 × 29 of type dbl\n",
       "\n",
       "| 0.061368308 | 0.058941308 | 0.06184346 | 0.05875461 | 0.06062378 | 0.05871641 | 0.06096286 | 0.05853562 | 0.06143894 | 0.05834978 | ⋯ | 0.05773067 | 0.06063629 | 0.05754652 | 0.05941755 | 0.05750965 | 0.05975933 | 0.05733139 | 0.06023815 | 0.05714807 | 0.05901972 |\n",
       "| 0.001131953 | 0.001529336 | 0.01517238 | 0.01556124 | 0.02237325 | 0.02277526 | 0.03636735 | 0.03676248 | 0.05033357 | 0.05072019 | ⋯ | 0.10667081 | 0.12009913 | 0.12048129 | 0.12718616 | 0.12758147 | 0.14095952 | 0.14134797 | 0.15470547 | 0.15508541 | 0.16175495 |\n",
       "\n"
      ],
      "text/plain": [
       "     [,1]        [,2]        [,3]       [,4]       [,5]       [,6]      \n",
       "[1,] 0.061368308 0.058941308 0.06184346 0.05875461 0.06062378 0.05871641\n",
       "[2,] 0.001131953 0.001529336 0.01517238 0.01556124 0.02237325 0.02277526\n",
       "     [,7]       [,8]       [,9]       [,10]      [,11] [,12]      [,13]     \n",
       "[1,] 0.06096286 0.05853562 0.06143894 0.05834978 ⋯     0.05773067 0.06063629\n",
       "[2,] 0.03636735 0.03676248 0.05033357 0.05072019 ⋯     0.10667081 0.12009913\n",
       "     [,14]      [,15]      [,16]      [,17]      [,18]      [,19]     \n",
       "[1,] 0.05754652 0.05941755 0.05750965 0.05975933 0.05733139 0.06023815\n",
       "[2,] 0.12048129 0.12718616 0.12758147 0.14095952 0.14134797 0.15470547\n",
       "     [,20]      [,21]     \n",
       "[1,] 0.05714807 0.05901972\n",
       "[2,] 0.15508541 0.16175495"
      ]
     },
     "metadata": {},
     "output_type": "display_data"
    }
   ],
   "source": [
    "beta_plot"
   ]
  },
  {
   "cell_type": "code",
   "execution_count": 118,
   "metadata": {},
   "outputs": [
    {
     "data": {
      "image/png": "[encoded data removed]",
      "text/plain": [
       "plot without title"
      ]
     },
     "metadata": {
      "image/png": {
       "height": 420,
       "width": 420
      }
     },
     "output_type": "display_data"
    }
   ],
   "source": [
    "gg +\n",
    "geom_point(aes(x=beta_plot[1,],y=beta_plot[2,]),size=2) +\n",
    "#annotate(geom='text', x=0.5, y=0.47, \n",
    "#         label=TeX(\"x^{(0)}\", output='character'), parse=TRUE) + \n",
    "xlab('x') + ylab('y') + \n",
    "ggtitle(TeX('Iter del método de descenso en gradiente para $f_o$'))"
   ]
  },
  {
   "cell_type": "markdown",
   "metadata": {},
   "source": [
    "**More columns**"
   ]
  },
  {
   "cell_type": "code",
   "execution_count": 119,
   "metadata": {},
   "outputs": [],
   "source": [
    "A<-X[,c(2,4,5,6)]"
   ]
  },
  {
   "cell_type": "code",
   "execution_count": 120,
   "metadata": {},
   "outputs": [],
   "source": [
    "fit <- glmnet(A,y,alpha=1,lambda=reg,standardize=F,nlambda=1,intercept=F,thresh=1e-8)"
   ]
  },
  {
   "cell_type": "code",
   "execution_count": 121,
   "metadata": {},
   "outputs": [],
   "source": [
    "beta_ast <- as.matrix(fit$beta)\n"
   ]
  },
  {
   "cell_type": "code",
   "execution_count": 122,
   "metadata": {},
   "outputs": [
    {
     "name": "stdout",
     "output_type": "stream",
     "text": [
      "                s0\n",
      "disp  0.0006973293\n",
      "drat  2.6120443627\n",
      "wt   -3.6222009972\n",
      "qsec  1.2403485581\n"
     ]
    }
   ],
   "source": [
    "print(beta_ast)"
   ]
  },
  {
   "cell_type": "code",
   "execution_count": 123,
   "metadata": {},
   "outputs": [],
   "source": [
    "beta_0<-c(1,1,1,1)"
   ]
  },
  {
   "cell_type": "code",
   "execution_count": 124,
   "metadata": {},
   "outputs": [],
   "source": [
    "tol <- 1e-8\n",
    "tol_backtracking <- 1e-14\n",
    "maxiter <- 30\n",
    "p_ast <- fo(beta_ast)\n"
   ]
  },
  {
   "cell_type": "markdown",
   "metadata": {},
   "source": [
    "**Newtons method**"
   ]
  },
  {
   "cell_type": "code",
   "execution_count": 125,
   "metadata": {},
   "outputs": [
    {
     "name": "stdout",
     "output_type": "stream",
     "text": [
      "I    Normagf   Error x_ast   Error p_ast   line search    condHf\n",
      "1    6.99e+04   1.08e+00      3.57e+04      ---\n",
      "2    1.62e+01   1.41e+00      6.99e+00      1.00e+00    4.71e+05\n",
      "3    1.58e+00   1.00e+00      2.09e+00      1.00e+00    5.34e+05\n",
      "4    3.38e-01   1.89e-01      1.33e-01      1.00e+00    3.24e+05\n",
      "5    3.03e-01   3.61e-02      4.24e-03      1.00e+00    7.76e+05\n",
      "6    2.92e-02   5.76e-03      6.96e-05      1.00e+00    5.27e+05\n",
      "7    5.44e-03   7.19e-04      1.07e-05      1.00e+00    3.14e+05\n",
      "8    2.18e-03   1.62e-03      1.64e-05      1.00e+00    3.32e+06\n",
      "9    3.01e-03   3.30e-03      2.16e-05      1.25e-01    4.48e+05\n",
      "10    1.01e-04   3.43e-03      2.20e-05      1.00e+00    1.97e+06\n",
      "Error of x with respect to x_ast: 3.43e-03\n",
      "Approximate solution:[1]  0.0006261966  2.6223707978 -3.6105443552  1.2371047935\n"
     ]
    }
   ],
   "source": [
    "l<-Newtons_method(fo, beta_0, tol, tol_backtracking, beta_ast, p_ast, maxiter)"
   ]
  },
  {
   "cell_type": "code",
   "execution_count": 126,
   "metadata": {},
   "outputs": [],
   "source": [
    "beta <- l[[1]]\n",
    "total_of_iterations <- l[[2]]\n",
    "Err_plot <- l[[3]]\n",
    "beta_plot <- l[[4]]\n"
   ]
  },
  {
   "cell_type": "code",
   "execution_count": 127,
   "metadata": {},
   "outputs": [
    {
     "name": "stdout",
     "output_type": "stream",
     "text": [
      "[1]  0.0006261966  2.6223707978 -3.6105443552  1.2371047935\n"
     ]
    }
   ],
   "source": [
    "print(beta)"
   ]
  },
  {
   "cell_type": "code",
   "execution_count": 128,
   "metadata": {},
   "outputs": [
    {
     "name": "stdout",
     "output_type": "stream",
     "text": [
      "                s0\n",
      "disp  0.0006973293\n",
      "drat  2.6120443627\n",
      "wt   -3.6222009972\n",
      "qsec  1.2403485581\n"
     ]
    }
   ],
   "source": [
    "print(beta_ast)"
   ]
  },
  {
   "cell_type": "code",
   "execution_count": 129,
   "metadata": {},
   "outputs": [
    {
     "data": {
      "text/html": [
       "4.59592896526597"
      ],
      "text/latex": [
       "4.59592896526597"
      ],
      "text/markdown": [
       "4.59592896526597"
      ],
      "text/plain": [
       "[1] 4.595929"
      ]
     },
     "metadata": {},
     "output_type": "display_data"
    }
   ],
   "source": [
    "fo(beta)"
   ]
  },
  {
   "cell_type": "code",
   "execution_count": 130,
   "metadata": {},
   "outputs": [
    {
     "data": {
      "text/html": [
       "<table>\n",
       "<caption>A matrix: 4 × 10 of type dbl</caption>\n",
       "<tbody>\n",
       "\t<tr><td>1</td><td>-0.05606289</td><td>-0.01851005</td><td>-0.003576263</td><td> 0.0009944162</td><td> 0.0005168405</td><td> 0.0007160974</td><td> 0.0006791189</td><td> 0.0006377508</td><td> 0.0006261966</td></tr>\n",
       "\t<tr><td>1</td><td>-0.12200766</td><td> 5.97538040</td><td> 1.869463441</td><td> 2.7751959837</td><td> 2.6038033655</td><td> 2.6095959668</td><td> 2.6183362938</td><td> 2.6231848830</td><td> 2.6223707978</td></tr>\n",
       "\t<tr><td>1</td><td> 2.31423223</td><td>-0.55655647</td><td>-3.169499864</td><td>-3.6324961838</td><td>-3.5968211157</td><td>-3.6243745447</td><td>-3.6184323138</td><td>-3.6122536944</td><td>-3.6105443552</td></tr>\n",
       "\t<tr><td>1</td><td> 1.48267081</td><td> 0.26564075</td><td> 1.362212247</td><td> 1.2057895393</td><td> 1.2396914838</td><td> 1.2409809623</td><td> 1.2386540494</td><td> 1.2371100579</td><td> 1.2371047935</td></tr>\n",
       "</tbody>\n",
       "</table>\n"
      ],
      "text/latex": [
       "A matrix: 4 × 10 of type dbl\n",
       "\\begin{tabular}{llllllllll}\n",
       "\t 1 & -0.05606289 & -0.01851005 & -0.003576263 &  0.0009944162 &  0.0005168405 &  0.0007160974 &  0.0006791189 &  0.0006377508 &  0.0006261966\\\\\n",
       "\t 1 & -0.12200766 &  5.97538040 &  1.869463441 &  2.7751959837 &  2.6038033655 &  2.6095959668 &  2.6183362938 &  2.6231848830 &  2.6223707978\\\\\n",
       "\t 1 &  2.31423223 & -0.55655647 & -3.169499864 & -3.6324961838 & -3.5968211157 & -3.6243745447 & -3.6184323138 & -3.6122536944 & -3.6105443552\\\\\n",
       "\t 1 &  1.48267081 &  0.26564075 &  1.362212247 &  1.2057895393 &  1.2396914838 &  1.2409809623 &  1.2386540494 &  1.2371100579 &  1.2371047935\\\\\n",
       "\\end{tabular}\n"
      ],
      "text/markdown": [
       "\n",
       "A matrix: 4 × 10 of type dbl\n",
       "\n",
       "| 1 | -0.05606289 | -0.01851005 | -0.003576263 |  0.0009944162 |  0.0005168405 |  0.0007160974 |  0.0006791189 |  0.0006377508 |  0.0006261966 |\n",
       "| 1 | -0.12200766 |  5.97538040 |  1.869463441 |  2.7751959837 |  2.6038033655 |  2.6095959668 |  2.6183362938 |  2.6231848830 |  2.6223707978 |\n",
       "| 1 |  2.31423223 | -0.55655647 | -3.169499864 | -3.6324961838 | -3.5968211157 | -3.6243745447 | -3.6184323138 | -3.6122536944 | -3.6105443552 |\n",
       "| 1 |  1.48267081 |  0.26564075 |  1.362212247 |  1.2057895393 |  1.2396914838 |  1.2409809623 |  1.2386540494 |  1.2371100579 |  1.2371047935 |\n",
       "\n"
      ],
      "text/plain": [
       "     [,1] [,2]        [,3]        [,4]         [,5]          [,6]         \n",
       "[1,] 1    -0.05606289 -0.01851005 -0.003576263  0.0009944162  0.0005168405\n",
       "[2,] 1    -0.12200766  5.97538040  1.869463441  2.7751959837  2.6038033655\n",
       "[3,] 1     2.31423223 -0.55655647 -3.169499864 -3.6324961838 -3.5968211157\n",
       "[4,] 1     1.48267081  0.26564075  1.362212247  1.2057895393  1.2396914838\n",
       "     [,7]          [,8]          [,9]          [,10]        \n",
       "[1,]  0.0007160974  0.0006791189  0.0006377508  0.0006261966\n",
       "[2,]  2.6095959668  2.6183362938  2.6231848830  2.6223707978\n",
       "[3,] -3.6243745447 -3.6184323138 -3.6122536944 -3.6105443552\n",
       "[4,]  1.2409809623  1.2386540494  1.2371100579  1.2371047935"
      ]
     },
     "metadata": {},
     "output_type": "display_data"
    }
   ],
   "source": [
    "beta_plot"
   ]
  },
  {
   "cell_type": "markdown",
   "metadata": {},
   "source": [
    "**Ridge**"
   ]
  },
  {
   "cell_type": "code",
   "execution_count": 131,
   "metadata": {},
   "outputs": [],
   "source": [
    "reg<-.5"
   ]
  },
  {
   "cell_type": "code",
   "execution_count": 132,
   "metadata": {},
   "outputs": [],
   "source": [
    "y <- mtcars %>% select(mpg) %>% as.matrix()\n",
    "X <- mtcars %>% select(-mpg) %>% as.matrix()"
   ]
  },
  {
   "cell_type": "code",
   "execution_count": 133,
   "metadata": {},
   "outputs": [],
   "source": [
    "#A<-X[,c(2,4)]\n",
    "A<-X[,c(2,4,5,6)]"
   ]
  },
  {
   "cell_type": "code",
   "execution_count": 134,
   "metadata": {},
   "outputs": [],
   "source": [
    "cte <- sum(y*y)\n",
    "mpoints<-nrow(A)"
   ]
  },
  {
   "cell_type": "code",
   "execution_count": 135,
   "metadata": {},
   "outputs": [
    {
     "data": {
      "text/html": [
       "14042.31"
      ],
      "text/latex": [
       "14042.31"
      ],
      "text/markdown": [
       "14042.31"
      ],
      "text/plain": [
       "[1] 14042.31"
      ]
     },
     "metadata": {},
     "output_type": "display_data"
    }
   ],
   "source": [
    "cte"
   ]
  },
  {
   "cell_type": "code",
   "execution_count": 136,
   "metadata": {},
   "outputs": [
    {
     "data": {
      "text/html": [
       "32"
      ],
      "text/latex": [
       "32"
      ],
      "text/markdown": [
       "32"
      ],
      "text/plain": [
       "[1] 32"
      ]
     },
     "metadata": {},
     "output_type": "display_data"
    }
   ],
   "source": [
    "mpoints"
   ]
  },
  {
   "cell_type": "code",
   "execution_count": 137,
   "metadata": {},
   "outputs": [],
   "source": [
    "fo <-function(beta)1/mpoints*(1/2*cte - sum(beta*(t(A)%*%y)) + 1/2*sum(beta*(t(A)%*%(A%*%beta)))) + reg/2*sum(beta*beta)\n"
   ]
  },
  {
   "cell_type": "code",
   "execution_count": 138,
   "metadata": {},
   "outputs": [
    {
     "data": {
      "text/html": [
       "<pre class=language-r><code>function (beta) \n",
       "1/mpoints * (1/2 * cte - sum(beta * (t(A) %*% y)) + 1/2 * sum(beta * \n",
       "<span style=white-space:pre-wrap>    (t(A) %*% (A %*% beta)))) + reg/2 * sum(beta * beta)</span></code></pre>"
      ],
      "text/latex": [
       "\\begin{minted}{r}\n",
       "function (beta) \n",
       "1/mpoints * (1/2 * cte - sum(beta * (t(A) \\%*\\% y)) + 1/2 * sum(beta * \n",
       "    (t(A) \\%*\\% (A \\%*\\% beta)))) + reg/2 * sum(beta * beta)\n",
       "\\end{minted}"
      ],
      "text/markdown": [
       "```r\n",
       "function (beta) \n",
       "1/mpoints * (1/2 * cte - sum(beta * (t(A) %*% y)) + 1/2 * sum(beta * \n",
       "    (t(A) %*% (A %*% beta)))) + reg/2 * sum(beta * beta)\n",
       "```"
      ],
      "text/plain": [
       "function(beta)1/mpoints*(1/2*cte - sum(beta*(t(A)%*%y)) + 1/2*sum(beta*(t(A)%*%(A%*%beta)))) + reg/2*sum(beta*beta)"
      ]
     },
     "metadata": {},
     "output_type": "display_data"
    }
   ],
   "source": [
    "fo"
   ]
  },
  {
   "cell_type": "code",
   "execution_count": 139,
   "metadata": {},
   "outputs": [],
   "source": [
    "Hessian_evaluation<-function(beta)1/mpoints*t(A)%*%A + reg*diag(rep(length(beta)))"
   ]
  },
  {
   "cell_type": "code",
   "execution_count": 140,
   "metadata": {},
   "outputs": [],
   "source": [
    "gf_evaluation<- function(beta) 1/mpoints * t(A)%*%(A%*%beta-y) + reg*beta"
   ]
  },
  {
   "cell_type": "code",
   "execution_count": 141,
   "metadata": {},
   "outputs": [],
   "source": [
    "beta_0<-c(1.5,1,1,1)"
   ]
  },
  {
   "cell_type": "code",
   "execution_count": 142,
   "metadata": {},
   "outputs": [
    {
     "data": {
      "text/html": [
       "<ol class=list-inline>\n",
       "\t<li>103804.6204485</li>\n",
       "\t<li>1191.13537948579</li>\n",
       "\t<li>1290.35033751279</li>\n",
       "\t<li>6118.18832112476</li>\n",
       "</ol>\n"
      ],
      "text/latex": [
       "\\begin{enumerate*}\n",
       "\\item 103804.6204485\n",
       "\\item 1191.13537948579\n",
       "\\item 1290.35033751279\n",
       "\\item 6118.18832112476\n",
       "\\end{enumerate*}\n"
      ],
      "text/markdown": [
       "1. 103804.6204485\n",
       "2. 1191.13537948579\n",
       "3. 1290.35033751279\n",
       "4. 6118.18832112476\n",
       "\n",
       "\n"
      ],
      "text/plain": [
       "[1] 103804.620   1191.135   1290.350   6118.188"
      ]
     },
     "metadata": {},
     "output_type": "display_data"
    }
   ],
   "source": [
    "gradient_approximation(fo,beta_0)"
   ]
  },
  {
   "cell_type": "code",
   "execution_count": 143,
   "metadata": {},
   "outputs": [
    {
     "data": {
      "text/html": [
       "<table>\n",
       "<caption>A matrix: 4 × 1 of type dbl</caption>\n",
       "<tbody>\n",
       "\t<tr><th scope=row>disp</th><td>103804.622</td></tr>\n",
       "\t<tr><th scope=row>drat</th><td>  1191.136</td></tr>\n",
       "\t<tr><th scope=row>wt</th><td>  1290.350</td></tr>\n",
       "\t<tr><th scope=row>qsec</th><td>  6118.187</td></tr>\n",
       "</tbody>\n",
       "</table>\n"
      ],
      "text/latex": [
       "A matrix: 4 × 1 of type dbl\n",
       "\\begin{tabular}{r|l}\n",
       "\tdisp & 103804.622\\\\\n",
       "\tdrat &   1191.136\\\\\n",
       "\twt &   1290.350\\\\\n",
       "\tqsec &   6118.187\\\\\n",
       "\\end{tabular}\n"
      ],
      "text/markdown": [
       "\n",
       "A matrix: 4 × 1 of type dbl\n",
       "\n",
       "| disp | 103804.622 |\n",
       "| drat |   1191.136 |\n",
       "| wt |   1290.350 |\n",
       "| qsec |   6118.187 |\n",
       "\n"
      ],
      "text/plain": [
       "     [,1]      \n",
       "disp 103804.622\n",
       "drat   1191.136\n",
       "wt     1290.350\n",
       "qsec   6118.187"
      ]
     },
     "metadata": {},
     "output_type": "display_data"
    }
   ],
   "source": [
    "gf_evaluation(beta_0)"
   ]
  },
  {
   "cell_type": "code",
   "execution_count": 144,
   "metadata": {},
   "outputs": [
    {
     "data": {
      "text/html": [
       "<table>\n",
       "<caption>A matrix: 4 × 4 of type dbl</caption>\n",
       "<tbody>\n",
       "\t<tr><td>68117.5152</td><td>742.14768</td><td>844.01108</td><td>4030.88052</td></tr>\n",
       "\t<tr><td>  742.1477</td><td> 58.20766</td><td> 29.10383</td><td>  87.31149</td></tr>\n",
       "\t<tr><td>  844.0111</td><td> 29.10383</td><td> 29.10383</td><td>  58.20766</td></tr>\n",
       "\t<tr><td> 4030.8805</td><td> 87.31149</td><td> 58.20766</td><td> 334.69405</td></tr>\n",
       "</tbody>\n",
       "</table>\n"
      ],
      "text/latex": [
       "A matrix: 4 × 4 of type dbl\n",
       "\\begin{tabular}{llll}\n",
       "\t 68117.5152 & 742.14768 & 844.01108 & 4030.88052\\\\\n",
       "\t   742.1477 &  58.20766 &  29.10383 &   87.31149\\\\\n",
       "\t   844.0111 &  29.10383 &  29.10383 &   58.20766\\\\\n",
       "\t  4030.8805 &  87.31149 &  58.20766 &  334.69405\\\\\n",
       "\\end{tabular}\n"
      ],
      "text/markdown": [
       "\n",
       "A matrix: 4 × 4 of type dbl\n",
       "\n",
       "| 68117.5152 | 742.14768 | 844.01108 | 4030.88052 |\n",
       "|   742.1477 |  58.20766 |  29.10383 |   87.31149 |\n",
       "|   844.0111 |  29.10383 |  29.10383 |   58.20766 |\n",
       "|  4030.8805 |  87.31149 |  58.20766 |  334.69405 |\n",
       "\n"
      ],
      "text/plain": [
       "     [,1]       [,2]      [,3]      [,4]      \n",
       "[1,] 68117.5152 742.14768 844.01108 4030.88052\n",
       "[2,]   742.1477  58.20766  29.10383   87.31149\n",
       "[3,]   844.0111  29.10383  29.10383   58.20766\n",
       "[4,]  4030.8805  87.31149  58.20766  334.69405"
      ]
     },
     "metadata": {},
     "output_type": "display_data"
    }
   ],
   "source": [
    "Hessian_approximation(fo,beta_0)"
   ]
  },
  {
   "cell_type": "code",
   "execution_count": 145,
   "metadata": {},
   "outputs": [
    {
     "data": {
      "text/html": [
       "<table>\n",
       "<caption>A matrix: 4 × 4 of type dbl</caption>\n",
       "<thead>\n",
       "\t<tr><th></th><th scope=col>disp</th><th scope=col>drat</th><th scope=col>wt</th><th scope=col>qsec</th></tr>\n",
       "</thead>\n",
       "<tbody>\n",
       "\t<tr><th scope=row>disp</th><td>68113.8584</td><td>784.21238</td><td>846.60903</td><td>4025.04700</td></tr>\n",
       "\t<tr><th scope=row>drat</th><td>  784.2124</td><td> 13.71221</td><td> 11.20997</td><td>  64.27856</td></tr>\n",
       "\t<tr><th scope=row>wt</th><td>  846.6090</td><td> 11.20997</td><td> 11.77816</td><td>  57.12796</td></tr>\n",
       "\t<tr><th scope=row>qsec</th><td> 4025.0470</td><td> 64.27856</td><td> 57.12796</td><td> 322.17126</td></tr>\n",
       "</tbody>\n",
       "</table>\n"
      ],
      "text/latex": [
       "A matrix: 4 × 4 of type dbl\n",
       "\\begin{tabular}{r|llll}\n",
       "  & disp & drat & wt & qsec\\\\\n",
       "\\hline\n",
       "\tdisp & 68113.8584 & 784.21238 & 846.60903 & 4025.04700\\\\\n",
       "\tdrat &   784.2124 &  13.71221 &  11.20997 &   64.27856\\\\\n",
       "\twt &   846.6090 &  11.20997 &  11.77816 &   57.12796\\\\\n",
       "\tqsec &  4025.0470 &  64.27856 &  57.12796 &  322.17126\\\\\n",
       "\\end{tabular}\n"
      ],
      "text/markdown": [
       "\n",
       "A matrix: 4 × 4 of type dbl\n",
       "\n",
       "| <!--/--> | disp | drat | wt | qsec |\n",
       "|---|---|---|---|---|\n",
       "| disp | 68113.8584 | 784.21238 | 846.60903 | 4025.04700 |\n",
       "| drat |   784.2124 |  13.71221 |  11.20997 |   64.27856 |\n",
       "| wt |   846.6090 |  11.20997 |  11.77816 |   57.12796 |\n",
       "| qsec |  4025.0470 |  64.27856 |  57.12796 |  322.17126 |\n",
       "\n"
      ],
      "text/plain": [
       "     disp       drat      wt        qsec      \n",
       "disp 68113.8584 784.21238 846.60903 4025.04700\n",
       "drat   784.2124  13.71221  11.20997   64.27856\n",
       "wt     846.6090  11.20997  11.77816   57.12796\n",
       "qsec  4025.0470  64.27856  57.12796  322.17126"
      ]
     },
     "metadata": {},
     "output_type": "display_data"
    }
   ],
   "source": [
    "Hessian_evaluation(beta_0)"
   ]
  },
  {
   "cell_type": "code",
   "execution_count": 146,
   "metadata": {},
   "outputs": [
    {
     "data": {
      "text/html": [
       "<ol class=list-inline>\n",
       "\t<li>1.5</li>\n",
       "\t<li>1</li>\n",
       "\t<li>1</li>\n",
       "\t<li>1</li>\n",
       "</ol>\n"
      ],
      "text/latex": [
       "\\begin{enumerate*}\n",
       "\\item 1.5\n",
       "\\item 1\n",
       "\\item 1\n",
       "\\item 1\n",
       "\\end{enumerate*}\n"
      ],
      "text/markdown": [
       "1. 1.5\n",
       "2. 1\n",
       "3. 1\n",
       "4. 1\n",
       "\n",
       "\n"
      ],
      "text/plain": [
       "[1] 1.5 1.0 1.0 1.0"
      ]
     },
     "metadata": {},
     "output_type": "display_data"
    }
   ],
   "source": [
    "beta_0"
   ]
  },
  {
   "cell_type": "code",
   "execution_count": 147,
   "metadata": {},
   "outputs": [],
   "source": [
    "beta_0<-c(0,0,0,0)"
   ]
  },
  {
   "cell_type": "code",
   "execution_count": 148,
   "metadata": {},
   "outputs": [
    {
     "data": {
      "text/html": [
       "<ol class=list-inline>\n",
       "\t<li>-4022.03340854612</li>\n",
       "\t<li>-74.3836551464483</li>\n",
       "\t<li>-59.679774722099</li>\n",
       "\t<li>-362.960778943489</li>\n",
       "</ol>\n"
      ],
      "text/latex": [
       "\\begin{enumerate*}\n",
       "\\item -4022.03340854612\n",
       "\\item -74.3836551464483\n",
       "\\item -59.679774722099\n",
       "\\item -362.960778943489\n",
       "\\end{enumerate*}\n"
      ],
      "text/markdown": [
       "1. -4022.03340854612\n",
       "2. -74.3836551464483\n",
       "3. -59.679774722099\n",
       "4. -362.960778943489\n",
       "\n",
       "\n"
      ],
      "text/plain": [
       "[1] -4022.03341   -74.38366   -59.67977  -362.96078"
      ]
     },
     "metadata": {},
     "output_type": "display_data"
    }
   ],
   "source": [
    "gradient_approximation(fo,beta_0)"
   ]
  },
  {
   "cell_type": "code",
   "execution_count": 149,
   "metadata": {},
   "outputs": [
    {
     "data": {
      "text/html": [
       "<table>\n",
       "<caption>A matrix: 4 × 1 of type dbl</caption>\n",
       "<tbody>\n",
       "\t<tr><th scope=row>disp</th><td>-4022.03375</td></tr>\n",
       "\t<tr><th scope=row>drat</th><td>  -74.38366</td></tr>\n",
       "\t<tr><th scope=row>wt</th><td>  -59.67977</td></tr>\n",
       "\t<tr><th scope=row>qsec</th><td> -362.96078</td></tr>\n",
       "</tbody>\n",
       "</table>\n"
      ],
      "text/latex": [
       "A matrix: 4 × 1 of type dbl\n",
       "\\begin{tabular}{r|l}\n",
       "\tdisp & -4022.03375\\\\\n",
       "\tdrat &   -74.38366\\\\\n",
       "\twt &   -59.67977\\\\\n",
       "\tqsec &  -362.96078\\\\\n",
       "\\end{tabular}\n"
      ],
      "text/markdown": [
       "\n",
       "A matrix: 4 × 1 of type dbl\n",
       "\n",
       "| disp | -4022.03375 |\n",
       "| drat |   -74.38366 |\n",
       "| wt |   -59.67977 |\n",
       "| qsec |  -362.96078 |\n",
       "\n"
      ],
      "text/plain": [
       "     [,1]       \n",
       "disp -4022.03375\n",
       "drat   -74.38366\n",
       "wt     -59.67977\n",
       "qsec  -362.96078"
      ]
     },
     "metadata": {},
     "output_type": "display_data"
    }
   ],
   "source": [
    "gf_evaluation(beta_0)"
   ]
  },
  {
   "cell_type": "code",
   "execution_count": 150,
   "metadata": {},
   "outputs": [
    {
     "data": {
      "text/html": [
       "<table>\n",
       "<caption>A matrix: 4 × 4 of type dbl</caption>\n",
       "<tbody>\n",
       "\t<tr><td>68113.8204</td><td>784.21181</td><td>846.62588</td><td>4025.05407</td></tr>\n",
       "\t<tr><td>  784.2118</td><td> 13.72769</td><td> 11.22658</td><td>  64.28991</td></tr>\n",
       "\t<tr><td>  846.6259</td><td> 11.22658</td><td> 11.79501</td><td>  57.12764</td></tr>\n",
       "\t<tr><td> 4025.0541</td><td> 64.28991</td><td> 57.12764</td><td> 322.16008</td></tr>\n",
       "</tbody>\n",
       "</table>\n"
      ],
      "text/latex": [
       "A matrix: 4 × 4 of type dbl\n",
       "\\begin{tabular}{llll}\n",
       "\t 68113.8204 & 784.21181 & 846.62588 & 4025.05407\\\\\n",
       "\t   784.2118 &  13.72769 &  11.22658 &   64.28991\\\\\n",
       "\t   846.6259 &  11.22658 &  11.79501 &   57.12764\\\\\n",
       "\t  4025.0541 &  64.28991 &  57.12764 &  322.16008\\\\\n",
       "\\end{tabular}\n"
      ],
      "text/markdown": [
       "\n",
       "A matrix: 4 × 4 of type dbl\n",
       "\n",
       "| 68113.8204 | 784.21181 | 846.62588 | 4025.05407 |\n",
       "|   784.2118 |  13.72769 |  11.22658 |   64.28991 |\n",
       "|   846.6259 |  11.22658 |  11.79501 |   57.12764 |\n",
       "|  4025.0541 |  64.28991 |  57.12764 |  322.16008 |\n",
       "\n"
      ],
      "text/plain": [
       "     [,1]       [,2]      [,3]      [,4]      \n",
       "[1,] 68113.8204 784.21181 846.62588 4025.05407\n",
       "[2,]   784.2118  13.72769  11.22658   64.28991\n",
       "[3,]   846.6259  11.22658  11.79501   57.12764\n",
       "[4,]  4025.0541  64.28991  57.12764  322.16008"
      ]
     },
     "metadata": {},
     "output_type": "display_data"
    }
   ],
   "source": [
    "Hessian_approximation(fo,beta_0)"
   ]
  },
  {
   "cell_type": "code",
   "execution_count": 151,
   "metadata": {},
   "outputs": [
    {
     "data": {
      "text/html": [
       "<table>\n",
       "<caption>A matrix: 4 × 4 of type dbl</caption>\n",
       "<thead>\n",
       "\t<tr><th></th><th scope=col>disp</th><th scope=col>drat</th><th scope=col>wt</th><th scope=col>qsec</th></tr>\n",
       "</thead>\n",
       "<tbody>\n",
       "\t<tr><th scope=row>disp</th><td>68113.8584</td><td>784.21238</td><td>846.60903</td><td>4025.04700</td></tr>\n",
       "\t<tr><th scope=row>drat</th><td>  784.2124</td><td> 13.71221</td><td> 11.20997</td><td>  64.27856</td></tr>\n",
       "\t<tr><th scope=row>wt</th><td>  846.6090</td><td> 11.20997</td><td> 11.77816</td><td>  57.12796</td></tr>\n",
       "\t<tr><th scope=row>qsec</th><td> 4025.0470</td><td> 64.27856</td><td> 57.12796</td><td> 322.17126</td></tr>\n",
       "</tbody>\n",
       "</table>\n"
      ],
      "text/latex": [
       "A matrix: 4 × 4 of type dbl\n",
       "\\begin{tabular}{r|llll}\n",
       "  & disp & drat & wt & qsec\\\\\n",
       "\\hline\n",
       "\tdisp & 68113.8584 & 784.21238 & 846.60903 & 4025.04700\\\\\n",
       "\tdrat &   784.2124 &  13.71221 &  11.20997 &   64.27856\\\\\n",
       "\twt &   846.6090 &  11.20997 &  11.77816 &   57.12796\\\\\n",
       "\tqsec &  4025.0470 &  64.27856 &  57.12796 &  322.17126\\\\\n",
       "\\end{tabular}\n"
      ],
      "text/markdown": [
       "\n",
       "A matrix: 4 × 4 of type dbl\n",
       "\n",
       "| <!--/--> | disp | drat | wt | qsec |\n",
       "|---|---|---|---|---|\n",
       "| disp | 68113.8584 | 784.21238 | 846.60903 | 4025.04700 |\n",
       "| drat |   784.2124 |  13.71221 |  11.20997 |   64.27856 |\n",
       "| wt |   846.6090 |  11.20997 |  11.77816 |   57.12796 |\n",
       "| qsec |  4025.0470 |  64.27856 |  57.12796 |  322.17126 |\n",
       "\n"
      ],
      "text/plain": [
       "     disp       drat      wt        qsec      \n",
       "disp 68113.8584 784.21238 846.60903 4025.04700\n",
       "drat   784.2124  13.71221  11.20997   64.27856\n",
       "wt     846.6090  11.20997  11.77816   57.12796\n",
       "qsec  4025.0470  64.27856  57.12796  322.17126"
      ]
     },
     "metadata": {},
     "output_type": "display_data"
    }
   ],
   "source": [
    "Hessian_evaluation(beta_0)"
   ]
  },
  {
   "cell_type": "code",
   "execution_count": 152,
   "metadata": {},
   "outputs": [],
   "source": [
    "fit <- glmnet(A,y,alpha=0,lambda=reg,standardize=F,nlambda=1,intercept=F,thresh=1e-8)"
   ]
  },
  {
   "cell_type": "code",
   "execution_count": 153,
   "metadata": {},
   "outputs": [],
   "source": [
    "beta_ast <- as.matrix(fit$beta)\n"
   ]
  },
  {
   "cell_type": "code",
   "execution_count": 154,
   "metadata": {},
   "outputs": [
    {
     "name": "stdout",
     "output_type": "stream",
     "text": [
      "               s0\n",
      "disp -0.002266897\n",
      "drat  2.574343046\n",
      "wt   -3.235364158\n",
      "qsec  1.216575201\n"
     ]
    }
   ],
   "source": [
    "print(beta_ast)"
   ]
  },
  {
   "cell_type": "code",
   "execution_count": 155,
   "metadata": {},
   "outputs": [],
   "source": [
    "beta_0<-c(0,0,0,0)"
   ]
  },
  {
   "cell_type": "markdown",
   "metadata": {},
   "source": [
    "**Newtons method**"
   ]
  },
  {
   "cell_type": "code",
   "execution_count": 156,
   "metadata": {},
   "outputs": [
    {
     "data": {
      "text/html": [
       "<ol class=list-inline>\n",
       "\t<li>0</li>\n",
       "\t<li>0</li>\n",
       "\t<li>0</li>\n",
       "\t<li>0</li>\n",
       "</ol>\n"
      ],
      "text/latex": [
       "\\begin{enumerate*}\n",
       "\\item 0\n",
       "\\item 0\n",
       "\\item 0\n",
       "\\item 0\n",
       "\\end{enumerate*}\n"
      ],
      "text/markdown": [
       "1. 0\n",
       "2. 0\n",
       "3. 0\n",
       "4. 0\n",
       "\n",
       "\n"
      ],
      "text/plain": [
       "[1] 0 0 0 0"
      ]
     },
     "metadata": {},
     "output_type": "display_data"
    }
   ],
   "source": [
    "beta_0"
   ]
  },
  {
   "cell_type": "code",
   "execution_count": 177,
   "metadata": {},
   "outputs": [],
   "source": [
    "tol <- 1e-8\n",
    "tol_backtracking <- 1e-14\n",
    "maxiter <- 30\n",
    "p_ast <- fo(beta_ast)\n"
   ]
  },
  {
   "cell_type": "code",
   "execution_count": 178,
   "metadata": {},
   "outputs": [
    {
     "name": "stdout",
     "output_type": "stream",
     "text": [
      "I    Normagf   Error x_ast   Error p_ast   line search    condHf\n",
      "1    4.04e+03   1.00e+00      2.12e+02      ---\n",
      "2    2.26e-02   5.28e-01      1.90e+00      1.00e+00    9.34e+04\n",
      "3    3.07e-03   5.27e-01      1.90e+00      1.00e+00    1.21e+05\n",
      "4    7.55e-04   5.27e-01      1.90e+00      1.00e+00    1.24e+05\n",
      "5    7.47e-05   5.27e-01      1.90e+00      1.00e+00    1.07e+05\n",
      "Error of x with respect to x_ast: 5.27e-01\n",
      "Approximate solution:[1] -0.01818806  1.57681450 -1.19395750  1.25095429\n"
     ]
    }
   ],
   "source": [
    "l<-Newtons_method(fo, beta_0, tol, tol_backtracking, beta_ast, p_ast, maxiter)"
   ]
  },
  {
   "cell_type": "code",
   "execution_count": 179,
   "metadata": {},
   "outputs": [],
   "source": [
    "beta <- l[[1]]\n",
    "total_of_iterations <- l[[2]]\n",
    "Err_plot <- l[[3]]\n",
    "beta_plot <- l[[4]]\n"
   ]
  },
  {
   "cell_type": "code",
   "execution_count": 180,
   "metadata": {},
   "outputs": [
    {
     "name": "stdout",
     "output_type": "stream",
     "text": [
      "[1] -0.01818806  1.57681450 -1.19395750  1.25095429\n"
     ]
    }
   ],
   "source": [
    "print(beta)"
   ]
  },
  {
   "cell_type": "code",
   "execution_count": 181,
   "metadata": {},
   "outputs": [
    {
     "name": "stdout",
     "output_type": "stream",
     "text": [
      "               s0\n",
      "disp -0.002266897\n",
      "drat  2.574343046\n",
      "wt   -3.235364158\n",
      "qsec  1.216575201\n"
     ]
    }
   ],
   "source": [
    "print(beta_ast)"
   ]
  },
  {
   "cell_type": "code",
   "execution_count": 162,
   "metadata": {},
   "outputs": [
    {
     "data": {
      "text/html": [
       "5.94685758721091"
      ],
      "text/latex": [
       "5.94685758721091"
      ],
      "text/markdown": [
       "5.94685758721091"
      ],
      "text/plain": [
       "[1] 5.946858"
      ]
     },
     "metadata": {},
     "output_type": "display_data"
    }
   ],
   "source": [
    "fo(beta)"
   ]
  },
  {
   "cell_type": "code",
   "execution_count": 163,
   "metadata": {},
   "outputs": [
    {
     "data": {
      "text/html": [
       "<table>\n",
       "<caption>A matrix: 4 × 29 of type dbl</caption>\n",
       "<tbody>\n",
       "\t<tr><td>-0.01814363</td><td>-0.01816322</td><td>-0.01819045</td><td>-0.01818806</td><td>-0.01818871</td><td>-0.01818874</td><td>-0.01818876</td><td>-0.01818877</td><td>-0.01818877</td><td>-0.01818877</td><td>⋯</td><td>-0.01818877</td><td>-0.01818877</td><td>-0.01818877</td><td>-0.01818877</td><td>-0.01818877</td><td>-0.01818877</td><td>-0.01818877</td><td>-0.01818877</td><td>-0.01818877</td><td>-0.01818877</td></tr>\n",
       "\t<tr><td> 1.55616018</td><td> 1.57502924</td><td> 1.57745397</td><td> 1.57681450</td><td> 1.57683735</td><td> 1.57684258</td><td> 1.57684266</td><td> 1.57684249</td><td> 1.57684249</td><td> 1.57684249</td><td>⋯</td><td> 1.57684248</td><td> 1.57684248</td><td> 1.57684248</td><td> 1.57684248</td><td> 1.57684248</td><td> 1.57684248</td><td> 1.57684248</td><td> 1.57684248</td><td> 1.57684248</td><td> 1.57684248</td></tr>\n",
       "\t<tr><td>-1.20239992</td><td>-1.19746132</td><td>-1.19357550</td><td>-1.19395750</td><td>-1.19386751</td><td>-1.19386388</td><td>-1.19386079</td><td>-1.19386003</td><td>-1.19386003</td><td>-1.19386004</td><td>⋯</td><td>-1.19386004</td><td>-1.19386004</td><td>-1.19386004</td><td>-1.19386004</td><td>-1.19386004</td><td>-1.19386004</td><td>-1.19386004</td><td>-1.19386004</td><td>-1.19386004</td><td>-1.19386004</td></tr>\n",
       "\t<tr><td> 1.25600518</td><td> 1.25161864</td><td> 1.25078981</td><td> 1.25095429</td><td> 1.25094206</td><td> 1.25094067</td><td> 1.25094046</td><td> 1.25094040</td><td> 1.25094040</td><td> 1.25094040</td><td>⋯</td><td> 1.25094040</td><td> 1.25094040</td><td> 1.25094040</td><td> 1.25094040</td><td> 1.25094040</td><td> 1.25094040</td><td> 1.25094040</td><td> 1.25094040</td><td> 1.25094040</td><td> 1.25094040</td></tr>\n",
       "</tbody>\n",
       "</table>\n"
      ],
      "text/latex": [
       "A matrix: 4 × 29 of type dbl\n",
       "\\begin{tabular}{lllllllllllllllllllll}\n",
       "\t -0.01814363 & -0.01816322 & -0.01819045 & -0.01818806 & -0.01818871 & -0.01818874 & -0.01818876 & -0.01818877 & -0.01818877 & -0.01818877 & ⋯ & -0.01818877 & -0.01818877 & -0.01818877 & -0.01818877 & -0.01818877 & -0.01818877 & -0.01818877 & -0.01818877 & -0.01818877 & -0.01818877\\\\\n",
       "\t  1.55616018 &  1.57502924 &  1.57745397 &  1.57681450 &  1.57683735 &  1.57684258 &  1.57684266 &  1.57684249 &  1.57684249 &  1.57684249 & ⋯ &  1.57684248 &  1.57684248 &  1.57684248 &  1.57684248 &  1.57684248 &  1.57684248 &  1.57684248 &  1.57684248 &  1.57684248 &  1.57684248\\\\\n",
       "\t -1.20239992 & -1.19746132 & -1.19357550 & -1.19395750 & -1.19386751 & -1.19386388 & -1.19386079 & -1.19386003 & -1.19386003 & -1.19386004 & ⋯ & -1.19386004 & -1.19386004 & -1.19386004 & -1.19386004 & -1.19386004 & -1.19386004 & -1.19386004 & -1.19386004 & -1.19386004 & -1.19386004\\\\\n",
       "\t  1.25600518 &  1.25161864 &  1.25078981 &  1.25095429 &  1.25094206 &  1.25094067 &  1.25094046 &  1.25094040 &  1.25094040 &  1.25094040 & ⋯ &  1.25094040 &  1.25094040 &  1.25094040 &  1.25094040 &  1.25094040 &  1.25094040 &  1.25094040 &  1.25094040 &  1.25094040 &  1.25094040\\\\\n",
       "\\end{tabular}\n"
      ],
      "text/markdown": [
       "\n",
       "A matrix: 4 × 29 of type dbl\n",
       "\n",
       "| -0.01814363 | -0.01816322 | -0.01819045 | -0.01818806 | -0.01818871 | -0.01818874 | -0.01818876 | -0.01818877 | -0.01818877 | -0.01818877 | ⋯ | -0.01818877 | -0.01818877 | -0.01818877 | -0.01818877 | -0.01818877 | -0.01818877 | -0.01818877 | -0.01818877 | -0.01818877 | -0.01818877 |\n",
       "|  1.55616018 |  1.57502924 |  1.57745397 |  1.57681450 |  1.57683735 |  1.57684258 |  1.57684266 |  1.57684249 |  1.57684249 |  1.57684249 | ⋯ |  1.57684248 |  1.57684248 |  1.57684248 |  1.57684248 |  1.57684248 |  1.57684248 |  1.57684248 |  1.57684248 |  1.57684248 |  1.57684248 |\n",
       "| -1.20239992 | -1.19746132 | -1.19357550 | -1.19395750 | -1.19386751 | -1.19386388 | -1.19386079 | -1.19386003 | -1.19386003 | -1.19386004 | ⋯ | -1.19386004 | -1.19386004 | -1.19386004 | -1.19386004 | -1.19386004 | -1.19386004 | -1.19386004 | -1.19386004 | -1.19386004 | -1.19386004 |\n",
       "|  1.25600518 |  1.25161864 |  1.25078981 |  1.25095429 |  1.25094206 |  1.25094067 |  1.25094046 |  1.25094040 |  1.25094040 |  1.25094040 | ⋯ |  1.25094040 |  1.25094040 |  1.25094040 |  1.25094040 |  1.25094040 |  1.25094040 |  1.25094040 |  1.25094040 |  1.25094040 |  1.25094040 |\n",
       "\n"
      ],
      "text/plain": [
       "     [,1]        [,2]        [,3]        [,4]        [,5]        [,6]       \n",
       "[1,] -0.01814363 -0.01816322 -0.01819045 -0.01818806 -0.01818871 -0.01818874\n",
       "[2,]  1.55616018  1.57502924  1.57745397  1.57681450  1.57683735  1.57684258\n",
       "[3,] -1.20239992 -1.19746132 -1.19357550 -1.19395750 -1.19386751 -1.19386388\n",
       "[4,]  1.25600518  1.25161864  1.25078981  1.25095429  1.25094206  1.25094067\n",
       "     [,7]        [,8]        [,9]        [,10]       [,11] [,12]      \n",
       "[1,] -0.01818876 -0.01818877 -0.01818877 -0.01818877 ⋯     -0.01818877\n",
       "[2,]  1.57684266  1.57684249  1.57684249  1.57684249 ⋯      1.57684248\n",
       "[3,] -1.19386079 -1.19386003 -1.19386003 -1.19386004 ⋯     -1.19386004\n",
       "[4,]  1.25094046  1.25094040  1.25094040  1.25094040 ⋯      1.25094040\n",
       "     [,13]       [,14]       [,15]       [,16]       [,17]       [,18]      \n",
       "[1,] -0.01818877 -0.01818877 -0.01818877 -0.01818877 -0.01818877 -0.01818877\n",
       "[2,]  1.57684248  1.57684248  1.57684248  1.57684248  1.57684248  1.57684248\n",
       "[3,] -1.19386004 -1.19386004 -1.19386004 -1.19386004 -1.19386004 -1.19386004\n",
       "[4,]  1.25094040  1.25094040  1.25094040  1.25094040  1.25094040  1.25094040\n",
       "     [,19]       [,20]       [,21]      \n",
       "[1,] -0.01818877 -0.01818877 -0.01818877\n",
       "[2,]  1.57684248  1.57684248  1.57684248\n",
       "[3,] -1.19386004 -1.19386004 -1.19386004\n",
       "[4,]  1.25094040  1.25094040  1.25094040"
      ]
     },
     "metadata": {},
     "output_type": "display_data"
    }
   ],
   "source": [
    "beta_plot"
   ]
  },
  {
   "cell_type": "code",
   "execution_count": 164,
   "metadata": {},
   "outputs": [
    {
     "data": {
      "image/png": "[encoded data removed]",
      "text/plain": [
       "plot without title"
      ]
     },
     "metadata": {
      "image/png": {
       "height": 420,
       "width": 420
      }
     },
     "output_type": "display_data"
    }
   ],
   "source": [
    "gg +\n",
    "geom_point(aes(x=beta_plot[1,],y=beta_plot[2,]),size=2) +\n",
    "#annotate(geom='text', x=0.5, y=0.47, \n",
    "#         label=TeX(\"x^{(0)}\", output='character'), parse=TRUE) + \n",
    "xlab('x') + ylab('y') + \n",
    "ggtitle(TeX('Iter del método de descenso en gradiente para $f_o$'))"
   ]
  },
  {
   "cell_type": "code",
   "execution_count": 165,
   "metadata": {},
   "outputs": [
    {
     "name": "stdout",
     "output_type": "stream",
     "text": [
      "I    Normagf   Error x_ast   Error p_ast   line search\n",
      "1    4.04e+03   1.00e+00      2.12e+02      ---\n",
      "2    1.98e+02   1.00e+00      9.30e+01      1.52587890625e-05\n",
      "3    1.29e+02   1.00e+00      9.28e+01      1.52587890625e-05\n",
      "4    1.97e+03   9.74e-01      6.99e+01      0.00390625\n",
      "5    1.20e+02   9.74e-01      4.15e+01      1.52587890625e-05\n",
      "6    1.31e+03   9.63e-01      3.02e+01      0.00390625\n",
      "7    7.89e+01   9.63e-01      1.75e+01      1.52587890625e-05\n",
      "8    8.57e+02   9.60e-01      1.27e+01      0.00390625\n",
      "9    5.15e+01   9.60e-01      7.31e+00      1.52587890625e-05\n",
      "10    5.59e+02   9.59e-01      5.25e+00      0.00390625\n",
      "11    3.37e+01   9.59e-01      2.96e+00      1.52587890625e-05\n",
      "12    3.65e+02   9.60e-01      2.08e+00      0.00390625\n",
      "13    2.21e+01   9.60e-01      1.11e+00      1.52587890625e-05\n",
      "14    2.38e+02   9.60e-01      7.34e-01      0.00390625\n",
      "15    1.45e+01   9.60e-01      3.20e-01      1.52587890625e-05\n",
      "16    1.55e+02   9.60e-01      1.61e-01      0.00390625\n",
      "17    9.60e+00   9.60e-01      1.55e-02      1.52587890625e-05\n",
      "18    1.01e+02   9.61e-01      8.30e-02      0.00390625\n",
      "19    6.44e+00   9.61e-01      1.58e-01      1.52587890625e-05\n",
      "20    6.60e+01   9.61e-01      1.87e-01      0.00390625\n",
      "21    4.44e+00   9.61e-01      2.19e-01      1.52587890625e-05\n",
      "22    4.31e+01   9.61e-01      2.31e-01      0.00390625\n",
      "23    3.20e+00   9.61e-01      2.44e-01      1.52587890625e-05\n",
      "24    2.81e+01   9.61e-01      2.50e-01      0.00390625\n",
      "25    2.48e+00   9.61e-01      2.55e-01      1.52587890625e-05\n",
      "26    8.18e+01   9.46e-01      3.57e-01      0.0625\n",
      "27    3.58e+00   9.46e-01      4.06e-01      1.52587890625e-05\n",
      "28    1.67e+00   9.46e-01      4.06e-01      1.52587890625e-05\n",
      "29    5.82e+01   9.36e-01      4.55e-01      0.0625\n",
      "30    3.25e+00   9.36e-01      4.80e-01      1.52587890625e-05\n",
      "Error of x with respect to x_ast: 9.36e-01\n",
      "Approximate solution:[1] -0.03003033  0.17906435  0.00000000  1.47198616\n"
     ]
    }
   ],
   "source": [
    "l<-coordinate_descent(fo, beta_0, tol, tol_backtracking, beta_ast, p_ast, maxiter)"
   ]
  },
  {
   "cell_type": "code",
   "execution_count": 166,
   "metadata": {},
   "outputs": [],
   "source": [
    "beta <- l[[1]]\n",
    "total_of_iterations <- l[[2]]\n",
    "Err_plot <- l[[3]]\n",
    "beta_plot <- l[[4]]\n"
   ]
  },
  {
   "cell_type": "code",
   "execution_count": 167,
   "metadata": {},
   "outputs": [
    {
     "name": "stdout",
     "output_type": "stream",
     "text": [
      "[1] -0.03003033  0.17906435  0.00000000  1.47198616\n"
     ]
    }
   ],
   "source": [
    "print(beta)"
   ]
  },
  {
   "cell_type": "code",
   "execution_count": 168,
   "metadata": {},
   "outputs": [
    {
     "name": "stdout",
     "output_type": "stream",
     "text": [
      "               s0\n",
      "disp -0.002266897\n",
      "drat  2.574343046\n",
      "wt   -3.235364158\n",
      "qsec  1.216575201\n"
     ]
    }
   ],
   "source": [
    "print(beta_ast)"
   ]
  },
  {
   "cell_type": "code",
   "execution_count": 169,
   "metadata": {},
   "outputs": [
    {
     "data": {
      "text/html": [
       "7.36712584893743"
      ],
      "text/latex": [
       "7.36712584893743"
      ],
      "text/markdown": [
       "7.36712584893743"
      ],
      "text/plain": [
       "[1] 7.367126"
      ]
     },
     "metadata": {},
     "output_type": "display_data"
    }
   ],
   "source": [
    "fo(beta)"
   ]
  },
  {
   "cell_type": "code",
   "execution_count": 170,
   "metadata": {},
   "outputs": [
    {
     "data": {
      "text/html": [
       "<table>\n",
       "<caption>A matrix: 4 × 29 of type dbl</caption>\n",
       "<tbody>\n",
       "\t<tr><td>0.06137136</td><td>0.05895732</td><td>0.05895732</td><td>0.02890624</td><td>0.02890624</td><td>0.008861516</td><td>0.008861516</td><td>-0.004219583</td><td>-0.004219583</td><td>-0.01275184</td><td>⋯</td><td>-0.02686602</td><td>-0.02686602</td><td>-0.02752299</td><td>-0.02752299</td><td>-0.0279515</td><td>-0.0279515</td><td>-0.02919589</td><td>-0.02914694</td><td>-0.02914694</td><td>-0.03003033</td></tr>\n",
       "\t<tr><td>0.00000000</td><td>0.00000000</td><td>0.00000000</td><td>0.00000000</td><td>0.00000000</td><td>0.000000000</td><td>0.000000000</td><td> 0.000000000</td><td> 0.000000000</td><td> 0.00000000</td><td>⋯</td><td> 0.00000000</td><td> 0.00000000</td><td> 0.00000000</td><td> 0.00000000</td><td> 0.0000000</td><td> 0.1054010</td><td> 0.10540102</td><td> 0.10540102</td><td> 0.17906435</td><td> 0.17906435</td></tr>\n",
       "\t<tr><td>0.00000000</td><td>0.00000000</td><td>0.00000000</td><td>0.00000000</td><td>0.00000000</td><td>0.000000000</td><td>0.000000000</td><td> 0.000000000</td><td> 0.000000000</td><td> 0.00000000</td><td>⋯</td><td> 0.00000000</td><td> 0.00000000</td><td> 0.00000000</td><td> 0.00000000</td><td> 0.0000000</td><td> 0.0000000</td><td> 0.00000000</td><td> 0.00000000</td><td> 0.00000000</td><td> 0.00000000</td></tr>\n",
       "\t<tr><td>0.00000000</td><td>0.00000000</td><td>0.49083910</td><td>0.49083910</td><td>0.83645455</td><td>0.836454553</td><td>1.062279338</td><td> 1.062279338</td><td> 1.209579842</td><td> 1.20957984</td><td>⋯</td><td> 1.45324634</td><td> 1.46458836</td><td> 1.46458836</td><td> 1.47198616</td><td> 1.4719862</td><td> 1.4719862</td><td> 1.47198616</td><td> 1.47198616</td><td> 1.47198616</td><td> 1.47198616</td></tr>\n",
       "</tbody>\n",
       "</table>\n"
      ],
      "text/latex": [
       "A matrix: 4 × 29 of type dbl\n",
       "\\begin{tabular}{lllllllllllllllllllll}\n",
       "\t 0.06137136 & 0.05895732 & 0.05895732 & 0.02890624 & 0.02890624 & 0.008861516 & 0.008861516 & -0.004219583 & -0.004219583 & -0.01275184 & ⋯ & -0.02686602 & -0.02686602 & -0.02752299 & -0.02752299 & -0.0279515 & -0.0279515 & -0.02919589 & -0.02914694 & -0.02914694 & -0.03003033\\\\\n",
       "\t 0.00000000 & 0.00000000 & 0.00000000 & 0.00000000 & 0.00000000 & 0.000000000 & 0.000000000 &  0.000000000 &  0.000000000 &  0.00000000 & ⋯ &  0.00000000 &  0.00000000 &  0.00000000 &  0.00000000 &  0.0000000 &  0.1054010 &  0.10540102 &  0.10540102 &  0.17906435 &  0.17906435\\\\\n",
       "\t 0.00000000 & 0.00000000 & 0.00000000 & 0.00000000 & 0.00000000 & 0.000000000 & 0.000000000 &  0.000000000 &  0.000000000 &  0.00000000 & ⋯ &  0.00000000 &  0.00000000 &  0.00000000 &  0.00000000 &  0.0000000 &  0.0000000 &  0.00000000 &  0.00000000 &  0.00000000 &  0.00000000\\\\\n",
       "\t 0.00000000 & 0.00000000 & 0.49083910 & 0.49083910 & 0.83645455 & 0.836454553 & 1.062279338 &  1.062279338 &  1.209579842 &  1.20957984 & ⋯ &  1.45324634 &  1.46458836 &  1.46458836 &  1.47198616 &  1.4719862 &  1.4719862 &  1.47198616 &  1.47198616 &  1.47198616 &  1.47198616\\\\\n",
       "\\end{tabular}\n"
      ],
      "text/markdown": [
       "\n",
       "A matrix: 4 × 29 of type dbl\n",
       "\n",
       "| 0.06137136 | 0.05895732 | 0.05895732 | 0.02890624 | 0.02890624 | 0.008861516 | 0.008861516 | -0.004219583 | -0.004219583 | -0.01275184 | ⋯ | -0.02686602 | -0.02686602 | -0.02752299 | -0.02752299 | -0.0279515 | -0.0279515 | -0.02919589 | -0.02914694 | -0.02914694 | -0.03003033 |\n",
       "| 0.00000000 | 0.00000000 | 0.00000000 | 0.00000000 | 0.00000000 | 0.000000000 | 0.000000000 |  0.000000000 |  0.000000000 |  0.00000000 | ⋯ |  0.00000000 |  0.00000000 |  0.00000000 |  0.00000000 |  0.0000000 |  0.1054010 |  0.10540102 |  0.10540102 |  0.17906435 |  0.17906435 |\n",
       "| 0.00000000 | 0.00000000 | 0.00000000 | 0.00000000 | 0.00000000 | 0.000000000 | 0.000000000 |  0.000000000 |  0.000000000 |  0.00000000 | ⋯ |  0.00000000 |  0.00000000 |  0.00000000 |  0.00000000 |  0.0000000 |  0.0000000 |  0.00000000 |  0.00000000 |  0.00000000 |  0.00000000 |\n",
       "| 0.00000000 | 0.00000000 | 0.49083910 | 0.49083910 | 0.83645455 | 0.836454553 | 1.062279338 |  1.062279338 |  1.209579842 |  1.20957984 | ⋯ |  1.45324634 |  1.46458836 |  1.46458836 |  1.47198616 |  1.4719862 |  1.4719862 |  1.47198616 |  1.47198616 |  1.47198616 |  1.47198616 |\n",
       "\n"
      ],
      "text/plain": [
       "     [,1]       [,2]       [,3]       [,4]       [,5]       [,6]       \n",
       "[1,] 0.06137136 0.05895732 0.05895732 0.02890624 0.02890624 0.008861516\n",
       "[2,] 0.00000000 0.00000000 0.00000000 0.00000000 0.00000000 0.000000000\n",
       "[3,] 0.00000000 0.00000000 0.00000000 0.00000000 0.00000000 0.000000000\n",
       "[4,] 0.00000000 0.00000000 0.49083910 0.49083910 0.83645455 0.836454553\n",
       "     [,7]        [,8]         [,9]         [,10]       [,11] [,12]      \n",
       "[1,] 0.008861516 -0.004219583 -0.004219583 -0.01275184 ⋯     -0.02686602\n",
       "[2,] 0.000000000  0.000000000  0.000000000  0.00000000 ⋯      0.00000000\n",
       "[3,] 0.000000000  0.000000000  0.000000000  0.00000000 ⋯      0.00000000\n",
       "[4,] 1.062279338  1.062279338  1.209579842  1.20957984 ⋯      1.45324634\n",
       "     [,13]       [,14]       [,15]       [,16]      [,17]      [,18]      \n",
       "[1,] -0.02686602 -0.02752299 -0.02752299 -0.0279515 -0.0279515 -0.02919589\n",
       "[2,]  0.00000000  0.00000000  0.00000000  0.0000000  0.1054010  0.10540102\n",
       "[3,]  0.00000000  0.00000000  0.00000000  0.0000000  0.0000000  0.00000000\n",
       "[4,]  1.46458836  1.46458836  1.47198616  1.4719862  1.4719862  1.47198616\n",
       "     [,19]       [,20]       [,21]      \n",
       "[1,] -0.02914694 -0.02914694 -0.03003033\n",
       "[2,]  0.10540102  0.17906435  0.17906435\n",
       "[3,]  0.00000000  0.00000000  0.00000000\n",
       "[4,]  1.47198616  1.47198616  1.47198616"
      ]
     },
     "metadata": {},
     "output_type": "display_data"
    }
   ],
   "source": [
    "beta_plot"
   ]
  },
  {
   "cell_type": "code",
   "execution_count": 171,
   "metadata": {},
   "outputs": [
    {
     "name": "stdout",
     "output_type": "stream",
     "text": [
      "I    Normagf   Error x_ast   Error p_ast   line search\n",
      "1    4.04e+03   1.00e+00      2.12e+02      ---\n",
      "2    2.17e+02   1.00e+00      9.23e+01      1.52587890625e-05\n",
      "3    2.29e+02   9.99e-01      9.19e+01      3.0517578125e-05\n",
      "4    2.42e+02   9.99e-01      9.14e+01      3.0517578125e-05\n",
      "5    2.58e+02   9.99e-01      9.10e+01      3.0517578125e-05\n",
      "6    2.74e+02   9.98e-01      9.06e+01      3.0517578125e-05\n",
      "7    2.93e+02   9.98e-01      9.01e+01      3.0517578125e-05\n",
      "8    3.14e+02   9.98e-01      8.98e+01      3.0517578125e-05\n",
      "9    1.26e+02   9.98e-01      8.89e+01      1.52587890625e-05\n",
      "10    1.65e+03   9.80e-01      8.05e+01      0.001953125\n",
      "11    1.26e+02   9.80e-01      6.05e+01      1.52587890625e-05\n",
      "12    2.49e+02   9.79e-01      6.02e+01      6.103515625e-05\n",
      "13    1.04e+02   9.79e-01      5.97e+01      1.52587890625e-05\n",
      "14    1.30e+03   9.66e-01      5.30e+01      0.001953125\n",
      "15    1.02e+02   9.66e-01      4.06e+01      1.52587890625e-05\n",
      "16    1.97e+02   9.66e-01      4.03e+01      6.103515625e-05\n",
      "17    8.51e+01   9.66e-01      4.00e+01      1.52587890625e-05\n",
      "18    1.02e+03   9.57e-01      3.48e+01      0.001953125\n",
      "19    8.28e+01   9.57e-01      2.71e+01      1.52587890625e-05\n",
      "20    1.57e+02   9.57e-01      2.70e+01      6.103515625e-05\n",
      "21    1.67e+02   9.57e-01      2.68e+01      3.0517578125e-05\n",
      "22    6.96e+01   9.57e-01      2.66e+01      1.52587890625e-05\n",
      "23    8.76e+02   9.51e-01      2.36e+01      0.001953125\n",
      "24    6.86e+01   9.51e-01      1.80e+01      1.52587890625e-05\n",
      "25    1.33e+02   9.50e-01      1.79e+01      6.103515625e-05\n",
      "26    5.71e+01   9.50e-01      1.77e+01      1.52587890625e-05\n",
      "27    6.90e+02   9.46e-01      1.54e+01      0.001953125\n",
      "28    5.56e+01   9.46e-01      1.19e+01      1.52587890625e-05\n",
      "29    1.05e+02   9.46e-01      1.18e+01      6.103515625e-05\n",
      "30    1.13e+02   9.46e-01      1.18e+01      3.0517578125e-05\n",
      "Error of x with respect to x_ast: 9.46e-01\n",
      "Approximate solution:[1] 0.004279252 0.205278374 0.066525382 0.899007102\n"
     ]
    }
   ],
   "source": [
    "l<-gradient_descent(fo, beta_0, tol, tol_backtracking, beta_ast, p_ast, maxiter)"
   ]
  },
  {
   "cell_type": "code",
   "execution_count": 172,
   "metadata": {},
   "outputs": [],
   "source": [
    "beta <- l[[1]]\n",
    "total_of_iterations <- l[[2]]\n",
    "Err_plot <- l[[3]]\n",
    "beta_plot <- l[[4]]\n"
   ]
  },
  {
   "cell_type": "code",
   "execution_count": 173,
   "metadata": {},
   "outputs": [
    {
     "name": "stdout",
     "output_type": "stream",
     "text": [
      "[1] 0.004279252 0.205278374 0.066525382 0.899007102\n"
     ]
    }
   ],
   "source": [
    "print(beta)"
   ]
  },
  {
   "cell_type": "code",
   "execution_count": 174,
   "metadata": {},
   "outputs": [
    {
     "name": "stdout",
     "output_type": "stream",
     "text": [
      "               s0\n",
      "disp -0.002266897\n",
      "drat  2.574343046\n",
      "wt   -3.235364158\n",
      "qsec  1.216575201\n"
     ]
    }
   ],
   "source": [
    "print(beta_ast)"
   ]
  },
  {
   "cell_type": "code",
   "execution_count": 175,
   "metadata": {},
   "outputs": [
    {
     "data": {
      "text/html": [
       "19.6328348494032"
      ],
      "text/latex": [
       "19.6328348494032"
      ],
      "text/markdown": [
       "19.6328348494032"
      ],
      "text/plain": [
       "[1] 19.63283"
      ]
     },
     "metadata": {},
     "output_type": "display_data"
    }
   ],
   "source": [
    "fo(beta)"
   ]
  },
  {
   "cell_type": "code",
   "execution_count": 176,
   "metadata": {},
   "outputs": [
    {
     "data": {
      "text/html": [
       "<table>\n",
       "<caption>A matrix: 4 × 29 of type dbl</caption>\n",
       "<tbody>\n",
       "\t<tr><td>0.0613713594</td><td>0.055812283</td><td>0.061356524</td><td>0.054837957</td><td>0.061427394</td><td>0.053775854</td><td>0.061598968</td><td>0.057104308</td><td>0.06638388</td><td>0.04118335</td><td>⋯</td><td>0.01624017</td><td>0.01849698</td><td>-0.002597636</td><td>0.01066072</td><td>0.008144258</td><td>0.009918957</td><td>-0.006960285</td><td>0.003476457</td><td>0.001488231</td><td>0.004279252</td></tr>\n",
       "\t<tr><td>0.0011350045</td><td>0.001924608</td><td>0.002840018</td><td>0.003614141</td><td>0.004537196</td><td>0.005293861</td><td>0.006226759</td><td>0.006595194</td><td>0.06042558</td><td>0.06048518</td><td>⋯</td><td>0.14673379</td><td>0.14699905</td><td> 0.177339900</td><td>0.17769337</td><td>0.178465769</td><td>0.178685594</td><td> 0.203978047</td><td>0.204266036</td><td>0.204912916</td><td>0.205278374</td></tr>\n",
       "\t<tr><td>0.0009106411</td><td>0.001135933</td><td>0.001498435</td><td>0.001710055</td><td>0.002083819</td><td>0.002279618</td><td>0.002666998</td><td>0.002755719</td><td>0.02135455</td><td>0.02115816</td><td>⋯</td><td>0.04920217</td><td>0.04930356</td><td> 0.058412031</td><td>0.05863503</td><td>0.058835839</td><td>0.058915545</td><td> 0.066070591</td><td>0.066245544</td><td>0.066401148</td><td>0.066525382</td></tr>\n",
       "\t<tr><td>0.0055383420</td><td>0.009018228</td><td>0.013144805</td><td>0.016547358</td><td>0.020715276</td><td>0.024030342</td><td>0.028250864</td><td>0.029858649</td><td>0.26992173</td><td>0.26997815</td><td>⋯</td><td>0.64874391</td><td>0.64990882</td><td> 0.780498877</td><td>0.78213502</td><td>0.785388061</td><td>0.786338952</td><td> 0.893466552</td><td>0.894782487</td><td>0.897454623</td><td>0.899007102</td></tr>\n",
       "</tbody>\n",
       "</table>\n"
      ],
      "text/latex": [
       "A matrix: 4 × 29 of type dbl\n",
       "\\begin{tabular}{lllllllllllllllllllll}\n",
       "\t 0.0613713594 & 0.055812283 & 0.061356524 & 0.054837957 & 0.061427394 & 0.053775854 & 0.061598968 & 0.057104308 & 0.06638388 & 0.04118335 & ⋯ & 0.01624017 & 0.01849698 & -0.002597636 & 0.01066072 & 0.008144258 & 0.009918957 & -0.006960285 & 0.003476457 & 0.001488231 & 0.004279252\\\\\n",
       "\t 0.0011350045 & 0.001924608 & 0.002840018 & 0.003614141 & 0.004537196 & 0.005293861 & 0.006226759 & 0.006595194 & 0.06042558 & 0.06048518 & ⋯ & 0.14673379 & 0.14699905 &  0.177339900 & 0.17769337 & 0.178465769 & 0.178685594 &  0.203978047 & 0.204266036 & 0.204912916 & 0.205278374\\\\\n",
       "\t 0.0009106411 & 0.001135933 & 0.001498435 & 0.001710055 & 0.002083819 & 0.002279618 & 0.002666998 & 0.002755719 & 0.02135455 & 0.02115816 & ⋯ & 0.04920217 & 0.04930356 &  0.058412031 & 0.05863503 & 0.058835839 & 0.058915545 &  0.066070591 & 0.066245544 & 0.066401148 & 0.066525382\\\\\n",
       "\t 0.0055383420 & 0.009018228 & 0.013144805 & 0.016547358 & 0.020715276 & 0.024030342 & 0.028250864 & 0.029858649 & 0.26992173 & 0.26997815 & ⋯ & 0.64874391 & 0.64990882 &  0.780498877 & 0.78213502 & 0.785388061 & 0.786338952 &  0.893466552 & 0.894782487 & 0.897454623 & 0.899007102\\\\\n",
       "\\end{tabular}\n"
      ],
      "text/markdown": [
       "\n",
       "A matrix: 4 × 29 of type dbl\n",
       "\n",
       "| 0.0613713594 | 0.055812283 | 0.061356524 | 0.054837957 | 0.061427394 | 0.053775854 | 0.061598968 | 0.057104308 | 0.06638388 | 0.04118335 | ⋯ | 0.01624017 | 0.01849698 | -0.002597636 | 0.01066072 | 0.008144258 | 0.009918957 | -0.006960285 | 0.003476457 | 0.001488231 | 0.004279252 |\n",
       "| 0.0011350045 | 0.001924608 | 0.002840018 | 0.003614141 | 0.004537196 | 0.005293861 | 0.006226759 | 0.006595194 | 0.06042558 | 0.06048518 | ⋯ | 0.14673379 | 0.14699905 |  0.177339900 | 0.17769337 | 0.178465769 | 0.178685594 |  0.203978047 | 0.204266036 | 0.204912916 | 0.205278374 |\n",
       "| 0.0009106411 | 0.001135933 | 0.001498435 | 0.001710055 | 0.002083819 | 0.002279618 | 0.002666998 | 0.002755719 | 0.02135455 | 0.02115816 | ⋯ | 0.04920217 | 0.04930356 |  0.058412031 | 0.05863503 | 0.058835839 | 0.058915545 |  0.066070591 | 0.066245544 | 0.066401148 | 0.066525382 |\n",
       "| 0.0055383420 | 0.009018228 | 0.013144805 | 0.016547358 | 0.020715276 | 0.024030342 | 0.028250864 | 0.029858649 | 0.26992173 | 0.26997815 | ⋯ | 0.64874391 | 0.64990882 |  0.780498877 | 0.78213502 | 0.785388061 | 0.786338952 |  0.893466552 | 0.894782487 | 0.897454623 | 0.899007102 |\n",
       "\n"
      ],
      "text/plain": [
       "     [,1]         [,2]        [,3]        [,4]        [,5]        [,6]       \n",
       "[1,] 0.0613713594 0.055812283 0.061356524 0.054837957 0.061427394 0.053775854\n",
       "[2,] 0.0011350045 0.001924608 0.002840018 0.003614141 0.004537196 0.005293861\n",
       "[3,] 0.0009106411 0.001135933 0.001498435 0.001710055 0.002083819 0.002279618\n",
       "[4,] 0.0055383420 0.009018228 0.013144805 0.016547358 0.020715276 0.024030342\n",
       "     [,7]        [,8]        [,9]       [,10]      [,11] [,12]      [,13]     \n",
       "[1,] 0.061598968 0.057104308 0.06638388 0.04118335 ⋯     0.01624017 0.01849698\n",
       "[2,] 0.006226759 0.006595194 0.06042558 0.06048518 ⋯     0.14673379 0.14699905\n",
       "[3,] 0.002666998 0.002755719 0.02135455 0.02115816 ⋯     0.04920217 0.04930356\n",
       "[4,] 0.028250864 0.029858649 0.26992173 0.26997815 ⋯     0.64874391 0.64990882\n",
       "     [,14]        [,15]      [,16]       [,17]       [,18]        [,19]      \n",
       "[1,] -0.002597636 0.01066072 0.008144258 0.009918957 -0.006960285 0.003476457\n",
       "[2,]  0.177339900 0.17769337 0.178465769 0.178685594  0.203978047 0.204266036\n",
       "[3,]  0.058412031 0.05863503 0.058835839 0.058915545  0.066070591 0.066245544\n",
       "[4,]  0.780498877 0.78213502 0.785388061 0.786338952  0.893466552 0.894782487\n",
       "     [,20]       [,21]      \n",
       "[1,] 0.001488231 0.004279252\n",
       "[2,] 0.204912916 0.205278374\n",
       "[3,] 0.066401148 0.066525382\n",
       "[4,] 0.897454623 0.899007102"
      ]
     },
     "metadata": {},
     "output_type": "display_data"
    }
   ],
   "source": [
    "beta_plot"
   ]
  },
  {
   "cell_type": "code",
   "execution_count": 174,
   "metadata": {},
   "outputs": [
    {
     "data": {
      "text/html": [
       "\n",
       "<table width=\"100%\" summary=\"page for glmnet {glmnet}\"><tr><td>glmnet {glmnet}</td><td style=\"text-align: right;\">R Documentation</td></tr></table>\n",
       "\n",
       "<h2>fit a GLM with lasso or elasticnet regularization</h2>\n",
       "\n",
       "<h3>Description</h3>\n",
       "\n",
       "<p>Fit a generalized linear model via penalized maximum likelihood.  The\n",
       "regularization path is computed for the lasso or elasticnet penalty at a\n",
       "grid of values for the regularization parameter lambda. Can deal with all\n",
       "shapes of data, including very large sparse data matrices. Fits linear,\n",
       "logistic and multinomial, poisson, and Cox regression models.\n",
       "</p>\n",
       "\n",
       "\n",
       "<h3>Usage</h3>\n",
       "\n",
       "<pre>\n",
       "glmnet(x, y, family = c(\"gaussian\", \"binomial\", \"poisson\", \"multinomial\",\n",
       "  \"cox\", \"mgaussian\"), weights, offset = NULL, alpha = 1,\n",
       "  nlambda = 100, lambda.min.ratio = ifelse(nobs &lt; nvars, 0.01, 1e-04),\n",
       "  lambda = NULL, standardize = TRUE, intercept = TRUE,\n",
       "  thresh = 1e-07, dfmax = nvars + 1, pmax = min(dfmax * 2 + 20,\n",
       "  nvars), exclude, penalty.factor = rep(1, nvars), lower.limits = -Inf,\n",
       "  upper.limits = Inf, maxit = 1e+05, type.gaussian = ifelse(nvars &lt;\n",
       "  500, \"covariance\", \"naive\"), type.logistic = c(\"Newton\",\n",
       "  \"modified.Newton\"), standardize.response = FALSE,\n",
       "  type.multinomial = c(\"ungrouped\", \"grouped\"), relax = FALSE,\n",
       "  trace.it = 0, ...)\n",
       "\n",
       "relax.glmnet(fit, x, ..., maxp = n - 3, path = FALSE,\n",
       "  check.args = TRUE)\n",
       "</pre>\n",
       "\n",
       "\n",
       "<h3>Arguments</h3>\n",
       "\n",
       "<table summary=\"R argblock\">\n",
       "<tr valign=\"top\"><td><code>x</code></td>\n",
       "<td>\n",
       "<p>input matrix, of dimension nobs x nvars; each row is an observation\n",
       "vector. Can be in sparse matrix format (inherit from class\n",
       "<code>\"sparseMatrix\"</code> as in package <code>Matrix</code>; not yet available for\n",
       "<code>family=\"cox\"</code>)</p>\n",
       "</td></tr>\n",
       "<tr valign=\"top\"><td><code>y</code></td>\n",
       "<td>\n",
       "<p>response variable. Quantitative for <code>family=\"gaussian\"</code>, or\n",
       "<code>family=\"poisson\"</code> (non-negative counts). For <code>family=\"binomial\"</code>\n",
       "should be either a factor with two levels, or a two-column matrix of counts\n",
       "or proportions (the second column is treated as the target class; for a\n",
       "factor, the last level in alphabetical order is the target class). For\n",
       "<code>family=\"multinomial\"</code>, can be a <code>nc&gt;=2</code> level factor, or a matrix\n",
       "with <code>nc</code> columns of counts or proportions.  For either\n",
       "<code>\"binomial\"</code> or <code>\"multinomial\"</code>, if <code>y</code> is presented as a\n",
       "vector, it will be coerced into a factor. For <code>family=\"cox\"</code>, <code>y</code>\n",
       "should be a two-column matrix with columns named 'time' and 'status'. The\n",
       "latter is a binary variable, with '1' indicating death, and '0' indicating\n",
       "right censored. The function <code>Surv()</code> in package <span class=\"pkg\">survival</span>\n",
       "produces such a matrix. For <code>family=\"mgaussian\"</code>, <code>y</code> is a matrix\n",
       "of quantitative responses.</p>\n",
       "</td></tr>\n",
       "<tr valign=\"top\"><td><code>family</code></td>\n",
       "<td>\n",
       "<p>Response type (see above)</p>\n",
       "</td></tr>\n",
       "<tr valign=\"top\"><td><code>weights</code></td>\n",
       "<td>\n",
       "<p>observation weights. Can be total counts if responses are\n",
       "proportion matrices. Default is 1 for each observation</p>\n",
       "</td></tr>\n",
       "<tr valign=\"top\"><td><code>offset</code></td>\n",
       "<td>\n",
       "<p>A vector of length <code>nobs</code> that is included in the linear\n",
       "predictor (a <code>nobs x nc</code> matrix for the <code>\"multinomial\"</code> family).\n",
       "Useful for the <code>\"poisson\"</code> family (e.g. log of exposure time), or for\n",
       "refining a model by starting at a current fit. Default is <code>NULL</code>. If\n",
       "supplied, then values must also be supplied to the <code>predict</code> function.</p>\n",
       "</td></tr>\n",
       "<tr valign=\"top\"><td><code>alpha</code></td>\n",
       "<td>\n",
       "<p>The elasticnet mixing parameter, with <i>0&le;&alpha;&le; 1</i>.\n",
       "The penalty is defined as\n",
       "</p>\n",
       "<p style=\"text-align: center;\"><i>(1-&alpha;)/2||&beta;||_2^2+&alpha;||&beta;||_1.</i></p>\n",
       " <p><code>alpha=1</code> is the\n",
       "lasso penalty, and <code>alpha=0</code> the ridge penalty.</p>\n",
       "</td></tr>\n",
       "<tr valign=\"top\"><td><code>nlambda</code></td>\n",
       "<td>\n",
       "<p>The number of <code>lambda</code> values - default is 100.</p>\n",
       "</td></tr>\n",
       "<tr valign=\"top\"><td><code>lambda.min.ratio</code></td>\n",
       "<td>\n",
       "<p>Smallest value for <code>lambda</code>, as a fraction of\n",
       "<code>lambda.max</code>, the (data derived) entry value (i.e. the smallest value\n",
       "for which all coefficients are zero). The default depends on the sample size\n",
       "<code>nobs</code> relative to the number of variables <code>nvars</code>. If <code>nobs\n",
       "&gt; nvars</code>, the default is <code>0.0001</code>, close to zero.  If <code>nobs &lt;\n",
       "nvars</code>, the default is <code>0.01</code>.  A very small value of\n",
       "<code>lambda.min.ratio</code> will lead to a saturated fit in the <code>nobs &lt;\n",
       "nvars</code> case. This is undefined for <code>\"binomial\"</code> and\n",
       "<code>\"multinomial\"</code> models, and <code>glmnet</code> will exit gracefully when the\n",
       "percentage deviance explained is almost 1.</p>\n",
       "</td></tr>\n",
       "<tr valign=\"top\"><td><code>lambda</code></td>\n",
       "<td>\n",
       "<p>A user supplied <code>lambda</code> sequence. Typical usage is to\n",
       "have the program compute its own <code>lambda</code> sequence based on\n",
       "<code>nlambda</code> and <code>lambda.min.ratio</code>. Supplying a value of\n",
       "<code>lambda</code> overrides this. WARNING: use with care. Avoid supplying a\n",
       "single value for <code>lambda</code> (for predictions after CV use\n",
       "<code>predict()</code> instead).  Supply instead a decreasing sequence of\n",
       "<code>lambda</code> values. <code>glmnet</code> relies on its warms starts for speed,\n",
       "and its often faster to fit a whole path than compute a single fit.</p>\n",
       "</td></tr>\n",
       "<tr valign=\"top\"><td><code>standardize</code></td>\n",
       "<td>\n",
       "<p>Logical flag for x variable standardization, prior to\n",
       "fitting the model sequence. The coefficients are always returned on the\n",
       "original scale. Default is <code>standardize=TRUE</code>.  If variables are in the\n",
       "same units already, you might not wish to standardize. See details below for\n",
       "y standardization with <code>family=\"gaussian\"</code>.</p>\n",
       "</td></tr>\n",
       "<tr valign=\"top\"><td><code>intercept</code></td>\n",
       "<td>\n",
       "<p>Should intercept(s) be fitted (default=TRUE) or set to zero\n",
       "(FALSE)</p>\n",
       "</td></tr>\n",
       "<tr valign=\"top\"><td><code>thresh</code></td>\n",
       "<td>\n",
       "<p>Convergence threshold for coordinate descent. Each inner\n",
       "coordinate-descent loop continues until the maximum change in the objective\n",
       "after any coefficient update is less than <code>thresh</code> times the null\n",
       "deviance. Defaults value is <code>1E-7</code>.</p>\n",
       "</td></tr>\n",
       "<tr valign=\"top\"><td><code>dfmax</code></td>\n",
       "<td>\n",
       "<p>Limit the maximum number of variables in the model. Useful for\n",
       "very large <code>nvars</code>, if a partial path is desired.</p>\n",
       "</td></tr>\n",
       "<tr valign=\"top\"><td><code>pmax</code></td>\n",
       "<td>\n",
       "<p>Limit the maximum number of variables ever to be nonzero</p>\n",
       "</td></tr>\n",
       "<tr valign=\"top\"><td><code>exclude</code></td>\n",
       "<td>\n",
       "<p>Indices of variables to be excluded from the model. Default\n",
       "is none. Equivalent to an infinite penalty factor (next item).</p>\n",
       "</td></tr>\n",
       "<tr valign=\"top\"><td><code>penalty.factor</code></td>\n",
       "<td>\n",
       "<p>Separate penalty factors can be applied to each\n",
       "coefficient. This is a number that multiplies <code>lambda</code> to allow\n",
       "differential shrinkage. Can be 0 for some variables, which implies no\n",
       "shrinkage, and that variable is always included in the model. Default is 1\n",
       "for all variables (and implicitly infinity for variables listed in\n",
       "<code>exclude</code>). Note: the penalty factors are internally rescaled to sum to\n",
       "nvars, and the lambda sequence will reflect this change.</p>\n",
       "</td></tr>\n",
       "<tr valign=\"top\"><td><code>lower.limits</code></td>\n",
       "<td>\n",
       "<p>Vector of lower limits for each coefficient; default\n",
       "<code>-Inf</code>. Each of these must be non-positive. Can be presented as a\n",
       "single value (which will then be replicated), else a vector of length\n",
       "<code>nvars</code></p>\n",
       "</td></tr>\n",
       "<tr valign=\"top\"><td><code>upper.limits</code></td>\n",
       "<td>\n",
       "<p>Vector of upper limits for each coefficient; default\n",
       "<code>Inf</code>. See <code>lower.limits</code></p>\n",
       "</td></tr>\n",
       "<tr valign=\"top\"><td><code>maxit</code></td>\n",
       "<td>\n",
       "<p>Maximum number of passes over the data for all lambda values;\n",
       "default is 10^5.</p>\n",
       "</td></tr>\n",
       "<tr valign=\"top\"><td><code>type.gaussian</code></td>\n",
       "<td>\n",
       "<p>Two algorithm types are supported for (only)\n",
       "<code>family=\"gaussian\"</code>. The default when <code>nvar&lt;500</code> is\n",
       "<code>type.gaussian=\"covariance\"</code>, and saves all inner-products ever\n",
       "computed. This can be much faster than <code>type.gaussian=\"naive\"</code>, which\n",
       "loops through <code>nobs</code> every time an inner-product is computed. The\n",
       "latter can be far more efficient for <code>nvar &gt;&gt; nobs</code> situations, or when\n",
       "<code>nvar &gt; 500</code>.</p>\n",
       "</td></tr>\n",
       "<tr valign=\"top\"><td><code>type.logistic</code></td>\n",
       "<td>\n",
       "<p>If <code>\"Newton\"</code> then the exact hessian is used\n",
       "(default), while <code>\"modified.Newton\"</code> uses an upper-bound on the\n",
       "hessian, and can be faster.</p>\n",
       "</td></tr>\n",
       "<tr valign=\"top\"><td><code>standardize.response</code></td>\n",
       "<td>\n",
       "<p>This is for the <code>family=\"mgaussian\"</code>\n",
       "family, and allows the user to standardize the response variables</p>\n",
       "</td></tr>\n",
       "<tr valign=\"top\"><td><code>type.multinomial</code></td>\n",
       "<td>\n",
       "<p>If <code>\"grouped\"</code> then a grouped lasso penalty is\n",
       "used on the multinomial coefficients for a variable. This ensures they are\n",
       "all in our out together. The default is <code>\"ungrouped\"</code></p>\n",
       "</td></tr>\n",
       "<tr valign=\"top\"><td><code>relax</code></td>\n",
       "<td>\n",
       "<p>If <code>TRUE</code> then for each <em>active set</em> in the path of\n",
       "solutions, the model is refit without any regularization. See <code>details</code>\n",
       "for more information. This argument is new, and users may experience convergence issues\n",
       "with small datasets, especially with non-gaussian families. Limiting the\n",
       "value of 'maxp' can alleviate these issues in some cases.</p>\n",
       "</td></tr>\n",
       "<tr valign=\"top\"><td><code>trace.it</code></td>\n",
       "<td>\n",
       "<p>If <code>trace.it=1</code>, then a progress bar is displayed;\n",
       "useful for big models that take a long time to fit.</p>\n",
       "</td></tr>\n",
       "<tr valign=\"top\"><td><code>...</code></td>\n",
       "<td>\n",
       "<p>Additional argument used in <code>relax.glmnet</code>. These include\n",
       "some of the original arguments to 'glmnet', and each must be named if used.</p>\n",
       "</td></tr>\n",
       "<tr valign=\"top\"><td><code>fit</code></td>\n",
       "<td>\n",
       "<p>For <code>relax.glmnet</code> a fitted 'glmnet' object</p>\n",
       "</td></tr>\n",
       "<tr valign=\"top\"><td><code>maxp</code></td>\n",
       "<td>\n",
       "<p>a limit on how many relaxed coefficients are allowed. Default is\n",
       "'n-3', where 'n' is the sample size. This may not be sufficient for\n",
       "non-gaussian familes, in which case users should supply a smaller value.\n",
       "This argument can be supplied directly to 'glmnet'.</p>\n",
       "</td></tr>\n",
       "<tr valign=\"top\"><td><code>path</code></td>\n",
       "<td>\n",
       "<p>Since <code>glmnet</code> does not do stepsize optimization, the Newton\n",
       "algorithm can get stuck and not converge, especially with relaxed fits. With <code>path=TRUE</code>,\n",
       "each relaxed fit on a particular set of variables is computed pathwise using the original sequence\n",
       "of lambda values (with a zero attached to the end). Not needed for Gaussian models, and should not\n",
       "be used unless needed, since will lead to longer compute times. Default is <code>path=FALSE</code>.\n",
       "appropriate subset of variables</p>\n",
       "</td></tr>\n",
       "<tr valign=\"top\"><td><code>check.args</code></td>\n",
       "<td>\n",
       "<p>Should <code>relax.glmnet</code> make sure that all the data\n",
       "dependent arguments used in creating 'fit' have been resupplied. Default is\n",
       "'TRUE'.</p>\n",
       "</td></tr>\n",
       "</table>\n",
       "\n",
       "\n",
       "<h3>Details</h3>\n",
       "\n",
       "<p>The sequence of models implied by <code>lambda</code> is fit by coordinate\n",
       "descent. For <code>family=\"gaussian\"</code> this is the lasso sequence if\n",
       "<code>alpha=1</code>, else it is the elasticnet sequence.  For the other families,\n",
       "this is a lasso or elasticnet regularization path for fitting the\n",
       "generalized linear regression paths, by maximizing the appropriate penalized\n",
       "log-likelihood (partial likelihood for the &quot;cox&quot; model). Sometimes the\n",
       "sequence is truncated before <code>nlambda</code> values of <code>lambda</code> have\n",
       "been used, because of instabilities in the inverse link functions near a\n",
       "saturated fit. <code>glmnet(...,family=\"binomial\")</code> fits a traditional\n",
       "logistic regression model for the log-odds.\n",
       "<code>glmnet(...,family=\"multinomial\")</code> fits a symmetric multinomial model,\n",
       "where each class is represented by a linear model (on the log-scale). The\n",
       "penalties take care of redundancies. A two-class <code>\"multinomial\"</code> model\n",
       "will produce the same fit as the corresponding <code>\"binomial\"</code> model,\n",
       "except the pair of coefficient matrices will be equal in magnitude and\n",
       "opposite in sign, and half the <code>\"binomial\"</code> values.  Note that the\n",
       "objective function for <code>\"gaussian\"</code> is </p>\n",
       "<p style=\"text-align: center;\"><i>1/2 RSS/nobs +\n",
       "&lambda;*penalty,</i></p>\n",
       "<p> and for the other models it is </p>\n",
       "<p style=\"text-align: center;\"><i>-loglik/nobs +\n",
       "&lambda;*penalty.</i></p>\n",
       "<p> Note also that for <code>\"gaussian\"</code>, <code>glmnet</code>\n",
       "standardizes y to have unit variance (using 1/n rather than 1/(n-1) formula)\n",
       "before computing its lambda sequence (and then unstandardizes the resulting\n",
       "coefficients); if you wish to reproduce/compare results with other software,\n",
       "best to supply a standardized y. The coefficients for any predictor\n",
       "variables with zero variance are set to zero for all values of lambda.  The\n",
       "latest two features in glmnet are the <code>family=\"mgaussian\"</code> family and\n",
       "the <code>type.multinomial=\"grouped\"</code> option for multinomial fitting. The\n",
       "former allows a multi-response gaussian model to be fit, using a &quot;group\n",
       "-lasso&quot; penalty on the coefficients for each variable. Tying the responses\n",
       "together like this is called &quot;multi-task&quot; learning in some domains. The\n",
       "grouped multinomial allows the same penalty for the\n",
       "<code>family=\"multinomial\"</code> model, which is also multi-responsed. For both\n",
       "of these the penalty on the coefficient vector for variable j is\n",
       "</p>\n",
       "<p style=\"text-align: center;\"><i>(1-&alpha;)/2||&beta;_j||_2^2+&alpha;||&beta;_j||_2.</i></p>\n",
       "<p> When <code>alpha=1</code>\n",
       "this is a group-lasso penalty, and otherwise it mixes with quadratic just\n",
       "like elasticnet. A small detail in the Cox model: if death times are tied\n",
       "with censored times, we assume the censored times occurred just\n",
       "<em>before</em> the death times in computing the Breslow approximation; if\n",
       "users prefer the usual convention of <em>after</em>, they can add a small\n",
       "number to all censoring times to achieve this effect.  If <code>relax=TRUE</code>\n",
       "a duplicate sequence of models is produced, where each active set in the\n",
       "elastic-net path is refit without regularization. The result of this is a\n",
       "matching <code>\"glmnet\"</code> object which is stored on the original object in a\n",
       "component named <code>\"relaxed\"</code>, and is part of the glmnet output.\n",
       "Generally users will not call <code>relax.glmnet</code> directly, unless the\n",
       "original 'glmnet' object took a long time to fit. But if they do, they must\n",
       "supply the fit, and all the original arguments used to create that fit. They\n",
       "can limit the length of the relaxed path via 'maxp'.\n",
       "</p>\n",
       "\n",
       "\n",
       "<h3>Value</h3>\n",
       "\n",
       "<p>An object with S3 class <code>\"glmnet\",\"*\" </code>, where <code>\"*\"</code> is\n",
       "<code>\"elnet\"</code>, <code>\"lognet\"</code>, <code>\"multnet\"</code>, <code>\"fishnet\"</code>\n",
       "(poisson), <code>\"coxnet\"</code> or <code>\"mrelnet\"</code> for the various types of\n",
       "models. If the model was created with <code>relax=TRUE</code> then this class has\n",
       "a prefix class of <code>\"relaxed\"</code>.  </p>\n",
       "<table summary=\"R valueblock\">\n",
       "<tr valign=\"top\"><td><code>call</code></td>\n",
       "<td>\n",
       "<p>the call that produced this\n",
       "object</p>\n",
       "</td></tr> <tr valign=\"top\"><td><code>a0</code></td>\n",
       "<td>\n",
       "<p>Intercept sequence of length <code>length(lambda)</code></p>\n",
       "</td></tr>\n",
       "<tr valign=\"top\"><td><code>beta</code></td>\n",
       "<td>\n",
       "<p>For <code>\"elnet\"</code>, <code>\"lognet\"</code>, <code>\"fishnet\"</code> and\n",
       "<code>\"coxnet\"</code> models, a <code>nvars x length(lambda)</code> matrix of\n",
       "coefficients, stored in sparse column format (<code>\"CsparseMatrix\"</code>). For\n",
       "<code>\"multnet\"</code> and <code>\"mgaussian\"</code>, a list of <code>nc</code> such matrices,\n",
       "one for each class.</p>\n",
       "</td></tr> <tr valign=\"top\"><td><code>lambda</code></td>\n",
       "<td>\n",
       "<p>The actual sequence of <code>lambda</code>\n",
       "values used. When <code>alpha=0</code>, the largest lambda reported does not quite\n",
       "give the zero coefficients reported (<code>lambda=inf</code> would in principle).\n",
       "Instead, the largest <code>lambda</code> for <code>alpha=0.001</code> is used, and the\n",
       "sequence of <code>lambda</code> values is derived from this.</p>\n",
       "</td></tr> <tr valign=\"top\"><td><code>dev.ratio</code></td>\n",
       "<td>\n",
       "<p>The\n",
       "fraction of (null) deviance explained (for <code>\"elnet\"</code>, this is the\n",
       "R-square). The deviance calculations incorporate weights if present in the\n",
       "model. The deviance is defined to be 2*(loglike_sat - loglike), where\n",
       "loglike_sat is the log-likelihood for the saturated model (a model with a\n",
       "free parameter per observation). Hence dev.ratio=1-dev/nulldev.</p>\n",
       "</td></tr>\n",
       "<tr valign=\"top\"><td><code>nulldev</code></td>\n",
       "<td>\n",
       "<p>Null deviance (per observation). This is defined to be\n",
       "2*(loglike_sat -loglike(Null)); The NULL model refers to the intercept\n",
       "model, except for the Cox, where it is the 0 model.</p>\n",
       "</td></tr> <tr valign=\"top\"><td><code>df</code></td>\n",
       "<td>\n",
       "<p>The number of\n",
       "nonzero coefficients for each value of <code>lambda</code>. For <code>\"multnet\"</code>,\n",
       "this is the number of variables with a nonzero coefficient for <em>any</em>\n",
       "class.</p>\n",
       "</td></tr> <tr valign=\"top\"><td><code>dfmat</code></td>\n",
       "<td>\n",
       "<p>For <code>\"multnet\"</code> and <code>\"mrelnet\"</code> only. A\n",
       "matrix consisting of the number of nonzero coefficients per class</p>\n",
       "</td></tr>\n",
       "<tr valign=\"top\"><td><code>dim</code></td>\n",
       "<td>\n",
       "<p>dimension of coefficient matrix (ices)</p>\n",
       "</td></tr> <tr valign=\"top\"><td><code>nobs</code></td>\n",
       "<td>\n",
       "<p>number of\n",
       "observations</p>\n",
       "</td></tr> <tr valign=\"top\"><td><code>npasses</code></td>\n",
       "<td>\n",
       "<p>total passes over the data summed over all\n",
       "lambda values</p>\n",
       "</td></tr> <tr valign=\"top\"><td><code>offset</code></td>\n",
       "<td>\n",
       "<p>a logical variable indicating whether an offset\n",
       "was included in the model</p>\n",
       "</td></tr> <tr valign=\"top\"><td><code>jerr</code></td>\n",
       "<td>\n",
       "<p>error flag, for warnings and errors\n",
       "(largely for internal debugging).</p>\n",
       "</td></tr> <tr valign=\"top\"><td><code>relaxed</code></td>\n",
       "<td>\n",
       "<p>If <code>relax=TRUE</code>, this\n",
       "additional item is another glmnet object with different values for\n",
       "<code>beta</code> and <code>dev.ratio</code></p>\n",
       "</td></tr>\n",
       "</table>\n",
       "\n",
       "\n",
       "<h3>Author(s)</h3>\n",
       "\n",
       "<p>Jerome Friedman, Trevor Hastie, Balasubramanian Narasimhan, Noah\n",
       "Simon and Rob Tibshirani<br /> Maintainer: Trevor Hastie\n",
       "<a href=\"mailto:hastie@stanford.edu\">hastie@stanford.edu</a>\n",
       "</p>\n",
       "\n",
       "\n",
       "<h3>References</h3>\n",
       "\n",
       "<p>Friedman, J., Hastie, T. and Tibshirani, R. (2008)\n",
       "<em>Regularization Paths for Generalized Linear Models via Coordinate\n",
       "Descent</em>, <a href=\"https://web.stanford.edu/~hastie/Papers/glmnet.pdf\">https://web.stanford.edu/~hastie/Papers/glmnet.pdf</a><br />\n",
       "<em>Journal of Statistical Software, Vol. 33(1), 1-22 Feb 2010</em><br />\n",
       "<a href=\"https://www.jstatsoft.org/v33/i01/\">https://www.jstatsoft.org/v33/i01/</a><br /> Simon, N., Friedman, J., Hastie,\n",
       "T., Tibshirani, R. (2011) <em>Regularization Paths for Cox's Proportional\n",
       "Hazards Model via Coordinate Descent, Journal of Statistical Software, Vol.\n",
       "39(5) 1-13</em><br /> <a href=\"https://www.jstatsoft.org/v39/i05/\">https://www.jstatsoft.org/v39/i05/</a><br /> Tibshirani,\n",
       "Robert, Bien, J., Friedman, J., Hastie, T.,Simon, N.,Taylor, J. and\n",
       "Tibshirani, Ryan. (2012) <em>Strong Rules for Discarding Predictors in\n",
       "Lasso-type Problems, JRSSB vol 74</em>,<br />\n",
       "<a href=\"https://statweb.stanford.edu/~tibs/ftp/strong.pdf\">https://statweb.stanford.edu/~tibs/ftp/strong.pdf</a><br /> <em>Stanford\n",
       "Statistics Technical Report</em><br /> <a href=\"https://arxiv.org/abs/1707.08692\">https://arxiv.org/abs/1707.08692</a><br />\n",
       "Hastie, T., Tibshirani, Robert, Tibshirani, Ryan (2019) <em>Extended\n",
       "Comparisons of Best Subset Selection, Forward Stepwise Selection, and the\n",
       "Lasso</em><br /> <em>Glmnet Vignette</em>\n",
       "<a href=\"https://web.stanford.edu/~hastie/glmnet/glmnet_alpha.html\">https://web.stanford.edu/~hastie/glmnet/glmnet_alpha.html</a>\n",
       "</p>\n",
       "\n",
       "\n",
       "<h3>See Also</h3>\n",
       "\n",
       "<p><code>print</code>, <code>predict</code>, <code>coef</code> and <code>plot</code> methods,\n",
       "and the <code>cv.glmnet</code> function.\n",
       "</p>\n",
       "\n",
       "\n",
       "<h3>Examples</h3>\n",
       "\n",
       "<pre>\n",
       "\n",
       "# Gaussian\n",
       "x = matrix(rnorm(100 * 20), 100, 20)\n",
       "y = rnorm(100)\n",
       "fit1 = glmnet(x, y)\n",
       "print(fit1)\n",
       "coef(fit1, s = 0.01)  # extract coefficients at a single value of lambda\n",
       "predict(fit1, newx = x[1:10, ], s = c(0.01, 0.005))  # make predictions\n",
       "\n",
       "# Relaxed\n",
       "fit1r = glmnet(x, y, relax = TRUE)  # can be used with any model\n",
       "\n",
       "# multivariate gaussian\n",
       "y = matrix(rnorm(100 * 3), 100, 3)\n",
       "fit1m = glmnet(x, y, family = \"mgaussian\")\n",
       "plot(fit1m, type.coef = \"2norm\")\n",
       "\n",
       "# binomial\n",
       "g2 = sample(1:2, 100, replace = TRUE)\n",
       "fit2 = glmnet(x, g2, family = \"binomial\")\n",
       "fit2r = glmnet(x,g2, family = \"binomial\", relax=TRUE)\n",
       "fit2rp = glmnet(x,g2, family = \"binomial\", relax=TRUE, path=TRUE)\n",
       "\n",
       "# multinomial\n",
       "g4 = sample(1:4, 100, replace = TRUE)\n",
       "fit3 = glmnet(x, g4, family = \"multinomial\")\n",
       "fit3a = glmnet(x, g4, family = \"multinomial\", type.multinomial = \"grouped\")\n",
       "# poisson\n",
       "N = 500\n",
       "p = 20\n",
       "nzc = 5\n",
       "x = matrix(rnorm(N * p), N, p)\n",
       "beta = rnorm(nzc)\n",
       "f = x[, seq(nzc)] %*% beta\n",
       "mu = exp(f)\n",
       "y = rpois(N, mu)\n",
       "fit = glmnet(x, y, family = \"poisson\")\n",
       "plot(fit)\n",
       "pfit = predict(fit, x, s = 0.001, type = \"response\")\n",
       "plot(pfit, y)\n",
       "\n",
       "# Cox\n",
       "set.seed(10101)\n",
       "N = 1000\n",
       "p = 30\n",
       "nzc = p/3\n",
       "x = matrix(rnorm(N * p), N, p)\n",
       "beta = rnorm(nzc)\n",
       "fx = x[, seq(nzc)] %*% beta/3\n",
       "hx = exp(fx)\n",
       "ty = rexp(N, hx)\n",
       "tcens = rbinom(n = N, prob = 0.3, size = 1)  # censoring indicator\n",
       "y = cbind(time = ty, status = 1 - tcens)  # y=Surv(ty,1-tcens) with library(survival)\n",
       "fit = glmnet(x, y, family = \"cox\")\n",
       "plot(fit)\n",
       "\n",
       "# Sparse\n",
       "n = 10000\n",
       "p = 200\n",
       "nzc = trunc(p/10)\n",
       "x = matrix(rnorm(n * p), n, p)\n",
       "iz = sample(1:(n * p), size = n * p * 0.85, replace = FALSE)\n",
       "x[iz] = 0\n",
       "sx = Matrix(x, sparse = TRUE)\n",
       "inherits(sx, \"sparseMatrix\")  #confirm that it is sparse\n",
       "beta = rnorm(nzc)\n",
       "fx = x[, seq(nzc)] %*% beta\n",
       "eps = rnorm(n)\n",
       "y = fx + eps\n",
       "px = exp(fx)\n",
       "px = px/(1 + px)\n",
       "ly = rbinom(n = length(px), prob = px, size = 1)\n",
       "system.time(fit1 &lt;- glmnet(sx, y))\n",
       "system.time(fit2n &lt;- glmnet(x, y))\n",
       "\n",
       "</pre>\n",
       "\n",
       "<hr /><div style=\"text-align: center;\">[Package <em>glmnet</em> version 3.0-2 ]</div>"
      ],
      "text/latex": [
       "\\inputencoding{utf8}\n",
       "\\HeaderA{glmnet}{fit a GLM with lasso or elasticnet regularization}{glmnet}\n",
       "\\aliasA{relax.glmnet}{glmnet}{relax.glmnet}\n",
       "\\keyword{models}{glmnet}\n",
       "\\keyword{regression}{glmnet}\n",
       "%\n",
       "\\begin{Description}\\relax\n",
       "Fit a generalized linear model via penalized maximum likelihood.  The\n",
       "regularization path is computed for the lasso or elasticnet penalty at a\n",
       "grid of values for the regularization parameter lambda. Can deal with all\n",
       "shapes of data, including very large sparse data matrices. Fits linear,\n",
       "logistic and multinomial, poisson, and Cox regression models.\n",
       "\\end{Description}\n",
       "%\n",
       "\\begin{Usage}\n",
       "\\begin{verbatim}\n",
       "glmnet(x, y, family = c(\"gaussian\", \"binomial\", \"poisson\", \"multinomial\",\n",
       "  \"cox\", \"mgaussian\"), weights, offset = NULL, alpha = 1,\n",
       "  nlambda = 100, lambda.min.ratio = ifelse(nobs < nvars, 0.01, 1e-04),\n",
       "  lambda = NULL, standardize = TRUE, intercept = TRUE,\n",
       "  thresh = 1e-07, dfmax = nvars + 1, pmax = min(dfmax * 2 + 20,\n",
       "  nvars), exclude, penalty.factor = rep(1, nvars), lower.limits = -Inf,\n",
       "  upper.limits = Inf, maxit = 1e+05, type.gaussian = ifelse(nvars <\n",
       "  500, \"covariance\", \"naive\"), type.logistic = c(\"Newton\",\n",
       "  \"modified.Newton\"), standardize.response = FALSE,\n",
       "  type.multinomial = c(\"ungrouped\", \"grouped\"), relax = FALSE,\n",
       "  trace.it = 0, ...)\n",
       "\n",
       "relax.glmnet(fit, x, ..., maxp = n - 3, path = FALSE,\n",
       "  check.args = TRUE)\n",
       "\\end{verbatim}\n",
       "\\end{Usage}\n",
       "%\n",
       "\\begin{Arguments}\n",
       "\\begin{ldescription}\n",
       "\\item[\\code{x}] input matrix, of dimension nobs x nvars; each row is an observation\n",
       "vector. Can be in sparse matrix format (inherit from class\n",
       "\\code{\"sparseMatrix\"} as in package \\code{Matrix}; not yet available for\n",
       "\\code{family=\"cox\"})\n",
       "\n",
       "\\item[\\code{y}] response variable. Quantitative for \\code{family=\"gaussian\"}, or\n",
       "\\code{family=\"poisson\"} (non-negative counts). For \\code{family=\"binomial\"}\n",
       "should be either a factor with two levels, or a two-column matrix of counts\n",
       "or proportions (the second column is treated as the target class; for a\n",
       "factor, the last level in alphabetical order is the target class). For\n",
       "\\code{family=\"multinomial\"}, can be a \\code{nc>=2} level factor, or a matrix\n",
       "with \\code{nc} columns of counts or proportions.  For either\n",
       "\\code{\"binomial\"} or \\code{\"multinomial\"}, if \\code{y} is presented as a\n",
       "vector, it will be coerced into a factor. For \\code{family=\"cox\"}, \\code{y}\n",
       "should be a two-column matrix with columns named 'time' and 'status'. The\n",
       "latter is a binary variable, with '1' indicating death, and '0' indicating\n",
       "right censored. The function \\code{Surv()} in package \\pkg{survival}\n",
       "produces such a matrix. For \\code{family=\"mgaussian\"}, \\code{y} is a matrix\n",
       "of quantitative responses.\n",
       "\n",
       "\\item[\\code{family}] Response type (see above)\n",
       "\n",
       "\\item[\\code{weights}] observation weights. Can be total counts if responses are\n",
       "proportion matrices. Default is 1 for each observation\n",
       "\n",
       "\\item[\\code{offset}] A vector of length \\code{nobs} that is included in the linear\n",
       "predictor (a \\code{nobs x nc} matrix for the \\code{\"multinomial\"} family).\n",
       "Useful for the \\code{\"poisson\"} family (e.g. log of exposure time), or for\n",
       "refining a model by starting at a current fit. Default is \\code{NULL}. If\n",
       "supplied, then values must also be supplied to the \\code{predict} function.\n",
       "\n",
       "\\item[\\code{alpha}] The elasticnet mixing parameter, with \\eqn{0\\le\\alpha\\le 1}{}.\n",
       "The penalty is defined as\n",
       "\\deqn{(1-\\alpha)/2||\\beta||_2^2+\\alpha||\\beta||_1.}{} \\code{alpha=1} is the\n",
       "lasso penalty, and \\code{alpha=0} the ridge penalty.\n",
       "\n",
       "\\item[\\code{nlambda}] The number of \\code{lambda} values - default is 100.\n",
       "\n",
       "\\item[\\code{lambda.min.ratio}] Smallest value for \\code{lambda}, as a fraction of\n",
       "\\code{lambda.max}, the (data derived) entry value (i.e. the smallest value\n",
       "for which all coefficients are zero). The default depends on the sample size\n",
       "\\code{nobs} relative to the number of variables \\code{nvars}. If \\code{nobs\n",
       "> nvars}, the default is \\code{0.0001}, close to zero.  If \\code{nobs <\n",
       "nvars}, the default is \\code{0.01}.  A very small value of\n",
       "\\code{lambda.min.ratio} will lead to a saturated fit in the \\code{nobs <\n",
       "nvars} case. This is undefined for \\code{\"binomial\"} and\n",
       "\\code{\"multinomial\"} models, and \\code{glmnet} will exit gracefully when the\n",
       "percentage deviance explained is almost 1.\n",
       "\n",
       "\\item[\\code{lambda}] A user supplied \\code{lambda} sequence. Typical usage is to\n",
       "have the program compute its own \\code{lambda} sequence based on\n",
       "\\code{nlambda} and \\code{lambda.min.ratio}. Supplying a value of\n",
       "\\code{lambda} overrides this. WARNING: use with care. Avoid supplying a\n",
       "single value for \\code{lambda} (for predictions after CV use\n",
       "\\code{predict()} instead).  Supply instead a decreasing sequence of\n",
       "\\code{lambda} values. \\code{glmnet} relies on its warms starts for speed,\n",
       "and its often faster to fit a whole path than compute a single fit.\n",
       "\n",
       "\\item[\\code{standardize}] Logical flag for x variable standardization, prior to\n",
       "fitting the model sequence. The coefficients are always returned on the\n",
       "original scale. Default is \\code{standardize=TRUE}.  If variables are in the\n",
       "same units already, you might not wish to standardize. See details below for\n",
       "y standardization with \\code{family=\"gaussian\"}.\n",
       "\n",
       "\\item[\\code{intercept}] Should intercept(s) be fitted (default=TRUE) or set to zero\n",
       "(FALSE)\n",
       "\n",
       "\\item[\\code{thresh}] Convergence threshold for coordinate descent. Each inner\n",
       "coordinate-descent loop continues until the maximum change in the objective\n",
       "after any coefficient update is less than \\code{thresh} times the null\n",
       "deviance. Defaults value is \\code{1E-7}.\n",
       "\n",
       "\\item[\\code{dfmax}] Limit the maximum number of variables in the model. Useful for\n",
       "very large \\code{nvars}, if a partial path is desired.\n",
       "\n",
       "\\item[\\code{pmax}] Limit the maximum number of variables ever to be nonzero\n",
       "\n",
       "\\item[\\code{exclude}] Indices of variables to be excluded from the model. Default\n",
       "is none. Equivalent to an infinite penalty factor (next item).\n",
       "\n",
       "\\item[\\code{penalty.factor}] Separate penalty factors can be applied to each\n",
       "coefficient. This is a number that multiplies \\code{lambda} to allow\n",
       "differential shrinkage. Can be 0 for some variables, which implies no\n",
       "shrinkage, and that variable is always included in the model. Default is 1\n",
       "for all variables (and implicitly infinity for variables listed in\n",
       "\\code{exclude}). Note: the penalty factors are internally rescaled to sum to\n",
       "nvars, and the lambda sequence will reflect this change.\n",
       "\n",
       "\\item[\\code{lower.limits}] Vector of lower limits for each coefficient; default\n",
       "\\code{-Inf}. Each of these must be non-positive. Can be presented as a\n",
       "single value (which will then be replicated), else a vector of length\n",
       "\\code{nvars}\n",
       "\n",
       "\\item[\\code{upper.limits}] Vector of upper limits for each coefficient; default\n",
       "\\code{Inf}. See \\code{lower.limits}\n",
       "\n",
       "\\item[\\code{maxit}] Maximum number of passes over the data for all lambda values;\n",
       "default is 10\\textasciicircum{}5.\n",
       "\n",
       "\\item[\\code{type.gaussian}] Two algorithm types are supported for (only)\n",
       "\\code{family=\"gaussian\"}. The default when \\code{nvar<500} is\n",
       "\\code{type.gaussian=\"covariance\"}, and saves all inner-products ever\n",
       "computed. This can be much faster than \\code{type.gaussian=\"naive\"}, which\n",
       "loops through \\code{nobs} every time an inner-product is computed. The\n",
       "latter can be far more efficient for \\code{nvar >{}> nobs} situations, or when\n",
       "\\code{nvar > 500}.\n",
       "\n",
       "\\item[\\code{type.logistic}] If \\code{\"Newton\"} then the exact hessian is used\n",
       "(default), while \\code{\"modified.Newton\"} uses an upper-bound on the\n",
       "hessian, and can be faster.\n",
       "\n",
       "\\item[\\code{standardize.response}] This is for the \\code{family=\"mgaussian\"}\n",
       "family, and allows the user to standardize the response variables\n",
       "\n",
       "\\item[\\code{type.multinomial}] If \\code{\"grouped\"} then a grouped lasso penalty is\n",
       "used on the multinomial coefficients for a variable. This ensures they are\n",
       "all in our out together. The default is \\code{\"ungrouped\"}\n",
       "\n",
       "\\item[\\code{relax}] If \\code{TRUE} then for each \\emph{active set} in the path of\n",
       "solutions, the model is refit without any regularization. See \\code{details}\n",
       "for more information. This argument is new, and users may experience convergence issues\n",
       "with small datasets, especially with non-gaussian families. Limiting the\n",
       "value of 'maxp' can alleviate these issues in some cases.\n",
       "\n",
       "\\item[\\code{trace.it}] If \\code{trace.it=1}, then a progress bar is displayed;\n",
       "useful for big models that take a long time to fit.\n",
       "\n",
       "\\item[\\code{...}] Additional argument used in \\code{relax.glmnet}. These include\n",
       "some of the original arguments to 'glmnet', and each must be named if used.\n",
       "\n",
       "\\item[\\code{fit}] For \\code{relax.glmnet} a fitted 'glmnet' object\n",
       "\n",
       "\\item[\\code{maxp}] a limit on how many relaxed coefficients are allowed. Default is\n",
       "'n-3', where 'n' is the sample size. This may not be sufficient for\n",
       "non-gaussian familes, in which case users should supply a smaller value.\n",
       "This argument can be supplied directly to 'glmnet'.\n",
       "\n",
       "\\item[\\code{path}] Since \\code{glmnet} does not do stepsize optimization, the Newton\n",
       "algorithm can get stuck and not converge, especially with relaxed fits. With \\code{path=TRUE},\n",
       "each relaxed fit on a particular set of variables is computed pathwise using the original sequence\n",
       "of lambda values (with a zero attached to the end). Not needed for Gaussian models, and should not\n",
       "be used unless needed, since will lead to longer compute times. Default is \\code{path=FALSE}.\n",
       "appropriate subset of variables\n",
       "\n",
       "\\item[\\code{check.args}] Should \\code{relax.glmnet} make sure that all the data\n",
       "dependent arguments used in creating 'fit' have been resupplied. Default is\n",
       "'TRUE'.\n",
       "\\end{ldescription}\n",
       "\\end{Arguments}\n",
       "%\n",
       "\\begin{Details}\\relax\n",
       "The sequence of models implied by \\code{lambda} is fit by coordinate\n",
       "descent. For \\code{family=\"gaussian\"} this is the lasso sequence if\n",
       "\\code{alpha=1}, else it is the elasticnet sequence.  For the other families,\n",
       "this is a lasso or elasticnet regularization path for fitting the\n",
       "generalized linear regression paths, by maximizing the appropriate penalized\n",
       "log-likelihood (partial likelihood for the \"cox\" model). Sometimes the\n",
       "sequence is truncated before \\code{nlambda} values of \\code{lambda} have\n",
       "been used, because of instabilities in the inverse link functions near a\n",
       "saturated fit. \\code{glmnet(...,family=\"binomial\")} fits a traditional\n",
       "logistic regression model for the log-odds.\n",
       "\\code{glmnet(...,family=\"multinomial\")} fits a symmetric multinomial model,\n",
       "where each class is represented by a linear model (on the log-scale). The\n",
       "penalties take care of redundancies. A two-class \\code{\"multinomial\"} model\n",
       "will produce the same fit as the corresponding \\code{\"binomial\"} model,\n",
       "except the pair of coefficient matrices will be equal in magnitude and\n",
       "opposite in sign, and half the \\code{\"binomial\"} values.  Note that the\n",
       "objective function for \\code{\"gaussian\"} is \\deqn{1/2 RSS/nobs +\n",
       "\\lambda*penalty,}{} and for the other models it is \\deqn{-loglik/nobs +\n",
       "\\lambda*penalty.}{} Note also that for \\code{\"gaussian\"}, \\code{glmnet}\n",
       "standardizes y to have unit variance (using 1/n rather than 1/(n-1) formula)\n",
       "before computing its lambda sequence (and then unstandardizes the resulting\n",
       "coefficients); if you wish to reproduce/compare results with other software,\n",
       "best to supply a standardized y. The coefficients for any predictor\n",
       "variables with zero variance are set to zero for all values of lambda.  The\n",
       "latest two features in glmnet are the \\code{family=\"mgaussian\"} family and\n",
       "the \\code{type.multinomial=\"grouped\"} option for multinomial fitting. The\n",
       "former allows a multi-response gaussian model to be fit, using a \"group\n",
       "-lasso\" penalty on the coefficients for each variable. Tying the responses\n",
       "together like this is called \"multi-task\" learning in some domains. The\n",
       "grouped multinomial allows the same penalty for the\n",
       "\\code{family=\"multinomial\"} model, which is also multi-responsed. For both\n",
       "of these the penalty on the coefficient vector for variable j is\n",
       "\\deqn{(1-\\alpha)/2||\\beta_j||_2^2+\\alpha||\\beta_j||_2.}{} When \\code{alpha=1}\n",
       "this is a group-lasso penalty, and otherwise it mixes with quadratic just\n",
       "like elasticnet. A small detail in the Cox model: if death times are tied\n",
       "with censored times, we assume the censored times occurred just\n",
       "\\emph{before} the death times in computing the Breslow approximation; if\n",
       "users prefer the usual convention of \\emph{after}, they can add a small\n",
       "number to all censoring times to achieve this effect.  If \\code{relax=TRUE}\n",
       "a duplicate sequence of models is produced, where each active set in the\n",
       "elastic-net path is refit without regularization. The result of this is a\n",
       "matching \\code{\"glmnet\"} object which is stored on the original object in a\n",
       "component named \\code{\"relaxed\"}, and is part of the glmnet output.\n",
       "Generally users will not call \\code{relax.glmnet} directly, unless the\n",
       "original 'glmnet' object took a long time to fit. But if they do, they must\n",
       "supply the fit, and all the original arguments used to create that fit. They\n",
       "can limit the length of the relaxed path via 'maxp'.\n",
       "\\end{Details}\n",
       "%\n",
       "\\begin{Value}\n",
       "An object with S3 class \\code{\"glmnet\",\"*\" }, where \\code{\"*\"} is\n",
       "\\code{\"elnet\"}, \\code{\"lognet\"}, \\code{\"multnet\"}, \\code{\"fishnet\"}\n",
       "(poisson), \\code{\"coxnet\"} or \\code{\"mrelnet\"} for the various types of\n",
       "models. If the model was created with \\code{relax=TRUE} then this class has\n",
       "a prefix class of \\code{\"relaxed\"}.  \\begin{ldescription}\n",
       "\\item[\\code{call}] the call that produced this\n",
       "object\\item[\\code{a0}] Intercept sequence of length \\code{length(lambda)}\n",
       "\\item[\\code{beta}] For \\code{\"elnet\"}, \\code{\"lognet\"}, \\code{\"fishnet\"} and\n",
       "\\code{\"coxnet\"} models, a \\code{nvars x length(lambda)} matrix of\n",
       "coefficients, stored in sparse column format (\\code{\"CsparseMatrix\"}). For\n",
       "\\code{\"multnet\"} and \\code{\"mgaussian\"}, a list of \\code{nc} such matrices,\n",
       "one for each class.\\item[\\code{lambda}] The actual sequence of \\code{lambda}\n",
       "values used. When \\code{alpha=0}, the largest lambda reported does not quite\n",
       "give the zero coefficients reported (\\code{lambda=inf} would in principle).\n",
       "Instead, the largest \\code{lambda} for \\code{alpha=0.001} is used, and the\n",
       "sequence of \\code{lambda} values is derived from this.\\item[\\code{dev.ratio}] The\n",
       "fraction of (null) deviance explained (for \\code{\"elnet\"}, this is the\n",
       "R-square). The deviance calculations incorporate weights if present in the\n",
       "model. The deviance is defined to be 2*(loglike\\_sat - loglike), where\n",
       "loglike\\_sat is the log-likelihood for the saturated model (a model with a\n",
       "free parameter per observation). Hence dev.ratio=1-dev/nulldev.\n",
       "\\item[\\code{nulldev}] Null deviance (per observation). This is defined to be\n",
       "2*(loglike\\_sat -loglike(Null)); The NULL model refers to the intercept\n",
       "model, except for the Cox, where it is the 0 model.\\item[\\code{df}] The number of\n",
       "nonzero coefficients for each value of \\code{lambda}. For \\code{\"multnet\"},\n",
       "this is the number of variables with a nonzero coefficient for \\emph{any}\n",
       "class.\\item[\\code{dfmat}] For \\code{\"multnet\"} and \\code{\"mrelnet\"} only. A\n",
       "matrix consisting of the number of nonzero coefficients per class\n",
       "\\item[\\code{dim}] dimension of coefficient matrix (ices)\\item[\\code{nobs}] number of\n",
       "observations\\item[\\code{npasses}] total passes over the data summed over all\n",
       "lambda values\\item[\\code{offset}] a logical variable indicating whether an offset\n",
       "was included in the model\\item[\\code{jerr}] error flag, for warnings and errors\n",
       "(largely for internal debugging).\\item[\\code{relaxed}] If \\code{relax=TRUE}, this\n",
       "additional item is another glmnet object with different values for\n",
       "\\code{beta} and \\code{dev.ratio}\n",
       "\\end{ldescription}\n",
       "\\end{Value}\n",
       "%\n",
       "\\begin{Author}\\relax\n",
       "Jerome Friedman, Trevor Hastie, Balasubramanian Narasimhan, Noah\n",
       "Simon and Rob Tibshirani\\\\{} Maintainer: Trevor Hastie\n",
       "\\email{hastie@stanford.edu}\n",
       "\\end{Author}\n",
       "%\n",
       "\\begin{References}\\relax\n",
       "Friedman, J., Hastie, T. and Tibshirani, R. (2008)\n",
       "\\emph{Regularization Paths for Generalized Linear Models via Coordinate\n",
       "Descent}, \\url{https://web.stanford.edu/~hastie/Papers/glmnet.pdf}\\\\{}\n",
       "\\emph{Journal of Statistical Software, Vol. 33(1), 1-22 Feb 2010}\\\\{}\n",
       "\\url{https://www.jstatsoft.org/v33/i01/}\\\\{} Simon, N., Friedman, J., Hastie,\n",
       "T., Tibshirani, R. (2011) \\emph{Regularization Paths for Cox's Proportional\n",
       "Hazards Model via Coordinate Descent, Journal of Statistical Software, Vol.\n",
       "39(5) 1-13}\\\\{} \\url{https://www.jstatsoft.org/v39/i05/}\\\\{} Tibshirani,\n",
       "Robert, Bien, J., Friedman, J., Hastie, T.,Simon, N.,Taylor, J. and\n",
       "Tibshirani, Ryan. (2012) \\emph{Strong Rules for Discarding Predictors in\n",
       "Lasso-type Problems, JRSSB vol 74},\\\\{}\n",
       "\\url{https://statweb.stanford.edu/~tibs/ftp/strong.pdf}\\\\{} \\emph{Stanford\n",
       "Statistics Technical Report}\\\\{} \\url{https://arxiv.org/abs/1707.08692}\\\\{}\n",
       "Hastie, T., Tibshirani, Robert, Tibshirani, Ryan (2019) \\emph{Extended\n",
       "Comparisons of Best Subset Selection, Forward Stepwise Selection, and the\n",
       "Lasso}\\\\{} \\emph{Glmnet Vignette}\n",
       "\\url{https://web.stanford.edu/~hastie/glmnet/glmnet_alpha.html}\n",
       "\\end{References}\n",
       "%\n",
       "\\begin{SeeAlso}\\relax\n",
       "\\code{print}, \\code{predict}, \\code{coef} and \\code{plot} methods,\n",
       "and the \\code{cv.glmnet} function.\n",
       "\\end{SeeAlso}\n",
       "%\n",
       "\\begin{Examples}\n",
       "\\begin{ExampleCode}\n",
       "\n",
       "# Gaussian\n",
       "x = matrix(rnorm(100 * 20), 100, 20)\n",
       "y = rnorm(100)\n",
       "fit1 = glmnet(x, y)\n",
       "print(fit1)\n",
       "coef(fit1, s = 0.01)  # extract coefficients at a single value of lambda\n",
       "predict(fit1, newx = x[1:10, ], s = c(0.01, 0.005))  # make predictions\n",
       "\n",
       "# Relaxed\n",
       "fit1r = glmnet(x, y, relax = TRUE)  # can be used with any model\n",
       "\n",
       "# multivariate gaussian\n",
       "y = matrix(rnorm(100 * 3), 100, 3)\n",
       "fit1m = glmnet(x, y, family = \"mgaussian\")\n",
       "plot(fit1m, type.coef = \"2norm\")\n",
       "\n",
       "# binomial\n",
       "g2 = sample(1:2, 100, replace = TRUE)\n",
       "fit2 = glmnet(x, g2, family = \"binomial\")\n",
       "fit2r = glmnet(x,g2, family = \"binomial\", relax=TRUE)\n",
       "fit2rp = glmnet(x,g2, family = \"binomial\", relax=TRUE, path=TRUE)\n",
       "\n",
       "# multinomial\n",
       "g4 = sample(1:4, 100, replace = TRUE)\n",
       "fit3 = glmnet(x, g4, family = \"multinomial\")\n",
       "fit3a = glmnet(x, g4, family = \"multinomial\", type.multinomial = \"grouped\")\n",
       "# poisson\n",
       "N = 500\n",
       "p = 20\n",
       "nzc = 5\n",
       "x = matrix(rnorm(N * p), N, p)\n",
       "beta = rnorm(nzc)\n",
       "f = x[, seq(nzc)] %*% beta\n",
       "mu = exp(f)\n",
       "y = rpois(N, mu)\n",
       "fit = glmnet(x, y, family = \"poisson\")\n",
       "plot(fit)\n",
       "pfit = predict(fit, x, s = 0.001, type = \"response\")\n",
       "plot(pfit, y)\n",
       "\n",
       "# Cox\n",
       "set.seed(10101)\n",
       "N = 1000\n",
       "p = 30\n",
       "nzc = p/3\n",
       "x = matrix(rnorm(N * p), N, p)\n",
       "beta = rnorm(nzc)\n",
       "fx = x[, seq(nzc)] %*% beta/3\n",
       "hx = exp(fx)\n",
       "ty = rexp(N, hx)\n",
       "tcens = rbinom(n = N, prob = 0.3, size = 1)  # censoring indicator\n",
       "y = cbind(time = ty, status = 1 - tcens)  # y=Surv(ty,1-tcens) with library(survival)\n",
       "fit = glmnet(x, y, family = \"cox\")\n",
       "plot(fit)\n",
       "\n",
       "# Sparse\n",
       "n = 10000\n",
       "p = 200\n",
       "nzc = trunc(p/10)\n",
       "x = matrix(rnorm(n * p), n, p)\n",
       "iz = sample(1:(n * p), size = n * p * 0.85, replace = FALSE)\n",
       "x[iz] = 0\n",
       "sx = Matrix(x, sparse = TRUE)\n",
       "inherits(sx, \"sparseMatrix\")  #confirm that it is sparse\n",
       "beta = rnorm(nzc)\n",
       "fx = x[, seq(nzc)] %*% beta\n",
       "eps = rnorm(n)\n",
       "y = fx + eps\n",
       "px = exp(fx)\n",
       "px = px/(1 + px)\n",
       "ly = rbinom(n = length(px), prob = px, size = 1)\n",
       "system.time(fit1 <- glmnet(sx, y))\n",
       "system.time(fit2n <- glmnet(x, y))\n",
       "\n",
       "\\end{ExampleCode}\n",
       "\\end{Examples}"
      ],
      "text/plain": [
       "glmnet                 package:glmnet                  R Documentation\n",
       "\n",
       "_\bf_\bi_\bt _\ba _\bG_\bL_\bM _\bw_\bi_\bt_\bh _\bl_\ba_\bs_\bs_\bo _\bo_\br _\be_\bl_\ba_\bs_\bt_\bi_\bc_\bn_\be_\bt _\br_\be_\bg_\bu_\bl_\ba_\br_\bi_\bz_\ba_\bt_\bi_\bo_\bn\n",
       "\n",
       "_\bD_\be_\bs_\bc_\br_\bi_\bp_\bt_\bi_\bo_\bn:\n",
       "\n",
       "     Fit a generalized linear model via penalized maximum likelihood.\n",
       "     The regularization path is computed for the lasso or elasticnet\n",
       "     penalty at a grid of values for the regularization parameter\n",
       "     lambda. Can deal with all shapes of data, including very large\n",
       "     sparse data matrices. Fits linear, logistic and multinomial,\n",
       "     poisson, and Cox regression models.\n",
       "\n",
       "_\bU_\bs_\ba_\bg_\be:\n",
       "\n",
       "     glmnet(x, y, family = c(\"gaussian\", \"binomial\", \"poisson\", \"multinomial\",\n",
       "       \"cox\", \"mgaussian\"), weights, offset = NULL, alpha = 1,\n",
       "       nlambda = 100, lambda.min.ratio = ifelse(nobs < nvars, 0.01, 1e-04),\n",
       "       lambda = NULL, standardize = TRUE, intercept = TRUE,\n",
       "       thresh = 1e-07, dfmax = nvars + 1, pmax = min(dfmax * 2 + 20,\n",
       "       nvars), exclude, penalty.factor = rep(1, nvars), lower.limits = -Inf,\n",
       "       upper.limits = Inf, maxit = 1e+05, type.gaussian = ifelse(nvars <\n",
       "       500, \"covariance\", \"naive\"), type.logistic = c(\"Newton\",\n",
       "       \"modified.Newton\"), standardize.response = FALSE,\n",
       "       type.multinomial = c(\"ungrouped\", \"grouped\"), relax = FALSE,\n",
       "       trace.it = 0, ...)\n",
       "     \n",
       "     relax.glmnet(fit, x, ..., maxp = n - 3, path = FALSE,\n",
       "       check.args = TRUE)\n",
       "     \n",
       "_\bA_\br_\bg_\bu_\bm_\be_\bn_\bt_\bs:\n",
       "\n",
       "       x: input matrix, of dimension nobs x nvars; each row is an\n",
       "          observation vector. Can be in sparse matrix format (inherit\n",
       "          from class ‘\"sparseMatrix\"’ as in package ‘Matrix’; not yet\n",
       "          available for ‘family=\"cox\"’)\n",
       "\n",
       "       y: response variable. Quantitative for ‘family=\"gaussian\"’, or\n",
       "          ‘family=\"poisson\"’ (non-negative counts). For\n",
       "          ‘family=\"binomial\"’ should be either a factor with two\n",
       "          levels, or a two-column matrix of counts or proportions (the\n",
       "          second column is treated as the target class; for a factor,\n",
       "          the last level in alphabetical order is the target class).\n",
       "          For ‘family=\"multinomial\"’, can be a ‘nc>=2’ level factor, or\n",
       "          a matrix with ‘nc’ columns of counts or proportions.  For\n",
       "          either ‘\"binomial\"’ or ‘\"multinomial\"’, if ‘y’ is presented\n",
       "          as a vector, it will be coerced into a factor. For\n",
       "          ‘family=\"cox\"’, ‘y’ should be a two-column matrix with\n",
       "          columns named 'time' and 'status'. The latter is a binary\n",
       "          variable, with '1' indicating death, and '0' indicating right\n",
       "          censored. The function ‘Surv()’ in package ‘survival’\n",
       "          produces such a matrix. For ‘family=\"mgaussian\"’, ‘y’ is a\n",
       "          matrix of quantitative responses.\n",
       "\n",
       "  family: Response type (see above)\n",
       "\n",
       " weights: observation weights. Can be total counts if responses are\n",
       "          proportion matrices. Default is 1 for each observation\n",
       "\n",
       "  offset: A vector of length ‘nobs’ that is included in the linear\n",
       "          predictor (a ‘nobs x nc’ matrix for the ‘\"multinomial\"’\n",
       "          family). Useful for the ‘\"poisson\"’ family (e.g. log of\n",
       "          exposure time), or for refining a model by starting at a\n",
       "          current fit. Default is ‘NULL’. If supplied, then values must\n",
       "          also be supplied to the ‘predict’ function.\n",
       "\n",
       "   alpha: The elasticnet mixing parameter, with 0<=alpha<= 1. The\n",
       "          penalty is defined as\n",
       "\n",
       "                     (1-alpha)/2||beta||_2^2+alpha||beta||_1.           \n",
       "          \n",
       "          ‘alpha=1’ is the lasso penalty, and ‘alpha=0’ the ridge\n",
       "          penalty.\n",
       "\n",
       " nlambda: The number of ‘lambda’ values - default is 100.\n",
       "\n",
       "lambda.min.ratio: Smallest value for ‘lambda’, as a fraction of\n",
       "          ‘lambda.max’, the (data derived) entry value (i.e. the\n",
       "          smallest value for which all coefficients are zero). The\n",
       "          default depends on the sample size ‘nobs’ relative to the\n",
       "          number of variables ‘nvars’. If ‘nobs > nvars’, the default\n",
       "          is ‘0.0001’, close to zero.  If ‘nobs < nvars’, the default\n",
       "          is ‘0.01’.  A very small value of ‘lambda.min.ratio’ will\n",
       "          lead to a saturated fit in the ‘nobs < nvars’ case. This is\n",
       "          undefined for ‘\"binomial\"’ and ‘\"multinomial\"’ models, and\n",
       "          ‘glmnet’ will exit gracefully when the percentage deviance\n",
       "          explained is almost 1.\n",
       "\n",
       "  lambda: A user supplied ‘lambda’ sequence. Typical usage is to have\n",
       "          the program compute its own ‘lambda’ sequence based on\n",
       "          ‘nlambda’ and ‘lambda.min.ratio’. Supplying a value of\n",
       "          ‘lambda’ overrides this. WARNING: use with care. Avoid\n",
       "          supplying a single value for ‘lambda’ (for predictions after\n",
       "          CV use ‘predict()’ instead).  Supply instead a decreasing\n",
       "          sequence of ‘lambda’ values. ‘glmnet’ relies on its warms\n",
       "          starts for speed, and its often faster to fit a whole path\n",
       "          than compute a single fit.\n",
       "\n",
       "standardize: Logical flag for x variable standardization, prior to\n",
       "          fitting the model sequence. The coefficients are always\n",
       "          returned on the original scale. Default is\n",
       "          ‘standardize=TRUE’.  If variables are in the same units\n",
       "          already, you might not wish to standardize. See details below\n",
       "          for y standardization with ‘family=\"gaussian\"’.\n",
       "\n",
       "intercept: Should intercept(s) be fitted (default=TRUE) or set to zero\n",
       "          (FALSE)\n",
       "\n",
       "  thresh: Convergence threshold for coordinate descent. Each inner\n",
       "          coordinate-descent loop continues until the maximum change in\n",
       "          the objective after any coefficient update is less than\n",
       "          ‘thresh’ times the null deviance. Defaults value is ‘1E-7’.\n",
       "\n",
       "   dfmax: Limit the maximum number of variables in the model. Useful\n",
       "          for very large ‘nvars’, if a partial path is desired.\n",
       "\n",
       "    pmax: Limit the maximum number of variables ever to be nonzero\n",
       "\n",
       " exclude: Indices of variables to be excluded from the model. Default\n",
       "          is none. Equivalent to an infinite penalty factor (next\n",
       "          item).\n",
       "\n",
       "penalty.factor: Separate penalty factors can be applied to each\n",
       "          coefficient. This is a number that multiplies ‘lambda’ to\n",
       "          allow differential shrinkage. Can be 0 for some variables,\n",
       "          which implies no shrinkage, and that variable is always\n",
       "          included in the model. Default is 1 for all variables (and\n",
       "          implicitly infinity for variables listed in ‘exclude’). Note:\n",
       "          the penalty factors are internally rescaled to sum to nvars,\n",
       "          and the lambda sequence will reflect this change.\n",
       "\n",
       "lower.limits: Vector of lower limits for each coefficient; default\n",
       "          ‘-Inf’. Each of these must be non-positive. Can be presented\n",
       "          as a single value (which will then be replicated), else a\n",
       "          vector of length ‘nvars’\n",
       "\n",
       "upper.limits: Vector of upper limits for each coefficient; default\n",
       "          ‘Inf’. See ‘lower.limits’\n",
       "\n",
       "   maxit: Maximum number of passes over the data for all lambda values;\n",
       "          default is 10^5.\n",
       "\n",
       "type.gaussian: Two algorithm types are supported for (only)\n",
       "          ‘family=\"gaussian\"’. The default when ‘nvar<500’ is\n",
       "          ‘type.gaussian=\"covariance\"’, and saves all inner-products\n",
       "          ever computed. This can be much faster than\n",
       "          ‘type.gaussian=\"naive\"’, which loops through ‘nobs’ every\n",
       "          time an inner-product is computed. The latter can be far more\n",
       "          efficient for ‘nvar >> nobs’ situations, or when ‘nvar >\n",
       "          500’.\n",
       "\n",
       "type.logistic: If ‘\"Newton\"’ then the exact hessian is used (default),\n",
       "          while ‘\"modified.Newton\"’ uses an upper-bound on the hessian,\n",
       "          and can be faster.\n",
       "\n",
       "standardize.response: This is for the ‘family=\"mgaussian\"’ family, and\n",
       "          allows the user to standardize the response variables\n",
       "\n",
       "type.multinomial: If ‘\"grouped\"’ then a grouped lasso penalty is used\n",
       "          on the multinomial coefficients for a variable. This ensures\n",
       "          they are all in our out together. The default is\n",
       "          ‘\"ungrouped\"’\n",
       "\n",
       "   relax: If ‘TRUE’ then for each _active set_ in the path of\n",
       "          solutions, the model is refit without any regularization. See\n",
       "          ‘details’ for more information. This argument is new, and\n",
       "          users may experience convergence issues with small datasets,\n",
       "          especially with non-gaussian families. Limiting the value of\n",
       "          'maxp' can alleviate these issues in some cases.\n",
       "\n",
       "trace.it: If ‘trace.it=1’, then a progress bar is displayed; useful for\n",
       "          big models that take a long time to fit.\n",
       "\n",
       "     ...: Additional argument used in ‘relax.glmnet’. These include\n",
       "          some of the original arguments to 'glmnet', and each must be\n",
       "          named if used.\n",
       "\n",
       "     fit: For ‘relax.glmnet’ a fitted 'glmnet' object\n",
       "\n",
       "    maxp: a limit on how many relaxed coefficients are allowed. Default\n",
       "          is 'n-3', where 'n' is the sample size. This may not be\n",
       "          sufficient for non-gaussian familes, in which case users\n",
       "          should supply a smaller value. This argument can be supplied\n",
       "          directly to 'glmnet'.\n",
       "\n",
       "    path: Since ‘glmnet’ does not do stepsize optimization, the Newton\n",
       "          algorithm can get stuck and not converge, especially with\n",
       "          relaxed fits. With ‘path=TRUE’, each relaxed fit on a\n",
       "          particular set of variables is computed pathwise using the\n",
       "          original sequence of lambda values (with a zero attached to\n",
       "          the end). Not needed for Gaussian models, and should not be\n",
       "          used unless needed, since will lead to longer compute times.\n",
       "          Default is ‘path=FALSE’. appropriate subset of variables\n",
       "\n",
       "check.args: Should ‘relax.glmnet’ make sure that all the data dependent\n",
       "          arguments used in creating 'fit' have been resupplied.\n",
       "          Default is 'TRUE'.\n",
       "\n",
       "_\bD_\be_\bt_\ba_\bi_\bl_\bs:\n",
       "\n",
       "     The sequence of models implied by ‘lambda’ is fit by coordinate\n",
       "     descent. For ‘family=\"gaussian\"’ this is the lasso sequence if\n",
       "     ‘alpha=1’, else it is the elasticnet sequence.  For the other\n",
       "     families, this is a lasso or elasticnet regularization path for\n",
       "     fitting the generalized linear regression paths, by maximizing the\n",
       "     appropriate penalized log-likelihood (partial likelihood for the\n",
       "     \"cox\" model). Sometimes the sequence is truncated before ‘nlambda’\n",
       "     values of ‘lambda’ have been used, because of instabilities in the\n",
       "     inverse link functions near a saturated fit.\n",
       "     ‘glmnet(...,family=\"binomial\")’ fits a traditional logistic\n",
       "     regression model for the log-odds.\n",
       "     ‘glmnet(...,family=\"multinomial\")’ fits a symmetric multinomial\n",
       "     model, where each class is represented by a linear model (on the\n",
       "     log-scale). The penalties take care of redundancies. A two-class\n",
       "     ‘\"multinomial\"’ model will produce the same fit as the\n",
       "     corresponding ‘\"binomial\"’ model, except the pair of coefficient\n",
       "     matrices will be equal in magnitude and opposite in sign, and half\n",
       "     the ‘\"binomial\"’ values.  Note that the objective function for\n",
       "     ‘\"gaussian\"’ is\n",
       "\n",
       "                        1/2 RSS/nobs +lambda*penalty,                   \n",
       "     \n",
       "     and for the other models it is\n",
       "\n",
       "                        -loglik/nobs +lambda*penalty.                   \n",
       "     \n",
       "     Note also that for ‘\"gaussian\"’, ‘glmnet’ standardizes y to have\n",
       "     unit variance (using 1/n rather than 1/(n-1) formula) before\n",
       "     computing its lambda sequence (and then unstandardizes the\n",
       "     resulting coefficients); if you wish to reproduce/compare results\n",
       "     with other software, best to supply a standardized y. The\n",
       "     coefficients for any predictor variables with zero variance are\n",
       "     set to zero for all values of lambda.  The latest two features in\n",
       "     glmnet are the ‘family=\"mgaussian\"’ family and the\n",
       "     ‘type.multinomial=\"grouped\"’ option for multinomial fitting. The\n",
       "     former allows a multi-response gaussian model to be fit, using a\n",
       "     \"group -lasso\" penalty on the coefficients for each variable.\n",
       "     Tying the responses together like this is called \"multi-task\"\n",
       "     learning in some domains. The grouped multinomial allows the same\n",
       "     penalty for the ‘family=\"multinomial\"’ model, which is also\n",
       "     multi-responsed. For both of these the penalty on the coefficient\n",
       "     vector for variable j is\n",
       "\n",
       "                (1-alpha)/2||beta_j||_2^2+alpha||beta_j||_2.            \n",
       "     \n",
       "     When ‘alpha=1’ this is a group-lasso penalty, and otherwise it\n",
       "     mixes with quadratic just like elasticnet. A small detail in the\n",
       "     Cox model: if death times are tied with censored times, we assume\n",
       "     the censored times occurred just _before_ the death times in\n",
       "     computing the Breslow approximation; if users prefer the usual\n",
       "     convention of _after_, they can add a small number to all\n",
       "     censoring times to achieve this effect.  If ‘relax=TRUE’ a\n",
       "     duplicate sequence of models is produced, where each active set in\n",
       "     the elastic-net path is refit without regularization. The result\n",
       "     of this is a matching ‘\"glmnet\"’ object which is stored on the\n",
       "     original object in a component named ‘\"relaxed\"’, and is part of\n",
       "     the glmnet output. Generally users will not call ‘relax.glmnet’\n",
       "     directly, unless the original 'glmnet' object took a long time to\n",
       "     fit. But if they do, they must supply the fit, and all the\n",
       "     original arguments used to create that fit. They can limit the\n",
       "     length of the relaxed path via 'maxp'.\n",
       "\n",
       "_\bV_\ba_\bl_\bu_\be:\n",
       "\n",
       "     An object with S3 class ‘\"glmnet\",\"*\" ’, where ‘\"*\"’ is ‘\"elnet\"’,\n",
       "     ‘\"lognet\"’, ‘\"multnet\"’, ‘\"fishnet\"’ (poisson), ‘\"coxnet\"’ or\n",
       "     ‘\"mrelnet\"’ for the various types of models. If the model was\n",
       "     created with ‘relax=TRUE’ then this class has a prefix class of\n",
       "     ‘\"relaxed\"’.\n",
       "\n",
       "    call: the call that produced this object\n",
       "\n",
       "      a0: Intercept sequence of length ‘length(lambda)’\n",
       "\n",
       "    beta: For ‘\"elnet\"’, ‘\"lognet\"’, ‘\"fishnet\"’ and ‘\"coxnet\"’ models,\n",
       "          a ‘nvars x length(lambda)’ matrix of coefficients, stored in\n",
       "          sparse column format (‘\"CsparseMatrix\"’). For ‘\"multnet\"’ and\n",
       "          ‘\"mgaussian\"’, a list of ‘nc’ such matrices, one for each\n",
       "          class.\n",
       "\n",
       "  lambda: The actual sequence of ‘lambda’ values used. When ‘alpha=0’,\n",
       "          the largest lambda reported does not quite give the zero\n",
       "          coefficients reported (‘lambda=inf’ would in principle).\n",
       "          Instead, the largest ‘lambda’ for ‘alpha=0.001’ is used, and\n",
       "          the sequence of ‘lambda’ values is derived from this.\n",
       "\n",
       "dev.ratio: The fraction of (null) deviance explained (for ‘\"elnet\"’,\n",
       "          this is the R-square). The deviance calculations incorporate\n",
       "          weights if present in the model. The deviance is defined to\n",
       "          be 2*(loglike_sat - loglike), where loglike_sat is the\n",
       "          log-likelihood for the saturated model (a model with a free\n",
       "          parameter per observation). Hence dev.ratio=1-dev/nulldev.\n",
       "\n",
       " nulldev: Null deviance (per observation). This is defined to be\n",
       "          2*(loglike_sat -loglike(Null)); The NULL model refers to the\n",
       "          intercept model, except for the Cox, where it is the 0 model.\n",
       "\n",
       "      df: The number of nonzero coefficients for each value of\n",
       "          ‘lambda’. For ‘\"multnet\"’, this is the number of variables\n",
       "          with a nonzero coefficient for _any_ class.\n",
       "\n",
       "   dfmat: For ‘\"multnet\"’ and ‘\"mrelnet\"’ only. A matrix consisting of\n",
       "          the number of nonzero coefficients per class\n",
       "\n",
       "     dim: dimension of coefficient matrix (ices)\n",
       "\n",
       "    nobs: number of observations\n",
       "\n",
       " npasses: total passes over the data summed over all lambda values\n",
       "\n",
       "  offset: a logical variable indicating whether an offset was included\n",
       "          in the model\n",
       "\n",
       "    jerr: error flag, for warnings and errors (largely for internal\n",
       "          debugging).\n",
       "\n",
       " relaxed: If ‘relax=TRUE’, this additional item is another glmnet\n",
       "          object with different values for ‘beta’ and ‘dev.ratio’\n",
       "\n",
       "_\bA_\bu_\bt_\bh_\bo_\br(_\bs):\n",
       "\n",
       "     Jerome Friedman, Trevor Hastie, Balasubramanian Narasimhan, Noah\n",
       "     Simon and Rob Tibshirani\n",
       "     Maintainer: Trevor Hastie <email: hastie@stanford.edu>\n",
       "\n",
       "_\bR_\be_\bf_\be_\br_\be_\bn_\bc_\be_\bs:\n",
       "\n",
       "     Friedman, J., Hastie, T. and Tibshirani, R. (2008) _Regularization\n",
       "     Paths for Generalized Linear Models via Coordinate Descent_, <URL:\n",
       "     https://web.stanford.edu/~hastie/Papers/glmnet.pdf>\n",
       "     _Journal of Statistical Software, Vol. 33(1), 1-22 Feb 2010_\n",
       "     <URL: https://www.jstatsoft.org/v33/i01/>\n",
       "     Simon, N., Friedman, J., Hastie, T., Tibshirani, R. (2011)\n",
       "     _Regularization Paths for Cox's Proportional Hazards Model via\n",
       "     Coordinate Descent, Journal of Statistical Software, Vol. 39(5)\n",
       "     1-13_\n",
       "     <URL: https://www.jstatsoft.org/v39/i05/>\n",
       "     Tibshirani, Robert, Bien, J., Friedman, J., Hastie, T.,Simon,\n",
       "     N.,Taylor, J. and Tibshirani, Ryan. (2012) _Strong Rules for\n",
       "     Discarding Predictors in Lasso-type Problems, JRSSB vol 74_,\n",
       "     <URL: https://statweb.stanford.edu/~tibs/ftp/strong.pdf>\n",
       "     _Stanford Statistics Technical Report_\n",
       "     <URL: https://arxiv.org/abs/1707.08692>\n",
       "     Hastie, T., Tibshirani, Robert, Tibshirani, Ryan (2019) _Extended\n",
       "     Comparisons of Best Subset Selection, Forward Stepwise Selection,\n",
       "     and the Lasso_\n",
       "     _Glmnet Vignette_ <URL:\n",
       "     https://web.stanford.edu/~hastie/glmnet/glmnet_alpha.html>\n",
       "\n",
       "_\bS_\be_\be _\bA_\bl_\bs_\bo:\n",
       "\n",
       "     ‘print’, ‘predict’, ‘coef’ and ‘plot’ methods, and the ‘cv.glmnet’\n",
       "     function.\n",
       "\n",
       "_\bE_\bx_\ba_\bm_\bp_\bl_\be_\bs:\n",
       "\n",
       "     # Gaussian\n",
       "     x = matrix(rnorm(100 * 20), 100, 20)\n",
       "     y = rnorm(100)\n",
       "     fit1 = glmnet(x, y)\n",
       "     print(fit1)\n",
       "     coef(fit1, s = 0.01)  # extract coefficients at a single value of lambda\n",
       "     predict(fit1, newx = x[1:10, ], s = c(0.01, 0.005))  # make predictions\n",
       "     \n",
       "     # Relaxed\n",
       "     fit1r = glmnet(x, y, relax = TRUE)  # can be used with any model\n",
       "     \n",
       "     # multivariate gaussian\n",
       "     y = matrix(rnorm(100 * 3), 100, 3)\n",
       "     fit1m = glmnet(x, y, family = \"mgaussian\")\n",
       "     plot(fit1m, type.coef = \"2norm\")\n",
       "     \n",
       "     # binomial\n",
       "     g2 = sample(1:2, 100, replace = TRUE)\n",
       "     fit2 = glmnet(x, g2, family = \"binomial\")\n",
       "     fit2r = glmnet(x,g2, family = \"binomial\", relax=TRUE)\n",
       "     fit2rp = glmnet(x,g2, family = \"binomial\", relax=TRUE, path=TRUE)\n",
       "     \n",
       "     # multinomial\n",
       "     g4 = sample(1:4, 100, replace = TRUE)\n",
       "     fit3 = glmnet(x, g4, family = \"multinomial\")\n",
       "     fit3a = glmnet(x, g4, family = \"multinomial\", type.multinomial = \"grouped\")\n",
       "     # poisson\n",
       "     N = 500\n",
       "     p = 20\n",
       "     nzc = 5\n",
       "     x = matrix(rnorm(N * p), N, p)\n",
       "     beta = rnorm(nzc)\n",
       "     f = x[, seq(nzc)] %*% beta\n",
       "     mu = exp(f)\n",
       "     y = rpois(N, mu)\n",
       "     fit = glmnet(x, y, family = \"poisson\")\n",
       "     plot(fit)\n",
       "     pfit = predict(fit, x, s = 0.001, type = \"response\")\n",
       "     plot(pfit, y)\n",
       "     \n",
       "     # Cox\n",
       "     set.seed(10101)\n",
       "     N = 1000\n",
       "     p = 30\n",
       "     nzc = p/3\n",
       "     x = matrix(rnorm(N * p), N, p)\n",
       "     beta = rnorm(nzc)\n",
       "     fx = x[, seq(nzc)] %*% beta/3\n",
       "     hx = exp(fx)\n",
       "     ty = rexp(N, hx)\n",
       "     tcens = rbinom(n = N, prob = 0.3, size = 1)  # censoring indicator\n",
       "     y = cbind(time = ty, status = 1 - tcens)  # y=Surv(ty,1-tcens) with library(survival)\n",
       "     fit = glmnet(x, y, family = \"cox\")\n",
       "     plot(fit)\n",
       "     \n",
       "     # Sparse\n",
       "     n = 10000\n",
       "     p = 200\n",
       "     nzc = trunc(p/10)\n",
       "     x = matrix(rnorm(n * p), n, p)\n",
       "     iz = sample(1:(n * p), size = n * p * 0.85, replace = FALSE)\n",
       "     x[iz] = 0\n",
       "     sx = Matrix(x, sparse = TRUE)\n",
       "     inherits(sx, \"sparseMatrix\")  #confirm that it is sparse\n",
       "     beta = rnorm(nzc)\n",
       "     fx = x[, seq(nzc)] %*% beta\n",
       "     eps = rnorm(n)\n",
       "     y = fx + eps\n",
       "     px = exp(fx)\n",
       "     px = px/(1 + px)\n",
       "     ly = rbinom(n = length(px), prob = px, size = 1)\n",
       "     system.time(fit1 <- glmnet(sx, y))\n",
       "     system.time(fit2n <- glmnet(x, y))\n",
       "     "
      ]
     },
     "metadata": {},
     "output_type": "display_data"
    }
   ],
   "source": [
    "?glmnet"
   ]
  },
  {
   "cell_type": "code",
   "execution_count": null,
   "metadata": {},
   "outputs": [],
   "source": []
  },
  {
   "cell_type": "markdown",
   "metadata": {},
   "source": [
    "**Referencias:**\n",
    "\n",
    "* Ver [3_minimos_cuadrados](https://github.com/ITAM-DS/Propedeutico/blob/master/Python/clases/3_algebra_lineal/3_minimos_cuadrados.ipynb) para una introducción al problema de mínimos cuadrados con ejemplos en Python3."
   ]
  }
 ],
 "metadata": {
  "kernelspec": {
   "display_name": "R",
   "language": "R",
   "name": "ir"
  },
  "language_info": {
   "codemirror_mode": "r",
   "file_extension": ".r",
   "mimetype": "text/x-r-source",
   "name": "R",
   "pygments_lexer": "r",
   "version": "3.6.2"
  }
 },
 "nbformat": 4,
 "nbformat_minor": 4
}
