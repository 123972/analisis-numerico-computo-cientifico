{
 "cells": [
  {
   "cell_type": "markdown",
   "metadata": {},
   "source": [
    "**Notas para contenedor de docker:**"
   ]
  },
  {
   "cell_type": "markdown",
   "metadata": {},
   "source": [
    "Comando de docker para ejecución de la nota de forma local:\n",
    "\n",
    "nota: cambiar `<ruta a mi directorio>` por la ruta de directorio que se desea mapear a `/datos` dentro del contenedor de docker.\n",
    "\n",
    "```\n",
    "docker run --rm -v <ruta a mi directorio>:/datos --name jupyterlab_r_kernel_local -p 8888:8888 -d palmoreck/jupyterlab_r_kernel:1.1.0\n",
    "```\n",
    "\n",
    "password para jupyterlab: `qwerty`\n",
    "\n",
    "Detener el contenedor de docker:\n",
    "\n",
    "```\n",
    "docker stop jupyterlab_r_kernel_local\n",
    "```\n"
   ]
  },
  {
   "cell_type": "markdown",
   "metadata": {},
   "source": [
    "Documentación de la imagen de docker `palmoreck/jupyterlab_r_kernel:1.1.0` en [liga](https://github.com/palmoreck/dockerfiles/tree/master/jupyterlab/r_kernel)."
   ]
  },
  {
   "cell_type": "markdown",
   "metadata": {},
   "source": [
    "---"
   ]
  },
  {
   "cell_type": "markdown",
   "metadata": {},
   "source": [
    "Nota basada en [liga1](https://drive.google.com/file/d/1xtkxPCx05Xg4Dj7JZoQ-LusBDrtYUqOF/view?usp=sharing), [liga2](https://drive.google.com/file/d/16-_PvWNaO0Zc9x04-SRsxCRdn5fxebf2/view?usp=sharing)"
   ]
  },
  {
   "cell_type": "markdown",
   "metadata": {},
   "source": [
    "En esta nota se consideran resolver problemas de la forma:\n",
    "\n",
    "$$\\min f_o(x)$$\n",
    "\n",
    "con $f_o:\\mathbb{R}^n \\rightarrow \\mathbb{R}$ fuertemente convexa y $f_o \\in \\mathcal{C}^2(\\text{dom}f_o)$ para buscar óptimos locales. Además se asume que los puntos iniciales $x^{(0)}$ de los métodos iterativos están en $\\text{dom}f_o$ y los conjuntos $f_o(x^{(0)})$-subnivel son conjuntos cerrados. Ver [1.4.Polinomios_de_Taylor_y_diferenciacion_numerica](https://github.com/ITAM-DS/analisis-numerico-computo-cientifico/blob/master/temas/I.computo_cientifico/1.4.Polinomios_de_Taylor_y_diferenciacion_numerica.ipynb) y [4.1.Optimizacion_numerica_y_machine_learning](https://github.com/ITAM-DS/analisis-numerico-computo-cientifico/blob/master/temas/IV.optimizacion_convexa_y_machine_learning/4.1.Optimizacion_numerica_y_machine_learning.ipynb) para definiciones utilizadas en esta nota.\n",
    "\n",
    "También se asume que existe un punto óptimo $x^*$ por lo que el problema tiene solución y el valor óptimo se denota por $p^* = f_o(x^*) = \\inf f_o(x)$"
   ]
  },
  {
   "cell_type": "markdown",
   "metadata": {},
   "source": [
    "Las suposición que una función $f$ sea convexa asegura que una **condición necesaria y suficiente** para que $x^*$ sea óptimo es: $\\nabla f(x^*) = 0$ la cual es **en general** es un conjunto de $n$ **ecuaciones no lineales** en $n$ variables y que resuelve el problema de optimización planteado al inicio. \n"
   ]
  },
  {
   "cell_type": "markdown",
   "metadata": {},
   "source": [
    "# Método de descenso por coordenadas"
   ]
  },
  {
   "cell_type": "markdown",
   "metadata": {},
   "source": [
    "Ver [Coordinate descent](https://en.wikipedia.org/wiki/Coordinate_descent)."
   ]
  },
  {
   "cell_type": "markdown",
   "metadata": {},
   "source": [
    "Consideramos con la norma $1$ el método *steepest descent*:\n",
    "\n",
    "$$\\Delta x_{\\text{nsd}} = \\text{argmin} \\{ \\nabla f_o(x)^Tv : ||v||_1 \\leq 1, \\nabla f_o(x)^Tv < 0 \\} $$\n",
    "\n",
    "se prueba que $\\Delta x_{\\text{sd}} = - \\frac{\\partial f_o(x)}{\\partial x_i} e_i$ con $e_i$ $i$-ésimo vector canónico y el índice $i$ es la entrada del vector $\\nabla f_o(x)$ de máxima magnitud: $i$ tal que $\\left |(\\nabla f_o(x))_i \\right | = ||\\nabla f_o(x)||_\\infty$.\n",
    "\n",
    "Ver [4.2.Algoritmos_para_optimizacion_sin_restricciones](https://github.com/ITAM-DS/analisis-numerico-computo-cientifico/blob/master/temas/IV.optimizacion_convexa_y_machine_learning/4.2.Algoritmos_para_optimizacion_sin_restricciones.ipynb). Entonces:"
   ]
  },
  {
   "cell_type": "markdown",
   "metadata": {},
   "source": [
    ">**Algoritmo de descenso por coordenadas**\n",
    ">> **Dado** un **punto inicial** $x$ en $\\text{dom}f_o$\n",
    "\n",
    ">> **Repetir** el siguiente bloque para $k=0,1,2,...$\n",
    "\n",
    ">>> 1. Obtener el índice $i$ de $\\nabla f_o(x)$ con máximo valor absoluto: $\\left |(\\nabla f_o(x))_i \\right | = ||\\nabla f_o(x)||_\\infty$.\n",
    ">>> 1. Calcular la dirección de descenso más pronunciado bajo la norma $1$: $\\Delta x_{\\text{sd}} = - \\frac{\\partial f_o(x)}{\\partial x_i} e_i$ con $e_i$ $i$-ésimo vector canónico.\n",
    ">>> 2. Búsqueda de línea. Elegir un tamaño de paso $t > 0$.\n",
    ">>> 3. Hacer la actualización: $x = x + t\\Delta x$.\n",
    "\n",
    ">> **hasta** convergencia (satisfacer criterio de paro).\n"
   ]
  },
  {
   "cell_type": "markdown",
   "metadata": {},
   "source": [
    "**Nota:** los pasos en el algoritmo anterior representan una guía para la implementación. Al describirse los pasos de un algoritmo no implica que se tengan que implementar uno a continuación del otro como se describe. Si una implementación respeta la lógica y al mismo método, entonces pueden seguirse los pasos de una forma distinta."
   ]
  },
  {
   "cell_type": "markdown",
   "metadata": {},
   "source": [
    "<img src=\"https://dl.dropboxusercontent.com/s/qcbpuhvge9uqgim/steepest_desc_l1_norm.png?dl=0\" heigth=\"700\" width=\"700\">\n"
   ]
  },
  {
   "cell_type": "code",
   "execution_count": 1,
   "metadata": {},
   "outputs": [],
   "source": [
    "install.packages(\"latex2exp\",lib=\"/usr/local/lib/R/site-library/\",\n",
    "                repos=\"https://cran.itam.mx/\")"
   ]
  },
  {
   "cell_type": "code",
   "execution_count": 1,
   "metadata": {},
   "outputs": [],
   "source": [
    "options(repr.plot.width=6, repr.plot.height=6) #esta línea sólo se ejecuta para jupyterlab con R"
   ]
  },
  {
   "cell_type": "code",
   "execution_count": 2,
   "metadata": {},
   "outputs": [],
   "source": [
    "library(ggplot2)\n",
    "library(latex2exp)"
   ]
  },
  {
   "cell_type": "code",
   "execution_count": 3,
   "metadata": {},
   "outputs": [],
   "source": [
    "inc_index<-function(vec,index,h){\n",
    "    '\n",
    "    Auxiliary function for gradient and Hessian computation.\n",
    "    Args:\n",
    "        vec (double): vector\n",
    "        index (int): index.\n",
    "        h (float):   quantity that vec[index] will be increased.\n",
    "    Returns:\n",
    "        vec (double): vector with vec[index] increased by h.\n",
    "    '\n",
    "    vec[index]<-vec[index]+h\n",
    "    vec\n",
    "}"
   ]
  },
  {
   "cell_type": "code",
   "execution_count": 4,
   "metadata": {},
   "outputs": [],
   "source": [
    "gradient_approximation<-function(f,x,h=1e-8){\n",
    "    '\n",
    "    Numerical approximation of gradient for function f using forward differences.\n",
    "    Args:\n",
    "        f (expression): definition of function f.\n",
    "        x (double): vector that holds values where gradient will be computed.\n",
    "        h (float): step size for forward differences, tipically h=1e-8\n",
    "    Returns:\n",
    "        gf (array): numerical approximation to gradient of f.\n",
    "\n",
    "    '\n",
    "    n<-length(x)\n",
    "    gf<-vector(\"double\",n)\n",
    "    for(i in 1:n){\n",
    "        gf[i]=(f(inc_index(x,i,h))-f(x))\n",
    "    }\n",
    "    gf/h\n",
    "}"
   ]
  },
  {
   "cell_type": "code",
   "execution_count": 5,
   "metadata": {},
   "outputs": [],
   "source": [
    "Hessian_approximation<-function(f,x,h=1e-6){\n",
    "    '\n",
    "    Numerical approximation of Hessian for function f using forward differences.\n",
    "    Args:\n",
    "        f (expression): definition of function f.\n",
    "        x (double): vector that holds values where Hessian will be computed.\n",
    "        h (float): step size for forward differences, tipically h=1e-6\n",
    "    Returns:\n",
    "        Hf (double): matrix of numerical approximation to Hessian of f.\n",
    "    '\n",
    "    n<-length(x)\n",
    "    Hf<-matrix(rep(0,n^2),nrow=n,ncol=n)\n",
    "    f_x<-f(x)\n",
    "    for(i in 1:n){\n",
    "        x_inc_in_i<-inc_index(x,i,h)\n",
    "        f_x_inc_in_i<-f(x_inc_in_i)\n",
    "        for(j in i:n){\n",
    "            dif<-f(inc_index(x_inc_in_i,j,h))-f_x_inc_in_i-f(inc_index(x,j,h))+f_x\n",
    "            Hf[i,j]<-dif\n",
    "            if(j!=i)\n",
    "                Hf[j,i]<-dif\n",
    "        }\n",
    "    }\n",
    "    Hf/h^2\n",
    "}"
   ]
  },
  {
   "cell_type": "code",
   "execution_count": 6,
   "metadata": {},
   "outputs": [],
   "source": [
    "line_search_by_backtracking<-function(f,dir_desc,x,\n",
    "                                      der_direct, alpha=.15, beta=.5){\n",
    "    '\n",
    "    Line search that sufficiently decreases f restricted to a ray in the direction dir_desc.\n",
    "    Args:\n",
    "        alpha (float): parameter in line search with backtracking, tipically .15\n",
    "        beta (float): parameter in line search with backtracking, tipically .5\n",
    "        f (expression): definition of function f.\n",
    "        dir_desc (double): vector of descent direction.\n",
    "        x (double): vector that holds values where line search will be performed.\n",
    "        der_direct (float): directional derivative of f.\n",
    "    Returns:\n",
    "        t (float): positive number for stepsize along dir_desc that sufficiently decreases f.\n",
    "    '\n",
    "    t<-1\n",
    "    if (alpha > 1/2){\n",
    "        print('alpha must be less than or equal to 1/2')\n",
    "        t <- -1\n",
    "    }\n",
    "    if (beta>1){\n",
    "        print('beta must be less than 1')\n",
    "        t <- -1\n",
    "    }\n",
    "    if (t!=-1){\n",
    "        eval1 <- f(x+t*dir_desc)\n",
    "        eval2 <- f(x) + alpha*t*der_direct\n",
    "        while (eval1 > eval2){\n",
    "            t<-beta*t\n",
    "            eval1 <- f(x+t*dir_desc)\n",
    "            eval2 <- f(x)+alpha*t*der_direct\n",
    "        }\n",
    "    }else\n",
    "        t <- -1\n",
    "    t\n",
    "}"
   ]
  },
  {
   "cell_type": "code",
   "execution_count": 7,
   "metadata": {},
   "outputs": [],
   "source": [
    "Euclidian_norm<-function(vec){\n",
    "    sqrt(sum(vec*vec))\n",
    "}"
   ]
  },
  {
   "cell_type": "code",
   "execution_count": 8,
   "metadata": {},
   "outputs": [],
   "source": [
    "compute_error<-function(x_obj,x_approx){\n",
    "    '\n",
    "    Relative or absolute error between x_obj and x_approx.\n",
    "    '\n",
    "    if (Euclidian_norm(x_obj) > .Machine$double.eps){\n",
    "        Err<-Euclidian_norm(x_obj-x_approx)/Euclidian_norm(x_obj)\n",
    "    }else\n",
    "        Err<-Euclidian_norm(x_obj-x_approx)\n",
    "    Err\n",
    "}"
   ]
  },
  {
   "cell_type": "markdown",
   "metadata": {},
   "source": [
    "**Coordinate descent**"
   ]
  },
  {
   "cell_type": "code",
   "execution_count": 9,
   "metadata": {},
   "outputs": [],
   "source": [
    "coordinate_descent<-function(f, x_0, tol, \n",
    "                             tol_backtracking, \n",
    "                             x_ast, p_ast, maxiter){\n",
    "    '\n",
    "    Method of coordinate descent to numerically approximate solution of min f.\n",
    "    Args:\n",
    "        f (expression): definition of function f.\n",
    "        x_0 (double): vector of initial point for coordinate descent method.\n",
    "        tol (float): tolerance that will halt method. Controls norm of gradient of f.\n",
    "        tol_backtracking (float): tolerance that will halt method. Controls value of line search by backtracking.\n",
    "        x_ast (double): vector solution of min f, now its required that user knows the solution...\n",
    "        p_ast (double): vector value of f(x_ast), now its required that user knows the solution...\n",
    "        maxiter (int): maximum number of iterations\n",
    "    Returns:\n",
    "        x (double): vector approximation of x_ast.\n",
    "        iteration (int): number of iterations.\n",
    "        Err_plot (double): vector array of absolute error between p_ast and f(x) with x approximation.\n",
    "                          of x_ast. Useful for plotting.\n",
    "        x_plot (double): vector array that containts in columns vector of approximations. Last column\n",
    "                        contains x, approximation of solution. Useful for plotting.\n",
    "    '\n",
    "    iteration <- 1\n",
    "    x <- x_0\n",
    "    \n",
    "    feval <- f(x)\n",
    "    gfeval <- gradient_approximation(f,x)\n",
    "\n",
    "    normgf <- Euclidian_norm(gfeval)\n",
    "    \n",
    "    Err_plot_aux <- vector(\"double\",maxiter)\n",
    "    Err_plot_aux[iteration] <- compute_error(p_ast,feval)\n",
    "    \n",
    "    Err <- compute_error(x_ast,x)\n",
    "    n <- length(x)\n",
    "    x_plot <- matrix(0,nrow=n,ncol=maxiter)\n",
    "    x_plot[,iteration] <- x\n",
    "    \n",
    "    cat(sprintf(\"I\\tNormagf\\t\\tError x_ast\\tError p_ast\\tline search\\n\"))\n",
    "    cat(sprintf(\"%d\\t%.2e\\t%0.2e\\t%0.2e\\t%s\\n\",iteration,normgf,Err,Err_plot_aux[iteration],\"---\"))\n",
    "    iteration<-iteration + 1\n",
    "    while(normgf>tol && iteration <= maxiter){\n",
    "        ind_maximo <- which.max(abs(gfeval))\n",
    "        e_canonico <- vector(\"integer\",n)\n",
    "        e_canonico[ind_maximo] <- 1\n",
    "        dir_desc <- -gfeval[ind_maximo]*e_canonico\n",
    "        der_direct <- sum(gfeval*dir_desc)\n",
    "        t <- line_search_by_backtracking(f,dir_desc,x,der_direct)\n",
    "        x <- x + t*dir_desc\n",
    "        feval <- f(x)\n",
    "        gfeval <- gradient_approximation(f,x)\n",
    "        normgf <- Euclidian_norm(gfeval)\n",
    "        Err_plot_aux[iteration] <- compute_error(p_ast,feval)\n",
    "        x_plot[,iteration] <- x\n",
    "        Err <- compute_error(x_ast,x)\n",
    "        cat(sprintf(\"%d\\t%.2e\\t%0.2e\\t%0.2e\\t%0.2e\\n\",iteration,normgf,Err,Err_plot_aux[iteration],t))\n",
    "        if (t<tol_backtracking){ #if t is less than tol_backtracking then we need to check the reason\n",
    "            iter_salida <- iteration\n",
    "            iteration <- maxiter - 1\n",
    "        }\n",
    "        iteration <- iteration + 1\n",
    "    } #while\n",
    "    cat(sprintf(\"Error of x with respect to x_ast: %.2e\\n\",Err))\n",
    "    cat(sprintf(\"Approximate solution:\"))\n",
    "    print(x)\n",
    "    cond <- Err_plot_aux > .Machine$double.eps*10**(-2)\n",
    "    Err_plot <- Err_plot_aux[cond]\n",
    "    if (iteration == maxiter && t < tol_backtracking){\n",
    "        print(\"Backtracking value less than tol_backtracking, check approximation\")\n",
    "        iteration<-iter_salida\n",
    "        x_plot <- x_plot[,1:(iteration-1)]\n",
    "    }\n",
    "    else{\n",
    "        x_plot <- x_plot[,1:(iteration-1)]\n",
    "        }\n",
    "   list(x,iteration-1,Err_plot,x_plot)\n",
    "    \n",
    "}"
   ]
  },
  {
   "cell_type": "markdown",
   "metadata": {},
   "source": [
    "## Ejemplos"
   ]
  },
  {
   "cell_type": "markdown",
   "metadata": {},
   "source": [
    "1) $$\\min \\quad (x_1-2)^2+(2-x_2)^2+x_3^2+x_4^4$$"
   ]
  },
  {
   "cell_type": "markdown",
   "metadata": {},
   "source": [
    "La solución del problema anterior es $x^* = (2,2,0,0)^T$. "
   ]
  },
  {
   "cell_type": "markdown",
   "metadata": {},
   "source": [
    "Método de descenso por coordenadas con $x_0=(5,5,1,0)^T$:"
   ]
  },
  {
   "cell_type": "code",
   "execution_count": 10,
   "metadata": {},
   "outputs": [],
   "source": [
    "fo <-function(x)(x[1]-2)**2 + (2-x[2])**2 + x[3]**2 + x[4]**4\n"
   ]
  },
  {
   "cell_type": "code",
   "execution_count": 11,
   "metadata": {},
   "outputs": [],
   "source": [
    "x_ast <- c(2,2,0,0)\n",
    "x_0 <- c(5,5,1,0)\n",
    "tol <- 1e-8\n",
    "tol_backtracking <- 1e-14\n",
    "maxiter <- 5\n",
    "p_ast <- fo(x_ast)\n"
   ]
  },
  {
   "cell_type": "code",
   "execution_count": 12,
   "metadata": {},
   "outputs": [
    {
     "name": "stdout",
     "output_type": "stream",
     "text": [
      "I\tNormagf\t\tError x_ast\tError p_ast\tline search\n",
      "1\t8.72e+00\t1.54e+00\t1.90e+01\t---\n",
      "2\t6.32e+00\t1.12e+00\t1.00e+01\t5.00e-01\n",
      "3\t2.00e+00\t3.54e-01\t1.00e+00\t5.00e-01\n",
      "4\t2.30e-07\t3.85e-08\t1.18e-14\t5.00e-01\n",
      "5\t5.15e-08\t7.02e-09\t3.94e-16\t5.00e-01\n",
      "Error of x with respect to x_ast: 7.02e-09\n",
      "Approximate solution:[1] 2.000000e+00 2.000000e+00 6.077471e-09 0.000000e+00\n"
     ]
    }
   ],
   "source": [
    "l<-coordinate_descent(fo, x_0, tol, tol_backtracking, x_ast, p_ast, maxiter)"
   ]
  },
  {
   "cell_type": "code",
   "execution_count": 13,
   "metadata": {},
   "outputs": [],
   "source": [
    "x <- l[[1]]\n",
    "total_of_iterations <- l[[2]]\n",
    "Err_plot <- l[[3]]\n",
    "x_plot <- l[[4]]\n"
   ]
  },
  {
   "cell_type": "code",
   "execution_count": 14,
   "metadata": {},
   "outputs": [],
   "source": [
    "gg <- ggplot()"
   ]
  },
  {
   "cell_type": "code",
   "execution_count": 15,
   "metadata": {},
   "outputs": [
    {
     "data": {
      "image/png": "[encoded data removed]",
      "text/plain": [
       "plot without title"
      ]
     },
     "metadata": {
      "image/png": {
       "height": 360,
       "width": 360
      }
     },
     "output_type": "display_data"
    }
   ],
   "source": [
    "gg +\n",
    "geom_line(aes(x=1:total_of_iterations,y=Err_plot)) + \n",
    "xlab('Iterations') + ylab(TeX('Error relativo entre f_o(x^k) y p^*'))"
   ]
  },
  {
   "cell_type": "markdown",
   "metadata": {},
   "source": [
    "## Ejemplo: influencia del número de condición "
   ]
  },
  {
   "cell_type": "markdown",
   "metadata": {},
   "source": [
    "2) $$\\min \\frac{1}{2}\\left(x_1^2+Cx_2^2 \\right)$$"
   ]
  },
  {
   "cell_type": "markdown",
   "metadata": {},
   "source": [
    "La solución del problema anterior es $x^*=(0,0)^T$."
   ]
  },
  {
   "cell_type": "markdown",
   "metadata": {},
   "source": [
    "Método de descenso por coordenadas con $x_0=(0.5,0.5)^T$."
   ]
  },
  {
   "cell_type": "markdown",
   "metadata": {},
   "source": [
    "**Descenso por coordenadas para caso $C=10$**"
   ]
  },
  {
   "cell_type": "code",
   "execution_count": 16,
   "metadata": {},
   "outputs": [],
   "source": [
    "cte<-10"
   ]
  },
  {
   "cell_type": "code",
   "execution_count": 17,
   "metadata": {},
   "outputs": [],
   "source": [
    "fo <- function(x) 1/2*(x[1]**2+cte*x[2]**2)"
   ]
  },
  {
   "cell_type": "code",
   "execution_count": 18,
   "metadata": {},
   "outputs": [
    {
     "name": "stdout",
     "output_type": "stream",
     "text": [
      "I\tNormagf\t\tError x_ast\tError p_ast\tline search\n",
      "1\t5.02e+00\t7.07e-01\t1.38e+00\t---\n",
      "2\t1.35e+00\t5.15e-01\t2.03e-01\t1.25e-01\n",
      "3\t5.90e-01\t5.01e-01\t1.30e-01\t1.25e-01\n",
      "4\t3.13e-01\t3.12e-02\t4.88e-03\t1.00e+00\n",
      "5\t7.81e-02\t7.81e-03\t3.05e-04\t1.25e-01\n",
      "6\t1.95e-02\t1.95e-03\t1.91e-05\t1.25e-01\n",
      "7\t4.88e-03\t4.88e-04\t1.19e-06\t1.25e-01\n",
      "8\t1.22e-03\t1.22e-04\t7.45e-08\t1.25e-01\n",
      "9\t3.05e-04\t3.05e-05\t4.66e-09\t1.25e-01\n",
      "10\t7.63e-05\t7.62e-06\t2.91e-10\t1.25e-01\n",
      "11\t1.91e-05\t1.91e-06\t1.83e-11\t1.25e-01\n",
      "12\t4.77e-06\t4.72e-07\t1.11e-12\t1.25e-01\n",
      "13\t1.19e-06\t1.24e-07\t7.72e-14\t1.25e-01\n",
      "14\t2.98e-07\t2.61e-08\t3.11e-15\t1.25e-01\n",
      "15\t7.46e-08\t1.48e-08\t8.08e-16\t1.25e-01\n",
      "Error of x with respect to x_ast: 1.48e-08\n",
      "Approximate solution:[1] -8.063495e-09 -1.245058e-08\n"
     ]
    }
   ],
   "source": [
    "x_ast <- c(0,0)\n",
    "x_0 <- c(0.5,0.5)\n",
    "tol <- 1e-7\n",
    "tol_backtracking <- 1e-14\n",
    "maxiter <- 50\n",
    "p_ast <- fo(x_ast)\n",
    "l<-coordinate_descent(fo, x_0, tol, tol_backtracking, x_ast, p_ast, maxiter)\n",
    "x <- l[[1]]\n",
    "total_of_iterations <- l[[2]]\n",
    "Err_plot <- l[[3]]\n",
    "x_plot <- l[[4]]\n"
   ]
  },
  {
   "cell_type": "code",
   "execution_count": 19,
   "metadata": {},
   "outputs": [
    {
     "data": {
      "text/html": [
       "15"
      ],
      "text/latex": [
       "15"
      ],
      "text/markdown": [
       "15"
      ],
      "text/plain": [
       "[1] 15"
      ]
     },
     "metadata": {},
     "output_type": "display_data"
    }
   ],
   "source": [
    "total_of_iterations"
   ]
  },
  {
   "cell_type": "code",
   "execution_count": 20,
   "metadata": {},
   "outputs": [],
   "source": [
    "gg <- ggplot()"
   ]
  },
  {
   "cell_type": "code",
   "execution_count": 21,
   "metadata": {},
   "outputs": [
    {
     "data": {
      "image/png": "[encoded data removed]",
      "text/plain": [
       "plot without title"
      ]
     },
     "metadata": {
      "image/png": {
       "height": 360,
       "width": 360
      }
     },
     "output_type": "display_data"
    }
   ],
   "source": [
    "gg +\n",
    "geom_line(aes(x=1:total_of_iterations,y=Err_plot)) + \n",
    "xlab('Iterations') + ylab(TeX('Error relativo entre f_o(x^k) y p^*'))"
   ]
  },
  {
   "cell_type": "code",
   "execution_count": 22,
   "metadata": {},
   "outputs": [
    {
     "data": {
      "image/png": "[encoded data removed]",
      "text/plain": [
       "plot without title"
      ]
     },
     "metadata": {
      "image/png": {
       "height": 360,
       "width": 360
      }
     },
     "output_type": "display_data"
    }
   ],
   "source": [
    "gg +\n",
    "geom_point(aes(x=x_plot[1,],y=x_plot[2,]),size=2) +\n",
    "annotate(geom='text', x=0.5, y=0.47, \n",
    "         label=TeX(\"x^{(0)}\", output='character'), parse=TRUE) + \n",
    "xlab('x') + ylab('y') + \n",
    "ggtitle(TeX('Iter del método de descenso por coordenadas para $f_o$ con $C=10$'))"
   ]
  },
  {
   "cell_type": "code",
   "execution_count": 23,
   "metadata": {},
   "outputs": [
    {
     "data": {
      "text/html": [
       "<table>\n",
       "<caption>A matrix: 2 × 15 of type dbl</caption>\n",
       "<tbody>\n",
       "\t<tr><td>0.5</td><td> 0.500</td><td>0.50000</td><td>-8.063495e-09</td><td>-8.063495e-09</td><td>-8.063495e-09</td><td>-8.063495e-09</td><td>-8.063495e-09</td><td>-8.063495e-09</td><td>-8.063495e-09</td><td>-8.063495e-09</td><td>-8.063495e-09</td><td>-8.063495e-09</td><td>-8.063495e-09</td><td>-8.063495e-09</td></tr>\n",
       "\t<tr><td>0.5</td><td>-0.125</td><td>0.03125</td><td> 3.125000e-02</td><td>-7.812505e-03</td><td> 1.953120e-03</td><td>-4.882863e-04</td><td> 1.220653e-04</td><td>-3.052258e-05</td><td> 7.624395e-06</td><td>-1.912349e-06</td><td> 4.718372e-07</td><td>-1.242093e-07</td><td> 2.480232e-08</td><td>-1.245058e-08</td></tr>\n",
       "</tbody>\n",
       "</table>\n"
      ],
      "text/latex": [
       "A matrix: 2 × 15 of type dbl\n",
       "\\begin{tabular}{lllllllllllllll}\n",
       "\t 0.5 &  0.500 & 0.50000 & -8.063495e-09 & -8.063495e-09 & -8.063495e-09 & -8.063495e-09 & -8.063495e-09 & -8.063495e-09 & -8.063495e-09 & -8.063495e-09 & -8.063495e-09 & -8.063495e-09 & -8.063495e-09 & -8.063495e-09\\\\\n",
       "\t 0.5 & -0.125 & 0.03125 &  3.125000e-02 & -7.812505e-03 &  1.953120e-03 & -4.882863e-04 &  1.220653e-04 & -3.052258e-05 &  7.624395e-06 & -1.912349e-06 &  4.718372e-07 & -1.242093e-07 &  2.480232e-08 & -1.245058e-08\\\\\n",
       "\\end{tabular}\n"
      ],
      "text/markdown": [
       "\n",
       "A matrix: 2 × 15 of type dbl\n",
       "\n",
       "| 0.5 |  0.500 | 0.50000 | -8.063495e-09 | -8.063495e-09 | -8.063495e-09 | -8.063495e-09 | -8.063495e-09 | -8.063495e-09 | -8.063495e-09 | -8.063495e-09 | -8.063495e-09 | -8.063495e-09 | -8.063495e-09 | -8.063495e-09 |\n",
       "| 0.5 | -0.125 | 0.03125 |  3.125000e-02 | -7.812505e-03 |  1.953120e-03 | -4.882863e-04 |  1.220653e-04 | -3.052258e-05 |  7.624395e-06 | -1.912349e-06 |  4.718372e-07 | -1.242093e-07 |  2.480232e-08 | -1.245058e-08 |\n",
       "\n"
      ],
      "text/plain": [
       "     [,1] [,2]   [,3]    [,4]          [,5]          [,6]         \n",
       "[1,] 0.5   0.500 0.50000 -8.063495e-09 -8.063495e-09 -8.063495e-09\n",
       "[2,] 0.5  -0.125 0.03125  3.125000e-02 -7.812505e-03  1.953120e-03\n",
       "     [,7]          [,8]          [,9]          [,10]         [,11]        \n",
       "[1,] -8.063495e-09 -8.063495e-09 -8.063495e-09 -8.063495e-09 -8.063495e-09\n",
       "[2,] -4.882863e-04  1.220653e-04 -3.052258e-05  7.624395e-06 -1.912349e-06\n",
       "     [,12]         [,13]         [,14]         [,15]        \n",
       "[1,] -8.063495e-09 -8.063495e-09 -8.063495e-09 -8.063495e-09\n",
       "[2,]  4.718372e-07 -1.242093e-07  2.480232e-08 -1.245058e-08"
      ]
     },
     "metadata": {},
     "output_type": "display_data"
    }
   ],
   "source": [
    "x_plot"
   ]
  },
  {
   "cell_type": "markdown",
   "metadata": {},
   "source": [
    "## Ejemplo"
   ]
  },
  {
   "cell_type": "markdown",
   "metadata": {},
   "source": [
    "1) $$\\min \\quad e^{(x_1+3x_2-0.1)}+e^{x_1-3x_2-0.1}+e^{-x_1-0.1}$$"
   ]
  },
  {
   "cell_type": "code",
   "execution_count": 24,
   "metadata": {},
   "outputs": [],
   "source": [
    "fo <- function(x) exp(x[1]+3*x[2]-0.1) + exp(x[1]-3*x[2]-0.1) + exp(-x[1]-0.1)"
   ]
  },
  {
   "cell_type": "code",
   "execution_count": 25,
   "metadata": {},
   "outputs": [],
   "source": [
    "x_ast <- c(-3.4654e-01,-7.6725e-06)"
   ]
  },
  {
   "cell_type": "code",
   "execution_count": 26,
   "metadata": {},
   "outputs": [
    {
     "data": {
      "text/html": [
       "<ol class=list-inline>\n",
       "\t<li>-0.34654</li>\n",
       "\t<li>-7.6725e-06</li>\n",
       "</ol>\n"
      ],
      "text/latex": [
       "\\begin{enumerate*}\n",
       "\\item -0.34654\n",
       "\\item -7.6725e-06\n",
       "\\end{enumerate*}\n"
      ],
      "text/markdown": [
       "1. -0.34654\n",
       "2. -7.6725e-06\n",
       "\n",
       "\n"
      ],
      "text/plain": [
       "[1] -3.4654e-01 -7.6725e-06"
      ]
     },
     "metadata": {},
     "output_type": "display_data"
    }
   ],
   "source": [
    "x_ast"
   ]
  },
  {
   "cell_type": "code",
   "execution_count": 27,
   "metadata": {},
   "outputs": [
    {
     "name": "stdout",
     "output_type": "stream",
     "text": [
      "I\tNormagf\t\tError x_ast\tError p_ast\tline search\n",
      "1\t9.05e-01\t1.00e+00\t6.07e-02\t---\n",
      "2\t2.71e-01\t3.06e-01\t5.61e-03\t5.00e-01\n",
      "3\t7.64e-02\t8.60e-02\t4.46e-04\t5.00e-01\n",
      "4\t2.14e-02\t2.42e-02\t3.49e-05\t5.00e-01\n",
      "5\t5.98e-03\t6.64e-03\t2.73e-06\t5.00e-01\n",
      "6\t1.67e-03\t1.98e-03\t2.13e-07\t5.00e-01\n",
      "7\t4.67e-04\t4.31e-04\t1.60e-08\t5.00e-01\n",
      "8\t1.31e-04\t2.45e-04\t6.08e-10\t5.00e-01\n",
      "9\t3.65e-05\t6.00e-05\t5.95e-10\t5.00e-01\n",
      "10\t1.01e-05\t1.11e-04\t6.89e-10\t5.00e-01\n",
      "11\t2.75e-06\t9.64e-05\t6.96e-10\t5.00e-01\n",
      "12\t7.56e-07\t1.00e-04\t6.97e-10\t5.00e-01\n",
      "13\t2.22e-07\t9.92e-05\t6.97e-10\t5.00e-01\n",
      "14\t8.88e-08\t9.95e-05\t6.97e-10\t5.00e-01\n",
      "15\t6.28e-08\t9.94e-05\t6.97e-10\t5.00e-01\n",
      "16\t8.88e-08\t9.94e-05\t6.97e-10\t5.00e-01\n",
      "17\t0.00e+00\t9.94e-05\t6.97e-10\t6.25e-02\n",
      "Error of x with respect to x_ast: 9.94e-05\n",
      "Approximate solution:[1] -3.465736e-01 -5.551115e-09\n"
     ]
    }
   ],
   "source": [
    "x_0 <- c(0,0)\n",
    "tol <- 1e-8\n",
    "tol_backtracking <- 1e-14\n",
    "maxiter <- 50\n",
    "p_ast <- fo(x_ast)\n",
    "\n",
    "l<-coordinate_descent(fo, x_0, tol, tol_backtracking, x_ast, p_ast, maxiter)\n",
    "x <- l[[1]]\n",
    "total_of_iterations <- l[[2]]\n",
    "Err_plot <- l[[3]]\n",
    "x_plot <- l[[4]]\n"
   ]
  },
  {
   "cell_type": "code",
   "execution_count": 28,
   "metadata": {},
   "outputs": [
    {
     "data": {
      "text/html": [
       "17"
      ],
      "text/latex": [
       "17"
      ],
      "text/markdown": [
       "17"
      ],
      "text/plain": [
       "[1] 17"
      ]
     },
     "metadata": {},
     "output_type": "display_data"
    }
   ],
   "source": [
    "total_of_iterations"
   ]
  },
  {
   "cell_type": "code",
   "execution_count": 29,
   "metadata": {},
   "outputs": [],
   "source": [
    "gg <- ggplot()"
   ]
  },
  {
   "cell_type": "code",
   "execution_count": 30,
   "metadata": {},
   "outputs": [
    {
     "data": {
      "image/png": "[encoded data removed]",
      "text/plain": [
       "plot without title"
      ]
     },
     "metadata": {
      "image/png": {
       "height": 360,
       "width": 360
      }
     },
     "output_type": "display_data"
    }
   ],
   "source": [
    "gg +\n",
    "geom_line(aes(x=1:total_of_iterations,y=Err_plot)) + \n",
    "xlab('Iterations') + ylab(TeX('Error relativo entre f_o(x^k) y p^*'))"
   ]
  },
  {
   "cell_type": "code",
   "execution_count": 31,
   "metadata": {},
   "outputs": [
    {
     "data": {
      "image/png": "[encoded data removed]",
      "text/plain": [
       "plot without title"
      ]
     },
     "metadata": {
      "image/png": {
       "height": 360,
       "width": 360
      }
     },
     "output_type": "display_data"
    }
   ],
   "source": [
    "gg +\n",
    "geom_point(aes(x=x_plot[1,],y=x_plot[2,]),size=2) +\n",
    "annotate(geom='text', x=0.5, y=0.47, \n",
    "         label=TeX(\"x^{(0)}\", output='character'), parse=TRUE) + \n",
    "xlab('x') + ylab('y') + \n",
    "ggtitle(TeX('Iter del método de descenso por coordenadas para $f_o$'))"
   ]
  },
  {
   "cell_type": "code",
   "execution_count": 32,
   "metadata": {},
   "outputs": [
    {
     "data": {
      "text/html": [
       "<table>\n",
       "<caption>A matrix: 2 × 17 of type dbl</caption>\n",
       "<tbody>\n",
       "\t<tr><td>0</td><td>-0.4524187</td><td>-0.3167227</td><td>-0.3549266</td><td>-0.3442377</td><td>-0.3472268</td><td>-0.3463909</td><td>-0.3466247</td><td>-0.3465593</td><td>-0.3465776</td><td>-0.3465725</td><td>-0.3465739</td><td>-0.3465735</td><td>-0.3465736</td><td>-0.3465736</td><td>-0.3465736</td><td>-3.465736e-01</td></tr>\n",
       "\t<tr><td>0</td><td> 0.0000000</td><td> 0.0000000</td><td> 0.0000000</td><td> 0.0000000</td><td> 0.0000000</td><td> 0.0000000</td><td> 0.0000000</td><td> 0.0000000</td><td> 0.0000000</td><td> 0.0000000</td><td> 0.0000000</td><td> 0.0000000</td><td> 0.0000000</td><td> 0.0000000</td><td> 0.0000000</td><td>-5.551115e-09</td></tr>\n",
       "</tbody>\n",
       "</table>\n"
      ],
      "text/latex": [
       "A matrix: 2 × 17 of type dbl\n",
       "\\begin{tabular}{lllllllllllllllll}\n",
       "\t 0 & -0.4524187 & -0.3167227 & -0.3549266 & -0.3442377 & -0.3472268 & -0.3463909 & -0.3466247 & -0.3465593 & -0.3465776 & -0.3465725 & -0.3465739 & -0.3465735 & -0.3465736 & -0.3465736 & -0.3465736 & -3.465736e-01\\\\\n",
       "\t 0 &  0.0000000 &  0.0000000 &  0.0000000 &  0.0000000 &  0.0000000 &  0.0000000 &  0.0000000 &  0.0000000 &  0.0000000 &  0.0000000 &  0.0000000 &  0.0000000 &  0.0000000 &  0.0000000 &  0.0000000 & -5.551115e-09\\\\\n",
       "\\end{tabular}\n"
      ],
      "text/markdown": [
       "\n",
       "A matrix: 2 × 17 of type dbl\n",
       "\n",
       "| 0 | -0.4524187 | -0.3167227 | -0.3549266 | -0.3442377 | -0.3472268 | -0.3463909 | -0.3466247 | -0.3465593 | -0.3465776 | -0.3465725 | -0.3465739 | -0.3465735 | -0.3465736 | -0.3465736 | -0.3465736 | -3.465736e-01 |\n",
       "| 0 |  0.0000000 |  0.0000000 |  0.0000000 |  0.0000000 |  0.0000000 |  0.0000000 |  0.0000000 |  0.0000000 |  0.0000000 |  0.0000000 |  0.0000000 |  0.0000000 |  0.0000000 |  0.0000000 |  0.0000000 | -5.551115e-09 |\n",
       "\n"
      ],
      "text/plain": [
       "     [,1] [,2]       [,3]       [,4]       [,5]       [,6]       [,7]      \n",
       "[1,] 0    -0.4524187 -0.3167227 -0.3549266 -0.3442377 -0.3472268 -0.3463909\n",
       "[2,] 0     0.0000000  0.0000000  0.0000000  0.0000000  0.0000000  0.0000000\n",
       "     [,8]       [,9]       [,10]      [,11]      [,12]      [,13]     \n",
       "[1,] -0.3466247 -0.3465593 -0.3465776 -0.3465725 -0.3465739 -0.3465735\n",
       "[2,]  0.0000000  0.0000000  0.0000000  0.0000000  0.0000000  0.0000000\n",
       "     [,14]      [,15]      [,16]      [,17]        \n",
       "[1,] -0.3465736 -0.3465736 -0.3465736 -3.465736e-01\n",
       "[2,]  0.0000000  0.0000000  0.0000000 -5.551115e-09"
      ]
     },
     "metadata": {},
     "output_type": "display_data"
    }
   ],
   "source": [
    "x_plot"
   ]
  },
  {
   "cell_type": "markdown",
   "metadata": {},
   "source": [
    "**Comentario:** el método de descenso por coordenadas es lento en situaciones como la situación en el lado izquierdo y rápido como el lado derecho del siguiente dibujo:"
   ]
  },
  {
   "cell_type": "markdown",
   "metadata": {},
   "source": [
    "<img src=\"https://dl.dropboxusercontent.com/s/zamxqixd68551cn/descenso_por_coordenadas_desempenio.png?dl=0\" heigth=\"500\" width=\"500\">\n",
    "\n",
    "\n",
    "Imagen tomada del libro de J. Nocedal & S. J. Wright, Numerical Optimization, Springer."
   ]
  },
  {
   "cell_type": "markdown",
   "metadata": {},
   "source": [
    "**Referencias:**\n",
    "\n",
    "* S. P. Boyd, L. Vandenberghe, Convex Optimization, Cambridge University Press, 2009.\n"
   ]
  }
 ],
 "metadata": {
  "kernelspec": {
   "display_name": "R",
   "language": "R",
   "name": "ir"
  },
  "language_info": {
   "codemirror_mode": "r",
   "file_extension": ".r",
   "mimetype": "text/x-r-source",
   "name": "R",
   "pygments_lexer": "r",
   "version": "3.6.2"
  }
 },
 "nbformat": 4,
 "nbformat_minor": 4
}
