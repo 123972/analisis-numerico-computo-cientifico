{
 "cells": [
  {
   "cell_type": "code",
   "execution_count": 1,
   "metadata": {},
   "outputs": [],
   "source": [
    "import os"
   ]
  },
  {
   "cell_type": "code",
   "execution_count": 2,
   "metadata": {},
   "outputs": [],
   "source": [
    "cur_directory = os.getcwd()"
   ]
  },
  {
   "cell_type": "code",
   "execution_count": 3,
   "metadata": {},
   "outputs": [],
   "source": [
    "dir_alg_python = '/algoritmos/Python'"
   ]
  },
  {
   "cell_type": "code",
   "execution_count": 4,
   "metadata": {},
   "outputs": [],
   "source": [
    "os.chdir(cur_directory + dir_alg_python)"
   ]
  },
  {
   "cell_type": "code",
   "execution_count": 5,
   "metadata": {},
   "outputs": [],
   "source": [
    "import math\n",
    "\n",
    "import numpy as np\n",
    "\n",
    "from numerical_differentiation import gradient_approximation, \\\n",
    "                                      Hessian_approximation\n",
    "from line_search import line_search_for_residual_by_backtracking\n",
    "from utils import compute_error\n"
   ]
  },
  {
   "cell_type": "code",
   "execution_count": 6,
   "metadata": {},
   "outputs": [],
   "source": [
    "def log_barrier_aux_eval_function(eval_f_const_inequality):\n",
    "    '''\n",
    "    Auxiliary function for evaluation of contraint inequalities in logarithmic barrier\n",
    "    '''\n",
    "    #get values that are nonnegative through indexes\n",
    "    idx_zeros = np.logical_and(eval_f_const_inequality < np.nextafter(0,1),\n",
    "                               eval_f_const_inequality > -np.nextafter(0,1))\n",
    "    idx_positive = eval_f_const_inequality > 0 \n",
    "    idx  = np.logical_or(idx_zeros, idx_positive) \n",
    "    #eval constraint inequality functions\n",
    "    #next line produces warning if a value of constraint is nonnegative\n",
    "    eval_f_const_inequality = np.log(-eval_f_const_inequality)                                                           \n",
    "    #assign large value for values positive or equal to 0\n",
    "    eval_f_const_inequality[idx] = 1e10     \n",
    "    return eval_f_const_inequality"
   ]
  },
  {
   "cell_type": "code",
   "execution_count": 7,
   "metadata": {},
   "outputs": [],
   "source": [
    "def constraint_inequalities_funcs_eval(x):\n",
    "    const_ineq_funcs_eval = np.array([const(x) for const in constraint_inequalities_funcs_generator()])\n",
    "    return const_ineq_funcs_eval"
   ]
  },
  {
   "cell_type": "code",
   "execution_count": 8,
   "metadata": {},
   "outputs": [],
   "source": [
    "def logarithmic_barrier(f,x, t_path):\n",
    "    '''\n",
    "    Implementation of Logarithmic barrier function.\n",
    "    '''\n",
    "    return t_path*f(x) + np.sum(log_barrier_aux_eval_function(constraint_inequalities_funcs_eval(x)))\n",
    "           "
   ]
  },
  {
   "cell_type": "code",
   "execution_count": 9,
   "metadata": {},
   "outputs": [],
   "source": [
    "def numerical_differentiation_of_logarithmic_barrier(f, x, t_path):\n",
    "    '''\n",
    "    First and second derivative of logarithmic barrier function approximation\n",
    "    via finite differences\n",
    "    '''\n",
    "    sum_gf_const = 0\n",
    "    sum_Hf_const = 0\n",
    "    for const in constraint_inequalities_funcs_generator():\n",
    "        const_eval = const(x)\n",
    "        gf_const_eval = gradient_approximation(const, x)\n",
    "        Hf_const_eval = Hessian_approximation(const, x)\n",
    "        sum_gf_const += gf_const_eval/const_eval  \n",
    "        sum_Hf_const += np.outer(gf_const_eval,gf_const_eval)/const_eval**2 - Hf_const_eval/const_eval\n",
    "    gf_eval = gradient_approximation(f,x)\n",
    "    Hf_eval = Hessian_approximation(f,x)\n",
    "    return {'gradient': t_path*gf_eval-sum_gf_const,\n",
    "            'Hessian': t_path*Hf_eval + sum_Hf_const\n",
    "           }"
   ]
  },
  {
   "cell_type": "code",
   "execution_count": 10,
   "metadata": {},
   "outputs": [],
   "source": [
    "def constraint_inequalities_funcs_generator():\n",
    "    '''\n",
    "    Generator for functional form of inequalities.\n",
    "    For every example this function produces different fuctions.\n",
    "    '''\n",
    "    for k, v in const.items():\n",
    "        yield v"
   ]
  },
  {
   "cell_type": "markdown",
   "metadata": {},
   "source": [
    "# Example"
   ]
  },
  {
   "cell_type": "code",
   "execution_count": 11,
   "metadata": {},
   "outputs": [],
   "source": [
    "from utils import compute_error"
   ]
  },
  {
   "cell_type": "code",
   "execution_count": 12,
   "metadata": {},
   "outputs": [],
   "source": [
    "def line_search_for_log_barrier_by_backtracking(f,dir_desc,x,t_path,\n",
    "                                                der_direct, alpha=.15, beta=.5):\n",
    "    '''\n",
    "    Line search that sufficiently decreases f restricted to a ray in the direction dir_desc.\n",
    "    Args:\n",
    "        alpha (float): parameter in line search with backtracking, tipically .15\n",
    "        beta (float): parameter in line search with backtracking, tipically .5\n",
    "        f (lambda expression): definition of function f.\n",
    "        dir_desc (array): descent direction.\n",
    "        x (array): numpy array that holds values where line search will be performed.\n",
    "        der_direct (float): directional derivative of f.\n",
    "    Returns:\n",
    "        t (float): positive number for stepsize along dir_desc that sufficiently decreases f.\n",
    "    '''\n",
    "    t=1\n",
    "    if alpha > 1/2:\n",
    "        print('alpha must be less than or equal to 1/2')\n",
    "        t=-1\n",
    "    if beta>1:\n",
    "        print('beta must be less than 1')\n",
    "        t=-1;   \n",
    "    if t!=-1:\n",
    "        eval1 = logarithmic_barrier(f,x + t*dir_desc, t_path)\n",
    "        eval2 = logarithmic_barrier(f,x, t_path) + alpha*t*der_direct\n",
    "        while eval1 > eval2:\n",
    "            t=beta*t\n",
    "            eval1=logarithmic_barrier(f,x + t*dir_desc, t_path)\n",
    "            eval2=logarithmic_barrier(f,x, t_path) + alpha*t*der_direct\n",
    "    return t"
   ]
  },
  {
   "cell_type": "code",
   "execution_count": 13,
   "metadata": {},
   "outputs": [],
   "source": [
    "def Newtons_method_log_barrier_feasible_init_point(f, A, constraints_ineq, \n",
    "                                                   t_path, x_0, tol, \n",
    "                                                   tol_backtracking, x_ast=None, p_ast=None, maxiter=30,\n",
    "                                                   gf_symbolic = None,\n",
    "                                                   Hf_symbolic = None):\n",
    "    '''\n",
    "    Newton's method to numerically approximate solution of min f subject to Ax = b.\n",
    "    IMPORTANT: this implementation requires that initial point x_0, satisfies: Ax_0 = b\n",
    "    Args:\n",
    "        f (fun): definition of function f as lambda expression or function definition.\n",
    "        A (numpy ndarray): 2d numpy array of shape (m,n) defines system of constraints Ax=b.\n",
    "        \n",
    "        constraints_ineq\n",
    "        \n",
    "        t_path\n",
    "        \n",
    "        x_0 (numpy ndarray): initial point for Newton's method. Must satisfy: Ax_0 = b\n",
    "        tol (float): tolerance that will halt method. Controls stopping criteria.\n",
    "        tol_backtracking (float): tolerance that will halt method. Controls value of line search by backtracking.\n",
    "        x_ast (numpy ndarray): solution of min f, now it's required that user knows the solution...\n",
    "        p_ast (float): value of f(x_ast), now it's required that user knows the solution...\n",
    "        maxiter (int): maximum number of iterations\n",
    "        gf_symbolic (fun): definition of gradient of f. If given, no approximation is\n",
    "                                     performed via finite differences.\n",
    "        Hf_symbolic (fun): definition of Hessian of f. If given, no approximation is\n",
    "                                     performed via finite differences.\n",
    "    Returns:\n",
    "        x (numpy ndarray): numpy array, approximation of x_ast.\n",
    "        iteration (int): number of iterations.\n",
    "        Err_plot (numpy ndarray): numpy array of absolute error between p_ast and f(x) with x approximation\n",
    "                          of x_ast. Useful for plotting.\n",
    "        x_plot (numpy ndarray): numpy array that containts in columns vector of approximations. Last column\n",
    "                        contains x, approximation of solution. Useful for plotting.\n",
    "    '''\n",
    "    iteration = 0\n",
    "        \n",
    "    x = x_0\n",
    "    \n",
    "    feval = f(x)\n",
    "        \n",
    "    if gf_symbolic and Hf_symbolic:\n",
    "        gfeval = gf_symbolic(x)\n",
    "        Hfeval = Hf_symbolic(x)\n",
    "    else:\n",
    "        grad_Hess_log_barrier_dict = numerical_differentiation_of_logarithmic_barrier(f,x,t_path)\n",
    "        gfeval = grad_Hess_log_barrier_dict['gradient']\n",
    "        Hfeval = grad_Hess_log_barrier_dict['Hessian']\n",
    "\n",
    "    \n",
    "    normgf = np.linalg.norm(gfeval)\n",
    "    condHf= np.linalg.cond(Hfeval)\n",
    "    \n",
    "    Err_plot_aux = np.zeros(maxiter)\n",
    "    Err_plot_aux[iteration]=compute_error(p_ast,feval)\n",
    "    \n",
    "    Err = compute_error(x_ast,x)\n",
    "    \n",
    "        \n",
    "    if(A.ndim == 1):\n",
    "        p = 1\n",
    "        n = x.size\n",
    "        zero_matrix = np.zeros(p)\n",
    "        first_stack = np.column_stack((Hfeval, A.T))\n",
    "        second_stack = np.row_stack((A.reshape(1,n).T,zero_matrix)).reshape(1,n+1)[0]\n",
    "    else:\n",
    "        p,n = A.shape\n",
    "        zero_matrix = np.zeros((p,p))\n",
    "        first_stack = np.column_stack((Hfeval, A.T))\n",
    "        second_stack = np.column_stack((A,zero_matrix))\n",
    "        \n",
    "    x_plot = np.zeros((n,maxiter))\n",
    "    x_plot[:,iteration] = x\n",
    "    \n",
    "    system_matrix = np.row_stack((first_stack,second_stack))\n",
    "    zero_vector = np.zeros(p)\n",
    "    rhs = np.row_stack((gfeval.reshape(n,1), zero_vector.reshape(p,1))).T[0]\n",
    "\n",
    "    #Newton's direction and Newton's decrement\n",
    "    dir_desc = np.linalg.solve(system_matrix, -rhs)\n",
    "    dir_Newton = dir_desc[0:n]\n",
    "    dec_Newton = -gfeval.dot(dir_Newton)\n",
    "    w_dual_variable_estimation = dir_desc[n:(n+p)]\n",
    "\n",
    "\n",
    "    print('I\\tNorm gfLogBarrier \\tNewton Decrement\\tError x_ast\\tError p_ast\\tline search\\tCondHf')\n",
    "    print('{}\\t\\t{:0.2e}\\t\\t{:0.2e}\\t{:0.2e}\\t{:0.2e}\\t{}\\t\\t{:0.2e}'.format(iteration,normgf,\n",
    "                                                                         dec_Newton,Err,\n",
    "                                                                         Err_plot_aux[iteration],\"---\",\n",
    "                                                                         condHf))\n",
    "    \n",
    "    stopping_criteria = dec_Newton/2\n",
    "    iteration+=1\n",
    "    while(stopping_criteria>tol and iteration < maxiter):\n",
    "        der_direct = -dec_Newton\n",
    "        t = line_search_for_log_barrier_by_backtracking(f,dir_Newton,x,t_path,der_direct)\n",
    "        x = x + t*dir_Newton\n",
    "        feval = f(x)\n",
    "            \n",
    "        if gf_symbolic and Hf_symbolic:\n",
    "            gfeval = gf_symbolic(x)\n",
    "            Hfeval = Hf_symbolic(x)\n",
    "        else:\n",
    "            grad_Hess_log_barrier_dict = numerical_differentiation_of_logarithmic_barrier(f,x,t_path)\n",
    "            gfeval = grad_Hess_log_barrier_dict['gradient']\n",
    "            Hfeval = grad_Hess_log_barrier_dict['Hessian']\n",
    "        \n",
    "        if(A.ndim == 1):\n",
    "            first_stack = np.column_stack((Hfeval, A.T))\n",
    "        else:\n",
    "            first_stack = np.column_stack((Hfeval, A.T))\n",
    "\n",
    "        system_matrix = np.row_stack((first_stack,second_stack))\n",
    "        rhs = np.row_stack((gfeval.reshape(n,1), zero_vector.reshape(p,1))).T[0]\n",
    "        #Newton's direction and Newton's decrement\n",
    "        dir_desc = np.linalg.solve(system_matrix, -rhs)\n",
    "        dir_Newton = dir_desc[0:n]\n",
    "        dec_Newton = -gfeval.dot(dir_Newton)\n",
    "        w_dual_variable_estimation = dir_desc[n:(n+p)]\n",
    "        \n",
    "        Err_plot_aux[iteration]=compute_error(p_ast,feval)\n",
    "        x_plot[:,iteration] = x\n",
    "        Err = compute_error(x_ast,x)\n",
    "        print('{}\\t\\t{:0.2e}\\t\\t{:0.2e}\\t{:0.2e}\\t{:0.2e}\\t{:0.2e}\\t{:0.2e}'.format(iteration,normgf,\n",
    "                                                                                dec_Newton,Err,\n",
    "                                                                                Err_plot_aux[iteration],t,\n",
    "                                                                                condHf))\n",
    "        stopping_criteria = dec_Newton/2\n",
    "        if t<tol_backtracking: #if t is less than tol_backtracking then we need to check the reason\n",
    "            iter_salida=iteration\n",
    "            iteration = maxiter - 1\n",
    "        iteration+=1\n",
    "    print('{} {:0.2e}'.format(\"Error of x with respect to x_ast:\",Err))\n",
    "    print('{} {}'.format(\"Approximate solution:\", x))\n",
    "    cond = Err_plot_aux > np.finfo(float).eps*10**(-2)\n",
    "    Err_plot = Err_plot_aux[cond]\n",
    "    \n",
    "    if iteration == maxiter and t < tol_backtracking:\n",
    "        print(\"Backtracking value less than tol_backtracking, check approximation\")\n",
    "        iteration=iter_salida\n",
    "    else:\n",
    "        if iteration == maxiter:\n",
    "            print(\"Reached maximum of iterations, check approximation\")\n",
    "    x_plot = x_plot[:,:iteration]\n",
    "    return [x,iteration,Err_plot,x_plot]"
   ]
  },
  {
   "cell_type": "code",
   "execution_count": 14,
   "metadata": {},
   "outputs": [],
   "source": [
    "def Path_following_method(f, A, constraints_ineq,\n",
    "                          x_0, tol,\n",
    "                          tol_backtracking, x_ast=None, p_ast=None, maxiter=30,\n",
    "                          mu=None,\n",
    "                          gf_symbolic=None, Hf_symbolic=None,\n",
    "                          tol_outer_iter=1e-6,maxiter_path=30\n",
    "                          ):\n",
    "    m = len(const.keys())\n",
    "    if p_ast:\n",
    "        t_0 = m/math.fabs(f(x_0)-p_ast) #other option: t_0 = mu*m/(f(x_0)-p_ast)\n",
    "    else:\n",
    "        print(\"p_ast must be defined\")\n",
    "    t = t_0\n",
    "    x = x_0\n",
    "    log_barrier_eval = logarithmic_barrier(f,x,t)\n",
    "    stopping_criteria = m/t\n",
    "    outer_iter = 1\n",
    "    const_ineq_funcs_eval = constraint_inequalities_funcs_eval(x)\n",
    "        \n",
    "    print(\"Outer iterations of path following method\")\n",
    "    print('{} {:0.2e}'.format(\"Mu value:\", mu))\n",
    "    print('Outer iteration\\tLogBarrier \\tt_log_barrier\\tStopping criteria')\n",
    "    print('{}\\t\\t{:0.2e}\\t{:0.2e}\\t{:0.2e}'.format(outer_iter,log_barrier_eval,\n",
    "                                                 t,stopping_criteria\n",
    "                                                 ))\n",
    "    print(\"----------------------------------------------------------------------------------------\")\n",
    "    iter_barrier = 0\n",
    "    while(stopping_criteria > tol_outer_iter and outer_iter < maxiter_path):\n",
    "        [x,iteration,Err_plot,x_plot] = Newtons_method_log_barrier_feasible_init_point(f, A, constraints_ineq, \n",
    "                                                                                       t, x_0, tol, \n",
    "                                                                                       tol_backtracking, x_ast, p_ast, maxiter,\n",
    "                                                                                       gf_symbolic, Hf_symbolic)\n",
    "        print(\"Inner iterations\")\n",
    "        print(x)\n",
    "        const_ineq_funcs_eval = constraint_inequalities_funcs_eval(x)\n",
    "        \n",
    "        if(sum(const_ineq_funcs_eval > np.nextafter(0,1)) >=1):\n",
    "            print(\"Some constraint inequalities evaluated in x were nonnegative, check approximations\")\n",
    "        \n",
    "        t=mu*t\n",
    "        log_barrier_eval = logarithmic_barrier(f,x,t)\n",
    "        outer_iter+=1\n",
    "        stopping_criteria = m/t\n",
    "        print(\"----------------------------------------------------------------------------------------\")\n",
    "        print(\"Outer iterations of path following method\")\n",
    "        print('{} {:0.2e}'.format(\"Mu value:\", mu))\n",
    "        print('Outer iteration\\tLogBarrier \\tt_log_barrier\\tStopping criteria')\n",
    "        print('{}\\t\\t{:0.2e}\\t{:0.2e}\\t{:0.2e}'.format(outer_iter,log_barrier_eval,\n",
    "                                                     t,stopping_criteria\n",
    "                                                     ))\n",
    "        print(\"----------------------------------------------------------------------------------------\")\n",
    "        iter_barrier+= iter_barrier + iteration\n",
    "            \n",
    "    return [x,iter_barrier,t]"
   ]
  },
  {
   "cell_type": "code",
   "execution_count": 15,
   "metadata": {},
   "outputs": [],
   "source": [
    "fo = lambda x: x[0]**2 + x[1]**2 + x[2]**2 + x[3]**2-2*x[0]-3*x[3]"
   ]
  },
  {
   "cell_type": "code",
   "execution_count": 16,
   "metadata": {},
   "outputs": [],
   "source": [
    "const = {0: lambda x: -x[0],\n",
    "         1: lambda x: -x[1],\n",
    "         2: lambda x: -x[2],\n",
    "         3: lambda x: -x[3]\n",
    "        }"
   ]
  },
  {
   "cell_type": "code",
   "execution_count": 17,
   "metadata": {},
   "outputs": [],
   "source": [
    "A= np.array([[2,1,1,4],\n",
    "             [1,1,2,1]])"
   ]
  },
  {
   "cell_type": "code",
   "execution_count": 18,
   "metadata": {},
   "outputs": [],
   "source": [
    "b=np.array([7,6])"
   ]
  },
  {
   "cell_type": "code",
   "execution_count": 19,
   "metadata": {},
   "outputs": [],
   "source": [
    "x_ast=np.array([1.1232876712328763,0.6506849315068493,\n",
    "                1.8287671232876714,0.5684931506849317])"
   ]
  },
  {
   "cell_type": "code",
   "execution_count": 20,
   "metadata": {},
   "outputs": [],
   "source": [
    "x_0 = np.array([8.082191780821915e-01,\n",
    "                8.767123287671235e-01,\n",
    "                1.821917808219178e+00,\n",
    "                6.712328767123281e-01])"
   ]
  },
  {
   "cell_type": "code",
   "execution_count": 21,
   "metadata": {},
   "outputs": [
    {
     "data": {
      "text/plain": [
       "array([0.80821918, 0.87671233, 1.82191781, 0.67123288])"
      ]
     },
     "execution_count": 21,
     "metadata": {},
     "output_type": "execute_result"
    }
   ],
   "source": [
    "x_0"
   ]
  },
  {
   "cell_type": "code",
   "execution_count": 22,
   "metadata": {},
   "outputs": [],
   "source": [
    "p_ast=fo(x_ast)"
   ]
  },
  {
   "cell_type": "code",
   "execution_count": 23,
   "metadata": {},
   "outputs": [
    {
     "data": {
      "text/plain": [
       "1.4006849315068495"
      ]
     },
     "execution_count": 23,
     "metadata": {},
     "output_type": "execute_result"
    }
   ],
   "source": [
    "p_ast"
   ]
  },
  {
   "cell_type": "code",
   "execution_count": 24,
   "metadata": {},
   "outputs": [],
   "source": [
    "tol_outer_iter = 1e-6\n",
    "tol=1e-8\n",
    "tol_backtracking=1e-12\n",
    "maxiter=30\n",
    "mu=10"
   ]
  },
  {
   "cell_type": "code",
   "execution_count": 25,
   "metadata": {},
   "outputs": [
    {
     "name": "stdout",
     "output_type": "stream",
     "text": [
      "Outer iterations of path following method\n",
      "Mu value: 1.00e+01\n",
      "Outer iteration\tLogBarrier \tt_log_barrier\tStopping criteria\n",
      "1\t\t3.87e+01\t2.49e+01\t1.61e-01\n",
      "----------------------------------------------------------------------------------------\n",
      "I\tNorm gfLogBarrier \tNewton Decrement\tError x_ast\tError p_ast\tline search\tCondHf\n",
      "0\t\t1.09e+02\t\t7.74e+00\t1.73e-01\t1.15e-01\t---\t\t1.04e+00\n",
      "1\t\t1.09e+02\t\t3.10e-04\t7.71e-03\t2.27e-04\t1.00e+00\t1.04e+00\n",
      "2\t\t1.09e+02\t\t3.10e-04\t7.71e-03\t2.27e-04\t2.27e-13\t1.04e+00\n",
      "Error of x with respect to x_ast: 7.71e-03\n",
      "Approximate solution: [1.11865825 0.66695832 1.8231155  0.56815242]\n",
      "Backtracking value less than tol_backtracking, check approximation\n",
      "Inner iterations\n",
      "[1.11865825 0.66695832 1.8231155  0.56815242]\n",
      "----------------------------------------------------------------------------------------\n",
      "Outer iterations of path following method\n",
      "Mu value: 1.00e+01\n",
      "Outer iteration\tLogBarrier \tt_log_barrier\tStopping criteria\n",
      "2\t\t3.48e+02\t2.49e+02\t1.61e-02\n",
      "----------------------------------------------------------------------------------------\n",
      "I\tNorm gfLogBarrier \tNewton Decrement\tError x_ast\tError p_ast\tline search\tCondHf\n",
      "0\t\t1.09e+03\t\t7.97e+01\t1.73e-01\t1.15e-01\t---\t\t1.00e+00\n",
      "1\t\t1.09e+03\t\t9.56e-05\t8.05e-04\t2.48e-06\t1.00e+00\t1.00e+00\n",
      "2\t\t1.09e+03\t\t9.56e-05\t8.05e-04\t2.48e-06\t5.82e-11\t1.00e+00\n",
      "3\t\t1.09e+03\t\t9.56e-05\t8.05e-04\t2.48e-06\t4.66e-10\t1.00e+00\n",
      "4\t\t1.09e+03\t\t9.56e-05\t8.05e-04\t2.48e-06\t9.09e-13\t1.00e+00\n",
      "Error of x with respect to x_ast: 8.05e-04\n",
      "Approximate solution: [1.12264501 0.65235043 1.82823695 0.56853065]\n",
      "Backtracking value less than tol_backtracking, check approximation\n",
      "Inner iterations\n",
      "[1.12264501 0.65235043 1.82823695 0.56853065]\n",
      "----------------------------------------------------------------------------------------\n",
      "Outer iterations of path following method\n",
      "Mu value: 1.00e+01\n",
      "Outer iteration\tLogBarrier \tt_log_barrier\tStopping criteria\n",
      "3\t\t3.48e+03\t2.49e+03\t1.61e-03\n",
      "----------------------------------------------------------------------------------------\n",
      "I\tNorm gfLogBarrier \tNewton Decrement\tError x_ast\tError p_ast\tline search\tCondHf\n",
      "0\t\t1.09e+04\t\t7.99e+02\t1.73e-01\t1.15e-01\t---\t\t1.00e+00\n",
      "1\t\t1.09e+04\t\t2.59e-04\t1.28e-04\t6.26e-08\t1.00e+00\t1.00e+00\n",
      "2\t\t1.09e+04\t\t9.42e-12\t8.44e-05\t2.72e-08\t1.00e+00\t1.00e+00\n",
      "Error of x with respect to x_ast: 8.44e-05\n",
      "Approximate solution: [1.12325838 0.65086494 1.82869835 0.56847999]\n",
      "Inner iterations\n",
      "[1.12325838 0.65086494 1.82869835 0.56847999]\n",
      "----------------------------------------------------------------------------------------\n",
      "Outer iterations of path following method\n",
      "Mu value: 1.00e+01\n",
      "Outer iteration\tLogBarrier \tt_log_barrier\tStopping criteria\n",
      "4\t\t3.48e+04\t2.49e+04\t1.61e-04\n",
      "----------------------------------------------------------------------------------------\n",
      "I\tNorm gfLogBarrier \tNewton Decrement\tError x_ast\tError p_ast\tline search\tCondHf\n",
      "0\t\t1.09e+05\t\t8.00e+03\t1.73e-01\t1.15e-01\t---\t\t1.00e+00\n",
      "1\t\t1.09e+05\t\t2.18e-03\t9.11e-05\t3.17e-08\t1.00e+00\t1.00e+00\n",
      "2\t\t1.09e+05\t\t4.72e-10\t8.40e-06\t2.70e-10\t1.00e+00\t1.00e+00\n",
      "Error of x with respect to x_ast: 8.40e-06\n",
      "Approximate solution: [1.12328471 0.65070284 1.82876029 0.56849186]\n",
      "Inner iterations\n",
      "[1.12328471 0.65070284 1.82876029 0.56849186]\n",
      "----------------------------------------------------------------------------------------\n",
      "Outer iterations of path following method\n",
      "Mu value: 1.00e+01\n",
      "Outer iteration\tLogBarrier \tt_log_barrier\tStopping criteria\n",
      "5\t\t3.48e+05\t2.49e+05\t1.61e-05\n",
      "----------------------------------------------------------------------------------------\n",
      "I\tNorm gfLogBarrier \tNewton Decrement\tError x_ast\tError p_ast\tline search\tCondHf\n",
      "0\t\t1.09e+06\t\t8.00e+04\t1.73e-01\t1.15e-01\t---\t\t1.00e+00\n",
      "1\t\t1.09e+06\t\t2.14e-02\t8.97e-05\t3.07e-08\t1.00e+00\t1.00e+00\n",
      "2\t\t1.09e+06\t\t3.90e-10\t8.33e-07\t2.65e-12\t1.00e+00\t1.00e+00\n",
      "Error of x with respect to x_ast: 8.33e-07\n",
      "Approximate solution: [1.12328736 0.65068671 1.82876645 0.56849303]\n",
      "Inner iterations\n",
      "[1.12328736 0.65068671 1.82876645 0.56849303]\n",
      "----------------------------------------------------------------------------------------\n",
      "Outer iterations of path following method\n",
      "Mu value: 1.00e+01\n",
      "Outer iteration\tLogBarrier \tt_log_barrier\tStopping criteria\n",
      "6\t\t3.48e+06\t2.49e+06\t1.61e-06\n",
      "----------------------------------------------------------------------------------------\n",
      "I\tNorm gfLogBarrier \tNewton Decrement\tError x_ast\tError p_ast\tline search\tCondHf\n",
      "0\t\t1.09e+07\t\t8.00e+05\t1.73e-01\t1.15e-01\t---\t\t1.00e+00\n",
      "1\t\t1.09e+07\t\t2.13e-01\t8.96e-05\t3.07e-08\t1.00e+00\t1.00e+00\n",
      "2\t\t1.09e+07\t\t2.78e-08\t1.14e-07\t5.26e-14\t1.00e+00\t1.00e+00\n",
      "3\t\t1.09e+07\t\t1.54e-08\t9.03e-08\t3.65e-14\t1.00e+00\t1.00e+00\n",
      "Error of x with respect to x_ast: 9.03e-08\n",
      "Approximate solution: [1.12328763 0.65068512 1.82876705 0.56849314]\n",
      "Inner iterations\n",
      "[1.12328763 0.65068512 1.82876705 0.56849314]\n",
      "----------------------------------------------------------------------------------------\n",
      "Outer iterations of path following method\n",
      "Mu value: 1.00e+01\n",
      "Outer iteration\tLogBarrier \tt_log_barrier\tStopping criteria\n",
      "7\t\t3.48e+07\t2.49e+07\t1.61e-07\n",
      "----------------------------------------------------------------------------------------\n"
     ]
    }
   ],
   "source": [
    "[x,iter_barrier,t] = Path_following_method(fo, A, const,\n",
    "                                           x_0, tol,\n",
    "                                           tol_backtracking, x_ast, p_ast, maxiter,\n",
    "                                           mu\n",
    "                                          )"
   ]
  },
  {
   "cell_type": "code",
   "execution_count": 26,
   "metadata": {},
   "outputs": [
    {
     "data": {
      "text/plain": [
       "[array([1.12328763, 0.65068512, 1.82876705, 0.56849314]),\n",
       " 174,\n",
       " 24851063.829786982]"
      ]
     },
     "execution_count": 26,
     "metadata": {},
     "output_type": "execute_result"
    }
   ],
   "source": [
    "[x,iter_barrier,t]"
   ]
  },
  {
   "cell_type": "code",
   "execution_count": 27,
   "metadata": {},
   "outputs": [
    {
     "data": {
      "text/plain": [
       "9.029491544987291e-08"
      ]
     },
     "execution_count": 27,
     "metadata": {},
     "output_type": "execute_result"
    }
   ],
   "source": [
    "compute_error(x_ast,x)"
   ]
  },
  {
   "cell_type": "code",
   "execution_count": null,
   "metadata": {},
   "outputs": [],
   "source": []
  },
  {
   "cell_type": "code",
   "execution_count": null,
   "metadata": {},
   "outputs": [],
   "source": []
  },
  {
   "cell_type": "code",
   "execution_count": null,
   "metadata": {},
   "outputs": [],
   "source": []
  },
  {
   "cell_type": "code",
   "execution_count": 36,
   "metadata": {},
   "outputs": [],
   "source": [
    "f = lambda x: 2*x[0] + 5*x[1]"
   ]
  },
  {
   "cell_type": "code",
   "execution_count": null,
   "metadata": {},
   "outputs": [],
   "source": [
    "const = {0: lambda x: 6-x[0]-x[1],\n",
    "         1: lambda x: -18+x[0]+2*x[1],\n",
    "         2: lambda x: -x[0],\n",
    "         3: lambda x: -x[1]\n",
    "        }"
   ]
  },
  {
   "cell_type": "code",
   "execution_count": null,
   "metadata": {},
   "outputs": [],
   "source": [
    "A="
   ]
  }
 ],
 "metadata": {
  "kernelspec": {
   "display_name": "Python 3",
   "language": "python",
   "name": "python3"
  },
  "language_info": {
   "codemirror_mode": {
    "name": "ipython",
    "version": 3
   },
   "file_extension": ".py",
   "mimetype": "text/x-python",
   "name": "python",
   "nbconvert_exporter": "python",
   "pygments_lexer": "ipython3",
   "version": "3.6.9"
  }
 },
 "nbformat": 4,
 "nbformat_minor": 4
}
