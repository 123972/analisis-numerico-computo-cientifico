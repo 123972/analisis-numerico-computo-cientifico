{
 "cells": [
  {
   "cell_type": "code",
   "execution_count": 1,
   "metadata": {},
   "outputs": [],
   "source": [
    "import os"
   ]
  },
  {
   "cell_type": "code",
   "execution_count": 2,
   "metadata": {},
   "outputs": [],
   "source": [
    "cur_directory = os.getcwd()"
   ]
  },
  {
   "cell_type": "code",
   "execution_count": 3,
   "metadata": {},
   "outputs": [],
   "source": [
    "dir_alg_python = '/algoritmos/Python'"
   ]
  },
  {
   "cell_type": "code",
   "execution_count": 4,
   "metadata": {},
   "outputs": [],
   "source": [
    "os.chdir(cur_directory + dir_alg_python)"
   ]
  },
  {
   "cell_type": "code",
   "execution_count": 5,
   "metadata": {},
   "outputs": [],
   "source": [
    "import math\n",
    "\n",
    "import numpy as np\n",
    "\n",
    "from numerical_differentiation import gradient_approximation, \\\n",
    "                                      Hessian_approximation\n",
    "from line_search import line_search_for_residual_by_backtracking\n",
    "from utils import compute_error\n"
   ]
  },
  {
   "cell_type": "code",
   "execution_count": 6,
   "metadata": {},
   "outputs": [],
   "source": [
    "def log_barrier_aux_eval_function(eval_f_const_inequality):\n",
    "    '''\n",
    "    Auxiliary function for evaluation of contraint inequalities in logarithmic barrier\n",
    "    function.\n",
    "    '''\n",
    "    #get values that are nonnegative through indexes\n",
    "    idx_zeros = np.logical_and(eval_f_const_inequality < np.nextafter(0,1),\n",
    "                               eval_f_const_inequality > -np.nextafter(0,1))\n",
    "    idx_positive = eval_f_const_inequality > 0 \n",
    "    idx  = np.logical_or(idx_zeros, idx_positive) \n",
    "    #eval constraint inequality functions\n",
    "    #next line produces warning if a value of constraint is nonnegative\n",
    "    eval_f_const_inequality = np.log(-eval_f_const_inequality)                                                           \n",
    "    #assign large value for values positive or equal to 0\n",
    "    eval_f_const_inequality[idx] = 1e10     \n",
    "    return eval_f_const_inequality"
   ]
  },
  {
   "cell_type": "code",
   "execution_count": 7,
   "metadata": {},
   "outputs": [],
   "source": [
    "def constraint_inequalities_funcs_sum_eval(x):\n",
    "    const_ineq_funcs_eval = np.array([const(x) for const in constraint_inequalities_funcs()])\n",
    "    return np.sum(log_barrier_aux_eval_function(const_ineq_funcs_eval))"
   ]
  },
  {
   "cell_type": "code",
   "execution_count": 8,
   "metadata": {},
   "outputs": [],
   "source": [
    "def logarithmic_barrier(x, t_path):\n",
    "    '''\n",
    "    Implementation of Logarithmic barrier function.\n",
    "    '''\n",
    "    return t_path*f(x) + constraint_inequalities_funcs_sum_eval(x)\n",
    "           "
   ]
  },
  {
   "cell_type": "code",
   "execution_count": 9,
   "metadata": {},
   "outputs": [],
   "source": [
    "def numerical_differentiation_of_logarithmic_barrier(x, t_path):\n",
    "    '''\n",
    "    First and second derivative of logarithmic barrier function approximation\n",
    "    via finite differences\n",
    "    '''\n",
    "    sum_gf_const = 0\n",
    "    sum_Hf_const = 0\n",
    "    for const in constraint_inequalities_funcs():\n",
    "        const_eval = const(x)\n",
    "        gf_const_eval = gradient_approximation(const, x)\n",
    "        Hf_const_eval = Hessian_approximation(const, x)\n",
    "        print(Hf_const_eval)\n",
    "        sum_Hf_const = np.outer(gf_const_eval,gf_const_eval)/const_eval**2 - Hf_const_eval/const_eval\n",
    "        sum_gf_const += gf_const_eval/const_eval  \n",
    "        \n",
    "    return [-sum_gf_const,sum_Hf_const]"
   ]
  },
  {
   "cell_type": "markdown",
   "metadata": {},
   "source": [
    "# Example"
   ]
  },
  {
   "cell_type": "code",
   "execution_count": 10,
   "metadata": {},
   "outputs": [],
   "source": [
    "f = lambda x: 3*x[0]**2 + 5*x[1]**2"
   ]
  },
  {
   "cell_type": "code",
   "execution_count": 11,
   "metadata": {},
   "outputs": [],
   "source": [
    "def constraint_inequalities_funcs():\n",
    "    '''\n",
    "    Functional form of inequalities.\n",
    "    For every example this function changes.\n",
    "    '''\n",
    "    const = {0: lambda x: 4*x[0] + 5*x[1] -1,\n",
    "             1: lambda x: 3*x[0]**2 -3*x[1] -10,\n",
    "             2: lambda x: -x[1],\n",
    "            }\n",
    "    for k, v in const.items():\n",
    "        yield v"
   ]
  },
  {
   "cell_type": "code",
   "execution_count": 12,
   "metadata": {},
   "outputs": [],
   "source": [
    "x_ex = np.array([1,1],dtype=float)"
   ]
  },
  {
   "cell_type": "code",
   "execution_count": 13,
   "metadata": {},
   "outputs": [
    {
     "name": "stdout",
     "output_type": "stream",
     "text": [
      "[[-0.00177636 -0.00177636]\n",
      " [-0.00177636 -0.00177636]]\n",
      "[[ 5.99698069e+00 -1.77635684e-03]\n",
      " [-1.77635684e-03 -1.77635684e-03]]\n",
      "[[0.         0.        ]\n",
      " [0.         0.00011102]]\n"
     ]
    },
    {
     "data": {
      "text/plain": [
       "[array([ 0.1  , -1.925]), array([[0.        , 0.        ],\n",
       "        [0.        , 1.00011103]])]"
      ]
     },
     "execution_count": 13,
     "metadata": {},
     "output_type": "execute_result"
    }
   ],
   "source": [
    "numerical_differentiation_of_logarithmic_barrier(x_ex,1)"
   ]
  },
  {
   "cell_type": "code",
   "execution_count": 14,
   "metadata": {},
   "outputs": [
    {
     "name": "stderr",
     "output_type": "stream",
     "text": [
      "/usr/local/lib/python3.6/dist-packages/ipykernel_launcher.py:13: RuntimeWarning: invalid value encountered in log\n",
      "  del sys.path[0]\n"
     ]
    },
    {
     "data": {
      "text/plain": [
       "10000000010.302586"
      ]
     },
     "execution_count": 14,
     "metadata": {},
     "output_type": "execute_result"
    }
   ],
   "source": [
    "logarithmic_barrier(x_ex,1)"
   ]
  },
  {
   "cell_type": "code",
   "execution_count": null,
   "metadata": {},
   "outputs": [],
   "source": []
  },
  {
   "cell_type": "code",
   "execution_count": null,
   "metadata": {},
   "outputs": [],
   "source": []
  }
 ],
 "metadata": {
  "kernelspec": {
   "display_name": "Python 3",
   "language": "python",
   "name": "python3"
  },
  "language_info": {
   "codemirror_mode": {
    "name": "ipython",
    "version": 3
   },
   "file_extension": ".py",
   "mimetype": "text/x-python",
   "name": "python",
   "nbconvert_exporter": "python",
   "pygments_lexer": "ipython3",
   "version": "3.6.9"
  }
 },
 "nbformat": 4,
 "nbformat_minor": 4
}
