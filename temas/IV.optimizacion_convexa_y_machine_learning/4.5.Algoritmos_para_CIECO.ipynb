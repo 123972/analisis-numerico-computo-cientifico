{
 "cells": [
  {
   "cell_type": "code",
   "execution_count": 1,
   "metadata": {},
   "outputs": [],
   "source": [
    "import math\n",
    "import numpy as np"
   ]
  },
  {
   "cell_type": "code",
   "execution_count": 2,
   "metadata": {},
   "outputs": [],
   "source": [
    "def eval_rest_inequality_functions(f_rest_inequality,x):\n",
    "    eval_f_rest_inequality = f_rest_inequality(x)\n",
    "    print(eval_f_rest_inequality)\n",
    "    #get values that are nonnegative\n",
    "    idx_zeros = np.logical_and(eval_f_rest_inequality < np.nextafter(0,1),\n",
    "                               eval_f_rest_inequality > -np.nextafter(0,1))\n",
    "    idx_positive = eval_f_rest_inequality > 0 \n",
    "    idx  = np.logical_or(idx_zeros, idx_positive) \n",
    "    print(idx)\n",
    "    eval_f_rest_inequality = np.log(-eval_f_rest_inequality) #this line produces warning\n",
    "                                                                 #if a value of restrictions is nonnegative\n",
    "    eval_f_rest_inequality[idx] = 1e10 #large value for values positive or equal to 0    \n",
    "    return eval_f_rest_inequality"
   ]
  },
  {
   "cell_type": "code",
   "execution_count": 3,
   "metadata": {},
   "outputs": [],
   "source": [
    "logarithmic_barrier = lambda x, t_path: t_path*f(x) + np.sum(eval_rest_inequality_functions(f_rest_ineq,x))"
   ]
  },
  {
   "cell_type": "code",
   "execution_count": 4,
   "metadata": {},
   "outputs": [],
   "source": [
    "def f_rest_ineq(x):\n",
    "    first_rest = lambda x: 4*x[0] + 5*x[1] -1\n",
    "    second_rest = lambda x: 3*x[0]**2 -3*x[1] -10\n",
    "    third_rest = lambda x: -x[1]\n",
    "    fourth_rest = lambda x: 1e-306\n",
    "    return np.array([first_rest(x), second_rest(x),\n",
    "                     third_rest(x),\n",
    "                     fourth_rest(x)])"
   ]
  },
  {
   "cell_type": "code",
   "execution_count": 5,
   "metadata": {},
   "outputs": [],
   "source": [
    "x_ex = np.array([1,1])"
   ]
  },
  {
   "cell_type": "code",
   "execution_count": 6,
   "metadata": {},
   "outputs": [
    {
     "data": {
      "text/plain": [
       "array([ 8.e+000, -1.e+001, -1.e+000,  1.e-306])"
      ]
     },
     "execution_count": 6,
     "metadata": {},
     "output_type": "execute_result"
    }
   ],
   "source": [
    "f_rest_ineq(x_ex) "
   ]
  },
  {
   "cell_type": "code",
   "execution_count": 7,
   "metadata": {},
   "outputs": [],
   "source": [
    "f = lambda x: 3*x[0]**2 + 5*x[1]**2"
   ]
  },
  {
   "cell_type": "code",
   "execution_count": 8,
   "metadata": {},
   "outputs": [
    {
     "name": "stdout",
     "output_type": "stream",
     "text": [
      "[ 8.e+000 -1.e+001 -1.e+000  1.e-306]\n",
      "[ True False False  True]\n"
     ]
    },
    {
     "name": "stderr",
     "output_type": "stream",
     "text": [
      "/usr/local/lib/python3.6/dist-packages/ipykernel_launcher.py:10: RuntimeWarning: invalid value encountered in log\n",
      "  # Remove the CWD from sys.path while we load stuff.\n"
     ]
    },
    {
     "data": {
      "text/plain": [
       "20000000010.302586"
      ]
     },
     "execution_count": 8,
     "metadata": {},
     "output_type": "execute_result"
    }
   ],
   "source": [
    "logarithmic_barrier(x_ex,1)"
   ]
  },
  {
   "cell_type": "code",
   "execution_count": null,
   "metadata": {},
   "outputs": [],
   "source": []
  }
 ],
 "metadata": {
  "kernelspec": {
   "display_name": "Python 3",
   "language": "python",
   "name": "python3"
  },
  "language_info": {
   "codemirror_mode": {
    "name": "ipython",
    "version": 3
   },
   "file_extension": ".py",
   "mimetype": "text/x-python",
   "name": "python",
   "nbconvert_exporter": "python",
   "pygments_lexer": "ipython3",
   "version": "3.6.9"
  }
 },
 "nbformat": 4,
 "nbformat_minor": 4
}
