{
 "cells": [
  {
   "cell_type": "markdown",
   "metadata": {},
   "source": [
    "# Descenso por coordenadas"
   ]
  },
  {
   "cell_type": "code",
   "execution_count": 25,
   "metadata": {},
   "outputs": [],
   "source": [
    "install.packages(\"latex2exp\",lib=\"/usr/local/lib/R/site-library/\",\n",
    "                repos=\"https://cran.itam.mx/\")"
   ]
  },
  {
   "cell_type": "code",
   "execution_count": 1,
   "metadata": {},
   "outputs": [],
   "source": [
    "options(repr.plot.width=6, repr.plot.height=6) #esta línea sólo se ejecuta para jupyterlab con R"
   ]
  },
  {
   "cell_type": "code",
   "execution_count": 2,
   "metadata": {},
   "outputs": [],
   "source": [
    "library(ggplot2)\n",
    "library(latex2exp)"
   ]
  },
  {
   "cell_type": "code",
   "execution_count": 3,
   "metadata": {},
   "outputs": [],
   "source": [
    "inc_index<-function(vec,index,h){\n",
    "    '\n",
    "    Auxiliary function for gradient and Hessian computation.\n",
    "    Args:\n",
    "        vec (double): vector\n",
    "        index (int): index.\n",
    "        h (float):   quantity that vec[index] will be increased.\n",
    "    Returns:\n",
    "        vec (double): vector with vec[index] increased by h.\n",
    "    '\n",
    "    vec[index]<-vec[index]+h\n",
    "    vec\n",
    "}"
   ]
  },
  {
   "cell_type": "code",
   "execution_count": 4,
   "metadata": {},
   "outputs": [],
   "source": [
    "gradient_approximation<-function(f,x,h=1e-8){\n",
    "    '\n",
    "    Numerical approximation of gradient for function f using forward differences.\n",
    "    Args:\n",
    "        f (expression): definition of function f.\n",
    "        x (double): vector that holds values where gradient will be computed.\n",
    "        h (float): step size for forward differences, tipically h=1e-8\n",
    "    Returns:\n",
    "        gf (array): numerical approximation to gradient of f.\n",
    "\n",
    "    '\n",
    "    n<-length(x)\n",
    "    gf<-vector(\"double\",n)\n",
    "    for(i in 1:n){\n",
    "        gf[i]=(f(inc_index(x,i,h))-f(x))\n",
    "    }\n",
    "    gf/h\n",
    "}"
   ]
  },
  {
   "cell_type": "code",
   "execution_count": 5,
   "metadata": {},
   "outputs": [],
   "source": [
    "Hessian_approximation<-function(f,x,h=1e-6){\n",
    "    '\n",
    "    Numerical approximation of Hessian for function f using forward differences.\n",
    "    Args:\n",
    "        f (expression): definition of function f.\n",
    "        x (double): vector that holds values where Hessian will be computed.\n",
    "        h (float): step size for forward differences, tipically h=1e-6\n",
    "    Returns:\n",
    "        Hf (double): matrix of numerical approximation to Hessian of f.\n",
    "    '\n",
    "    n<-length(x)\n",
    "    Hf<-matrix(rep(0,n^2),nrow=n,ncol=n)\n",
    "    f_x<-f(x)\n",
    "    for(i in 1:n){\n",
    "        x_inc_in_i<-inc_index(x,i,h)\n",
    "        f_x_inc_in_i<-f(x_inc_in_i)\n",
    "        for(j in i:n){\n",
    "            dif<-f(inc_index(x_inc_in_i,j,h))-f_x_inc_in_i-f(inc_index(x,j,h))+f_x\n",
    "            Hf[i,j]<-dif\n",
    "            if(j!=i)\n",
    "                Hf[j,i]<-dif\n",
    "        }\n",
    "    }\n",
    "    Hf/h^2\n",
    "}"
   ]
  },
  {
   "cell_type": "code",
   "execution_count": 6,
   "metadata": {},
   "outputs": [],
   "source": [
    "line_search_by_backtracking<-function(f,dir_desc,x,\n",
    "                                      der_direct, alpha=.15, beta=.5){\n",
    "    '\n",
    "    Line search that sufficiently decreases f restricted to a ray in the direction dir_desc.\n",
    "    Args:\n",
    "        alpha (float): parameter in line search with backtracking, tipically .15\n",
    "        beta (float): parameter in line search with backtracking, tipically .5\n",
    "        f (expression): definition of function f.\n",
    "        dir_desc (double): vector of descent direction.\n",
    "        x (double): vector that holds values where line search will be performed.\n",
    "        der_direct (float): directional derivative of f.\n",
    "    Returns:\n",
    "        t (float): positive number for stepsize along dir_desc that sufficiently decreases f.\n",
    "    '\n",
    "    t<-1\n",
    "    if (alpha > 1/2){\n",
    "        print('alpha must be less than or equal to 1/2')\n",
    "        t <- -1\n",
    "    }\n",
    "    if (beta>1){\n",
    "        print('beta must be less than 1')\n",
    "        t <- -1\n",
    "    }\n",
    "    if (t!=-1){\n",
    "        eval1 <- f(x+t*dir_desc)\n",
    "        eval2 <- f(x) + alpha*t*der_direct\n",
    "        while (eval1 > eval2){\n",
    "            t<-beta*t\n",
    "            eval1 <- f(x+t*dir_desc)\n",
    "            eval2 <- f(x)+alpha*t*der_direct\n",
    "        }\n",
    "    }else\n",
    "        t <- -1\n",
    "    t\n",
    "}"
   ]
  },
  {
   "cell_type": "code",
   "execution_count": 7,
   "metadata": {},
   "outputs": [],
   "source": [
    "Euclidian_norm<-function(vec){\n",
    "    sqrt(sum(vec*vec))\n",
    "}"
   ]
  },
  {
   "cell_type": "code",
   "execution_count": 8,
   "metadata": {},
   "outputs": [],
   "source": [
    "compute_error<-function(x_obj,x_approx){\n",
    "    '\n",
    "    Relative error between x_obj and x_approx.\n",
    "    '\n",
    "    if (Euclidian_norm(x_obj) > .Machine$double.eps){\n",
    "        Err<-Euclidian_norm(x_obj-x_approx)/Euclidian_norm(x_obj)\n",
    "    }else\n",
    "        Err<-Euclidian_norm(x_obj-x_approx)\n",
    "    Err\n",
    "}"
   ]
  },
  {
   "cell_type": "code",
   "execution_count": 9,
   "metadata": {},
   "outputs": [],
   "source": [
    "gradient_descent<-function(f, x_0, tol, \n",
    "                        tol_backtracking, x_ast, p_ast, maxiter){\n",
    "    '\n",
    "    Method of gradient descent to numerically approximate solution of min f.\n",
    "    Args:\n",
    "        f (expression): definition of function f.\n",
    "        x_0 (double): vector of initial point for gradient descent method.\n",
    "        tol (float): tolerance that will halt method. Controls norm of gradient of f.\n",
    "        tol_backtracking (float): tolerance that will halt method. Controls value of line search by backtracking.\n",
    "        x_ast (double): vector solution of min f, now its required that user knows the solution...\n",
    "        p_ast (double): vector value of f(x_ast), now its required that user knows the solution...\n",
    "        maxiter (int): maximum number of iterations\n",
    "    Returns:\n",
    "        x (double): vector approximation of x_ast.\n",
    "        iteration (int): number of iterations.\n",
    "        Err_plot (double): vector array of absolute error between p_ast and f(x) with x approximation.\n",
    "                          of x_ast. Useful for plotting.\n",
    "        x_plot (double): vector array that containts in columns vector of approximations. Last column\n",
    "                        contains x, approximation of solution. Useful for plotting.\n",
    "    '\n",
    "    iteration <- 1\n",
    "    x <- x_0\n",
    "    \n",
    "    feval <- f(x)\n",
    "    gfeval <- gradient_approximation(f,x)\n",
    "\n",
    "    normgf <- Euclidian_norm(gfeval)\n",
    "    \n",
    "    Err_plot_aux <- vector(\"double\",maxiter)\n",
    "    Err_plot_aux[iteration] <- abs(feval-p_ast)\n",
    "    \n",
    "    Err <- compute_error(x_ast,x)\n",
    "    n <- length(x)\n",
    "    x_plot <- matrix(0,nrow=n,ncol=maxiter)\n",
    "    x_plot[,iteration] <- x\n",
    "    \n",
    "    cat(sprintf(\"I    Normagf   Error x_ast   Error p_ast   line search\\n\"))\n",
    "    cat(sprintf(\"%d    %.2e   %0.2e      %0.2e      %s\\n\",iteration,normgf,Err,Err_plot_aux[iteration],\"---\"))\n",
    "    iteration<-iteration + 1\n",
    "    while(normgf>tol && iteration <= maxiter){\n",
    "        dir_desc <- -gfeval\n",
    "        der_direct <- sum(gfeval*dir_desc)\n",
    "        t <- line_search_by_backtracking(f,dir_desc,x,der_direct)\n",
    "        x <- x + t*dir_desc\n",
    "        feval <- f(x)\n",
    "        gfeval <- gradient_approximation(f,x)\n",
    "        normgf <- Euclidian_norm(gfeval)\n",
    "        Err_plot_aux[iteration] <- abs(feval-p_ast);\n",
    "        x_plot[,iteration] <- x\n",
    "        Err <- compute_error(x_ast,x)\n",
    "        cat(sprintf(\"%d    %.2e   %0.2e      %0.2e      %s\\n\",iteration,normgf,Err,Err_plot_aux[iteration],t))\n",
    "        if (t<tol_backtracking){ #if t is less than tol_backtracking then we need to check the reason\n",
    "            iter_salida <- iteration\n",
    "            iteration <- maxiter\n",
    "        }\n",
    "        iteration <- iteration + 1\n",
    "    } #while\n",
    "    cat(sprintf(\"Error of x with respect to x_ast: %.2e\\n\",Err))\n",
    "    cat(sprintf(\"Approximate solution:\"))\n",
    "    print(x)\n",
    "    cond <- Err_plot_aux > .Machine$double.eps*10**(-2)\n",
    "    Err_plot = Err_plot_aux[cond]\n",
    "    cond<- apply(x_plot,2,function(x) all(x==0))\n",
    "    x_plot <- x_plot[,!cond]\n",
    "    if (iteration == maxiter && t < tol_backtracking){\n",
    "        print(\"Backtracking value less than tol_backtracking, check approximation\")\n",
    "        iteration<-iter_salida\n",
    "    }\n",
    "   list(x,iteration-1,Err_plot,x_plot)\n",
    "    \n",
    "}    "
   ]
  },
  {
   "cell_type": "code",
   "execution_count": 10,
   "metadata": {},
   "outputs": [],
   "source": [
    "fo <-function(x)(x[1]-2)**2 + (2-x[2])**2 + x[3]**2 + x[4]**4\n"
   ]
  },
  {
   "cell_type": "code",
   "execution_count": 11,
   "metadata": {},
   "outputs": [],
   "source": [
    "x_ast <- c(2,2,0,0)\n",
    "x_0 <- c(5,5,1,0)\n",
    "tol <- 1e-8\n",
    "tol_backtracking <- 1e-14\n",
    "maxiter <- 5\n",
    "p_ast <- fo(x_ast)\n"
   ]
  },
  {
   "cell_type": "code",
   "execution_count": 12,
   "metadata": {},
   "outputs": [
    {
     "name": "stdout",
     "output_type": "stream",
     "text": [
      "I    Normagf   Error x_ast   Error p_ast   line search\n",
      "1    8.72e+00   1.54e+00      1.90e+01      ---\n",
      "2    3.53e-07   6.10e-08      2.98e-14      0.5\n",
      "3    2.20e-15   3.06e-09      7.50e-17      0.5\n",
      "Error of x with respect to x_ast: 3.06e-09\n",
      "Approximate solution:[1]  2e+00  2e+00 -5e-09  0e+00\n"
     ]
    }
   ],
   "source": [
    "l<-gradient_descent(fo, x_0, tol, tol_backtracking, x_ast, p_ast, maxiter)"
   ]
  },
  {
   "cell_type": "code",
   "execution_count": 13,
   "metadata": {},
   "outputs": [],
   "source": [
    "x <- l[[1]]\n",
    "total_of_iterations <- l[[2]]\n",
    "Err_plot <- l[[3]]\n",
    "x_plot <- l[[4]]\n"
   ]
  },
  {
   "cell_type": "code",
   "execution_count": 14,
   "metadata": {},
   "outputs": [],
   "source": [
    "gg <- ggplot()"
   ]
  },
  {
   "cell_type": "code",
   "execution_count": 15,
   "metadata": {},
   "outputs": [
    {
     "data": {
      "image/png": "[encoded data removed]",
      "text/plain": [
       "plot without title"
      ]
     },
     "metadata": {
      "image/png": {
       "height": 360,
       "width": 360
      }
     },
     "output_type": "display_data"
    }
   ],
   "source": [
    "gg +\n",
    "geom_line(aes(x=1:total_of_iterations,y=Err_plot)) + \n",
    "xlab('Iterations') + ylab(TeX('f_o(x^k)-p^*'))"
   ]
  },
  {
   "cell_type": "markdown",
   "metadata": {},
   "source": [
    "Ejemplo 2"
   ]
  },
  {
   "cell_type": "code",
   "execution_count": 16,
   "metadata": {},
   "outputs": [],
   "source": [
    "cte<-10"
   ]
  },
  {
   "cell_type": "code",
   "execution_count": 17,
   "metadata": {},
   "outputs": [],
   "source": [
    "fo <- function(x) 1/2*(x[1]**2+cte*x[2]**2)"
   ]
  },
  {
   "cell_type": "code",
   "execution_count": 18,
   "metadata": {},
   "outputs": [
    {
     "name": "stdout",
     "output_type": "stream",
     "text": [
      "I    Normagf   Error x_ast   Error p_ast   line search\n",
      "1    5.02e+00   7.07e-01      1.38e+00      ---\n",
      "2    1.32e+00   4.55e-01      1.74e-01      0.125\n",
      "3    4.94e-01   3.84e-01      7.82e-02      0.125\n",
      "4    5.50e-01   2.91e-01      5.22e-02      0.25\n",
      "5    2.77e-01   2.51e-01      3.22e-02      0.125\n",
      "6    4.85e-01   1.34e-01      1.89e-02      0.5\n",
      "7    1.61e-01   1.11e-01      6.73e-03      0.125\n",
      "8    1.94e-01   8.43e-02      4.94e-03      0.25\n",
      "9    8.45e-02   7.23e-02      2.70e-03      0.125\n",
      "10    8.53e-02   5.45e-02      1.68e-03      0.25\n",
      "11    1.07e-01   4.18e-02      1.31e-03      0.25\n",
      "12    4.33e-02   3.56e-02      6.61e-04      0.125\n",
      "13    4.56e-02   2.69e-02      4.23e-04      0.25\n",
      "14    2.51e-02   2.33e-02      2.76e-04      0.125\n",
      "15    3.89e-02   1.22e-02      1.37e-04      0.5\n",
      "16    1.38e-02   1.02e-02      5.62e-05      0.125\n",
      "17    1.59e-02   7.77e-03      3.89e-05      0.25\n",
      "18    7.54e-03   6.70e-03      2.30e-05      0.125\n",
      "19    1.43e-02   3.62e-03      1.53e-05      0.5\n",
      "20    4.54e-03   2.95e-03      4.89e-06      0.125\n",
      "21    5.66e-03   2.26e-03      3.77e-06      0.25\n",
      "22    2.32e-03   1.92e-03      1.93e-06      0.125\n",
      "23    2.43e-03   1.45e-03      1.23e-06      0.25\n",
      "24    1.35e-03   1.26e-03      8.06e-07      0.125\n",
      "25    2.05e-03   6.60e-04      3.90e-07      0.5\n",
      "26    7.37e-04   5.54e-04      1.64e-07      0.125\n",
      "27    8.42e-04   4.20e-04      1.12e-07      0.25\n",
      "28    4.06e-04   3.62e-04      6.71e-08      0.125\n",
      "29    7.55e-04   1.95e-04      4.32e-08      0.5\n",
      "30    2.42e-04   1.59e-04      1.42e-08      0.125\n",
      "31    3.00e-04   1.22e-04      1.08e-08      0.25\n",
      "32    1.25e-04   1.04e-04      5.63e-09      0.125\n",
      "33    1.29e-04   7.86e-05      3.57e-09      0.25\n",
      "34    1.65e-04   6.04e-05      2.90e-09      0.25\n",
      "35    6.41e-05   5.13e-05      1.38e-09      0.125\n",
      "36    6.95e-05   3.88e-05      9.04e-10      0.25\n",
      "37    3.66e-05   3.36e-05      5.73e-10      0.125\n",
      "38    6.04e-05   1.77e-05      3.09e-10      0.5\n",
      "39    2.06e-05   1.47e-05      1.18e-10      0.125\n",
      "40    2.44e-05   1.12e-05      8.43e-11      0.25\n",
      "41    1.11e-05   9.64e-06      4.78e-11      0.125\n",
      "42    2.23e-05   5.28e-06      3.53e-11      0.5\n",
      "43    6.88e-06   4.24e-06      1.03e-11      0.125\n",
      "44    8.75e-06   3.26e-06      8.35e-12      0.25\n",
      "45    3.44e-06   2.77e-06      4.01e-12      0.125\n",
      "46    3.70e-06   2.09e-06      2.62e-12      0.25\n",
      "47    1.97e-06   1.81e-06      1.66e-12      0.125\n",
      "48    3.19e-06   9.55e-07      8.91e-13      0.5\n",
      "49    1.10e-06   7.92e-07      3.37e-13      0.125\n",
      "50    1.29e-06   6.03e-07      2.46e-13      0.25\n",
      "Error of x with respect to x_ast: 6.03e-07\n",
      "Approximate solution:[1]  5.906139e-07 -1.196995e-07\n"
     ]
    }
   ],
   "source": [
    "x_ast <- c(0,0)\n",
    "x_0 <- c(0.5,0.5)\n",
    "tol <- 1e-8\n",
    "tol_backtracking <- 1e-14\n",
    "maxiter <- 50\n",
    "p_ast <- fo(x_ast)\n",
    "l<-gradient_descent(fo, x_0, tol, tol_backtracking, x_ast, p_ast, maxiter)\n",
    "x <- l[[1]]\n",
    "total_of_iterations <- l[[2]]\n",
    "Err_plot <- l[[3]]\n",
    "x_plot <- l[[4]]\n"
   ]
  },
  {
   "cell_type": "code",
   "execution_count": 19,
   "metadata": {},
   "outputs": [],
   "source": [
    "gg <- ggplot()"
   ]
  },
  {
   "cell_type": "code",
   "execution_count": 20,
   "metadata": {},
   "outputs": [
    {
     "data": {
      "image/png": "[encoded data removed]",
      "text/plain": [
       "plot without title"
      ]
     },
     "metadata": {
      "image/png": {
       "height": 360,
       "width": 360
      }
     },
     "output_type": "display_data"
    }
   ],
   "source": [
    "gg +\n",
    "geom_line(aes(x=1:total_of_iterations,y=Err_plot)) + \n",
    "xlab('Iterations') + ylab(TeX('f_o(x^k)-p^*'))"
   ]
  },
  {
   "cell_type": "code",
   "execution_count": 21,
   "metadata": {},
   "outputs": [
    {
     "data": {
      "image/png": "[encoded data removed]",
      "text/plain": [
       "plot without title"
      ]
     },
     "metadata": {
      "image/png": {
       "height": 360,
       "width": 360
      }
     },
     "output_type": "display_data"
    }
   ],
   "source": [
    "gg +\n",
    "geom_point(aes(x=x_plot[1,],y=x_plot[2,]),size=2) +\n",
    "annotate(geom='text', x=0.5, y=0.47, \n",
    "         label=TeX(\"x^{(0)}\", output='character'), parse=TRUE) + \n",
    "xlab('x') + ylab('y') + \n",
    "ggtitle(TeX('Iter del método de descenso en gradiente para $f_o$ con $C=10$'))"
   ]
  },
  {
   "cell_type": "markdown",
   "metadata": {},
   "source": [
    "**Coordinate descent**"
   ]
  },
  {
   "cell_type": "code",
   "execution_count": 22,
   "metadata": {},
   "outputs": [],
   "source": [
    "coordinate_descent<-function(f, x_0, tol, \n",
    "                        tol_backtracking, x_ast, p_ast, maxiter){\n",
    "    '\n",
    "    Method of gradient descent to numerically approximate solution of min f.\n",
    "    Args:\n",
    "        f (expression): definition of function f.\n",
    "        x_0 (double): vector of initial point for gradient descent method.\n",
    "        tol (float): tolerance that will halt method. Controls norm of gradient of f.\n",
    "        tol_backtracking (float): tolerance that will halt method. Controls value of line search by backtracking.\n",
    "        x_ast (double): vector solution of min f, now its required that user knows the solution...\n",
    "        p_ast (double): vector value of f(x_ast), now its required that user knows the solution...\n",
    "        maxiter (int): maximum number of iterations\n",
    "    Returns:\n",
    "        x (double): vector approximation of x_ast.\n",
    "        iteration (int): number of iterations.\n",
    "        Err_plot (double): vector array of absolute error between p_ast and f(x) with x approximation.\n",
    "                          of x_ast. Useful for plotting.\n",
    "        x_plot (double): vector array that containts in columns vector of approximations. Last column\n",
    "                        contains x, approximation of solution. Useful for plotting.\n",
    "    '\n",
    "    iteration <- 1\n",
    "    x <- x_0\n",
    "    \n",
    "    feval <- f(x)\n",
    "    gfeval <- gradient_approximation(f,x)\n",
    "\n",
    "    normgf <- Euclidian_norm(gfeval)\n",
    "    \n",
    "    Err_plot_aux <- vector(\"double\",maxiter)\n",
    "    Err_plot_aux[iteration] <- abs(feval-p_ast)\n",
    "    \n",
    "    Err <- compute_error(x_ast,x)\n",
    "    n <- length(x)\n",
    "    x_plot <- matrix(0,nrow=n,ncol=maxiter)\n",
    "    x_plot[,iteration] <- x\n",
    "    \n",
    "    cat(sprintf(\"I    Normagf   Error x_ast   Error p_ast   line search\\n\"))\n",
    "    cat(sprintf(\"%d    %.2e   %0.2e      %0.2e      %s\\n\",iteration,normgf,Err,Err_plot_aux[iteration],\"---\"))\n",
    "    iteration<-iteration + 1\n",
    "    while(normgf>tol && iteration <= maxiter){\n",
    "        ind_maximo <- which.max(abs(gfeval))\n",
    "        e_canonico <- vector(\"integer\",n)\n",
    "        e_canonico[ind_maximo] <- 1\n",
    "        dir_desc <- -gfeval[ind_maximo]*e_canonico\n",
    "        der_direct <- sum(gfeval*dir_desc)\n",
    "        t <- line_search_by_backtracking(f,dir_desc,x,der_direct)\n",
    "        x <- x + t*dir_desc\n",
    "        feval <- f(x)\n",
    "        gfeval <- gradient_approximation(f,x)\n",
    "        normgf <- Euclidian_norm(gfeval)\n",
    "        Err_plot_aux[iteration] <- abs(feval-p_ast);\n",
    "        x_plot[,iteration] <- x\n",
    "        Err <- compute_error(x_ast,x)\n",
    "        cat(sprintf(\"%d    %.2e   %0.2e      %0.2e      %s\\n\",iteration,normgf,Err,Err_plot_aux[iteration],t))\n",
    "        if (t<tol_backtracking){ #if t is less than tol_backtracking then we need to check the reason\n",
    "            iter_salida <- iteration\n",
    "            iteration <- maxiter\n",
    "        }\n",
    "        iteration <- iteration + 1\n",
    "    } #while\n",
    "    cat(sprintf(\"Error of x with respect to x_ast: %.2e\\n\",Err))\n",
    "    cat(sprintf(\"Approximate solution:\"))\n",
    "    print(x)\n",
    "    cond <- Err_plot_aux > .Machine$double.eps*10**(-2)\n",
    "    Err_plot = Err_plot_aux[cond]\n",
    "    cond<- apply(x_plot,2,function(x) all(x==0))\n",
    "    x_plot <- x_plot[,!cond]\n",
    "    if (iteration == maxiter && t < tol_backtracking){\n",
    "        print(\"Backtracking value less than tol_backtracking, check approximation\")\n",
    "        iteration<-iter_salida\n",
    "    }\n",
    "   list(x,iteration-1,Err_plot,x_plot)\n",
    "    \n",
    "}    "
   ]
  },
  {
   "cell_type": "code",
   "execution_count": 23,
   "metadata": {},
   "outputs": [],
   "source": [
    "fo <-function(x)(x[1]-2)**2 + (2-x[2])**2 + x[3]**2 + x[4]**4\n"
   ]
  },
  {
   "cell_type": "code",
   "execution_count": 24,
   "metadata": {},
   "outputs": [],
   "source": [
    "x_ast <- c(2,2,0,0)\n",
    "x_0 <- c(5,5,1,0)\n",
    "tol <- 1e-8\n",
    "tol_backtracking <- 1e-14\n",
    "maxiter <- 5\n",
    "p_ast <- fo(x_ast)\n"
   ]
  },
  {
   "cell_type": "code",
   "execution_count": 25,
   "metadata": {},
   "outputs": [
    {
     "name": "stdout",
     "output_type": "stream",
     "text": [
      "I    Normagf   Error x_ast   Error p_ast   line search\n",
      "1    8.72e+00   1.54e+00      1.90e+01      ---\n",
      "2    6.32e+00   1.12e+00      1.00e+01      0.5\n",
      "3    2.00e+00   3.54e-01      1.00e+00      0.5\n",
      "4    2.30e-07   3.85e-08      1.18e-14      0.5\n",
      "5    5.15e-08   7.02e-09      3.94e-16      0.5\n",
      "Error of x with respect to x_ast: 7.02e-09\n",
      "Approximate solution:[1] 2.000000e+00 2.000000e+00 6.077471e-09 0.000000e+00\n"
     ]
    }
   ],
   "source": [
    "l<-coordinate_descent(fo, x_0, tol, tol_backtracking, x_ast, p_ast, maxiter)"
   ]
  },
  {
   "cell_type": "code",
   "execution_count": 26,
   "metadata": {},
   "outputs": [],
   "source": [
    "x <- l[[1]]\n",
    "total_of_iterations <- l[[2]]\n",
    "Err_plot <- l[[3]]\n",
    "x_plot <- l[[4]]\n"
   ]
  },
  {
   "cell_type": "code",
   "execution_count": 27,
   "metadata": {},
   "outputs": [],
   "source": [
    "gg <- ggplot()"
   ]
  },
  {
   "cell_type": "code",
   "execution_count": 28,
   "metadata": {},
   "outputs": [
    {
     "data": {
      "image/png": "[encoded data removed]",
      "text/plain": [
       "plot without title"
      ]
     },
     "metadata": {
      "image/png": {
       "height": 360,
       "width": 360
      }
     },
     "output_type": "display_data"
    }
   ],
   "source": [
    "gg +\n",
    "geom_line(aes(x=1:total_of_iterations,y=Err_plot)) + \n",
    "xlab('Iterations') + ylab(TeX('f_o(x^k)-p^*'))"
   ]
  },
  {
   "cell_type": "markdown",
   "metadata": {},
   "source": [
    "Ejemplo 2"
   ]
  },
  {
   "cell_type": "code",
   "execution_count": 29,
   "metadata": {},
   "outputs": [],
   "source": [
    "cte<-10"
   ]
  },
  {
   "cell_type": "code",
   "execution_count": 30,
   "metadata": {},
   "outputs": [],
   "source": [
    "fo <- function(x) 1/2*(x[1]**2+cte*x[2]**2)"
   ]
  },
  {
   "cell_type": "code",
   "execution_count": 31,
   "metadata": {},
   "outputs": [
    {
     "name": "stdout",
     "output_type": "stream",
     "text": [
      "I    Normagf   Error x_ast   Error p_ast   line search\n",
      "1    5.02e+00   7.07e-01      1.38e+00      ---\n",
      "2    1.35e+00   5.15e-01      2.03e-01      0.125\n",
      "3    5.90e-01   5.01e-01      1.30e-01      0.125\n",
      "4    3.13e-01   3.12e-02      4.88e-03      1\n",
      "5    7.81e-02   7.81e-03      3.05e-04      0.125\n",
      "6    1.95e-02   1.95e-03      1.91e-05      0.125\n",
      "7    4.88e-03   4.88e-04      1.19e-06      0.125\n",
      "8    1.22e-03   1.22e-04      7.45e-08      0.125\n",
      "9    3.05e-04   3.05e-05      4.66e-09      0.125\n",
      "10    7.63e-05   7.62e-06      2.91e-10      0.125\n",
      "11    1.91e-05   1.91e-06      1.83e-11      0.125\n",
      "12    4.77e-06   4.72e-07      1.11e-12      0.125\n",
      "13    1.19e-06   1.24e-07      7.72e-14      0.125\n",
      "14    2.98e-07   2.61e-08      3.11e-15      0.125\n",
      "15    7.46e-08   1.48e-08      8.08e-16      0.125\n",
      "Error of x with respect to x_ast: 1.48e-08\n",
      "Approximate solution:[1] -8.063495e-09 -1.245058e-08\n"
     ]
    }
   ],
   "source": [
    "x_ast <- c(0,0)\n",
    "x_0 <- c(0.5,0.5)\n",
    "tol <- 1e-7\n",
    "tol_backtracking <- 1e-14\n",
    "maxiter <- 50\n",
    "p_ast <- fo(x_ast)\n",
    "l<-coordinate_descent(fo, x_0, tol, tol_backtracking, x_ast, p_ast, maxiter)\n",
    "x <- l[[1]]\n",
    "total_of_iterations <- l[[2]]\n",
    "Err_plot <- l[[3]]\n",
    "x_plot <- l[[4]]\n"
   ]
  },
  {
   "cell_type": "code",
   "execution_count": 32,
   "metadata": {},
   "outputs": [
    {
     "data": {
      "text/html": [
       "15"
      ],
      "text/latex": [
       "15"
      ],
      "text/markdown": [
       "15"
      ],
      "text/plain": [
       "[1] 15"
      ]
     },
     "metadata": {},
     "output_type": "display_data"
    }
   ],
   "source": [
    "total_of_iterations"
   ]
  },
  {
   "cell_type": "code",
   "execution_count": 33,
   "metadata": {},
   "outputs": [],
   "source": [
    "gg <- ggplot()"
   ]
  },
  {
   "cell_type": "code",
   "execution_count": 34,
   "metadata": {},
   "outputs": [
    {
     "data": {
      "image/png": "[encoded data removed]",
      "text/plain": [
       "plot without title"
      ]
     },
     "metadata": {
      "image/png": {
       "height": 360,
       "width": 360
      }
     },
     "output_type": "display_data"
    }
   ],
   "source": [
    "gg +\n",
    "geom_line(aes(x=1:total_of_iterations,y=Err_plot)) + \n",
    "xlab('Iterations') + ylab(TeX('f_o(x^k)-p^*'))"
   ]
  },
  {
   "cell_type": "code",
   "execution_count": 35,
   "metadata": {},
   "outputs": [
    {
     "data": {
      "image/png": "[encoded data removed]",
      "text/plain": [
       "plot without title"
      ]
     },
     "metadata": {
      "image/png": {
       "height": 360,
       "width": 360
      }
     },
     "output_type": "display_data"
    }
   ],
   "source": [
    "gg +\n",
    "geom_point(aes(x=x_plot[1,],y=x_plot[2,]),size=2) +\n",
    "annotate(geom='text', x=0.5, y=0.47, \n",
    "         label=TeX(\"x^{(0)}\", output='character'), parse=TRUE) + \n",
    "xlab('x') + ylab('y') + \n",
    "ggtitle(TeX('Iter del método de descenso en gradiente para $f_o$ con $C=10$'))"
   ]
  },
  {
   "cell_type": "code",
   "execution_count": 36,
   "metadata": {},
   "outputs": [
    {
     "data": {
      "text/html": [
       "<table>\n",
       "<caption>A matrix: 2 × 15 of type dbl</caption>\n",
       "<tbody>\n",
       "\t<tr><td>0.5</td><td> 0.500</td><td>0.50000</td><td>-8.063495e-09</td><td>-8.063495e-09</td><td>-8.063495e-09</td><td>-8.063495e-09</td><td>-8.063495e-09</td><td>-8.063495e-09</td><td>-8.063495e-09</td><td>-8.063495e-09</td><td>-8.063495e-09</td><td>-8.063495e-09</td><td>-8.063495e-09</td><td>-8.063495e-09</td></tr>\n",
       "\t<tr><td>0.5</td><td>-0.125</td><td>0.03125</td><td> 3.125000e-02</td><td>-7.812505e-03</td><td> 1.953120e-03</td><td>-4.882863e-04</td><td> 1.220653e-04</td><td>-3.052258e-05</td><td> 7.624395e-06</td><td>-1.912349e-06</td><td> 4.718372e-07</td><td>-1.242093e-07</td><td> 2.480232e-08</td><td>-1.245058e-08</td></tr>\n",
       "</tbody>\n",
       "</table>\n"
      ],
      "text/latex": [
       "A matrix: 2 × 15 of type dbl\n",
       "\\begin{tabular}{lllllllllllllll}\n",
       "\t 0.5 &  0.500 & 0.50000 & -8.063495e-09 & -8.063495e-09 & -8.063495e-09 & -8.063495e-09 & -8.063495e-09 & -8.063495e-09 & -8.063495e-09 & -8.063495e-09 & -8.063495e-09 & -8.063495e-09 & -8.063495e-09 & -8.063495e-09\\\\\n",
       "\t 0.5 & -0.125 & 0.03125 &  3.125000e-02 & -7.812505e-03 &  1.953120e-03 & -4.882863e-04 &  1.220653e-04 & -3.052258e-05 &  7.624395e-06 & -1.912349e-06 &  4.718372e-07 & -1.242093e-07 &  2.480232e-08 & -1.245058e-08\\\\\n",
       "\\end{tabular}\n"
      ],
      "text/markdown": [
       "\n",
       "A matrix: 2 × 15 of type dbl\n",
       "\n",
       "| 0.5 |  0.500 | 0.50000 | -8.063495e-09 | -8.063495e-09 | -8.063495e-09 | -8.063495e-09 | -8.063495e-09 | -8.063495e-09 | -8.063495e-09 | -8.063495e-09 | -8.063495e-09 | -8.063495e-09 | -8.063495e-09 | -8.063495e-09 |\n",
       "| 0.5 | -0.125 | 0.03125 |  3.125000e-02 | -7.812505e-03 |  1.953120e-03 | -4.882863e-04 |  1.220653e-04 | -3.052258e-05 |  7.624395e-06 | -1.912349e-06 |  4.718372e-07 | -1.242093e-07 |  2.480232e-08 | -1.245058e-08 |\n",
       "\n"
      ],
      "text/plain": [
       "     [,1] [,2]   [,3]    [,4]          [,5]          [,6]         \n",
       "[1,] 0.5   0.500 0.50000 -8.063495e-09 -8.063495e-09 -8.063495e-09\n",
       "[2,] 0.5  -0.125 0.03125  3.125000e-02 -7.812505e-03  1.953120e-03\n",
       "     [,7]          [,8]          [,9]          [,10]         [,11]        \n",
       "[1,] -8.063495e-09 -8.063495e-09 -8.063495e-09 -8.063495e-09 -8.063495e-09\n",
       "[2,] -4.882863e-04  1.220653e-04 -3.052258e-05  7.624395e-06 -1.912349e-06\n",
       "     [,12]         [,13]         [,14]         [,15]        \n",
       "[1,] -8.063495e-09 -8.063495e-09 -8.063495e-09 -8.063495e-09\n",
       "[2,]  4.718372e-07 -1.242093e-07  2.480232e-08 -1.245058e-08"
      ]
     },
     "metadata": {},
     "output_type": "display_data"
    }
   ],
   "source": [
    "x_plot"
   ]
  }
 ],
 "metadata": {
  "kernelspec": {
   "display_name": "R",
   "language": "R",
   "name": "ir"
  },
  "language_info": {
   "codemirror_mode": "r",
   "file_extension": ".r",
   "mimetype": "text/x-r-source",
   "name": "R",
   "pygments_lexer": "r",
   "version": "3.6.2"
  }
 },
 "nbformat": 4,
 "nbformat_minor": 4
}
