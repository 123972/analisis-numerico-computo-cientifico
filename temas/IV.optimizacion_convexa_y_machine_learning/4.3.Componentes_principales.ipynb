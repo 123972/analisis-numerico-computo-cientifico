{
 "cells": [
  {
   "cell_type": "markdown",
   "metadata": {},
   "source": [
    "**Notas para contenedor de docker:**"
   ]
  },
  {
   "cell_type": "markdown",
   "metadata": {},
   "source": [
    "Comando de docker para ejecución de la nota de forma local:\n",
    "\n",
    "nota: cambiar `<ruta a mi directorio>` por la ruta de directorio que se desea mapear a `/datos` dentro del contenedor de docker.\n",
    "\n",
    "```\n",
    "docker run --rm -v <ruta a mi directorio>:/datos --name jupyterlab_numerical -p 8888:8888 -d palmoreck/jupyterlab_numerical:1.1.0\n",
    "```\n",
    "\n",
    "password para jupyterlab: `qwerty`\n",
    "\n",
    "Detener el contenedor de docker:\n",
    "\n",
    "```\n",
    "docker stop jupyterlab_numerical\n",
    "```\n"
   ]
  },
  {
   "cell_type": "markdown",
   "metadata": {},
   "source": [
    "Documentación de la imagen de docker `palmoreck/jupyterlab_numerical:1.1.0` en [liga](https://github.com/palmoreck/dockerfiles/tree/master/jupyterlab/numerical)."
   ]
  },
  {
   "cell_type": "markdown",
   "metadata": {},
   "source": [
    "---"
   ]
  },
  {
   "cell_type": "markdown",
   "metadata": {},
   "source": [
    "Nota basada en [liga](https://www.dropbox.com/s/dfwk0y04ksgfilv/3.5.Aplicaciones_del_algebra_lineal_numerica.pdf?dl=0)"
   ]
  },
  {
   "cell_type": "code",
   "execution_count": 1,
   "metadata": {},
   "outputs": [
    {
     "name": "stdout",
     "output_type": "stream",
     "text": [
      "\u001b[33mWARNING: You are using pip version 19.3.1; however, version 20.1 is available.\n",
      "You should consider upgrading via the 'pip install --upgrade pip' command.\u001b[0m\n"
     ]
    }
   ],
   "source": [
    "!pip3 install -q --user scikit-learn"
   ]
  },
  {
   "cell_type": "markdown",
   "metadata": {},
   "source": [
    "# Componentes principales"
   ]
  },
  {
   "cell_type": "markdown",
   "metadata": {},
   "source": [
    "Supóngase que en cada columna de $X \\in \\mathbb{R}^{m \\times n}$ se tiene una observación de un **vector aleatorio** (tenemos $n$ vectores aleatorios de mediciones) y sea $X = U \\Sigma V^T$ la descomposición en valores singulares de $X$ (ver [3.3.d.SVD](https://github.com/ITAM-DS/analisis-numerico-computo-cientifico/blob/master/temas/III.computo_matricial/3.3.d.SVD.ipynb)). Los vectores **singulares derechos** $v_i$ (columnas de la matriz $V$) son nombrados **ejes o direcciones principales** de $X$ y el vector $z_1 = X v_1 = \\sigma u_1$ con $u_1$ vector **singular izquierdo** (primera columna de la matriz $U$) tiene **varianza muestral**:\n",
    "\n",
    "$$\\text{var}(z_1) = \\text{var}(X v_1)= \\text{var}(\\sigma u_1) = \\sigma_1^2 \\text{var}(u_1) = \\sigma_1^2 \\left [ \\frac{1}{m} \\displaystyle \\sum_{i=1}^m (u_1(i) - \\bar{u}_1)^2 \\right ]$$\n",
    "\n",
    "donde: $u_1(i)$ es la $i$-ésima componente de $u_1$ y $\\sigma_1$ es el máximo valor singular de $X$ también denotado como $\\sigma_{\\text{max}}$."
   ]
  },
  {
   "cell_type": "markdown",
   "metadata": {},
   "source": [
    "**Comentarios:**\n",
    "\n",
    "\n",
    "\n",
    "Si la media de cada columna de $X$ es cero, $X$ se nombra **centrada**, entonces:\n",
    "\n",
    "* $z_1$ tiene la **máxima varianza muestral** entre todas las combinaciones lineales de las columnas de $X$ pues:\n",
    "\n",
    "$$\\text{var}(z_1) = \\frac{\\sigma_1^2}{m} \\displaystyle \\sum_{i=1}^m u_1(i)^2 = \\frac{\\sigma_1^2}{m} ||u_1||_2^2 = \\frac{\\sigma_1^2}{m}.$$\n",
    "\n",
    "* $z_1$ es la **primera componente principal**, $u_1 = \\frac{1}{\\sigma_1}z_1 = \\frac{1}{\\sigma_1}Xv_1$ se le nombra **primera componente principal normalizada** y $v_1$ es **primera dirección principal** de $X$ . \n",
    "\n",
    "\n"
   ]
  },
  {
   "cell_type": "markdown",
   "metadata": {},
   "source": [
    "* Calcular el vector con máxima varianza muestral se reduce a resolver el problema:\n",
    "\n",
    "$$\\displaystyle \\max_{v \\in \\mathbb{R}^n - \\{0\\}} \\frac{v^TX^TXv}{v^Tv}$$\n",
    "\n",
    "el cual tiene solución cerrada dada por: $\\sigma_1^2 = \\displaystyle \\max_{v \\in \\mathbb{R}^n - \\{0\\}} \\frac{v^TX^TXv}{v^Tv}$, $v_1 = \\text{argmax}_{v \\in \\mathbb{R}^n - \\{0\\}} \\frac{v^TX^TXv}{v^Tv}$. \n"
   ]
  },
  {
   "cell_type": "markdown",
   "metadata": {},
   "source": [
    "* La segunda componente principal $z_2$ es aquella que tiene la máxima varianza muestral entre todas las combinaciones lineales de las columnas de $X$ y que es **ortogonal** (o que tenga covarianza igual a cero) con $z_1$. Este problema es equivalente a resolver:\n",
    "\n",
    "$$\\displaystyle \\max_{v \\in \\mathbb{R}^n - \\{0\\}} \\frac{v^TX^TXv}{v^Tv}$$\n",
    "\n"
   ]
  },
  {
   "cell_type": "markdown",
   "metadata": {},
   "source": [
    "$$\\text{sujeto a: } v^Tv_1 =0$$"
   ]
  },
  {
   "cell_type": "markdown",
   "metadata": {},
   "source": [
    "con $v_1$ la primera dirección principal de $X$."
   ]
  },
  {
   "cell_type": "markdown",
   "metadata": {},
   "source": [
    "* La **matriz de correlaciones entre cada componente principal normalizada $u$'s y cada columna de $X^TX$** está dada por:\n",
    "\n",
    "$$ C = \\left (\\frac{\\sigma_1}{\\sqrt{m}} v_1 \\quad \\frac{\\sigma_2}{\\sqrt{m}} v_2 \\cdots \\quad \\frac{\\sigma_p}{\\sqrt{m}} v_p \\right)$$\n",
    "\n",
    "con $p = \\min(m,n)$ pues si $x_1$ es la primer columna de $X^TX$ entonces:\n",
    "\n"
   ]
  },
  {
   "cell_type": "markdown",
   "metadata": {},
   "source": [
    "$$\n",
    "\\begin{eqnarray}\n",
    "\\text{cov}(x_1,u_1) = \\text{cov} \\left ( \\displaystyle \\sum_{k=1}^p \\sigma_k v_k(1) u_k, u_1 \\right ) &=& \\displaystyle \\sum_{k=1}^p \\text{cov} ( \\sigma_k v_k(1) u_k, u_1 ) \\nonumber \\\\\n",
    "&=& \\displaystyle \\sum_{k=1}^p \\sigma_k v_k(1) \\text{cov} (u_k, u_1) \\nonumber \\\\\n",
    "&=& \\sigma_1 v_1(1) \\text{var}(u_1) \\nonumber \\\\\n",
    "&=& \\frac{\\sigma_1 v_1(1)}{m} \\sum_{i=1}^m u_1(i)^2 \\nonumber \\\\\n",
    "&=& \\frac{\\sigma_1 v_1(1)}{m}\n",
    "\\end{eqnarray}\n",
    "$$"
   ]
  },
  {
   "cell_type": "markdown",
   "metadata": {},
   "source": [
    "Y como $\\text{cor}(x_1,u_1) = \\frac{\\text{cov}(x_1,u_1)}{\\sqrt{\\text{var}(x_1)} \\sqrt{\\text{var}(u_1)}}$ se tiene:\n",
    "\n",
    "$$\\text{cor}(x_1,u_1) = \\frac{\\frac{\\sigma_1 v_1(1)}{m}}{1 \\cdot \\sqrt{\\frac{1}{m}}}  = \\frac{\\sigma_1 v_1(1)}{\\sqrt{m}} $$"
   ]
  },
  {
   "cell_type": "markdown",
   "metadata": {},
   "source": [
    "**Obs:** la matriz $\\frac{1}{m-1}X^TX$ es la matriz de **varianzas y covarianzas** muestral la cual **siempre** es una matriz simétrica positiva semidefinida (aún si la $X$ no es centrada). Si $X$ además de ser centrada cumple que la varianza de cada una de sus columnas es $1$, $X$ se nombra **estandarizada**. La matriz $\\frac{1}{m-1}X^TX$ en este caso es la matriz de **correlaciones**. "
   ]
  },
  {
   "cell_type": "markdown",
   "metadata": {},
   "source": [
    "## ¿Métodos numéricos para encontrar las componentes principales?\n",
    "\n",
    "* Descomposición en valores singulares.\n",
    "\n",
    "* [Método de la potencia](https://en.wikipedia.org/wiki/Power_iteration) en el que se utiliza el **[cociente de Rayleigh](https://en.wikipedia.org/wiki/Rayleigh_quotient)** para acelerar convergencia. Tal cociente toma la forma $\\frac{y^TAy}{y^Ty}$ para $y \\neq 0$.\n",
    "\n",
    "\n",
    "* Métodos de descenso aplicados a problemas equivalentes al anterior como:\n",
    "\n",
    "$$\\displaystyle \\max_{\\hat{v} \\in \\mathbb{R}^n} \\hat{v}^TX^TX\\hat{v}$$"
   ]
  },
  {
   "cell_type": "markdown",
   "metadata": {},
   "source": [
    "$$\\text{sujeto a}: \\hat{v}^T \\hat{v} = 1.$$\n",
    "\n",
    "Recuérdese que en los problemas de optimización convexa sin restricciones (Unconstrained Convex Optimization, ver [4.2.Algoritmos_para_UCO](https://github.com/ITAM-DS/analisis-numerico-computo-cientifico/blob/master/temas/IV.optimizacion_convexa_y_machine_learning/4.2.Algoritmos_para_UCO.ipynb)) se resuelven problemas de minimización, sin embargo con una modificación sencilla podemos resolver problemas de maximización."
   ]
  },
  {
   "cell_type": "code",
   "execution_count": 1,
   "metadata": {},
   "outputs": [],
   "source": [
    "import os"
   ]
  },
  {
   "cell_type": "code",
   "execution_count": 2,
   "metadata": {},
   "outputs": [],
   "source": [
    "cur_directory = os.getcwd()"
   ]
  },
  {
   "cell_type": "code",
   "execution_count": 3,
   "metadata": {},
   "outputs": [
    {
     "data": {
      "text/plain": [
       "'/datos/MNO_desde_2018/ramas_repo/mno-master/temas/IV.optimizacion_convexa_y_machine_learning'"
      ]
     },
     "execution_count": 3,
     "metadata": {},
     "output_type": "execute_result"
    }
   ],
   "source": [
    "cur_directory"
   ]
  },
  {
   "cell_type": "code",
   "execution_count": 4,
   "metadata": {},
   "outputs": [],
   "source": [
    "dir_alg_python = '/algoritmos/Python'"
   ]
  },
  {
   "cell_type": "code",
   "execution_count": 5,
   "metadata": {},
   "outputs": [],
   "source": [
    "os.chdir(cur_directory + dir_alg_python)"
   ]
  },
  {
   "cell_type": "code",
   "execution_count": 6,
   "metadata": {},
   "outputs": [],
   "source": [
    "import math\n",
    "\n",
    "import numpy as np\n",
    "import matplotlib.pyplot as plt\n",
    "\n",
    "from sklearn.decomposition import PCA\n",
    "\n",
    "\n",
    "from utils import compute_error\n",
    "import algorithms_for_uco\n",
    "import algorithms_for_ceco"
   ]
  },
  {
   "cell_type": "code",
   "execution_count": 7,
   "metadata": {},
   "outputs": [],
   "source": [
    "dir_data = '/datos'"
   ]
  },
  {
   "cell_type": "code",
   "execution_count": 8,
   "metadata": {},
   "outputs": [],
   "source": [
    "filename= cur_directory  + dir_data + '/miarchivo.txt'"
   ]
  },
  {
   "cell_type": "code",
   "execution_count": 9,
   "metadata": {},
   "outputs": [
    {
     "data": {
      "text/plain": [
       "'/datos/MNO_desde_2018/ramas_repo/mno-master/temas/IV.optimizacion_convexa_y_machine_learning/datos/miarchivo.txt'"
      ]
     },
     "execution_count": 9,
     "metadata": {},
     "output_type": "execute_result"
    }
   ],
   "source": [
    "filename"
   ]
  },
  {
   "cell_type": "code",
   "execution_count": 10,
   "metadata": {},
   "outputs": [],
   "source": [
    "np.random.seed(2020)\n",
    "mpoints=200\n",
    "X = (np.random.rand(2,2)@np.random.normal(0,1,(2,mpoints))).T"
   ]
  },
  {
   "cell_type": "code",
   "execution_count": 11,
   "metadata": {},
   "outputs": [
    {
     "data": {
      "text/plain": [
       "101.9116499294094"
      ]
     },
     "execution_count": 11,
     "metadata": {},
     "output_type": "execute_result"
    }
   ],
   "source": [
    "np.linalg.cond(X.T@X)"
   ]
  },
  {
   "cell_type": "code",
   "execution_count": 12,
   "metadata": {},
   "outputs": [
    {
     "data": {
      "text/plain": [
       "(200, 2)"
      ]
     },
     "execution_count": 12,
     "metadata": {},
     "output_type": "execute_result"
    }
   ],
   "source": [
    "X.shape"
   ]
  },
  {
   "cell_type": "code",
   "execution_count": 13,
   "metadata": {},
   "outputs": [
    {
     "data": {
      "image/png": "[encoded data removed]",
      "text/plain": [
       "<Figure size 432x288 with 1 Axes>"
      ]
     },
     "metadata": {
      "needs_background": "light"
     },
     "output_type": "display_data"
    }
   ],
   "source": [
    "plt.scatter(X[:, 0], X[:, 1])\n",
    "plt.grid()\n",
    "plt.axis('equal');"
   ]
  },
  {
   "cell_type": "code",
   "execution_count": 14,
   "metadata": {},
   "outputs": [
    {
     "data": {
      "text/plain": [
       "PCA(copy=True, iterated_power='auto', n_components=2, random_state=None,\n",
       "    svd_solver='full', tol=0.0, whiten=False)"
      ]
     },
     "execution_count": 14,
     "metadata": {},
     "output_type": "execute_result"
    }
   ],
   "source": [
    "pca = PCA(n_components=2,svd_solver='full')\n",
    "pca.fit(X)"
   ]
  },
  {
   "cell_type": "code",
   "execution_count": 15,
   "metadata": {},
   "outputs": [
    {
     "name": "stdout",
     "output_type": "stream",
     "text": [
      "[[ 0.91945871  0.39318658]\n",
      " [ 0.39318658 -0.91945871]]\n"
     ]
    }
   ],
   "source": [
    "print(pca.components_)"
   ]
  },
  {
   "cell_type": "code",
   "execution_count": 16,
   "metadata": {},
   "outputs": [
    {
     "name": "stdout",
     "output_type": "stream",
     "text": [
      "[1.75356152 0.01718556]\n"
     ]
    }
   ],
   "source": [
    "print(pca.explained_variance_)"
   ]
  },
  {
   "cell_type": "code",
   "execution_count": 17,
   "metadata": {},
   "outputs": [
    {
     "data": {
      "text/plain": [
       "array([18.68043742,  1.84930434])"
      ]
     },
     "execution_count": 17,
     "metadata": {},
     "output_type": "execute_result"
    }
   ],
   "source": [
    "pca.singular_values_"
   ]
  },
  {
   "cell_type": "code",
   "execution_count": 18,
   "metadata": {},
   "outputs": [],
   "source": [
    "X_centered = X - X.mean(axis=0)"
   ]
  },
  {
   "cell_type": "code",
   "execution_count": 19,
   "metadata": {},
   "outputs": [],
   "source": [
    "u,s,vt = np.linalg.svd(X_centered)"
   ]
  },
  {
   "cell_type": "code",
   "execution_count": 20,
   "metadata": {},
   "outputs": [
    {
     "data": {
      "text/plain": [
       "array([[-3.92315184e-02, -7.88091791e-02, -3.02343023e-02, ...,\n",
       "         5.87848313e-02, -4.79986156e-02,  3.51581088e-02],\n",
       "       [-5.85161278e-03, -6.30089685e-02, -6.43561950e-02, ...,\n",
       "        -1.17529998e-02, -1.24292176e-04, -9.91874355e-03],\n",
       "       [-2.83451178e-02, -6.51070088e-02,  9.95368600e-01, ...,\n",
       "         7.29389669e-04, -1.18324907e-03,  2.61543153e-04],\n",
       "       ...,\n",
       "       [ 5.92894275e-02, -9.82019352e-03,  1.01961720e-03, ...,\n",
       "         9.96480812e-01,  2.76433163e-03, -2.13720005e-03],\n",
       "       [-4.81139375e-02, -1.66886481e-03, -1.39961298e-03, ...,\n",
       "         2.72425782e-03,  9.97775818e-01,  1.62939053e-03],\n",
       "       [ 3.55480885e-02, -8.75278360e-03,  4.41249365e-04, ...,\n",
       "        -2.14911196e-03,  1.66308417e-03,  9.98687400e-01]])"
      ]
     },
     "execution_count": 20,
     "metadata": {},
     "output_type": "execute_result"
    }
   ],
   "source": [
    "u"
   ]
  },
  {
   "cell_type": "code",
   "execution_count": 21,
   "metadata": {},
   "outputs": [
    {
     "data": {
      "text/plain": [
       "array([18.68043742,  1.84930434])"
      ]
     },
     "execution_count": 21,
     "metadata": {},
     "output_type": "execute_result"
    }
   ],
   "source": [
    "s"
   ]
  },
  {
   "cell_type": "code",
   "execution_count": 22,
   "metadata": {},
   "outputs": [
    {
     "data": {
      "text/plain": [
       "array([0.91945871, 0.39318658])"
      ]
     },
     "execution_count": 22,
     "metadata": {},
     "output_type": "execute_result"
    }
   ],
   "source": [
    "vt.T[:,0]"
   ]
  },
  {
   "cell_type": "code",
   "execution_count": 23,
   "metadata": {},
   "outputs": [
    {
     "data": {
      "text/plain": [
       "array([-0.39318658,  0.91945871])"
      ]
     },
     "execution_count": 23,
     "metadata": {},
     "output_type": "execute_result"
    }
   ],
   "source": [
    "vt.T[:,1]"
   ]
  },
  {
   "cell_type": "code",
   "execution_count": 24,
   "metadata": {},
   "outputs": [],
   "source": [
    "X_pca = pca.transform(X)"
   ]
  },
  {
   "cell_type": "code",
   "execution_count": 25,
   "metadata": {},
   "outputs": [
    {
     "data": {
      "text/plain": [
       "(200, 2)"
      ]
     },
     "execution_count": 25,
     "metadata": {},
     "output_type": "execute_result"
    }
   ],
   "source": [
    "X_pca.shape"
   ]
  },
  {
   "cell_type": "code",
   "execution_count": 26,
   "metadata": {},
   "outputs": [],
   "source": [
    "X_pca_manual = X_centered@(vt.T)"
   ]
  },
  {
   "cell_type": "code",
   "execution_count": 27,
   "metadata": {},
   "outputs": [
    {
     "data": {
      "text/plain": [
       "0.0"
      ]
     },
     "execution_count": 27,
     "metadata": {},
     "output_type": "execute_result"
    }
   ],
   "source": [
    "np.linalg.norm(np.abs(X_pca_manual[:,0])-np.abs(X_pca[:,0]))/np.linalg.norm(X_pca[:,0])"
   ]
  },
  {
   "cell_type": "code",
   "execution_count": 28,
   "metadata": {},
   "outputs": [
    {
     "data": {
      "text/plain": [
       "0.0"
      ]
     },
     "execution_count": 28,
     "metadata": {},
     "output_type": "execute_result"
    }
   ],
   "source": [
    "np.linalg.norm(np.abs(X_pca_manual[:,1])-np.abs(X_pca[:,1]))/np.linalg.norm(X_pca[:,0])"
   ]
  },
  {
   "cell_type": "markdown",
   "metadata": {},
   "source": [
    "# Mínimo valor singular"
   ]
  },
  {
   "cell_type": "markdown",
   "metadata": {},
   "source": [
    "Función objetivo para el mínimo valor singular elevado al cuadrado, $\\sigma_{\\text{min}}^2$:\n",
    "\n",
    "$$\\displaystyle \\min_{v \\in \\mathbb{R}^n - \\{0\\}} \\frac{v^TX^TXv}{v^Tv}$$"
   ]
  },
  {
   "cell_type": "markdown",
   "metadata": {},
   "source": [
    "Es equivalente resolver el problema:\n",
    "\n",
    "$$\\displaystyle \\min_{\\hat{v} \\in \\mathbb{R}^n} \\hat{v}^TX^TX\\hat{v}$$\n"
   ]
  },
  {
   "cell_type": "markdown",
   "metadata": {},
   "source": [
    "$$\\text{sujeto a}: \\hat{v}^T \\hat{v} = 1.$$"
   ]
  },
  {
   "cell_type": "markdown",
   "metadata": {},
   "source": [
    "cuya solución es $\\lambda_\\text{min}(X^TX)$ que representa el mínimo eigenvalor de $X^TX$."
   ]
  },
  {
   "cell_type": "markdown",
   "metadata": {},
   "source": [
    "Este último problema es equivalente a resolver:\n",
    "\n",
    "$$\\displaystyle \\min_{v \\in \\mathbb{R}^n, \\lambda \\in \\mathbb{R}} \\frac{1}{2}(v^TX^TXv - \\lambda(v^Tv-1))$$"
   ]
  },
  {
   "cell_type": "markdown",
   "metadata": {},
   "source": [
    "pues si $f_o(v, \\lambda)$ es la función objetivo, entonces:\n",
    "\n",
    "$$\\nabla f_o(v,\\lambda) = \n",
    "\\left[\n",
    "\\begin{array}{c}\n",
    "X^TX v - \\lambda v \\\\\n",
    "-\\frac{1}{2}(v^Tv-1)\n",
    "\\end{array}\n",
    "\\right]\n",
    "$$"
   ]
  },
  {
   "cell_type": "markdown",
   "metadata": {},
   "source": [
    "y si igualamos a cero esta ecuación se tiene:\n",
    "\n",
    "$$\\nabla f_o(v,\\lambda) = \n",
    "\\left[\n",
    "\\begin{array}{c}\n",
    "X^TX v - \\lambda v \\\\\n",
    "-\\frac{1}{2}(v^Tv-1)\n",
    "\\end{array}\n",
    "\\right] = 0.\n",
    "$$\n",
    "\n",
    "Tal ecuación implica: $X^TXv = \\lambda v$ y también $v^Tv = 1$ por lo que $(v, \\lambda)$ es una pareja (eigenvector, eigenvalor), de hecho el eigenvector tiene norma $1$. Como queremos minimizar $f_o(v,\\lambda)$ entonces el óptimo será $\\lambda_\\text{min}(X^TX)$ con $v^*$ eigenvector asociado."
   ]
  },
  {
   "cell_type": "markdown",
   "metadata": {},
   "source": [
    "Obsérvese que: \n",
    "\n",
    "$$\\nabla^2 f_o(v,\\lambda) = \\left [ \n",
    "\\begin{array}{cc}\n",
    "X^TX - \\lambda I & -v \\\\\n",
    "-v^T & 0\n",
    "\\end{array}\n",
    "\\right ]\n",
    "$$"
   ]
  },
  {
   "cell_type": "markdown",
   "metadata": {},
   "source": [
    "**Método de Newton aplicado al problema anterior**"
   ]
  },
  {
   "cell_type": "markdown",
   "metadata": {},
   "source": [
    "Centramos a $X$:"
   ]
  },
  {
   "cell_type": "code",
   "execution_count": 22,
   "metadata": {},
   "outputs": [],
   "source": [
    "X_centered = X - X.mean(axis=0)\n",
    "#other option X = (X - X.mean(axis=0)) / X.std()"
   ]
  },
  {
   "cell_type": "code",
   "execution_count": 23,
   "metadata": {},
   "outputs": [],
   "source": [
    "def fo(x):\n",
    "    v = x[0:(x.size-1)]\n",
    "    value = x[x.size-1]\n",
    "    matvec = X_centered@v\n",
    "    return 1/2*(matvec.dot(matvec)-value*(v.dot(v)-1))"
   ]
  },
  {
   "cell_type": "code",
   "execution_count": 24,
   "metadata": {},
   "outputs": [],
   "source": [
    "x_ast=np.concatenate((pca.components_[:,1],np.array([pca.singular_values_[1]**2])))"
   ]
  },
  {
   "cell_type": "code",
   "execution_count": 25,
   "metadata": {},
   "outputs": [
    {
     "data": {
      "text/plain": [
       "array([ 0.39318658, -0.91945871,  3.41992653])"
      ]
     },
     "execution_count": 25,
     "metadata": {},
     "output_type": "execute_result"
    }
   ],
   "source": [
    "x_ast"
   ]
  },
  {
   "cell_type": "code",
   "execution_count": 26,
   "metadata": {},
   "outputs": [],
   "source": [
    "tol=1e-8\n",
    "tol_backtracking=1e-14\n",
    "maxiter=50\n",
    "p_ast=fo(x_ast)\n"
   ]
  },
  {
   "cell_type": "code",
   "execution_count": 27,
   "metadata": {},
   "outputs": [],
   "source": [
    "x_0 = np.array([1,0,5],dtype=float)\n"
   ]
  },
  {
   "cell_type": "code",
   "execution_count": 28,
   "metadata": {},
   "outputs": [
    {
     "data": {
      "text/plain": [
       "array([1., 0., 5.])"
      ]
     },
     "execution_count": 28,
     "metadata": {},
     "output_type": "execute_result"
    }
   ],
   "source": [
    "x_0"
   ]
  },
  {
   "cell_type": "code",
   "execution_count": 29,
   "metadata": {},
   "outputs": [
    {
     "data": {
      "text/plain": [
       "1.7099632626913723"
      ]
     },
     "execution_count": 29,
     "metadata": {},
     "output_type": "execute_result"
    }
   ],
   "source": [
    "p_ast"
   ]
  },
  {
   "cell_type": "code",
   "execution_count": 30,
   "metadata": {},
   "outputs": [
    {
     "name": "stdout",
     "output_type": "stream",
     "text": [
      "I    Normgf   Newton Decrement  Error x_ast   Error p_ast   line search   Condition of Hessian\n",
      "0    3.16e+02    3.01e+02        5.41e-01      8.54e+01       ---           3.60e+03\n",
      "1    2.45e+01    3.91e+01        2.43e+00      1.45e+01       1.00e+00      4.81e+02\n",
      "2    5.46e+00    3.87e+00        1.03e+00      1.31e+00       1.00e+00      6.50e+02\n",
      "3    1.09e+00    1.64e-01        2.83e-01      4.96e-02       1.00e+00      5.02e+02\n",
      "4    7.29e-02    4.43e-04        2.04e-02      1.30e-04       1.00e+00      3.57e+02\n",
      "5    2.17e-04    1.97e-09        6.07e-05      5.77e-10       1.00e+00      3.46e+02\n",
      "Error of x with respect to x_ast: 6.07e-05\n",
      "Approximate solution: [ 0.39318841 -0.91946288  3.41971024]\n"
     ]
    }
   ],
   "source": [
    "[x,total_of_iterations,Err_plot,x_plot]=algorithms_for_uco.Newtons_method(fo, x_0,tol, \n",
    "                                                       tol_backtracking, x_ast, p_ast, maxiter)"
   ]
  },
  {
   "cell_type": "code",
   "execution_count": 31,
   "metadata": {},
   "outputs": [
    {
     "data": {
      "text/plain": [
       "array([ 0.39318841, -0.91946288,  3.41971024])"
      ]
     },
     "execution_count": 31,
     "metadata": {},
     "output_type": "execute_result"
    }
   ],
   "source": [
    "x"
   ]
  },
  {
   "cell_type": "code",
   "execution_count": 32,
   "metadata": {},
   "outputs": [
    {
     "data": {
      "text/plain": [
       "6"
      ]
     },
     "execution_count": 32,
     "metadata": {},
     "output_type": "execute_result"
    }
   ],
   "source": [
    "total_of_iterations"
   ]
  },
  {
   "cell_type": "code",
   "execution_count": 33,
   "metadata": {},
   "outputs": [
    {
     "data": {
      "text/plain": [
       "array([ 0.39318658, -0.91945871,  3.41992653])"
      ]
     },
     "execution_count": 33,
     "metadata": {},
     "output_type": "execute_result"
    }
   ],
   "source": [
    "x_ast"
   ]
  },
  {
   "cell_type": "markdown",
   "metadata": {},
   "source": [
    "El valor singular $\\sigma_{\\text{min}}$ es la raíz cuadrada del eigenvalor mínimo de $X^TX$, $\\sqrt{\\lambda_{\\text{min}}(X^TX)}$, que acabamos de calcular:"
   ]
  },
  {
   "cell_type": "code",
   "execution_count": 34,
   "metadata": {},
   "outputs": [
    {
     "data": {
      "text/plain": [
       "1.8492458564827692"
      ]
     },
     "execution_count": 34,
     "metadata": {},
     "output_type": "execute_result"
    }
   ],
   "source": [
    "np.sqrt(x[2])"
   ]
  },
  {
   "cell_type": "code",
   "execution_count": 35,
   "metadata": {},
   "outputs": [
    {
     "data": {
      "text/plain": [
       "array([18.71436107,  1.8538009 ])"
      ]
     },
     "execution_count": 35,
     "metadata": {},
     "output_type": "execute_result"
    }
   ],
   "source": [
    "s"
   ]
  },
  {
   "cell_type": "code",
   "execution_count": 36,
   "metadata": {},
   "outputs": [
    {
     "data": {
      "text/plain": [
       "array([[ 0.91962371,  0.39280051],\n",
       "       [-0.39280051,  0.91962371]])"
      ]
     },
     "execution_count": 36,
     "metadata": {},
     "output_type": "execute_result"
    }
   ],
   "source": [
    "vt"
   ]
  },
  {
   "cell_type": "code",
   "execution_count": 37,
   "metadata": {},
   "outputs": [
    {
     "data": {
      "text/plain": [
       "6.0715087735377764e-05"
      ]
     },
     "execution_count": 37,
     "metadata": {},
     "output_type": "execute_result"
    }
   ],
   "source": [
    "compute_error(x_ast,x)"
   ]
  },
  {
   "cell_type": "markdown",
   "metadata": {},
   "source": [
    "# Máximo valor singular"
   ]
  },
  {
   "cell_type": "markdown",
   "metadata": {},
   "source": [
    "Función objetivo para el máximo valor singular elevado al cuadrado, $\\sigma_{\\text{max}}^2$:\n",
    "\n",
    "$$\\displaystyle \\max_{v \\in \\mathbb{R}^n - \\{0\\}} \\frac{v^TX^TXv}{v^Tv}$$"
   ]
  },
  {
   "cell_type": "markdown",
   "metadata": {},
   "source": [
    "Por el desarrollo anterior es equivalente resolver:\n",
    "\n",
    "$$\\displaystyle \\min_{v \\in \\mathbb{R}^n, \\lambda \\in \\mathbb{R}} - \\left ( \\frac{1}{2}(v^TX^TXv - \\lambda(v^Tv-1)) \\right )$$"
   ]
  },
  {
   "cell_type": "code",
   "execution_count": 38,
   "metadata": {},
   "outputs": [],
   "source": [
    "def fo_max(x):\n",
    "    return -fo(x)"
   ]
  },
  {
   "cell_type": "code",
   "execution_count": 39,
   "metadata": {},
   "outputs": [],
   "source": [
    "x_ast=np.concatenate((pca.components_[:,0],np.array([pca.singular_values_[0]**2])))"
   ]
  },
  {
   "cell_type": "code",
   "execution_count": 40,
   "metadata": {},
   "outputs": [
    {
     "data": {
      "text/plain": [
       "array([  0.91945871,   0.39318658, 348.9587423 ])"
      ]
     },
     "execution_count": 40,
     "metadata": {},
     "output_type": "execute_result"
    }
   ],
   "source": [
    "x_ast"
   ]
  },
  {
   "cell_type": "code",
   "execution_count": 41,
   "metadata": {},
   "outputs": [],
   "source": [
    "tol=1e-8\n",
    "tol_backtracking=1e-14\n",
    "maxiter=50\n",
    "p_ast=fo_max(x_ast)\n"
   ]
  },
  {
   "cell_type": "code",
   "execution_count": 42,
   "metadata": {},
   "outputs": [],
   "source": [
    "x_0 = np.array([1,1,500], dtype=float)"
   ]
  },
  {
   "cell_type": "code",
   "execution_count": 43,
   "metadata": {},
   "outputs": [
    {
     "data": {
      "text/plain": [
       "array([  1.,   1., 500.])"
      ]
     },
     "execution_count": 43,
     "metadata": {},
     "output_type": "execute_result"
    }
   ],
   "source": [
    "x_0"
   ]
  },
  {
   "cell_type": "code",
   "execution_count": 44,
   "metadata": {},
   "outputs": [
    {
     "data": {
      "text/plain": [
       "-174.47937115079444"
      ]
     },
     "execution_count": 44,
     "metadata": {},
     "output_type": "execute_result"
    }
   ],
   "source": [
    "p_ast"
   ]
  },
  {
   "cell_type": "code",
   "execution_count": 45,
   "metadata": {},
   "outputs": [
    {
     "name": "stdout",
     "output_type": "stream",
     "text": [
      "I    Normgf   Newton Decrement  Error x_ast   Error p_ast   line search   Condition of Hessian\n",
      "0    3.28e+02    2.10e+02        4.33e-01      7.07e-01       ---           4.20e+04\n",
      "1    5.64e+01    1.07e+01        7.26e-02      3.19e-02       1.00e+00      8.18e+03\n",
      "2    3.25e+00    5.18e-02        4.47e-03      1.49e-04       1.00e+00      6.63e+02\n",
      "3    2.82e-02    2.70e-05        7.99e-05      1.16e-08       1.00e+00      3.54e+02\n",
      "4    1.39e-02    -4.93e-06        3.93e-05      2.94e-08       5.00e-01      3.41e+02\n",
      "Error of x with respect to x_ast: 3.93e-05\n",
      "Approximate solution: [  0.91911674   0.39303247 348.97243629]\n"
     ]
    }
   ],
   "source": [
    "[x,total_of_iterations,Err_plot,x_plot]=algorithms_for_uco.Newtons_method(fo_max, x_0,tol, \n",
    "                                                       tol_backtracking, x_ast, p_ast, maxiter)"
   ]
  },
  {
   "cell_type": "code",
   "execution_count": 46,
   "metadata": {},
   "outputs": [
    {
     "data": {
      "text/plain": [
       "array([  0.91911674,   0.39303247, 348.97243629])"
      ]
     },
     "execution_count": 46,
     "metadata": {},
     "output_type": "execute_result"
    }
   ],
   "source": [
    "x"
   ]
  },
  {
   "cell_type": "code",
   "execution_count": 47,
   "metadata": {},
   "outputs": [
    {
     "data": {
      "text/plain": [
       "5"
      ]
     },
     "execution_count": 47,
     "metadata": {},
     "output_type": "execute_result"
    }
   ],
   "source": [
    "total_of_iterations"
   ]
  },
  {
   "cell_type": "code",
   "execution_count": 48,
   "metadata": {},
   "outputs": [
    {
     "data": {
      "text/plain": [
       "array([  0.91945871,   0.39318658, 348.9587423 ])"
      ]
     },
     "execution_count": 48,
     "metadata": {},
     "output_type": "execute_result"
    }
   ],
   "source": [
    "x_ast"
   ]
  },
  {
   "cell_type": "code",
   "execution_count": 49,
   "metadata": {},
   "outputs": [
    {
     "data": {
      "text/plain": [
       "18.68080395204276"
      ]
     },
     "execution_count": 49,
     "metadata": {},
     "output_type": "execute_result"
    }
   ],
   "source": [
    "np.sqrt(x[2])"
   ]
  },
  {
   "cell_type": "code",
   "execution_count": 50,
   "metadata": {},
   "outputs": [
    {
     "data": {
      "text/plain": [
       "array([18.71436107,  1.8538009 ])"
      ]
     },
     "execution_count": 50,
     "metadata": {},
     "output_type": "execute_result"
    }
   ],
   "source": [
    "s"
   ]
  },
  {
   "cell_type": "code",
   "execution_count": 51,
   "metadata": {},
   "outputs": [
    {
     "data": {
      "text/plain": [
       "array([[ 0.91962371,  0.39280051],\n",
       "       [-0.39280051,  0.91962371]])"
      ]
     },
     "execution_count": 51,
     "metadata": {},
     "output_type": "execute_result"
    }
   ],
   "source": [
    "vt"
   ]
  },
  {
   "cell_type": "code",
   "execution_count": 52,
   "metadata": {},
   "outputs": [
    {
     "data": {
      "text/plain": [
       "3.925699828318319e-05"
      ]
     },
     "execution_count": 52,
     "metadata": {},
     "output_type": "execute_result"
    }
   ],
   "source": [
    "compute_error(x_ast,x)"
   ]
  },
  {
   "cell_type": "markdown",
   "metadata": {},
   "source": [
    "## Método de *deflation*"
   ]
  },
  {
   "cell_type": "code",
   "execution_count": 53,
   "metadata": {},
   "outputs": [],
   "source": [
    "np.random.seed(2020)\n",
    "mpoints=200\n",
    "X = (np.random.rand(3,3)@np.random.normal(0,1,(3,mpoints))).T"
   ]
  },
  {
   "cell_type": "code",
   "execution_count": 54,
   "metadata": {},
   "outputs": [
    {
     "data": {
      "text/plain": [
       "700.544785759263"
      ]
     },
     "execution_count": 54,
     "metadata": {},
     "output_type": "execute_result"
    }
   ],
   "source": [
    "np.linalg.cond(X.T@X)"
   ]
  },
  {
   "cell_type": "code",
   "execution_count": 55,
   "metadata": {},
   "outputs": [
    {
     "data": {
      "text/plain": [
       "(200, 3)"
      ]
     },
     "execution_count": 55,
     "metadata": {},
     "output_type": "execute_result"
    }
   ],
   "source": [
    "X.shape"
   ]
  },
  {
   "cell_type": "code",
   "execution_count": 56,
   "metadata": {},
   "outputs": [
    {
     "data": {
      "text/plain": [
       "PCA(copy=True, iterated_power='auto', n_components=2, random_state=None,\n",
       "    svd_solver='full', tol=0.0, whiten=False)"
      ]
     },
     "execution_count": 56,
     "metadata": {},
     "output_type": "execute_result"
    }
   ],
   "source": [
    "pca = PCA(n_components=2,svd_solver='full')\n",
    "pca.fit(X)"
   ]
  },
  {
   "cell_type": "code",
   "execution_count": 57,
   "metadata": {},
   "outputs": [
    {
     "name": "stdout",
     "output_type": "stream",
     "text": [
      "[[ 0.84315718  0.28933414  0.45317956]\n",
      " [-0.45663143 -0.05963686  0.88765488]]\n"
     ]
    }
   ],
   "source": [
    "print(pca.components_)"
   ]
  },
  {
   "cell_type": "code",
   "execution_count": 58,
   "metadata": {},
   "outputs": [
    {
     "name": "stdout",
     "output_type": "stream",
     "text": [
      "[2.55109919 0.31794862]\n"
     ]
    }
   ],
   "source": [
    "print(pca.explained_variance_)"
   ]
  },
  {
   "cell_type": "code",
   "execution_count": 59,
   "metadata": {},
   "outputs": [
    {
     "data": {
      "text/plain": [
       "array([22.53150547,  7.9543558 ])"
      ]
     },
     "execution_count": 59,
     "metadata": {},
     "output_type": "execute_result"
    }
   ],
   "source": [
    "pca.singular_values_"
   ]
  },
  {
   "cell_type": "code",
   "execution_count": 60,
   "metadata": {},
   "outputs": [],
   "source": [
    "u,s,vt = np.linalg.svd(X)"
   ]
  },
  {
   "cell_type": "code",
   "execution_count": 61,
   "metadata": {},
   "outputs": [
    {
     "data": {
      "text/plain": [
       "array([22.56157551,  7.96458412,  0.85241576])"
      ]
     },
     "execution_count": 61,
     "metadata": {},
     "output_type": "execute_result"
    }
   ],
   "source": [
    "s"
   ]
  },
  {
   "cell_type": "code",
   "execution_count": 62,
   "metadata": {},
   "outputs": [
    {
     "data": {
      "text/plain": [
       "array([-0.84359574, -0.28954204, -0.45222962])"
      ]
     },
     "execution_count": 62,
     "metadata": {},
     "output_type": "execute_result"
    }
   ],
   "source": [
    "vt.T[:,0]"
   ]
  },
  {
   "cell_type": "code",
   "execution_count": 63,
   "metadata": {},
   "outputs": [
    {
     "data": {
      "text/plain": [
       "array([ 0.45561993,  0.05973815, -0.88816768])"
      ]
     },
     "execution_count": 63,
     "metadata": {},
     "output_type": "execute_result"
    }
   ],
   "source": [
    "vt.T[:,1]"
   ]
  },
  {
   "cell_type": "code",
   "execution_count": 64,
   "metadata": {},
   "outputs": [],
   "source": [
    "x_ast=np.concatenate((pca.components_[0,:],np.array([pca.singular_values_[0]**2])))"
   ]
  },
  {
   "cell_type": "code",
   "execution_count": 65,
   "metadata": {},
   "outputs": [
    {
     "data": {
      "text/plain": [
       "array([8.43157183e-01, 2.89334144e-01, 4.53179565e-01, 5.07668739e+02])"
      ]
     },
     "execution_count": 65,
     "metadata": {},
     "output_type": "execute_result"
    }
   ],
   "source": [
    "x_ast"
   ]
  },
  {
   "cell_type": "code",
   "execution_count": 66,
   "metadata": {},
   "outputs": [],
   "source": [
    "X_centered = X - X.mean(axis=0)\n",
    "#other option X = (X - X.mean(axis=0)) / X.std()"
   ]
  },
  {
   "cell_type": "code",
   "execution_count": 67,
   "metadata": {},
   "outputs": [],
   "source": [
    "tol=1e-8\n",
    "tol_backtracking=1e-14\n",
    "maxiter=50\n",
    "p_ast=fo_max(x_ast)\n"
   ]
  },
  {
   "cell_type": "code",
   "execution_count": 68,
   "metadata": {},
   "outputs": [],
   "source": [
    "x_0 = np.array([1,0,1,400], dtype=float)"
   ]
  },
  {
   "cell_type": "code",
   "execution_count": 69,
   "metadata": {},
   "outputs": [
    {
     "data": {
      "text/plain": [
       "array([  1.,   0.,   1., 400.])"
      ]
     },
     "execution_count": 69,
     "metadata": {},
     "output_type": "execute_result"
    }
   ],
   "source": [
    "x_0"
   ]
  },
  {
   "cell_type": "code",
   "execution_count": 70,
   "metadata": {},
   "outputs": [
    {
     "data": {
      "text/plain": [
       "-253.834369353904"
      ]
     },
     "execution_count": 70,
     "metadata": {},
     "output_type": "execute_result"
    }
   ],
   "source": [
    "p_ast"
   ]
  },
  {
   "cell_type": "code",
   "execution_count": 71,
   "metadata": {},
   "outputs": [
    {
     "name": "stdout",
     "output_type": "stream",
     "text": [
      "I    Normgf   Newton Decrement  Error x_ast   Error p_ast   line search   Condition of Hessian\n",
      "0    2.49e+02    8.73e+01        2.12e-01      8.41e-02       ---           2.74e+04\n",
      "1    7.41e+01    9.44e+00        1.06e-02      1.80e-02       1.00e+00      1.89e+03\n",
      "2    1.10e+00    -4.42e-02        1.54e-03      9.03e-05       1.00e+00      6.91e+02\n",
      "Error of x with respect to x_ast: 1.54e-03\n",
      "Approximate solution: [8.67811089e-01 2.96955349e-01 4.67847927e-01 5.06886795e+02]\n"
     ]
    }
   ],
   "source": [
    "[x,total_of_iterations,Err_plot,x_plot]=algorithms_for_uco.Newtons_method(fo_max, x_0,tol, \n",
    "                                                       tol_backtracking, x_ast, p_ast, maxiter)"
   ]
  },
  {
   "cell_type": "code",
   "execution_count": 72,
   "metadata": {},
   "outputs": [
    {
     "data": {
      "text/plain": [
       "array([8.67811089e-01, 2.96955349e-01, 4.67847927e-01, 5.06886795e+02])"
      ]
     },
     "execution_count": 72,
     "metadata": {},
     "output_type": "execute_result"
    }
   ],
   "source": [
    "x"
   ]
  },
  {
   "cell_type": "code",
   "execution_count": 73,
   "metadata": {},
   "outputs": [
    {
     "data": {
      "text/plain": [
       "3"
      ]
     },
     "execution_count": 73,
     "metadata": {},
     "output_type": "execute_result"
    }
   ],
   "source": [
    "total_of_iterations"
   ]
  },
  {
   "cell_type": "code",
   "execution_count": 74,
   "metadata": {},
   "outputs": [
    {
     "data": {
      "text/plain": [
       "array([8.43157183e-01, 2.89334144e-01, 4.53179565e-01, 5.07668739e+02])"
      ]
     },
     "execution_count": 74,
     "metadata": {},
     "output_type": "execute_result"
    }
   ],
   "source": [
    "x_ast"
   ]
  },
  {
   "cell_type": "code",
   "execution_count": 75,
   "metadata": {},
   "outputs": [
    {
     "data": {
      "text/plain": [
       "22.5141465628605"
      ]
     },
     "execution_count": 75,
     "metadata": {},
     "output_type": "execute_result"
    }
   ],
   "source": [
    "np.sqrt(x[3])"
   ]
  },
  {
   "cell_type": "code",
   "execution_count": 76,
   "metadata": {},
   "outputs": [
    {
     "data": {
      "text/plain": [
       "0.0015413691073102407"
      ]
     },
     "execution_count": 76,
     "metadata": {},
     "output_type": "execute_result"
    }
   ],
   "source": [
    "compute_error(x_ast,x)"
   ]
  },
  {
   "cell_type": "code",
   "execution_count": 77,
   "metadata": {},
   "outputs": [],
   "source": [
    "#X_centered = X - X.mean(axis=0)\n",
    "#other option X = (X - X.mean(axis=0)) / X.std()"
   ]
  },
  {
   "cell_type": "code",
   "execution_count": 79,
   "metadata": {},
   "outputs": [],
   "source": [
    "#s[0]"
   ]
  },
  {
   "cell_type": "markdown",
   "metadata": {},
   "source": [
    "**Deflation**"
   ]
  },
  {
   "cell_type": "code",
   "execution_count": 80,
   "metadata": {},
   "outputs": [],
   "source": [
    "X = X-s[0]*np.outer(u[:,0],vt[:,0])"
   ]
  },
  {
   "cell_type": "code",
   "execution_count": 81,
   "metadata": {},
   "outputs": [],
   "source": [
    "X_centered = X - X.mean(axis=0)\n",
    "#other option X = (X - X.mean(axis=0)) / X.std()"
   ]
  },
  {
   "cell_type": "code",
   "execution_count": 82,
   "metadata": {},
   "outputs": [],
   "source": [
    "tol=1e-8\n",
    "tol_backtracking=1e-14\n",
    "maxiter=50\n",
    "p_ast=fo_max(x_ast)\n"
   ]
  },
  {
   "cell_type": "code",
   "execution_count": 83,
   "metadata": {},
   "outputs": [],
   "source": [
    "x_ast=np.concatenate((pca.components_[1,:],np.array([pca.singular_values_[1]**2])))"
   ]
  },
  {
   "cell_type": "code",
   "execution_count": 84,
   "metadata": {},
   "outputs": [
    {
     "data": {
      "text/plain": [
       "array([-4.56631429e-01, -5.96368650e-02,  8.87654878e-01,  6.32717762e+01])"
      ]
     },
     "execution_count": 84,
     "metadata": {},
     "output_type": "execute_result"
    }
   ],
   "source": [
    "x_ast"
   ]
  },
  {
   "cell_type": "code",
   "execution_count": 85,
   "metadata": {},
   "outputs": [],
   "source": [
    "x_0 = np.array([-1,0,0,60], dtype=float)"
   ]
  },
  {
   "cell_type": "code",
   "execution_count": 86,
   "metadata": {},
   "outputs": [
    {
     "data": {
      "text/plain": [
       "array([-1.,  0.,  0., 60.])"
      ]
     },
     "execution_count": 86,
     "metadata": {},
     "output_type": "execute_result"
    }
   ],
   "source": [
    "x_0"
   ]
  },
  {
   "cell_type": "code",
   "execution_count": 87,
   "metadata": {},
   "outputs": [
    {
     "data": {
      "text/plain": [
       "-21.607340394408087"
      ]
     },
     "execution_count": 87,
     "metadata": {},
     "output_type": "execute_result"
    }
   ],
   "source": [
    "p_ast"
   ]
  },
  {
   "cell_type": "code",
   "execution_count": 88,
   "metadata": {},
   "outputs": [
    {
     "name": "stdout",
     "output_type": "stream",
     "text": [
      "I    Normgf   Newton Decrement  Error x_ast   Error p_ast   line search   Condition of Hessian\n",
      "0    5.34e+01    5.62e+01        5.43e-02      6.95e-01       ---           2.37e+03\n",
      "1    2.47e+01    1.16e+01        2.43e-02      1.45e-01       5.00e-01      3.85e+02\n",
      "2    1.12e+00    1.58e-01        1.33e-02      4.25e-01       1.00e+00      2.93e+02\n",
      "3    6.15e-02    8.42e-04        2.32e-02      4.29e-01       1.00e+00      2.42e+02\n",
      "4    4.67e-04    -1.58e-07        2.42e-02      4.29e-01       1.00e+00      2.37e+02\n",
      "Error of x with respect to x_ast: 2.42e-02\n",
      "Approximate solution: [-0.45906412 -0.23192471  0.85737628 61.75293305]\n"
     ]
    }
   ],
   "source": [
    "[x,total_of_iterations,Err_plot,x_plot]=algorithms_for_uco.Newtons_method(fo_max, x_0,tol, \n",
    "                                                       tol_backtracking, x_ast, p_ast, maxiter)"
   ]
  },
  {
   "cell_type": "code",
   "execution_count": 89,
   "metadata": {},
   "outputs": [
    {
     "data": {
      "text/plain": [
       "array([-0.45906412, -0.23192471,  0.85737628, 61.75293305])"
      ]
     },
     "execution_count": 89,
     "metadata": {},
     "output_type": "execute_result"
    }
   ],
   "source": [
    "x"
   ]
  },
  {
   "cell_type": "code",
   "execution_count": 90,
   "metadata": {},
   "outputs": [
    {
     "data": {
      "text/plain": [
       "5"
      ]
     },
     "execution_count": 90,
     "metadata": {},
     "output_type": "execute_result"
    }
   ],
   "source": [
    "total_of_iterations"
   ]
  },
  {
   "cell_type": "code",
   "execution_count": 91,
   "metadata": {},
   "outputs": [
    {
     "data": {
      "text/plain": [
       "array([-4.56631429e-01, -5.96368650e-02,  8.87654878e-01,  6.32717762e+01])"
      ]
     },
     "execution_count": 91,
     "metadata": {},
     "output_type": "execute_result"
    }
   ],
   "source": [
    "x_ast"
   ]
  },
  {
   "cell_type": "code",
   "execution_count": 92,
   "metadata": {},
   "outputs": [
    {
     "data": {
      "text/plain": [
       "7.858303446081467"
      ]
     },
     "execution_count": 92,
     "metadata": {},
     "output_type": "execute_result"
    }
   ],
   "source": [
    "np.sqrt(x[3])"
   ]
  },
  {
   "cell_type": "code",
   "execution_count": 93,
   "metadata": {},
   "outputs": [
    {
     "data": {
      "text/plain": [
       "0.024160762770256233"
      ]
     },
     "execution_count": 93,
     "metadata": {},
     "output_type": "execute_result"
    }
   ],
   "source": [
    "compute_error(x_ast,x)"
   ]
  },
  {
   "cell_type": "markdown",
   "metadata": {},
   "source": [
    "**Otro punto inicial**"
   ]
  },
  {
   "cell_type": "code",
   "execution_count": 94,
   "metadata": {},
   "outputs": [],
   "source": [
    "x_0 = np.array([1,0,1,60], dtype=float)"
   ]
  },
  {
   "cell_type": "code",
   "execution_count": 95,
   "metadata": {},
   "outputs": [
    {
     "data": {
      "text/plain": [
       "array([ 1.,  0.,  1., 60.])"
      ]
     },
     "execution_count": 95,
     "metadata": {},
     "output_type": "execute_result"
    }
   ],
   "source": [
    "x_0"
   ]
  },
  {
   "cell_type": "code",
   "execution_count": 96,
   "metadata": {},
   "outputs": [
    {
     "data": {
      "text/plain": [
       "-21.607340394408087"
      ]
     },
     "execution_count": 96,
     "metadata": {},
     "output_type": "execute_result"
    }
   ],
   "source": [
    "p_ast"
   ]
  },
  {
   "cell_type": "code",
   "execution_count": 97,
   "metadata": {},
   "outputs": [
    {
     "name": "stdout",
     "output_type": "stream",
     "text": [
      "I    Normgf   Newton Decrement  Error x_ast   Error p_ast   line search   Condition of Hessian\n",
      "0    9.76e+01    1.31e+02        5.66e-02      1.78e+00       ---           4.15e+03\n",
      "1    7.14e+01    4.63e+01        5.02e-02      7.31e-01       2.50e-01      3.95e+02\n",
      "2    3.28e+00    8.13e-01        1.16e-02      4.08e-01       1.00e+00      2.41e+02\n",
      "3    2.21e-01    1.97e-02        2.10e-02      4.29e-01       1.00e+00      2.47e+02\n",
      "4    8.58e-03    6.20e-06        2.40e-02      4.29e-01       1.00e+00      2.37e+02\n",
      "5    2.40e-05    1.06e-11        2.42e-02      4.29e-01       1.00e+00      2.37e+02\n",
      "Error of x with respect to x_ast: 2.42e-02\n",
      "Approximate solution: [-0.45915131 -0.23196882  0.85753805 61.75252356]\n"
     ]
    }
   ],
   "source": [
    "[x,total_of_iterations,Err_plot,x_plot]=algorithms_for_uco.Newtons_method(fo_max, x_0,tol, \n",
    "                                                       tol_backtracking, x_ast, p_ast, maxiter)"
   ]
  },
  {
   "cell_type": "code",
   "execution_count": 98,
   "metadata": {},
   "outputs": [
    {
     "data": {
      "text/plain": [
       "array([-0.45915131, -0.23196882,  0.85753805, 61.75252356])"
      ]
     },
     "execution_count": 98,
     "metadata": {},
     "output_type": "execute_result"
    }
   ],
   "source": [
    "x"
   ]
  },
  {
   "cell_type": "code",
   "execution_count": 99,
   "metadata": {},
   "outputs": [
    {
     "data": {
      "text/plain": [
       "6"
      ]
     },
     "execution_count": 99,
     "metadata": {},
     "output_type": "execute_result"
    }
   ],
   "source": [
    "total_of_iterations"
   ]
  },
  {
   "cell_type": "code",
   "execution_count": 100,
   "metadata": {},
   "outputs": [
    {
     "data": {
      "text/plain": [
       "array([-4.56631429e-01, -5.96368650e-02,  8.87654878e-01,  6.32717762e+01])"
      ]
     },
     "execution_count": 100,
     "metadata": {},
     "output_type": "execute_result"
    }
   ],
   "source": [
    "x_ast"
   ]
  },
  {
   "cell_type": "code",
   "execution_count": 101,
   "metadata": {},
   "outputs": [
    {
     "data": {
      "text/plain": [
       "7.85827739168446"
      ]
     },
     "execution_count": 101,
     "metadata": {},
     "output_type": "execute_result"
    }
   ],
   "source": [
    "np.sqrt(x[3])"
   ]
  },
  {
   "cell_type": "code",
   "execution_count": 102,
   "metadata": {},
   "outputs": [
    {
     "data": {
      "text/plain": [
       "0.024167221629122215"
      ]
     },
     "execution_count": 102,
     "metadata": {},
     "output_type": "execute_result"
    }
   ],
   "source": [
    "compute_error(x_ast,x)"
   ]
  },
  {
   "cell_type": "markdown",
   "metadata": {},
   "source": [
    "**Otro punto inicial**"
   ]
  },
  {
   "cell_type": "code",
   "execution_count": 103,
   "metadata": {},
   "outputs": [],
   "source": [
    "x_0 = np.array([1,-.05,1,60], dtype=float)"
   ]
  },
  {
   "cell_type": "code",
   "execution_count": 104,
   "metadata": {},
   "outputs": [
    {
     "data": {
      "text/plain": [
       "array([ 1.e+00, -5.e-02,  1.e+00,  6.e+01])"
      ]
     },
     "execution_count": 104,
     "metadata": {},
     "output_type": "execute_result"
    }
   ],
   "source": [
    "x_0"
   ]
  },
  {
   "cell_type": "code",
   "execution_count": 105,
   "metadata": {},
   "outputs": [
    {
     "data": {
      "text/plain": [
       "-21.607340394408087"
      ]
     },
     "execution_count": 105,
     "metadata": {},
     "output_type": "execute_result"
    }
   ],
   "source": [
    "p_ast"
   ]
  },
  {
   "cell_type": "code",
   "execution_count": 106,
   "metadata": {},
   "outputs": [
    {
     "name": "stdout",
     "output_type": "stream",
     "text": [
      "I    Normgf   Newton Decrement  Error x_ast   Error p_ast   line search   Condition of Hessian\n",
      "0    9.17e+01    1.36e+02        5.66e-02      1.91e+00       ---           4.11e+03\n",
      "1    6.68e+01    5.01e+01        4.86e-02      8.14e-01       2.50e-01      3.70e+02\n",
      "2    3.18e+00    8.13e-01        9.99e-03      4.08e-01       1.00e+00      2.58e+02\n",
      "3    2.29e-01    1.74e-02        2.08e-02      4.29e-01       1.00e+00      2.51e+02\n",
      "4    8.28e-03    1.91e-06        2.40e-02      4.29e-01       1.00e+00      2.37e+02\n",
      "5    4.30e-05    -4.08e-10        2.42e-02      4.29e-01       1.00e+00      2.37e+02\n",
      "Error of x with respect to x_ast: 2.42e-02\n",
      "Approximate solution: [-0.45913816 -0.23196171  0.85751229 61.75251885]\n"
     ]
    }
   ],
   "source": [
    "[x,total_of_iterations,Err_plot,x_plot]=algorithms_for_uco.Newtons_method(fo_max, x_0,tol, \n",
    "                                                       tol_backtracking, x_ast, p_ast, maxiter)"
   ]
  },
  {
   "cell_type": "code",
   "execution_count": 107,
   "metadata": {},
   "outputs": [
    {
     "data": {
      "text/plain": [
       "array([-0.45913816, -0.23196171,  0.85751229, 61.75251885])"
      ]
     },
     "execution_count": 107,
     "metadata": {},
     "output_type": "execute_result"
    }
   ],
   "source": [
    "x"
   ]
  },
  {
   "cell_type": "code",
   "execution_count": 108,
   "metadata": {},
   "outputs": [
    {
     "data": {
      "text/plain": [
       "6"
      ]
     },
     "execution_count": 108,
     "metadata": {},
     "output_type": "execute_result"
    }
   ],
   "source": [
    "total_of_iterations"
   ]
  },
  {
   "cell_type": "code",
   "execution_count": 109,
   "metadata": {},
   "outputs": [
    {
     "data": {
      "text/plain": [
       "array([-4.56631429e-01, -5.96368650e-02,  8.87654878e-01,  6.32717762e+01])"
      ]
     },
     "execution_count": 109,
     "metadata": {},
     "output_type": "execute_result"
    }
   ],
   "source": [
    "x_ast"
   ]
  },
  {
   "cell_type": "code",
   "execution_count": 110,
   "metadata": {},
   "outputs": [
    {
     "data": {
      "text/plain": [
       "7.8582770918361255"
      ]
     },
     "execution_count": 110,
     "metadata": {},
     "output_type": "execute_result"
    }
   ],
   "source": [
    "np.sqrt(x[3])"
   ]
  },
  {
   "cell_type": "code",
   "execution_count": 111,
   "metadata": {},
   "outputs": [
    {
     "data": {
      "text/plain": [
       "0.024167290623390986"
      ]
     },
     "execution_count": 111,
     "metadata": {},
     "output_type": "execute_result"
    }
   ],
   "source": [
    "compute_error(x_ast,x)"
   ]
  },
  {
   "cell_type": "markdown",
   "metadata": {},
   "source": [
    "**Otro punto inicial**"
   ]
  },
  {
   "cell_type": "code",
   "execution_count": 166,
   "metadata": {},
   "outputs": [],
   "source": [
    "x_0 = np.array([1,-1,1,50], dtype=float)"
   ]
  },
  {
   "cell_type": "code",
   "execution_count": 167,
   "metadata": {},
   "outputs": [
    {
     "data": {
      "text/plain": [
       "array([ 1., -1.,  1., 50.])"
      ]
     },
     "execution_count": 167,
     "metadata": {},
     "output_type": "execute_result"
    }
   ],
   "source": [
    "x_0"
   ]
  },
  {
   "cell_type": "code",
   "execution_count": 168,
   "metadata": {},
   "outputs": [
    {
     "data": {
      "text/plain": [
       "-21.607340394408087"
      ]
     },
     "execution_count": 168,
     "metadata": {},
     "output_type": "execute_result"
    }
   ],
   "source": [
    "p_ast"
   ]
  },
  {
   "cell_type": "code",
   "execution_count": 169,
   "metadata": {},
   "outputs": [
    {
     "name": "stdout",
     "output_type": "stream",
     "text": [
      "I    Normgf   Newton Decrement  Error x_ast   Error p_ast   line search   Condition of Hessian\n",
      "0    1.96e+02    -7.66e+02        2.12e-01      9.73e-01       ---           4.53e+04\n",
      "Error of x with respect to x_ast: 2.12e-01\n",
      "Approximate solution: [ 1. -1.  1. 50.]\n"
     ]
    }
   ],
   "source": [
    "[x,total_of_iterations,Err_plot,x_plot]=algorithms_for_uco.Newtons_method(fo_max, x_0,tol, \n",
    "                                                       tol_backtracking, x_ast, p_ast, maxiter)"
   ]
  },
  {
   "cell_type": "code",
   "execution_count": 170,
   "metadata": {},
   "outputs": [
    {
     "data": {
      "text/plain": [
       "array([ 1., -1.,  1., 50.])"
      ]
     },
     "execution_count": 170,
     "metadata": {},
     "output_type": "execute_result"
    }
   ],
   "source": [
    "x"
   ]
  },
  {
   "cell_type": "code",
   "execution_count": 171,
   "metadata": {},
   "outputs": [
    {
     "data": {
      "text/plain": [
       "1"
      ]
     },
     "execution_count": 171,
     "metadata": {},
     "output_type": "execute_result"
    }
   ],
   "source": [
    "total_of_iterations"
   ]
  },
  {
   "cell_type": "code",
   "execution_count": 172,
   "metadata": {},
   "outputs": [
    {
     "data": {
      "text/plain": [
       "array([-4.56631429e-01, -5.96368650e-02,  8.87654878e-01,  6.32717762e+01])"
      ]
     },
     "execution_count": 172,
     "metadata": {},
     "output_type": "execute_result"
    }
   ],
   "source": [
    "x_ast"
   ]
  },
  {
   "cell_type": "code",
   "execution_count": 173,
   "metadata": {},
   "outputs": [
    {
     "data": {
      "text/plain": [
       "7.0710678118654755"
      ]
     },
     "execution_count": 173,
     "metadata": {},
     "output_type": "execute_result"
    }
   ],
   "source": [
    "np.sqrt(x[3])"
   ]
  },
  {
   "cell_type": "code",
   "execution_count": 174,
   "metadata": {},
   "outputs": [
    {
     "data": {
      "text/plain": [
       "0.21152159700068252"
      ]
     },
     "execution_count": 174,
     "metadata": {},
     "output_type": "execute_result"
    }
   ],
   "source": [
    "compute_error(x_ast,x)"
   ]
  }
 ],
 "metadata": {
  "kernelspec": {
   "display_name": "Python 3",
   "language": "python",
   "name": "python3"
  },
  "language_info": {
   "codemirror_mode": {
    "name": "ipython",
    "version": 3
   },
   "file_extension": ".py",
   "mimetype": "text/x-python",
   "name": "python",
   "nbconvert_exporter": "python",
   "pygments_lexer": "ipython3",
   "version": "3.6.9"
  }
 },
 "nbformat": 4,
 "nbformat_minor": 4
}
