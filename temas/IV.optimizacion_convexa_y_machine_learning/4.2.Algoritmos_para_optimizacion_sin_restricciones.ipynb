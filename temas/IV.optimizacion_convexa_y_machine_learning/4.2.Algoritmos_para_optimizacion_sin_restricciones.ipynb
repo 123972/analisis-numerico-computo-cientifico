{
 "cells": [
  {
   "cell_type": "markdown",
   "metadata": {},
   "source": [
    "Nota basada en [liga1](https://drive.google.com/file/d/1xtkxPCx05Xg4Dj7JZoQ-LusBDrtYUqOF/view?usp=sharing), [liga2](https://drive.google.com/file/d/16-_PvWNaO0Zc9x04-SRsxCRdn5fxebf2/view?usp=sharing)"
   ]
  },
  {
   "cell_type": "markdown",
   "metadata": {},
   "source": [
    "# Problemas de optimización sin restricciones"
   ]
  },
  {
   "cell_type": "markdown",
   "metadata": {},
   "source": [
    "En esta nota se consideran resolver problemas de la forma:\n",
    "\n",
    "$$\\min f_o(x)$$\n",
    "\n",
    "con $f:\\mathbb{R}^n \\rightarrow \\mathbb{R}$ convexa y $f \\in \\mathcal{C}^2(\\text{dom}f)$.\n",
    "\n",
    "También se asume que existe un punto óptimo $x^*$ por lo que el problema tiene solución y el valor óptimo se denota por $p^* = f(x^*) = \\inf f(x)$"
   ]
  },
  {
   "cell_type": "markdown",
   "metadata": {},
   "source": [
    "Por lo anterior una **condición necesaria y suficiente** para que $x^*$ sea óptimo es: $\\nabla f(x^*) = 0$ que **en general** es un conjunto de $n$ **ecuaciones no lineales** en $n$ variables y que resuelve el problema de optimización planteado al inicio. \n",
    "\n",
    "\n",
    "**Ejemplos:**\n",
    "\n",
    "1)$$\\displaystyle \\min_{x \\in \\mathbb{R}^2} x_1^4+2x_1^2x_2+x_2^2$$"
   ]
  },
  {
   "cell_type": "markdown",
   "metadata": {},
   "source": [
    "Entonces:\n",
    "\n",
    "$$\n",
    "\\nabla f(x) = \n",
    "\\left [\n",
    "\\begin{array}{c}\n",
    "4x_1^3+4x_1x_2\\\\\n",
    "2x_1^2+2x_2\n",
    "\\end{array}\n",
    "\\right ]=0\n",
    "$$"
   ]
  },
  {
   "cell_type": "markdown",
   "metadata": {},
   "source": [
    "que es una ecuación de dos variables y dos incógnitas **no lineal**."
   ]
  },
  {
   "cell_type": "markdown",
   "metadata": {},
   "source": [
    "2) $$\\displaystyle \\min_{x \\in \\mathbb{R}^2} \\frac{1}{2}x^TPx+q^Tx+r$$\n",
    "\n",
    "con $P=\\left [\\begin{array}{cc}\n",
    "5 & 4\\\\\n",
    "4 & 5\n",
    "\\end{array}\n",
    "\\right ]$, $q=\\left [\\begin{array}{c}\n",
    "-1\\\\\n",
    "1\n",
    "\\end{array}\n",
    "\\right]\n",
    "$, $r=3$. Obsérvese que haciendo las multiplicaciones de matriz-vector y productos punto se reescribe el problema como:\n",
    "\n"
   ]
  },
  {
   "cell_type": "markdown",
   "metadata": {},
   "source": [
    "$$\\displaystyle \\min_{x \\in \\mathbb{R}^2} \\frac{5}{2}x_1^2 + \\frac{5}{2}x_2^2+4x_1x_2 -x_1 + x_2+3$$ "
   ]
  },
  {
   "cell_type": "markdown",
   "metadata": {},
   "source": [
    "Entonces:\n",
    "\n",
    "$$\\nabla f(x) = Px +q =\\left [ \\begin{array}{cc}\n",
    "5 & 4\\\\\n",
    "4 & 5\n",
    "\\end{array}\n",
    "\\right ]\n",
    "\\left [ \\begin{array}{c}\n",
    "x_1\\\\\n",
    "x_2\n",
    "\\end{array}\n",
    "\\right ]\n",
    "+ \\left [ \\begin{array}{c}\n",
    "-1\\\\\n",
    "1\n",
    "\\end{array}\n",
    "\\right ]=\n",
    "\\left [ \\begin{array}{cc}\n",
    "5x_1+4x_2-1\\\\\n",
    "4x_1+5x_2+1\n",
    "\\end{array}\n",
    "\\right ]\n",
    "=0\n",
    "$$"
   ]
  },
  {
   "cell_type": "markdown",
   "metadata": {},
   "source": [
    "que es una ecuación en dos variables con dos incógnitas **lineal**."
   ]
  },
  {
   "cell_type": "markdown",
   "metadata": {},
   "source": [
    "**Comentario:** en algunos casos especiales es posible resolver la ecuación no lineal $\\nabla f(x) = 0$ para $x$ de forma analítica o cerrada. Este es el caso del ejemplo $2$ anterior la cual está dada por $x^* = -P^{-1}q$:"
   ]
  },
  {
   "cell_type": "code",
   "execution_count": 1,
   "metadata": {},
   "outputs": [],
   "source": [
    "import numpy as np"
   ]
  },
  {
   "cell_type": "code",
   "execution_count": 3,
   "metadata": {},
   "outputs": [
    {
     "data": {
      "text/plain": [
       "array([ 1., -1.])"
      ]
     },
     "execution_count": 3,
     "metadata": {},
     "output_type": "execute_result"
    }
   ],
   "source": [
    "P=np.array([[5,4],[4,5]])\n",
    "q=np.array([-1,1])\n",
    "np.linalg.solve(P,-q)"
   ]
  },
  {
   "cell_type": "markdown",
   "metadata": {},
   "source": [
    "pero típicamente se utiliza un algoritmo iterativo: calcular una secuencia de puntos $x^{(0)}, x^{(1)}, \\dots \\in \\text{dom}f$ con $f(x^{(k)}) \\rightarrow p^*$ si $k \\rightarrow \\infty$. El conjunto de puntos $x^{(0)}, x^{(1)},\\dots$ se nombra **secuencia de minimización** para el problema de optimización. El algoritmo termina si $f(x^{(k)})-p^* \\leq \\epsilon$ con $\\epsilon >0$ una tolerancia dada."
   ]
  },
  {
   "cell_type": "markdown",
   "metadata": {},
   "source": [
    "## Método de búsqueda de línea por *backtracking*"
   ]
  },
  {
   "cell_type": "markdown",
   "metadata": {},
   "source": [
    "## Métodos de descenso"
   ]
  },
  {
   "cell_type": "markdown",
   "metadata": {},
   "source": [
    ">Algoritmo de descenso\n",
    ">> Punto inicial\n"
   ]
  },
  {
   "cell_type": "markdown",
   "metadata": {},
   "source": [
    "## Método de máximo de descenso"
   ]
  },
  {
   "cell_type": "markdown",
   "metadata": {},
   "source": [
    "## Influencia del número de condición "
   ]
  },
  {
   "cell_type": "markdown",
   "metadata": {},
   "source": [
    "## Ejemplos"
   ]
  },
  {
   "cell_type": "code",
   "execution_count": 1,
   "metadata": {},
   "outputs": [],
   "source": [
    "import numpy as np\n",
    "import math\n",
    "import matplotlib.pyplot as plt"
   ]
  },
  {
   "cell_type": "code",
   "execution_count": 2,
   "metadata": {},
   "outputs": [],
   "source": [
    "def inc_index(vec,index,h):\n",
    "    '''\n",
    "    Auxiliary function for gradient and Hessian computation.\n",
    "    Args:\n",
    "        vec (array): numpy array.\n",
    "        index (int): index.\n",
    "        h (float):   quantity that vec[index] will be increased.\n",
    "    Returns:\n",
    "        vec (array): numpy array vec with vec[index] increased by h.\n",
    "    '''\n",
    "    vec[index] +=h\n",
    "    return vec"
   ]
  },
  {
   "cell_type": "code",
   "execution_count": 3,
   "metadata": {},
   "outputs": [],
   "source": [
    "def dec_index(vec,index,h=1):\n",
    "    '''\n",
    "    Auxiliary function for gradient and Hessian computation.\n",
    "    Args:\n",
    "        vec (array): numpy array.\n",
    "        index (int): index.\n",
    "        h (float):   quantity that vec[index] will be decreased.\n",
    "    Returns:\n",
    "        vec (array): numpy array vec with vec[index] decreased by h.\n",
    "    '''\n",
    "    vec[index] -=h\n",
    "    return vec"
   ]
  },
  {
   "cell_type": "code",
   "execution_count": 4,
   "metadata": {},
   "outputs": [],
   "source": [
    "def gradient_approximation(f,x,h=1e-8):\n",
    "    '''\n",
    "    Numerical approximation of gradient for function f using forward differences.\n",
    "    Args:\n",
    "        f (lambda expression): definition of function f.\n",
    "        x (array): numpy array that holds values where gradient will be computed.\n",
    "        h (float): step size for forward differences, tipically h=1e-8\n",
    "    Returns:\n",
    "        gf (array): numerical approximation to gradient of f.\n",
    "    '''\n",
    "    n = x.size\n",
    "    gf = np.zeros(n)\n",
    "    f_x = f(x)\n",
    "    for i in np.arange(n):\n",
    "        inc_index(x,i,h)\n",
    "        gf[i] = f(x) - f_x\n",
    "        dec_index(x,i,h)\n",
    "    return gf/h"
   ]
  },
  {
   "cell_type": "code",
   "execution_count": 5,
   "metadata": {},
   "outputs": [],
   "source": [
    "def Hessian_approximation(f,x,h=1e-6):\n",
    "    '''\n",
    "    Numerical approximation of Hessian for function f using forward differences.\n",
    "    Args:\n",
    "        f (lambda expression): definition of function f.\n",
    "        x (array): numpy array that holds values where Hessian will be computed.\n",
    "        h (float): step size for forward differences, tipically h=1e-6\n",
    "    Returns:\n",
    "        Hf (array): numerical approximation to Hessian of f.\n",
    "    '''\n",
    "    n = x.size\n",
    "    Hf = np.zeros((n,n))\n",
    "    f_x = f(x)\n",
    "    for i in np.arange(n):\n",
    "        inc_index(x,i,h)\n",
    "        f_x_inc_in_i = f(x)\n",
    "        for j in np.arange(i,n):\n",
    "            inc_index(x,j,h)\n",
    "            f_x_inc_in_i_j = f(x)\n",
    "            dec_index(x,i,h)\n",
    "            f_x_inc_in_j = f(x)\n",
    "            dif = f_x_inc_in_i_j-f_x_inc_in_i-f_x_inc_in_j+f_x\n",
    "            Hf[i,j] = dif\n",
    "            if j != i:\n",
    "                Hf[j,i] = dif\n",
    "            dec_index(x,j,h)\n",
    "            inc_index(x,i,h)\n",
    "        dec_index(x,i,h)\n",
    "    return Hf/h**2"
   ]
  },
  {
   "cell_type": "code",
   "execution_count": 6,
   "metadata": {},
   "outputs": [],
   "source": [
    "def line_search_by_backtracking(f,dir_desc,x,\n",
    "                                der_direct, alpha=.15, beta=.5):\n",
    "    \"\"\"\n",
    "    Line search that sufficiently decreases f restricted to a ray in the direction dir_desc.\n",
    "    Args:\n",
    "        alpha (float): parameter in line search with backtracking, tipically .15\n",
    "        beta (float): parameter in line search with backtracking, tipically .5\n",
    "        f (lambda expression): definition of function f.\n",
    "        dir_desc (array): descent direction.\n",
    "        x (array): numpy array that holds values where line search will be performed.\n",
    "        der_direct (float): directional derivative of f.\n",
    "    Returns:\n",
    "        t (float): positive number for stepsize along dir_desc that sufficiently decreases f.\n",
    "    \"\"\"\n",
    "    t=1\n",
    "    if alpha > 1/2:\n",
    "        print('alpha must be less than or equal to 1/2')\n",
    "        t=-1\n",
    "    if beta>1:\n",
    "        print('beta must be less than 1')\n",
    "        t=-1;   \n",
    "    if t!=-1:\n",
    "        eval1 = f(x+t*dir_desc)\n",
    "        eval2 = f(x) + alpha*t*der_direct\n",
    "        while eval1 > eval2:\n",
    "            t=beta*t\n",
    "            eval1=f(x+t*dir_desc)\n",
    "            eval2=f(x)+alpha*t*der_direct\n",
    "    else:\n",
    "        t=-1\n",
    "    return t"
   ]
  },
  {
   "cell_type": "markdown",
   "metadata": {},
   "source": [
    "### Descenso en gradiente"
   ]
  },
  {
   "cell_type": "code",
   "execution_count": 7,
   "metadata": {},
   "outputs": [],
   "source": [
    "def compute_error(x_obj,x_approx):\n",
    "    '''\n",
    "    Relative error between x_obj and x_approx.\n",
    "    '''\n",
    "    if np.linalg.norm(x_ast) > np.nextafter(0,1):\n",
    "        Err=np.linalg.norm(x_obj-x_approx)/np.linalg.norm(x_obj)\n",
    "    else:\n",
    "        Err=np.linalg.norm(x_obj-x_approx)\n",
    "    return Err"
   ]
  },
  {
   "cell_type": "code",
   "execution_count": 8,
   "metadata": {},
   "outputs": [],
   "source": [
    "def compute_error_with_sign(x_obj,x_approx):\n",
    "    '''\n",
    "    Signed error between x_obj and x_approx.\n",
    "    '''\n",
    "    if np.linalg.norm(x_ast) > np.nextafter(0,1):\n",
    "        Err=(x_obj-x_approx)/np.linalg.norm(x_obj)\n",
    "    else:\n",
    "        Err=x_obj-x_approx\n",
    "    return Err"
   ]
  },
  {
   "cell_type": "code",
   "execution_count": 9,
   "metadata": {},
   "outputs": [],
   "source": [
    "def gradient_descent(f, x_0, tol, \n",
    "                     tol_backtracking, x_ast=None, p_ast=None, maxiter=30):\n",
    "    '''\n",
    "    Method of gradient descent to numerically approximate solution of min f.\n",
    "    Args:\n",
    "        f (lambda expression): definition of function f.\n",
    "        x_0 (array): initial point for gradient descent method.\n",
    "        tol (float): tolerance that will halt method. Controls norm of gradient of f.\n",
    "        tol_backtracking (float): tolerance that will halt method. Controls value of line search by backtracking.\n",
    "        x_ast (array): solution of min f, now it's required that user knows the solution...\n",
    "        p_ast (float): value of f(x_ast), now it's required that user knows the solution...\n",
    "        maxiter (int): maximum number of iterations\n",
    "    Returns:\n",
    "        x (array): numpy array, approximation of x_ast.\n",
    "        iteration (int): number of iterations.\n",
    "        Err_plot (array): numpy array of absolute error between p_ast and f(x) with x approximation.\n",
    "                          of x_ast. Useful for plotting.\n",
    "        x_plot (array): numpy array that containts in columns vector of approximations. Last column\n",
    "                        contains x, approximation of solution. Useful for plotting.\n",
    "    '''\n",
    "    iteration = 0\n",
    "    x = x_0\n",
    "    \n",
    "    feval = f(x)\n",
    "    gfeval = gradient_approximation(f,x)\n",
    "\n",
    "    normgf = np.linalg.norm(gfeval)\n",
    "    \n",
    "    Err_plot_aux = np.zeros(maxiter)\n",
    "    Err_plot_aux[iteration]=math.fabs(feval-p_ast)\n",
    "    \n",
    "    Err = compute_error(x_ast,x)\n",
    "    n = x.size\n",
    "    x_plot = np.zeros((n,maxiter))\n",
    "    x_plot[:,iteration] = x\n",
    "    \n",
    "    print('I    Normagf   Error x_ast   Error p_ast   line search')\n",
    "    print('{}    {:0.2e}    {:0.2e}    {:0.2e}     {}'.format(iteration,normgf,Err,Err_plot_aux[iteration],\"---\"))\n",
    "    iteration+=1\n",
    "    while(normgf>tol and iteration < maxiter):\n",
    "        dir_desc = -gfeval\n",
    "        der_direct = gfeval.dot(dir_desc)\n",
    "        t = line_search_by_backtracking(f,dir_desc,x,der_direct)\n",
    "        x = x + t*dir_desc\n",
    "        feval = f(x)\n",
    "        gfeval = gradient_approximation(f,x)\n",
    "        normgf = np.linalg.norm(gfeval)\n",
    "        Err_plot_aux[iteration] = math.fabs(feval-p_ast);\n",
    "        x_plot[:,iteration] = x\n",
    "        Err = compute_error(x_ast,x)\n",
    "        print('{}    {:0.2e}    {:0.2e}    {:0.2e}     {:0.2e}'.format(iteration,normgf,Err,\n",
    "                                                                      Err_plot_aux[iteration],t))\n",
    "        if t<tol_backtracking: #if t is less than tol_backtracking then we need to check the reason\n",
    "            iter_salida=iteration\n",
    "            iteration = maxiter\n",
    "        iteration+=1\n",
    "    print('{} {:0.2e}'.format(\"Error of x with respect to x_ast:\",Err))\n",
    "    print('{} {}'.format(\"Approximate solution:\", x))\n",
    "    cond = Err_plot_aux > np.finfo(float).eps\n",
    "    Err_plot = Err_plot_aux[cond]\n",
    "    #aux_diferencia_x_plot_aux = compute_error_with_sign(x_ast,x)\n",
    "    #cond = np.linalg.norm(aux_diferencia_x_plot_aux,axis=0) > np.nextafter(0,1)\n",
    "    #x_plot = x_plot[cond]\n",
    "    x_plot = x_plot[:,~np.all(x_plot == 0,axis=0)]\n",
    "    if iteration == maxiter and t < tol_backtracking:\n",
    "        print(\"Backtracking value less than tol_backtracking, check approximation\")\n",
    "        iteration=iter_salida\n",
    "    return [x,iteration,Err_plot,x_plot]"
   ]
  },
  {
   "cell_type": "code",
   "execution_count": 10,
   "metadata": {},
   "outputs": [
    {
     "name": "stdout",
     "output_type": "stream",
     "text": [
      "I    Normagf   Error x_ast   Error p_ast   line search\n",
      "0    8.72e+00    1.54e+00    1.90e+01     ---\n",
      "1    3.53e-07    6.10e-08    2.98e-14     5.00e-01\n",
      "2    2.14e-15    3.06e-09    7.50e-17     5.00e-01\n",
      "Error of x with respect to x_ast: 3.06e-09\n",
      "Approximate solution: [ 2.e+00  2.e+00 -5.e-09  0.e+00]\n"
     ]
    }
   ],
   "source": [
    "f = lambda x: (x[0]-2)**2 + (2-x[1])**2 + x[2]**2 + x[3]**4\n",
    "x_ast = np.array([2,2,0,0],dtype=float)\n",
    "x_0 = np.array([5,5,1,0],dtype=float)\n",
    "tol=1e-8\n",
    "tol_backtracking=1e-14\n",
    "maxiter=5\n",
    "p_ast=f(x_ast)\n",
    "[x,total_of_iterations,Err_plot,x_plot]=gradient_descent(f, x_0, tol, tol_backtracking, x_ast, p_ast, maxiter)"
   ]
  },
  {
   "cell_type": "code",
   "execution_count": 11,
   "metadata": {},
   "outputs": [
    {
     "data": {
      "text/plain": [
       "array([ 2.e+00,  2.e+00, -5.e-09,  0.e+00])"
      ]
     },
     "execution_count": 11,
     "metadata": {},
     "output_type": "execute_result"
    }
   ],
   "source": [
    "x"
   ]
  },
  {
   "cell_type": "code",
   "execution_count": 12,
   "metadata": {},
   "outputs": [
    {
     "data": {
      "text/plain": [
       "3"
      ]
     },
     "execution_count": 12,
     "metadata": {},
     "output_type": "execute_result"
    }
   ],
   "source": [
    "total_of_iterations"
   ]
  },
  {
   "cell_type": "code",
   "execution_count": 13,
   "metadata": {},
   "outputs": [
    {
     "data": {
      "text/plain": [
       "array([1.90000000e+01, 2.97654832e-14])"
      ]
     },
     "execution_count": 13,
     "metadata": {},
     "output_type": "execute_result"
    }
   ],
   "source": [
    "Err_plot"
   ]
  },
  {
   "cell_type": "code",
   "execution_count": 14,
   "metadata": {},
   "outputs": [
    {
     "data": {
      "text/plain": [
       "array([[ 5.00000000e+00,  2.00000011e+00,  2.00000000e+00],\n",
       "       [ 5.00000000e+00,  2.00000011e+00,  2.00000000e+00],\n",
       "       [ 1.00000000e+00, -8.27403711e-08, -5.00000000e-09],\n",
       "       [ 0.00000000e+00,  0.00000000e+00,  0.00000000e+00]])"
      ]
     },
     "execution_count": 14,
     "metadata": {},
     "output_type": "execute_result"
    }
   ],
   "source": [
    "x_plot"
   ]
  },
  {
   "cell_type": "code",
   "execution_count": 15,
   "metadata": {},
   "outputs": [
    {
     "data": {
      "image/png": "[encoded data removed]",
      "text/plain": [
       "<Figure size 432x288 with 1 Axes>"
      ]
     },
     "metadata": {
      "needs_background": "light"
     },
     "output_type": "display_data"
    }
   ],
   "source": [
    "plt.yscale('log')\n",
    "plt.plot(np.arange(Err_plot.size),Err_plot,'o-')\n",
    "plt.ylabel('Error of f(x) and p* in log scale')\n",
    "plt.xlabel('Iterations')\n",
    "plt.grid(True)\n",
    "plt.show()"
   ]
  },
  {
   "cell_type": "code",
   "execution_count": 16,
   "metadata": {},
   "outputs": [
    {
     "name": "stdout",
     "output_type": "stream",
     "text": [
      "I    Normagf   Error x_ast   Error p_ast   line search\n",
      "0    5.02e+00    7.07e-01    1.38e+00     ---\n",
      "1    1.32e+00    4.55e-01    1.74e-01     1.25e-01\n",
      "2    4.94e-01    3.84e-01    7.82e-02     1.25e-01\n",
      "3    5.50e-01    2.91e-01    5.22e-02     2.50e-01\n",
      "4    2.77e-01    2.51e-01    3.22e-02     1.25e-01\n",
      "5    4.85e-01    1.34e-01    1.89e-02     5.00e-01\n",
      "6    1.61e-01    1.11e-01    6.73e-03     1.25e-01\n",
      "7    1.94e-01    8.43e-02    4.94e-03     2.50e-01\n",
      "8    8.45e-02    7.23e-02    2.70e-03     1.25e-01\n",
      "9    8.53e-02    5.45e-02    1.68e-03     2.50e-01\n",
      "10    1.07e-01    4.18e-02    1.31e-03     2.50e-01\n",
      "11    4.33e-02    3.56e-02    6.61e-04     1.25e-01\n",
      "12    4.56e-02    2.69e-02    4.23e-04     2.50e-01\n",
      "13    2.51e-02    2.33e-02    2.76e-04     1.25e-01\n",
      "14    3.89e-02    1.22e-02    1.37e-04     5.00e-01\n",
      "15    1.38e-02    1.02e-02    5.62e-05     1.25e-01\n",
      "16    1.59e-02    7.77e-03    3.89e-05     2.50e-01\n",
      "17    7.54e-03    6.70e-03    2.30e-05     1.25e-01\n",
      "18    1.43e-02    3.62e-03    1.53e-05     5.00e-01\n",
      "19    4.54e-03    2.95e-03    4.89e-06     1.25e-01\n",
      "20    5.66e-03    2.26e-03    3.77e-06     2.50e-01\n",
      "21    2.32e-03    1.92e-03    1.93e-06     1.25e-01\n",
      "22    2.43e-03    1.45e-03    1.23e-06     2.50e-01\n",
      "23    1.35e-03    1.26e-03    8.06e-07     1.25e-01\n",
      "24    2.05e-03    6.60e-04    3.90e-07     5.00e-01\n",
      "25    7.37e-04    5.54e-04    1.64e-07     1.25e-01\n",
      "26    8.42e-04    4.20e-04    1.12e-07     2.50e-01\n",
      "27    4.06e-04    3.62e-04    6.71e-08     1.25e-01\n",
      "28    7.55e-04    1.95e-04    4.32e-08     5.00e-01\n",
      "29    2.42e-04    1.59e-04    1.42e-08     1.25e-01\n",
      "30    3.00e-04    1.22e-04    1.08e-08     2.50e-01\n",
      "31    1.25e-04    1.04e-04    5.63e-09     1.25e-01\n",
      "32    1.29e-04    7.86e-05    3.57e-09     2.50e-01\n",
      "33    1.65e-04    6.04e-05    2.90e-09     2.50e-01\n",
      "34    6.41e-05    5.13e-05    1.38e-09     1.25e-01\n",
      "35    6.95e-05    3.88e-05    9.04e-10     2.50e-01\n",
      "36    3.66e-05    3.36e-05    5.73e-10     1.25e-01\n",
      "37    6.04e-05    1.77e-05    3.09e-10     5.00e-01\n",
      "38    2.06e-05    1.47e-05    1.18e-10     1.25e-01\n",
      "39    2.44e-05    1.12e-05    8.43e-11     2.50e-01\n",
      "40    1.11e-05    9.64e-06    4.78e-11     1.25e-01\n",
      "41    2.23e-05    5.28e-06    3.53e-11     5.00e-01\n",
      "42    6.88e-06    4.24e-06    1.03e-11     1.25e-01\n",
      "43    8.75e-06    3.26e-06    8.35e-12     2.50e-01\n",
      "44    3.44e-06    2.77e-06    4.01e-12     1.25e-01\n",
      "45    3.70e-06    2.09e-06    2.62e-12     2.50e-01\n",
      "46    1.97e-06    1.81e-06    1.66e-12     1.25e-01\n",
      "47    3.19e-06    9.55e-07    8.91e-13     5.00e-01\n",
      "48    1.10e-06    7.92e-07    3.37e-13     1.25e-01\n",
      "49    1.29e-06    6.03e-07    2.46e-13     2.50e-01\n",
      "Error of x with respect to x_ast: 6.03e-07\n",
      "Approximate solution: [ 5.90613861e-07 -1.19699510e-07]\n"
     ]
    }
   ],
   "source": [
    "gamma_cte=10;\n",
    "f = lambda x: 1/2*(x[0]**2+gamma_cte*x[1]**2)\n",
    "x_ast=np.array([0,0],dtype=float)\n",
    "x_0 = np.array([0.5,0.5],dtype=float)\n",
    "tol=1e-8\n",
    "tol_backtracking=1e-14\n",
    "maxiter=50\n",
    "p_ast=f(x_ast)\n",
    "[x,total_of_iterations,Err_plot,x_plot]=gradient_descent(f, x_0, tol, tol_backtracking, x_ast, p_ast, maxiter)"
   ]
  },
  {
   "cell_type": "code",
   "execution_count": 17,
   "metadata": {},
   "outputs": [
    {
     "data": {
      "text/plain": [
       "array([ 5.90613861e-07, -1.19699510e-07])"
      ]
     },
     "execution_count": 17,
     "metadata": {},
     "output_type": "execute_result"
    }
   ],
   "source": [
    "x"
   ]
  },
  {
   "cell_type": "code",
   "execution_count": 18,
   "metadata": {},
   "outputs": [
    {
     "data": {
      "text/plain": [
       "50"
      ]
     },
     "execution_count": 18,
     "metadata": {},
     "output_type": "execute_result"
    }
   ],
   "source": [
    "total_of_iterations"
   ]
  },
  {
   "cell_type": "code",
   "execution_count": 19,
   "metadata": {},
   "outputs": [
    {
     "data": {
      "text/plain": [
       "(50,)"
      ]
     },
     "execution_count": 19,
     "metadata": {},
     "output_type": "execute_result"
    }
   ],
   "source": [
    "Err_plot.shape"
   ]
  },
  {
   "cell_type": "code",
   "execution_count": 26,
   "metadata": {},
   "outputs": [
    {
     "data": {
      "image/png": "[encoded data removed]",
      "text/plain": [
       "<Figure size 432x288 with 1 Axes>"
      ]
     },
     "metadata": {
      "needs_background": "light"
     },
     "output_type": "display_data"
    }
   ],
   "source": [
    "plt.yscale('log')\n",
    "plt.plot(np.arange(Err_plot.size),Err_plot,'.-')\n",
    "plt.ylabel('Error of f(x) and p* in log scale')\n",
    "plt.xlabel('Iterations')\n",
    "plt.grid(True)\n",
    "plt.show()"
   ]
  },
  {
   "cell_type": "code",
   "execution_count": 21,
   "metadata": {},
   "outputs": [
    {
     "data": {
      "text/plain": [
       "array([0.5, 0.5])"
      ]
     },
     "execution_count": 21,
     "metadata": {},
     "output_type": "execute_result"
    }
   ],
   "source": [
    "x_plot[:,0]"
   ]
  },
  {
   "cell_type": "code",
   "execution_count": 22,
   "metadata": {},
   "outputs": [
    {
     "data": {
      "text/plain": [
       "(2, 50)"
      ]
     },
     "execution_count": 22,
     "metadata": {},
     "output_type": "execute_result"
    }
   ],
   "source": [
    "x_plot.shape"
   ]
  },
  {
   "cell_type": "code",
   "execution_count": 23,
   "metadata": {},
   "outputs": [
    {
     "data": {
      "text/plain": [
       "array([1.46754534e-05, 1.44502838e-06])"
      ]
     },
     "execution_count": 23,
     "metadata": {},
     "output_type": "execute_result"
    }
   ],
   "source": [
    "x_plot[:,38]"
   ]
  },
  {
   "cell_type": "code",
   "execution_count": 24,
   "metadata": {},
   "outputs": [
    {
     "data": {
      "image/png": "[encoded data removed]",
      "text/plain": [
       "<Figure size 432x288 with 1 Axes>"
      ]
     },
     "metadata": {
      "needs_background": "light"
     },
     "output_type": "display_data"
    }
   ],
   "source": [
    "plt.plot(x_plot[0,:],x_plot[1,:],'*')\n",
    "plt.ylabel('y')\n",
    "plt.xlabel('x')\n",
    "plt.grid(True)\n",
    "plt.show()"
   ]
  },
  {
   "cell_type": "markdown",
   "metadata": {},
   "source": [
    "**Referencias:**\n",
    "\n",
    "* S. P. Boyd, L. Vandenberghe, Convex Optimization, Cambridge University Press, 2009.\n"
   ]
  }
 ],
 "metadata": {
  "kernelspec": {
   "display_name": "Python 3",
   "language": "python",
   "name": "python3"
  },
  "language_info": {
   "codemirror_mode": {
    "name": "ipython",
    "version": 3
   },
   "file_extension": ".py",
   "mimetype": "text/x-python",
   "name": "python",
   "nbconvert_exporter": "python",
   "pygments_lexer": "ipython3",
   "version": "3.6.9"
  }
 },
 "nbformat": 4,
 "nbformat_minor": 4
}
