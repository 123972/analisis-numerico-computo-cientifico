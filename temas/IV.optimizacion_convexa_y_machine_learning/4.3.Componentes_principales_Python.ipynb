{
 "cells": [
  {
   "cell_type": "markdown",
   "metadata": {},
   "source": [
    "**Notas para contenedor de docker:**"
   ]
  },
  {
   "cell_type": "markdown",
   "metadata": {},
   "source": [
    "Comando de docker para ejecución de la nota de forma local:\n",
    "\n",
    "nota: cambiar `<ruta a mi directorio>` por la ruta de directorio que se desea mapear a `/datos` dentro del contenedor de docker.\n",
    "\n",
    "```\n",
    "docker run --rm -v <ruta a mi directorio>:/datos --name jupyterlab_numerical -p 8888:8888 -d palmoreck/jupyterlab_numerical:1.1.0\n",
    "```\n",
    "\n",
    "password para jupyterlab: `qwerty`\n",
    "\n",
    "Detener el contenedor de docker:\n",
    "\n",
    "```\n",
    "docker stop jupyterlab_numerical\n",
    "```\n"
   ]
  },
  {
   "cell_type": "markdown",
   "metadata": {},
   "source": [
    "Documentación de la imagen de docker `palmoreck/jupyterlab_numerical:1.1.0` en [liga](https://github.com/palmoreck/dockerfiles/tree/master/jupyterlab/numerical)."
   ]
  },
  {
   "cell_type": "markdown",
   "metadata": {},
   "source": [
    "---"
   ]
  },
  {
   "cell_type": "markdown",
   "metadata": {},
   "source": [
    "Nota generada a partir de [liga](https://www.dropbox.com/s/dfwk0y04ksgfilv/3.5.Aplicaciones_del_algebra_lineal_numerica.pdf?dl=0)"
   ]
  },
  {
   "cell_type": "code",
   "execution_count": 1,
   "metadata": {},
   "outputs": [
    {
     "name": "stdout",
     "output_type": "stream",
     "text": [
      "\u001b[33mWARNING: You are using pip version 19.3.1; however, version 20.1 is available.\n",
      "You should consider upgrading via the 'pip install --upgrade pip' command.\u001b[0m\n"
     ]
    }
   ],
   "source": [
    "!pip3 install -q --user scikit-learn"
   ]
  },
  {
   "cell_type": "code",
   "execution_count": 1,
   "metadata": {},
   "outputs": [],
   "source": [
    "import os"
   ]
  },
  {
   "cell_type": "code",
   "execution_count": 2,
   "metadata": {},
   "outputs": [],
   "source": [
    "cur_directory = os.getcwd()"
   ]
  },
  {
   "cell_type": "code",
   "execution_count": 3,
   "metadata": {},
   "outputs": [],
   "source": [
    "dir_alg_python = '/algoritmos/Python'"
   ]
  },
  {
   "cell_type": "code",
   "execution_count": 4,
   "metadata": {},
   "outputs": [],
   "source": [
    "os.chdir(cur_directory + dir_alg_python)"
   ]
  },
  {
   "cell_type": "markdown",
   "metadata": {},
   "source": [
    "# Componentes principales"
   ]
  },
  {
   "cell_type": "markdown",
   "metadata": {},
   "source": [
    "En esta nota realizamos una descripción de las componentes principales desde la perspectiva de la descomposición en valores singulares de una matrix $X \\in \\mathbb{R}^{m \\times n}$. El **objetivo** de la nota es la descripción de los problemas de optimización numérica a resolver en componentes principales y el uso de **métodos de descenso** (ver [4.2.Algoritmos_para_UCO](https://github.com/ITAM-DS/analisis-numerico-computo-cientifico/blob/master/temas/IV.optimizacion_convexa_y_machine_learning/4.2.Algoritmos_para_UCO.ipynb)) para resolver tales problemas, en específico el **método de Newton** (ver [4.2.Metodo_de_Newton_Python](https://github.com/ITAM-DS/analisis-numerico-computo-cientifico/blob/master/temas/IV.optimizacion_convexa_y_machine_learning/4.2.Metodo_de_Newton_Python.ipynb)). Se comparan los resultados de la **clase de Python** [PCA](https://scikit-learn.org/stable/modules/generated/sklearn.decomposition.PCA.html) del paquete [scikit-learn](https://scikit-learn.org/stable/index.html) con los obtenidos en la implementación hecha por el prof en [algoritmos/Python](algoritmos/Python), en específico [algoritmos/Python/algorithms_for_uco.py](https://github.com/ITAM-DS/analisis-numerico-computo-cientifico/blob/master/temas/IV.optimizacion_convexa_y_machine_learning/algoritmos/Python/algorithms_for_uco.py) para problemas tipo UCO (Unconstrained Convex Optimization). "
   ]
  },
  {
   "cell_type": "markdown",
   "metadata": {},
   "source": [
    "Una referencia didáctica para aprender sobre componentes principales la encuentran en [making-sense-of-principal-component-analysis-eigenvectors-eigenvalues](https://stats.stackexchange.com/questions/2691/making-sense-of-principal-component-analysis-eigenvectors-eigenvalues)."
   ]
  },
  {
   "cell_type": "markdown",
   "metadata": {},
   "source": [
    "Supóngase que en cada columna de $X \\in \\mathbb{R}^{m \\times n}$ se tiene una observación de un **vector aleatorio** (tenemos $n$ vectores aleatorios de mediciones) y sea $X = U \\Sigma V^T$ la descomposición en valores singulares de $X$ (ver [3.3.d.SVD](https://github.com/ITAM-DS/analisis-numerico-computo-cientifico/blob/master/temas/III.computo_matricial/3.3.d.SVD.ipynb)). Los vectores **singulares derechos** $v_i$ (columnas de la matriz $V$) son nombrados **ejes o direcciones principales** de $X$ y el vector $z_1 = X v_1 = \\sigma u_1$ con $u_1$ vector **singular izquierdo** (primera columna de la matriz $U$) tiene **varianza muestral**:\n",
    "\n",
    "$$\\text{var}(z_1) = \\text{var}(X v_1)= \\text{var}(\\sigma u_1) = \\sigma_1^2 \\text{var}(u_1) = \\sigma_1^2 \\left [ \\frac{1}{m} \\displaystyle \\sum_{i=1}^m (u_1(i) - \\bar{u}_1)^2 \\right ]$$\n",
    "\n",
    "donde: $u_1(i)$ es la $i$-ésima componente de $u_1$ y $\\sigma_1$ es el máximo valor singular de $X$ también denotado como $\\sigma_{\\text{max}}$."
   ]
  },
  {
   "cell_type": "markdown",
   "metadata": {},
   "source": [
    "**Comentarios:**\n",
    "\n",
    "\n",
    "\n",
    "Si la media de cada columna de $X$ es cero, $X$ se nombra **centrada**, entonces:\n",
    "\n",
    "* $z_1$ tiene la **máxima varianza muestral** entre todas las combinaciones lineales de las columnas de $X$ pues:\n",
    "\n",
    "$$\\text{var}(z_1) = \\frac{\\sigma_1^2}{m} \\displaystyle \\sum_{i=1}^m u_1(i)^2 = \\frac{\\sigma_1^2}{m} ||u_1||_2^2 = \\frac{\\sigma_1^2}{m}.$$\n",
    "\n",
    "* $z_1$ es la **primera componente principal** y el vector $u_1 = \\frac{1}{\\sigma_1}z_1 = \\frac{1}{\\sigma_1}Xv_1$ se le nombra **primera componente principal normalizada**. El vector $v_1$ es la **primera dirección principal** de $X$ o también nombrada ***loading***. \n",
    "\n",
    "\n"
   ]
  },
  {
   "cell_type": "markdown",
   "metadata": {},
   "source": [
    "* Calcular el vector con máxima varianza muestral implica resolver el problema de **optimización numérica**:\n",
    "\n",
    "$$\\displaystyle \\max_{v \\in \\mathbb{R}^n - \\{0\\}} \\frac{v^TX^TXv}{v^Tv}$$\n",
    "\n",
    "el cual tiene solución cerrada dada por: $\\sigma_1^2 = \\displaystyle \\max_{v \\in \\mathbb{R}^n - \\{0\\}} \\frac{v^TX^TXv}{v^Tv}$, $v_1 = \\text{argmax}_{v \\in \\mathbb{R}^n - \\{0\\}} \\frac{v^TX^TXv}{v^Tv}$ (primera columna de $V$). \n"
   ]
  },
  {
   "cell_type": "markdown",
   "metadata": {},
   "source": [
    "* La segunda componente principal $z_2$ es aquella que tiene la máxima varianza muestral entre todas las combinaciones lineales de las columnas de $X$ y que es **ortogonal**, o equivalentemente que tenga covarianza igual a cero, con $z_1$. Este problema se escribe como:\n",
    "\n",
    "$$\\displaystyle \\max_{v \\in \\mathbb{R}^n - \\{0\\}} \\frac{v^TX^TXv}{v^Tv}$$\n",
    "\n"
   ]
  },
  {
   "cell_type": "markdown",
   "metadata": {},
   "source": [
    "$$\\text{sujeto a: } v^Tv_1 =0$$"
   ]
  },
  {
   "cell_type": "markdown",
   "metadata": {},
   "source": [
    "con $v_1$ la primera dirección principal de $X$. La solución al problema anterior está dada por: $\\sigma_2^2 = \\displaystyle \\max_{v \\in \\mathbb{R}^n - \\{0\\}} \\frac{v^TX^TXv}{v^Tv}$, $v_2 = \\text{argmax}_{v \\in \\mathbb{R}^n - \\{0\\}} \\frac{v^TX^TXv}{v^Tv}$ (segunda columna de $V$). \n"
   ]
  },
  {
   "cell_type": "markdown",
   "metadata": {},
   "source": [
    "* La **matriz de correlaciones entre cada componente principal normalizada $u$'s y cada columna de $X$** es:\n",
    "\n",
    "$$ C = \\left (\\frac{\\sigma_1}{\\sqrt{m}} v_1 \\quad \\frac{\\sigma_2}{\\sqrt{m}} v_2 \\cdots \\quad \\frac{\\sigma_n}{\\sqrt{m}} v_n \\right) \\in \\mathbb{R}^{n \\times n}$$\n",
    "\n",
    "pues si $x_1$ es la primer columna de $X$ entonces:\n",
    "\n"
   ]
  },
  {
   "cell_type": "markdown",
   "metadata": {},
   "source": [
    "$$\n",
    "\\begin{eqnarray}\n",
    "\\text{cov}(x_1,u_1) = \\text{cov} \\left ( \\displaystyle \\sum_{k=1}^n \\sigma_k v_k(1) u_k, u_1 \\right ) &=& \\displaystyle \\sum_{k=1}^n \\text{cov} ( \\sigma_k v_k(1) u_k, u_1 ) \\nonumber \\\\\n",
    "&=& \\displaystyle \\sum_{k=1}^n \\sigma_k v_k(1) \\text{cov} (u_k, u_1) \\nonumber \\\\\n",
    "&=& \\sigma_1 v_1(1) \\text{var}(u_1) \\nonumber \\\\\n",
    "&=& \\frac{\\sigma_1 v_1(1)}{m} \\sum_{i=1}^m u_1(i)^2 \\nonumber \\\\\n",
    "&=& \\frac{\\sigma_1 v_1(1)}{m} \\nonumber\n",
    "\\end{eqnarray}\n",
    "$$"
   ]
  },
  {
   "cell_type": "markdown",
   "metadata": {},
   "source": [
    "Y como $\\text{cor}(x_1,u_1) = \\frac{\\text{cov}(x_1,u_1)}{\\sqrt{\\text{var}(x_1)} \\sqrt{\\text{var}(u_1)}}$ se tiene:\n",
    "\n",
    "$$\\text{cor}(x_1,u_1) = \\frac{\\frac{\\sigma_1 v_1(1)}{m}}{1 \\cdot \\sqrt{\\frac{1}{m}}}  = \\frac{\\sigma_1 v_1(1)}{\\sqrt{m}} $$"
   ]
  },
  {
   "cell_type": "markdown",
   "metadata": {},
   "source": [
    "* **Cociente de varianza explicada** para cada componente es el número:\n",
    "\n",
    "$$\\frac{\\sigma_i^2}{\\displaystyle \\sum_{i=1}^p \\sigma_i^2}$$\n",
    "\n",
    "con $p = \\min(m,n)$."
   ]
  },
  {
   "cell_type": "markdown",
   "metadata": {},
   "source": [
    "**Obs:** la matriz $\\frac{1}{m}X^TX$ es la matriz de **varianzas y covarianzas muestral** la cual **siempre** es una matriz simétrica positiva semidefinida (aún si la $X$ no es centrada). Si $X$ además de ser centrada cumple que la varianza de cada una de sus columnas es $1$, $X$ se nombra **estandarizada**. La matriz $\\frac{1}{m}X^TX$ en este caso es la matriz de **correlaciones muestral**. "
   ]
  },
  {
   "cell_type": "markdown",
   "metadata": {},
   "source": [
    "## ¿Métodos numéricos para calcular las componentes principales?\n",
    "\n",
    "Como se describió en la sección anterior, las componentes principales tienen una relación directa con la descomposición en valores singulares de $X$. Así, los métodos numéricos para su cómputo involucran métodos para calcular la SVD como son:\n",
    "\n",
    "* Algoritmo de Jacobi one sided, ver [3.3.d.SVD](https://github.com/ITAM-DS/analisis-numerico-computo-cientifico/blob/master/temas/III.computo_matricial/3.3.d.SVD.ipynb) y [ex-modulo-3-comp-matricial-svd-czammar](https://github.com/mno-2020-gh-classroom/ex-modulo-3-comp-matricial-svd-czammar) para una implementación.\n",
    "\n",
    "* [Bidiagonalización](https://en.wikipedia.org/wiki/Bidiagonalization). \n",
    "\n",
    "* [Método de la potencia](https://en.wikipedia.org/wiki/Power_iteration) en el que se utiliza el **[cociente de Rayleigh](https://en.wikipedia.org/wiki/Rayleigh_quotient)** para acelerar convergencia. Tal cociente toma la forma $\\frac{y^TAy}{y^Ty}$ para $y \\neq 0$.\n",
    "\n",
    "* [Algoritmo QR](https://en.wikipedia.org/wiki/QR_algorithm) basada en la factorización QR, ver [3.3.c.Factorizacion_QR](https://github.com/ITAM-DS/analisis-numerico-computo-cientifico/blob/master/temas/III.computo_matricial/3.3.c.Factorizacion_QR.ipynb) y [ex-modulo-3-comp-matricial-qr-dapivei](https://github.com/mno-2020-gh-classroom/ex-modulo-3-comp-matricial-qr-dapivei) para una implementación.\n",
    "\n",
    "* Métodos de descenso aplicados a problemas de optimización. Recuérdese que en los problemas de optimización convexa sin restricciones (Unconstrained Convex Optimization, ver [4.2.Algoritmos_para_UCO](https://github.com/ITAM-DS/analisis-numerico-computo-cientifico/blob/master/temas/IV.optimizacion_convexa_y_machine_learning/4.2.Algoritmos_para_UCO.ipynb)) se resuelven problemas de minimización, sin embargo con una modificación sencilla podemos resolver problemas de maximización.\n",
    "\n",
    "\n",
    "* Para casos particulares como una matriz $X$ *sparse* o rala (gran cantidad de ceros) se utilizan algoritmos como [**Lanczos Golub Kahan bidiagonalization**](http://www.netlib.org/utk/people/JackDongarra/etemplates/node198.html) que forma parte de una amplia clases de métodos nombrados [**Krylov subspace methods**](https://en.wikipedia.org/wiki/Krylov_subspace) y el algoritmo de [**tridiagonalización Lanczos**](https://en.wikipedia.org/wiki/Lanczos_algorithm)."
   ]
  },
  {
   "cell_type": "markdown",
   "metadata": {},
   "source": [
    "## Método de descenso para cálculo de las componentes principales de $X \\in \\mathbb{R}^{m \\times n}$"
   ]
  },
  {
   "cell_type": "markdown",
   "metadata": {},
   "source": [
    "En esta sección utilizamos el método de descenso por la dirección de Newton, ver [4.2.Metodo_de_Newton_Python](https://github.com/ITAM-DS/analisis-numerico-computo-cientifico/blob/master/temas/IV.optimizacion_convexa_y_machine_learning/4.2.Metodo_de_Newton_Python.ipynb), para el cálculo de las componentes principales de la matriz $X \\in \\mathbb{R}^{m \\times n}$ y se comparan los resultados con la clase [PCA](https://scikit-learn.org/stable/modules/generated/sklearn.decomposition.PCA.html) del paquete [scikit-learn](https://scikit-learn.org/stable/index.html) de Python. \n",
    "\n"
   ]
  },
  {
   "cell_type": "markdown",
   "metadata": {},
   "source": [
    "Construyamos una matriz $X \\in \\mathbb{R}^{m \\times n}$ ejemplo y caculemos sus primeras dos componentes principales vía `scikit-learn`:"
   ]
  },
  {
   "cell_type": "code",
   "execution_count": 5,
   "metadata": {},
   "outputs": [],
   "source": [
    "import math\n",
    "\n",
    "import numpy as np\n",
    "import pandas as pd\n",
    "import matplotlib.pyplot as plt\n",
    "\n",
    "from sklearn.decomposition import PCA\n",
    "\n",
    "from utils import compute_error\n"
   ]
  },
  {
   "cell_type": "code",
   "execution_count": 6,
   "metadata": {},
   "outputs": [],
   "source": [
    "np.random.seed(2020)\n",
    "mpoints=200\n",
    "X = (np.random.rand(2,2)@np.random.normal(0,1,(2,mpoints))).T"
   ]
  },
  {
   "cell_type": "code",
   "execution_count": 7,
   "metadata": {},
   "outputs": [
    {
     "data": {
      "text/plain": [
       "(200, 2)"
      ]
     },
     "execution_count": 7,
     "metadata": {},
     "output_type": "execute_result"
    }
   ],
   "source": [
    "X.shape"
   ]
  },
  {
   "cell_type": "code",
   "execution_count": 8,
   "metadata": {},
   "outputs": [
    {
     "data": {
      "image/png": "[encoded data removed]",
      "text/plain": [
       "<Figure size 432x288 with 1 Axes>"
      ]
     },
     "metadata": {
      "needs_background": "light"
     },
     "output_type": "display_data"
    }
   ],
   "source": [
    "plt.scatter(X[:, 0], X[:, 1])\n",
    "plt.grid()\n",
    "plt.axis('equal');"
   ]
  },
  {
   "cell_type": "code",
   "execution_count": 9,
   "metadata": {},
   "outputs": [
    {
     "data": {
      "text/plain": [
       "PCA(n_components=2, svd_solver='full')"
      ]
     },
     "execution_count": 9,
     "metadata": {},
     "output_type": "execute_result"
    }
   ],
   "source": [
    "pca = PCA(n_components=2,svd_solver='full')\n",
    "pca.fit(X)"
   ]
  },
  {
   "cell_type": "markdown",
   "metadata": {},
   "source": [
    "**Direcciones o ejes principales**:"
   ]
  },
  {
   "cell_type": "code",
   "execution_count": 10,
   "metadata": {},
   "outputs": [
    {
     "name": "stdout",
     "output_type": "stream",
     "text": [
      "[[ 0.91945871  0.39318658]\n",
      " [ 0.39318658 -0.91945871]]\n"
     ]
    }
   ],
   "source": [
    "print(pca.components_)"
   ]
  },
  {
   "cell_type": "markdown",
   "metadata": {},
   "source": [
    "**Varianza explicada por cada componente (primera posición para la primera componente):**"
   ]
  },
  {
   "cell_type": "code",
   "execution_count": 11,
   "metadata": {},
   "outputs": [
    {
     "name": "stdout",
     "output_type": "stream",
     "text": [
      "[0.99029474 0.00970526]\n"
     ]
    }
   ],
   "source": [
    "print(pca.explained_variance_ratio_)"
   ]
  },
  {
   "cell_type": "markdown",
   "metadata": {},
   "source": [
    "**Valores singulares de la matriz $X$:**"
   ]
  },
  {
   "cell_type": "code",
   "execution_count": 12,
   "metadata": {},
   "outputs": [
    {
     "data": {
      "text/plain": [
       "array([18.68043742,  1.84930434])"
      ]
     },
     "execution_count": 12,
     "metadata": {},
     "output_type": "execute_result"
    }
   ],
   "source": [
    "pca.singular_values_"
   ]
  },
  {
   "cell_type": "markdown",
   "metadata": {},
   "source": [
    "**Componentes principales con el método [transform](https://scikit-learn.org/stable/modules/generated/sklearn.decomposition.PCA.html#sklearn.decomposition.PCA.transform) de `scikit-learn.PCA`:**"
   ]
  },
  {
   "cell_type": "code",
   "execution_count": 13,
   "metadata": {},
   "outputs": [],
   "source": [
    "z = pca.transform(X)"
   ]
  },
  {
   "cell_type": "code",
   "execution_count": 14,
   "metadata": {},
   "outputs": [
    {
     "data": {
      "text/plain": [
       "(200, 2)"
      ]
     },
     "execution_count": 14,
     "metadata": {},
     "output_type": "execute_result"
    }
   ],
   "source": [
    "z.shape"
   ]
  },
  {
   "cell_type": "markdown",
   "metadata": {},
   "source": [
    "**Primera componente:**"
   ]
  },
  {
   "cell_type": "code",
   "execution_count": 15,
   "metadata": {},
   "outputs": [],
   "source": [
    "z1 = z[:,0]"
   ]
  },
  {
   "cell_type": "code",
   "execution_count": 16,
   "metadata": {},
   "outputs": [
    {
     "data": {
      "text/plain": [
       "array([-0.73286192, -0.10931069, -0.5294992 , -1.62049625, -0.55137898,\n",
       "        0.42135363,  0.07424362, -0.29822525, -1.73357019, -0.56416428])"
      ]
     },
     "execution_count": 16,
     "metadata": {},
     "output_type": "execute_result"
    }
   ],
   "source": [
    "z1[0:10]"
   ]
  },
  {
   "cell_type": "markdown",
   "metadata": {},
   "source": [
    "**Segunda componente:**"
   ]
  },
  {
   "cell_type": "code",
   "execution_count": 17,
   "metadata": {},
   "outputs": [],
   "source": [
    "z2 = z[:,1]"
   ]
  },
  {
   "cell_type": "code",
   "execution_count": 18,
   "metadata": {},
   "outputs": [
    {
     "data": {
      "text/plain": [
       "array([ 0.14574216,  0.11652276,  0.12040267,  0.08249224, -0.0437718 ,\n",
       "        0.03168412, -0.07123458,  0.08183026, -0.02113837, -0.31235302])"
      ]
     },
     "execution_count": 18,
     "metadata": {},
     "output_type": "execute_result"
    }
   ],
   "source": [
    "z2[0:10]"
   ]
  },
  {
   "cell_type": "markdown",
   "metadata": {},
   "source": [
    "### Usemos el método de [SVD](https://numpy.org/doc/stable/reference/generated/numpy.linalg.svd.html#numpy.linalg.svd) del paquete `numpy` para revisar lo que nos devuelve y observar que son iguales sus resultados:"
   ]
  },
  {
   "cell_type": "markdown",
   "metadata": {},
   "source": [
    "Primero centramos a la $X$:"
   ]
  },
  {
   "cell_type": "code",
   "execution_count": 19,
   "metadata": {},
   "outputs": [],
   "source": [
    "X_centered = X - X.mean(axis=0)"
   ]
  },
  {
   "cell_type": "markdown",
   "metadata": {},
   "source": [
    "No olvidemos que el método de `numpy` nos devuelve $V^T$ y no $V$:"
   ]
  },
  {
   "cell_type": "code",
   "execution_count": 20,
   "metadata": {},
   "outputs": [],
   "source": [
    "u,s,vt = np.linalg.svd(X_centered)"
   ]
  },
  {
   "cell_type": "markdown",
   "metadata": {},
   "source": [
    "**Los valores singulares están dados por la diagonal de $\\Sigma$:**"
   ]
  },
  {
   "cell_type": "code",
   "execution_count": 21,
   "metadata": {},
   "outputs": [
    {
     "data": {
      "text/plain": [
       "0.0"
      ]
     },
     "execution_count": 21,
     "metadata": {},
     "output_type": "execute_result"
    }
   ],
   "source": [
    "compute_error(pca.singular_values_,s)"
   ]
  },
  {
   "cell_type": "markdown",
   "metadata": {},
   "source": [
    "**Las direcciones principales están dadas por las columnas de $V$ (salvo signos positivos o negativos):**"
   ]
  },
  {
   "cell_type": "code",
   "execution_count": 22,
   "metadata": {},
   "outputs": [
    {
     "data": {
      "text/plain": [
       "0.0"
      ]
     },
     "execution_count": 22,
     "metadata": {},
     "output_type": "execute_result"
    }
   ],
   "source": [
    "compute_error(np.abs(pca.components_[0,:]),np.abs(vt.T[:,0]), )"
   ]
  },
  {
   "cell_type": "code",
   "execution_count": 23,
   "metadata": {},
   "outputs": [
    {
     "data": {
      "text/plain": [
       "0.0"
      ]
     },
     "execution_count": 23,
     "metadata": {},
     "output_type": "execute_result"
    }
   ],
   "source": [
    "compute_error(np.abs(pca.components_[1,:]),np.abs(vt.T[:,1]))"
   ]
  },
  {
   "cell_type": "markdown",
   "metadata": {},
   "source": [
    "**Las componentes principales están dadas por la multiplicación matricial $XV$ (salvo signos positivos o negativos):**"
   ]
  },
  {
   "cell_type": "code",
   "execution_count": 24,
   "metadata": {},
   "outputs": [],
   "source": [
    "z_manual = X_centered@(vt.T)"
   ]
  },
  {
   "cell_type": "code",
   "execution_count": 25,
   "metadata": {},
   "outputs": [],
   "source": [
    "z1_manual = z_manual[:,0]"
   ]
  },
  {
   "cell_type": "code",
   "execution_count": 26,
   "metadata": {},
   "outputs": [
    {
     "data": {
      "text/plain": [
       "0.0"
      ]
     },
     "execution_count": 26,
     "metadata": {},
     "output_type": "execute_result"
    }
   ],
   "source": [
    "compute_error(np.abs(z1), np.abs(z1_manual))"
   ]
  },
  {
   "cell_type": "code",
   "execution_count": 27,
   "metadata": {},
   "outputs": [],
   "source": [
    "z2_manual = z_manual[:,1]"
   ]
  },
  {
   "cell_type": "code",
   "execution_count": 28,
   "metadata": {},
   "outputs": [
    {
     "data": {
      "text/plain": [
       "0.0"
      ]
     },
     "execution_count": 28,
     "metadata": {},
     "output_type": "execute_result"
    }
   ],
   "source": [
    "compute_error(np.abs(z2), np.abs(z2_manual))"
   ]
  },
  {
   "cell_type": "markdown",
   "metadata": {},
   "source": [
    "**También podemos hacer la multiplicación $\\sigma u$ (salvo signos positivos o negativos):**"
   ]
  },
  {
   "cell_type": "code",
   "execution_count": 29,
   "metadata": {},
   "outputs": [],
   "source": [
    "z1_manual_2 = s[0]*u[:,0]"
   ]
  },
  {
   "cell_type": "code",
   "execution_count": 30,
   "metadata": {},
   "outputs": [
    {
     "data": {
      "text/plain": [
       "1.9464829572357458e-16"
      ]
     },
     "execution_count": 30,
     "metadata": {},
     "output_type": "execute_result"
    }
   ],
   "source": [
    "compute_error(np.abs(z1), np.abs(z1_manual_2))"
   ]
  },
  {
   "cell_type": "code",
   "execution_count": 31,
   "metadata": {},
   "outputs": [],
   "source": [
    "z2_manual_2 = s[1]*u[:,1]"
   ]
  },
  {
   "cell_type": "code",
   "execution_count": 32,
   "metadata": {},
   "outputs": [
    {
     "data": {
      "text/plain": [
       "8.325711703152575e-16"
      ]
     },
     "execution_count": 32,
     "metadata": {},
     "output_type": "execute_result"
    }
   ],
   "source": [
    "compute_error(np.abs(z2), np.abs(z2_manual_2))"
   ]
  },
  {
   "cell_type": "markdown",
   "metadata": {},
   "source": [
    "**La varianza explicada está dada por los valores singulares al cuadrado divididos por la suma de éstos al cuadrado:**"
   ]
  },
  {
   "cell_type": "code",
   "execution_count": 33,
   "metadata": {},
   "outputs": [
    {
     "data": {
      "text/plain": [
       "1.1211036265724342e-16"
      ]
     },
     "execution_count": 33,
     "metadata": {},
     "output_type": "execute_result"
    }
   ],
   "source": [
    "compute_error(pca.explained_variance_ratio_[0], s[0]**2/np.sum(s**2))"
   ]
  },
  {
   "cell_type": "code",
   "execution_count": 34,
   "metadata": {},
   "outputs": [
    {
     "data": {
      "text/plain": [
       "1.7874055033366329e-16"
      ]
     },
     "execution_count": 34,
     "metadata": {},
     "output_type": "execute_result"
    }
   ],
   "source": [
    "compute_error(pca.explained_variance_ratio_[1], s[1]**2/np.sum(s**2))"
   ]
  },
  {
   "cell_type": "markdown",
   "metadata": {},
   "source": [
    "## Problema de optimización"
   ]
  },
  {
   "cell_type": "markdown",
   "metadata": {},
   "source": [
    "El problema de optimización como se planteó al inicio es de la forma:\n",
    "\n",
    "$$\\displaystyle \\max_{v \\in \\mathbb{R}^n - \\{0\\}} \\frac{v^TX^TXv}{v^Tv}$$\n",
    "\n",
    "el cual es equivalente a:"
   ]
  },
  {
   "cell_type": "markdown",
   "metadata": {},
   "source": [
    "$$\\displaystyle \\max_{v \\in \\mathbb{R}^n} v^TX^TX v$$"
   ]
  },
  {
   "cell_type": "markdown",
   "metadata": {},
   "source": [
    "$$\\text{sujeto a}: v^T v = 1$$\n",
    "\n",
    "pues se puede asociar $\\frac{Xv}{v}$ como $X\\hat{v}$ y definir la restricción igual a $1$ anterior."
   ]
  },
  {
   "cell_type": "markdown",
   "metadata": {},
   "source": [
    "Como **primer enfoque** aproximamos a $v_p$ y $\\sigma_p$ con $p=\\min(m,n)$."
   ]
  },
  {
   "cell_type": "markdown",
   "metadata": {},
   "source": [
    "## Mínimo valor singular"
   ]
  },
  {
   "cell_type": "markdown",
   "metadata": {},
   "source": [
    "**La función objetivo para el mínimo valor singular elevado al cuadrado, $\\sigma_{\\text{min}}^2$, es**:\n",
    "\n",
    "$$\\displaystyle \\min_{v \\in \\mathbb{R}^n - \\{0\\}} \\frac{v^TX^TXv}{v^Tv}$$"
   ]
  },
  {
   "cell_type": "markdown",
   "metadata": {},
   "source": [
    "que es equivalente a:\n",
    "\n",
    "$$\\displaystyle \\min_{v \\in \\mathbb{R}^n} v^TX^TXv$$\n"
   ]
  },
  {
   "cell_type": "markdown",
   "metadata": {},
   "source": [
    "$$\\text{sujeto a}: v^T v = 1.$$"
   ]
  },
  {
   "cell_type": "markdown",
   "metadata": {},
   "source": [
    "cuya solución es $\\lambda_\\text{min}(X^TX)$ y representa el mínimo eigenvalor de $X^TX$ que es igual a $\\sigma_{\\text{min}}^2$ (mínimo valor singular de $X$ elevado al cuadrado)."
   ]
  },
  {
   "cell_type": "markdown",
   "metadata": {},
   "source": [
    "**Obs:** obsérvese que el problema anterior es un problema con **función convexa** y con restricciones (ver el apéndice de definiciones para funciones convexas de [4.1.Optimizacion_numerica_y_machine_learning](https://github.com/ITAM-DS/analisis-numerico-computo-cientifico/blob/master/temas/IV.optimizacion_convexa_y_machine_learning/4.1.Optimizacion_numerica_y_machine_learning.ipynb)). Sin embargo puede reformularse para preservar la convexidad y no tener restricciones, de esta forma utilizaremos algoritmos para problemas convexos sin restricciones (Unconstrained Convex Optimization) revisados en [4.2.Algoritmos_para_UCO](https://github.com/ITAM-DS/analisis-numerico-computo-cientifico/blob/master/temas/IV.optimizacion_convexa_y_machine_learning/4.2.Algoritmos_para_UCO.ipynb). El problema convexo sin restricciones es:"
   ]
  },
  {
   "cell_type": "markdown",
   "metadata": {},
   "source": [
    "\n",
    "$$\\displaystyle \\min_{v \\in \\mathbb{R}^n, \\lambda \\in \\mathbb{R}} \\frac{1}{2}(v^TX^TXv - \\lambda(v^Tv-1)).$$"
   ]
  },
  {
   "cell_type": "markdown",
   "metadata": {},
   "source": [
    "El problema anterior es equivalente al planteado al inicio pues si $f_o(v, \\lambda)$ es la función objetivo, entonces:\n",
    "\n",
    "$$\\nabla f_o(v,\\lambda) = \n",
    "\\left[\n",
    "\\begin{array}{c}\n",
    "X^TX v - \\lambda v \\\\\n",
    "-\\frac{1}{2}(v^Tv-1)\n",
    "\\end{array}\n",
    "\\right]\n",
    "$$"
   ]
  },
  {
   "cell_type": "markdown",
   "metadata": {},
   "source": [
    "y si igualamos a cero esta ecuación se tiene:\n",
    "\n",
    "$$\\nabla f_o(v,\\lambda) = \n",
    "\\left[\n",
    "\\begin{array}{c}\n",
    "X^TX v - \\lambda v \\\\\n",
    "-\\frac{1}{2}(v^Tv-1)\n",
    "\\end{array}\n",
    "\\right] = 0.\n",
    "$$\n",
    "\n",
    "**Obs:** obsérvese que la variable de optimización es el vector $(v, \\lambda) \\in \\mathbb{R}^{n+1}$."
   ]
  },
  {
   "cell_type": "markdown",
   "metadata": {},
   "source": [
    "La ecuación anterior implica: $X^TXv = \\lambda v$ y también $v^Tv = 1$ por lo que $(v, \\lambda)$ es una pareja (eigenvector, eigenvalor) de la matriz $X^TX$, de hecho el eigenvector tiene norma $1$. Como queremos minimizar $f_o(v,\\lambda)$ entonces el óptimo será $\\lambda_\\text{min}(X^TX)$ con $v_{\\lambda\\text{min}}$ eigenvector asociado. Así, aproximaremos a $\\sigma_{\\text{min}}^2$."
   ]
  },
  {
   "cell_type": "markdown",
   "metadata": {},
   "source": [
    "**Comentario:** La formulación anterior tiene una matriz Hessiana dada por la expresión: \n",
    "\n",
    "$$\\nabla^2 f_o(v,\\lambda) = \\left [ \n",
    "\\begin{array}{cc}\n",
    "X^TX - \\lambda I & -v \\\\\n",
    "-v^T & 0\n",
    "\\end{array}\n",
    "\\right ]\n",
    "$$\n",
    "\n",
    "la cual involucra a la matriz $X^TX$. **Por este motivo las aproximaciones numéricas que realicemos con este enfoque serán altamente sensibles al número de condición de $X$ y por tanto de $X^TX$.**"
   ]
  },
  {
   "cell_type": "markdown",
   "metadata": {},
   "source": [
    "### Método de Newton aplicado al problema anterior"
   ]
  },
  {
   "cell_type": "code",
   "execution_count": 35,
   "metadata": {},
   "outputs": [],
   "source": [
    "import algorithms_for_uco"
   ]
  },
  {
   "cell_type": "markdown",
   "metadata": {},
   "source": [
    "**Función objetivo (que considera a la matriz $X$ centrada):**"
   ]
  },
  {
   "cell_type": "code",
   "execution_count": 36,
   "metadata": {},
   "outputs": [],
   "source": [
    "def fo(x):\n",
    "    v = x[0:(x.size-1)]\n",
    "    value = x[x.size-1]\n",
    "    matvec = X_centered@v\n",
    "    return 1/2*(matvec.dot(matvec)-value*(v.dot(v)-1))"
   ]
  },
  {
   "cell_type": "markdown",
   "metadata": {},
   "source": [
    "**Obs:** También podríamos haber definido a la función objetivo con el siguiente código:\n",
    "\n",
    "```\n",
    "def fo(x):\n",
    "    v = x[0:(x.size-1)]\n",
    "    value = x[x.size-1]\n",
    "    m,n=X_centered.shape\n",
    "    cov = (m-1)*np.cov(X_centered, rowvar=False)\n",
    "    return 1/2*(v.dot(cov@v)-value*(v.dot(v)-1))\n",
    "```\n",
    "donde estamos usando a la **matriz de varianzas y covarianzas** dada por la variable `cov`."
   ]
  },
  {
   "cell_type": "code",
   "execution_count": 37,
   "metadata": {},
   "outputs": [],
   "source": [
    "x_ast=np.concatenate((pca.components_[:,1],np.array([pca.singular_values_[1]**2])))"
   ]
  },
  {
   "cell_type": "markdown",
   "metadata": {},
   "source": [
    "**$x^*$:**"
   ]
  },
  {
   "cell_type": "code",
   "execution_count": 38,
   "metadata": {},
   "outputs": [
    {
     "data": {
      "text/plain": [
       "array([ 0.39318658, -0.91945871,  3.41992653])"
      ]
     },
     "execution_count": 38,
     "metadata": {},
     "output_type": "execute_result"
    }
   ],
   "source": [
    "x_ast"
   ]
  },
  {
   "cell_type": "markdown",
   "metadata": {},
   "source": [
    "**Punto inicial $x^{(0)}$:**"
   ]
  },
  {
   "cell_type": "code",
   "execution_count": 39,
   "metadata": {},
   "outputs": [],
   "source": [
    "x_0 = np.array([1,0,5],dtype=float)"
   ]
  },
  {
   "cell_type": "code",
   "execution_count": 40,
   "metadata": {},
   "outputs": [
    {
     "data": {
      "text/plain": [
       "array([1., 0., 5.])"
      ]
     },
     "execution_count": 40,
     "metadata": {},
     "output_type": "execute_result"
    }
   ],
   "source": [
    "x_0"
   ]
  },
  {
   "cell_type": "markdown",
   "metadata": {},
   "source": [
    "**Valor óptimo $p^*$:**"
   ]
  },
  {
   "cell_type": "code",
   "execution_count": 41,
   "metadata": {},
   "outputs": [],
   "source": [
    "p_ast=fo(x_ast)"
   ]
  },
  {
   "cell_type": "code",
   "execution_count": 42,
   "metadata": {},
   "outputs": [
    {
     "data": {
      "text/plain": [
       "1.7099632626913723"
      ]
     },
     "execution_count": 42,
     "metadata": {},
     "output_type": "execute_result"
    }
   ],
   "source": [
    "p_ast"
   ]
  },
  {
   "cell_type": "markdown",
   "metadata": {},
   "source": [
    "**Argumentos para el método de Newton:**\n"
   ]
  },
  {
   "cell_type": "code",
   "execution_count": 43,
   "metadata": {},
   "outputs": [],
   "source": [
    "tol=1e-8\n",
    "tol_backtracking=1e-14\n",
    "maxiter=50\n"
   ]
  },
  {
   "cell_type": "code",
   "execution_count": 44,
   "metadata": {},
   "outputs": [
    {
     "name": "stdout",
     "output_type": "stream",
     "text": [
      "I\tNormgf \tNewton Decrement\tError x_ast\tError p_ast\tline search\tCondHf\n",
      "0\t3.16e+02\t3.01e+02\t5.41e-01\t8.54e+01\t---\t\t3.60e+03\n",
      "1\t2.45e+01\t3.91e+01\t2.43e+00\t1.45e+01\t1.00e+00\t4.81e+02\n",
      "2\t5.46e+00\t3.87e+00\t1.03e+00\t1.31e+00\t1.00e+00\t6.50e+02\n",
      "3\t1.09e+00\t1.64e-01\t2.83e-01\t4.96e-02\t1.00e+00\t5.02e+02\n",
      "4\t7.29e-02\t4.43e-04\t2.04e-02\t1.30e-04\t1.00e+00\t3.57e+02\n",
      "5\t2.17e-04\t1.97e-09\t6.07e-05\t5.77e-10\t1.00e+00\t3.46e+02\n",
      "Error of x with respect to x_ast: 6.07e-05\n",
      "Approximate solution: [ 0.39318841 -0.91946288  3.41971024]\n"
     ]
    }
   ],
   "source": [
    "[x,total_of_iterations,Err_plot,x_plot]=algorithms_for_uco.Newtons_method(fo, x_0,tol, \n",
    "                                                       tol_backtracking, x_ast, p_ast, maxiter)"
   ]
  },
  {
   "cell_type": "markdown",
   "metadata": {},
   "source": [
    "**$x$ aproximada por el método de Newton:**"
   ]
  },
  {
   "cell_type": "code",
   "execution_count": 45,
   "metadata": {},
   "outputs": [
    {
     "data": {
      "text/plain": [
       "array([ 0.39318841, -0.91946288,  3.41971024])"
      ]
     },
     "execution_count": 45,
     "metadata": {},
     "output_type": "execute_result"
    }
   ],
   "source": [
    "x"
   ]
  },
  {
   "cell_type": "markdown",
   "metadata": {},
   "source": [
    "**$x^*$:**"
   ]
  },
  {
   "cell_type": "code",
   "execution_count": 46,
   "metadata": {},
   "outputs": [
    {
     "data": {
      "text/plain": [
       "array([ 0.39318658, -0.91945871,  3.41992653])"
      ]
     },
     "execution_count": 46,
     "metadata": {},
     "output_type": "execute_result"
    }
   ],
   "source": [
    "x_ast"
   ]
  },
  {
   "cell_type": "markdown",
   "metadata": {},
   "source": [
    "El valor singular $\\sigma_{\\text{min}}$ es la raíz cuadrada del eigenvalor mínimo de $X^TX$, $\\sqrt{\\lambda_{\\text{min}}(X^TX)}$, que acabamos de calcular y para este ejemplo está en la entrada $3$ del `array` $x$:"
   ]
  },
  {
   "cell_type": "code",
   "execution_count": 47,
   "metadata": {},
   "outputs": [
    {
     "data": {
      "text/plain": [
       "1.8492458564827692"
      ]
     },
     "execution_count": 47,
     "metadata": {},
     "output_type": "execute_result"
    }
   ],
   "source": [
    "np.sqrt(x[2])"
   ]
  },
  {
   "cell_type": "markdown",
   "metadata": {},
   "source": [
    "**Error relativo:**"
   ]
  },
  {
   "cell_type": "code",
   "execution_count": 48,
   "metadata": {},
   "outputs": [
    {
     "data": {
      "text/plain": [
       "4.5618941080268345e-06"
      ]
     },
     "execution_count": 48,
     "metadata": {},
     "output_type": "execute_result"
    }
   ],
   "source": [
    "compute_error(np.abs(x_ast[0:(x_ast.size-1)]),np.abs(x[0:(x.size-1)]))"
   ]
  },
  {
   "cell_type": "markdown",
   "metadata": {},
   "source": [
    "**Tenemos alrededor de $6$ dígitos de precisión a la dirección principal $v_{\\text{min}}$.**"
   ]
  },
  {
   "cell_type": "code",
   "execution_count": 49,
   "metadata": {},
   "outputs": [
    {
     "data": {
      "text/plain": [
       "6.324336574125975e-05"
      ]
     },
     "execution_count": 49,
     "metadata": {},
     "output_type": "execute_result"
    }
   ],
   "source": [
    "compute_error(x_ast[x_ast.size-1],x[x.size-1])"
   ]
  },
  {
   "cell_type": "markdown",
   "metadata": {},
   "source": [
    "**Tenemos alrededor de $5$ dígitos de precisión al valor singular $\\sigma_{\\text{min}}$.**"
   ]
  },
  {
   "cell_type": "markdown",
   "metadata": {},
   "source": [
    "**Para la componente principal $z_{\\text{min}}$ calculamos el error con:**"
   ]
  },
  {
   "cell_type": "code",
   "execution_count": 50,
   "metadata": {},
   "outputs": [],
   "source": [
    "z = pca.transform(X)"
   ]
  },
  {
   "cell_type": "code",
   "execution_count": 51,
   "metadata": {},
   "outputs": [],
   "source": [
    "z_approx = X_centered@(x[0:(x.size-1)])"
   ]
  },
  {
   "cell_type": "code",
   "execution_count": 52,
   "metadata": {},
   "outputs": [
    {
     "data": {
      "text/plain": [
       "4.581664961317251e-06"
      ]
     },
     "execution_count": 52,
     "metadata": {},
     "output_type": "execute_result"
    }
   ],
   "source": [
    "compute_error(np.abs(z[:,1]), np.abs(z_approx))"
   ]
  },
  {
   "cell_type": "markdown",
   "metadata": {},
   "source": [
    "**Tenemos alrededor de $6$ dígitos de precisión el cálculo de la primera componente principal $z_{\\text{min}}$.**"
   ]
  },
  {
   "cell_type": "markdown",
   "metadata": {},
   "source": [
    "**Comentario:** el método anterior es **altamente dependiente al punto inicial**, $x^{(0)}$, compárese con otros puntos iniciales y obsérvese este efecto. "
   ]
  },
  {
   "cell_type": "markdown",
   "metadata": {},
   "source": [
    "Por ejemplo para el **punto inicial** utilizamos la siguiente definición basada en el **[cociente de Rayleigh](https://en.wikipedia.org/wiki/Rayleigh_quotient)**:"
   ]
  },
  {
   "cell_type": "markdown",
   "metadata": {},
   "source": [
    "**Punto inicial $x^{(0)}$:**"
   ]
  },
  {
   "cell_type": "code",
   "execution_count": 53,
   "metadata": {},
   "outputs": [],
   "source": [
    "vec = np.array([0,1],dtype=float) #vector de norma 1"
   ]
  },
  {
   "cell_type": "code",
   "execution_count": 54,
   "metadata": {},
   "outputs": [
    {
     "data": {
      "text/plain": [
       "array([0., 1.])"
      ]
     },
     "execution_count": 54,
     "metadata": {},
     "output_type": "execute_result"
    }
   ],
   "source": [
    "vec"
   ]
  },
  {
   "cell_type": "code",
   "execution_count": 55,
   "metadata": {},
   "outputs": [],
   "source": [
    "mv = X_centered@vec\n"
   ]
  },
  {
   "cell_type": "markdown",
   "metadata": {},
   "source": [
    "**Cociente de Rayleigh:**"
   ]
  },
  {
   "cell_type": "code",
   "execution_count": 56,
   "metadata": {},
   "outputs": [],
   "source": [
    "l = mv.dot(mv)/vec.dot(vec) #para este caso como el vector es de norma 1\n",
    "                            # es equivalente hacer: l = mv.dot(mv)"
   ]
  },
  {
   "cell_type": "code",
   "execution_count": 57,
   "metadata": {},
   "outputs": [],
   "source": [
    "x_0 = np.concatenate((vec,np.array([l])))"
   ]
  },
  {
   "cell_type": "code",
   "execution_count": 58,
   "metadata": {},
   "outputs": [
    {
     "data": {
      "text/plain": [
       "array([ 0.       ,  1.       , 56.8387374])"
      ]
     },
     "execution_count": 58,
     "metadata": {},
     "output_type": "execute_result"
    }
   ],
   "source": [
    "x_0"
   ]
  },
  {
   "cell_type": "markdown",
   "metadata": {},
   "source": [
    "**Valor óptimo $p^*$:**"
   ]
  },
  {
   "cell_type": "code",
   "execution_count": 59,
   "metadata": {},
   "outputs": [],
   "source": [
    "p_ast=fo(x_ast)"
   ]
  },
  {
   "cell_type": "code",
   "execution_count": 60,
   "metadata": {},
   "outputs": [
    {
     "data": {
      "text/plain": [
       "1.7099632626913723"
      ]
     },
     "execution_count": 60,
     "metadata": {},
     "output_type": "execute_result"
    }
   ],
   "source": [
    "p_ast"
   ]
  },
  {
   "cell_type": "markdown",
   "metadata": {},
   "source": [
    "**Argumentos para el método de Newton:**\n"
   ]
  },
  {
   "cell_type": "code",
   "execution_count": 61,
   "metadata": {},
   "outputs": [],
   "source": [
    "tol=1e-8\n",
    "tol_backtracking=1e-14\n",
    "maxiter=50\n"
   ]
  },
  {
   "cell_type": "code",
   "execution_count": 62,
   "metadata": {},
   "outputs": [
    {
     "name": "stdout",
     "output_type": "stream",
     "text": [
      "I\tNormgf \tNewton Decrement\tError x_ast\tError p_ast\tline search\tCondHf\n",
      "0\t1.25e+02\t6.54e+01\t1.50e+01\t1.56e+01\t---\t\t1.92e+04\n",
      "1\t3.43e+01\t5.73e+00\t3.44e+00\t1.75e+00\t1.00e+00\t3.44e+03\n",
      "2\t1.55e+00\t2.79e-02\t6.62e-01\t8.10e-03\t1.00e+00\t6.12e+02\n",
      "3\t1.31e-02\t-5.37e-06\t5.61e-01\t1.57e-06\t1.00e+00\t3.48e+02\n",
      "Error of x with respect to x_ast: 5.61e-01\n",
      "Approximate solution: [-0.39311133  0.91925831  3.40729075]\n"
     ]
    }
   ],
   "source": [
    "[x,total_of_iterations,Err_plot,x_plot]=algorithms_for_uco.Newtons_method(fo, x_0,tol, \n",
    "                                                       tol_backtracking, x_ast, p_ast, maxiter)"
   ]
  },
  {
   "cell_type": "markdown",
   "metadata": {},
   "source": [
    "**$x$ aproximada por el método de Newton:**"
   ]
  },
  {
   "cell_type": "code",
   "execution_count": 63,
   "metadata": {},
   "outputs": [
    {
     "data": {
      "text/plain": [
       "array([-0.39311133,  0.91925831,  3.40729075])"
      ]
     },
     "execution_count": 63,
     "metadata": {},
     "output_type": "execute_result"
    }
   ],
   "source": [
    "x"
   ]
  },
  {
   "cell_type": "markdown",
   "metadata": {},
   "source": [
    "**$x^*$:**"
   ]
  },
  {
   "cell_type": "code",
   "execution_count": 64,
   "metadata": {},
   "outputs": [
    {
     "data": {
      "text/plain": [
       "array([ 0.39318658, -0.91945871,  3.41992653])"
      ]
     },
     "execution_count": 64,
     "metadata": {},
     "output_type": "execute_result"
    }
   ],
   "source": [
    "x_ast"
   ]
  },
  {
   "cell_type": "markdown",
   "metadata": {},
   "source": [
    "**obsérvese los signos alternados.**"
   ]
  },
  {
   "cell_type": "markdown",
   "metadata": {},
   "source": [
    "**Error relativo:**"
   ]
  },
  {
   "cell_type": "code",
   "execution_count": 65,
   "metadata": {},
   "outputs": [
    {
     "data": {
      "text/plain": [
       "0.00021406197220135572"
      ]
     },
     "execution_count": 65,
     "metadata": {},
     "output_type": "execute_result"
    }
   ],
   "source": [
    "compute_error(np.abs(x_ast[0:(x_ast.size-1)]),np.abs(x[0:(x.size-1)]))"
   ]
  },
  {
   "cell_type": "markdown",
   "metadata": {},
   "source": [
    "**Tenemos alrededor de $3$ dígitos de precisión a la dirección principal $v_1$.**"
   ]
  },
  {
   "cell_type": "code",
   "execution_count": 66,
   "metadata": {},
   "outputs": [
    {
     "data": {
      "text/plain": [
       "0.0036947494984673826"
      ]
     },
     "execution_count": 66,
     "metadata": {},
     "output_type": "execute_result"
    }
   ],
   "source": [
    "compute_error(x_ast[x_ast.size-1],x[x.size-1])"
   ]
  },
  {
   "cell_type": "markdown",
   "metadata": {},
   "source": [
    "**Tenemos alrededor de $2$ dígitos de precisión al valor singular $\\sigma_{\\text{min}}$.**"
   ]
  },
  {
   "cell_type": "markdown",
   "metadata": {},
   "source": [
    "**Para la componente principal $z_{\\text{min}}$ calculamos el error con:**"
   ]
  },
  {
   "cell_type": "code",
   "execution_count": 67,
   "metadata": {},
   "outputs": [],
   "source": [
    "z_approx = X_centered@(x[0:(x.size-1)])"
   ]
  },
  {
   "cell_type": "code",
   "execution_count": 68,
   "metadata": {},
   "outputs": [
    {
     "data": {
      "text/plain": [
       "0.0002348364474354791"
      ]
     },
     "execution_count": 68,
     "metadata": {},
     "output_type": "execute_result"
    }
   ],
   "source": [
    "compute_error(np.abs(z[:,1]), np.abs(z_approx))"
   ]
  },
  {
   "cell_type": "markdown",
   "metadata": {},
   "source": [
    "**Tenemos alrededor de $3$ dígitos de precisión el cálculo de la componente principal $z_{\\text{min}}$.**"
   ]
  },
  {
   "cell_type": "markdown",
   "metadata": {},
   "source": [
    "**Otro Punto inicial $x^{(0)}$:**"
   ]
  },
  {
   "cell_type": "code",
   "execution_count": 69,
   "metadata": {},
   "outputs": [],
   "source": [
    "vec = np.array([10,10],dtype=float) #vector de norma distinta a 1"
   ]
  },
  {
   "cell_type": "code",
   "execution_count": 70,
   "metadata": {},
   "outputs": [
    {
     "data": {
      "text/plain": [
       "array([10., 10.])"
      ]
     },
     "execution_count": 70,
     "metadata": {},
     "output_type": "execute_result"
    }
   ],
   "source": [
    "vec"
   ]
  },
  {
   "cell_type": "code",
   "execution_count": 71,
   "metadata": {},
   "outputs": [],
   "source": [
    "mv = X_centered@vec\n"
   ]
  },
  {
   "cell_type": "markdown",
   "metadata": {},
   "source": [
    "**Definición por cociente de Rayleigh:**"
   ]
  },
  {
   "cell_type": "code",
   "execution_count": 72,
   "metadata": {},
   "outputs": [],
   "source": [
    "l = mv.dot(mv)/vec.dot(vec)"
   ]
  },
  {
   "cell_type": "code",
   "execution_count": 73,
   "metadata": {},
   "outputs": [],
   "source": [
    "x_0 = np.concatenate((vec,np.array([l])))"
   ]
  },
  {
   "cell_type": "code",
   "execution_count": 74,
   "metadata": {},
   "outputs": [
    {
     "data": {
      "text/plain": [
       "array([ 10.        ,  10.        , 301.10812121])"
      ]
     },
     "execution_count": 74,
     "metadata": {},
     "output_type": "execute_result"
    }
   ],
   "source": [
    "x_0"
   ]
  },
  {
   "cell_type": "markdown",
   "metadata": {},
   "source": [
    "**Valor óptimo $p^*$:**"
   ]
  },
  {
   "cell_type": "code",
   "execution_count": 75,
   "metadata": {},
   "outputs": [],
   "source": [
    "p_ast=fo(x_ast)"
   ]
  },
  {
   "cell_type": "code",
   "execution_count": 76,
   "metadata": {},
   "outputs": [
    {
     "data": {
      "text/plain": [
       "1.7099632626913723"
      ]
     },
     "execution_count": 76,
     "metadata": {},
     "output_type": "execute_result"
    }
   ],
   "source": [
    "p_ast"
   ]
  },
  {
   "cell_type": "markdown",
   "metadata": {},
   "source": [
    "**Argumentos para el método de Newton:**\n"
   ]
  },
  {
   "cell_type": "code",
   "execution_count": 77,
   "metadata": {},
   "outputs": [],
   "source": [
    "tol=1e-8\n",
    "tol_backtracking=1e-14\n",
    "maxiter=50\n"
   ]
  },
  {
   "cell_type": "code",
   "execution_count": 78,
   "metadata": {},
   "outputs": [
    {
     "name": "stdout",
     "output_type": "stream",
     "text": [
      "I\tNormgf \tNewton Decrement\tError x_ast\tError p_ast\tline search\tCondHf\n",
      "0\t1.69e+03\t8.62e+02\t8.36e+01\t8.70e+01\t---\t\t9.25e+01\n",
      "1\t1.25e+03\t-7.86e+03\t8.70e+01\t5.69e+01\t2.50e-01\t7.05e+01\n",
      "Error of x with respect to x_ast: 8.70e+01\n",
      "Approximate solution: [  8.70185566   7.87934434 313.14095405]\n"
     ]
    }
   ],
   "source": [
    "[x,total_of_iterations,Err_plot,x_plot]=algorithms_for_uco.Newtons_method(fo, x_0,tol, \n",
    "                                                       tol_backtracking, x_ast, p_ast, maxiter)"
   ]
  },
  {
   "cell_type": "markdown",
   "metadata": {},
   "source": [
    "**$x$ aproximada por el método de Newton:**"
   ]
  },
  {
   "cell_type": "code",
   "execution_count": 79,
   "metadata": {},
   "outputs": [
    {
     "data": {
      "text/plain": [
       "array([  8.70185566,   7.87934434, 313.14095405])"
      ]
     },
     "execution_count": 79,
     "metadata": {},
     "output_type": "execute_result"
    }
   ],
   "source": [
    "x"
   ]
  },
  {
   "cell_type": "markdown",
   "metadata": {},
   "source": [
    "**$x^*$:**"
   ]
  },
  {
   "cell_type": "code",
   "execution_count": 80,
   "metadata": {},
   "outputs": [
    {
     "data": {
      "text/plain": [
       "array([ 0.39318658, -0.91945871,  3.41992653])"
      ]
     },
     "execution_count": 80,
     "metadata": {},
     "output_type": "execute_result"
    }
   ],
   "source": [
    "x_ast"
   ]
  },
  {
   "cell_type": "markdown",
   "metadata": {},
   "source": [
    "**Error relativo:**"
   ]
  },
  {
   "cell_type": "code",
   "execution_count": 81,
   "metadata": {},
   "outputs": [
    {
     "data": {
      "text/plain": [
       "10.83854187088827"
      ]
     },
     "execution_count": 81,
     "metadata": {},
     "output_type": "execute_result"
    }
   ],
   "source": [
    "compute_error(np.abs(x_ast[0:(x_ast.size-1)]),np.abs(x[0:(x.size-1)]))"
   ]
  },
  {
   "cell_type": "markdown",
   "metadata": {},
   "source": [
    "**Tenemos $1083\\%$ de error a la dirección principal $v_{\\text{min}}$.**"
   ]
  },
  {
   "cell_type": "code",
   "execution_count": 82,
   "metadata": {},
   "outputs": [
    {
     "data": {
      "text/plain": [
       "90.56364960734382"
      ]
     },
     "execution_count": 82,
     "metadata": {},
     "output_type": "execute_result"
    }
   ],
   "source": [
    "compute_error(x_ast[x_ast.size-1],x[x.size-1])"
   ]
  },
  {
   "cell_type": "markdown",
   "metadata": {},
   "source": [
    "**Tenemos $9056\\%$ de error al valor singular $\\sigma_{\\text{min}}$.**"
   ]
  },
  {
   "cell_type": "markdown",
   "metadata": {},
   "source": [
    "**Para la componente principal $z_{\\text{min}}$ calculamos el error con:**"
   ]
  },
  {
   "cell_type": "code",
   "execution_count": 83,
   "metadata": {},
   "outputs": [],
   "source": [
    "z_approx = X_centered@(x[0:(x.size-1)])"
   ]
  },
  {
   "cell_type": "code",
   "execution_count": 84,
   "metadata": {},
   "outputs": [
    {
     "data": {
      "text/plain": [
       "111.53975930589878"
      ]
     },
     "execution_count": 84,
     "metadata": {},
     "output_type": "execute_result"
    }
   ],
   "source": [
    "compute_error(np.abs(z[:,1]), np.abs(z_approx))"
   ]
  },
  {
   "cell_type": "markdown",
   "metadata": {},
   "source": [
    "**Tenemos $11153\\%$ de error en el cálculo de la componente principal $z_{\\text{min}}$.**"
   ]
  },
  {
   "cell_type": "markdown",
   "metadata": {},
   "source": [
    "## Máximo valor singular"
   ]
  },
  {
   "cell_type": "markdown",
   "metadata": {},
   "source": [
    "**La función objetivo para el máximo valor singular elevado al cuadrado, $\\sigma_{\\text{max}}^2$ es**:\n",
    "\n",
    "$$\\displaystyle \\max_{v \\in \\mathbb{R}^n - \\{0\\}} \\frac{v^TX^TXv}{v^Tv}$$"
   ]
  },
  {
   "cell_type": "markdown",
   "metadata": {},
   "source": [
    "Por el desarrollo anterior y la relación entre problemas de minimización y maximización es equivalente resolver:\n",
    "\n",
    "$$\\displaystyle \\min_{v \\in \\mathbb{R}^n, \\lambda \\in \\mathbb{R}} - \\left ( \\frac{1}{2}(v^TX^TXv - \\lambda(v^Tv-1)) \\right )$$"
   ]
  },
  {
   "cell_type": "markdown",
   "metadata": {},
   "source": [
    "**Función objetivo:**"
   ]
  },
  {
   "cell_type": "code",
   "execution_count": 85,
   "metadata": {},
   "outputs": [],
   "source": [
    "def fo_max(x):\n",
    "    return -fo(x)"
   ]
  },
  {
   "cell_type": "code",
   "execution_count": 86,
   "metadata": {},
   "outputs": [],
   "source": [
    "x_ast=np.concatenate((pca.components_[:,0],np.array([pca.singular_values_[0]**2])))"
   ]
  },
  {
   "cell_type": "markdown",
   "metadata": {},
   "source": [
    "**$x^*$:**"
   ]
  },
  {
   "cell_type": "code",
   "execution_count": 87,
   "metadata": {},
   "outputs": [
    {
     "data": {
      "text/plain": [
       "array([  0.91945871,   0.39318658, 348.9587423 ])"
      ]
     },
     "execution_count": 87,
     "metadata": {},
     "output_type": "execute_result"
    }
   ],
   "source": [
    "x_ast"
   ]
  },
  {
   "cell_type": "code",
   "execution_count": 88,
   "metadata": {},
   "outputs": [],
   "source": [
    "p_ast=fo_max(x_ast)\n"
   ]
  },
  {
   "cell_type": "markdown",
   "metadata": {},
   "source": [
    "**Valor óptimo $p^*$:**"
   ]
  },
  {
   "cell_type": "code",
   "execution_count": 89,
   "metadata": {},
   "outputs": [
    {
     "data": {
      "text/plain": [
       "-174.47937115079444"
      ]
     },
     "execution_count": 89,
     "metadata": {},
     "output_type": "execute_result"
    }
   ],
   "source": [
    "p_ast"
   ]
  },
  {
   "cell_type": "markdown",
   "metadata": {},
   "source": [
    "**Punto inicial $x^{(0)}$:**"
   ]
  },
  {
   "cell_type": "code",
   "execution_count": 90,
   "metadata": {},
   "outputs": [],
   "source": [
    "x_0 = np.array([1,1,500], dtype=float)"
   ]
  },
  {
   "cell_type": "code",
   "execution_count": 91,
   "metadata": {},
   "outputs": [
    {
     "data": {
      "text/plain": [
       "array([  1.,   1., 500.])"
      ]
     },
     "execution_count": 91,
     "metadata": {},
     "output_type": "execute_result"
    }
   ],
   "source": [
    "x_0"
   ]
  },
  {
   "cell_type": "markdown",
   "metadata": {},
   "source": [
    "**Argumentos para el método de Newton:**\n"
   ]
  },
  {
   "cell_type": "code",
   "execution_count": 92,
   "metadata": {},
   "outputs": [],
   "source": [
    "tol=1e-8\n",
    "tol_backtracking=1e-14\n",
    "maxiter=50"
   ]
  },
  {
   "cell_type": "code",
   "execution_count": 93,
   "metadata": {},
   "outputs": [
    {
     "name": "stdout",
     "output_type": "stream",
     "text": [
      "I\tNormgf \tNewton Decrement\tError x_ast\tError p_ast\tline search\tCondHf\n",
      "0\t3.28e+02\t2.10e+02\t4.33e-01\t7.07e-01\t---\t\t4.20e+04\n",
      "1\t5.64e+01\t1.07e+01\t7.26e-02\t3.19e-02\t1.00e+00\t8.18e+03\n",
      "2\t3.25e+00\t5.18e-02\t4.47e-03\t1.49e-04\t1.00e+00\t6.63e+02\n",
      "3\t2.82e-02\t2.70e-05\t7.99e-05\t1.16e-08\t1.00e+00\t3.54e+02\n",
      "4\t1.39e-02\t-4.93e-06\t3.93e-05\t2.94e-08\t5.00e-01\t3.41e+02\n",
      "Error of x with respect to x_ast: 3.93e-05\n",
      "Approximate solution: [  0.91911674   0.39303247 348.97243629]\n"
     ]
    }
   ],
   "source": [
    "[x,total_of_iterations,Err_plot,x_plot]=algorithms_for_uco.Newtons_method(fo_max, x_0,tol, \n",
    "                                                       tol_backtracking, x_ast, p_ast, maxiter)"
   ]
  },
  {
   "cell_type": "markdown",
   "metadata": {},
   "source": [
    "**$x$ aproximada por el método de Newton:**"
   ]
  },
  {
   "cell_type": "code",
   "execution_count": 94,
   "metadata": {},
   "outputs": [
    {
     "data": {
      "text/plain": [
       "array([  0.91911674,   0.39303247, 348.97243629])"
      ]
     },
     "execution_count": 94,
     "metadata": {},
     "output_type": "execute_result"
    }
   ],
   "source": [
    "x"
   ]
  },
  {
   "cell_type": "markdown",
   "metadata": {},
   "source": [
    "**$x^*$:**"
   ]
  },
  {
   "cell_type": "code",
   "execution_count": 95,
   "metadata": {},
   "outputs": [
    {
     "data": {
      "text/plain": [
       "array([  0.91945871,   0.39318658, 348.9587423 ])"
      ]
     },
     "execution_count": 95,
     "metadata": {},
     "output_type": "execute_result"
    }
   ],
   "source": [
    "x_ast"
   ]
  },
  {
   "cell_type": "markdown",
   "metadata": {},
   "source": [
    "El valor singular $\\sigma_{\\text{max}}$ es la raíz cuadrada del eigenvalor máximo de $X^TX$, $\\sqrt{\\lambda_{\\text{max}}(X^TX)}$, que acabamos de calcular y para este ejemplo está en la entrada $3$ del `array` $x$:"
   ]
  },
  {
   "cell_type": "code",
   "execution_count": 96,
   "metadata": {},
   "outputs": [
    {
     "data": {
      "text/plain": [
       "18.68080395204276"
      ]
     },
     "execution_count": 96,
     "metadata": {},
     "output_type": "execute_result"
    }
   ],
   "source": [
    "np.sqrt(x[2])"
   ]
  },
  {
   "cell_type": "markdown",
   "metadata": {},
   "source": [
    "**Error relativo:**"
   ]
  },
  {
   "cell_type": "code",
   "execution_count": 97,
   "metadata": {},
   "outputs": [
    {
     "data": {
      "text/plain": [
       "0.00037508548476747035"
      ]
     },
     "execution_count": 97,
     "metadata": {},
     "output_type": "execute_result"
    }
   ],
   "source": [
    "compute_error(np.abs(x_ast[0:(x_ast.size-1)]),np.abs(x[0:(x.size-1)]))"
   ]
  },
  {
   "cell_type": "markdown",
   "metadata": {},
   "source": [
    "**Tenemos alrededor de $3$ dígitos de precisión a la dirección principal $v_1$.**"
   ]
  },
  {
   "cell_type": "code",
   "execution_count": 98,
   "metadata": {},
   "outputs": [
    {
     "data": {
      "text/plain": [
       "3.9242441605274824e-05"
      ]
     },
     "execution_count": 98,
     "metadata": {},
     "output_type": "execute_result"
    }
   ],
   "source": [
    "compute_error(x_ast[x_ast.size-1],x[x.size-1])"
   ]
  },
  {
   "cell_type": "markdown",
   "metadata": {},
   "source": [
    "**Tenemos alrededor de $5$ dígitos de precisión al valor singular $\\sigma_1$.**"
   ]
  },
  {
   "cell_type": "markdown",
   "metadata": {},
   "source": [
    "**Para la componente principal $z_1$ calculamos el error con:**"
   ]
  },
  {
   "cell_type": "code",
   "execution_count": 99,
   "metadata": {},
   "outputs": [],
   "source": [
    "z_approx = X_centered@(x[0:(x.size-1)])"
   ]
  },
  {
   "cell_type": "code",
   "execution_count": 100,
   "metadata": {},
   "outputs": [
    {
     "data": {
      "text/plain": [
       "0.00037501618702196854"
      ]
     },
     "execution_count": 100,
     "metadata": {},
     "output_type": "execute_result"
    }
   ],
   "source": [
    "compute_error(np.abs(z[:,0]), np.abs(z_approx))"
   ]
  },
  {
   "cell_type": "markdown",
   "metadata": {},
   "source": [
    "**Tenemos alrededor de $3$ dígitos de precisión el cálculo de la primera componente principal $z_1$.**"
   ]
  },
  {
   "cell_type": "markdown",
   "metadata": {},
   "source": [
    "**Comentario:** al igual que en el caso del mínimo valor singular, el método anterior es **altamente dependiente al punto inicial**, $x^{(0)}$, compárese con otros puntos iniciales y obsérvese este efecto. "
   ]
  },
  {
   "cell_type": "markdown",
   "metadata": {},
   "source": [
    "**Otro Punto inicial $x^{(0)}$:**"
   ]
  },
  {
   "cell_type": "code",
   "execution_count": 101,
   "metadata": {},
   "outputs": [],
   "source": [
    "vec = np.array([1,1],dtype=float) #vector de norma distinta a 1"
   ]
  },
  {
   "cell_type": "code",
   "execution_count": 102,
   "metadata": {},
   "outputs": [
    {
     "data": {
      "text/plain": [
       "array([1., 1.])"
      ]
     },
     "execution_count": 102,
     "metadata": {},
     "output_type": "execute_result"
    }
   ],
   "source": [
    "vec"
   ]
  },
  {
   "cell_type": "code",
   "execution_count": 103,
   "metadata": {},
   "outputs": [],
   "source": [
    "mv = X_centered@vec\n"
   ]
  },
  {
   "cell_type": "markdown",
   "metadata": {},
   "source": [
    "**Definición por cociente de Rayleigh:**"
   ]
  },
  {
   "cell_type": "code",
   "execution_count": 104,
   "metadata": {},
   "outputs": [],
   "source": [
    "l = mv.dot(mv)/vec.dot(vec)"
   ]
  },
  {
   "cell_type": "code",
   "execution_count": 105,
   "metadata": {},
   "outputs": [],
   "source": [
    "x_0 = np.concatenate((vec,np.array([l])))"
   ]
  },
  {
   "cell_type": "code",
   "execution_count": 106,
   "metadata": {},
   "outputs": [
    {
     "data": {
      "text/plain": [
       "array([  1.        ,   1.        , 301.10812121])"
      ]
     },
     "execution_count": 106,
     "metadata": {},
     "output_type": "execute_result"
    }
   ],
   "source": [
    "x_0"
   ]
  },
  {
   "cell_type": "markdown",
   "metadata": {},
   "source": [
    "**Valor óptimo $p^*$:**"
   ]
  },
  {
   "cell_type": "code",
   "execution_count": 107,
   "metadata": {},
   "outputs": [],
   "source": [
    "p_ast=fo(x_ast)"
   ]
  },
  {
   "cell_type": "code",
   "execution_count": 108,
   "metadata": {},
   "outputs": [
    {
     "data": {
      "text/plain": [
       "174.47937115079444"
      ]
     },
     "execution_count": 108,
     "metadata": {},
     "output_type": "execute_result"
    }
   ],
   "source": [
    "p_ast"
   ]
  },
  {
   "cell_type": "markdown",
   "metadata": {},
   "source": [
    "**Argumentos para el método de Newton:**\n"
   ]
  },
  {
   "cell_type": "code",
   "execution_count": 109,
   "metadata": {},
   "outputs": [],
   "source": [
    "tol=1e-8\n",
    "tol_backtracking=1e-14\n",
    "maxiter=50\n"
   ]
  },
  {
   "cell_type": "code",
   "execution_count": 110,
   "metadata": {},
   "outputs": [
    {
     "name": "stdout",
     "output_type": "stream",
     "text": [
      "I\tNormgf \tNewton Decrement\tError x_ast\tError p_ast\tline search\tCondHf\n",
      "0\t1.69e+02\t-6.39e+01\t1.37e-01\t1.37e-01\t---\t\t8.55e+03\n",
      "Error of x with respect to x_ast: 1.37e-01\n",
      "Approximate solution: [  1.           1.         301.10812121]\n"
     ]
    }
   ],
   "source": [
    "[x,total_of_iterations,Err_plot,x_plot]=algorithms_for_uco.Newtons_method(fo, x_0,tol, \n",
    "                                                       tol_backtracking, x_ast, p_ast, maxiter)"
   ]
  },
  {
   "cell_type": "markdown",
   "metadata": {},
   "source": [
    "**$x$ aproximada por el método de Newton:**"
   ]
  },
  {
   "cell_type": "code",
   "execution_count": 111,
   "metadata": {},
   "outputs": [
    {
     "data": {
      "text/plain": [
       "array([  1.        ,   1.        , 301.10812121])"
      ]
     },
     "execution_count": 111,
     "metadata": {},
     "output_type": "execute_result"
    }
   ],
   "source": [
    "x"
   ]
  },
  {
   "cell_type": "markdown",
   "metadata": {},
   "source": [
    "**$x^*$:**"
   ]
  },
  {
   "cell_type": "code",
   "execution_count": 112,
   "metadata": {},
   "outputs": [
    {
     "data": {
      "text/plain": [
       "array([  0.91945871,   0.39318658, 348.9587423 ])"
      ]
     },
     "execution_count": 112,
     "metadata": {},
     "output_type": "execute_result"
    }
   ],
   "source": [
    "x_ast"
   ]
  },
  {
   "cell_type": "markdown",
   "metadata": {},
   "source": [
    "**Error relativo:**"
   ]
  },
  {
   "cell_type": "code",
   "execution_count": 113,
   "metadata": {},
   "outputs": [
    {
     "data": {
      "text/plain": [
       "0.6121351362817103"
      ]
     },
     "execution_count": 113,
     "metadata": {},
     "output_type": "execute_result"
    }
   ],
   "source": [
    "compute_error(np.abs(x_ast[0:(x_ast.size-1)]),np.abs(x[0:(x.size-1)]))"
   ]
  },
  {
   "cell_type": "markdown",
   "metadata": {},
   "source": [
    "**Tenemos $61\\%$ de error a la dirección principal $v_1$.**"
   ]
  },
  {
   "cell_type": "code",
   "execution_count": 114,
   "metadata": {},
   "outputs": [
    {
     "data": {
      "text/plain": [
       "0.137124007209835"
      ]
     },
     "execution_count": 114,
     "metadata": {},
     "output_type": "execute_result"
    }
   ],
   "source": [
    "compute_error(x_ast[x_ast.size-1],x[x.size-1])"
   ]
  },
  {
   "cell_type": "markdown",
   "metadata": {},
   "source": [
    "**Tenemos $13\\%$ de error al valor singular $\\sigma_1$.**"
   ]
  },
  {
   "cell_type": "markdown",
   "metadata": {},
   "source": [
    "**Para la componente principal $z_1$ calculamos el error con:**"
   ]
  },
  {
   "cell_type": "code",
   "execution_count": 115,
   "metadata": {},
   "outputs": [],
   "source": [
    "z_approx = X_centered@(x[0:(x.size-1)])"
   ]
  },
  {
   "cell_type": "code",
   "execution_count": 116,
   "metadata": {},
   "outputs": [
    {
     "data": {
      "text/plain": [
       "0.31688577886286684"
      ]
     },
     "execution_count": 116,
     "metadata": {},
     "output_type": "execute_result"
    }
   ],
   "source": [
    "compute_error(np.abs(z[:,0]), np.abs(z_approx))"
   ]
  },
  {
   "cell_type": "markdown",
   "metadata": {},
   "source": [
    "**Tenemos $31\\%$ de error para el cálculo de la componente principal $z_1$**."
   ]
  },
  {
   "cell_type": "markdown",
   "metadata": {},
   "source": [
    "# Método de *deflation*"
   ]
  },
  {
   "cell_type": "markdown",
   "metadata": {},
   "source": [
    "Hasta este punto propusimos una matriz con $2$ columnas lo cual ha servido para ilustrar el problema de optimización a resolver y el desempeño del método de Newton para resolverlo. Se vio que la convergencia es muy dependiente del **punto inicial** y la solución del sistema en el método de Newton que involucra a la Hessiana depende del **número de condición** de la misma. En esta sección usamos una matriz de más de $2$ columnas y utilizamos un método de [deflation](https://wiki.math.uwaterloo.ca/statwiki/index.php?title=deflation_Methods_for_Sparse_PCA) clásico para aproximar la segunda componente principal $z_2$."
   ]
  },
  {
   "cell_type": "markdown",
   "metadata": {},
   "source": [
    "El método de *deflation* que utilizamos para aproximar la segunda componente principal $z_2$ consiste en aproximar $z_1$ y $\\sigma_1$ como en la sección anterior y posteriormente resolver el problema:"
   ]
  },
  {
   "cell_type": "markdown",
   "metadata": {},
   "source": [
    "$$\\displaystyle \\max_{v \\in \\mathbb{R}^n - \\{0\\}} \\frac{v^TX_2^TX_2v}{v^Tv}$$"
   ]
  },
  {
   "cell_type": "markdown",
   "metadata": {},
   "source": [
    "donde: $X_2 = X_1 - \\sigma_1 u_1 v_1^T$ y $X_1 = X$."
   ]
  },
  {
   "cell_type": "markdown",
   "metadata": {},
   "source": [
    "La $i+1$-ésima componente principal $z_{i+1}$ consiste en resolver el problema:\n",
    "\n",
    "$$\\displaystyle \\max_{v \\in \\mathbb{R}^n - \\{0\\}} \\frac{v^TX_{i+1}^TX_{i+1}v}{v^Tv}$$\n",
    "\n",
    "donde: $X_{i+1} = X_i - \\sigma_i u_i v_i^T$ $\\forall i=2,3,\\dots, p$ con $p = \\min(m,n)$."
   ]
  },
  {
   "cell_type": "markdown",
   "metadata": {},
   "source": [
    "Tales problemas se resuelven al reescribirlos como:\n",
    "\n",
    "$$\\displaystyle \\min_{v \\in \\mathbb{R}^n, \\lambda \\in \\mathbb{R}} - \\left ( \\frac{1}{2}(v^TX_i^TX_iv - \\lambda(v^Tv-1)) \\right )$$\n",
    "\n",
    "para $i=1,2,\\dots,p$."
   ]
  },
  {
   "cell_type": "markdown",
   "metadata": {},
   "source": [
    "## Ejemplo"
   ]
  },
  {
   "cell_type": "code",
   "execution_count": 117,
   "metadata": {},
   "outputs": [],
   "source": [
    "np.random.seed(2020)\n",
    "mpoints=200\n",
    "ncols = 3\n",
    "X = (np.random.rand(ncols,ncols)@np.random.normal(0,1,(ncols,mpoints))).T"
   ]
  },
  {
   "cell_type": "code",
   "execution_count": 118,
   "metadata": {},
   "outputs": [
    {
     "data": {
      "text/plain": [
       "PCA(n_components=2, svd_solver='full')"
      ]
     },
     "execution_count": 118,
     "metadata": {},
     "output_type": "execute_result"
    }
   ],
   "source": [
    "pca = PCA(n_components=2,svd_solver='full')\n",
    "pca.fit(X)"
   ]
  },
  {
   "cell_type": "code",
   "execution_count": 119,
   "metadata": {},
   "outputs": [],
   "source": [
    "X_centered = X - X.mean(axis=0)"
   ]
  },
  {
   "cell_type": "markdown",
   "metadata": {},
   "source": [
    "### Método de Newton para máximo valor singular"
   ]
  },
  {
   "cell_type": "code",
   "execution_count": 120,
   "metadata": {},
   "outputs": [],
   "source": [
    "x_ast=np.concatenate((pca.components_[0,:],np.array([pca.singular_values_[0]**2])))"
   ]
  },
  {
   "cell_type": "markdown",
   "metadata": {},
   "source": [
    "**$x^*:$**"
   ]
  },
  {
   "cell_type": "code",
   "execution_count": 121,
   "metadata": {},
   "outputs": [
    {
     "data": {
      "text/plain": [
       "array([8.43157183e-01, 2.89334144e-01, 4.53179565e-01, 5.07668739e+02])"
      ]
     },
     "execution_count": 121,
     "metadata": {},
     "output_type": "execute_result"
    }
   ],
   "source": [
    "x_ast"
   ]
  },
  {
   "cell_type": "markdown",
   "metadata": {},
   "source": [
    "**Valor óptimo $p^*:$**"
   ]
  },
  {
   "cell_type": "code",
   "execution_count": 122,
   "metadata": {},
   "outputs": [],
   "source": [
    "p_ast=fo_max(x_ast)\n"
   ]
  },
  {
   "cell_type": "code",
   "execution_count": 123,
   "metadata": {},
   "outputs": [
    {
     "data": {
      "text/plain": [
       "-253.834369353904"
      ]
     },
     "execution_count": 123,
     "metadata": {},
     "output_type": "execute_result"
    }
   ],
   "source": [
    "p_ast"
   ]
  },
  {
   "cell_type": "markdown",
   "metadata": {},
   "source": [
    "**Punto inicial $x^{(0)}$:**"
   ]
  },
  {
   "cell_type": "code",
   "execution_count": 124,
   "metadata": {},
   "outputs": [],
   "source": [
    "x_0 = np.array([1,0,1,400], dtype=float)"
   ]
  },
  {
   "cell_type": "code",
   "execution_count": 125,
   "metadata": {},
   "outputs": [],
   "source": [
    "tol=1e-8\n",
    "tol_backtracking=1e-14\n",
    "maxiter=50\n"
   ]
  },
  {
   "cell_type": "code",
   "execution_count": 126,
   "metadata": {},
   "outputs": [
    {
     "name": "stdout",
     "output_type": "stream",
     "text": [
      "I\tNormgf \tNewton Decrement\tError x_ast\tError p_ast\tline search\tCondHf\n",
      "0\t2.49e+02\t8.73e+01\t2.12e-01\t8.41e-02\t---\t\t2.74e+04\n",
      "1\t7.41e+01\t9.44e+00\t1.06e-02\t1.80e-02\t1.00e+00\t1.89e+03\n",
      "2\t1.10e+00\t-4.42e-02\t1.54e-03\t9.03e-05\t1.00e+00\t6.91e+02\n",
      "Error of x with respect to x_ast: 1.54e-03\n",
      "Approximate solution: [8.67811089e-01 2.96955349e-01 4.67847927e-01 5.06886795e+02]\n"
     ]
    }
   ],
   "source": [
    "[x,total_of_iterations,Err_plot,x_plot]=algorithms_for_uco.Newtons_method(fo_max, x_0,tol, \n",
    "                                                       tol_backtracking, x_ast, p_ast, maxiter)"
   ]
  },
  {
   "cell_type": "markdown",
   "metadata": {},
   "source": [
    "**$x$ aproximada por el método de Newton:**"
   ]
  },
  {
   "cell_type": "code",
   "execution_count": 127,
   "metadata": {},
   "outputs": [
    {
     "data": {
      "text/plain": [
       "array([8.67811089e-01, 2.96955349e-01, 4.67847927e-01, 5.06886795e+02])"
      ]
     },
     "execution_count": 127,
     "metadata": {},
     "output_type": "execute_result"
    }
   ],
   "source": [
    "x"
   ]
  },
  {
   "cell_type": "markdown",
   "metadata": {},
   "source": [
    "**$x^*$:**"
   ]
  },
  {
   "cell_type": "code",
   "execution_count": 128,
   "metadata": {},
   "outputs": [
    {
     "data": {
      "text/plain": [
       "array([8.43157183e-01, 2.89334144e-01, 4.53179565e-01, 5.07668739e+02])"
      ]
     },
     "execution_count": 128,
     "metadata": {},
     "output_type": "execute_result"
    }
   ],
   "source": [
    "x_ast"
   ]
  },
  {
   "cell_type": "markdown",
   "metadata": {},
   "source": [
    "**Error relativo:**"
   ]
  },
  {
   "cell_type": "code",
   "execution_count": 129,
   "metadata": {},
   "outputs": [
    {
     "data": {
      "text/plain": [
       "0.029682632713874817"
      ]
     },
     "execution_count": 129,
     "metadata": {},
     "output_type": "execute_result"
    }
   ],
   "source": [
    "compute_error(np.abs(x_ast[0:(x_ast.size-1)]),np.abs(x[0:(x.size-1)]))"
   ]
  },
  {
   "cell_type": "markdown",
   "metadata": {},
   "source": [
    "**Tenemos alrededor de $2$ dígitos de precisión a la dirección principal $v_1$.**"
   ]
  },
  {
   "cell_type": "code",
   "execution_count": 130,
   "metadata": {},
   "outputs": [
    {
     "data": {
      "text/plain": [
       "0.0015402627623579644"
      ]
     },
     "execution_count": 130,
     "metadata": {},
     "output_type": "execute_result"
    }
   ],
   "source": [
    "compute_error(x_ast[x_ast.size-1],x[x.size-1])"
   ]
  },
  {
   "cell_type": "markdown",
   "metadata": {},
   "source": [
    "**Tenemos alrededor de $2$ dígitos de precisión al valor singular $\\sigma_{1}$.**"
   ]
  },
  {
   "cell_type": "markdown",
   "metadata": {},
   "source": [
    "**Para la componente principal $z_1$ calculamos el error con:**"
   ]
  },
  {
   "cell_type": "code",
   "execution_count": 131,
   "metadata": {},
   "outputs": [],
   "source": [
    "z = pca.transform(X)"
   ]
  },
  {
   "cell_type": "code",
   "execution_count": 132,
   "metadata": {},
   "outputs": [],
   "source": [
    "z_approx = X_centered@(x[0:(x.size-1)])"
   ]
  },
  {
   "cell_type": "code",
   "execution_count": 133,
   "metadata": {},
   "outputs": [
    {
     "data": {
      "text/plain": [
       "0.02964321261074488"
      ]
     },
     "execution_count": 133,
     "metadata": {},
     "output_type": "execute_result"
    }
   ],
   "source": [
    "compute_error(np.abs(z[:,0]), np.abs(z_approx))"
   ]
  },
  {
   "cell_type": "markdown",
   "metadata": {},
   "source": [
    "**Tenemos alrededor de $2$ dígitos de precisión para la primera componente principal $z_1$**."
   ]
  },
  {
   "cell_type": "markdown",
   "metadata": {},
   "source": [
    "### Aplicamos el método de Deflation"
   ]
  },
  {
   "cell_type": "code",
   "execution_count": 134,
   "metadata": {},
   "outputs": [],
   "source": [
    "X_def = X-np.outer(z_approx,x[0:(x.size-1)])"
   ]
  },
  {
   "cell_type": "markdown",
   "metadata": {},
   "source": [
    "**Centramos:**"
   ]
  },
  {
   "cell_type": "code",
   "execution_count": 135,
   "metadata": {},
   "outputs": [],
   "source": [
    "X_centered = X_def - X_def.mean(axis=0)"
   ]
  },
  {
   "cell_type": "code",
   "execution_count": 136,
   "metadata": {},
   "outputs": [],
   "source": [
    "x_ast=np.concatenate((pca.components_[1,:],np.array([pca.singular_values_[1]**2])))"
   ]
  },
  {
   "cell_type": "markdown",
   "metadata": {},
   "source": [
    "**$x^*$:**"
   ]
  },
  {
   "cell_type": "code",
   "execution_count": 137,
   "metadata": {},
   "outputs": [
    {
     "data": {
      "text/plain": [
       "array([-4.56631429e-01, -5.96368650e-02,  8.87654878e-01,  6.32717762e+01])"
      ]
     },
     "execution_count": 137,
     "metadata": {},
     "output_type": "execute_result"
    }
   ],
   "source": [
    "x_ast"
   ]
  },
  {
   "cell_type": "markdown",
   "metadata": {},
   "source": [
    "**Valor óptimo $p^*$:**"
   ]
  },
  {
   "cell_type": "code",
   "execution_count": 138,
   "metadata": {},
   "outputs": [
    {
     "data": {
      "text/plain": [
       "-253.834369353904"
      ]
     },
     "execution_count": 138,
     "metadata": {},
     "output_type": "execute_result"
    }
   ],
   "source": [
    "p_ast"
   ]
  },
  {
   "cell_type": "markdown",
   "metadata": {},
   "source": [
    "**Punto inicial $x^{(0)}$:**"
   ]
  },
  {
   "cell_type": "code",
   "execution_count": 139,
   "metadata": {},
   "outputs": [],
   "source": [
    "x_0 = np.array([-1,0,0,60], dtype=float)"
   ]
  },
  {
   "cell_type": "code",
   "execution_count": 140,
   "metadata": {},
   "outputs": [
    {
     "data": {
      "text/plain": [
       "array([-1.,  0.,  0., 60.])"
      ]
     },
     "execution_count": 140,
     "metadata": {},
     "output_type": "execute_result"
    }
   ],
   "source": [
    "x_0"
   ]
  },
  {
   "cell_type": "code",
   "execution_count": 141,
   "metadata": {},
   "outputs": [],
   "source": [
    "tol=1e-8\n",
    "tol_backtracking=1e-14\n",
    "maxiter=50\n",
    "p_ast=fo_max(x_ast)\n"
   ]
  },
  {
   "cell_type": "code",
   "execution_count": 142,
   "metadata": {},
   "outputs": [
    {
     "name": "stdout",
     "output_type": "stream",
     "text": [
      "I\tNormgf \tNewton Decrement\tError x_ast\tError p_ast\tline search\tCondHf\n",
      "0\t5.18e+01\t6.53e+01\t5.43e-02\t7.69e-01\t---\t\t1.20e+03\n",
      "1\t2.27e+01\t1.45e+01\t1.06e-01\t2.63e-01\t5.00e-01\t1.90e+02\n",
      "2\t2.57e+00\t6.46e-01\t2.99e-02\t1.09e-02\t1.00e+00\t1.17e+02\n",
      "3\t2.45e-01\t5.13e-03\t3.82e-03\t8.42e-05\t1.00e+00\t7.04e+01\n",
      "4\t2.95e-03\t4.23e-06\t5.19e-05\t4.33e-07\t1.00e+00\t6.26e+01\n",
      "5\t1.45e-05\t6.37e-12\t1.62e-05\t5.00e-07\t1.00e+00\t6.26e+01\n",
      "Error of x with respect to x_ast: 1.62e-05\n",
      "Approximate solution: [-4.57233636e-01 -5.98527287e-02  8.87329172e-01  6.32725109e+01]\n"
     ]
    }
   ],
   "source": [
    "[x,total_of_iterations,Err_plot,x_plot]=algorithms_for_uco.Newtons_method(fo_max, x_0,tol, \n",
    "                                                       tol_backtracking, x_ast, p_ast, maxiter)"
   ]
  },
  {
   "cell_type": "markdown",
   "metadata": {},
   "source": [
    "**$x$ aproximada por el método de Newton:**"
   ]
  },
  {
   "cell_type": "code",
   "execution_count": 143,
   "metadata": {},
   "outputs": [
    {
     "data": {
      "text/plain": [
       "array([-4.57233636e-01, -5.98527287e-02,  8.87329172e-01,  6.32725109e+01])"
      ]
     },
     "execution_count": 143,
     "metadata": {},
     "output_type": "execute_result"
    }
   ],
   "source": [
    "x"
   ]
  },
  {
   "cell_type": "markdown",
   "metadata": {},
   "source": [
    "**$x^*$:**"
   ]
  },
  {
   "cell_type": "code",
   "execution_count": 144,
   "metadata": {},
   "outputs": [
    {
     "data": {
      "text/plain": [
       "array([-4.56631429e-01, -5.96368650e-02,  8.87654878e-01,  6.32717762e+01])"
      ]
     },
     "execution_count": 144,
     "metadata": {},
     "output_type": "execute_result"
    }
   ],
   "source": [
    "x_ast"
   ]
  },
  {
   "cell_type": "markdown",
   "metadata": {},
   "source": [
    "**Error relativo:**"
   ]
  },
  {
   "cell_type": "code",
   "execution_count": 145,
   "metadata": {},
   "outputs": [
    {
     "data": {
      "text/plain": [
       "0.0007178680037215867"
      ]
     },
     "execution_count": 145,
     "metadata": {},
     "output_type": "execute_result"
    }
   ],
   "source": [
    "compute_error(np.abs(x_ast[0:(x_ast.size-1)]),np.abs(x[0:(x.size-1)]))"
   ]
  },
  {
   "cell_type": "markdown",
   "metadata": {},
   "source": [
    "**Tenemos alrededor de $3$ dígitos de precisión a la dirección principal $v_2$.**"
   ]
  },
  {
   "cell_type": "code",
   "execution_count": 146,
   "metadata": {},
   "outputs": [
    {
     "data": {
      "text/plain": [
       "1.1612605806848422e-05"
      ]
     },
     "execution_count": 146,
     "metadata": {},
     "output_type": "execute_result"
    }
   ],
   "source": [
    "compute_error(x_ast[x_ast.size-1],x[x.size-1])"
   ]
  },
  {
   "cell_type": "markdown",
   "metadata": {},
   "source": [
    "**Tenemos alrededor de $5$ dígitos de precisión al valor singular $\\sigma_{2}$.**"
   ]
  },
  {
   "cell_type": "markdown",
   "metadata": {},
   "source": [
    "**Para la componente principal $z_2$ calculamos el error con:**"
   ]
  },
  {
   "cell_type": "code",
   "execution_count": 147,
   "metadata": {},
   "outputs": [],
   "source": [
    "z_approx = X_centered@(x[0:(x.size-1)])"
   ]
  },
  {
   "cell_type": "code",
   "execution_count": 148,
   "metadata": {},
   "outputs": [
    {
     "data": {
      "text/plain": [
       "0.0036931117614051987"
      ]
     },
     "execution_count": 148,
     "metadata": {},
     "output_type": "execute_result"
    }
   ],
   "source": [
    "compute_error(np.abs(z[:,1]), np.abs(z_approx))"
   ]
  },
  {
   "cell_type": "markdown",
   "metadata": {},
   "source": [
    "**Tenemos alrededor de $2$ dígitos de precisión para la segunda componente principal $z_2$**."
   ]
  },
  {
   "cell_type": "markdown",
   "metadata": {},
   "source": [
    "## Más columnas"
   ]
  },
  {
   "cell_type": "markdown",
   "metadata": {},
   "source": [
    "**Para este caso utilizamos el gradiente y la Hessiana de forma simbólica en lugar de las aproximaciones por diferencias finitas a la primera y segunda derivada.**"
   ]
  },
  {
   "cell_type": "markdown",
   "metadata": {},
   "source": [
    "Recordamos que las expresiones para el gradiente y la Hessiana para un problema de **minimización** están dadas por:"
   ]
  },
  {
   "cell_type": "markdown",
   "metadata": {},
   "source": [
    "$$\\nabla f_o(v,\\lambda) = \n",
    "\\left[\n",
    "\\begin{array}{c}\n",
    "X^TX v - \\lambda v \\\\\n",
    "-\\frac{1}{2}(v^Tv-1)\n",
    "\\end{array}\n",
    "\\right]\n",
    "$$"
   ]
  },
  {
   "cell_type": "markdown",
   "metadata": {},
   "source": [
    "**Comentario:** La formulación anterior tiene una matriz Hessiana dada por la expresión: \n",
    "\n",
    "$$\\nabla^2 f_o(v,\\lambda) = \\left [ \n",
    "\\begin{array}{cc}\n",
    "X^TX - \\lambda I & -v \\\\\n",
    "-v^T & 0\n",
    "\\end{array}\n",
    "\\right ]\n",
    "$$\n",
    "\n",
    "la cual involucra a la matriz $X^TX$. **Por este motivo las aproximaciones numéricas que realicemos con este enfoque serán altamente sensibles al número de condición de $X$ y por tanto de $X^TX$.**"
   ]
  },
  {
   "cell_type": "markdown",
   "metadata": {},
   "source": [
    "**Gradiente:**"
   ]
  },
  {
   "cell_type": "code",
   "execution_count": 149,
   "metadata": {},
   "outputs": [],
   "source": [
    "def gfo(x):\n",
    "    v = x[0:(x.size-1)]\n",
    "    value = x[x.size-1]\n",
    "    m,n=X_centered.shape\n",
    "    first_block = cov@v-value*v\n",
    "    second_block = -1/2*(v.dot(v)-1)\n",
    "    return np.concatenate((first_block,np.array([second_block])))"
   ]
  },
  {
   "cell_type": "code",
   "execution_count": 150,
   "metadata": {},
   "outputs": [],
   "source": [
    "def gfo_max(x):\n",
    "    return -gfo(x)"
   ]
  },
  {
   "cell_type": "markdown",
   "metadata": {},
   "source": [
    "**Hessiana:**"
   ]
  },
  {
   "cell_type": "code",
   "execution_count": 151,
   "metadata": {},
   "outputs": [],
   "source": [
    "def Hfo(x):\n",
    "    v = x[0:(x.size-1)]\n",
    "    value = x[x.size-1]\n",
    "    m,n=X_centered.shape\n",
    "    first_block = cov - value*np.eye(v.size)\n",
    "    second_block = -v\n",
    "    fs_block = np.column_stack((first_block, second_block))\n",
    "    third_block = -v.T\n",
    "    fourth_block = np.zeros(1)\n",
    "    tf_block = np.row_stack((third_block.reshape(1,v.size).T, fourth_block)).reshape(1,v.size+1)[0]\n",
    "    return np.row_stack((fs_block, tf_block))"
   ]
  },
  {
   "cell_type": "code",
   "execution_count": 152,
   "metadata": {},
   "outputs": [],
   "source": [
    "def Hfo_max(x):\n",
    "    return -Hfo(x)"
   ]
  },
  {
   "cell_type": "code",
   "execution_count": 153,
   "metadata": {},
   "outputs": [],
   "source": [
    "np.random.seed(1)\n",
    "mpoints=100\n",
    "ncols=20\n",
    "X = (np.random.rand(ncols,ncols)@np.random.normal(0,1,(ncols,mpoints))).T"
   ]
  },
  {
   "cell_type": "code",
   "execution_count": 154,
   "metadata": {},
   "outputs": [
    {
     "data": {
      "text/plain": [
       "PCA(n_components=2, svd_solver='full')"
      ]
     },
     "execution_count": 154,
     "metadata": {},
     "output_type": "execute_result"
    }
   ],
   "source": [
    "pca = PCA(n_components=2,svd_solver='full')\n",
    "pca.fit(X)"
   ]
  },
  {
   "cell_type": "code",
   "execution_count": 155,
   "metadata": {},
   "outputs": [],
   "source": [
    "X_centered = X - X.mean(axis=0)"
   ]
  },
  {
   "cell_type": "code",
   "execution_count": 156,
   "metadata": {},
   "outputs": [],
   "source": [
    "m,n = X.shape"
   ]
  },
  {
   "cell_type": "markdown",
   "metadata": {},
   "source": [
    "**Matriz de covarianzas:**"
   ]
  },
  {
   "cell_type": "code",
   "execution_count": 157,
   "metadata": {},
   "outputs": [],
   "source": [
    "cov = (m-1)*np.cov(X_centered, rowvar=False)"
   ]
  },
  {
   "cell_type": "markdown",
   "metadata": {},
   "source": [
    "### Método de Newton para máximo valor singular"
   ]
  },
  {
   "cell_type": "code",
   "execution_count": 158,
   "metadata": {},
   "outputs": [],
   "source": [
    "x_ast=np.concatenate((pca.components_[0,:],np.array([pca.singular_values_[0]**2])))"
   ]
  },
  {
   "cell_type": "markdown",
   "metadata": {},
   "source": [
    "**$x^*:$**"
   ]
  },
  {
   "cell_type": "code",
   "execution_count": 159,
   "metadata": {},
   "outputs": [
    {
     "data": {
      "text/plain": [
       "array([-0.13159443, -0.21766135, -0.20552217, -0.21715208, -0.26924412,\n",
       "       -0.2390722 , -0.2186774 , -0.19404237, -0.19741352, -0.22571098])"
      ]
     },
     "execution_count": 159,
     "metadata": {},
     "output_type": "execute_result"
    }
   ],
   "source": [
    "x_ast[0:10]"
   ]
  },
  {
   "cell_type": "code",
   "execution_count": 160,
   "metadata": {},
   "outputs": [
    {
     "data": {
      "text/plain": [
       "(21,)"
      ]
     },
     "execution_count": 160,
     "metadata": {},
     "output_type": "execute_result"
    }
   ],
   "source": [
    "x_ast.shape"
   ]
  },
  {
   "cell_type": "code",
   "execution_count": 161,
   "metadata": {},
   "outputs": [
    {
     "data": {
      "text/plain": [
       "11016.929766689937"
      ]
     },
     "execution_count": 161,
     "metadata": {},
     "output_type": "execute_result"
    }
   ],
   "source": [
    "x_ast[x_ast.size-1]"
   ]
  },
  {
   "cell_type": "markdown",
   "metadata": {},
   "source": [
    "**Valor óptimo $p^*:$**"
   ]
  },
  {
   "cell_type": "code",
   "execution_count": 162,
   "metadata": {},
   "outputs": [],
   "source": [
    "p_ast=fo_max(x_ast)\n"
   ]
  },
  {
   "cell_type": "code",
   "execution_count": 163,
   "metadata": {},
   "outputs": [
    {
     "data": {
      "text/plain": [
       "-5508.464883344969"
      ]
     },
     "execution_count": 163,
     "metadata": {},
     "output_type": "execute_result"
    }
   ],
   "source": [
    "p_ast"
   ]
  },
  {
   "cell_type": "markdown",
   "metadata": {},
   "source": [
    "**Punto inicial $x^{(0)}$:**"
   ]
  },
  {
   "cell_type": "code",
   "execution_count": 164,
   "metadata": {},
   "outputs": [],
   "source": [
    "x_0 = np.zeros(ncols+1)"
   ]
  },
  {
   "cell_type": "code",
   "execution_count": 165,
   "metadata": {},
   "outputs": [],
   "source": [
    "x_0[0]=1"
   ]
  },
  {
   "cell_type": "code",
   "execution_count": 166,
   "metadata": {},
   "outputs": [],
   "source": [
    "x_0[x_0.size-1] = 11000"
   ]
  },
  {
   "cell_type": "code",
   "execution_count": 167,
   "metadata": {},
   "outputs": [],
   "source": [
    "tol=1e-8\n",
    "tol_backtracking=1e-14\n",
    "maxiter=50\n"
   ]
  },
  {
   "cell_type": "code",
   "execution_count": 168,
   "metadata": {},
   "outputs": [
    {
     "name": "stdout",
     "output_type": "stream",
     "text": [
      "I\tNormgf \tNewton Decrement\tError x_ast\tError p_ast\tline search\tCondHf\n",
      "0\t1.08e+04\t1.18e+04\t1.54e-03\t9.72e-01\t---\t\t1.18e+07\n",
      "1\t8.04e+03\t6.44e+03\t2.28e-02\t6.09e-01\t2.50e-01\t5.93e+05\n",
      "2\t1.70e+02\t8.07e+01\t7.81e-03\t8.39e-03\t1.00e+00\t4.64e+05\n",
      "3\t2.36e+01\t2.93e+00\t2.02e-03\t2.74e-04\t1.00e+00\t2.15e+05\n",
      "4\t1.33e+00\t5.43e-03\t2.18e-04\t4.94e-07\t1.00e+00\t2.05e+04\n",
      "5\t2.71e-03\t1.13e-08\t1.82e-04\t1.03e-12\t1.00e+00\t1.10e+04\n",
      "Error of x with respect to x_ast: 1.82e-04\n",
      "Approximate solution: [1.31594709e-01 2.17661801e-01 2.05522598e-01 2.17152530e-01\n",
      " 2.69244687e-01 2.39072695e-01 2.18677857e-01 1.94042778e-01\n",
      " 1.97413932e-01 2.25711447e-01 2.30237075e-01 2.14230059e-01\n",
      " 2.25448044e-01 2.42516798e-01 2.57257083e-01 2.28687264e-01\n",
      " 2.10776141e-01 2.96689152e-01 1.94489880e-01 2.08747085e-01\n",
      " 1.10169325e+04]\n"
     ]
    }
   ],
   "source": [
    "[x,total_of_iterations,Err_plot,x_plot]=algorithms_for_uco.Newtons_method(fo_max, x_0,tol, \n",
    "                                                                          tol_backtracking, x_ast, p_ast, maxiter,\n",
    "                                                                          gfo_max,\n",
    "                                                                          Hfo_max)"
   ]
  },
  {
   "cell_type": "markdown",
   "metadata": {},
   "source": [
    "**$x$ aproximada por el método de Newton:**"
   ]
  },
  {
   "cell_type": "code",
   "execution_count": 169,
   "metadata": {},
   "outputs": [
    {
     "data": {
      "text/plain": [
       "array([0.13159471, 0.2176618 , 0.2055226 , 0.21715253, 0.26924469,\n",
       "       0.23907269, 0.21867786, 0.19404278, 0.19741393, 0.22571145])"
      ]
     },
     "execution_count": 169,
     "metadata": {},
     "output_type": "execute_result"
    }
   ],
   "source": [
    "x[0:10]"
   ]
  },
  {
   "cell_type": "markdown",
   "metadata": {},
   "source": [
    "**$x^*$:**"
   ]
  },
  {
   "cell_type": "code",
   "execution_count": 170,
   "metadata": {},
   "outputs": [
    {
     "data": {
      "text/plain": [
       "array([-0.13159443, -0.21766135, -0.20552217, -0.21715208, -0.26924412,\n",
       "       -0.2390722 , -0.2186774 , -0.19404237, -0.19741352, -0.22571098])"
      ]
     },
     "execution_count": 170,
     "metadata": {},
     "output_type": "execute_result"
    }
   ],
   "source": [
    "x_ast[0:10]"
   ]
  },
  {
   "cell_type": "markdown",
   "metadata": {},
   "source": [
    "**Error relativo:**"
   ]
  },
  {
   "cell_type": "code",
   "execution_count": 171,
   "metadata": {},
   "outputs": [
    {
     "data": {
      "text/plain": [
       "2.087779410177175e-06"
      ]
     },
     "execution_count": 171,
     "metadata": {},
     "output_type": "execute_result"
    }
   ],
   "source": [
    "compute_error(np.abs(x_ast[0:(x_ast.size-1)]),np.abs(x[0:(x.size-1)]))"
   ]
  },
  {
   "cell_type": "markdown",
   "metadata": {},
   "source": [
    "**Tenemos alrededor de $6$ dígitos de precisión a la dirección principal $v_1$.**"
   ]
  },
  {
   "cell_type": "code",
   "execution_count": 172,
   "metadata": {},
   "outputs": [
    {
     "data": {
      "text/plain": [
       "2.4577357064218877e-07"
      ]
     },
     "execution_count": 172,
     "metadata": {},
     "output_type": "execute_result"
    }
   ],
   "source": [
    "compute_error(x_ast[x_ast.size-1],x[x.size-1])"
   ]
  },
  {
   "cell_type": "markdown",
   "metadata": {},
   "source": [
    "**Tenemos alrededor de $7$ dígitos de precisión al valor singular $\\sigma_1$.**"
   ]
  },
  {
   "cell_type": "markdown",
   "metadata": {},
   "source": [
    "**Para la componente principal $z_1$ calculamos el error con:**"
   ]
  },
  {
   "cell_type": "code",
   "execution_count": 173,
   "metadata": {},
   "outputs": [],
   "source": [
    "z = pca.transform(X)"
   ]
  },
  {
   "cell_type": "code",
   "execution_count": 174,
   "metadata": {},
   "outputs": [],
   "source": [
    "z_approx = X_centered@(x[0:(x.size-1)])"
   ]
  },
  {
   "cell_type": "code",
   "execution_count": 175,
   "metadata": {},
   "outputs": [
    {
     "data": {
      "text/plain": [
       "2.0877794100886935e-06"
      ]
     },
     "execution_count": 175,
     "metadata": {},
     "output_type": "execute_result"
    }
   ],
   "source": [
    "compute_error(np.abs(z[:,0]), np.abs(z_approx))"
   ]
  },
  {
   "cell_type": "markdown",
   "metadata": {},
   "source": [
    "**Tenemos alrededor de $6$ dígitos de precisión para la primera componente principal $z_1$**."
   ]
  },
  {
   "cell_type": "markdown",
   "metadata": {},
   "source": [
    "### Aplicamos el método de Deflation"
   ]
  },
  {
   "cell_type": "code",
   "execution_count": 176,
   "metadata": {},
   "outputs": [],
   "source": [
    "X_def = X-np.outer(z_approx,x[0:(x.size-1)])"
   ]
  },
  {
   "cell_type": "markdown",
   "metadata": {},
   "source": [
    "**Centramos:**"
   ]
  },
  {
   "cell_type": "code",
   "execution_count": 177,
   "metadata": {},
   "outputs": [],
   "source": [
    "X_centered = X_def - X_def.mean(axis=0)"
   ]
  },
  {
   "cell_type": "markdown",
   "metadata": {},
   "source": [
    "**Matriz de covarianzas:**"
   ]
  },
  {
   "cell_type": "code",
   "execution_count": 178,
   "metadata": {},
   "outputs": [],
   "source": [
    "cov = (m-1)*np.cov(X_centered, rowvar=False)"
   ]
  },
  {
   "cell_type": "code",
   "execution_count": 179,
   "metadata": {},
   "outputs": [],
   "source": [
    "x_ast=np.concatenate((pca.components_[1,:],np.array([pca.singular_values_[1]**2])))"
   ]
  },
  {
   "cell_type": "markdown",
   "metadata": {},
   "source": [
    "**$x^*$:**"
   ]
  },
  {
   "cell_type": "code",
   "execution_count": 180,
   "metadata": {},
   "outputs": [
    {
     "data": {
      "text/plain": [
       "array([-0.10517685, -0.06015694,  0.34819271,  0.01373999,  0.02790862,\n",
       "       -0.45245898,  0.20360786,  0.00619914,  0.02715925, -0.4370721 ])"
      ]
     },
     "execution_count": 180,
     "metadata": {},
     "output_type": "execute_result"
    }
   ],
   "source": [
    "x_ast[0:10]"
   ]
  },
  {
   "cell_type": "markdown",
   "metadata": {},
   "source": [
    "**Valor óptimo $p^*$:**"
   ]
  },
  {
   "cell_type": "code",
   "execution_count": 181,
   "metadata": {},
   "outputs": [
    {
     "data": {
      "text/plain": [
       "-5508.464883344969"
      ]
     },
     "execution_count": 181,
     "metadata": {},
     "output_type": "execute_result"
    }
   ],
   "source": [
    "p_ast"
   ]
  },
  {
   "cell_type": "code",
   "execution_count": 182,
   "metadata": {},
   "outputs": [
    {
     "data": {
      "text/plain": [
       "767.0633968453919"
      ]
     },
     "execution_count": 182,
     "metadata": {},
     "output_type": "execute_result"
    }
   ],
   "source": [
    "x_ast[x_ast.size-1]"
   ]
  },
  {
   "cell_type": "markdown",
   "metadata": {},
   "source": [
    "**Punto inicial $x^{(0)}$:**"
   ]
  },
  {
   "cell_type": "code",
   "execution_count": 183,
   "metadata": {},
   "outputs": [],
   "source": [
    "x_0 = np.zeros(ncols+1)"
   ]
  },
  {
   "cell_type": "code",
   "execution_count": 184,
   "metadata": {},
   "outputs": [],
   "source": [
    "x_0[vec.size-1]=1"
   ]
  },
  {
   "cell_type": "code",
   "execution_count": 185,
   "metadata": {},
   "outputs": [],
   "source": [
    "x_0[x_0.size-1] = 767"
   ]
  },
  {
   "cell_type": "code",
   "execution_count": 186,
   "metadata": {},
   "outputs": [],
   "source": [
    "tol=1e-8\n",
    "tol_backtracking=1e-14\n",
    "maxiter=50\n",
    "p_ast=fo_max(x_ast)\n"
   ]
  },
  {
   "cell_type": "code",
   "execution_count": 187,
   "metadata": {},
   "outputs": [
    {
     "name": "stdout",
     "output_type": "stream",
     "text": [
      "I\tNormgf \tNewton Decrement\tError x_ast\tError p_ast\tline search\tCondHf\n",
      "0\t6.14e+02\t6.10e+02\t1.90e-03\t7.72e-01\t---\t\t2.19e+04\n",
      "1\t4.60e+02\t3.88e+02\t9.12e-03\t5.32e-01\t2.50e-01\t2.91e+02\n",
      "2\t5.60e+00\t7.34e+00\t5.11e-03\t1.20e-02\t1.00e+00\t5.01e+02\n",
      "3\t1.25e+00\t6.80e-01\t3.30e-03\t1.01e-03\t1.00e+00\t7.46e+02\n",
      "4\t2.19e-01\t2.17e-02\t2.69e-03\t2.90e-05\t1.00e+00\t8.01e+02\n",
      "5\t1.01e-02\t2.75e-05\t2.61e-03\t3.59e-08\t1.00e+00\t7.70e+02\n",
      "6\t1.38e-05\t2.60e-11\t2.61e-03\t3.39e-14\t1.00e+00\t7.67e+02\n",
      "Error of x with respect to x_ast: 2.61e-03\n",
      "Approximate solution: [ 1.05176947e-01  6.01569963e-02 -3.48193034e-01 -1.37400042e-02\n",
      " -2.79086500e-02  4.52459411e-01 -2.03608052e-01 -6.19914275e-03\n",
      " -2.71592720e-02  4.37072515e-01  1.35726641e-04  1.30357065e-01\n",
      "  2.78912492e-01 -8.35296537e-03  5.24098666e-04 -3.96376333e-01\n",
      "  1.36499226e-01 -3.89938924e-01 -9.14181022e-03 -4.89202270e-02\n",
      "  7.67063411e+02]\n"
     ]
    }
   ],
   "source": [
    "[x,total_of_iterations,Err_plot,x_plot]=algorithms_for_uco.Newtons_method(fo_max, x_0,tol, \n",
    "                                                                          tol_backtracking, x_ast, p_ast, maxiter,\n",
    "                                                                          gfo_max,\n",
    "                                                                          Hfo_max)"
   ]
  },
  {
   "cell_type": "markdown",
   "metadata": {},
   "source": [
    "**$x$ aproximada por el método de Newton:**"
   ]
  },
  {
   "cell_type": "code",
   "execution_count": 188,
   "metadata": {},
   "outputs": [
    {
     "data": {
      "text/plain": [
       "array([ 0.10517695,  0.060157  , -0.34819303, -0.01374   , -0.02790865,\n",
       "        0.45245941, -0.20360805, -0.00619914, -0.02715927,  0.43707252])"
      ]
     },
     "execution_count": 188,
     "metadata": {},
     "output_type": "execute_result"
    }
   ],
   "source": [
    "x[0:10]"
   ]
  },
  {
   "cell_type": "markdown",
   "metadata": {},
   "source": [
    "**$x^*$:**"
   ]
  },
  {
   "cell_type": "code",
   "execution_count": 189,
   "metadata": {},
   "outputs": [
    {
     "data": {
      "text/plain": [
       "array([-0.10517685, -0.06015694,  0.34819271,  0.01373999,  0.02790862,\n",
       "       -0.45245898,  0.20360786,  0.00619914,  0.02715925, -0.4370721 ])"
      ]
     },
     "execution_count": 189,
     "metadata": {},
     "output_type": "execute_result"
    }
   ],
   "source": [
    "x_ast[0:10]"
   ]
  },
  {
   "cell_type": "markdown",
   "metadata": {},
   "source": [
    "**Error relativo:**"
   ]
  },
  {
   "cell_type": "code",
   "execution_count": 190,
   "metadata": {},
   "outputs": [
    {
     "data": {
      "text/plain": [
       "9.449417239717334e-07"
      ]
     },
     "execution_count": 190,
     "metadata": {},
     "output_type": "execute_result"
    }
   ],
   "source": [
    "compute_error(np.abs(x_ast[0:(x_ast.size-1)]),np.abs(x[0:(x.size-1)]))"
   ]
  },
  {
   "cell_type": "markdown",
   "metadata": {},
   "source": [
    "**Tenemos alrededor de $7$ dígitos de precisión a la dirección principal $v_2$.**"
   ]
  },
  {
   "cell_type": "code",
   "execution_count": 191,
   "metadata": {},
   "outputs": [
    {
     "data": {
      "text/plain": [
       "1.790576023498009e-08"
      ]
     },
     "execution_count": 191,
     "metadata": {},
     "output_type": "execute_result"
    }
   ],
   "source": [
    "compute_error(x_ast[x_ast.size-1],x[x.size-1])"
   ]
  },
  {
   "cell_type": "markdown",
   "metadata": {},
   "source": [
    "**Tenemos alrededor de $8$ dígitos de precisión al valor singular $\\sigma_{2}$.**"
   ]
  },
  {
   "cell_type": "markdown",
   "metadata": {},
   "source": [
    "**Para la componente principal $z_2$ calculamos el error con:**"
   ]
  },
  {
   "cell_type": "code",
   "execution_count": 192,
   "metadata": {},
   "outputs": [],
   "source": [
    "z_approx = X_centered@(x[0:(x.size-1)])"
   ]
  },
  {
   "cell_type": "code",
   "execution_count": 193,
   "metadata": {},
   "outputs": [
    {
     "data": {
      "text/plain": [
       "9.449417240183714e-07"
      ]
     },
     "execution_count": 193,
     "metadata": {},
     "output_type": "execute_result"
    }
   ],
   "source": [
    "compute_error(np.abs(z[:,1]), np.abs(z_approx))"
   ]
  },
  {
   "cell_type": "markdown",
   "metadata": {},
   "source": [
    "**Tenemos alrededor de $7$ dígitos de precisión para la segunda componente principal $z_2$**."
   ]
  },
  {
   "cell_type": "markdown",
   "metadata": {},
   "source": [
    "## Trabajo de Irene Ramos, github: [iramosp/tesis-paisajes](https://github.com/iramosp/tesis-paisajes/blob/master/Tipologia_manejo_agricola.ipynb)"
   ]
  },
  {
   "cell_type": "markdown",
   "metadata": {},
   "source": [
    "**En esta sección calculamos las componentes principales con el método de Newton basándonos en el trabajo realizado por Irene Ramos sobre manejo agrícola con datos de INEGI para municipios de México (ver la liga de su github para el notebook con su trabajo)**"
   ]
  },
  {
   "cell_type": "code",
   "execution_count": 194,
   "metadata": {},
   "outputs": [],
   "source": [
    "# leer los datos\n",
    "datos = pd.read_csv(cur_directory+ '/datos/censo.csv', encoding ='ISO-8859-1')\n",
    "datos = datos.set_index('Clave')"
   ]
  },
  {
   "cell_type": "code",
   "execution_count": 195,
   "metadata": {},
   "outputs": [
    {
     "data": {
      "text/html": [
       "<div>\n",
       "<style scoped>\n",
       "    .dataframe tbody tr th:only-of-type {\n",
       "        vertical-align: middle;\n",
       "    }\n",
       "\n",
       "    .dataframe tbody tr th {\n",
       "        vertical-align: top;\n",
       "    }\n",
       "\n",
       "    .dataframe thead th {\n",
       "        text-align: right;\n",
       "    }\n",
       "</style>\n",
       "<table border=\"1\" class=\"dataframe\">\n",
       "  <thead>\n",
       "    <tr style=\"text-align: right;\">\n",
       "      <th></th>\n",
       "      <th>Entidad y municipio</th>\n",
       "      <th>Entidad</th>\n",
       "      <th>% Temporal</th>\n",
       "      <th>% Mecánica</th>\n",
       "      <th>% labor agricola</th>\n",
       "      <th>% bosque</th>\n",
       "      <th>% Herbicidas químicos</th>\n",
       "      <th>% Insecticidas químicos</th>\n",
       "    </tr>\n",
       "    <tr>\n",
       "      <th>Clave</th>\n",
       "      <th></th>\n",
       "      <th></th>\n",
       "      <th></th>\n",
       "      <th></th>\n",
       "      <th></th>\n",
       "      <th></th>\n",
       "      <th></th>\n",
       "      <th></th>\n",
       "    </tr>\n",
       "  </thead>\n",
       "  <tbody>\n",
       "    <tr>\n",
       "      <th>01_001</th>\n",
       "      <td>AGUASCALIENTES</td>\n",
       "      <td>AGUASCALIENTES</td>\n",
       "      <td>75.123727</td>\n",
       "      <td>83.413297</td>\n",
       "      <td>52.676031</td>\n",
       "      <td>0.044765</td>\n",
       "      <td>20.376084</td>\n",
       "      <td>6.765960</td>\n",
       "    </tr>\n",
       "    <tr>\n",
       "      <th>01_002</th>\n",
       "      <td>ASIENTOS</td>\n",
       "      <td>AGUASCALIENTES</td>\n",
       "      <td>77.939970</td>\n",
       "      <td>79.576299</td>\n",
       "      <td>80.546052</td>\n",
       "      <td>0.101570</td>\n",
       "      <td>12.520469</td>\n",
       "      <td>4.501609</td>\n",
       "    </tr>\n",
       "    <tr>\n",
       "      <th>01_003</th>\n",
       "      <td>CALVILLO</td>\n",
       "      <td>AGUASCALIENTES</td>\n",
       "      <td>59.930021</td>\n",
       "      <td>38.037634</td>\n",
       "      <td>24.321383</td>\n",
       "      <td>0.650017</td>\n",
       "      <td>14.951300</td>\n",
       "      <td>7.547488</td>\n",
       "    </tr>\n",
       "    <tr>\n",
       "      <th>01_004</th>\n",
       "      <td>COSÍO</td>\n",
       "      <td>AGUASCALIENTES</td>\n",
       "      <td>47.511173</td>\n",
       "      <td>91.229743</td>\n",
       "      <td>77.868016</td>\n",
       "      <td>0.025051</td>\n",
       "      <td>19.282536</td>\n",
       "      <td>7.912925</td>\n",
       "    </tr>\n",
       "    <tr>\n",
       "      <th>01_005</th>\n",
       "      <td>JESÚS MARÍA</td>\n",
       "      <td>AGUASCALIENTES</td>\n",
       "      <td>72.548701</td>\n",
       "      <td>80.868167</td>\n",
       "      <td>33.136668</td>\n",
       "      <td>0.362998</td>\n",
       "      <td>33.637145</td>\n",
       "      <td>7.005523</td>\n",
       "    </tr>\n",
       "  </tbody>\n",
       "</table>\n",
       "</div>"
      ],
      "text/plain": [
       "       Entidad y municipio         Entidad  % Temporal  % Mecánica  \\\n",
       "Clave                                                                \n",
       "01_001      AGUASCALIENTES  AGUASCALIENTES   75.123727   83.413297   \n",
       "01_002            ASIENTOS  AGUASCALIENTES   77.939970   79.576299   \n",
       "01_003            CALVILLO  AGUASCALIENTES   59.930021   38.037634   \n",
       "01_004               COSÍO  AGUASCALIENTES   47.511173   91.229743   \n",
       "01_005         JESÚS MARÍA  AGUASCALIENTES   72.548701   80.868167   \n",
       "\n",
       "        % labor agricola  % bosque  % Herbicidas químicos  \\\n",
       "Clave                                                       \n",
       "01_001         52.676031  0.044765              20.376084   \n",
       "01_002         80.546052  0.101570              12.520469   \n",
       "01_003         24.321383  0.650017              14.951300   \n",
       "01_004         77.868016  0.025051              19.282536   \n",
       "01_005         33.136668  0.362998              33.637145   \n",
       "\n",
       "        % Insecticidas químicos  \n",
       "Clave                            \n",
       "01_001                 6.765960  \n",
       "01_002                 4.501609  \n",
       "01_003                 7.547488  \n",
       "01_004                 7.912925  \n",
       "01_005                 7.005523  "
      ]
     },
     "execution_count": 195,
     "metadata": {},
     "output_type": "execute_result"
    }
   ],
   "source": [
    "datos[['Entidad y municipio', 'Entidad', '% Temporal', '% Mecánica', \n",
    "       '% labor agricola', '% bosque', '% Herbicidas químicos', \n",
    "       '% Insecticidas químicos']].head()"
   ]
  },
  {
   "cell_type": "code",
   "execution_count": 196,
   "metadata": {},
   "outputs": [],
   "source": [
    "pca = PCA(n_components=2,svd_solver='full')\n"
   ]
  },
  {
   "cell_type": "code",
   "execution_count": 197,
   "metadata": {},
   "outputs": [],
   "source": [
    "datos_subset = datos[['% Temporal', '% Mecánica', \n",
    "                      '% labor agricola', '% bosque',\n",
    "                      '% Herbicidas químicos', \n",
    "                      '% Insecticidas químicos']]"
   ]
  },
  {
   "cell_type": "code",
   "execution_count": 198,
   "metadata": {},
   "outputs": [
    {
     "data": {
      "text/html": [
       "<div>\n",
       "<style scoped>\n",
       "    .dataframe tbody tr th:only-of-type {\n",
       "        vertical-align: middle;\n",
       "    }\n",
       "\n",
       "    .dataframe tbody tr th {\n",
       "        vertical-align: top;\n",
       "    }\n",
       "\n",
       "    .dataframe thead th {\n",
       "        text-align: right;\n",
       "    }\n",
       "</style>\n",
       "<table border=\"1\" class=\"dataframe\">\n",
       "  <thead>\n",
       "    <tr style=\"text-align: right;\">\n",
       "      <th></th>\n",
       "      <th>% Temporal</th>\n",
       "      <th>% Mecánica</th>\n",
       "      <th>% labor agricola</th>\n",
       "      <th>% bosque</th>\n",
       "      <th>% Herbicidas químicos</th>\n",
       "      <th>% Insecticidas químicos</th>\n",
       "    </tr>\n",
       "    <tr>\n",
       "      <th>Clave</th>\n",
       "      <th></th>\n",
       "      <th></th>\n",
       "      <th></th>\n",
       "      <th></th>\n",
       "      <th></th>\n",
       "      <th></th>\n",
       "    </tr>\n",
       "  </thead>\n",
       "  <tbody>\n",
       "    <tr>\n",
       "      <th>01_001</th>\n",
       "      <td>75.123727</td>\n",
       "      <td>83.413297</td>\n",
       "      <td>52.676031</td>\n",
       "      <td>0.044765</td>\n",
       "      <td>20.376084</td>\n",
       "      <td>6.765960</td>\n",
       "    </tr>\n",
       "    <tr>\n",
       "      <th>01_002</th>\n",
       "      <td>77.939970</td>\n",
       "      <td>79.576299</td>\n",
       "      <td>80.546052</td>\n",
       "      <td>0.101570</td>\n",
       "      <td>12.520469</td>\n",
       "      <td>4.501609</td>\n",
       "    </tr>\n",
       "    <tr>\n",
       "      <th>01_003</th>\n",
       "      <td>59.930021</td>\n",
       "      <td>38.037634</td>\n",
       "      <td>24.321383</td>\n",
       "      <td>0.650017</td>\n",
       "      <td>14.951300</td>\n",
       "      <td>7.547488</td>\n",
       "    </tr>\n",
       "    <tr>\n",
       "      <th>01_004</th>\n",
       "      <td>47.511173</td>\n",
       "      <td>91.229743</td>\n",
       "      <td>77.868016</td>\n",
       "      <td>0.025051</td>\n",
       "      <td>19.282536</td>\n",
       "      <td>7.912925</td>\n",
       "    </tr>\n",
       "    <tr>\n",
       "      <th>01_005</th>\n",
       "      <td>72.548701</td>\n",
       "      <td>80.868167</td>\n",
       "      <td>33.136668</td>\n",
       "      <td>0.362998</td>\n",
       "      <td>33.637145</td>\n",
       "      <td>7.005523</td>\n",
       "    </tr>\n",
       "  </tbody>\n",
       "</table>\n",
       "</div>"
      ],
      "text/plain": [
       "        % Temporal  % Mecánica  % labor agricola  % bosque  \\\n",
       "Clave                                                        \n",
       "01_001   75.123727   83.413297         52.676031  0.044765   \n",
       "01_002   77.939970   79.576299         80.546052  0.101570   \n",
       "01_003   59.930021   38.037634         24.321383  0.650017   \n",
       "01_004   47.511173   91.229743         77.868016  0.025051   \n",
       "01_005   72.548701   80.868167         33.136668  0.362998   \n",
       "\n",
       "        % Herbicidas químicos  % Insecticidas químicos  \n",
       "Clave                                                   \n",
       "01_001              20.376084                 6.765960  \n",
       "01_002              12.520469                 4.501609  \n",
       "01_003              14.951300                 7.547488  \n",
       "01_004              19.282536                 7.912925  \n",
       "01_005              33.637145                 7.005523  "
      ]
     },
     "execution_count": 198,
     "metadata": {},
     "output_type": "execute_result"
    }
   ],
   "source": [
    "datos_subset.head()"
   ]
  },
  {
   "cell_type": "code",
   "execution_count": 199,
   "metadata": {},
   "outputs": [
    {
     "data": {
      "text/plain": [
       "PCA(n_components=2, svd_solver='full')"
      ]
     },
     "execution_count": 199,
     "metadata": {},
     "output_type": "execute_result"
    }
   ],
   "source": [
    "pca.fit(datos_subset)"
   ]
  },
  {
   "cell_type": "code",
   "execution_count": 200,
   "metadata": {},
   "outputs": [
    {
     "data": {
      "text/plain": [
       "array([[-0.38839897,  0.78112651, -0.26819812, -0.0024218 ,  0.32505806,\n",
       "         0.2477676 ],\n",
       "       [-0.02828738,  0.07442689,  0.90071451, -0.05770841,  0.35728011,\n",
       "         0.22670354]])"
      ]
     },
     "execution_count": 200,
     "metadata": {},
     "output_type": "execute_result"
    }
   ],
   "source": [
    "pca.components_"
   ]
  },
  {
   "cell_type": "code",
   "execution_count": 201,
   "metadata": {},
   "outputs": [],
   "source": [
    "X = datos_subset.to_numpy()"
   ]
  },
  {
   "cell_type": "markdown",
   "metadata": {},
   "source": [
    "**Centramos:**"
   ]
  },
  {
   "cell_type": "code",
   "execution_count": 202,
   "metadata": {},
   "outputs": [],
   "source": [
    "X_centered = (X - X.mean(axis=0))"
   ]
  },
  {
   "cell_type": "code",
   "execution_count": 203,
   "metadata": {},
   "outputs": [],
   "source": [
    "m,n = X.shape"
   ]
  },
  {
   "cell_type": "markdown",
   "metadata": {},
   "source": [
    "**Matriz de covarianzas:**"
   ]
  },
  {
   "cell_type": "code",
   "execution_count": 204,
   "metadata": {},
   "outputs": [],
   "source": [
    "cov = (m-1)*np.cov(X_centered, rowvar=False)"
   ]
  },
  {
   "cell_type": "markdown",
   "metadata": {},
   "source": [
    "**$x^*$:**"
   ]
  },
  {
   "cell_type": "code",
   "execution_count": 205,
   "metadata": {},
   "outputs": [],
   "source": [
    "x_ast=np.concatenate((pca.components_[0,:],np.array([pca.singular_values_[0]**2])))"
   ]
  },
  {
   "cell_type": "code",
   "execution_count": 206,
   "metadata": {},
   "outputs": [
    {
     "data": {
      "text/plain": [
       "array([-3.88398968e-01,  7.81126508e-01, -2.68198117e-01, -2.42179569e-03,\n",
       "        3.25058056e-01,  2.47767603e-01,  3.23139898e+06])"
      ]
     },
     "execution_count": 206,
     "metadata": {},
     "output_type": "execute_result"
    }
   ],
   "source": [
    "x_ast"
   ]
  },
  {
   "cell_type": "markdown",
   "metadata": {},
   "source": [
    "**$p^*$:**"
   ]
  },
  {
   "cell_type": "code",
   "execution_count": 207,
   "metadata": {},
   "outputs": [],
   "source": [
    "p_ast=fo_max(x_ast)"
   ]
  },
  {
   "cell_type": "code",
   "execution_count": 208,
   "metadata": {},
   "outputs": [
    {
     "data": {
      "text/plain": [
       "-1615699.4909229008"
      ]
     },
     "execution_count": 208,
     "metadata": {},
     "output_type": "execute_result"
    }
   ],
   "source": [
    "p_ast"
   ]
  },
  {
   "cell_type": "markdown",
   "metadata": {},
   "source": [
    "**Punto inicial $x^{(0)}$:**"
   ]
  },
  {
   "cell_type": "code",
   "execution_count": 209,
   "metadata": {},
   "outputs": [],
   "source": [
    "x_0 = np.zeros(n+1)"
   ]
  },
  {
   "cell_type": "code",
   "execution_count": 210,
   "metadata": {},
   "outputs": [],
   "source": [
    "x_0[0]=1"
   ]
  },
  {
   "cell_type": "code",
   "execution_count": 211,
   "metadata": {},
   "outputs": [],
   "source": [
    "x_0[x_0.size-1]=3e6"
   ]
  },
  {
   "cell_type": "code",
   "execution_count": 212,
   "metadata": {},
   "outputs": [],
   "source": [
    "tol=1e-8\n",
    "tol_backtracking=1e-14\n",
    "maxiter=50"
   ]
  },
  {
   "cell_type": "code",
   "execution_count": 213,
   "metadata": {},
   "outputs": [
    {
     "name": "stdout",
     "output_type": "stream",
     "text": [
      "I\tNormgf \tNewton Decrement\tError x_ast\tError p_ast\tline search\tCondHf\n",
      "0\t2.06e+06\t5.56e+06\t7.16e-02\t6.46e-01\t---\t\t1.07e+13\n",
      "1\t1.68e+06\t9.94e+05\t7.16e-02\t3.32e-01\t1.25e-01\t6.06e+11\n",
      "2\t1.33e+05\t5.48e+03\t1.85e-03\t1.66e-03\t1.00e+00\t1.42e+10\n",
      "3\t7.66e+02\t-1.48e+01\t2.18e-04\t4.59e-06\t1.00e+00\t2.15e+09\n",
      "Error of x with respect to x_ast: 2.18e-04\n",
      "Approximate solution: [ 3.92376689e-01 -7.89381263e-01  2.71034729e-01  2.44457497e-03\n",
      " -3.28494386e-01 -2.50381468e-01  3.23069560e+06]\n"
     ]
    }
   ],
   "source": [
    "[x,total_of_iterations,Err_plot,x_plot]=algorithms_for_uco.Newtons_method(fo_max, x_0,tol, \n",
    "                                                                          tol_backtracking, x_ast, p_ast, maxiter,\n",
    "                                                                          gfo_max,\n",
    "                                                                          Hfo_max)"
   ]
  },
  {
   "cell_type": "markdown",
   "metadata": {},
   "source": [
    "**$x$ aproximada por el método de Newton:**"
   ]
  },
  {
   "cell_type": "code",
   "execution_count": 214,
   "metadata": {},
   "outputs": [
    {
     "data": {
      "text/plain": [
       "array([ 3.92376689e-01, -7.89381263e-01,  2.71034729e-01,  2.44457497e-03,\n",
       "       -3.28494386e-01, -2.50381468e-01,  3.23069560e+06])"
      ]
     },
     "execution_count": 214,
     "metadata": {},
     "output_type": "execute_result"
    }
   ],
   "source": [
    "x[0:10]"
   ]
  },
  {
   "cell_type": "markdown",
   "metadata": {},
   "source": [
    "**$x^*$:**"
   ]
  },
  {
   "cell_type": "code",
   "execution_count": 215,
   "metadata": {},
   "outputs": [
    {
     "data": {
      "text/plain": [
       "array([-3.88398968e-01,  7.81126508e-01, -2.68198117e-01, -2.42179569e-03,\n",
       "        3.25058056e-01,  2.47767603e-01,  3.23139898e+06])"
      ]
     },
     "execution_count": 215,
     "metadata": {},
     "output_type": "execute_result"
    }
   ],
   "source": [
    "x_ast[0:10]"
   ]
  },
  {
   "cell_type": "markdown",
   "metadata": {},
   "source": [
    "**Error relativo:**"
   ]
  },
  {
   "cell_type": "code",
   "execution_count": 216,
   "metadata": {},
   "outputs": [
    {
     "data": {
      "text/plain": [
       "0.01051906717996821"
      ]
     },
     "execution_count": 216,
     "metadata": {},
     "output_type": "execute_result"
    }
   ],
   "source": [
    "compute_error(np.abs(x_ast[0:(x_ast.size-1)]),np.abs(x[0:(x.size-1)]))"
   ]
  },
  {
   "cell_type": "markdown",
   "metadata": {},
   "source": [
    "**Tenemos alrededor de $2$ dígitos de precisión a la dirección principal $v_1$.**"
   ]
  },
  {
   "cell_type": "code",
   "execution_count": 217,
   "metadata": {},
   "outputs": [
    {
     "data": {
      "text/plain": [
       "0.000217672454599147"
      ]
     },
     "execution_count": 217,
     "metadata": {},
     "output_type": "execute_result"
    }
   ],
   "source": [
    "compute_error(x_ast[x_ast.size-1],x[x.size-1])"
   ]
  },
  {
   "cell_type": "markdown",
   "metadata": {},
   "source": [
    "**Tenemos alrededor de $3$ dígitos de precisión al valor singular $\\sigma_{1}$.**"
   ]
  },
  {
   "cell_type": "markdown",
   "metadata": {},
   "source": [
    "**Se observa que tienen signos intercambiados $x^*$ y $x$**. Se multiplica por $-1$ a $x$:"
   ]
  },
  {
   "cell_type": "code",
   "execution_count": 218,
   "metadata": {},
   "outputs": [],
   "source": [
    "x = -x"
   ]
  },
  {
   "cell_type": "markdown",
   "metadata": {},
   "source": [
    "**Para la componente principal $z_1$ calculamos el error con:**"
   ]
  },
  {
   "cell_type": "code",
   "execution_count": 219,
   "metadata": {},
   "outputs": [],
   "source": [
    "z = pca.transform(X)"
   ]
  },
  {
   "cell_type": "code",
   "execution_count": 220,
   "metadata": {},
   "outputs": [],
   "source": [
    "z_approx_1 = X_centered@(x[0:(x.size-1)])"
   ]
  },
  {
   "cell_type": "code",
   "execution_count": 221,
   "metadata": {},
   "outputs": [
    {
     "data": {
      "text/plain": [
       "0.010518574274396326"
      ]
     },
     "execution_count": 221,
     "metadata": {},
     "output_type": "execute_result"
    }
   ],
   "source": [
    "compute_error(np.abs(z[:,0]), np.abs(z_approx_1))"
   ]
  },
  {
   "cell_type": "markdown",
   "metadata": {},
   "source": [
    "**Tenemos alrededor de $2$ dígitos de precisión para la primera componente principal $z_1$**."
   ]
  },
  {
   "cell_type": "markdown",
   "metadata": {},
   "source": [
    "### Aplicamos el método de Deflation"
   ]
  },
  {
   "cell_type": "code",
   "execution_count": 222,
   "metadata": {},
   "outputs": [],
   "source": [
    "X_def = X-np.outer(z_approx_1,x[0:(x.size-1)])"
   ]
  },
  {
   "cell_type": "markdown",
   "metadata": {},
   "source": [
    "**Centramos:**"
   ]
  },
  {
   "cell_type": "code",
   "execution_count": 223,
   "metadata": {},
   "outputs": [],
   "source": [
    "X_centered = X_def - X_def.mean(axis=0)"
   ]
  },
  {
   "cell_type": "markdown",
   "metadata": {},
   "source": [
    "**Matriz de covarianzas:**"
   ]
  },
  {
   "cell_type": "code",
   "execution_count": 224,
   "metadata": {},
   "outputs": [],
   "source": [
    "cov = (m-1)*np.cov(X_centered, rowvar=False)"
   ]
  },
  {
   "cell_type": "code",
   "execution_count": 225,
   "metadata": {},
   "outputs": [],
   "source": [
    "x_ast=np.concatenate((pca.components_[1,:],np.array([pca.singular_values_[1]**2])))"
   ]
  },
  {
   "cell_type": "markdown",
   "metadata": {},
   "source": [
    "**$x^*$:**"
   ]
  },
  {
   "cell_type": "code",
   "execution_count": 226,
   "metadata": {},
   "outputs": [
    {
     "data": {
      "text/plain": [
       "array([-2.82873817e-02,  7.44268899e-02,  9.00714510e-01, -5.77084114e-02,\n",
       "        3.57280109e-01,  2.26703542e-01,  1.62206510e+06])"
      ]
     },
     "execution_count": 226,
     "metadata": {},
     "output_type": "execute_result"
    }
   ],
   "source": [
    "x_ast[0:10]"
   ]
  },
  {
   "cell_type": "markdown",
   "metadata": {},
   "source": [
    "**Valor óptimo $p^*$:**"
   ]
  },
  {
   "cell_type": "code",
   "execution_count": 227,
   "metadata": {},
   "outputs": [
    {
     "data": {
      "text/plain": [
       "-1615699.4909229008"
      ]
     },
     "execution_count": 227,
     "metadata": {},
     "output_type": "execute_result"
    }
   ],
   "source": [
    "p_ast"
   ]
  },
  {
   "cell_type": "code",
   "execution_count": 228,
   "metadata": {},
   "outputs": [
    {
     "data": {
      "text/plain": [
       "1622065.100229333"
      ]
     },
     "execution_count": 228,
     "metadata": {},
     "output_type": "execute_result"
    }
   ],
   "source": [
    "x_ast[x_ast.size-1]"
   ]
  },
  {
   "cell_type": "markdown",
   "metadata": {},
   "source": [
    "**Punto inicial $x^{(0)}$:**"
   ]
  },
  {
   "cell_type": "code",
   "execution_count": 229,
   "metadata": {},
   "outputs": [],
   "source": [
    "x_0 = np.zeros(n+1)"
   ]
  },
  {
   "cell_type": "code",
   "execution_count": 230,
   "metadata": {},
   "outputs": [],
   "source": [
    "x_0[x_0.size-2]=1"
   ]
  },
  {
   "cell_type": "code",
   "execution_count": 231,
   "metadata": {},
   "outputs": [],
   "source": [
    "x_0[x_0.size-1] = 1600000"
   ]
  },
  {
   "cell_type": "code",
   "execution_count": 232,
   "metadata": {},
   "outputs": [],
   "source": [
    "tol=1e-8\n",
    "tol_backtracking=1e-14\n",
    "maxiter=50\n",
    "p_ast=fo_max(x_ast)\n"
   ]
  },
  {
   "cell_type": "code",
   "execution_count": 233,
   "metadata": {},
   "outputs": [
    {
     "name": "stdout",
     "output_type": "stream",
     "text": [
      "I\tNormgf \tNewton Decrement\tError x_ast\tError p_ast\tline search\tCondHf\n",
      "0\t1.33e+06\t1.90e+06\t1.36e-02\t7.93e-01\t---\t\t1.02e+12\n",
      "1\t9.72e+05\t7.87e+05\t8.45e-02\t5.38e-01\t2.50e-01\t7.32e+10\n",
      "2\t7.52e+04\t2.46e+04\t2.51e-02\t1.66e-02\t1.00e+00\t4.21e+10\n",
      "3\t8.02e+03\t4.47e+02\t4.74e-03\t2.80e-04\t1.00e+00\t1.18e+10\n",
      "4\t2.14e+02\t1.75e-01\t1.32e-04\t1.08e-07\t1.00e+00\t3.46e+08\n",
      "5\t8.73e-02\t1.46e-08\t5.39e-08\t3.92e-11\t1.00e+00\t1.69e+06\n",
      "Error of x with respect to x_ast: 5.39e-08\n",
      "Approximate solution: [-2.82898175e-02  7.44317860e-02  9.00712906e-01 -5.77084313e-02\n",
      "  3.57282175e-01  2.26705114e-01  1.62206519e+06]\n"
     ]
    }
   ],
   "source": [
    "[x,total_of_iterations,Err_plot,x_plot]=algorithms_for_uco.Newtons_method(fo_max, x_0,tol, \n",
    "                                                                          tol_backtracking, x_ast, p_ast, maxiter,\n",
    "                                                                          gfo_max,\n",
    "                                                                          Hfo_max)"
   ]
  },
  {
   "cell_type": "markdown",
   "metadata": {},
   "source": [
    "**$x$ aproximada por el método de Newton:**"
   ]
  },
  {
   "cell_type": "code",
   "execution_count": 234,
   "metadata": {},
   "outputs": [
    {
     "data": {
      "text/plain": [
       "array([-2.82898175e-02,  7.44317860e-02,  9.00712906e-01, -5.77084313e-02,\n",
       "        3.57282175e-01,  2.26705114e-01,  1.62206519e+06])"
      ]
     },
     "execution_count": 234,
     "metadata": {},
     "output_type": "execute_result"
    }
   ],
   "source": [
    "x[0:10]"
   ]
  },
  {
   "cell_type": "markdown",
   "metadata": {},
   "source": [
    "**$x^*$:**"
   ]
  },
  {
   "cell_type": "code",
   "execution_count": 235,
   "metadata": {},
   "outputs": [
    {
     "data": {
      "text/plain": [
       "array([-2.82873817e-02,  7.44268899e-02,  9.00714510e-01, -5.77084114e-02,\n",
       "        3.57280109e-01,  2.26703542e-01,  1.62206510e+06])"
      ]
     },
     "execution_count": 235,
     "metadata": {},
     "output_type": "execute_result"
    }
   ],
   "source": [
    "x_ast[0:10]"
   ]
  },
  {
   "cell_type": "markdown",
   "metadata": {},
   "source": [
    "**Error relativo:**"
   ]
  },
  {
   "cell_type": "code",
   "execution_count": 236,
   "metadata": {},
   "outputs": [
    {
     "data": {
      "text/plain": [
       "6.262570580298548e-06"
      ]
     },
     "execution_count": 236,
     "metadata": {},
     "output_type": "execute_result"
    }
   ],
   "source": [
    "compute_error(np.abs(x_ast[0:(x_ast.size-1)]),np.abs(x[0:(x.size-1)]))"
   ]
  },
  {
   "cell_type": "markdown",
   "metadata": {},
   "source": [
    "**Tenemos alrededor de $6$ dígitos de precisión a la dirección principal $v_2$.**"
   ]
  },
  {
   "cell_type": "code",
   "execution_count": 237,
   "metadata": {},
   "outputs": [
    {
     "data": {
      "text/plain": [
       "5.3869140491686594e-08"
      ]
     },
     "execution_count": 237,
     "metadata": {},
     "output_type": "execute_result"
    }
   ],
   "source": [
    "compute_error(x_ast[x_ast.size-1],x[x.size-1])"
   ]
  },
  {
   "cell_type": "markdown",
   "metadata": {},
   "source": [
    "**Tenemos alrededor de $8$ dígitos de precisión al valor singular $\\sigma_{2}$.**"
   ]
  },
  {
   "cell_type": "markdown",
   "metadata": {},
   "source": [
    "**Para la componente principal $z_2$ calculamos el error con:**"
   ]
  },
  {
   "cell_type": "code",
   "execution_count": 238,
   "metadata": {},
   "outputs": [],
   "source": [
    "z_approx_2 = X_centered@(x[0:(x.size-1)])"
   ]
  },
  {
   "cell_type": "code",
   "execution_count": 239,
   "metadata": {},
   "outputs": [
    {
     "data": {
      "text/plain": [
       "9.032257712759627e-06"
      ]
     },
     "execution_count": 239,
     "metadata": {},
     "output_type": "execute_result"
    }
   ],
   "source": [
    "compute_error(np.abs(z[:,1]), np.abs(z_approx_2))"
   ]
  },
  {
   "cell_type": "markdown",
   "metadata": {},
   "source": [
    "**Tenemos alrededor de $6$ dígitos de precisión a la componente principal $z_2$.**"
   ]
  },
  {
   "cell_type": "markdown",
   "metadata": {},
   "source": [
    "### Realizamos la gráfica de los clústers del trabajo de [Irene Ramos](https://github.com/iramosp/tesis-paisajes/blob/master/Tipologia_manejo_agricola.ipynb) con las componentes calculadas por el método de Newton:"
   ]
  },
  {
   "cell_type": "code",
   "execution_count": 240,
   "metadata": {},
   "outputs": [],
   "source": [
    "from sklearn.cluster import KMeans\n",
    "import matplotlib.colors"
   ]
  },
  {
   "cell_type": "code",
   "execution_count": 241,
   "metadata": {},
   "outputs": [],
   "source": [
    "z_approx = np.column_stack((z_approx_1, z_approx_2))"
   ]
  },
  {
   "cell_type": "code",
   "execution_count": 242,
   "metadata": {},
   "outputs": [
    {
     "data": {
      "text/plain": [
       "array([[ 45.48709264,   7.98228084],\n",
       "       [ 30.65185085,  29.39661208],\n",
       "       [ 21.72733447, -22.30061482],\n",
       "       ...,\n",
       "       [ 44.88589098,   1.40321842],\n",
       "       [ 23.98011292,  15.22695347],\n",
       "       [ 25.30443316, -22.04857191]])"
      ]
     },
     "execution_count": 242,
     "metadata": {},
     "output_type": "execute_result"
    }
   ],
   "source": [
    "z_approx #estas son las dos componentes principales"
   ]
  },
  {
   "cell_type": "markdown",
   "metadata": {},
   "source": [
    "**Método de [K-means](https://en.wikipedia.org/wiki/K-means_clustering)**"
   ]
  },
  {
   "cell_type": "code",
   "execution_count": 243,
   "metadata": {},
   "outputs": [],
   "source": [
    "kmeans = KMeans(n_clusters = 4)\n",
    "kmeans.fit(z_approx)\n",
    "centers = kmeans.cluster_centers_\n",
    "labels = kmeans.labels_"
   ]
  },
  {
   "cell_type": "code",
   "execution_count": 244,
   "metadata": {},
   "outputs": [],
   "source": [
    "gold = matplotlib.colors.to_rgba('Gold')\n",
    "green = matplotlib.colors.to_rgba('SeaGreen')\n",
    "purple = matplotlib.colors.to_rgba('Indigo')\n",
    "blue = matplotlib.colors.to_rgba('RoyalBlue')\n",
    "\n",
    "mis_colores = matplotlib.colors.ListedColormap([gold, blue, purple, green],\n",
    "                                               'mis_colores')"
   ]
  },
  {
   "cell_type": "code",
   "execution_count": 245,
   "metadata": {},
   "outputs": [
    {
     "data": {
      "image/png": "[encoded data removed]",
      "text/plain": [
       "<Figure size 432x288 with 1 Axes>"
      ]
     },
     "metadata": {
      "needs_background": "light"
     },
     "output_type": "display_data"
    }
   ],
   "source": [
    "plt.scatter(z_approx[:, 0], z_approx[:, 1], c=labels, s=40, \n",
    "            cmap=mis_colores, alpha=0.5, vmin = 0, vmax=3)\n",
    "plt.scatter(centers[:, 0], centers[:, 1], c='red', s=200, alpha=0.5);\n",
    "plt.xlabel('Componente 1 \\n (intensificación)')\n",
    "plt.ylabel('Componente 2 \\n (área agríola)')\n",
    "plt.title('Componentes calculadas con el método de Newton')\n",
    "plt.show()"
   ]
  },
  {
   "cell_type": "markdown",
   "metadata": {},
   "source": [
    "**Comentario final sobre la nota:**\n",
    "\n",
    "Si bien el enfoque que se revisó en esta nota resaltó la alta dependencia del punto inicial para el método de Newton, representa un ejemplo de uso de métodos de descenso para resolver el problema de componentes principales. En [Sparse Principal Component Analysis](https://web.stanford.edu/~hastie/Papers/spc_jcgs.pdf) se utiliza un enfoque similar al de la función [glmnet](https://www.rdocumentation.org/packages/glmnet/versions/3.0-2/topics/glmnet) vía [4.2.Descenso_por_coordenadas_R](https://github.com/ITAM-DS/analisis-numerico-computo-cientifico/blob/master/temas/IV.optimizacion_convexa_y_machine_learning/4.2.Descenso_por_coordenadas_R.ipynb). En este paper además de realizar la reducción de dimensionalidad, las componentes principales tienen una mejor interpretabilidad debido a que los *loadings* resultantes son cero y por tanto se seleccionan variables más importantes. Ver [Sparse PCA](https://en.wikipedia.org/wiki/Sparse_PCA) para referencias de métodos que buscan resolver *Sparse PCA*."
   ]
  },
  {
   "cell_type": "markdown",
   "metadata": {},
   "source": [
    "**Referencias:**\n",
    "\n",
    "* S. P. Boyd, L. Vandenberghe, Convex Optimization, Cambridge University Press, 2009.\n",
    "\n",
    "* [3.5.Aplicaciones_del_algebra_lineal_numerica](https://www.dropbox.com/s/dfwk0y04ksgfilv/3.5.Aplicaciones_del_algebra_lineal_numerica.pdf?dl=0)\n",
    "\n",
    "* [Tipologia_manejo_agricola](https://github.com/iramosp/tesis-paisajes/blob/master/Tipologia_manejo_agricola.ipynb) por [Irene Ramos](https://github.com/iramosp)."
   ]
  }
 ],
 "metadata": {
  "kernelspec": {
   "display_name": "Python 3",
   "language": "python",
   "name": "python3"
  },
  "language_info": {
   "codemirror_mode": {
    "name": "ipython",
    "version": 3
   },
   "file_extension": ".py",
   "mimetype": "text/x-python",
   "name": "python",
   "nbconvert_exporter": "python",
   "pygments_lexer": "ipython3",
   "version": "3.6.9"
  }
 },
 "nbformat": 4,
 "nbformat_minor": 4
}
