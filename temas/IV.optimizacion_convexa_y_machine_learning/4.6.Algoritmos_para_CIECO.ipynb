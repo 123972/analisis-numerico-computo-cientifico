{
 "cells": [
  {
   "cell_type": "markdown",
   "metadata": {},
   "source": [
    "**Notas para contenedor de docker:**"
   ]
  },
  {
   "cell_type": "markdown",
   "metadata": {},
   "source": [
    "Comando de docker para ejecución de la nota de forma local:\n",
    "\n",
    "nota: cambiar `<ruta a mi directorio>` por la ruta de directorio que se desea mapear a `/datos` dentro del contenedor de docker.\n",
    "\n",
    "```\n",
    "docker run --rm -v <ruta a mi directorio>:/datos --name jupyterlab_numerical -p 8888:8888 -d palmoreck/jupyterlab_numerical:1.1.0\n",
    "```\n",
    "\n",
    "password para jupyterlab: `qwerty`\n",
    "\n",
    "Detener el contenedor de docker:\n",
    "\n",
    "```\n",
    "docker stop jupyterlab_numerical\n",
    "```\n"
   ]
  },
  {
   "cell_type": "markdown",
   "metadata": {},
   "source": [
    "Documentación de la imagen de docker `palmoreck/jupyterlab_numerical:1.1.0` en [liga](https://github.com/palmoreck/dockerfiles/tree/master/jupyterlab/numerical)."
   ]
  },
  {
   "cell_type": "markdown",
   "metadata": {},
   "source": [
    "---"
   ]
  },
  {
   "cell_type": "markdown",
   "metadata": {},
   "source": [
    "Nota generada a partir de [liga1](https://drive.google.com/file/d/1zCIHNAxe5Shc36Qo0XjehHgwrafKSJ_t/view), [liga2](https://drive.google.com/file/d/12L7rOCgW7NEKl_xJbIGZz05XXVrOaPBz/view)."
   ]
  },
  {
   "cell_type": "code",
   "execution_count": 1,
   "metadata": {},
   "outputs": [
    {
     "name": "stdout",
     "output_type": "stream",
     "text": [
      "\u001b[33m  WARNING: The scripts futurize and pasteurize are installed in '/home/miuser/.local/bin' which is not on PATH.\n",
      "  Consider adding this directory to PATH or, if you prefer to suppress this warning, use --no-warn-script-location.\u001b[0m\n",
      "\u001b[33mWARNING: You are using pip version 19.3.1; however, version 20.1.1 is available.\n",
      "You should consider upgrading via the 'pip install --upgrade pip' command.\u001b[0m\n"
     ]
    }
   ],
   "source": [
    "!pip3 install --user -q cvxpy"
   ]
  },
  {
   "cell_type": "code",
   "execution_count": 1,
   "metadata": {},
   "outputs": [],
   "source": [
    "import os"
   ]
  },
  {
   "cell_type": "code",
   "execution_count": 2,
   "metadata": {},
   "outputs": [],
   "source": [
    "cur_directory = os.getcwd()"
   ]
  },
  {
   "cell_type": "code",
   "execution_count": 3,
   "metadata": {},
   "outputs": [],
   "source": [
    "dir_alg_python = '/algoritmos/Python'"
   ]
  },
  {
   "cell_type": "code",
   "execution_count": 4,
   "metadata": {},
   "outputs": [],
   "source": [
    "os.chdir(cur_directory + dir_alg_python)"
   ]
  },
  {
   "cell_type": "code",
   "execution_count": 5,
   "metadata": {},
   "outputs": [],
   "source": [
    "import math\n",
    "\n",
    "import numpy as np\n",
    "\n",
    "from utils import compute_error\n",
    "\n",
    "import algorithms_for_cieco\n"
   ]
  },
  {
   "cell_type": "markdown",
   "metadata": {},
   "source": [
    "# Primer ejemplo"
   ]
  },
  {
   "cell_type": "markdown",
   "metadata": {},
   "source": [
    "$$ \\min \\quad x_1^2 + x_2^2 + x_3^2 + x_4^2 -2x_1-3x_4$$"
   ]
  },
  {
   "cell_type": "markdown",
   "metadata": {},
   "source": [
    "$$\\text{sujeto a: } $$"
   ]
  },
  {
   "cell_type": "markdown",
   "metadata": {},
   "source": [
    "$$\n",
    "\\begin{array}{c}\n",
    "2x_1 + x_2 + x_3 + 4x_4 = 7 \\\\\n",
    "x_1 + x_2 + 2x_3 + x_4 = 6\n",
    "\\end{array}\n",
    "$$"
   ]
  },
  {
   "cell_type": "markdown",
   "metadata": {},
   "source": [
    "$$x_1, x_2, x_3, x_4 \\geq 0$$"
   ]
  },
  {
   "cell_type": "code",
   "execution_count": 6,
   "metadata": {},
   "outputs": [],
   "source": [
    "fo = lambda x: x[0]**2 + x[1]**2 + x[2]**2 + x[3]**2-2*x[0]-3*x[3]"
   ]
  },
  {
   "cell_type": "code",
   "execution_count": 7,
   "metadata": {},
   "outputs": [],
   "source": [
    "const = {0: lambda x: -x[0],\n",
    "         1: lambda x: -x[1],\n",
    "         2: lambda x: -x[2],\n",
    "         3: lambda x: -x[3]\n",
    "        }"
   ]
  },
  {
   "cell_type": "code",
   "execution_count": 8,
   "metadata": {},
   "outputs": [],
   "source": [
    "A= np.array([[2,1,1,4],\n",
    "             [1,1,2,1]])"
   ]
  },
  {
   "cell_type": "code",
   "execution_count": 9,
   "metadata": {},
   "outputs": [],
   "source": [
    "b=np.array([7,6])"
   ]
  },
  {
   "cell_type": "code",
   "execution_count": 10,
   "metadata": {},
   "outputs": [],
   "source": [
    "x_ast=np.array([1.1232876712328763,0.6506849315068493,\n",
    "                1.8287671232876714,0.5684931506849317])"
   ]
  },
  {
   "cell_type": "code",
   "execution_count": 11,
   "metadata": {},
   "outputs": [],
   "source": [
    "x_0 = np.array([8.082191780821915e-01,\n",
    "                8.767123287671235e-01,\n",
    "                1.821917808219178e+00,\n",
    "                6.712328767123281e-01])"
   ]
  },
  {
   "cell_type": "code",
   "execution_count": 12,
   "metadata": {},
   "outputs": [
    {
     "data": {
      "text/plain": [
       "array([0.80821918, 0.87671233, 1.82191781, 0.67123288])"
      ]
     },
     "execution_count": 12,
     "metadata": {},
     "output_type": "execute_result"
    }
   ],
   "source": [
    "x_0"
   ]
  },
  {
   "cell_type": "code",
   "execution_count": 13,
   "metadata": {},
   "outputs": [],
   "source": [
    "p_ast=fo(x_ast)"
   ]
  },
  {
   "cell_type": "code",
   "execution_count": 14,
   "metadata": {},
   "outputs": [
    {
     "data": {
      "text/plain": [
       "1.4006849315068495"
      ]
     },
     "execution_count": 14,
     "metadata": {},
     "output_type": "execute_result"
    }
   ],
   "source": [
    "p_ast"
   ]
  },
  {
   "cell_type": "code",
   "execution_count": 15,
   "metadata": {},
   "outputs": [],
   "source": [
    "tol_outer_iter = 1e-6\n",
    "tol=1e-8\n",
    "tol_backtracking=1e-12\n",
    "maxiter=30\n",
    "mu=10"
   ]
  },
  {
   "cell_type": "code",
   "execution_count": 16,
   "metadata": {},
   "outputs": [
    {
     "name": "stdout",
     "output_type": "stream",
     "text": [
      "Outer iterations of path following method\n",
      "Mu value: 1.00e+01\n",
      "Outer iteration\tLogBarrier \tt_log_barrier\tStopping criteria\n",
      "1\t\t3.87e+01\t2.49e+01\t1.61e-01\n",
      "----------------------------------------------------------------------------------------\n",
      "I\tNorm gfLogBarrier \tNewton Decrement\tError x_ast\tError p_ast\tline search\tCondHf\n",
      "0\t\t1.09e+02\t\t7.74e+00\t1.73e-01\t1.15e-01\t---\t\t1.04e+00\n",
      "1\t\t1.09e+02\t\t3.10e-04\t7.71e-03\t2.27e-04\t1.00e+00\t1.04e+00\n",
      "2\t\t1.09e+02\t\t3.10e-04\t7.71e-03\t2.27e-04\t2.27e-13\t1.04e+00\n",
      "Error of x with respect to x_ast: 7.71e-03\n",
      "Approximate solution: [1.11865825 0.66695832 1.8231155  0.56815242]\n",
      "Backtracking value less than tol_backtracking, check approximation\n",
      "Inner iterations\n",
      "[1.11865825 0.66695832 1.8231155  0.56815242]\n",
      "----------------------------------------------------------------------------------------\n",
      "Outer iterations of path following method\n",
      "Mu value: 1.00e+01\n",
      "Outer iteration\tLogBarrier \tt_log_barrier\tStopping criteria\n",
      "2\t\t3.48e+02\t2.49e+02\t1.61e-02\n",
      "----------------------------------------------------------------------------------------\n",
      "I\tNorm gfLogBarrier \tNewton Decrement\tError x_ast\tError p_ast\tline search\tCondHf\n",
      "0\t\t1.09e+03\t\t7.97e+01\t1.73e-01\t1.15e-01\t---\t\t1.00e+00\n",
      "1\t\t1.09e+03\t\t9.56e-05\t8.05e-04\t2.48e-06\t1.00e+00\t1.00e+00\n",
      "2\t\t1.09e+03\t\t9.56e-05\t8.05e-04\t2.48e-06\t5.82e-11\t1.00e+00\n",
      "3\t\t1.09e+03\t\t9.56e-05\t8.05e-04\t2.48e-06\t4.66e-10\t1.00e+00\n",
      "4\t\t1.09e+03\t\t9.56e-05\t8.05e-04\t2.48e-06\t9.09e-13\t1.00e+00\n",
      "Error of x with respect to x_ast: 8.05e-04\n",
      "Approximate solution: [1.12264501 0.65235043 1.82823695 0.56853065]\n",
      "Backtracking value less than tol_backtracking, check approximation\n",
      "Inner iterations\n",
      "[1.12264501 0.65235043 1.82823695 0.56853065]\n",
      "----------------------------------------------------------------------------------------\n",
      "Outer iterations of path following method\n",
      "Mu value: 1.00e+01\n",
      "Outer iteration\tLogBarrier \tt_log_barrier\tStopping criteria\n",
      "3\t\t3.48e+03\t2.49e+03\t1.61e-03\n",
      "----------------------------------------------------------------------------------------\n",
      "I\tNorm gfLogBarrier \tNewton Decrement\tError x_ast\tError p_ast\tline search\tCondHf\n",
      "0\t\t1.09e+04\t\t7.99e+02\t1.73e-01\t1.15e-01\t---\t\t1.00e+00\n",
      "1\t\t1.09e+04\t\t2.59e-04\t1.28e-04\t6.26e-08\t1.00e+00\t1.00e+00\n",
      "2\t\t1.09e+04\t\t9.42e-12\t8.44e-05\t2.72e-08\t1.00e+00\t1.00e+00\n",
      "Error of x with respect to x_ast: 8.44e-05\n",
      "Approximate solution: [1.12325838 0.65086494 1.82869835 0.56847999]\n",
      "Inner iterations\n",
      "[1.12325838 0.65086494 1.82869835 0.56847999]\n",
      "----------------------------------------------------------------------------------------\n",
      "Outer iterations of path following method\n",
      "Mu value: 1.00e+01\n",
      "Outer iteration\tLogBarrier \tt_log_barrier\tStopping criteria\n",
      "4\t\t3.48e+04\t2.49e+04\t1.61e-04\n",
      "----------------------------------------------------------------------------------------\n",
      "I\tNorm gfLogBarrier \tNewton Decrement\tError x_ast\tError p_ast\tline search\tCondHf\n",
      "0\t\t1.09e+05\t\t8.00e+03\t1.73e-01\t1.15e-01\t---\t\t1.00e+00\n",
      "1\t\t1.09e+05\t\t2.18e-03\t9.11e-05\t3.17e-08\t1.00e+00\t1.00e+00\n",
      "2\t\t1.09e+05\t\t4.72e-10\t8.40e-06\t2.70e-10\t1.00e+00\t1.00e+00\n",
      "Error of x with respect to x_ast: 8.40e-06\n",
      "Approximate solution: [1.12328471 0.65070284 1.82876029 0.56849186]\n",
      "Inner iterations\n",
      "[1.12328471 0.65070284 1.82876029 0.56849186]\n",
      "----------------------------------------------------------------------------------------\n",
      "Outer iterations of path following method\n",
      "Mu value: 1.00e+01\n",
      "Outer iteration\tLogBarrier \tt_log_barrier\tStopping criteria\n",
      "5\t\t3.48e+05\t2.49e+05\t1.61e-05\n",
      "----------------------------------------------------------------------------------------\n",
      "I\tNorm gfLogBarrier \tNewton Decrement\tError x_ast\tError p_ast\tline search\tCondHf\n",
      "0\t\t1.09e+06\t\t8.00e+04\t1.73e-01\t1.15e-01\t---\t\t1.00e+00\n",
      "1\t\t1.09e+06\t\t2.14e-02\t8.97e-05\t3.07e-08\t1.00e+00\t1.00e+00\n",
      "2\t\t1.09e+06\t\t3.90e-10\t8.33e-07\t2.65e-12\t1.00e+00\t1.00e+00\n",
      "Error of x with respect to x_ast: 8.33e-07\n",
      "Approximate solution: [1.12328736 0.65068671 1.82876645 0.56849303]\n",
      "Inner iterations\n",
      "[1.12328736 0.65068671 1.82876645 0.56849303]\n",
      "----------------------------------------------------------------------------------------\n",
      "Outer iterations of path following method\n",
      "Mu value: 1.00e+01\n",
      "Outer iteration\tLogBarrier \tt_log_barrier\tStopping criteria\n",
      "6\t\t3.48e+06\t2.49e+06\t1.61e-06\n",
      "----------------------------------------------------------------------------------------\n",
      "I\tNorm gfLogBarrier \tNewton Decrement\tError x_ast\tError p_ast\tline search\tCondHf\n",
      "0\t\t1.09e+07\t\t8.00e+05\t1.73e-01\t1.15e-01\t---\t\t1.00e+00\n",
      "1\t\t1.09e+07\t\t2.13e-01\t8.96e-05\t3.07e-08\t1.00e+00\t1.00e+00\n",
      "2\t\t1.09e+07\t\t2.78e-08\t1.14e-07\t5.26e-14\t1.00e+00\t1.00e+00\n",
      "3\t\t1.09e+07\t\t1.54e-08\t9.03e-08\t3.65e-14\t1.00e+00\t1.00e+00\n",
      "Error of x with respect to x_ast: 9.03e-08\n",
      "Approximate solution: [1.12328763 0.65068512 1.82876705 0.56849314]\n",
      "Inner iterations\n",
      "[1.12328763 0.65068512 1.82876705 0.56849314]\n",
      "----------------------------------------------------------------------------------------\n",
      "Outer iterations of path following method\n",
      "Mu value: 1.00e+01\n",
      "Outer iteration\tLogBarrier \tt_log_barrier\tStopping criteria\n",
      "7\t\t3.48e+07\t2.49e+07\t1.61e-07\n",
      "----------------------------------------------------------------------------------------\n"
     ]
    }
   ],
   "source": [
    "[x,iter_barrier,t] = algorithms_for_cieco.Path_following_method(fo, A, const,\n",
    "                                           x_0, tol,\n",
    "                                           tol_backtracking, x_ast, p_ast, maxiter,\n",
    "                                           mu, tol_outer_iter = tol_outer_iter \n",
    "                                          )"
   ]
  },
  {
   "cell_type": "code",
   "execution_count": 17,
   "metadata": {},
   "outputs": [
    {
     "data": {
      "text/plain": [
       "[array([1.12328763, 0.65068512, 1.82876705, 0.56849314]),\n",
       " 174,\n",
       " 24851063.829786982]"
      ]
     },
     "execution_count": 17,
     "metadata": {},
     "output_type": "execute_result"
    }
   ],
   "source": [
    "[x,iter_barrier,t]"
   ]
  },
  {
   "cell_type": "code",
   "execution_count": 18,
   "metadata": {},
   "outputs": [
    {
     "data": {
      "text/plain": [
       "9.029491544987291e-08"
      ]
     },
     "execution_count": 18,
     "metadata": {},
     "output_type": "execute_result"
    }
   ],
   "source": [
    "compute_error(x_ast,x)"
   ]
  },
  {
   "cell_type": "markdown",
   "metadata": {},
   "source": [
    "# Comparación con [cvxpy](https://github.com/cvxgrp/cvxpy)"
   ]
  },
  {
   "cell_type": "code",
   "execution_count": 19,
   "metadata": {},
   "outputs": [],
   "source": [
    "import cvxpy as cp"
   ]
  },
  {
   "cell_type": "code",
   "execution_count": 20,
   "metadata": {},
   "outputs": [],
   "source": [
    "x1 = cp.Variable()\n",
    "x2 = cp.Variable()\n",
    "x3 = cp.Variable()\n",
    "x4 = cp.Variable()\n"
   ]
  },
  {
   "cell_type": "code",
   "execution_count": 21,
   "metadata": {},
   "outputs": [],
   "source": [
    "# Create two constraints.\n",
    "constraints = [2*x1+x2+x3+4*x4-7 == 0,x1+x2+2*x3+x4-6 == 0,x1>=0,x2>=0,x3>=0,x4>=0]\n",
    "\n",
    "# Form objective.\n",
    "\n",
    "obj = cp.Minimize(x1**2+x2**2+x3**2+x4**2-2*x1-3*x4)"
   ]
  },
  {
   "cell_type": "code",
   "execution_count": 22,
   "metadata": {},
   "outputs": [
    {
     "data": {
      "text/plain": [
       "1.4006849315068515"
      ]
     },
     "execution_count": 22,
     "metadata": {},
     "output_type": "execute_result"
    }
   ],
   "source": [
    "# Form and solve problem.\n",
    "prob = cp.Problem(obj, constraints)\n",
    "prob.solve()  # Returns the optimal value."
   ]
  },
  {
   "cell_type": "code",
   "execution_count": 23,
   "metadata": {},
   "outputs": [
    {
     "name": "stdout",
     "output_type": "stream",
     "text": [
      "status: optimal\n",
      "optimal value 1.4006849315068515\n",
      "optimal var 1.1232876712328763 0.6506849315068494 1.8287671232876717 0.5684931506849316\n"
     ]
    }
   ],
   "source": [
    "print(\"status:\", prob.status)\n",
    "print(\"optimal value\", prob.value)\n",
    "print(\"optimal var\", x1.value, x2.value, x3.value,x4.value)"
   ]
  },
  {
   "cell_type": "markdown",
   "metadata": {},
   "source": [
    "# Segundo ejemplo"
   ]
  },
  {
   "cell_type": "markdown",
   "metadata": {},
   "source": [
    "$$\\min 2x_1 + 5x_2$$"
   ]
  },
  {
   "cell_type": "markdown",
   "metadata": {},
   "source": [
    "$$\\text{sujeto a: }$$"
   ]
  },
  {
   "cell_type": "markdown",
   "metadata": {},
   "source": [
    "$$\n",
    "\\begin{array}{c}\n",
    "6-x_1-x_2 \\leq 0 \\\\\n",
    "-18 + x_1 +2x_2 \\leq 0\\\\\n",
    "x_1, x_2 \\geq 0\n",
    "\\end{array}\n",
    "$$"
   ]
  },
  {
   "cell_type": "code",
   "execution_count": 24,
   "metadata": {},
   "outputs": [],
   "source": [
    "fo = lambda x: 2*x[0] + 5*x[1]"
   ]
  },
  {
   "cell_type": "code",
   "execution_count": 25,
   "metadata": {},
   "outputs": [],
   "source": [
    "const = {0: lambda x: 6-x[0]-x[1],\n",
    "         1: lambda x: -18+x[0]+2*x[1],\n",
    "         2: lambda x: -x[0],\n",
    "         3: lambda x: -x[1]\n",
    "        }"
   ]
  },
  {
   "cell_type": "code",
   "execution_count": 26,
   "metadata": {},
   "outputs": [],
   "source": [
    "A=np.array([0,0],dtype=float)\n",
    "b = 0"
   ]
  },
  {
   "cell_type": "code",
   "execution_count": 27,
   "metadata": {},
   "outputs": [],
   "source": [
    "x_ast = np.array([6,0], dtype=float)"
   ]
  },
  {
   "cell_type": "code",
   "execution_count": 28,
   "metadata": {},
   "outputs": [],
   "source": [
    "x_0 = np.array([4,4], dtype=float)"
   ]
  },
  {
   "cell_type": "code",
   "execution_count": 29,
   "metadata": {},
   "outputs": [],
   "source": [
    "p_ast=fo(x_ast)"
   ]
  },
  {
   "cell_type": "code",
   "execution_count": 30,
   "metadata": {},
   "outputs": [
    {
     "data": {
      "text/plain": [
       "12.0"
      ]
     },
     "execution_count": 30,
     "metadata": {},
     "output_type": "execute_result"
    }
   ],
   "source": [
    "p_ast"
   ]
  },
  {
   "cell_type": "code",
   "execution_count": 31,
   "metadata": {},
   "outputs": [],
   "source": [
    "tol_outer_iter = 1e-3\n",
    "tol=1e-8\n",
    "tol_backtracking=1e-12\n",
    "maxiter=30\n",
    "mu=10"
   ]
  },
  {
   "cell_type": "code",
   "execution_count": 32,
   "metadata": {},
   "outputs": [
    {
     "name": "stdout",
     "output_type": "stream",
     "text": [
      "Outer iterations of path following method\n",
      "Mu value: 1.00e+01\n",
      "Outer iteration\tLogBarrier \tt_log_barrier\tStopping criteria\n",
      "1\t\t1.23e+01\t2.50e-01\t1.60e+01\n",
      "----------------------------------------------------------------------------------------\n",
      "I\tNorm gfLogBarrier \tNewton Decrement\tError x_ast\tError p_ast\tline search\tCondHf\n",
      "0\t\t8.37e-01\t\t5.59e+00\t7.45e-01\t1.33e+00\t---\t\t9.46e+00\n",
      "1\t\t8.37e-01\t\t2.61e-02\t2.15e-01\t5.37e-01\t5.00e-01\t9.46e+00\n",
      "2\t\t8.37e-01\t\t2.61e-02\t2.15e-01\t5.37e-01\t1.78e-15\t9.46e+00\n",
      "Error of x with respect to x_ast: 2.15e-01\n",
      "Approximate solution: [6.88318309 0.93672033]\n",
      "Backtracking value less than tol_backtracking, check approximation\n",
      "Inner iterations\n",
      "[6.88318309 0.93672033]\n",
      "----------------------------------------------------------------------------------------\n",
      "Outer iterations of path following method\n",
      "Mu value: 1.00e+01\n",
      "Outer iteration\tLogBarrier \tt_log_barrier\tStopping criteria\n",
      "2\t\t5.08e+01\t2.50e+00\t1.60e+00\n",
      "----------------------------------------------------------------------------------------\n",
      "I\tNorm gfLogBarrier \tNewton Decrement\tError x_ast\tError p_ast\tline search\tCondHf\n",
      "0\t\t1.29e+01\t\t5.12e+02\t7.45e-01\t1.33e+00\t---\t\t1.00e+01\n",
      "1\t\t1.29e+01\t\t1.82e+01\t1.05e-01\t2.66e-01\t6.25e-02\t1.00e+01\n",
      "2\t\t1.29e+01\t\t1.39e-01\t2.70e-02\t6.48e-02\t2.50e-01\t1.00e+01\n",
      "3\t\t1.29e+01\t\t9.73e-03\t2.30e-02\t6.15e-02\t1.00e+00\t1.00e+01\n",
      "4\t\t1.29e+01\t\t9.73e-03\t2.30e-02\t6.15e-02\t7.11e-15\t1.00e+01\n",
      "Error of x with respect to x_ast: 2.30e-02\n",
      "Approximate solution: [6.06671215 0.120975  ]\n",
      "Backtracking value less than tol_backtracking, check approximation\n",
      "Inner iterations\n",
      "[6.06671215 0.120975  ]\n",
      "----------------------------------------------------------------------------------------\n",
      "Outer iterations of path following method\n",
      "Mu value: 1.00e+01\n",
      "Outer iteration\tLogBarrier \tt_log_barrier\tStopping criteria\n",
      "3\t\t3.19e+02\t2.50e+01\t1.60e-01\n",
      "----------------------------------------------------------------------------------------\n",
      "I\tNorm gfLogBarrier \tNewton Decrement\tError x_ast\tError p_ast\tline search\tCondHf\n",
      "0\t\t1.34e+02\t\t8.98e+04\t7.45e-01\t1.33e+00\t---\t\t3.29e+01\n",
      "1\t\t1.34e+02\t\t2.34e+04\t2.79e-01\t7.50e-01\t1.95e-03\t3.29e+01\n",
      "2\t\t1.34e+02\t\t9.87e+03\t1.84e-01\t4.43e-01\t3.91e-03\t3.29e+01\n",
      "3\t\t1.34e+02\t\t1.42e+03\t7.07e-02\t1.83e-01\t7.81e-03\t3.29e+01\n",
      "4\t\t1.34e+02\t\t4.19e+01\t2.22e-02\t2.94e-02\t3.12e-02\t3.29e+01\n",
      "5\t\t1.34e+02\t\t2.72e-01\t3.45e-03\t9.07e-03\t1.25e-01\t3.29e+01\n",
      "6\t\t1.34e+02\t\t4.23e-02\t2.14e-03\t5.76e-03\t1.00e+00\t3.29e+01\n",
      "7\t\t1.34e+02\t\t4.23e-02\t2.14e-03\t5.76e-03\t1.14e-13\t3.29e+01\n",
      "Error of x with respect to x_ast: 2.14e-03\n",
      "Approximate solution: [6.00409637 0.01217541]\n",
      "Backtracking value less than tol_backtracking, check approximation\n",
      "Inner iterations\n",
      "[6.00409637 0.01217541]\n",
      "----------------------------------------------------------------------------------------\n",
      "Outer iterations of path following method\n",
      "Mu value: 1.00e+01\n",
      "Outer iteration\tLogBarrier \tt_log_barrier\tStopping criteria\n",
      "4\t\t3.01e+03\t2.50e+02\t1.60e-02\n",
      "----------------------------------------------------------------------------------------\n",
      "I\tNorm gfLogBarrier \tNewton Decrement\tError x_ast\tError p_ast\tline search\tCondHf\n",
      "0\t\t1.35e+03\t\t3.48e+06\t7.45e-01\t1.33e+00\t---\t\t1.24e+00\n",
      "1\t\t1.35e+03\t\t-3.78e+05\t5.92e-01\t7.67e-01\t4.88e-04\t1.24e+00\n",
      "Error of x with respect to x_ast: 5.92e-01\n",
      "Approximate solution: [3.74466343 2.74382753]\n",
      "Inner iterations\n",
      "[3.74466343 2.74382753]\n",
      "----------------------------------------------------------------------------------------\n",
      "Outer iterations of path following method\n",
      "Mu value: 1.00e+01\n",
      "Outer iteration\tLogBarrier \tt_log_barrier\tStopping criteria\n",
      "5\t\t5.30e+04\t2.50e+03\t1.60e-03\n",
      "----------------------------------------------------------------------------------------\n",
      "I\tNorm gfLogBarrier \tNewton Decrement\tError x_ast\tError p_ast\tline search\tCondHf\n",
      "0\t\t1.35e+04\t\t3.67e+08\t7.45e-01\t1.33e+00\t---\t\t1.97e+01\n",
      "1\t\t1.35e+04\t\t2.04e+08\t5.01e-01\t5.87e-01\t6.10e-05\t1.97e+01\n",
      "2\t\t1.35e+04\t\t1.86e+07\t1.14e-01\t1.71e-01\t6.10e-05\t1.97e+01\n",
      "3\t\t1.35e+04\t\t4.90e+06\t5.01e-02\t9.54e-02\t1.22e-04\t1.97e+01\n",
      "4\t\t1.35e+04\t\t1.46e+06\t2.29e-02\t5.54e-02\t2.44e-04\t1.97e+01\n",
      "5\t\t1.35e+04\t\t4.54e+05\t1.18e-02\t3.17e-02\t4.88e-04\t1.97e+01\n",
      "6\t\t1.35e+04\t\t3.91e+03\t2.11e-03\t2.13e-03\t1.95e-03\t1.97e+01\n",
      "7\t\t1.35e+04\t\t7.20e-01\t4.35e-05\t6.02e-05\t1.56e-02\t1.97e+01\n",
      "8\t\t1.35e+04\t\t2.85e-01\t1.78e-05\t4.27e-05\t1.00e+00\t1.97e+01\n",
      "9\t\t1.35e+04\t\t2.85e-01\t1.78e-05\t4.27e-05\t1.82e-12\t1.97e+01\n",
      "10\t\t1.35e+04\t\t2.85e-01\t1.78e-05\t4.27e-05\t9.09e-13\t1.97e+01\n",
      "Error of x with respect to x_ast: 1.78e-05\n",
      "Approximate solution: [6.00008070e+00 7.00989697e-05]\n",
      "Backtracking value less than tol_backtracking, check approximation\n",
      "Inner iterations\n",
      "[6.00008070e+00 7.00989697e-05]\n",
      "----------------------------------------------------------------------------------------\n",
      "Outer iterations of path following method\n",
      "Mu value: 1.00e+01\n",
      "Outer iteration\tLogBarrier \tt_log_barrier\tStopping criteria\n",
      "6\t\t3.00e+05\t2.50e+04\t1.60e-04\n",
      "----------------------------------------------------------------------------------------\n"
     ]
    },
    {
     "name": "stderr",
     "output_type": "stream",
     "text": [
      "/datos/MNO_desde_2018/ramas_repo/mno-master/temas/IV.optimizacion_convexa_y_machine_learning/algoritmos/Python/utils.py:55: RuntimeWarning: invalid value encountered in log\n",
      "  eval_f_const_inequality = np.log(-eval_f_const_inequality)\n"
     ]
    }
   ],
   "source": [
    "[x,iter_barrier,t] = algorithms_for_cieco.Path_following_method(fo, A, const,\n",
    "                                           x_0, tol,\n",
    "                                           tol_backtracking, x_ast, p_ast, maxiter,\n",
    "                                           mu, tol_outer_iter=tol_outer_iter\n",
    "                                          )"
   ]
  },
  {
   "cell_type": "code",
   "execution_count": 33,
   "metadata": {},
   "outputs": [
    {
     "data": {
      "text/plain": [
       "[array([6.00008070e+00, 7.00989697e-05]), 106, 25000.0]"
      ]
     },
     "execution_count": 33,
     "metadata": {},
     "output_type": "execute_result"
    }
   ],
   "source": [
    "[x,iter_barrier,t]"
   ]
  },
  {
   "cell_type": "code",
   "execution_count": 34,
   "metadata": {},
   "outputs": [
    {
     "data": {
      "text/plain": [
       "1.7815100934694886e-05"
      ]
     },
     "execution_count": 34,
     "metadata": {},
     "output_type": "execute_result"
    }
   ],
   "source": [
    "compute_error(x_ast,x)"
   ]
  },
  {
   "cell_type": "markdown",
   "metadata": {},
   "source": [
    "# Comparación con [cvxpy](https://github.com/cvxgrp/cvxpy)"
   ]
  },
  {
   "cell_type": "code",
   "execution_count": 35,
   "metadata": {},
   "outputs": [],
   "source": [
    "x1 = cp.Variable()\n",
    "x2 = cp.Variable()\n"
   ]
  },
  {
   "cell_type": "code",
   "execution_count": 36,
   "metadata": {},
   "outputs": [],
   "source": [
    "# Create two constraints.\n",
    "constraints = [6-x1-x2 <= 0,-18+x1+2*x2<=0,x1>=0,x2>=0]\n",
    "\n",
    "# Form objective.\n",
    "\n",
    "obj = cp.Minimize(2*x1+5*x2)\n",
    "\n"
   ]
  },
  {
   "cell_type": "code",
   "execution_count": 37,
   "metadata": {},
   "outputs": [
    {
     "data": {
      "text/plain": [
       "12.0000000016275"
      ]
     },
     "execution_count": 37,
     "metadata": {},
     "output_type": "execute_result"
    }
   ],
   "source": [
    "# Form and solve problem.\n",
    "prob = cp.Problem(obj, constraints)\n",
    "prob.solve()  # Returns the optimal value.\n"
   ]
  },
  {
   "cell_type": "code",
   "execution_count": 38,
   "metadata": {},
   "outputs": [
    {
     "name": "stdout",
     "output_type": "stream",
     "text": [
      "status: optimal\n",
      "optimal value 12.0000000016275\n",
      "optimal var 6.000000000175689 2.552244387851183e-10\n"
     ]
    }
   ],
   "source": [
    "print(\"status:\", prob.status)\n",
    "print(\"optimal value\", prob.value)\n",
    "print(\"optimal var\", x1.value, x2.value)"
   ]
  },
  {
   "cell_type": "markdown",
   "metadata": {},
   "source": [
    "**Referencias:**\n",
    "\n",
    "* S. P. Boyd, L. Vandenberghe, Convex Optimization, Cambridge University Press, 2009."
   ]
  }
 ],
 "metadata": {
  "kernelspec": {
   "display_name": "Python 3",
   "language": "python",
   "name": "python3"
  },
  "language_info": {
   "codemirror_mode": {
    "name": "ipython",
    "version": 3
   },
   "file_extension": ".py",
   "mimetype": "text/x-python",
   "name": "python",
   "nbconvert_exporter": "python",
   "pygments_lexer": "ipython3",
   "version": "3.6.9"
  }
 },
 "nbformat": 4,
 "nbformat_minor": 4
}
