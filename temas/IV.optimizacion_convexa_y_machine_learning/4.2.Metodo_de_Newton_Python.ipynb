{
 "cells": [
  {
   "cell_type": "markdown",
   "metadata": {},
   "source": [
    "**Notas para contenedor de docker:**"
   ]
  },
  {
   "cell_type": "markdown",
   "metadata": {},
   "source": [
    "Comando de docker para ejecución de la nota de forma local:\n",
    "\n",
    "nota: cambiar `<ruta a mi directorio>` por la ruta de directorio que se desea mapear a `/datos` dentro del contenedor de docker.\n",
    "\n",
    "```\n",
    "docker run --rm -v <ruta a mi directorio>:/datos --name jupyterlab_numerical -p 8888:8888 -d palmoreck/jupyterlab_numerical:1.1.0\n",
    "```\n",
    "\n",
    "password para jupyterlab: `qwerty`\n",
    "\n",
    "Detener el contenedor de docker:\n",
    "\n",
    "```\n",
    "docker stop jupyterlab_numerical\n",
    "```\n"
   ]
  },
  {
   "cell_type": "markdown",
   "metadata": {},
   "source": [
    "Documentación de la imagen de docker `palmoreck/jupyterlab_numerical:1.1.0` en [liga](https://github.com/palmoreck/dockerfiles/tree/master/jupyterlab/numerical)."
   ]
  },
  {
   "cell_type": "markdown",
   "metadata": {},
   "source": [
    "---"
   ]
  },
  {
   "cell_type": "markdown",
   "metadata": {},
   "source": [
    "Nota basada en [liga1](https://drive.google.com/file/d/1xtkxPCx05Xg4Dj7JZoQ-LusBDrtYUqOF/view?usp=sharing), [liga2](https://drive.google.com/file/d/16-_PvWNaO0Zc9x04-SRsxCRdn5fxebf2/view?usp=sharing)"
   ]
  },
  {
   "cell_type": "markdown",
   "metadata": {},
   "source": [
    "En esta nota se consideran resolver problemas de la forma:\n",
    "\n",
    "$$\\min f_o(x)$$\n",
    "\n",
    "con $f_o:\\mathbb{R}^n \\rightarrow \\mathbb{R}$ fuertemente convexa y $f_o \\in \\mathcal{C}^2(\\text{dom}f_o)$ para buscar óptimos locales. Además se asume que los puntos iniciales $x^{(0)}$ de los métodos iterativos están en $\\text{dom}f_o$ y los conjuntos $f_o(x^{(0)})$-subnivel son conjuntos cerrados. Ver [1.4.Polinomios_de_Taylor_y_diferenciacion_numerica](https://github.com/ITAM-DS/analisis-numerico-computo-cientifico/blob/master/temas/I.computo_cientifico/1.4.Polinomios_de_Taylor_y_diferenciacion_numerica.ipynb) y [4.1.Optimizacion_numerica_y_machine_learning](https://github.com/ITAM-DS/analisis-numerico-computo-cientifico/blob/master/temas/IV.optimizacion_convexa_y_machine_learning/4.1.Optimizacion_numerica_y_machine_learning.ipynb) para definiciones utilizadas en esta nota.\n",
    "\n",
    "También se asume que existe un punto óptimo $x^*$ por lo que el problema tiene solución y el valor óptimo se denota por $p^* = f_o(x^*) = \\inf f_o(x)$"
   ]
  },
  {
   "cell_type": "markdown",
   "metadata": {},
   "source": [
    "Las suposición que una función $f$ sea convexa asegura que una **condición necesaria y suficiente** para que $x^*$ sea óptimo es: $\\nabla f(x^*) = 0$ la cual es **en general** es un conjunto de $n$ **ecuaciones no lineales** en $n$ variables y que resuelve el problema de optimización planteado al inicio. \n"
   ]
  },
  {
   "cell_type": "markdown",
   "metadata": {},
   "source": [
    "# Método de Newton"
   ]
  },
  {
   "cell_type": "markdown",
   "metadata": {},
   "source": [
    "## Método de Newton como un caso particular del método *steepest descent* bajo la norma cuadrática"
   ]
  },
  {
   "cell_type": "markdown",
   "metadata": {},
   "source": [
    "Consideramos con la norma cuadrática: $P=\\nabla ^2 f_o(x^*)$ el método *steepest descent*:\n",
    "\n",
    "$$\\Delta x_{\\text{nsd}} = \\text{argmin} \\{ \\nabla f_o(x)^Tv : ||v||_P \\leq 1, \\nabla f_o(x)^Tv < 0 \\} $$ \n",
    "\n",
    "se prueba que $\\Delta x_{\\text{sd}} = - P^{-1} \\nabla f_o(x)$.\n",
    "\n",
    "Ver [4.2.Algoritmos_para_optimizacion_sin_restricciones](https://github.com/ITAM-DS/analisis-numerico-computo-cientifico/blob/master/temas/IV.optimizacion_convexa_y_machine_learning/4.2.Algoritmos_para_optimizacion_sin_restricciones.ipynb). Entonces:"
   ]
  },
  {
   "cell_type": "markdown",
   "metadata": {},
   "source": [
    ">**Algoritmo de Newton (visto como un caso particular del método *steepest descent* para matrices Hessianas simétricas definidas positivas)**\n",
    ">> **Dado** un **punto inicial** $x$ en $\\text{dom}f_o$\n",
    "\n",
    ">> **Repetir** el siguiente bloque para $k=0,1,2,...$\n",
    "\n",
    ">>> 1. Calcular la Hessiana de $f_o$ y definir $P$ como $P=\\nabla ^2 f_o(x^*)$ con $x^*$ óptimo de $f_o$.\n",
    ">>> 2. Transformar $\\hat{x}$ con: $x = P^{-1/2} \\hat{x}$ con $\\hat{x}$ variable del problema transformado\\*.\n",
    ">>> 3. Calcular la dirección de descenso en gradiente $\\Delta \\hat{x} = - \\nabla \\hat{f}_o(\\hat{x}) = - \\nabla f_o(P^{-1/2}\\hat{x})$.\n",
    ">>> 4. Búsqueda de línea. Elegir un tamaño de paso $t > 0$.\n",
    ">>> 5. Hacer la actualización: $\\hat{x} = \\hat{x} + t\\Delta \\hat{x}$.\n",
    "\n",
    ">> **hasta** convergencia (satisfacer criterio de paro).\n"
   ]
  },
  {
   "cell_type": "markdown",
   "metadata": {},
   "source": [
    "\\*El problema transformado bajo $P$ es:\n",
    "\n",
    "$$min \\hat{f}_o(\\hat{x})$$\n",
    "\n",
    "con $\\hat{f}_o (\\hat{x}) = f_o(P^{-1/2}\\hat{x}) = f_o(x)$ y $x$ variable \"original\": $\\hat{x} = P^{1/2}x$."
   ]
  },
  {
   "cell_type": "markdown",
   "metadata": {},
   "source": [
    "Entonces aplicamos descenso en gradiente a $f_o$ pero transformando los datos de entrada de $f_o$ por la matriz raíz cuadrada simétrica\\* $P^{-1/2}$.\n",
    "\n",
    "\\*$P^{1/2}$ se nombra **raíz cuadrada simétrica** o ***symmetric squareroot*** y está definida para matrices $P$ simétricas semidefinidas positivas como $P^{1/2}=Qdiag(\\lambda_1^{1/2},\\dots,\\lambda_n^{1/2})Q^T$ con $Q$ y $diag(\\lambda_1^{1/2},\\dots,\\lambda_n^{1/2})$ obtenidas con la **descomposición espectral** de $P$, ver [3.3.d.SVD](https://github.com/ITAM-DS/analisis-numerico-computo-cientifico/blob/master/temas/III.computo_matricial/3.3.d.SVD.ipynb)."
   ]
  },
  {
   "cell_type": "markdown",
   "metadata": {},
   "source": [
    "<img src=\"https://dl.dropboxusercontent.com/s/tbqiwwv9cdx4sxh/steepest_desc_Newton_desc_dir.png?dl=0\" heigth=\"700\" width=\"700\">\n"
   ]
  },
  {
   "cell_type": "markdown",
   "metadata": {},
   "source": [
    "**Obs:** en el cambio de coordenadas dado por $\\hat{x} = P^{1/2}x$ y por tanto $\\hat{f}_o({\\hat{x}}) = f_o(P^{-1/2}\\hat{x})$ se tiene $\\nabla ^2 \\hat{f}_o(\\hat{x}) = P^{-1/2} \\nabla f_o^2(x) P^{-1/2}$. Por lo que si $P$ se toma igual a $\\nabla^2 f_o (x^*)$ entonces $P^{-1/2} \\nabla f^2(x) P^{-1/2} = I$ (recuérdese que $P$ se asume simétrica definida positiva)."
   ]
  },
  {
   "cell_type": "markdown",
   "metadata": {},
   "source": [
    "**Nota:** los pasos en el algoritmo anterior representan una guía para la implementación. Al describirse los pasos de un algoritmo no implica que se tengan que implementar uno a continuación del otro como se describe. Si una implementación respeta la lógica y al mismo método, entonces pueden seguirse los pasos de una forma distinta."
   ]
  },
  {
   "cell_type": "code",
   "execution_count": 1,
   "metadata": {},
   "outputs": [],
   "source": [
    "import math\n",
    "import matplotlib.pyplot as plt\n",
    "import numpy as np"
   ]
  },
  {
   "cell_type": "markdown",
   "metadata": {},
   "source": [
    "### Funciones auxiliares"
   ]
  },
  {
   "cell_type": "code",
   "execution_count": 2,
   "metadata": {},
   "outputs": [],
   "source": [
    "def inc_index(vec,index,h):\n",
    "    '''\n",
    "    Auxiliary function for gradient and Hessian computation.\n",
    "    Args:\n",
    "        vec (array): numpy array.\n",
    "        index (int): index.\n",
    "        h (float):   quantity that vec[index] will be increased.\n",
    "    Returns:\n",
    "        vec (array): numpy array vec with vec[index] increased by h.\n",
    "    '''\n",
    "    vec[index] +=h\n",
    "    return vec"
   ]
  },
  {
   "cell_type": "code",
   "execution_count": 3,
   "metadata": {},
   "outputs": [],
   "source": [
    "def dec_index(vec,index,h=1):\n",
    "    '''\n",
    "    Auxiliary function for gradient and Hessian computation.\n",
    "    Args:\n",
    "        vec (array): numpy array.\n",
    "        index (int): index.\n",
    "        h (float):   quantity that vec[index] will be decreased.\n",
    "    Returns:\n",
    "        vec (array): numpy array vec with vec[index] decreased by h.\n",
    "    '''\n",
    "    vec[index] -=h\n",
    "    return vec"
   ]
  },
  {
   "cell_type": "code",
   "execution_count": 4,
   "metadata": {},
   "outputs": [],
   "source": [
    "def gradient_approximation(f,x,h=1e-8):\n",
    "    '''\n",
    "    Numerical approximation of gradient for function f using forward differences.\n",
    "    Args:\n",
    "        f (lambda expression): definition of function f.\n",
    "        x (array): numpy array that holds values where gradient will be computed.\n",
    "        h (float): step size for forward differences, tipically h=1e-8\n",
    "    Returns:\n",
    "        gf (array): numerical approximation to gradient of f.\n",
    "    '''\n",
    "    n = x.size\n",
    "    gf = np.zeros(n)\n",
    "    f_x = f(x)\n",
    "    for i in np.arange(n):\n",
    "        inc_index(x,i,h)\n",
    "        gf[i] = f(x) - f_x\n",
    "        dec_index(x,i,h)\n",
    "    return gf/h"
   ]
  },
  {
   "cell_type": "code",
   "execution_count": 5,
   "metadata": {},
   "outputs": [],
   "source": [
    "def Hessian_approximation(f,x,h=1e-6):\n",
    "    '''\n",
    "    Numerical approximation of Hessian for function f using forward differences.\n",
    "    Args:\n",
    "        f (lambda expression): definition of function f.\n",
    "        x (array): numpy array that holds values where Hessian will be computed.\n",
    "        h (float): step size for forward differences, tipically h=1e-6\n",
    "    Returns:\n",
    "        Hf (array): numerical approximation to Hessian of f.\n",
    "    '''\n",
    "    n = x.size\n",
    "    Hf = np.zeros((n,n))\n",
    "    f_x = f(x)\n",
    "    for i in np.arange(n):\n",
    "        inc_index(x,i,h)\n",
    "        f_x_inc_in_i = f(x)\n",
    "        for j in np.arange(i,n):\n",
    "            inc_index(x,j,h)\n",
    "            f_x_inc_in_i_j = f(x)\n",
    "            dec_index(x,i,h)\n",
    "            f_x_inc_in_j = f(x)\n",
    "            dif = f_x_inc_in_i_j-f_x_inc_in_i-f_x_inc_in_j+f_x\n",
    "            Hf[i,j] = dif\n",
    "            if j != i:\n",
    "                Hf[j,i] = dif\n",
    "            dec_index(x,j,h)\n",
    "            inc_index(x,i,h)\n",
    "        dec_index(x,i,h)\n",
    "    return Hf/h**2"
   ]
  },
  {
   "cell_type": "code",
   "execution_count": 6,
   "metadata": {},
   "outputs": [],
   "source": [
    "def line_search_by_backtracking(f,dir_desc,x,\n",
    "                                der_direct, alpha=.15, beta=.5):\n",
    "    \"\"\"\n",
    "    Line search that sufficiently decreases f restricted to a ray in the direction dir_desc.\n",
    "    Args:\n",
    "        alpha (float): parameter in line search with backtracking, tipically .15\n",
    "        beta (float): parameter in line search with backtracking, tipically .5\n",
    "        f (lambda expression): definition of function f.\n",
    "        dir_desc (array): descent direction.\n",
    "        x (array): numpy array that holds values where line search will be performed.\n",
    "        der_direct (float): directional derivative of f.\n",
    "    Returns:\n",
    "        t (float): positive number for stepsize along dir_desc that sufficiently decreases f.\n",
    "    \"\"\"\n",
    "    t=1\n",
    "    if alpha > 1/2:\n",
    "        print('alpha must be less than or equal to 1/2')\n",
    "        t=-1\n",
    "    if beta>1:\n",
    "        print('beta must be less than 1')\n",
    "        t=-1;   \n",
    "    if t!=-1:\n",
    "        eval1 = f(x+t*dir_desc)\n",
    "        eval2 = f(x) + alpha*t*der_direct\n",
    "        while eval1 > eval2:\n",
    "            t=beta*t\n",
    "            eval1=f(x+t*dir_desc)\n",
    "            eval2=f(x)+alpha*t*der_direct\n",
    "    else:\n",
    "        t=-1\n",
    "    return t"
   ]
  },
  {
   "cell_type": "code",
   "execution_count": 7,
   "metadata": {},
   "outputs": [],
   "source": [
    "def compute_error(x_obj,x_approx):\n",
    "    '''\n",
    "    Relative or absolute error between x_obj and x_approx.\n",
    "    '''\n",
    "    if np.linalg.norm(x_obj) > np.nextafter(0,1):\n",
    "        Err=np.linalg.norm(x_obj-x_approx)/np.linalg.norm(x_obj)\n",
    "    else:\n",
    "        Err=np.linalg.norm(x_obj-x_approx)\n",
    "    return Err"
   ]
  },
  {
   "cell_type": "code",
   "execution_count": 8,
   "metadata": {},
   "outputs": [],
   "source": [
    "def gradient_descent(f, x_0, tol, \n",
    "                     tol_backtracking, x_ast=None, p_ast=None, maxiter=30):\n",
    "    '''\n",
    "    Method of gradient descent to numerically approximate solution of min f.\n",
    "    Args:\n",
    "        f (lambda expression): definition of function f.\n",
    "        x_0 (numpy ndarray): initial point for gradient descent method.\n",
    "        tol (float): tolerance that will halt method. Controls norm of gradient of f.\n",
    "        tol_backtracking (float): tolerance that will halt method. Controls value of line search by backtracking.\n",
    "        x_ast (numpy ndarray): solution of min f, now it's required that user knows the solution...\n",
    "        p_ast (float): value of f(x_ast), now it's required that user knows the solution...\n",
    "        maxiter (int): maximum number of iterations\n",
    "    Returns:\n",
    "        x (numpy ndarray): numpy array, approximation of x_ast.\n",
    "        iteration (int): number of iterations.\n",
    "        Err_plot (numpy ndarray): numpy array of absolute error between p_ast and f(x) with x approximation\n",
    "                                  of x_ast. Useful for plotting.\n",
    "        x_plot (numpy ndarray): numpy array that containts in columns vector of approximations. Last column\n",
    "                                contains x, approximation of solution. Useful for plotting.\n",
    "    '''\n",
    "    iteration = 0\n",
    "    x = x_0\n",
    "    \n",
    "    feval = f(x)\n",
    "    gfeval = gradient_approximation(f,x)\n",
    "\n",
    "    normgf = np.linalg.norm(gfeval)\n",
    "    \n",
    "    Err_plot_aux = np.zeros(maxiter)\n",
    "    Err_plot_aux[iteration]=compute_error(p_ast,feval)\n",
    "    \n",
    "    #para medir el error transformamos a la variable original:\n",
    "    Err = compute_error(x_ast,coord_transform(x))\n",
    "    n = x.size\n",
    "    x_plot = np.zeros((n,maxiter))\n",
    "    x_plot[:,iteration] = x\n",
    "    \n",
    "    print('I\\tNormagf\\t\\tError x_ast\\tError p_ast\\tline search')\n",
    "    print('{}\\t{:0.2e}\\t{:0.2e}\\t{:0.2e}\\t{}'.format(iteration,normgf,Err,Err_plot_aux[iteration],\"---\"))\n",
    "    iteration+=1\n",
    "    while(normgf>tol and iteration < maxiter):\n",
    "        dir_desc = -gfeval\n",
    "        der_direct = gfeval.dot(dir_desc)\n",
    "        t = line_search_by_backtracking(f,dir_desc,x,der_direct)\n",
    "        x = x + t*dir_desc\n",
    "        feval = f(x)\n",
    "        gfeval = gradient_approximation(f,x)\n",
    "        normgf = np.linalg.norm(gfeval)\n",
    "        Err_plot_aux[iteration]=compute_error(p_ast,feval)\n",
    "        x_plot[:,iteration] = x\n",
    "        #para medir el error transformamos a la variable original:\n",
    "        Err = compute_error(x_ast,coord_transform(x))\n",
    "        print('{}\\t{:0.2e}\\t{:0.2e}\\t{:0.2e}\\t{:0.2e}'.format(iteration,normgf,Err,\n",
    "                                                                      Err_plot_aux[iteration],t))\n",
    "        if t<tol_backtracking: #if t is less than tol_backtracking then we need to check the reason\n",
    "            iter_salida=iteration\n",
    "            iteration = maxiter - 1\n",
    "        iteration+=1\n",
    "    print('{} {:0.2e}'.format(\"Error of x with respect to x_ast:\",Err))\n",
    "    print('{} {}'.format(\"Approximate solution:\", x))\n",
    "    cond = Err_plot_aux > np.finfo(float).eps*10**(-2)\n",
    "    Err_plot = Err_plot_aux[cond]\n",
    "    if iteration == maxiter and t < tol_backtracking:\n",
    "        print(\"Backtracking value less than tol_backtracking, check approximation\")\n",
    "        iteration=iter_salida\n",
    "        x_plot = x_plot[:,:iteration]\n",
    "    else:\n",
    "        x_plot = x_plot[:,:iteration]\n",
    "    return [x,iteration,Err_plot,x_plot]"
   ]
  },
  {
   "cell_type": "markdown",
   "metadata": {},
   "source": [
    "## Ejemplo"
   ]
  },
  {
   "cell_type": "markdown",
   "metadata": {},
   "source": [
    "1) $$\\min \\quad e^{(x_1+3x_2-0.1)}+e^{x_1-3x_2-0.1}+e^{-x_1-0.1}$$"
   ]
  },
  {
   "cell_type": "code",
   "execution_count": 9,
   "metadata": {},
   "outputs": [],
   "source": [
    "fo = lambda x: math.exp(x[0]+3*x[1]-0.1)+math.exp(x[0]-3*x[1]-0.1)+math.exp(-x[0]-0.1)"
   ]
  },
  {
   "cell_type": "code",
   "execution_count": 10,
   "metadata": {},
   "outputs": [],
   "source": [
    "x_ast=np.array([-0.3465735941251887,0], dtype=float)"
   ]
  },
  {
   "cell_type": "code",
   "execution_count": 11,
   "metadata": {},
   "outputs": [],
   "source": [
    "P=Hessian_approximation(fo,x_ast)"
   ]
  },
  {
   "cell_type": "code",
   "execution_count": 12,
   "metadata": {},
   "outputs": [
    {
     "data": {
      "text/plain": [
       "array([[ 2.55884203e+00, -4.44089210e-04],\n",
       "       [-4.44089210e-04,  1.15165655e+01]])"
      ]
     },
     "execution_count": 12,
     "metadata": {},
     "output_type": "execute_result"
    }
   ],
   "source": [
    "P"
   ]
  },
  {
   "cell_type": "code",
   "execution_count": 13,
   "metadata": {},
   "outputs": [],
   "source": [
    "def coord_transform(x):\n",
    "    eigenvalues, eigenvectors = np.linalg.eig(P)       \n",
    "    return eigenvectors@((eigenvalues**(-1/2))*(np.transpose(eigenvectors)@x))"
   ]
  },
  {
   "cell_type": "code",
   "execution_count": 14,
   "metadata": {},
   "outputs": [],
   "source": [
    "fo_transf = lambda x: fo(coord_transform(x))"
   ]
  },
  {
   "cell_type": "code",
   "execution_count": 15,
   "metadata": {},
   "outputs": [
    {
     "name": "stdout",
     "output_type": "stream",
     "text": [
      "I\tNormagf\t\tError x_ast\tError p_ast\tline search\n",
      "0\t5.66e-01\t1.00e+00\t6.07e-02\t---\n",
      "1\t1.13e-02\t2.03e-02\t2.48e-05\t1.00e+00\n",
      "2\t2.03e-06\t3.50e-06\t7.72e-13\t1.00e+00\n",
      "3\t8.88e-08\t5.79e-08\t3.47e-16\t1.00e+00\n",
      "4\t0.00e+00\t2.25e-08\t0.00e+00\t5.00e-01\n",
      "Error of x with respect to x_ast: 2.25e-08\n",
      "Approximate solution: [-5.54392310e-01  3.08197912e-05]\n"
     ]
    }
   ],
   "source": [
    "x_0 = np.array([0,0],dtype=float)\n",
    "tol=1e-8\n",
    "tol_backtracking=1e-14\n",
    "maxiter=50\n",
    "p_ast=fo(x_ast)\n",
    "[x,total_of_iterations,Err_plot,x_plot]=gradient_descent(fo_transf, x_0,tol, tol_backtracking, x_ast, p_ast, maxiter)"
   ]
  },
  {
   "cell_type": "code",
   "execution_count": 16,
   "metadata": {},
   "outputs": [
    {
     "data": {
      "text/plain": [
       "array([-5.54392310e-01,  3.08197912e-05])"
      ]
     },
     "execution_count": 16,
     "metadata": {},
     "output_type": "execute_result"
    }
   ],
   "source": [
    "x"
   ]
  },
  {
   "cell_type": "code",
   "execution_count": 17,
   "metadata": {},
   "outputs": [
    {
     "data": {
      "text/plain": [
       "5"
      ]
     },
     "execution_count": 17,
     "metadata": {},
     "output_type": "execute_result"
    }
   ],
   "source": [
    "total_of_iterations"
   ]
  },
  {
   "cell_type": "code",
   "execution_count": 18,
   "metadata": {},
   "outputs": [
    {
     "data": {
      "text/plain": [
       "(4,)"
      ]
     },
     "execution_count": 18,
     "metadata": {},
     "output_type": "execute_result"
    }
   ],
   "source": [
    "Err_plot.shape"
   ]
  },
  {
   "cell_type": "code",
   "execution_count": 19,
   "metadata": {},
   "outputs": [
    {
     "data": {
      "image/png": "[encoded data removed]",
      "text/plain": [
       "<Figure size 432x288 with 1 Axes>"
      ]
     },
     "metadata": {
      "needs_background": "light"
     },
     "output_type": "display_data"
    }
   ],
   "source": [
    "plt.yscale('log') #escala logarítmica en el eje vertical\n",
    "plt.plot(np.arange(Err_plot.size),Err_plot,'.-')\n",
    "plt.ylabel('Log Error relativo entre: $f_o(x^k)$ y $p^*$',size=12)\n",
    "plt.xlabel('Iterations',size=12)\n",
    "plt.grid()\n",
    "plt.show()\n"
   ]
  },
  {
   "cell_type": "code",
   "execution_count": 20,
   "metadata": {},
   "outputs": [
    {
     "data": {
      "text/plain": [
       "(2, 5)"
      ]
     },
     "execution_count": 20,
     "metadata": {},
     "output_type": "execute_result"
    }
   ],
   "source": [
    "x_plot.shape"
   ]
  },
  {
   "cell_type": "code",
   "execution_count": 21,
   "metadata": {},
   "outputs": [
    {
     "data": {
      "text/plain": [
       "array([0., 0.])"
      ]
     },
     "execution_count": 21,
     "metadata": {},
     "output_type": "execute_result"
    }
   ],
   "source": [
    "x_plot[:,0]"
   ]
  },
  {
   "cell_type": "code",
   "execution_count": 22,
   "metadata": {},
   "outputs": [
    {
     "data": {
      "text/plain": [
       "array([-5.54392310e-01,  3.08197912e-05])"
      ]
     },
     "execution_count": 22,
     "metadata": {},
     "output_type": "execute_result"
    }
   ],
   "source": [
    "x_plot[:,-1]"
   ]
  },
  {
   "cell_type": "code",
   "execution_count": 23,
   "metadata": {},
   "outputs": [
    {
     "data": {
      "image/png": "[encoded data removed]",
      "text/plain": [
       "<Figure size 432x288 with 1 Axes>"
      ]
     },
     "metadata": {
      "needs_background": "light"
     },
     "output_type": "display_data"
    }
   ],
   "source": [
    "plt.plot(x_plot[0,:],x_plot[1,:],'-*')\n",
    "plt.ylabel('y')\n",
    "plt.xlabel('x')\n",
    "plt.annotate('$x^{(0)}$',(x_plot[0,0],x_plot[1,0]),fontsize=12)\n",
    "plt.title('Iteraciones del método de descenso en gradiente para $\\hat{f}_o$')\n",
    "plt.grid()\n",
    "plt.show()"
   ]
  },
  {
   "cell_type": "code",
   "execution_count": 24,
   "metadata": {},
   "outputs": [
    {
     "data": {
      "image/png": "[encoded data removed]",
      "text/plain": [
       "<Figure size 432x288 with 1 Axes>"
      ]
     },
     "metadata": {
      "needs_background": "light"
     },
     "output_type": "display_data"
    }
   ],
   "source": [
    "plt.plot(np.arange(Err_plot.size),Err_plot,'.-')\n",
    "plt.ylabel('Error relativo entre: $\\hat{f}_o(x^k)$ y $p^*$',size=12)\n",
    "plt.xlabel('Iteraciones del método descenso en gradiente para $\\hat{f}_o$')\n",
    "plt.grid()\n",
    "plt.show()"
   ]
  },
  {
   "cell_type": "markdown",
   "metadata": {},
   "source": [
    "**Comentario:** en esta gráfica se observa una convergencia **lineal** del método de descenso en gradiente para $f_o$ transformada."
   ]
  },
  {
   "cell_type": "code",
   "execution_count": 25,
   "metadata": {},
   "outputs": [],
   "source": [
    "def coord_transform_2(x):\n",
    "    eigenvalues, eigenvectors = np.linalg.eig(P)      \n",
    "    return eigenvectors@((eigenvalues**(-1/2)).reshape(x.shape[0],1)*(eigenvectors@x))"
   ]
  },
  {
   "cell_type": "code",
   "execution_count": 26,
   "metadata": {},
   "outputs": [],
   "source": [
    "z=lambda x_mesh,y_mesh: np.exp(x_mesh+3*y_mesh-0.1)+np.exp(x_mesh-3*y_mesh-0.1)+np.exp(-x_mesh-0.1)\n"
   ]
  },
  {
   "cell_type": "markdown",
   "metadata": {},
   "source": [
    "**Curvas de nivel de $f_o$ transformada**"
   ]
  },
  {
   "cell_type": "code",
   "execution_count": 27,
   "metadata": {},
   "outputs": [
    {
     "data": {
      "image/png": "[encoded data removed]",
      "text/plain": [
       "<Figure size 432x288 with 1 Axes>"
      ]
     },
     "metadata": {
      "needs_background": "light"
     },
     "output_type": "display_data"
    }
   ],
   "source": [
    "density=1e-1\n",
    "xl=-1.5\n",
    "yl=-1\n",
    "xr=.5\n",
    "yr=1\n",
    "x_p=np.arange(xl,xr,density)\n",
    "y_p=np.arange(yl,yr,density)\n",
    "x_y_p_t = coord_transform_2(np.row_stack((x_p,y_p)))\n",
    "x_p_t = x_y_p_t[0,:]\n",
    "y_p_t = x_y_p_t[1,:]\n",
    "x_mesh,y_mesh = np.meshgrid(x_p_t,y_p_t)\n",
    "plt.xlim(-1.5, .5)\n",
    "plt.ylim(-1, 1)\n",
    "plt.contour(x_p,y_p,z(x_mesh,y_mesh))\n",
    "plt.plot(x_plot[0,:],x_plot[1,:],'-*')\n",
    "plt.annotate('$x^{(0)}$',(x_plot[0,0],x_plot[1,0]),fontsize=12)\n",
    "plt.grid()\n",
    "plt.title(\"Curvas de nivel de $\\hat{f}_o$\")\n",
    "plt.show()"
   ]
  },
  {
   "cell_type": "code",
   "execution_count": 28,
   "metadata": {},
   "outputs": [
    {
     "data": {
      "image/png": "[encoded data removed]",
      "text/plain": [
       "<Figure size 432x288 with 1 Axes>"
      ]
     },
     "metadata": {
      "needs_background": "light"
     },
     "output_type": "display_data"
    }
   ],
   "source": [
    "x_k = x_plot[:,-1]\n",
    "Hf_x_k = Hessian_approximation(fo_transf,x_k)\n",
    "x_k = x_k.reshape(2,1)\n",
    "norm_cuad = lambda z : np.sum((z-x_k)*(Hf_x_k@(z-x_k)),axis=0)\n",
    "density_p=int(2.5*10**4)\n",
    "z_p=np.random.uniform(-2,1,(2,density_p))\n",
    "lim_sup=.9\n",
    "lim_inf=.85\n",
    "ind=(norm_cuad(z_p)<=lim_sup) & (lim_inf<=norm_cuad(z_p))\n",
    "z_p_subset = z_p[:,ind]\n",
    "plt.xlim(-1.6, .5)\n",
    "plt.ylim(-1, 1)\n",
    "plt.scatter(z_p_subset[0,:],z_p_subset[1,:],marker='.')\n",
    "plt.title('Puntos en el plano que cumplen $||x|| \\leq 1$ para norma cuadrática usando la segunda derivada de $\\hat{f}_o$ evaluada en la última iteración')\n",
    "plt.grid()\n",
    "plt.show()"
   ]
  },
  {
   "cell_type": "code",
   "execution_count": 29,
   "metadata": {},
   "outputs": [
    {
     "data": {
      "text/plain": [
       "1.0008884940026654"
      ]
     },
     "execution_count": 29,
     "metadata": {},
     "output_type": "execute_result"
    }
   ],
   "source": [
    "np.linalg.cond(Hf_x_k)"
   ]
  },
  {
   "cell_type": "markdown",
   "metadata": {},
   "source": [
    "**Obsérvese que la Hessiana con la transformación de $f_o$ está muy bien condicionada**."
   ]
  },
  {
   "cell_type": "markdown",
   "metadata": {},
   "source": [
    "## Método de Newton"
   ]
  },
  {
   "cell_type": "markdown",
   "metadata": {},
   "source": [
    "La dirección de descenso $\\Delta x_{\\text{nt}} = -\\nabla ^2 f_o(x) \\nabla f(x)$ para $x \\in \\text{dom}f_o$ se le nombra paso de Newton para $f_o$ en $x$. \n",
    "\n",
    "**Obs:** si $\\nabla ^2 f_o(x)$ es simétrica definida positiva en $\\text{dom}f_o$  y $x$ no es óptimo entonces $\\Delta x_{\\text{nt}}$ es dirección de descenso pues: $\\nabla f_o(x)^T \\Delta x_\\text{nt} = -\\nabla f_o(x)^T \\nabla^2f_o(x)^{-1} \\nabla f(x) < 0 $ con $x \\in \\text{dom}f_o$ y $\\nabla f(x) \\neq 0$."
   ]
  },
  {
   "cell_type": "markdown",
   "metadata": {},
   "source": [
    "El paso de Newton puede obtenerse de diferentes formas:\n",
    "\n",
    "1) Utilizando la aproximación de segundo orden por Taylor $\\hat{f}_o$ de $f_o$ en $x$:\n",
    "\n",
    "$$\\hat{f}_o(x+v) \\approx f_o(x) + \\nabla f_o(x)^Tv + \\frac{1}{2} v^T \\nabla ^2 f_o(x) v$$\n",
    "\n",
    "\n",
    "la cual si $\\nabla ^2 f_o(x)$ es definida positiva en $\\text{dom}f_o$ entonces es una función cuadrática convexa (estricta) en $v$ cuyo mínimo es $\\hat{v} = \\Delta x_\\text{nt}$:\n",
    "\n"
   ]
  },
  {
   "cell_type": "markdown",
   "metadata": {},
   "source": [
    "<img src=\"https://dl.dropboxusercontent.com/s/25bmebx645howjw/direccion_de_descenso_de_Newton_1d.png?dl=0\" heigth=\"600\" width=\"600\">"
   ]
  },
  {
   "cell_type": "markdown",
   "metadata": {},
   "source": [
    "En el dibujo anterior $\\hat{f}$ es un modelo cuadrático, $\\Delta x_{nt}$ es dirección de descenso de Newton y $x^*$ es el óptimo de $f$. Del punto $(x,f(x))$ nos debemos mover al punto $(x+\\Delta x_{nt}, f(x + \\Delta x_{nt}))$ para llegar al óptimo y el valor de $f$ decrece: $f(x+\\Delta x_{nt}) < f(x)$."
   ]
  },
  {
   "cell_type": "markdown",
   "metadata": {},
   "source": [
    "**Comentario:** encontrar el mínimo de $f_o(x) + \\nabla f_o(x)^Tv + \\frac{1}{2} v^T \\nabla ^2 f_o(x) v$ es un problema de mínimos cuadrados, ver [4.1.Optimizacion_numerica_y_machine_learning](https://github.com/ITAM-DS/analisis-numerico-computo-cientifico/blob/master/temas/IV.optimizacion_convexa_y_machine_learning/4.1.Optimizacion_numerica_y_machine_learning.ipynb)."
   ]
  },
  {
   "cell_type": "markdown",
   "metadata": {},
   "source": [
    "2) Como un caso particular del método *steepest descent* (visto al inicio de la nota).\n",
    "\n",
    "3) Utilizando la aproximación lineal de la condición de optimalidad $\\nabla f(x^*) = 0$. Para valores cercanos a $x$ se tiene:\n",
    "\n",
    "$$\\nabla \\hat{f}(x+v) \\approx \\nabla f(x) + \\nabla ^2 f_o(x) v = 0$$\n",
    "\n",
    "entonces $\\Delta x_{\\text{nt}}$ es la solución de esta ecuación y es lo que debe añadirse a $x$ para que la condición de linealidad se satisfaga. Si $x$ es cercano a $x^*$ entonces $x + \\Delta x_{\\text{nt}}$ es una buena aproximación a $x^*$:\n",
    "\n"
   ]
  },
  {
   "cell_type": "markdown",
   "metadata": {},
   "source": [
    "<img src=\"https://dl.dropboxusercontent.com/s/l92ahrpvg3o7ed3/Newton_desc_dir_as_linear_approx.png?dl=0\" heigth=\"700\" width=\"700\">\n"
   ]
  },
  {
   "cell_type": "markdown",
   "metadata": {},
   "source": [
    "## Decremento de Newton"
   ]
  },
  {
   "cell_type": "markdown",
   "metadata": {},
   "source": [
    "Una cantidad que se utiliza como **criterio de paro** del algoritmo y resultados de convergencia del método, es el **decremento de Newton** para $f_o$ en $x$ definido como:\n",
    "\n",
    "$$\\lambda (x) = (\\nabla f(x) ^T \\nabla ^2 f(x)^{-1} \\nabla f(x))^{1/2}.$$"
   ]
  },
  {
   "cell_type": "markdown",
   "metadata": {},
   "source": [
    "Esta cantidad tiene propiedades como son:\n",
    "\n",
    "* $\\frac{1}{2} \\lambda ^2 (x)$ estima $f(x)-p^*$.\n",
    "\n",
    "* $|| \\nabla^2 f(x)^{-1} \\nabla f(x)||_{\\nabla ^2f(x)} = \\left ( \\nabla f(x)^T \\nabla^2 f(x)^{-1} \\nabla ^2 f(x) \\nabla ^2 f(x)^{-1} \\nabla f(x) \\right )^{1/2} = \\lambda(x) $ que indica que $\\lambda(x)$ es la norma del paso de Newton en la norma cuadrática definida por la Hessiana.\n",
    "\n",
    "* En el método de *backtracking* $-\\lambda (x) ^2$ es la derivada direccional de $f$ en $x$ en la direccióin de $\\Delta x_{\\text{nt}}$: \n",
    "\n",
    "$$\\frac{df(x+t \\Delta x_{\\text{nt}})}{dt} \\Bigr|_{t=0} = \\nabla f(x)^T \\Delta x_{\\text{nt}} = \\nabla f(x)^T (-\\nabla^2 f(x)^{-1} \\nabla f(x)) = -\\lambda(x)^2.$$"
   ]
  },
  {
   "cell_type": "markdown",
   "metadata": {},
   "source": [
    ">**Algoritmo de Newton para problemas de optimización sin restricciones**\n",
    ">> **Dado** un **punto inicial** $x$ en $\\text{dom}f_o$\n",
    "\n",
    ">> **Repetir** el siguiente bloque para $k=0,1,2,...$\n",
    "\n",
    ">>> 1. Calcular la dirección de descenso de Newton $\\Delta x_{\\text{nt}} = - \\nabla ^2 f_o(x)^{-1} \\nabla f_o(x)$ y el decremento de Newton: $\\lambda^2(x)=\\nabla f(x)^T \\nabla ^2 f(x)^{-1} \\nabla f(x)$.\n",
    ">>> 2. Criterio de paro: finalizar el método si $\\frac{\\lambda^2(x)}{2} \\leq \\epsilon$.\n",
    ">>> 3. Búsqueda de línea. Elegir un tamaño de paso $t > 0$ (usar el cálculo de $\\lambda (x)$ del paso anterior).\n",
    ">>> 3. Hacer la actualización: $x = x + t\\Delta x_{\\text{nt}}$.\n",
    "\n",
    ">> **hasta** convergencia (satisfacer criterio de paro).\n"
   ]
  },
  {
   "cell_type": "markdown",
   "metadata": {},
   "source": [
    "**Nota:** los pasos en el algoritmo anterior representan una guía para la implementación. Al describirse los pasos de un algoritmo no implica que se tengan que implementar uno a continuación del otro como se describe. Si una implementación respeta la lógica y al mismo método, entonces pueden seguirse los pasos de una forma distinta."
   ]
  },
  {
   "cell_type": "code",
   "execution_count": 50,
   "metadata": {},
   "outputs": [],
   "source": [
    "def Newtons_method(f, x_0, tol, \n",
    "                   tol_backtracking, x_ast=None, p_ast=None, maxiter=30):\n",
    "    '''\n",
    "    Newton's method to numerically approximate solution of min f.\n",
    "    Args:\n",
    "        f (lambda expression): definition of function f.\n",
    "        x_0 (numpy ndarray): initial point for Newton's method.\n",
    "        tol (float): tolerance that will halt method. Controls stopping criteria.\n",
    "        tol_backtracking (float): tolerance that will halt method. Controls value of line search by backtracking.\n",
    "        x_ast (numpy ndarray): solution of min f, now it's required that user knows the solution...\n",
    "        p_ast (float): value of f(x_ast), now it's required that user knows the solution...\n",
    "        maxiter (int): maximum number of iterations\n",
    "    Returns:\n",
    "        x (numpy ndarray): numpy array, approximation of x_ast.\n",
    "        iteration (int): number of iterations.\n",
    "        Err_plot (numpy ndarray): numpy array of absolute error between p_ast and f(x) with x approximation\n",
    "                          of x_ast. Useful for plotting.\n",
    "        x_plot (numpy ndarray): numpy array that containts in columns vector of approximations. Last column\n",
    "                        contains x, approximation of solution. Useful for plotting.\n",
    "    '''\n",
    "    iteration = 0\n",
    "        \n",
    "    x = x_0\n",
    "    \n",
    "    feval = f(x)\n",
    "    gfeval = gradient_approximation(f,x)\n",
    "    Hfeval = Hessian_approximation(f,x)\n",
    "    \n",
    "    normgf = np.linalg.norm(gfeval)\n",
    "    condHf= np.linalg.cond(Hfeval)\n",
    "    \n",
    "    Err_plot_aux = np.zeros(maxiter)\n",
    "    Err_plot_aux[iteration]=compute_error(p_ast,feval)\n",
    "    \n",
    "    Err = compute_error(x_ast,x)\n",
    "    n = x.size\n",
    "    x_plot = np.zeros((n,maxiter))\n",
    "    x_plot[:,iteration] = x\n",
    "    \n",
    "    #Newton's direction and Newton's decrement\n",
    "    \n",
    "    dir_Newton = np.linalg.solve(Hfeval, -gfeval)\n",
    "    dec_Newton = -gfeval.dot(dir_Newton)\n",
    "    \n",
    "    print('I\\tNormgf \\tNewton Decrement\\tError x_ast\\tError p_ast\\tline search\\tCondHf')\n",
    "    print('{}\\t{:0.2e}\\t{:0.2e}\\t{:0.2e}\\t{:0.2e}\\t{}\\t\\t{:0.2e}'.format(iteration,normgf,\n",
    "                                                                         dec_Newton,Err,\n",
    "                                                                         Err_plot_aux[iteration],\"---\",\n",
    "                                                                         condHf))\n",
    "    stopping_criteria = dec_Newton/2\n",
    "    iteration+=1\n",
    "    while(stopping_criteria>tol and iteration < maxiter):\n",
    "        der_direct = -dec_Newton\n",
    "        t = line_search_by_backtracking(f,dir_Newton,x,der_direct)\n",
    "        x = x + t*dir_Newton\n",
    "        feval = f(x)\n",
    "        gfeval = gradient_approximation(f,x)\n",
    "        Hfeval = Hessian_approximation(f,x)\n",
    "        normgf = np.linalg.norm(gfeval)\n",
    "        condHf= np.linalg.cond(Hfeval)\n",
    "        #Newton's direction and Newton's decrement\n",
    "\n",
    "        dir_Newton = np.linalg.solve(Hfeval, -gfeval)\n",
    "        dec_Newton = -gfeval.dot(dir_Newton)\n",
    "        Err_plot_aux[iteration]=compute_error(p_ast,feval)\n",
    "        x_plot[:,iteration] = x\n",
    "        Err = compute_error(x_ast,x)\n",
    "        print('{}\\t{:0.2e}\\t{:0.2e}\\t{:0.2e}\\t{:0.2e}\\t{:0.2e}\\t{:0.2e}'.format(iteration,normgf,\n",
    "                                                                                dec_Newton,Err,\n",
    "                                                                                Err_plot_aux[iteration],t,\n",
    "                                                                                condHf))\n",
    "        stopping_criteria = dec_Newton/2\n",
    "        if t<tol_backtracking: #if t is less than tol_backtracking then we need to check the reason\n",
    "            iter_salida=iteration\n",
    "            iteration = maxiter - 1\n",
    "        iteration+=1\n",
    "    print('{} {:0.2e}'.format(\"Error of x with respect to x_ast:\",Err))\n",
    "    print('{} {}'.format(\"Approximate solution:\", x))\n",
    "    cond = Err_plot_aux > np.finfo(float).eps*10**(-2)\n",
    "    Err_plot = Err_plot_aux[cond]\n",
    "    if iteration == maxiter and t < tol_backtracking:\n",
    "        print(\"Backtracking value less than tol_backtracking, check approximation\")\n",
    "        iteration=iter_salida\n",
    "        x_plot = x_plot[:,:iteration]\n",
    "    else:\n",
    "        x_plot = x_plot[:,:iteration]\n",
    "    return [x,iteration,Err_plot,x_plot]"
   ]
  },
  {
   "cell_type": "markdown",
   "metadata": {},
   "source": [
    "## Ejemplo:"
   ]
  },
  {
   "cell_type": "markdown",
   "metadata": {},
   "source": [
    "1) $$\\min \\quad e^{(x_1+3x_2-0.1)}+e^{x_1-3x_2-0.1}+e^{-x_1-0.1}$$"
   ]
  },
  {
   "cell_type": "code",
   "execution_count": 51,
   "metadata": {},
   "outputs": [],
   "source": [
    "fo = lambda x: math.exp(x[0]+3*x[1]-0.1)+math.exp(x[0]-3*x[1]-0.1)+math.exp(-x[0]-0.1)"
   ]
  },
  {
   "cell_type": "code",
   "execution_count": 52,
   "metadata": {},
   "outputs": [],
   "source": [
    "x_ast=np.array([-3.4654e-01,-7.6725e-06])"
   ]
  },
  {
   "cell_type": "code",
   "execution_count": 53,
   "metadata": {},
   "outputs": [
    {
     "data": {
      "text/plain": [
       "array([-3.4654e-01, -7.6725e-06])"
      ]
     },
     "execution_count": 53,
     "metadata": {},
     "output_type": "execute_result"
    }
   ],
   "source": [
    "x_ast"
   ]
  },
  {
   "cell_type": "code",
   "execution_count": 54,
   "metadata": {},
   "outputs": [
    {
     "name": "stdout",
     "output_type": "stream",
     "text": [
      "I\tNormgf \tNewton Decrement\tError x_ast\tError p_ast\tline search\tCondHf\n",
      "0\t5.66e-01\t3.01e-01\t1.00e+00\t5.18e-02\t---\t\t1.33e+00\n",
      "1\t2.15e-02\t4.60e-04\t5.38e-01\t8.29e-03\t1.00e+00\t1.01e+00\n",
      "2\t2.91e-06\t8.49e-12\t6.00e-01\t8.38e-03\t1.00e+00\t1.00e+00\n",
      "Error of x with respect to x_ast: 6.00e-01\n",
      "Approximate solution: [-5.54394682e-01  2.90105090e-05]\n"
     ]
    }
   ],
   "source": [
    "x_0 = np.array([0,0],dtype=float)\n",
    "tol=1e-8\n",
    "tol_backtracking=1e-14\n",
    "maxiter=50\n",
    "p_ast=fo_transf(x_ast)\n",
    "[x,total_of_iterations,Err_plot,x_plot]=Newtons_method(fo_transf, x_0,tol, \n",
    "                                                       tol_backtracking, x_ast, p_ast, maxiter)"
   ]
  },
  {
   "cell_type": "code",
   "execution_count": 55,
   "metadata": {},
   "outputs": [
    {
     "data": {
      "text/plain": [
       "array([-5.54394682e-01,  2.90105090e-05])"
      ]
     },
     "execution_count": 55,
     "metadata": {},
     "output_type": "execute_result"
    }
   ],
   "source": [
    "x"
   ]
  },
  {
   "cell_type": "code",
   "execution_count": 56,
   "metadata": {},
   "outputs": [
    {
     "data": {
      "text/plain": [
       "3"
      ]
     },
     "execution_count": 56,
     "metadata": {},
     "output_type": "execute_result"
    }
   ],
   "source": [
    "total_of_iterations"
   ]
  },
  {
   "cell_type": "code",
   "execution_count": 57,
   "metadata": {},
   "outputs": [
    {
     "data": {
      "text/plain": [
       "(3,)"
      ]
     },
     "execution_count": 57,
     "metadata": {},
     "output_type": "execute_result"
    }
   ],
   "source": [
    "Err_plot.shape"
   ]
  },
  {
   "cell_type": "code",
   "execution_count": 64,
   "metadata": {},
   "outputs": [
    {
     "data": {
      "image/png": "[encoded data removed]",
      "text/plain": [
       "<Figure size 432x288 with 1 Axes>"
      ]
     },
     "metadata": {
      "needs_background": "light"
     },
     "output_type": "display_data"
    }
   ],
   "source": [
    "plt.yscale('log') #escala logarítmica en el eje vertical\n",
    "plt.plot(np.arange(Err_plot.size),Err_plot,'.-')\n",
    "plt.ylabel('Log Error relativo entre: $f_o(x^k)$ y $p^*$',size=12)\n",
    "plt.xlabel('Iterations',size=12)\n",
    "plt.grid()\n",
    "plt.show()"
   ]
  },
  {
   "cell_type": "code",
   "execution_count": 65,
   "metadata": {},
   "outputs": [
    {
     "data": {
      "text/plain": [
       "(2, 3)"
      ]
     },
     "execution_count": 65,
     "metadata": {},
     "output_type": "execute_result"
    }
   ],
   "source": [
    "x_plot.shape"
   ]
  },
  {
   "cell_type": "code",
   "execution_count": 66,
   "metadata": {},
   "outputs": [
    {
     "data": {
      "text/plain": [
       "array([0., 0.])"
      ]
     },
     "execution_count": 66,
     "metadata": {},
     "output_type": "execute_result"
    }
   ],
   "source": [
    "x_plot[:,0]"
   ]
  },
  {
   "cell_type": "code",
   "execution_count": 67,
   "metadata": {},
   "outputs": [
    {
     "data": {
      "text/plain": [
       "array([-5.54394682e-01,  2.90105090e-05])"
      ]
     },
     "execution_count": 67,
     "metadata": {},
     "output_type": "execute_result"
    }
   ],
   "source": [
    "x_plot[:,-1]"
   ]
  },
  {
   "cell_type": "code",
   "execution_count": 68,
   "metadata": {},
   "outputs": [
    {
     "data": {
      "image/png": "[encoded data removed]",
      "text/plain": [
       "<Figure size 432x288 with 1 Axes>"
      ]
     },
     "metadata": {
      "needs_background": "light"
     },
     "output_type": "display_data"
    }
   ],
   "source": [
    "plt.plot(x_plot[0,:],x_plot[1,:],'-*')\n",
    "plt.ylabel('y')\n",
    "plt.xlabel('x')\n",
    "plt.annotate('$x^{(0)}$',(x_plot[0,0],x_plot[1,0]),fontsize=12)\n",
    "plt.title('Iteraciones del método de Newton para $f_o$')\n",
    "plt.grid()\n",
    "plt.show()"
   ]
  },
  {
   "cell_type": "code",
   "execution_count": 69,
   "metadata": {},
   "outputs": [
    {
     "data": {
      "image/png": "[encoded data removed]",
      "text/plain": [
       "<Figure size 432x288 with 1 Axes>"
      ]
     },
     "metadata": {
      "needs_background": "light"
     },
     "output_type": "display_data"
    }
   ],
   "source": [
    "plt.plot(np.arange(Err_plot.size),Err_plot,'.-')\n",
    "plt.ylabel('$f_o(x^k)-p^*$',size=12)\n",
    "plt.xlabel('Iteraciones del método de Newton para $f_o$')\n",
    "plt.grid()\n",
    "plt.show()"
   ]
  },
  {
   "cell_type": "markdown",
   "metadata": {},
   "source": [
    "## Ejemplo: no influencia del número de condición "
   ]
  },
  {
   "cell_type": "markdown",
   "metadata": {},
   "source": [
    "2) El método de Newton **es insensible** a la forma de las curvas de nivel de la función objetivo $f_o$. Para observar esto considérese el problema: $$\\min \\frac{1}{2}\\left(x_1^2+Cx_2^2 \\right)$$"
   ]
  },
  {
   "cell_type": "markdown",
   "metadata": {},
   "source": [
    "La solución del problema anterior es $x^*=(0,0)^T$."
   ]
  },
  {
   "cell_type": "markdown",
   "metadata": {},
   "source": [
    "Método de descenso en gradiente con $x_0=(0.5,0.5)^T$."
   ]
  },
  {
   "cell_type": "markdown",
   "metadata": {},
   "source": [
    "**Método de Newton para caso $C=10$**"
   ]
  },
  {
   "cell_type": "code",
   "execution_count": 70,
   "metadata": {},
   "outputs": [],
   "source": [
    "cte=10"
   ]
  },
  {
   "cell_type": "code",
   "execution_count": 71,
   "metadata": {},
   "outputs": [],
   "source": [
    "fo = lambda x: 1/2*(x[0]**2+cte*x[1]**2)"
   ]
  },
  {
   "cell_type": "code",
   "execution_count": 72,
   "metadata": {},
   "outputs": [
    {
     "name": "stdout",
     "output_type": "stream",
     "text": [
      "I\tNormgf \tNewton Decrement\tError x_ast\tError p_ast\tline search\tCondHf\n",
      "0\t5.02e+00\t2.75e+00\t7.07e-01\t1.38e+00\t---\t\t1.00e+01\n",
      "1\t2.10e-04\t3.28e-08\t1.78e-04\t1.64e-08\t1.00e+00\t1.00e+01\n",
      "2\t5.47e-16\t4.33e-32\t7.07e-09\t1.37e-16\t1.00e+00\t1.00e+01\n",
      "Error of x with respect to x_ast: 7.07e-09\n",
      "Approximate solution: [-4.99999988e-09 -4.99999995e-09]\n"
     ]
    }
   ],
   "source": [
    "x_ast=np.array([0,0],dtype=float)\n",
    "x_0 = np.array([0.5,0.5],dtype=float)\n",
    "tol=1e-8\n",
    "tol_backtracking=1e-14\n",
    "maxiter=50\n",
    "p_ast=fo(x_ast)\n",
    "[x,total_of_iterations,Err_plot,x_plot]=Newtons_method(fo, x_0, tol, tol_backtracking, x_ast, p_ast, maxiter)"
   ]
  },
  {
   "cell_type": "code",
   "execution_count": 73,
   "metadata": {},
   "outputs": [
    {
     "data": {
      "text/plain": [
       "array([-4.99999988e-09, -4.99999995e-09])"
      ]
     },
     "execution_count": 73,
     "metadata": {},
     "output_type": "execute_result"
    }
   ],
   "source": [
    "x"
   ]
  },
  {
   "cell_type": "code",
   "execution_count": 74,
   "metadata": {},
   "outputs": [
    {
     "data": {
      "text/plain": [
       "3"
      ]
     },
     "execution_count": 74,
     "metadata": {},
     "output_type": "execute_result"
    }
   ],
   "source": [
    "total_of_iterations"
   ]
  },
  {
   "cell_type": "code",
   "execution_count": 75,
   "metadata": {},
   "outputs": [
    {
     "data": {
      "text/plain": [
       "(3,)"
      ]
     },
     "execution_count": 75,
     "metadata": {},
     "output_type": "execute_result"
    }
   ],
   "source": [
    "Err_plot.shape"
   ]
  },
  {
   "cell_type": "code",
   "execution_count": 76,
   "metadata": {},
   "outputs": [
    {
     "data": {
      "image/png": "[encoded data removed]",
      "text/plain": [
       "<Figure size 432x288 with 1 Axes>"
      ]
     },
     "metadata": {
      "needs_background": "light"
     },
     "output_type": "display_data"
    }
   ],
   "source": [
    "plt.yscale('log') #escala logarítmica en el eje vertical\n",
    "plt.plot(np.arange(Err_plot.size),Err_plot,'.-')\n",
    "plt.ylabel('Log Error relativo entre: $f_o(x^k)$ y $p^*$',size=12)\n",
    "plt.xlabel('Iterations',size=12)\n",
    "plt.grid()\n",
    "plt.show()"
   ]
  },
  {
   "cell_type": "code",
   "execution_count": 77,
   "metadata": {},
   "outputs": [
    {
     "data": {
      "text/plain": [
       "array([0.5, 0.5])"
      ]
     },
     "execution_count": 77,
     "metadata": {},
     "output_type": "execute_result"
    }
   ],
   "source": [
    "x_plot[:,0]"
   ]
  },
  {
   "cell_type": "code",
   "execution_count": 78,
   "metadata": {},
   "outputs": [
    {
     "data": {
      "text/plain": [
       "(2, 3)"
      ]
     },
     "execution_count": 78,
     "metadata": {},
     "output_type": "execute_result"
    }
   ],
   "source": [
    "x_plot.shape"
   ]
  },
  {
   "cell_type": "code",
   "execution_count": 79,
   "metadata": {},
   "outputs": [
    {
     "data": {
      "text/plain": [
       "array([-4.99999988e-09, -4.99999995e-09])"
      ]
     },
     "execution_count": 79,
     "metadata": {},
     "output_type": "execute_result"
    }
   ],
   "source": [
    "x_plot[:,-1]"
   ]
  },
  {
   "cell_type": "code",
   "execution_count": 80,
   "metadata": {},
   "outputs": [
    {
     "data": {
      "image/png": "[encoded data removed]",
      "text/plain": [
       "<Figure size 576x288 with 1 Axes>"
      ]
     },
     "metadata": {
      "needs_background": "light"
     },
     "output_type": "display_data"
    }
   ],
   "source": [
    "plt.figure(figsize=(8,4))\n",
    "plt.plot(x_plot[0,:],x_plot[1,:],'-*')\n",
    "plt.ylabel('y')\n",
    "plt.xlabel('x')\n",
    "plt.annotate('$x^{(0)}$',(x_plot[0,0],x_plot[1,0]),fontsize=12,xytext=(0.5, 0.47))\n",
    "plt.title('Iteraciones del método de Newton para $f_o$ con $C=10$')\n",
    "plt.grid()\n",
    "plt.show()"
   ]
  },
  {
   "cell_type": "code",
   "execution_count": 81,
   "metadata": {},
   "outputs": [
    {
     "data": {
      "image/png": "[encoded data removed]",
      "text/plain": [
       "<Figure size 432x288 with 1 Axes>"
      ]
     },
     "metadata": {
      "needs_background": "light"
     },
     "output_type": "display_data"
    }
   ],
   "source": [
    "plt.plot(np.arange(Err_plot.size),Err_plot,'.-')\n",
    "plt.ylabel('Error relativo entre: $f_o(x^k)$ y $p^*$',size=12)\n",
    "plt.xlabel('Iteraciones del método de Newton para $f_o$ con $C=10$')\n",
    "plt.grid()\n",
    "plt.show()"
   ]
  },
  {
   "cell_type": "markdown",
   "metadata": {},
   "source": [
    "**Comentarios:**\n",
    "\n",
    "* Tanto el paso de Newton como el decremento de Newton son **invariantes ante transformaciones afines**. Por ejemplo para el paso de Newton: si $T \\in \\mathbb{R}^{n \\times n}$ es no singular y $\\hat{f}_o: \\mathbb{R}^n \\rightarrow \\mathbb{R}$ está definida como $\\hat{f}_o(\\hat{x}) = f_o(T^{-1}x)$ entonces se puede probar que $\\Delta \\hat{x}_{\\text{nt}} = T^{-1} \\Delta x_{\\text{nt}}$ con $\\Delta x_{\\text{nt}}$ el paso de Newton para $f_o$ en $x$. Esto indica que los pasos de Newton están relacionados por la misma transformación lineal $T$, de hecho: $x + \\Delta x_{\\text{nt}} = T(\\hat{x} + \\Delta \\hat{x}_{\\text{nt}})$.\n",
    "\n",
    "* Contrástese el punto anterior con el método de descenso en gradiente que es afectado fuertemente por el cambio de coordenadas, ver [4.2.Descenso_en_gradiente](https://github.com/ITAM-DS/analisis-numerico-computo-cientifico/blob/master/temas/IV.optimizacion_convexa_y_machine_learning/4.2.Descenso_en_gradiente.ipynb).\n",
    "\n",
    "* Al igual que en el método de descenso en gradiente los valores de $\\alpha$ y $\\beta$ en el método de búsqueda de línea por *backtracking* tienen un efecto pequeño en el *performance* del método de Newton. Típicamente se utilizan $\\alpha=0.01, .15$ y $\\beta = 0.5$.\n",
    "\n",
    "* El método de Newton puede dividirse en dos etapas: \n",
    "\n",
    "    * La etapa ***damped*** o ***guarded*** que se caracteriza por valores de búsqueda de línea por *backtracking* menores a $1$: $t < 1$. \n",
    "    \n",
    "    * La etapa ***pure*** que se caracteriza por valores de búsqueda de línea por *backtracking* iguales a $1$: $t =1$ . En esta etapa el método de Newton tiene una **convergencia cuadrática**. Una vez en esta etapa le toma no más de $6$ iteraciones al método para obtener una aproximación a $p^*$ muy buena (precisiones mayores o iguales a $8$ dígitos).\n",
    "    \n",
    "    \n",
    "* El número de condición de la Hessiana de $f_o$ (o el de los conjuntos subnivel) afectan al método de Newton únicamente en los problemas numéricos al calcular el paso de Newton $\\Delta x_{\\text{nt}}$ (al resolver un sistema de ecuaciones lineales) y no en el número de iteraciones.\n",
    "\n",
    "\n",
    "* En la práctica se ha observado que el método de Newton escala bien con el tamaño del problema: ejemplos de su *performance* para problemas con variables en $\\mathbb{R}^{10^4}$ muestran un ligero incremento en el número de iteraciones que en problemas en $\\mathbb{R}^{10}$.\n",
    "\n",
    "* La gran desventaja del método de Newton radica en construir, almacenar a la Hessiana y resolver el sistema de ecuaciones lineales asociado que típicamente es costoso. Para estos casos se sugieren:\n",
    "\n",
    "    * Utilizar una familia de algoritmos para optimización sin restricciones conocida con el nombre **[Quasi Newton](https://en.wikipedia.org/wiki/Quasi-Newton_method)** los cuales requieren un menor costo computacional para calcular la dirección de búsqueda y tienen propiedades en común con el método de Newton como convergencia cuadrática para iteraciones cercanas a $x^*$."
   ]
  },
  {
   "cell_type": "markdown",
   "metadata": {},
   "source": [
    "**Referencias:**\n",
    "\n",
    "* S. P. Boyd, L. Vandenberghe, Convex Optimization, Cambridge University Press, 2009.\n"
   ]
  }
 ],
 "metadata": {
  "kernelspec": {
   "display_name": "Python 3",
   "language": "python",
   "name": "python3"
  },
  "language_info": {
   "codemirror_mode": {
    "name": "ipython",
    "version": 3
   },
   "file_extension": ".py",
   "mimetype": "text/x-python",
   "name": "python",
   "nbconvert_exporter": "python",
   "pygments_lexer": "ipython3",
   "version": "3.6.9"
  }
 },
 "nbformat": 4,
 "nbformat_minor": 4
}
