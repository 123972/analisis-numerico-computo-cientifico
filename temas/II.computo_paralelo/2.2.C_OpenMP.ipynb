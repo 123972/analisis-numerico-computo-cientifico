{
 "cells": [
  {
   "cell_type": "markdown",
   "metadata": {},
   "source": [
    "**Notas para contenedor de docker:**"
   ]
  },
  {
   "cell_type": "markdown",
   "metadata": {},
   "source": [
    "Comando de docker para ejecución de la nota de forma local:\n",
    "\n",
    "nota: cambiar `<ruta a mi directorio>` por la ruta de directorio que se desea mapear a `/datos` dentro del contenedor de docker.\n",
    "\n",
    "```\n",
    "docker run --rm -v <ruta a mi directorio>:/datos --name jupyterlab_c_kernel_local -p 8888:8888 -d palmoreck/jupyterlab_c_kernel:1.1.0\n",
    "```\n",
    "\n",
    "password para jupyterlab: `qwerty`\n",
    "\n",
    "Detener el contenedor de docker:\n",
    "\n",
    "```\n",
    "docker stop jupyterlab_c_kernel_local\n",
    "```"
   ]
  },
  {
   "cell_type": "markdown",
   "metadata": {},
   "source": [
    "Documentación de la imagen de docker `palmoreck/jupyterlab_c_kernel:1.1.0` en [liga](https://github.com/palmoreck/dockerfiles/tree/master/jupyterlab/c_kernel)."
   ]
  },
  {
   "cell_type": "markdown",
   "metadata": {},
   "source": [
    "---"
   ]
  },
  {
   "cell_type": "markdown",
   "metadata": {},
   "source": [
    "Nota generada a partir de [liga](https://www.dropbox.com/s/vcxbrqkk6x946d7/2.4.Sistemas_de_memoria_compartida_openMP.pdf?dl=0)"
   ]
  },
  {
   "cell_type": "markdown",
   "metadata": {},
   "source": [
    "A diferencia con los paquetes de [parallel](https://github.com/ITAM-DS/analisis-numerico-computo-cientifico/blob/master/temas/II.computo_paralelo/2.2.R_parallel.ipynb) de R y de [multiprocessing](https://github.com/ITAM-DS/analisis-numerico-computo-cientifico/blob/master/temas/II.computo_paralelo/2.2.Python_multiprocessing.ipynb) de Python en los que se sugiere el lanzamiento de subprocesos a partir de un proceso principal para el cómputo en paralelo y tareas principalmente *CPU bound* (cada subproceso son instancias de Python y R), en el lenguaje C lanzamos *threads* desde un proceso principal conocido con el nombre de *threading* en los que los *threads* realizan *fork*'s y *join*'s vistos en [2.1.Un_poco_de_historia_y_generalidades](https://github.com/ITAM-DS/analisis-numerico-computo-cientifico/blob/master/temas/II.computo_paralelo/2.1.Un_poco_de_historia_y_generalidades.ipynb).\n",
    "\n",
    "Una herramienta que permite el *fork* y *join* de *threads* a partir de un proceso es **OpenMP**. Otra más es **POSIX threads [Pthreads](https://github.com/ITAM-DS/analisis-numerico-computo-cientifico/tree/master/C/extensiones_a_C/Pthreads)**. Revisaremos en esta nota algunos conceptos y usos básicos de OpenMP."
   ]
  },
  {
   "cell_type": "markdown",
   "metadata": {},
   "source": [
    "# OpenMP"
   ]
  },
  {
   "cell_type": "markdown",
   "metadata": {},
   "source": [
    "Documentación: [openMP](http://www.openmp.org/)"
   ]
  },
  {
   "cell_type": "markdown",
   "metadata": {},
   "source": [
    "Es una *API* para *shared memory parallel programming*. Las siglas *MP* se refieren a *multiprocessing* un sinónimo de *shared memory parallel computing*. Al programar con *OpenMP* consideramos que en nuestro sistema cada *thread* y *core* pueden potencialmente tener acceso a toda la memoria disponible.\n",
    "\n",
    "Algunas características de *OpenMP* son:\n",
    "\n",
    "* Paralelización de ciclos *for* secuenciales en los que las iteraciones son independientes una de la otra de forma simple.\n",
    "\n",
    "* Paralelización de tareas y sincronización explícita de threads.\n"
   ]
  },
  {
   "cell_type": "markdown",
   "metadata": {},
   "source": [
    "*OpenMP* es una *API* que provee **directivas** para *shared_memory programming*. Una directiva es una instrucción especial para indicar al [preprocesador](https://en.wikipedia.org/wiki/Preprocessor) (vía la compilación) que ejecutaremos una instrucción que no se encuentra en la especificación básica del lenguaje C (ver [C preprocessor](https://en.wikipedia.org/wiki/C_preprocessor)). En *OpenMP* utilizamos el *pragma*: `#pragma omp`."
   ]
  },
  {
   "cell_type": "markdown",
   "metadata": {},
   "source": [
    "**Comentario:** los *pragma*'s son añadidos al sistema para comportamientos que no son parte de la especificación básica de C. Cabe señalar que las versiones más recientes del compilador `gcc` sí soportan a los pragmas y todas las *preprocessor directive* son por *default* de longitud una línea. Si no cabe en una línea usamos un *escaping* (precedemos con un backslash \"\\\" la \"nueva línea\").\n",
    "\n"
   ]
  },
  {
   "cell_type": "markdown",
   "metadata": {},
   "source": [
    "## Directiva parallel"
   ]
  },
  {
   "cell_type": "markdown",
   "metadata": {},
   "source": [
    "### 1) Hello world"
   ]
  },
  {
   "cell_type": "code",
   "execution_count": 13,
   "metadata": {},
   "outputs": [
    {
     "name": "stdout",
     "output_type": "stream",
     "text": [
      "Hola del thread: 1 de 2\n",
      "Hola del thread: 0 de 2\n"
     ]
    }
   ],
   "source": [
    "//%cflags:-fopenmp\n",
    "//%cflags:-Wall\n",
    "#include<stdio.h>\n",
    "#include<stdlib.h>\n",
    "#include<omp.h> //header file con prototipos y macro definitions para \n",
    "                //la librería de funciones y macros de openMP.\n",
    "\n",
    "void Hello(void); //prototipo de función a ejecutar por los threads.\n",
    "int main(){\n",
    "\n",
    "    //Siempre iniciamos con un #pragma omp ... :\n",
    "\n",
    "    #pragma omp parallel //directiva parallel\n",
    "       //structured block que sólo consiste del llamado a la función Hello: \n",
    "        Hello();\n",
    "    return 0;\n",
    "}\n",
    "\n",
    "//función que será ejecutada por los threads\n",
    "void Hello(void){\n",
    "    int mi_rango = omp_get_thread_num(); //obtenemos el rank dado por\n",
    "                    //el run-time system a cada thread\n",
    "    int conteo_threads = omp_get_num_threads(); //obtenemos el número de threads \n",
    "                    //que realizaron un fork\n",
    "                    //del master thread\n",
    "    printf(\"Hola del thread: %d de %d\\n\", mi_rango, conteo_threads);\n",
    "}\n"
   ]
  },
  {
   "cell_type": "markdown",
   "metadata": {},
   "source": [
    "**Obs:**\n",
    "\n",
    "* Obsérvese que hay que añadir la *flag* `-fopenmp` para soporte de `OpenMP`. De modo que la compilación se realiza:\n",
    "\n",
    "`gcc -Wall -fopenmp hello_world_omp.c -o hello_world_omp.out`\n",
    "\n",
    "suponiendo que el programa anterior se guarda en un archivo con nombre `hello_world_omp.c`.\n",
    "\n",
    "* Dependiendo del número de cores de nuestro sistema tendremos diferentes número de `printf`'s.\n",
    "\n",
    "* Lo que continúa a la línea de `#pragma omp parallel` es un *structured block*, esto es, un *statement* o conjunto de *statements* que tienen un punto de entrada y un punto de salida, no se permiten statements como el siguiente:\n",
    "\n",
    "```\n",
    "#pragma omp parallel\n",
    "if(...) break;\n",
    "```\n",
    "\n",
    "ni tampoco:\n",
    "    \n",
    "```\n",
    "#pragma omp parallel\n",
    "    {\n",
    "        if(variable == valor) return 1;\n",
    "        return -1;\n",
    "    }\n",
    "\n",
    "```"
   ]
  },
  {
   "cell_type": "markdown",
   "metadata": {},
   "source": [
    "## 2) Hello world con *clause* `num_threads`"
   ]
  },
  {
   "cell_type": "markdown",
   "metadata": {},
   "source": [
    "A continuación del nombre *parallel* podemos usar diferentes tipos de *clauses*, una *clause* en *OpenMP* es un texto que modifica una directiva. Por ejemplo, podemos usar la *clause* `num_threads` para especificar el número de threads que ejecutarán el structured block:"
   ]
  },
  {
   "cell_type": "code",
   "execution_count": 16,
   "metadata": {},
   "outputs": [
    {
     "name": "stdout",
     "output_type": "stream",
     "text": [
      "Hola del thread: 0 de 5\n",
      "Hola del thread: 4 de 5\n",
      "Hola del thread: 3 de 5\n",
      "Hola del thread: 2 de 5\n",
      "Hola del thread: 1 de 5\n"
     ]
    }
   ],
   "source": [
    "//%cflags:-fopenmp\n",
    "//%cflags:-Wall\n",
    "#include<stdio.h>\n",
    "#include<stdlib.h>\n",
    "#include<omp.h> //header file con prototipos y macro definitions para \n",
    "                //la librería de funciones y macros de openMP.\n",
    "\n",
    "void Hello(void); //prototipo de función a ejecutar por los threads.\n",
    "int main(){\n",
    "    int numero_threads=5;\n",
    "    //Siempre iniciamos con un #pragma omp ... :\n",
    "\n",
    "    #pragma omp parallel num_threads(numero_threads) //directive parallel con clause num_threads\n",
    "       //structured block que sólo consiste del llamado a la función Hello: \n",
    "        Hello();\n",
    "    return 0;\n",
    "}\n",
    "\n",
    "//función que será ejecutada por los threads\n",
    "void Hello(void){\n",
    "    int mi_rango = omp_get_thread_num(); //obtenemos el rank dado por\n",
    "                    //el run-time system a cada thread\n",
    "    int conteo_threads = omp_get_num_threads(); //obtenemos el número de threads \n",
    "                    //que realizaron un fork\n",
    "                    //del master thread\n",
    "    printf(\"Hola del thread: %d de %d\\n\", mi_rango, conteo_threads);\n",
    "}\n"
   ]
  },
  {
   "cell_type": "markdown",
   "metadata": {},
   "source": [
    "**Obs:** obsérvese el no determinismo en el `printf`."
   ]
  },
  {
   "cell_type": "markdown",
   "metadata": {},
   "source": [
    "## 3) Regla compuesta del Rectángulo"
   ]
  },
  {
   "cell_type": "markdown",
   "metadata": {},
   "source": [
    "Para la medición de tiempos se utilizaron las ligas: [liga](https://stackoverflow.com/questions/16764276/measuring-time-in-millisecond-precision) y [liga2](https://www.techiedelight.com/find-execution-time-c-program/)"
   ]
  },
  {
   "cell_type": "markdown",
   "metadata": {},
   "source": [
    "**Forma secuencial**"
   ]
  },
  {
   "cell_type": "code",
   "execution_count": 1,
   "metadata": {},
   "outputs": [
    {
     "name": "stdout",
     "output_type": "stream",
     "text": [
      "Integral de 0.000000 a 1.000000 = 7.468241328124773e-01\n",
      "Error relativo de la solución: 6.719397313003120e-14\n",
      "Tiempo de ejecución: 32 miliseconds"
     ]
    }
   ],
   "source": [
    "//%cflags:-lm\n",
    "#include<stdio.h>\n",
    "#include<stdlib.h>\n",
    "#include<math.h> //header para funciones de mate\n",
    "#include<time.h>\n",
    "#include <sys/time.h>\n",
    "void Rcf(double a, double b, int n,\\\n",
    "    double *suma_global_p);\n",
    "double f(double nodo);\n",
    "int main(int argc, char *argv[]){\n",
    "    double suma_global = 0.0;\n",
    "    double a=0.0, b=1.0;\n",
    "    int n=1e6; //número de subintervalos\n",
    "    double objetivo=0.7468241328124271;\n",
    "    struct timeval start;\n",
    "    struct timeval end;\n",
    "    long seconds;\n",
    "    long long mili;\n",
    "    \n",
    "\n",
    "    gettimeofday(&start, NULL);\n",
    "    Rcf(a,b,n,&suma_global);\n",
    "    gettimeofday(&end, NULL);\n",
    "    seconds = (end.tv_sec - start.tv_sec);\n",
    "    mili = 1000*(seconds) + (end.tv_usec - start.tv_usec)/1000;\n",
    "    printf(\"Integral de %f a %f = %1.15e\\n\", a,b,suma_global);\n",
    "    printf(\"Error relativo de la solución: %1.15e\\n\", fabs(suma_global-objetivo)/fabs(objetivo));\n",
    "    printf(\"Tiempo de ejecución: %lld miliseconds\", mili);\n",
    "    return 0;\n",
    "}\n",
    "void Rcf(double a, double b, int n, double *sum){\n",
    "    double h_hat=(b-a)/n;\n",
    "    double x=0.0;\n",
    "    int i=0;\n",
    "    *sum = 0.0;\n",
    "    for(i=0;i<=n-1;i++){\n",
    "        x = a+(i+1/2.0)*h_hat;\n",
    "        *sum+=f(x);\n",
    "    }\n",
    "    *sum =h_hat*(*sum);\n",
    "}\n",
    "double f(double nodo){\n",
    "    double valor_f;\n",
    "    valor_f = exp(-pow(nodo,2));\n",
    "    return valor_f;\n",
    "}"
   ]
  },
  {
   "cell_type": "markdown",
   "metadata": {},
   "source": [
    "**Forma en paralelo:**"
   ]
  },
  {
   "cell_type": "markdown",
   "metadata": {},
   "source": [
    "**Nota: los siguientes resultados se obtuvieron con una máquina con 8 cores, así que pueden no coincidir con los resultados previos de esta sección.**"
   ]
  },
  {
   "cell_type": "code",
   "execution_count": 2,
   "metadata": {},
   "outputs": [
    {
     "name": "stdout",
     "output_type": "stream",
     "text": [
      "Integral de 0.000000 a 1.000000 = 7.468241328124773e-01\n",
      "Error relativo de la solución: 6.719397313003120e-14\n",
      "Tiempo de ejecución con 1 threads: 32 miliseconds\n",
      "----------------------\n",
      "Integral de 0.000000 a 1.000000 = 7.468241328124707e-01\n",
      "Error relativo de la solución: 5.842307840730588e-14\n",
      "Tiempo de ejecución con 2 threads: 17 miliseconds\n",
      "----------------------\n",
      "Integral de 0.000000 a 1.000000 = 7.468241328124631e-01\n",
      "Error relativo de la solución: 4.816559135869493e-14\n",
      "Tiempo de ejecución con 4 threads: 12 miliseconds\n",
      "----------------------\n",
      "Integral de 0.000000 a 1.000000 = 7.468241328124646e-01\n",
      "Error relativo de la solución: 5.024682061493483e-14\n",
      "Tiempo de ejecución con 5 threads: 11 miliseconds\n",
      "----------------------\n",
      "Integral de 0.000000 a 1.000000 = 7.468241328124514e-01\n",
      "Error relativo de la solución: 3.255637193689565e-14\n",
      "Tiempo de ejecución con 8 threads: 19 miliseconds\n",
      "----------------------\n"
     ]
    }
   ],
   "source": [
    "//%cflags:-fopenmp\n",
    "//%cflags:-lm\n",
    "//%cflags:-Wall\n",
    "#include<stdio.h>\n",
    "#include<stdlib.h>\n",
    "#include<omp.h>\n",
    "#include<math.h> //header para funciones de mate\n",
    "#include<time.h>\n",
    "#include <sys/time.h>\n",
    "//prototipo de funciones\n",
    "double Rcf_parallel(double a, double h_hat, int ns_p);\n",
    "double f(double nodo);\n",
    "\n",
    "//programa principal\n",
    "int main(){\n",
    "    double suma_global = 0.0; //variable que es shared, en esta se sumarán los resultados\n",
    "                //de las aproximaciones de cada uno de los threads.\n",
    "    double a=0.0, b=1.0;\n",
    "    int n=1e6; //número de subintervalos\n",
    "    double h_hat=(b-a)/n;\n",
    "    int ns_p;\n",
    "    int numero_threads[5]={0};//conteo_threads debe dividir de forma exacta a n\n",
    "    int long_numero_threads = 0;\n",
    "    double objetivo=0.7468241328124271;\n",
    "    struct timeval start;\n",
    "    struct timeval end;\n",
    "    long seconds;\n",
    "    long long mili;\n",
    "    int i;\n",
    "    numero_threads[0]=1;\n",
    "    numero_threads[1]=2;\n",
    "    numero_threads[2]=4;\n",
    "    numero_threads[3]=5;\n",
    "    numero_threads[4]=8;\n",
    "    long_numero_threads = sizeof(numero_threads)/sizeof(numero_threads[0]);\n",
    "    for(i=0;i<long_numero_threads;i++){\n",
    "        ns_p=n/numero_threads[i];\n",
    "        gettimeofday(&start, NULL);\n",
    "        #pragma omp parallel num_threads(numero_threads[i]) reduction(+: suma_global)\n",
    "            suma_global+=Rcf_parallel(a,h_hat,ns_p);\n",
    "        suma_global = h_hat*suma_global;\n",
    "        gettimeofday(&end, NULL);\n",
    "        seconds = (end.tv_sec - start.tv_sec);\n",
    "        mili = 1000*(seconds) + (end.tv_usec - start.tv_usec)/1000;\n",
    "        printf(\"Integral de %f a %f = %1.15e\\n\", a,b,suma_global);\n",
    "        printf(\"Error relativo de la solución: %1.15e\\n\", fabs(suma_global-objetivo)/fabs(objetivo));\n",
    "        printf(\"Tiempo de ejecución con %d threads: %lld miliseconds\\n\", numero_threads[i],mili);\n",
    "        printf(\"----------------------\\n\");\n",
    "        suma_global=0.0;\n",
    "    }\n",
    "    return 0;\n",
    "}\n",
    "\n",
    "//definición de funciones:\n",
    "double Rcf_parallel(double a, double h_hat, int ns_p){\n",
    "    int begin, end;\n",
    "    int mi_rango = omp_get_thread_num();\n",
    "    double local_int=0;\n",
    "    int i;\n",
    "    double x;\n",
    "    begin = mi_rango*ns_p;\n",
    "    end = begin + ns_p; \n",
    "    for(i=begin;i<=end-1;i++){\n",
    "        x = a+(i+1/2.0)*h_hat;\n",
    "        local_int+=f(x);\n",
    "    }   \n",
    "    return local_int;\n",
    "}\n",
    "        \n",
    "double f(double nodo){\n",
    "    double valor_f;\n",
    "    valor_f = exp(-pow(nodo,2));\n",
    "    return valor_f;\n",
    "}"
   ]
  },
  {
   "cell_type": "markdown",
   "metadata": {},
   "source": [
    "**Ejercicio:** Calcular tiempo de ejecución para la regla de Simpson. No olviden medir errores relativos. Tal regla está en [1.5.Integracion_numerica](https://github.com/ITAM-DS/analisis-numerico-computo-cientifico/blob/master/temas/I.computo_cientifico/1.5.Integracion_numerica.ipynb), \n"
   ]
  },
  {
   "cell_type": "markdown",
   "metadata": {},
   "source": [
    "**Referencias:**\n",
    "\n",
    "* [Clases de C](https://github.com/ITAM-DS/analisis-numerico-computo-cientifico/tree/master/C/clases)\n",
    "\n",
    "* [Clases de OpenMP](https://github.com/ITAM-DS/analisis-numerico-computo-cientifico/tree/master/C/extensiones_a_C/openMP)\n",
    "\n",
    "Para más sobre OpenMP:\n",
    "\n",
    "* [Ejemplos con OpenMP](https://github.com/ITAM-DS/analisis-numerico-computo-cientifico/tree/master/C/extensiones_a_C/openMP/ejemplos)"
   ]
  }
 ],
 "metadata": {
  "kernelspec": {
   "display_name": "C",
   "language": "c",
   "name": "c"
  },
  "language_info": {
   "file_extension": ".c",
   "mimetype": "text/plain",
   "name": "c"
  }
 },
 "nbformat": 4,
 "nbformat_minor": 4
}
