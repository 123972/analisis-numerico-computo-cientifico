{
 "cells": [
  {
   "cell_type": "markdown",
   "metadata": {},
   "source": [
    "**Notas para contenedor de docker:**"
   ]
  },
  {
   "cell_type": "markdown",
   "metadata": {},
   "source": [
    "Comando de docker para ejecución de la nota de forma local:\n",
    "\n",
    "nota: cambiar `<ruta a mi directorio>` por la ruta de directorio que se desea mapear a `/datos` dentro del contenedor de docker.\n",
    "\n",
    "```\n",
    "docker run --rm -v <ruta a mi directorio>:/datos --name jupyterlab_r_kernel_local -p 8888:8888 -d palmoreck/jupyterlab_r_kernel:1.1.0\n",
    "```\n",
    "\n",
    "password para jupyterlab: `qwerty`\n",
    "\n",
    "Detener el contenedor de docker:\n",
    "\n",
    "```\n",
    "docker stop jupyterlab_r_kernel_local\n",
    "```\n"
   ]
  },
  {
   "cell_type": "markdown",
   "metadata": {},
   "source": [
    "Documentación de la imagen de docker `palmoreck/jupyterlab_r_kernel:1.1.0` en [liga](https://github.com/palmoreck/dockerfiles/tree/master/jupyterlab/r_kernel)."
   ]
  },
  {
   "cell_type": "markdown",
   "metadata": {},
   "source": [
    "---"
   ]
  },
  {
   "cell_type": "markdown",
   "metadata": {},
   "source": [
    "Esta nota utiliza métodos vistos en [1.5.Integracion_numerica](https://github.com/ITAM-DS/analisis-numerico-computo-cientifico/blob/master/temas/I.computo_cientifico/1.5.Integracion_numerica.ipynb)"
   ]
  },
  {
   "cell_type": "code",
   "execution_count": 1,
   "metadata": {},
   "outputs": [
    {
     "name": "stderr",
     "output_type": "stream",
     "text": [
      "system (cmd0): /usr/lib/R/bin/R CMD INSTALL\n",
      "\n",
      "foundpkgs: microbenchmark, /tmp/RtmpgcLrgv/downloaded_packages/microbenchmark_1.4-7.tar.gz\n",
      "\n",
      "files: /tmp/RtmpgcLrgv/downloaded_packages/microbenchmark_1.4-7.tar.gz\n",
      "\n",
      "1): succeeded '/usr/lib/R/bin/R CMD INSTALL -l '/usr/local/lib/R/site-library' /tmp/RtmpgcLrgv/downloaded_packages/microbenchmark_1.4-7.tar.gz'\n",
      "\n"
     ]
    }
   ],
   "source": [
    "install.packages(\"microbenchmark\",lib=\"/usr/local/lib/R/site-library/\",\n",
    "                repos=\"https://cran.itam.mx/\",verbose=TRUE)"
   ]
  },
  {
   "cell_type": "code",
   "execution_count": 2,
   "metadata": {},
   "outputs": [
    {
     "name": "stderr",
     "output_type": "stream",
     "text": [
      "system (cmd0): /usr/lib/R/bin/R CMD INSTALL\n",
      "\n",
      "foundpkgs: tictoc, /tmp/RtmpgcLrgv/downloaded_packages/tictoc_1.0.tar.gz\n",
      "\n",
      "files: /tmp/RtmpgcLrgv/downloaded_packages/tictoc_1.0.tar.gz\n",
      "\n",
      "1): succeeded '/usr/lib/R/bin/R CMD INSTALL -l '/usr/local/lib/R/site-library' /tmp/RtmpgcLrgv/downloaded_packages/tictoc_1.0.tar.gz'\n",
      "\n"
     ]
    }
   ],
   "source": [
    "install.packages(\"tictoc\",lib=\"/usr/local/lib/R/site-library/\",\n",
    "                repos=\"https://cran.itam.mx/\",verbose=TRUE)"
   ]
  },
  {
   "cell_type": "markdown",
   "metadata": {},
   "source": [
    "# Parallel"
   ]
  },
  {
   "cell_type": "markdown",
   "metadata": {},
   "source": [
    "Entre las herramientas más populares en R para procesamiento en paralelo están:\n",
    "\n",
    "* [Simple Network Of Workstations: snow](https://www.rdocumentation.org/packages/snow/versions/0.4-3), ver [liga](http://homepage.divms.uiowa.edu/~luke/R/cluster/cluster.html) para más información (ya es una herramienta incluida en el paquete **parallel**).\n",
    "\n",
    "* [multicore](https://www.rdocumentation.org/packages/future/versions/1.15.1/topics/multicore) (funciona en la familia Unix pero no en Windows y ya es una herramienta incluida en el paquete **parallel**).\n",
    "\n",
    "* [foreach](https://www.rdocumentation.org/packages/foreach/versions/1.4.7/topics/foreach). Hay ventajas al usarse con el paquete [iterators](https://www.rdocumentation.org/packages/iterators/versions/1.0.12).\n",
    "\n",
    "* [Rmpi](https://www.rdocumentation.org/packages/Rmpi/versions/0.6-9). Paralelización en máquinas multicore y en clústers de máquinas.\n",
    "\n",
    "**Comentarios:**\n",
    "\n",
    "* Las primeras dos son parte del paquete [parallel](https://www.rdocumentation.org/packages/parallel/versions/3.6.2) el cual está incluido en la instalación de R desde la versión de R 2.14.0.\n",
    "\n",
    "* Los cuatro paquetes de arriba emplean un paradigma de programación en paralelo del tipo *scatter/gather*: se tienen múltiples instancias de R corriendo al mismo tiempo (revisar si esto es correcto para el caso de *multicore*...), ya sea en un clúster de máquinas, o en una máquina multicore. Una de las instancias se le denomina *manager*  y las restantes *workers*. El cómputo en paralelo procede como sigue:\n",
    "\n",
    "* **scatter**: *manager* descompone el cómputo a realizar en *chunks* y envía (*scatters*) los chunks a *workers*.\n",
    "\n",
    "* **chunk computation**: *workers* hacen el cómputo en cada *chunk* y envían de regreso los resultados a *manager*.\n",
    "\n",
    "* **gather**: *manager* recibe (*gathers*) los resultados y los combina para resolver el problema.\n",
    "\n"
   ]
  },
  {
   "cell_type": "markdown",
   "metadata": {},
   "source": [
    "## Ejemplos"
   ]
  },
  {
   "cell_type": "markdown",
   "metadata": {},
   "source": [
    "### 1) Hello world!"
   ]
  },
  {
   "cell_type": "code",
   "execution_count": 3,
   "metadata": {},
   "outputs": [],
   "source": [
    "library(parallel)"
   ]
  },
  {
   "cell_type": "markdown",
   "metadata": {},
   "source": [
    "En el paquete *parallel* tenemos la función `detectCores` que como su nombre lo indica obtiene el número de CPU's en nuestra máquina:"
   ]
  },
  {
   "cell_type": "code",
   "execution_count": 4,
   "metadata": {},
   "outputs": [],
   "source": [
    "p<-detectCores()"
   ]
  },
  {
   "cell_type": "code",
   "execution_count": 5,
   "metadata": {},
   "outputs": [
    {
     "data": {
      "text/html": [
       "2"
      ],
      "text/latex": [
       "2"
      ],
      "text/markdown": [
       "2"
      ],
      "text/plain": [
       "[1] 2"
      ]
     },
     "metadata": {},
     "output_type": "display_data"
    }
   ],
   "source": [
    "p"
   ]
  },
  {
   "cell_type": "markdown",
   "metadata": {},
   "source": [
    "Usamos `makeCluster` para iniciar el *snow cluster*:"
   ]
  },
  {
   "cell_type": "code",
   "execution_count": 6,
   "metadata": {},
   "outputs": [],
   "source": [
    "cl<-makeCluster(p)"
   ]
  },
  {
   "cell_type": "markdown",
   "metadata": {},
   "source": [
    "La línea anterior crea `p` *workers* y cada *worker* es un proceso de R (como el proceso *manager*) que corren en la misma máquina.\n",
    "\n",
    "**Comentario:** el nombre de clúster en *snow* hace referencia al conjunto de *workers* y no a máquinas físicas. El objeto `cl` contiene información de *workers* y es de clase *cluster*:"
   ]
  },
  {
   "cell_type": "code",
   "execution_count": 7,
   "metadata": {},
   "outputs": [
    {
     "name": "stdout",
     "output_type": "stream",
     "text": [
      "[1] \"SOCKcluster\" \"cluster\"    \n"
     ]
    }
   ],
   "source": [
    "print(class(cl))"
   ]
  },
  {
   "cell_type": "markdown",
   "metadata": {},
   "source": [
    "La comunicación entre *manager* y *workers* por *default* en `makeCluster` es vía [network sockets](https://en.wikipedia.org/wiki/Network_socket) y es posible crear un clúster de máquinas físicas conectadas vía una network. "
   ]
  },
  {
   "cell_type": "code",
   "execution_count": 8,
   "metadata": {},
   "outputs": [
    {
     "data": {
      "text/plain": [
       "socket cluster with 2 nodes on host ‘localhost’"
      ]
     },
     "metadata": {},
     "output_type": "display_data"
    }
   ],
   "source": [
    "cl"
   ]
  },
  {
   "cell_type": "markdown",
   "metadata": {},
   "source": [
    "#### clusterApply"
   ]
  },
  {
   "cell_type": "markdown",
   "metadata": {},
   "source": [
    "En *parallel* se tiene la función [clusterApply](https://www.rdocumentation.org/packages/parallel/versions/3.6.2/topics/clusterApply) para ejecución en paralelo de una función aplicada a cada elemento de una lista: *manager* envía `lista[1]` a `cl[1]`, `lista[2]` a `cl[2]`,...,`lista[p]` a `cl[p]`. Además, si el número de elementos de la lista es mayor que el número de *workers* entonces `clusterApply` realiza una asignación tipo *round robin*: por ejemplo, si la lista tiene $4$ elementos y se tienen $2$ *workers* entonces `clusterApply` le envía a *worker1* el elemento de la primera posición de la lista, a *worker2* el segundo elemento. Después que *worker1* finaliza el procesamiento, `clusterApply` le envía la tercera posición y al terminar *worker2* del procesamiento, `clusterApply` le envía la cuarta posición (`clusterApply` aprovecha la característica que tiene R de reciclar operaciones)."
   ]
  },
  {
   "cell_type": "code",
   "execution_count": 9,
   "metadata": {},
   "outputs": [
    {
     "name": "stdout",
     "output_type": "stream",
     "text": [
      "[[1]]\n",
      "[1] \"Hello world!\"\n",
      "\n",
      "[[2]]\n",
      "[1] \"Hello world!\"\n",
      "\n"
     ]
    }
   ],
   "source": [
    "print(clusterApply(cl, 1:p,function(dummy)print(\"Hello world!\")))"
   ]
  },
  {
   "cell_type": "code",
   "execution_count": 10,
   "metadata": {},
   "outputs": [
    {
     "name": "stdout",
     "output_type": "stream",
     "text": [
      "[[1]]\n",
      "[1] \"Hello world!\"\n",
      "\n",
      "[[2]]\n",
      "[1] \"Hello world!\"\n",
      "\n",
      "[[3]]\n",
      "[1] \"Hello world!\"\n",
      "\n",
      "[[4]]\n",
      "[1] \"Hello world!\"\n",
      "\n",
      "[[5]]\n",
      "[1] \"Hello world!\"\n",
      "\n"
     ]
    }
   ],
   "source": [
    "print(clusterApply(cl, 1:5,function(dummy)print(\"Hello world!\")))"
   ]
  },
  {
   "cell_type": "markdown",
   "metadata": {},
   "source": [
    "**Obs:** obsérvese que el resultado de `clusterApply` es una lista."
   ]
  },
  {
   "cell_type": "markdown",
   "metadata": {},
   "source": [
    "### 2) Pasar argumentos vía `clusterExport`"
   ]
  },
  {
   "cell_type": "markdown",
   "metadata": {},
   "source": [
    "`clusterExport` nos permite transmitir valores de variables definidas en el *workspace global* de *manager* hacia los *workspaces* de cada *worker* bajo los mismos nombres de variables:"
   ]
  },
  {
   "cell_type": "code",
   "execution_count": 11,
   "metadata": {},
   "outputs": [],
   "source": [
    "s<-\"Hola mundo!\""
   ]
  },
  {
   "cell_type": "code",
   "execution_count": 12,
   "metadata": {},
   "outputs": [],
   "source": [
    "clusterExport(cl,'s')"
   ]
  },
  {
   "cell_type": "code",
   "execution_count": 13,
   "metadata": {},
   "outputs": [
    {
     "name": "stdout",
     "output_type": "stream",
     "text": [
      "[[1]]\n",
      "[1] \"Hola mundo!\"\n",
      "\n",
      "[[2]]\n",
      "[1] \"Hola mundo!\"\n",
      "\n"
     ]
    }
   ],
   "source": [
    "print(clusterApply(cl, 1:p,function(dummy)print(s)))"
   ]
  },
  {
   "cell_type": "markdown",
   "metadata": {},
   "source": [
    "**Comentario:** ¿qué pasa si mi `clusterExport` está dentro de una función?"
   ]
  },
  {
   "cell_type": "code",
   "execution_count": 14,
   "metadata": {},
   "outputs": [],
   "source": [
    "mifun<-function(){\n",
    "    s_local<-\"Hola mundo! usando variable local a mifun\"\n",
    "    clusterExport(cl,\"s_local\")\n",
    "    print(clusterApply(cl, 1:p,function(dummy)print(s_local)))\n",
    "}"
   ]
  },
  {
   "cell_type": "code",
   "execution_count": 15,
   "metadata": {},
   "outputs": [
    {
     "ename": "ERROR",
     "evalue": "Error in get(name, envir = envir): object 's_local' not found\n",
     "output_type": "error",
     "traceback": [
      "Error in get(name, envir = envir): object 's_local' not found\nTraceback:\n",
      "1. mifun()",
      "2. clusterExport(cl, \"s_local\")   # at line 3 of file <text>",
      "3. clusterCall(cl, gets, name, get(name, envir = envir))",
      "4. sendCall(cl[[i]], fun, list(...))",
      "5. postNode(con, \"EXEC\", list(fun = fun, args = args, return = return, \n .     tag = tag))",
      "6. sendData(con, list(type = type, data = value, tag = tag))",
      "7. sendData.SOCKnode(con, list(type = type, data = value, tag = tag))",
      "8. serialize(data, node$con)",
      "9. get(name, envir = envir)"
     ]
    }
   ],
   "source": [
    "mifun()"
   ]
  },
  {
   "cell_type": "markdown",
   "metadata": {},
   "source": [
    "**¿Cómo lo resuelvo?**"
   ]
  },
  {
   "cell_type": "markdown",
   "metadata": {},
   "source": [
    "Con *supperassignment*, ver [liga](https://stat.ethz.ch/pipermail/r-help/2011-April/275905.html) y [liga2](https://stackoverflow.com/questions/2628621/how-do-you-use-scoping-assignment-in-r):"
   ]
  },
  {
   "cell_type": "code",
   "execution_count": 16,
   "metadata": {},
   "outputs": [],
   "source": [
    "mifun2<-function(){\n",
    "    s_global<<-\"Hola mundo! usando superassignment en mifun2\" #<<- superassignment\n",
    "    clusterExport(cl,\"s_global\")\n",
    "    clusterApply(cl, 1:p,function(dummy)print(s_global))\n",
    "}"
   ]
  },
  {
   "cell_type": "code",
   "execution_count": 17,
   "metadata": {},
   "outputs": [
    {
     "name": "stdout",
     "output_type": "stream",
     "text": [
      "[[1]]\n",
      "[1] \"Hola mundo! usando superassignment en mifun2\"\n",
      "\n",
      "[[2]]\n",
      "[1] \"Hola mundo! usando superassignment en mifun2\"\n",
      "\n"
     ]
    }
   ],
   "source": [
    "print(mifun2())"
   ]
  },
  {
   "cell_type": "markdown",
   "metadata": {},
   "source": [
    "O bien con `environment()`:"
   ]
  },
  {
   "cell_type": "code",
   "execution_count": 18,
   "metadata": {},
   "outputs": [],
   "source": [
    "mifun3<-function(s_global2){\n",
    "    clusterExport(cl,\"s_global2\")\n",
    "    clusterApply(cl, 1:p,function(dummy)print(s_global2))\n",
    "}"
   ]
  },
  {
   "cell_type": "code",
   "execution_count": 19,
   "metadata": {},
   "outputs": [
    {
     "ename": "ERROR",
     "evalue": "Error in get(name, envir = envir): object 's_global2' not found\n",
     "output_type": "error",
     "traceback": [
      "Error in get(name, envir = envir): object 's_global2' not found\nTraceback:\n",
      "1. print(mifun3(\"Hola mundo! usando variable local a mifun3\"))",
      "2. mifun3(\"Hola mundo! usando variable local a mifun3\")",
      "3. clusterExport(cl, \"s_global2\")   # at line 2 of file <text>",
      "4. clusterCall(cl, gets, name, get(name, envir = envir))",
      "5. sendCall(cl[[i]], fun, list(...))",
      "6. postNode(con, \"EXEC\", list(fun = fun, args = args, return = return, \n .     tag = tag))",
      "7. sendData(con, list(type = type, data = value, tag = tag))",
      "8. sendData.SOCKnode(con, list(type = type, data = value, tag = tag))",
      "9. serialize(data, node$con)",
      "10. get(name, envir = envir)"
     ]
    }
   ],
   "source": [
    "print(mifun3(\"Hola mundo! usando variable local a mifun3\"))"
   ]
  },
  {
   "cell_type": "code",
   "execution_count": 20,
   "metadata": {},
   "outputs": [],
   "source": [
    "mifun4<-function(s_global2){\n",
    "    clusterExport(cl,\"s_global2\", envir=environment())\n",
    "    clusterApply(cl, 1:p,function(dummy)print(s_global2))\n",
    "}"
   ]
  },
  {
   "cell_type": "code",
   "execution_count": 21,
   "metadata": {},
   "outputs": [
    {
     "name": "stdout",
     "output_type": "stream",
     "text": [
      "[[1]]\n",
      "[1] \"Hola mundo! usando environment()\"\n",
      "\n",
      "[[2]]\n",
      "[1] \"Hola mundo! usando environment()\"\n",
      "\n"
     ]
    }
   ],
   "source": [
    "print(mifun4(\"Hola mundo! usando environment()\"))"
   ]
  },
  {
   "cell_type": "markdown",
   "metadata": {},
   "source": [
    "### 3) Regla compuesta del rectángulo"
   ]
  },
  {
   "cell_type": "code",
   "execution_count": 20,
   "metadata": {},
   "outputs": [],
   "source": [
    "library(microbenchmark)\n",
    "library(tictoc)"
   ]
  },
  {
   "cell_type": "code",
   "execution_count": 21,
   "metadata": {},
   "outputs": [],
   "source": [
    "f<-function(x)exp(-x**2)"
   ]
  },
  {
   "cell_type": "code",
   "execution_count": 22,
   "metadata": {},
   "outputs": [],
   "source": [
    "a<-0\n",
    "b<-1\n",
    "n<-10**6\n",
    "h_hat<-(b-a)/n"
   ]
  },
  {
   "cell_type": "markdown",
   "metadata": {},
   "source": [
    "**Forma secuencial**"
   ]
  },
  {
   "cell_type": "code",
   "execution_count": 23,
   "metadata": {},
   "outputs": [],
   "source": [
    "Rcf1<-function(f,a,b,n){\n",
    "    #Compute numerical approximation using rectangle or mid-point method in \n",
    "    #an interval.\n",
    "    #Nodes are generated via formula: x_i = a+(i+1/2)h_hat for i=0,1,...,n-1 and h_hat=(b-a)/n\n",
    "    #Args:\n",
    "    #    f (function): function of integrand\n",
    "    #    a (int): left point of interval\n",
    "    #    b (int): right point of interval\n",
    "    #    n (int): number of subintervals\n",
    "    #Returns:\n",
    "    #    Rcf (float)\n",
    "    h_hat<-(b-a)/n\n",
    "    sum_res<-0\n",
    "    for(j in 0:(n-1)){\n",
    "        x<-a+(j+1/2.0)*h_hat\n",
    "        sum_res<-sum_res+f(x)\n",
    "    }\n",
    "    h_hat*sum_res\n",
    "}"
   ]
  },
  {
   "cell_type": "code",
   "execution_count": 24,
   "metadata": {},
   "outputs": [
    {
     "data": {
      "text/plain": [
       "   user  system elapsed \n",
       "  0.590   0.010   0.602 "
      ]
     },
     "metadata": {},
     "output_type": "display_data"
    }
   ],
   "source": [
    "system.time(aprox<-Rcf1(f,a,b,n))"
   ]
  },
  {
   "cell_type": "code",
   "execution_count": 25,
   "metadata": {},
   "outputs": [],
   "source": [
    "err_relativo<-function(aprox,obj)abs(aprox-obj)/abs(obj)"
   ]
  },
  {
   "cell_type": "code",
   "execution_count": 26,
   "metadata": {},
   "outputs": [],
   "source": [
    "obj<-integrate(Vectorize(f),a,b) #en la documentación de integrate\n",
    "                                 #se menciona que se utilice Vectorize"
   ]
  },
  {
   "cell_type": "code",
   "execution_count": 27,
   "metadata": {},
   "outputs": [
    {
     "data": {
      "text/html": [
       "6.71939731300312e-14"
      ],
      "text/latex": [
       "6.71939731300312e-14"
      ],
      "text/markdown": [
       "6.71939731300312e-14"
      ],
      "text/plain": [
       "[1] 6.719397e-14"
      ]
     },
     "metadata": {},
     "output_type": "display_data"
    }
   ],
   "source": [
    "err_relativo(aprox,obj$value)"
   ]
  },
  {
   "cell_type": "code",
   "execution_count": 28,
   "metadata": {},
   "outputs": [],
   "source": [
    "Rcf2<-function(f,a,b,n){\n",
    "    #Compute numerical approximation using rectangle or mid-point method in \n",
    "    #an interval.\n",
    "    #Nodes are generated via formula: x_i = a+(i+1/2)h_hat for i=0,1,...,n-1 and h_hat=(b-a)/n\n",
    "    #Args:\n",
    "    #    f (function): function of integrand\n",
    "    #    a (int): left point of interval\n",
    "    #    b (int): right point of interval\n",
    "    #    n (int): number of subintervals\n",
    "    #Returns:\n",
    "    #    Rcf (float)\n",
    "    h_hat<-(b-a)/n\n",
    "    sum_res<-0\n",
    "    x<-vapply(0:(n-1),function(j)a+(j+1/2.0)*h_hat,numeric(1))\n",
    "    for(j in 1:n){\n",
    "        sum_res<-sum_res+f(x[j])\n",
    "    }\n",
    "    h_hat*sum_res\n",
    "}"
   ]
  },
  {
   "cell_type": "code",
   "execution_count": 29,
   "metadata": {},
   "outputs": [
    {
     "data": {
      "text/plain": [
       "   user  system elapsed \n",
       "  1.190   0.000   1.191 "
      ]
     },
     "metadata": {},
     "output_type": "display_data"
    }
   ],
   "source": [
    "system.time(aprox<-Rcf2(f,a,b,n))"
   ]
  },
  {
   "cell_type": "code",
   "execution_count": 30,
   "metadata": {},
   "outputs": [
    {
     "data": {
      "text/html": [
       "6.71939731300312e-14"
      ],
      "text/latex": [
       "6.71939731300312e-14"
      ],
      "text/markdown": [
       "6.71939731300312e-14"
      ],
      "text/plain": [
       "[1] 6.719397e-14"
      ]
     },
     "metadata": {},
     "output_type": "display_data"
    }
   ],
   "source": [
    "err_relativo(aprox,obj$value)"
   ]
  },
  {
   "cell_type": "markdown",
   "metadata": {},
   "source": [
    "Una implementación que utiliza la función `sum` de `R` es la siguiente:"
   ]
  },
  {
   "cell_type": "code",
   "execution_count": 31,
   "metadata": {},
   "outputs": [],
   "source": [
    "Rcf3<-function(f,a,b,n){\n",
    "    #Compute numerical approximation using rectangle or mid-point method in \n",
    "    #an interval.\n",
    "    #Nodes are generated via formula: x_i = a+(i+1/2)h_hat for i=0,1,...,n-1 and h_hat=(b-a)/n\n",
    "    #Args:\n",
    "    #    f (function): function of integrand\n",
    "    #    a (int): left point of interval\n",
    "    #    b (int): right point of interval\n",
    "    #    n (int): number of subintervals\n",
    "    #Returns:\n",
    "    #    Rcf (float)\n",
    "    h_hat<-(b-a)/n\n",
    "    x<-vapply(0:(n-1),function(j)a+(j+1/2.0)*h_hat,numeric(1))\n",
    "    h_hat*sum(f(x))\n",
    "}"
   ]
  },
  {
   "cell_type": "code",
   "execution_count": 32,
   "metadata": {},
   "outputs": [
    {
     "data": {
      "text/plain": [
       "   user  system elapsed \n",
       "  0.840   0.000   0.842 "
      ]
     },
     "metadata": {},
     "output_type": "display_data"
    }
   ],
   "source": [
    "system.time(aprox<-Rcf3(f,a,b,n))"
   ]
  },
  {
   "cell_type": "code",
   "execution_count": 33,
   "metadata": {},
   "outputs": [
    {
     "data": {
      "text/html": [
       "4.10299481944438e-14"
      ],
      "text/latex": [
       "4.10299481944438e-14"
      ],
      "text/markdown": [
       "4.10299481944438e-14"
      ],
      "text/plain": [
       "[1] 4.102995e-14"
      ]
     },
     "metadata": {},
     "output_type": "display_data"
    }
   ],
   "source": [
    "err_relativo(aprox,obj$value)"
   ]
  },
  {
   "cell_type": "code",
   "execution_count": 34,
   "metadata": {},
   "outputs": [],
   "source": [
    "library(tictoc)"
   ]
  },
  {
   "cell_type": "code",
   "execution_count": 35,
   "metadata": {},
   "outputs": [
    {
     "data": {
      "text/html": [
       "0.746824132812477"
      ],
      "text/latex": [
       "0.746824132812477"
      ],
      "text/markdown": [
       "0.746824132812477"
      ],
      "text/plain": [
       "[1] 0.7468241"
      ]
     },
     "metadata": {},
     "output_type": "display_data"
    },
    {
     "name": "stdout",
     "output_type": "stream",
     "text": [
      "medición de tiempo de regla de trapecio secuencial con tictoc: 0.617 sec elapsed\n"
     ]
    }
   ],
   "source": [
    "tic(\"medición de tiempo de regla de trapecio secuencial con tictoc\")\n",
    "tic()\n",
    "Rcf1(f,a,b,n)\n",
    "toc()"
   ]
  },
  {
   "cell_type": "code",
   "execution_count": 36,
   "metadata": {},
   "outputs": [],
   "source": [
    "mbk<-microbenchmark(\n",
    "    Rcf1(f,a,b,n),\n",
    "    Rcf2(f,a,b,n),\n",
    "    Rcf3(f,a,b,n),\n",
    "    times=10\n",
    "    )"
   ]
  },
  {
   "cell_type": "code",
   "execution_count": 37,
   "metadata": {},
   "outputs": [
    {
     "name": "stdout",
     "output_type": "stream",
     "text": [
      "Unit: milliseconds\n",
      "             expr       min        lq      mean   median        uq       max\n",
      " Rcf1(f, a, b, n)  611.3346  614.5638  623.7536  616.686  621.0795  683.0771\n",
      " Rcf2(f, a, b, n) 1142.4681 1167.3860 1193.0945 1197.500 1216.6680 1230.3947\n",
      " Rcf3(f, a, b, n)  630.4004  632.7926  644.0145  636.963  641.5496  712.1974\n",
      " neval\n",
      "    10\n",
      "    10\n",
      "    10\n"
     ]
    }
   ],
   "source": [
    "print(mbk)"
   ]
  },
  {
   "cell_type": "markdown",
   "metadata": {},
   "source": [
    "**Forma en paralelo**"
   ]
  },
  {
   "cell_type": "markdown",
   "metadata": {},
   "source": [
    "Tomemos la implementación secuencial más rápida: `Rcf1` para paralelizarla:"
   ]
  },
  {
   "cell_type": "code",
   "execution_count": 38,
   "metadata": {},
   "outputs": [],
   "source": [
    "ns_p<-as.integer(n/p)#número de subintervalos por proceso\n",
    "                     #se asume que n es divisible por p\n",
    "                     #si no se cumple esto, se puede definir \n",
    "                     #ns_p=as.integer(n/p) habiendo definido n primero\n",
    "                     #y redefinir n como: \n",
    "                     #n=p*ns_p"
   ]
  },
  {
   "cell_type": "code",
   "execution_count": 39,
   "metadata": {},
   "outputs": [
    {
     "data": {
      "text/html": [
       "'número de subintervalos: 1000000'"
      ],
      "text/latex": [
       "'número de subintervalos: 1000000'"
      ],
      "text/markdown": [
       "'número de subintervalos: 1000000'"
      ],
      "text/plain": [
       "[1] \"número de subintervalos: 1000000\""
      ]
     },
     "metadata": {},
     "output_type": "display_data"
    }
   ],
   "source": [
    "sprintf(\"número de subintervalos: %d\",n)"
   ]
  },
  {
   "cell_type": "code",
   "execution_count": 40,
   "metadata": {},
   "outputs": [
    {
     "data": {
      "text/html": [
       "'número de subintervalos por proceso: 125000'"
      ],
      "text/latex": [
       "'número de subintervalos por proceso: 125000'"
      ],
      "text/markdown": [
       "'número de subintervalos por proceso: 125000'"
      ],
      "text/plain": [
       "[1] \"número de subintervalos por proceso: 125000\""
      ]
     },
     "metadata": {},
     "output_type": "display_data"
    }
   ],
   "source": [
    "sprintf(\"número de subintervalos por proceso: %d\",ns_p)"
   ]
  },
  {
   "cell_type": "code",
   "execution_count": 41,
   "metadata": {},
   "outputs": [],
   "source": [
    "Rcf_parallel<-function(mi_id){\n",
    "    begin<-mi_id*ns_p\n",
    "    end<-begin+ns_p\n",
    "    suma_res<-0\n",
    "    for(j in begin:(end-1)){\n",
    "        x<-a+(j+1/2.0)*h_hat\n",
    "        suma_res<-suma_res+f(x)\n",
    "    }\n",
    "    suma_res    \n",
    "}"
   ]
  },
  {
   "cell_type": "code",
   "execution_count": 42,
   "metadata": {},
   "outputs": [],
   "source": [
    "clusterExport(cl,c('ns_p','a','f','h_hat'))"
   ]
  },
  {
   "cell_type": "markdown",
   "metadata": {},
   "source": [
    "Utilizamos la función `Reduce` y la función `sum` a la lista que resulta de `clusterApply`: "
   ]
  },
  {
   "cell_type": "code",
   "execution_count": 43,
   "metadata": {},
   "outputs": [
    {
     "name": "stdout",
     "output_type": "stream",
     "text": [
      "regla Rcf_parallel: 0.275 sec elapsed\n"
     ]
    }
   ],
   "source": [
    "tic(\"regla Rcf_parallel\")\n",
    "result<-clusterApply(cl,0:(p-1),Rcf_parallel)\n",
    "aprox<-h_hat*Reduce(sum,result)\n",
    "toc()"
   ]
  },
  {
   "cell_type": "code",
   "execution_count": 44,
   "metadata": {},
   "outputs": [
    {
     "data": {
      "text/html": [
       "3.25563719368956e-14"
      ],
      "text/latex": [
       "3.25563719368956e-14"
      ],
      "text/markdown": [
       "3.25563719368956e-14"
      ],
      "text/plain": [
       "[1] 3.255637e-14"
      ]
     },
     "metadata": {},
     "output_type": "display_data"
    }
   ],
   "source": [
    "err_relativo(aprox,obj$value)"
   ]
  },
  {
   "cell_type": "markdown",
   "metadata": {},
   "source": [
    "La encapsulamos en una función para pasarla a `microbenchmark`:"
   ]
  },
  {
   "cell_type": "code",
   "execution_count": 45,
   "metadata": {},
   "outputs": [],
   "source": [
    "clapply<-function(cl,p){\n",
    "    result<-clusterApply(cl,0:(p-1),Rcf_parallel)\n",
    "    aprox<-h_hat*Reduce(sum,result)\n",
    "}"
   ]
  },
  {
   "cell_type": "code",
   "execution_count": 46,
   "metadata": {},
   "outputs": [],
   "source": [
    "mbk<-microbenchmark(\n",
    "    Rcf1(f,a,b,n),\n",
    "    clapply(cl,p),\n",
    "    times=10\n",
    "    )"
   ]
  },
  {
   "cell_type": "code",
   "execution_count": 47,
   "metadata": {},
   "outputs": [
    {
     "name": "stdout",
     "output_type": "stream",
     "text": [
      "Unit: milliseconds\n",
      "             expr      min       lq     mean   median       uq      max neval\n",
      " Rcf1(f, a, b, n) 598.0952 615.7644 624.6313 619.1478 622.1897 693.5719    10\n",
      "   clapply(cl, p) 173.7296 174.2377 182.0058 174.7978 180.7018 224.5982    10\n"
     ]
    }
   ],
   "source": [
    "print(mbk)"
   ]
  },
  {
   "cell_type": "markdown",
   "metadata": {},
   "source": [
    "### 4) Rcf utilizando `clusterSplit`"
   ]
  },
  {
   "cell_type": "markdown",
   "metadata": {},
   "source": [
    "La función `clusterSplit` divide una secuencia en *chunks* de subsecuencias consecutivas. El número de *chunks* que regresa es igual al número de *workers*. `clusterSplit` intenta que los *chunks* sean similares en longitud y la división se realiza en *manager*."
   ]
  },
  {
   "cell_type": "markdown",
   "metadata": {},
   "source": [
    "En la siguiente implementación se recibe un `chunk` de nodos:"
   ]
  },
  {
   "cell_type": "code",
   "execution_count": 48,
   "metadata": {},
   "outputs": [],
   "source": [
    "Rcf_parallel2<-function(chunk){\n",
    "    #Únicamente se acumula el valor de f en el nodo:\n",
    "    suma_res<-0\n",
    "    for(x in chunk){\n",
    "        suma_res<-suma_res+f(x)\n",
    "    }\n",
    "    suma_res    \n",
    "}"
   ]
  },
  {
   "cell_type": "code",
   "execution_count": 49,
   "metadata": {},
   "outputs": [
    {
     "name": "stdout",
     "output_type": "stream",
     "text": [
      "0.919 sec elapsed\n"
     ]
    }
   ],
   "source": [
    "tic()\n",
    "#se crean los chunks del conjunto de nodos:\n",
    "chunks<-clusterSplit(cl,vapply(0:(n-1),function(j)a+(j+1/2.0)*h_hat,numeric(1))) \n",
    "result<-clusterApply(cl,chunks,Rcf_parallel2)\n",
    "aprox<-h_hat*Reduce(sum,result)\n",
    "toc()"
   ]
  },
  {
   "cell_type": "code",
   "execution_count": 50,
   "metadata": {},
   "outputs": [
    {
     "data": {
      "text/html": [
       "3.35969865650156e-14"
      ],
      "text/latex": [
       "3.35969865650156e-14"
      ],
      "text/markdown": [
       "3.35969865650156e-14"
      ],
      "text/plain": [
       "[1] 3.359699e-14"
      ]
     },
     "metadata": {},
     "output_type": "display_data"
    }
   ],
   "source": [
    "err_relativo(aprox,obj$value)"
   ]
  },
  {
   "cell_type": "markdown",
   "metadata": {},
   "source": [
    "En la siguiente implementación, se divide en chunks la secuencia: `0,1,...,n-1`:"
   ]
  },
  {
   "cell_type": "code",
   "execution_count": 51,
   "metadata": {},
   "outputs": [],
   "source": [
    "Rcf_parallel3<-function(chunk){\n",
    "    ns_p<-length(chunk)\n",
    "    begin<-chunk[1]\n",
    "    end<-begin+ns_p\n",
    "    suma_res<-0\n",
    "    for(j in begin:(end-1)){\n",
    "        x<-a+(j+1/2.0)*h_hat\n",
    "        suma_res<-suma_res+f(x)\n",
    "    }\n",
    "    suma_res    \n",
    "}"
   ]
  },
  {
   "cell_type": "code",
   "execution_count": 52,
   "metadata": {},
   "outputs": [
    {
     "name": "stdout",
     "output_type": "stream",
     "text": [
      "0.261 sec elapsed\n"
     ]
    }
   ],
   "source": [
    "tic()\n",
    "#se crean los chunks de la secuencia: 0,1,...,n-1\n",
    "chunks<-clusterSplit(cl,0:(n-1)) \n",
    "result<-clusterApply(cl,chunks,Rcf_parallel3)\n",
    "aprox<-h_hat*Reduce(sum,result)\n",
    "toc()"
   ]
  },
  {
   "cell_type": "code",
   "execution_count": 53,
   "metadata": {},
   "outputs": [
    {
     "data": {
      "text/html": [
       "3.35969865650156e-14"
      ],
      "text/latex": [
       "3.35969865650156e-14"
      ],
      "text/markdown": [
       "3.35969865650156e-14"
      ],
      "text/plain": [
       "[1] 3.359699e-14"
      ]
     },
     "metadata": {},
     "output_type": "display_data"
    }
   ],
   "source": [
    "err_relativo(aprox,obj$value)"
   ]
  },
  {
   "cell_type": "markdown",
   "metadata": {},
   "source": [
    "Medimos tiempos con `microbenchmark`:"
   ]
  },
  {
   "cell_type": "code",
   "execution_count": 54,
   "metadata": {},
   "outputs": [],
   "source": [
    "clapply2<-function(cl){\n",
    "    chunks<-clusterSplit(cl,vapply(0:(n-1),function(j)a+(j+1/2.0)*h_hat,numeric(1))) \n",
    "    result<-clusterApply(cl,chunks,Rcf_parallel2)\n",
    "    aprox<-h_hat*Reduce(sum,result)\n",
    "}"
   ]
  },
  {
   "cell_type": "code",
   "execution_count": 55,
   "metadata": {},
   "outputs": [],
   "source": [
    "clapply3<-function(cl){\n",
    "    chunks<-clusterSplit(cl,0:(n-1))\n",
    "    result<-clusterApply(cl,chunks,Rcf_parallel3)\n",
    "    aprox<-h_hat*Reduce(sum,result)\n",
    "}"
   ]
  },
  {
   "cell_type": "code",
   "execution_count": 56,
   "metadata": {},
   "outputs": [],
   "source": [
    "mbk<-microbenchmark(\n",
    "    Rcf1(f,a,b,n),\n",
    "    clapply(cl,p),\n",
    "    clapply2(cl),\n",
    "    clapply3(cl),\n",
    "    times=10\n",
    "    )"
   ]
  },
  {
   "cell_type": "code",
   "execution_count": 57,
   "metadata": {},
   "outputs": [
    {
     "name": "stdout",
     "output_type": "stream",
     "text": [
      "Unit: milliseconds\n",
      "             expr      min       lq     mean   median       uq       max neval\n",
      " Rcf1(f, a, b, n) 594.8892 610.0890 619.8617 614.1308 625.8948  674.3433    10\n",
      "   clapply(cl, p) 171.9395 173.7119 176.9586 174.7444 176.5444  198.2448    10\n",
      "     clapply2(cl) 908.2237 913.5611 950.3876 931.8672 935.4245 1106.1972    10\n",
      "     clapply3(cl) 247.4217 256.5972 269.7200 266.2207 287.8739  297.8516    10\n"
     ]
    }
   ],
   "source": [
    "print(mbk)"
   ]
  },
  {
   "cell_type": "markdown",
   "metadata": {},
   "source": [
    "## Gráfica de tiempo de ejecución vs número de procesos"
   ]
  },
  {
   "cell_type": "code",
   "execution_count": 58,
   "metadata": {},
   "outputs": [],
   "source": [
    "library(ggplot2)"
   ]
  },
  {
   "cell_type": "markdown",
   "metadata": {},
   "source": [
    "**Nota: los siguientes resultados se obtuvieron con una máquina con 8 cores, así que pueden no coincidir con los resultados previos de esta sección.**"
   ]
  },
  {
   "cell_type": "markdown",
   "metadata": {},
   "source": [
    "**Una buena práctica es detener el clúster, observar que en la documentación se menciona:** It is good practice to shut down the workers by calling stopCluster: however the workers will terminate themselves once the socket on which they are listening for commands becomes unavailable, which it should if the master R session is completed (or its process dies)."
   ]
  },
  {
   "cell_type": "code",
   "execution_count": 59,
   "metadata": {},
   "outputs": [],
   "source": [
    "stopCluster(cl)"
   ]
  },
  {
   "cell_type": "markdown",
   "metadata": {},
   "source": [
    "En lo siguiente se utiliza `Rcf_parallel` pues tuvo el menor tiempo de ejecución. Usaremos ésta implementación para realizar la gráfica variando el número de procesos de $1$ hasta `detectCores()`."
   ]
  },
  {
   "cell_type": "code",
   "execution_count": 60,
   "metadata": {},
   "outputs": [],
   "source": [
    "Rcf_parallel<-function(mi_id){\n",
    "    begin<-mi_id*ns_p\n",
    "    end<-begin+ns_p\n",
    "    suma_res<-0\n",
    "    for(j in begin:(end-1)){\n",
    "        x<-a+(j+1/2.0)*h_hat\n",
    "        suma_res<-suma_res+f(x)\n",
    "    }\n",
    "    suma_res    \n",
    "}"
   ]
  },
  {
   "cell_type": "code",
   "execution_count": 61,
   "metadata": {},
   "outputs": [],
   "source": [
    "n<-10**6 #cambiar n si se desea\n",
    "h_hat<-(b-a)/n"
   ]
  },
  {
   "cell_type": "code",
   "execution_count": 62,
   "metadata": {},
   "outputs": [],
   "source": [
    "mifun<-function(cl,p,ns_p){\n",
    "    result<-clusterApply(cl,0:(p-1),Rcf_parallel)\n",
    "    aprox<-h_hat*Reduce(sum,result)\n",
    "    err_relativo(aprox,obj$value)\n",
    "}"
   ]
  },
  {
   "cell_type": "code",
   "execution_count": 63,
   "metadata": {},
   "outputs": [],
   "source": [
    "dim<-sum(n%%(1:detectCores())==0)"
   ]
  },
  {
   "cell_type": "code",
   "execution_count": 64,
   "metadata": {},
   "outputs": [],
   "source": [
    "err_np<-vector(\"double\", dim)\n",
    "n_cpus<-vector(\"integer\",dim)"
   ]
  },
  {
   "cell_type": "code",
   "execution_count": 65,
   "metadata": {},
   "outputs": [],
   "source": [
    "i<-1\n",
    "for(p in 1:detectCores()){\n",
    "    if(n%%p==0){\n",
    "        ns_p<-n/p\n",
    "        cl<-makeCluster(p)\n",
    "        clusterExport(cl,c('a','f','h_hat','ns_p'))\n",
    "        err_np[i]<-mifun(cl,p,ns_p)\n",
    "        n_cpus[i]<-p\n",
    "        stopCluster(cl)\n",
    "        i<-i+1\n",
    "    }\n",
    "}"
   ]
  },
  {
   "cell_type": "code",
   "execution_count": 66,
   "metadata": {},
   "outputs": [
    {
     "name": "stdout",
     "output_type": "stream",
     "text": [
      "[1] 6.719397e-14 5.842308e-14 4.816559e-14 5.024682e-14 3.255637e-14\n"
     ]
    }
   ],
   "source": [
    "print(err_np)"
   ]
  },
  {
   "cell_type": "code",
   "execution_count": 67,
   "metadata": {},
   "outputs": [
    {
     "name": "stdout",
     "output_type": "stream",
     "text": [
      "[1] 1 2 4 5 8\n"
     ]
    }
   ],
   "source": [
    "print(n_cpus)"
   ]
  },
  {
   "cell_type": "code",
   "execution_count": 68,
   "metadata": {},
   "outputs": [],
   "source": [
    "v<-vector(\"double\", dim)\n",
    "n_cpus<-vector(\"integer\",dim)"
   ]
  },
  {
   "cell_type": "code",
   "execution_count": 69,
   "metadata": {},
   "outputs": [
    {
     "name": "stdout",
     "output_type": "stream",
     "text": [
      "Unit: seconds\n",
      "               expr       min        lq     mean    median        uq      max\n",
      " mifun(cl, p, ns_p) 0.6914707 0.6963938 0.721669 0.7110445 0.7280059 0.783008\n",
      " neval\n",
      "    10\n",
      "Unit: seconds\n",
      "               expr      min        lq      mean    median        uq      max\n",
      " mifun(cl, p, ns_p) 0.358746 0.3624429 0.3711393 0.3640568 0.3661319 0.427689\n",
      " neval\n",
      "    10\n",
      "Unit: seconds\n",
      "               expr       min        lq      mean    median        uq       max\n",
      " mifun(cl, p, ns_p) 0.1953516 0.1970122 0.2140039 0.2002072 0.2221021 0.2637789\n",
      " neval\n",
      "    10\n",
      "Unit: seconds\n",
      "               expr       min        lq      mean    median        uq      max\n",
      " mifun(cl, p, ns_p) 0.1955969 0.1980711 0.2127985 0.2003324 0.2091672 0.270982\n",
      " neval\n",
      "    10\n",
      "Unit: seconds\n",
      "               expr       min        lq      mean    median        uq       max\n",
      " mifun(cl, p, ns_p) 0.1727074 0.1765104 0.1926165 0.1788327 0.1941469 0.2668926\n",
      " neval\n",
      "    10\n"
     ]
    }
   ],
   "source": [
    "i<-1\n",
    "for(p in 1:detectCores()){\n",
    "    if(n%%p==0){\n",
    "        ns_p<-n/p\n",
    "        cl<-makeCluster(p)\n",
    "        clusterExport(cl,c('a','f','h_hat','ns_p'))\n",
    "        df<-print(microbenchmark(mifun(cl,p,ns_p),times=10,unit=\"s\"))\n",
    "        stopCluster(cl)\n",
    "        v[i]<-df$median\n",
    "        n_cpus[i]<-p\n",
    "        i<-i+1\n",
    "    }\n",
    "}"
   ]
  },
  {
   "cell_type": "code",
   "execution_count": 70,
   "metadata": {},
   "outputs": [
    {
     "name": "stdout",
     "output_type": "stream",
     "text": [
      "[1] 0.7110445 0.3640568 0.2002072 0.2003324 0.1788327\n"
     ]
    }
   ],
   "source": [
    "print(v)"
   ]
  },
  {
   "cell_type": "code",
   "execution_count": 71,
   "metadata": {},
   "outputs": [
    {
     "name": "stdout",
     "output_type": "stream",
     "text": [
      "[1] 1 2 4 5 8\n"
     ]
    }
   ],
   "source": [
    "print(n_cpus)"
   ]
  },
  {
   "cell_type": "code",
   "execution_count": 72,
   "metadata": {},
   "outputs": [],
   "source": [
    "gg<-ggplot()"
   ]
  },
  {
   "cell_type": "code",
   "execution_count": 73,
   "metadata": {},
   "outputs": [
    {
     "data": {
      "image/png": "[encoded data removed]",
      "text/plain": [
       "plot without title"
      ]
     },
     "metadata": {
      "image/png": {
       "height": 420,
       "width": 420
      }
     },
     "output_type": "display_data"
    }
   ],
   "source": [
    "gg+\n",
    "geom_line(aes(x=n_cpus,y=v))"
   ]
  },
  {
   "cell_type": "markdown",
   "metadata": {},
   "source": [
    "**Ejercicio:** elegir regla de Simpson o integración por el método de Monte Carlo para generar la gráfica anterior. No olviden medir errores relativos. Tales reglas están en [1.5.Integracion_numerica](https://github.com/ITAM-DS/analisis-numerico-computo-cientifico/blob/master/temas/I.computo_cientifico/1.5.Integracion_numerica.ipynb), \n",
    "\n",
    "Si eligieron regla de Simpson: \n",
    "\n",
    "* Medir tiempo de las $3$ versiones, por ejemplo, para el caso del rectángulo se tienen Rcf, Rcf_parallel, Rcf_parallel2, Rcf_parallel3.\n",
    "\n",
    "* Elegir la mejor versión en medición del tiempo de ejecución y variar el número de procesadores. Aquí se miden errores relativos y se hace la gráfica de número de cpus vs tiempo.\n"
   ]
  },
  {
   "cell_type": "markdown",
   "metadata": {},
   "source": [
    "**Referencias:**\n",
    "\n",
    "1. N. Matloff, Parallel Computing for Data Science. With Examples in R, C++ and CUDA, 2014.\n",
    "\n",
    "2. [2.1.Un_poco_de_historia_y_generalidades](https://github.com/ITAM-DS/analisis-numerico-computo-cientifico/blob/master/temas/II.computo_paralelo/2.1.Un_poco_de_historia_y_generalidades.ipynb)\n",
    "\n",
    "3. [2.2.Sistemas_de_memoria_compartida.ipynb](https://github.com/ITAM-DS/analisis-numerico-computo-cientifico/blob/master/temas/II.computo_paralelo/2.2.Sistemas_de_memoria_compartida.ipynb)\n",
    "\n",
    "Otras referencias:\n",
    "\n",
    "* [snow Simplified](http://www.sfu.ca/~sblay/R/snow.html)\n",
    "\n",
    "* [Using foreach and iterators for manual parallel execution](https://docs.microsoft.com/en-us/machine-learning-server/r/how-to-revoscaler-distributed-computing-foreach)\n",
    "\n",
    "Otro paquete a revisar:\n",
    "\n",
    "* [future](https://www.rdocumentation.org/packages/future/versions/1.16.0)"
   ]
  }
 ],
 "metadata": {
  "kernelspec": {
   "display_name": "R",
   "language": "R",
   "name": "ir"
  },
  "language_info": {
   "codemirror_mode": "r",
   "file_extension": ".r",
   "mimetype": "text/x-r-source",
   "name": "R",
   "pygments_lexer": "r",
   "version": "3.6.2"
  }
 },
 "nbformat": 4,
 "nbformat_minor": 4
}
