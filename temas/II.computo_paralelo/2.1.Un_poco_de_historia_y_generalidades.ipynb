{
 "cells": [
  {
   "cell_type": "markdown",
   "metadata": {},
   "source": [
    "Nota generada a partir de [liga](https://www.dropbox.com/s/z465znq3wwao9ad/2.1.Un_poco_de_historia_y_generalidades.pdf?dl=0)"
   ]
  },
  {
   "cell_type": "markdown",
   "metadata": {},
   "source": [
    "**Notas para contenedor de docker:**"
   ]
  },
  {
   "cell_type": "markdown",
   "metadata": {},
   "source": [
    "Comando de docker para ejecución de la nota de forma local:\n",
    "\n",
    "nota: cambiar `<ruta a mi directorio>` por la ruta de directorio que se desea mapear a `/datos` dentro del contenedor de docker.\n",
    "\n",
    "```\n",
    "docker run --rm -v <ruta a mi directorio>:/datos --name jupyterlab_local -p 8888:8888 -d palmoreck/jupyterlab:1.1.0\n",
    "```\n",
    "\n",
    "Detener el contenedor de docker:\n",
    "\n",
    "```\n",
    "docker stop jupyterlab_local\n",
    "```\n"
   ]
  },
  {
   "cell_type": "markdown",
   "metadata": {},
   "source": [
    "Documentación de la imagen de docker `palmoreck/jupyterlab:1.1.0` en [liga](https://github.com/palmoreck/dockerfiles/tree/master/jupyterlab)."
   ]
  },
  {
   "cell_type": "markdown",
   "metadata": {},
   "source": [
    "---"
   ]
  },
  {
   "cell_type": "markdown",
   "metadata": {},
   "source": [
    "# Un poco de historia y generalidades"
   ]
  },
  {
   "cell_type": "markdown",
   "metadata": {},
   "source": []
  },
  {
   "cell_type": "markdown",
   "metadata": {},
   "source": [
    "**Preguntas de comprehensión**"
   ]
  },
  {
   "cell_type": "markdown",
   "metadata": {},
   "source": [
    "1) ¿Qué factores han influido en que desde el 2002-2003 a la fecha, el performance de los procesadores se esté incrementando en un 20% por año vs el 50% de incremento por año que se tenía entre 1986 y 2002?\n",
    "\n",
    "2) Menciona los componentes y realiza un esquema de una arquitectura von Neumann y descríbelas.\n",
    "\n",
    "3) Menciona algunas de las tareas de un sistema operativo.\n",
    "\n",
    "4) ¿Qué es un proceso y de qué consta?\n",
    "\n",
    "5) ¿Qué es un thread?\n",
    "\n",
    "6) ¿Qué es el threading? ¿qué ventajas nos da para la programación en un sistema de memoria compartida?\n",
    "\n",
    "7) ¿Qué es el caché?\n",
    "\n",
    "8) Nosotros como programadores o programadoras, ¿cómo podemos obtener ventajas del cache?\n",
    "\n",
    "9) ¿Qué es un cache hit? ¿un cache miss?\n",
    "\n",
    "10) De acuerdo a la taxonomía de Flynn, ¿qué tipos de arquitecturas existen? Menciona sus características, ventajas /desventajas y ejemplos.\n",
    "\n",
    "11) Menciona algunas características y ejemplos de:\n",
    "\n",
    "    a. sistemas de memoria distribuida.\n",
    "    b. sistemas de memoria compartida.\n",
    "\n",
    "12) ¿Qué significan los términos concurrencia, paralelo, distribuido?\n",
    "\n",
    "13) ¿Cuáles son los enfoques que se utilizan para escribir programas en paralelo?\n",
    "\n",
    "14) Define a cuál enfoque corresponde (de acuerdo a la pregunta 13) cada uno de los siguientes incisos:\n",
    "\n",
    "    a) Supón que tienes 2 cores y un arreglo de tamaño 100\n",
    "    \n",
    "        if(rango_core módulo 2 == 0 )\n",
    "            operar en los elementos 50 a 99\n",
    "        else\n",
    "            operar en los elementos 0 a 49\n",
    "            \n",
    "    Donde módulo es una operación que nos devuelve el residuo al dividir un número entre otro.\n",
    "    \n",
    "    b) Tenemos tres trabajadores: Aurora, Pedro, Daniel\n",
    "        \n",
    "        if(mi_nombre es Pedro)\n",
    "            lavo el baño\n",
    "        else\n",
    "            voy de compras\n",
    "            \n",
    "15) En el cómputo en paralelo debemos realizar coordinación entre procesos o threads y considerar el load balancing. Menciona tipos de coordinación que existen y ¿a qué se refiere el load balancing?\n",
    "\n",
    "16) ¿Cuáles son los pasos a seguir, que de acuerdo a Ian Foster, un@ puede seguir para el diseño de programas en paralelo?\n"
   ]
  },
  {
   "cell_type": "markdown",
   "metadata": {},
   "source": [
    "**Referencias:**\n",
    "\n",
    "1. P. Pacheco, An Introduction to Parallel Programming, Morgan Kaufmann, 2011.\n"
   ]
  }
 ],
 "metadata": {
  "kernelspec": {
   "display_name": "Python 3",
   "language": "python",
   "name": "python3"
  },
  "language_info": {
   "codemirror_mode": {
    "name": "ipython",
    "version": 3
   },
   "file_extension": ".py",
   "mimetype": "text/x-python",
   "name": "python",
   "nbconvert_exporter": "python",
   "pygments_lexer": "ipython3",
   "version": "3.6.8"
  }
 },
 "nbformat": 4,
 "nbformat_minor": 4
}
