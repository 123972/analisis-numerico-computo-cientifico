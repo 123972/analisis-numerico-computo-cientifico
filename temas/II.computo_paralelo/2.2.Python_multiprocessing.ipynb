{
 "cells": [
  {
   "cell_type": "markdown",
   "metadata": {},
   "source": [
    "**Notas para contenedor de docker:**"
   ]
  },
  {
   "cell_type": "markdown",
   "metadata": {},
   "source": [
    "Comando de docker para ejecución de la nota de forma local:\n",
    "\n",
    "nota: cambiar `<ruta a mi directorio>` por la ruta de directorio que se desea mapear a `/datos` dentro del contenedor de docker.\n",
    "\n",
    "```\n",
    "docker run --rm -v <ruta a mi directorio>:/datos --name jupyterlab_numerical -p 8888:8888 -p 8786:8786 -p 8787:8787 -d palmoreck/jupyterlab_numerical:1.1.0\n",
    "```\n",
    "\n",
    "password para jupyterlab: `qwerty`\n",
    "\n",
    "Detener el contenedor de docker:\n",
    "\n",
    "```\n",
    "docker stop jupyterlab_numerical\n",
    "```\n"
   ]
  },
  {
   "cell_type": "markdown",
   "metadata": {},
   "source": [
    "Documentación de la imagen de docker `palmoreck/jupyterlab_numerical:1.1.0` en [liga](https://github.com/palmoreck/dockerfiles/tree/master/jupyterlab/numerical)."
   ]
  },
  {
   "cell_type": "markdown",
   "metadata": {},
   "source": [
    "---"
   ]
  },
  {
   "cell_type": "markdown",
   "metadata": {},
   "source": [
    "Esta nota utiliza métodos vistos en [1.5.Integracion_numerica](https://github.com/ITAM-DS/analisis-numerico-computo-cientifico/blob/master/temas/I.computo_cientifico/1.5.Integracion_numerica.ipynb)"
   ]
  },
  {
   "cell_type": "markdown",
   "metadata": {},
   "source": [
    "# El módulo de `multiprocessing`"
   ]
  },
  {
   "cell_type": "markdown",
   "metadata": {},
   "source": [
    "Documentación en: [multiprocessing](https://docs.python.org/3.1/library/multiprocessing.html)."
   ]
  },
  {
   "cell_type": "markdown",
   "metadata": {},
   "source": [
    "La implementación más utilizada de Python, [CPython](https://en.wikipedia.org/wiki/CPython) no utiliza múltiples cores por default. De tarea queda leer la discusión de la liga anterior en el apartado *Design* sobre el [Global INterpreter Lock: GIL](https://en.wikipedia.org/wiki/Global_interpreter_lock) y el por qué CPython no soporta ejecución *multithreaded* o *multiprocesses*."
   ]
  },
  {
   "cell_type": "markdown",
   "metadata": {},
   "source": [
    "El módulo `multiprocessing` nos permite realizar procesamientos basados en procesos o threads para compartir trabajo y datos. Se recomienda usar este módulo para el *shared memory programming* (ver [2.2.Sistemas_de_memoria_compartida](https://github.com/ITAM-DS/analisis-numerico-computo-cientifico/blob/master/temas/II.computo_paralelo/2.2.Sistemas_de_memoria_compartida.ipynb)) y para trabajos que son demandantes de CPU. Para paralelizar trabajos demandantes en I/O no se recomienda su uso."
   ]
  },
  {
   "cell_type": "markdown",
   "metadata": {},
   "source": [
    "**Otro módulo en Python para procesamiento utilizando los cores de tu máquina es [concurrent.features](https://docs.python.org/3/library/concurrent.futures.html) que provee el comportamiento principal de `multiprocessing`**. Ver [liga](https://stackoverflow.com/questions/38311431/concurrent-futures-processpoolexecutor-vs-multiprocessing-pool-pool?noredirect=1&lq=1) y [liga](https://stackoverflow.com/questions/20776189/concurrent-futures-vs-multiprocessing-in-python-3) para más sobre `concurrent.futures` y `concurrent.futures` vs `multiprocessing`."
   ]
  },
  {
   "cell_type": "markdown",
   "metadata": {},
   "source": [
    "## Nota sobre el GIL y `multiprocessing`"
   ]
  },
  {
   "cell_type": "markdown",
   "metadata": {},
   "source": [
    "Aunque en Python los threads son nativos del sistema operativo (esto es, no se simulan, son realmente threads del sistema operativo creados en el hardware), están limitados por el *global interpreter lock, GIL*, de modo que un sólo thread interactúe con un objeto Python en un único tiempo."
   ]
  },
  {
   "cell_type": "markdown",
   "metadata": {},
   "source": [
    "Al usar el módulo `multiprocessing` ejecutamos en paralelo un número de **interpretadores Python** (CPython), cada uno con su propio espacio de memoria privada y su propio GIL que se ejecutan en un instante (y con un thread). \n",
    "\n",
    "**Comentario:** en `multiprocessing` se utilizan subprocesos en lugar de threads."
   ]
  },
  {
   "cell_type": "markdown",
   "metadata": {},
   "source": [
    "# Ejemplos"
   ]
  },
  {
   "cell_type": "markdown",
   "metadata": {},
   "source": [
    "## Hello world!"
   ]
  },
  {
   "cell_type": "markdown",
   "metadata": {},
   "source": [
    "En `multiprocessing` los procesos son generados al utilizar la clase `Process` para crear objetos y llamar al método `start()`. Ver [Process](https://docs.python.org/3.1/library/multiprocessing.html#multiprocessing.Process) para documentación de ésta clase."
   ]
  },
  {
   "cell_type": "code",
   "execution_count": 1,
   "metadata": {},
   "outputs": [],
   "source": [
    "from multiprocessing import Process #importamos clase Process"
   ]
  },
  {
   "cell_type": "code",
   "execution_count": 2,
   "metadata": {},
   "outputs": [
    {
     "name": "stdout",
     "output_type": "stream",
     "text": [
      "hello world! de subproceso\n",
      "hello world! de subproceso\n",
      "hello world! de proceso\n"
     ]
    }
   ],
   "source": [
    "def f():\n",
    "    print('hello world! de subproceso')\n",
    "    \n",
    "if __name__=='__main__':\n",
    "    p1 = Process(target=f)\n",
    "    p2 = Process(target=f)\n",
    "    p1.start() #start sólo puede ser llamada una vez por objeto Process\n",
    "    p2.start() \n",
    "    p1.join() #el proceso principal espera a que termine p1\n",
    "    p2.join() #el proceso principal espera a que termine p2\n",
    "    print('hello world! de proceso')"
   ]
  },
  {
   "cell_type": "markdown",
   "metadata": {},
   "source": [
    "**Comentario:** es una buena práctica explícitamente hacer `join`'s para cada objeto process que realizó `start`. Ver [Programming guidelines](https://docs.python.org/3.1/library/multiprocessing.html#programming-guidelines) para buenas prácticas."
   ]
  },
  {
   "cell_type": "markdown",
   "metadata": {},
   "source": [
    "La clase `Process` recibe la función a ejecutar para cada proceso con el argumento `target` y también tiene `args` para los argumentos de la función:"
   ]
  },
  {
   "cell_type": "code",
   "execution_count": 3,
   "metadata": {},
   "outputs": [
    {
     "name": "stdout",
     "output_type": "stream",
     "text": [
      "hola\n",
      "mundo\n"
     ]
    }
   ],
   "source": [
    "def f(s):\n",
    "    print(s)\n",
    "    \n",
    "if __name__=='__main__':\n",
    "    p1 = Process(target=f, args=('hola',))\n",
    "    p2 = Process(target=f, args=('mundo',)) \n",
    "    p1.start()\n",
    "    p2.start()\n",
    "    p1.join()\n",
    "    p2.join()"
   ]
  },
  {
   "cell_type": "markdown",
   "metadata": {},
   "source": [
    "**Comentarios:** \n",
    "\n",
    "* Obsérvese que se usa `if __name__=='__main__':` que ayuda a que los subprocesos importen el módulo `__main__` (por lo que no se ejecuta la sección que está dentro de `if __name__=='__main__':` pues no son programas principales) y continúa la ejecución de las líneas de `start` (cada subproceso ejecuta `f`) y `join`. Si se quita este statement por ejemplo:\n",
    "\n",
    "```\n",
    "def f(s):\n",
    "    print(s)\n",
    "p1 = Process(target=f, args=('hola',))\n",
    "p2 = Process(target=f, args=('mundo',)) \n",
    "p1.start()\n",
    "p2.start()\n",
    "p1.join()\n",
    "p2.join()\n",
    "```\n",
    "\n",
    "el notebook quedará bloqueado pues una celda con el código anterior creará subprocesos que a su vez crearán otros subprocesos, que a su vez crearán otros subprocesos... y así de forma recursiva.\n",
    "\n",
    "* Los argumentos tienen que ser objetos *pickable* o serializados. Ver [what can be pickled and unpickled](https://docs.python.org/3/library/pickle.html#what-can-be-pickled-and-unpickled) para una lista de objetos *pickable*\n"
   ]
  },
  {
   "cell_type": "markdown",
   "metadata": {},
   "source": [
    "* En *multiprocessing* tenemos la función `cpu_count` para determinar el número de cores que el sistema operativo puede usar. Este número es la cantidad física o simulada (hyperthreading) de cores."
   ]
  },
  {
   "cell_type": "code",
   "execution_count": 4,
   "metadata": {},
   "outputs": [],
   "source": [
    "import multiprocessing"
   ]
  },
  {
   "cell_type": "code",
   "execution_count": 5,
   "metadata": {},
   "outputs": [
    {
     "data": {
      "text/plain": [
       "2"
      ]
     },
     "execution_count": 5,
     "metadata": {},
     "output_type": "execute_result"
    }
   ],
   "source": [
    "multiprocessing.cpu_count()"
   ]
  },
  {
   "cell_type": "markdown",
   "metadata": {},
   "source": [
    "## Pool of workers, ver [Using a pool of workers](https://docs.python.org/3/library/multiprocessing.html#using-a-pool-of-workers)"
   ]
  },
  {
   "cell_type": "markdown",
   "metadata": {},
   "source": [
    "La clase `Pool` crea un conjunto (*pool*) de procesos tipo *worker* que procesarán las tareas a realizar vía funciones tipo `map` o `apply`. Se hace `map` del *input* hacia los procesadores y se colecta el *output* de éstos. Mientras el `map` se realiza, el proceso que lanzó el map se bloquea hasta que finalicen las tareas (aunque hay [map_async](https://docs.python.org/3.1/library/multiprocessing.html#multiprocessing.pool.multiprocessing.Pool.map_async)). El *output* es una lista.\n",
    "\n",
    "**Obs:** el procesamiento de las tareas podríamos hacerlo con la clase `Process` de arriba pero tendríamos que utilizar un ciclo y colectar los resultados.\n",
    "\n",
    "**Comentario:** para un gran número de tareas a realizar utilicen `Pool`, para pocas tareas a realizar (pocas=menos de $10$) utilicen `Process`."
   ]
  },
  {
   "cell_type": "code",
   "execution_count": 6,
   "metadata": {},
   "outputs": [],
   "source": [
    "from multiprocessing import Pool #importamos clase Pool"
   ]
  },
  {
   "cell_type": "markdown",
   "metadata": {},
   "source": [
    "### 1) Hello world!"
   ]
  },
  {
   "cell_type": "code",
   "execution_count": 7,
   "metadata": {},
   "outputs": [
    {
     "name": "stdout",
     "output_type": "stream",
     "text": [
      "['hello world!', 'hello world!']\n"
     ]
    }
   ],
   "source": [
    "def f(dummy):\n",
    "    return 'hello world!'\n",
    "    \n",
    "if __name__ == '__main__':\n",
    "    pool = Pool(multiprocessing.cpu_count())\n",
    "    results = pool.map(f,range(multiprocessing.cpu_count()))\n",
    "    print(results)\n",
    "    pool.close()    \n",
    "    pool.join()"
   ]
  },
  {
   "cell_type": "code",
   "execution_count": 8,
   "metadata": {},
   "outputs": [
    {
     "name": "stdout",
     "output_type": "stream",
     "text": [
      "['hello world!', 'hello world!']\n"
     ]
    }
   ],
   "source": [
    "def f(dummy):\n",
    "    return 'hello world!'\n",
    "    \n",
    "if __name__ == '__main__':\n",
    "    num_processes=2\n",
    "    pool = Pool(num_processes)\n",
    "    results = pool.map(f,range(num_processes))\n",
    "    print(results)\n",
    "    pool.close()    \n",
    "    pool.join()"
   ]
  },
  {
   "cell_type": "markdown",
   "metadata": {},
   "source": [
    "**Con apply:**"
   ]
  },
  {
   "cell_type": "code",
   "execution_count": 9,
   "metadata": {},
   "outputs": [
    {
     "name": "stdout",
     "output_type": "stream",
     "text": [
      "['hello world!', 'hello world!']\n"
     ]
    }
   ],
   "source": [
    "def f():\n",
    "    return 'hello world!'\n",
    "    \n",
    "if __name__ == '__main__':\n",
    "    num_processes=2\n",
    "    pool = Pool(num_processes)\n",
    "    results = [pool.apply(f) for x in range(num_processes)]\n",
    "    print(results)\n",
    "    pool.close()    \n",
    "    pool.join()"
   ]
  },
  {
   "cell_type": "markdown",
   "metadata": {},
   "source": [
    "**Podemos usar un [context manager](https://book.pythontips.com/en/latest/context_managers.html#context-managers) para evitar tener líneas `pool.close()`, `pool.join()`**"
   ]
  },
  {
   "cell_type": "code",
   "execution_count": 10,
   "metadata": {},
   "outputs": [
    {
     "name": "stdout",
     "output_type": "stream",
     "text": [
      "['hello world!', 'hello world!']\n"
     ]
    }
   ],
   "source": [
    "def f(dummy):\n",
    "    return 'hello world!'\n",
    "    \n",
    "if __name__ == '__main__':\n",
    "    num_processes=2\n",
    "    with Pool(processes=num_processes) as pool:\n",
    "        results = pool.map(f,range(num_processes))\n",
    "        print(results)"
   ]
  },
  {
   "cell_type": "markdown",
   "metadata": {},
   "source": [
    "### 2) Pasar múltiples argumentos vía [starmap](https://docs.python.org/3/library/multiprocessing.html#multiprocessing.pool.Pool.starmap)"
   ]
  },
  {
   "cell_type": "code",
   "execution_count": 11,
   "metadata": {},
   "outputs": [
    {
     "name": "stdout",
     "output_type": "stream",
     "text": [
      "['hola', 'mundo']\n"
     ]
    }
   ],
   "source": [
    "def f(s):\n",
    "    return s\n",
    "    \n",
    "if __name__ == '__main__':\n",
    "    num_processes=2\n",
    "    with Pool(processes=num_processes) as pool:\n",
    "        results = pool.starmap(f,[('hola',),('mundo',)])\n",
    "        print(results)"
   ]
  },
  {
   "cell_type": "markdown",
   "metadata": {},
   "source": [
    "### 3) Regla compuesta del rectángulo"
   ]
  },
  {
   "cell_type": "code",
   "execution_count": 12,
   "metadata": {},
   "outputs": [],
   "source": [
    "import math\n",
    "import time\n",
    "from scipy.integrate import quad"
   ]
  },
  {
   "cell_type": "code",
   "execution_count": 13,
   "metadata": {},
   "outputs": [],
   "source": [
    "f=lambda x: math.exp(-x**2)\n",
    "a=0\n",
    "b=1\n",
    "n=10**6\n",
    "h_hat=(b-a)/n"
   ]
  },
  {
   "cell_type": "markdown",
   "metadata": {},
   "source": [
    "**Forma secuencial**"
   ]
  },
  {
   "cell_type": "code",
   "execution_count": 14,
   "metadata": {},
   "outputs": [],
   "source": [
    "def Rcf(f, a, b, n): #Rcf: rectángulo compuesto para f\n",
    "    \"\"\"\n",
    "    Compute numerical approximation using rectangle or mid-point method in \n",
    "    an interval.\n",
    "    Nodes are generated via formula: x_i = a+(i+1/2)h_hat for i=0,1,...,n-1 and h_hat=(b-a)/n\n",
    "    Args:\n",
    "        f (lambda expression): lambda expression of integrand\n",
    "        a (int): left point of interval\n",
    "        b (int): right point of interval\n",
    "        n (int): number of subintervals\n",
    "    Returns:\n",
    "        Rcf (float) \n",
    "    \"\"\"\n",
    "    h_hat=(b-a)/n\n",
    "    suma_res=0\n",
    "    for i in range(0,n):\n",
    "        x=a+(i+1/2.0)*h_hat\n",
    "        suma_res+=f(x)\n",
    "    return h_hat*suma_res"
   ]
  },
  {
   "cell_type": "code",
   "execution_count": 15,
   "metadata": {},
   "outputs": [],
   "source": [
    "start_time = time.time()\n",
    "aprox=Rcf(f,a,b,n)\n",
    "end_time = time.time()"
   ]
  },
  {
   "cell_type": "code",
   "execution_count": 16,
   "metadata": {},
   "outputs": [
    {
     "name": "stdout",
     "output_type": "stream",
     "text": [
      "Rcf tomó 0.3652639389038086 segundos\n"
     ]
    }
   ],
   "source": [
    "secs = end_time-start_time\n",
    "print(\"Rcf tomó\",secs,\"segundos\" )"
   ]
  },
  {
   "cell_type": "code",
   "execution_count": 17,
   "metadata": {},
   "outputs": [],
   "source": [
    "obj, err = quad(f, a, b)"
   ]
  },
  {
   "cell_type": "code",
   "execution_count": 18,
   "metadata": {},
   "outputs": [],
   "source": [
    "def err_relativo(aprox, obj):\n",
    "    return math.fabs(aprox-obj)/math.fabs(obj) #obsérvese el uso de la librería math"
   ]
  },
  {
   "cell_type": "code",
   "execution_count": 19,
   "metadata": {},
   "outputs": [
    {
     "data": {
      "text/plain": [
       "6.71939731300312e-14"
      ]
     },
     "execution_count": 19,
     "metadata": {},
     "output_type": "execute_result"
    }
   ],
   "source": [
    "err_relativo(aprox,obj)"
   ]
  },
  {
   "cell_type": "markdown",
   "metadata": {},
   "source": [
    "La flag `-o` nos permite guardar el *output* de `timeit`."
   ]
  },
  {
   "cell_type": "code",
   "execution_count": 20,
   "metadata": {},
   "outputs": [
    {
     "name": "stdout",
     "output_type": "stream",
     "text": [
      "315 ms ± 23.9 ms per loop (mean ± std. dev. of 10 runs, 5 loops each)\n"
     ]
    }
   ],
   "source": [
    "Rcf_secuencial_timeit = %timeit -n 5 -r 10 -o Rcf(f,a,b,n)"
   ]
  },
  {
   "cell_type": "markdown",
   "metadata": {},
   "source": [
    "**Forma en paralelo**"
   ]
  },
  {
   "cell_type": "code",
   "execution_count": 21,
   "metadata": {},
   "outputs": [],
   "source": [
    "p=multiprocessing.cpu_count() #número de procesos\n",
    "ns_p=int(n/p) #número de subintervalos por proceso\n",
    "              #se asume que n es divisible por p\n",
    "              #si no se cumple esto, se puede definir \n",
    "              #ns_p=int(n/p)\n",
    "              #y para n: \n",
    "              #n=p*ns_p"
   ]
  },
  {
   "cell_type": "code",
   "execution_count": 22,
   "metadata": {},
   "outputs": [
    {
     "name": "stdout",
     "output_type": "stream",
     "text": [
      "número de subintervalos: 1000000\n"
     ]
    }
   ],
   "source": [
    "print(\"número de subintervalos:\",n)"
   ]
  },
  {
   "cell_type": "code",
   "execution_count": 23,
   "metadata": {},
   "outputs": [
    {
     "name": "stdout",
     "output_type": "stream",
     "text": [
      "número de subintervalos por proceso: 500000\n"
     ]
    }
   ],
   "source": [
    "print(\"número de subintervalos por proceso:\",ns_p)"
   ]
  },
  {
   "cell_type": "code",
   "execution_count": 24,
   "metadata": {},
   "outputs": [],
   "source": [
    "def Rcf_parallel(mi_id):\n",
    "    begin=mi_id*ns_p\n",
    "    end=begin+ns_p\n",
    "    h_hat=(b-a)/n\n",
    "    suma_res=0\n",
    "    for i in range(begin,end):\n",
    "        x=a+(i+1/2.0)*h_hat\n",
    "        suma_res+=f(x)\n",
    "    return suma_res\n",
    "if __name__ == '__main__':\n",
    "    start_time=time.time()\n",
    "    with Pool(processes=p) as pool:\n",
    "        results = pool.map(Rcf_parallel,range(p))\n",
    "        aprox=h_hat*sum(results)\n",
    "    end_time=time.time()"
   ]
  },
  {
   "cell_type": "code",
   "execution_count": 25,
   "metadata": {},
   "outputs": [
    {
     "name": "stdout",
     "output_type": "stream",
     "text": [
      "Rcf_parallel tomó 0.34125852584838867 segundos\n"
     ]
    }
   ],
   "source": [
    "secs = end_time-start_time\n",
    "print(\"Rcf_parallel tomó\",secs,\"segundos\" )"
   ]
  },
  {
   "cell_type": "code",
   "execution_count": 26,
   "metadata": {},
   "outputs": [
    {
     "data": {
      "text/plain": [
       "5.842307840730588e-14"
      ]
     },
     "execution_count": 26,
     "metadata": {},
     "output_type": "execute_result"
    }
   ],
   "source": [
    "err_relativo(aprox,obj)"
   ]
  },
  {
   "cell_type": "code",
   "execution_count": 27,
   "metadata": {},
   "outputs": [
    {
     "name": "stdout",
     "output_type": "stream",
     "text": [
      "245 ms ± 38.2 ms per loop (mean ± std. dev. of 10 runs, 5 loops each)\n"
     ]
    },
    {
     "data": {
      "text/plain": [
       "<TimeitResult : 245 ms ± 38.2 ms per loop (mean ± std. dev. of 10 runs, 5 loops each)>"
      ]
     },
     "execution_count": 27,
     "metadata": {},
     "output_type": "execute_result"
    }
   ],
   "source": [
    "%%timeit -n 5 -r 10 -o\n",
    "if __name__ == '__main__':\n",
    "    with Pool(processes=p) as pool:\n",
    "        results = pool.map(Rcf_parallel,range(p))\n",
    "        aprox=h_hat*sum(results)"
   ]
  },
  {
   "cell_type": "code",
   "execution_count": 28,
   "metadata": {},
   "outputs": [],
   "source": [
    "Rcf_parallel_timeit=_"
   ]
  },
  {
   "cell_type": "code",
   "execution_count": 29,
   "metadata": {},
   "outputs": [
    {
     "data": {
      "text/plain": [
       "0.2453967577000003"
      ]
     },
     "execution_count": 29,
     "metadata": {},
     "output_type": "execute_result"
    }
   ],
   "source": [
    "Rcf_parallel_timeit.average"
   ]
  },
  {
   "cell_type": "markdown",
   "metadata": {},
   "source": [
    "## 4) Ejemplo para pasar múltiples parámetros a una función vía un [generator](https://wiki.python.org/moin/Generators)."
   ]
  },
  {
   "cell_type": "markdown",
   "metadata": {},
   "source": [
    "Las funciones definidas con `lambda` no son `pickeable`. Utilizamos la forma `def f(x):` siguiente para definir a la función."
   ]
  },
  {
   "cell_type": "code",
   "execution_count": 30,
   "metadata": {},
   "outputs": [],
   "source": [
    "def f(x):\n",
    "    return math.exp(-x**2)"
   ]
  },
  {
   "cell_type": "code",
   "execution_count": 31,
   "metadata": {},
   "outputs": [],
   "source": [
    "def Rcf_parallel2(t):\n",
    "    f,a,b,mi_id,n,ns_p = t\n",
    "    begin=mi_id*ns_p\n",
    "    end=begin+ns_p\n",
    "    h_hat=(b-a)/n\n",
    "    suma_res=0\n",
    "    for i in range(begin,end):\n",
    "        x=a+(i+1/2.0)*h_hat\n",
    "        suma_res+=f(x)\n",
    "    return suma_res\n",
    "if __name__ == '__main__':\n",
    "    start_time=time.time()\n",
    "    it=((f,a,b,k,n,ns_p) for k in range(p))\n",
    "    h_hat=(b-a)/n\n",
    "    with Pool(processes=p) as pool:\n",
    "        results = pool.map(Rcf_parallel2,it)\n",
    "        aprox=h_hat*sum(results)\n",
    "    end_time=time.time()"
   ]
  },
  {
   "cell_type": "code",
   "execution_count": 32,
   "metadata": {},
   "outputs": [
    {
     "name": "stdout",
     "output_type": "stream",
     "text": [
      "Rcf_parallel2 tomó 0.22277450561523438 segundos\n"
     ]
    }
   ],
   "source": [
    "secs = end_time-start_time\n",
    "print(\"Rcf_parallel2 tomó\",secs,\"segundos\" )"
   ]
  },
  {
   "cell_type": "code",
   "execution_count": 33,
   "metadata": {},
   "outputs": [
    {
     "data": {
      "text/plain": [
       "5.842307840730588e-14"
      ]
     },
     "execution_count": 33,
     "metadata": {},
     "output_type": "execute_result"
    }
   ],
   "source": [
    "err_relativo(aprox,obj)"
   ]
  },
  {
   "cell_type": "code",
   "execution_count": 34,
   "metadata": {},
   "outputs": [
    {
     "name": "stdout",
     "output_type": "stream",
     "text": [
      "225 ms ± 14.2 ms per loop (mean ± std. dev. of 10 runs, 5 loops each)\n"
     ]
    },
    {
     "data": {
      "text/plain": [
       "<TimeitResult : 225 ms ± 14.2 ms per loop (mean ± std. dev. of 10 runs, 5 loops each)>"
      ]
     },
     "execution_count": 34,
     "metadata": {},
     "output_type": "execute_result"
    }
   ],
   "source": [
    "%%timeit -n 5 -r 10 -o\n",
    "if __name__ == '__main__':\n",
    "    it=((f,a,b,k,n,ns_p) for k in range(p))\n",
    "    with Pool(processes=p) as pool:\n",
    "        results = pool.map(Rcf_parallel2,it)\n",
    "        aprox=h_hat*sum(results)\n"
   ]
  },
  {
   "cell_type": "code",
   "execution_count": 35,
   "metadata": {},
   "outputs": [],
   "source": [
    "Rcf_parallel2_timeit=_"
   ]
  },
  {
   "cell_type": "code",
   "execution_count": 36,
   "metadata": {},
   "outputs": [
    {
     "data": {
      "text/plain": [
       "0.22461217020012553"
      ]
     },
     "execution_count": 36,
     "metadata": {},
     "output_type": "execute_result"
    }
   ],
   "source": [
    "Rcf_parallel2_timeit.average"
   ]
  },
  {
   "cell_type": "code",
   "execution_count": 37,
   "metadata": {},
   "outputs": [],
   "source": [
    "def Rcf_parallel3(t):\n",
    "    f,a,b,mi_id,n,ns_p = t\n",
    "    begin=mi_id*ns_p\n",
    "    end=begin+ns_p\n",
    "    h_hat=(b-a)/n\n",
    "    sum_res=0\n",
    "    f_nodes=(f(a+(i+1/2.0)*h_hat) for i in range(begin,end))\n",
    "    suma_res=sum(f_nodes)\n",
    "    return suma_res\n",
    "if __name__ == '__main__':\n",
    "    start_time=time.time()\n",
    "    it=((f,a,b,k,n,ns_p) for k in range(p))\n",
    "    with Pool(processes=p) as pool:\n",
    "        results = pool.map(Rcf_parallel3,it)\n",
    "        aprox=h_hat*sum(results)\n",
    "    end_time=time.time()"
   ]
  },
  {
   "cell_type": "code",
   "execution_count": 38,
   "metadata": {},
   "outputs": [
    {
     "name": "stdout",
     "output_type": "stream",
     "text": [
      "Rcf_parallel3 tomó 0.326810359954834 segundos\n"
     ]
    }
   ],
   "source": [
    "secs = end_time-start_time\n",
    "print(\"Rcf_parallel3 tomó\",secs,\"segundos\" )"
   ]
  },
  {
   "cell_type": "code",
   "execution_count": 39,
   "metadata": {},
   "outputs": [
    {
     "data": {
      "text/plain": [
       "5.842307840730588e-14"
      ]
     },
     "execution_count": 39,
     "metadata": {},
     "output_type": "execute_result"
    }
   ],
   "source": [
    "err_relativo(aprox,obj)"
   ]
  },
  {
   "cell_type": "code",
   "execution_count": 40,
   "metadata": {},
   "outputs": [
    {
     "name": "stdout",
     "output_type": "stream",
     "text": [
      "240 ms ± 21.6 ms per loop (mean ± std. dev. of 10 runs, 5 loops each)\n"
     ]
    },
    {
     "data": {
      "text/plain": [
       "<TimeitResult : 240 ms ± 21.6 ms per loop (mean ± std. dev. of 10 runs, 5 loops each)>"
      ]
     },
     "execution_count": 40,
     "metadata": {},
     "output_type": "execute_result"
    }
   ],
   "source": [
    "%%timeit -n 5 -r 10 -o\n",
    "if __name__ == '__main__':\n",
    "    it=((f,a,b,k,n,ns_p) for k in range(p))\n",
    "    with Pool(processes=p) as pool:\n",
    "        results = pool.map(Rcf_parallel3,it)\n",
    "        aprox=h_hat*sum(results)\n"
   ]
  },
  {
   "cell_type": "code",
   "execution_count": 41,
   "metadata": {},
   "outputs": [],
   "source": [
    "Rcf_parallel3_timeit=_"
   ]
  },
  {
   "cell_type": "code",
   "execution_count": 42,
   "metadata": {},
   "outputs": [
    {
     "data": {
      "text/plain": [
       "0.24011065176011473"
      ]
     },
     "execution_count": 42,
     "metadata": {},
     "output_type": "execute_result"
    }
   ],
   "source": [
    "Rcf_parallel3_timeit.average"
   ]
  },
  {
   "cell_type": "markdown",
   "metadata": {},
   "source": [
    "En la siguiente propuesta, el proceso principal realiza todas las sumas de la evaluación de los subprocesos:"
   ]
  },
  {
   "cell_type": "code",
   "execution_count": 43,
   "metadata": {},
   "outputs": [],
   "source": [
    "def Rcf_parallel4(t):\n",
    "    f,i,a,b,h_hat = t\n",
    "    f_nodes=f((a+(i+1/2)*h_hat))\n",
    "    return f_nodes\n",
    "if __name__ == '__main__':\n",
    "    start_time=time.time()\n",
    "    h_hat=(b-a)/n\n",
    "    it=((f,i,a,b,h_hat) for i in range(n))\n",
    "    with Pool(processes=p) as pool:\n",
    "        results = pool.map(Rcf_parallel4,it)\n",
    "    suma_res=sum(results)\n",
    "    aprox=h_hat*suma_res\n",
    "    end_time=time.time()"
   ]
  },
  {
   "cell_type": "code",
   "execution_count": 44,
   "metadata": {},
   "outputs": [
    {
     "name": "stdout",
     "output_type": "stream",
     "text": [
      "Rcf_parallel4 tomó 1.9975857734680176 segundos\n"
     ]
    }
   ],
   "source": [
    "secs = end_time-start_time\n",
    "print(\"Rcf_parallel4 tomó\",secs,\"segundos\" )"
   ]
  },
  {
   "cell_type": "code",
   "execution_count": 45,
   "metadata": {},
   "outputs": [
    {
     "data": {
      "text/plain": [
       "6.71939731300312e-14"
      ]
     },
     "execution_count": 45,
     "metadata": {},
     "output_type": "execute_result"
    }
   ],
   "source": [
    "err_relativo(aprox,obj)"
   ]
  },
  {
   "cell_type": "code",
   "execution_count": 46,
   "metadata": {},
   "outputs": [
    {
     "name": "stdout",
     "output_type": "stream",
     "text": [
      "882 ms ± 17.1 ms per loop (mean ± std. dev. of 10 runs, 5 loops each)\n"
     ]
    },
    {
     "data": {
      "text/plain": [
       "<TimeitResult : 882 ms ± 17.1 ms per loop (mean ± std. dev. of 10 runs, 5 loops each)>"
      ]
     },
     "execution_count": 46,
     "metadata": {},
     "output_type": "execute_result"
    }
   ],
   "source": [
    "%%timeit -n 5 -r 10 -o\n",
    "if __name__ == '__main__':\n",
    "    h_hat=(b-a)/n\n",
    "    it=((f,i,a,b,h_hat) for i in range(n))\n",
    "    with Pool(processes=p) as pool:\n",
    "        results = pool.map(Rcf_parallel4,it)\n",
    "    suma_res=sum(results)\n",
    "    aprox=h_hat*suma_res\n"
   ]
  },
  {
   "cell_type": "code",
   "execution_count": 47,
   "metadata": {},
   "outputs": [],
   "source": [
    "Rcf_parallel4_timeit=_"
   ]
  },
  {
   "cell_type": "code",
   "execution_count": 48,
   "metadata": {},
   "outputs": [
    {
     "data": {
      "text/plain": [
       "0.8815858328200556"
      ]
     },
     "execution_count": 48,
     "metadata": {},
     "output_type": "execute_result"
    }
   ],
   "source": [
    "Rcf_parallel4_timeit.average"
   ]
  },
  {
   "cell_type": "markdown",
   "metadata": {},
   "source": [
    "## Gráfica de tiempo de ejecución vs número de procesos"
   ]
  },
  {
   "cell_type": "code",
   "execution_count": 49,
   "metadata": {},
   "outputs": [],
   "source": [
    "import matplotlib.pyplot as plt"
   ]
  },
  {
   "cell_type": "code",
   "execution_count": 50,
   "metadata": {},
   "outputs": [
    {
     "data": {
      "text/plain": [
       "(0.3151302862000739,\n",
       " 0.2453967577000003,\n",
       " 0.22461217020012553,\n",
       " 0.24011065176011473,\n",
       " 0.8815858328200556)"
      ]
     },
     "execution_count": 50,
     "metadata": {},
     "output_type": "execute_result"
    }
   ],
   "source": [
    "(Rcf_secuencial_timeit.average,Rcf_parallel_timeit.average,\n",
    " Rcf_parallel2_timeit.average,Rcf_parallel3_timeit.average,\n",
    " Rcf_parallel4_timeit.average)"
   ]
  },
  {
   "cell_type": "markdown",
   "metadata": {},
   "source": [
    "El mejor tiempo lo tiene `Rcf_parallel` con **2 procesos**. Usaremos ésta implementación para realizar la gráfica variando el número de procesos de $1$ hasta `multiprocessing.cpu_count()`"
   ]
  },
  {
   "cell_type": "code",
   "execution_count": 51,
   "metadata": {},
   "outputs": [
    {
     "data": {
      "text/plain": [
       "2"
      ]
     },
     "execution_count": 51,
     "metadata": {},
     "output_type": "execute_result"
    }
   ],
   "source": [
    "multiprocessing.cpu_count()"
   ]
  },
  {
   "cell_type": "code",
   "execution_count": 71,
   "metadata": {},
   "outputs": [],
   "source": [
    "def mifun(p):\n",
    "    with Pool(processes=p) as pool:\n",
    "        results = pool.map(Rcf_parallel,range(p))\n",
    "        aprox=h_hat*sum(results)"
   ]
  },
  {
   "cell_type": "code",
   "execution_count": 76,
   "metadata": {},
   "outputs": [],
   "source": [
    "l=[]\n",
    "n_cpus=[]"
   ]
  },
  {
   "cell_type": "code",
   "execution_count": 77,
   "metadata": {},
   "outputs": [],
   "source": [
    "l.append(Rcf_secuencial_timeit.average)"
   ]
  },
  {
   "cell_type": "code",
   "execution_count": 78,
   "metadata": {},
   "outputs": [],
   "source": [
    "n_cpus.append(1)"
   ]
  },
  {
   "cell_type": "code",
   "execution_count": 79,
   "metadata": {},
   "outputs": [
    {
     "name": "stdout",
     "output_type": "stream",
     "text": [
      "249 ms ± 25.8 ms per loop (mean ± std. dev. of 10 runs, 5 loops each)\n"
     ]
    }
   ],
   "source": [
    "for p in range(2,multiprocessing.cpu_count()+1):\n",
    "    resultado_timeit=%timeit -n 5 -r 10 -o mifun(p)\n",
    "    l.append(resultado_timeit.average)\n",
    "    n_cpus.append(p)"
   ]
  },
  {
   "cell_type": "code",
   "execution_count": 80,
   "metadata": {},
   "outputs": [
    {
     "data": {
      "text/plain": [
       "[1, 2]"
      ]
     },
     "execution_count": 80,
     "metadata": {},
     "output_type": "execute_result"
    }
   ],
   "source": [
    "n_cpus"
   ]
  },
  {
   "cell_type": "code",
   "execution_count": 81,
   "metadata": {},
   "outputs": [
    {
     "data": {
      "text/plain": [
       "[0.3151302862000739, 0.24919529369988594]"
      ]
     },
     "execution_count": 81,
     "metadata": {},
     "output_type": "execute_result"
    }
   ],
   "source": [
    "l"
   ]
  },
  {
   "cell_type": "code",
   "execution_count": 82,
   "metadata": {},
   "outputs": [
    {
     "data": {
      "image/png": "[encoded data removed]",
      "text/plain": [
       "<Figure size 432x288 with 1 Axes>"
      ]
     },
     "metadata": {
      "needs_background": "light"
     },
     "output_type": "display_data"
    }
   ],
   "source": [
    "plt.plot(n_cpus,l)\n",
    "plt.title('Gráfica num cpus vs tiempo')\n",
    "plt.grid()\n",
    "plt.show()"
   ]
  },
  {
   "cell_type": "markdown",
   "metadata": {},
   "source": [
    "**Referencias**\n",
    "\n",
    "1. M. Gorelick, I. Ozsvald, High Performance Python, O'Reilly Media, 2014.\n"
   ]
  },
  {
   "cell_type": "code",
   "execution_count": null,
   "metadata": {},
   "outputs": [],
   "source": []
  }
 ],
 "metadata": {
  "kernelspec": {
   "display_name": "Python 3",
   "language": "python",
   "name": "python3"
  },
  "language_info": {
   "codemirror_mode": {
    "name": "ipython",
    "version": 3
   },
   "file_extension": ".py",
   "mimetype": "text/x-python",
   "name": "python",
   "nbconvert_exporter": "python",
   "pygments_lexer": "ipython3",
   "version": "3.6.9"
  }
 },
 "nbformat": 4,
 "nbformat_minor": 4
}
