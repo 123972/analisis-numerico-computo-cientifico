{
 "cells": [
  {
   "cell_type": "markdown",
   "metadata": {},
   "source": [
    "# 2.2 Sistemas de memoria compartida o shared memory systems"
   ]
  },
  {
   "cell_type": "markdown",
   "metadata": {},
   "source": [
    "<img src=\"https://dl.dropboxusercontent.com/s/ao3if8tzwsvzfi7/shared_memory_sistems.png?dl=0\" heigth=\"500\" width=\"500\">\n",
    "\n"
   ]
  },
  {
   "cell_type": "markdown",
   "metadata": {},
   "source": [
    "**Características:**\n",
    "\n",
    "* El dibujo anterior es un sistema de memoria compartida con acceso uniforme a la memoria (UMA), esto es, cada procesador o core acceden con las mismas velocidades a la memoria.\n",
    "\n",
    "* Cada proceso o thread generado en este tipo de sistemas tienen acceso a la memoria principal (RAM). \n",
    "\n",
    "* Trabajar sobre este tipo de sistemas tiene ventajas y desventajas. Por ejemplo, crear variables globales o que pueden ser accesadas por todos los threads (variable compartida) facilita la comunicación. Una desventaja es la coordinación para ejecutar instrucciones pues al tener una variable compartida o global debemos crear candados, *locks*, ya que si un thread por ejemplo con etiqueta $1$ accede a ella, otro thread por ejemplo con etiqueta $2$, no pueda utilizarla hasta que finalice el thread $1$ de usarla."
   ]
  },
  {
   "cell_type": "markdown",
   "metadata": {},
   "source": [
    "**Nota:**\n",
    "\n",
    "* Para generar procesos o threads en los lenguajes de programación de C, Python o R, utilizamos las librerías, API's o extensiones vía paquetes a tales lenguajes pues tanto C, Python como R en sus implementaciones* más utilizadas, fueron diseñados con el propósito de utilizarse sobre sistemas con un sólo procesador.\n",
    "\n",
    "\n",
    "\\* En distintas implementaciones hay soporte para sistemas de memoria compartida. La implementación más utilizada por ejemplo de Python es *CPython*, pero hay otras más, ver [liga](https://stackoverflow.com/questions/17130975/python-vs-cpython) para explicación de implementaciones de Python. Ver [Alternative R implementations](http://adv-r.had.co.nz/Performance.html#faster-r) y [liga](https://en.wikipedia.org/wiki/R_(programming_language)#Implementations) para otras implementaciones de R. "
   ]
  },
  {
   "cell_type": "code",
   "execution_count": null,
   "metadata": {},
   "outputs": [],
   "source": []
  }
 ],
 "metadata": {
  "kernelspec": {
   "display_name": "Python 3",
   "language": "python",
   "name": "python3"
  },
  "language_info": {
   "codemirror_mode": {
    "name": "ipython",
    "version": 3
   },
   "file_extension": ".py",
   "mimetype": "text/x-python",
   "name": "python",
   "nbconvert_exporter": "python",
   "pygments_lexer": "ipython3",
   "version": "3.6.9"
  }
 },
 "nbformat": 4,
 "nbformat_minor": 4
}
