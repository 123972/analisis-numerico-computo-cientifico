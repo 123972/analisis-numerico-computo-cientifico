{
 "cells": [
  {
   "cell_type": "markdown",
   "metadata": {},
   "source": [
    "# 1.1 Análisis numérico y cómputo científico"
   ]
  },
  {
   "cell_type": "markdown",
   "metadata": {},
   "source": [
    "Nota generada a partir de [liga](https://www.dropbox.com/s/z5ifw3ti66gukdy/1.1.Analisis_numerico_y_computo_cientifico.pdf?dl=0)"
   ]
  },
  {
   "cell_type": "markdown",
   "metadata": {},
   "source": [
    "Comando de docker para ejecución de la nota de forma local:\n",
    "\n",
    "nota: cambiar DIR por la ruta de directorio que se desea mapear a `/datos` dentro del contenedor de docker.\n",
    "\n",
    "```\n",
    "JUPYTERLAB_VERSION=1.1.0\n",
    "REPO_URL=palmoreck/jupyterlab\n",
    "DIR=<ruta a mi directorio>\n",
    "\n",
    "docker run --rm -v $DIR:/datos --name jupyterlab-local -p 8888:8888 -d $REPO_URL:$JUPYTERLAB_VERSION\n",
    "```\n",
    "\n",
    "Detener el contenedor de docker:\n",
    "\n",
    "```\n",
    "docker stop jupyterlab-local\n",
    "```\n"
   ]
  },
  {
   "cell_type": "markdown",
   "metadata": {},
   "source": [
    "## Introducción"
   ]
  },
  {
   "cell_type": "markdown",
   "metadata": {},
   "source": [
    "El cómputo científico es parte de lo que se conoce como ciencia de la computación, cuya investigación incluye las fases:\n",
    "\n",
    "1) Desarrollo de un modelo matemático para un fenómeno de interés. \n",
    "\n",
    "2) Desarrollo de un algoritmo.\n",
    "\n",
    "3) Implementación del algoritmo en un software.\n",
    "\n",
    "4) Simulaciones numéricas del fenómeno con el software.\n",
    "\n",
    "5) Representación de los resultados calculados (gráficas o herramientas visuales).\n",
    "\n",
    "6) Interpretación y validación de los resultados.\n",
    "\n",
    "Y se realizan los puntos anteriores en una forma repetida dependiendo de los resultados obtenidos en 6."
   ]
  },
  {
   "cell_type": "markdown",
   "metadata": {},
   "source": [
    "## Nota sobre exactitud y precisión."
   ]
  },
  {
   "cell_type": "code",
   "execution_count": null,
   "metadata": {},
   "outputs": [],
   "source": []
  },
  {
   "cell_type": "markdown",
   "metadata": {},
   "source": [
    "<p align=\"centered\">\n",
    "<img src=\"https://drive.google.com/uc?export=view&id=1-tzjUTeru7d6Xhr4NADWzZOksrAqnyeV\" alt=\"a\" heigth=\"500\" width=\"500\">\n",
    "</p>\n",
    "\n"
   ]
  },
  {
   "cell_type": "markdown",
   "metadata": {},
   "source": [
    "**Preguntas de comprehensión**\n",
    "\n",
    "1)¿Cuáles son las características del análisis numérico y cómputo científico?\n",
    "\n",
    "2)¿Qué propiedades debe tener un buen algoritmo?\n",
    "\n",
    "3)¿Cuáles fuentes de error principalmente son estudiadas por el análisis numérico y cómputo científico al resolver un problema?\n",
    "\n",
    "4)Menciona las diferencias entre los términos inexactitud y precisión.\n"
   ]
  },
  {
   "cell_type": "code",
   "execution_count": null,
   "metadata": {},
   "outputs": [],
   "source": []
  }
 ],
 "metadata": {
  "kernelspec": {
   "display_name": "Python 3",
   "language": "python",
   "name": "python3"
  },
  "language_info": {
   "codemirror_mode": {
    "name": "ipython",
    "version": 3
   },
   "file_extension": ".py",
   "mimetype": "text/x-python",
   "name": "python",
   "nbconvert_exporter": "python",
   "pygments_lexer": "ipython3",
   "version": "3.6.8"
  }
 },
 "nbformat": 4,
 "nbformat_minor": 4
}
