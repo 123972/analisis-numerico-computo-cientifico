{
 "cells": [
  {
   "cell_type": "markdown",
   "metadata": {},
   "source": [
    "Nota generada a partir de [liga](https://www.dropbox.com/s/z5ifw3ti66gukdy/1.1.Analisis_numerico_y_computo_cientifico.pdf?dl=0)"
   ]
  },
  {
   "cell_type": "markdown",
   "metadata": {},
   "source": [
    "Comando de docker para ejecución de la nota de forma local:\n",
    "\n",
    "nota: cambiar `<ruta a mi directorio>` por la ruta de directorio que se desea mapear a `/datos` dentro del contenedor de docker.\n",
    "\n",
    "```\n",
    "docker run --rm -v <ruta a mi directorio>:/datos --name jupyterlab-local -p 8888:8888 -d palmoreck/jupyterlab:1.1.0\n",
    "```\n",
    "\n",
    "Detener el contenedor de docker:\n",
    "\n",
    "```\n",
    "docker stop jupyterlab-local\n",
    "```\n"
   ]
  },
  {
   "cell_type": "markdown",
   "metadata": {},
   "source": [
    "# 1.1 Análisis numérico y cómputo científico"
   ]
  },
  {
   "cell_type": "markdown",
   "metadata": {},
   "source": [
    "## Introducción"
   ]
  },
  {
   "cell_type": "markdown",
   "metadata": {},
   "source": [
    "El cómputo científico es parte de lo que se conoce como ciencia de la computación, cuya investigación incluye las fases:\n",
    "\n",
    "1) Desarrollo de un modelo matemático para un fenómeno de interés. \n",
    "\n",
    "2) Desarrollo de un algoritmo.\n",
    "\n",
    "3) Implementación del algoritmo en un software.\n",
    "\n",
    "4) Simulaciones numéricas del fenómeno con el software.\n",
    "\n",
    "5) Representación de los resultados calculados (gráficas o herramientas visuales).\n",
    "\n",
    "6) Interpretación y validación de los resultados.\n",
    "\n",
    "Y se realizan los puntos anteriores en una forma repetida ($1$-$6$) dependiendo de los resultados obtenidos en $6$."
   ]
  },
  {
   "cell_type": "markdown",
   "metadata": {},
   "source": [
    "El cómputo científico se encarga de las fases $2$ a $4$: desarrollo, implementación y uso de los algoritmos numéricos y software para aplicaciones. Ejemplos de aplicaciones las encontramos en análisis y ajuste de modelos a datos, optimización y machine learning, entre otras."
   ]
  },
  {
   "cell_type": "markdown",
   "metadata": {},
   "source": [
    "## Análisis numérico y cómputo científico."
   ]
  },
  {
   "cell_type": "markdown",
   "metadata": {},
   "source": [
    "Nuestro curso involucra temas del análisis numérico el cual se enfoca al diseño y análisis de algoritmos para resolver problemas que surgen en la ciencia de la computación e ingeniería. Por esto, al análisis numérico se le llama también cómputo científico y se distingue de otras áreas de la ciencia de la computación en que trabaja con **cantidades continuas**. Tales cantidades las encontramos en muchos problemas de matemáticas los cuales no se resuelven en principio con un número finito de pasos, sino que deben resolverse por un proceso iterativo que converja a la solución, teóricamente infinito. Sin embargo, en la práctica, no se realizan procesos infinitos y además no se resuelven problemas de manera exacta; se obtienen respuestas aproximadamente correctas, \"suficientemente cercanas o precisas\" al resultado deseado.\n",
    "\n",
    "Lo anterior subraya uno de los aspectos más importantes del cómputo científico: encontrar algoritmos iterativos que **converjan** \"rápidamente\", así como dar una estimación de la **exactitud** de las aproximaciones calculadas. Así, un segundo tema que distingue al análisis numérico de otras áreas de la ciencia de la computación es el relacionado con las **aproximaciones** y sus efectos. Tales aproximaciones es indispensable que sean controladas por algoritmos \"buenos\", esto es, que sean **eficientes** (hacer más con menos), sean **confiables** y **exactos** ante la serie de aproximaciones realizadas: sean **estables**.\n",
    "\n",
    "La eficiencia se relaciona directamente con el **costo computacional** medido típicamente a partir del número de operaciones que realiza el algoritmo (otra componente para el costo computacional, es la transferencia de datos entre las diferentes jerarquías de memoria en una computadora) y la **estabilidad** se refiere a no amplificar los **errores** generados por las aproximaciones o resultados calculados durante la ejecución del algoritmo. Asimismo, la estabilidad se relaciona con la pregunta: ¿si se perturban los datos de entrada, el algoritmo calcula una solución \"cercana\" a los datos no perturbados? (esta pregunta tiene que ver con el **análisis de sensibilidad** en un algoritmo ante perturbaciones en los datos de entrada).\n"
   ]
  },
  {
   "cell_type": "markdown",
   "metadata": {},
   "source": [
    "## Fuentes de error"
   ]
  },
  {
   "cell_type": "markdown",
   "metadata": {},
   "source": [
    "## Nota sobre exactitud y precisión."
   ]
  },
  {
   "cell_type": "markdown",
   "metadata": {},
   "source": [
    "Los errores en los cálculos y las medidas se pueden caracterizar respecto a su exactitud y precisión. La exactitud se refiere a que tan cercano está el valor calculado o medido del valor verdadero. La precisión se refiere a qué tan cercanos se encuentran unos de otros diversos valores calculados o medidos. Obsérvese el siguiente diagrama:"
   ]
  },
  {
   "cell_type": "markdown",
   "metadata": {},
   "source": [
    "<p align=\"centered\">\n",
    "<img src=\"https://drive.google.com/uc?export=view&id=1-tzjUTeru7d6Xhr4NADWzZOksrAqnyeV\" alt=\"a\" heigth=\"500\" width=\"500\">\n",
    "</p>\n",
    "\n"
   ]
  },
  {
   "cell_type": "markdown",
   "metadata": {},
   "source": [
    "**Preguntas de comprehensión**\n",
    "\n",
    "1)¿Cuáles son las características del análisis numérico y cómputo científico?\n",
    "\n",
    "2)¿Qué propiedades debe tener un buen algoritmo?\n",
    "\n",
    "3)¿Cuáles fuentes de error principalmente son estudiadas por el análisis numérico y cómputo científico al resolver un problema?\n",
    "\n",
    "4)Menciona las diferencias entre los términos inexactitud y precisión.\n"
   ]
  },
  {
   "cell_type": "markdown",
   "metadata": {},
   "source": [
    "**Referencias:**\n",
    "\n",
    "M. T. Heath, Scientific Computing. An Introductory Survey, McGraw-Hill, 2002.\n"
   ]
  }
 ],
 "metadata": {
  "kernelspec": {
   "display_name": "Python 3",
   "language": "python",
   "name": "python3"
  },
  "language_info": {
   "codemirror_mode": {
    "name": "ipython",
    "version": 3
   },
   "file_extension": ".py",
   "mimetype": "text/x-python",
   "name": "python",
   "nbconvert_exporter": "python",
   "pygments_lexer": "ipython3",
   "version": "3.6.8"
  }
 },
 "nbformat": 4,
 "nbformat_minor": 4
}
