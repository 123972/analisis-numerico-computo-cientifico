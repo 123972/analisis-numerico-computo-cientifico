{
 "cells": [
  {
   "cell_type": "markdown",
   "metadata": {},
   "source": [
    "# ¿Qué es y por qué es necesario?"
   ]
  },
  {
   "cell_type": "markdown",
   "metadata": {},
   "source": [
    "El perfilamiento de código nos ayuda a encontrar **bottlenecks** de nuestro código ya sea en el uso de CPU, RAM, network bandwidth o disco I/O. Una mala práctica que es común en las personas que inician en la programación es intentar optimizar el código (y por optimización piénsese en algún caso, por ejemplo mejorar el tiempo de ejecución de un bloque de código) a ciegas, intentando cambiar líneas de código por intuición y no por evidencias o mediciones. Esto aunque puede funcionar en algunas ocasiones no conduce la mayoría de las veces a corregir los problemas de los bottlenecks del código (o bien en programas o sistemas enteros!). La optimización guiada por la intuición conduce a un mayor tiempo en el desarrollo para un pequeño incremento en el performance:\n",
    "\n",
    "\"We should forget about small efficiencies, say about 97% of the time: premature optimization is the root of all evil. Yet we should not pass up our opportunities in that critical 3%\" **D. Knuth**"
   ]
  },
  {
   "cell_type": "markdown",
   "metadata": {},
   "source": [
    "Si bien es importante que el código resuelva un problema definido, también es importante perfilarlo. Considérese el caso en el que un código resuelve bien un problema pero en un largo tiempo de ejecución, será entonces importante perfilarlo para realizar mediciones (ejemplos de mediciones se mencionaron en el párrafo anterior) de los lugares en los que el código gasta la mayor parte de tiempo (en general recursos). \n",
    "\n",
    "A largo plazo el perfilamiento de código te dará las decisiones más pragmáticas posibles con el menor esfuerzo total . \n",
    "\n",
    "Al perfilar tu código no olvides lo siguiente:\n",
    "\n",
    "* Medir el tiempo total de tus códigos para decidir si se requiere optimizarlos.\n",
    "* Perfilar tus códigos para decidir en dónde se iniciará con la optimización. También ayuda definir hipótesis para decidir en qué bloques perfilar primero.\n",
    "* Escribir tests para asegurarse que se resuelve el problema de forma correcta al igual que antes de perfilarlo y optimizarlo.\n",
    "* Cualquier recurso medible puede ser perfilado (no sólo el uso de CPU p.ej.) \n",
    "* Perfilar típicamente añade overhead en la ejecución del código (disminución de tiempo de 10x o 100x es común)."
   ]
  },
  {
   "cell_type": "markdown",
   "metadata": {},
   "source": [
    "En la referencia 1. utilizada para escribir esta nota, se tiene una sección de **Strategies to Profile Your Code Successfully** en la que se enlistan algunas estrategias para un perfilamiento de código exitoso:\n",
    "\n",
    "* Disable TurboBoost in the BIOS (a cool CPU may run the same block of code faster than a hot CPU).\n",
    "\n",
    "* Disable the operating system's ability to override the SpeedStep (you will find this in your BIOS if you're allowed to control it).\n",
    "\n",
    "* Only use mains power (never battery power) <- a laptop on battery power is likely to more agressively control CPU speed than a laptop on mains power.\n",
    "\n",
    "* Disable background tools like backups and Dropbox while running experiments.\n",
    "\n",
    "* Run the experiments many times to obtain a stable measurement.\n",
    "\n",
    "* Possibly drop to run level 1 (Unix) so that no other tasks are running.\n",
    "\n",
    "* Reboot and rerun the experiments to double-confirm the results.\n",
    "\n"
   ]
  },
  {
   "cell_type": "markdown",
   "metadata": {},
   "source": [
    "## Unit testing"
   ]
  },
  {
   "cell_type": "markdown",
   "metadata": {},
   "source": [
    "Además del perfilamiento del código, el **unit testing** ayuda a validar que cada unidad del software trabaje y se desempeñe como fue diseñada (una unidad puede ser una función, programa, procedimiento, método). El unit testing es importante pues se debe cuidar que el código genere resultados correctos. Puede realizarse independientemente del perfilamiento y si se ha hecho perfilamiento es muy indispensable que se haga un unit testing.\n",
    "\n",
    "Unos párrafos de la referencia 1. que se utiliza para escribir la nota se mencionan el por qué realizar unit testing después del perfilamiento y una buena práctica para el unit testing:\n",
    "\n",
    "* **Unit testing during optimization to maintain correctness:** ... Ian (blushing) -Ian es uno de los autores del libro- is embarrassed to note that once he spent a day optimizing his code, having disabled unit tests because they were inconvenient, only to discover that his significant speedup result was due to breaking a part of the algorithm he was improving.\n",
    "\n",
    "* ...If you try to performance test code deep inside a larger project without separating it from the larger project, you are likely to witness side effects that will sidetrack your efforts. It is likely to be harder to unit test a larger project when you're making fine-grained changes, and this may further hamper your efforts. Side effects could include other threads and processes impacting CPU and memory usage and network and disk activity, which will skew your results."
   ]
  },
  {
   "cell_type": "markdown",
   "metadata": {},
   "source": [
    "**Referencias**\n",
    "\n",
    "1. M. Gorelick, I. Ozsvald, High Performance Python, O'Reilly Media, 2014."
   ]
  }
 ],
 "metadata": {
  "kernelspec": {
   "display_name": "Python 3",
   "language": "python",
   "name": "python3"
  },
  "language_info": {
   "codemirror_mode": {
    "name": "ipython",
    "version": 3
   },
   "file_extension": ".py",
   "mimetype": "text/x-python",
   "name": "python",
   "nbconvert_exporter": "python",
   "pygments_lexer": "ipython3",
   "version": "3.6.9"
  }
 },
 "nbformat": 4,
 "nbformat_minor": 4
}
