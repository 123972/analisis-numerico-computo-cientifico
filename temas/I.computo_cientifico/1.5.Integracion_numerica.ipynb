{
 "cells": [
  {
   "cell_type": "markdown",
   "metadata": {},
   "source": [
    "Nota generada a partir de la [liga1](https://www.dropbox.com/s/jfrxanjls8kndjp/Diferenciacion_e_Integracion.pdf?dl=0) y [liga2](https://www.dropbox.com/s/k3y7h9yn5d3yf3t/Integracion_por_Monte_Carlo.pdf?dl=0)."
   ]
  },
  {
   "cell_type": "markdown",
   "metadata": {},
   "source": [
    "Comando de docker para ejecución de la nota de forma local:\n",
    "\n",
    "nota: cambiar `<ruta a mi directorio>` por la ruta de directorio que se desea mapear a `/datos` dentro del contenedor de docker.\n",
    "\n",
    "```\n",
    "docker run --rm -v <ruta a mi directorio>:/datos --name jupyterlab_numerical -p 8888:8888 -p 8786:8786 -p 8787:8787 -d palmoreck/jupyterlab_numerical:1.1.0\n",
    "```\n",
    "\n",
    "Detener el contenedor de docker:\n",
    "\n",
    "```\n",
    "docker stop jupyterlab_local\n",
    "```\n"
   ]
  },
  {
   "cell_type": "markdown",
   "metadata": {},
   "source": [
    "Los métodos revisados en esta nota de integración numérica serán utilizados más adelante para revisión de herramientas en Python para **perfilamiento de código: uso de cpu y memoria**. También serán referidos en el capítulo de **cómputo en paralelo**."
   ]
  },
  {
   "cell_type": "code",
   "execution_count": 1,
   "metadata": {},
   "outputs": [],
   "source": [
    "import math\n",
    "import numpy as np\n",
    "\n",
    "from scipy.integrate import quad\n",
    "import matplotlib.pyplot as plt"
   ]
  },
  {
   "cell_type": "markdown",
   "metadata": {},
   "source": [
    "# Integración Numérica"
   ]
  },
  {
   "cell_type": "markdown",
   "metadata": {},
   "source": [
    "En lo siguiente consideramos que las funciones del integrando están en $\\mathcal{C}^2$ en el conjunto de integración (ver final de nota [1.4.Polinomios_de_Taylor_y_diferenciacion_numerica](https://github.com/ITAM-DS/analisis-numerico-computo-cientifico/blob/master/temas/I.computo_cientifico/1.4.Polinomios_de_Taylor_y_diferenciacion_numerica.ipynb) para definición de $\\mathcal{C}^2$)."
   ]
  },
  {
   "cell_type": "markdown",
   "metadata": {},
   "source": [
    "Las reglas o métodos por cuadratura nos ayudan a aproximar integrales con sumas de la forma:"
   ]
  },
  {
   "cell_type": "markdown",
   "metadata": {},
   "source": [
    "$$\\displaystyle \\int_a^bf(x)dx \\approx \\displaystyle \\sum_{i=0}^nw_if(x_i)$$"
   ]
  },
  {
   "cell_type": "markdown",
   "metadata": {},
   "source": [
    "donde: $w_i$ es el peso para el nodo $x_i$, $f$ se llama integrando y $[a,b]$ intervalo de integración. Los valores $f(x_i)$ se asumen conocidos.\n",
    "\n",
    "Todas las reglas o métodos por cuadratura se obtienen con interpoladores polinomiales del integrando (por ejemplo usando la representación de Lagrange) o también con el teorema Taylor (ver nota [1.4.Polinomios_de_Taylor_y_diferenciacion_numerica](https://github.com/ITAM-DS/analisis-numerico-computo-cientifico/blob/master/temas/I.computo_cientifico/1.4.Polinomios_de_Taylor_y_diferenciacion_numerica.ipynb) para éste teorema)."
   ]
  },
  {
   "cell_type": "markdown",
   "metadata": {},
   "source": [
    "Se realizan aproximaciones numéricas por:\n",
    "* Desconocimiento de la función en todo el intervalo $[a,b]$ y sólo se conoce en los nodos su valor.\n",
    "* Inexistencia de antiderivada o primitiva del integrando. Por ejemplo: "
   ]
  },
  {
   "cell_type": "markdown",
   "metadata": {},
   "source": [
    "$$\\displaystyle \\int_a^be^{-\\frac{x^2}{2}}dx$$ con $a,b$ números reales."
   ]
  },
  {
   "cell_type": "markdown",
   "metadata": {},
   "source": [
    "Dependiendo de la ubicación de los nodos y pesos es el método de cuadratura que resulta:\n",
    "\n",
    "* Newton-Cotes si los nodos y pesos son equidistantes como la regla del rectángulo, trapecio y Simpson (con el teorema de Taylor o interpolación es posible obtener tales fórmulas).\n",
    "* Cuadratura Gaussiana si se desea obtener reglas o fórmulas que tengan la mayor exactitud posible. Ejemplos de este tipo de cuadratura se tiene la regla por cuadratura Gauss-Legendre en [-1,1] o Gauss-Hermite para el caso de integrales en $[-\\infty, \\infty]$ con integrando $e^{-x^2}f(x)$."
   ]
  },
  {
   "cell_type": "markdown",
   "metadata": {},
   "source": [
    "**Comentario:**\n",
    "\n",
    "Los métodos de integración numérica por Newton-Cotes o cuadratura Gaussiana pueden extenderse a más dimensiones, sin embargo incurren en lo que se conoce como la **maldición de la dimensionalidad** que para el caso de integración numérica consiste en la gran cantidad de evaluaciones que deben realizarse de la función del integrando para tener una exactitud pequeña, por ejemplo con un número de nodos igual a $10^4$, una distancia entre ellos de $.1$ y una integral en $4$ dimensiones para la regla por Newton Cotes del rectángulo, se obtiene una exactitud de $2$ dígitos. Como alternativa a los métodos por cuadratura anteriores para las integrales de más dimensiones se tienen los **métodos de integración por el método Monte Carlo** que generan aproximaciones con una exactitud moderada (del orden de $\\mathcal{O}(n^{-1/2})$ con $n$ número de nodos) para un número de puntos moderado independiente de la dimensión.\n"
   ]
  },
  {
   "cell_type": "markdown",
   "metadata": {},
   "source": [
    "## Newton-Cotes"
   ]
  },
  {
   "cell_type": "markdown",
   "metadata": {},
   "source": [
    "Si el conjunto de nodos $x_i, i=0,1,\\dots,n$ cumple $x_{i+1}-x_i=h, \\forall i=0,1,\\dots,n-1$ con $h$ (espaciado) constante y se aproxima la función del integrando $f$ con un polinomio en $(x_i,f(x_i)) \\forall i=0,1,\\dots,n$ entonces se tiene un método de integración numérica por Newton-Cotes (o reglas o fórmulas por Newton-Cotes)."
   ]
  },
  {
   "cell_type": "markdown",
   "metadata": {},
   "source": [
    "<p align=\"centered\">\n",
    "<img src=\"https://drive.google.com/uc?export=view&id=18fwDv32B7jKDaHL_cekBDUM8wpYVdjoS\" heigth=\"500\" width=\"500\">\n",
    "</p>"
   ]
  },
  {
   "cell_type": "markdown",
   "metadata": {},
   "source": [
    "En el dibujo: a),b) y c) se integra numéricamente por Newton-Cotes. d) es por cuadratura Gaussiana.\n"
   ]
  },
  {
   "cell_type": "markdown",
   "metadata": {},
   "source": [
    "**Comentario:** si la fórmula por Newton-Cotes involucra el valor de la función en los extremos se llama cerrada, si no los involucra se les llama abiertas. En el dibujo d) es abierta."
   ]
  },
  {
   "cell_type": "markdown",
   "metadata": {},
   "source": [
    "El dibujo anterior muestra que puede subdivirse el intervalo de integración en una mayor cantidad de subintervalos, lo cual para la función $f$ mostrada es benéfico pues se tiene mejor aproximación (en la práctica esto será bueno? recuérdese los errores de redondeo de la nota [1.2.Sistema_de_punto_flotante](https://github.com/ITAM-DS/analisis-numerico-computo-cientifico/blob/master/temas/I.computo_cientifico/1.2.Sistema_de_punto_flotante.ipynb)). Los métodos que utilizan la idea anterior de dividir en subintervalos se les conoce como **métodos de integración numérica compuestos** en contraste con los simples. "
   ]
  },
  {
   "cell_type": "markdown",
   "metadata": {},
   "source": [
    "**Comentario:** Para las reglas compuestas se divide el intervalo $[a,b]$ en $n$ subinteralos $[x_{i-1},x_i], i=1,\\dots,n$ con $x_0=a<x_1<\\dots<x_{n-1}<x_n=b$ y se considera una partición regular, esto es: $x_i-x_{i-1}=\\hat{h}$ con $\\hat{h}=\\frac{h}{n}$ y $h=b-a$. En este contexto se realiza la aproximación:\n",
    "\n",
    "$$\\displaystyle \\int_a^bf(x)dx = \\sum_{i=1}^n\\int_{x_{i-1}}^{x_i}f(x)dx.$$"
   ]
  },
  {
   "cell_type": "markdown",
   "metadata": {},
   "source": [
    "Para las siguientes reglas se considerará la función $f(x)=e^{-x^2}$ la cual tiene una forma:"
   ]
  },
  {
   "cell_type": "code",
   "execution_count": 2,
   "metadata": {},
   "outputs": [],
   "source": [
    "f=lambda x: np.exp(-x**2)"
   ]
  },
  {
   "cell_type": "code",
   "execution_count": 3,
   "metadata": {},
   "outputs": [
    {
     "data": {
      "image/png": "[encoded data removed]",
      "text/plain": [
       "<Figure size 432x288 with 1 Axes>"
      ]
     },
     "metadata": {
      "needs_background": "light"
     },
     "output_type": "display_data"
    }
   ],
   "source": [
    "x=np.arange(-1,1,.01)\n",
    "plt.plot(x,f(x))\n",
    "plt.title('f(x)=exp(-x^2)')\n",
    "plt.show()"
   ]
  },
  {
   "cell_type": "markdown",
   "metadata": {},
   "source": [
    "El valor de la integral $\\int_0^1e^{-x^2}dx$ es:"
   ]
  },
  {
   "cell_type": "code",
   "execution_count": 4,
   "metadata": {},
   "outputs": [],
   "source": [
    "obj, err = quad(f, 0, 1)"
   ]
  },
  {
   "cell_type": "code",
   "execution_count": 5,
   "metadata": {},
   "outputs": [
    {
     "data": {
      "text/plain": [
       "(0.7468241328124271, 8.291413475940725e-15)"
      ]
     },
     "execution_count": 5,
     "metadata": {},
     "output_type": "execute_result"
    }
   ],
   "source": [
    "(obj,err)"
   ]
  },
  {
   "cell_type": "markdown",
   "metadata": {},
   "source": [
    "**Obs:** el segundo valor regresado `err`, es una cota superior del error."
   ]
  },
  {
   "cell_type": "markdown",
   "metadata": {},
   "source": [
    "### Regla simple del rectángulo"
   ]
  },
  {
   "cell_type": "markdown",
   "metadata": {},
   "source": [
    "Denotaremos a esta regla como $Rf$. En este caso se aproxima el integrando $f$ por un polinomio de grado **cero** con nodo en $x_1 = \\frac{a+b}{2}$. Entonces: \n",
    "\n",
    "$$\\displaystyle \\int_a^bf(x)dx \\approx \\int_a^bf(x_1)dx = (b-a)f(x_1)=(b-a)f\\left( \\frac{a+b}{2} \\right ) = hf(x_1)$$\n",
    "\n",
    "con $h=b-a, x_1=\\frac{a+b}{2}$.\n"
   ]
  },
  {
   "cell_type": "markdown",
   "metadata": {},
   "source": [
    "<p align=\"centered\">\n",
    "<img src=\"https://drive.google.com/uc?export=view&id=1W7K581_n95ez2KXcjWs61CvZqY9EVMH8\" heigth=\"200\" width=\"200\">\n",
    "</p>"
   ]
  },
  {
   "cell_type": "markdown",
   "metadata": {},
   "source": [
    "**Ejemplo de implantación de regla simple de rectángulo: usando math**"
   ]
  },
  {
   "cell_type": "markdown",
   "metadata": {},
   "source": [
    "Utilizar la regla simple del rectángulo para aproximar la integral $\\displaystyle \\int_0^1e^{-x^2}dx$."
   ]
  },
  {
   "cell_type": "code",
   "execution_count": 6,
   "metadata": {},
   "outputs": [],
   "source": [
    "f=lambda x: math.exp(-x**2) #using math library"
   ]
  },
  {
   "cell_type": "code",
   "execution_count": 7,
   "metadata": {},
   "outputs": [],
   "source": [
    "def Rf(f,a,b):\n",
    "    nodo=a+(b-a)/2.0 #mid point formula to minimize rounding errors\n",
    "    return f(nodo) #polinomio de grado cero"
   ]
  },
  {
   "cell_type": "code",
   "execution_count": 8,
   "metadata": {},
   "outputs": [
    {
     "data": {
      "text/plain": [
       "0.7788007830714049"
      ]
     },
     "execution_count": 8,
     "metadata": {},
     "output_type": "execute_result"
    }
   ],
   "source": [
    "Rf(f,0,1)"
   ]
  },
  {
   "cell_type": "markdown",
   "metadata": {},
   "source": [
    "### Regla compuesta del rectángulo"
   ]
  },
  {
   "cell_type": "markdown",
   "metadata": {},
   "source": [
    "En cada subintervalo se aplica la regla simple $Rf$, esto es:\n",
    "\n",
    "$$\\displaystyle \\int_{x_{i-1}}^{x_i}f(x)dx \\approx R_i(f) \\forall i=1,\\dots,n.$$"
   ]
  },
  {
   "cell_type": "markdown",
   "metadata": {},
   "source": [
    "De forma sencilla se puede ver que la regla compuesta del rectángulo $R_c(f)$ se escribe:\n",
    "\n",
    "$$R_c(f) = \\displaystyle \\sum_{i=1}^n(x_i-x_{i-1})f\\left( \\frac{x_i+x_{i-1}}{2}\\right) = \\frac{h}{n}\\sum_{i=1}^nf\\left( \\frac{x_i+x_{i-1}}{2}\\right)$$\n",
    "\n",
    "con $h=b-a$ y $n$ número de subintervalos."
   ]
  },
  {
   "cell_type": "markdown",
   "metadata": {},
   "source": [
    "<p align=\"centered\">\n",
    "<img src=\"https://drive.google.com/uc?export=view&id=1lSQp4VEKRVsF38GKzaME-FhTzRVDFMIA\" heigth=\"200\" width=\"200\">\n",
    "</p>"
   ]
  },
  {
   "cell_type": "markdown",
   "metadata": {},
   "source": [
    "**Nota:** Los nodos para el caso del rectángulo se obtienen con la fórmula: $x_i = a +(i+\\frac{1}{2})\\hat{h}, \\forall i=0,\\dots,n-1, \\hat{h}=\\frac{h}{n}$."
   ]
  },
  {
   "cell_type": "markdown",
   "metadata": {},
   "source": [
    "**Ejemplo de implantación de regla compuesta de rectángulo: usando math**"
   ]
  },
  {
   "cell_type": "markdown",
   "metadata": {},
   "source": [
    "Utilizar la regla compuesta del rectángulo para aproximar la integral $\\int_0^1e^{-x^2}dx$."
   ]
  },
  {
   "cell_type": "code",
   "execution_count": 9,
   "metadata": {},
   "outputs": [],
   "source": [
    "f=lambda x: math.exp(-x**2) #using math library"
   ]
  },
  {
   "cell_type": "code",
   "execution_count": 10,
   "metadata": {},
   "outputs": [],
   "source": [
    "def Rcf(f,a,b,n): #Rcf: rectángulo compuesto para f\n",
    "    \"\"\"\n",
    "    Compute numerical approximation using rectangle or mid-point method in \n",
    "    an interval.\n",
    "    Nodes are generated via formula: x_i = a+(i+1/2)h_hat for i=0,1,...,n and h_hat=(b-a)/n\n",
    "    Args:\n",
    "        f (lambda expression): lambda expression of integrand\n",
    "        a (int): left point of interval\n",
    "        b (int): right point of interval\n",
    "        n (int): number of subintervals\n",
    "    Returns:\n",
    "        Rcf (float) \n",
    "    \"\"\"\n",
    "    h_hat=(b-a)/n\n",
    "    nodes=[a+(i+1/2)*h_hat for i in range(0,n)]\n",
    "    sum_res=0\n",
    "    for node in nodes:\n",
    "        sum_res=sum_res+f(node)\n",
    "    return h_hat*sum_res "
   ]
  },
  {
   "cell_type": "code",
   "execution_count": 11,
   "metadata": {},
   "outputs": [
    {
     "data": {
      "text/plain": [
       "0.7788007830714049"
      ]
     },
     "execution_count": 11,
     "metadata": {},
     "output_type": "execute_result"
    }
   ],
   "source": [
    "aprox_1=Rcf(f,0,1,1)\n",
    "aprox_1"
   ]
  },
  {
   "cell_type": "code",
   "execution_count": 12,
   "metadata": {},
   "outputs": [
    {
     "data": {
      "text/plain": [
       "0.7545979437721995"
      ]
     },
     "execution_count": 12,
     "metadata": {},
     "output_type": "execute_result"
    }
   ],
   "source": [
    "aprox_2=Rcf(f,0,1,2)\n",
    "aprox_2"
   ]
  },
  {
   "cell_type": "code",
   "execution_count": 13,
   "metadata": {},
   "outputs": [
    {
     "data": {
      "text/plain": [
       "0.7545979437721995"
      ]
     },
     "execution_count": 13,
     "metadata": {},
     "output_type": "execute_result"
    }
   ],
   "source": [
    "aprox_2=Rcf(f,0,1,2)\n",
    "aprox_2"
   ]
  },
  {
   "cell_type": "code",
   "execution_count": 14,
   "metadata": {},
   "outputs": [
    {
     "data": {
      "text/plain": [
       "0.746824163469049"
      ]
     },
     "execution_count": 14,
     "metadata": {},
     "output_type": "execute_result"
    }
   ],
   "source": [
    "aprox_3=Rcf(f,0,1,10**3)\n",
    "aprox_3"
   ]
  },
  {
   "cell_type": "markdown",
   "metadata": {},
   "source": [
    "Y se puede evaluar el error de aproximación con el error relativo:"
   ]
  },
  {
   "cell_type": "code",
   "execution_count": 15,
   "metadata": {},
   "outputs": [],
   "source": [
    "def err_relativo(aprox, obj):\n",
    "    return math.fabs(aprox-obj)/math.fabs(obj) #obsérvese el uso de la librería math"
   ]
  },
  {
   "cell_type": "code",
   "execution_count": 16,
   "metadata": {},
   "outputs": [
    {
     "data": {
      "text/plain": [
       "(0.04281684114646715, 0.010409158754012628, 4.1049318789768585e-08)"
      ]
     },
     "execution_count": 16,
     "metadata": {},
     "output_type": "execute_result"
    }
   ],
   "source": [
    "obj, err = quad(f, 0, 1)\n",
    "(err_relativo(aprox_1,obj), err_relativo(aprox_2,obj), err_relativo(aprox_3,obj))"
   ]
  },
  {
   "cell_type": "markdown",
   "metadata": {},
   "source": [
    "**Pregunta: será el método del rectángulo un método estable numéricamente bajo el redondeo?** Ver nota [1.3.Condicion_de_un_problema_y_estabilidad_de_un_algoritmo](https://github.com/ITAM-DS/analisis-numerico-computo-cientifico/blob/master/temas/I.computo_cientifico/1.3.Condicion_de_un_problema_y_estabilidad_de_un_algoritmo.ipynb) para definición de estabilidad numérica de un algoritmo."
   ]
  },
  {
   "cell_type": "code",
   "execution_count": 17,
   "metadata": {},
   "outputs": [
    {
     "data": {
      "text/plain": [
       "0.7468241328154887"
      ]
     },
     "execution_count": 17,
     "metadata": {},
     "output_type": "execute_result"
    }
   ],
   "source": [
    "aprox_4=Rcf(f,0,1,10**5)\n",
    "aprox_4"
   ]
  },
  {
   "cell_type": "code",
   "execution_count": 18,
   "metadata": {},
   "outputs": [
    {
     "data": {
      "text/plain": [
       "4.099426997862257e-12"
      ]
     },
     "execution_count": 18,
     "metadata": {},
     "output_type": "execute_result"
    }
   ],
   "source": [
    "err_relativo(aprox_4,obj)"
   ]
  },
  {
   "cell_type": "markdown",
   "metadata": {},
   "source": [
    "Al menos para este ejemplo con $10^5$ nodos parece ser numéricamente estable... "
   ]
  },
  {
   "cell_type": "markdown",
   "metadata": {},
   "source": [
    "### Regla compuesta del trapecio"
   ]
  },
  {
   "cell_type": "markdown",
   "metadata": {},
   "source": [
    "<p align=\"centered\">\n",
    "<img src=\"https://drive.google.com/uc?export=view&id=1D9W8vNVfcKNGa1qA6STBwOqqmYc9p32z\" heigth=\"200\" width=\"200\">\n",
    "</p>"
   ]
  },
  {
   "cell_type": "markdown",
   "metadata": {},
   "source": [
    "En cada subintervalo se aplica la regla simple $Tf$, esto es:\n",
    "\n",
    "$$\\displaystyle \\int_{x_{i-1}}^{x_i}f(x)dx \\approx T_i(f) \\forall i=1,\\dots,n.$$"
   ]
  },
  {
   "cell_type": "markdown",
   "metadata": {},
   "source": [
    "Con $T_i(f) = \\frac{(x_i-x_{i-1})}{2}(f(x_i)+f(x_{i-1}))$ para $i=1,\\dots,n$."
   ]
  },
  {
   "cell_type": "markdown",
   "metadata": {},
   "source": [
    "De forma sencilla se puede ver que la regla compuesta del trapecio $T_c(f)$ se escribe como:\n",
    "\n",
    "$$T_c(f) = \\displaystyle \\frac{h}{2n}\\left[f(x_0)+f(x_n)+2\\displaystyle\\sum_{i=1}^{n-1}f(x_i)\\right]$$\n",
    "\n",
    "con $h=b-a$ y $n$ número de subintervalos."
   ]
  },
  {
   "cell_type": "markdown",
   "metadata": {},
   "source": [
    "**Nota:** Los nodos para el caso del trapecio se obtienen con la fórmula: $x_i = a +i\\hat{h}, \\forall i=1,\\dots,n, \\hat{h}=\\frac{h}{n}$."
   ]
  },
  {
   "cell_type": "markdown",
   "metadata": {},
   "source": [
    "**Ejemplo de implementación de regla compuesta del trapecio: usando numpy**"
   ]
  },
  {
   "cell_type": "markdown",
   "metadata": {},
   "source": [
    "Con la regla compuesta del trapecio se aproximará la integral $\\int_0^1e^{-x^2}dx$. Se calculará el error relativo y  graficará $n$ vs Error relativo para $n=1,10,100,1000,10000$."
   ]
  },
  {
   "cell_type": "code",
   "execution_count": 19,
   "metadata": {},
   "outputs": [],
   "source": [
    "f=lambda x: np.exp(-x**2) #using numpy library"
   ]
  },
  {
   "cell_type": "code",
   "execution_count": 20,
   "metadata": {},
   "outputs": [],
   "source": [
    "def Tcf(n,f,a,b): #Tcf: trapecio compuesto para f\n",
    "    \"\"\"\n",
    "    Compute numerical approximation using trapezoidal rule in \n",
    "    an interval.\n",
    "    Nodes are generated via numpy\n",
    "    Args:\n",
    "        f (lambda expression): lambda expression of integrand\n",
    "        a (int): left point of interval\n",
    "        b (int): right point of interval\n",
    "        n (int): number of subintervals\n",
    "    Returns:\n",
    "        Tcf (float) \n",
    "    \"\"\"\n",
    "    h=b-a\n",
    "    nodes=np.linspace(a,b,n+1)\n",
    "    sum_res=sum(f(nodes[1:-1]))\n",
    "    return h/(2*n)*(f(nodes[0])+f(nodes[-1])+2*sum_res)"
   ]
  },
  {
   "cell_type": "markdown",
   "metadata": {},
   "source": [
    "Graficamos:"
   ]
  },
  {
   "cell_type": "code",
   "execution_count": 21,
   "metadata": {},
   "outputs": [],
   "source": [
    "numb_of_subintervals=(1,10,100,1000,10000)"
   ]
  },
  {
   "cell_type": "code",
   "execution_count": 22,
   "metadata": {},
   "outputs": [],
   "source": [
    "approx = np.array([Tcf(n,f,0,1) for n in numb_of_subintervals])"
   ]
  },
  {
   "cell_type": "code",
   "execution_count": 23,
   "metadata": {},
   "outputs": [],
   "source": [
    "def err_relativo(aprox, obj):\n",
    "    return np.abs(aprox-obj)/np.abs(obj) #obsérvese el uso de la librería numpy"
   ]
  },
  {
   "cell_type": "code",
   "execution_count": 24,
   "metadata": {},
   "outputs": [],
   "source": [
    "err_relativo_res = err_relativo(approx,obj)"
   ]
  },
  {
   "cell_type": "code",
   "execution_count": 25,
   "metadata": {},
   "outputs": [
    {
     "data": {
      "text/plain": [
       "array([8.42024373e-02, 8.21259857e-04, 8.20989064e-06, 8.20986364e-08,\n",
       "       8.20987410e-10])"
      ]
     },
     "execution_count": 25,
     "metadata": {},
     "output_type": "execute_result"
    }
   ],
   "source": [
    "err_relativo_res"
   ]
  },
  {
   "cell_type": "code",
   "execution_count": 26,
   "metadata": {},
   "outputs": [
    {
     "data": {
      "image/png": "[encoded data removed]",
      "text/plain": [
       "<Figure size 432x288 with 1 Axes>"
      ]
     },
     "metadata": {
      "needs_background": "light"
     },
     "output_type": "display_data"
    }
   ],
   "source": [
    "plt.plot(numb_of_subintervals,err_relativo_res,'.')\n",
    "plt.xlabel('number of subintervals')\n",
    "plt.ylabel('Relative error')\n",
    "plt.title('Error relativo en la regla del Trapecio')\n",
    "plt.show()"
   ]
  },
  {
   "cell_type": "markdown",
   "metadata": {},
   "source": [
    "Si no nos interesa el valor de los errores relativos y sólo la gráfica podemos utilizar la siguiente opción:"
   ]
  },
  {
   "cell_type": "code",
   "execution_count": 27,
   "metadata": {},
   "outputs": [],
   "source": [
    "from functools import partial"
   ]
  },
  {
   "cell_type": "markdown",
   "metadata": {},
   "source": [
    "Ver [liga](https://stackoverflow.com/questions/15331726/how-does-functools-partial-do-what-it-does) para una explicación de `partial` y [liga2](https://stackoverflow.com/questions/10834960/how-to-do-multiple-arguments-to-map-function-where-one-remains-the-same-in-pytho), [liga3](https://stackoverflow.com/questions/47859209/how-to-map-over-a-function-with-multiple-arguments-in-python) para ejemplos de uso."
   ]
  },
  {
   "cell_type": "code",
   "execution_count": 28,
   "metadata": {},
   "outputs": [],
   "source": [
    "approx=map(partial(Tcf,f=f,a=0,b=1),numb_of_subintervals) #map regresa un iterator"
   ]
  },
  {
   "cell_type": "code",
   "execution_count": 29,
   "metadata": {},
   "outputs": [],
   "source": [
    "def err_relativo(aprox_map, obj):\n",
    "    for ap in aprox_map:\n",
    "        yield math.fabs(ap-obj)/math.fabs(obj) #obsérvese el uso de la librería math"
   ]
  },
  {
   "cell_type": "code",
   "execution_count": 30,
   "metadata": {},
   "outputs": [],
   "source": [
    "err_relativo_res = err_relativo(approx,obj)"
   ]
  },
  {
   "cell_type": "code",
   "execution_count": 31,
   "metadata": {},
   "outputs": [
    {
     "data": {
      "image/png": "[encoded data removed]",
      "text/plain": [
       "<Figure size 432x288 with 1 Axes>"
      ]
     },
     "metadata": {
      "needs_background": "light"
     },
     "output_type": "display_data"
    }
   ],
   "source": [
    "plt.plot(numb_of_subintervals,list(err_relativo_res),'*')\n",
    "plt.xlabel('number of subintervals')\n",
    "plt.ylabel('Relative error')\n",
    "plt.title('Error relativo en la regla del Trapecio')\n",
    "plt.show()"
   ]
  },
  {
   "cell_type": "markdown",
   "metadata": {},
   "source": [
    "**usando scatter:**"
   ]
  },
  {
   "cell_type": "code",
   "execution_count": 32,
   "metadata": {},
   "outputs": [],
   "source": [
    "approx=map(partial(Tcf,f=f,a=0,b=1),numb_of_subintervals) #map regresa un iterator"
   ]
  },
  {
   "cell_type": "code",
   "execution_count": 33,
   "metadata": {},
   "outputs": [],
   "source": [
    "err_relativo_res = err_relativo(approx,obj)"
   ]
  },
  {
   "cell_type": "code",
   "execution_count": 34,
   "metadata": {},
   "outputs": [
    {
     "data": {
      "image/png": "[encoded data removed]",
      "text/plain": [
       "<Figure size 432x288 with 1 Axes>"
      ]
     },
     "metadata": {
      "needs_background": "light"
     },
     "output_type": "display_data"
    }
   ],
   "source": [
    "[plt.scatter(n,err_rel) for n,err_rel in zip(numb_of_subintervals,err_relativo_res)]\n",
    "plt.xlabel('number of subintervals')\n",
    "plt.ylabel('Relative error')\n",
    "plt.title('Error relativo en la regla del Trapecio')\n",
    "plt.show()"
   ]
  },
  {
   "cell_type": "markdown",
   "metadata": {},
   "source": [
    "### Regla compuesta de Simpson"
   ]
  },
  {
   "cell_type": "markdown",
   "metadata": {},
   "source": [
    "<p align=\"centered\">\n",
    "<img src=\"https://drive.google.com/uc?export=view&id=1ytLsDbXmtXzQdwompjtJgtb1HOV0JdcR\" heigth=\"200\" width=\"200\">\n",
    "</p>"
   ]
  },
  {
   "cell_type": "markdown",
   "metadata": {},
   "source": [
    "En cada subintervalo se aplica la regla simple $Sf$, esto es:\n",
    "\n",
    "$$\\displaystyle \\int_{x_{i-1}}^{x_i}f(x)dx \\approx S_i(f) \\forall i=1,\\dots,n$$\n",
    "\n",
    "con $n$ par y $S_i(f) = \\frac{h}{6}\\left[f(x_{2i}+f(x_{2i-2})+4f(x_{2i-1})\\right]$ para $i=1,\\dots,\\frac{n}{2}$.."
   ]
  },
  {
   "cell_type": "markdown",
   "metadata": {},
   "source": [
    "De forma sencilla se puede ver que la regla compuesta del trapecio $S_c(f)$ se escribe como:\n",
    "\n",
    "$$S_c(f) = \\displaystyle \\frac{h}{3n} \\left [ f(x_0) + f(x_n) + 2 \\sum_{i=1}^{\\frac{n}{2}-1}f(x_{2i}) + 4 \\sum_{i=1}^{\\frac{n}{2}}f(x_{2i-1})\\right ] $$\n",
    "\n",
    "con $h=b-a$ y $n$ número de subintervalos (par)."
   ]
  },
  {
   "cell_type": "markdown",
   "metadata": {},
   "source": [
    "**Nota:** Los nodos para el caso de Simpson se obtienen con la fórmula: $x_i = a +\\frac{i}{2}\\hat{h}, \\forall i=1,\\dots,n, \\hat{h}=\\frac{h}{n}$."
   ]
  },
  {
   "cell_type": "markdown",
   "metadata": {},
   "source": [
    "**Ejercicio: implementar la regla compuesta de Simpson para aproximar la integral $\\int_0^1e^{-x^2}dx$. Calcular error relativo y realizar una gráfica de $n$ vs Error relativo para $n=1,10,100,1000,10000$ utilizando numpy e iterators.**"
   ]
  },
  {
   "cell_type": "markdown",
   "metadata": {},
   "source": [
    "La forma de los errores de las reglas del rectángulo, trapecio y Simpson se pueden obtener con interpolación o con el teorema de Taylor. Ver [liga](https://www.dropbox.com/s/jfrxanjls8kndjp/Diferenciacion_e_Integracion.pdf?dl=0) para detalles y [1.4.Polinomios_de_Taylor_y_diferenciacion_numerica](https://github.com/ITAM-DS/analisis-numerico-computo-cientifico/blob/master/temas/I.computo_cientifico/1.4.Polinomios_de_Taylor_y_diferenciacion_numerica.ipynb) para el teorema. Suponiendo que $f$ cumple con condiciones sobre sus derivadas, tales errores son:\n",
    "\n",
    "\n",
    "$$\\text{Err}Rc(f) = \\frac{b-a}{6}f^{(2)}(\\xi_r)\\hat{h}^2, \\xi_r \\in [a,b]$$"
   ]
  },
  {
   "cell_type": "markdown",
   "metadata": {},
   "source": [
    "$$\\text{Err}Tc(f)=-\\frac{b-a}{12}f^{(2)}(\\xi_t)\\hat{h}^2, \\xi_t \\in [a,b]$$"
   ]
  },
  {
   "cell_type": "markdown",
   "metadata": {},
   "source": [
    "$$\\text{Err}Sc(f)=-\\frac{b-a}{180}f^{(4)}(\\xi_S)\\hat{h}^4, \\xi_S \\in [a,b].$$"
   ]
  },
  {
   "cell_type": "markdown",
   "metadata": {},
   "source": [
    "# Integración por el método de Monte Carlo"
   ]
  },
  {
   "cell_type": "markdown",
   "metadata": {},
   "source": [
    "Los métodos de integración numérica por Monte Carlo son similares a los métodos por cuadratura en el sentido que se eligen puntos en los que se evaluará el integrando para sumar sus valores. La diferencia esencial con los métodos por cuadratura es que en el método de integración por Monte Carlo los puntos son seleccionados de una forma *aleatoria* (de hecho es pseudo-aleatoria pues se generan con un programa de computadora) en lugar de generarse con una fórmula."
   ]
  },
  {
   "cell_type": "markdown",
   "metadata": {},
   "source": [
    "**Problema:** Aproximar numéricamente la integral $\\displaystyle \\int_{\\Omega}f(x)dx$ para $x \\in \\mathbb{R}^N, \\Omega \\subseteq \\mathbb{R}^N, f: \\mathbb{R}^N \\rightarrow \\mathbb{R}$ función tal que la integral esté bien definida en $\\Omega$."
   ]
  },
  {
   "cell_type": "markdown",
   "metadata": {},
   "source": [
    "Por ejemplo para $N=2:$\n",
    "\n",
    "<p align=\"centered\">\n",
    "<img src=\"https://drive.google.com/uc?export=view&id=1A5qJyRYh96G3zGeoPa5IFS1dndAlrzuI\" heigth=\"550\" width=\"550\">\n",
    "</p>\n"
   ]
  },
  {
   "cell_type": "markdown",
   "metadata": {},
   "source": [
    "Para resolver el problema anterior con $\\Omega$ un rectángulo, podemos utilizar las reglas por cuadratura por Newton-Cotes o cuadratura Gaussiana en una dimensión manteniendo fija la otra dimensión. Sin embargo considérese la siguiente situación:\n",
    "\n",
    "La regla del rectángulo (o del punto medio) y del trapecio tienen un error de orden $\\mathcal{O}(h^2)$ independientemente de si se está aproximando integrales de una o más dimensiones. Supóngase que se utilizan $n$ nodos para tener un valor de espaciado igual a $h$, entonces para $N$ dimensiones se requerirían $P=n^N$ evaluaciones del integrando, o bien, si se tiene un valor de $P$ igual a $10, 000$ y $N=4$ dimensiones el error sería del orden $\\mathcal{O}(P^{-2/N})$ lo que implicaría un valor de $h=.1$ para aproximadamente sólo **dos dígitos** correctos en la aproximación (para el enunciado anterior recuérdese que $h$ es proporcional a $n^{-1}$ y $n$ = $P^{1/N}$). Este esfuerzo enorme de evaluar $P$ veces el integrando para una exactitud pequeña se debe al problema de generar puntos para *llenar* un espacio $N$-dimensional y se conoce con el nombre de la maldición de la dimensionalidad, **the curse of dimensionality**."
   ]
  },
  {
   "cell_type": "markdown",
   "metadata": {},
   "source": [
    "Una opción para resolver la situación anterior si no se desea una exactitud grande (por ejemplo con una precisión de $10^{-4}$ o $4$ dígitos es suficiente) es con el método de integración por Monte Carlo (tal nombre por el uso de números aleatorios). La integración por el método de Monte Carlo está basada en la interpretación geométrica de las integrales: calcular la integral del problema inicial implica calcular el **hipervolumen** de $\\Omega$."
   ]
  },
  {
   "cell_type": "markdown",
   "metadata": {},
   "source": [
    "**Ejemplo:**\n",
    "\n",
    "Supóngase que se desea aproximar el área de un círculo centrado en el origen de radio igual a $1$:"
   ]
  },
  {
   "cell_type": "markdown",
   "metadata": {},
   "source": [
    "<p align=\"centered\">\n",
    "<img src=\"https://drive.google.com/uc?export=view&id=18qrT_T0vIQb7tV1c7kG9mXidjnfjaK-x\" heigth=\"300\" width=\"300\">\n",
    "</p>"
   ]
  },
  {
   "cell_type": "markdown",
   "metadata": {},
   "source": [
    "entonces el área de este círculo es $\\pi r^2 = \\pi$."
   ]
  },
  {
   "cell_type": "markdown",
   "metadata": {},
   "source": [
    "Para lo anterior **encerramos** al círculo con un cuadrado de lado $2$:"
   ]
  },
  {
   "cell_type": "markdown",
   "metadata": {},
   "source": [
    "<p align=\"centered\">\n",
    "<img src=\"https://drive.google.com/uc?export=view&id=1EsJ7i9wOpHp6CxzWq5eKG_-DT0e1fx_P\" heigth=\"200\" width=\"200\">\n",
    "</p>"
   ]
  },
  {
   "cell_type": "markdown",
   "metadata": {},
   "source": [
    "Si tenemos $n$ puntos en el cuadrado:"
   ]
  },
  {
   "cell_type": "markdown",
   "metadata": {},
   "source": [
    "<p align=\"centered\">\n",
    "<img src=\"https://drive.google.com/uc?export=view&id=1CDHzSgx2nxHHzyBC_lU8hUCmjbM9jIMH\" heigth=\"200\" width=\"200\">\n",
    "</p>\n"
   ]
  },
  {
   "cell_type": "markdown",
   "metadata": {},
   "source": [
    "y consideramos los $m$ puntos que están dentro del círculo:"
   ]
  },
  {
   "cell_type": "markdown",
   "metadata": {},
   "source": [
    "<p align=\"centered\">\n",
    "<img src=\"https://drive.google.com/uc?export=view&id=1hMLf5fj4HPj8SU9VrGKB8ndjpQq4oRnN\" heigth=\"200\" width=\"200\">\n",
    "</p>\n"
   ]
  },
  {
   "cell_type": "markdown",
   "metadata": {},
   "source": [
    "Entonces: $\\frac{\\text{Área del círculo}}{\\text{Área del cuadrado}} \\approx \\frac{m}{n}$ y se tiene: Área del círculo $\\approx$Área del cuadrado$\\frac{m}{n}$ y si $n$ crece entonces la aproximación es mejor."
   ]
  },
  {
   "cell_type": "markdown",
   "metadata": {},
   "source": [
    "prueba numérica:"
   ]
  },
  {
   "cell_type": "code",
   "execution_count": 35,
   "metadata": {},
   "outputs": [
    {
     "data": {
      "image/png": "[encoded data removed]",
      "text/plain": [
       "<Figure size 432x288 with 1 Axes>"
      ]
     },
     "metadata": {
      "needs_background": "light"
     },
     "output_type": "display_data"
    }
   ],
   "source": [
    "density_p=int(2.5*10**3)\n",
    "x_p=np.random.uniform(-1,1,(density_p,2))\n",
    "plt.scatter(x_p[:,0],x_p[:,1],marker='*',color='g')\n",
    "plt.title('Integración por Monte Carlo')\n",
    "plt.grid()\n",
    "plt.show()"
   ]
  },
  {
   "cell_type": "code",
   "execution_count": 36,
   "metadata": {},
   "outputs": [
    {
     "data": {
      "image/png": "[encoded data removed]",
      "text/plain": [
       "<Figure size 432x288 with 1 Axes>"
      ]
     },
     "metadata": {
      "needs_background": "light"
     },
     "output_type": "display_data"
    }
   ],
   "source": [
    "f=lambda x: np.sqrt(x[:,0]**2 + x[:,1]**2) #definición de norma2\n",
    "ind=f(x_p)<=1\n",
    "x_p_subset=x_p[ind]\n",
    "plt.scatter(x_p_subset[:,0],x_p_subset[:,1],marker='.',color='r')\n",
    "plt.title('Integración por Monte Carlo')\n",
    "plt.grid()\n",
    "plt.show()"
   ]
  },
  {
   "cell_type": "markdown",
   "metadata": {},
   "source": [
    "Área del círculo es aproximadamente:"
   ]
  },
  {
   "cell_type": "code",
   "execution_count": 37,
   "metadata": {},
   "outputs": [
    {
     "data": {
      "text/plain": [
       "3.1328"
      ]
     },
     "execution_count": 37,
     "metadata": {},
     "output_type": "execute_result"
    }
   ],
   "source": [
    "4*len(x_p_subset)/len(x_p)"
   ]
  },
  {
   "cell_type": "markdown",
   "metadata": {},
   "source": [
    "Si aumentamos el número de puntos..."
   ]
  },
  {
   "cell_type": "code",
   "execution_count": 38,
   "metadata": {},
   "outputs": [
    {
     "data": {
      "text/plain": [
       "3.1336"
      ]
     },
     "execution_count": 38,
     "metadata": {},
     "output_type": "execute_result"
    }
   ],
   "source": [
    "density_p=int(10**4)\n",
    "x_p=np.random.uniform(-1,1,(density_p,2))\n",
    "ind=f(x_p)<=1\n",
    "x_p_subset=x_p[ind]\n",
    "4*len(x_p_subset)/len(x_p)"
   ]
  },
  {
   "cell_type": "code",
   "execution_count": 39,
   "metadata": {},
   "outputs": [
    {
     "data": {
      "text/plain": [
       "3.14012"
      ]
     },
     "execution_count": 39,
     "metadata": {},
     "output_type": "execute_result"
    }
   ],
   "source": [
    "density_p=int(10**5)\n",
    "x_p=np.random.uniform(-1,1,(density_p,2))\n",
    "ind=f(x_p)<=1\n",
    "x_p_subset=x_p[ind]\n",
    "4*len(x_p_subset)/len(x_p)"
   ]
  },
  {
   "cell_type": "markdown",
   "metadata": {},
   "source": [
    "**Ejercicios**\n",
    "\n",
    "1. Resuelve los ejercicios y preguntas de la nota.\n"
   ]
  },
  {
   "cell_type": "markdown",
   "metadata": {},
   "source": [
    "**Referencias**\n",
    "\n",
    "1. R. L. Burden, J. D. Faires, Numerical Analysis, Brooks/Cole Cengage Learning, 2005.\n",
    "\n",
    "2. M. T. Heath, Scientific Computing. An Introductory Survey, McGraw-Hill, 2002.\n",
    "\n",
    "3. Nota [1.2.Sistema_de_punto_flotante](https://github.com/ITAM-DS/analisis-numerico-computo-cientifico/blob/master/temas/I.computo_cientifico/1.2.Sistema_de_punto_flotante.ipynb))\n",
    "\n",
    "4. Nota [1.3.Condicion_de_un_problema_y_estabilidad_de_un_algoritmo](https://github.com/ITAM-DS/analisis-numerico-computo-cientifico/blob/master/temas/I.computo_cientifico/1.3.Condicion_de_un_problema_y_estabilidad_de_un_algoritmo.ipynb)\n",
    "\n",
    "5. [1.4.Polinomios_de_Taylor_y_diferenciacion_numerica](https://github.com/ITAM-DS/analisis-numerico-computo-cientifico/blob/master/temas/I.computo_cientifico/1.4.Polinomios_de_Taylor_y_diferenciacion_numerica.ipynb)"
   ]
  },
  {
   "cell_type": "code",
   "execution_count": null,
   "metadata": {},
   "outputs": [],
   "source": []
  }
 ],
 "metadata": {
  "kernelspec": {
   "display_name": "Python 3",
   "language": "python",
   "name": "python3"
  },
  "language_info": {
   "codemirror_mode": {
    "name": "ipython",
    "version": 3
   },
   "file_extension": ".py",
   "mimetype": "text/x-python",
   "name": "python",
   "nbconvert_exporter": "python",
   "pygments_lexer": "ipython3",
   "version": "3.6.9"
  }
 },
 "nbformat": 4,
 "nbformat_minor": 4
}
