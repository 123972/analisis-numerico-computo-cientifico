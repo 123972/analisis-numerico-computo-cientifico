{
 "cells": [
  {
   "cell_type": "markdown",
   "metadata": {},
   "source": [
    "# 1.2.Sistema de punto flotante"
   ]
  },
  {
   "cell_type": "markdown",
   "metadata": {},
   "source": [
    "## Representación de los números en la computadora"
   ]
  },
  {
   "cell_type": "markdown",
   "metadata": {},
   "source": [
    "Las computadoras utilizan una determinada cantidad de cifras de un número real para realizar operaciones. Además, utilizan una representación de los números en bases no usadas por las personas para realizar cálculos comunes, ejemplos son la **2, 8 o 16**.  En contraste, las personas utilizamos la base **10** para representar a los números y realizar cálculos."
   ]
  },
  {
   "cell_type": "markdown",
   "metadata": {},
   "source": [
    "A continuación se muestran construcciones que se han hecho para representar los números en una computadora."
   ]
  },
  {
   "cell_type": "markdown",
   "metadata": {},
   "source": [
    "### Enteros"
   ]
  },
  {
   "cell_type": "markdown",
   "metadata": {},
   "source": [
    "Tenemos distintos métodos para la representación de los enteros en una computadora, pero uno que es más utilizado es el de \"magnitud con signo\" en el que se utiliza un bit para el signo del número y los bits restantes para almacenar al número. El primer bit se le da el valor de $0$ para  codificar al signo `+` y el valor $1$ codifica al bit `-`. Entonces el número $-173$ se almacena con la cadena de $16$ bits:\n",
    "\n",
    "| | | | | | | | | | | | | | | | |\n",
    "|:---:|:---:|:---:|:---:|:---:|:---:|:---:|:---:|:---:|:---:|:---:|:---:|:---:|:---:|:---:|:---:|\n",
    "|1|0|0|0|0|0|0|0|1|0|1|0|1|1|0|1|\n",
    "\n"
   ]
  },
  {
   "cell_type": "markdown",
   "metadata": {},
   "source": [
    "Utilizamos la notación posicional para convertir este número binario a base 10: el primer bit es $1$ por lo que se tiene un signo negativo. Luego:\n",
    "\n",
    "$$0*2^{14} + 0*2^{13} + \\dots+ 1*2^7+0*2^6+ 1*2^5+0*2^4+1*2^3+1*2^2+0*2^1+1*2^0 = 1*2^7+ 1*2^5+1*2^3+1*2^2+1*2^0 = 173$$"
   ]
  },
  {
   "cell_type": "code",
   "execution_count": 2,
   "metadata": {},
   "outputs": [
    {
     "name": "stdout",
     "output_type": "stream",
     "text": [
      "suma: 173.000000"
     ]
    }
   ],
   "source": [
    "#include<stdio.h>\n",
    "#include<math.h>\n",
    "int main(){\n",
    "    printf(\"suma: %f\",pow(2,7)+pow(2,5)+pow(2,3)+pow(2,2)+pow(2,0));\n",
    "    return 0;\n",
    "}"
   ]
  },
  {
   "cell_type": "markdown",
   "metadata": {},
   "source": [
    "**Ejercicio:**\n",
    "\n",
    "Determina el rango de enteros de base $10$ que puede representarse en una computadora de $16$ bits utilizando el primer bit para el signo"
   ]
  },
  {
   "cell_type": "markdown",
   "metadata": {},
   "source": [
    "### Reales"
   ]
  },
  {
   "cell_type": "markdown",
   "metadata": {},
   "source": [
    "Dadas las limitaciones en el almacenamiento de una computadora (hardware), sólo se representa un subconjunto de los números reales en ella, tal conjunto se denota como $\\mathcal{F}\\mathcal{l}$ y contiene números racionales:\n",
    "\n",
    "$$\\mathcal{F}\\mathcal{l} \\subset \\mathbb{Q} \\subset \\mathbb{R}.$$\n"
   ]
  },
  {
   "cell_type": "markdown",
   "metadata": {},
   "source": [
    "**Un poco de historia...**\n",
    "En 1985 la IEEE publicó un estándar de nombre [Binary Floating Point Arithmetic Standard 754-1985](https://standards.ieee.org/standard/754-1985.html) y ha habido más estándares publicados, siendo el más reciente el [IEEE 754-2019](https://standards.ieee.org/standard/754-2019.html). El estándar $754-1985$ proveía estándares para números de punto flotante binarios y decimales, formatos para intercambio de datos, algoritmos para operaciones de redondeo y manejo de excepciones. Los formatos se especificaron para precisiones simple, doble y extendida y tales estándares son seguidos por las manufactureras de computadoras que utilizan el hardware de punto flotante.\n",
    "\n",
    "\"A family of commercially feasible ways for new systems to perform binary floating-point arithmetic is defined. This standard specifies basic and extended floating-point number formats; add, subtract, multiply, divide, square root, remainder, and compare operations; conversions between integer and floating-point formats; conversions between different floating-point formats; conversions between basic-format floating-point numbers and decimal strings; and floating-point exceptions and their handling, including nonnumbers.\" (estándar $754-1985$)"
   ]
  },
  {
   "cell_type": "markdown",
   "metadata": {},
   "source": [
    "## Sistema de punto flotante (SPF)"
   ]
  },
  {
   "cell_type": "markdown",
   "metadata": {},
   "source": [
    "En un sistema de punto flotante se define:\n",
    "\n",
    "1. Rango de un exponente definido por un límite inferior y uno superior.\n",
    "\n",
    "2. Base del sistema.\n",
    "\n",
    "3. Precisión."
   ]
  },
  {
   "cell_type": "markdown",
   "metadata": {},
   "source": [
    "Así, un número $x$ en el SPF, $x \\in \\mathcal{F}\\mathcal{l}$ se representa de la forma:\n",
    "\n",
    "$$\\pm 0.d_1d_2 \\dots d_k \\times \\beta^n .$$\n",
    "\n",
    "donde:\n",
    "\n",
    "$n$ es el exponente, $n \\in [L,U] \\cap \\mathbb{Z}$ con $L, U$ fijos.\n",
    "\n",
    "$k$ es la precisión.\n",
    "\n",
    "$\\beta$ es la base.\n",
    "\n",
    "$d_i \\in \\{0,1,\\dots,\\beta-1\\} \\forall i=1,\\dots,k$ son los dígitos.\n",
    "\n",
    "**Obs:** a la parte $\\pm 0.d_1d_2 \\dots d_k$ se le llama **mantisa**."
   ]
  },
  {
   "cell_type": "markdown",
   "metadata": {},
   "source": [
    "Los números reales que tienen una representación exacta en el $\\mathcal{F}\\mathcal{l}$ se les conoce como **números de máquina**.\n",
    "\n",
    "**Ejemplo:**\n",
    "\n",
    "Supóngase un $\\mathcal{F}\\mathcal{l}$ con $\\beta = 10, k=4, n\\in[-4,3]\\cap \\mathbb{Z}$ entonces:\n",
    "\n",
    "$$0.333 \\times 10^{-1} , 0.3300 \\times 10^{3} \\in \\mathcal{F}\\mathcal{L}$$\n",
    "\n",
    "pero: $$\\frac{1}{3} \\notin \\mathcal{F}\\mathcal{l}$$\n",
    "\n",
    "por lo que $0.333 \\times 10^{-1} , 0.3300 \\times 10^{3}$ son números de máquina."
   ]
  },
  {
   "cell_type": "markdown",
   "metadata": {},
   "source": [
    "## SPFN"
   ]
  },
  {
   "cell_type": "markdown",
   "metadata": {},
   "source": [
    "Un Sistema de Punto Flotante Normalizado es aquel que cumple: $$d_1 \\in \\{1,2,\\dots \\beta -1\\}.$$ para números distintos de cero.\n",
    "\n",
    "**Obs: el número cero es el único que tiene dígitos de la mantisa y exponente iguales a cero.**"
   ]
  },
  {
   "cell_type": "markdown",
   "metadata": {},
   "source": [
    "**Ejemplos:**\n",
    "\n",
    "1) $\\beta = 10, k=3$, rango del exponente en $[-3,3] \\cap \\mathbb{Z}$, entonces algunos números en el SPFN:\n",
    "\n",
    "|Notación de punto flotante |Mantisa |Exponente|Valor de punto fijo|\n",
    "|:---:|:---:|:---:|:---:|\n",
    "|$0.153\\times10^0$|$0.153$|$0$|$0.153$|\n",
    "|$-0.999\\times10^2$|$-0.999$|$2$|$-99.9$|\n",
    "|$0.343\\times10^{-3}$|$0.343$|$-3$|$0.000343$|"
   ]
  },
  {
   "cell_type": "markdown",
   "metadata": {},
   "source": [
    "2) En un SPFN con $\\beta=2, k=3$, rango del exponente en $[0,2] \\cap \\mathbb{Z}$ se tiene:\n",
    "\n",
    "a) El número más grande positivo que es posible representar es:\n",
    "\n",
    "$$0.111 \\times 2^2 = (11.1)_2 = 1*2^1 + 1*2^0 + 1*2^{-1} = (3.5)_{10}$$\n",
    "\n",
    "b) El más chico positivo es:\n",
    "\n",
    "$$0.100 \\times 2^0 = (0.1)_2 = 1*2^{-1} = (0.5)_{10}$$.\n",
    "\n",
    "**Obs: se utiliza $(\\cdot)_{10}$ para representar un número en base 10 pero típicamente se omite escribir paréntesis y la base.**"
   ]
  },
  {
   "cell_type": "markdown",
   "metadata": {},
   "source": []
  },
  {
   "cell_type": "markdown",
   "metadata": {},
   "source": [
    "## Características de un SPFN de doble precisión"
   ]
  },
  {
   "cell_type": "markdown",
   "metadata": {},
   "source": [
    "El número de máquina más grande positivo es del orden de $2^{1023}(2-2^{-52}) \\approx 10^{308}$."
   ]
  },
  {
   "cell_type": "code",
   "execution_count": 1,
   "metadata": {},
   "outputs": [
    {
     "name": "stdout",
     "output_type": "stream",
     "text": [
      "Numéro más grande positivo: 1.797693e+308\n"
     ]
    }
   ],
   "source": [
    "#include<stdio.h>\n",
    "#include<float.h>\n",
    "int main(){\n",
    "    printf(\"Numéro más grande positivo: %e\\n\", DBL_MAX);\n",
    "    return 0;\n",
    "}\n"
   ]
  },
  {
   "cell_type": "markdown",
   "metadata": {},
   "source": [
    "El número de máquina normalizado más chico positivo es del orden de $2^{-1022} \\approx 10^{-308}$."
   ]
  },
  {
   "cell_type": "code",
   "execution_count": 2,
   "metadata": {},
   "outputs": [
    {
     "name": "stdout",
     "output_type": "stream",
     "text": [
      "Numéro más chico positivo: 2.225074e-308\n"
     ]
    }
   ],
   "source": [
    "#include<stdio.h>\n",
    "#include<float.h>\n",
    "int main(){\n",
    "    printf(\"Numéro más chico positivo: %e\\n\", DBL_MIN);\n",
    "    return 0;\n",
    "}\n"
   ]
  },
  {
   "cell_type": "markdown",
   "metadata": {},
   "source": [
    "El número de máquina no normalizado más chico positivo es del orden de $2^{-1074} \\approx 10^{-324}$."
   ]
  },
  {
   "cell_type": "code",
   "execution_count": 3,
   "metadata": {},
   "outputs": [
    {
     "name": "stdout",
     "output_type": "stream",
     "text": [
      "Numéro más chico positivo: 4.940656e-324\n"
     ]
    }
   ],
   "source": [
    "#include<stdio.h>\n",
    "#include<float.h>\n",
    "int main(){\n",
    "    printf(\"Numéro más chico positivo: %e\\n\", DBL_EPSILON*DBL_MIN);\n",
    "    return 0;\n",
    "}"
   ]
  },
  {
   "cell_type": "markdown",
   "metadata": {},
   "source": [
    "Epsilon de la máquina"
   ]
  },
  {
   "cell_type": "code",
   "execution_count": 4,
   "metadata": {},
   "outputs": [
    {
     "name": "stdout",
     "output_type": "stream",
     "text": [
      "Numéro más chico positivo: 2.220446e-16\n"
     ]
    }
   ],
   "source": [
    "#include<stdio.h>\n",
    "#include<float.h>\n",
    "int main(){\n",
    "    printf(\"Epsilon de la máquina: %e\\n\", DBL_EPSILON);\n",
    "    return 0;\n",
    "}"
   ]
  },
  {
   "cell_type": "code",
   "execution_count": null,
   "metadata": {},
   "outputs": [],
   "source": []
  }
 ],
 "metadata": {
  "kernelspec": {
   "display_name": "C",
   "language": "c",
   "name": "c"
  },
  "language_info": {
   "file_extension": ".c",
   "mimetype": "text/plain",
   "name": "c"
  }
 },
 "nbformat": 4,
 "nbformat_minor": 4
}
