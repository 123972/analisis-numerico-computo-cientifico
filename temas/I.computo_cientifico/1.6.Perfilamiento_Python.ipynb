{
 "cells": [
  {
   "cell_type": "markdown",
   "metadata": {},
   "source": [
    "Esta nota utiliza métodos vistos en [1.5.Integracion_numerica](https://github.com/ITAM-DS/analisis-numerico-computo-cientifico/blob/master/temas/I.computo_cientifico/1.5.Integracion_numerica.ipynb)"
   ]
  },
  {
   "cell_type": "markdown",
   "metadata": {},
   "source": [
    "Comando de docker para ejecución de la nota de forma local:\n",
    "\n",
    "nota: cambiar `<ruta a mi directorio>` por la ruta de directorio que se desea mapear a `/datos` dentro del contenedor de docker.\n",
    "\n",
    "```\n",
    "docker run --rm -v <ruta a mi directorio>:/datos --name jupyterlab_numerical -p 8888:8888 -p 8786:8786 -p 8787:8787 -d palmoreck/jupyterlab_numerical:1.1.0\n",
    "```\n",
    "\n",
    "Detener el contenedor de docker:\n",
    "\n",
    "```\n",
    "docker stop jupyterlab_local\n",
    "```\n"
   ]
  },
  {
   "cell_type": "markdown",
   "metadata": {},
   "source": [
    "Instalamos las herramientas que nos ayudarán al perfilamiento:"
   ]
  },
  {
   "cell_type": "code",
   "execution_count": 1,
   "metadata": {},
   "outputs": [
    {
     "name": "stdout",
     "output_type": "stream",
     "text": [
      "\u001b[33m  WARNING: The script kernprof is installed in '/home/miuser/.local/bin' which is not on PATH.\n",
      "  Consider adding this directory to PATH or, if you prefer to suppress this warning, use --no-warn-script-location.\u001b[0m\n",
      "Note: you may need to restart the kernel to use updated packages.\n"
     ]
    }
   ],
   "source": [
    "%pip install -q --user line_profiler"
   ]
  },
  {
   "cell_type": "code",
   "execution_count": 2,
   "metadata": {},
   "outputs": [
    {
     "name": "stdout",
     "output_type": "stream",
     "text": [
      "\u001b[33m  WARNING: The script mprof is installed in '/home/miuser/.local/bin' which is not on PATH.\n",
      "  Consider adding this directory to PATH or, if you prefer to suppress this warning, use --no-warn-script-location.\u001b[0m\n",
      "Note: you may need to restart the kernel to use updated packages.\n"
     ]
    }
   ],
   "source": [
    "%pip install -q --user memory_profiler"
   ]
  },
  {
   "cell_type": "code",
   "execution_count": 3,
   "metadata": {},
   "outputs": [
    {
     "name": "stdout",
     "output_type": "stream",
     "text": [
      "Note: you may need to restart the kernel to use updated packages.\n"
     ]
    }
   ],
   "source": [
    "%pip install -q --user psutil"
   ]
  },
  {
   "cell_type": "markdown",
   "metadata": {},
   "source": [
    "La siguiente celda reiniciará el kernel de **IPython** para cargar los paquetes instalados en la celda anterior. Dar **Ok** en el mensaje que salga y continuar con el contenido del notebook."
   ]
  },
  {
   "cell_type": "code",
   "execution_count": 4,
   "metadata": {},
   "outputs": [
    {
     "data": {
      "text/plain": [
       "{'status': 'ok', 'restart': True}"
      ]
     },
     "execution_count": 4,
     "metadata": {},
     "output_type": "execute_result"
    }
   ],
   "source": [
    "import IPython\n",
    "app = IPython.Application.instance()\n",
    "app.kernel.do_shutdown(True)"
   ]
  },
  {
   "cell_type": "code",
   "execution_count": 1,
   "metadata": {},
   "outputs": [],
   "source": [
    "import math\n",
    "import numpy as np\n",
    "\n",
    "from scipy.integrate import quad\n",
    "import matplotlib.pyplot as plt"
   ]
  },
  {
   "cell_type": "markdown",
   "metadata": {},
   "source": [
    "# Perfilamiento en Python"
   ]
  },
  {
   "cell_type": "markdown",
   "metadata": {},
   "source": [
    "En esta nota revisamos algunas herramientas de Python para perfilamiento de código: uso de cpu y memoria\n",
    "\n",
    "Medición de tiempos con:\n",
    "\n",
    "* Módulo [time](https://docs.python.org/3/library/time.html#time.time) de Python.\n",
    "\n",
    "* [%time](https://ipython.readthedocs.io/en/stable/interactive/magics.html#magic-time) de comandos de magic. Esta es sólo para medir tiempos de un statement.\n",
    "\n",
    "* [/usr/bin/time](https://en.wikipedia.org/wiki/Time_(Unix)) de `Unix`.\n",
    "\n",
    "* [%timeit](https://ipython.readthedocs.io/en/stable/interactive/magics.html#magic-timeit) de comandos de magic.\n",
    "\n",
    "Perfilamiento:\n",
    "\n",
    "* De CPU con: [line_profiler](https://pypi.org/project/line-profiler/), [CProfile](https://docs.python.org/2/library/profile.html) que es `built-in` en la *standard-library* de Python.\n",
    "\n",
    "* De memoria con: [memory_profiler](https://pypi.org/project/memory-profiler/)."
   ]
  },
  {
   "cell_type": "markdown",
   "metadata": {},
   "source": [
    "## Medición de tiempos"
   ]
  },
  {
   "cell_type": "markdown",
   "metadata": {},
   "source": [
    "El primer acercamiento que usamos en la nota para perfilar nuestro código es identificar qué es lento, otras mediciones son la cantidad de RAM, el I/O en disco o network. "
   ]
  },
  {
   "cell_type": "markdown",
   "metadata": {},
   "source": [
    "### 1) Uso de `time`"
   ]
  },
  {
   "cell_type": "code",
   "execution_count": 2,
   "metadata": {},
   "outputs": [],
   "source": [
    "import time"
   ]
  },
  {
   "cell_type": "markdown",
   "metadata": {},
   "source": [
    "### Regla compuesta del rectángulo"
   ]
  },
  {
   "cell_type": "markdown",
   "metadata": {},
   "source": [
    "**Ejemplo de implementación de regla compuesta de rectángulo: usando math**"
   ]
  },
  {
   "cell_type": "markdown",
   "metadata": {},
   "source": [
    "Utilizar la regla compuesta del rectángulo para aproximar la integral $\\int_0^1e^{-x^2}dx$ con $10^6$ puntos."
   ]
  },
  {
   "cell_type": "code",
   "execution_count": 3,
   "metadata": {},
   "outputs": [],
   "source": [
    "f=lambda x: math.exp(-x**2) #using math library"
   ]
  },
  {
   "cell_type": "code",
   "execution_count": 4,
   "metadata": {},
   "outputs": [],
   "source": [
    "def Rcf(f,a,b,n): #Rcf: rectángulo compuesto para f\n",
    "    \"\"\"\n",
    "    Compute numerical approximation using rectangle or mid-point method in \n",
    "    an interval.\n",
    "    Nodes are generated via formula: x_i = a+(i+1/2)h_hat for i=0,1,...,n and h_hat=(b-a)/n\n",
    "    Args:\n",
    "        f (lambda expression): lambda expression of integrand\n",
    "        a (int): left point of interval\n",
    "        b (int): right point of interval\n",
    "        n (int): number of subintervals\n",
    "    Returns:\n",
    "        Rcf (float) \n",
    "    \"\"\"\n",
    "    h_hat=(b-a)/n\n",
    "    nodes=[a+(i+1/2)*h_hat for i in range(0,n)]\n",
    "    sum_res=0\n",
    "    for node in nodes:\n",
    "        sum_res=sum_res+f(node)\n",
    "    return h_hat*sum_res"
   ]
  },
  {
   "cell_type": "code",
   "execution_count": 5,
   "metadata": {},
   "outputs": [],
   "source": [
    "n=10**6"
   ]
  },
  {
   "cell_type": "code",
   "execution_count": 6,
   "metadata": {},
   "outputs": [],
   "source": [
    "start_time = time.time()\n",
    "aprox=Rcf(f,0,1,n)\n",
    "end_time = time.time()"
   ]
  },
  {
   "cell_type": "code",
   "execution_count": 7,
   "metadata": {},
   "outputs": [
    {
     "name": "stdout",
     "output_type": "stream",
     "text": [
      "Rcf tomó 0.3470885753631592 segundos\n"
     ]
    }
   ],
   "source": [
    "secs = end_time-start_time\n",
    "print(\"Rcf tomó\",secs,\"segundos\" )"
   ]
  },
  {
   "cell_type": "markdown",
   "metadata": {},
   "source": [
    "**Obs:** recuérdese que hay que evaluar que se esté resolviendo correctamente el problema. En este caso el error relativo nos ayuda"
   ]
  },
  {
   "cell_type": "code",
   "execution_count": 8,
   "metadata": {},
   "outputs": [],
   "source": [
    "def err_relativo(aprox, obj):\n",
    "    return math.fabs(aprox-obj)/math.fabs(obj) #obsérvese el uso de la librería math"
   ]
  },
  {
   "cell_type": "code",
   "execution_count": 9,
   "metadata": {},
   "outputs": [
    {
     "data": {
      "text/plain": [
       "6.71939731300312e-14"
      ]
     },
     "execution_count": 9,
     "metadata": {},
     "output_type": "execute_result"
    }
   ],
   "source": [
    "obj, err = quad(f, 0, 1)\n",
    "err_relativo(aprox,obj)"
   ]
  },
  {
   "cell_type": "markdown",
   "metadata": {},
   "source": [
    "**Comentarios:**\n",
    "\n",
    "* Tómese en cuenta que siempre hay variación en el tiempo de ejecución. Debe en este caso considerarse tal variación normal al medir los tiempos o pueden construirse ideas erróneas debido a la variación aleatoria en la toma de tiempo.\n",
    "\n",
    "* También considérese que la máquina en la que se están corriendo las pruebas puede estar realizando otras tareas mientras se ejecuta el código, por ejemplo acceso a la red, al disco a RAM que son factores que pueden causar variación en el tiempo de ejecución del programa.\n",
    "\n",
    "* Si se van a realizar reportes de tiempos, es importante indicar las características de la máquina en la que se están haciendo las pruebas, p.ej. Dell E6420 con un procesador Intel Core I7-2720QM (2.20 GHz, 6 MB cache, Quad Core) y 8 GB de RAM en un Ubuntu $13.10$."
   ]
  },
  {
   "cell_type": "markdown",
   "metadata": {},
   "source": [
    "### 2) Uso de `/usr/bin/time` de Unix"
   ]
  },
  {
   "cell_type": "markdown",
   "metadata": {},
   "source": [
    "Para la línea de comando `/usr/bin/time` primero escribimos el siguiente archivo en la ruta de este notebook:"
   ]
  },
  {
   "cell_type": "code",
   "execution_count": 11,
   "metadata": {},
   "outputs": [
    {
     "name": "stdout",
     "output_type": "stream",
     "text": [
      "Writing Rcf.py\n"
     ]
    }
   ],
   "source": [
    "%%file Rcf.py\n",
    "\n",
    "import math\n",
    "def Rcf(f,a,b,n): #Rcf: rectángulo compuesto para f\n",
    "    \"\"\"\n",
    "    Compute numerical approximation using rectangle or mid-point method in \n",
    "    an interval.\n",
    "    Nodes are generated via formula: x_i = a+(i+1/2)h_hat for i=0,1,...,n and h_hat=(b-a)/n\n",
    "    Args:\n",
    "        f (lambda expression): lambda expression of integrand\n",
    "        a (int): left point of interval\n",
    "        b (int): right point of interval\n",
    "        n (int): number of subintervals\n",
    "    Returns:\n",
    "        Rcf (float) \n",
    "    \"\"\"\n",
    "    h_hat=(b-a)/n\n",
    "    nodes=[a+(i+1/2)*h_hat for i in range(0,n)]\n",
    "    sum_res=0\n",
    "    for node in nodes:\n",
    "        sum_res=sum_res+f(node)\n",
    "    return h_hat*sum_res\n",
    "if __name__==\"__main__\":\n",
    "        n=10**6\n",
    "        f=lambda x: math.exp(-x**2)\n",
    "        print(Rcf(f,0,1,n))"
   ]
  },
  {
   "cell_type": "markdown",
   "metadata": {},
   "source": [
    "Lo siguiente es necesario si no tienen en `/usr/bin/time` el comando"
   ]
  },
  {
   "cell_type": "code",
   "execution_count": 12,
   "metadata": {},
   "outputs": [
    {
     "name": "stdout",
     "output_type": "stream",
     "text": [
      "Reading package lists...\n",
      "Building dependency tree...\n",
      "Reading state information...\n",
      "time is already the newest version (1.7-25.1build1).\n",
      "0 upgraded, 0 newly installed, 0 to remove and 24 not upgraded.\n"
     ]
    }
   ],
   "source": [
    "%%bash\n",
    "sudo apt-get install time"
   ]
  },
  {
   "cell_type": "code",
   "execution_count": 13,
   "metadata": {},
   "outputs": [
    {
     "name": "stdout",
     "output_type": "stream",
     "text": [
      "0.7468241328124773\n"
     ]
    },
    {
     "name": "stderr",
     "output_type": "stream",
     "text": [
      "real 0.41\n",
      "user 0.39\n",
      "sys 0.01\n"
     ]
    }
   ],
   "source": [
    "%%bash\n",
    "/usr/bin/time -p python3 Rcf.py #la p es de portabilidad, ver: http://manpages.ubuntu.com/manpages/xenial/man1/time.1.html\n",
    "                                #para mayor información"
   ]
  },
  {
   "cell_type": "markdown",
   "metadata": {},
   "source": [
    "**Comentario:** se obtienen tres valores:\n",
    "\n",
    "* `real` que mide el wall clock o elapsed time\n",
    "* `user` que mide la cantidad de tiempo que la CPU gastó en la tarea para funciones que no son del kernel.\n",
    "* `sys` que mide la cantidad de tiempo que la CPU gastó en funciones a nivel de kernel.\n",
    "* Si se suma `user` con `sys` se tiene una idea de cuánto tiempo se gastó en la CPU y la diferencia entre este resultado y `real` da una idea de cuánto tiempo se gastó para I/O o también puede dar una idea de la cantidad de tiempo que se ocupó el sistema en correr otras tareas.\n",
    "* La ventaja de `/usr/bin/time` es que no es específico de Python.\n",
    "* Este comando incluye el tiempo que le toma al sistema iniciar el ejecutable de python (que puede ser significativo si se inician muchos procesos vs un sólo proceso). En el caso de tener short-running scripts donde el tiempo de inicio es significativo del tiempo total entonces `/usr/bin/time` puede ser una medida útil."
   ]
  },
  {
   "cell_type": "markdown",
   "metadata": {},
   "source": [
    "* Se puede utilizar la flag `verbose` para obtener más información:"
   ]
  },
  {
   "cell_type": "code",
   "execution_count": 14,
   "metadata": {},
   "outputs": [
    {
     "name": "stdout",
     "output_type": "stream",
     "text": [
      "0.7468241328124773\n"
     ]
    },
    {
     "name": "stderr",
     "output_type": "stream",
     "text": [
      "\tCommand being timed: \"python3 Rcf.py\"\n",
      "\tUser time (seconds): 0.37\n",
      "\tSystem time (seconds): 0.04\n",
      "\tPercent of CPU this job got: 87%\n",
      "\tElapsed (wall clock) time (h:mm:ss or m:ss): 0:00.46\n",
      "\tAverage shared text size (kbytes): 0\n",
      "\tAverage unshared data size (kbytes): 0\n",
      "\tAverage stack size (kbytes): 0\n",
      "\tAverage total size (kbytes): 0\n",
      "\tMaximum resident set size (kbytes): 41204\n",
      "\tAverage resident set size (kbytes): 0\n",
      "\tMajor (requiring I/O) page faults: 0\n",
      "\tMinor (reclaiming a frame) page faults: 9079\n",
      "\tVoluntary context switches: 25\n",
      "\tInvoluntary context switches: 340\n",
      "\tSwaps: 0\n",
      "\tFile system inputs: 16\n",
      "\tFile system outputs: 0\n",
      "\tSocket messages sent: 0\n",
      "\tSocket messages received: 0\n",
      "\tSignals delivered: 0\n",
      "\tPage size (bytes): 4096\n",
      "\tExit status: 0\n"
     ]
    }
   ],
   "source": [
    "%%bash\n",
    "/usr/bin/time --verbose python3 Rcf.py"
   ]
  },
  {
   "cell_type": "markdown",
   "metadata": {},
   "source": [
    "y una explicación (breve) del output se puede encontrar [aquí](http://manpages.ubuntu.com/manpages/xenial/man1/time.1.html). Para el caso de `Major (requiring I/O)` nos interesa que sea $0$ pues indica que el sistema operativo tiene que cargar páginas de datos del disco pues tales datos ya no residen en RAM (por alguna razón)."
   ]
  },
  {
   "cell_type": "markdown",
   "metadata": {},
   "source": [
    "### 3) Uso de `timeit`"
   ]
  },
  {
   "cell_type": "markdown",
   "metadata": {},
   "source": [
    "El módulo de `timeit` es otra forma de medir el tiempo de ejecución en la CPU.\n",
    "\n",
    "**Nota:** el módulo de `timeit` temporalmente desabilita el garbage collector* de Python (esto es, no habrá desalojamiento en memoria de objetos de Python que no se utilicen). Esto puede impactar con un ejemplo del mundo real si el garbage collector es invocado en tus operaciones."
   ]
  },
  {
   "cell_type": "markdown",
   "metadata": {},
   "source": [
    "*sugiero buscar qué es el garbage collector en blogs, por ejemplo: [liga](https://rushter.com/blog/python-garbage-collector/) o [liga2](https://stackify.com/python-garbage-collection/) o [liga3](https://stackoverflow.com/questions/4484167/python-garbage-collector-documentation)."
   ]
  },
  {
   "cell_type": "markdown",
   "metadata": {},
   "source": [
    "## Uso de %timeit"
   ]
  },
  {
   "cell_type": "code",
   "execution_count": 15,
   "metadata": {},
   "outputs": [
    {
     "data": {
      "text/plain": [
       "\u001b[0;31mDocstring:\u001b[0m\n",
       "Time execution of a Python statement or expression\n",
       "\n",
       "Usage, in line mode:\n",
       "  %timeit [-n<N> -r<R> [-t|-c] -q -p<P> -o] statement\n",
       "or in cell mode:\n",
       "  %%timeit [-n<N> -r<R> [-t|-c] -q -p<P> -o] setup_code\n",
       "  code\n",
       "  code...\n",
       "\n",
       "Time execution of a Python statement or expression using the timeit\n",
       "module.  This function can be used both as a line and cell magic:\n",
       "\n",
       "- In line mode you can time a single-line statement (though multiple\n",
       "  ones can be chained with using semicolons).\n",
       "\n",
       "- In cell mode, the statement in the first line is used as setup code\n",
       "  (executed but not timed) and the body of the cell is timed.  The cell\n",
       "  body has access to any variables created in the setup code.\n",
       "\n",
       "Options:\n",
       "-n<N>: execute the given statement <N> times in a loop. If <N> is not\n",
       "provided, <N> is determined so as to get sufficient accuracy.\n",
       "\n",
       "-r<R>: number of repeats <R>, each consisting of <N> loops, and take the\n",
       "best result.\n",
       "Default: 7\n",
       "\n",
       "-t: use time.time to measure the time, which is the default on Unix.\n",
       "This function measures wall time.\n",
       "\n",
       "-c: use time.clock to measure the time, which is the default on\n",
       "Windows and measures wall time. On Unix, resource.getrusage is used\n",
       "instead and returns the CPU user time.\n",
       "\n",
       "-p<P>: use a precision of <P> digits to display the timing result.\n",
       "Default: 3\n",
       "\n",
       "-q: Quiet, do not print result.\n",
       "\n",
       "-o: return a TimeitResult that can be stored in a variable to inspect\n",
       "    the result in more details.\n",
       "\n",
       ".. versionchanged:: 7.3\n",
       "    User variables are no longer expanded,\n",
       "    the magic line is always left unmodified.\n",
       "\n",
       "Examples\n",
       "--------\n",
       "::\n",
       "\n",
       "  In [1]: %timeit pass\n",
       "  8.26 ns ± 0.12 ns per loop (mean ± std. dev. of 7 runs, 100000000 loops each)\n",
       "\n",
       "  In [2]: u = None\n",
       "\n",
       "  In [3]: %timeit u is None\n",
       "  29.9 ns ± 0.643 ns per loop (mean ± std. dev. of 7 runs, 10000000 loops each)\n",
       "\n",
       "  In [4]: %timeit -r 4 u == None\n",
       "\n",
       "  In [5]: import time\n",
       "\n",
       "  In [6]: %timeit -n1 time.sleep(2)\n",
       "\n",
       "\n",
       "The times reported by %timeit will be slightly higher than those\n",
       "reported by the timeit.py script when variables are accessed. This is\n",
       "due to the fact that %timeit executes the statement in the namespace\n",
       "of the shell, compared with timeit.py, which uses a single setup\n",
       "statement to import function or create variables. Generally, the bias\n",
       "does not matter as long as results from timeit.py are not mixed with\n",
       "those from %timeit.\n",
       "\u001b[0;31mFile:\u001b[0m      /usr/local/lib/python3.6/dist-packages/IPython/core/magics/execution.py\n"
      ]
     },
     "metadata": {},
     "output_type": "display_data"
    }
   ],
   "source": [
    "%timeit?"
   ]
  },
  {
   "cell_type": "code",
   "execution_count": 16,
   "metadata": {},
   "outputs": [
    {
     "name": "stdout",
     "output_type": "stream",
     "text": [
      "333 ms ± 10 ms per loop (mean ± std. dev. of 10 runs, 5 loops each)\n"
     ]
    }
   ],
   "source": [
    "%timeit -n 5 -r 10 Rcf(f,0,1,n)"
   ]
  },
  {
   "cell_type": "markdown",
   "metadata": {},
   "source": [
    "---"
   ]
  },
  {
   "cell_type": "markdown",
   "metadata": {},
   "source": [
    "## Uso de line_profiler en python: %lprun"
   ]
  },
  {
   "cell_type": "code",
   "execution_count": 11,
   "metadata": {},
   "outputs": [],
   "source": [
    "def Rcf_2(f,a,b,n):\n",
    "    \"\"\"\n",
    "    Compute numerical approximation using rectangle or mid-point method in \n",
    "    an interval.\n",
    "    Nodes are generated via formula: x_i = a+(b-a)/n*i for i=0,1,...,n\n",
    "    Mid point is calculated via formula: x_{i-1}+(x_i-x_{i-1})/2 for i=1,...,n to avoid rounding errors\n",
    "    Args:\n",
    "        f (lambda expression): lambda expression of integrand\n",
    "        a (int): left point of interval\n",
    "        b (int): right point of interval\n",
    "        n (int): number of subintervals\n",
    "    Returns:\n",
    "        Rcf_2 (float) \n",
    "    \"\"\"\n",
    "    mid_point_formula=lambda a,b:a+(b-a)/2.0\n",
    "    h_hat=(b-a)/n\n",
    "    nodes=(mid_point_formula(a+h_hat*i, a+h_hat*(i+1)) for i in range(0,n))\n",
    "    sum_res=0\n",
    "    for node in nodes:\n",
    "        sum_res=sum_res+f(node)\n",
    "    return h_hat*sum_res"
   ]
  },
  {
   "cell_type": "code",
   "execution_count": 12,
   "metadata": {},
   "outputs": [],
   "source": [
    "def Rcf_3(f,a,b,n):\n",
    "    \"\"\"\n",
    "    Compute numerical approximation using rectangle or mid-point method in \n",
    "    an interval.\n",
    "    Nodes are generated via formula: x_i = a+(b-a)/n*i for i=0,1,...,n\n",
    "    Mid point is calculated via formula: x_{i-1}+(x_i-x_{i-1})/2 for i=1,...,n to avoid rounding errors\n",
    "    Args:\n",
    "        f (lambda expression): lambda expression of integrand\n",
    "        a (int): left point of interval\n",
    "        b (int): right point of interval\n",
    "        n (int): number of subintervals\n",
    "    Returns:\n",
    "        Rcf_3 (float) \n",
    "    \"\"\"\n",
    "    mid_point_formula=lambda a,b:a+(b-a)/2.0\n",
    "    h_hat=(b-a)/n\n",
    "    nodes=(mid_point_formula(a+h_hat*i, a+h_hat*(i+1)) for i in range(0,n))\n",
    "    return h_hat*sum((f(node) for node in nodes))"
   ]
  },
  {
   "cell_type": "code",
   "execution_count": 13,
   "metadata": {},
   "outputs": [],
   "source": [
    "def Rcf_4(a,b,n):\n",
    "    \"\"\"\n",
    "    Compute numerical approximation using rectangle or mid-point method in \n",
    "    an interval.\n",
    "    Nodes are generated via formula: x_i = a+(b-a)/n*i for i=0,1,...,n\n",
    "    Mid point is calculated via formula: x_{i-1}+(x_i-x_{i-1})/2 for i=1,...,n to avoid rounding errors\n",
    "    Args:\n",
    "        f (lambda expression): lambda expression of integrand\n",
    "        a (int): left point of interval\n",
    "        b (int): right point of interval\n",
    "        n (int): number of subintervals\n",
    "    Returns:\n",
    "        Rcf_4 (float) \n",
    "    \"\"\"\n",
    "    mid_point_formula=lambda a,b:a+(b-a)/2.0\n",
    "    h_hat=(b-a)/n\n",
    "    nodes=(mid_point_formula(a+h_hat*i, a+h_hat*(i+1)) for i in range(0,n))\n",
    "    return h_hat*sum((math.exp(-node**2) for node in nodes))"
   ]
  },
  {
   "cell_type": "code",
   "execution_count": 14,
   "metadata": {},
   "outputs": [],
   "source": [
    "%load_ext line_profiler"
   ]
  },
  {
   "cell_type": "code",
   "execution_count": 15,
   "metadata": {},
   "outputs": [
    {
     "data": {
      "text/plain": [
       "Timer unit: 1e-06 s\n",
       "\n",
       "Total time: 0.287286 s\n",
       "File: <ipython-input-3-8b2da2b2416f>\n",
       "Function: Rcf_1 at line 1\n",
       "\n",
       "Line #      Hits         Time  Per Hit   % Time  Line Contents\n",
       "==============================================================\n",
       "     1                                           def Rcf_1(f,a,b,n):\n",
       "     2                                               \"\"\"\n",
       "     3                                               Compute numerical approximation using rectangle or mid-point method in \n",
       "     4                                               an interval.\n",
       "     5                                               Nodes are generated via formula: x_i = a+(b-a)/n*i for i=0,1,...,n\n",
       "     6                                               Mid point is calculated via formula: x_{i-1}+(x_i-x_{i-1})/2 for i=1,...,n to avoid rounding errors\n",
       "     7                                               Args:\n",
       "     8                                                   f (lambda expression): lambda expression of integrand\n",
       "     9                                                   a (int): left point of interval\n",
       "    10                                                   b (int): right point of interval\n",
       "    11                                                   n (int): number of subintervals\n",
       "    12                                               Returns:\n",
       "    13                                                   Rcf_1 (float) \n",
       "    14                                               \"\"\"\n",
       "    15         1          2.0      2.0      0.0      mid_point_formula=lambda a,b:a+(b-a)/2.0\n",
       "    16         1          2.0      2.0      0.0      h_hat=(b-a)/n\n",
       "    17         1     123963.0 123963.0     43.1      nodes=[mid_point_formula(a+h_hat*i, a+h_hat*(i+1)) for i in range(0,n)]\n",
       "    18         1          2.0      2.0      0.0      sum_res=0\n",
       "    19    100001      59552.0      0.6     20.7      for node in nodes:\n",
       "    20    100000     103764.0      1.0     36.1          sum_res=sum_res+f(node)\n",
       "    21         1          1.0      1.0      0.0      return h_hat*sum_res"
      ]
     },
     "metadata": {},
     "output_type": "display_data"
    }
   ],
   "source": [
    "%lprun -f Rcf_1 Rcf_1(f,0,1,10**5)"
   ]
  },
  {
   "cell_type": "code",
   "execution_count": 16,
   "metadata": {},
   "outputs": [
    {
     "data": {
      "text/plain": [
       "Timer unit: 1e-06 s\n",
       "\n",
       "Total time: 0.254116 s\n",
       "File: <ipython-input-11-08e2d3f927ed>\n",
       "Function: Rcf_2 at line 1\n",
       "\n",
       "Line #      Hits         Time  Per Hit   % Time  Line Contents\n",
       "==============================================================\n",
       "     1                                           def Rcf_2(f,a,b,n):\n",
       "     2                                               \"\"\"\n",
       "     3                                               Compute numerical approximation using rectangle or mid-point method in \n",
       "     4                                               an interval.\n",
       "     5                                               Nodes are generated via formula: x_i = a+(b-a)/n*i for i=0,1,...,n\n",
       "     6                                               Mid point is calculated via formula: x_{i-1}+(x_i-x_{i-1})/2 for i=1,...,n to avoid rounding errors\n",
       "     7                                               Args:\n",
       "     8                                                   f (lambda expression): lambda expression of integrand\n",
       "     9                                                   a (int): left point of interval\n",
       "    10                                                   b (int): right point of interval\n",
       "    11                                                   n (int): number of subintervals\n",
       "    12                                               Returns:\n",
       "    13                                                   Rcf_2 (float) \n",
       "    14                                               \"\"\"\n",
       "    15         1          2.0      2.0      0.0      mid_point_formula=lambda a,b:a+(b-a)/2.0\n",
       "    16         1          2.0      2.0      0.0      h_hat=(b-a)/n\n",
       "    17         1          3.0      3.0      0.0      nodes=(mid_point_formula(a+h_hat*i, a+h_hat*(i+1)) for i in range(0,n))\n",
       "    18         1          1.0      1.0      0.0      sum_res=0\n",
       "    19    100001     143251.0      1.4     56.4      for node in nodes:\n",
       "    20    100000     110856.0      1.1     43.6          sum_res=sum_res+f(node)\n",
       "    21         1          1.0      1.0      0.0      return h_hat*sum_res"
      ]
     },
     "metadata": {},
     "output_type": "display_data"
    }
   ],
   "source": [
    "%lprun -f Rcf_2 Rcf_2(f,0,1,10**5)"
   ]
  },
  {
   "cell_type": "code",
   "execution_count": 17,
   "metadata": {},
   "outputs": [
    {
     "data": {
      "text/plain": [
       "Timer unit: 1e-06 s\n",
       "\n",
       "Total time: 0.183197 s\n",
       "File: <ipython-input-12-e6fccc57a114>\n",
       "Function: Rcf_3 at line 1\n",
       "\n",
       "Line #      Hits         Time  Per Hit   % Time  Line Contents\n",
       "==============================================================\n",
       "     1                                           def Rcf_3(f,a,b,n):\n",
       "     2                                               \"\"\"\n",
       "     3                                               Compute numerical approximation using rectangle or mid-point method in \n",
       "     4                                               an interval.\n",
       "     5                                               Nodes are generated via formula: x_i = a+(b-a)/n*i for i=0,1,...,n\n",
       "     6                                               Mid point is calculated via formula: x_{i-1}+(x_i-x_{i-1})/2 for i=1,...,n to avoid rounding errors\n",
       "     7                                               Args:\n",
       "     8                                                   f (lambda expression): lambda expression of integrand\n",
       "     9                                                   a (int): left point of interval\n",
       "    10                                                   b (int): right point of interval\n",
       "    11                                                   n (int): number of subintervals\n",
       "    12                                               Returns:\n",
       "    13                                                   Rcf_3 (float) \n",
       "    14                                               \"\"\"\n",
       "    15         1          3.0      3.0      0.0      mid_point_formula=lambda a,b:a+(b-a)/2.0\n",
       "    16         1          2.0      2.0      0.0      h_hat=(b-a)/n\n",
       "    17         1          2.0      2.0      0.0      nodes=(mid_point_formula(a+h_hat*i, a+h_hat*(i+1)) for i in range(0,n))\n",
       "    18         1     183190.0 183190.0    100.0      return h_hat*sum((f(node) for node in nodes))"
      ]
     },
     "metadata": {},
     "output_type": "display_data"
    }
   ],
   "source": [
    "%lprun -f Rcf_3 Rcf_3(f,0,1,10**5)"
   ]
  },
  {
   "cell_type": "code",
   "execution_count": 18,
   "metadata": {},
   "outputs": [
    {
     "data": {
      "text/plain": [
       "Timer unit: 1e-06 s\n",
       "\n",
       "Total time: 0.166477 s\n",
       "File: <ipython-input-13-f3d4bfb56109>\n",
       "Function: Rcf_4 at line 1\n",
       "\n",
       "Line #      Hits         Time  Per Hit   % Time  Line Contents\n",
       "==============================================================\n",
       "     1                                           def Rcf_4(a,b,n):\n",
       "     2                                               \"\"\"\n",
       "     3                                               Compute numerical approximation using rectangle or mid-point method in \n",
       "     4                                               an interval.\n",
       "     5                                               Nodes are generated via formula: x_i = a+(b-a)/n*i for i=0,1,...,n\n",
       "     6                                               Mid point is calculated via formula: x_{i-1}+(x_i-x_{i-1})/2 for i=1,...,n to avoid rounding errors\n",
       "     7                                               Args:\n",
       "     8                                                   f (lambda expression): lambda expression of integrand\n",
       "     9                                                   a (int): left point of interval\n",
       "    10                                                   b (int): right point of interval\n",
       "    11                                                   n (int): number of subintervals\n",
       "    12                                               Returns:\n",
       "    13                                                   Rcf_4 (float) \n",
       "    14                                               \"\"\"\n",
       "    15         1          2.0      2.0      0.0      mid_point_formula=lambda a,b:a+(b-a)/2.0\n",
       "    16         1          2.0      2.0      0.0      h_hat=(b-a)/n\n",
       "    17         1          3.0      3.0      0.0      nodes=(mid_point_formula(a+h_hat*i, a+h_hat*(i+1)) for i in range(0,n))\n",
       "    18         1     166470.0 166470.0    100.0      return h_hat*sum((math.exp(-node**2) for node in nodes))"
      ]
     },
     "metadata": {},
     "output_type": "display_data"
    }
   ],
   "source": [
    "%lprun -f Rcf_4 Rcf_4(0,1,10**5)"
   ]
  },
  {
   "cell_type": "code",
   "execution_count": 19,
   "metadata": {},
   "outputs": [
    {
     "name": "stdout",
     "output_type": "stream",
     "text": [
      "Writing Rcf_1_b.py\n"
     ]
    }
   ],
   "source": [
    "%%file Rcf_1_b.py\n",
    "\n",
    "import math\n",
    "@profile\n",
    "def Rcf_1(f,a,b,n):\n",
    "    \"\"\"\n",
    "    Compute numerical approximation using rectangle or mid-point method in \n",
    "    an interval.\n",
    "    Nodes are generated via formula: x_i = a+(b-a)/n*i for i=0,1,...,n\n",
    "    Mid point is calculated via formula: x_{i-1}+(x_i-x_{i-1})/2 for i=1,...,n to avoid rounding errors\n",
    "    Args:\n",
    "        f (lambda expression): lambda expression of integrand\n",
    "        a (int): left point of interval\n",
    "        b (int): right point of interval\n",
    "        n (int): number of subintervals\n",
    "    Returns:\n",
    "        Rcf_1 (float) \n",
    "    \"\"\"\n",
    "    mid_point_formula=lambda a,b:a+(b-a)/2.0\n",
    "    h_hat=(b-a)/n\n",
    "    nodes=[mid_point_formula(a+h_hat*i, a+h_hat*(i+1)) for i in range(0,n)]\n",
    "    sum_res=0\n",
    "    for node in nodes:\n",
    "        sum_res=sum_res+f(node)\n",
    "    return h_hat*sum_res \n",
    "if __name__==\"__main__\":\n",
    "        f=lambda x: math.exp(-x**2)\n",
    "        print(Rcf_1(f,0,1,10**5))"
   ]
  },
  {
   "cell_type": "markdown",
   "metadata": {},
   "source": [
    "**Ejemplo line_profiler desde la línea de comandos:**"
   ]
  },
  {
   "cell_type": "code",
   "execution_count": 20,
   "metadata": {},
   "outputs": [
    {
     "name": "stdout",
     "output_type": "stream",
     "text": [
      "0.7468241328154887\n",
      "Wrote profile results to Rcf_1_b.py.lprof\n",
      "Timer unit: 1e-06 s\n",
      "\n",
      "Total time: 0.230992 s\n",
      "File: Rcf_1_b.py\n",
      "Function: Rcf_1 at line 3\n",
      "\n",
      "Line #      Hits         Time  Per Hit   % Time  Line Contents\n",
      "==============================================================\n",
      "     3                                           @profile\n",
      "     4                                           def Rcf_1(f,a,b,n):\n",
      "     5                                               \"\"\"\n",
      "     6                                               Compute numerical approximation using rectangle or mid-point method in \n",
      "     7                                               an interval.\n",
      "     8                                               Nodes are generated via formula: x_i = a+(b-a)/n*i for i=0,1,...,n\n",
      "     9                                               Mid point is calculated via formula: x_{i-1}+(x_i-x_{i-1})/2 for i=1,...,n to avoid rounding errors\n",
      "    10                                               Args:\n",
      "    11                                                   f (lambda expression): lambda expression of integrand\n",
      "    12                                                   a (int): left point of interval\n",
      "    13                                                   b (int): right point of interval\n",
      "    14                                                   n (int): number of subintervals\n",
      "    15                                               Returns:\n",
      "    16                                                   Rcf_1 (float) \n",
      "    17                                               \"\"\"\n",
      "    18         1          1.0      1.0      0.0      mid_point_formula=lambda a,b:a+(b-a)/2.0\n",
      "    19         1          2.0      2.0      0.0      h_hat=(b-a)/n\n",
      "    20         1      62150.0  62150.0     26.9      nodes=[mid_point_formula(a+h_hat*i, a+h_hat*(i+1)) for i in range(0,n)]\n",
      "    21         1          1.0      1.0      0.0      sum_res=0\n",
      "    22    100001      61346.0      0.6     26.6      for node in nodes:\n",
      "    23    100000     107491.0      1.1     46.5          sum_res=sum_res+f(node)\n",
      "    24         1          1.0      1.0      0.0      return h_hat*sum_res \n",
      "\n"
     ]
    }
   ],
   "source": [
    "%%bash\n",
    "/home/miuser/.local/bin/kernprof -l -v Rcf_1_b.py"
   ]
  },
  {
   "cell_type": "markdown",
   "metadata": {},
   "source": [
    "## Uso de memory_profiler: %memit y %mprun"
   ]
  },
  {
   "cell_type": "code",
   "execution_count": 31,
   "metadata": {},
   "outputs": [],
   "source": [
    "%load_ext memory_profiler"
   ]
  },
  {
   "cell_type": "code",
   "execution_count": 32,
   "metadata": {},
   "outputs": [
    {
     "name": "stdout",
     "output_type": "stream",
     "text": [
      "peak memory: 97.20 MiB, increment: 0.00 MiB\n"
     ]
    }
   ],
   "source": [
    "%memit #how much RAM this process is consuming"
   ]
  },
  {
   "cell_type": "code",
   "execution_count": 33,
   "metadata": {},
   "outputs": [
    {
     "name": "stdout",
     "output_type": "stream",
     "text": [
      "peak memory: 99.00 MiB, increment: 1.80 MiB\n"
     ]
    }
   ],
   "source": [
    "%memit Rcf_1(f,0,1,10**5)"
   ]
  },
  {
   "cell_type": "code",
   "execution_count": 34,
   "metadata": {},
   "outputs": [
    {
     "name": "stdout",
     "output_type": "stream",
     "text": [
      "peak memory: 97.51 MiB, increment: 0.00 MiB\n"
     ]
    }
   ],
   "source": [
    "%memit"
   ]
  },
  {
   "cell_type": "code",
   "execution_count": 35,
   "metadata": {},
   "outputs": [
    {
     "name": "stdout",
     "output_type": "stream",
     "text": [
      "peak memory: 97.51 MiB, increment: 0.00 MiB\n"
     ]
    }
   ],
   "source": [
    "%memit Rcf_2(f,0,1,10**5)"
   ]
  },
  {
   "cell_type": "code",
   "execution_count": 36,
   "metadata": {},
   "outputs": [
    {
     "name": "stdout",
     "output_type": "stream",
     "text": [
      "Writing Rcf_1_c.py\n"
     ]
    }
   ],
   "source": [
    "%%file Rcf_1_c.py\n",
    "\n",
    "def Rcf_1(f,a,b,n):\n",
    "    \"\"\"\n",
    "    Compute numerical approximation using rectangle or mid-point method in \n",
    "    an interval.\n",
    "    Nodes are generated via formula: x_i = a+(b-a)/n*i for i=0,1,...,n\n",
    "    Mid point is calculated via formula: x_{i-1}+(x_i-x_{i-1})/2 for i=1,...,n to avoid rounding errors\n",
    "    Args:\n",
    "        f (lambda expression): lambda expression of integrand\n",
    "        a (int): left point of interval\n",
    "        b (int): right point of interval\n",
    "        n (int): number of subintervals\n",
    "    Returns:\n",
    "        Rcf_1 (float) \n",
    "    \"\"\"\n",
    "    mid_point_formula=lambda a,b:a+(b-a)/2.0\n",
    "    h_hat=(b-a)/n\n",
    "    nodes=[mid_point_formula(a+h_hat*i, a+h_hat*(i+1)) for i in range(0,n)]\n",
    "    sum_res=0\n",
    "    for node in nodes:\n",
    "        sum_res=sum_res+f(node)\n",
    "    return h_hat*sum_res \n"
   ]
  },
  {
   "cell_type": "code",
   "execution_count": 37,
   "metadata": {},
   "outputs": [],
   "source": [
    "from Rcf_1_c import Rcf_1 as Rcf_1_c"
   ]
  },
  {
   "cell_type": "code",
   "execution_count": 38,
   "metadata": {},
   "outputs": [
    {
     "name": "stdout",
     "output_type": "stream",
     "text": [
      "\n"
     ]
    },
    {
     "data": {
      "text/plain": [
       "Filename: /datos/MNO_desde_2018/ramas_repo/mno-master/temas/I.computo_cientifico/Rcf_1_c.py\n",
       "\n",
       "Line #    Mem usage    Increment   Line Contents\n",
       "================================================\n",
       "     2     97.5 MiB     97.5 MiB   def Rcf_1(f,a,b,n):\n",
       "     3                                 \"\"\"\n",
       "     4                                 Compute numerical approximation using rectangle or mid-point method in \n",
       "     5                                 an interval.\n",
       "     6                                 Nodes are generated via formula: x_i = a+(b-a)/n*i for i=0,1,...,n\n",
       "     7                                 Mid point is calculated via formula: x_{i-1}+(x_i-x_{i-1})/2 for i=1,...,n to avoid rounding errors\n",
       "     8                                 Args:\n",
       "     9                                     f (lambda expression): lambda expression of integrand\n",
       "    10                                     a (int): left point of interval\n",
       "    11                                     b (int): right point of interval\n",
       "    12                                     n (int): number of subintervals\n",
       "    13                                 Returns:\n",
       "    14                                     Rcf_1 (float) \n",
       "    15                                 \"\"\"\n",
       "    16     99.4 MiB      0.3 MiB       mid_point_formula=lambda a,b:a+(b-a)/2.0\n",
       "    17     97.5 MiB      0.0 MiB       h_hat=(b-a)/n\n",
       "    18     99.4 MiB      0.1 MiB       nodes=[mid_point_formula(a+h_hat*i, a+h_hat*(i+1)) for i in range(0,n)]\n",
       "    19     99.4 MiB      0.0 MiB       sum_res=0\n",
       "    20     99.4 MiB      0.0 MiB       for node in nodes:\n",
       "    21     99.4 MiB      0.0 MiB           sum_res=sum_res+f(node)\n",
       "    22     99.4 MiB      0.0 MiB       return h_hat*sum_res"
      ]
     },
     "metadata": {},
     "output_type": "display_data"
    }
   ],
   "source": [
    "%mprun -f Rcf_1_c Rcf_1_c(f,0,1,10**5)"
   ]
  },
  {
   "cell_type": "markdown",
   "metadata": {},
   "source": [
    "## Uso de cProfile"
   ]
  },
  {
   "cell_type": "code",
   "execution_count": 39,
   "metadata": {},
   "outputs": [
    {
     "name": "stdout",
     "output_type": "stream",
     "text": [
      "Writing Rcf_1_a.py\n"
     ]
    }
   ],
   "source": [
    "%%file Rcf_1_a.py\n",
    "import math\n",
    "def Rcf_1(f,a,b,n):\n",
    "    \"\"\"\n",
    "    Compute numerical approximation using rectangle or mid-point method in \n",
    "    an interval.\n",
    "    Nodes are generated via formula: x_i = a+(b-a)/n*i for i=0,1,...,n\n",
    "    Mid point is calculated via formula: x_{i-1}+(x_i-x_{i-1})/2 for i=1,...,n to avoid rounding errors\n",
    "    Args:\n",
    "        f (lambda expression): lambda expression of integrand\n",
    "        a (int): left point of interval\n",
    "        b (int): right point of interval\n",
    "        n (int): number of subintervals\n",
    "    Returns:\n",
    "        Rcf_1 (float) \n",
    "    \"\"\"\n",
    "    mid_point_formula=lambda a,b:a+(b-a)/2.0\n",
    "    h_hat=(b-a)/n\n",
    "    nodes=[mid_point_formula(a+h_hat*i, a+h_hat*(i+1)) for i in range(0,n)]\n",
    "    sum_res=0\n",
    "    for node in nodes:\n",
    "        sum_res=sum_res+f(node)\n",
    "    return h_hat*sum_res \n",
    "if __name__==\"__main__\":\n",
    "        f=lambda x: math.exp(-x**2)\n",
    "        print(Rcf_1(f,0,1,10**5))"
   ]
  },
  {
   "cell_type": "code",
   "execution_count": 40,
   "metadata": {},
   "outputs": [
    {
     "name": "stdout",
     "output_type": "stream",
     "text": [
      "0.7468241328154887\n",
      "         300067 function calls in 0.091 seconds\n",
      "\n",
      "   Ordered by: cumulative time\n",
      "\n",
      "   ncalls  tottime  percall  cumtime  percall filename:lineno(function)\n",
      "        1    0.000    0.000    0.091    0.091 {built-in method builtins.exec}\n",
      "        1    0.003    0.003    0.091    0.091 Rcf_1_a.py:1(<module>)\n",
      "        1    0.014    0.014    0.088    0.088 Rcf_1_a.py:2(Rcf_1)\n",
      "        1    0.030    0.030    0.042    0.042 Rcf_1_a.py:18(<listcomp>)\n",
      "   100000    0.023    0.000    0.032    0.000 Rcf_1_a.py:24(<lambda>)\n",
      "   100000    0.011    0.000    0.011    0.000 Rcf_1_a.py:16(<lambda>)\n",
      "   100000    0.008    0.000    0.008    0.000 {built-in method math.exp}\n",
      "        1    0.000    0.000    0.000    0.000 <frozen importlib._bootstrap>:966(_find_and_load)\n",
      "        1    0.000    0.000    0.000    0.000 <frozen importlib._bootstrap>:936(_find_and_load_unlocked)\n",
      "        1    0.000    0.000    0.000    0.000 <frozen importlib._bootstrap>:651(_load_unlocked)\n",
      "        1    0.000    0.000    0.000    0.000 <frozen importlib._bootstrap>:564(module_from_spec)\n",
      "        1    0.000    0.000    0.000    0.000 <frozen importlib._bootstrap>:728(create_module)\n",
      "        2    0.000    0.000    0.000    0.000 <frozen importlib._bootstrap>:211(_call_with_frames_removed)\n",
      "        1    0.000    0.000    0.000    0.000 {built-in method _imp.create_builtin}\n",
      "        1    0.000    0.000    0.000    0.000 <frozen importlib._bootstrap>:870(_find_spec)\n",
      "        1    0.000    0.000    0.000    0.000 <frozen importlib._bootstrap>:147(__enter__)\n",
      "        1    0.000    0.000    0.000    0.000 <frozen importlib._bootstrap>:707(find_spec)\n",
      "        1    0.000    0.000    0.000    0.000 <frozen importlib._bootstrap>:157(_get_module_lock)\n",
      "        1    0.000    0.000    0.000    0.000 {built-in method builtins.print}\n",
      "        1    0.000    0.000    0.000    0.000 <frozen importlib._bootstrap>:433(spec_from_loader)\n",
      "        1    0.000    0.000    0.000    0.000 <frozen importlib._bootstrap>:504(_init_module_attrs)\n",
      "        1    0.000    0.000    0.000    0.000 <frozen importlib._bootstrap>:58(__init__)\n",
      "        4    0.000    0.000    0.000    0.000 {built-in method builtins.hasattr}\n",
      "        1    0.000    0.000    0.000    0.000 <frozen importlib._bootstrap>:318(__exit__)\n",
      "        1    0.000    0.000    0.000    0.000 <frozen importlib._bootstrap>:78(acquire)\n",
      "        1    0.000    0.000    0.000    0.000 <frozen importlib._bootstrap>:151(__exit__)\n",
      "        4    0.000    0.000    0.000    0.000 {built-in method builtins.getattr}\n",
      "        1    0.000    0.000    0.000    0.000 <frozen importlib._bootstrap>:232(_requires_builtin_wrapper)\n",
      "        1    0.000    0.000    0.000    0.000 <frozen importlib._bootstrap>:736(exec_module)\n",
      "        1    0.000    0.000    0.000    0.000 <frozen importlib._bootstrap>:103(release)\n",
      "        2    0.000    0.000    0.000    0.000 {built-in method _thread.allocate_lock}\n",
      "        1    0.000    0.000    0.000    0.000 {built-in method builtins.any}\n",
      "        1    0.000    0.000    0.000    0.000 <frozen importlib._bootstrap>:369(__init__)\n",
      "        1    0.000    0.000    0.000    0.000 <frozen importlib._bootstrap>:176(cb)\n",
      "        2    0.000    0.000    0.000    0.000 {method 'get' of 'dict' objects}\n",
      "        2    0.000    0.000    0.000    0.000 {method 'rpartition' of 'str' objects}\n",
      "        1    0.000    0.000    0.000    0.000 {built-in method _imp.is_builtin}\n",
      "        1    0.000    0.000    0.000    0.000 <frozen importlib._bootstrap>:416(parent)\n",
      "        1    0.000    0.000    0.000    0.000 <frozen importlib._bootstrap>:222(_verbose_message)\n",
      "        2    0.000    0.000    0.000    0.000 {built-in method _thread.get_ident}\n",
      "        3    0.000    0.000    0.000    0.000 {built-in method _imp.acquire_lock}\n",
      "        1    0.000    0.000    0.000    0.000 {method 'disable' of '_lsprof.Profiler' objects}\n",
      "        1    0.000    0.000    0.000    0.000 <frozen importlib._bootstrap>:307(__init__)\n",
      "        1    0.000    0.000    0.000    0.000 <frozen importlib._bootstrap>:311(__enter__)\n",
      "        4    0.000    0.000    0.000    0.000 <frozen importlib._bootstrap>:321(<genexpr>)\n",
      "        1    0.000    0.000    0.000    0.000 <frozen importlib._bootstrap>:424(has_location)\n",
      "        1    0.000    0.000    0.000    0.000 <frozen importlib._bootstrap>:753(is_package)\n",
      "        1    0.000    0.000    0.000    0.000 <frozen importlib._bootstrap>:843(__enter__)\n",
      "        1    0.000    0.000    0.000    0.000 <frozen importlib._bootstrap>:847(__exit__)\n",
      "        1    0.000    0.000    0.000    0.000 <frozen importlib._bootstrap>:143(__init__)\n",
      "        3    0.000    0.000    0.000    0.000 {built-in method _imp.release_lock}\n",
      "        1    0.000    0.000    0.000    0.000 {built-in method _imp.exec_builtin}\n",
      "\n",
      "\n"
     ]
    }
   ],
   "source": [
    "%%bash\n",
    "python3 -m cProfile -s cumulative Rcf_1_a.py"
   ]
  },
  {
   "cell_type": "markdown",
   "metadata": {},
   "source": [
    "**Ejercicios**\n",
    "\n",
    "1. Resuelve los ejercicios y preguntas de la nota.\n"
   ]
  },
  {
   "cell_type": "markdown",
   "metadata": {},
   "source": [
    "**Referencias**\n",
    "\n",
    "1. M. Gorelick, I. Ozsvald, High Performance Python, O'Reilly Media, 2014."
   ]
  },
  {
   "cell_type": "code",
   "execution_count": null,
   "metadata": {},
   "outputs": [],
   "source": []
  }
 ],
 "metadata": {
  "kernelspec": {
   "display_name": "Python 3",
   "language": "python",
   "name": "python3"
  },
  "language_info": {
   "codemirror_mode": {
    "name": "ipython",
    "version": 3
   },
   "file_extension": ".py",
   "mimetype": "text/x-python",
   "name": "python",
   "nbconvert_exporter": "python",
   "pygments_lexer": "ipython3",
   "version": "3.6.9"
  }
 },
 "nbformat": 4,
 "nbformat_minor": 4
}
