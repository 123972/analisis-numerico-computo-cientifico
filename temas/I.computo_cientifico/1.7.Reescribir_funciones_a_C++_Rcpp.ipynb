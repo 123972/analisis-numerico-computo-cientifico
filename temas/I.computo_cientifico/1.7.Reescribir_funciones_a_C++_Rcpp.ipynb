{
 "cells": [
  {
   "cell_type": "markdown",
   "metadata": {},
   "source": [
    "Esta nota utiliza métodos vistos en [1.5.Integracion_numerica](https://github.com/ITAM-DS/analisis-numerico-computo-cientifico/blob/master/temas/I.computo_cientifico/1.5.Integracion_numerica.ipynb)"
   ]
  },
  {
   "cell_type": "markdown",
   "metadata": {},
   "source": [
    "**Notas para contenedor de docker:**"
   ]
  },
  {
   "cell_type": "markdown",
   "metadata": {},
   "source": [
    "Comando de docker para ejecución de la nota de forma local:\n",
    "\n",
    "nota: cambiar `<ruta a mi directorio>` por la ruta de directorio que se desea mapear a `/datos` dentro del contenedor de docker.\n",
    "\n",
    "```\n",
    "docker run --rm -v <ruta a mi directorio>:/datos --name jupyterlab_r_kernel_local -p 8888:8888 -d palmoreck/jupyterlab_r_kernel:1.1.0\n",
    "```\n",
    "\n",
    "password para jupyterlab: `qwerty`\n",
    "\n",
    "Detener el contenedor de docker:\n",
    "\n",
    "```\n",
    "docker stop jupyterlab_r_kernel_local\n",
    "```\n"
   ]
  },
  {
   "cell_type": "markdown",
   "metadata": {},
   "source": [
    "Documentación de la imagen de docker `palmoreck/jupyterlab_r_kernel:1.1.0` en [liga](https://github.com/palmoreck/dockerfiles/tree/master/jupyterlab/r_kernel)."
   ]
  },
  {
   "cell_type": "markdown",
   "metadata": {},
   "source": [
    "Instalamos Rcpp:"
   ]
  },
  {
   "cell_type": "code",
   "execution_count": 33,
   "metadata": {},
   "outputs": [
    {
     "name": "stderr",
     "output_type": "stream",
     "text": [
      "Warning message in install.packages(\"Rcpp\", lib = \"/usr/local/lib/R/site-library/\", :\n",
      "“installation of package ‘Rcpp’ had non-zero exit status”\n"
     ]
    }
   ],
   "source": [
    "install.packages(\"Rcpp\",lib=\"/usr/local/lib/R/site-library/\",\n",
    "                repos=\"https://cran.itam.mx/\")"
   ]
  },
  {
   "cell_type": "code",
   "execution_count": 54,
   "metadata": {},
   "outputs": [],
   "source": [
    "install.packages(\"microbenchmark\",lib=\"/usr/local/lib/R/site-library/\",\n",
    "                repos=\"https://cran.itam.mx/\")"
   ]
  },
  {
   "cell_type": "markdown",
   "metadata": {},
   "source": [
    "La siguiente celda reiniciará el kernel de **IPython** para cargar los paquetes instalados en la celda anterior. Dar **Ok** en el mensaje que salga y continuar con el contenido del notebook."
   ]
  },
  {
   "cell_type": "code",
   "execution_count": 2,
   "metadata": {},
   "outputs": [
    {
     "data": {
      "text/plain": [
       "{'status': 'ok', 'restart': True}"
      ]
     },
     "execution_count": 2,
     "metadata": {},
     "output_type": "execute_result"
    }
   ],
   "source": [
    "import IPython\n",
    "app = IPython.Application.instance()\n",
    "app.kernel.do_shutdown(True)"
   ]
  },
  {
   "cell_type": "code",
   "execution_count": 1,
   "metadata": {},
   "outputs": [],
   "source": [
    "library(Rcpp)\n",
    "library(microbenchmark)"
   ]
  },
  {
   "cell_type": "code",
   "execution_count": 2,
   "metadata": {},
   "outputs": [],
   "source": [
    "Rcf<-function(f,a,b,n){\n",
    "    #Compute numerical approximation using rectangle or mid-point method in \n",
    "    #an interval.\n",
    "    #Nodes are generated via formula: x_i = a+(i+1/2)h_hat for i=0,1,...,n and h_hat=(b-a)/n\n",
    "    #Args:\n",
    "    #    f (function): function of integrand\n",
    "    #    a (int): left point of interval\n",
    "    #    b (int): right point of interval\n",
    "    #    n (int): number of subintervals\n",
    "    #Returns:\n",
    "    #    Rcf (float)\n",
    "    h_hat<-(b-a)/n\n",
    "    sum_res<-0\n",
    "    for(i in 1:n-1){\n",
    "        x<-a+(i+1/2.0)*h_hat\n",
    "        sum_res<-sum_res+f(x)\n",
    "    }\n",
    "    h_hat*sum_res\n",
    "}"
   ]
  },
  {
   "cell_type": "code",
   "execution_count": 3,
   "metadata": {},
   "outputs": [],
   "source": [
    "f<-function(x)exp(-x^2)"
   ]
  },
  {
   "cell_type": "code",
   "execution_count": 4,
   "metadata": {},
   "outputs": [],
   "source": [
    "n<-10**6\n",
    "aprox<-Rcf(f,0,1,n)\n"
   ]
  },
  {
   "cell_type": "code",
   "execution_count": 5,
   "metadata": {},
   "outputs": [
    {
     "data": {
      "text/html": [
       "0.746824132812477"
      ],
      "text/latex": [
       "0.746824132812477"
      ],
      "text/markdown": [
       "0.746824132812477"
      ],
      "text/plain": [
       "[1] 0.7468241"
      ]
     },
     "metadata": {},
     "output_type": "display_data"
    }
   ],
   "source": [
    "aprox"
   ]
  },
  {
   "cell_type": "code",
   "execution_count": 6,
   "metadata": {},
   "outputs": [],
   "source": [
    "err_relativo<-function(aprox,obj)abs(aprox-obj)/abs(obj)"
   ]
  },
  {
   "cell_type": "code",
   "execution_count": 7,
   "metadata": {},
   "outputs": [],
   "source": [
    "obj<-integrate(Vectorize(f),0,1)"
   ]
  },
  {
   "cell_type": "code",
   "execution_count": 8,
   "metadata": {},
   "outputs": [
    {
     "data": {
      "text/html": [
       "6.71939731300312e-14"
      ],
      "text/latex": [
       "6.71939731300312e-14"
      ],
      "text/markdown": [
       "6.71939731300312e-14"
      ],
      "text/plain": [
       "[1] 6.719397e-14"
      ]
     },
     "metadata": {},
     "output_type": "display_data"
    }
   ],
   "source": [
    "err_relativo(aprox,obj$value)"
   ]
  },
  {
   "cell_type": "code",
   "execution_count": 9,
   "metadata": {},
   "outputs": [
    {
     "data": {
      "text/plain": [
       "   user  system elapsed \n",
       "  0.650   0.000   0.647 "
      ]
     },
     "metadata": {},
     "output_type": "display_data"
    }
   ],
   "source": [
    "system.time(Rcf(f,0,1,n))"
   ]
  },
  {
   "cell_type": "code",
   "execution_count": 10,
   "metadata": {},
   "outputs": [],
   "source": [
    "cppFunction('double Rcf_Rcpp(double a, double b, int n){\n",
    "             double h_hat;\n",
    "             double sum_res=0;\n",
    "             int i;\n",
    "             double x;\n",
    "             h_hat=(b-a)/n;\n",
    "             for(i=0;i<=n-1;i++){\n",
    "                    x = a+(i+1/2.0)*h_hat;\n",
    "                    sum_res+=exp(-pow(x,2));\n",
    "             }\n",
    "             return h_hat*sum_res;\n",
    "            }')"
   ]
  },
  {
   "cell_type": "code",
   "execution_count": 11,
   "metadata": {},
   "outputs": [],
   "source": [
    "aprox_rcpp<-Rcf_Rcpp(0,1,n)"
   ]
  },
  {
   "cell_type": "code",
   "execution_count": 12,
   "metadata": {},
   "outputs": [
    {
     "data": {
      "text/html": [
       "6.71939731300312e-14"
      ],
      "text/latex": [
       "6.71939731300312e-14"
      ],
      "text/markdown": [
       "6.71939731300312e-14"
      ],
      "text/plain": [
       "[1] 6.719397e-14"
      ]
     },
     "metadata": {},
     "output_type": "display_data"
    }
   ],
   "source": [
    "err_relativo(aprox_rcpp,obj$value)"
   ]
  },
  {
   "cell_type": "code",
   "execution_count": 13,
   "metadata": {},
   "outputs": [
    {
     "data": {
      "text/plain": [
       "   user  system elapsed \n",
       "  0.020   0.000   0.018 "
      ]
     },
     "metadata": {},
     "output_type": "display_data"
    }
   ],
   "source": [
    "system.time(Rcf_Rcpp(0,1,n))"
   ]
  },
  {
   "cell_type": "code",
   "execution_count": 14,
   "metadata": {},
   "outputs": [],
   "source": [
    "mbk<-microbenchmark(\n",
    "    Rcf(f,0,1,n),\n",
    "    Rcf_Rcpp(0,1,n)\n",
    "    )"
   ]
  },
  {
   "cell_type": "code",
   "execution_count": 15,
   "metadata": {},
   "outputs": [
    {
     "name": "stdout",
     "output_type": "stream",
     "text": [
      "Unit: milliseconds\n",
      "              expr       min        lq      mean    median        uq       max\n",
      "   Rcf(f, 0, 1, n) 498.22033 543.54487 596.49554 570.83496 632.26109 844.79447\n",
      " Rcf_Rcpp(0, 1, n)  16.47919  17.22442  20.66479  18.27896  20.00948  99.21195\n",
      " neval\n",
      "   100\n",
      "   100\n"
     ]
    }
   ],
   "source": [
    "print(mbk)"
   ]
  },
  {
   "cell_type": "code",
   "execution_count": null,
   "metadata": {},
   "outputs": [],
   "source": []
  }
 ],
 "metadata": {
  "kernelspec": {
   "display_name": "R",
   "language": "R",
   "name": "ir"
  },
  "language_info": {
   "codemirror_mode": "r",
   "file_extension": ".r",
   "mimetype": "text/x-r-source",
   "name": "R",
   "pygments_lexer": "r",
   "version": "3.6.2"
  }
 },
 "nbformat": 4,
 "nbformat_minor": 4
}
