{
 "cells": [
  {
   "cell_type": "code",
   "execution_count": 1,
   "metadata": {},
   "outputs": [
    {
     "name": "stdout",
     "output_type": "stream",
     "text": [
      "Reading package lists...\n",
      "Building dependency tree...\n",
      "Reading state information...\n",
      "The following NEW packages will be installed:\n",
      "  time\n",
      "0 upgraded, 1 newly installed, 0 to remove and 22 not upgraded.\n",
      "Need to get 26.2 kB of archives.\n",
      "After this operation, 79.9 kB of additional disk space will be used.\n",
      "Get:1 http://archive.ubuntu.com/ubuntu bionic/main amd64 time amd64 1.7-25.1build1 [26.2 kB]\n",
      "Fetched 26.2 kB in 6s (4626 B/s)\n",
      "Selecting previously unselected package time.\n",
      "(Reading database ... 18427 files and directories currently installed.)\n",
      "Preparing to unpack .../time_1.7-25.1build1_amd64.deb ...\n",
      "Unpacking time (1.7-25.1build1) ...\n",
      "Setting up time (1.7-25.1build1) ...\n"
     ]
    },
    {
     "name": "stderr",
     "output_type": "stream",
     "text": [
      "debconf: delaying package configuration, since apt-utils is not installed\n"
     ]
    }
   ],
   "source": [
    "%%bash\n",
    "sudo apt-get install time"
   ]
  },
  {
   "cell_type": "code",
   "execution_count": 2,
   "metadata": {},
   "outputs": [
    {
     "name": "stdout",
     "output_type": "stream",
     "text": [
      "Writing Rcf.c\n"
     ]
    }
   ],
   "source": [
    "%%file Rcf.c\n",
    "#include<stdio.h>\n",
    "#include<stdlib.h>\n",
    "#include<math.h> //header para funciones de mate\n",
    "void Rcf(double ext_izq, double ext_der, int n,\\\n",
    "    double *suma_global_p);\n",
    "double f(double nodo);\n",
    "int main(int argc, char *argv[]){\n",
    "    double suma_global = 0.0;\n",
    "    double a=0.0, b=1.0;\n",
    "    int n=1e6; //número de subintervalos\n",
    "    double objetivo=0.7468241328124271;\n",
    "    Rcf(a,b,n,&suma_global);\n",
    "    printf(\"Integral de %f a %f = %1.15e\\n\", a,b,suma_global);\n",
    "    printf(\"Error relativo de la solución: %1.15e\\n\", fabs(suma_global-objetivo)/fabs(objetivo));\n",
    "    return 0;\n",
    "}\n",
    "void Rcf(double a, double b, int n, double *sum){\n",
    "    double h_hat=(b-a)/n;\n",
    "    double x=0.0;\n",
    "    int i=0;\n",
    "    *sum = 0.0;\n",
    "    for(i=0;i<=n-1;i++){\n",
    "        x = a+(i+1/2.0)*h_hat;\n",
    "        *sum+=f(x);\n",
    "    }\n",
    "    *sum =h_hat*(*sum);\n",
    "}\n",
    "double f(double nodo){\n",
    "    double valor_f;\n",
    "    valor_f = exp(-pow(nodo,2));\n",
    "    return valor_f;\n",
    "}"
   ]
  },
  {
   "cell_type": "code",
   "execution_count": 3,
   "metadata": {},
   "outputs": [],
   "source": [
    "%%bash\n",
    "gcc -Wall Rcf.c -o Rcf.out -lm"
   ]
  },
  {
   "cell_type": "code",
   "execution_count": 4,
   "metadata": {},
   "outputs": [
    {
     "name": "stdout",
     "output_type": "stream",
     "text": [
      "Integral de 0.000000 a 1.000000 = 7.468241328124773e-01\n",
      "Error relativo de la solución: 6.719397313003120e-14\n"
     ]
    },
    {
     "name": "stderr",
     "output_type": "stream",
     "text": [
      "real 0.03\n",
      "user 0.02\n",
      "sys 0.00\n"
     ]
    }
   ],
   "source": [
    "%%bash\n",
    "/usr/bin/time -p ./Rcf.out "
   ]
  },
  {
   "cell_type": "markdown",
   "metadata": {},
   "source": [
    "$n=16777216 \\approx 10^7$ subintervalos?"
   ]
  },
  {
   "cell_type": "code",
   "execution_count": 8,
   "metadata": {},
   "outputs": [
    {
     "name": "stdout",
     "output_type": "stream",
     "text": [
      "Overwriting Rcf2.c\n"
     ]
    }
   ],
   "source": [
    "%%file Rcf2.c\n",
    "#include<stdio.h>\n",
    "#include<stdlib.h>\n",
    "#include<math.h> //header para funciones de mate\n",
    "void Rcf(double ext_izq, double ext_der, int n,\\\n",
    "    double *suma_global_p);\n",
    "double f(double nodo);\n",
    "int main(int argc, char *argv[]){\n",
    "    double suma_global = 0.0;\n",
    "    double a=0.0, b=1.0;\n",
    "    int n=16777216; //número de subintervalos\n",
    "    double objetivo=0.7468241328124271;\n",
    "    Rcf(a,b,n,&suma_global);\n",
    "    printf(\"Integral de %f a %f = %1.15e\\n\", a,b,suma_global);\n",
    "    printf(\"Error relativo de la solución: %1.15e\\n\", fabs(suma_global-objetivo)/fabs(objetivo));\n",
    "    return 0;\n",
    "}\n",
    "void Rcf(double a, double b, int n, double *sum){\n",
    "    double h_hat=(b-a)/n;\n",
    "    double x=0.0;\n",
    "    int i=0;\n",
    "    *sum = 0.0;\n",
    "    for(i=0;i<=n-1;i++){\n",
    "        x = a+(i+1/2.0)*h_hat;\n",
    "        *sum+=f(x);\n",
    "    }\n",
    "    *sum =h_hat*(*sum);\n",
    "}\n",
    "double f(double nodo){\n",
    "    double valor_f;\n",
    "    valor_f = exp(-pow(nodo,2));\n",
    "    return valor_f;\n",
    "}"
   ]
  },
  {
   "cell_type": "code",
   "execution_count": 9,
   "metadata": {},
   "outputs": [],
   "source": [
    "%%bash\n",
    "gcc -Wall Rcf2.c -o Rcf2.out -lm"
   ]
  },
  {
   "cell_type": "code",
   "execution_count": 10,
   "metadata": {},
   "outputs": [
    {
     "name": "stdout",
     "output_type": "stream",
     "text": [
      "Integral de 0.000000 a 1.000000 = 7.468241328123114e-01\n",
      "Error relativo de la solución: 1.549029203572843e-13\n"
     ]
    },
    {
     "name": "stderr",
     "output_type": "stream",
     "text": [
      "real 0.53\n",
      "user 0.53\n",
      "sys 0.00\n"
     ]
    }
   ],
   "source": [
    "%%bash\n",
    "/usr/bin/time -p ./Rcf2.out "
   ]
  },
  {
   "cell_type": "markdown",
   "metadata": {},
   "source": [
    "$n=134217728\\approx 10^8$ subintervalos?"
   ]
  },
  {
   "cell_type": "code",
   "execution_count": 19,
   "metadata": {},
   "outputs": [
    {
     "name": "stdout",
     "output_type": "stream",
     "text": [
      "Overwriting Rcf3.c\n"
     ]
    }
   ],
   "source": [
    "%%file Rcf3.c\n",
    "#include<stdio.h>\n",
    "#include<stdlib.h>\n",
    "#include<math.h> //header para funciones de mate\n",
    "void Rcf(double ext_izq, double ext_der, int n,\\\n",
    "    double *suma_global_p);\n",
    "double f(double nodo);\n",
    "int main(int argc, char *argv[]){\n",
    "    double suma_global = 0.0;\n",
    "    double a=0.0, b=1.0;\n",
    "    int n=134217728; //número de subintervalos\n",
    "    double objetivo=0.7468241328124271;\n",
    "    Rcf(a,b,n,&suma_global);\n",
    "    printf(\"Integral de %f a %f = %1.15e\\n\", a,b,suma_global);\n",
    "    printf(\"Error relativo de la solución: %1.15e\\n\", fabs(suma_global-objetivo)/fabs(objetivo));\n",
    "    return 0;\n",
    "}\n",
    "void Rcf(double a, double b, int n, double *sum){\n",
    "    double h_hat=(b-a)/n;\n",
    "    double x=0.0;\n",
    "    int i=0;\n",
    "    *sum = 0.0;\n",
    "    for(i=0;i<=n-1;i++){\n",
    "        x = a+(i+1/2.0)*h_hat;\n",
    "        *sum+=f(x);\n",
    "    }\n",
    "    *sum =h_hat*(*sum);\n",
    "}\n",
    "double f(double nodo){\n",
    "    double valor_f;\n",
    "    valor_f = exp(-pow(nodo,2));\n",
    "    return valor_f;\n",
    "}"
   ]
  },
  {
   "cell_type": "code",
   "execution_count": 20,
   "metadata": {},
   "outputs": [],
   "source": [
    "%%bash\n",
    "gcc -Wall Rcf3.c -o Rcf3.out -lm"
   ]
  },
  {
   "cell_type": "code",
   "execution_count": 21,
   "metadata": {},
   "outputs": [
    {
     "name": "stdout",
     "output_type": "stream",
     "text": [
      "Integral de 0.000000 a 1.000000 = 7.468241328123667e-01\n",
      "Error relativo de la solución: 8.087062252817913e-14\n"
     ]
    },
    {
     "name": "stderr",
     "output_type": "stream",
     "text": [
      "real 4.39\n",
      "user 4.37\n",
      "sys 0.01\n"
     ]
    }
   ],
   "source": [
    "%%bash\n",
    "/usr/bin/time -p ./Rcf3.out "
   ]
  },
  {
   "cell_type": "code",
   "execution_count": null,
   "metadata": {},
   "outputs": [],
   "source": []
  }
 ],
 "metadata": {
  "kernelspec": {
   "display_name": "Python 3",
   "language": "python",
   "name": "python3"
  },
  "language_info": {
   "codemirror_mode": {
    "name": "ipython",
    "version": 3
   },
   "file_extension": ".py",
   "mimetype": "text/x-python",
   "name": "python",
   "nbconvert_exporter": "python",
   "pygments_lexer": "ipython3",
   "version": "3.6.9"
  }
 },
 "nbformat": 4,
 "nbformat_minor": 4
}
