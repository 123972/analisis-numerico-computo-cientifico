{
 "cells": [
  {
   "cell_type": "markdown",
   "metadata": {},
   "source": [
    "Nota generada a partir de [liga](https://www.dropbox.com/s/5bc6tn39o0qqg35/1.3.Condicion_estabilidad_y_normas.pdf?dl=0)"
   ]
  },
  {
   "cell_type": "markdown",
   "metadata": {},
   "source": [
    "Comando de docker para ejecución de la nota de forma local:\n",
    "\n",
    "nota: cambiar `<ruta a mi directorio>` por la ruta de directorio que se desea mapear a `/datos` dentro del contenedor de docker.\n",
    "\n",
    "```\n",
    "docker run --rm -v <ruta a mi directorio>:/datos --name jupyterlab-local -p 8888:8888 -d palmoreck/jupyterlab:1.1.0\n",
    "```\n",
    "\n",
    "Detener el contenedor de docker:\n",
    "\n",
    "```\n",
    "docker stop jupyterlab-local\n",
    "```\n"
   ]
  },
  {
   "cell_type": "code",
   "execution_count": 1,
   "metadata": {},
   "outputs": [
    {
     "name": "stdout",
     "output_type": "stream",
     "text": [
      "Requirement already satisfied: numpy in /home/miuser/.local/lib/python3.6/site-packages (1.18.0)\n",
      "Requirement already satisfied: matplotlib in /home/miuser/.local/lib/python3.6/site-packages (3.1.2)\n",
      "Requirement already satisfied: scipy in /home/miuser/.local/lib/python3.6/site-packages (1.4.1)\n",
      "Requirement already satisfied: pyparsing!=2.0.4,!=2.1.2,!=2.1.6,>=2.0.1 in /home/miuser/.local/lib/python3.6/site-packages (from matplotlib) (2.4.6)\n",
      "Requirement already satisfied: kiwisolver>=1.0.1 in /home/miuser/.local/lib/python3.6/site-packages (from matplotlib) (1.1.0)\n",
      "Requirement already satisfied: cycler>=0.10 in /home/miuser/.local/lib/python3.6/site-packages (from matplotlib) (0.10.0)\n",
      "Requirement already satisfied: python-dateutil>=2.1 in /usr/local/lib/python3.6/dist-packages (from matplotlib) (2.8.0)\n",
      "Requirement already satisfied: setuptools in /usr/lib/python3/dist-packages (from kiwisolver>=1.0.1->matplotlib) (39.0.1)\n",
      "Requirement already satisfied: six in /usr/lib/python3/dist-packages (from cycler>=0.10->matplotlib) (1.11.0)\n",
      "\u001b[33mWARNING: You are using pip version 19.2.3, however version 19.3.1 is available.\n",
      "You should consider upgrading via the 'pip install --upgrade pip' command.\u001b[0m\n",
      "Note: you may need to restart the kernel to use updated packages.\n"
     ]
    }
   ],
   "source": [
    "%pip install --user numpy matplotlib scipy"
   ]
  },
  {
   "cell_type": "code",
   "execution_count": 2,
   "metadata": {},
   "outputs": [
    {
     "data": {
      "text/plain": [
       "{'status': 'ok', 'restart': True}"
      ]
     },
     "execution_count": 2,
     "metadata": {},
     "output_type": "execute_result"
    }
   ],
   "source": [
    "import IPython\n",
    "app = IPython.Application.instance()\n",
    "app.kernel.do_shutdown(True)  "
   ]
  },
  {
   "cell_type": "markdown",
   "metadata": {},
   "source": [
    "# 1.3 Condición de un problema y estabilidad de un algoritmo"
   ]
  },
  {
   "cell_type": "markdown",
   "metadata": {},
   "source": [
    "Dos temas fundamentales en el análisis numérico son: la **condición de un problema** y **estabilidad de un algoritmo**. El condicionamiento tiene que ver con el comportamiento de un problema ante perturbaciones y la estabilidad con el comportamiento de un algoritmo (usado para resolver un problema) ante perturbaciones."
   ]
  },
  {
   "cell_type": "markdown",
   "metadata": {},
   "source": [
    "La exactitud de un cálculo dependerá finalmente de una combinación de estos términos:\n",
    "\n",
    "<p style=\"text-align: center;\">Exactitud = Condición + Estabilidad</p>\n",
    "\n",
    "La falta de exactitud en un problema se presenta entonces por problemas mal condicionados (no importando si los algoritmos son estables o inestables) y algoritmos inestables (no importando si los problemas son mal o bien condicionados)."
   ]
  },
  {
   "cell_type": "markdown",
   "metadata": {},
   "source": [
    "## Perturbaciones"
   ]
  },
  {
   "cell_type": "markdown",
   "metadata": {},
   "source": [
    "La condición de un problema y estabilidad de un algoritmo hacen referencia al término **perturbación**. Tal término conduce a pensar en perturbaciones \"chicas\" o \"grandes\". Para dar una medida de lo anterior se utiliza el concepto de **norma**. Ver final de esta nota para definición de norma y propiedades."
   ]
  },
  {
   "cell_type": "markdown",
   "metadata": {},
   "source": [
    "## Condición de un problema"
   ]
  },
  {
   "cell_type": "markdown",
   "metadata": {},
   "source": [
    "Pensemos a un problema como una función $f: \\mathbb{X} \\rightarrow \\mathbb{Y}$ donde $\\mathbb{X}$ es un espacio vectorial con norma definida y $\\mathbb{Y}$ es otro espacio vectorial de soluciones con una norma definida. Llamemos instancia de un problema a la combinación entre $x,f$ y nos interesa el comportamiento de $f$ en $x$. Usamos el nombre de \"problema\" para referirnos al de instancia del problema.\n",
    "\n",
    "Un problema (instancia) bien condicionado tiene la propiedad de que todas las perturbaciones pequeñas en $x$ conducen a pequeños cambios en $f(x)$. Y es mal condicionado si perturbaciones pequeñas en $x$ conducen a grandes cambios en $f(x)$. El uso de los términos \"pequeño\" o \"grande\" dependen del problema mismo.\n",
    "\n",
    "Sea $\\hat{x} = x + \\Delta x$ con $\\Delta x$ una perturbación pequeña de $x$.\n",
    "\n",
    "El **número de condición relativo del problema $f$ en $x$** es:\n",
    "\n",
    "$$\\text{Cond}_f^R = \\frac{\\text{ErrRel}(f(\\hat{x}))}{\\text{ErrRel}(\\hat{x})}  = \\frac{\\frac{||f(\\hat{x})-f(x)||}{||f(x)||}}{\\frac{||x-\\hat{x}||}{||x||}}$$\n",
    "\n",
    "considerando $x,f(x) \\neq 0$."
   ]
  },
  {
   "cell_type": "markdown",
   "metadata": {},
   "source": [
    "**Obs:** si $f$ es una función diferenciable, podemos evaluar $\\text{Cond}_f^R$ con la derivada de $f$, pues a primer orden (usando teorema de Taylor): $f(\\hat{x})-f(x) \\approx \\mathcal{J}_f(x)\\Delta x$ con igualdad para $\\Delta x \\rightarrow 0$ y $\\mathcal{J}_f$ la Jacobiana de $f$ definida como una matriz con entradas: $(\\mathcal{J}_f(x))_{ij} = \\frac{\\partial f_i(x)}{\\partial x_j}$. Por tanto, se tiene:\n",
    "\n",
    "$$\\text{Cond}_{f}^R = \\frac{||\\mathcal{J}_f(x)||||x||}{||f(x)||}$$"
   ]
  },
  {
   "cell_type": "markdown",
   "metadata": {},
   "source": [
    "y $||\\mathcal{J}_f(x)||$ es una norma matricial inducida por las normas en $\\mathbb{X}, \\mathbb{Y}$. Ver final de esta nota para definición de norma y propiedades."
   ]
  },
  {
   "cell_type": "markdown",
   "metadata": {},
   "source": [
    "**Comentario:** en la práctica se considera a un problema **bien condicionado** si $\\text{Cond}_f^R$ es \"pequeño\": menor a $10$, **medianamente condicionado** si es de orden entre $10^1$ y $10^2$ y **mal condicionado** si es \"grande\": mayor a $10^3$."
   ]
  },
  {
   "cell_type": "markdown",
   "metadata": {},
   "source": [
    "**Ejercicio:**\n",
    "\n",
    "Calcular $\\text{Cond}_f^R$ de los siguientes problemas. Para $x \\in \\mathbb{R}$ usa el valor absoluto y para $x \\in \\mathbb{R}^n$ usa $||x||_\\infty$.\n",
    "\n",
    "1. $x \\in \\mathbb{R} - \\{0\\}$. Problema: realizar la operación $\\frac{x}{2}$.\n",
    "\n",
    "2. $x \\geq 0$. Problema: calcular $\\sqrt{x}$.\n",
    "\n",
    "3. $x \\approx \\frac{\\pi}{2}$. Problema: calcular $\\cos(x)$.\n",
    "\n",
    "4. $x \\in \\mathbb{R}^2$. Problema: calcular $x_1-x_2$."
   ]
  },
  {
   "cell_type": "markdown",
   "metadata": {},
   "source": [
    "**Comentario:** las dificultades que pueden surgir al resolver un problema **no** siempre están relacionadas con una fórmula o un algoritmo mal diseñado sino con el problema en cuestión. En el ejercicio anterior, observamos que áun utilizando **aritmética exacta**, la solución del problema puede ser altamente sensible a perturbaciones a los datos de entrada. Por esto el número de condición relativo se define de acuerdo a perturbaciones en los datos de entrada y mide la perturbación en los datos de salida que uno espera: \n",
    "\n",
    "$$\\text{Cond}_f^R = \\frac{||\\text{Cambios relativos en la solución}||}{||\\text{Cambios relativos en los datos de entrada}||}.$$"
   ]
  },
  {
   "cell_type": "markdown",
   "metadata": {},
   "source": [
    "## Estabilidad de un algoritmo"
   ]
  },
  {
   "cell_type": "markdown",
   "metadata": {},
   "source": [
    "Pensemos a un algoritmo $\\hat{f}$ como una función $\\hat{f}:\\mathbb{X}\\rightarrow \\mathbb{Y}$ para resolver el problema $f$ con datos $x \\in \\mathbb{X}$, donde $\\mathbb{X}$ es un espacio vectorial con norma definida y $\\mathbb{Y}$ es otro espacio vectorial con una norma definida.\n",
    "\n",
    "\n",
    "La implantación del algoritmo $\\hat{f}$ en una máquina conduce a considerar:\n",
    "\n",
    "* Errores por redondeo:\n",
    "\n",
    "$$fl(u) = u(1+\\epsilon), |\\epsilon| \\leq \\epsilon_{maq}, \\forall u \\in \\mathbb{R}.$$"
   ]
  },
  {
   "cell_type": "markdown",
   "metadata": {},
   "source": [
    "* Operaciones en un SPFN, $\\mathcal{Fl}$. Por ejemplo para la suma:\n",
    "\n",
    "$$u \\oplus v  = fl(u+v) = (u + v)(1+\\epsilon), |\\epsilon|\\leq \\epsilon_{maq} \\forall u,v \\in \\mathcal{Fl}.$$\n",
    "\n",
    "Esto es, $\\hat{f}$ depende de $x \\in \\mathbb{X}$ y $\\epsilon_{maq}$: representación de los números reales en una máquina y operaciones entre ellos o aritmética de máquina. Ver nota: [1.2.Sistema_de_punto_flotante](https://github.com/ITAM-DS/analisis-numerico-computo-cientifico/blob/master/temas/I.computo_cientifico/1.2.Sistema_de_punto_flotante.ipynb)."
   ]
  },
  {
   "cell_type": "markdown",
   "metadata": {},
   "source": [
    "Al ejecutar $\\hat{f}$ obtenemos una colección de números en el SPFN que pertenecen a $\\mathbb{Y}$: $\\hat{f}(x)$.\n",
    "\n",
    "Debido a las diferencias entre un problema con cantidades continuas y una máquina que trabaja con cantidades discretas, los algoritmos numéricos **no** son exactos para **cualquier** elección de datos $x \\in \\mathbb{X}$. Esto es, los algoritmos **no** cumplen que la cantidad: \n",
    "\n",
    "$$\\frac{||\\hat{f}(x)-f(x)||}{||f(x)||}$$\n",
    "\n",
    "dependa únicamente de errores por redondeo al evaluar $f$ $\\forall x \\in \\mathbb{X}$. En notación matemática:"
   ]
  },
  {
   "cell_type": "markdown",
   "metadata": {},
   "source": [
    "$$\\frac{||\\hat{f}(x)-f(x)||}{||f(x)||} \\leq K \\epsilon_{maq} \\forall x \\in \\mathbb{X}$$\n",
    "\n",
    "con $K > 0$ no se cumple en general."
   ]
  },
  {
   "cell_type": "markdown",
   "metadata": {},
   "source": [
    "La razón de lo anterior tiene que ver con cuestiones en la implantación de $\\hat{f}$ como el número de iteraciones, la representación de $x$ en un SPFN o el mal condicionamiento de $f$. Así, a los algoritmos en el análisis numérico, se les pide una condición menos estricta que la anterior y más bien satisfagan lo que se conoce como **estabilidad**. Se dice que un algoritmo $\\hat{f}$ para un problema $f$ es **estable** si:\n",
    "\n",
    "$$\\forall x \\in \\mathbb{X}, \\frac{||\\hat{f}(x)-f(\\hat{x})||}{||f(\\hat{x})||} \\leq K_1\\epsilon_{maq}, K_1>0$$\n",
    "\n",
    "para $\\hat{x} \\in \\mathbb{X}$ tal que $\\frac{||x-\\hat{x}||}{||x||} \\leq K_2\\epsilon_{maq}, K_2>0$."
   ]
  },
  {
   "cell_type": "markdown",
   "metadata": {},
   "source": [
    "Esto es, $\\hat{f}$ resuelve un problema cercano para datos cercanos (cercano en el sentido del $\\epsilon_{maq}$) independientemente de la elección de $x$.\n",
    "\n",
    "**Obs:** obsérvese que esta condición es más flexible y en general $K_1, K_2$ dependen de las dimensiones de $\\mathbb{X},\\mathbb{Y}$."
   ]
  },
  {
   "cell_type": "markdown",
   "metadata": {},
   "source": [
    "**Comentarios:**\n",
    "\n",
    "* Esta definición resulta apropiada para la mayoría de los problemas en el ánalisis numérico. Para otras áreas, por ejemplo en ecuaciones diferenciales, donde se tienen definiciones de sistemas dinámicos estables e inestables (cuyas definiciones no se deben confundir con las descritas para algoritmos), esta condición es muy estricta.\n",
    "\n",
    "* Tenemos algoritmos que satisfacen una condición más estricta y simple que la estabilidad: **estabilidad hacia atrás**:\n",
    "\n"
   ]
  },
  {
   "cell_type": "markdown",
   "metadata": {},
   "source": [
    "### Estabilidad hacia atrás"
   ]
  },
  {
   "cell_type": "markdown",
   "metadata": {},
   "source": [
    "Decimos que un algoritmo $\\hat{f}$ para el problema $f$ es **estable hacia atrás** si:\n",
    "\n",
    "$$\\forall x \\in \\mathbb{X}, \\hat{f}(x) = f(\\hat{x})$$\n",
    "\n",
    "con $\\hat{x} \\in \\mathbb{X}$ tal que $\\frac{||x-\\hat{x}||}{||x||} \\leq K\\epsilon_{maq}, K>0$.\n",
    "\n",
    "Esto es, el algoritmo $\\hat{f}$ da la solución **exacta** para datos cercanos (cercano en el sentido de $\\epsilon_{maq}$), independientemente de la elección de $x$."
   ]
  },
  {
   "cell_type": "markdown",
   "metadata": {},
   "source": [
    "**Comentario:** Para entender la estabilidad hacia atrás de un algoritmo, considérese el ejemplo siguiente. \n",
    "\n",
    "**Problema:** evaluar $f(x) = e^x$ en $x=1$.\n",
    "\n",
    "**Resultado:** $f(1) = e^1 = 2.718281...$.\n",
    "\n"
   ]
  },
  {
   "cell_type": "code",
   "execution_count": 1,
   "metadata": {},
   "outputs": [
    {
     "data": {
      "text/plain": [
       "2.718281828459045"
      ]
     },
     "execution_count": 1,
     "metadata": {},
     "output_type": "execute_result"
    }
   ],
   "source": [
    "import math\n",
    "x=1\n",
    "math.exp(x)"
   ]
  },
  {
   "cell_type": "markdown",
   "metadata": {},
   "source": [
    "**Algoritmo:** truncar la serie $1 + x + \\frac{x^2}{2} + \\frac{x^3}{6} + \\dots $ a cuatro términos: $\\hat{f}(x) = 1 + x + \\frac{x^2}{2} + \\frac{x^3}{6}$.\n",
    "\n",
    "**Resultado del algoritmo:** $\\hat{f}(1) = 2.\\bar{6}$"
   ]
  },
  {
   "cell_type": "code",
   "execution_count": 2,
   "metadata": {},
   "outputs": [],
   "source": [
    "algoritmo = lambda x: 1 + x + x**2/2.0 + x**3/6.0"
   ]
  },
  {
   "cell_type": "code",
   "execution_count": 3,
   "metadata": {},
   "outputs": [
    {
     "data": {
      "text/plain": [
       "2.6666666666666665"
      ]
     },
     "execution_count": 3,
     "metadata": {},
     "output_type": "execute_result"
    }
   ],
   "source": [
    "algoritmo(1)"
   ]
  },
  {
   "cell_type": "markdown",
   "metadata": {},
   "source": [
    "**Pregunta:** ¿Qué valor $\\hat{x} \\in \\mathbb{R}$ hace que el valor calculado por el algoritmo $\\hat{f}(1)$ sea igual a $f(\\hat{x})$?\n",
    "\n",
    "-> **Solución:** \n",
    "\n",
    "Resolver la ecuación: $e^{\\hat{x}} = 2.\\bar{6}$, esto es: $\\hat{x} = log(2.\\bar{6}) = 0.980829...$. Entonces $f(\\hat{x}) = 2.\\bar{6} = \\hat{f}(x)$."
   ]
  },
  {
   "cell_type": "code",
   "execution_count": 4,
   "metadata": {},
   "outputs": [
    {
     "data": {
      "text/plain": [
       "0.9808292530117262"
      ]
     },
     "execution_count": 4,
     "metadata": {},
     "output_type": "execute_result"
    }
   ],
   "source": [
    "x_hat = math.log(algoritmo(1))\n",
    "x_hat"
   ]
  },
  {
   "cell_type": "markdown",
   "metadata": {},
   "source": [
    "Entonces, el algoritmo es estable hacia atrás sólo si la diferencia entre $x$ y $\\hat{x}$ en términos relativos es menor a $K \\epsilon_{maq}$ con $K >0$. Además, podemos calcular **errores hacia delante** y **errores hacia atrás**:\n",
    "\n",
    "error hacia delante: $\\hat{f}(x) - f(x) = -0.05161...$, error hacia atrás: $\\hat{x}-x = -0.01917...$."
   ]
  },
  {
   "cell_type": "code",
   "execution_count": 5,
   "metadata": {},
   "outputs": [
    {
     "data": {
      "text/plain": [
       "-0.05161516179237857"
      ]
     },
     "execution_count": 5,
     "metadata": {},
     "output_type": "execute_result"
    }
   ],
   "source": [
    "err_delante = algoritmo(x) - math.exp(x)\n",
    "err_delante"
   ]
  },
  {
   "cell_type": "code",
   "execution_count": 6,
   "metadata": {},
   "outputs": [
    {
     "data": {
      "text/plain": [
       "-0.019170746988273812"
      ]
     },
     "execution_count": 6,
     "metadata": {},
     "output_type": "execute_result"
    }
   ],
   "source": [
    "err_atras = x_hat-x\n",
    "err_atras"
   ]
  },
  {
   "cell_type": "markdown",
   "metadata": {},
   "source": [
    "Dependiendo del problema estos errores son pequeños o grandes, por ejemplo si consideramos tener una cifra correcta como suficiente para determinar que es una buena aproximación entonces podemos concluir: $\\hat{f}$ obtiene una respuesta correcta y cercana al valor de $f$ (error hacia delante) y la respuesta que obtuvimos con $\\hat{f}$ es correcta para datos ligeramente perturbados (error hacia atrás).\n",
    "\n",
    "**Obs:** \n",
    "\n",
    "1. Obsérvese que el error hacia delante requiere resolver el problema $f$ (para calcular $f(x)$) y de información sobre $f$.\n",
    "\n",
    "2. En el ejemplo anterior se calculó $\\hat{f}(x)$ y se calculó qué tan larga debe ser la modificación en los datos $x$, esto es: $\\hat{x}$, para que $\\hat{f}(x) = f(\\hat{x})$ (error hacia atrás).\n",
    "\n",
    "3. \n",
    "\n",
    "<p align=\"centered\">\n",
    "<img src=\"https://drive.google.com/uc?export=view&id=1O8JxFe1E2ttCH9nIJVeuatOZ_4y8WkUi\" alt=\"a\" heigth=\"500\" width=\"500\">\n",
    "</p>\n",
    "\n"
   ]
  },
  {
   "cell_type": "markdown",
   "metadata": {},
   "source": [
    "# 1.3.1 Número de condición de una matriz"
   ]
  },
  {
   "cell_type": "markdown",
   "metadata": {},
   "source": [
    "En el curso trabajaremos con algoritmos matriciales que son numéricamente estables (o estables hacia atrás) ante errores por redondeo, sin embargo la exactitud que obtengamos con tales algoritmos dependerán de qué tan bien (o mal) condicionado esté el problema. En el caso de matrices la condición de un problema puede ser cuantificada con el **número de condición** de la matriz del problema. Aunque haciendo uso de definiciones como la pseudoinversa de una matriz es posible definir el número de condición para una matriz en general rectangular $A \\in \\mathbb{R}^{m\\times n}$, en esta primera definición consideramos matrices cuadradas no singulares $A \\in \\mathbb{R}^{n\\times n}$:\n",
    "\n",
    "$$\\text{cond}(A) = ||A|| ||A^{-1}||.$$"
   ]
  },
  {
   "cell_type": "markdown",
   "metadata": {},
   "source": [
    "**Obs:** obsérvese que la norma anterior es una **norma matricial** y cond$(\\cdot)$ puede calcularse para diferentes normas matriciales. Ver final de esta nota para definición de norma y propiedades."
   ]
  },
  {
   "cell_type": "markdown",
   "metadata": {},
   "source": [
    "## ¿Por qué se utiliza la expresión $||A|| ||A^{-1}||$ para definir el número de condición de una matriz?"
   ]
  },
  {
   "cell_type": "markdown",
   "metadata": {},
   "source": [
    "Esta pregunta tiene que ver con el hecho que tal expresión aparece frecuentemente en problemas típicos de matrices. Para lo anterior considérese los siguientes problemas $f$:"
   ]
  },
  {
   "cell_type": "markdown",
   "metadata": {},
   "source": [
    "1.Sean $A \\in \\mathbb{R}^{n\\times n}$ no singular, $x \\in \\mathbb{R}^n$ y $f$ el problema de realizar la multiplicación $Ax$ para $x$ fijo, esto es: $f: \\mathbb{R}^n \\rightarrow \\mathbb{R}^n$ dada por $f(x) = Ax$. Considérese una perturbación en $x: \\hat{x} = x + \\Delta x$, entonces:\n",
    "\n",
    "$$\\text{Cond}_f^R = \\frac{\\text{ErrRel}(f(\\hat{x}))}{\\text{ErrRel}(\\hat{x})} = \\frac{\\frac{||f(\\hat{x})-f(x)||}{||f(x)||}}{\\frac{||x-\\hat{x}||}{||x||}} \\approx \\frac{||\\mathcal{J}_f(x)||||x||}{||f(x)||}.$$"
   ]
  },
  {
   "cell_type": "markdown",
   "metadata": {},
   "source": [
    "Para este problema tenemos: \n",
    "\n",
    "$$\\frac{||\\mathcal{J}_f(x)||||x||}{||f(x)||} = \\frac{||A|| ||x||}{||Ax||}.$$"
   ]
  },
  {
   "cell_type": "markdown",
   "metadata": {},
   "source": [
    "Si las normas matriciales utilizadas en el número de condición son consistentes (ver final de esta nota para definición de norma y propiedades) entonces: \n",
    "\n",
    "$$||x|| = ||A^{-1}Ax|| \\leq ||A^{-1}||||Ax|| \\therefore \\frac{||x||}{||Ax||} \\leq ||A^{-1}||$$"
   ]
  },
  {
   "cell_type": "markdown",
   "metadata": {},
   "source": [
    "y se tiene:\n",
    "\n",
    "$$\\text{Cond}_f^R \\leq ||A|| ||A^{-1}||.$$"
   ]
  },
  {
   "cell_type": "markdown",
   "metadata": {},
   "source": [
    "2.Sean $f: \\mathbb{R}^n \\rightarrow \\mathbb{R}, A \\in \\mathbb{R}^{n\\times n}$ no singular. Considérese el problema de calcular $f(b) = A^{-1}b$ para $b \\in \\mathbb{R}^n$ fijo y la perturbación $\\hat{b} = b + \\Delta b$ entonces bajo las suposiciones del ejemplo anterior:\n",
    "\n",
    "$$\\text{Cond}_f^R \\approx \\frac{||A^{-1}|| ||b||}{||A^{-1}b||}.$$"
   ]
  },
  {
   "cell_type": "markdown",
   "metadata": {},
   "source": [
    "Si las normas matriciales utilizadas en el número de condición son consistentes (ver final de esta nota para definición de norma y propiedades) entonces: \n",
    "\n",
    "$$||b|| = ||AA^{-1}b|| \\leq ||A|| ||A^{-1}b|| \\therefore \\text{Cond}_f^R \\leq ||A^{-1}|| ||A||.$$"
   ]
  },
  {
   "cell_type": "markdown",
   "metadata": {},
   "source": [
    "3.Sean $f: \\mathbb{R}^{n\\times n} \\rightarrow \\mathbb{R}^n, A \\in \\mathbb{R}^{n\\times n}$ no singular $b \\in \\mathbb{R}^n$ fijo. Considérese el problema de calcular la solución $x$ del sistema $Az=b$, esto es, calcular: $x = f(A) = A^{-1}b.$ Además, considérese la perturbación $\\hat{A} = A + \\Delta A$ en tal sistema $Az = b$. Se tiene:"
   ]
  },
  {
   "cell_type": "markdown",
   "metadata": {},
   "source": [
    "\n",
    "$$\\hat{x} = \\hat{A}^{-1}b,$$\n",
    "\n",
    "donde: $\\hat{x} = x + \\Delta x$ (si se perturba $A$ entonces se perturba también $x$).\n"
   ]
  },
  {
   "cell_type": "markdown",
   "metadata": {},
   "source": [
    "De la ecuación anterior como $\\hat{x} = \\hat{A}^{-1}b$ se tiene:\n",
    "\n",
    "$$\\hat{A}\\hat{x} = b$$"
   ]
  },
  {
   "cell_type": "markdown",
   "metadata": {},
   "source": [
    "$$(A+\\Delta A)(x+\\Delta x) = b$$"
   ]
  },
  {
   "cell_type": "markdown",
   "metadata": {},
   "source": [
    "$$Ax + A \\Delta x + \\Delta Ax + \\Delta A \\Delta x = b$$"
   ]
  },
  {
   "cell_type": "markdown",
   "metadata": {},
   "source": [
    "$$b + A \\Delta x + \\Delta A x = b$$"
   ]
  },
  {
   "cell_type": "markdown",
   "metadata": {},
   "source": [
    "Donde en esta última ecuación se supuso que $\\Delta A \\Delta x \\approx 0$ y de aquí:\n",
    "\n",
    "$$A \\Delta x + \\Delta A x  \\approx 0 \\therefore \\Delta x \\approx - A^{-1} \\Delta A x.$$"
   ]
  },
  {
   "cell_type": "markdown",
   "metadata": {},
   "source": [
    "Entonces se tiene que la condición del problema $f$ calcular la solución de sistema de ecuaciones lineales $Az=b$ con $A$ no singular ante perturbaciones en $A$ es:\n",
    "\n",
    "$$\\text{Cond}_f^R = \\frac{\\frac{||x-\\hat{x}||}{||x||}}{\\frac{||A-\\hat{A}||}{||A||}}=\\frac{\\frac{||\\Delta x||}{||x||}}{\\frac{||\\Delta A||}{||A||}} \\leq \\frac{\\frac{||A^{-1}||||\\Delta Ax||}{||x||}}{\\frac{||\\Delta A||}{||A||}} \\leq ||A^{-1}||||A||.$$"
   ]
  },
  {
   "cell_type": "markdown",
   "metadata": {},
   "source": [
    "## ¿Qué está midiendo el número de condición de una matriz respecto a un sistema de ecuaciones lineales?"
   ]
  },
  {
   "cell_type": "markdown",
   "metadata": {},
   "source": [
    "El número de condición de una matriz mide la **sensibilidad** de la solución de un sistema de ecuaciones lineales ante perturbaciones en los datos de entrada (en la matriz del sistema $A$ o en el lado derecho $b$). Si pequeños cambios en los datos de entrada generan grandes cambios en la solución tenemos un **sistema mal condicionado**. Si pequeños cambios en los datos de entrada generan pequeños cambios en la solución tenemos un sistema **bien condicionado**. Lo anterior puede apreciarse con los siguientes ejemplos y gráficas:"
   ]
  },
  {
   "cell_type": "code",
   "execution_count": 7,
   "metadata": {},
   "outputs": [],
   "source": [
    "import numpy as np\n",
    "import matplotlib.pyplot as plt\n",
    "import scipy\n",
    "import pprint"
   ]
  },
  {
   "cell_type": "markdown",
   "metadata": {},
   "source": [
    "1.Resolver los siguientes sistemas:\n",
    "\n",
    "$$a) \\begin{array}{ccc} x_1 +2x_2   &= & 10 \\\\ 1.1x_1 + 2x_2 &= & 10.4 \\end{array} $$"
   ]
  },
  {
   "cell_type": "markdown",
   "metadata": {},
   "source": [
    "$$b)\\begin{array}{ccc} 1.05x_1 +2x_2  &= & 10 \\\\ 1.1x_1 + 2x_2 &= & 10.4\\end{array} $$"
   ]
  },
  {
   "cell_type": "code",
   "execution_count": 8,
   "metadata": {},
   "outputs": [
    {
     "name": "stdout",
     "output_type": "stream",
     "text": [
      "inciso a\n",
      "matriz A:\n",
      "array([[1. , 2. ],\n",
      "       [1.1, 2. ]])\n",
      "lado derecho b:\n",
      "array([10. , 10.4])\n"
     ]
    }
   ],
   "source": [
    "print('inciso a')\n",
    "A = np.array([[1, 2], [1.1, 2]])\n",
    "b = np.array([10,10.4])\n",
    "print('matriz A:')\n",
    "pprint.pprint(A)\n",
    "print('lado derecho b:')\n",
    "pprint.pprint(b)"
   ]
  },
  {
   "cell_type": "code",
   "execution_count": 9,
   "metadata": {},
   "outputs": [
    {
     "name": "stdout",
     "output_type": "stream",
     "text": [
      "solución x:\n",
      "array([4., 3.])\n"
     ]
    }
   ],
   "source": [
    "x=np.linalg.solve(A,b)\n",
    "print('solución x:')\n",
    "pprint.pprint(x)"
   ]
  },
  {
   "cell_type": "code",
   "execution_count": 10,
   "metadata": {},
   "outputs": [
    {
     "data": {
      "image/png": "[encoded data removed]",
      "text/plain": [
       "<Figure size 432x288 with 1 Axes>"
      ]
     },
     "metadata": {
      "needs_background": "light"
     },
     "output_type": "display_data"
    }
   ],
   "source": [
    "x=np.arange(0,10,.5)\n",
    "recta1 = lambda x: 1/2.0*(10-1*x)\n",
    "recta2 = lambda x: 1/2.0*(10.4-1.1*x)\n",
    "plt.plot(x,recta1(x),'o-',x,recta2(x),'^-')\n",
    "plt.title('Sistema mal condicionado')\n",
    "plt.legend(('x1+2x2=10','1.1x1+2x2=10.4'))\n",
    "plt.grid(True)\n",
    "plt.show()"
   ]
  },
  {
   "cell_type": "markdown",
   "metadata": {},
   "source": [
    "**Obs:** obsérvese que las dos rectas anteriores tienen una inclinación (pendiente) similar por lo que no se ve claramente el punto en el que intersectan."
   ]
  },
  {
   "cell_type": "code",
   "execution_count": 11,
   "metadata": {},
   "outputs": [
    {
     "name": "stdout",
     "output_type": "stream",
     "text": [
      "inciso b\n",
      "matriz A ligeramente modificada:\n",
      "array([[1.05, 2.  ],\n",
      "       [1.1 , 2.  ]])\n",
      "lado derecho b:\n",
      "array([10. , 10.4])\n"
     ]
    }
   ],
   "source": [
    "print('inciso b')\n",
    "A = np.array([[1.05, 2], [1.1, 2]])\n",
    "b = np.array([10,10.4])\n",
    "print('matriz A ligeramente modificada:')\n",
    "pprint.pprint(A)\n",
    "print('lado derecho b:')\n",
    "pprint.pprint(b)"
   ]
  },
  {
   "cell_type": "code",
   "execution_count": 12,
   "metadata": {},
   "outputs": [
    {
     "name": "stdout",
     "output_type": "stream",
     "text": [
      "solución x:\n",
      "array([8. , 0.8])\n"
     ]
    }
   ],
   "source": [
    "x=np.linalg.solve(A,b)\n",
    "print('solución x:')\n",
    "pprint.pprint(x)"
   ]
  },
  {
   "cell_type": "code",
   "execution_count": 13,
   "metadata": {},
   "outputs": [
    {
     "data": {
      "image/png": "[encoded data removed]",
      "text/plain": [
       "<Figure size 432x288 with 1 Axes>"
      ]
     },
     "metadata": {
      "needs_background": "light"
     },
     "output_type": "display_data"
    }
   ],
   "source": [
    "x=np.arange(0,10,.5)\n",
    "recta1 = lambda x: 1/2.0*(10-1.05*x)\n",
    "recta2 = lambda x: 1/2.0*(10.4-1.1*x)\n",
    "plt.plot(x,recta1(x),'o-',x,recta2(x),'^-')\n",
    "plt.title('Sistema mal condicionado')\n",
    "plt.legend(('1.05x1+2x2=10','1.1x1+2x2=10.4'))\n",
    "plt.grid(True)\n",
    "plt.show()"
   ]
  },
  {
   "cell_type": "markdown",
   "metadata": {},
   "source": [
    "**Obs:** al modificar un poco las entradas de la matriz $A$ la solución del sistema cambia drásticamente."
   ]
  },
  {
   "cell_type": "markdown",
   "metadata": {},
   "source": [
    "**Comentario:** otra forma de describir a un sistema mal condicionado es que un amplio rango de valores en un SPFN satisfacen tal sistema de forma aproximada."
   ]
  },
  {
   "cell_type": "markdown",
   "metadata": {},
   "source": [
    "2.Resolver los siguientes sistemas:\n",
    "    \n",
    "$$a) \\begin{array}{ccc} .03x_1 + 58.9x_2   &= & 59.2 \\\\ 5.31x_1 -6.1x_2 &= & 47 \\end{array} $$"
   ]
  },
  {
   "cell_type": "markdown",
   "metadata": {},
   "source": [
    "$$a) \\begin{array}{ccc} .03x_1 + 58.9x_2   &= & 59.2 \\\\ 5.31x_1 -6.05x_2 &= & 47 \\end{array} $$"
   ]
  },
  {
   "cell_type": "code",
   "execution_count": 14,
   "metadata": {},
   "outputs": [
    {
     "name": "stdout",
     "output_type": "stream",
     "text": [
      "inciso a\n",
      "matriz A:\n",
      "array([[ 3.00e-02,  5.89e+01],\n",
      "       [ 5.31e+00, -6.10e+00]])\n",
      "lado derecho b:\n",
      "array([59.2, 47. ])\n"
     ]
    }
   ],
   "source": [
    "print('inciso a')\n",
    "A = np.array([[.03, 58.9], [5.31, -6.1]])\n",
    "b = np.array([59.2,47])\n",
    "print('matriz A:')\n",
    "pprint.pprint(A)\n",
    "print('lado derecho b:')\n",
    "pprint.pprint(b)"
   ]
  },
  {
   "cell_type": "code",
   "execution_count": 15,
   "metadata": {},
   "outputs": [
    {
     "name": "stdout",
     "output_type": "stream",
     "text": [
      "solución x:\n",
      "array([10.,  1.])\n"
     ]
    }
   ],
   "source": [
    "x=np.linalg.solve(A,b)\n",
    "print('solución x:')\n",
    "pprint.pprint(x)"
   ]
  },
  {
   "cell_type": "code",
   "execution_count": 16,
   "metadata": {},
   "outputs": [
    {
     "data": {
      "image/png": "[encoded data removed]",
      "text/plain": [
       "<Figure size 432x288 with 1 Axes>"
      ]
     },
     "metadata": {
      "needs_background": "light"
     },
     "output_type": "display_data"
    }
   ],
   "source": [
    "x=np.arange(4,14,.5)\n",
    "recta1 = lambda x: 1/58.9*(59.2-.03*x)\n",
    "recta2 = lambda x: 1/6.1*(5.31*x-47)\n",
    "plt.plot(x,recta1(x),'o-',x,recta2(x),'^-')\n",
    "plt.title('Sistema bien condicionado')\n",
    "plt.legend(('.03x1+58.9x2=59.2','5.31x1-6.1x2=47'))\n",
    "plt.grid(True)\n",
    "plt.show()"
   ]
  },
  {
   "cell_type": "markdown",
   "metadata": {},
   "source": [
    "**Obs:** obsérvese que la solución del sistema de ecuaciones (intersección entre las dos rectas) está claramente definido."
   ]
  },
  {
   "cell_type": "code",
   "execution_count": 17,
   "metadata": {},
   "outputs": [
    {
     "name": "stdout",
     "output_type": "stream",
     "text": [
      "inciso b\n",
      "matriz A ligeramente modificada:\n",
      "array([[ 3.00e-02,  5.89e+01],\n",
      "       [ 5.31e+00, -6.05e+00]])\n",
      "lado derecho b:\n",
      "array([59.2, 47. ])\n"
     ]
    }
   ],
   "source": [
    "print('inciso b')\n",
    "A = np.array([[.03, 58.9], [5.31, -6.05]])\n",
    "b = np.array([59.2,47])\n",
    "print('matriz A ligeramente modificada:')\n",
    "pprint.pprint(A)\n",
    "print('lado derecho b:')\n",
    "pprint.pprint(b)"
   ]
  },
  {
   "cell_type": "code",
   "execution_count": 18,
   "metadata": {},
   "outputs": [
    {
     "name": "stdout",
     "output_type": "stream",
     "text": [
      "solución x:\n",
      "array([9.99058927, 1.00000479])\n"
     ]
    }
   ],
   "source": [
    "x=np.linalg.solve(A,b)\n",
    "print('solución x:')\n",
    "pprint.pprint(x)"
   ]
  },
  {
   "cell_type": "code",
   "execution_count": 19,
   "metadata": {},
   "outputs": [
    {
     "data": {
      "image/png": "[encoded data removed]",
      "text/plain": [
       "<Figure size 432x288 with 1 Axes>"
      ]
     },
     "metadata": {
      "needs_background": "light"
     },
     "output_type": "display_data"
    }
   ],
   "source": [
    "x=np.arange(4,14,.5)\n",
    "recta1 = lambda x: 1/58.9*(59.2-.03*x)\n",
    "recta2 = lambda x: 1/6.05*(5.31*x-47)\n",
    "plt.plot(x,recta1(x),'o-',x,recta2(x),'^-')\n",
    "plt.title('Sistema bien condicionado')\n",
    "plt.legend(('.03x1+58.9x2=59.2','5.31x1-6.05x2=47'))\n",
    "plt.grid(True)\n",
    "plt.show()"
   ]
  },
  {
   "cell_type": "markdown",
   "metadata": {},
   "source": [
    "**Obs:** al modificar un poco las entradas de la matriz $A$ la solución **no** cambia mucho."
   ]
  },
  {
   "cell_type": "markdown",
   "metadata": {},
   "source": [
    "**Comentarios:** \n",
    "\n",
    "1.¿Por qué nos interesa considerar perturbaciones en los datos de entrada? -> recuérdese que los números reales se representan en la máquina mediante el sistema de punto flotante (SPF), entonces al ingresar datos a la máquina tenemos perturbaciones y por tanto errores de redondeo. Ver nota: [1.2.Sistema_de_punto_flotante](https://github.com/ITAM-DS/analisis-numerico-computo-cientifico/blob/master/temas/I.computo_cientifico/1.2.Sistema_de_punto_flotante.ipynb)\n",
    "\n",
    "2.Las matrices anteriores tienen número de condición distinto:"
   ]
  },
  {
   "cell_type": "code",
   "execution_count": 20,
   "metadata": {},
   "outputs": [
    {
     "name": "stdout",
     "output_type": "stream",
     "text": [
      "matriz del ejemplo 1\n",
      "array([[1. , 2. ],\n",
      "       [1.1, 2. ]])\n"
     ]
    }
   ],
   "source": [
    "print('matriz del ejemplo 1')\n",
    "A = np.array([[1, 2], [1.1, 2]])\n",
    "pprint.pprint(A)"
   ]
  },
  {
   "cell_type": "markdown",
   "metadata": {},
   "source": [
    "su número de condición es:"
   ]
  },
  {
   "cell_type": "code",
   "execution_count": 21,
   "metadata": {},
   "outputs": [
    {
     "data": {
      "text/plain": [
       "51.030403839186725"
      ]
     },
     "execution_count": 21,
     "metadata": {},
     "output_type": "execute_result"
    }
   ],
   "source": [
    "np.linalg.cond(A)"
   ]
  },
  {
   "cell_type": "code",
   "execution_count": 22,
   "metadata": {},
   "outputs": [
    {
     "name": "stdout",
     "output_type": "stream",
     "text": [
      "matriz del ejemplo 2\n",
      "array([[ 3.00e-02,  5.89e+01],\n",
      "       [ 5.31e+00, -6.10e+00]])\n"
     ]
    }
   ],
   "source": [
    "print('matriz del ejemplo 2')\n",
    "A = np.array([[.03, 58.9], [5.31, -6.1]])\n",
    "pprint.pprint(A)"
   ]
  },
  {
   "cell_type": "markdown",
   "metadata": {},
   "source": [
    "su número de condición es:"
   ]
  },
  {
   "cell_type": "code",
   "execution_count": 23,
   "metadata": {},
   "outputs": [
    {
     "data": {
      "text/plain": [
       "11.205557604869346"
      ]
     },
     "execution_count": 23,
     "metadata": {},
     "output_type": "execute_result"
    }
   ],
   "source": [
    "np.linalg.cond(A)"
   ]
  },
  {
   "cell_type": "markdown",
   "metadata": {},
   "source": [
    "Las matrices del ejemplo $1$ y $2$ son **medianamente** condicionadas. Una matriz se dice **bien condicionada** si cond$(A)$ es cercano a $1$."
   ]
  },
  {
   "cell_type": "markdown",
   "metadata": {},
   "source": [
    "## Algunas propiedades del número de condición de una matriz\n",
    "\n",
    "* Si $A \\in \\mathbb{R}^{n\\times n}$ es no singular entonces:\n",
    "\n",
    "$$\\frac{1}{\\text{cond}(A)} = \\min \\left\\{ \\frac{||A-B||}{||A||} \\mathrel{}\\middle|\\mathrel{} B \\text{ es singular}, ||\\cdot|| \\text{ es una norma inducida} \\right\\}.$$\n",
    "\n",
    "esto es, una matriz mal condicionada (número de condición grande) se le puede aproximar muy bien por una matriz singular. Sin embargo, el mal condicionamiento no necesariamente se relaciona con singularidad. Una matriz singular es mal condicionada pero una matriz mal condicionada no necesariamente es singular. Considérese por ejemplo la matriz de **Hilbert**:"
   ]
  },
  {
   "cell_type": "code",
   "execution_count": 24,
   "metadata": {},
   "outputs": [],
   "source": [
    "from scipy.linalg import hilbert"
   ]
  },
  {
   "cell_type": "code",
   "execution_count": 25,
   "metadata": {},
   "outputs": [
    {
     "data": {
      "text/plain": [
       "array([[1.        , 0.5       , 0.33333333, 0.25      ],\n",
       "       [0.5       , 0.33333333, 0.25      , 0.2       ],\n",
       "       [0.33333333, 0.25      , 0.2       , 0.16666667],\n",
       "       [0.25      , 0.2       , 0.16666667, 0.14285714]])"
      ]
     },
     "execution_count": 25,
     "metadata": {},
     "output_type": "execute_result"
    }
   ],
   "source": [
    "hilbert(4)"
   ]
  },
  {
   "cell_type": "code",
   "execution_count": 26,
   "metadata": {},
   "outputs": [
    {
     "data": {
      "text/plain": [
       "15513.738738928929"
      ]
     },
     "execution_count": 26,
     "metadata": {},
     "output_type": "execute_result"
    }
   ],
   "source": [
    "np.linalg.cond(hilbert(4))"
   ]
  },
  {
   "cell_type": "markdown",
   "metadata": {},
   "source": [
    "la cual es una matriz mal condicionada pero es no singular:"
   ]
  },
  {
   "cell_type": "code",
   "execution_count": 27,
   "metadata": {},
   "outputs": [
    {
     "data": {
      "text/plain": [
       "array([[ 1.00000000e+00, -7.46069873e-14, -5.68434189e-14,\n",
       "        -4.61852778e-14],\n",
       "       [ 5.68434189e-13,  1.00000000e+00,  2.84217094e-13,\n",
       "         2.84217094e-13],\n",
       "       [-4.54747351e-13, -3.41060513e-13,  1.00000000e+00,\n",
       "        -3.41060513e-13],\n",
       "       [ 2.27373675e-13,  0.00000000e+00,  5.68434189e-14,\n",
       "         1.00000000e+00]])"
      ]
     },
     "execution_count": 27,
     "metadata": {},
     "output_type": "execute_result"
    }
   ],
   "source": [
    "np.linalg.inv(hilbert(4))@hilbert(4)"
   ]
  },
  {
   "cell_type": "markdown",
   "metadata": {},
   "source": [
    "y otro ejemplo de una matriz singular:"
   ]
  },
  {
   "cell_type": "code",
   "execution_count": 28,
   "metadata": {},
   "outputs": [
    {
     "name": "stdout",
     "output_type": "stream",
     "text": [
      "matriz singular\n",
      "array([[1, 2],\n",
      "       [1, 2]])\n"
     ]
    }
   ],
   "source": [
    "print('matriz singular')\n",
    "A = np.array([[1, 2], [1, 2]])\n",
    "pprint.pprint(A)"
   ]
  },
  {
   "cell_type": "code",
   "execution_count": 29,
   "metadata": {},
   "outputs": [
    {
     "ename": "LinAlgError",
     "evalue": "Singular matrix",
     "output_type": "error",
     "traceback": [
      "\u001b[0;31m---------------------------------------------------------------------------\u001b[0m",
      "\u001b[0;31mLinAlgError\u001b[0m                               Traceback (most recent call last)",
      "\u001b[0;32m<ipython-input-29-ae645f97e1f8>\u001b[0m in \u001b[0;36m<module>\u001b[0;34m\u001b[0m\n\u001b[0;32m----> 1\u001b[0;31m \u001b[0mnp\u001b[0m\u001b[0;34m.\u001b[0m\u001b[0mlinalg\u001b[0m\u001b[0;34m.\u001b[0m\u001b[0minv\u001b[0m\u001b[0;34m(\u001b[0m\u001b[0mA\u001b[0m\u001b[0;34m)\u001b[0m\u001b[0;34m\u001b[0m\u001b[0;34m\u001b[0m\u001b[0m\n\u001b[0m",
      "\u001b[0;32m<__array_function__ internals>\u001b[0m in \u001b[0;36minv\u001b[0;34m(*args, **kwargs)\u001b[0m\n",
      "\u001b[0;32m~/.local/lib/python3.6/site-packages/numpy/linalg/linalg.py\u001b[0m in \u001b[0;36minv\u001b[0;34m(a)\u001b[0m\n\u001b[1;32m    545\u001b[0m     \u001b[0msignature\u001b[0m \u001b[0;34m=\u001b[0m \u001b[0;34m'D->D'\u001b[0m \u001b[0;32mif\u001b[0m \u001b[0misComplexType\u001b[0m\u001b[0;34m(\u001b[0m\u001b[0mt\u001b[0m\u001b[0;34m)\u001b[0m \u001b[0;32melse\u001b[0m \u001b[0;34m'd->d'\u001b[0m\u001b[0;34m\u001b[0m\u001b[0;34m\u001b[0m\u001b[0m\n\u001b[1;32m    546\u001b[0m     \u001b[0mextobj\u001b[0m \u001b[0;34m=\u001b[0m \u001b[0mget_linalg_error_extobj\u001b[0m\u001b[0;34m(\u001b[0m\u001b[0m_raise_linalgerror_singular\u001b[0m\u001b[0;34m)\u001b[0m\u001b[0;34m\u001b[0m\u001b[0;34m\u001b[0m\u001b[0m\n\u001b[0;32m--> 547\u001b[0;31m     \u001b[0mainv\u001b[0m \u001b[0;34m=\u001b[0m \u001b[0m_umath_linalg\u001b[0m\u001b[0;34m.\u001b[0m\u001b[0minv\u001b[0m\u001b[0;34m(\u001b[0m\u001b[0ma\u001b[0m\u001b[0;34m,\u001b[0m \u001b[0msignature\u001b[0m\u001b[0;34m=\u001b[0m\u001b[0msignature\u001b[0m\u001b[0;34m,\u001b[0m \u001b[0mextobj\u001b[0m\u001b[0;34m=\u001b[0m\u001b[0mextobj\u001b[0m\u001b[0;34m)\u001b[0m\u001b[0;34m\u001b[0m\u001b[0;34m\u001b[0m\u001b[0m\n\u001b[0m\u001b[1;32m    548\u001b[0m     \u001b[0;32mreturn\u001b[0m \u001b[0mwrap\u001b[0m\u001b[0;34m(\u001b[0m\u001b[0mainv\u001b[0m\u001b[0;34m.\u001b[0m\u001b[0mastype\u001b[0m\u001b[0;34m(\u001b[0m\u001b[0mresult_t\u001b[0m\u001b[0;34m,\u001b[0m \u001b[0mcopy\u001b[0m\u001b[0;34m=\u001b[0m\u001b[0;32mFalse\u001b[0m\u001b[0;34m)\u001b[0m\u001b[0;34m)\u001b[0m\u001b[0;34m\u001b[0m\u001b[0;34m\u001b[0m\u001b[0m\n\u001b[1;32m    549\u001b[0m \u001b[0;34m\u001b[0m\u001b[0m\n",
      "\u001b[0;32m~/.local/lib/python3.6/site-packages/numpy/linalg/linalg.py\u001b[0m in \u001b[0;36m_raise_linalgerror_singular\u001b[0;34m(err, flag)\u001b[0m\n\u001b[1;32m     95\u001b[0m \u001b[0;34m\u001b[0m\u001b[0m\n\u001b[1;32m     96\u001b[0m \u001b[0;32mdef\u001b[0m \u001b[0m_raise_linalgerror_singular\u001b[0m\u001b[0;34m(\u001b[0m\u001b[0merr\u001b[0m\u001b[0;34m,\u001b[0m \u001b[0mflag\u001b[0m\u001b[0;34m)\u001b[0m\u001b[0;34m:\u001b[0m\u001b[0;34m\u001b[0m\u001b[0;34m\u001b[0m\u001b[0m\n\u001b[0;32m---> 97\u001b[0;31m     \u001b[0;32mraise\u001b[0m \u001b[0mLinAlgError\u001b[0m\u001b[0;34m(\u001b[0m\u001b[0;34m\"Singular matrix\"\u001b[0m\u001b[0;34m)\u001b[0m\u001b[0;34m\u001b[0m\u001b[0;34m\u001b[0m\u001b[0m\n\u001b[0m\u001b[1;32m     98\u001b[0m \u001b[0;34m\u001b[0m\u001b[0m\n\u001b[1;32m     99\u001b[0m \u001b[0;32mdef\u001b[0m \u001b[0m_raise_linalgerror_nonposdef\u001b[0m\u001b[0;34m(\u001b[0m\u001b[0merr\u001b[0m\u001b[0;34m,\u001b[0m \u001b[0mflag\u001b[0m\u001b[0;34m)\u001b[0m\u001b[0;34m:\u001b[0m\u001b[0;34m\u001b[0m\u001b[0;34m\u001b[0m\u001b[0m\n",
      "\u001b[0;31mLinAlgError\u001b[0m: Singular matrix"
     ]
    }
   ],
   "source": [
    "np.linalg.inv(A)"
   ]
  },
  {
   "cell_type": "code",
   "execution_count": 30,
   "metadata": {},
   "outputs": [
    {
     "data": {
      "text/plain": [
       "inf"
      ]
     },
     "execution_count": 30,
     "metadata": {},
     "output_type": "execute_result"
    }
   ],
   "source": [
    "np.linalg.cond(A)"
   ]
  },
  {
   "cell_type": "markdown",
   "metadata": {},
   "source": [
    "* Para las normas matriciales inducidas se tiene:\n",
    "\n",
    "    * cond$(A)\\geq 1, \\forall A \\in \\mathbb{R}^{n\\times n}$.\n",
    "    \n",
    "    * cond$(\\gamma A) = \\text{cond}(A), \\forall \\gamma \\in \\mathbb{R}-\\{0\\}, \\forall A \\in \\mathbb{R}^{n\\times n}$.\n",
    "    \n",
    "    * cond$_2(A) = ||A||_2||A^{-1}||_2 = \\frac{\\sigma_{\\max}}{\\sigma_{\\min}}, \\sigma_{\\min} \\neq 0$."
   ]
  },
  {
   "cell_type": "markdown",
   "metadata": {},
   "source": [
    "* En el problema: resolver $Ax = b$ se cumple:\n",
    "\n",
    "$$\\text{ErrRel}(\\hat{x}) = \\frac{||x^*-\\hat{x}||}{||x^*||} \\leq \\text{cond}(A) \\left ( \\frac{||\\Delta A||}{||A||} + \\frac{||\\Delta b||}{||b||} \\right ), b \\neq 0.$$\n",
    "\n",
    "donde: $x^*$ es solución de $Ax=b$ y $\\hat{x}$ es solución aproximada que se obtiene por algún método numérico (por ejemplo factorización LU). $\\frac{||\\Delta A||}{||A||}, \\frac{||\\Delta b||}{||b||}$ son los errores relativos en las entradas de $A$ y $b$ respectivamente."
   ]
  },
  {
   "cell_type": "markdown",
   "metadata": {},
   "source": [
    "**Comentario:** la desigualdad anterior se puede interpretar como sigue: si sólo tenemos perturbaciones en $A$ de modo que se tienen errores por redondeo del orden de $10^{-k}$ y por lo tanto $k$ dígitos de precisión en $A$ y cond$(A)$ es del orden de $10^c$ entonces $\\text{ErrRel}(\\hat{x})$ puede llegar a tener errores de redondeo de a lo más del orden de $10^{c-k}$ y por tanto $k-c$ dígitos de precisión:\n",
    "\n",
    "$$\\text{ErrRel}(\\hat{x}) \\leq \\text{cond}(A) \\frac{||\\Delta A||}{||A||}.$$"
   ]
  },
  {
   "cell_type": "markdown",
   "metadata": {},
   "source": [
    "* Supongamos que $x^*$ es solución del sistema $Ax=b$ y obtenemos $\\hat{x}$ por algún método numérico (por ejemplo factorización LU) entonces ¿qué condiciones garantizan que $||x^*-\\hat{x}||$ sea cercano a cero (del orden de $ \\epsilon_{maq}= 10^{-16}$), ¿de qué depende esto?"
   ]
  },
  {
   "cell_type": "markdown",
   "metadata": {},
   "source": [
    "Para responder las preguntas anteriores definimos el residual de $Ax=b$ como $$r=A\\hat{x}-b$$ con $\\hat{x}$ aproximación a $x^*$ obtenida por algún método numérico. Asimismo, el residual relativo a la norma de $b$ como:"
   ]
  },
  {
   "cell_type": "markdown",
   "metadata": {},
   "source": [
    "$$\\frac{||r||}{||b||}.$$"
   ]
  },
  {
   "cell_type": "markdown",
   "metadata": {},
   "source": [
    "**Obs:** típicamente $x^*$ (solución exacta) es desconocida y por ello no podríamos calcular $||x^*-\\hat{x}||$, sin embargo sí podemos calcular el residual relativo a la norma de $b$: $\\frac{||r||}{||b||}$. ¿Se cumple que $\\frac{||r||}{||b||}$ pequeño implica $\\text{ErrRel}(\\hat{x})$ pequeño? El siguiente resultado nos ayuda a responder esta y las preguntas anteriores:"
   ]
  },
  {
   "cell_type": "markdown",
   "metadata": {},
   "source": [
    "Sea $A \\in \\mathbb{R}^{n\\times n}$ no singular, $x^*$ solución de $Ax=b$, $\\hat{x}$ aproximación a $x^*$, entonces para las normas matriciales inducidas se cumple:\n",
    "\n",
    "$$\\frac{||r||}{||b||} \\frac{1}{\\text{cond}(A)} \\leq \\frac{||x^*-\\hat{x}||}{||x^*||}\\leq \\text{cond}(A)\\frac{||r||}{||b||}.$$"
   ]
  },
  {
   "cell_type": "markdown",
   "metadata": {},
   "source": [
    "Por la desigualdad anterior, si $\\text{cond}(A) \\approx 1$ entonces $\\frac{||r||}{||b||}$ es una buena estimación de $\\text{ErrRel}(\\hat{x}) = \\frac{||x^*-\\hat{x}||}{||x^*||}$ por lo que $\\hat{x}$ es una buena estimación de $x^*$. Si $\\text{cond}(A)$ es grande no podemos decir **nada** acerca de $\\text{ErrRel}(\\hat{x})$ ni de $\\hat{x}$."
   ]
  },
  {
   "cell_type": "markdown",
   "metadata": {},
   "source": [
    "**Ejemplos:**"
   ]
  },
  {
   "cell_type": "markdown",
   "metadata": {},
   "source": [
    "1."
   ]
  },
  {
   "cell_type": "markdown",
   "metadata": {},
   "source": [
    "$$a) \\begin{array}{ccc} x_1 + x_2   &= & 2 \\\\ 10.05x_1 + 10x_2 &= & 21 \\end{array} $$"
   ]
  },
  {
   "cell_type": "markdown",
   "metadata": {},
   "source": [
    "$$b) \\begin{array}{ccc} x_1 + x_2   &= & 2 \\\\ 10.1x_1 + 10x_2 &= & 21 \\end{array} $$"
   ]
  },
  {
   "cell_type": "code",
   "execution_count": 31,
   "metadata": {},
   "outputs": [
    {
     "name": "stdout",
     "output_type": "stream",
     "text": [
      "inciso a\n",
      "matriz A_1:\n",
      "array([[ 1.  ,  1.  ],\n",
      "       [10.05, 10.  ]])\n",
      "lado derecho b_1:\n",
      "array([ 2, 21])\n"
     ]
    }
   ],
   "source": [
    "print('inciso a')\n",
    "A_1 = np.array([[1, 1], [10.05, 10]])\n",
    "b_1 = np.array([2,21])\n",
    "print('matriz A_1:')\n",
    "pprint.pprint(A_1)\n",
    "print('lado derecho b_1:')\n",
    "pprint.pprint(b_1)"
   ]
  },
  {
   "cell_type": "code",
   "execution_count": 32,
   "metadata": {},
   "outputs": [
    {
     "name": "stdout",
     "output_type": "stream",
     "text": [
      "solución x_est:\n",
      "array([ 20., -18.])\n"
     ]
    }
   ],
   "source": [
    "x_est=np.linalg.solve(A_1,b_1)\n",
    "print('solución x_est:')\n",
    "pprint.pprint(x_est)"
   ]
  },
  {
   "cell_type": "code",
   "execution_count": 33,
   "metadata": {},
   "outputs": [
    {
     "name": "stdout",
     "output_type": "stream",
     "text": [
      "inciso b\n",
      "matriz A_2:\n",
      "array([[ 1. ,  1. ],\n",
      "       [10.1, 10. ]])\n",
      "lado derecho b_2:\n",
      "array([ 2, 21])\n"
     ]
    }
   ],
   "source": [
    "print('inciso b')\n",
    "A_2 = np.array([[1, 1], [10.1, 10]])\n",
    "b_2 = np.array([2,21])\n",
    "print('matriz A_2:')\n",
    "pprint.pprint(A_2)\n",
    "print('lado derecho b_2:')\n",
    "pprint.pprint(b_2)"
   ]
  },
  {
   "cell_type": "code",
   "execution_count": 34,
   "metadata": {},
   "outputs": [
    {
     "name": "stdout",
     "output_type": "stream",
     "text": [
      "solución x_hat:\n",
      "array([10., -8.])\n"
     ]
    }
   ],
   "source": [
    "x_hat=np.linalg.solve(A_2,b_2)\n",
    "print('solución x_hat:')\n",
    "pprint.pprint(x_hat)"
   ]
  },
  {
   "cell_type": "code",
   "execution_count": 35,
   "metadata": {},
   "outputs": [
    {
     "name": "stdout",
     "output_type": "stream",
     "text": [
      "residual relativo:\n"
     ]
    },
    {
     "data": {
      "text/plain": [
       "0.02370227315699886"
      ]
     },
     "execution_count": 35,
     "metadata": {},
     "output_type": "execute_result"
    }
   ],
   "source": [
    "print('residual relativo:')\n",
    "r_rel = np.linalg.norm(A_1@x_hat-b_1)/np.linalg.norm(b_1)\n",
    "r_rel"
   ]
  },
  {
   "cell_type": "code",
   "execution_count": 36,
   "metadata": {},
   "outputs": [
    {
     "name": "stdout",
     "output_type": "stream",
     "text": [
      "error relativo:\n",
      "0.5255883312276278\n"
     ]
    }
   ],
   "source": [
    "print('error relativo:')\n",
    "err_rel = np.linalg.norm(x_hat-x_est)/np.linalg.norm(x_est)\n",
    "pprint.pprint(err_rel)"
   ]
  },
  {
   "cell_type": "markdown",
   "metadata": {},
   "source": [
    "**no tenemos una buena estimación del error relativo a partir del residual relativo pues:**"
   ]
  },
  {
   "cell_type": "code",
   "execution_count": 37,
   "metadata": {},
   "outputs": [
    {
     "data": {
      "text/plain": [
       "4060.0497536998155"
      ]
     },
     "execution_count": 37,
     "metadata": {},
     "output_type": "execute_result"
    }
   ],
   "source": [
    "np.linalg.cond(A_1)"
   ]
  },
  {
   "cell_type": "markdown",
   "metadata": {},
   "source": [
    "De acuerdo a la cota del resultado el error relativo se encuentra en el intervalo:"
   ]
  },
  {
   "cell_type": "code",
   "execution_count": 38,
   "metadata": {},
   "outputs": [
    {
     "data": {
      "text/plain": [
       "(5.837926773040061e-06, 96.23240829319897)"
      ]
     },
     "execution_count": 38,
     "metadata": {},
     "output_type": "execute_result"
    }
   ],
   "source": [
    "(r_rel*1/np.linalg.cond(A_1), r_rel*np.linalg.cond(A_1))"
   ]
  },
  {
   "cell_type": "markdown",
   "metadata": {},
   "source": [
    "2. "
   ]
  },
  {
   "cell_type": "markdown",
   "metadata": {},
   "source": [
    "$$a) \\begin{array}{ccc} 4.1x_1 + 2.8x_2   &= & 4.1 \\\\ 9.7x_1 + 6.6x_2 &= & 9.7 \\end{array}$$"
   ]
  },
  {
   "cell_type": "markdown",
   "metadata": {},
   "source": [
    "$$b) \\begin{array}{ccc} 4.1x_1 + 2.8x_2   &= & 4.11 \\\\ 9.7x_1 + 6.6x_2 &= & 9.7 \\end{array}$$"
   ]
  },
  {
   "cell_type": "code",
   "execution_count": 39,
   "metadata": {},
   "outputs": [
    {
     "name": "stdout",
     "output_type": "stream",
     "text": [
      "inciso a\n",
      "matriz A_1:\n",
      "array([[4.1, 2.8],\n",
      "       [9.7, 6.6]])\n",
      "lado derecho b_1:\n",
      "array([4.1, 9.7])\n"
     ]
    }
   ],
   "source": [
    "print('inciso a')\n",
    "A_1 = np.array([[4.1, 2.8], [9.7, 6.6]])\n",
    "b_1 = np.array([4.1,9.7])\n",
    "print('matriz A_1:')\n",
    "pprint.pprint(A_1)\n",
    "print('lado derecho b_1:')\n",
    "pprint.pprint(b_1)"
   ]
  },
  {
   "cell_type": "code",
   "execution_count": 40,
   "metadata": {},
   "outputs": [
    {
     "name": "stdout",
     "output_type": "stream",
     "text": [
      "solución x_est:\n",
      "array([1., 0.])\n"
     ]
    }
   ],
   "source": [
    "x_est=np.linalg.solve(A_1,b_1)\n",
    "print('solución x_est:')\n",
    "pprint.pprint(x_est)"
   ]
  },
  {
   "cell_type": "code",
   "execution_count": 41,
   "metadata": {},
   "outputs": [
    {
     "name": "stdout",
     "output_type": "stream",
     "text": [
      "inciso b\n",
      "matriz A_2:\n",
      "array([[4.1, 2.8],\n",
      "       [9.7, 6.6]])\n",
      "lado derecho b_2:\n",
      "array([4.11, 9.7 ])\n"
     ]
    }
   ],
   "source": [
    "print('inciso b')\n",
    "A_2 = np.array([[4.1, 2.8], [9.7, 6.6]])\n",
    "b_2 = np.array([4.11,9.7])\n",
    "print('matriz A_2:')\n",
    "pprint.pprint(A_2)\n",
    "print('lado derecho b_2:')\n",
    "pprint.pprint(b_2)"
   ]
  },
  {
   "cell_type": "code",
   "execution_count": 42,
   "metadata": {},
   "outputs": [
    {
     "name": "stdout",
     "output_type": "stream",
     "text": [
      "solución x_hat:\n",
      "array([0.34, 0.97])\n"
     ]
    }
   ],
   "source": [
    "x_hat=np.linalg.solve(A_2,b_2)\n",
    "print('solución x_hat:')\n",
    "pprint.pprint(x_hat)"
   ]
  },
  {
   "cell_type": "code",
   "execution_count": 43,
   "metadata": {},
   "outputs": [
    {
     "name": "stdout",
     "output_type": "stream",
     "text": [
      "residual relativo:\n"
     ]
    },
    {
     "data": {
      "text/plain": [
       "0.0009495858335005704"
      ]
     },
     "execution_count": 43,
     "metadata": {},
     "output_type": "execute_result"
    }
   ],
   "source": [
    "print('residual relativo:')\n",
    "r_rel = np.linalg.norm(A_1@x_hat-b_1)/np.linalg.norm(b_1)\n",
    "r_rel"
   ]
  },
  {
   "cell_type": "code",
   "execution_count": 44,
   "metadata": {},
   "outputs": [
    {
     "name": "stdout",
     "output_type": "stream",
     "text": [
      "error relativo:\n",
      "1.1732433677631406\n"
     ]
    }
   ],
   "source": [
    "print('error relativo:')\n",
    "err_rel = np.linalg.norm(x_hat-x_est)/np.linalg.norm(x_est)\n",
    "pprint.pprint(err_rel)"
   ]
  },
  {
   "cell_type": "markdown",
   "metadata": {},
   "source": [
    "**no tenemos una buena estimación del error relativo a partir del residual relativo pues:**"
   ]
  },
  {
   "cell_type": "code",
   "execution_count": 45,
   "metadata": {},
   "outputs": [
    {
     "data": {
      "text/plain": [
       "1622.9993838565106"
      ]
     },
     "execution_count": 45,
     "metadata": {},
     "output_type": "execute_result"
    }
   ],
   "source": [
    "np.linalg.cond(A_1)"
   ]
  },
  {
   "cell_type": "code",
   "execution_count": 46,
   "metadata": {},
   "outputs": [
    {
     "data": {
      "text/plain": [
       "(5.850808342540463e-07, 1.5411772226902969)"
      ]
     },
     "execution_count": 46,
     "metadata": {},
     "output_type": "execute_result"
    }
   ],
   "source": [
    "(r_rel*1/np.linalg.cond(A_1), r_rel*np.linalg.cond(A_1))"
   ]
  },
  {
   "cell_type": "markdown",
   "metadata": {},
   "source": [
    "3. "
   ]
  },
  {
   "cell_type": "markdown",
   "metadata": {},
   "source": [
    "$$a) \\begin{array}{ccc} 3.9x_1 + 11.6x_2   &= & 5.5 \\\\ 12.8x_1 + 2.9x_2 &= & 9.7 \\end{array}$$"
   ]
  },
  {
   "cell_type": "markdown",
   "metadata": {},
   "source": [
    "$$b) \\begin{array}{ccc} 3.95x_1 + 11.6x_2   &= & 5.5 \\\\ 12.8x_1 + 2.9x_2 &= & 9.7 \\end{array}$$"
   ]
  },
  {
   "cell_type": "code",
   "execution_count": 47,
   "metadata": {},
   "outputs": [
    {
     "name": "stdout",
     "output_type": "stream",
     "text": [
      "inciso a\n",
      "matriz A_1:\n",
      "array([[ 3.9, 11.6],\n",
      "       [12.8,  2.9]])\n",
      "lado derecho b_1:\n",
      "array([5.5, 9.7])\n"
     ]
    }
   ],
   "source": [
    "print('inciso a')\n",
    "A_1 = np.array([[3.9, 11.6], [12.8, 2.9]])\n",
    "b_1 = np.array([5.5,9.7])\n",
    "print('matriz A_1:')\n",
    "pprint.pprint(A_1)\n",
    "print('lado derecho b_1:')\n",
    "pprint.pprint(b_1)"
   ]
  },
  {
   "cell_type": "code",
   "execution_count": 48,
   "metadata": {},
   "outputs": [
    {
     "name": "stdout",
     "output_type": "stream",
     "text": [
      "solución x_est:\n",
      "array([0.70401691, 0.23744259])\n"
     ]
    }
   ],
   "source": [
    "x_est=np.linalg.solve(A_1,b_1)\n",
    "print('solución x_est:')\n",
    "pprint.pprint(x_est)"
   ]
  },
  {
   "cell_type": "code",
   "execution_count": 49,
   "metadata": {},
   "outputs": [
    {
     "name": "stdout",
     "output_type": "stream",
     "text": [
      "inciso b\n",
      "matriz A_2:\n",
      "array([[ 3.95, 11.6 ],\n",
      "       [12.8 ,  2.9 ]])\n",
      "lado derecho b_2:\n",
      "array([5.5, 9.7])\n"
     ]
    }
   ],
   "source": [
    "print('inciso b')\n",
    "A_2 = np.array([[3.95, 11.6], [12.8, 2.9]])\n",
    "b_2 =  np.array([5.5,9.7])\n",
    "print('matriz A_2:')\n",
    "pprint.pprint(A_2)\n",
    "print('lado derecho b_2:')\n",
    "pprint.pprint(b_2)"
   ]
  },
  {
   "cell_type": "code",
   "execution_count": 50,
   "metadata": {},
   "outputs": [
    {
     "name": "stdout",
     "output_type": "stream",
     "text": [
      "solución x_hat:\n",
      "array([0.7047619 , 0.23415435])\n"
     ]
    }
   ],
   "source": [
    "x_hat=np.linalg.solve(A_2,b_2)\n",
    "print('solución x_hat:')\n",
    "pprint.pprint(x_hat)"
   ]
  },
  {
   "cell_type": "code",
   "execution_count": 51,
   "metadata": {},
   "outputs": [
    {
     "name": "stdout",
     "output_type": "stream",
     "text": [
      "residual relativo:\n"
     ]
    },
    {
     "data": {
      "text/plain": [
       "0.0031601448781200417"
      ]
     },
     "execution_count": 51,
     "metadata": {},
     "output_type": "execute_result"
    }
   ],
   "source": [
    "print('residual relativo:')\n",
    "r_rel = np.linalg.norm(A_1@x_hat-b_1)/np.linalg.norm(b_1)\n",
    "r_rel"
   ]
  },
  {
   "cell_type": "code",
   "execution_count": 52,
   "metadata": {},
   "outputs": [
    {
     "name": "stdout",
     "output_type": "stream",
     "text": [
      "error relativo:\n",
      "0.004537910940159858\n"
     ]
    }
   ],
   "source": [
    "print('error relativo:')\n",
    "err_rel = np.linalg.norm(x_hat-x_est)/np.linalg.norm(x_est)\n",
    "pprint.pprint(err_rel)"
   ]
  },
  {
   "cell_type": "markdown",
   "metadata": {},
   "source": [
    "**sí tenemos una buena estimación del error relativo a partir del residual relativo pues:**"
   ]
  },
  {
   "cell_type": "code",
   "execution_count": 53,
   "metadata": {},
   "outputs": [
    {
     "data": {
      "text/plain": [
       "1.7884565161384884"
      ]
     },
     "execution_count": 53,
     "metadata": {},
     "output_type": "execute_result"
    }
   ],
   "source": [
    "np.linalg.cond(A_1)"
   ]
  },
  {
   "cell_type": "code",
   "execution_count": 54,
   "metadata": {},
   "outputs": [
    {
     "data": {
      "text/plain": [
       "(0.0017669676895154308, 0.005651781699215458)"
      ]
     },
     "execution_count": 54,
     "metadata": {},
     "output_type": "execute_result"
    }
   ],
   "source": [
    "(r_rel*1/np.linalg.cond(A_1), r_rel*np.linalg.cond(A_1))"
   ]
  },
  {
   "cell_type": "markdown",
   "metadata": {},
   "source": [
    "3. "
   ]
  },
  {
   "cell_type": "markdown",
   "metadata": {},
   "source": [
    "$\\theta=\\frac{\\pi}{3}$"
   ]
  },
  {
   "cell_type": "code",
   "execution_count": 55,
   "metadata": {},
   "outputs": [],
   "source": [
    "theta_1=math.pi/3"
   ]
  },
  {
   "cell_type": "code",
   "execution_count": 56,
   "metadata": {},
   "outputs": [
    {
     "data": {
      "text/plain": [
       "(0.5000000000000001, 0.8660254037844386)"
      ]
     },
     "execution_count": 56,
     "metadata": {},
     "output_type": "execute_result"
    }
   ],
   "source": [
    "(math.cos(theta_1),math.sin(theta_1))"
   ]
  },
  {
   "cell_type": "code",
   "execution_count": 57,
   "metadata": {},
   "outputs": [],
   "source": [
    "theta_2 = math.pi/3 + .00005"
   ]
  },
  {
   "cell_type": "code",
   "execution_count": 58,
   "metadata": {},
   "outputs": [
    {
     "data": {
      "text/plain": [
       "1.0472475511965977"
      ]
     },
     "execution_count": 58,
     "metadata": {},
     "output_type": "execute_result"
    }
   ],
   "source": [
    "theta_2"
   ]
  },
  {
   "cell_type": "code",
   "execution_count": 59,
   "metadata": {},
   "outputs": [
    {
     "data": {
      "text/plain": [
       "(0.49995669810482884, 0.8660504027018965)"
      ]
     },
     "execution_count": 59,
     "metadata": {},
     "output_type": "execute_result"
    }
   ],
   "source": [
    "(math.cos(theta_2),math.sin(theta_2))"
   ]
  },
  {
   "cell_type": "markdown",
   "metadata": {},
   "source": [
    "$$a) \\begin{array}{ccc} \\cos(\\theta_1)x_1 - \\sin(\\theta_1)x_2   &= & -1.5 \\\\ \\sin(\\theta_1)x_1 + \\cos(\\theta_1)x_2 &= & 2.4 \\end{array}$$"
   ]
  },
  {
   "cell_type": "markdown",
   "metadata": {},
   "source": [
    "$$b) \\begin{array}{ccc} \\cos(\\theta_2)x_1 - \\sin(\\theta_2)x_2   &= & -1.5 \\\\ \\sin(\\theta_2)x_1 + \\cos(\\theta_2)x_2 &= & 2.4 \\end{array}$$"
   ]
  },
  {
   "cell_type": "markdown",
   "metadata": {},
   "source": [
    "$$c) \\begin{array}{ccc} \\cos(\\theta_2)x_1 - \\sin(\\theta_2)x_2   &= & -1.7 \\\\ \\sin(\\theta_2)x_1 + \\cos(\\theta_2)x_2 &= & 2.4 \\end{array}$$"
   ]
  },
  {
   "cell_type": "code",
   "execution_count": 60,
   "metadata": {},
   "outputs": [
    {
     "name": "stdout",
     "output_type": "stream",
     "text": [
      "inciso a\n",
      "matriz A_1:\n",
      "array([[ 0.5      , -0.8660254],\n",
      "       [ 0.8660254,  0.5      ]])\n",
      "lado derecho b_1:\n",
      "array([-1.5,  2.4])\n"
     ]
    }
   ],
   "source": [
    "print('inciso a')\n",
    "A_1 = np.array([[math.cos(theta_1), -math.sin(theta_1)], [math.sin(theta_1), math.cos(theta_1)]])\n",
    "b_1 = np.array([-1.5,2.4])\n",
    "print('matriz A_1:')\n",
    "pprint.pprint(A_1)\n",
    "print('lado derecho b_1:')\n",
    "pprint.pprint(b_1)"
   ]
  },
  {
   "cell_type": "code",
   "execution_count": 61,
   "metadata": {},
   "outputs": [
    {
     "name": "stdout",
     "output_type": "stream",
     "text": [
      "solución x_est:\n",
      "array([1.32846097, 2.49903811])\n"
     ]
    }
   ],
   "source": [
    "x_est=np.linalg.solve(A_1,b_1)\n",
    "print('solución x_est:')\n",
    "pprint.pprint(x_est)"
   ]
  },
  {
   "cell_type": "code",
   "execution_count": 62,
   "metadata": {},
   "outputs": [
    {
     "name": "stdout",
     "output_type": "stream",
     "text": [
      "inciso b\n",
      "matriz A_2:\n",
      "array([[ 0.4999567, -0.8660504],\n",
      "       [ 0.8660504,  0.4999567]])\n",
      "lado derecho b_2:\n",
      "array([-1.5,  2.4])\n"
     ]
    }
   ],
   "source": [
    "print('inciso b')\n",
    "A_2 = np.array([[math.cos(theta_2), -math.sin(theta_2)], [math.sin(theta_2), math.cos(theta_2)]])\n",
    "b_2 = np.array([-1.5,2.4])\n",
    "print('matriz A_2:')\n",
    "pprint.pprint(A_2)\n",
    "print('lado derecho b_2:')\n",
    "pprint.pprint(b_2)"
   ]
  },
  {
   "cell_type": "code",
   "execution_count": 63,
   "metadata": {},
   "outputs": [
    {
     "name": "stdout",
     "output_type": "stream",
     "text": [
      "solución x_hat:\n",
      "array([1.32858592, 2.49897168])\n"
     ]
    }
   ],
   "source": [
    "x_hat=np.linalg.solve(A_2,b_2)\n",
    "print('solución x_hat:')\n",
    "pprint.pprint(x_hat)"
   ]
  },
  {
   "cell_type": "code",
   "execution_count": 64,
   "metadata": {},
   "outputs": [
    {
     "name": "stdout",
     "output_type": "stream",
     "text": [
      "residual relativo:\n"
     ]
    },
    {
     "data": {
      "text/plain": [
       "4.999999999505376e-05"
      ]
     },
     "execution_count": 64,
     "metadata": {},
     "output_type": "execute_result"
    }
   ],
   "source": [
    "print('residual relativo:')\n",
    "r_rel = np.linalg.norm(A_1@x_hat-b_1)/np.linalg.norm(b_1)\n",
    "r_rel"
   ]
  },
  {
   "cell_type": "code",
   "execution_count": 65,
   "metadata": {},
   "outputs": [
    {
     "name": "stdout",
     "output_type": "stream",
     "text": [
      "error relativo:\n",
      "4.9999999995027926e-05\n"
     ]
    }
   ],
   "source": [
    "print('error relativo:')\n",
    "err_rel = np.linalg.norm(x_hat-x_est)/np.linalg.norm(x_est)\n",
    "pprint.pprint(err_rel)"
   ]
  },
  {
   "cell_type": "markdown",
   "metadata": {},
   "source": [
    "**sí tenemos una buena estimación del error relativo a partir del residual relativo pues:**"
   ]
  },
  {
   "cell_type": "code",
   "execution_count": 66,
   "metadata": {},
   "outputs": [
    {
     "data": {
      "text/plain": [
       "1.0"
      ]
     },
     "execution_count": 66,
     "metadata": {},
     "output_type": "execute_result"
    }
   ],
   "source": [
    "np.linalg.cond(A_1)"
   ]
  },
  {
   "cell_type": "code",
   "execution_count": 67,
   "metadata": {},
   "outputs": [
    {
     "data": {
      "text/plain": [
       "(4.999999999505376e-05, 4.999999999505376e-05)"
      ]
     },
     "execution_count": 67,
     "metadata": {},
     "output_type": "execute_result"
    }
   ],
   "source": [
    "(r_rel*1/np.linalg.cond(A_1), r_rel*np.linalg.cond(A_1))"
   ]
  },
  {
   "cell_type": "code",
   "execution_count": 68,
   "metadata": {},
   "outputs": [
    {
     "name": "stdout",
     "output_type": "stream",
     "text": [
      "inciso c\n",
      "matriz A_2:\n",
      "array([[ 0.4999567, -0.8660504],\n",
      "       [ 0.8660504,  0.4999567]])\n",
      "lado derecho b_2:\n",
      "array([-1.7,  2.4])\n"
     ]
    }
   ],
   "source": [
    "print('inciso c')\n",
    "A_2 = np.array([[math.cos(theta_2), -math.sin(theta_2)], [math.sin(theta_2), math.cos(theta_2)]])\n",
    "b_2 = np.array([-1.7,2.4])\n",
    "print('matriz A_2:')\n",
    "pprint.pprint(A_2)\n",
    "print('lado derecho b_2:')\n",
    "pprint.pprint(b_2)"
   ]
  },
  {
   "cell_type": "code",
   "execution_count": 69,
   "metadata": {},
   "outputs": [
    {
     "name": "stdout",
     "output_type": "stream",
     "text": [
      "solución x_hat:\n",
      "array([1.22859458, 2.67218176])\n"
     ]
    }
   ],
   "source": [
    "x_hat=np.linalg.solve(A_2,b_2)\n",
    "print('solución x_hat:')\n",
    "pprint.pprint(x_hat)"
   ]
  },
  {
   "cell_type": "code",
   "execution_count": 70,
   "metadata": {},
   "outputs": [
    {
     "name": "stdout",
     "output_type": "stream",
     "text": [
      "residual relativo:\n"
     ]
    },
    {
     "data": {
      "text/plain": [
       "0.07062413105319397"
      ]
     },
     "execution_count": 70,
     "metadata": {},
     "output_type": "execute_result"
    }
   ],
   "source": [
    "print('residual relativo:')\n",
    "r_rel = np.linalg.norm(A_1@x_hat-b_1)/np.linalg.norm(b_1)\n",
    "r_rel"
   ]
  },
  {
   "cell_type": "code",
   "execution_count": 71,
   "metadata": {},
   "outputs": [
    {
     "name": "stdout",
     "output_type": "stream",
     "text": [
      "error relativo:\n",
      "0.07062413105319403\n"
     ]
    }
   ],
   "source": [
    "print('error relativo:')\n",
    "err_rel = np.linalg.norm(x_hat-x_est)/np.linalg.norm(x_est)\n",
    "pprint.pprint(err_rel)"
   ]
  },
  {
   "cell_type": "markdown",
   "metadata": {},
   "source": [
    "**sí tenemos una buena estimación del error relativo a partir del residual relativo pues:**"
   ]
  },
  {
   "cell_type": "code",
   "execution_count": 72,
   "metadata": {},
   "outputs": [
    {
     "data": {
      "text/plain": [
       "1.0"
      ]
     },
     "execution_count": 72,
     "metadata": {},
     "output_type": "execute_result"
    }
   ],
   "source": [
    "np.linalg.cond(A_1)"
   ]
  },
  {
   "cell_type": "code",
   "execution_count": 73,
   "metadata": {},
   "outputs": [
    {
     "data": {
      "text/plain": [
       "(0.07062413105319397, 0.07062413105319397)"
      ]
     },
     "execution_count": 73,
     "metadata": {},
     "output_type": "execute_result"
    }
   ],
   "source": [
    "(r_rel*1/np.linalg.cond(A_1), r_rel*np.linalg.cond(A_1))"
   ]
  },
  {
   "cell_type": "markdown",
   "metadata": {},
   "source": [
    "Así, $\\text{cond}(A)$ nos da una calidad (mediante $\\frac{||r||}{||b||}$) de la solución $\\hat{x}$ en el problema inicial (resolver $Ax=b$) obtenida por algún método numérico respecto a la solución $x^*$ de $Ax=b$.\n",
    "\n",
    "**Obs:** Por último obsérvese que la condición del problema inicial (resolver $Ax=b$) **no depende del método númerico** que se elige para resolverlo."
   ]
  },
  {
   "cell_type": "markdown",
   "metadata": {},
   "source": [
    "**Ejercicio:** proponer sistemas de ecuaciones lineales con distinto número de condición, perturbar matriz del sistema o lado derecho (o ambos) y revisar números de condición y residuales relativos de acuerdo a la cota:\n",
    "\n",
    "$$\\frac{||r||}{||b||} \\frac{1}{\\text{cond}(A)} \\leq \\frac{||x^*-\\hat{x}||}{||x^*||}\\leq \\text{cond}(A)\\frac{||r||}{||b||}.$$\n",
    "\n",
    "Verificar que si el número de condición del sistema es pequeño entonces el residual relativo estima bien al error relativo."
   ]
  },
  {
   "cell_type": "markdown",
   "metadata": {},
   "source": [
    "---"
   ]
  },
  {
   "cell_type": "markdown",
   "metadata": {},
   "source": [
    "## Norma"
   ]
  },
  {
   "cell_type": "markdown",
   "metadata": {},
   "source": [
    "Una norma define una medida de distancia en un conjunto y da nociones de tamaño, vecindad, convergencia y continuidad."
   ]
  },
  {
   "cell_type": "markdown",
   "metadata": {},
   "source": [
    "### Normas vectoriales"
   ]
  },
  {
   "cell_type": "markdown",
   "metadata": {},
   "source": [
    "Sea $\\mathbb{R}^n$ el conjunto de $n$-tuplas o vectores columna o $1$-arreglo de orden $1$, esto es:\n",
    "\n",
    "$$x \\in \\mathbb{R}^n \\iff x = \\left[\\begin{array}{c}\n",
    "    x_1\\\\\n",
    "    x_2\\\\\n",
    "    \\vdots\\\\\n",
    "    x_n\n",
    "    \\end{array} \\right] \\text{ con } x_i \\in \\mathbb{R}$$\n",
    " "
   ]
  },
  {
   "cell_type": "markdown",
   "metadata": {},
   "source": [
    "Una norma vectorial en $\\mathbb{R}^n$ es una función $g: \\mathbb{R}^n \\rightarrow \\mathbb{R}$ que satisface las siguientes propiedades:\n",
    "\n",
    "* $g$ es no negativa: $g(x) \\geq 0 \\forall x \\in \\mathbb{R}^n$.\n",
    "\n",
    "* $g$ es definida: $g(x) = 0 \\iff x = 0$.\n",
    "\n",
    "* $g$ satisface la desigualdad del triángulo: $$g(x+y) \\leq g(x) + g(y) \\forall x,y \\in \\mathbb{R}^n.$$\n"
   ]
  },
  {
   "cell_type": "markdown",
   "metadata": {},
   "source": [
    "* $g$ es homogénea: $g(\\alpha x)=|\\alpha|g(x), \\forall \\alpha \\in \\mathbb{R}, \\forall x \\in \\mathbb{R}^n$.\n",
    "\n",
    "Notación: $g(x) = ||x||$."
   ]
  },
  {
   "cell_type": "markdown",
   "metadata": {},
   "source": [
    "**Comentarios y propiedades:**\n",
    "\n",
    "* Una norma es una generalización del valor absoluto de $\\mathbb{R}$: $|x|, x \\in \\mathbb{R}.$\n",
    "\n",
    "* Un espacio vectorial con una norma definida en éste se le llama **espacio vectorial normado**.\n",
    "\n",
    "* Una norma es una medida de la longitud de un vector.\n",
    "\n",
    "* Con una norma es posible definir conceptos como distancia entre vectores: $x,y \\in \\mathbb{R}^n: \\text{dist}(x,y) = ||x-y||$.\n",
    "\n",
    "* Existen varias normas en $\\mathbb{R}^n$ siendo las más comunes:\n",
    "\n",
    " * La norma $\\mathcal{l}_2$, Euclidiana o norma $2$: $||x||_2$.\n",
    " \n",
    " * La norma $\\mathcal{l}_1$ o norma $1$: $||x||_1$.\n",
    " \n",
    " * La norma $\\infty$ o de Chebyshev o norma infinito: $||x||_\\infty$.\n",
    " \n",
    " Las normas anteriores pertenecen a una familia parametrizada por una constante $p, p \\geq 1$ cuyo nombre es norma $\\mathcal{l}_p$:\n",
    " \n",
    " $$ ||x||_p = \\left(\\displaystyle \\sum_{i=1}^n|x_i|^p \\right )^{1/p}.$$\n",
    " \n"
   ]
  },
  {
   "cell_type": "markdown",
   "metadata": {},
   "source": [
    "* Un resultado para $x \\in \\mathbb{R}^n$ es la **equivalencia** entre normas:\n",
    "\n",
    "$$\\exists \\alpha, \\beta > 0  \\text{ tales que }: \\alpha||x||_a \\leq ||x||_b \\leq \\beta ||x||_a \\forall x \\in \\mathbb{R}^n$$ \n",
    "\n",
    "donde: $||\\cdot||_a, ||\\cdot||_b$ son normas cualesquiera en $\\mathbb{R}^n$. Por la propiedad anterior decimos que si se cumple convergencia en la norma $||\\cdot||_a$ entonces también se cumple convergencia en la norma $||\\cdot||_b$."
   ]
  },
  {
   "cell_type": "markdown",
   "metadata": {},
   "source": [
    "**Ejemplos de gráficas en el plano:**"
   ]
  },
  {
   "cell_type": "markdown",
   "metadata": {},
   "source": [
    "Norma $2$: $\\{ x \\in \\mathbb{R}^2  \\text{ tales que } ||x||_2 \\leq 1\\}$"
   ]
  },
  {
   "cell_type": "code",
   "execution_count": 74,
   "metadata": {},
   "outputs": [
    {
     "data": {
      "image/png": "[encoded data removed]",
      "text/plain": [
       "<Figure size 432x288 with 1 Axes>"
      ]
     },
     "metadata": {
      "needs_background": "light"
     },
     "output_type": "display_data"
    }
   ],
   "source": [
    "f=lambda x: np.sqrt(x[:,0]**2 + x[:,1]**2) #definición de norma2\n",
    "density=1e-5\n",
    "density_p=int(2.5*10**3)\n",
    "x=np.arange(-1,1,density)\n",
    "y1=np.sqrt(1-x**2)\n",
    "y2=-np.sqrt(1-x**2)\n",
    "x_p=np.random.uniform(-1,1,(density_p,2))\n",
    "ind=f(x_p)<=1\n",
    "x_p_subset=x_p[ind]\n",
    "plt.plot(x,y1,'b',x,y2,'b')\n",
    "plt.scatter(x_p_subset[:,0],x_p_subset[:,1],marker='.')\n",
    "plt.title('Puntos en el plano que cumplen ||x||_2 <= 1')\n",
    "plt.grid()\n",
    "plt.show()"
   ]
  },
  {
   "cell_type": "markdown",
   "metadata": {},
   "source": [
    "Norma $1$:  $\\{ x \\in \\mathbb{R}^2  \\text{ tales que } ||x||_1 \\leq 1\\}$"
   ]
  },
  {
   "cell_type": "code",
   "execution_count": 75,
   "metadata": {},
   "outputs": [
    {
     "data": {
      "image/png": "[encoded data removed]",
      "text/plain": [
       "<Figure size 432x288 with 1 Axes>"
      ]
     },
     "metadata": {
      "needs_background": "light"
     },
     "output_type": "display_data"
    }
   ],
   "source": [
    "f=lambda x:np.abs(x[:,0]) + np.abs(x[:,1]) #definición de norma1\n",
    "density=1e-5\n",
    "density_p=int(2.5*10**3)\n",
    "x1=np.arange(0,1,density)\n",
    "x2=np.arange(-1,0,density)\n",
    "y1=1-x1\n",
    "y2=1+x2\n",
    "y3=x1-1\n",
    "y4=-1-x2\n",
    "x_p=np.random.uniform(-1,1,(density_p,2))\n",
    "ind=f(x_p)<=1\n",
    "x_p_subset=x_p[ind]\n",
    "plt.plot(x1,y1,'b',x2,y2,'b',x1,y3,'b',x2,y4,'b')\n",
    "plt.scatter(x_p_subset[:,0],x_p_subset[:,1],marker='.')\n",
    "plt.title('Puntos en el plano que cumplen ||x||_1 <= 1')\n",
    "plt.grid()\n",
    "plt.show()"
   ]
  },
  {
   "cell_type": "markdown",
   "metadata": {},
   "source": [
    "Norma $\\infty$:  $\\{ x \\in \\mathbb{R}^2  \\text{ tales que } ||x||_\\infty \\leq 1\\}$"
   ]
  },
  {
   "cell_type": "code",
   "execution_count": 76,
   "metadata": {},
   "outputs": [
    {
     "data": {
      "image/png": "[encoded data removed]",
      "text/plain": [
       "<Figure size 432x288 with 1 Axes>"
      ]
     },
     "metadata": {
      "needs_background": "light"
     },
     "output_type": "display_data"
    }
   ],
   "source": [
    "f=lambda x:np.max(np.abs(x),axis=1) #definición de norma infinito\n",
    "density_p=int(2.5*10**3)\n",
    "x_p=np.random.uniform(-1,1,(density_p,2))\n",
    "ind=f(x_p)<=1\n",
    "x_p_subset=x_p[ind]\n",
    "plt.scatter(x_p_subset[:,0],x_p_subset[:,1],marker='.')\n",
    "plt.title('Puntos en el plano que cumplen ||x||_inf <= 1')\n",
    "plt.grid()\n",
    "plt.show()"
   ]
  },
  {
   "cell_type": "markdown",
   "metadata": {},
   "source": [
    "->La norma $\\infty$ se encuentra en esta familia como límite: \n",
    "\n",
    "$$||x||_\\infty = \\displaystyle \\lim_{p \\rightarrow \\infty} ||x||_p.$$"
   ]
  },
  {
   "cell_type": "markdown",
   "metadata": {},
   "source": [
    "->En la norma $\\mathcal{l}_2$ o Euclidiana $||x||_2$ tenemos una desigualdad muy importante, la desigualdad de **Cauchy-Schwartz**:\n",
    "\n",
    "$$|x^Ty| \\leq ||x||_2||y||_2 \\forall x,y \\in \\mathbb{R}^n$$\n",
    "\n",
    "la cual relaciona el producto interno estándar para $x,y \\in \\mathbb{R}^n$: $<x,y> = x^Ty = \\displaystyle \\sum_{i=1}^nx_iy_i$ con la norma $\\mathcal{l}_2$ de $x$ y la norma $\\mathcal{l}_2$ de $y$. Además se utiliza lo anterior para definir el ángulo (sin signo) entre $x,y$: "
   ]
  },
  {
   "cell_type": "markdown",
   "metadata": {},
   "source": [
    "$$\\measuredangle x,y = \\cos ^{-1}\\left(\\frac{x^Ty}{||x||_2||y||_2} \\right )$$"
   ]
  },
  {
   "cell_type": "markdown",
   "metadata": {},
   "source": [
    "para $\\cos^{-1}(u) \\in [0,\\pi]$ y se nombra a $x,y$ ortogonales si $x^Ty=0$. Obsérvese que $||x||_2 = \\sqrt{x^Tx}$.\n",
    "\n",
    "* También se utilizan matrices* para definir normas\n",
    "\n",
    "*Matriz: arreglo $2$-dimensional de datos o $2$ arreglo de orden $2$. Se utiliza la notación $A \\in \\mathbb{R}^{m\\times n}$ para denotar:\n",
    "\n",
    "\n",
    "$$A = \\left[\\begin{array}{cccc}\n",
    "a_{11} &a_{12}&\\dots&a_{1n}\\\\\n",
    "a_{21} &a_{22}&\\dots&a_{2n}\\\\\n",
    "\\vdots &\\vdots& \\vdots&\\vdots\\\\\n",
    "a_{n1} &a_{n2}&\\dots&a_{nn}\\\\\n",
    "\\vdots &\\vdots& \\vdots&\\vdots\\\\\n",
    "a_{m-11} &a_{m-12}&\\dots&a_{m-1n}\\\\\n",
    "a_{m1} &a_{m2}&\\dots&a_{mm}\n",
    "\\end{array}\n",
    "\\right] \n",
    "$$\n"
   ]
  },
  {
   "cell_type": "markdown",
   "metadata": {},
   "source": [
    "*$a_{ij} \\mathbb{R} \\forall i=1,\\dots,m, j=1,\\dots,n$.\n",
    "\n",
    "*$A=(a_1,\\dots a_n), a_j \\in \\mathbb{R}^m (=\\mathbb{R}^{m\\times1}) \\forall j=1,\\dots,n$.\n",
    "\n",
    "*$A=\\left ( \\begin{array}{c}\n",
    "a_1^T\\\\\n",
    "\\vdots\\\\\n",
    "a_m^T\n",
    "\\end{array} \\right ), a_i \\in \\mathbb{R}^n (=\\mathbb{R}^{n\\times1}) \\forall i=1,\\dots,m$."
   ]
  },
  {
   "cell_type": "markdown",
   "metadata": {},
   "source": [
    "Entonces un ejemplo de norma-$2$ ponderada es: $\\{x \\in \\mathbb{R}^2 \\text{ tales que } ||x||_D \\leq 1, ||x||_D = ||Dx||_2, \\text{con matriz diagonal } D\\}$:  "
   ]
  },
  {
   "cell_type": "code",
   "execution_count": 77,
   "metadata": {},
   "outputs": [
    {
     "data": {
      "image/png": "[encoded data removed]",
      "text/plain": [
       "<Figure size 432x288 with 1 Axes>"
      ]
     },
     "metadata": {
      "needs_background": "light"
     },
     "output_type": "display_data"
    }
   ],
   "source": [
    "d1=1/5\n",
    "d2=1/3\n",
    "f=lambda x: np.sqrt((d1*x[:,0])**2 + (d2*x[:,1])**2) #definición de norma2\n",
    "density=1e-5\n",
    "density_p=int(2.5*10**3)\n",
    "x=np.arange(-1/d1,1/d1,density)\n",
    "y1=1.0/d2*np.sqrt(1-(d1*x)**2)\n",
    "y2=-1.0/d2*np.sqrt(1-(d1*x)**2)\n",
    "x_p=np.random.uniform(-1/d1,1/d1,(density_p,2))\n",
    "ind=f(x_p)<=1\n",
    "x_p_subset=x_p[ind]\n",
    "plt.plot(x,y1,'b',x,y2,'b')\n",
    "plt.scatter(x_p_subset[:,0],x_p_subset[:,1],marker='.')\n",
    "plt.title('Puntos en el plano que cumplen ||x||_D <= 1')\n",
    "plt.grid()\n",
    "plt.show()"
   ]
  },
  {
   "cell_type": "markdown",
   "metadata": {},
   "source": [
    "en este caso $D=\\left[\\begin{array}{cc}\n",
    "\\frac{1}{5} &0\\\\\n",
    "0 &\\frac{1}{3}\n",
    "\\end{array}\\right ]$"
   ]
  },
  {
   "cell_type": "markdown",
   "metadata": {},
   "source": [
    "## Normas matriciales"
   ]
  },
  {
   "cell_type": "markdown",
   "metadata": {},
   "source": [
    "La multiplicación de una matriz de tamaño $m\\times n$ por un vector se define como:\n",
    "\n",
    "$$y=Ax=\\displaystyle \\sum_{j=1}^n \\alpha_jx_j$$\n",
    "\n",
    "con $a_j \\in \\mathbb{R}^m, x \\in \\mathbb{R}^n$. Obsérvese que $x \\in \\mathbb{R}^n, Ax \\in \\mathbb{R}^m$."
   ]
  },
  {
   "cell_type": "markdown",
   "metadata": {},
   "source": [
    "**Inducidas**"
   ]
  },
  {
   "cell_type": "markdown",
   "metadata": {},
   "source": [
    "De las normas matriciales más importantes se encuentran las **inducidas** por normas vectoriales. Estas normas matriciales se definen en términos de los vectores en $\\mathbb{R}^n$ a los que se les aplica la multiplicación $Ax$:\n",
    "\n",
    "Dadas las normas vectoriales $||\\cdot||_{(n)}, ||\\cdot||_{(m)}$ en $\\mathbb{R}^n$ y $\\mathbb{R}^m$ respectivamente, la norma matricial inducida $||A||_{(m,n)}$ para $A \\in \\mathbb{R}^{m \\times n}$ es el **menor número** $C$ para el cual la desigualdad: \n",
    "\n",
    "$$||Ax||_{(m)} \\leq C||x||_{(n)}$$\n",
    "\n",
    "se cumple $\\forall x \\in \\mathbb{R}^n$. Esto es:"
   ]
  },
  {
   "cell_type": "markdown",
   "metadata": {},
   "source": [
    "$$||A||_{(m,n)} = \\displaystyle \\sup_{x \\in \\mathbb{R}^n} \\frac{||Ax||_{(m)}}{||x||_{(n)}}$$"
   ]
  },
  {
   "cell_type": "markdown",
   "metadata": {},
   "source": [
    "**Comentarios:** \n",
    "\n",
    "* $||A||_{(m,n)}$ representa el **máximo** factor por el cual $A$ puede modificar el tamaño de $x$ sobre todos los vectores $x \\in \\mathbb{R}^n$, es una medida de un tipo de **worst case stretch factor**.\n",
    "\n",
    "* Así definidas, la norma $||\\cdot||_{(m,n)}$ es la norma matricial inducida por las normas vectoriales $||\\cdot||_{(m)}, ||\\cdot||_{(n)}$.\n",
    "\n",
    "* Son definiciones equivalentes:\n",
    "\n",
    "$$||A||_{(m,n)} = \\displaystyle \\sup_{x \\in \\mathbb{R}^n} \\frac{||Ax||_{(m)}}{||x||_{(n)}} = \\displaystyle \\sup_{||x||_{(n)} \\leq 1} \\frac{||Ax||_{(m)}}{||x||_{(n)}} = \\displaystyle \\sup_{||x||_{(n)}=1} ||Ax||_{(m)}$$"
   ]
  },
  {
   "cell_type": "markdown",
   "metadata": {},
   "source": [
    "**Ejemplo:**"
   ]
  },
  {
   "cell_type": "markdown",
   "metadata": {},
   "source": [
    "La matriz $A=\\left[\\begin{array}{cc}\n",
    "1 &2\\\\\n",
    "0 &2\n",
    "\\end{array}\\right ]$ mapea $\\mathbb{R}^2$ a $\\mathbb{R}^2$, en particular se tiene:\n",
    "\n",
    "* $A$ mapea $e_1 = \\left[\\begin{array}{c}\n",
    "1 \\\\\n",
    "0\n",
    "\\end{array}\\right ]$ a la columna $a_1 = \\left[\\begin{array}{c}\n",
    "1 \\\\\n",
    "0\n",
    "\\end{array}\\right ]$ de $A$.\n",
    "\n",
    "* $A$ mapea $e_2 = \\left[\\begin{array}{c}\n",
    "0 \\\\\n",
    "1\n",
    "\\end{array}\\right ]$ a la columna $a_2 = \\left[\\begin{array}{c}\n",
    "2 \\\\\n",
    "2\n",
    "\\end{array}\\right ]$ de $A$.\n",
    "\n",
    "Considerando $||A||_p := ||A||_{(p,p)}$ con $p=1, p=2, p=\\infty$ se tiene:"
   ]
  },
  {
   "cell_type": "markdown",
   "metadata": {},
   "source": [
    "<p align=\"centered\">\n",
    "<img src=\"https://drive.google.com/uc?export=view&id=1cVILuMeo__6WijiJ1KqNu5ZDhSegLbqj\" alt=\"a\" heigth=\"500\" width=\"500\">\n",
    "</p>\n",
    "\n",
    "\n"
   ]
  },
  {
   "cell_type": "markdown",
   "metadata": {},
   "source": [
    "**Comentario:** al observar la segunda gráfica se tiene la siguiente afirmación: la acción de una matriz sobre una circunferencia es una elipse con longitudes de semiejes iguales a $|d_i|$. En general la acción de una matriz sobre una hiper esfera es una hiperelipse. Por lo que los vectores unitarios en $\\mathbb{R}^n$ que son más amplificados por la acción de una matriz diagonal $D \\in \\mathbb{R}^{m\\times n}$ con entradas iguales a $d_i$ son aquellos que se mapean a los semiejes de una hiperelipse en $\\mathbb{R}^m$ de longitud  igual a $\\max\\{|d_i|\\}$ y así tenemos: si $D$ es una matriz diagonal con entradas $|d_i|$ entonces $||D||_2 = \\displaystyle \\max_{i=1,\\dots,m}\\{|d_i|\\}$. "
   ]
  },
  {
   "cell_type": "markdown",
   "metadata": {},
   "source": [
    "**Ejemplo con Python para la norma $1$:**"
   ]
  },
  {
   "cell_type": "code",
   "execution_count": 78,
   "metadata": {},
   "outputs": [
    {
     "data": {
      "image/png": "[encoded data removed]",
      "text/plain": [
       "<Figure size 432x288 with 2 Axes>"
      ]
     },
     "metadata": {
      "needs_background": "light"
     },
     "output_type": "display_data"
    }
   ],
   "source": [
    "A=np.array([[1,2],[0,2]])\n",
    "density=1e-5\n",
    "x1=np.arange(0,1,density)\n",
    "x2=np.arange(-1,0,density)\n",
    "y1=1-x1\n",
    "y2=1+x2\n",
    "y3=x1-1\n",
    "y4=-1-x2\n",
    "apply_A = lambda vec1,vec2 : np.transpose(A@np.transpose(np.column_stack((vec1,vec2))))\n",
    "A_to_vector_1 = apply_A(x1,y1)\n",
    "A_to_vector_2 = apply_A(x2,y2)\n",
    "A_to_vector_3 = apply_A(x1,y3)\n",
    "A_to_vector_4 = apply_A(x2,y4)\n",
    "plt.subplot(1,2,1)\n",
    "plt.plot(x1,y1,'b',x2,y2,'b',x1,y3,'b',x2,y4,'b')\n",
    "plt.plot(np.repeat(0,len(x1)),x1,'g')\n",
    "plt.xlabel('Vectores con norma 1 menor o igual a 1')\n",
    "plt.grid()\n",
    "plt.subplot(1,2,2)\n",
    "plt.plot(A_to_vector_1[:,0],A_to_vector_1[:,1],'b',\n",
    "         A_to_vector_2[:,0],A_to_vector_2[:,1],'b',\n",
    "         A_to_vector_3[:,0],A_to_vector_3[:,1],'b',\n",
    "         A_to_vector_4[:,0],A_to_vector_4[:,1],'b')\n",
    "plt.plot(np.arange(0,2,density),np.arange(0,2,density),'g')\n",
    "plt.grid()\n",
    "plt.title('Efecto de la matriz A sobre los vectores con norma 1 menor o igual a 1')\n",
    "plt.show()"
   ]
  },
  {
   "cell_type": "code",
   "execution_count": 79,
   "metadata": {},
   "outputs": [
    {
     "data": {
      "text/plain": [
       "4.0"
      ]
     },
     "execution_count": 79,
     "metadata": {},
     "output_type": "execute_result"
    }
   ],
   "source": [
    "np.linalg.norm(A,1)"
   ]
  },
  {
   "cell_type": "markdown",
   "metadata": {},
   "source": [
    "**Ejercicio:** obtener las otras dos gráficas con Python usando norma $2$ y norma $\\infty$."
   ]
  },
  {
   "cell_type": "markdown",
   "metadata": {},
   "source": [
    "**Resultados computacionales que es posible probar:**\n",
    "\n",
    "1. $||A||_1 = \\displaystyle \\max_{j=1,\\dots,n}\\sum_{i=1}^n|a_{ij}|$.\n",
    "\n",
    "2. $||A||_\\infty = \\displaystyle \\max_{i=1,\\dots,n}\\sum_{j=1}^n|a_{ij}|$.\n",
    "\n",
    "3. $||A||_2 = \\sqrt{\\lambda_{max}(A^TA)} = \\max \\left \\{\\sqrt{\\lambda}\\in \\mathbb{R} | \\lambda \\text{ es eigenvalor de } A^TA \\right \\} = max \\left \\{ \\sigma \\in \\mathbb{R} | \\sigma \\text{ es valor singular de A } \\right \\} = \\sigma_{max}(A)$."
   ]
  },
  {
   "cell_type": "markdown",
   "metadata": {},
   "source": [
    "por ejemplo para la matriz anterior se tiene:"
   ]
  },
  {
   "cell_type": "code",
   "execution_count": 80,
   "metadata": {},
   "outputs": [
    {
     "data": {
      "text/plain": [
       "2.9208096264818897"
      ]
     },
     "execution_count": 80,
     "metadata": {},
     "output_type": "execute_result"
    }
   ],
   "source": [
    "np.linalg.norm(A,2)"
   ]
  },
  {
   "cell_type": "code",
   "execution_count": 81,
   "metadata": {},
   "outputs": [
    {
     "data": {
      "text/plain": [
       "2.9208096264818897"
      ]
     },
     "execution_count": 81,
     "metadata": {},
     "output_type": "execute_result"
    }
   ],
   "source": [
    "_,s,_ = np.linalg.svd(A)\n",
    "np.max(s)"
   ]
  },
  {
   "cell_type": "markdown",
   "metadata": {},
   "source": [
    "**Otras normas matriciales:**"
   ]
  },
  {
   "cell_type": "markdown",
   "metadata": {},
   "source": [
    "* Norma de Frobenius: $||A||_F = \\text{tr}(A^TA)^{1/2} = \\left ( \\displaystyle \\sum_{i=1}^m \\sum_{j=1}^n a_{ij}^2 \\right ) ^{1/2}$.\n",
    "\n",
    "* Norma \"sum-absolute-value\": $||A||_{sav} = \\displaystyle \\sum_{i=1}^m \\sum_{j=1}^n |a_{ij}|$.\n",
    "\n",
    "* Norma \"max-absolute-value\": $||A||_{mav} = \\displaystyle \\max \\left\\{|a_{ij}| \\text{ para } i=1,\\dots,m , j=1,\\dots,n \\right \\}$.\n",
    "\n",
    "**Comentarios:** \n",
    "\n",
    "* El producto interno estándar en $\\mathbb{R}^{m\\times n}$ es: $<A,B> = tr(A^TB) = \\displaystyle \\sum_{i=1}^m \\sum_{j=1}^n a_{ij}b_{ij}$.\n",
    "\n",
    "* La norma $2$ (también llamada norma espectral o $\\mathcal{l}_2$) y la norma de Frobenius cumplen la propiedad de **consistencia**:\n",
    "\n",
    "$$||Ax|| \\leq ||A|| ||x|| \\forall x \\in \\mathbb{R}^n, \\forall A \\in \\mathbb{R}^{m\\times n}.$$"
   ]
  },
  {
   "cell_type": "markdown",
   "metadata": {},
   "source": [
    "$$||AB|| \\leq ||A|| ||B|| \\forall A,B \\text{ matrices con dimensiones correspondientes para su multiplicación}.$$\n",
    "\n",
    "**Obs:** de hecho esta propiedad de consistencia también es cumplida por las normas-$p$ matriciales."
   ]
  },
  {
   "cell_type": "markdown",
   "metadata": {},
   "source": [
    "## Nota sobre $\\sup$"
   ]
  },
  {
   "cell_type": "markdown",
   "metadata": {},
   "source": [
    "**Ejercicios**\n",
    "\n",
    "1. Resuelve los ejercicios y preguntas de la nota."
   ]
  },
  {
   "cell_type": "markdown",
   "metadata": {},
   "source": [
    "**Preguntas de comprehensión**\n",
    "\n",
    "1)¿Qué factores influyen en la falta de exactitud de un cálculo?\n",
    "\n",
    "2)Menciona $5$ propiedades que un conjunto debe cumplir para que sea considerado un espacio vectorial.\n",
    "\n",
    "3)Menciona las propiedades que debe cumplir una función para que se considere una norma.\n",
    "\n",
    "4)¿Qué es una norma matricial inducida?, ¿qué mide una norma matricial inducida?\n",
    "\n",
    "5)¿La norma de Frobenius, es una norma matricial inducida?\n",
    "\n",
    "6)¿A qué son iguales $\\text{sup}(\\emptyset)$, $\\text{inf}(\\emptyset)$ ? (el conjunto $\\emptyset$ es el conjunto vacío)\n",
    "\n",
    "7)Si f es un problema mal condicionado, ¿a qué nos referimos? Da ejemplos de problemas bien y mal condicionados.\n",
    "\n",
    "8)Si f es un problema que resolvemos con un algoritmo g, ¿qué significa:\n",
    "\n",
    "    a. que g sea estable?\n",
    "    \n",
    "    b. que g sea estable hacia atrás?\n",
    "    \n",
    "    c. que g sea inestable?\n",
    "    \n",
    "9)¿Qué ventaja(s) se tiene(n) al calcular un error hacia atrás vs calcular un error hacia delante?\n",
    "\n"
   ]
  },
  {
   "cell_type": "markdown",
   "metadata": {},
   "source": [
    "**Referencias**"
   ]
  },
  {
   "cell_type": "markdown",
   "metadata": {},
   "source": [
    "1. Nota [1.2.Sistema_de_punto_flotante](https://github.com/ITAM-DS/analisis-numerico-computo-cientifico/blob/master/temas/I.computo_cientifico/1.2.Sistema_de_punto_flotante.ipynb)\n",
    "\n",
    "2. L. Trefethen, D. Bau, Numerical linear algebra, SIAM, 1997."
   ]
  },
  {
   "cell_type": "code",
   "execution_count": null,
   "metadata": {},
   "outputs": [],
   "source": []
  }
 ],
 "metadata": {
  "kernelspec": {
   "display_name": "Python 3",
   "language": "python",
   "name": "python3"
  },
  "language_info": {
   "codemirror_mode": {
    "name": "ipython",
    "version": 3
   },
   "file_extension": ".py",
   "mimetype": "text/x-python",
   "name": "python",
   "nbconvert_exporter": "python",
   "pygments_lexer": "ipython3",
   "version": "3.6.8"
  }
 },
 "nbformat": 4,
 "nbformat_minor": 4
}
