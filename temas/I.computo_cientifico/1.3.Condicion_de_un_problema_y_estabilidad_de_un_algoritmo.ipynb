{
 "cells": [
  {
   "cell_type": "markdown",
   "metadata": {},
   "source": [
    "Nota generada a partir de [liga](https://www.dropbox.com/s/5bc6tn39o0qqg35/1.3.Condicion_estabilidad_y_normas.pdf?dl=0)"
   ]
  },
  {
   "cell_type": "markdown",
   "metadata": {},
   "source": [
    "Comando de docker para ejecución de la nota de forma local:\n",
    "\n",
    "nota: cambiar `<ruta a mi directorio>` por la ruta de directorio que se desea mapear a `/datos` dentro del contenedor de docker.\n",
    "\n",
    "```\n",
    "docker run --rm -v <ruta a mi directorio>:/datos --name jupyterlab-local -p 8888:8888 -d palmoreck/jupyterlab:1.1.0\n",
    "```\n",
    "\n",
    "Detener el contenedor de docker:\n",
    "\n",
    "```\n",
    "docker stop jupyterlab-local\n",
    "```\n"
   ]
  },
  {
   "cell_type": "code",
   "execution_count": null,
   "metadata": {},
   "outputs": [],
   "source": [
    "%pip install --user numpy"
   ]
  },
  {
   "cell_type": "code",
   "execution_count": 1,
   "metadata": {},
   "outputs": [
    {
     "data": {
      "text/html": [
       "<script>Jupyter.notebook.kernel.restart()</script>"
      ],
      "text/plain": [
       "<IPython.core.display.HTML object>"
      ]
     },
     "execution_count": 1,
     "metadata": {},
     "output_type": "execute_result"
    }
   ],
   "source": [
    "from IPython.core.display import HTML\n",
    "HTML(\"<script>Jupyter.notebook.kernel.restart()</script>\")"
   ]
  },
  {
   "cell_type": "markdown",
   "metadata": {},
   "source": [
    "# 1.3 Condición de un problema y estabilidad de un algoritmo"
   ]
  },
  {
   "cell_type": "markdown",
   "metadata": {},
   "source": [
    "Dos temas fundamentales en el análisis numérico son: la **condición de un problema** y **estabilidad de un algoritmo**. El condicionamiento tiene que ver con el comportamiento de un problema ante perturbaciones y la estabilidad con el comportamiento de un algoritmo (usado para resolver un problema) ante perturbaciones."
   ]
  },
  {
   "cell_type": "markdown",
   "metadata": {},
   "source": [
    "La exactitud de un cálculo dependerá finalmente de una combinación de estos términos:\n",
    "\n",
    "<p style=\"text-align: center;\">Exactitud = Condición + Estabilidad</p>\n",
    "\n",
    "La falta de exactitud en un problema se presenta entonces por problemas mal condicionados (no importando si los algoritmos son estables o inestables) y algoritmos inestables (no importando si los problemas son mal o bien condicionados)."
   ]
  },
  {
   "cell_type": "markdown",
   "metadata": {},
   "source": [
    "## Perturbaciones"
   ]
  },
  {
   "cell_type": "markdown",
   "metadata": {},
   "source": [
    "La condición de un problema y estabilidad de un algoritmo hacen referencia al término **perturbación**. Tal término conduce a pensar en perturbaciones \"chicas\" o \"grandes\". Para dar una medida de lo anterior se utiliza el concepto de **norma**. Ver final de esta nota para definición de norma y propiedades."
   ]
  },
  {
   "cell_type": "markdown",
   "metadata": {},
   "source": [
    "## Condición de un problema"
   ]
  },
  {
   "cell_type": "markdown",
   "metadata": {},
   "source": [
    "Pensemos a un problema como una función $f: \\mathbb{X} \\rightarrow \\mathbb{Y}$ donde $\\mathbb{X}$ es un espacio vectorial con norma definida y $\\mathbb{Y}$ es otro espacio vectorial de soluciones con una norma definida. Llamemos instancia de un problema a la combinación entre $x,f$ y nos interesa el comportamiento de $f$ en $x$. Usamos el nombre de \"problema\" para referirnos al de instancia del problema.\n",
    "\n",
    "Un problema (instancia) bien condicionado tiene la propiedad de que todas las perturbaciones pequeñas en $x$ conducen a pequeños cambios en $f(x)$. Y es mal condicionado si perturbaciones pequeñas en $x$ conducen a grandes cambios en $f(x)$. El uso de los términos \"pequeño\" o \"grande\" dependen del problema mismo.\n",
    "\n",
    "Sea $\\hat{x} = x + \\Delta x$ con $\\Delta x$ una perturbación pequeña de $x$.\n",
    "\n",
    "El **número de condición relativo del problema $f$ en $x$** es:\n",
    "\n",
    "$$\\text{Cond}_f^R = \\frac{\\text{ErrRel}(f(\\hat{x}))}{\\text{ErrRel}(\\hat{x})}  = \\frac{\\frac{||f(\\hat{x})-f(x)||}{||f(x)||}}{\\frac{||x-\\hat{x}||}{||x||}}$$\n",
    "\n",
    "considerando $x,f(x) \\neq 0$."
   ]
  },
  {
   "cell_type": "markdown",
   "metadata": {},
   "source": [
    "**Obs:** si $f$ es una función diferenciable, podemos evaluar $\\text{Cond}_f^R$ con la derivada de $f$, pues a primer orden (usando teorema de Taylor): $f(\\hat{x})-f(x) \\approx \\mathcal{J}_f(x)\\Delta x$ con igualdad para $\\Delta x \\rightarrow 0$ y $\\mathcal{J}_f$ la Jacobiana de $f$ definida como una matriz con entradas: $(\\mathcal{J}_f(x))_{ij} = \\frac{\\partial f_i(x)}{\\partial x_j}$. Por tanto, se tiene:\n",
    "\n",
    "$$\\text{Cond}_{f}^R = \\frac{||\\mathcal{J}_f(x)||||x||}{||f(x)||}$$"
   ]
  },
  {
   "cell_type": "markdown",
   "metadata": {},
   "source": [
    "y $||\\mathcal{J}_f(x)||$ es una norma matricial inducida por las normas en $\\mathbb{X}, \\mathbb{Y}$. Ver final de esta nota para definición de norma y propiedades."
   ]
  },
  {
   "cell_type": "markdown",
   "metadata": {},
   "source": [
    "**Comentario:** en la práctica se considera a un problema **bien condicionado** si $\\text{Cond}_f^R$ es \"pequeño\": de orden menor a  $10^1$, **medianamente bien condicionado** si es de orden entre $10^1$ y $10^2$ y **mal condicionado** si es \"grande\": mayor a $10^3$."
   ]
  },
  {
   "cell_type": "markdown",
   "metadata": {},
   "source": [
    "**Ejercicio:**\n",
    "\n",
    "Calcular $\\text{Cond}_f^R$ de los siguientes problemas. Para $x \\in \\mathbb{R}$ usa el valor absoluto y para $x \\in \\mathbb{R}^n$ usa $||x||_\\infty$.\n",
    "\n",
    "1. $x \\in \\mathbb{R} - \\{0\\}$. Problema: realizar la operación $\\frac{x}{2}$.\n",
    "\n",
    "2. $x \\geq 0$. Problema: calcular $\\sqrt{x}$.\n",
    "\n",
    "3. $x \\approx \\frac{\\pi}{2}$. Problema: calcular $\\cos(x)$.\n",
    "\n",
    "4. $x \\in \\mathbb{R}^2$. Problema: calcular $x_1-x_2$."
   ]
  },
  {
   "cell_type": "markdown",
   "metadata": {},
   "source": [
    "**Comentario:** las dificultades que pueden surgir al resolver un problema **no** siempre están relacionadas con una fórmula o un algoritmo mal diseñado sino con el problema en cuestión. En el ejercicio anterior, observamos que áun utilizando **aritmética exacta**, la solución del problema puede ser altamente sensible a perturbaciones a los datos de entrada. Por esto el número de condición relativo se define de acuerdo a perturbaciones en los datos de entrada y mide la perturbación en los datos de salida que uno espera: \n",
    "\n",
    "$$\\text{Cond}_f^R = \\frac{||\\text{Cambios relativos en la solución}||}{||\\text{Cambios relativos en los datos de entrada}||}.$$"
   ]
  },
  {
   "cell_type": "markdown",
   "metadata": {},
   "source": [
    "## Estabilidad de un algoritmo"
   ]
  },
  {
   "cell_type": "markdown",
   "metadata": {},
   "source": [
    "Pensemos a un algoritmo $\\hat{f}$ como una función $\\hat{f}:\\mathbb{X}\\rightarrow \\mathbb{Y}$ para resolver el problema $f$ con datos $x \\in \\mathbb{X}$, donde $\\mathbb{X}$ es un espacio vectorial con norma definida y $\\mathbb{Y}$ es otro espacio vectorial con una norma definida.\n",
    "\n",
    "\n",
    "La implantación del algoritmo $\\hat{f}$ en una máquina conduce a considerar:\n",
    "\n",
    "* Errores por redondeo:\n",
    "\n",
    "$$fl(u) = u(1+\\epsilon), |\\epsilon| \\leq \\epsilon_{maq}, \\forall u \\in \\mathbb{R}.$$"
   ]
  },
  {
   "cell_type": "markdown",
   "metadata": {},
   "source": [
    "* Operaciones en un SPFN, $\\mathcal{Fl}$. Por ejemplo para la suma:\n",
    "\n",
    "$$u \\oplus v  = fl(u+v) = (u + v)(1+\\epsilon), |\\epsilon|\\leq \\epsilon_{maq} \\forall u,v \\in \\mathcal{Fl}.$$\n",
    "\n",
    "Esto es, $\\hat{f}$ depende de $x \\in \\mathbb{X}$ y $\\epsilon_{maq}$: representación de los números reales en una máquina y operaciones entre ellos o aritmética de máquina. Ver nota: [1.2.Sistema_de_punto_flotante](https://github.com/ITAM-DS/analisis-numerico-computo-cientifico/blob/master/temas/I.computo_cientifico/1.2.Sistema_de_punto_flotante.ipynb)."
   ]
  },
  {
   "cell_type": "markdown",
   "metadata": {},
   "source": [
    "Al ejecutar $\\hat{f}$ obtenemos una colección de números en el SPFN que pertenecen a $\\mathbb{Y}$: $\\hat{f}(x)$.\n",
    "\n",
    "Debido a las diferencias entre un problema con cantidades continuas y una máquina que trabaja con cantidades discretas, los algoritmos numéricos **no** son exactos para **cualquier** elección de datos $x \\in \\mathbb{X}$. Esto es, los algoritmos **no** cumplen que la cantidad: \n",
    "\n",
    "$$\\frac{||\\hat{f}(x)-f(x)||}{||f(x)||}$$\n",
    "\n",
    "dependa únicamente de errores por redondeo al evaluar $f$ $\\forall x \\in \\mathbb{X}$. En notación matemática:"
   ]
  },
  {
   "cell_type": "markdown",
   "metadata": {},
   "source": [
    "$$\\frac{||\\hat{f}(x)-f(x)||}{||f(x)||} \\leq K \\epsilon_{maq} \\forall x \\in \\mathbb{X}$$\n",
    "\n",
    "con $K > 0$ no se cumple en general."
   ]
  },
  {
   "cell_type": "markdown",
   "metadata": {},
   "source": [
    "La razón de lo anterior tiene que ver con cuestiones en la implantación de $\\hat{f}$ como el número de iteraciones, la representación de $x$ en un SPFN o el mal condicionamiento de $f$. Así, a los algoritmos en el análisis numérico, se les pide una condición menos estricta que la anterior y más bien satisfagan lo que se conoce como **estabilidad**. Se dice que un algoritmo $\\hat{f}$ para un problema $f$ es **estable** si:\n",
    "\n",
    "$$\\forall x \\in \\mathbb{X}, \\frac{||\\hat{f}(x)-f(\\hat{x})||}{||f(\\hat{x})||} \\leq K_1\\epsilon_{maq}, K_1>0$$\n",
    "\n",
    "para $\\hat{x} \\in \\mathbb{X}$ tal que $\\frac{||x-\\hat{x}||}{||x||} \\leq K_2\\epsilon_{maq}, K_2>0$."
   ]
  },
  {
   "cell_type": "markdown",
   "metadata": {},
   "source": [
    "Esto es, $\\hat{f}$ resuelve un problema cercano para datos cercanos (cercano en el sentido del $\\epsilon_{maq}$) independientemente de la elección de $x$.\n",
    "\n",
    "**Obs:** obsérvese que esta condición es más flexible y en general $K_1, K_2$ dependen de las dimensiones de $\\mathbb{X},\\mathbb{Y}$."
   ]
  },
  {
   "cell_type": "markdown",
   "metadata": {},
   "source": [
    "**Comentarios:**\n",
    "\n",
    "* Esta definición resulta apropiada para la mayoría de los problemas en el ánalisis numérico. Para otras áreas, por ejemplo en ecuaciones diferenciales, donde se tienen definiciones de sistemas dinámicos estables e inestables (cuyas definiciones no se deben confundir con las descritas para algoritmos), esta condición es muy estricta.\n",
    "\n",
    "* Tenemos algoritmos que satisfacen una condición más estricta y simple que la estabilidad: **estabilidad hacia atrás**:\n",
    "\n"
   ]
  },
  {
   "cell_type": "markdown",
   "metadata": {},
   "source": [
    "### Estabilidad hacia atrás"
   ]
  },
  {
   "cell_type": "markdown",
   "metadata": {},
   "source": [
    "Decimos que un algoritmo $\\hat{f}$ para el problema $f$ es **estable hacia atrás** si:\n",
    "\n",
    "$$\\forall x \\in \\mathbb{X}, \\hat{f}(x) = f(\\hat{x})$$\n",
    "\n",
    "con $\\hat{x} \\in \\mathbb{X}$ tal que $\\frac{||x-\\hat{x}||}{||x||} \\leq K\\epsilon_{maq}, K>0$.\n",
    "\n",
    "Esto es, el algoritmo $\\hat{f}$ da la solución **exacta** para datos cercanos (cercano en el sentido de $\\epsilon_{maq}$), independientemente de la elección de $x$."
   ]
  },
  {
   "cell_type": "markdown",
   "metadata": {},
   "source": [
    "**Comentario:** Para entender la estabilidad hacia atrás de un algoritmo, considérese el ejemplo siguiente. \n",
    "\n",
    "**Problema:** evaluar $f(x) = e^x$ en $x=1$.\n",
    "\n",
    "**Resultado:** $f(1) = e^1 = 2.718281...$.\n",
    "\n"
   ]
  },
  {
   "cell_type": "code",
   "execution_count": 2,
   "metadata": {},
   "outputs": [
    {
     "data": {
      "text/plain": [
       "2.718281828459045"
      ]
     },
     "execution_count": 2,
     "metadata": {},
     "output_type": "execute_result"
    }
   ],
   "source": [
    "import math\n",
    "x=1\n",
    "math.exp(x)"
   ]
  },
  {
   "cell_type": "markdown",
   "metadata": {},
   "source": [
    "**Algoritmo:** truncar la serie $1 + x + \\frac{x^2}{2} + \\frac{x^3}{6} + \\dots $ a cuatro términos: $\\hat{f}(x) = 1 + x + \\frac{x^2}{2} + \\frac{x^3}{6}$.\n",
    "\n",
    "**Resultado del algoritmo:** $\\hat{f}(1) = 2.\\bar{6}$"
   ]
  },
  {
   "cell_type": "code",
   "execution_count": 3,
   "metadata": {},
   "outputs": [],
   "source": [
    "algoritmo = lambda x: 1 + x + x**2/2.0 + x**3/6.0"
   ]
  },
  {
   "cell_type": "code",
   "execution_count": 4,
   "metadata": {},
   "outputs": [
    {
     "data": {
      "text/plain": [
       "2.6666666666666665"
      ]
     },
     "execution_count": 4,
     "metadata": {},
     "output_type": "execute_result"
    }
   ],
   "source": [
    "algoritmo(1)"
   ]
  },
  {
   "cell_type": "markdown",
   "metadata": {},
   "source": [
    "**Pregunta:** ¿Qué valor $\\hat{x} \\in \\mathbb{R}$ hace que el valor calculado por el algoritmo $\\hat{f}(1)$ sea igual a $f(\\hat{x})$?\n",
    "\n",
    "-> **Solución:** \n",
    "\n",
    "Resolver la ecuación: $e^{\\hat{x}} = 2.\\bar{6}$, esto es: $\\hat{x} = log(2.\\bar{6}) = 0.980829...$. Entonces $f(\\hat{x}) = 2.\\bar{6} = \\hat{f}(x)$."
   ]
  },
  {
   "cell_type": "code",
   "execution_count": 5,
   "metadata": {},
   "outputs": [
    {
     "data": {
      "text/plain": [
       "0.9808292530117262"
      ]
     },
     "execution_count": 5,
     "metadata": {},
     "output_type": "execute_result"
    }
   ],
   "source": [
    "x_hat = math.log(algoritmo(1))\n",
    "x_hat"
   ]
  },
  {
   "cell_type": "markdown",
   "metadata": {},
   "source": [
    "Entonces, el algoritmo es estable hacia atrás sólo si la diferencia entre $x$ y $\\hat{x}$ en términos relativos es menor a $K \\epsilon_{maq}$ con $K >0$. Además, podemos calcular **errores hacia delante** y **errores hacia atrás**:\n",
    "\n",
    "error hacia delante: $\\hat{f}(x) - f(x) = -0.05161...$, error hacia atrás: $\\hat{x}-x = -0.01917...$."
   ]
  },
  {
   "cell_type": "code",
   "execution_count": 6,
   "metadata": {},
   "outputs": [
    {
     "data": {
      "text/plain": [
       "-0.05161516179237857"
      ]
     },
     "execution_count": 6,
     "metadata": {},
     "output_type": "execute_result"
    }
   ],
   "source": [
    "err_delante = algoritmo(x) - math.exp(x)\n",
    "err_delante"
   ]
  },
  {
   "cell_type": "code",
   "execution_count": 7,
   "metadata": {},
   "outputs": [
    {
     "data": {
      "text/plain": [
       "-0.019170746988273812"
      ]
     },
     "execution_count": 7,
     "metadata": {},
     "output_type": "execute_result"
    }
   ],
   "source": [
    "err_atras = x_hat-x\n",
    "err_atras"
   ]
  },
  {
   "cell_type": "markdown",
   "metadata": {},
   "source": [
    "Dependiendo del problema estos errores son pequeños o grandes, por ejemplo si consideramos tener una cifra correcta como suficiente para determinar que es una buena aproximación entonces podemos concluir: $\\hat{f}$ obtiene una respuesta correcta y cercana al valor de $f$ (error hacia delante) y la respuesta que obtuvimos con $\\hat{f}$ es correcta para datos ligeramente perturbados (error hacia atrás).\n",
    "\n",
    "**Obs:** \n",
    "\n",
    "1. Obsérvese que el error hacia delante requiere resolver el problema $f$ (para calcular $f(x)$) y de información sobre $f$.\n",
    "\n",
    "2. En el ejemplo anterior se calculó $\\hat{f}(x)$ y se calculó qué tan larga debe ser la modificación en los datos $x$, esto es: $\\hat{x}$, para que $\\hat{f}(x) = f(\\hat{x})$ (error hacia atrás).\n",
    "\n",
    "3. \n",
    "\n",
    "<p align=\"centered\">\n",
    "<img src=\"https://drive.google.com/uc?export=view&id=1O8JxFe1E2ttCH9nIJVeuatOZ_4y8WkUi\" alt=\"a\" heigth=\"500\" width=\"500\">\n",
    "</p>\n",
    "\n"
   ]
  },
  {
   "cell_type": "markdown",
   "metadata": {},
   "source": [
    "# 1.3.1 Número de condición de una matriz"
   ]
  },
  {
   "cell_type": "markdown",
   "metadata": {},
   "source": [
    "En el curso trabajaremos con algoritmos matriciales que son numéricamente estables (o estables hacia atrás) ante errores por redondeo, sin embargo la exactitud que obtengamos con tales algoritmos dependerán de qué tan bien (o mal) condicionado esté el problema. En el caso de matrices la condición de un problema puede ser cuantificada con el **número de condición** de la matriz del problema. Aunque haciendo uso de definiciones como la pseudoinversa de una matriz es posible definir el número de condición para una matriz en general rectangular $A \\in \\mathbb{R}^{m\\times n}$, en esta primera definición consideramos matrices cuadradas no singulares $A \\in \\mathbb{R}^{n\\times n}$:\n",
    "\n",
    "$$\\text{cond}(A) = ||A|| ||A^{-1}||.$$"
   ]
  },
  {
   "cell_type": "markdown",
   "metadata": {},
   "source": [
    "**Obs:** obsérvese que la norma anterior es una **norma matricial** y cond$(\\cdot)$ puede calcularse para diferentes normas matriciales. Ver final de esta nota para definición de norma y propiedades."
   ]
  },
  {
   "cell_type": "markdown",
   "metadata": {},
   "source": [
    "## Preguntas:\n",
    "\n",
    "### 1. ¿Por qué se utiliza la expresión $||A|| ||A^{-1}||$ para definir el número de condición de una matriz?\n",
    "\n",
    "### 2. ¿Qué está midiendo el número de condición de una matriz respecto a un sistema de ecuaciones lineales?"
   ]
  },
  {
   "cell_type": "markdown",
   "metadata": {},
   "source": [
    "**Para responder la primer pregunta...**"
   ]
  },
  {
   "cell_type": "markdown",
   "metadata": {},
   "source": [
    "La primer pregunta tiene que ver con el hecho que tal expresión aparece frecuentemente en problemas típicos de matrices. Para lo anterior considérese los siguientes problemas $f$:"
   ]
  },
  {
   "cell_type": "markdown",
   "metadata": {},
   "source": [
    "1.Sean $A \\in \\mathbb{R}^{n\\times n}$ no singular, $x \\in \\mathbb{R}^n$ y $f$ el problema de realizar la multiplicación $Ax$ para $x$ fijo, esto es: $f: \\mathbb{R}^n \\rightarrow \\mathbb{R}^n$ dada por $f(x) = Ax$. Considérese una perturbación en $x: \\hat{x} = x + \\Delta x$, entonces:\n",
    "\n",
    "$$\\text{Cond}_f^R = \\frac{\\text{ErrRel}(f(\\hat{x}))}{\\text{ErrRel}(\\hat{x})} = \\frac{\\frac{||f(\\hat{x})-f(x)||}{||f(x)||}}{\\frac{||x-\\hat{x}||}{||x||}} \\approx \\frac{||\\mathcal{J}_f(x)||||x||}{||f(x)||}.$$"
   ]
  },
  {
   "cell_type": "markdown",
   "metadata": {},
   "source": [
    "Para este problema tenemos: \n",
    "\n",
    "$$\\frac{||\\mathcal{J}_f(x)||||x||}{||f(x)||} = \\frac{||A|| ||x||}{||Ax||}.$$"
   ]
  },
  {
   "cell_type": "markdown",
   "metadata": {},
   "source": [
    "Si las normas matriciales utilizadas en el número de condición son consistentes (ver final de esta nota para definición de norma y propiedades) entonces: \n",
    "\n",
    "$$||x|| = ||A^{-1}Ax|| \\leq ||A^{-1}||||Ax|| \\therefore \\frac{||x||}{||Ax||} \\leq ||A^{-1}||$$"
   ]
  },
  {
   "cell_type": "markdown",
   "metadata": {},
   "source": [
    "y se tiene:\n",
    "\n",
    "$$\\text{Cond}_f^R \\leq ||A|| ||A^{-1}||.$$"
   ]
  },
  {
   "cell_type": "markdown",
   "metadata": {},
   "source": [
    "2.Sean $f: \\mathbb{R}^n \\rightarrow \\mathbb{R}, A \\in \\mathbb{R}^{n\\times n}$ no singular. Considérese el problema de calcular $f(b) = A^{-1}b$ para $b \\in \\mathbb{R}^n$ fijo y la perturbación $\\hat{b} = b + \\Delta b$ entonces bajo las suposiciones del ejemplo anterior:\n",
    "\n",
    "$$\\text{Cond}_f^R \\approx \\frac{||A^{-1}|| ||b||}{||A^{-1}b||}.$$"
   ]
  },
  {
   "cell_type": "markdown",
   "metadata": {},
   "source": [
    "Si las normas matriciales utilizadas en el número de condición son consistentes (ver final de esta nota para definición de norma y propiedades) entonces: \n",
    "\n",
    "$$||b|| = ||AA^{-1}b|| \\leq ||A|| ||A^{-1}b|| \\therefore \\text{Cond}_f^R \\leq ||A^{-1}|| ||A||.$$"
   ]
  },
  {
   "cell_type": "markdown",
   "metadata": {},
   "source": [
    "3.Sean $f: \\mathbb{R}^{n\\times n} \\rightarrow \\mathbb{R}^n, A \\in \\mathbb{R}^{n\\times n}$ no singular $b \\in \\mathbb{R}^n$ fijo. Considérese el problema de calcular la solución $x$ del sistema $Az=b$, esto es, calcular: $x = f(A) = A^{-1}b.$ Además, considérese la perturbación $\\hat{A} = A + \\Delta A$ en tal sistema $Az = b$. Se tiene:"
   ]
  },
  {
   "cell_type": "markdown",
   "metadata": {},
   "source": [
    "\n",
    "$$\\hat{x} = \\hat{A}^{-1}b,$$\n",
    "\n",
    "donde: $\\hat{x} = x + \\Delta x$ (si se perturba $A$ entonces se perturba también $x$).\n"
   ]
  },
  {
   "cell_type": "markdown",
   "metadata": {},
   "source": [
    "De la ecuación anterior como $\\hat{x} = \\hat{A}^{-1}b$ se tiene:\n",
    "\n",
    "$$\\hat{A}\\hat{x} = b$$"
   ]
  },
  {
   "cell_type": "markdown",
   "metadata": {},
   "source": [
    "$$(A+\\Delta A)(x+\\Delta x) = b$$"
   ]
  },
  {
   "cell_type": "markdown",
   "metadata": {},
   "source": [
    "$$Ax + A \\Delta x + \\Delta Ax + \\Delta A \\Delta x = b$$"
   ]
  },
  {
   "cell_type": "markdown",
   "metadata": {},
   "source": [
    "$$b + A \\Delta x + \\Delta A x = b$$"
   ]
  },
  {
   "cell_type": "markdown",
   "metadata": {},
   "source": [
    "Donde en esta última ecuación se supuso que $\\Delta A \\Delta x \\approx 0$ y de aquí:\n",
    "\n",
    "$$A \\Delta x + \\Delta A x  \\approx 0 \\therefore \\Delta x \\approx - A^{-1} \\Delta A x.$$"
   ]
  },
  {
   "cell_type": "markdown",
   "metadata": {},
   "source": [
    "Entonces se tiene que la condición del problema $f$ calcular la solución de sistema de ecuaciones lineales $Az=b$ con $A$ no singular ante perturbaciones en $A$ es:\n",
    "\n",
    "$$\\text{Cond}_f^R = \\frac{\\frac{||x-\\hat{x}||}{||x||}}{\\frac{||A-\\hat{A}||}{||A||}}=\\frac{\\frac{||\\Delta x||}{||x||}}{\\frac{||\\Delta A||}{||A||}} \\leq \\frac{\\frac{||A^{-1}||||\\Delta Ax||}{||x||}}{\\frac{||\\Delta A||}{||A||}} \\leq ||A^{-1}||||A||.$$"
   ]
  },
  {
   "cell_type": "markdown",
   "metadata": {},
   "source": [
    "**Para responder la segunda pregunta...**"
   ]
  },
  {
   "cell_type": "markdown",
   "metadata": {},
   "source": [
    "El número de condición de una matriz mide la sensibilidad de la solución de un sistema de ecuaciones lineales ante perturbaciones en los datos de entrada (en la matriz del sistema $A$ o en el lado derecho $b$). Si pequeños cambios en los datos de entrada generan grandes cambios en la solución tenemos un **sistema mal condicionado**. Si pequeños cambios en los datos de entrada generan pequeños cambios en la solución tenemos un sistema **bien condicionado**. Lo anterior puede apreciarse con los siguientes ejemplos y dibujo:"
   ]
  },
  {
   "cell_type": "markdown",
   "metadata": {},
   "source": [
    "1.Resolver los siguientes sistemas:\n",
    "\n",
    "$$a) \\begin{array}{ccc} x_1 +2x_2   &= & 10 \\\\ 1.1x_1 + 2x_2 &= & 10.4 \\end{array} $$"
   ]
  },
  {
   "cell_type": "markdown",
   "metadata": {},
   "source": [
    "$$b)\\begin{array}{ccc} 1.05x_1 +2x_2  &= & 10 \\\\ 1.1x_1 + 2x_2 &= & 10.4\\end{array} $$"
   ]
  },
  {
   "cell_type": "code",
   "execution_count": 8,
   "metadata": {},
   "outputs": [],
   "source": [
    "import numpy as np\n",
    "import pprint"
   ]
  },
  {
   "cell_type": "code",
   "execution_count": 9,
   "metadata": {},
   "outputs": [
    {
     "name": "stdout",
     "output_type": "stream",
     "text": [
      "inciso a\n",
      "A:\n",
      "array([[1. , 2. ],\n",
      "       [1.1, 2. ]])\n",
      "b:\n",
      "array([10. , 10.4])\n"
     ]
    }
   ],
   "source": [
    "print('inciso a')\n",
    "A = np.array([[1, 2], [1.1, 2]])\n",
    "b = np.array([10,10.4])\n",
    "print('A:')\n",
    "pprint.pprint(A)\n",
    "print('b:')\n",
    "pprint.pprint(b)"
   ]
  },
  {
   "cell_type": "code",
   "execution_count": 10,
   "metadata": {},
   "outputs": [
    {
     "name": "stdout",
     "output_type": "stream",
     "text": [
      "x:\n",
      "array([4., 3.])\n"
     ]
    }
   ],
   "source": [
    "x=np.linalg.solve(A,b)\n",
    "print('x:')\n",
    "pprint.pprint(x)"
   ]
  },
  {
   "cell_type": "code",
   "execution_count": 11,
   "metadata": {},
   "outputs": [
    {
     "name": "stdout",
     "output_type": "stream",
     "text": [
      "inciso b\n",
      "A:\n",
      "array([[1.05, 2.  ],\n",
      "       [1.1 , 2.  ]])\n",
      "b:\n",
      "array([10. , 10.4])\n"
     ]
    }
   ],
   "source": [
    "print('inciso b')\n",
    "A = np.array([[1.05, 2], [1.1, 2]])\n",
    "b = np.array([10,10.4])\n",
    "print('A:')\n",
    "pprint.pprint(A)\n",
    "print('b:')\n",
    "pprint.pprint(b)"
   ]
  },
  {
   "cell_type": "code",
   "execution_count": 12,
   "metadata": {},
   "outputs": [
    {
     "name": "stdout",
     "output_type": "stream",
     "text": [
      "x:\n",
      "array([8. , 0.8])\n"
     ]
    }
   ],
   "source": [
    "x=np.linalg.solve(A,b)\n",
    "print('x:')\n",
    "pprint.pprint(x)"
   ]
  },
  {
   "cell_type": "markdown",
   "metadata": {},
   "source": [
    "2.Resolver los siguientes sistemas:\n",
    "    \n",
    "$$a) \\begin{array}{ccc} .03x_1 + 58.9x_2   &= & 59.2 \\\\ 5.31x_1 -6.1x_2 &= & 47 \\end{array} $$"
   ]
  },
  {
   "cell_type": "markdown",
   "metadata": {},
   "source": [
    "$$a) \\begin{array}{ccc} .03x_1 + 58.9x_2   &= & 59.2 \\\\ .03x_1 -6.05x_2 &= & 47 \\end{array} $$"
   ]
  },
  {
   "cell_type": "code",
   "execution_count": 13,
   "metadata": {},
   "outputs": [
    {
     "name": "stdout",
     "output_type": "stream",
     "text": [
      "inciso a\n",
      "A:\n",
      "array([[ 3.00e-02,  5.89e+01],\n",
      "       [ 5.31e+00, -6.10e+00]])\n",
      "b:\n",
      "array([59.2, 47. ])\n"
     ]
    }
   ],
   "source": [
    "print('inciso a')\n",
    "A = np.array([[.03, 58.9], [5.31, -6.1]])\n",
    "b = np.array([59.2,47])\n",
    "print('A:')\n",
    "pprint.pprint(A)\n",
    "print('b:')\n",
    "pprint.pprint(b)"
   ]
  },
  {
   "cell_type": "code",
   "execution_count": 14,
   "metadata": {},
   "outputs": [
    {
     "name": "stdout",
     "output_type": "stream",
     "text": [
      "x:\n",
      "array([10.,  1.])\n"
     ]
    }
   ],
   "source": [
    "x=np.linalg.solve(A,b)\n",
    "print('x:')\n",
    "pprint.pprint(x)"
   ]
  },
  {
   "cell_type": "code",
   "execution_count": 15,
   "metadata": {},
   "outputs": [
    {
     "name": "stdout",
     "output_type": "stream",
     "text": [
      "inciso b\n",
      "A:\n",
      "array([[ 3.00e-02,  5.89e+01],\n",
      "       [ 5.31e+00, -6.05e+00]])\n",
      "b:\n",
      "array([59.2, 47. ])\n"
     ]
    }
   ],
   "source": [
    "print('inciso b')\n",
    "A = np.array([[.03, 58.9], [5.31, -6.05]])\n",
    "b = np.array([59.2,47])\n",
    "print('A:')\n",
    "pprint.pprint(A)\n",
    "print('b:')\n",
    "pprint.pprint(b)"
   ]
  },
  {
   "cell_type": "code",
   "execution_count": 16,
   "metadata": {},
   "outputs": [
    {
     "name": "stdout",
     "output_type": "stream",
     "text": [
      "x:\n",
      "array([9.99058927, 1.00000479])\n"
     ]
    }
   ],
   "source": [
    "x=np.linalg.solve(A,b)\n",
    "print('x:')\n",
    "pprint.pprint(x)"
   ]
  },
  {
   "cell_type": "markdown",
   "metadata": {},
   "source": [
    "3.Dibujo\n",
    "\n",
    "<p align=\"centered\">\n",
    "<img src=\"https://drive.google.com/uc?export=view&id=1s0urIjJk_feDzHzslcX7u7mcFnXUcli8\" alt=\"a\" heigth=\"500\" width=\"500\">\n",
    "</p>\n"
   ]
  },
  {
   "cell_type": "markdown",
   "metadata": {},
   "source": [
    "**Comentario:** también para un sistema mal condicionado se considera que un amplio rango de valores en un SPFN satisface el mismo de forma aproximada."
   ]
  },
  {
   "cell_type": "markdown",
   "metadata": {},
   "source": [
    "---"
   ]
  },
  {
   "cell_type": "markdown",
   "metadata": {},
   "source": [
    "## Norma"
   ]
  },
  {
   "cell_type": "markdown",
   "metadata": {},
   "source": [
    "Una norma define una medida de distancia en un conjunto y da nociones de tamaño, vecindad, convergencia y continuidad."
   ]
  },
  {
   "cell_type": "markdown",
   "metadata": {},
   "source": [
    "**Normas vectoriales**"
   ]
  },
  {
   "cell_type": "markdown",
   "metadata": {},
   "source": [
    "Sea $\\mathbb{R}^n$ el conjunto de $n$-tuplas o vectores columna o $1$-arreglo de orden $1$, esto es:\n",
    "\n",
    "$$x \\in \\mathbb{R}^n \\iff x = \\left[\\begin{array}{c}\n",
    "    x_1\\\\\n",
    "    x_2\\\\\n",
    "    \\vdots\\\\\n",
    "    x_n\n",
    "    \\end{array} \\right] \\text{ con } x_i \\in \\mathbb{R}$$\n",
    " "
   ]
  },
  {
   "cell_type": "markdown",
   "metadata": {},
   "source": [
    "Una norma vectorial en $\\mathbb{R}^n$ es una función $g: \\mathbb{R}^n \\rightarrow \\mathbb{R}$ que satisface las siguientes propiedades:\n",
    "\n",
    "* $g$ es no negativa: $g(x) \\geq 0 \\forall x \\in \\mathbb{R}^n$.\n",
    "\n",
    "* $g$ es definida: $g(x) = 0 \\iff x = 0$.\n",
    "\n",
    "* $g$ satisface la desigualdad del triángulo: $$g(x+y) \\leq g(x) + g(y) \\forall x,y \\in \\mathbb{R}^n.$$\n"
   ]
  },
  {
   "cell_type": "markdown",
   "metadata": {},
   "source": [
    "* $g$ es homogénea: $g(\\alpha x)=|\\alpha|g(x), \\forall \\alpha \\in \\mathbb{R}, \\forall x \\in \\mathbb{R}^n$.\n",
    "\n",
    "Notación: $g(x) = ||x||$."
   ]
  },
  {
   "cell_type": "markdown",
   "metadata": {},
   "source": [
    "**Comentarios:**\n",
    "\n",
    "* Una norma es una generalización del valor absoluto de $\\mathbb{R}$: $|x|, x \\in \\mathbb{R}.$\n",
    "\n",
    "* Un espacio vectorial con una norma definida en éste se le llama **espacio vectorial normado**.\n",
    "\n",
    "* Una norma es una medida de la longitud de un vector.\n",
    "\n",
    "* Con una norma es posible definir conceptos como distancia entre vectores: $x,y \\in \\mathbb{R}^n: \\text{dist}(x,y) = ||x-y||$.\n",
    "\n",
    "* Existen varias normas en $\\mathbb{R}^n$ siendo las más comunes:\n",
    "\n",
    " * La norma $\\mathcal{l}_2$, Euclidiana o norma $2$: $||x||_2$.\n",
    " \n",
    " * La norma $\\mathcal{l}_1$ o norma $1$: $||x||_1$.\n",
    " \n",
    " * La norma $\\infty$ o de Chebyshev o norma infinito: $||x||_\\infty$.\n",
    " \n",
    " Las normas anteriores pertenecen a una familia parametrizada por una constante $p, p \\geq 1$ cuyo nombre es norma $\\mathcal{l}_p$:\n",
    " \n",
    " $$ ||x||_p = \\left(\\displaystyle \\sum_{i=1}^n|x_i|^p \\right )^{1/p}.$$\n",
    " \n"
   ]
  },
  {
   "cell_type": "markdown",
   "metadata": {},
   "source": [
    "->La norma $\\infty$ se encuentra en esta familia como límite: \n",
    "\n",
    "$$||x||_\\infty = \\displaystyle \\lim_{p \\rightarrow \\infty} ||x||_p.$$"
   ]
  },
  {
   "cell_type": "markdown",
   "metadata": {},
   "source": [
    "->En la norma $\\mathcal{l}_2$ o Euclidiana $||x||_2$ tenemos una desigualdad muy importante, la desigualdad de **Cauchy-Schwartz**:\n",
    "\n",
    "$$|x^Ty| \\leq ||x||_2||y||_2 \\forall x,y \\in \\mathbb{R}^n$$\n",
    "\n",
    "la cual relaciona el producto interno estándar para $x,y \\in \\mathbb{R}^n$: $<x,y> = x^Ty = \\displaystyle \\sum_{i=1}^nx_iy_i$ con la norma $\\mathcal{l}_2$ de $x$ y la norma $\\mathcal{l}_2$ de $y$. Además se utiliza lo anterior para definir el ángulo (sin signo) entre $x,y$: "
   ]
  },
  {
   "cell_type": "markdown",
   "metadata": {},
   "source": [
    "$$\\measuredangle x,y = \\cos ^{-1}\\left(\\frac{x^Ty}{||x||_2||y||_2} \\right )$$"
   ]
  },
  {
   "cell_type": "markdown",
   "metadata": {},
   "source": [
    "para $\\cos^{-1}(u) \\in [0,\\pi]$ y se nombra a $x,y$ ortogonales si $x^Ty=0$. Obsérvese que $||x||_2 = \\sqrt{x^Tx}$.\n",
    "\n",
    "* También se utilizan matrices* para definir normas\n",
    "\n",
    "*Matriz: arreglo $2$-dimensional de datos o $2$ arreglo de orden $2$. Se utiliza la notación $A \\in \\mathbb{R}^{m\\times n}$ para denotar:\n",
    "\n",
    "\n",
    "$$A = \\left[\\begin{array}{cccc}\n",
    "a_{11} &a_{12}&\\dots&a_{1n}\\\\\n",
    "a_{21} &a_{22}&\\dots&a_{2n}\\\\\n",
    "\\vdots &\\vdots& \\vdots&\\vdots\\\\\n",
    "a_{n1} &a_{n2}&\\dots&a_{nn}\\\\\n",
    "\\vdots &\\vdots& \\vdots&\\vdots\\\\\n",
    "a_{m-11} &a_{m-12}&\\dots&a_{m-1n}\\\\\n",
    "a_{m1} &a_{m2}&\\dots&a_{mm}\n",
    "\\end{array}\n",
    "\\right] \n",
    "$$\n"
   ]
  },
  {
   "cell_type": "markdown",
   "metadata": {},
   "source": [
    "*$a_{ij} \\mathbb{R} \\forall i=1,\\dots,m, j=1,\\dots,n$.\n",
    "\n",
    "*$A=(a_1,\\dots a_n), a_j \\in \\mathbb{R}^m (=\\mathbb{R}^{m\\times1}) \\forall j=1,\\dots,n$.\n",
    "\n",
    "*$A=\\left ( \\begin{array}{c}\n",
    "a_1^T\\\\\n",
    "\\vdots\\\\\n",
    "a_m^T\n",
    "\\end{array} \\right ), a_i \\in \\mathbb{R}^n (=\\mathbb{R}^{n\\times1}) \\forall i=1,\\dots,m$."
   ]
  },
  {
   "cell_type": "markdown",
   "metadata": {},
   "source": [
    "**Ejercicios**\n",
    "\n",
    "1. Resuelve los ejercicios y preguntas de la nota."
   ]
  },
  {
   "cell_type": "markdown",
   "metadata": {},
   "source": [
    "**Preguntas de comprehensión**\n",
    "\n",
    "1)¿Qué factores influyen en la falta de exactitud de un cálculo?\n",
    "\n",
    "2)Menciona $5$ propiedades que un conjunto debe cumplir para que sea considerado un espacio vectorial.\n",
    "\n",
    "3)Menciona las propiedades que debe cumplir una función para que se considere una norma.\n",
    "\n",
    "4)¿Qué es una norma matricial inducida?, ¿qué mide una norma matricial inducida?\n",
    "\n",
    "5)¿La norma de Frobenius, es una norma matricial inducida?\n",
    "\n",
    "6)¿A qué son iguales $\\text{sup}(\\emptyset)$, $\\text{inf}(\\emptyset)$ ? (el conjunto $\\emptyset$ es el conjunto vacío)\n",
    "\n",
    "7)Si f es un problema mal condicionado, ¿a qué nos referimos? Da ejemplos de problemas bien y mal condicionados.\n",
    "\n",
    "8)Si f es un problema que resolvemos con un algoritmo g, ¿qué significa:\n",
    "\n",
    "    a. que g sea estable?\n",
    "    \n",
    "    b. que g sea estable hacia atrás?\n",
    "    \n",
    "    c. que g sea inestable?\n",
    "    \n",
    "9)¿Qué ventaja(s) se tiene(n) al calcular un error hacia atrás vs calcular un error hacia delante?\n",
    "\n"
   ]
  },
  {
   "cell_type": "markdown",
   "metadata": {},
   "source": [
    "**Referencias**"
   ]
  },
  {
   "cell_type": "markdown",
   "metadata": {},
   "source": [
    "1. Nota [1.2.Sistema_de_punto_flotante](https://github.com/ITAM-DS/analisis-numerico-computo-cientifico/blob/master/temas/I.computo_cientifico/1.2.Sistema_de_punto_flotante.ipynb)\n",
    "\n",
    "2. L. Trefethen, D. Bau, Numerical linear algebra, SIAM, 1997."
   ]
  },
  {
   "cell_type": "code",
   "execution_count": null,
   "metadata": {},
   "outputs": [],
   "source": []
  }
 ],
 "metadata": {
  "kernelspec": {
   "display_name": "Python 3",
   "language": "python",
   "name": "python3"
  },
  "language_info": {
   "codemirror_mode": {
    "name": "ipython",
    "version": 3
   },
   "file_extension": ".py",
   "mimetype": "text/x-python",
   "name": "python",
   "nbconvert_exporter": "python",
   "pygments_lexer": "ipython3",
   "version": "3.6.8"
  }
 },
 "nbformat": 4,
 "nbformat_minor": 4
}
