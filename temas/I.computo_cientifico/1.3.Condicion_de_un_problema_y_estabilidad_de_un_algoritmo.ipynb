{
 "cells": [
  {
   "cell_type": "markdown",
   "metadata": {},
   "source": [
    "# 1.3 Condición de un problema y estabilidad de un algoritmo"
   ]
  },
  {
   "cell_type": "markdown",
   "metadata": {},
   "source": [
    "Dos temas fundamentales en el análisis numérico son: la condición de un problema y estabilidad de un algoritmo."
   ]
  },
  {
   "cell_type": "code",
   "execution_count": 4,
   "metadata": {},
   "outputs": [],
   "source": [
    "\n",
    "fun<-function(val){\n",
    "    set.seed(val)\n",
    "    kappa(matrix(rnorm(25),ncol=5,nrow=5),exact=TRUE)\n",
    "}\n",
    "l_mat <- lapply(1:5,fun)\n"
   ]
  },
  {
   "cell_type": "code",
   "execution_count": 5,
   "metadata": {},
   "outputs": [
    {
     "data": {
      "text/html": [
       "<ol>\n",
       "\t<li>79.4406502797001</li>\n",
       "\t<li>6.12973332849239</li>\n",
       "\t<li>23.0858259635873</li>\n",
       "\t<li>14.3358641230172</li>\n",
       "\t<li>11.3916590579604</li>\n",
       "</ol>\n"
      ],
      "text/latex": [
       "\\begin{enumerate}\n",
       "\\item 79.4406502797001\n",
       "\\item 6.12973332849239\n",
       "\\item 23.0858259635873\n",
       "\\item 14.3358641230172\n",
       "\\item 11.3916590579604\n",
       "\\end{enumerate}\n"
      ],
      "text/markdown": [
       "1. 79.4406502797001\n",
       "2. 6.12973332849239\n",
       "3. 23.0858259635873\n",
       "4. 14.3358641230172\n",
       "5. 11.3916590579604\n",
       "\n",
       "\n"
      ],
      "text/plain": [
       "[[1]]\n",
       "[1] 79.44065\n",
       "\n",
       "[[2]]\n",
       "[1] 6.129733\n",
       "\n",
       "[[3]]\n",
       "[1] 23.08583\n",
       "\n",
       "[[4]]\n",
       "[1] 14.33586\n",
       "\n",
       "[[5]]\n",
       "[1] 11.39166\n"
      ]
     },
     "metadata": {},
     "output_type": "display_data"
    }
   ],
   "source": [
    "l_mat"
   ]
  },
  {
   "cell_type": "code",
   "execution_count": 7,
   "metadata": {},
   "outputs": [],
   "source": [
    "options(repr.plot.width=4, repr.plot.height=3)"
   ]
  },
  {
   "cell_type": "code",
   "execution_count": 8,
   "metadata": {},
   "outputs": [
    {
     "data": {
      "image/png": "[encoded data removed]",
      "text/plain": [
       "plot without title"
      ]
     },
     "metadata": {},
     "output_type": "display_data"
    }
   ],
   "source": [
    "plot(1:5,l_mat)"
   ]
  },
  {
   "cell_type": "code",
   "execution_count": null,
   "metadata": {},
   "outputs": [],
   "source": []
  }
 ],
 "metadata": {
  "kernelspec": {
   "display_name": "R",
   "language": "R",
   "name": "ir"
  },
  "language_info": {
   "codemirror_mode": "r",
   "file_extension": ".r",
   "mimetype": "text/x-r-source",
   "name": "R",
   "pygments_lexer": "r",
   "version": "3.6.0"
  }
 },
 "nbformat": 4,
 "nbformat_minor": 2
}
