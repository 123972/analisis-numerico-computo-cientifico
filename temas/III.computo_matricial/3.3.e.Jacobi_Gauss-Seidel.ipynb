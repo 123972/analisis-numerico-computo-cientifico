{
 "cells": [
  {
   "cell_type": "markdown",
   "metadata": {},
   "source": [
    "# Métodos iterativos de Jacobi y Gauss-Seidel"
   ]
  },
  {
   "cell_type": "markdown",
   "metadata": {},
   "source": [
    "Consideramos sistemas de ecuaciones lineales $n \\times n$ de la forma $Ax=b$.\n",
    "\n",
    "Se recomienda el uso de los métodos iterativos para resolver sistemas grandes (mayores a $10^{8}$ entradas, por ejemplo $A \\in \\mathbb{R}^{10^4 \\times 10^4}$) y también para matrices *sparse* o ralas (con muchos ceros) pues son eficientes en el uso de memoria y cómputo.\n",
    "\n",
    "Todos los métodos iterativos inician con una aproximación inicial $x^{(0)}$ a la solución $x$ para generar una secuencia de vectores $x^{(k)}$, $k=0,1,\\dots$ cuyos valores dependen de las iteraciones anteriores y que para un valor de $k$, $x^{(k)}$ converge a $x$. La aproximación inicial y la convergencia dependen de los métodos iterativos utilizados."
   ]
  },
  {
   "cell_type": "markdown",
   "metadata": {},
   "source": [
    "## Método de Jacobi"
   ]
  },
  {
   "cell_type": "markdown",
   "metadata": {},
   "source": [
    "En una primera descripción del método se asume que $a_{ii} \\neq 0$, $\\forall i=1,2,\\dots,n$."
   ]
  },
  {
   "cell_type": "markdown",
   "metadata": {},
   "source": [
    "El método iterativo de Jacobi se obtiene al resolver la $i$-ésima equación en $Ax=b$ para $x_i$ resultando en la ecuación:\n",
    "\n",
    "$$x_i = \\displaystyle \\sum_{\\overset{j=1}{j \\neq i}} ^n \\left ( - \\frac{a_{ij}x_j}{a_{ii}} \\right ) + \\frac{b_i}{a_{ii}}, i=1,2,\\dots,n$$"
   ]
  },
  {
   "cell_type": "markdown",
   "metadata": {},
   "source": [
    "Para cada $k \\geq$ las componentes $x_i^{(k)}$ de $x^{(k)}$ se generan a partir de las componentes de $x^{(k-1)}$ por la expresión:\n",
    "\n",
    "$$ x_i^{(k)} = \\frac{1}{a_{ii}} \\left [ \\displaystyle \\sum_{\\overset{j=1}{j \\neq i}} ^n \\left ( -a_{ij}x_{j}^{(k-1)} \\right ) + b_i \\right ], i=1,2,\\dots,n $$"
   ]
  },
  {
   "cell_type": "markdown",
   "metadata": {},
   "source": [
    "**Ejemplo:**"
   ]
  },
  {
   "cell_type": "markdown",
   "metadata": {},
   "source": [
    "Considérese el sistema lineal $Ax=b$ dado por:\n",
    "\n",
    "$$\n",
    "\\begin{array}{ccc} \n",
    "10x_1-x_2+2x_3 &=& 6 \\\\ \n",
    "-x_1+11x_2-x_3+3x_4 &=& 25 \\\\ \n",
    "2x_1-x_2+10x_3-x_4 &=& -11 \\\\ \n",
    "3x_2-x_3+8x_4 &=& 15\n",
    "\\end{array}\n",
    "$$\n"
   ]
  },
  {
   "cell_type": "markdown",
   "metadata": {},
   "source": [
    "el cual tiene solución $x=(1,2,-1,1)^t$. Usar el método iterativo de Jacobi para encontrar aproximaciones $x^{(k)}$ a $x$ iniciando con $x^{(0)} = (0,0,0,0)^t$ hasta tener $\\frac{||x^{(k)}-x^{(k-1)}||_\\infty}{||x^{(k)}||_\\infty} < 10^{-3}$."
   ]
  },
  {
   "cell_type": "markdown",
   "metadata": {},
   "source": [
    "**Solución:**\n",
    "\n",
    "Resolvemos la $i$-ésima ecuación para cada $x_i$, $i=1,2,3,4$ para obtener:\n",
    "\n",
    "$$\n",
    "\\begin{array}{ccc} \n",
    "x_1 &=& \\frac{1}{10}x_2 - \\frac{1}{5}x_3 + \\frac{3}{5} \\\\ \n",
    "x_2 &=& \\frac{1}{11}x_1 + \\frac{1}{11}x_3-\\frac{3}{11}x_4+\\frac{25}{11}\\\\\n",
    "x_3 &=& -\\frac{1}{5}x_1 + \\frac{1}{10}x_2 + \\frac{1}{10}x_4 - \\frac{11}{10}\\\\\n",
    "x_4 &=& -\\frac{3}{8}x_2 + \\frac{1}{8}x_3 + \\frac{15}{8}\n",
    "\\end{array}\n",
    "$$\n"
   ]
  },
  {
   "cell_type": "markdown",
   "metadata": {},
   "source": [
    "Utilizando la aproximación inicial $x^{(0)} = (0,0,0,0)^t$ se obtiene $x^{(1)}$ dado por:\n",
    "\n",
    "$$\n",
    "\\begin{array}{ccc} \n",
    "x_1^{(1)} &=& \\frac{1}{10}x_2^{(0)} - \\frac{1}{5}x_3^{(0)} + \\frac{3}{5} &=& 0.6 \\\\ \n",
    "x_2^{(1)} &=& \\frac{1}{11}x_1^{(0)} + \\frac{1}{11}x_3^{(0)} - \\frac{3}{11}x_4^{(0)} + \\frac{25}{11} &=& 2.2727 \\\\ \n",
    "x_3^{(1)} &=& -\\frac{1}{5}x_1^{(0)}+\\frac{1}{10}x_2^{(0)}+\\frac{1}{10}x_4^{(0)}-\\frac{11}{10}&=&-1.1 \\\\ \n",
    "x_4^{(1)} &=& -\\frac{3}{8}x_2^{(0)}+\\frac{1}{8}x_3^{(0)} + \\frac{15}{8} &=& 1.875\n",
    "\\end{array}\n",
    "$$\n",
    "\n"
   ]
  },
  {
   "cell_type": "markdown",
   "metadata": {},
   "source": [
    "Iteraciones $x^{(k)} = (x_1^{(k)},x_2^{(k)}, x_3^{(k)}, x_4^{(k)})$ son generadas de una forma similar y presentadas a continuación:"
   ]
  },
  {
   "cell_type": "markdown",
   "metadata": {},
   "source": [
    "|||||||\n",
    "|--|--|--|--|--|--|\n",
    "|k|0|1|2|...|10|\n",
    "|$x_1$<sup>(k)</sup>|0|0.6|1.0473|...|1.0001|\n",
    "|$x_2$<sup>(k)</sup>|0|2.2727|1.7159|...|1.998|\n",
    "|$x_3$<sup>(k)</sup>|0|-1.1|-0.8052|...|-0.9998|\n",
    "|$x_4$<sup>(k)</sup>|0|1.875|0.8852|...|0.9998|\n"
   ]
  },
  {
   "cell_type": "markdown",
   "metadata": {},
   "source": [
    "**Referencias:**\n",
    "\n",
    "1. R. L. Burden, J. D. Faires, Numerical Analysis, Brooks/Cole Cengage Learning, 2005."
   ]
  },
  {
   "cell_type": "code",
   "execution_count": null,
   "metadata": {},
   "outputs": [],
   "source": []
  }
 ],
 "metadata": {
  "kernelspec": {
   "display_name": "Python 3",
   "language": "python",
   "name": "python3"
  },
  "language_info": {
   "codemirror_mode": {
    "name": "ipython",
    "version": 3
   },
   "file_extension": ".py",
   "mimetype": "text/x-python",
   "name": "python",
   "nbconvert_exporter": "python",
   "pygments_lexer": "ipython3",
   "version": "3.6.9"
  }
 },
 "nbformat": 4,
 "nbformat_minor": 4
}
