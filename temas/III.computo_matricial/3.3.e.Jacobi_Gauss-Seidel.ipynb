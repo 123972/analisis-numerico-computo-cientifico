{
 "cells": [
  {
   "cell_type": "markdown",
   "metadata": {},
   "source": [
    "# Métodos iterativos"
   ]
  },
  {
   "cell_type": "markdown",
   "metadata": {},
   "source": [
    "Consideramos sistemas de ecuaciones lineales $n \\times n$ de la forma $Ax=b$ con incógnita $x \\in \\mathbb{R}^n$.\n",
    "\n",
    "Se recomienda el uso de los métodos iterativos para resolver sistemas grandes (mayores a $10^{8}$ entradas, por ejemplo para matrices mayores a un número de renglones y columnas que $A \\in \\mathbb{R}^{10^4 \\times 10^4}$) y también para matrices *sparse* o ralas (con muchos ceros) pues tales métodos son eficientes en el uso de memoria y cómputo.\n",
    "\n",
    "Todos los métodos iterativos inician con una aproximación inicial $x^{(0)}$ a la solución $x$ para generar una secuencia de vectores $x^{(k)}$, $k=0,1,\\dots$. Bajo condiciones descritas en el método después de un número de iteraciones $x^{(k)}$ converge a $x$. La elección de la aproximación incial y la convergencia (o no convergencia) es dependiente del método. Hay métodos que convergen bajo condiciones simples y con cualquier elección de aproximación inicial, otros métodos son más restrictivos en estas elecciones."
   ]
  },
  {
   "cell_type": "markdown",
   "metadata": {},
   "source": [
    "En esta nota revisarmos de una forma resumida los métodos iterativos de Jacobi y de Gauss-Seidel. Para profundizar en éstos métodos se recomienda consultar las referencias al final de la nota."
   ]
  },
  {
   "cell_type": "markdown",
   "metadata": {},
   "source": [
    "## Método de Jacobi"
   ]
  },
  {
   "cell_type": "markdown",
   "metadata": {},
   "source": [
    "En una primera descripción del método se asume que $a_{ii} \\neq 0$, $\\forall i=1,2,\\dots,n$."
   ]
  },
  {
   "cell_type": "markdown",
   "metadata": {},
   "source": [
    "El método iterativo de Jacobi se obtiene al resolver la $i$-ésima equación en $Ax=b$ para $x_i$ resultando en la ecuación:\n",
    "\n",
    "$$x_i = \\displaystyle \\sum_{\\overset{j=1}{j \\neq i}} ^n \\left ( - \\frac{a_{ij}x_j}{a_{ii}} \\right ) + \\frac{b_i}{a_{ii}}, i=1,2,\\dots,n$$"
   ]
  },
  {
   "cell_type": "markdown",
   "metadata": {},
   "source": [
    "Una vez realizado lo anterior, para cada $k \\geq$ las componentes $x_i^{(k)}$ de $x^{(k)}$ se generan a partir de las componentes de $x^{(k-1)}$ con la expresión:\n",
    "\n",
    "$$ x_i^{(k)} = \\frac{1}{a_{ii}} \\left [ \\displaystyle \\sum_{\\overset{j=1}{j \\neq i}} ^n \\left ( -a_{ij}x_{j}^{(k-1)} \\right ) + b_i \\right ], i=1,2,\\dots,n $$"
   ]
  },
  {
   "cell_type": "markdown",
   "metadata": {},
   "source": [
    "**Ejemplo:**"
   ]
  },
  {
   "cell_type": "markdown",
   "metadata": {},
   "source": [
    "Considérese el sistema lineal $Ax=b$ dado por:\n",
    "\n",
    "$$\n",
    "\\begin{array}{ccc} \n",
    "10x_1-x_2+2x_3 &=& 6 \\\\ \n",
    "-x_1+11x_2-x_3+3x_4 &=& 25 \\\\ \n",
    "2x_1-x_2+10x_3-x_4 &=& -11 \\\\ \n",
    "3x_2-x_3+8x_4 &=& 15\n",
    "\\end{array}\n",
    "$$\n"
   ]
  },
  {
   "cell_type": "markdown",
   "metadata": {},
   "source": [
    "el cual tiene solución $x=(1,2,-1,1)^t$. Usar el método iterativo de Jacobi para encontrar aproximaciones $x^{(k)}$ a $x$ iniciando con $x^{(0)} = (0,0,0,0)^t$ hasta tener $\\frac{||x^{(k)}-x^{(k-1)}||_\\infty}{||x^{(k)}||_\\infty} < 10^{-3}$."
   ]
  },
  {
   "cell_type": "markdown",
   "metadata": {},
   "source": [
    "**Solución:**\n",
    "\n",
    "Resolvemos la $i$-ésima ecuación para cada $x_i$, $i=1,2,3,4$ para obtener:\n",
    "\n",
    "$$\n",
    "\\begin{array}{ccc} \n",
    "x_1 &=& \\frac{1}{10}x_2 - \\frac{1}{5}x_3 + \\frac{3}{5} \\\\ \n",
    "x_2 &=& \\frac{1}{11}x_1 + \\frac{1}{11}x_3-\\frac{3}{11}x_4+\\frac{25}{11}\\\\\n",
    "x_3 &=& -\\frac{1}{5}x_1 + \\frac{1}{10}x_2 + \\frac{1}{10}x_4 - \\frac{11}{10}\\\\\n",
    "x_4 &=& -\\frac{3}{8}x_2 + \\frac{1}{8}x_3 + \\frac{15}{8}\n",
    "\\end{array}\n",
    "$$\n"
   ]
  },
  {
   "cell_type": "markdown",
   "metadata": {},
   "source": [
    "Utilizando la aproximación inicial $x^{(0)} = (0,0,0,0)^t$ se obtiene $x^{(1)}$ dado por:\n",
    "\n",
    "$$\n",
    "\\begin{array}{ccc} \n",
    "x_1^{(1)} &=& \\frac{1}{10}x_2^{(0)} - \\frac{1}{5}x_3^{(0)} + \\frac{3}{5} &=& 0.6 \\\\ \n",
    "x_2^{(1)} &=& \\frac{1}{11}x_1^{(0)} + \\frac{1}{11}x_3^{(0)} - \\frac{3}{11}x_4^{(0)} + \\frac{25}{11} &\\approx& 2.2727 \\\\ \n",
    "x_3^{(1)} &=& -\\frac{1}{5}x_1^{(0)}+\\frac{1}{10}x_2^{(0)}+\\frac{1}{10}x_4^{(0)}-\\frac{11}{10}&=&-1.1 \\\\ \n",
    "x_4^{(1)} &=& -\\frac{3}{8}x_2^{(0)}+\\frac{1}{8}x_3^{(0)} + \\frac{15}{8} &=& 1.875\n",
    "\\end{array}\n",
    "$$\n",
    "\n"
   ]
  },
  {
   "cell_type": "markdown",
   "metadata": {},
   "source": [
    "Iteraciones $x^{(k)} = (x_1^{(k)},x_2^{(k)}, x_3^{(k)}, x_4^{(k)})$ son generadas de una forma similar y los resultados de las mismas son presentadas a continuación:"
   ]
  },
  {
   "cell_type": "markdown",
   "metadata": {},
   "source": [
    "|||||||\n",
    "|:--:|:--:|:--:|:--:|:--:|:--:|\n",
    "|k|0|1|2|...|10|\n",
    "|$x_1$<sup>(k)</sup>|0|0.6|1.0473|...|1.0001|\n",
    "|$x_2$<sup>(k)</sup>|0|2.2727|1.7159|...|1.998|\n",
    "|$x_3$<sup>(k)</sup>|0|-1.1|-0.8052|...|-0.9998|\n",
    "|$x_4$<sup>(k)</sup>|0|1.875|0.8852|...|0.9998|\n"
   ]
  },
  {
   "cell_type": "markdown",
   "metadata": {},
   "source": [
    "Se cumple que para la iteración $10$: $\\frac{||x^{(10)}-x^{(9)}||_\\infty}{||x^{(10)}||_\\infty}= \\frac{.8 \\times 10^{-3}}{1.9998} < 10^{-3}$ y $||x^{(10)}-x||_\\infty = .2 \\times 10^{-3}$."
   ]
  },
  {
   "cell_type": "markdown",
   "metadata": {},
   "source": [
    "**Ejercicio:** verificar la iteración $2$ de la tabla anterior."
   ]
  },
  {
   "cell_type": "markdown",
   "metadata": {},
   "source": [
    "**Comentario:**\n",
    "\n",
    "* Si una de las $a_{ii}$'s es $0$ y el sistema es no singular (por tanto $Ax=b$ tiene solución) entonces se puede realizar un reordenamiento de las ecuaciones de modo que no se tenga $a_{ii}=0$. De hecho, para incrementar la velocidad de convergencia, las ecuaciones deben de ordenarse de modo que $a_{ii}$ sea lo más grande posible. \n"
   ]
  },
  {
   "cell_type": "markdown",
   "metadata": {},
   "source": [
    "**Algoritmo**\n",
    "\n",
    "Entrada: \n",
    "\n",
    "* Número de ecuaciones e incógnitas $n$.\n",
    "* Matriz $A \\in \\mathbb{R}^{n \\times n}$, vector de lado derecho $b \\in \\mathbb{R}^{n}$.\n",
    "* $x^{(0)}$ aproximación inicial a $Ax=b$.\n",
    "* TOL tolerancia con la que revisamos si detenemos el método.\n",
    "* maxiter máximo número de iteraciones\n",
    "\n",
    "Salida:\n",
    "\n",
    "* Aproximación a la solución $x \\in \\mathbb{R}^{n \\times n}$ de $Ax = b$ o un mensaje que se detalla a continuación.\n",
    "\n",
    "Paso 1 $k=1$\n",
    "\n",
    "Paso 2 Mientras $k \\leq maxiter$ realizar pasos 3 a 6:\n",
    "\n",
    "Paso 3 Para $i=1,\\dots,n$. Establecer:\n",
    "\n",
    "$$x_i = \\frac{1}{a_{ii}} \\left [ - \\displaystyle \\sum_{\\overset{j=1}{j \\neq i}}^n(a_{ij}x_j^{(0)})+b_i \\right ]$$\n",
    "\n",
    "para las entradas del vector $x \\in \\mathbb{R}^n$.\n",
    "\n",
    "Paso 4 Revisar si se cumple la condición $||x-x^{(k-1)}|| < (1+||x||)*TOL$. Si se cumple lo anterior entonces devolver $x$ y un mensaje del tipo \"procedimiento exitoso. El error entre iteraciones es de: ... \". Detener algoritmo\n",
    "\n",
    "Paso 5 Establecer $k=k+1$.\n",
    "\n",
    "Paso 6 Para $i=1,\\dots, n$ establecer $x_i^{(0)} = x_i$.\n",
    "\n",
    "Paso 7 Devolver mensaje del tipo \"máximo número de iteraciones alcanzadas\".\n"
   ]
  },
  {
   "cell_type": "markdown",
   "metadata": {},
   "source": [
    "**Nota:** los pasos en el algoritmo anterior representan una guía para la implementación. Al describirse los pasos de un algoritmo **no** implica que se tengan que implementar uno a continuación del otro como se describe. Si una implementación respeta la lógica y al mismo método, entonces pueden seguirse los pasos de una forma distinta."
   ]
  },
  {
   "cell_type": "markdown",
   "metadata": {},
   "source": [
    "## Método de Gauss-Seidel"
   ]
  },
  {
   "cell_type": "markdown",
   "metadata": {},
   "source": [
    "Este método se basa en las iteraciones de Jacobi pero se aprovechan los cálculos realizados de una mejor forma. Para el ejemplo anterior con Jacobi en la primera iteración se escribió:\n",
    "\n",
    "$$x_1^{(1)} = \\frac{1}{10}x_2^{(0)} - \\frac{1}{5}x_3^{(0)} + \\frac{3}{5} = 0.6$$"
   ]
  },
  {
   "cell_type": "markdown",
   "metadata": {},
   "source": [
    "Y para la actualización $x_2^{(2)}$ se escribió:"
   ]
  },
  {
   "cell_type": "markdown",
   "metadata": {},
   "source": [
    "$$x_2^{(1)} = \\frac{1}{11}x_1^{(0)} + \\frac{1}{11}x_3^{(0)} - \\frac{3}{11}x_4^{(0)} + \\frac{25}{11} \\approx 2.2727$$"
   ]
  },
  {
   "cell_type": "markdown",
   "metadata": {},
   "source": [
    "En el método de Gauss-Seidel se hace el ajuste de utilizar la $x_1^{(0)}$ calculada para actualizar $x_2^{(1)}$:\n",
    "\n",
    "$$x_2^{(1)} = \\frac{1}{11}x_1^{(1)} + \\frac{1}{11}x_3^{(0)} - \\frac{3}{11}x_4^{(0)} + \\frac{25}{11}$$"
   ]
  },
  {
   "cell_type": "markdown",
   "metadata": {},
   "source": [
    "De modo que $x_2^{(1)}$ queda:\n",
    "\n",
    "$$x_2^{(1)} = \\frac{1}{11}x_1^{(1)} + \\frac{1}{11}x_3^{(0)} - \\frac{3}{11}x_4^{(0)} + \\frac{25}{11} \\approx 2.3272$$"
   ]
  },
  {
   "cell_type": "markdown",
   "metadata": {},
   "source": [
    "Para $x_3^{(1)}$ se tendrá:\n",
    "\n",
    "$$x_3^{(1)} = -\\frac{1}{5}x_1^{(1)}+\\frac{1}{10}x_2^{(1)}+\\frac{1}{10}x_4^{(0)}-\\frac{11}{10}$$"
   ]
  },
  {
   "cell_type": "markdown",
   "metadata": {},
   "source": [
    "En general para la actualización $x^{(k)}$ se tendrá:\n",
    "\n",
    "$$x_i^{(k)} = \\frac{1}{a_{ii}} \\left [-\\displaystyle \\sum_{j=1}^{i-1}(a_{ij}x_j^{(k)})-\\sum_{j=i+1}^n(a_{ij}x_j^{(k-1)}) + b_i \\right ], i=1,2,\\dots,n$$"
   ]
  },
  {
   "cell_type": "markdown",
   "metadata": {},
   "source": [
    "**Comentario:**\n",
    "\n",
    "* Si una de las $a_{ii}$'s es $0$ y el sistema es no singular (por tanto $Ax=b$ tiene solución) entonces se puede realizar un reordenamiento de las ecuaciones de modo que no se tenga $a_{ii}=0$. De hecho, para incrementar la velocidad de convergencia, las ecuaciones deben de ordenarse de modo que $a_{ii}$ sea lo más grande posible. "
   ]
  },
  {
   "cell_type": "markdown",
   "metadata": {},
   "source": [
    "**Ejemplo:**\n",
    "\n",
    "Considérese el mismo sistema lineal $Ax=b$ del ejemplo del método de Jacobi dado por:\n",
    "\n",
    "$$\n",
    "\\begin{array}{ccc} \n",
    "10x_1-x_2+2x_3 &=& 6 \\\\ \n",
    "-x_1+11x_2-x_3+3x_4 &=& 25 \\\\ \n",
    "2x_1-x_2+10x_3-x_4 &=& -11 \\\\ \n",
    "3x_2-x_3+8x_4 &=& 15\n",
    "\\end{array}\n",
    "$$\n"
   ]
  },
  {
   "cell_type": "markdown",
   "metadata": {},
   "source": [
    "el cual tiene solución $x=(1,2,-1,1)^t$. Usar el método iterativo de Gauss-Seidel para encontrar aproximaciones $x^{(k)}$ a $x$ iniciando con $x^{(0)} = (0,0,0,0)^t$ hasta tener $\\frac{||x^{(k)}-x^{(k-1)}||_\\infty}{||x^{(k)}||_\\infty} < 10^{-3}$."
   ]
  },
  {
   "cell_type": "markdown",
   "metadata": {},
   "source": [
    "La actualización en el método de Gauss-Seidel se describe para cada $k=1,2,\\dots$ como:\n",
    "\n",
    "$$\n",
    "\\begin{array}{ccc} \n",
    "x_1^{(k)} &=& \\frac{1}{10}x_2^{(k-1)} - \\frac{1}{5}x_3^{(k-1)} + \\frac{3}{5} \\\\ \n",
    "x_2^{(k)} &=& \\frac{1}{11}x_1^{(k)} + \\frac{1}{11}x_3^{(k-1)} - \\frac{3}{11}x_4^{(k-1)} + \\frac{25}{11} \\\\ \n",
    "x_3^{(k)} &=& -\\frac{1}{5}x_1^{(k)}+\\frac{1}{10}x_2^{(k)}+\\frac{1}{10}x_4^{(k-1)}-\\frac{11}{10}\\\\ \n",
    "x_4^{(k)} &=& -\\frac{3}{8}x_2^{(k)}+\\frac{1}{8}x_3^{(k)} + \\frac{15}{8} \n",
    "\\end{array}\n",
    "$$"
   ]
  },
  {
   "cell_type": "markdown",
   "metadata": {},
   "source": [
    "Con las actualizaciones anteriores se obtiene una tabla de la forma:\n",
    "\n",
    "|||||||\n",
    "|:--:|:--:|:--:|:--:|:--:|:--:|\n",
    "|k|0|1|2|...|5|\n",
    "|$x_1$<sup>(k)</sup>|0|0.6|1.030|...|1.0001|\n",
    "|$x_2$<sup>(k)</sup>|0|2.3272|2.037|...|2.0|\n",
    "|$x_3$<sup>(k)</sup>|0|-0.9873|-1.014|...|-1.0|\n",
    "|$x_4$<sup>(k)</sup>|0|0.8789|0.9844|...|1.0|\n"
   ]
  },
  {
   "cell_type": "markdown",
   "metadata": {},
   "source": [
    "Se cumple que para la iteración $5$: $\\frac{||x^{(5)}-x^{(4)}||_\\infty}{||x^{(5)}||_\\infty}= \\frac{.8 \\times 10^{-3}}{2.0} = 4 \\times 10^{-4} < 10^{-3}$ y $||x^{(5)}-x||_\\infty \\approx 4.9 \\times 10^{-5}$."
   ]
  },
  {
   "cell_type": "markdown",
   "metadata": {},
   "source": [
    "**Ejercicio:** verificar la iteración $2$ de la tabla anterior."
   ]
  },
  {
   "cell_type": "markdown",
   "metadata": {},
   "source": [
    "**Comentario:** Para este ejemplo el método de Gauss-Seidel realiza menos iteraciones que el de Jacobi. Esto normalmente se cumple pero existen sistemas en los que el método de Jacobi converge y el de Gauss-Seidel no o viceversa (Gauss-Seidel converge y Jacobi no)."
   ]
  },
  {
   "cell_type": "markdown",
   "metadata": {},
   "source": [
    "**Algoritmo**\n",
    "\n",
    "Entrada: \n",
    "\n",
    "* Número de ecuaciones e incógnitas $n$.\n",
    "* Matriz $A \\in \\mathbb{R}^{n \\times n}$, vector de lado derecho $b \\in \\mathbb{R}^{n}$.\n",
    "* $x^{(0)}$ aproximación inicial a $Ax=b$.\n",
    "* TOL tolerancia con la que revisamos si detenemos el método.\n",
    "* maxiter máximo número de iteraciones\n",
    "\n",
    "Salida:\n",
    "\n",
    "* Aproximación a la solución $x \\in \\mathbb{R}^{n \\times n}$ de $Ax = b$ o un mensaje que se detalla a continuación.\n",
    "\n",
    "Paso 1 $k=1$\n",
    "\n",
    "Paso 2 Mientras $k \\leq maxiter$ realizar pasos 3 a 6:\n",
    "\n",
    "Paso 3 Para $i=1,\\dots,n$. Establecer:\n",
    "\n",
    "$$x_i = \\frac{1}{a_{ii}} \\left [-\\displaystyle \\sum_{j=1}^{i-1}(a_{ij}x_j)-\\sum_{j=i+1}^n(a_{ij}x_j^{(0)}) + b_i \\right ], i=1,2,\\dots,n$$\n",
    "\n",
    "\n",
    "para las entradas del vector $x \\in \\mathbb{R}^n$.\n",
    "\n",
    "Paso 4 Revisar si se cumple la condición $||x-x^{(k-1)}|| < (1+||x||)*TOL$. Si se cumple lo anterior entonces devolver $x$ y un mensaje del tipo \"procedimiento exitoso. El error entre iteraciones es de: ... \". Detener algoritmo\n",
    "\n",
    "Paso 5 Establecer $k=k+1$.\n",
    "\n",
    "Paso 6 Para $i=1,\\dots, n$ establecer $x_i^{(0)} = x_i$.\n",
    "\n",
    "Paso 7 Devolver mensaje del tipo \"máximo número de iteraciones alcanzadas\".\n"
   ]
  },
  {
   "cell_type": "markdown",
   "metadata": {},
   "source": [
    "**Nota:** los pasos en el algoritmo anterior representan una guía para la implementación. Al describirse los pasos de un algoritmo **no** implica que se tengan que implementar uno a continuación del otro como se describe. Si una implementación respeta la lógica y al mismo método, entonces pueden seguirse los pasos de una forma distinta."
   ]
  },
  {
   "cell_type": "markdown",
   "metadata": {},
   "source": [
    "**Comentario:** Tanto para el método de Jacobi como para el de Gauss-Seidel se requiere encontrar alguna $a_{ii} \\neq 0$ para la actualización de la variable $x_i$. Si se cumple tal requisito y además condiciones que aseguran convergencia de los métodos, entonces el sistema $Ax=b$ tiene solución."
   ]
  },
  {
   "cell_type": "markdown",
   "metadata": {},
   "source": [
    "## Algunas condiciones para convergencia"
   ]
  },
  {
   "cell_type": "markdown",
   "metadata": {},
   "source": [
    "**Referencias:**\n",
    "\n",
    "1. R. L. Burden, J. D. Faires, Numerical Analysis, Brooks/Cole Cengage Learning, 2005."
   ]
  }
 ],
 "metadata": {
  "kernelspec": {
   "display_name": "Python 3",
   "language": "python",
   "name": "python3"
  },
  "language_info": {
   "codemirror_mode": {
    "name": "ipython",
    "version": 3
   },
   "file_extension": ".py",
   "mimetype": "text/x-python",
   "name": "python",
   "nbconvert_exporter": "python",
   "pygments_lexer": "ipython3",
   "version": "3.6.9"
  }
 },
 "nbformat": 4,
 "nbformat_minor": 4
}
