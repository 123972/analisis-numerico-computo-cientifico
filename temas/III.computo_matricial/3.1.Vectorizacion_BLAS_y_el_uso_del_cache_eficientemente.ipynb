{
 "cells": [
  {
   "cell_type": "markdown",
   "metadata": {},
   "source": [
    "**Notas para contenedor de docker:**"
   ]
  },
  {
   "cell_type": "markdown",
   "metadata": {},
   "source": [
    "Comando de docker para ejecución de la nota de forma local:\n",
    "\n",
    "nota: cambiar `<ruta a mi directorio>` por la ruta de directorio que se desea mapear a `/datos` dentro del contenedor de docker.\n",
    "\n",
    "```\n",
    "sudo docker run --rm -v <ruta a mi directorio>:/datos --cap-add SYS_ADMIN --privileged --name jupyterlab-numerical -p 8888:8888 -d palmoreck/jupyterlab_numerical:1.1.0\n",
    "```\n",
    "\n",
    "password para jupyterlab: `qwerty`\n",
    "\n",
    "Detener el contenedor de docker:\n",
    "\n",
    "```\n",
    "docker stop jupyterlab_numerical\n",
    "```\n"
   ]
  },
  {
   "cell_type": "markdown",
   "metadata": {},
   "source": [
    "Documentación de la imagen de docker `palmoreck/jupyterlab_numerical:1.1.0` en [liga](https://github.com/palmoreck/dockerfiles/tree/master/jupyterlab/numerical)."
   ]
  },
  {
   "cell_type": "markdown",
   "metadata": {},
   "source": [
    "---"
   ]
  },
  {
   "cell_type": "markdown",
   "metadata": {},
   "source": [
    "Nota generada a partir de [liga](https://www.dropbox.com/s/fyqwiqasqaa3wlt/3.1.1.Multiplicacion_de_matrices_y_estructura_de_datos.pdf?dl=0), [liga2](https://www.dropbox.com/s/l4hq45rj860ql9f/3.1.2.Localidad_y_vectorizacion.Analisis_del_error_en_computos_matriciales_basicos.pdf?dl=0)"
   ]
  },
  {
   "cell_type": "markdown",
   "metadata": {},
   "source": [
    "# 3.1 El cómputo matricial y el álgebra lineal. Vectorización, BLAS y el uso del caché eficientemente."
   ]
  },
  {
   "cell_type": "markdown",
   "metadata": {},
   "source": [
    "El cómputo matricial está construído sobre una jerarquía de operaciones del álgebra lineal:\n",
    "\n",
    "* Productos punto involucran operaciones escalares de suma y multiplicación (nivel BLAS 1).\n",
    "\n",
    "* La multiplicación matriz-vector está hecha de productos punto (nivel BLAS 2).\n",
    "\n",
    "* La multiplicación matriz-matriz utiliza colecciones de productos matriz-vector (nivel BLAS 3).\n",
    "\n",
    "Las operaciones anteriores se describen en el álgebra lineal con la teoría de espacios vectoriales pero también es posible describirlas en una forma algorítmica. Ambas descripciones se complementan una a la otra.\n",
    "\n",
    "Manejaremos nombres que en el [Linear Algebra Package: LAPACK](http://www.netlib.org/lapack/explore-html/dir_fa94b7b114d387a7a8beb2e3e22bf78d.html) son utilizados para denotar algunas operaciones con escalares, vectores o matrices. Ver [ Reference-LAPACK / lapack](https://github.com/Reference-LAPACK/lapack) para su github."
   ]
  },
  {
   "cell_type": "markdown",
   "metadata": {},
   "source": [
    "## Operación del producto interno estándar o producto punto"
   ]
  },
  {
   "cell_type": "markdown",
   "metadata": {},
   "source": [
    "Consideramos $x,y \\in \\mathbb{R}^n$. El producto punto entre $x$ y $y$ es $c = x^Ty = \\displaystyle \\sum_{i=1}^n x_iy_i$. \n",
    "\n",
    "**Ejemplo y algoritmo del producto punto:**"
   ]
  },
  {
   "cell_type": "code",
   "execution_count": 2,
   "metadata": {},
   "outputs": [],
   "source": [
    "c=0\n",
    "n=5\n",
    "x=[-1]*n\n",
    "y=[1.5]*n\n",
    "\n",
    "for i in range(n):\n",
    "    c += x[i]*y[i]"
   ]
  },
  {
   "cell_type": "code",
   "execution_count": 3,
   "metadata": {},
   "outputs": [
    {
     "data": {
      "text/plain": [
       "-7.5"
      ]
     },
     "execution_count": 3,
     "metadata": {},
     "output_type": "execute_result"
    }
   ],
   "source": [
    "c"
   ]
  },
  {
   "cell_type": "markdown",
   "metadata": {},
   "source": [
    "**Obs:**\n",
    "\n",
    "* El producto punto de dos $n$-vectores involucran $n$ multiplicaciones y $n$ sumas para un total de $2n$ operaciones. Usamos la notación $\\mathcal{O}(\\cdot)$ para escribir que el producto punto es $\\mathcal{O}(n)$ y se lee \"de orden $n$ o proporcional a $n$\" para indicar que la **cantidad de trabajo** tiene un comportamiento **lineal** con la dimensión $n$. También tal cantidad de trabajo opera sobre una **cantidad lineal de datos**."
   ]
  },
  {
   "cell_type": "markdown",
   "metadata": {},
   "source": [
    "## Operación **saxpy**"
   ]
  },
  {
   "cell_type": "markdown",
   "metadata": {},
   "source": [
    "Consideramos $\\alpha \\in \\mathbb{R}, x,y \\in \\mathbb{R}^n$. El nombre lo recibe por *scalar alpha x plus y*. En LAPACK se escribe en forma *update*:\n",
    "\n",
    "$$y=\\alpha x + y \\therefore y_i = \\alpha x_i + y_i \\forall i=1,...,n$$"
   ]
  },
  {
   "cell_type": "markdown",
   "metadata": {},
   "source": [
    "**Obs:** \n",
    "\n",
    "* El símbolo $=$ no se utiliza como igualdad de expresiones sino como en computación para denotar asignación.\n",
    "\n",
    "* También encontramos en LAPACK `caxpy` o `daxpy` para el caso complejo y para números en doble precisión respectivamente.\n",
    "\n",
    "* Ésta operación realiza un trabajo de $\\mathcal{O}(n)$ sobre una cantidad de datos $\\mathcal{O}(n)$."
   ]
  },
  {
   "cell_type": "markdown",
   "metadata": {},
   "source": [
    "**Ejemplo y algoritmo de saxpy:**"
   ]
  },
  {
   "cell_type": "code",
   "execution_count": 4,
   "metadata": {},
   "outputs": [],
   "source": [
    "alpha=2\n",
    "n=5\n",
    "x=[-2]*n\n",
    "y=[0]*n\n",
    "\n",
    "for i in range(n):\n",
    "    y[i] += alpha*x[i]"
   ]
  },
  {
   "cell_type": "code",
   "execution_count": 5,
   "metadata": {},
   "outputs": [
    {
     "data": {
      "text/plain": [
       "[-4, -4, -4, -4, -4]"
      ]
     },
     "execution_count": 5,
     "metadata": {},
     "output_type": "execute_result"
    }
   ],
   "source": [
    "y"
   ]
  },
  {
   "cell_type": "markdown",
   "metadata": {},
   "source": [
    "o en una forma *update*:"
   ]
  },
  {
   "cell_type": "code",
   "execution_count": 6,
   "metadata": {},
   "outputs": [],
   "source": [
    "alpha=2\n",
    "n=5\n",
    "x=[-2]*n\n",
    "y=[3,4,-1,0,1]\n",
    "\n",
    "for i in range(n):\n",
    "    y[i] += alpha*x[i]"
   ]
  },
  {
   "cell_type": "code",
   "execution_count": 7,
   "metadata": {},
   "outputs": [
    {
     "data": {
      "text/plain": [
       "[-1, 0, -5, -4, -3]"
      ]
     },
     "execution_count": 7,
     "metadata": {},
     "output_type": "execute_result"
    }
   ],
   "source": [
    "y"
   ]
  },
  {
   "cell_type": "markdown",
   "metadata": {},
   "source": [
    "**Comentario:** La operación de producto punto y *saxpy* son algoritmos catalogados como de **nivel BLAS 1** (ver [BLAS: Basic Linear Algebra Subprograms](https://en.wikipedia.org/wiki/Basic_Linear_Algebra_Subprograms). Éstos algoritmos se caracterizan por involucrar una cantidad de trabajo lineal sobre una cantidad lineal de datos. Ver [level 1](http://www.netlib.org/blas/#_level_1) para más ejemplos."
   ]
  },
  {
   "cell_type": "markdown",
   "metadata": {},
   "source": [
    "## Multiplicación matriz-vector"
   ]
  },
  {
   "cell_type": "markdown",
   "metadata": {},
   "source": [
    "Consideramos $A \\in \\mathbb{R}^{m \\times n}, x \\in \\mathbb{R}^n, y \\in \\mathbb{R}^m$. La operación $y = y + Ax$ es una operación *generalizada* saxpy, por ello se denomina **gaxpy** pero en LAPACK podemos encontrar esta operación con nombres como [sgemv](http://www.netlib.org/lapack/explore-html/db/d58/sgemv_8f.html), [dgemv](http://www.netlib.org/lapack/explore-html/dc/da8/dgemv_8f.html), [cgemv](http://www.netlib.org/lapack/explore-html/d4/d8a/cgemv_8f.html) o [zgemv](http://www.netlib.org/lapack/explore-html/db/d40/zgemv_8f.html) para los casos de precisión simple, doble o números complejos respectivamente. Hay diferentes formas de visualizar y escribir el algoritmo de multiplicación matriz-vector. Por ejemplo para una matriz $A$ con entradas:\n"
   ]
  },
  {
   "cell_type": "code",
   "execution_count": 8,
   "metadata": {},
   "outputs": [],
   "source": [
    "m=2\n",
    "n=5\n",
    "A=[[1.2]*n if i%2==0 else [1]*n for i in range(m)]"
   ]
  },
  {
   "cell_type": "code",
   "execution_count": 9,
   "metadata": {},
   "outputs": [
    {
     "data": {
      "text/plain": [
       "[[1.2, 1.2, 1.2, 1.2, 1.2], [1, 1, 1, 1, 1]]"
      ]
     },
     "execution_count": 9,
     "metadata": {},
     "output_type": "execute_result"
    }
   ],
   "source": [
    "A"
   ]
  },
  {
   "cell_type": "code",
   "execution_count": 10,
   "metadata": {},
   "outputs": [
    {
     "data": {
      "text/plain": [
       "1.2"
      ]
     },
     "execution_count": 10,
     "metadata": {},
     "output_type": "execute_result"
    }
   ],
   "source": [
    "A[0][0]"
   ]
  },
  {
   "cell_type": "code",
   "execution_count": 11,
   "metadata": {},
   "outputs": [
    {
     "data": {
      "text/plain": [
       "1"
      ]
     },
     "execution_count": 11,
     "metadata": {},
     "output_type": "execute_result"
    }
   ],
   "source": [
    "A[1][n-1]"
   ]
  },
  {
   "cell_type": "markdown",
   "metadata": {},
   "source": [
    "se tiene:"
   ]
  },
  {
   "cell_type": "markdown",
   "metadata": {},
   "source": [
    "### Algoritmo gaxpy *row oriented*"
   ]
  },
  {
   "cell_type": "code",
   "execution_count": 12,
   "metadata": {},
   "outputs": [],
   "source": [
    "x=[2]*n\n",
    "y=[0]*m\n",
    "for i in range(m):\n",
    "    for j in range(n):\n",
    "        y[i]+=A[i][j]*x[j]\n"
   ]
  },
  {
   "cell_type": "code",
   "execution_count": 13,
   "metadata": {},
   "outputs": [
    {
     "data": {
      "text/plain": [
       "[12.0, 10]"
      ]
     },
     "execution_count": 13,
     "metadata": {},
     "output_type": "execute_result"
    }
   ],
   "source": [
    "y"
   ]
  },
  {
   "cell_type": "markdown",
   "metadata": {},
   "source": [
    "Si $y$ tiene valores distintos de $0$, se realiza un *update*:"
   ]
  },
  {
   "cell_type": "code",
   "execution_count": 14,
   "metadata": {},
   "outputs": [],
   "source": [
    "x=[2]*n\n",
    "y=[-1]*m\n",
    "for i in range(m):\n",
    "    for j in range(n):\n",
    "        y[i]+=A[i][j]*x[j]\n"
   ]
  },
  {
   "cell_type": "code",
   "execution_count": 15,
   "metadata": {},
   "outputs": [
    {
     "data": {
      "text/plain": [
       "[11.0, 9]"
      ]
     },
     "execution_count": 15,
     "metadata": {},
     "output_type": "execute_result"
    }
   ],
   "source": [
    "y"
   ]
  },
  {
   "cell_type": "markdown",
   "metadata": {},
   "source": [
    "**Comentarios:**\n",
    "\n",
    "* En la versión *row oriented* del algoritmo *gaxpy*, el **inner loop** realiza **productos punto** entre el $i$-ésimo renglón de $A$ y el vector $x$. Se realizan $m$ productos punto.\n",
    "\n",
    "* Obsérvese que el acceso a la matriz $A$ es por renglón."
   ]
  },
  {
   "cell_type": "markdown",
   "metadata": {},
   "source": [
    "También puede escribirse al algoritmo *gaxpy* en una forma orientada por columnas:"
   ]
  },
  {
   "cell_type": "markdown",
   "metadata": {},
   "source": [
    "### Algoritmo gaxpy *column oriented*"
   ]
  },
  {
   "cell_type": "markdown",
   "metadata": {},
   "source": [
    "Para este algoritmo visualizamos al producto matriz-vector como una combinación lineal de las columnas de $A$:\n",
    "\n",
    "$$Ax = \\displaystyle \\sum_{j=1}^n a_jx_j$$\n",
    "\n",
    "con $a_j$ la $j$-ésima columna de $A$.\n"
   ]
  },
  {
   "cell_type": "code",
   "execution_count": 16,
   "metadata": {},
   "outputs": [],
   "source": [
    "x=[2]*n\n",
    "y=[0]*m\n",
    "for j in range(n):\n",
    "    for i in range(m):\n",
    "        y[i]+=A[i][j]*x[j]"
   ]
  },
  {
   "cell_type": "code",
   "execution_count": 17,
   "metadata": {},
   "outputs": [
    {
     "data": {
      "text/plain": [
       "[12.0, 10]"
      ]
     },
     "execution_count": 17,
     "metadata": {},
     "output_type": "execute_result"
    }
   ],
   "source": [
    "y"
   ]
  },
  {
   "cell_type": "markdown",
   "metadata": {},
   "source": [
    "**Obs:**\n",
    "\n",
    "* El algoritmo de multiplicación matriz-vector (versión *row* o *column* oriented) involucra $\\mathcal{O}(mn)$ operaciones o una cantidad **cuadrática** de trabajo, que podemos entender como \"si duplicamos cada dimensión de $A$ entonces la cantidad de trabajo se incrementa por un factor de $4$\". Tal número de operaciones trabajan sobre una matriz o sobre una cantidad **cuadrática** de datos. A los algoritmos que realizan una cantidad cuadrática de trabajo sobre una cantidad cuadrática de datos se les cataloga de **nivel BLAS 2**. Ver [level 2](http://www.netlib.org/blas/#_level_2) para más ejemplos de algoritmos en el álgebra lineal en esta categoría.\n",
    "\n",
    "* La versión *column oriented* se puede analizar desde el punto de vista puramente algorítmico como un intercambio entre las líneas con los índices $i$ y $j$ de cada *loop* y un acceso a los datos de la matriz por columna. O bien, se puede analizar desde el álgebra lineal indicando que el vector $y$ está en el **espacio generado** por las columnas de $A$ y cuyas coordenadas están siendo dadas por las entradas del vector $x$:\n",
    "\n",
    "<img src=\"https://dl.dropboxusercontent.com/s/6a2b7rjs4a71sni/combinacion_lineal_columnas_A.png?dl=0\" heigth=\"700\" width=\"700\">\n",
    "\n",
    "Una ejemplo de visualización del espacio generado por las columnas de $A$, llamado **rango o imagen** de $A$, $Im(A)$, es el siguiente:\n",
    "\n",
    "<img src=\"https://dl.dropboxusercontent.com/s/zkbhzv9a2jiw11b/espacio_generado_columnas_de_A.png?dl=0\" heigth=\"400\" width=\"400\">\n",
    "\n",
    "En este dibujo los vectores $b, r(x) \\in \\mathbb{R}^3$ no están en $Im(A) \\subset \\mathbb{R}^3$ pero $Ax$ en azul sí.\n",
    "\n",
    "* Obsérvese que el **inner loop** de la versión *column oriented* en *gaxpy* es un **saxpy** en la que el escalar está dado por una entrada de $x$. Esto lo podemos realizar de forma explícita definiendo $A[:,j]$ a la $j$-ésima columna de $A$ por lo que $A = [A[:,1] | A[:,2] | \\dots | A[:,n]]$, entonces:\n",
    "\n",
    "```\n",
    "for j=1:n\n",
    "    y+=A[:,j] * x[j]\n",
    " \n",
    "```"
   ]
  },
  {
   "cell_type": "markdown",
   "metadata": {},
   "source": [
    "sin embargo como hemos visto, en Python con su implementación más común CPython, no es posible realizar tal indexado:"
   ]
  },
  {
   "cell_type": "code",
   "execution_count": 18,
   "metadata": {},
   "outputs": [
    {
     "ename": "TypeError",
     "evalue": "list indices must be integers or slices, not tuple",
     "output_type": "error",
     "traceback": [
      "\u001b[0;31m---------------------------------------------------------------------------\u001b[0m",
      "\u001b[0;31mTypeError\u001b[0m                                 Traceback (most recent call last)",
      "\u001b[0;32m<ipython-input-18-93f449af9194>\u001b[0m in \u001b[0;36m<module>\u001b[0;34m\u001b[0m\n\u001b[1;32m      2\u001b[0m \u001b[0my\u001b[0m\u001b[0;34m=\u001b[0m\u001b[0;34m[\u001b[0m\u001b[0;36m0\u001b[0m\u001b[0;34m]\u001b[0m\u001b[0;34m*\u001b[0m\u001b[0mm\u001b[0m\u001b[0;34m\u001b[0m\u001b[0;34m\u001b[0m\u001b[0m\n\u001b[1;32m      3\u001b[0m \u001b[0;32mfor\u001b[0m \u001b[0mj\u001b[0m \u001b[0;32min\u001b[0m \u001b[0mrange\u001b[0m\u001b[0;34m(\u001b[0m\u001b[0mn\u001b[0m\u001b[0;34m)\u001b[0m\u001b[0;34m:\u001b[0m\u001b[0;34m\u001b[0m\u001b[0;34m\u001b[0m\u001b[0m\n\u001b[0;32m----> 4\u001b[0;31m     \u001b[0my\u001b[0m\u001b[0;34m+=\u001b[0m\u001b[0mA\u001b[0m\u001b[0;34m[\u001b[0m\u001b[0;34m:\u001b[0m\u001b[0;34m,\u001b[0m\u001b[0mj\u001b[0m\u001b[0;34m]\u001b[0m\u001b[0;34m*\u001b[0m\u001b[0mx\u001b[0m\u001b[0;34m[\u001b[0m\u001b[0mj\u001b[0m\u001b[0;34m]\u001b[0m\u001b[0;34m\u001b[0m\u001b[0;34m\u001b[0m\u001b[0m\n\u001b[0m",
      "\u001b[0;31mTypeError\u001b[0m: list indices must be integers or slices, not tuple"
     ]
    }
   ],
   "source": [
    "x=[2]*n\n",
    "y=[0]*m\n",
    "for j in range(n):\n",
    "    y+=A[:,j]*x[j]"
   ]
  },
  {
   "cell_type": "markdown",
   "metadata": {},
   "source": [
    "a menos que incorporemos alguna paquetería que permita la **vectorización**. Un ejemplo es con [numpy](https://numpy.org/):"
   ]
  },
  {
   "cell_type": "code",
   "execution_count": 19,
   "metadata": {},
   "outputs": [],
   "source": [
    "import numpy as np"
   ]
  },
  {
   "cell_type": "code",
   "execution_count": 20,
   "metadata": {},
   "outputs": [],
   "source": [
    "x = 2*np.ones(n)\n",
    "y = np.zeros(m)"
   ]
  },
  {
   "cell_type": "code",
   "execution_count": 21,
   "metadata": {},
   "outputs": [
    {
     "data": {
      "text/plain": [
       "array([2., 2., 2., 2., 2.])"
      ]
     },
     "execution_count": 21,
     "metadata": {},
     "output_type": "execute_result"
    }
   ],
   "source": [
    "x"
   ]
  },
  {
   "cell_type": "code",
   "execution_count": 22,
   "metadata": {},
   "outputs": [
    {
     "data": {
      "text/plain": [
       "array([0., 0.])"
      ]
     },
     "execution_count": 22,
     "metadata": {},
     "output_type": "execute_result"
    }
   ],
   "source": [
    "y"
   ]
  },
  {
   "cell_type": "code",
   "execution_count": 23,
   "metadata": {},
   "outputs": [
    {
     "data": {
      "text/plain": [
       "[[1.2, 1.2, 1.2, 1.2, 1.2], [1, 1, 1, 1, 1]]"
      ]
     },
     "execution_count": 23,
     "metadata": {},
     "output_type": "execute_result"
    }
   ],
   "source": [
    "A"
   ]
  },
  {
   "cell_type": "code",
   "execution_count": 24,
   "metadata": {},
   "outputs": [],
   "source": [
    "A=np.array([[1.2,1.2,1.2,1.2,1.2],[1,1,1,1,1]])"
   ]
  },
  {
   "cell_type": "code",
   "execution_count": 25,
   "metadata": {},
   "outputs": [
    {
     "data": {
      "text/plain": [
       "array([[1.2, 1.2, 1.2, 1.2, 1.2],\n",
       "       [1. , 1. , 1. , 1. , 1. ]])"
      ]
     },
     "execution_count": 25,
     "metadata": {},
     "output_type": "execute_result"
    }
   ],
   "source": [
    "A"
   ]
  },
  {
   "cell_type": "code",
   "execution_count": 26,
   "metadata": {},
   "outputs": [],
   "source": [
    "for j in range(n):\n",
    "    y+=A[:,j]*x[j]"
   ]
  },
  {
   "cell_type": "code",
   "execution_count": 27,
   "metadata": {},
   "outputs": [
    {
     "data": {
      "text/plain": [
       "array([12., 10.])"
      ]
     },
     "execution_count": 27,
     "metadata": {},
     "output_type": "execute_result"
    }
   ],
   "source": [
    "y"
   ]
  },
  {
   "cell_type": "markdown",
   "metadata": {},
   "source": [
    "**Comentarios:**\n",
    "\n",
    "* La vectorización como se mencionó en [2.1.Un_poco_de_historia_y_generalidades](https://github.com/ITAM-DS/analisis-numerico-computo-cientifico/blob/master/temas/II.computo_paralelo/2.1.Un_poco_de_historia_y_generalidades.ipynb) es una herramienta para escribir programas de alto rendimiento pues incrementa el número de instrucciones por ciclo [IPC](https://en.wikipedia.org/wiki/Instructions_per_cycle) para procesadores que caen en la categoría Single Instruction Multiple Data (SIMD) de la taxonomía de Flynn (ver [liga](https://en.wikipedia.org/wiki/Flynn%27s_taxonomy)). Como ejemplo de tales procesadores están los procesadores vectoriales o en arreglo, ver [liga](https://en.wikipedia.org/wiki/Vector_processor).\n",
    "\n"
   ]
  },
  {
   "cell_type": "markdown",
   "metadata": {},
   "source": [
    "**Ejemplo:**"
   ]
  },
  {
   "cell_type": "markdown",
   "metadata": {},
   "source": [
    "En Unix existe la herramienta [perf](https://github.com/torvalds/linux/tree/master/tools/perf) que nos ayuda a ... otra guía útil es [liga](http://www.brendangregg.com/perf.html)"
   ]
  },
  {
   "cell_type": "code",
   "execution_count": 160,
   "metadata": {},
   "outputs": [
    {
     "name": "stdout",
     "output_type": "stream",
     "text": [
      "Overwriting norm_square.py\n"
     ]
    }
   ],
   "source": [
    "%%file norm_square.py\n",
    "n=10**5\n",
    "vector=list(range(n))\n",
    "norm=0\n",
    "for v in vector:\n",
    "    norm+=v*v"
   ]
  },
  {
   "cell_type": "code",
   "execution_count": 161,
   "metadata": {},
   "outputs": [
    {
     "name": "stderr",
     "output_type": "stream",
     "text": [
      "\n",
      " Performance counter stats for 'python3 norm_square.py' (20 runs):\n",
      "\n",
      "          93252660      cycles                                                        ( +-  2.16% )\n",
      "         192260743      instructions              #    2.06  insn per cycle           ( +-  0.64% )\n",
      "            752809      cache-references                                              ( +-  0.52% )\n",
      "             56293      cache-misses              #    7.478 % of all cache refs      ( +-  2.57% )\n",
      "\n",
      "       0.025361718 seconds time elapsed                                          ( +-  2.44% )\n",
      "\n"
     ]
    }
   ],
   "source": [
    "%%bash\n",
    "sudo perf stat -e cycles,instructions,cache-references,cache-misses -r 20 python3 norm_square.py"
   ]
  },
  {
   "cell_type": "markdown",
   "metadata": {},
   "source": [
    "**Obs:**\n",
    "\n",
    "* Se repiten las mediciones con la *flag* `-r`.\n",
    "\n",
    "* Se observa el número de instructiones y el número de ciclos y se reporta el IPC."
   ]
  },
  {
   "cell_type": "markdown",
   "metadata": {},
   "source": [
    "También podemos obtener las estadísticas por core:"
   ]
  },
  {
   "cell_type": "code",
   "execution_count": 162,
   "metadata": {},
   "outputs": [
    {
     "name": "stderr",
     "output_type": "stream",
     "text": [
      "\n",
      " Performance counter stats for 'system wide' (20 runs):\n",
      "\n",
      "S0-C0           2            1156973      cycles                                                      \n",
      "S0-C0           2             287896      instructions              #    0.25  insn per cycle         \n",
      "S0-C0           2              17848      cache-references                                            \n",
      "S0-C0           2               7984      cache-misses              #   44.733 % of all cache refs    \n",
      "S0-C1           2            1661122      cycles                                                      \n",
      "S0-C1           2             453917      instructions              #    0.27  insn per cycle         \n",
      "S0-C1           2              20148      cache-references                                            \n",
      "S0-C1           2               5427      cache-misses              #   26.936 % of all cache refs    \n",
      "S0-C2           2             383600      cycles                                                      \n",
      "S0-C2           2              93550      instructions              #    0.24  insn per cycle         \n",
      "S0-C2           2               2234      cache-references                                            \n",
      "S0-C2           2                930      cache-misses              #   41.629 % of all cache refs    \n",
      "S0-C3           2           90558423      cycles                                                      \n",
      "S0-C3           2          186150087      instructions              #    2.06  insn per cycle         \n",
      "S0-C3           2             769459      cache-references                                            \n",
      "S0-C3           2              68261      cache-misses              #    8.871 % of all cache refs    \n",
      "\n",
      "       0.025177377 seconds time elapsed                                          ( +-  0.82% )\n",
      "\n"
     ]
    }
   ],
   "source": [
    "%%bash\n",
    "sudo perf stat -a --per-core -e cycles,instructions,cache-references,cache-misses -r 20 python3 norm_square.py"
   ]
  },
  {
   "cell_type": "code",
   "execution_count": 163,
   "metadata": {},
   "outputs": [
    {
     "name": "stderr",
     "output_type": "stream",
     "text": [
      "\n",
      " Performance counter stats for 'python3 norm_square.py' (20 runs):\n",
      "\n",
      "         25.144299      task-clock (msec)         #    0.992 CPUs utilized            ( +-  1.18% )\n",
      "                 0      context-switches          #    0.008 K/sec                    ( +- 45.88% )\n",
      "                 0      cpu-migrations            #    0.000 K/sec                  \n",
      "              1873      page-faults               #    0.074 M/sec                    ( +-  0.02% )\n",
      "          91449289      cycles                    #    3.637 GHz                      ( +-  0.68% )\n",
      "         192050955      instructions              #    2.10  insn per cycle           ( +-  0.67% )\n",
      "          40054399      branches                  # 1592.981 M/sec                    ( +-  0.77% )\n",
      "            426430      branch-misses             #    1.06% of all branches          ( +-  0.30% )\n",
      "\n",
      "       0.025358613 seconds time elapsed                                          ( +-  1.18% )\n",
      "\n"
     ]
    }
   ],
   "source": [
    "%%bash\n",
    "sudo perf stat -r 20 python3 norm_square.py"
   ]
  },
  {
   "cell_type": "code",
   "execution_count": 164,
   "metadata": {},
   "outputs": [
    {
     "name": "stderr",
     "output_type": "stream",
     "text": [
      "\n",
      " Performance counter stats for 'system wide' (20 runs):\n",
      "\n",
      "S0-C0           2          51.543844      cpu-clock (msec)          #    2.034 CPUs utilized          \n",
      "S0-C0           2                  0      context-switches          #    0.000 K/sec                  \n",
      "S0-C0           2                  0      cpu-migrations            #    0.000 K/sec                  \n",
      "S0-C0           2                  0      page-faults               #    0.000 K/sec                  \n",
      "S0-C0           2             418659      cycles                    #    0.008 GHz                    \n",
      "S0-C0           2             121735      instructions              #    0.29  insn per cycle         \n",
      "S0-C0           2              14031      branches                  #    0.272 M/sec                  \n",
      "S0-C0           2                246      branch-misses             #    1.75% of all branches        \n",
      "S0-C1           2          51.543759      cpu-clock (msec)          #    2.034 CPUs utilized          \n",
      "S0-C1           2                  4      context-switches          #    0.078 K/sec                  \n",
      "S0-C1           2                  1      cpu-migrations            #    0.019 K/sec                  \n",
      "S0-C1           2                  0      page-faults               #    0.000 K/sec                  \n",
      "S0-C1           2            1523868      cycles                    #    0.030 GHz                    \n",
      "S0-C1           2             415729      instructions              #    0.27  insn per cycle         \n",
      "S0-C1           2              87596      branches                  #    1.699 M/sec                  \n",
      "S0-C1           2               1547      branch-misses             #    1.77% of all branches        \n",
      "S0-C2           2          51.598156      cpu-clock (msec)          #    2.036 CPUs utilized          \n",
      "S0-C2           2                  8      context-switches          #    0.155 K/sec                  \n",
      "S0-C2           2                  1      cpu-migrations            #    0.019 K/sec                  \n",
      "S0-C2           2                  0      page-faults               #    0.000 K/sec                  \n",
      "S0-C2           2            1451721      cycles                    #    0.028 GHz                    \n",
      "S0-C2           2             297832      instructions              #    0.21  insn per cycle         \n",
      "S0-C2           2              53050      branches                  #    1.028 M/sec                  \n",
      "S0-C2           2               2798      branch-misses             #    5.27% of all branches        \n",
      "S0-C3           2          51.598887      cpu-clock (msec)          #    2.036 CPUs utilized          \n",
      "S0-C3           2                  3      context-switches          #    0.058 K/sec                  \n",
      "S0-C3           2                  0      cpu-migrations            #    0.000 K/sec                  \n",
      "S0-C3           2               1874      page-faults               #    0.036 M/sec                  \n",
      "S0-C3           2           91899509      cycles                    #    1.781 GHz                    \n",
      "S0-C3           2          193949167      instructions              #    2.11  insn per cycle         \n",
      "S0-C3           2           40465080      branches                  #  784.224 M/sec                  \n",
      "S0-C3           2             426773      branch-misses             #    1.05% of all branches        \n",
      "\n",
      "       0.025337531 seconds time elapsed                                          ( +-  2.30% )\n",
      "\n"
     ]
    }
   ],
   "source": [
    "%%bash\n",
    "sudo perf stat -a --per-core -r 20 python3 norm_square.py"
   ]
  },
  {
   "cell_type": "markdown",
   "metadata": {},
   "source": [
    "Utilizando numpy:"
   ]
  },
  {
   "cell_type": "code",
   "execution_count": 91,
   "metadata": {},
   "outputs": [
    {
     "name": "stdout",
     "output_type": "stream",
     "text": [
      "Overwriting norm_square_numpy.py\n"
     ]
    }
   ],
   "source": [
    "%%file norm_square_numpy.py\n",
    "import numpy as np\n",
    "n=10**5\n",
    "vector=np.arange(n)\n",
    "vector@vector"
   ]
  },
  {
   "cell_type": "code",
   "execution_count": 165,
   "metadata": {},
   "outputs": [
    {
     "name": "stderr",
     "output_type": "stream",
     "text": [
      "\n",
      " Performance counter stats for 'python3 norm_square_numpy.py' (20 runs):\n",
      "\n",
      "        2502731560      cycles                                                        ( +-  0.31% )\n",
      "        1274714055      instructions              #    0.51  insn per cycle           ( +-  0.11% )\n",
      "           7411438      cache-references                                              ( +-  0.15% )\n",
      "            441260      cache-misses              #    5.954 % of all cache refs      ( +-  3.15% )\n",
      "\n",
      "       0.137707820 seconds time elapsed                                          ( +-  0.31% )\n",
      "\n"
     ]
    }
   ],
   "source": [
    "%%bash\n",
    "sudo perf stat -e cycles,instructions,cache-references,cache-misses -r 20 python3 norm_square_numpy.py"
   ]
  },
  {
   "cell_type": "code",
   "execution_count": 166,
   "metadata": {},
   "outputs": [
    {
     "name": "stderr",
     "output_type": "stream",
     "text": [
      "\n",
      " Performance counter stats for 'system wide' (20 runs):\n",
      "\n",
      "S0-C0           2          569943463      cycles                                                      \n",
      "S0-C0           2          220501620      instructions              #    0.39  insn per cycle         \n",
      "S0-C0           2              55897      cache-references                                            \n",
      "S0-C0           2              13003      cache-misses              #   23.262 % of all cache refs    \n",
      "S0-C1           2          568666711      cycles                                                      \n",
      "S0-C1           2          221469946      instructions              #    0.39  insn per cycle         \n",
      "S0-C1           2              35107      cache-references                                            \n",
      "S0-C1           2               9846      cache-misses              #   28.046 % of all cache refs    \n",
      "S0-C2           2          568442007      cycles                                                      \n",
      "S0-C2           2          221303844      instructions              #    0.39  insn per cycle         \n",
      "S0-C2           2              33787      cache-references                                            \n",
      "S0-C2           2               6587      cache-misses              #   19.496 % of all cache refs    \n",
      "S0-C3           2          813488109      cycles                                                      \n",
      "S0-C3           2          605469236      instructions              #    0.74  insn per cycle         \n",
      "S0-C3           2            7401072      cache-references                                            \n",
      "S0-C3           2             478987      cache-misses              #    6.472 % of all cache refs    \n",
      "\n",
      "       0.137909980 seconds time elapsed                                          ( +-  0.17% )\n",
      "\n"
     ]
    }
   ],
   "source": [
    "%%bash\n",
    "sudo perf stat -a --per-core -e cycles,instructions,cache-references,cache-misses -r 20 python3 norm_square_numpy.py"
   ]
  },
  {
   "cell_type": "code",
   "execution_count": 167,
   "metadata": {},
   "outputs": [
    {
     "name": "stderr",
     "output_type": "stream",
     "text": [
      "\n",
      " Performance counter stats for 'python3 norm_square_numpy.py' (20 runs):\n",
      "\n",
      "        659.189160      task-clock (msec)         #    4.790 CPUs utilized            ( +-  0.12% )\n",
      "                29      context-switches          #    0.044 K/sec                    ( +-  2.66% )\n",
      "                 1      cpu-migrations            #    0.002 K/sec                    ( +- 16.22% )\n",
      "              4713      page-faults               #    0.007 M/sec                    ( +-  0.07% )\n",
      "        2506434347      cycles                    #    3.802 GHz                      ( +-  0.09% )\n",
      "        1270959295      instructions              #    0.51  insn per cycle           ( +-  0.10% )\n",
      "         253356537      branches                  #  384.346 M/sec                    ( +-  0.10% )\n",
      "           6393789      branch-misses             #    2.52% of all branches          ( +-  0.08% )\n",
      "\n",
      "       0.137605527 seconds time elapsed                                          ( +-  0.33% )\n",
      "\n"
     ]
    }
   ],
   "source": [
    "%%bash\n",
    "sudo perf stat -r 20 python3 norm_square_numpy.py"
   ]
  },
  {
   "cell_type": "code",
   "execution_count": 168,
   "metadata": {},
   "outputs": [
    {
     "name": "stderr",
     "output_type": "stream",
     "text": [
      "\n",
      " Performance counter stats for 'system wide' (20 runs):\n",
      "\n",
      "S0-C0           2         276.833831      cpu-clock (msec)          #    2.027 CPUs utilized          \n",
      "S0-C0           2                 19      context-switches          #    0.069 K/sec                  \n",
      "S0-C0           2                  3      cpu-migrations            #    0.011 K/sec                  \n",
      "S0-C0           2               4684      page-faults               #    0.017 M/sec                  \n",
      "S0-C0           2          842882123      cycles                    #    3.045 GHz                    \n",
      "S0-C0           2          610775440      instructions              #    0.72  insn per cycle         \n",
      "S0-C0           2          129130958      branches                  #  466.457 M/sec                  \n",
      "S0-C0           2            4135105      branch-misses             #    3.20% of all branches        \n",
      "S0-C1           2         276.834801      cpu-clock (msec)          #    2.027 CPUs utilized          \n",
      "S0-C1           2                 25      context-switches          #    0.090 K/sec                  \n",
      "S0-C1           2                  2      cpu-migrations            #    0.007 K/sec                  \n",
      "S0-C1           2                  4      page-faults               #    0.014 K/sec                  \n",
      "S0-C1           2          570420637      cycles                    #    2.061 GHz                    \n",
      "S0-C1           2          221712487      instructions              #    0.39  insn per cycle         \n",
      "S0-C1           2           41736468      branches                  #  150.763 M/sec                  \n",
      "S0-C1           2             764729      branch-misses             #    1.83% of all branches        \n",
      "S0-C2           2         276.903793      cpu-clock (msec)          #    2.027 CPUs utilized          \n",
      "S0-C2           2                 24      context-switches          #    0.087 K/sec                  \n",
      "S0-C2           2                  2      cpu-migrations            #    0.007 K/sec                  \n",
      "S0-C2           2                  1      page-faults               #    0.004 K/sec                  \n",
      "S0-C2           2          568695389      cycles                    #    2.054 GHz                    \n",
      "S0-C2           2          222894961      instructions              #    0.39  insn per cycle         \n",
      "S0-C2           2           41855206      branches                  #  151.154 M/sec                  \n",
      "S0-C2           2             764234      branch-misses             #    1.83% of all branches        \n",
      "S0-C3           2         276.944325      cpu-clock (msec)          #    2.028 CPUs utilized          \n",
      "S0-C3           2                 38      context-switches          #    0.137 K/sec                  \n",
      "S0-C3           2                  4      cpu-migrations            #    0.014 K/sec                  \n",
      "S0-C3           2                  2      page-faults               #    0.007 K/sec                  \n",
      "S0-C3           2          569456443      cycles                    #    2.056 GHz                    \n",
      "S0-C3           2          223573995      instructions              #    0.39  insn per cycle         \n",
      "S0-C3           2           42103366      branches                  #  152.028 M/sec                  \n",
      "S0-C3           2             785390      branch-misses             #    1.87% of all branches        \n",
      "\n",
      "       0.136583917 seconds time elapsed                                          ( +-  1.31% )\n",
      "\n"
     ]
    }
   ],
   "source": [
    "%%bash\n",
    "sudo perf stat -a --per-core -r 20 python3 norm_square_numpy.py"
   ]
  },
  {
   "cell_type": "markdown",
   "metadata": {},
   "source": [
    "Para el caso del producto *gaxpy column oriented*"
   ]
  },
  {
   "cell_type": "code",
   "execution_count": 178,
   "metadata": {},
   "outputs": [],
   "source": [
    "np.random.seed(2020)\n",
    "m=10**3\n",
    "n=10**4\n",
    "A=np.random.rand(m,n)\n",
    "file='A.txt'\n",
    "np.savetxt(file,A)"
   ]
  },
  {
   "cell_type": "code",
   "execution_count": 179,
   "metadata": {},
   "outputs": [
    {
     "name": "stdout",
     "output_type": "stream",
     "text": [
      "Overwriting mult_matrix_vector.py\n"
     ]
    }
   ],
   "source": [
    "%%file mult_matrix_vector.py\n",
    "m=10**3\n",
    "n=10**4\n",
    "x=[2]*n\n",
    "y=[0]*m\n",
    "A = []\n",
    "file='A.txt'\n",
    "with open(file,'r') as f:\n",
    "    for l in f:\n",
    "        A.append([float(k) for k in l.replace('\\n','').replace(' ',',').split(',')])      \n",
    "for j in range(n):\n",
    "    for i in range(m):\n",
    "        y[i]+=A[i][j]*x[j]"
   ]
  },
  {
   "cell_type": "code",
   "execution_count": 180,
   "metadata": {},
   "outputs": [
    {
     "name": "stdout",
     "output_type": "stream",
     "text": [
      "Overwriting mult_matrix_vector_numpy.py\n"
     ]
    }
   ],
   "source": [
    "%%file mult_matrix_vector_numpy.py\n",
    "import numpy as np\n",
    "m=10**3\n",
    "n=10**4\n",
    "x = 2*np.ones(n)\n",
    "y = np.zeros(m)\n",
    "file='A.txt'\n",
    "A = np.loadtxt(file)\n",
    "for j in np.arange(n):\n",
    "    y+=A[:,j]*x[j]"
   ]
  },
  {
   "cell_type": "code",
   "execution_count": 181,
   "metadata": {},
   "outputs": [
    {
     "name": "stderr",
     "output_type": "stream",
     "text": [
      "\n",
      " Performance counter stats for 'python3 mult_matrix_vector.py' (5 runs):\n",
      "\n",
      "       24552722120      cycles                                                        ( +-  0.94% )\n",
      "       61319652222      instructions              #    2.50  insn per cycle           ( +-  0.96% )\n",
      "          93490934      cache-references                                              ( +-  0.22% )\n",
      "          10556653      cache-misses              #   11.292 % of all cache refs      ( +-  0.30% )\n",
      "\n",
      "       6.165763093 seconds time elapsed                                          ( +-  0.92% )\n",
      "\n"
     ]
    }
   ],
   "source": [
    "%%bash\n",
    "sudo perf stat -e cycles,instructions,cache-references,cache-misses -r 5 python3 mult_matrix_vector.py"
   ]
  },
  {
   "cell_type": "code",
   "execution_count": 182,
   "metadata": {},
   "outputs": [
    {
     "name": "stderr",
     "output_type": "stream",
     "text": [
      "\n",
      " Performance counter stats for 'system wide' (5 runs):\n",
      "\n",
      "S0-C0           2        24208561977      cycles                                                      \n",
      "S0-C0           2        60491957822      instructions              #    2.50  insn per cycle         \n",
      "S0-C0           2           94269284      cache-references                                            \n",
      "S0-C0           2           10733030      cache-misses              #   11.386 % of all cache refs    \n",
      "S0-C1           2          134441105      cycles                                                      \n",
      "S0-C1           2           29975599      instructions              #    0.22  insn per cycle         \n",
      "S0-C1           2             480718      cache-references                                            \n",
      "S0-C1           2             195521      cache-misses              #   40.673 % of all cache refs    \n",
      "S0-C2           2          107643060      cycles                                                      \n",
      "S0-C2           2           86106916      instructions              #    0.80  insn per cycle         \n",
      "S0-C2           2             635521      cache-references                                            \n",
      "S0-C2           2             325523      cache-misses              #   51.221 % of all cache refs    \n",
      "S0-C3           2           45662870      cycles                                                      \n",
      "S0-C3           2           12463589      instructions              #    0.27  insn per cycle         \n",
      "S0-C3           2             885679      cache-references                                            \n",
      "S0-C3           2             287469      cache-misses              #   32.457 % of all cache refs    \n",
      "\n",
      "       6.210013835 seconds time elapsed                                          ( +-  1.11% )\n",
      "\n"
     ]
    }
   ],
   "source": [
    "%%bash\n",
    "sudo perf stat -a --per-core -e cycles,instructions,cache-references,cache-misses -r 5 python3 mult_matrix_vector.py"
   ]
  },
  {
   "cell_type": "code",
   "execution_count": 183,
   "metadata": {},
   "outputs": [
    {
     "name": "stderr",
     "output_type": "stream",
     "text": [
      "\n",
      " Performance counter stats for 'python3 mult_matrix_vector_numpy.py' (5 runs):\n",
      "\n",
      "       26478937473      cycles                                                        ( +-  0.15% )\n",
      "       62011075836      instructions              #    2.34  insn per cycle           ( +-  0.18% )\n",
      "          55019889      cache-references                                              ( +-  0.45% )\n",
      "           7768868      cache-misses              #   14.120 % of all cache refs      ( +-  0.25% )\n",
      "\n",
      "       6.151853801 seconds time elapsed                                          ( +-  0.14% )\n",
      "\n"
     ]
    }
   ],
   "source": [
    "%%bash\n",
    "sudo perf stat -e cycles,instructions,cache-references,cache-misses -r 5 python3 mult_matrix_vector_numpy.py"
   ]
  },
  {
   "cell_type": "code",
   "execution_count": 184,
   "metadata": {},
   "outputs": [
    {
     "name": "stderr",
     "output_type": "stream",
     "text": [
      "\n",
      " Performance counter stats for 'system wide' (5 runs):\n",
      "\n",
      "S0-C0           2          598633764      cycles                                                      \n",
      "S0-C0           2          226274215      instructions              #    0.38  insn per cycle         \n",
      "S0-C0           2             492948      cache-references                                            \n",
      "S0-C0           2             262961      cache-misses              #   53.345 % of all cache refs    \n",
      "S0-C1           2        24977156301      cycles                                                      \n",
      "S0-C1           2        61689232443      instructions              #    2.47  insn per cycle         \n",
      "S0-C1           2           55841700      cache-references                                            \n",
      "S0-C1           2            7860595      cache-misses              #   14.077 % of all cache refs    \n",
      "S0-C2           2         1743371347      cycles                                                      \n",
      "S0-C2           2          498324271      instructions              #    0.29  insn per cycle         \n",
      "S0-C2           2             438520      cache-references                                            \n",
      "S0-C2           2             141085      cache-misses              #   32.173 % of all cache refs    \n",
      "S0-C3           2          718088387      cycles                                                      \n",
      "S0-C3           2          361620908      instructions              #    0.50  insn per cycle         \n",
      "S0-C3           2            1067700      cache-references                                            \n",
      "S0-C3           2             453650      cache-misses              #   42.489 % of all cache refs    \n",
      "\n",
      "       6.175989480 seconds time elapsed                                          ( +-  0.19% )\n",
      "\n"
     ]
    }
   ],
   "source": [
    "%%bash\n",
    "sudo perf stat -a --per-core -e cycles,instructions,cache-references,cache-misses -r 5 python3 mult_matrix_vector_numpy.py"
   ]
  },
  {
   "cell_type": "markdown",
   "metadata": {},
   "source": [
    "* El algoritmo *gaxpy row oriented* puede escribirse de forma más compacta haciendo uso de la definición de producto punto estándar: $x^Ty$ para dos vectores columna $x$ y $y$. En el caso de una matriz $A$ se tiene:\n",
    "\n",
    "```\n",
    "for i=1:m\n",
    "    y[i]+=A[i,:]^T*x\n",
    "```\n",
    "\n",
    "y en Python:"
   ]
  },
  {
   "cell_type": "code",
   "execution_count": 76,
   "metadata": {},
   "outputs": [],
   "source": [
    "x = 2*np.ones(n)\n",
    "y = np.zeros(m)\n",
    "A=np.array([[1.2,1.2,1.2,1.2,1.2],[1,1,1,1,1]])"
   ]
  },
  {
   "cell_type": "code",
   "execution_count": 81,
   "metadata": {},
   "outputs": [],
   "source": [
    "for i in range(m):\n",
    "    y[i]+=A[i,:].dot(x)"
   ]
  },
  {
   "cell_type": "code",
   "execution_count": 82,
   "metadata": {},
   "outputs": [
    {
     "data": {
      "text/plain": [
       "array([12., 10.])"
      ]
     },
     "execution_count": 82,
     "metadata": {},
     "output_type": "execute_result"
    }
   ],
   "source": [
    "y"
   ]
  },
  {
   "cell_type": "markdown",
   "metadata": {},
   "source": [
    "en donde se utilizó la función [numpy.dot](https://docs.scipy.org/doc/numpy/reference/generated/numpy.dot.html) de *numpy*."
   ]
  },
  {
   "cell_type": "markdown",
   "metadata": {},
   "source": [
    "* "
   ]
  },
  {
   "cell_type": "markdown",
   "metadata": {},
   "source": [
    "Matriz matriz"
   ]
  },
  {
   "cell_type": "code",
   "execution_count": 185,
   "metadata": {},
   "outputs": [],
   "source": [
    "np.random.seed(2020)\n",
    "m=10**2\n",
    "r=10**3\n",
    "\n",
    "A=np.random.rand(m,r)\n",
    "fileA='A.txt'\n",
    "np.savetxt(fileA,A)"
   ]
  },
  {
   "cell_type": "code",
   "execution_count": 186,
   "metadata": {},
   "outputs": [],
   "source": [
    "np.random.seed(2021)\n",
    "r=10**3\n",
    "n=10**2\n",
    "\n",
    "B=np.random.rand(r,n)\n",
    "fileB='B.txt'\n",
    "np.savetxt(fileB,B)"
   ]
  },
  {
   "cell_type": "code",
   "execution_count": 187,
   "metadata": {},
   "outputs": [
    {
     "name": "stdout",
     "output_type": "stream",
     "text": [
      "Overwriting mult_matrix_matrix.py\n"
     ]
    }
   ],
   "source": [
    "%%file mult_matrix_matrix.py\n",
    "m=10**2\n",
    "r=10**3\n",
    "n=10**2\n",
    "\n",
    "A = []\n",
    "B = []\n",
    "fileA='A.txt'\n",
    "fileB='B.txt'\n",
    "\n",
    "with open(fileA,'r') as f:\n",
    "    for l in f:\n",
    "        A.append([float(k) for k in l.replace('\\n','').replace(' ',',').split(',')]) \n",
    "        \n",
    "with open(fileB,'r') as f:\n",
    "    for l in f:\n",
    "        B.append([float(k) for k in l.replace('\\n','').replace(' ',',').split(',')])  \n",
    "\n",
    "C=[[0]*n for i in range(m)]\n",
    "\n",
    "for i in range(m):\n",
    "    for j in range(n):\n",
    "        for k in range(r):\n",
    "            C[i][j]+=A[i][k]*B[k][j]\n"
   ]
  },
  {
   "cell_type": "code",
   "execution_count": 188,
   "metadata": {},
   "outputs": [
    {
     "name": "stdout",
     "output_type": "stream",
     "text": [
      "Overwriting mult_matrix_matrix_numpy.py\n"
     ]
    }
   ],
   "source": [
    "%%file mult_matrix_matrix_numpy.py\n",
    "import numpy as np\n",
    "m=10**2\n",
    "r=10**3\n",
    "n=10**2\n",
    "\n",
    "fileA='A.txt'\n",
    "fileB='B.txt'\n",
    "A = np.loadtxt(fileA)\n",
    "B = np.loadtxt(fileB)\n",
    "C = A@B"
   ]
  },
  {
   "cell_type": "code",
   "execution_count": 189,
   "metadata": {},
   "outputs": [
    {
     "name": "stderr",
     "output_type": "stream",
     "text": [
      "\n",
      " Performance counter stats for 'system wide' (5 runs):\n",
      "\n",
      "S0-C0           2           13045340      cycles                                                      \n",
      "S0-C0           2            5583447      instructions              #    0.43  insn per cycle         \n",
      "S0-C0           2             166338      cache-references                                            \n",
      "S0-C0           2              40524      cache-misses              #   24.362 % of all cache refs    \n",
      "S0-C1           2         8287660278      cycles                                                      \n",
      "S0-C1           2        23642328445      instructions              #    2.85  insn per cycle         \n",
      "S0-C1           2           39051382      cache-references                                            \n",
      "S0-C1           2             343543      cache-misses              #    0.880 % of all cache refs    \n",
      "S0-C2           2           12399889      cycles                                                      \n",
      "S0-C2           2            5826810      instructions              #    0.47  insn per cycle         \n",
      "S0-C2           2             174027      cache-references                                            \n",
      "S0-C2           2              27619      cache-misses              #   15.871 % of all cache refs    \n",
      "S0-C3           2           60925497      cycles                                                      \n",
      "S0-C3           2           67901449      instructions              #    1.11  insn per cycle         \n",
      "S0-C3           2             580606      cache-references                                            \n",
      "S0-C3           2             155585      cache-misses              #   26.797 % of all cache refs    \n",
      "\n",
      "       2.090421000 seconds time elapsed                                          ( +-  0.73% )\n",
      "\n"
     ]
    }
   ],
   "source": [
    "%%bash\n",
    "sudo perf stat  -a --per-core -e cycles,instructions,cache-references,cache-misses -r 5 python3 mult_matrix_matrix.py"
   ]
  },
  {
   "cell_type": "code",
   "execution_count": 190,
   "metadata": {},
   "outputs": [
    {
     "name": "stderr",
     "output_type": "stream",
     "text": [
      "\n",
      " Performance counter stats for 'system wide' (5 runs):\n",
      "\n",
      "        9076101225      cycles                                                        ( +-  6.73% )\n",
      "       24394702890      instructions              #    2.69  insn per cycle           ( +-  1.26% )\n",
      "          39694995      cache-references                                              ( +-  0.75% )\n",
      "            506669      cache-misses              #    1.276 % of all cache refs      ( +-  8.82% )\n",
      "\n",
      "       2.099587208 seconds time elapsed                                          ( +-  1.23% )\n",
      "\n"
     ]
    }
   ],
   "source": [
    "%%bash\n",
    "sudo perf stat -a -e cycles,instructions,cache-references,cache-misses -r 5 python3 mult_matrix_matrix.py"
   ]
  },
  {
   "cell_type": "code",
   "execution_count": 191,
   "metadata": {},
   "outputs": [
    {
     "name": "stderr",
     "output_type": "stream",
     "text": [
      "\n",
      " Performance counter stats for 'system wide' (5 runs):\n",
      "\n",
      "        3486970954      cycles                                                        ( +-  2.37% )\n",
      "        2716423165      instructions              #    0.78  insn per cycle           ( +-  0.68% )\n",
      "           9292320      cache-references                                              ( +-  0.59% )\n",
      "            596088      cache-misses              #    6.415 % of all cache refs      ( +-  4.75% )\n",
      "\n",
      "       0.266350340 seconds time elapsed                                          ( +-  2.80% )\n",
      "\n"
     ]
    }
   ],
   "source": [
    "%%bash\n",
    "sudo perf stat -a -e cycles,instructions,cache-references,cache-misses -r 5 python3 mult_matrix_matrix_numpy.py"
   ]
  },
  {
   "cell_type": "code",
   "execution_count": 1,
   "metadata": {},
   "outputs": [
    {
     "name": "stderr",
     "output_type": "stream",
     "text": [
      "\n",
      " Performance counter stats for 'system wide' (5 runs):\n",
      "\n",
      "S0-C0           2         1401257436      cycles                                                      \n",
      "S0-C0           2         1862709120      instructions              #    1.33  insn per cycle         \n",
      "S0-C0           2            9134952      cache-references                                            \n",
      "S0-C0           2             484632      cache-misses              #    5.305 % of all cache refs    \n",
      "S0-C1           2          706797830      cycles                                                      \n",
      "S0-C1           2          269257117      instructions              #    0.38  insn per cycle         \n",
      "S0-C1           2              55035      cache-references                                            \n",
      "S0-C1           2              21068      cache-misses              #   38.281 % of all cache refs    \n",
      "S0-C2           2          705777475      cycles                                                      \n",
      "S0-C2           2          270800932      instructions              #    0.38  insn per cycle         \n",
      "S0-C2           2              45599      cache-references                                            \n",
      "S0-C2           2              14818      cache-misses              #   32.496 % of all cache refs    \n",
      "S0-C3           2          801377720      cycles                                                      \n",
      "S0-C3           2          289964481      instructions              #    0.36  insn per cycle         \n",
      "S0-C3           2              31031      cache-references                                            \n",
      "S0-C3           2               9332      cache-misses              #   30.073 % of all cache refs    \n",
      "\n",
      "       0.268580764 seconds time elapsed                                          ( +-  0.82% )\n",
      "\n"
     ]
    }
   ],
   "source": [
    "%%bash\n",
    "sudo perf stat -a --per-core -e cycles,instructions,cache-references,cache-misses -r 5 python3 mult_matrix_matrix_numpy.py"
   ]
  },
  {
   "cell_type": "code",
   "execution_count": 193,
   "metadata": {},
   "outputs": [
    {
     "name": "stdout",
     "output_type": "stream",
     "text": [
      "Overwriting mult_matrix_matrix_numpy_dot_product.py\n"
     ]
    }
   ],
   "source": [
    "%%file mult_matrix_matrix_numpy_dot_product.py\n",
    "import numpy as np\n",
    "m=10**2\n",
    "r=10**3\n",
    "n=10**2\n",
    "\n",
    "fileA='A.txt'\n",
    "fileB='B.txt'\n",
    "A = np.loadtxt(fileA)\n",
    "B = np.loadtxt(fileB)\n",
    "C = np.zeros((m,n))\n",
    "for i in np.arange(m):\n",
    "        for j in np.arange(n):\n",
    "                C[i][j]+= A[i,:].dot(B[:,j])"
   ]
  },
  {
   "cell_type": "code",
   "execution_count": 194,
   "metadata": {},
   "outputs": [
    {
     "name": "stderr",
     "output_type": "stream",
     "text": [
      "\n",
      " Performance counter stats for 'system wide' (5 runs):\n",
      "\n",
      "        3052736247      cycles                                                        ( +-  2.05% )\n",
      "        2680158414      instructions              #    0.88  insn per cycle           ( +-  0.72% )\n",
      "          11041581      cache-references                                              ( +-  0.80% )\n",
      "            644429      cache-misses              #    5.836 % of all cache refs      ( +-  7.31% )\n",
      "\n",
      "       0.282211430 seconds time elapsed                                          ( +-  1.92% )\n",
      "\n"
     ]
    }
   ],
   "source": [
    "%%bash\n",
    "sudo perf stat -a -e cycles,instructions,cache-references,cache-misses -r 5 python3 mult_matrix_matrix_numpy_dot_product.py"
   ]
  },
  {
   "cell_type": "code",
   "execution_count": 2,
   "metadata": {},
   "outputs": [
    {
     "name": "stderr",
     "output_type": "stream",
     "text": [
      "\n",
      " Performance counter stats for 'system wide' (5 runs):\n",
      "\n",
      "S0-C0           2          569610445      cycles                                                      \n",
      "S0-C0           2          221505417      instructions              #    0.39  insn per cycle         \n",
      "S0-C0           2              56811      cache-references                                            \n",
      "S0-C0           2              17900      cache-misses              #   31.508 % of all cache refs    \n",
      "S0-C1           2         1319889207      cycles                                                      \n",
      "S0-C1           2         2002371463      instructions              #    1.52  insn per cycle         \n",
      "S0-C1           2           10456781      cache-references                                            \n",
      "S0-C1           2             489184      cache-misses              #    4.678 % of all cache refs    \n",
      "S0-C2           2          570228997      cycles                                                      \n",
      "S0-C2           2          227205140      instructions              #    0.40  insn per cycle         \n",
      "S0-C2           2              74761      cache-references                                            \n",
      "S0-C2           2              15297      cache-misses              #   20.461 % of all cache refs    \n",
      "S0-C3           2          571192241      cycles                                                      \n",
      "S0-C3           2          235730344      instructions              #    0.41  insn per cycle         \n",
      "S0-C3           2              49865      cache-references                                            \n",
      "S0-C3           2              17270      cache-misses              #   34.634 % of all cache refs    \n",
      "\n",
      "       0.288762948 seconds time elapsed                                          ( +-  0.89% )\n",
      "\n"
     ]
    }
   ],
   "source": [
    "%%bash\n",
    "sudo perf stat -a --per-core -e cycles,instructions,cache-references,cache-misses -r 5 python3 mult_matrix_matrix_numpy_dot_product.py"
   ]
  },
  {
   "cell_type": "code",
   "execution_count": 3,
   "metadata": {},
   "outputs": [],
   "source": [
    "import os"
   ]
  },
  {
   "cell_type": "code",
   "execution_count": 4,
   "metadata": {},
   "outputs": [],
   "source": [
    "os.remove('A.txt')\n",
    "os.remove('B.txt')"
   ]
  },
  {
   "cell_type": "markdown",
   "metadata": {},
   "source": [
    "**Referencias:**\n",
    "\n",
    "* E. Anderson, Z. Bai, C. Bischof, L. S. Blackford, J. Demmel, J. Dongarra, J. Du Croz,\n",
    "A. Greenbaum, S. Hammarling, A. Mckenney and D. Sorensen, LAPACK Users Guide, Society for Industrial and Applied Mathematics, Philadelphia, PA, third ed., 1999.\n",
    "\n",
    "* G. H. Golub, C. F. Van Loan, Matrix Computations, John Hopkins University\n",
    "Press, 2013.\n",
    "\n",
    "* [2.1.Un_poco_de_historia_y_generalidades](https://github.com/ITAM-DS/analisis-numerico-computo-cientifico/blob/master/temas/II.computo_paralelo/2.1.Un_poco_de_historia_y_generalidades.ipynb)"
   ]
  },
  {
   "cell_type": "code",
   "execution_count": null,
   "metadata": {},
   "outputs": [],
   "source": []
  }
 ],
 "metadata": {
  "kernelspec": {
   "display_name": "Python 3",
   "language": "python",
   "name": "python3"
  },
  "language_info": {
   "codemirror_mode": {
    "name": "ipython",
    "version": 3
   },
   "file_extension": ".py",
   "mimetype": "text/x-python",
   "name": "python",
   "nbconvert_exporter": "python",
   "pygments_lexer": "ipython3",
   "version": "3.6.9"
  }
 },
 "nbformat": 4,
 "nbformat_minor": 4
}
