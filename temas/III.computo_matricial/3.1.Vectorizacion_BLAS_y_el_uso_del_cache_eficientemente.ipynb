{
 "cells": [
  {
   "cell_type": "markdown",
   "metadata": {},
   "source": [
    "**Notas para contenedor de docker:**"
   ]
  },
  {
   "cell_type": "markdown",
   "metadata": {},
   "source": [
    "Comando de docker para ejecución de la nota de forma local:\n",
    "\n",
    "nota: cambiar `<ruta a mi directorio>` por la ruta de directorio que se desea mapear a `/datos` dentro del contenedor de docker.\n",
    "\n",
    "```\n",
    "sudo docker run --rm -v <ruta a mi directorio>:/datos --cap-add SYS_ADMIN --privileged --name jupyterlab-numerical -p 8888:8888 -d palmoreck/jupyterlab_numerical:1.1.0\n",
    "```\n",
    "\n",
    "password para jupyterlab: `qwerty`\n",
    "\n",
    "Detener el contenedor de docker:\n",
    "\n",
    "```\n",
    "docker stop jupyterlab_numerical\n",
    "```\n"
   ]
  },
  {
   "cell_type": "markdown",
   "metadata": {},
   "source": [
    "Documentación de la imagen de docker `palmoreck/jupyterlab_numerical:1.1.0` en [liga](https://github.com/palmoreck/dockerfiles/tree/master/jupyterlab/numerical)."
   ]
  },
  {
   "cell_type": "markdown",
   "metadata": {},
   "source": [
    "---"
   ]
  },
  {
   "cell_type": "markdown",
   "metadata": {},
   "source": [
    "Nota generada a partir de [liga](https://www.dropbox.com/s/fyqwiqasqaa3wlt/3.1.1.Multiplicacion_de_matrices_y_estructura_de_datos.pdf?dl=0), [liga2](https://www.dropbox.com/s/l4hq45rj860ql9f/3.1.2.Localidad_y_vectorizacion.Analisis_del_error_en_computos_matriciales_basicos.pdf?dl=0)"
   ]
  },
  {
   "cell_type": "markdown",
   "metadata": {},
   "source": [
    "# 3.1 El cómputo matricial y el álgebra lineal. Vectorización, BLAS y el uso del caché eficientemente."
   ]
  },
  {
   "cell_type": "markdown",
   "metadata": {},
   "source": [
    "El cómputo matricial está construído sobre una jerarquía de operaciones del álgebra lineal:\n",
    "\n",
    "* Productos punto involucran operaciones escalares de suma y multiplicación (nivel BLAS 1).\n",
    "\n",
    "* La multiplicación matriz-vector está hecha de productos punto (nivel BLAS 2).\n",
    "\n",
    "* La multiplicación matriz-matriz utiliza colecciones de productos matriz-vector (nivel BLAS 3).\n",
    "\n",
    "Las operaciones anteriores se describen en el álgebra lineal con la teoría de espacios vectoriales pero también es posible describirlas en una forma algorítmica. Ambas descripciones se complementan una a la otra.\n",
    "\n",
    "Manejaremos nombres que en el [Linear Algebra Package: LAPACK](http://www.netlib.org/lapack/explore-html/dir_fa94b7b114d387a7a8beb2e3e22bf78d.html) son utilizados para denotar algunas operaciones con escalares, vectores o matrices. Ver [ Reference-LAPACK / lapack](https://github.com/Reference-LAPACK/lapack) para su github."
   ]
  },
  {
   "cell_type": "markdown",
   "metadata": {},
   "source": [
    "## Operación del producto interno estándar o producto punto"
   ]
  },
  {
   "cell_type": "markdown",
   "metadata": {},
   "source": [
    "Consideramos $x,y \\in \\mathbb{R}^n$. El producto punto entre $x$ y $y$ es $c = x^Ty = \\displaystyle \\sum_{i=1}^n x_iy_i$. \n",
    "\n",
    "**Ejemplo y algoritmo del producto punto:**"
   ]
  },
  {
   "cell_type": "code",
   "execution_count": 21,
   "metadata": {},
   "outputs": [],
   "source": [
    "c=0\n",
    "n=5\n",
    "x=[-1]*n\n",
    "y=[1.5]*n\n",
    "\n",
    "for i in range(n):\n",
    "    c += x[i]*y[i]"
   ]
  },
  {
   "cell_type": "code",
   "execution_count": 22,
   "metadata": {},
   "outputs": [
    {
     "data": {
      "text/plain": [
       "-7.5"
      ]
     },
     "execution_count": 22,
     "metadata": {},
     "output_type": "execute_result"
    }
   ],
   "source": [
    "c"
   ]
  },
  {
   "cell_type": "markdown",
   "metadata": {},
   "source": [
    "**Obs:**\n",
    "\n",
    "* El producto punto de dos $n$-vectores involucran $n$ multiplicaciones y $n$ sumas para un total de $2n$ operaciones. Usamos la notación $\\mathcal{O}(\\cdot)$ para escribir que el producto punto es $\\mathcal{O}(n)$ y se lee \"de orden $n$ o proporcional a $n$\" para indicar que la **cantidad de trabajo** tiene un comportamiento **lineal** con la dimensión $n$. También tal cantidad de trabajo opera sobre una **cantidad lineal de datos**."
   ]
  },
  {
   "cell_type": "markdown",
   "metadata": {},
   "source": [
    "## Operación **saxpy**"
   ]
  },
  {
   "cell_type": "markdown",
   "metadata": {},
   "source": [
    "Consideramos $\\alpha \\in \\mathbb{R}, x,y \\in \\mathbb{R}^n$. El nombre lo recibe por *scalar alpha x plus y*. En LAPACK se escribe en forma *update*:\n",
    "\n",
    "$$y=\\alpha x + y \\therefore y_i = \\alpha x_i + y_i \\forall i=1,...,n$$"
   ]
  },
  {
   "cell_type": "markdown",
   "metadata": {},
   "source": [
    "**Obs:** \n",
    "\n",
    "* El símbolo $=$ no se utiliza como igualdad de expresiones sino como en computación para denotar asignación.\n",
    "\n",
    "* También encontramos en LAPACK `caxpy` o `daxpy` para el caso complejo y para números en doble precisión respectivamente.\n",
    "\n",
    "* Ésta operación realiza un trabajo de $\\mathcal{O}(n)$ sobre una cantidad de datos $\\mathcal{O}(n)$."
   ]
  },
  {
   "cell_type": "markdown",
   "metadata": {},
   "source": [
    "**Ejemplo y algoritmo de saxpy:**"
   ]
  },
  {
   "cell_type": "code",
   "execution_count": 23,
   "metadata": {},
   "outputs": [],
   "source": [
    "alpha=2\n",
    "n=5\n",
    "x=[-2]*n\n",
    "y=[0]*n\n",
    "\n",
    "for i in range(n):\n",
    "    y[i] += alpha*x[i]"
   ]
  },
  {
   "cell_type": "code",
   "execution_count": 24,
   "metadata": {},
   "outputs": [
    {
     "data": {
      "text/plain": [
       "[-4, -4, -4, -4, -4]"
      ]
     },
     "execution_count": 24,
     "metadata": {},
     "output_type": "execute_result"
    }
   ],
   "source": [
    "y"
   ]
  },
  {
   "cell_type": "markdown",
   "metadata": {},
   "source": [
    "o en una forma *update*:"
   ]
  },
  {
   "cell_type": "code",
   "execution_count": 25,
   "metadata": {},
   "outputs": [],
   "source": [
    "alpha=2\n",
    "n=5\n",
    "x=[-2]*n\n",
    "y=[3,4,-1,0,1]\n",
    "\n",
    "for i in range(n):\n",
    "    y[i] += alpha*x[i]"
   ]
  },
  {
   "cell_type": "code",
   "execution_count": 26,
   "metadata": {},
   "outputs": [
    {
     "data": {
      "text/plain": [
       "[-1, 0, -5, -4, -3]"
      ]
     },
     "execution_count": 26,
     "metadata": {},
     "output_type": "execute_result"
    }
   ],
   "source": [
    "y"
   ]
  },
  {
   "cell_type": "markdown",
   "metadata": {},
   "source": [
    "**Comentario:** La operación de producto punto y *saxpy* son algoritmos catalogados como de **nivel BLAS 1** (ver [BLAS: Basic Linear Algebra Subprograms](https://en.wikipedia.org/wiki/Basic_Linear_Algebra_Subprograms). Éstos algoritmos se caracterizan por involucrar una cantidad de trabajo lineal sobre una cantidad lineal de datos. Ver [level 1](http://www.netlib.org/blas/#_level_1) para más ejemplos."
   ]
  },
  {
   "cell_type": "markdown",
   "metadata": {},
   "source": [
    "## Multiplicación matriz-vector"
   ]
  },
  {
   "cell_type": "markdown",
   "metadata": {},
   "source": [
    "Consideramos $A \\in \\mathbb{R}^{m \\times n}, x \\in \\mathbb{R}^n, y \\in \\mathbb{R}^m$. La operación $y = y + Ax$ es una operación *generalizada* saxpy, por ello se denomina **gaxpy** pero en LAPACK podemos encontrar esta operación con nombres como [sgemv](http://www.netlib.org/lapack/explore-html/db/d58/sgemv_8f.html), [dgemv](http://www.netlib.org/lapack/explore-html/dc/da8/dgemv_8f.html), [cgemv](http://www.netlib.org/lapack/explore-html/d4/d8a/cgemv_8f.html) o [zgemv](http://www.netlib.org/lapack/explore-html/db/d40/zgemv_8f.html) para los casos de precisión simple, doble o números complejos respectivamente. Hay diferentes formas de visualizar y escribir el algoritmo de multiplicación matriz-vector. Por ejemplo para una matriz $A$ con entradas:\n"
   ]
  },
  {
   "cell_type": "code",
   "execution_count": 56,
   "metadata": {},
   "outputs": [],
   "source": [
    "m=2\n",
    "n=5\n",
    "A=[[1.2]*n if i%2==0 else [1]*n for i in range(m)]"
   ]
  },
  {
   "cell_type": "code",
   "execution_count": 57,
   "metadata": {},
   "outputs": [
    {
     "data": {
      "text/plain": [
       "[[1.2, 1.2, 1.2, 1.2, 1.2], [1, 1, 1, 1, 1]]"
      ]
     },
     "execution_count": 57,
     "metadata": {},
     "output_type": "execute_result"
    }
   ],
   "source": [
    "A"
   ]
  },
  {
   "cell_type": "code",
   "execution_count": 58,
   "metadata": {},
   "outputs": [
    {
     "data": {
      "text/plain": [
       "1.2"
      ]
     },
     "execution_count": 58,
     "metadata": {},
     "output_type": "execute_result"
    }
   ],
   "source": [
    "A[0][0]"
   ]
  },
  {
   "cell_type": "code",
   "execution_count": 59,
   "metadata": {},
   "outputs": [
    {
     "data": {
      "text/plain": [
       "1"
      ]
     },
     "execution_count": 59,
     "metadata": {},
     "output_type": "execute_result"
    }
   ],
   "source": [
    "A[1][n-1]"
   ]
  },
  {
   "cell_type": "markdown",
   "metadata": {},
   "source": [
    "se tiene:"
   ]
  },
  {
   "cell_type": "markdown",
   "metadata": {},
   "source": [
    "### Algoritmo gaxpy *row oriented*"
   ]
  },
  {
   "cell_type": "code",
   "execution_count": 60,
   "metadata": {},
   "outputs": [],
   "source": [
    "x=[2]*n\n",
    "y=[0]*m\n",
    "for i in range(m):\n",
    "    for j in range(n):\n",
    "        y[i]+=A[i][j]*x[j]\n"
   ]
  },
  {
   "cell_type": "code",
   "execution_count": 61,
   "metadata": {},
   "outputs": [
    {
     "data": {
      "text/plain": [
       "[12.0, 10]"
      ]
     },
     "execution_count": 61,
     "metadata": {},
     "output_type": "execute_result"
    }
   ],
   "source": [
    "y"
   ]
  },
  {
   "cell_type": "markdown",
   "metadata": {},
   "source": [
    "Si $y$ tiene valores distintos de $0$, se realiza un *update*:"
   ]
  },
  {
   "cell_type": "code",
   "execution_count": 62,
   "metadata": {},
   "outputs": [],
   "source": [
    "x=[2]*n\n",
    "y=[-1]*m\n",
    "for i in range(m):\n",
    "    for j in range(n):\n",
    "        y[i]+=A[i][j]*x[j]\n"
   ]
  },
  {
   "cell_type": "code",
   "execution_count": 63,
   "metadata": {},
   "outputs": [
    {
     "data": {
      "text/plain": [
       "[11.0, 9]"
      ]
     },
     "execution_count": 63,
     "metadata": {},
     "output_type": "execute_result"
    }
   ],
   "source": [
    "y"
   ]
  },
  {
   "cell_type": "markdown",
   "metadata": {},
   "source": [
    "**Comentarios:**\n",
    "\n",
    "* En la versión *row oriented* del algoritmo *gaxpy*, el **inner loop** realiza **productos punto** entre el $i$-ésimo renglón de $A$ y el vector $x$. Se realizan $m$ productos punto.\n",
    "\n",
    "* Obsérvese que el acceso a la matriz $A$ es por renglón."
   ]
  },
  {
   "cell_type": "markdown",
   "metadata": {},
   "source": [
    "También puede escribirse al algoritmo *gaxpy* en una forma orientada por columnas:"
   ]
  },
  {
   "cell_type": "markdown",
   "metadata": {},
   "source": [
    "### Algoritmo gaxpy *column oriented*"
   ]
  },
  {
   "cell_type": "markdown",
   "metadata": {},
   "source": [
    "Para este algoritmo visualizamos al producto matriz-vector como una combinación lineal de las columnas de $A$:\n",
    "\n",
    "$$Ax = \\displaystyle \\sum_{j=1}^n a_jx_j$$\n",
    "\n",
    "con $a_j$ la $j$-ésima columna de $A$.\n"
   ]
  },
  {
   "cell_type": "code",
   "execution_count": 64,
   "metadata": {},
   "outputs": [],
   "source": [
    "x=[2]*n\n",
    "y=[0]*m\n",
    "for j in range(n):\n",
    "    for i in range(m):\n",
    "        y[i]+=A[i][j]*x[j]"
   ]
  },
  {
   "cell_type": "code",
   "execution_count": 65,
   "metadata": {},
   "outputs": [
    {
     "data": {
      "text/plain": [
       "[12.0, 10]"
      ]
     },
     "execution_count": 65,
     "metadata": {},
     "output_type": "execute_result"
    }
   ],
   "source": [
    "y"
   ]
  },
  {
   "cell_type": "markdown",
   "metadata": {},
   "source": [
    "**Obs:**\n",
    "\n",
    "* El algoritmo de multiplicación matriz-vector (versión *row* o *column* oriented) involucra $\\mathcal{O}(mn)$ operaciones o una cantidad **cuadrática** de trabajo, que podemos entender como \"si duplicamos cada dimensión de $A$ entonces la cantidad de trabajo se incrementa por un factor de $4$\". Tal número de operaciones trabajan sobre una matriz o sobre una cantidad **cuadrática** de datos. A los algoritmos que realizan una cantidad cuadrática de trabajo sobre una cantidad cuadrática de datos se les cataloga de **nivel BLAS 2**. Ver [level 2](http://www.netlib.org/blas/#_level_2) para más ejemplos de algoritmos en el álgebra lineal en esta categoría.\n",
    "\n",
    "* La versión *column oriented* se puede analizar desde el punto de vista puramente algorítmico como un intercambio entre las líneas con los índices $i$ y $j$ de cada *loop* y un acceso a los datos de la matriz por columna. O bien, se puede analizar desde el álgebra lineal indicando que el vector $y$ está en el **espacio generado** por las columnas de $A$ y cuyas coordenadas están siendo dadas por las entradas del vector $x$:\n",
    "\n",
    "<img src=\"https://dl.dropboxusercontent.com/s/6a2b7rjs4a71sni/combinacion_lineal_columnas_A.png?dl=0\" heigth=\"700\" width=\"700\">\n",
    "\n",
    "Una ejemplo de visualización del espacio generado por las columnas de $A$, llamado **rango o imagen** de $A$, $Im(A)$, es el siguiente:\n",
    "\n",
    "<img src=\"https://dl.dropboxusercontent.com/s/zkbhzv9a2jiw11b/espacio_generado_columnas_de_A.png?dl=0\" heigth=\"400\" width=\"400\">\n",
    "\n",
    "En este dibujo los vectores $b, r(x) \\in \\mathbb{R}^3$ no están en $Im(A) \\subset \\mathbb{R}^3$ pero $Ax$ en azul sí.\n",
    "\n",
    "* Obsérvese que el **inner loop** de la versión *column oriented* en *gaxpy* es un **saxpy** en la que el escalar está dado por una entrada de $x$. Esto lo podemos realizar de forma explícita definiendo $A[:,j]$ a la $j$-ésima columna de $A$ por lo que $A = [A[:,1] | A[:,2] | \\dots | A[:,n]]$, entonces:\n",
    "\n",
    "```\n",
    "for j=1:n\n",
    "    y+=A[:,j] * x[j]\n",
    " \n",
    "```"
   ]
  },
  {
   "cell_type": "markdown",
   "metadata": {},
   "source": [
    "sin embargo como hemos visto, en Python con su implementación más común CPython, no es posible realizar tal indexado:"
   ]
  },
  {
   "cell_type": "code",
   "execution_count": 66,
   "metadata": {},
   "outputs": [
    {
     "ename": "TypeError",
     "evalue": "list indices must be integers or slices, not tuple",
     "output_type": "error",
     "traceback": [
      "\u001b[0;31m---------------------------------------------------------------------------\u001b[0m",
      "\u001b[0;31mTypeError\u001b[0m                                 Traceback (most recent call last)",
      "\u001b[0;32m<ipython-input-66-93f449af9194>\u001b[0m in \u001b[0;36m<module>\u001b[0;34m\u001b[0m\n\u001b[1;32m      2\u001b[0m \u001b[0my\u001b[0m\u001b[0;34m=\u001b[0m\u001b[0;34m[\u001b[0m\u001b[0;36m0\u001b[0m\u001b[0;34m]\u001b[0m\u001b[0;34m*\u001b[0m\u001b[0mm\u001b[0m\u001b[0;34m\u001b[0m\u001b[0;34m\u001b[0m\u001b[0m\n\u001b[1;32m      3\u001b[0m \u001b[0;32mfor\u001b[0m \u001b[0mj\u001b[0m \u001b[0;32min\u001b[0m \u001b[0mrange\u001b[0m\u001b[0;34m(\u001b[0m\u001b[0mn\u001b[0m\u001b[0;34m)\u001b[0m\u001b[0;34m:\u001b[0m\u001b[0;34m\u001b[0m\u001b[0;34m\u001b[0m\u001b[0m\n\u001b[0;32m----> 4\u001b[0;31m     \u001b[0my\u001b[0m\u001b[0;34m+=\u001b[0m\u001b[0mA\u001b[0m\u001b[0;34m[\u001b[0m\u001b[0;34m:\u001b[0m\u001b[0;34m,\u001b[0m\u001b[0mj\u001b[0m\u001b[0;34m]\u001b[0m\u001b[0;34m*\u001b[0m\u001b[0mx\u001b[0m\u001b[0;34m[\u001b[0m\u001b[0mj\u001b[0m\u001b[0;34m]\u001b[0m\u001b[0;34m\u001b[0m\u001b[0;34m\u001b[0m\u001b[0m\n\u001b[0m",
      "\u001b[0;31mTypeError\u001b[0m: list indices must be integers or slices, not tuple"
     ]
    }
   ],
   "source": [
    "x=[2]*n\n",
    "y=[0]*m\n",
    "for j in range(n):\n",
    "    y+=A[:,j]*x[j]"
   ]
  },
  {
   "cell_type": "markdown",
   "metadata": {},
   "source": [
    "a menos que incorporemos alguna paquetería que permita la **vectorización**. Un ejemplo es con [numpy](https://numpy.org/):"
   ]
  },
  {
   "cell_type": "code",
   "execution_count": 67,
   "metadata": {},
   "outputs": [],
   "source": [
    "import numpy as np"
   ]
  },
  {
   "cell_type": "code",
   "execution_count": 68,
   "metadata": {},
   "outputs": [],
   "source": [
    "x = 2*np.ones(n)\n",
    "y = np.zeros(m)"
   ]
  },
  {
   "cell_type": "code",
   "execution_count": 69,
   "metadata": {},
   "outputs": [
    {
     "data": {
      "text/plain": [
       "array([2., 2., 2., 2., 2.])"
      ]
     },
     "execution_count": 69,
     "metadata": {},
     "output_type": "execute_result"
    }
   ],
   "source": [
    "x"
   ]
  },
  {
   "cell_type": "code",
   "execution_count": 70,
   "metadata": {},
   "outputs": [
    {
     "data": {
      "text/plain": [
       "array([0., 0.])"
      ]
     },
     "execution_count": 70,
     "metadata": {},
     "output_type": "execute_result"
    }
   ],
   "source": [
    "y"
   ]
  },
  {
   "cell_type": "code",
   "execution_count": 71,
   "metadata": {},
   "outputs": [
    {
     "data": {
      "text/plain": [
       "[[1.2, 1.2, 1.2, 1.2, 1.2], [1, 1, 1, 1, 1]]"
      ]
     },
     "execution_count": 71,
     "metadata": {},
     "output_type": "execute_result"
    }
   ],
   "source": [
    "A"
   ]
  },
  {
   "cell_type": "code",
   "execution_count": 72,
   "metadata": {},
   "outputs": [],
   "source": [
    "A=np.array([[1.2,1.2,1.2,1.2,1.2],[1,1,1,1,1]])"
   ]
  },
  {
   "cell_type": "code",
   "execution_count": 73,
   "metadata": {},
   "outputs": [
    {
     "data": {
      "text/plain": [
       "array([[1.2, 1.2, 1.2, 1.2, 1.2],\n",
       "       [1. , 1. , 1. , 1. , 1. ]])"
      ]
     },
     "execution_count": 73,
     "metadata": {},
     "output_type": "execute_result"
    }
   ],
   "source": [
    "A"
   ]
  },
  {
   "cell_type": "code",
   "execution_count": 74,
   "metadata": {},
   "outputs": [],
   "source": [
    "for j in range(n):\n",
    "    y+=A[:,j]*x[j]"
   ]
  },
  {
   "cell_type": "code",
   "execution_count": 75,
   "metadata": {},
   "outputs": [
    {
     "data": {
      "text/plain": [
       "array([12., 10.])"
      ]
     },
     "execution_count": 75,
     "metadata": {},
     "output_type": "execute_result"
    }
   ],
   "source": [
    "y"
   ]
  },
  {
   "cell_type": "markdown",
   "metadata": {},
   "source": [
    "**Comentarios:**\n",
    "\n",
    "* La vectorización como se mencionó en [2.1.Un_poco_de_historia_y_generalidades](https://github.com/ITAM-DS/analisis-numerico-computo-cientifico/blob/master/temas/II.computo_paralelo/2.1.Un_poco_de_historia_y_generalidades.ipynb) es una herramienta para escribir programas de alto rendimiento pues incrementa el número de instrucciones por ciclo [IPC](https://en.wikipedia.org/wiki/Instructions_per_cycle) para procesadores que caen en la categoría Single Instruction Multiple Data (SIMD) de la taxonomía de Flynn (ver [liga](https://en.wikipedia.org/wiki/Flynn%27s_taxonomy)). Como ejemplo de tales procesadores están los procesadores vectoriales o en arreglo, ver [liga](https://en.wikipedia.org/wiki/Vector_processor).\n",
    "\n"
   ]
  },
  {
   "cell_type": "code",
   "execution_count": 8,
   "metadata": {},
   "outputs": [
    {
     "name": "stdout",
     "output_type": "stream",
     "text": [
      "Overwriting mult_matrix_vector.py\n"
     ]
    }
   ],
   "source": [
    "%%file mult_matrix_vector.py\n",
    "m=10**3\n",
    "n=10**3\n",
    "x=[2]*n\n",
    "y=[0]*m\n",
    "A=[[1.2]*n if i%2==0 else [1]*n for i in range(m)]\n",
    "for j in range(n):\n",
    "    for i in range(m):\n",
    "        y[i]+=A[i][j]*x[j]"
   ]
  },
  {
   "cell_type": "code",
   "execution_count": 9,
   "metadata": {},
   "outputs": [
    {
     "name": "stdout",
     "output_type": "stream",
     "text": [
      "Overwriting mult_matrix_vector_numpy.py\n"
     ]
    }
   ],
   "source": [
    "%%file mult_matrix_vector_numpy.py\n",
    "import numpy as np\n",
    "m=10**3\n",
    "n=10**3\n",
    "x = 2*np.ones(n)\n",
    "y = np.zeros(m)\n",
    "#A=np.array([[1.2,1.2,1.2,1.2,1.2],[1,1,1,1,1]])\n",
    "A=np.random.rand(m,n)\n",
    "for j in np.arange(n):\n",
    "    y+=A[:,j]*x[j]"
   ]
  },
  {
   "cell_type": "code",
   "execution_count": 10,
   "metadata": {},
   "outputs": [
    {
     "name": "stderr",
     "output_type": "stream",
     "text": [
      "\n",
      " Performance counter stats for 'python3 mult_matrix_vector.py' (5 runs):\n",
      "\n",
      "        206.029287      task-clock (msec)         #    0.999 CPUs utilized            ( +-  2.59% )\n",
      "                 0      context-switches          #    0.001 K/sec                    ( +-100.00% )\n",
      "                 0      cpu-migrations            #    0.000 K/sec                  \n",
      "              2884      page-faults               #    0.014 M/sec                    ( +-  0.02% )\n",
      "         791160187      cycles                    #    3.840 GHz                      ( +-  2.17% )\n",
      "        2148890058      instructions              #    2.72  insn per cycle           ( +-  2.35% )\n",
      "         459032953      branches                  # 2227.999 M/sec                    ( +-  2.63% )\n",
      "            819524      branch-misses             #    0.18% of all branches          ( +- 10.98% )\n",
      "\n",
      "       0.206261085 seconds time elapsed                                          ( +-  2.59% )\n",
      "\n"
     ]
    }
   ],
   "source": [
    "%%bash\n",
    "sudo perf stat -r 5 python3 mult_matrix_vector.py"
   ]
  },
  {
   "cell_type": "code",
   "execution_count": 11,
   "metadata": {},
   "outputs": [
    {
     "name": "stderr",
     "output_type": "stream",
     "text": [
      "\n",
      " Performance counter stats for 'python3 mult_matrix_vector_numpy.py' (5 runs):\n",
      "\n",
      "        675.885172      task-clock (msec)         #    4.392 CPUs utilized            ( +-  0.20% )\n",
      "                31      context-switches          #    0.045 K/sec                    ( +-  3.52% )\n",
      "                 1      cpu-migrations            #    0.002 K/sec                    ( +- 16.67% )\n",
      "              5007      page-faults               #    0.007 M/sec                    ( +-  2.06% )\n",
      "        2566930836      cycles                    #    3.798 GHz                      ( +-  0.14% )\n",
      "        1399688105      instructions              #    0.55  insn per cycle           ( +-  0.09% )\n",
      "         266596431      branches                  #  394.440 M/sec                    ( +-  0.10% )\n",
      "           6422778      branch-misses             #    2.41% of all branches          ( +-  0.09% )\n",
      "\n",
      "       0.153878283 seconds time elapsed                                          ( +-  0.91% )\n",
      "\n"
     ]
    }
   ],
   "source": [
    "%%bash\n",
    "sudo perf stat -r 5 python3 mult_matrix_vector_numpy.py"
   ]
  },
  {
   "cell_type": "code",
   "execution_count": 12,
   "metadata": {},
   "outputs": [
    {
     "name": "stderr",
     "output_type": "stream",
     "text": [
      "==5496== Callgrind, a call-graph generating cache profiler\n",
      "==5496== Copyright (C) 2002-2017, and GNU GPL'd, by Josef Weidendorfer et al.\n",
      "==5496== Using Valgrind-3.13.0 and LibVEX; rerun with -h for copyright info\n",
      "==5496== Command: python3 mult_matrix_vector.py\n",
      "==5496== \n",
      "==5496== For interactive control, run 'callgrind_control -h'.\n",
      "==5496== brk segment overflow in thread #1: can't grow to 0x4a3e000\n",
      "==5496== (see section Limitations in user manual)\n",
      "==5496== NOTE: further instances of this message will not be shown\n",
      "==5496== \n",
      "==5496== Events    : Ir\n",
      "==5496== Collected : 2111537830\n",
      "==5496== \n",
      "==5496== I   refs:      2,111,537,830\n"
     ]
    }
   ],
   "source": [
    "%%bash\n",
    "valgrind --tool=callgrind python3 mult_matrix_vector.py"
   ]
  },
  {
   "cell_type": "code",
   "execution_count": 20,
   "metadata": {},
   "outputs": [
    {
     "name": "stdout",
     "output_type": "stream",
     "text": [
      "--------------------------------------------------------------------------------\n",
      "Profile data file 'callgrind.out.5496' (creator: callgrind-3.13.0)\n",
      "--------------------------------------------------------------------------------\n",
      "I1 cache: \n",
      "D1 cache: \n",
      "LL cache: \n",
      "Timerange: Basic block 0 - 457500311\n",
      "Trigger: Program termination\n",
      "Profiled target:  python3 mult_matrix_vector.py (PID 5496, part 1)\n",
      "Events recorded:  Ir\n",
      "Events shown:     Ir\n",
      "Event sort order: Ir\n",
      "Thresholds:       30\n",
      "Include dirs:     \n",
      "User annotated:   \n",
      "Auto-annotation:  off\n",
      "\n",
      "--------------------------------------------------------------------------------\n",
      "           Ir \n",
      "--------------------------------------------------------------------------------\n",
      "2,111,537,830  PROGRAM TOTALS\n",
      "\n",
      "--------------------------------------------------------------------------------\n",
      "         Ir  file:function\n",
      "--------------------------------------------------------------------------------\n",
      "567,329,120  ???:_PyEval_EvalFrameDefault [/usr/bin/python3.6]\n",
      "474,231,595  ???:0x0000000000570560 [/usr/bin/python3.6]\n",
      "\n"
     ]
    }
   ],
   "source": [
    "%%bash\n",
    "callgrind_annotate --show=Ir --threshold=30 callgrind.out.5496"
   ]
  },
  {
   "cell_type": "code",
   "execution_count": 14,
   "metadata": {},
   "outputs": [
    {
     "name": "stderr",
     "output_type": "stream",
     "text": [
      "==5501== Callgrind, a call-graph generating cache profiler\n",
      "==5501== Copyright (C) 2002-2017, and GNU GPL'd, by Josef Weidendorfer et al.\n",
      "==5501== Using Valgrind-3.13.0 and LibVEX; rerun with -h for copyright info\n",
      "==5501== Command: python3 mult_matrix_vector_numpy.py\n",
      "==5501== \n",
      "==5501== For interactive control, run 'callgrind_control -h'.\n",
      "==5501== \n",
      "==5501== Events    : Ir\n",
      "==5501== Collected : 558075494\n",
      "==5501== \n",
      "==5501== I   refs:      558,075,494\n"
     ]
    }
   ],
   "source": [
    "%%bash\n",
    "valgrind --tool=callgrind python3 mult_matrix_vector_numpy.py"
   ]
  },
  {
   "cell_type": "code",
   "execution_count": 21,
   "metadata": {},
   "outputs": [
    {
     "name": "stdout",
     "output_type": "stream",
     "text": [
      "--------------------------------------------------------------------------------\n",
      "Profile data file 'callgrind.out.5501' (creator: callgrind-3.13.0)\n",
      "--------------------------------------------------------------------------------\n",
      "I1 cache: \n",
      "D1 cache: \n",
      "LL cache: \n",
      "Timerange: Basic block 0 - 113873242\n",
      "Trigger: Program termination\n",
      "Profiled target:  python3 mult_matrix_vector_numpy.py (PID 5501, part 1)\n",
      "Events recorded:  Ir\n",
      "Events shown:     Ir\n",
      "Event sort order: Ir\n",
      "Thresholds:       30\n",
      "Include dirs:     \n",
      "User annotated:   \n",
      "Auto-annotation:  off\n",
      "\n",
      "--------------------------------------------------------------------------------\n",
      "         Ir \n",
      "--------------------------------------------------------------------------------\n",
      "558,075,494  PROGRAM TOTALS\n",
      "\n",
      "--------------------------------------------------------------------------------\n",
      "        Ir  file:function\n",
      "--------------------------------------------------------------------------------\n",
      "50,012,824  /tmp/pip-install-meqg652y/numpy/numpy/random/src/mt19937/mt19937.h:__pyx_f_5numpy_6random_8_mt19937_mt19937_double\n",
      "43,606,777  ???:_PyEval_EvalFrameDefault'2 [/usr/bin/python3.6]\n",
      "32,024,734  /tmp/pip-install-meqg652y/numpy/numpy/random/src/mt19937/mt19937.c:mt19937_gen [/home/miuser/.local/lib/python3.6/site-packages/numpy/random/_mt19937.cpython-36m-x86_64-linux-gnu.so]\n",
      "23,704,634  ???:PyParser_AddToken [/usr/bin/python3.6]\n",
      "21,381,606  ???:0x0000000000570560 [/usr/bin/python3.6]\n",
      "\n"
     ]
    }
   ],
   "source": [
    "%%bash\n",
    "callgrind_annotate --threshold=30 callgrind.out.5501"
   ]
  },
  {
   "cell_type": "code",
   "execution_count": 16,
   "metadata": {},
   "outputs": [
    {
     "name": "stderr",
     "output_type": "stream",
     "text": [
      "==5513== Cachegrind, a cache and branch-prediction profiler\n",
      "==5513== Copyright (C) 2002-2017, and GNU GPL'd, by Nicholas Nethercote et al.\n",
      "==5513== Using Valgrind-3.13.0 and LibVEX; rerun with -h for copyright info\n",
      "==5513== Command: python3 mult_matrix_vector.py\n",
      "==5513== \n",
      "--5513-- warning: L3 cache found, using its data for the LL simulation.\n",
      "==5513== brk segment overflow in thread #1: can't grow to 0x4a3e000\n",
      "==5513== (see section Limitations in user manual)\n",
      "==5513== NOTE: further instances of this message will not be shown\n",
      "==5513== \n",
      "==5513== I   refs:      2,158,856,954\n",
      "==5513== I1  misses:          352,129\n",
      "==5513== LLi misses:           11,030\n",
      "==5513== I1  miss rate:          0.02%\n",
      "==5513== LLi miss rate:          0.00%\n",
      "==5513== \n",
      "==5513== D   refs:        958,149,230  (688,874,925 rd   + 269,274,305 wr)\n",
      "==5513== D1  misses:        4,236,264  (  3,995,160 rd   +     241,104 wr)\n",
      "==5513== LLd misses:          380,711  (    215,147 rd   +     165,564 wr)\n",
      "==5513== D1  miss rate:           0.4% (        0.6%     +         0.1%  )\n",
      "==5513== LLd miss rate:           0.0% (        0.0%     +         0.1%  )\n",
      "==5513== \n",
      "==5513== LL refs:           4,588,393  (  4,347,289 rd   +     241,104 wr)\n",
      "==5513== LL misses:           391,741  (    226,177 rd   +     165,564 wr)\n",
      "==5513== LL miss rate:            0.0% (        0.0%     +         0.1%  )\n"
     ]
    }
   ],
   "source": [
    "%%bash\n",
    "valgrind --tool=cachegrind python3 mult_matrix_vector.py"
   ]
  },
  {
   "cell_type": "code",
   "execution_count": 22,
   "metadata": {},
   "outputs": [
    {
     "name": "stdout",
     "output_type": "stream",
     "text": [
      "--------------------------------------------------------------------------------\n",
      "I1 cache:         32768 B, 64 B, 8-way associative\n",
      "D1 cache:         32768 B, 64 B, 8-way associative\n",
      "LL cache:         8388608 B, 64 B, 16-way associative\n",
      "Command:          python3 mult_matrix_vector.py\n",
      "Data file:        cachegrind.out.5513\n",
      "Events recorded:  Ir I1mr ILmr Dr D1mr DLmr Dw D1mw DLmw\n",
      "Events shown:     Ir I1mr\n",
      "Event sort order: Ir I1mr ILmr Dr D1mr DLmr Dw D1mw DLmw\n",
      "Thresholds:       10 100 100 100 100 100 100 100 100\n",
      "Include dirs:     \n",
      "User annotated:   \n",
      "Auto-annotation:  off\n",
      "\n",
      "--------------------------------------------------------------------------------\n",
      "           Ir    I1mr \n",
      "--------------------------------------------------------------------------------\n",
      "2,158,856,954 352,129  PROGRAM TOTALS\n",
      "\n",
      "--------------------------------------------------------------------------------\n",
      "           Ir    I1mr  file:function\n",
      "--------------------------------------------------------------------------------\n",
      "1,068,275,288 174,174  ???:???\n",
      "  571,267,988  30,666  ???:_PyEval_EvalFrameDefault\n",
      "  252,590,208   1,073  ???:PyDict_GetItem\n",
      "\n"
     ]
    }
   ],
   "source": [
    "%%bash\n",
    "cg_annotate --show=Ir,I1mr --threshold=10 cachegrind.out.5513"
   ]
  },
  {
   "cell_type": "code",
   "execution_count": 18,
   "metadata": {},
   "outputs": [
    {
     "name": "stderr",
     "output_type": "stream",
     "text": [
      "==5517== Cachegrind, a cache and branch-prediction profiler\n",
      "==5517== Copyright (C) 2002-2017, and GNU GPL'd, by Nicholas Nethercote et al.\n",
      "==5517== Using Valgrind-3.13.0 and LibVEX; rerun with -h for copyright info\n",
      "==5517== Command: python3 mult_matrix_vector_numpy.py\n",
      "==5517== \n",
      "--5517-- warning: L3 cache found, using its data for the LL simulation.\n",
      "==5517== \n",
      "==5517== I   refs:      559,331,782\n",
      "==5517== I1  misses:      5,026,550\n",
      "==5517== LLi misses:         23,795\n",
      "==5517== I1  miss rate:        0.90%\n",
      "==5517== LLi miss rate:        0.00%\n",
      "==5517== \n",
      "==5517== D   refs:      221,213,159  (147,554,144 rd   + 73,659,015 wr)\n",
      "==5517== D1  misses:      8,080,573  (  6,727,444 rd   +  1,353,129 wr)\n",
      "==5517== LLd misses:        571,164  (    222,407 rd   +    348,757 wr)\n",
      "==5517== D1  miss rate:         3.7% (        4.6%     +        1.8%  )\n",
      "==5517== LLd miss rate:         0.3% (        0.2%     +        0.5%  )\n",
      "==5517== \n",
      "==5517== LL refs:        13,107,123  ( 11,753,994 rd   +  1,353,129 wr)\n",
      "==5517== LL misses:         594,959  (    246,202 rd   +    348,757 wr)\n",
      "==5517== LL miss rate:          0.1% (        0.0%     +        0.5%  )\n"
     ]
    }
   ],
   "source": [
    "%%bash\n",
    "valgrind --tool=cachegrind python3 mult_matrix_vector_numpy.py"
   ]
  },
  {
   "cell_type": "code",
   "execution_count": 23,
   "metadata": {},
   "outputs": [
    {
     "name": "stdout",
     "output_type": "stream",
     "text": [
      "--------------------------------------------------------------------------------\n",
      "I1 cache:         32768 B, 64 B, 8-way associative\n",
      "D1 cache:         32768 B, 64 B, 8-way associative\n",
      "LL cache:         8388608 B, 64 B, 16-way associative\n",
      "Command:          python3 mult_matrix_vector_numpy.py\n",
      "Data file:        cachegrind.out.5517\n",
      "Events recorded:  Ir I1mr ILmr Dr D1mr DLmr Dw D1mw DLmw\n",
      "Events shown:     Ir I1mr\n",
      "Event sort order: Ir I1mr ILmr Dr D1mr DLmr Dw D1mw DLmw\n",
      "Thresholds:       10 100 100 100 100 100 100 100 100\n",
      "Include dirs:     \n",
      "User annotated:   \n",
      "Auto-annotation:  off\n",
      "\n",
      "--------------------------------------------------------------------------------\n",
      "         Ir      I1mr \n",
      "--------------------------------------------------------------------------------\n",
      "559,331,782 5,026,550  PROGRAM TOTALS\n",
      "\n",
      "--------------------------------------------------------------------------------\n",
      "         Ir      I1mr  file:function\n",
      "--------------------------------------------------------------------------------\n",
      "234,554,778 2,164,291  ???:???\n",
      "\n"
     ]
    }
   ],
   "source": [
    "%%bash\n",
    "cg_annotate --show=Ir,I1mr --threshold=10 cachegrind.out.5517"
   ]
  },
  {
   "cell_type": "markdown",
   "metadata": {},
   "source": [
    "* El algoritmo *gaxpy row oriented* puede escribirse de forma más compacta haciendo uso de la definición de producto punto estándar: $x^Ty$ para dos vectores columna $x$ y $y$. En el caso de una matriz $A$ se tiene:\n",
    "\n",
    "```\n",
    "for i=1:m\n",
    "    y[i]+=A[i,:]^T*x\n",
    "```\n",
    "\n",
    "y en Python:"
   ]
  },
  {
   "cell_type": "code",
   "execution_count": 76,
   "metadata": {},
   "outputs": [],
   "source": [
    "x = 2*np.ones(n)\n",
    "y = np.zeros(m)\n",
    "A=np.array([[1.2,1.2,1.2,1.2,1.2],[1,1,1,1,1]])"
   ]
  },
  {
   "cell_type": "code",
   "execution_count": 81,
   "metadata": {},
   "outputs": [],
   "source": [
    "for i in range(m):\n",
    "    y[i]+=A[i,:].dot(x)"
   ]
  },
  {
   "cell_type": "code",
   "execution_count": 82,
   "metadata": {},
   "outputs": [
    {
     "data": {
      "text/plain": [
       "array([12., 10.])"
      ]
     },
     "execution_count": 82,
     "metadata": {},
     "output_type": "execute_result"
    }
   ],
   "source": [
    "y"
   ]
  },
  {
   "cell_type": "markdown",
   "metadata": {},
   "source": [
    "en donde se utilizó la función [numpy.dot](https://docs.scipy.org/doc/numpy/reference/generated/numpy.dot.html) de *numpy*."
   ]
  },
  {
   "cell_type": "markdown",
   "metadata": {},
   "source": [
    "* "
   ]
  },
  {
   "cell_type": "markdown",
   "metadata": {},
   "source": [
    "**Referencias:**\n",
    "\n",
    "* E. Anderson, Z. Bai, C. Bischof, L. S. Blackford, J. Demmel, J. Dongarra, J. Du Croz,\n",
    "A. Greenbaum, S. Hammarling, A. Mckenney and D. Sorensen, LAPACK Users Guide, Society for Industrial and Applied Mathematics, Philadelphia, PA, third ed., 1999.\n",
    "\n",
    "* G. H. Golub, C. F. Van Loan, Matrix Computations, John Hopkins University\n",
    "Press, 2013.\n",
    "\n",
    "* [2.1.Un_poco_de_historia_y_generalidades](https://github.com/ITAM-DS/analisis-numerico-computo-cientifico/blob/master/temas/II.computo_paralelo/2.1.Un_poco_de_historia_y_generalidades.ipynb)"
   ]
  }
 ],
 "metadata": {
  "kernelspec": {
   "display_name": "Python 3",
   "language": "python",
   "name": "python3"
  },
  "language_info": {
   "codemirror_mode": {
    "name": "ipython",
    "version": 3
   },
   "file_extension": ".py",
   "mimetype": "text/x-python",
   "name": "python",
   "nbconvert_exporter": "python",
   "pygments_lexer": "ipython3",
   "version": "3.6.9"
  }
 },
 "nbformat": 4,
 "nbformat_minor": 4
}
