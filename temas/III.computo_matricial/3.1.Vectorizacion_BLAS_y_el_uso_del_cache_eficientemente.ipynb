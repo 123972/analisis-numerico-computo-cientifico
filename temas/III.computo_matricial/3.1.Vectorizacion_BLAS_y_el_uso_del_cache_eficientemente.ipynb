{
 "cells": [
  {
   "cell_type": "markdown",
   "metadata": {},
   "source": [
    "**Notas para contenedor de docker:**"
   ]
  },
  {
   "cell_type": "markdown",
   "metadata": {},
   "source": [
    "Comando de docker para ejecución de la nota de forma local:\n",
    "\n",
    "nota: cambiar `<ruta a mi directorio>` por la ruta de directorio que se desea mapear a `/datos` dentro del contenedor de docker.\n",
    "\n",
    "```\n",
    "sudo docker run --rm -v <ruta a mi directorio>:/datos --cap-add SYS_ADMIN --privileged --name jupyterlab-numerical -p 8888:8888 -d palmoreck/jupyterlab_numerical:1.1.0\n",
    "```\n",
    "\n",
    "password para jupyterlab: `qwerty`\n",
    "\n",
    "Detener el contenedor de docker:\n",
    "\n",
    "```\n",
    "docker stop jupyterlab_numerical\n",
    "```\n"
   ]
  },
  {
   "cell_type": "markdown",
   "metadata": {},
   "source": [
    "Documentación de la imagen de docker `palmoreck/jupyterlab_numerical:1.1.0` en [liga](https://github.com/palmoreck/dockerfiles/tree/master/jupyterlab/numerical)."
   ]
  },
  {
   "cell_type": "markdown",
   "metadata": {},
   "source": [
    "---"
   ]
  },
  {
   "cell_type": "markdown",
   "metadata": {},
   "source": [
    "Nota generada a partir de [liga](https://www.dropbox.com/s/fyqwiqasqaa3wlt/3.1.1.Multiplicacion_de_matrices_y_estructura_de_datos.pdf?dl=0), [liga2](https://www.dropbox.com/s/l4hq45rj860ql9f/3.1.2.Localidad_y_vectorizacion.Analisis_del_error_en_computos_matriciales_basicos.pdf?dl=0)"
   ]
  },
  {
   "cell_type": "markdown",
   "metadata": {},
   "source": [
    "# 3.1 El cómputo matricial y el álgebra lineal. Vectorización, BLAS y el uso del caché eficientemente."
   ]
  },
  {
   "cell_type": "markdown",
   "metadata": {},
   "source": [
    "El cómputo matricial está construído sobre una jerarquía de operaciones del álgebra lineal:\n",
    "\n",
    "* Productos punto involucran operaciones escalares de suma y multiplicación (nivel BLAS 1).\n",
    "\n",
    "* La multiplicación matriz-vector está hecha de productos punto (nivel BLAS 2).\n",
    "\n",
    "* La multiplicación matriz-matriz utiliza colecciones de productos matriz-vector (nivel BLAS 3).\n",
    "\n",
    "Las operaciones anteriores se describen en el álgebra lineal con la teoría de espacios vectoriales pero también es posible describirlas en una forma algorítmica. Ambas descripciones se complementan una a la otra.\n",
    "\n",
    "Manejaremos nombres que en el [Linear Algebra Package: LAPACK](http://www.netlib.org/lapack/explore-html/dir_fa94b7b114d387a7a8beb2e3e22bf78d.html) son utilizados para denotar algunas operaciones con escalares, vectores o matrices. Ver [ Reference-LAPACK / lapack](https://github.com/Reference-LAPACK/lapack) para su github."
   ]
  },
  {
   "cell_type": "markdown",
   "metadata": {},
   "source": [
    "## Operación del producto interno estándar o producto punto"
   ]
  },
  {
   "cell_type": "markdown",
   "metadata": {},
   "source": [
    "Consideramos $x,y \\in \\mathbb{R}^n$. El producto punto entre $x$ y $y$ es $c = x^Ty = \\displaystyle \\sum_{i=1}^n x_iy_i$. \n",
    "\n",
    "**Ejemplo y algoritmo del producto punto:**"
   ]
  },
  {
   "cell_type": "code",
   "execution_count": 2,
   "metadata": {},
   "outputs": [],
   "source": [
    "c=0\n",
    "n=5\n",
    "x=[-1]*n\n",
    "y=[1.5]*n\n",
    "\n",
    "for i in range(n):\n",
    "    c += x[i]*y[i]"
   ]
  },
  {
   "cell_type": "code",
   "execution_count": 3,
   "metadata": {},
   "outputs": [
    {
     "data": {
      "text/plain": [
       "-7.5"
      ]
     },
     "execution_count": 3,
     "metadata": {},
     "output_type": "execute_result"
    }
   ],
   "source": [
    "c"
   ]
  },
  {
   "cell_type": "markdown",
   "metadata": {},
   "source": [
    "**Obs:**\n",
    "\n",
    "* El producto punto de dos $n$-vectores involucran $n$ multiplicaciones y $n$ sumas para un total de $2n$ operaciones. Usamos la notación $\\mathcal{O}(\\cdot)$ para escribir que el producto punto es $\\mathcal{O}(n)$ y se lee \"de orden $n$ o proporcional a $n$\" para indicar que la **cantidad de trabajo** tiene un comportamiento **lineal** con la dimensión $n$. También tal cantidad de trabajo opera sobre una **cantidad lineal de datos**."
   ]
  },
  {
   "cell_type": "markdown",
   "metadata": {},
   "source": [
    "## Operación **saxpy**"
   ]
  },
  {
   "cell_type": "markdown",
   "metadata": {},
   "source": [
    "Consideramos $\\alpha \\in \\mathbb{R}, x,y \\in \\mathbb{R}^n$. El nombre lo recibe por *scalar alpha x plus y*. En LAPACK se escribe en forma *update*:\n",
    "\n",
    "$$y=\\alpha x + y \\therefore y_i = \\alpha x_i + y_i \\forall i=1,...,n$$"
   ]
  },
  {
   "cell_type": "markdown",
   "metadata": {},
   "source": [
    "**Obs:** \n",
    "\n",
    "* El símbolo $=$ no se utiliza como igualdad de expresiones sino como en computación para denotar asignación.\n",
    "\n",
    "* También encontramos en LAPACK `caxpy` o `daxpy` para el caso complejo y para números en doble precisión respectivamente.\n",
    "\n",
    "* Ésta operación realiza un trabajo de $\\mathcal{O}(n)$ sobre una cantidad de datos $\\mathcal{O}(n)$."
   ]
  },
  {
   "cell_type": "markdown",
   "metadata": {},
   "source": [
    "**Ejemplo y algoritmo de saxpy:**"
   ]
  },
  {
   "cell_type": "code",
   "execution_count": 4,
   "metadata": {},
   "outputs": [],
   "source": [
    "alpha=2\n",
    "n=5\n",
    "x=[-2]*n\n",
    "y=[0]*n\n",
    "\n",
    "for i in range(n):\n",
    "    y[i] += alpha*x[i]"
   ]
  },
  {
   "cell_type": "code",
   "execution_count": 5,
   "metadata": {},
   "outputs": [
    {
     "data": {
      "text/plain": [
       "[-4, -4, -4, -4, -4]"
      ]
     },
     "execution_count": 5,
     "metadata": {},
     "output_type": "execute_result"
    }
   ],
   "source": [
    "y"
   ]
  },
  {
   "cell_type": "markdown",
   "metadata": {},
   "source": [
    "o en una forma *update*:"
   ]
  },
  {
   "cell_type": "code",
   "execution_count": 6,
   "metadata": {},
   "outputs": [],
   "source": [
    "alpha=2\n",
    "n=5\n",
    "x=[-2]*n\n",
    "y=[3,4,-1,0,1]\n",
    "\n",
    "for i in range(n):\n",
    "    y[i] += alpha*x[i]"
   ]
  },
  {
   "cell_type": "code",
   "execution_count": 7,
   "metadata": {},
   "outputs": [
    {
     "data": {
      "text/plain": [
       "[-1, 0, -5, -4, -3]"
      ]
     },
     "execution_count": 7,
     "metadata": {},
     "output_type": "execute_result"
    }
   ],
   "source": [
    "y"
   ]
  },
  {
   "cell_type": "markdown",
   "metadata": {},
   "source": [
    "**Comentario:** La operación de producto punto y *saxpy* son algoritmos catalogados como de **nivel BLAS 1** (ver [BLAS: Basic Linear Algebra Subprograms](https://en.wikipedia.org/wiki/Basic_Linear_Algebra_Subprograms). Éstos algoritmos se caracterizan por involucrar una cantidad de trabajo lineal sobre una cantidad lineal de datos. Ver [level 1](http://www.netlib.org/blas/#_level_1) para más ejemplos."
   ]
  },
  {
   "cell_type": "markdown",
   "metadata": {},
   "source": [
    "## Multiplicación matriz-vector"
   ]
  },
  {
   "cell_type": "markdown",
   "metadata": {},
   "source": [
    "Consideramos $A \\in \\mathbb{R}^{m \\times n}, x \\in \\mathbb{R}^n, y \\in \\mathbb{R}^m$. La operación $y = y + Ax$ es una operación *generalizada* saxpy, por ello se denomina **gaxpy** pero en LAPACK podemos encontrar esta operación con nombres como [sgemv](http://www.netlib.org/lapack/explore-html/db/d58/sgemv_8f.html), [dgemv](http://www.netlib.org/lapack/explore-html/dc/da8/dgemv_8f.html), [cgemv](http://www.netlib.org/lapack/explore-html/d4/d8a/cgemv_8f.html) o [zgemv](http://www.netlib.org/lapack/explore-html/db/d40/zgemv_8f.html) para los casos de precisión simple, doble o números complejos respectivamente. Hay diferentes formas de visualizar y escribir el algoritmo de multiplicación matriz-vector. Por ejemplo para una matriz $A$ con entradas:\n"
   ]
  },
  {
   "cell_type": "code",
   "execution_count": 8,
   "metadata": {},
   "outputs": [],
   "source": [
    "m=2\n",
    "n=5\n",
    "A=[[1.2]*n if i%2==0 else [1]*n for i in range(m)]"
   ]
  },
  {
   "cell_type": "code",
   "execution_count": 9,
   "metadata": {},
   "outputs": [
    {
     "data": {
      "text/plain": [
       "[[1.2, 1.2, 1.2, 1.2, 1.2], [1, 1, 1, 1, 1]]"
      ]
     },
     "execution_count": 9,
     "metadata": {},
     "output_type": "execute_result"
    }
   ],
   "source": [
    "A"
   ]
  },
  {
   "cell_type": "code",
   "execution_count": 10,
   "metadata": {},
   "outputs": [
    {
     "data": {
      "text/plain": [
       "1.2"
      ]
     },
     "execution_count": 10,
     "metadata": {},
     "output_type": "execute_result"
    }
   ],
   "source": [
    "A[0][0]"
   ]
  },
  {
   "cell_type": "code",
   "execution_count": 11,
   "metadata": {},
   "outputs": [
    {
     "data": {
      "text/plain": [
       "1"
      ]
     },
     "execution_count": 11,
     "metadata": {},
     "output_type": "execute_result"
    }
   ],
   "source": [
    "A[1][n-1]"
   ]
  },
  {
   "cell_type": "markdown",
   "metadata": {},
   "source": [
    "se tiene:"
   ]
  },
  {
   "cell_type": "markdown",
   "metadata": {},
   "source": [
    "### Algoritmo gaxpy *row oriented*"
   ]
  },
  {
   "cell_type": "code",
   "execution_count": 12,
   "metadata": {},
   "outputs": [],
   "source": [
    "x=[2]*n\n",
    "y=[0]*m\n",
    "for i in range(m):\n",
    "    for j in range(n):\n",
    "        y[i]+=A[i][j]*x[j]\n"
   ]
  },
  {
   "cell_type": "code",
   "execution_count": 13,
   "metadata": {},
   "outputs": [
    {
     "data": {
      "text/plain": [
       "[12.0, 10]"
      ]
     },
     "execution_count": 13,
     "metadata": {},
     "output_type": "execute_result"
    }
   ],
   "source": [
    "y"
   ]
  },
  {
   "cell_type": "markdown",
   "metadata": {},
   "source": [
    "Si $y$ tiene valores distintos de $0$, se realiza un *update*:"
   ]
  },
  {
   "cell_type": "code",
   "execution_count": 14,
   "metadata": {},
   "outputs": [],
   "source": [
    "x=[2]*n\n",
    "y=[-1]*m\n",
    "for i in range(m):\n",
    "    for j in range(n):\n",
    "        y[i]+=A[i][j]*x[j]\n"
   ]
  },
  {
   "cell_type": "code",
   "execution_count": 15,
   "metadata": {},
   "outputs": [
    {
     "data": {
      "text/plain": [
       "[11.0, 9]"
      ]
     },
     "execution_count": 15,
     "metadata": {},
     "output_type": "execute_result"
    }
   ],
   "source": [
    "y"
   ]
  },
  {
   "cell_type": "markdown",
   "metadata": {},
   "source": [
    "**Comentarios:**\n",
    "\n",
    "* En la versión *row oriented* del algoritmo *gaxpy*, el **inner loop** realiza **productos punto** entre el $i$-ésimo renglón de $A$ y el vector $x$. Se realizan $m$ productos punto.\n",
    "\n",
    "* Obsérvese que el acceso a la matriz $A$ es por renglón."
   ]
  },
  {
   "cell_type": "markdown",
   "metadata": {},
   "source": [
    "También puede escribirse al algoritmo *gaxpy* en una forma orientada por columnas:"
   ]
  },
  {
   "cell_type": "markdown",
   "metadata": {},
   "source": [
    "### Algoritmo gaxpy *column oriented*"
   ]
  },
  {
   "cell_type": "markdown",
   "metadata": {},
   "source": [
    "Para este algoritmo visualizamos al producto matriz-vector como una combinación lineal de las columnas de $A$:\n",
    "\n",
    "$$Ax = \\displaystyle \\sum_{j=1}^n a_jx_j$$\n",
    "\n",
    "con $a_j$ la $j$-ésima columna de $A$.\n"
   ]
  },
  {
   "cell_type": "code",
   "execution_count": 16,
   "metadata": {},
   "outputs": [],
   "source": [
    "x=[2]*n\n",
    "y=[0]*m\n",
    "for j in range(n):\n",
    "    for i in range(m):\n",
    "        y[i]+=A[i][j]*x[j]"
   ]
  },
  {
   "cell_type": "code",
   "execution_count": 17,
   "metadata": {},
   "outputs": [
    {
     "data": {
      "text/plain": [
       "[12.0, 10]"
      ]
     },
     "execution_count": 17,
     "metadata": {},
     "output_type": "execute_result"
    }
   ],
   "source": [
    "y"
   ]
  },
  {
   "cell_type": "markdown",
   "metadata": {},
   "source": [
    "**Obs:**\n",
    "\n",
    "* El algoritmo de multiplicación matriz-vector (versión *row* o *column* oriented) involucra $\\mathcal{O}(mn)$ operaciones o una cantidad **cuadrática** de trabajo, que podemos entender como \"si duplicamos cada dimensión de $A$ entonces la cantidad de trabajo se incrementa por un factor de $4$\". Tal número de operaciones trabajan sobre una matriz o sobre una cantidad **cuadrática** de datos. A los algoritmos que realizan una cantidad cuadrática de trabajo sobre una cantidad cuadrática de datos se les cataloga de **nivel BLAS 2**. Ver [level 2](http://www.netlib.org/blas/#_level_2) para más ejemplos de algoritmos en el álgebra lineal en esta categoría.\n",
    "\n",
    "* La versión *column oriented* se puede analizar desde el punto de vista puramente algorítmico como un intercambio entre las líneas con los índices $i$ y $j$ de cada *loop* y un acceso a los datos de la matriz por columna. O bien, se puede analizar desde el álgebra lineal indicando que el vector $y$ está en el **espacio generado** por las columnas de $A$ y cuyas coordenadas están siendo dadas por las entradas del vector $x$:\n",
    "\n",
    "<img src=\"https://dl.dropboxusercontent.com/s/6a2b7rjs4a71sni/combinacion_lineal_columnas_A.png?dl=0\" heigth=\"700\" width=\"700\">\n",
    "\n",
    "Una ejemplo de visualización del espacio generado por las columnas de $A$, llamado **rango o imagen** de $A$, $Im(A)$, es el siguiente:\n",
    "\n",
    "<img src=\"https://dl.dropboxusercontent.com/s/zkbhzv9a2jiw11b/espacio_generado_columnas_de_A.png?dl=0\" heigth=\"400\" width=\"400\">\n",
    "\n",
    "En este dibujo los vectores $b, r(x) \\in \\mathbb{R}^3$ no están en $Im(A) \\subset \\mathbb{R}^3$ pero $Ax$ en azul sí.\n",
    "\n",
    "* Obsérvese que el **inner loop** de la versión *column oriented* en *gaxpy* es un **saxpy** en la que el escalar está dado por una entrada de $x$. Esto lo podemos realizar de forma explícita definiendo $A[:,j]$ a la $j$-ésima columna de $A$ por lo que $A = [A[:,1] | A[:,2] | \\dots | A[:,n]]$, entonces:\n",
    "\n",
    "```\n",
    "for j=1:n\n",
    "    y+=A[:,j] * x[j]\n",
    " \n",
    "```"
   ]
  },
  {
   "cell_type": "markdown",
   "metadata": {},
   "source": [
    "sin embargo como hemos visto, en Python con su implementación más común CPython, no es posible realizar tal indexado:"
   ]
  },
  {
   "cell_type": "code",
   "execution_count": 18,
   "metadata": {},
   "outputs": [
    {
     "ename": "TypeError",
     "evalue": "list indices must be integers or slices, not tuple",
     "output_type": "error",
     "traceback": [
      "\u001b[0;31m---------------------------------------------------------------------------\u001b[0m",
      "\u001b[0;31mTypeError\u001b[0m                                 Traceback (most recent call last)",
      "\u001b[0;32m<ipython-input-18-93f449af9194>\u001b[0m in \u001b[0;36m<module>\u001b[0;34m\u001b[0m\n\u001b[1;32m      2\u001b[0m \u001b[0my\u001b[0m\u001b[0;34m=\u001b[0m\u001b[0;34m[\u001b[0m\u001b[0;36m0\u001b[0m\u001b[0;34m]\u001b[0m\u001b[0;34m*\u001b[0m\u001b[0mm\u001b[0m\u001b[0;34m\u001b[0m\u001b[0;34m\u001b[0m\u001b[0m\n\u001b[1;32m      3\u001b[0m \u001b[0;32mfor\u001b[0m \u001b[0mj\u001b[0m \u001b[0;32min\u001b[0m \u001b[0mrange\u001b[0m\u001b[0;34m(\u001b[0m\u001b[0mn\u001b[0m\u001b[0;34m)\u001b[0m\u001b[0;34m:\u001b[0m\u001b[0;34m\u001b[0m\u001b[0;34m\u001b[0m\u001b[0m\n\u001b[0;32m----> 4\u001b[0;31m     \u001b[0my\u001b[0m\u001b[0;34m+=\u001b[0m\u001b[0mA\u001b[0m\u001b[0;34m[\u001b[0m\u001b[0;34m:\u001b[0m\u001b[0;34m,\u001b[0m\u001b[0mj\u001b[0m\u001b[0;34m]\u001b[0m\u001b[0;34m*\u001b[0m\u001b[0mx\u001b[0m\u001b[0;34m[\u001b[0m\u001b[0mj\u001b[0m\u001b[0;34m]\u001b[0m\u001b[0;34m\u001b[0m\u001b[0;34m\u001b[0m\u001b[0m\n\u001b[0m",
      "\u001b[0;31mTypeError\u001b[0m: list indices must be integers or slices, not tuple"
     ]
    }
   ],
   "source": [
    "x=[2]*n\n",
    "y=[0]*m\n",
    "for j in range(n):\n",
    "    y+=A[:,j]*x[j]"
   ]
  },
  {
   "cell_type": "markdown",
   "metadata": {},
   "source": [
    "a menos que incorporemos alguna paquetería que permita la **vectorización**. Un ejemplo es con [numpy](https://numpy.org/):"
   ]
  },
  {
   "cell_type": "code",
   "execution_count": 19,
   "metadata": {},
   "outputs": [],
   "source": [
    "import numpy as np"
   ]
  },
  {
   "cell_type": "code",
   "execution_count": 20,
   "metadata": {},
   "outputs": [],
   "source": [
    "x = 2*np.ones(n)\n",
    "y = np.zeros(m)"
   ]
  },
  {
   "cell_type": "code",
   "execution_count": 21,
   "metadata": {},
   "outputs": [
    {
     "data": {
      "text/plain": [
       "array([2., 2., 2., 2., 2.])"
      ]
     },
     "execution_count": 21,
     "metadata": {},
     "output_type": "execute_result"
    }
   ],
   "source": [
    "x"
   ]
  },
  {
   "cell_type": "code",
   "execution_count": 22,
   "metadata": {},
   "outputs": [
    {
     "data": {
      "text/plain": [
       "array([0., 0.])"
      ]
     },
     "execution_count": 22,
     "metadata": {},
     "output_type": "execute_result"
    }
   ],
   "source": [
    "y"
   ]
  },
  {
   "cell_type": "code",
   "execution_count": 23,
   "metadata": {},
   "outputs": [
    {
     "data": {
      "text/plain": [
       "[[1.2, 1.2, 1.2, 1.2, 1.2], [1, 1, 1, 1, 1]]"
      ]
     },
     "execution_count": 23,
     "metadata": {},
     "output_type": "execute_result"
    }
   ],
   "source": [
    "A"
   ]
  },
  {
   "cell_type": "code",
   "execution_count": 24,
   "metadata": {},
   "outputs": [],
   "source": [
    "A=np.array([[1.2,1.2,1.2,1.2,1.2],[1,1,1,1,1]])"
   ]
  },
  {
   "cell_type": "code",
   "execution_count": 25,
   "metadata": {},
   "outputs": [
    {
     "data": {
      "text/plain": [
       "array([[1.2, 1.2, 1.2, 1.2, 1.2],\n",
       "       [1. , 1. , 1. , 1. , 1. ]])"
      ]
     },
     "execution_count": 25,
     "metadata": {},
     "output_type": "execute_result"
    }
   ],
   "source": [
    "A"
   ]
  },
  {
   "cell_type": "code",
   "execution_count": 26,
   "metadata": {},
   "outputs": [],
   "source": [
    "for j in range(n):\n",
    "    y+=A[:,j]*x[j]"
   ]
  },
  {
   "cell_type": "code",
   "execution_count": 27,
   "metadata": {},
   "outputs": [
    {
     "data": {
      "text/plain": [
       "array([12., 10.])"
      ]
     },
     "execution_count": 27,
     "metadata": {},
     "output_type": "execute_result"
    }
   ],
   "source": [
    "y"
   ]
  },
  {
   "cell_type": "markdown",
   "metadata": {},
   "source": [
    "**Comentarios:**\n",
    "\n",
    "* La vectorización como se mencionó en [2.1.Un_poco_de_historia_y_generalidades](https://github.com/ITAM-DS/analisis-numerico-computo-cientifico/blob/master/temas/II.computo_paralelo/2.1.Un_poco_de_historia_y_generalidades.ipynb) es una herramienta para escribir programas de alto rendimiento pues incrementa el número de instrucciones por ciclo [IPC](https://en.wikipedia.org/wiki/Instructions_per_cycle) para procesadores que caen en la categoría Single Instruction Multiple Data (SIMD) de la taxonomía de Flynn (ver [liga](https://en.wikipedia.org/wiki/Flynn%27s_taxonomy)). Como ejemplo de tales procesadores están los procesadores vectoriales o en arreglo, ver [liga](https://en.wikipedia.org/wiki/Vector_processor).\n",
    "\n"
   ]
  },
  {
   "cell_type": "markdown",
   "metadata": {},
   "source": [
    "**Ejemplo:**"
   ]
  },
  {
   "cell_type": "markdown",
   "metadata": {},
   "source": [
    "En Unix existe la herramienta [perf](https://github.com/torvalds/linux/tree/master/tools/perf) que nos ayuda a ... otra guía útil es [liga](http://www.brendangregg.com/perf.html)"
   ]
  },
  {
   "cell_type": "code",
   "execution_count": 60,
   "metadata": {},
   "outputs": [
    {
     "name": "stdout",
     "output_type": "stream",
     "text": [
      "Writing norm_square.py\n"
     ]
    }
   ],
   "source": [
    "%%file norm_square.py\n",
    "n=10**5\n",
    "vector=list(range(n))\n",
    "norm=0\n",
    "for v in vector:\n",
    "    norm+=v*v"
   ]
  },
  {
   "cell_type": "code",
   "execution_count": 61,
   "metadata": {},
   "outputs": [
    {
     "name": "stderr",
     "output_type": "stream",
     "text": [
      "\n",
      " Performance counter stats for 'python3 norm_square.py' (20 runs):\n",
      "\n",
      "         112181115      cycles                                                        ( +-  0.34% )\n",
      "         213005624      instructions              #    1.90  insn per cycle           ( +-  0.41% )\n",
      "           1211284      cache-references                                              ( +-  0.16% )\n",
      "             76383      cache-misses              #    6.306 % of all cache refs      ( +-  1.22% )\n",
      "\n",
      "       0.031300940 seconds time elapsed                                          ( +-  0.77% )\n",
      "\n"
     ]
    }
   ],
   "source": [
    "%%bash\n",
    "sudo perf stat -e cycles,instructions,cache-references,cache-misses -r 20 python3 norm_square.py"
   ]
  },
  {
   "cell_type": "markdown",
   "metadata": {},
   "source": [
    "**Obs:**\n",
    "\n",
    "* Se repiten las mediciones con la *flag* `-r`.\n",
    "\n",
    "* Se observa el número de instructiones y el número de ciclos y se reporta el IPC."
   ]
  },
  {
   "cell_type": "markdown",
   "metadata": {},
   "source": [
    "También podemos obtener las estadísticas por core:"
   ]
  },
  {
   "cell_type": "code",
   "execution_count": 62,
   "metadata": {},
   "outputs": [
    {
     "name": "stderr",
     "output_type": "stream",
     "text": [
      "\n",
      " Performance counter stats for 'system wide' (20 runs):\n",
      "\n",
      "S0-C0           2             656026      cycles                                                      \n",
      "S0-C0           2             221722      instructions              #    0.34  insn per cycle         \n",
      "S0-C0           2               6574      cache-references                                            \n",
      "S0-C0           2               4940      cache-misses              #   75.145 % of all cache refs    \n",
      "S0-C1           2          114043413      cycles                                                      \n",
      "S0-C1           2          221086840      instructions              #    1.94  insn per cycle         \n",
      "S0-C1           2            1225916      cache-references                                            \n",
      "S0-C1           2              80844      cache-misses              #    6.595 % of all cache refs    \n",
      "S0-C2           2             471073      cycles                                                      \n",
      "S0-C2           2             153192      instructions              #    0.33  insn per cycle         \n",
      "S0-C2           2               7315      cache-references                                            \n",
      "S0-C2           2               3567      cache-misses              #   48.763 % of all cache refs    \n",
      "S0-C3           2            1162567      cycles                                                      \n",
      "S0-C3           2             319325      instructions              #    0.27  insn per cycle         \n",
      "S0-C3           2              10486      cache-references                                            \n",
      "S0-C3           2               5825      cache-misses              #   55.550 % of all cache refs    \n",
      "\n",
      "       0.031242610 seconds time elapsed                                          ( +-  0.75% )\n",
      "\n"
     ]
    }
   ],
   "source": [
    "%%bash\n",
    "sudo perf stat -a --per-core -e cycles,instructions,cache-references,cache-misses -r 20 python3 norm_square.py"
   ]
  },
  {
   "cell_type": "code",
   "execution_count": 97,
   "metadata": {},
   "outputs": [
    {
     "name": "stderr",
     "output_type": "stream",
     "text": [
      "\n",
      " Performance counter stats for 'python3 norm_square.py' (20 runs):\n",
      "\n",
      "         30.996686      task-clock (msec)         #    0.994 CPUs utilized            ( +-  1.03% )\n",
      "                 0      context-switches          #    0.005 K/sec                    ( +- 54.61% )\n",
      "                 0      cpu-migrations            #    0.000 K/sec                  \n",
      "              2075      page-faults               #    0.067 M/sec                    ( +-  0.02% )\n",
      "         112080137      cycles                    #    3.616 GHz                      ( +-  0.41% )\n",
      "         215514891      instructions              #    1.92  insn per cycle           ( +-  0.84% )\n",
      "          45368537      branches                  # 1463.658 M/sec                    ( +-  0.97% )\n",
      "            671485      branch-misses             #    1.48% of all branches          ( +-  0.44% )\n",
      "\n",
      "       0.031193583 seconds time elapsed                                          ( +-  1.03% )\n",
      "\n"
     ]
    }
   ],
   "source": [
    "%%bash\n",
    "sudo perf stat -r 20 python3 norm_square.py"
   ]
  },
  {
   "cell_type": "code",
   "execution_count": 101,
   "metadata": {},
   "outputs": [
    {
     "name": "stderr",
     "output_type": "stream",
     "text": [
      "\n",
      " Performance counter stats for 'system wide' (20 runs):\n",
      "\n",
      "S0-C0           2          58.798485      cpu-clock (msec)          #    1.895 CPUs utilized          \n",
      "S0-C0           2                  3      context-switches          #    0.051 K/sec                  \n",
      "S0-C0           2                  0      cpu-migrations            #    0.000 K/sec                  \n",
      "S0-C0           2               2074      page-faults               #    0.035 M/sec                  \n",
      "S0-C0           2          110675585      cycles                    #    1.882 GHz                    \n",
      "S0-C0           2          210018815      instructions              #    1.90  insn per cycle         \n",
      "S0-C0           2           44016437      branches                  #  748.598 M/sec                  \n",
      "S0-C0           2             668391      branch-misses             #    1.52% of all branches        \n",
      "S0-C1           2          58.854613      cpu-clock (msec)          #    1.896 CPUs utilized          \n",
      "S0-C1           2                 14      context-switches          #    0.238 K/sec                  \n",
      "S0-C1           2                  1      cpu-migrations            #    0.017 K/sec                  \n",
      "S0-C1           2                  0      page-faults               #    0.000 K/sec                  \n",
      "S0-C1           2            1300579      cycles                    #    0.022 GHz                    \n",
      "S0-C1           2             422856      instructions              #    0.33  insn per cycle         \n",
      "S0-C1           2              86209      branches                  #    1.465 M/sec                  \n",
      "S0-C1           2               2925      branch-misses             #    3.39% of all branches        \n",
      "S0-C2           2          58.855987      cpu-clock (msec)          #    1.896 CPUs utilized          \n",
      "S0-C2           2                  0      context-switches          #    0.000 K/sec                  \n",
      "S0-C2           2                  0      cpu-migrations            #    0.000 K/sec                  \n",
      "S0-C2           2                  0      page-faults               #    0.000 K/sec                  \n",
      "S0-C2           2             221420      cycles                    #    0.004 GHz                    \n",
      "S0-C2           2              51822      instructions              #    0.23  insn per cycle         \n",
      "S0-C2           2              10244      branches                  #    0.174 M/sec                  \n",
      "S0-C2           2                234      branch-misses             #    2.28% of all branches        \n",
      "S0-C3           2          58.856428      cpu-clock (msec)          #    1.896 CPUs utilized          \n",
      "S0-C3           2                  2      context-switches          #    0.034 K/sec                  \n",
      "S0-C3           2                  0      cpu-migrations            #    0.000 K/sec                  \n",
      "S0-C3           2                  0      page-faults               #    0.000 K/sec                  \n",
      "S0-C3           2            1428069      cycles                    #    0.024 GHz                    \n",
      "S0-C3           2             412548      instructions              #    0.29  insn per cycle         \n",
      "S0-C3           2              87125      branches                  #    1.480 M/sec                  \n",
      "S0-C3           2               1304      branch-misses             #    1.50% of all branches        \n",
      "\n",
      "       0.031034590 seconds time elapsed                                          ( +-  0.86% )\n",
      "\n"
     ]
    }
   ],
   "source": [
    "%%bash\n",
    "sudo perf stat -a --per-core -r 20 python3 norm_square.py"
   ]
  },
  {
   "cell_type": "markdown",
   "metadata": {},
   "source": [
    "Utilizando numpy:"
   ]
  },
  {
   "cell_type": "code",
   "execution_count": 91,
   "metadata": {},
   "outputs": [
    {
     "name": "stdout",
     "output_type": "stream",
     "text": [
      "Overwriting norm_square_numpy.py\n"
     ]
    }
   ],
   "source": [
    "%%file norm_square_numpy.py\n",
    "import numpy as np\n",
    "n=10**5\n",
    "vector=np.arange(n)\n",
    "vector@vector"
   ]
  },
  {
   "cell_type": "code",
   "execution_count": 92,
   "metadata": {},
   "outputs": [
    {
     "name": "stderr",
     "output_type": "stream",
     "text": [
      "\n",
      " Performance counter stats for 'python3 norm_square_numpy.py' (20 runs):\n",
      "\n",
      "        2506788309      cycles                                                        ( +-  0.30% )\n",
      "        1287968310      instructions              #    0.51  insn per cycle           ( +-  0.19% )\n",
      "           7584990      cache-references                                              ( +-  0.51% )\n",
      "            418690      cache-misses              #    5.520 % of all cache refs      ( +-  1.66% )\n",
      "\n",
      "       0.140431634 seconds time elapsed                                          ( +-  0.44% )\n",
      "\n"
     ]
    }
   ],
   "source": [
    "%%bash\n",
    "sudo perf stat -e cycles,instructions,cache-references,cache-misses -r 20 python3 norm_square_numpy.py"
   ]
  },
  {
   "cell_type": "code",
   "execution_count": 93,
   "metadata": {},
   "outputs": [
    {
     "name": "stderr",
     "output_type": "stream",
     "text": [
      "\n",
      " Performance counter stats for 'system wide' (20 runs):\n",
      "\n",
      "S0-C0           2          569083396      cycles                                                      \n",
      "S0-C0           2          221162194      instructions              #    0.39  insn per cycle         \n",
      "S0-C0           2              41375      cache-references                                            \n",
      "S0-C0           2              10728      cache-misses              #   25.929 % of all cache refs    \n",
      "S0-C1           2          818648862      cycles                                                      \n",
      "S0-C1           2          622617258      instructions              #    0.76  insn per cycle         \n",
      "S0-C1           2            7603960      cache-references                                            \n",
      "S0-C1           2             394100      cache-misses              #    5.183 % of all cache refs    \n",
      "S0-C2           2          570103322      cycles                                                      \n",
      "S0-C2           2          221156722      instructions              #    0.39  insn per cycle         \n",
      "S0-C2           2              55589      cache-references                                            \n",
      "S0-C2           2              15642      cache-misses              #   28.139 % of all cache refs    \n",
      "S0-C3           2          568443210      cycles                                                      \n",
      "S0-C3           2          221749639      instructions              #    0.39  insn per cycle         \n",
      "S0-C3           2              30153      cache-references                                            \n",
      "S0-C3           2               5293      cache-misses              #   17.554 % of all cache refs    \n",
      "\n",
      "       0.139620929 seconds time elapsed                                          ( +-  0.17% )\n",
      "\n"
     ]
    }
   ],
   "source": [
    "%%bash\n",
    "sudo perf stat -a --per-core -e cycles,instructions,cache-references,cache-misses -r 20 python3 norm_square_numpy.py"
   ]
  },
  {
   "cell_type": "code",
   "execution_count": 98,
   "metadata": {},
   "outputs": [
    {
     "name": "stderr",
     "output_type": "stream",
     "text": [
      "\n",
      " Performance counter stats for 'python3 norm_square_numpy.py' (20 runs):\n",
      "\n",
      "        659.040707      task-clock (msec)         #    4.659 CPUs utilized            ( +-  0.49% )\n",
      "              3690      context-switches          #    0.006 M/sec                    ( +- 71.45% )\n",
      "                 1      cpu-migrations            #    0.002 K/sec                    ( +- 15.02% )\n",
      "              4753      page-faults               #    0.007 M/sec                    ( +-  0.04% )\n",
      "        2506584507      cycles                    #    3.803 GHz                      ( +-  0.48% )\n",
      "        1289772392      instructions              #    0.51  insn per cycle           ( +-  0.09% )\n",
      "         257070416      branches                  #  390.068 M/sec                    ( +-  0.12% )\n",
      "           6516911      branch-misses             #    2.54% of all branches          ( +-  0.10% )\n",
      "\n",
      "       0.141442430 seconds time elapsed                                          ( +-  0.29% )\n",
      "\n"
     ]
    }
   ],
   "source": [
    "%%bash\n",
    "sudo perf stat -r 20 python3 norm_square_numpy.py"
   ]
  },
  {
   "cell_type": "code",
   "execution_count": 100,
   "metadata": {},
   "outputs": [
    {
     "name": "stderr",
     "output_type": "stream",
     "text": [
      "\n",
      " Performance counter stats for 'system wide' (20 runs):\n",
      "\n",
      "S0-C0           2         276.867110      cpu-clock (msec)          #    1.967 CPUs utilized          \n",
      "S0-C0           2                 16      context-switches          #    0.058 K/sec                  \n",
      "S0-C0           2                  1      cpu-migrations            #    0.004 K/sec                  \n",
      "S0-C0           2                  4      page-faults               #    0.014 K/sec                  \n",
      "S0-C0           2          568674514      cycles                    #    2.054 GHz                    \n",
      "S0-C0           2          221738525      instructions              #    0.39  insn per cycle         \n",
      "S0-C0           2           41527823      branches                  #  149.992 M/sec                  \n",
      "S0-C0           2             755939      branch-misses             #    1.82% of all branches        \n",
      "S0-C1           2         276.885651      cpu-clock (msec)          #    1.967 CPUs utilized          \n",
      "S0-C1           2                 28      context-switches          #    0.101 K/sec                  \n",
      "S0-C1           2                  2      cpu-migrations            #    0.007 K/sec                  \n",
      "S0-C1           2                  1      page-faults               #    0.004 K/sec                  \n",
      "S0-C1           2          581199997      cycles                    #    2.099 GHz                    \n",
      "S0-C1           2          226446354      instructions              #    0.39  insn per cycle         \n",
      "S0-C1           2           42446127      branches                  #  153.298 M/sec                  \n",
      "S0-C1           2             764411      branch-misses             #    1.80% of all branches        \n",
      "S0-C2           2         276.886147      cpu-clock (msec)          #    1.967 CPUs utilized          \n",
      "S0-C2           2                 34      context-switches          #    0.123 K/sec                  \n",
      "S0-C2           2                  3      cpu-migrations            #    0.011 K/sec                  \n",
      "S0-C2           2                  2      page-faults               #    0.007 K/sec                  \n",
      "S0-C2           2          569942553      cycles                    #    2.058 GHz                    \n",
      "S0-C2           2          222513403      instructions              #    0.39  insn per cycle         \n",
      "S0-C2           2           41818854      branches                  #  151.033 M/sec                  \n",
      "S0-C2           2             765964      branch-misses             #    1.83% of all branches        \n",
      "S0-C3           2         276.887025      cpu-clock (msec)          #    1.967 CPUs utilized          \n",
      "S0-C3           2                 32      context-switches          #    0.116 K/sec                  \n",
      "S0-C3           2                  4      cpu-migrations            #    0.014 K/sec                  \n",
      "S0-C3           2               4755      page-faults               #    0.017 M/sec                  \n",
      "S0-C3           2          819574614      cycles                    #    2.960 GHz                    \n",
      "S0-C3           2          623372086      instructions              #    0.76  insn per cycle         \n",
      "S0-C3           2          131460287      branches                  #  474.780 M/sec                  \n",
      "S0-C3           2            4231406      branch-misses             #    3.22% of all branches        \n",
      "\n",
      "       0.140757123 seconds time elapsed                                          ( +-  0.23% )\n",
      "\n"
     ]
    }
   ],
   "source": [
    "%%bash\n",
    "sudo perf stat -a --per-core -r 20 python3 norm_square_numpy.py"
   ]
  },
  {
   "cell_type": "markdown",
   "metadata": {},
   "source": [
    "Para el caso del producto *gaxpy column oriented*"
   ]
  },
  {
   "cell_type": "code",
   "execution_count": 241,
   "metadata": {},
   "outputs": [],
   "source": [
    "np.random.seed(2020)\n",
    "m=10**3\n",
    "n=10**4\n",
    "A=np.random.rand(m,n)\n",
    "file='A.txt'\n",
    "np.savetxt(file,A)"
   ]
  },
  {
   "cell_type": "code",
   "execution_count": 255,
   "metadata": {},
   "outputs": [
    {
     "name": "stdout",
     "output_type": "stream",
     "text": [
      "Overwriting mult_matrix_vector.py\n"
     ]
    }
   ],
   "source": [
    "%%file mult_matrix_vector.py\n",
    "m=10**3\n",
    "n=10**4\n",
    "x=[2]*n\n",
    "y=[0]*m\n",
    "A = []\n",
    "file='A.txt'\n",
    "with open(file,'r') as f:\n",
    "    for l in f:\n",
    "        A.append([float(k) for k in l.replace('\\n','').replace(' ',',').split(',')])      \n",
    "for j in range(n):\n",
    "    for i in range(m):\n",
    "        y[i]+=A[i][j]*x[j]"
   ]
  },
  {
   "cell_type": "code",
   "execution_count": 243,
   "metadata": {},
   "outputs": [
    {
     "name": "stdout",
     "output_type": "stream",
     "text": [
      "Overwriting mult_matrix_vector_numpy.py\n"
     ]
    }
   ],
   "source": [
    "%%file mult_matrix_vector_numpy.py\n",
    "import numpy as np\n",
    "m=10**3\n",
    "n=10**4\n",
    "x = 2*np.ones(n)\n",
    "y = np.zeros(m)\n",
    "file='A.txt'\n",
    "A = np.loadtxt(file)\n",
    "for j in np.arange(n):\n",
    "    y+=A[:,j]*x[j]"
   ]
  },
  {
   "cell_type": "code",
   "execution_count": 256,
   "metadata": {},
   "outputs": [
    {
     "name": "stderr",
     "output_type": "stream",
     "text": [
      "\n",
      " Performance counter stats for 'python3 mult_matrix_vector.py' (5 runs):\n",
      "\n",
      "       24447699995      cycles                                                        ( +-  0.66% )\n",
      "       60499712413      instructions              #    2.47  insn per cycle           ( +-  0.76% )\n",
      "          92005195      cache-references                                              ( +-  0.31% )\n",
      "          10602296      cache-misses              #   11.524 % of all cache refs      ( +-  0.16% )\n",
      "\n",
      "       6.136940697 seconds time elapsed                                          ( +-  0.68% )\n",
      "\n"
     ]
    }
   ],
   "source": [
    "%%bash\n",
    "sudo perf stat -e cycles,instructions,cache-references,cache-misses -r 5 python3 mult_matrix_vector.py"
   ]
  },
  {
   "cell_type": "code",
   "execution_count": 257,
   "metadata": {},
   "outputs": [
    {
     "name": "stderr",
     "output_type": "stream",
     "text": [
      "\n",
      " Performance counter stats for 'system wide' (5 runs):\n",
      "\n",
      "S0-C0           2           24097137      cycles                                                      \n",
      "S0-C0           2            3670739      instructions              #    0.15  insn per cycle         \n",
      "S0-C0           2             359628      cache-references                                            \n",
      "S0-C0           2             180474      cache-misses              #   50.184 % of all cache refs    \n",
      "S0-C1           2          148923456      cycles                                                      \n",
      "S0-C1           2           99920603      instructions              #    0.67  insn per cycle         \n",
      "S0-C1           2            1040108      cache-references                                            \n",
      "S0-C1           2             566167      cache-misses              #   54.433 % of all cache refs    \n",
      "S0-C2           2        25320104931      cycles                                                      \n",
      "S0-C2           2        63555354216      instructions              #    2.51  insn per cycle         \n",
      "S0-C2           2           92192538      cache-references                                            \n",
      "S0-C2           2           10689319      cache-misses              #   11.595 % of all cache refs    \n",
      "S0-C3           2           77724136      cycles                                                      \n",
      "S0-C3           2           61563622      instructions              #    0.79  insn per cycle         \n",
      "S0-C3           2            1189413      cache-references                                            \n",
      "S0-C3           2             374734      cache-misses              #   31.506 % of all cache refs    \n",
      "\n",
      "       6.224721607 seconds time elapsed                                          ( +-  0.95% )\n",
      "\n"
     ]
    }
   ],
   "source": [
    "%%bash\n",
    "sudo perf stat -a --per-core -e cycles,instructions,cache-references,cache-misses -r 5 python3 mult_matrix_vector.py"
   ]
  },
  {
   "cell_type": "code",
   "execution_count": 246,
   "metadata": {},
   "outputs": [
    {
     "name": "stderr",
     "output_type": "stream",
     "text": [
      "\n",
      " Performance counter stats for 'python3 mult_matrix_vector_numpy.py' (5 runs):\n",
      "\n",
      "       26226110128      cycles                                                        ( +-  0.26% )\n",
      "       61338384935      instructions              #    2.34  insn per cycle           ( +-  0.31% )\n",
      "          61590832      cache-references                                              ( +-  0.19% )\n",
      "           8303525      cache-misses              #   13.482 % of all cache refs      ( +-  1.00% )\n",
      "\n",
      "       6.077492905 seconds time elapsed                                          ( +-  0.28% )\n",
      "\n"
     ]
    }
   ],
   "source": [
    "%%bash\n",
    "sudo perf stat -e cycles,instructions,cache-references,cache-misses -r 5 python3 mult_matrix_vector_numpy.py"
   ]
  },
  {
   "cell_type": "code",
   "execution_count": 248,
   "metadata": {},
   "outputs": [
    {
     "name": "stderr",
     "output_type": "stream",
     "text": [
      "\n",
      " Performance counter stats for 'system wide' (5 runs):\n",
      "\n",
      "S0-C0           2          704131375      cycles                                                      \n",
      "S0-C0           2          321146309      instructions              #    0.46  insn per cycle         \n",
      "S0-C0           2             890166      cache-references                                            \n",
      "S0-C0           2             517658      cache-misses              #   58.153 % of all cache refs    \n",
      "S0-C1           2          837185551      cycles                                                      \n",
      "S0-C1           2          283408858      instructions              #    0.34  insn per cycle         \n",
      "S0-C1           2             511169      cache-references                                            \n",
      "S0-C1           2             263779      cache-misses              #   51.603 % of all cache refs    \n",
      "S0-C2           2          660961714      cycles                                                      \n",
      "S0-C2           2          241634323      instructions              #    0.37  insn per cycle         \n",
      "S0-C2           2             585284      cache-references                                            \n",
      "S0-C2           2             176984      cache-misses              #   30.239 % of all cache refs    \n",
      "S0-C3           2        24616679542      cycles                                                      \n",
      "S0-C3           2        60382351147      instructions              #    2.45  insn per cycle         \n",
      "S0-C3           2           62417529      cache-references                                            \n",
      "S0-C3           2            8414908      cache-misses              #   13.482 % of all cache refs    \n",
      "\n",
      "       6.079430975 seconds time elapsed                                          ( +-  0.14% )\n",
      "\n"
     ]
    }
   ],
   "source": [
    "%%bash\n",
    "sudo perf stat -a --per-core -e cycles,instructions,cache-references,cache-misses -r 5 python3 mult_matrix_vector_numpy.py"
   ]
  },
  {
   "cell_type": "markdown",
   "metadata": {},
   "source": [
    "* El algoritmo *gaxpy row oriented* puede escribirse de forma más compacta haciendo uso de la definición de producto punto estándar: $x^Ty$ para dos vectores columna $x$ y $y$. En el caso de una matriz $A$ se tiene:\n",
    "\n",
    "```\n",
    "for i=1:m\n",
    "    y[i]+=A[i,:]^T*x\n",
    "```\n",
    "\n",
    "y en Python:"
   ]
  },
  {
   "cell_type": "code",
   "execution_count": 76,
   "metadata": {},
   "outputs": [],
   "source": [
    "x = 2*np.ones(n)\n",
    "y = np.zeros(m)\n",
    "A=np.array([[1.2,1.2,1.2,1.2,1.2],[1,1,1,1,1]])"
   ]
  },
  {
   "cell_type": "code",
   "execution_count": 81,
   "metadata": {},
   "outputs": [],
   "source": [
    "for i in range(m):\n",
    "    y[i]+=A[i,:].dot(x)"
   ]
  },
  {
   "cell_type": "code",
   "execution_count": 82,
   "metadata": {},
   "outputs": [
    {
     "data": {
      "text/plain": [
       "array([12., 10.])"
      ]
     },
     "execution_count": 82,
     "metadata": {},
     "output_type": "execute_result"
    }
   ],
   "source": [
    "y"
   ]
  },
  {
   "cell_type": "markdown",
   "metadata": {},
   "source": [
    "en donde se utilizó la función [numpy.dot](https://docs.scipy.org/doc/numpy/reference/generated/numpy.dot.html) de *numpy*."
   ]
  },
  {
   "cell_type": "markdown",
   "metadata": {},
   "source": [
    "* "
   ]
  },
  {
   "cell_type": "markdown",
   "metadata": {},
   "source": [
    "Matriz matriz"
   ]
  },
  {
   "cell_type": "code",
   "execution_count": 282,
   "metadata": {},
   "outputs": [],
   "source": [
    "np.random.seed(2020)\n",
    "m=10**2\n",
    "r=10**3\n",
    "\n",
    "A=np.random.rand(m,r)\n",
    "fileA='A.txt'\n",
    "np.savetxt(fileA,A)"
   ]
  },
  {
   "cell_type": "code",
   "execution_count": 283,
   "metadata": {},
   "outputs": [],
   "source": [
    "np.random.seed(2021)\n",
    "r=10**3\n",
    "n=10**2\n",
    "\n",
    "B=np.random.rand(r,n)\n",
    "fileB='B.txt'\n",
    "np.savetxt(fileB,B)"
   ]
  },
  {
   "cell_type": "code",
   "execution_count": 284,
   "metadata": {},
   "outputs": [
    {
     "name": "stdout",
     "output_type": "stream",
     "text": [
      "Overwriting mult_matrix_matrix.py\n"
     ]
    }
   ],
   "source": [
    "%%file mult_matrix_matrix.py\n",
    "m=10**2\n",
    "r=10**3\n",
    "n=10**2\n",
    "\n",
    "A = []\n",
    "B = []\n",
    "fileA='A.txt'\n",
    "fileB='B.txt'\n",
    "\n",
    "with open(fileA,'r') as f:\n",
    "    for l in f:\n",
    "        A.append([float(k) for k in l.replace('\\n','').replace(' ',',').split(',')]) \n",
    "        \n",
    "with open(fileB,'r') as f:\n",
    "    for l in f:\n",
    "        B.append([float(k) for k in l.replace('\\n','').replace(' ',',').split(',')])  \n",
    "\n",
    "C=[[0]*n for i in range(m)]\n",
    "\n",
    "for i in range(m):\n",
    "    for j in range(n):\n",
    "        for k in range(r):\n",
    "            C[i][j]+=A[i][k]*B[k][j]\n"
   ]
  },
  {
   "cell_type": "code",
   "execution_count": 301,
   "metadata": {},
   "outputs": [
    {
     "name": "stdout",
     "output_type": "stream",
     "text": [
      "Overwriting mult_matrix_matrix_numpy.py\n"
     ]
    }
   ],
   "source": [
    "%%file mult_matrix_matrix_numpy.py\n",
    "import numpy as np\n",
    "m=10**2\n",
    "r=10**3\n",
    "n=10**2\n",
    "\n",
    "fileA='A.txt'\n",
    "fileB='B.txt'\n",
    "A = np.loadtxt(fileA)\n",
    "B = np.loadtxt(fileB)\n",
    "C = A@B"
   ]
  },
  {
   "cell_type": "code",
   "execution_count": 302,
   "metadata": {},
   "outputs": [
    {
     "name": "stderr",
     "output_type": "stream",
     "text": [
      "\n",
      " Performance counter stats for 'system wide' (5 runs):\n",
      "\n",
      "S0-C0           2         8700209007      cycles                                                        (49.90%)\n",
      "S0-C0           2        23022311113      instructions              #    2.65  insn per cycle           (49.72%)\n",
      "S0-C0           2           39143700      cache-references                                              (49.62%)\n",
      "S0-C0           2            4888264      cache-misses              #   12.488 % of all cache refs      (49.62%)\n",
      "S0-C1           2          138757902      cycles                                                        (49.90%)\n",
      "S0-C1           2           58136635      instructions              #    0.42  insn per cycle           (49.72%)\n",
      "S0-C1           2            2801700      cache-references                                              (49.62%)\n",
      "S0-C1           2             758476      cache-misses              #   27.072 % of all cache refs      (49.62%)\n",
      "S0-C2           2         8613646213      cycles                                                        (49.90%)\n",
      "S0-C2           2        16370109744      instructions              #    1.90  insn per cycle           (49.72%)\n",
      "S0-C2           2           39421010      cache-references                                              (49.62%)\n",
      "S0-C2           2           18434287      cache-misses              #   46.763 % of all cache refs      (49.62%)\n",
      "S0-C3           2         8610910291      cycles                                                        (49.90%)\n",
      "S0-C3           2        14538949076      instructions              #    1.69  insn per cycle           (49.72%)\n",
      "S0-C3           2           34553449      cache-references                                              (49.62%)\n",
      "S0-C3           2           20068930      cache-misses              #   58.081 % of all cache refs      (49.62%)\n",
      "\n",
      "       2.226067805 seconds time elapsed                                          ( +-  1.00% )\n",
      "\n"
     ]
    }
   ],
   "source": [
    "%%bash\n",
    "sudo perf stat  -a --per-core -e cycles,instructions,cache-references,cache-misses -r 5 python3 mult_matrix_matrix.py"
   ]
  },
  {
   "cell_type": "code",
   "execution_count": 308,
   "metadata": {},
   "outputs": [
    {
     "name": "stderr",
     "output_type": "stream",
     "text": [
      "\n",
      " Performance counter stats for 'system wide' (5 runs):\n",
      "\n",
      "       26042847565      cycles                                                        ( +-  1.21% )  (50.05%)\n",
      "       54311252425      instructions              #    2.09  insn per cycle           ( +-  0.74% )  (49.93%)\n",
      "         116077909      cache-references                                              ( +-  0.72% )  (49.83%)\n",
      "          44564342      cache-misses              #   38.392 % of all cache refs      ( +-  2.07% )  (49.71%)\n",
      "\n",
      "       2.215476995 seconds time elapsed                                          ( +-  1.11% )\n",
      "\n"
     ]
    }
   ],
   "source": [
    "%%bash\n",
    "sudo perf stat -a -e cycles,instructions,cache-references,cache-misses -r 5 python3 mult_matrix_matrix.py"
   ]
  },
  {
   "cell_type": "code",
   "execution_count": 309,
   "metadata": {},
   "outputs": [
    {
     "name": "stderr",
     "output_type": "stream",
     "text": [
      "\n",
      " Performance counter stats for 'system wide' (5 runs):\n",
      "\n",
      "        4795799420      cycles                                                        ( +-  1.54% )  (50.44%)\n",
      "        5686535426      instructions              #    1.19  insn per cycle           ( +-  2.80% )  (49.59%)\n",
      "          17280949      cache-references                                              ( +-  1.34% )  (48.89%)\n",
      "           5576638      cache-misses              #   32.270 % of all cache refs      ( +-  3.00% )  (48.17%)\n",
      "\n",
      "       0.287860114 seconds time elapsed                                          ( +-  2.30% )\n",
      "\n"
     ]
    }
   ],
   "source": [
    "%%bash\n",
    "sudo perf stat -a -e cycles,instructions,cache-references,cache-misses -r 5 python3 mult_matrix_matrix_numpy.py"
   ]
  },
  {
   "cell_type": "code",
   "execution_count": 303,
   "metadata": {},
   "outputs": [
    {
     "name": "stderr",
     "output_type": "stream",
     "text": [
      "\n",
      " Performance counter stats for 'system wide' (5 runs):\n",
      "\n",
      "S0-C0           2         1398564453      cycles                                                        (49.96%)\n",
      "S0-C0           2         1903511582      instructions              #    1.36  insn per cycle           (48.68%)\n",
      "S0-C0           2            6476427      cache-references                                              (47.38%)\n",
      "S0-C0           2             661864      cache-misses              #   10.220 % of all cache refs      (47.22%)\n",
      "S0-C1           2          848956640      cycles                                                        (49.98%)\n",
      "S0-C1           2          471382739      instructions              #    0.56  insn per cycle           (48.68%)\n",
      "S0-C1           2            2761621      cache-references                                              (47.39%)\n",
      "S0-C1           2             310476      cache-misses              #   11.243 % of all cache refs      (47.21%)\n",
      "S0-C2           2         1435944253      cycles                                                        (49.97%)\n",
      "S0-C2           2         2049081452      instructions              #    1.43  insn per cycle           (48.69%)\n",
      "S0-C2           2            4603982      cache-references                                              (47.40%)\n",
      "S0-C2           2            2245055      cache-misses              #   48.763 % of all cache refs      (47.23%)\n",
      "S0-C3           2         1434292477      cycles                                                        (49.97%)\n",
      "S0-C3           2         1715218406      instructions              #    1.20  insn per cycle           (48.69%)\n",
      "S0-C3           2            3731606      cache-references                                              (47.40%)\n",
      "S0-C3           2            2779771      cache-misses              #   74.493 % of all cache refs      (47.23%)\n",
      "\n",
      "       0.298406936 seconds time elapsed                                          ( +-  1.61% )\n",
      "\n"
     ]
    }
   ],
   "source": [
    "%%bash\n",
    "sudo perf stat -a --per-core -e cycles,instructions,cache-references,cache-misses -r 5 python3 mult_matrix_matrix_numpy.py"
   ]
  },
  {
   "cell_type": "code",
   "execution_count": 304,
   "metadata": {},
   "outputs": [
    {
     "name": "stdout",
     "output_type": "stream",
     "text": [
      "Overwriting mult_matrix_matrix_numpy_dot_product.py\n"
     ]
    }
   ],
   "source": [
    "%%file mult_matrix_matrix_numpy_dot_product.py\n",
    "import numpy as np\n",
    "m=10**2\n",
    "r=10**3\n",
    "n=10**2\n",
    "\n",
    "fileA='A.txt'\n",
    "fileB='B.txt'\n",
    "A = np.loadtxt(fileA)\n",
    "B = np.loadtxt(fileB)\n",
    "C = np.zeros((m,n))\n",
    "for i in np.arange(m):\n",
    "        for j in np.arange(n):\n",
    "                C[i][j]+= A[i,:].dot(B[:,j])"
   ]
  },
  {
   "cell_type": "code",
   "execution_count": 307,
   "metadata": {},
   "outputs": [
    {
     "name": "stderr",
     "output_type": "stream",
     "text": [
      "\n",
      " Performance counter stats for 'system wide' (5 runs):\n",
      "\n",
      "        4814719842      cycles                                                        ( +-  0.43% )  (49.52%)\n",
      "        5906198829      instructions              #    1.23  insn per cycle           ( +-  0.36% )  (48.46%)\n",
      "          18627898      cache-references                                              ( +-  1.11% )  (47.98%)\n",
      "           5888760      cache-misses              #   31.613 % of all cache refs      ( +-  0.45% )  (47.80%)\n",
      "\n",
      "       0.301519329 seconds time elapsed                                          ( +-  0.81% )\n",
      "\n"
     ]
    }
   ],
   "source": [
    "%%bash\n",
    "sudo perf stat -a -e cycles,instructions,cache-references,cache-misses -r 5 python3 mult_matrix_matrix_numpy_dot_product.py"
   ]
  },
  {
   "cell_type": "code",
   "execution_count": 305,
   "metadata": {},
   "outputs": [
    {
     "name": "stderr",
     "output_type": "stream",
     "text": [
      "\n",
      " Performance counter stats for 'system wide' (5 runs):\n",
      "\n",
      "S0-C0           2         1486360022      cycles                                                        (50.78%)\n",
      "S0-C0           2         2026044472      instructions              #    1.36  insn per cycle           (49.53%)\n",
      "S0-C0           2            9884274      cache-references                                              (48.27%)\n",
      "S0-C0           2             927317      cache-misses              #    9.382 % of all cache refs      (47.02%)\n",
      "S0-C1           2          569145121      cycles                                                        (50.77%)\n",
      "S0-C1           2          249699694      instructions              #    0.44  insn per cycle           (49.52%)\n",
      "S0-C1           2             314017      cache-references                                              (48.27%)\n",
      "S0-C1           2             129114      cache-misses              #   41.117 % of all cache refs      (47.01%)\n",
      "S0-C2           2         1502391734      cycles                                                        (50.79%)\n",
      "S0-C2           2         2171510519      instructions              #    1.45  insn per cycle           (49.53%)\n",
      "S0-C2           2            5033189      cache-references                                              (48.28%)\n",
      "S0-C2           2            2061116      cache-misses              #   40.950 % of all cache refs      (47.02%)\n",
      "S0-C3           2         1485271098      cycles                                                        (50.79%)\n",
      "S0-C3           2         1793613450      instructions              #    1.21  insn per cycle           (49.53%)\n",
      "S0-C3           2            3900568      cache-references                                              (48.28%)\n",
      "S0-C3           2            2959542      cache-misses              #   75.875 % of all cache refs      (47.02%)\n",
      "\n",
      "       0.314597663 seconds time elapsed                                          ( +-  1.56% )\n",
      "\n"
     ]
    }
   ],
   "source": [
    "%%bash\n",
    "sudo perf stat -a --per-core -e cycles,instructions,cache-references,cache-misses -r 5 python3 mult_matrix_matrix_numpy_dot_product.py"
   ]
  },
  {
   "cell_type": "markdown",
   "metadata": {},
   "source": [
    "**Referencias:**\n",
    "\n",
    "* E. Anderson, Z. Bai, C. Bischof, L. S. Blackford, J. Demmel, J. Dongarra, J. Du Croz,\n",
    "A. Greenbaum, S. Hammarling, A. Mckenney and D. Sorensen, LAPACK Users Guide, Society for Industrial and Applied Mathematics, Philadelphia, PA, third ed., 1999.\n",
    "\n",
    "* G. H. Golub, C. F. Van Loan, Matrix Computations, John Hopkins University\n",
    "Press, 2013.\n",
    "\n",
    "* [2.1.Un_poco_de_historia_y_generalidades](https://github.com/ITAM-DS/analisis-numerico-computo-cientifico/blob/master/temas/II.computo_paralelo/2.1.Un_poco_de_historia_y_generalidades.ipynb)"
   ]
  },
  {
   "cell_type": "code",
   "execution_count": null,
   "metadata": {},
   "outputs": [],
   "source": []
  }
 ],
 "metadata": {
  "kernelspec": {
   "display_name": "Python 3",
   "language": "python",
   "name": "python3"
  },
  "language_info": {
   "codemirror_mode": {
    "name": "ipython",
    "version": 3
   },
   "file_extension": ".py",
   "mimetype": "text/x-python",
   "name": "python",
   "nbconvert_exporter": "python",
   "pygments_lexer": "ipython3",
   "version": "3.6.9"
  }
 },
 "nbformat": 4,
 "nbformat_minor": 4
}
