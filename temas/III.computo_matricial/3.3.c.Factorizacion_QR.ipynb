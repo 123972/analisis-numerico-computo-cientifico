{
 "cells": [
  {
   "cell_type": "markdown",
   "metadata": {},
   "source": [
    "Nota basada en [liga](https://www.dropbox.com/s/s4ch0ww1687pl76/3.2.2.Factorizaciones_matriciales_SVD_Cholesky_QR.pdf?dl=0)"
   ]
  },
  {
   "cell_type": "markdown",
   "metadata": {},
   "source": [
    "# Factorización QR"
   ]
  },
  {
   "cell_type": "markdown",
   "metadata": {},
   "source": [
    "Si $A \\in \\mathbb{R}^{m \\times n}$ con $m >= n$ entonces existen $Q \\in \\mathbb{R}^{m \\times m}$ **ortogonal** y $R \\in \\mathbb{R}^{m \\times n}$ triangular superior tales que $A=QR$:"
   ]
  },
  {
   "cell_type": "markdown",
   "metadata": {},
   "source": [
    "<img src=\"https://dl.dropboxusercontent.com/s/hhd15p8r1wh6ac9/A_QR.png?dl=0\" heigth=\"350\" width=\"350\">\n"
   ]
  },
  {
   "cell_type": "markdown",
   "metadata": {},
   "source": [
    "**Comentario:** la factorización $QR$ puede escribirse en una forma \"delgada\" obteniéndose la factorización *thin QR*:\n",
    "\n",
    "<img src=\"https://dl.dropboxusercontent.com/s/u0u365q5372xihl/A_thin_QR.png?dl=0\" heigth=\"300\" width=\"300\">\n",
    "\n",
    "En este caso $Q_1$ no se llama ortogonal sino con **columnas ortonormales**, $R_1$ es triangular superior con entradas en la diagonal positivas. Si el *rank(A)* es igual a $n$ (matriz $A$ se nombra de rango completo), la factorización *thin QR* es única."
   ]
  },
  {
   "cell_type": "markdown",
   "metadata": {},
   "source": [
    "## ¿Ortogonal, columnas ortonormales?"
   ]
  },
  {
   "cell_type": "markdown",
   "metadata": {},
   "source": [
    "Un conjunto de vectores $\\{x_1, \\dots, x_p\\}$ en $\\mathbb{R}^m$ ($x_i \\in \\mathbb{R}^m$)es ortogonal si $x_i^Tx_j=0$ $\\forall i\\neq j$. Por ejemplo, para un conjunto de $2$ vectores $x_1,x_2$ en $\\mathbb{R}^3$ esto se visualiza:\n",
    "\n",
    "<img src=\"https://dl.dropboxusercontent.com/s/cekagqnxe0grvu4/vectores_ortogonales.png?dl=0\" heigth=\"550\" width=\"550\">\n"
   ]
  },
  {
   "cell_type": "markdown",
   "metadata": {},
   "source": [
    "**Comentarios:**\n",
    "\n",
    "* Si el conjunto $\\{x_1,\\dots,x_p\\}$ en $\\mathbb{R}^m$ satisface $x_i^Tx_j= \\delta_{ij}= \\begin{cases}\n",
    "1 &\\text{ si } i=j,\\\\\n",
    "0 &\\text{ si } i\\neq j\n",
    "\\end{cases}$ se le nombra conjunto **ortonormal**, esto es, constituye un conjunto ortogonal y cada elemento del conjunto tiene norma Euclidiana igual a $1$: $||x_i||_2 = 1, \\forall i=1,\\dots,p$.\n",
    "\n",
    "* Si definimos a la matriz $X$ con columnas dadas por cada uno de los vectores del conjunto $\\{x_1,\\dots, x_p\\}$: $X=(x_1, \\dots , x_p) \\in \\mathbb{R}^{m \\times p}$ entonces la propiedad de que cada par de columnas satisfaga $x_i^Tx_j=\\delta_{ij}$ se puede escribir en notación matricial como $X^TX = I_p$ con $I_p$ la matriz identidad de tamaño $p$ o bien $XX^T=I_m$. A la matriz $X$ se le nombra **matriz con columnas ortonormales**.\n",
    "\n",
    "* Si cada $x_i$ está en $\\mathbb{R}^p$ (en lugar de $\\mathbb{R}^m$) entonces construímos a la matriz $X$ como el punto anterior con la diferencia que $X \\in \\mathbb{R}^{p \\times p}$. En este caso $X$ se le nombra **matriz ortogonal**."
   ]
  },
  {
   "cell_type": "markdown",
   "metadata": {},
   "source": [
    "**Referencias:**\n",
    "\n",
    "*  G. H. Golub, C. F. Van Loan, Matrix Computations, John Hopkins University Press, 2013.\n",
    "\n",
    "* Ver [0_definiciones_generales](https://github.com/ITAM-DS/Propedeutico/blob/master/Python/clases/3_algebra_lineal/0_definiciones_generales.ipynb) para algunas definiciones del álgebra lineal como ortogonalidad, matriz de reflexión de Householder y matrices de rotación."
   ]
  }
 ],
 "metadata": {
  "kernelspec": {
   "display_name": "Python 3",
   "language": "python",
   "name": "python3"
  },
  "language_info": {
   "codemirror_mode": {
    "name": "ipython",
    "version": 3
   },
   "file_extension": ".py",
   "mimetype": "text/x-python",
   "name": "python",
   "nbconvert_exporter": "python",
   "pygments_lexer": "ipython3",
   "version": "3.6.9"
  }
 },
 "nbformat": 4,
 "nbformat_minor": 4
}
