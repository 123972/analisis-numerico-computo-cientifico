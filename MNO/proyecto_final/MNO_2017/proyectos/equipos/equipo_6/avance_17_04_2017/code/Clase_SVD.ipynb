{
 "cells": [
  {
   "cell_type": "markdown",
   "metadata": {},
   "source": [
    "# SVD"
   ]
  },
  {
   "cell_type": "markdown",
   "metadata": {},
   "source": [
    "SVD para validar resultados con CUDA Toolkit E.1."
   ]
  },
  {
   "cell_type": "markdown",
   "metadata": {},
   "source": [
    "Equipo_6 \n",
    "\n",
    "Integrantes:\n",
    "\n",
    "* Ricardo Lastra\n",
    "\n",
    "* Adrián Vázquez"
   ]
  },
  {
   "cell_type": "code",
   "execution_count": 5,
   "metadata": {
    "collapsed": false
   },
   "outputs": [],
   "source": [
    "import numpy as np"
   ]
  },
  {
   "cell_type": "code",
   "execution_count": 6,
   "metadata": {
    "collapsed": false
   },
   "outputs": [
    {
     "name": "stdout",
     "output_type": "stream",
     "text": [
      "[[1 2 1]\n",
      " [4 5 3]\n",
      " [2 1 4]]\n"
     ]
    }
   ],
   "source": [
    "mat = np.array([[1,2,1], [4,5,3], [2,1,4]])\n",
    "print(mat)"
   ]
  },
  {
   "cell_type": "code",
   "execution_count": 7,
   "metadata": {
    "collapsed": true
   },
   "outputs": [],
   "source": [
    "[U, Sigma, Vt] = np.linalg.svd(mat) # En realidad no necesitamos los brackets, se puede \"U, Sigma, Vt = numpy.linalg.svd(mat)\""
   ]
  },
  {
   "cell_type": "code",
   "execution_count": 8,
   "metadata": {
    "collapsed": false
   },
   "outputs": [
    {
     "name": "stdout",
     "output_type": "stream",
     "text": [
      "U:\n",
      "[[-0.28138021  0.21481929  0.93524213]\n",
      " [-0.83493576  0.42557458 -0.34895351]\n",
      " [-0.47297723 -0.87905571  0.05961205]]\n",
      "Sigma:\n",
      "[ 8.36009713  2.63473436  0.40859623]\n",
      "Vt:\n",
      "[[-0.54629481 -0.62324831 -0.55957441]\n",
      " [ 0.06034999  0.63704934 -0.7684569 ]\n",
      " [-0.83541598  0.45357433  0.31040372]]\n"
     ]
    }
   ],
   "source": [
    "print(\"U:\")\n",
    "print(U)\n",
    "print(\"Sigma:\")\n",
    "print(Sigma)\n",
    "print(\"Vt:\")\n",
    "print(Vt)"
   ]
  },
  {
   "cell_type": "markdown",
   "metadata": {},
   "source": [
    "El problema con lo anterior es que $\\Sigma$ no está en forma de matriz, por lo que podemos cambiar una instrucción en la función de la siguiente manera:"
   ]
  },
  {
   "cell_type": "code",
   "execution_count": 9,
   "metadata": {
    "collapsed": false
   },
   "outputs": [
    {
     "name": "stdout",
     "output_type": "stream",
     "text": [
      "[[ 8.36009713  0.          0.        ]\n",
      " [ 0.          2.63473436  0.        ]\n",
      " [ 0.          0.          0.40859623]]\n"
     ]
    }
   ],
   "source": [
    "S = np.zeros(mat.shape, \"float\")\n",
    "S[:min(mat.shape), :min(mat.shape)] = np.diag(Sigma)\n",
    "print(S)"
   ]
  },
  {
   "cell_type": "code",
   "execution_count": 10,
   "metadata": {
    "collapsed": false
   },
   "outputs": [
    {
     "data": {
      "text/plain": [
       "array([[ 1.,  2.,  1.],\n",
       "       [ 4.,  5.,  3.],\n",
       "       [ 2.,  1.,  4.]])"
      ]
     },
     "execution_count": 10,
     "metadata": {},
     "output_type": "execute_result"
    }
   ],
   "source": [
    "np.dot(U, numpy.dot(S, Vt)) #se usa Vt"
   ]
  },
  {
   "cell_type": "code",
   "execution_count": 11,
   "metadata": {
    "collapsed": false
   },
   "outputs": [
    {
     "data": {
      "text/plain": [
       "array([[1, 2, 1],\n",
       "       [4, 5, 3],\n",
       "       [2, 1, 4]])"
      ]
     },
     "execution_count": 11,
     "metadata": {},
     "output_type": "execute_result"
    }
   ],
   "source": [
    "mat"
   ]
  }
 ],
 "metadata": {
  "kernelspec": {
   "display_name": "Python 3",
   "language": "python",
   "name": "python3"
  },
  "language_info": {
   "codemirror_mode": {
    "name": "ipython",
    "version": 3
   },
   "file_extension": ".py",
   "mimetype": "text/x-python",
   "name": "python",
   "nbconvert_exporter": "python",
   "pygments_lexer": "ipython3",
   "version": "3.5.1"
  }
 },
 "nbformat": 4,
 "nbformat_minor": 0
}
