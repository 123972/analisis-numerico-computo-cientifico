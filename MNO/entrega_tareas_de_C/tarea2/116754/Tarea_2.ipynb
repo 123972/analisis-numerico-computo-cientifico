{
 "cells": [
  {
   "cell_type": "markdown",
   "metadata": {},
   "source": [
    "<div class=\"alert alert-success\" role=\"alert\">\n",
    " <h1>Tarea 2</h1>\n",
    " <h2>Métodos numéricos y optimización</h2>\n",
    " <h2>Maestría en Ciencias de Datos, ITAM </h2>\n",
    " <h3>Ollin Demian Langle Chimal</h3>\n",
    " <p>Fecha de entrega: Lunes 13 de Febrero de 2017.</p>\n",
    " </div>"
   ]
  },
  {
   "cell_type": "markdown",
   "metadata": {},
   "source": [
    "<div class=\"alert alert-info\" role=\"alert\">\n",
    "<p class =\"lead\"> \n",
    "<h1>1) Investiga qué quieren decir las letras ```EOF```. ¿Por qué se debe definir c como ```int```? </h1>\n",
    "</div>"
   ]
  },
  {
   "cell_type": "markdown",
   "metadata": {},
   "source": [
    "EOF es un acrónimo para *End Of File*, y es una macro (regla que especifica cómo una secuencia de entrada es mapeada a una de salida de acuerdo a un procedimiento dado) definida en la librería principal de C que tiene el valor entero **-1**, es decir, está definida como un entero de valor negativo. Esto es así porque las funciones de lectura de archivos regresan dicho valor al llegar al final del mismo.\n",
    "Debemos tener en cuenta la siguiente tabla:\n",
    "\n",
    "| Tipo | Tamaño (bytes) |\n",
    "|------|----------------|\n",
    "| char |       1        |\n",
    "| int  |       4        | \n",
    "\n",
    "Es decir, un ```int``` contiene más información que un ```char``` por lo que aunque a la variable *c* le demos un valor del tipo ```char``` para poder hacer la comparación lógica y que se le pueda pasar la función ```putchar()``` al igual que ```getchar()``` que también están definidas como ```int``` se tiene que hacer una promoción a entero. Esto puede sucede implícitamente aunque definiéramos a c como ```char``` pero si ingresáramos un ```int``` o algún otro tipo de variable, primero lo guardaría como ```char``` y al  hacer una conversión a ```int``` para poder llevar a acabo la función ```putchar()``` perdería información. Es por esta razón que lo debemos definir como un entero."
   ]
  },
  {
   "cell_type": "markdown",
   "metadata": {},
   "source": [
    "<div class=\"alert alert-info\" role=\"alert\">\n",
    "<p class =\"lead\"> \n",
    "<h1>2) Modifica ```main``` para que sólo se llame una vez a la función ```getchar()``` </h1>\n",
    "</div>"
   ]
  },
  {
   "cell_type": "markdown",
   "metadata": {},
   "source": [
    "```{C}\n",
    "#include <stdio.h>\n",
    "int main(void){\n",
    "  int c;\n",
    "  while(c != EOF){\n",
    "    c = getchar();\n",
    "    putchar(c);\n",
    "  }\n",
    "}\n",
    "```"
   ]
  },
  {
   "cell_type": "markdown",
   "metadata": {},
   "source": [
    "Debido a que no se le da un valor inicial a la variable **c** entonces tiene un valor indefinido que no es igual a ```EOF``` por esta razón comienza el bucle de la misma manera que lo haría normalmente. Dado que como se mencionó anteriormente el valor *por default* de la variable es nulo, sería posible poner primero la instrucción de ```putchar()``` y después la de ```c = getchar()``` porque imprimiría un nulo que es no imprimir nada y luego leería el *stdin* pero estrictamente esta práctica sería incorrecta porque la secuencia en la que queremos que se ejecuten los comando es que primero lea la entrada y luego la imprima, por lo que si lo hiciéramos al revés se estaría imprimiendo la entrada del bucle anterior."
   ]
  },
  {
   "cell_type": "markdown",
   "metadata": {},
   "source": [
    "<div class=\"alert alert-info\" role=\"alert\">\n",
    "<p class =\"lead\"> \n",
    "<h1>3) Utiliza ```getchar``` para escribir un programa que cuente el número de caracteres dado un ```stdin``` e imprima este número. Al dar enter (salto de línea) el programa termina.\n",
    "</h1>\n",
    "</div>"
   ]
  },
  {
   "cell_type": "markdown",
   "metadata": {},
   "source": [
    " Por ejemplo:\n",
    "```{bash}\n",
    "$echo -e \"hola\\n\" | ./ejecutable.out\n",
    "```\n",
    "entonces el programa imprime ```4```"
   ]
  },
  {
   "cell_type": "markdown",
   "metadata": {},
   "source": [
    "Para lograr esa tarea basta con entender el funcionamiento de la función ```getchar()```, que va a revisar los caracteres que escribamos uno a uno, entonces podemos utilizar un contador para que cada vez que lo haga vaya sumando unidades hasta terminar la línea (es decir, que haya un salto de línea o ```\\n```).\n"
   ]
  },
  {
   "cell_type": "markdown",
   "metadata": {},
   "source": [
    "```{C}\n",
    "#include <stdio.h>\n",
    "int main(void){\n",
    "  int c;\n",
    "  int i = 0;\n",
    "  while((c = getchar()) != '\\n') i++;\n",
    "  printf(\"%d\\n\",i);\n",
    "}\n",
    "```"
   ]
  },
  {
   "cell_type": "code",
   "execution_count": 1,
   "metadata": {
    "collapsed": false
   },
   "outputs": [
    {
     "name": "stdout",
     "output_type": "stream",
     "text": [
      "4\n"
     ]
    }
   ],
   "source": [
    "echo -e \"hola\\n\" | ./inciso_3.out"
   ]
  },
  {
   "cell_type": "markdown",
   "metadata": {},
   "source": [
    "<div class=\"alert alert-info\" role=\"alert\">\n",
    "<p class =\"lead\"> \n",
    "<h1>4) Modifica el programa de 3) para que cuente el númer de líneas dado un archivo de ```stdin```:\n",
    "</h1>\n",
    "</div>"
   ]
  },
  {
   "cell_type": "markdown",
   "metadata": {},
   "source": [
    "Esto requiere una simple modificación al script anterior, pues ahora sólo vamos a terminar de leer el archivo si encontramos el valor *EOF* y vamos a sumar al contador en el caso de que encuentre un salto de línea. Debemos de empezar el contador en uno porque usualmente la última línea no lleva salto de línea."
   ]
  },
  {
   "cell_type": "markdown",
   "metadata": {},
   "source": [
    "```{C}\n",
    "#include <stdio.h>\n",
    "int main(void){\n",
    "  int c;\n",
    "  int i = 1;\n",
    "  while((c = getchar()) != EOF){\n",
    "    if(c == '\\n') i++;\n",
    "  }\n",
    "  printf(\"%d\\n\",i);\n",
    "}\n",
    "```"
   ]
  },
  {
   "cell_type": "markdown",
   "metadata": {},
   "source": [
    "Usemos como ejemplo el siguiente archivo que contiene un haiku."
   ]
  },
  {
   "cell_type": "code",
   "execution_count": 2,
   "metadata": {
    "collapsed": false
   },
   "outputs": [
    {
     "name": "stdout",
     "output_type": "stream",
     "text": [
      "La mariposa revolotea\n",
      "como si desesperara\n",
      "en este mundo"
     ]
    }
   ],
   "source": [
    "cat haiku.txt"
   ]
  },
  {
   "cell_type": "code",
   "execution_count": 3,
   "metadata": {
    "collapsed": false
   },
   "outputs": [
    {
     "name": "stdout",
     "output_type": "stream",
     "text": [
      "3\n"
     ]
    }
   ],
   "source": [
    "./inciso_4.out < haiku.txt"
   ]
  }
 ],
 "metadata": {
  "anaconda-cloud": {},
  "kernelspec": {
   "display_name": "Bash",
   "language": "bash",
   "name": "bash"
  },
  "language_info": {
   "codemirror_mode": "shell",
   "file_extension": ".sh",
   "mimetype": "text/x-sh",
   "name": "bash"
  }
 },
 "nbformat": 4,
 "nbformat_minor": 1
}
