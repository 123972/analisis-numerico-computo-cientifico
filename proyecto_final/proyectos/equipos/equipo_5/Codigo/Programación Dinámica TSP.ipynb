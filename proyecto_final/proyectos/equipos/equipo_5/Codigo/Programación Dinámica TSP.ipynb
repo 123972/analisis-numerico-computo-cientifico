{
 "cells": [
  {
   "cell_type": "code",
   "execution_count": 1,
   "metadata": {},
   "outputs": [
    {
     "name": "stdout",
     "output_type": "stream",
     "text": [
      "Using matplotlib backend: Qt5Agg\n"
     ]
    }
   ],
   "source": [
    "import numpy as np\n",
    "import itertools \n",
    "import matplotlib.pyplot as plt\n",
    "#from numba import jit\n",
    "%matplotlib"
   ]
  },
  {
   "cell_type": "code",
   "execution_count": 11,
   "metadata": {},
   "outputs": [],
   "source": [
    "inicio=[81, 387]\n",
    "x2=[347, 59]\n",
    "x3=[81, 318]\n",
    "x4=[425, 40]\n",
    "x5=[456, 300]\n",
    "x6=[194, 11]\n",
    "x7=[162, 89]\n",
    "x8=[250, 200]\n",
    "\n",
    "ciudades=[inicio,x2,x3,x4,x5,x6,x7,x8,inicio]"
   ]
  },
  {
   "cell_type": "code",
   "execution_count": 3,
   "metadata": {},
   "outputs": [],
   "source": [
    "def getDistance(ciudad1, ciudad2):  #Calcula la distancia entre 2 puntos\n",
    "    distance = np.sqrt(((ciudad1[0]-ciudad2[0])**2)+((ciudad1[1]-ciudad2[1])**2))\n",
    "    return(distance)\n",
    "\n",
    "def matrizDistancias(ciudades):\n",
    "    n=len(ciudades)\n",
    "    mat=[[getDistance(ciudades[i],ciudades[j]) for i in range(n)]for j in range(n)]\n",
    "    return mat\n",
    "\n",
    "def graficaRuta(ciudades,ruta):\n",
    "    xs = [ciudades[x-1][0] for x in ruta]\n",
    "    ys = [ciudades[x-1][1] for x in ruta]\n",
    "    plt.plot(xs, ys)\n",
    "    plt.scatter(xs, ys)\n",
    "    plt.show()\n",
    "    print(ruta)\n"
   ]
  },
  {
   "cell_type": "markdown",
   "metadata": {},
   "source": [
    "La función travel se tomó de https://github.com/DavidVelez/TSP"
   ]
  },
  {
   "cell_type": "code",
   "execution_count": 4,
   "metadata": {},
   "outputs": [],
   "source": [
    "def travel(w):  \n",
    "\n",
    "    n = len(w) \n",
    "#valor inicial de 0 a todos los demas puntos\n",
    "\n",
    "    A = {(frozenset([0, i+1]), i+1): (costo, [0, i+1]) for i, costo in enumerate(w[0][1:])}\n",
    "\n",
    "\n",
    "    for m in range(2, n):\n",
    "        B = {}\n",
    "#en esta etapa se usa la recurisividad, ademas se utilizan el modulo 'combinations' que permite realizar\n",
    "#agrupaciones y comparaciones de datos.         \n",
    "        for S in [frozenset(C) | {0} for C in itertools.combinations(range(1, n), m)]:\n",
    "            for j in S - {0}:\n",
    "#se busca la ruta menos costosa para el viaje, es decir se buscan los valores minimos. \n",
    "                B[(S, j)] =min((A[(S-{j},k)][0] + w[k][j], A[(S-{j},k)][1] + [j]) for k in S if k != 0 and k!=j) \n",
    "        A = B\n",
    "        #Ahora se agregan camino inicial y camino final\n",
    "    res = min([(A[d][0] + w[0][d[1]], A[d][1]) for d in iter(A)])\n",
    "#Encontrado el valor minimo se tiene la solucion optima.\n",
    "\n",
    "    Resultado = res[0], [(i+1) for i in  res[1] ] \n",
    "#con el ordenamiento de costos, se tiene solo que mostrar cual es la ruta a seguir en el viaje, es decir\n",
    "#se posicionan las ciudades en relacion con sus costos.\n",
    "\n",
    "    return Resultado \n",
    "\n"
   ]
  },
  {
   "cell_type": "code",
   "execution_count": 20,
   "metadata": {},
   "outputs": [],
   "source": [
    "mat=matrizDistancias(ciudades)\n",
    "costo, recorrido = travel(mat)"
   ]
  },
  {
   "cell_type": "code",
   "execution_count": 14,
   "metadata": {},
   "outputs": [],
   "source": []
  },
  {
   "cell_type": "code",
   "execution_count": 22,
   "metadata": {},
   "outputs": [
    {
     "data": {
      "text/plain": [
       "1379.7279419628046"
      ]
     },
     "execution_count": 22,
     "metadata": {},
     "output_type": "execute_result"
    }
   ],
   "source": [
    "costo"
   ]
  },
  {
   "cell_type": "code",
   "execution_count": 21,
   "metadata": {},
   "outputs": [
    {
     "data": {
      "image/png": "[encoded data removed]",
      "text/plain": [
       "<Figure size 432x288 with 1 Axes>"
      ]
     },
     "metadata": {
      "needs_background": "light"
     },
     "output_type": "display_data"
    },
    {
     "name": "stdout",
     "output_type": "stream",
     "text": [
      "[1, 3, 7, 6, 2, 4, 5, 8, 9]\n"
     ]
    }
   ],
   "source": [
    "graficaRuta(ciudades,recorrido)"
   ]
  },
  {
   "cell_type": "code",
   "execution_count": null,
   "metadata": {},
   "outputs": [],
   "source": []
  }
 ],
 "metadata": {
  "kernelspec": {
   "display_name": "Python 3",
   "language": "python",
   "name": "python3"
  },
  "language_info": {
   "codemirror_mode": {
    "name": "ipython",
    "version": 3
   },
   "file_extension": ".py",
   "mimetype": "text/x-python",
   "name": "python",
   "nbconvert_exporter": "python",
   "pygments_lexer": "ipython3",
   "version": "3.7.1"
  }
 },
 "nbformat": 4,
 "nbformat_minor": 2
}
