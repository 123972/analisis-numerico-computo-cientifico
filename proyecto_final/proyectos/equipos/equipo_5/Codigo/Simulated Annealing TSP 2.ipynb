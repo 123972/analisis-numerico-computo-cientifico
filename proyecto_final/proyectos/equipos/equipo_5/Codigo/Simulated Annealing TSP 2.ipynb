{
 "cells": [
  {
   "cell_type": "markdown",
   "metadata": {},
   "source": [
    "# Simulated Annealing para resolver el Traveling Salesman Problem\n",
    "## Métodos Numéricos y Optimización\n"
   ]
  },
  {
   "cell_type": "markdown",
   "metadata": {},
   "source": [
    "El algoritmo se Simulated Annealing da una solución a la búsqueda de óptimos globales. Pertenece a los métodos Gradient Free ya que no requiere conocer la derivada del problema a optimizar. \n"
   ]
  },
  {
   "cell_type": "code",
   "execution_count": 1,
   "metadata": {},
   "outputs": [
    {
     "name": "stdout",
     "output_type": "stream",
     "text": [
      "Using matplotlib backend: Qt5Agg\n"
     ]
    }
   ],
   "source": [
    "import numpy as np\n",
    "import matplotlib.pyplot as plt\n",
    "from numba import jit\n",
    "%matplotlib"
   ]
  },
  {
   "cell_type": "code",
   "execution_count": null,
   "metadata": {},
   "outputs": [],
   "source": []
  },
  {
   "cell_type": "code",
   "execution_count": 2,
   "metadata": {},
   "outputs": [],
   "source": [
    "inicio=[81, 387]\n",
    "x2=[347, 59]\n",
    "x3=[81, 318]\n",
    "x4=[425, 40]\n",
    "x5=[456, 300]\n",
    "x6=[194, 11]\n",
    "x7=[162, 89]\n",
    "x8=[250, 200]\n",
    "\n",
    "ciudades=[inicio,x2,x3,x4,x5,x6,x7,x8,inicio]"
   ]
  },
  {
   "cell_type": "code",
   "execution_count": 3,
   "metadata": {},
   "outputs": [],
   "source": [
    "@jit\n",
    "def graficaRuta(ruta):\n",
    "    xs = [x[0] for x in ruta]\n",
    "    ys = [x[1] for x in ruta]\n",
    "    plt.plot(xs, ys)\n",
    "    plt.scatter(xs, ys)\n",
    "    plt.show()\n",
    "    print(ruta)"
   ]
  },
  {
   "cell_type": "code",
   "execution_count": 4,
   "metadata": {},
   "outputs": [],
   "source": [
    "\n",
    "def configInicial(ciudades):\n",
    "    if inicio in ciudades:\n",
    "        ciudades.remove(inicio)\n",
    "    np.random.shuffle(ciudades)\n",
    "    ciudades = [inicio] + ciudades +[inicio]\n",
    "    return ciudades \n",
    "    "
   ]
  },
  {
   "cell_type": "code",
   "execution_count": 5,
   "metadata": {},
   "outputs": [],
   "source": [
    "@jit\n",
    "def distanciaTotal(ruta):   #Función que calcula la distancia total del recorrido completo.\n",
    "    costo_ruta = getDistance(ruta[0], ruta[len(ruta)-1]); #costo del regreso a punto de salida\n",
    "    for  i in range( 1, (len(ruta)-1) ) :\n",
    "        costo_ruta += getDistance(ruta[i-1], ruta[i]); #costo entre puntos\n",
    "    return (costo_ruta)\n",
    "    "
   ]
  },
  {
   "cell_type": "code",
   "execution_count": 6,
   "metadata": {},
   "outputs": [],
   "source": [
    "@jit\n",
    "def getDistance(ciudad1, ciudad2):  #Calcula la distancia entre 2 puntos\n",
    "    distance = np.sqrt(((ciudad1[0]-ciudad2[0])**2)+((ciudad1[1]-ciudad2[1])**2))\n",
    "    return(distance)"
   ]
  },
  {
   "cell_type": "code",
   "execution_count": 10,
   "metadata": {},
   "outputs": [],
   "source": [
    "@jit\n",
    "def swapCities(ruta): #Intercambia 2 ciudades elegidas aleatoriamente \n",
    "    nueva_ruta=ruta\n",
    "    indices_intercambio=np.random.choice(range(1,len(ruta)-1),2, replace=False); #punto de salida no cambia\n",
    "    indice1=indices_intercambio[0];\n",
    "    indice2=indices_intercambio[1];\n",
    "    nueva_ruta[indice1], nueva_ruta[indice2] = ruta[indice2], ruta[indice1] ;\n",
    "    return(nueva_ruta)"
   ]
  },
  {
   "cell_type": "code",
   "execution_count": 26,
   "metadata": {},
   "outputs": [],
   "source": [
    "\n",
    "def simulatedAnnealing(ciudades, num_iteraciones, T, deltaT, grado ):\n",
    "    ruta = configInicial(ciudades);\n",
    "    costo_ruta = distanciaTotal(ruta);\n",
    "    mejor_ruta = ruta;     \n",
    "    costo_mejor_ruta = costo_ruta;\n",
    "    costos_mejores=[costo_ruta]\n",
    "    paro=0\n",
    "    ciclos= 0\n",
    "    costosi=[]\n",
    "    \n",
    "    #for i in range(0, num_iteraciones):\n",
    "    while paro<grado:\n",
    "        ciclos=ciclos+1\n",
    "        nueva_ruta = swapCities(ruta);\n",
    "        costo_nueva_ruta = distanciaTotal(nueva_ruta);  #Nueva ruta= candidato\n",
    "                \n",
    "        #costos.append(costo_nueva_ruta);   #### Variable para graficar el progreso \n",
    "        \n",
    "        if (costo_nueva_ruta < costo_ruta): #comparamos con el punto pasado. Primer caso donde si mejora (Explotación)\n",
    "            ruta = nueva_ruta;\n",
    "            costo_ruta = costo_nueva_ruta;\n",
    "            paro = paro+1\n",
    "            costosi.append(costo_nueva_ruta)\n",
    "            \n",
    "            if (costo_ruta < costo_mejor_ruta): #comparamos con la mejor ruta hasta el momento.\n",
    "                mejor_ruta = ruta;\n",
    "                costo_mejor_ruta = costo_ruta;\n",
    "                costos_mejores.append(costo_mejor_ruta)\n",
    "                paro=0\n",
    "                #graficaRuta(mejor_ruta)\n",
    "        else:\n",
    "            w = np.exp((costo_ruta - costo_nueva_ruta)/T);  #Caso donde no mejora (Exploración)\n",
    "            if (np.random.random()<w):  \n",
    "                ruta = nueva_ruta;\n",
    "                costo_ruta = costo_nueva_ruta;\n",
    "                paro = paro+1\n",
    "                costosi.append(costo_nueva_ruta)\n",
    "\n",
    "        T = T*deltaT;   #Bajamos la temperatura en cada iteración  \n",
    "    \n",
    "    return(mejor_ruta, costo_mejor_ruta, costos_mejores, ciclos, costosi)\n",
    "    "
   ]
  },
  {
   "cell_type": "code",
   "execution_count": 24,
   "metadata": {},
   "outputs": [
    {
     "data": {
      "image/png": "[encoded data removed]",
      "text/plain": [
       "<Figure size 432x288 with 1 Axes>"
      ]
     },
     "metadata": {
      "needs_background": "light"
     },
     "output_type": "display_data"
    },
    {
     "name": "stdout",
     "output_type": "stream",
     "text": [
      "[[81, 387], [81, 318], [250, 200], [162, 89], [194, 11], [347, 59], [425, 40], [456, 300], [81, 387]]\n"
     ]
    }
   ],
   "source": [
    "np.random.seed(20)\n",
    "a=3\n",
    "mejor_ruta, costo_mejor_ruta, costos_mejores, ciclos, costosi = simulatedAnnealing(ciudades, 1000,100,.9,a)\n",
    "graficaRuta(mejor_ruta)\n",
    "\n",
    "#print(ciclos)\n",
    "#print(len(costos))\n",
    "#iteraciones=[i for i in range (0,len(costosi))]\n",
    "#plt.plot(iteraciones,costosi)\n",
    "#len(costosi)"
   ]
  },
  {
   "cell_type": "code",
   "execution_count": 25,
   "metadata": {},
   "outputs": [
    {
     "data": {
      "text/plain": [
       "[<matplotlib.lines.Line2D at 0x1ef6fab7588>]"
      ]
     },
     "execution_count": 25,
     "metadata": {},
     "output_type": "execute_result"
    },
    {
     "data": {
      "image/png": "[encoded data removed]",
      "text/plain": [
       "<Figure size 432x288 with 1 Axes>"
      ]
     },
     "metadata": {
      "needs_background": "light"
     },
     "output_type": "display_data"
    }
   ],
   "source": [
    "iteraciones=[i for i in range (0,len(costosi))]\n",
    "plt.plot(iteraciones,costosi)"
   ]
  },
  {
   "cell_type": "code",
   "execution_count": null,
   "metadata": {},
   "outputs": [],
   "source": []
  },
  {
   "cell_type": "code",
   "execution_count": null,
   "metadata": {},
   "outputs": [],
   "source": []
  },
  {
   "cell_type": "code",
   "execution_count": null,
   "metadata": {},
   "outputs": [],
   "source": []
  },
  {
   "cell_type": "code",
   "execution_count": null,
   "metadata": {},
   "outputs": [],
   "source": []
  }
 ],
 "metadata": {
  "kernelspec": {
   "display_name": "Python 3",
   "language": "python",
   "name": "python3"
  },
  "language_info": {
   "codemirror_mode": {
    "name": "ipython",
    "version": 3
   },
   "file_extension": ".py",
   "mimetype": "text/x-python",
   "name": "python",
   "nbconvert_exporter": "python",
   "pygments_lexer": "ipython3",
   "version": "3.7.1"
  }
 },
 "nbformat": 4,
 "nbformat_minor": 2
}
