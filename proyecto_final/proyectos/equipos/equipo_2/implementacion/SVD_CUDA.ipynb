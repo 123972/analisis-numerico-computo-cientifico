{
 "cells": [
  {
   "cell_type": "markdown",
   "metadata": {},
   "source": [
    "# Comparacion SVD implementado en CUDA"
   ]
  },
  {
   "cell_type": "markdown",
   "metadata": {},
   "source": [
    "Carga de librerias e inicio de pycuda"
   ]
  },
  {
   "cell_type": "code",
   "execution_count": 1,
   "metadata": {},
   "outputs": [
    {
     "name": "stderr",
     "output_type": "stream",
     "text": [
      "/home/luis/anaconda3/envs/my_env/lib/python3.7/site-packages/skcuda/cublas.py:283: UserWarning: creating CUBLAS context to get version number\n",
      "  warnings.warn('creating CUBLAS context to get version number')\n"
     ]
    }
   ],
   "source": [
    "import pycuda.autoinit\n",
    "import pandas as pd\n",
    "from sklearn.model_selection import train_test_split\n",
    "import pycuda.gpuarray as gpuarray\n",
    "import numpy as np\n",
    "import skcuda.linalg as culinalg\n",
    "import time"
   ]
  },
  {
   "cell_type": "code",
   "execution_count": 2,
   "metadata": {},
   "outputs": [],
   "source": [
    "culinalg.init()"
   ]
  },
  {
   "cell_type": "code",
   "execution_count": 3,
   "metadata": {},
   "outputs": [],
   "source": [
    "np.random.seed(0)"
   ]
  },
  {
   "cell_type": "code",
   "execution_count": 4,
   "metadata": {},
   "outputs": [],
   "source": [
    "datatype = np.float64"
   ]
  },
  {
   "cell_type": "markdown",
   "metadata": {},
   "source": [
    "Importar archivo con calificaciones (ratings)"
   ]
  },
  {
   "cell_type": "code",
   "execution_count": 5,
   "metadata": {},
   "outputs": [],
   "source": [
    "###############test datos\n",
    "# Conjunto de datos con un millón de calificaciones (cifra redondeada)\n",
    "ratings = pd.read_csv(r'/home/luis/Sist_Rec/ratings_1m.csv')\n",
    "\n",
    "# Separar conjunto 75% entrenamiento y 25% validación, se usa train_test_split de sklearn\n",
    "train, test = train_test_split(ratings,test_size=0.25)\n"
   ]
  },
  {
   "cell_type": "code",
   "execution_count": 6,
   "metadata": {},
   "outputs": [],
   "source": [
    "# El mapeo lo que hace es tener un id consecutivo y único de usuarios y de películas\n",
    "# La tabla original de películas no tiene id consecutivos\n",
    "\n",
    "lista_pelic = ratings['movieId'].unique()\n",
    "num_pelic = len(lista_pelic)\n",
    "mapeo_pelic = {}\n",
    "for n, m in enumerate(lista_pelic):\n",
    "    mapeo_pelic[m] = n\n",
    "lista_usuarios = ratings['userId'].unique()\n",
    "num_usuarios = len(lista_usuarios)\n",
    "mapeo_usuarios = {}\n",
    "for n, m in enumerate(lista_usuarios):\n",
    "    mapeo_usuarios[m] = n"
   ]
  },
  {
   "cell_type": "code",
   "execution_count": 7,
   "metadata": {},
   "outputs": [
    {
     "name": "stdout",
     "output_type": "stream",
     "text": [
      "[[5. 5. 0. ... 0. 0. 4.]\n",
      " [3. 0. 0. ... 0. 3. 0.]\n",
      " [3. 0. 0. ... 0. 4. 0.]\n",
      " ...\n",
      " [0. 0. 0. ... 0. 0. 0.]\n",
      " [0. 0. 0. ... 0. 0. 0.]\n",
      " [0. 0. 0. ... 0. 0. 0.]]\n"
     ]
    }
   ],
   "source": [
    "matriz_uspl = np.zeros([num_usuarios, num_pelic])\n",
    "for index, row in ratings.iterrows():\n",
    "    matriz_uspl[mapeo_usuarios[row['userId']], mapeo_pelic[row['movieId']]] = int(row['rating'])\n",
    "\n",
    "# Se guarda una copia como Data Frame\n",
    "matriz_df = np.asarray(matriz_uspl,datatype) \n",
    "\n",
    "matriz_df = np.transpose(matriz_df)\n",
    "\n",
    "print(matriz_df)"
   ]
  },
  {
   "cell_type": "markdown",
   "metadata": {},
   "source": [
    "Transferir el arreglo a GPU"
   ]
  },
  {
   "cell_type": "code",
   "execution_count": 8,
   "metadata": {},
   "outputs": [],
   "source": [
    "inicio_tiempo = time.time()\n",
    "matriz_gpu = gpuarray.to_gpu(matriz_df)\n",
    "fin_load = time.time()"
   ]
  },
  {
   "cell_type": "code",
   "execution_count": 9,
   "metadata": {},
   "outputs": [
    {
     "name": "stdout",
     "output_type": "stream",
     "text": [
      "Tiempo para cargar datos en la GPU: 0.04531288146972656\n"
     ]
    }
   ],
   "source": [
    "print('Tiempo para cargar datos en la GPU:', fin_load - inicio_tiempo)"
   ]
  },
  {
   "cell_type": "markdown",
   "metadata": {},
   "source": [
    "Ejecutamos SVD, originando 3 salidas (las matrices de descomposicion SVD) con la matriz que cargamos en GPU y especificamos que cuSolver sea el backend de nuestra operacion"
   ]
  },
  {
   "cell_type": "code",
   "execution_count": 10,
   "metadata": {},
   "outputs": [],
   "source": [
    "gpu_svd_inicio = time.time()\n",
    "U_gpu, s_gpu, V_gpu = culinalg.svd(matriz_gpu , lib='cusolver')\n",
    "gpu_svd_fin = time.time()"
   ]
  },
  {
   "cell_type": "code",
   "execution_count": 11,
   "metadata": {},
   "outputs": [
    {
     "name": "stdout",
     "output_type": "stream",
     "text": [
      "Tiempo para realizar la SVD de una matriz en la GPU: 95.76512169837952 sec\n"
     ]
    }
   ],
   "source": [
    "print('Tiempo para realizar la SVD de una matriz en la GPU:',\n",
    "      gpu_svd_fin-gpu_svd_inicio, 'sec')"
   ]
  },
  {
   "cell_type": "markdown",
   "metadata": {},
   "source": [
    "Copiamos los arreglos resultantes de la GPU al host"
   ]
  },
  {
   "cell_type": "code",
   "execution_count": 12,
   "metadata": {},
   "outputs": [],
   "source": [
    "load_datos_inicio = time.time()\n",
    "U = U_gpu.get()\n",
    "s = s_gpu.get()\n",
    "V = V_gpu.get()\n",
    "load_datos_fin = time.time()"
   ]
  },
  {
   "cell_type": "code",
   "execution_count": 13,
   "metadata": {},
   "outputs": [
    {
     "name": "stdout",
     "output_type": "stream",
     "text": [
      "Tiempo para realizar cargar resultados del device al host: 0.1815345287322998 sec\n"
     ]
    }
   ],
   "source": [
    "print('Tiempo para realizar cargar resultados del device al host:',\n",
    "      load_datos_fin-load_datos_inicio, 'sec')"
   ]
  },
  {
   "cell_type": "code",
   "execution_count": 14,
   "metadata": {},
   "outputs": [
    {
     "name": "stdout",
     "output_type": "stream",
     "text": [
      "Total (incluyendo load host-device, device-host): 96.06566619873047 sec\n"
     ]
    }
   ],
   "source": [
    "print('Total (incluyendo load host-device, device-host):', load_datos_fin - inicio_tiempo, 'sec')"
   ]
  },
  {
   "cell_type": "markdown",
   "metadata": {},
   "source": [
    "Convertir la matriz diagonal"
   ]
  },
  {
   "cell_type": "code",
   "execution_count": 15,
   "metadata": {},
   "outputs": [],
   "source": [
    "S = np.zeros((3706,6040))\n",
    "S[:3706,:3706] = np.diag(s)"
   ]
  },
  {
   "cell_type": "markdown",
   "metadata": {},
   "source": [
    "Obtener matriz calculada"
   ]
  },
  {
   "cell_type": "code",
   "execution_count": 16,
   "metadata": {},
   "outputs": [],
   "source": [
    "matriz_rec = np.dot(U, np.dot(S,V))"
   ]
  },
  {
   "cell_type": "markdown",
   "metadata": {},
   "source": [
    "Revisar error comparado con matriz original"
   ]
  },
  {
   "cell_type": "code",
   "execution_count": 17,
   "metadata": {},
   "outputs": [],
   "source": [
    "# Raíz del Error Cuadrático Medio (RMSE)\n",
    "def RSME(pred,original):\n",
    "    N = pred.shape[0] # filas\n",
    "    M = pred.shape[1] # columnas\n",
    "    cur_sum = np.sum(np.square(pred-original))\n",
    "    return np.sqrt(cur_sum/(N*M))"
   ]
  },
  {
   "cell_type": "code",
   "execution_count": 18,
   "metadata": {},
   "outputs": [],
   "source": [
    "# Coeficiente de correlación de Spearman (rho)\n",
    "def rho(pred, original):\n",
    "    num = np.sum(np.square(pred - original))\n",
    "    n = pred.shape[0]*pred.shape[1]\n",
    "    den = n*(n*n-1)\n",
    "    return 1 - (6*num)/den"
   ]
  },
  {
   "cell_type": "code",
   "execution_count": 19,
   "metadata": {},
   "outputs": [
    {
     "name": "stdout",
     "output_type": "stream",
     "text": [
      "Error Cuadrático Medio 1.0988685819247828\n",
      "Coeficiente de correlación de Spearman 0.9999999999999856\n"
     ]
    }
   ],
   "source": [
    "print(\"Error Cuadrático Medio\", RSME(matriz_rec, matriz_df))\n",
    "print(\"Coeficiente de correlación de Spearman\", rho(matriz_rec, matriz_df))"
   ]
  },
  {
   "cell_type": "code",
   "execution_count": null,
   "metadata": {},
   "outputs": [],
   "source": []
  }
 ],
 "metadata": {
  "kernelspec": {
   "display_name": "Python 3",
   "language": "python",
   "name": "python3"
  },
  "language_info": {
   "codemirror_mode": {
    "name": "ipython",
    "version": 3
   },
   "file_extension": ".py",
   "mimetype": "text/x-python",
   "name": "python",
   "nbconvert_exporter": "python",
   "pygments_lexer": "ipython3",
   "version": "3.7.2"
  }
 },
 "nbformat": 4,
 "nbformat_minor": 2
}
