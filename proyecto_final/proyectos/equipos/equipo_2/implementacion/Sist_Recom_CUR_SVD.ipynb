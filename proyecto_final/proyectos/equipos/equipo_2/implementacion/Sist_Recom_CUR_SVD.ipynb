{
 "cells": [
  {
   "cell_type": "markdown",
   "metadata": {},
   "source": [
    "# Descomposición CUR"
   ]
  },
  {
   "cell_type": "markdown",
   "metadata": {},
   "source": [
    "### Carga de Librerías (Python 3.7)"
   ]
  },
  {
   "cell_type": "code",
   "execution_count": 1,
   "metadata": {},
   "outputs": [],
   "source": [
    "import pandas as pd\n",
    "import numpy as np\n",
    "from sklearn.model_selection import train_test_split\n",
    "from collections import Counter\n",
    "from numpy.linalg import svd\n",
    "from numpy.linalg import linalg\n",
    "from time import time\n",
    "import random"
   ]
  },
  {
   "cell_type": "markdown",
   "metadata": {},
   "source": [
    "### Importar archivo con calificaciones (ratings)"
   ]
  },
  {
   "cell_type": "code",
   "execution_count": 2,
   "metadata": {},
   "outputs": [],
   "source": [
    "# Conjunto de datos con un millón de calificaciones (cifra redondeada)\n",
    "ratings = pd.read_csv(r'ratings_1m.csv')\n",
    "\n",
    "# Separar conjunto 75% entrenamiento y 25% validación, se usa train_test_split de sklearn\n",
    "train, test = train_test_split(ratings,test_size=0.25)"
   ]
  },
  {
   "cell_type": "markdown",
   "metadata": {},
   "source": [
    "### Mapeo de Usuarios y de Películas"
   ]
  },
  {
   "cell_type": "code",
   "execution_count": 3,
   "metadata": {},
   "outputs": [],
   "source": [
    "# El mapeo lo que hace es tener un id consecutivo y único de usuarios y de películas\n",
    "# La tabla original de películas no tiene id consecutivos\n",
    "\n",
    "lista_pelic = ratings['movieId'].unique()\n",
    "num_pelic = len(lista_pelic)\n",
    "mapeo_pelic = {}\n",
    "for n, m in enumerate(lista_pelic):\n",
    "    mapeo_pelic[m] = n\n",
    "lista_usuarios = ratings['userId'].unique()\n",
    "num_usuarios = len(lista_usuarios)\n",
    "mapeo_usuarios = {}\n",
    "for n, m in enumerate(lista_usuarios):\n",
    "    mapeo_usuarios[m] = n"
   ]
  },
  {
   "cell_type": "markdown",
   "metadata": {},
   "source": [
    "### Creación de Matriz de usuarios y películas"
   ]
  },
  {
   "cell_type": "code",
   "execution_count": 4,
   "metadata": {},
   "outputs": [],
   "source": [
    "matriz_uspl = np.zeros([num_usuarios, num_pelic])\n",
    "for index, row in ratings.iterrows():\n",
    "    matriz_uspl[mapeo_usuarios[row['userId']], mapeo_pelic[row['movieId']]] = int(row['rating'])\n",
    "\n",
    "# Se guarda una copia como Data Frame\n",
    "matriz_df = pd.DataFrame(matriz_uspl)    "
   ]
  },
  {
   "cell_type": "markdown",
   "metadata": {},
   "source": [
    "Rango de la matriz de usuarios y peliculas"
   ]
  },
  {
   "cell_type": "code",
   "execution_count": 5,
   "metadata": {},
   "outputs": [
    {
     "data": {
      "text/plain": [
       "3663"
      ]
     },
     "execution_count": 5,
     "metadata": {},
     "output_type": "execute_result"
    }
   ],
   "source": [
    "np.linalg.matrix_rank(matriz_uspl)"
   ]
  },
  {
   "cell_type": "markdown",
   "metadata": {},
   "source": [
    "$(k \\, log \\, k ) / \\epsilon^2$"
   ]
  },
  {
   "cell_type": "code",
   "execution_count": 6,
   "metadata": {},
   "outputs": [
    {
     "name": "stdout",
     "output_type": "stream",
     "text": [
      "2322.471989593555 2400.0\n"
     ]
    }
   ],
   "source": [
    "import math\n",
    "k = 800\n",
    "epsilon = 1/3\n",
    "print((k * math.log10(k)), k/epsilon)"
   ]
  },
  {
   "cell_type": "code",
   "execution_count": 7,
   "metadata": {},
   "outputs": [
    {
     "name": "stdout",
     "output_type": "stream",
     "text": [
      "6040 3706\n"
     ]
    },
    {
     "data": {
      "text/html": [
       "<div>\n",
       "<style scoped>\n",
       "    .dataframe tbody tr th:only-of-type {\n",
       "        vertical-align: middle;\n",
       "    }\n",
       "\n",
       "    .dataframe tbody tr th {\n",
       "        vertical-align: top;\n",
       "    }\n",
       "\n",
       "    .dataframe thead th {\n",
       "        text-align: right;\n",
       "    }\n",
       "</style>\n",
       "<table border=\"1\" class=\"dataframe\">\n",
       "  <thead>\n",
       "    <tr style=\"text-align: right;\">\n",
       "      <th></th>\n",
       "      <th>0</th>\n",
       "      <th>1</th>\n",
       "      <th>2</th>\n",
       "      <th>3</th>\n",
       "      <th>4</th>\n",
       "      <th>5</th>\n",
       "      <th>6</th>\n",
       "      <th>7</th>\n",
       "      <th>8</th>\n",
       "      <th>9</th>\n",
       "      <th>...</th>\n",
       "      <th>3696</th>\n",
       "      <th>3697</th>\n",
       "      <th>3698</th>\n",
       "      <th>3699</th>\n",
       "      <th>3700</th>\n",
       "      <th>3701</th>\n",
       "      <th>3702</th>\n",
       "      <th>3703</th>\n",
       "      <th>3704</th>\n",
       "      <th>3705</th>\n",
       "    </tr>\n",
       "  </thead>\n",
       "  <tbody>\n",
       "    <tr>\n",
       "      <th>0</th>\n",
       "      <td>5.0</td>\n",
       "      <td>3.0</td>\n",
       "      <td>3.0</td>\n",
       "      <td>4.0</td>\n",
       "      <td>5.0</td>\n",
       "      <td>3.0</td>\n",
       "      <td>5.0</td>\n",
       "      <td>5.0</td>\n",
       "      <td>4.0</td>\n",
       "      <td>4.0</td>\n",
       "      <td>...</td>\n",
       "      <td>0.0</td>\n",
       "      <td>0.0</td>\n",
       "      <td>0.0</td>\n",
       "      <td>0.0</td>\n",
       "      <td>0.0</td>\n",
       "      <td>0.0</td>\n",
       "      <td>0.0</td>\n",
       "      <td>0.0</td>\n",
       "      <td>0.0</td>\n",
       "      <td>0.0</td>\n",
       "    </tr>\n",
       "    <tr>\n",
       "      <th>1</th>\n",
       "      <td>5.0</td>\n",
       "      <td>0.0</td>\n",
       "      <td>0.0</td>\n",
       "      <td>0.0</td>\n",
       "      <td>0.0</td>\n",
       "      <td>0.0</td>\n",
       "      <td>0.0</td>\n",
       "      <td>0.0</td>\n",
       "      <td>0.0</td>\n",
       "      <td>0.0</td>\n",
       "      <td>...</td>\n",
       "      <td>0.0</td>\n",
       "      <td>0.0</td>\n",
       "      <td>0.0</td>\n",
       "      <td>0.0</td>\n",
       "      <td>0.0</td>\n",
       "      <td>0.0</td>\n",
       "      <td>0.0</td>\n",
       "      <td>0.0</td>\n",
       "      <td>0.0</td>\n",
       "      <td>0.0</td>\n",
       "    </tr>\n",
       "    <tr>\n",
       "      <th>2</th>\n",
       "      <td>0.0</td>\n",
       "      <td>0.0</td>\n",
       "      <td>0.0</td>\n",
       "      <td>0.0</td>\n",
       "      <td>5.0</td>\n",
       "      <td>5.0</td>\n",
       "      <td>0.0</td>\n",
       "      <td>0.0</td>\n",
       "      <td>0.0</td>\n",
       "      <td>0.0</td>\n",
       "      <td>...</td>\n",
       "      <td>0.0</td>\n",
       "      <td>0.0</td>\n",
       "      <td>0.0</td>\n",
       "      <td>0.0</td>\n",
       "      <td>0.0</td>\n",
       "      <td>0.0</td>\n",
       "      <td>0.0</td>\n",
       "      <td>0.0</td>\n",
       "      <td>0.0</td>\n",
       "      <td>0.0</td>\n",
       "    </tr>\n",
       "    <tr>\n",
       "      <th>3</th>\n",
       "      <td>0.0</td>\n",
       "      <td>0.0</td>\n",
       "      <td>0.0</td>\n",
       "      <td>0.0</td>\n",
       "      <td>0.0</td>\n",
       "      <td>0.0</td>\n",
       "      <td>0.0</td>\n",
       "      <td>0.0</td>\n",
       "      <td>0.0</td>\n",
       "      <td>0.0</td>\n",
       "      <td>...</td>\n",
       "      <td>0.0</td>\n",
       "      <td>0.0</td>\n",
       "      <td>0.0</td>\n",
       "      <td>0.0</td>\n",
       "      <td>0.0</td>\n",
       "      <td>0.0</td>\n",
       "      <td>0.0</td>\n",
       "      <td>0.0</td>\n",
       "      <td>0.0</td>\n",
       "      <td>0.0</td>\n",
       "    </tr>\n",
       "    <tr>\n",
       "      <th>4</th>\n",
       "      <td>0.0</td>\n",
       "      <td>0.0</td>\n",
       "      <td>0.0</td>\n",
       "      <td>3.0</td>\n",
       "      <td>5.0</td>\n",
       "      <td>0.0</td>\n",
       "      <td>0.0</td>\n",
       "      <td>0.0</td>\n",
       "      <td>0.0</td>\n",
       "      <td>4.0</td>\n",
       "      <td>...</td>\n",
       "      <td>0.0</td>\n",
       "      <td>0.0</td>\n",
       "      <td>0.0</td>\n",
       "      <td>0.0</td>\n",
       "      <td>0.0</td>\n",
       "      <td>0.0</td>\n",
       "      <td>0.0</td>\n",
       "      <td>0.0</td>\n",
       "      <td>0.0</td>\n",
       "      <td>0.0</td>\n",
       "    </tr>\n",
       "  </tbody>\n",
       "</table>\n",
       "<p>5 rows × 3706 columns</p>\n",
       "</div>"
      ],
      "text/plain": [
       "   0     1     2     3     4     5     6     7     8     9     ...   3696  \\\n",
       "0   5.0   3.0   3.0   4.0   5.0   3.0   5.0   5.0   4.0   4.0  ...    0.0   \n",
       "1   5.0   0.0   0.0   0.0   0.0   0.0   0.0   0.0   0.0   0.0  ...    0.0   \n",
       "2   0.0   0.0   0.0   0.0   5.0   5.0   0.0   0.0   0.0   0.0  ...    0.0   \n",
       "3   0.0   0.0   0.0   0.0   0.0   0.0   0.0   0.0   0.0   0.0  ...    0.0   \n",
       "4   0.0   0.0   0.0   3.0   5.0   0.0   0.0   0.0   0.0   4.0  ...    0.0   \n",
       "\n",
       "   3697  3698  3699  3700  3701  3702  3703  3704  3705  \n",
       "0   0.0   0.0   0.0   0.0   0.0   0.0   0.0   0.0   0.0  \n",
       "1   0.0   0.0   0.0   0.0   0.0   0.0   0.0   0.0   0.0  \n",
       "2   0.0   0.0   0.0   0.0   0.0   0.0   0.0   0.0   0.0  \n",
       "3   0.0   0.0   0.0   0.0   0.0   0.0   0.0   0.0   0.0  \n",
       "4   0.0   0.0   0.0   0.0   0.0   0.0   0.0   0.0   0.0  \n",
       "\n",
       "[5 rows x 3706 columns]"
      ]
     },
     "execution_count": 7,
     "metadata": {},
     "output_type": "execute_result"
    }
   ],
   "source": [
    "print(num_usuarios, num_pelic)\n",
    "matriz_df.head()"
   ]
  },
  {
   "cell_type": "markdown",
   "metadata": {},
   "source": [
    "### Descomposición CUR"
   ]
  },
  {
   "cell_type": "code",
   "execution_count": 8,
   "metadata": {},
   "outputs": [],
   "source": [
    "# Se contabiliza el tiempo de procesamiento para la Descomposición CUR\n",
    "tiempo_inicio = time()\n",
    "random.seed(5829)\n",
    "\n",
    "# Cálculo de los promedios de las calificaciones de cada usuario\n",
    "prom_usr = matriz_uspl.sum(axis=1)\n",
    "aux = Counter(matriz_uspl.nonzero()[0])\n",
    "for i in range(num_usuarios):\n",
    "    if i in aux.keys():\n",
    "        prom_usr[i] = prom_usr[i]/aux[i]\n",
    "    else:\n",
    "        prom_usr[i] = 0\n",
    "\n",
    "# Cálculo de los promedios de las calificaciones por película\n",
    "prom_pelic = matriz_uspl.T.sum(axis=1)\n",
    "aux = Counter(matriz_uspl.T.nonzero()[0])\n",
    "for i in range(num_pelic):\n",
    "    if i in aux.keys():\n",
    "        prom_pelic[i] = prom_pelic[i]/aux[i]\n",
    "    else:\n",
    "        prom_pelic[i] = 0\n",
    "\n",
    "# Se calculan las probabilidades de seleccionar columnas y renglones\n",
    "total_norm =  np.linalg.norm(matriz_uspl)  # Calcula la norma de la matriz de usuarios y películas\n",
    "col_norm =  np.linalg.norm(matriz_uspl,axis = 0) #calcula la norma del vector columna\n",
    "row_norm =  np.linalg.norm(matriz_uspl,axis = 1) #calcula la norma del vector renglón\n",
    "\n",
    "for i in range(num_pelic):\n",
    "    col_norm[i] = (col_norm[i]/total_norm)**2\n",
    "    \n",
    "for i in range(num_usuarios):\n",
    "    row_norm[i] = (row_norm[i]/total_norm)**2\n",
    "\n",
    "# Con las probabilidades calculadas se seleccionan las columnas aleatoriamente y sin duplicar\n",
    "\n",
    "# Para el conjunto de datos de 100,000 calificaciones se reducirá a 90 columnas\n",
    "# Se hicieron pruebas con números más grandes, la SVD no convergía\n",
    "# Para el conjunto de datos de 1,000,000 calificaciones se reducirá a 800 columnas\n",
    "\n",
    "c=800\n",
    "col_selec = []\n",
    "C = np.zeros([num_usuarios,c])\n",
    "col_selec = random.sample(range(num_pelic-1),c)\n",
    "    \n",
    "for i in range(c):\n",
    "    x = col_selec[i]\n",
    "    p = col_norm[x]\n",
    "    d = np.sqrt(c*p)\n",
    "    C[:,i] = matriz_df.loc[:,x]/d\n",
    "    i = i + 1\n",
    "\n",
    "# Con las probabilidades calculadas se seleccionan los renglones aleatoriamente y sin duplicar\n",
    "# Para el conjunto de datos de 100,000 calificaciones se reducirá a 90 renglones\n",
    "    \n",
    "r=800\n",
    "ren_selec = []\n",
    "R = np.zeros([num_pelic,r])\n",
    "ren_selec = random.sample(range(num_usuarios-1),r)\n",
    "\n",
    "for i in range(r):\n",
    "    x = ren_selec[i]\n",
    "    p = row_norm[x]\n",
    "    d = np.sqrt(r*p)\n",
    "    R[:,i] = matriz_df.T.loc[:,x]/d\n",
    "    i = i + 1\n",
    "    \n",
    "# La matriz U es construida de W por la pseudoinversa de Moore-Penrose\n",
    "\n",
    "W = C[ren_selec,:]\n",
    "W1, W_cur, W2 = svd(W)\n",
    "W_cur = np.diag(W_cur)\n",
    "for i in range(W_cur.shape[0]):\n",
    "    W_cur[i][i] = 1/W_cur[i][i]\n",
    "U = np.dot(np.dot(W2.T, W_cur**2), W1.T)\n",
    "CUR = np.dot(np.dot(C, U), R.T)\n",
    "\n",
    "CUR_df = pd.DataFrame(CUR)\n",
    "# El rango de calificaciones va de 0 a 5, sin embargo, hay casos menores al primero\n",
    "# y mayores al segundo. Los menores a 0 se cambian por 0 y los mayores a 5 por 5\n",
    "\n",
    "for i in range(CUR.shape[0]):\n",
    "    for j in range(CUR.shape[1]):\n",
    "        if CUR[i,j] > 5:\n",
    "            CUR[i,j] = 5\n",
    "        elif CUR[i,j] < 0:\n",
    "            CUR[i,j] = 0\n",
    "tiempo_fin = time()"
   ]
  },
  {
   "cell_type": "markdown",
   "metadata": {},
   "source": [
    "Número de columnas y renglones seleccionadas"
   ]
  },
  {
   "cell_type": "code",
   "execution_count": 9,
   "metadata": {},
   "outputs": [
    {
     "name": "stdout",
     "output_type": "stream",
     "text": [
      "800 800\n"
     ]
    }
   ],
   "source": [
    "print(W.shape[0], W.shape[1])"
   ]
  },
  {
   "cell_type": "code",
   "execution_count": 10,
   "metadata": {},
   "outputs": [
    {
     "name": "stdout",
     "output_type": "stream",
     "text": [
      "Dimensión Matriz Usuarios y Películas: 6040 3706\n",
      "Dimensión C: 6040 800\n",
      "Dimensión U: 800 800\n",
      "Dimensión R: 800 3706\n"
     ]
    }
   ],
   "source": [
    "print(\"Dimensión Matriz Usuarios y Películas:\", matriz_uspl.shape[0], matriz_uspl.shape[1])\n",
    "print(\"Dimensión C:\",C.shape[0],C.shape[1])\n",
    "print(\"Dimensión U:\",U.shape[0],U.shape[1])\n",
    "print(\"Dimensión R:\",R.shape[1],R.shape[0])"
   ]
  },
  {
   "cell_type": "markdown",
   "metadata": {},
   "source": [
    "#### Función para cálculo de Error Cuadrático Medio (RMSE)"
   ]
  },
  {
   "cell_type": "code",
   "execution_count": 11,
   "metadata": {},
   "outputs": [],
   "source": [
    "# Error Cuadrático Medio (RMSE)\n",
    "def ECM(pred,original):\n",
    "    N = pred.shape[0] # filas\n",
    "    M = pred.shape[1] # columnas\n",
    "    cur_sum = np.sum(np.square(pred-original))\n",
    "    return np.sqrt(cur_sum/(N*M))"
   ]
  },
  {
   "cell_type": "markdown",
   "metadata": {},
   "source": [
    "#### Función para cálculo de Coeficiente de Correlación de Spearman (rho)"
   ]
  },
  {
   "cell_type": "markdown",
   "metadata": {},
   "source": [
    "En estadística, el coeficiente de correlación de Spearman, $\\rho$  es una medida de correlación\n",
    "El estadístico $\\rho$ viene dado por la expresión:\n",
    "$$ \\rho = 1 - \\frac{6 \\Sigma D^2}{N(N^2-1)} $$\n",
    "donde D es la diferencia entre los correspondientes estadísticos de orden x-y. N es el número de parejas de datos\n",
    "\n",
    "La correlación de Spearman evalúa relaciones monótonas (sean lineales o no). \n",
    "\n",
    "En matemáticas una función entre conjuntos ordenados se dice monótona si conserva el orden dado\n",
    "\n",
    "Intiuitivamente, la correlación de Spearman entre dos observaciones será alta (correlación cercana a 1) cuando las observaciones tengan un rango similar"
   ]
  },
  {
   "cell_type": "code",
   "execution_count": 12,
   "metadata": {},
   "outputs": [],
   "source": [
    "# Coeficiente de correlación de Spearman (rho)\n",
    "def rho(pred, original):\n",
    "    num = np.sum(np.square(pred - original))\n",
    "    n = pred.shape[0]*pred.shape[1]\n",
    "    den = n*(n*n-1)\n",
    "    return 1 - (6*num)/den"
   ]
  },
  {
   "cell_type": "markdown",
   "metadata": {},
   "source": [
    "### Resultados Descomposición CUR"
   ]
  },
  {
   "cell_type": "code",
   "execution_count": 13,
   "metadata": {},
   "outputs": [
    {
     "name": "stdout",
     "output_type": "stream",
     "text": [
      "Error Cuadrático Medio 3.196050201150994\n",
      "Coeficiente de correlación de Spearman 0.9999999999998777\n",
      "Tiempo de procesamiento en segundos 22.008479118347168\n"
     ]
    }
   ],
   "source": [
    "print(\"Error Cuadrático Medio\", ECM(CUR, matriz_uspl))\n",
    "print(\"Coeficiente de correlación de Spearman\", rho(CUR, matriz_uspl))\n",
    "print(\"Tiempo de procesamiento en segundos\", tiempo_fin - tiempo_inicio)"
   ]
  },
  {
   "cell_type": "code",
   "execution_count": 14,
   "metadata": {},
   "outputs": [
    {
     "name": "stdout",
     "output_type": "stream",
     "text": [
      "6040 3706\n",
      "6040 3706\n"
     ]
    }
   ],
   "source": [
    "print(CUR.shape[0], CUR.shape[1])\n",
    "print(matriz_uspl.shape[0],matriz_uspl.shape[1])"
   ]
  },
  {
   "cell_type": "code",
   "execution_count": 15,
   "metadata": {},
   "outputs": [],
   "source": [
    "CUR_df = pd.DataFrame(CUR)"
   ]
  },
  {
   "cell_type": "code",
   "execution_count": 16,
   "metadata": {},
   "outputs": [
    {
     "data": {
      "text/html": [
       "<div>\n",
       "<style scoped>\n",
       "    .dataframe tbody tr th:only-of-type {\n",
       "        vertical-align: middle;\n",
       "    }\n",
       "\n",
       "    .dataframe tbody tr th {\n",
       "        vertical-align: top;\n",
       "    }\n",
       "\n",
       "    .dataframe thead th {\n",
       "        text-align: right;\n",
       "    }\n",
       "</style>\n",
       "<table border=\"1\" class=\"dataframe\">\n",
       "  <thead>\n",
       "    <tr style=\"text-align: right;\">\n",
       "      <th></th>\n",
       "      <th>0</th>\n",
       "      <th>1</th>\n",
       "      <th>2</th>\n",
       "      <th>3</th>\n",
       "      <th>4</th>\n",
       "      <th>5</th>\n",
       "      <th>6</th>\n",
       "      <th>7</th>\n",
       "      <th>8</th>\n",
       "      <th>9</th>\n",
       "      <th>...</th>\n",
       "      <th>3696</th>\n",
       "      <th>3697</th>\n",
       "      <th>3698</th>\n",
       "      <th>3699</th>\n",
       "      <th>3700</th>\n",
       "      <th>3701</th>\n",
       "      <th>3702</th>\n",
       "      <th>3703</th>\n",
       "      <th>3704</th>\n",
       "      <th>3705</th>\n",
       "    </tr>\n",
       "  </thead>\n",
       "  <tbody>\n",
       "    <tr>\n",
       "      <th>0</th>\n",
       "      <td>5.0</td>\n",
       "      <td>5.0</td>\n",
       "      <td>5.0</td>\n",
       "      <td>0.0</td>\n",
       "      <td>5.0</td>\n",
       "      <td>5.0</td>\n",
       "      <td>5.0</td>\n",
       "      <td>5.0</td>\n",
       "      <td>5.0</td>\n",
       "      <td>5.0</td>\n",
       "      <td>...</td>\n",
       "      <td>0.000158</td>\n",
       "      <td>0.000788</td>\n",
       "      <td>0.003200</td>\n",
       "      <td>0.0</td>\n",
       "      <td>0.0</td>\n",
       "      <td>0.0</td>\n",
       "      <td>0.0</td>\n",
       "      <td>0.0</td>\n",
       "      <td>0.0</td>\n",
       "      <td>0.0</td>\n",
       "    </tr>\n",
       "    <tr>\n",
       "      <th>1</th>\n",
       "      <td>0.0</td>\n",
       "      <td>0.0</td>\n",
       "      <td>5.0</td>\n",
       "      <td>0.0</td>\n",
       "      <td>0.0</td>\n",
       "      <td>5.0</td>\n",
       "      <td>5.0</td>\n",
       "      <td>0.0</td>\n",
       "      <td>0.0</td>\n",
       "      <td>0.0</td>\n",
       "      <td>...</td>\n",
       "      <td>0.003882</td>\n",
       "      <td>0.019408</td>\n",
       "      <td>0.000000</td>\n",
       "      <td>0.0</td>\n",
       "      <td>0.0</td>\n",
       "      <td>0.0</td>\n",
       "      <td>0.0</td>\n",
       "      <td>0.0</td>\n",
       "      <td>0.0</td>\n",
       "      <td>0.0</td>\n",
       "    </tr>\n",
       "    <tr>\n",
       "      <th>2</th>\n",
       "      <td>5.0</td>\n",
       "      <td>5.0</td>\n",
       "      <td>5.0</td>\n",
       "      <td>5.0</td>\n",
       "      <td>0.0</td>\n",
       "      <td>0.0</td>\n",
       "      <td>0.0</td>\n",
       "      <td>0.0</td>\n",
       "      <td>5.0</td>\n",
       "      <td>0.0</td>\n",
       "      <td>...</td>\n",
       "      <td>0.003486</td>\n",
       "      <td>0.017430</td>\n",
       "      <td>0.011553</td>\n",
       "      <td>0.0</td>\n",
       "      <td>0.0</td>\n",
       "      <td>0.0</td>\n",
       "      <td>0.0</td>\n",
       "      <td>0.0</td>\n",
       "      <td>0.0</td>\n",
       "      <td>0.0</td>\n",
       "    </tr>\n",
       "    <tr>\n",
       "      <th>3</th>\n",
       "      <td>0.0</td>\n",
       "      <td>0.0</td>\n",
       "      <td>5.0</td>\n",
       "      <td>5.0</td>\n",
       "      <td>5.0</td>\n",
       "      <td>5.0</td>\n",
       "      <td>5.0</td>\n",
       "      <td>0.0</td>\n",
       "      <td>5.0</td>\n",
       "      <td>0.0</td>\n",
       "      <td>...</td>\n",
       "      <td>0.000439</td>\n",
       "      <td>0.002193</td>\n",
       "      <td>0.000000</td>\n",
       "      <td>0.0</td>\n",
       "      <td>0.0</td>\n",
       "      <td>0.0</td>\n",
       "      <td>0.0</td>\n",
       "      <td>0.0</td>\n",
       "      <td>0.0</td>\n",
       "      <td>0.0</td>\n",
       "    </tr>\n",
       "    <tr>\n",
       "      <th>4</th>\n",
       "      <td>5.0</td>\n",
       "      <td>5.0</td>\n",
       "      <td>5.0</td>\n",
       "      <td>0.0</td>\n",
       "      <td>5.0</td>\n",
       "      <td>0.0</td>\n",
       "      <td>0.0</td>\n",
       "      <td>0.0</td>\n",
       "      <td>0.0</td>\n",
       "      <td>5.0</td>\n",
       "      <td>...</td>\n",
       "      <td>0.000000</td>\n",
       "      <td>0.000000</td>\n",
       "      <td>0.000000</td>\n",
       "      <td>0.0</td>\n",
       "      <td>0.0</td>\n",
       "      <td>0.0</td>\n",
       "      <td>0.0</td>\n",
       "      <td>0.0</td>\n",
       "      <td>0.0</td>\n",
       "      <td>0.0</td>\n",
       "    </tr>\n",
       "  </tbody>\n",
       "</table>\n",
       "<p>5 rows × 3706 columns</p>\n",
       "</div>"
      ],
      "text/plain": [
       "   0     1     2     3     4     5     6     7     8     9     ...       3696  \\\n",
       "0   5.0   5.0   5.0   0.0   5.0   5.0   5.0   5.0   5.0   5.0  ...   0.000158   \n",
       "1   0.0   0.0   5.0   0.0   0.0   5.0   5.0   0.0   0.0   0.0  ...   0.003882   \n",
       "2   5.0   5.0   5.0   5.0   0.0   0.0   0.0   0.0   5.0   0.0  ...   0.003486   \n",
       "3   0.0   0.0   5.0   5.0   5.0   5.0   5.0   0.0   5.0   0.0  ...   0.000439   \n",
       "4   5.0   5.0   5.0   0.0   5.0   0.0   0.0   0.0   0.0   5.0  ...   0.000000   \n",
       "\n",
       "       3697      3698  3699  3700  3701  3702  3703  3704  3705  \n",
       "0  0.000788  0.003200   0.0   0.0   0.0   0.0   0.0   0.0   0.0  \n",
       "1  0.019408  0.000000   0.0   0.0   0.0   0.0   0.0   0.0   0.0  \n",
       "2  0.017430  0.011553   0.0   0.0   0.0   0.0   0.0   0.0   0.0  \n",
       "3  0.002193  0.000000   0.0   0.0   0.0   0.0   0.0   0.0   0.0  \n",
       "4  0.000000  0.000000   0.0   0.0   0.0   0.0   0.0   0.0   0.0  \n",
       "\n",
       "[5 rows x 3706 columns]"
      ]
     },
     "execution_count": 16,
     "metadata": {},
     "output_type": "execute_result"
    }
   ],
   "source": [
    "CUR_df.head()"
   ]
  },
  {
   "cell_type": "markdown",
   "metadata": {},
   "source": [
    "### Descomposición en Valores Singulares (SVD)"
   ]
  },
  {
   "cell_type": "markdown",
   "metadata": {},
   "source": [
    "#### Cálculo de Eigen Valores y Eigen Vectores"
   ]
  },
  {
   "cell_type": "code",
   "execution_count": 17,
   "metadata": {},
   "outputs": [],
   "source": [
    "tiempo_inicial_SVD = time()\n",
    "m1 = np.dot(matriz_uspl, matriz_uspl.T)\n",
    "eigenValues, eigenVectors = linalg.eig(m1)\n",
    "eigenValues = eigenValues.real\n",
    "eigenVectors = eigenVectors.real\n",
    "eigen_map = dict()\n",
    "for i in range(len(eigenValues)):\n",
    "    eigenValues[i] = round(eigenValues[i], 4)\n",
    "for i in range(len(eigenValues)):\n",
    "    if eigenValues[i] != 0:\n",
    "        eigen_map[eigenValues[i]] = eigenVectors[:, i]\n",
    "\n",
    "eigenValues = sorted(eigen_map.keys(), reverse=True)\n",
    "U = np.zeros_like(eigenVectors)\n",
    "for i in range(len(eigenValues)):\n",
    "    U[:,i] = eigen_map[eigenValues[i]]\n",
    "U = U[:,:len(eigenValues)]"
   ]
  },
  {
   "cell_type": "markdown",
   "metadata": {},
   "source": [
    "#### Cálculo de Sigma"
   ]
  },
  {
   "cell_type": "code",
   "execution_count": 18,
   "metadata": {},
   "outputs": [],
   "source": [
    "Sigma = np.diag([i**0.5 for i in eigenValues])"
   ]
  },
  {
   "cell_type": "markdown",
   "metadata": {},
   "source": [
    "#### Cálculo de V"
   ]
  },
  {
   "cell_type": "code",
   "execution_count": 19,
   "metadata": {},
   "outputs": [],
   "source": [
    "m2 = np.dot(matriz_uspl.T, matriz_uspl)\n",
    "eigenValues, eigenVectors = linalg.eig(m2)\n",
    "eigenValues = eigenValues.real\n",
    "eigenVectors = eigenVectors.real\n",
    "for i in range(len(eigenValues)):\n",
    "    eigenValues[i] = round(eigenValues[i], 4)\n",
    "eigen_map = dict()\n",
    "for i in range(len(eigenValues)):\n",
    "    if eigenValues[i] != 0:\n",
    "        eigen_map[eigenValues[i]] = eigenVectors[:, i]\n",
    "eigenValues = sorted(eigen_map.keys(), reverse=True)\n",
    "V = np.zeros_like(eigenVectors)\n",
    "for i in range(len(eigenValues)):\n",
    "    V[:,i] = eigen_map[eigenValues[i]]\n",
    "V = V[:,:len(eigenValues)]\n",
    "V = V.T\n",
    "\n",
    "t_aux_1 = time()"
   ]
  },
  {
   "cell_type": "markdown",
   "metadata": {},
   "source": [
    "#### Cálculo SVD con 100% de energía"
   ]
  },
  {
   "cell_type": "code",
   "execution_count": 20,
   "metadata": {},
   "outputs": [],
   "source": [
    "shape = Sigma.shape\n",
    "SVD100 = np.dot(np.dot(U,Sigma),V)\n",
    "t_final_SVD100 = time()"
   ]
  },
  {
   "cell_type": "markdown",
   "metadata": {},
   "source": [
    "### Resultados SVD 100% de energía"
   ]
  },
  {
   "cell_type": "code",
   "execution_count": 21,
   "metadata": {},
   "outputs": [
    {
     "name": "stdout",
     "output_type": "stream",
     "text": [
      "3663 3663\n"
     ]
    }
   ],
   "source": [
    "print(Sigma.shape[0], Sigma.shape[1])"
   ]
  },
  {
   "cell_type": "code",
   "execution_count": 22,
   "metadata": {},
   "outputs": [],
   "source": [
    "S1, V_cur, D1 = svd(matriz_uspl)"
   ]
  },
  {
   "cell_type": "code",
   "execution_count": 23,
   "metadata": {},
   "outputs": [
    {
     "data": {
      "text/plain": [
       "3706"
      ]
     },
     "execution_count": 23,
     "metadata": {},
     "output_type": "execute_result"
    }
   ],
   "source": [
    "V_cur.size"
   ]
  },
  {
   "cell_type": "code",
   "execution_count": 24,
   "metadata": {},
   "outputs": [
    {
     "name": "stdout",
     "output_type": "stream",
     "text": [
      "1149.70551989922 10001.031003718312\n"
     ]
    }
   ],
   "source": [
    "print(np.linalg.norm(matriz_uspl - SVD100, ord=2),np.linalg.norm(matriz_uspl - CUR, ord=2))"
   ]
  },
  {
   "cell_type": "code",
   "execution_count": 25,
   "metadata": {},
   "outputs": [
    {
     "name": "stdout",
     "output_type": "stream",
     "text": [
      "4730.232971119562 15121.148172147936\n"
     ]
    }
   ],
   "source": [
    "print(np.linalg.norm(matriz_uspl - SVD100, ord='fro'),np.linalg.norm(matriz_uspl - CUR, ord='fro'))"
   ]
  },
  {
   "cell_type": "code",
   "execution_count": 26,
   "metadata": {},
   "outputs": [
    {
     "name": "stdout",
     "output_type": "stream",
     "text": [
      "Error Cuadrático Medio SVD 100% 0.9997959061524279\n",
      "Coeficiente de correlación de Spearman 0.999999999999988\n",
      "Tiempo de procesamiento en segundos SVD 100% 27420.01447248459\n"
     ]
    }
   ],
   "source": [
    "print(\"Error Cuadrático Medio SVD 100%\", ECM(SVD100, matriz_uspl))\n",
    "print(\"Coeficiente de correlación de Spearman\", rho(SVD100, matriz_uspl))\n",
    "print(\"Tiempo de procesamiento en segundos SVD 100%\", t_final_SVD100 - tiempo_inicial_SVD)"
   ]
  },
  {
   "cell_type": "markdown",
   "metadata": {},
   "source": [
    "#### Cálculo SVD con retención del 90% de la energía"
   ]
  },
  {
   "cell_type": "code",
   "execution_count": 27,
   "metadata": {},
   "outputs": [],
   "source": [
    "# Una regla de dedo es retener suficientes valores singulares para representar el 90% de energía\n",
    "\n",
    "suma_total = 0\n",
    "dimensions = Sigma.shape[0]\n",
    "\n",
    "# Calcula el cuadrado de la suma de todas las diagonales\n",
    "for i in range(dimensions):\n",
    "    suma_total = suma_total + np.square(Sigma[i,i])\t\n",
    "retencion = suma_total\n",
    "while dimensions > 0:\n",
    "    retencion = retencion - np.square(Sigma[dimensions-1,dimensions-1])\n",
    "    if retencion/suma_total < 0.9: # Retención del 90% de energía\n",
    "        break\n",
    "    else:\n",
    "        U = U[:,:-1:]\n",
    "        V = V[:-1,:]\n",
    "        Sigma = Sigma[:,:-1]\n",
    "        Sigma = Sigma[:-1,:]\n",
    "        dimensions = dimensions - 1\t# reducción de dimensionalidad\n",
    "t_aux_2 = time()\n",
    "\n",
    "SVD90 = np.dot(np.dot(U,Sigma),V)\n",
    "t_final_SVD90 = time()"
   ]
  },
  {
   "cell_type": "markdown",
   "metadata": {},
   "source": [
    "#### Rango de la matriz SVD90\n",
    "\n",
    "Verificamos el rango de la matriz SVD90 para tener este número como punto de partida para la selección de columnas y renglones para la descomposición CUR"
   ]
  },
  {
   "cell_type": "code",
   "execution_count": 28,
   "metadata": {},
   "outputs": [
    {
     "data": {
      "text/plain": [
       "883"
      ]
     },
     "execution_count": 28,
     "metadata": {},
     "output_type": "execute_result"
    }
   ],
   "source": [
    "np.linalg.matrix_rank(SVD90)"
   ]
  },
  {
   "cell_type": "markdown",
   "metadata": {},
   "source": [
    "### Resultados SVD con retención del 90% de la energía"
   ]
  },
  {
   "cell_type": "code",
   "execution_count": 29,
   "metadata": {},
   "outputs": [
    {
     "name": "stdout",
     "output_type": "stream",
     "text": [
      "Error Cuadrático Medio SVD 90% 0.9692098352347941\n",
      "Coeficiente de correlación de Spearman SVD 90% 0.9999999999999888\n",
      "Tiempo de procesamiento en segundos SVD 90% 27393.673482894897\n"
     ]
    }
   ],
   "source": [
    "print(\"Error Cuadrático Medio SVD 90%\", ECM(SVD90, matriz_uspl))\n",
    "print(\"Coeficiente de correlación de Spearman SVD 90%\", rho(SVD90, matriz_uspl))\n",
    "print(\"Tiempo de procesamiento en segundos SVD 90%\",t_final_SVD90 - t_aux_2 + t_aux_1 - tiempo_inicial_SVD)"
   ]
  },
  {
   "cell_type": "markdown",
   "metadata": {},
   "source": [
    "### Pruebas con distintos tamaños de matrices para Descomposición CUR"
   ]
  },
  {
   "cell_type": "code",
   "execution_count": 30,
   "metadata": {},
   "outputs": [
    {
     "name": "stderr",
     "output_type": "stream",
     "text": [
      "C:\\ProgramData\\Anaconda3\\lib\\site-packages\\ipykernel_launcher.py:281: RuntimeWarning: divide by zero encountered in double_scalars\n"
     ]
    }
   ],
   "source": [
    "# Pruebas con matrices de distintos tamaños (3,500 columnas y renglones)\n",
    "random.seed(5627)\n",
    "\n",
    "c=3500\n",
    "col_selec = []\n",
    "C = np.zeros([num_usuarios,c])\n",
    "col_selec = random.sample(range(num_pelic-1),c)\n",
    "    \n",
    "for i in range(c):\n",
    "    x = col_selec[i]\n",
    "    p = col_norm[x]\n",
    "    d = np.sqrt(c*p)\n",
    "    C[:,i] = matriz_df.loc[:,x]/d\n",
    "    i = i + 1\n",
    "   \n",
    "r=3500\n",
    "ren_selec = []\n",
    "R = np.zeros([num_pelic,r])\n",
    "ren_selec = random.sample(range(num_usuarios-1),r)\n",
    "\n",
    "for i in range(r):\n",
    "    x = ren_selec[i]\n",
    "    p = row_norm[x]\n",
    "    d = np.sqrt(r*p)\n",
    "    R[:,i] = matriz_df.T.loc[:,x]/d\n",
    "    i = i + 1\n",
    "    \n",
    "# La matriz U es construida de W por la pseudoinversa de Moore-Penrose\n",
    "\n",
    "W = C[ren_selec,:]\n",
    "W1, W_cur, W2 = svd(W)\n",
    "W_cur = np.diag(W_cur)\n",
    "for i in range(W_cur.shape[0]):\n",
    "    W_cur[i][i] = 1/W_cur[i][i]\n",
    "U = np.dot(np.dot(W2.T, W_cur**2), W1.T)\n",
    "CUR_3500 = np.dot(np.dot(C, U), R.T)\n",
    "\n",
    "# El rango de calificaciones va de 0 a 5, sin embargo, hay casos menores al primero\n",
    "# y mayores al segundo. Los menores a 0 se cambian por 0 y los mayores a 5 por 5\n",
    "\n",
    "for i in range(CUR_3500.shape[0]):\n",
    "    for j in range(CUR_3500.shape[1]):\n",
    "        if CUR_3500[i,j] > 5:\n",
    "            CUR_3500[i,j] = 5\n",
    "        elif CUR_3500[i,j] < 0:\n",
    "            CUR_3500[i,j] = 0\n",
    "            \n",
    "# Pruebas con matrices de distintos tamaños (3,000 columnas y renglones)\n",
    "\n",
    "c=3000\n",
    "col_selec = []\n",
    "C = np.zeros([num_usuarios,c])\n",
    "col_selec = random.sample(range(num_pelic-1),c)\n",
    "    \n",
    "for i in range(c):\n",
    "    x = col_selec[i]\n",
    "    p = col_norm[x]\n",
    "    d = np.sqrt(c*p)\n",
    "    C[:,i] = matriz_df.loc[:,x]/d\n",
    "    i = i + 1\n",
    "   \n",
    "r=3000\n",
    "ren_selec = []\n",
    "R = np.zeros([num_pelic,r])\n",
    "ren_selec = random.sample(range(num_usuarios-1),r)\n",
    "\n",
    "for i in range(r):\n",
    "    x = ren_selec[i]\n",
    "    p = row_norm[x]\n",
    "    d = np.sqrt(r*p)\n",
    "    R[:,i] = matriz_df.T.loc[:,x]/d\n",
    "    i = i + 1\n",
    "    \n",
    "# La matriz U es construida de W por la pseudoinversa de Moore-Penrose\n",
    "\n",
    "W = C[ren_selec,:]\n",
    "W1, W_cur, W2 = svd(W)\n",
    "W_cur = np.diag(W_cur)\n",
    "for i in range(W_cur.shape[0]):\n",
    "    W_cur[i][i] = 1/W_cur[i][i]\n",
    "U = np.dot(np.dot(W2.T, W_cur**2), W1.T)\n",
    "CUR_3000 = np.dot(np.dot(C, U), R.T)\n",
    "\n",
    "# El rango de calificaciones va de 0 a 5, sin embargo, hay casos menores al primero\n",
    "# y mayores al segundo. Los menores a 0 se cambian por 0 y los mayores a 5 por 5\n",
    "\n",
    "for i in range(CUR_3000.shape[0]):\n",
    "    for j in range(CUR_3000.shape[1]):\n",
    "        if CUR_3000[i,j] > 5:\n",
    "            CUR_3000[i,j] = 5\n",
    "        elif CUR_3000[i,j] < 0:\n",
    "            CUR_3000[i,j] = 0\n",
    "            \n",
    "#print(\"\\nDescomposición CUR matriz 3000 columnas y renglones\")\n",
    "#print(\"Error Cuadrático Medio\", ECM(CUR_3000, matriz_uspl))\n",
    "#print(\"Coeficiente de correlación de Spearman\", rho(CUR_3000, matriz_uspl))\n",
    "\n",
    "# Pruebas con matrices de distintos tamaños (1,200 columnas y renglones)\n",
    "\n",
    "c=1200\n",
    "col_selec = []\n",
    "C = np.zeros([num_usuarios,c])\n",
    "col_selec = random.sample(range(num_pelic-1),c)\n",
    "    \n",
    "for i in range(c):\n",
    "    x = col_selec[i]\n",
    "    p = col_norm[x]\n",
    "    d = np.sqrt(c*p)\n",
    "    C[:,i] = matriz_df.loc[:,x]/d\n",
    "    i = i + 1\n",
    "   \n",
    "r=1200\n",
    "ren_selec = []\n",
    "R = np.zeros([num_pelic,r])\n",
    "ren_selec = random.sample(range(num_usuarios-1),r)\n",
    "\n",
    "for i in range(r):\n",
    "    x = ren_selec[i]\n",
    "    p = row_norm[x]\n",
    "    d = np.sqrt(r*p)\n",
    "    R[:,i] = matriz_df.T.loc[:,x]/d\n",
    "    i = i + 1\n",
    "    \n",
    "# La matriz U es construida de W por la pseudoinversa de Moore-Penrose\n",
    "\n",
    "W = C[ren_selec,:]\n",
    "W1, W_cur, W2 = svd(W)\n",
    "W_cur = np.diag(W_cur)\n",
    "for i in range(W_cur.shape[0]):\n",
    "    W_cur[i][i] = 1/W_cur[i][i]\n",
    "U = np.dot(np.dot(W2.T, W_cur**2), W1.T)\n",
    "CUR_1200 = np.dot(np.dot(C, U), R.T)\n",
    "\n",
    "# El rango de calificaciones va de 0 a 5, sin embargo, hay casos menores al primero\n",
    "# y mayores al segundo. Los menores a 0 se cambian por 0 y los mayores a 5 por 5\n",
    "\n",
    "for i in range(CUR_1200.shape[0]):\n",
    "    for j in range(CUR_1200.shape[1]):\n",
    "        if CUR_1200[i,j] > 5:\n",
    "            CUR_1200[i,j] = 5\n",
    "        elif CUR_1200[i,j] < 0:\n",
    "            CUR_1200[i,j] = 0\n",
    "            \n",
    "#print(\"\\nDescomposición CUR matriz 1200 columnas y renglones\")\n",
    "#print(\"Error Cuadrático Medio\", ECM(CUR_1200, matriz_uspl))\n",
    "#print(\"Coeficiente de correlación de Spearman\", rho(CUR_1200, matriz_uspl))\n",
    "\n",
    "\n",
    "# Pruebas con matrices de distintos tamaños (883 columnas y renglones)\n",
    "\n",
    "c=883\n",
    "col_selec = []\n",
    "C = np.zeros([num_usuarios,c])\n",
    "col_selec = random.sample(range(num_pelic-1),c)\n",
    "    \n",
    "for i in range(c):\n",
    "    x = col_selec[i]\n",
    "    p = col_norm[x]\n",
    "    d = np.sqrt(c*p)\n",
    "    C[:,i] = matriz_df.loc[:,x]/d\n",
    "    i = i + 1\n",
    "   \n",
    "r=883\n",
    "ren_selec = []\n",
    "R = np.zeros([num_pelic,r])\n",
    "ren_selec = random.sample(range(num_usuarios-1),r)\n",
    "\n",
    "for i in range(r):\n",
    "    x = ren_selec[i]\n",
    "    p = row_norm[x]\n",
    "    d = np.sqrt(r*p)\n",
    "    R[:,i] = matriz_df.T.loc[:,x]/d\n",
    "    i = i + 1\n",
    "    \n",
    "# La matriz U es construida de W por la pseudoinversa de Moore-Penrose\n",
    "\n",
    "W = C[ren_selec,:]\n",
    "W1, W_cur, W2 = svd(W)\n",
    "W_cur = np.diag(W_cur)\n",
    "for i in range(W_cur.shape[0]):\n",
    "    W_cur[i][i] = 1/W_cur[i][i]\n",
    "U = np.dot(np.dot(W2.T, W_cur**2), W1.T)\n",
    "CUR_2 = np.dot(np.dot(C, U), R.T)\n",
    "\n",
    "# El rango de calificaciones va de 0 a 5, sin embargo, hay casos menores al primero\n",
    "# y mayores al segundo. Los menores a 0 se cambian por 0 y los mayores a 5 por 5\n",
    "\n",
    "for i in range(CUR_2.shape[0]):\n",
    "    for j in range(CUR_2.shape[1]):\n",
    "        if CUR_2[i,j] > 5:\n",
    "            CUR_2[i,j] = 5\n",
    "        elif CUR_2[i,j] < 0:\n",
    "            CUR_2[i,j] = 0\n",
    "            \n",
    "#print(\"\\nDescomposición CUR matriz 400 columnas y renglones\")\n",
    "#print(\"Error Cuadrático Medio\", ECM(CUR_2, matriz_uspl))\n",
    "#print(\"Coeficiente de correlación de Spearman\", rho(CUR_2, matriz_uspl))\n",
    "\n",
    "# Pruebas con matrices de distintos tamaños (50 columnas y renglones)\n",
    "\n",
    "c=50\n",
    "col_selec = []\n",
    "C = np.zeros([num_usuarios,c])\n",
    "col_selec = random.sample(range(num_pelic-1),c)\n",
    "    \n",
    "for i in range(c):\n",
    "    x = col_selec[i]\n",
    "    p = col_norm[x]\n",
    "    d = np.sqrt(c*p)\n",
    "    C[:,i] = matriz_df.loc[:,x]/d\n",
    "    i = i + 1\n",
    "   \n",
    "r=50\n",
    "ren_selec = []\n",
    "R = np.zeros([num_pelic,r])\n",
    "ren_selec = random.sample(range(num_usuarios-1),r)\n",
    "\n",
    "for i in range(r):\n",
    "    x = ren_selec[i]\n",
    "    p = row_norm[x]\n",
    "    d = np.sqrt(r*p)\n",
    "    R[:,i] = matriz_df.T.loc[:,x]/d\n",
    "    i = i + 1\n",
    "    \n",
    "# La matriz U es construida de W por la pseudoinversa de Moore-Penrose\n",
    "\n",
    "W = C[ren_selec,:]\n",
    "W1, W_cur, W2 = svd(W)\n",
    "W_cur = np.diag(W_cur)\n",
    "for i in range(W_cur.shape[0]):\n",
    "    W_cur[i][i] = 1/W_cur[i][i]\n",
    "U = np.dot(np.dot(W2.T, W_cur**2), W1.T)\n",
    "CUR_3 = np.dot(np.dot(C, U), R.T)\n",
    "\n",
    "# El rango de calificaciones va de 0 a 5, sin embargo, hay casos menores al primero\n",
    "# y mayores al segundo. Los menores a 0 se cambian por 0 y los mayores a 5 por 5\n",
    "\n",
    "for i in range(CUR_3.shape[0]):\n",
    "    for j in range(CUR_3.shape[1]):\n",
    "        if CUR_3[i,j] > 5:\n",
    "            CUR_3[i,j] = 5\n",
    "        elif CUR_3[i,j] < 0:\n",
    "            CUR_3[i,j] = 0\n",
    "            \n",
    "#print(\"\\nDescomposición CUR matriz 50 columnas y renglones\")\n",
    "#print(\"Error Cuadrático Medio\", ECM(CUR_3, matriz_uspl))\n",
    "#print(\"Coeficiente de correlación de Spearman\", rho(CUR_3, matriz_uspl))\n",
    "\n",
    "# Pruebas con matrices de distintos tamaños (10 columnas y renglones)\n",
    "\n",
    "c=10\n",
    "col_selec = []\n",
    "C = np.zeros([num_usuarios,c])\n",
    "col_selec = random.sample(range(num_pelic-1),c)\n",
    "    \n",
    "for i in range(c):\n",
    "    x = col_selec[i]\n",
    "    p = col_norm[x]\n",
    "    d = np.sqrt(c*p)\n",
    "    C[:,i] = matriz_df.loc[:,x]/d\n",
    "    i = i + 1\n",
    "   \n",
    "r=10\n",
    "ren_selec = []\n",
    "R = np.zeros([num_pelic,r])\n",
    "ren_selec = random.sample(range(num_usuarios-1),r)\n",
    "\n",
    "for i in range(r):\n",
    "    x = ren_selec[i]\n",
    "    p = row_norm[x]\n",
    "    d = np.sqrt(r*p)\n",
    "    R[:,i] = matriz_df.T.loc[:,x]/d\n",
    "    i = i + 1\n",
    "    \n",
    "# La matriz U es construida de W por la pseudoinversa de Moore-Penrose\n",
    "\n",
    "W = C[ren_selec,:]\n",
    "W1, W_cur, W2 = svd(W)\n",
    "W_cur = np.diag(W_cur)\n",
    "for i in range(W_cur.shape[0]):\n",
    "    W_cur[i][i] = 1/W_cur[i][i]\n",
    "U = np.dot(np.dot(W2.T, W_cur**2), W1.T)\n",
    "CUR_4 = np.dot(np.dot(C, U), R.T)\n",
    "\n",
    "# El rango de calificaciones va de 0 a 5, sin embargo, hay casos menores al primero\n",
    "# y mayores al segundo. Los menores a 0 se cambian por 0 y los mayores a 5 por 5\n",
    "\n",
    "for i in range(CUR_4.shape[0]):\n",
    "    for j in range(CUR_4.shape[1]):\n",
    "        if CUR_4[i,j] > 5:\n",
    "            CUR_4[i,j] = 5\n",
    "        elif CUR_4[i,j] < 0:\n",
    "            CUR_4[i,j] = 0"
   ]
  },
  {
   "cell_type": "markdown",
   "metadata": {},
   "source": [
    "### Comparación Error Cuadrático Medio | Descomposición CUR"
   ]
  },
  {
   "cell_type": "code",
   "execution_count": 31,
   "metadata": {},
   "outputs": [
    {
     "name": "stdout",
     "output_type": "stream",
     "text": [
      "3500 Columnas y Renglones 3.3600187925338165\n",
      "3000 Columnas y Renglones 3.366418146424702\n",
      "1200 Columnas y Renglones 3.271967570249869\n",
      "800 Columnas y Renglones 3.196050201150994\n",
      "883 Columnas y Renglones 3.254480526323549\n",
      "50 Columnas y Renglones 2.1327143009952834\n",
      "10 Columnas y Renglones nan\n"
     ]
    }
   ],
   "source": [
    "print(\"3500 Columnas y Renglones\", ECM(CUR_3500, matriz_uspl))\n",
    "print(\"3000 Columnas y Renglones\", ECM(CUR_3000, matriz_uspl))\n",
    "print(\"1200 Columnas y Renglones\", ECM(CUR_1200, matriz_uspl))\n",
    "print(\"800 Columnas y Renglones\", ECM(CUR, matriz_uspl))\n",
    "print(\"883 Columnas y Renglones\", ECM(CUR_2, matriz_uspl))\n",
    "print(\"50 Columnas y Renglones\", ECM(CUR_3, matriz_uspl))\n",
    "print(\"10 Columnas y Renglones\", ECM(CUR_4, matriz_uspl))"
   ]
  },
  {
   "cell_type": "markdown",
   "metadata": {},
   "source": [
    "Definimos todo el procedimiento de la factorización CUR en una función que solo dependa de k, para comparar con distintos valores en una sola corrida.\n",
    "La función regresa el número k, el ECM, y el tiempo de ejecución en segundos."
   ]
  },
  {
   "cell_type": "code",
   "execution_count": 42,
   "metadata": {},
   "outputs": [],
   "source": [
    "def CUR_ECM(k):\n",
    "    tiempo_1 = time()\n",
    "    c=k\n",
    "    col_selec = []\n",
    "    C = np.zeros([num_usuarios,c])\n",
    "    col_selec = random.sample(range(num_pelic-1),c)\n",
    "\n",
    "    for i in range(c):\n",
    "        x = col_selec[i]\n",
    "        p = col_norm[x]\n",
    "        d = np.sqrt(c*p)\n",
    "        C[:,i] = matriz_df.loc[:,x]/d\n",
    "        i = i + 1\n",
    "\n",
    "    r=k\n",
    "    ren_selec = []\n",
    "    R = np.zeros([num_pelic,r])\n",
    "    ren_selec = random.sample(range(num_usuarios-1),r)\n",
    "\n",
    "    for i in range(r):\n",
    "        x = ren_selec[i]\n",
    "        p = row_norm[x]\n",
    "        d = np.sqrt(r*p)\n",
    "        R[:,i] = matriz_df.T.loc[:,x]/d\n",
    "        i = i + 1\n",
    "\n",
    "    # La matriz U es construida de W por la pseudoinversa de Moore-Penrose\n",
    "\n",
    "    W = C[ren_selec,:]\n",
    "    W1, W_cur, W2 = svd(W)\n",
    "    W_cur = np.diag(W_cur)\n",
    "    for i in range(W_cur.shape[0]):\n",
    "        W_cur[i][i] = 1/W_cur[i][i]\n",
    "    U = np.dot(np.dot(W2.T, W_cur**2), W1.T)\n",
    "    CUR_k = np.dot(np.dot(C, U), R.T)\n",
    "\n",
    "    # El rango de calificaciones va de 0 a 5, sin embargo, hay casos menores al primero\n",
    "    # y mayores al segundo. Los menores a 0 se cambian por 0 y los mayores a 5 por 5\n",
    "\n",
    "    for i in range(CUR_k.shape[0]):\n",
    "        for j in range(CUR_k.shape[1]):\n",
    "            if CUR_k[i,j] > 5:\n",
    "                CUR_k[i,j] = 5\n",
    "            elif CUR_k[i,j] < 0:\n",
    "                CUR_k[i,j] = 0\n",
    "    tiempo_2 = time()\n",
    "    \n",
    "    print(k,ECM(CUR_k, matriz_uspl),tiempo_2-tiempo_1)           \n",
    "    \n",
    "    "
   ]
  },
  {
   "cell_type": "markdown",
   "metadata": {},
   "source": [
    "Se comparan errores ECM con distintos tamaños para la matriz U"
   ]
  },
  {
   "cell_type": "code",
   "execution_count": 47,
   "metadata": {},
   "outputs": [
    {
     "name": "stdout",
     "output_type": "stream",
     "text": [
      "50 2.238242241986131 17.923858880996704\n",
      "52 2.3077780895795748 17.514683485031128\n",
      "54 2.147225009082285 17.89399003982544\n",
      "56 2.1094409774408076 17.50899600982666\n",
      "58 2.050578132543198 17.532268285751343\n",
      "60 2.111865460832393 17.28779363632202\n",
      "62 1.9072094561826103 17.15259075164795\n",
      "64 1.9851923684711479 17.144397974014282\n",
      "66 2.279210391760093 17.19521975517273\n",
      "68 2.198465746757217 17.25241994857788\n",
      "70 2.2340709556513563 18.678383827209473\n",
      "72 2.1114187018831183 19.589932441711426\n",
      "74 2.30442416769925 18.031358003616333\n",
      "76 2.3789282375282546 18.13300895690918\n"
     ]
    }
   ],
   "source": [
    "for i in range(50,77,2):\n",
    "    CUR_ECM(i)"
   ]
  },
  {
   "cell_type": "code",
   "execution_count": 44,
   "metadata": {},
   "outputs": [
    {
     "name": "stdout",
     "output_type": "stream",
     "text": [
      "50 2.104861931501364 17.873253107070923\n",
      "55 2.256003563757642 17.992897272109985\n",
      "60 2.2477736550193588 18.096657037734985\n",
      "65 1.954633865693071 17.97298240661621\n",
      "70 2.1673933605632203 20.128103256225586\n",
      "75 2.1690981553951696 18.526030778884888\n",
      "80 2.564285974590722 17.734022617340088\n",
      "85 2.31214005205749 18.24525737762451\n",
      "90 2.5400193088569294 17.79748821258545\n",
      "95 2.338885476034372 19.477964878082275\n"
     ]
    }
   ],
   "source": [
    "for i in range(50,100,5):\n",
    "    CUR_ECM(i)"
   ]
  },
  {
   "cell_type": "markdown",
   "metadata": {},
   "source": [
    "### Comparación Coeficiente de Correlación de Spearman $\\rho$ | Descomposición CUR"
   ]
  },
  {
   "cell_type": "code",
   "execution_count": 48,
   "metadata": {},
   "outputs": [
    {
     "name": "stdout",
     "output_type": "stream",
     "text": [
      "\n",
      " Comparación Coeficiente de correlación de Spearman\n",
      "3500 Columnas y Renglones 0.9999999999998648\n",
      "3000 Columnas y Renglones 0.9999999999998643\n",
      "1200 Columnas y Renglones 0.9999999999998718\n",
      "800 Columnas y Renglones 0.9999999999998777\n",
      "400 Columnas y Renglones 0.9999999999998732\n",
      "50 Columnas y Renglones 0.9999999999999455\n",
      "10 Columnas y Renglones nan\n"
     ]
    }
   ],
   "source": [
    "print(\"\\n Comparación Coeficiente de correlación de Spearman\")\n",
    "print(\"3500 Columnas y Renglones\", rho(CUR_3500, matriz_uspl))\n",
    "print(\"3000 Columnas y Renglones\", rho(CUR_3000, matriz_uspl))\n",
    "print(\"1200 Columnas y Renglones\", rho(CUR_1200, matriz_uspl))\n",
    "print(\"800 Columnas y Renglones\", rho(CUR, matriz_uspl))\n",
    "print(\"400 Columnas y Renglones\", rho(CUR_2, matriz_uspl))\n",
    "print(\"50 Columnas y Renglones\", rho(CUR_3, matriz_uspl))\n",
    "print(\"10 Columnas y Renglones\", rho(CUR_4, matriz_uspl))"
   ]
  }
 ],
 "metadata": {
  "kernelspec": {
   "display_name": "Python 3",
   "language": "python",
   "name": "python3"
  },
  "language_info": {
   "codemirror_mode": {
    "name": "ipython",
    "version": 3
   },
   "file_extension": ".py",
   "mimetype": "text/x-python",
   "name": "python",
   "nbconvert_exporter": "python",
   "pygments_lexer": "ipython3",
   "version": "3.6.6"
  }
 },
 "nbformat": 4,
 "nbformat_minor": 2
}
