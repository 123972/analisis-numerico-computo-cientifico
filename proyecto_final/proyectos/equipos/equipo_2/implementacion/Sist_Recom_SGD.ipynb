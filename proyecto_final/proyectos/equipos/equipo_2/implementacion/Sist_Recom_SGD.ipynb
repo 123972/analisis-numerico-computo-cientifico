{
 "cells": [
  {
   "cell_type": "markdown",
   "metadata": {},
   "source": [
    "# Sistema de Recomendación para películas"
   ]
  },
  {
   "cell_type": "markdown",
   "metadata": {},
   "source": [
    "## Factorización SGD"
   ]
  },
  {
   "cell_type": "markdown",
   "metadata": {},
   "source": [
    "### Carga de Librerías (Python 3.7)"
   ]
  },
  {
   "cell_type": "code",
   "execution_count": 1,
   "metadata": {},
   "outputs": [],
   "source": [
    "import pandas as pd\n",
    "import numpy as np\n",
    "from sklearn.model_selection import train_test_split\n",
    "from collections import Counter\n",
    "from numpy.linalg import svd\n",
    "from numpy.linalg import linalg\n",
    "from time import time\n",
    "import random"
   ]
  },
  {
   "cell_type": "markdown",
   "metadata": {},
   "source": [
    "### Importar archivo con calificaciones (ratings)"
   ]
  },
  {
   "cell_type": "code",
   "execution_count": 2,
   "metadata": {},
   "outputs": [],
   "source": [
    "# Conjunto de datos con un cien mil de calificaciones (cifra redondeada)\n",
    "ratings = pd.read_csv(r'ratings.csv')"
   ]
  },
  {
   "cell_type": "markdown",
   "metadata": {},
   "source": [
    "### Mapeo de Usuarios y de Películas"
   ]
  },
  {
   "cell_type": "code",
   "execution_count": 3,
   "metadata": {},
   "outputs": [],
   "source": [
    "# El mapeo lo que hace es tener un id consecutivo y único de usuarios y de películas\n",
    "# La tabla original de películas no tiene id consecutivos\n",
    "\n",
    "lista_pelic = ratings['movieId'].unique()\n",
    "num_pelic = len(lista_pelic)\n",
    "mapeo_pelic = {}\n",
    "for n, m in enumerate(lista_pelic):\n",
    "    mapeo_pelic[m] = n\n",
    "lista_usuarios = ratings['userId'].unique()\n",
    "num_usuarios = len(lista_usuarios)\n",
    "mapeo_usuarios = {}\n",
    "for n, m in enumerate(lista_usuarios):\n",
    "    mapeo_usuarios[m] = n"
   ]
  },
  {
   "cell_type": "markdown",
   "metadata": {},
   "source": [
    "### Creación de Matriz de usuarios y películas"
   ]
  },
  {
   "cell_type": "code",
   "execution_count": 4,
   "metadata": {},
   "outputs": [],
   "source": [
    "matriz_uspl = np.zeros([num_usuarios, num_pelic])\n",
    "for index, row in ratings.iterrows():\n",
    "    matriz_uspl[mapeo_usuarios[row['userId']], mapeo_pelic[row['movieId']]] = int(row['rating'])\n",
    "\n",
    "# Se guarda una copia como Data Frame\n",
    "matriz_df = pd.DataFrame(matriz_uspl)    "
   ]
  },
  {
   "cell_type": "markdown",
   "metadata": {},
   "source": [
    "#### Función para cálculo de Raíz del Error Cuadrático Medio (RMSE)"
   ]
  },
  {
   "cell_type": "code",
   "execution_count": 6,
   "metadata": {},
   "outputs": [],
   "source": [
    "# Raíz del Error Cuadrático Medio (RMSE)\n",
    "def RSME(pred,original):\n",
    "    N = pred.shape[0] # filas\n",
    "    M = pred.shape[1] # columnas\n",
    "    cur_sum = np.sum(np.square(pred-original))\n",
    "    return np.sqrt(cur_sum/(N*M))"
   ]
  },
  {
   "cell_type": "markdown",
   "metadata": {},
   "source": [
    "#### Función para cálculo de Coeficiente de Correlación de Spearman (rho)"
   ]
  },
  {
   "cell_type": "markdown",
   "metadata": {},
   "source": [
    "En estadística, el coeficiente de correlación de Spearman, $\\rho$  es una medida de correlación\n",
    "El estadístico $\\rho$ viene dado por la expresión:\n",
    "$$ \\rho = 1 - \\frac{6 \\Sigma D^2}{N(N^2-1)} $$\n",
    "donde D es la diferencia entre los correspondientes estadísticos de orden x-y. N es el número de parejas de datos\n",
    "\n",
    "La correlación de Spearman evalúa relaciones monótonas (sean lineales o no). \n",
    "\n",
    "En matemáticas una función entre conjuntos ordenados se dice monótona si conserva el orden dado\n",
    "\n",
    "Intiuitivamente, la correlación de Spearman entre dos observaciones será alta (correlación cercana a 1) cuando las observaciones tengan un rango similar"
   ]
  },
  {
   "cell_type": "code",
   "execution_count": 7,
   "metadata": {},
   "outputs": [],
   "source": [
    "# Coeficiente de correlación de Spearman (rho)\n",
    "def rho(pred, original):\n",
    "    num = np.sum(np.square(pred - original))\n",
    "    n = pred.shape[0]*pred.shape[1]\n",
    "    den = n*(n*n-1)\n",
    "    return 1 - (6*num)/den"
   ]
  },
  {
   "cell_type": "markdown",
   "metadata": {},
   "source": [
    "## Factorización de matriz con SGD (Descenso en Gradiente Estocástico)"
   ]
  },
  {
   "cell_type": "markdown",
   "metadata": {},
   "source": [
    "### Conjunto de funciones"
   ]
  },
  {
   "cell_type": "code",
   "execution_count": 17,
   "metadata": {},
   "outputs": [],
   "source": [
    "class MF(): # Se define un conjunto de funciones\n",
    "    \n",
    "    def __init__(self, R, K, alpha, beta, iterations):\n",
    "        \"\"\"\n",
    "        Función inicial, los parámetros que ingresan son:\n",
    "            - R: Matriz de usuarios y películas (R)\n",
    "            - K: Número de atributos\n",
    "            - alpha: Tasa de aprendizaje\n",
    "            - beta: Parámetro de regularización\n",
    "            - iterations: Número de iteraciones\n",
    "        \"\"\"\n",
    "        self.R = R \n",
    "        self.num_users, self.num_items = R.shape \n",
    "        self.K = K \n",
    "        self.alpha = alpha\n",
    "        self.beta = beta\n",
    "        self.iterations = iterations\n",
    "\n",
    "    def train(self):\n",
    "        # Inicializa la matriz de atributos latentes para usuarios y películas\n",
    "        # Aleatoriamente se seleccionan usuarios para la matriz P  películas para Q\n",
    "        self.P = np.random.normal(scale=1./self.K, size=(self.num_users, self.K))\n",
    "        self.Q = np.random.normal(scale=1./self.K, size=(self.num_items, self.K))\n",
    "\n",
    "        # Inicializar sesgo (bias) con ceros\n",
    "        self.b_u = np.zeros(self.num_users)\n",
    "        self.b_i = np.zeros(self.num_items)\n",
    "        self.b = np.mean(self.R[np.where(self.R != 0)])\n",
    "\n",
    "        # Crea lista con muestras de entrenamiento\n",
    "        self.samples = [\n",
    "            (i, j, self.R[i, j])\n",
    "            for i in range(self.num_users)\n",
    "            for j in range(self.num_items)\n",
    "            if self.R[i, j] > 0\n",
    "        ]\n",
    "\n",
    "        # Realiza Descenso en Gradiente Estocástico para el número de iteraciones\n",
    "        # Esta matriz guarda el número de iteración y la raíz del error cuadrádico medio\n",
    "        training_process = []\n",
    "        for i in range(self.iterations):\n",
    "            np.random.shuffle(self.samples)\n",
    "            self.sgd()\n",
    "            mse = self.mse()\n",
    "            training_process.append((i, mse))\n",
    "            if (i+1) % 10 == 0:\n",
    "                print(\"Iteration: %d ; error = %.4f\" % (i+1, mse))\n",
    "        return training_process\n",
    "    \n",
    "    def mse(self):\n",
    "        # Esta función calcula la raíz del error cuadrático medio entre la matriz original\n",
    "        # y la obtenida con la predicción\n",
    "        xs, ys = self.R.nonzero()\n",
    "        predicted = self.full_matrix()\n",
    "        error = 0\n",
    "        aux = 1\n",
    "        for x, y in zip(xs, ys):\n",
    "            error += pow(self.R[x, y] - predicted[x, y], 2)\n",
    "            aux += 1\n",
    "        return np.sqrt(error/aux)   \n",
    "   \n",
    "    def sgd(self):\n",
    "        # Algoritmo para Descenso en Gradiente Estocástico\n",
    "        for i, j, r in self.samples:\n",
    "            # Calcula la predicción y el error respecto al valor original\n",
    "            prediction = self.get_rating(i, j)\n",
    "            e = (r - prediction)\n",
    "\n",
    "            # Actualiza el sesgo (bias)\n",
    "            self.b_u[i] += self.alpha * (e - self.beta * self.b_u[i])\n",
    "            self.b_i[j] += self.alpha * (e - self.beta * self.b_i[j])\n",
    "\n",
    "            # Actualiza la matriz de factores latentes para usuarios y películas\n",
    "            \n",
    "            # self.P[i, :] += self.alpha * (e * self.Q[j, :] - self.beta * self.P[i,:])\n",
    "            # self.Q[j, :] += self.alpha * (e * self.P[i, :] - self.beta * self.Q[j,:])\n",
    "            P_i = np.copy(self.P[i,:])\n",
    "            for k in range(self.K):\n",
    "               self.P[i,k]+=self.alpha * (e * self.Q[j,k] - self.beta * self.P[i,k])\n",
    "            for k in range(self.K):\n",
    "                self.Q[j,k] += self.alpha * (e * P_i[k] - self.beta * self.Q[j,k])\n",
    "\n",
    "    def get_rating(self, i, j):\n",
    "        # Función para obtener las predicciones\n",
    "        prediction = self.b + self.b_u[i] + self.b_i[j] + self.P[i, :].dot(self.Q[j, :].T)\n",
    "        return prediction\n",
    "\n",
    "    def full_matrix(self):\n",
    "        # Cálculo de la matriz resultante multiplicando P y Q\n",
    "        return self.b + self.b_u[:,np.newaxis] + self.b_i[np.newaxis:,] + self.P.dot(self.Q.T)\n",
    "    "
   ]
  },
  {
   "cell_type": "markdown",
   "metadata": {},
   "source": [
    "#### Se inicializa el tiempo de procesamiento y se usa la función definida para la factorización de la matriz de usuarios y películas\n",
    "##### K = 10 factores\n",
    "##### alpha (tasa de aprendizaje) = 0.01\n",
    "##### beta (parámetro de regularización) = 0.1\n",
    "##### iterations (iteraciones) = 20"
   ]
  },
  {
   "cell_type": "code",
   "execution_count": 18,
   "metadata": {},
   "outputs": [
    {
     "name": "stdout",
     "output_type": "stream",
     "text": [
      "Iteration: 10 ; error = 0.8144\n",
      "Iteration: 20 ; error = 0.7941\n"
     ]
    }
   ],
   "source": [
    "t_1 = time() # Se cuenta el tiempo de procesamiento\n",
    "mf = MF(matriz_uspl, K=10, alpha=0.01, beta=0.1, iterations=20) # Se ingresa la matriz de \n",
    "# usuarios y películas\n",
    "training_process = mf.train() #Los valores de iteración y error se guardan en esta variable"
   ]
  },
  {
   "cell_type": "markdown",
   "metadata": {},
   "source": [
    "#### Reconstrucción de Matriz Original mediante la multiplicación de P x Q"
   ]
  },
  {
   "cell_type": "code",
   "execution_count": 19,
   "metadata": {},
   "outputs": [
    {
     "name": "stdout",
     "output_type": "stream",
     "text": [
      "[[4.59983549 3.95918917 4.58768752 ... 4.11723036 4.13563575 4.16092898]\n",
      " [3.79490329 3.17712231 3.81801935 ... 3.36013359 3.39368753 3.39343722]\n",
      " [4.60106968 3.95696473 4.61174873 ... 4.1535437  4.11725474 4.1049013 ]\n",
      " ...\n",
      " [3.47537734 2.8735397  3.52028717 ... 3.01922846 3.04119831 3.04088743]\n",
      " [3.62446429 3.01671043 3.64550399 ... 3.18703129 3.17048159 3.1563095 ]\n",
      " [3.78103029 3.18032231 3.82159651 ... 3.31088461 3.3370287  3.32959237]]\n"
     ]
    }
   ],
   "source": [
    "print(mf.full_matrix()) # Imprime la matriz completa P x Q que aproxima a la original"
   ]
  },
  {
   "cell_type": "markdown",
   "metadata": {},
   "source": [
    "#### Sesgo (Bias) Global:"
   ]
  },
  {
   "cell_type": "code",
   "execution_count": 20,
   "metadata": {},
   "outputs": [
    {
     "name": "stdout",
     "output_type": "stream",
     "text": [
      "3.396979872519253\n"
     ]
    }
   ],
   "source": [
    "print(mf.b)"
   ]
  },
  {
   "cell_type": "markdown",
   "metadata": {},
   "source": [
    "#### Sesgo (Bias) por usuario:"
   ]
  },
  {
   "cell_type": "code",
   "execution_count": 21,
   "metadata": {},
   "outputs": [
    {
     "name": "stdout",
     "output_type": "stream",
     "text": [
      "[ 8.07444675e-01  2.39458674e-02  8.09671942e-01 -5.98952721e-02\n",
      "  2.59349792e-02  2.24770521e-01 -3.58664374e-01  1.11284146e-01\n",
      " -1.40707590e-01 -1.41325901e-01  3.85391272e-01  8.59071557e-01\n",
      "  2.40175655e-01  5.38221167e-02 -3.09778529e-01 -3.57494431e-01\n",
      "  9.28955768e-02 -1.29462087e-01 -4.59440645e-01  1.15359576e-01\n",
      " -2.64656920e-01 -6.29921465e-01 -2.79609726e-01 -1.27586058e-01\n",
      "  8.70812444e-01 -1.85090170e-01  5.43293927e-02 -7.00799092e-01\n",
      "  1.69755406e-01  7.68459134e-01  3.51408197e-01  2.78577144e-01\n",
      "  1.74226029e-01  5.27673529e-03  6.08881568e-01 -8.82842616e-01\n",
      "  5.63969572e-01 -1.63280081e-01  2.13816099e-01  4.15602334e-01\n",
      " -2.48311164e-01  2.32943703e-01  1.17626924e+00  1.09312936e-01\n",
      "  4.68534690e-01  5.89618717e-01 -5.69640262e-01  3.09865149e-01\n",
      "  1.75800346e-01 -8.80085385e-01  3.66753524e-01  6.66713496e-01\n",
      "  1.41750630e+00 -4.90586501e-01 -2.41857510e-02  4.17595968e-01\n",
      " -8.57911388e-02  4.32017502e-01  5.70972849e-01  1.08984193e-01\n",
      "  2.64228192e-02  3.23163164e-01 -1.58101321e-01  7.54933436e-02\n",
      " -2.09668610e-02  3.03468564e-01 -2.35027140e-02 -3.85918383e-01\n",
      "  6.78947790e-01  2.68897896e-01  1.77752758e-01  1.29642025e-01\n",
      " -1.00035857e-02  3.81793293e-01 -5.48331459e-01 -4.93883824e-01\n",
      "  1.27750214e-01 -2.85388816e-01  4.77219069e-01  5.39435848e-01\n",
      " -6.76565980e-01 -2.02321732e-01 -3.31093427e-01  1.46771014e-01\n",
      "  9.07706524e-02  1.07341469e-01  2.05133167e-01  2.50879988e-01\n",
      " -1.70208225e-01  5.15718308e-01 -2.83109484e-01  3.90715215e-01\n",
      "  9.05643444e-01 -3.07148215e-01  4.28935320e-01  2.43272408e-01\n",
      "  6.92294615e-01  2.09998418e-01  6.25014174e-01  1.73340787e-01\n",
      "  1.07161327e-01 -1.75818627e-02  1.66541308e-01 -6.60378662e-04\n",
      "  3.01049432e-01  6.52906545e-01  5.19344914e-01  4.41011160e-01\n",
      " -1.81586095e-01 -1.53506883e-01 -9.05194375e-02  8.67152482e-02\n",
      "  4.85140031e-02 -4.05255725e-01  3.37174947e-01 -2.70234612e-01\n",
      " -3.60611014e-02  4.55422138e-02  4.66149698e-01  4.08016679e-02\n",
      " -1.47222679e-01  6.84637768e-01  3.65951084e-03  1.91166608e-01\n",
      "  1.20333473e-01 -1.75101951e-01 -3.54422941e-01  4.35470402e-01\n",
      "  1.92921294e-01  1.23650176e-01 -5.61890066e-01 -5.94046893e-01\n",
      " -5.57476134e-01  2.48606103e-01  1.94653607e-01  7.28282536e-02\n",
      " -2.80223988e-02  8.64413861e-02 -1.31162949e+00 -7.22434523e-02\n",
      " -2.40365440e-01  2.77924524e-01 -1.50653373e-01 -1.29779654e-01\n",
      " -1.01022834e-01 -1.37025644e-01 -1.08087224e-01 -1.18783096e-01\n",
      " -5.77937822e-01  1.54876924e-01  3.94172005e-01 -2.45175332e-02\n",
      " -9.49622050e-01  8.21988749e-01  2.47156670e-01 -4.49965177e-02\n",
      "  7.99452376e-02 -3.45492233e-02 -2.04956991e-01 -5.55598509e-01\n",
      "  2.74039560e-01  6.57796016e-01 -2.46724070e-01  6.02214627e-01\n",
      " -5.62377910e-03  1.39124436e-01 -2.56101820e-01  3.67534893e-01\n",
      "  6.12475239e-01 -2.02744753e-02  8.96242443e-01 -3.52322418e-02\n",
      " -2.35657738e-02  2.62987716e-01  7.03435328e-01  5.51960911e-01\n",
      " -2.67030150e-01  1.20255684e-01  3.91037038e-01 -3.13249346e-01\n",
      " -2.76144864e-01 -2.12787777e-01  1.91327390e-01 -1.25979415e-02\n",
      " -1.50646407e-03  5.26204163e-01 -8.78945985e-02  6.33228235e-01\n",
      "  1.02750878e-02  7.85858894e-02  2.07454648e-01  5.53114693e-01\n",
      " -1.36538751e-01 -2.77251405e-01 -2.22031640e-02  1.57930659e-02\n",
      "  2.13946857e-01 -1.52014981e-02 -3.10960220e-01  2.22736821e-01\n",
      "  6.08521491e-01  2.51324347e-01  1.31702490e-01  2.15649858e-01\n",
      " -1.21323496e-01  5.00749626e-01 -2.18780450e-01 -1.59016633e-01\n",
      "  1.91677757e-01  3.32734298e-01  3.73649226e-02 -2.75553031e-01\n",
      "  1.64970130e-01 -4.10896476e-01 -1.65991402e-03  5.08638463e-02\n",
      " -4.51343428e-01 -2.62939822e-01 -4.16876841e-01  2.80286414e-01\n",
      "  1.78908788e-01 -5.11705218e-01 -4.79397456e-01  5.58062208e-01\n",
      "  1.85408607e-01 -3.61430871e-02  1.82350888e-01  1.26417925e-01\n",
      "  2.58052570e-01 -6.53359429e-01 -6.75867978e-02 -2.29787140e-01\n",
      " -5.27158234e-01  2.70903598e-01  1.75637938e-01  5.33856473e-01\n",
      " -4.64180897e-01  1.50874831e-01  2.00506519e-01  7.14764378e-01\n",
      " -5.47248316e-02  1.60147914e-01  8.26756890e-01  1.94912444e-01\n",
      " -8.64523274e-01  4.88186390e-01 -1.21099992e-01 -1.29826459e-01\n",
      "  9.28244302e-02  6.75637235e-01  7.82007648e-01  3.03133877e-01\n",
      "  3.24593125e-01  5.95765901e-02 -9.07409800e-01  3.87911497e-01\n",
      " -5.28917230e-01  5.20891166e-01  2.54129412e-01 -1.47127559e-01\n",
      "  3.86772703e-02 -3.38197177e-01  1.27259124e-01 -2.34634312e-01\n",
      " -1.51885189e-01 -3.90653211e-02  4.88249267e-01 -2.93088041e-01\n",
      "  3.24228956e-01 -1.02097773e-01 -4.89874388e-01 -2.51993987e-01\n",
      "  5.25200912e-01 -3.32039934e-01  4.06349227e-01  9.96547583e-01\n",
      "  3.47288960e-01  1.47327064e-01 -2.07082157e-01  2.18227209e-01\n",
      " -3.33885034e-01  1.52489222e-01 -1.52524675e-01  4.40230719e-01\n",
      "  3.55424573e-02  5.52858915e-02 -7.73067372e-01 -3.52401693e-01\n",
      " -1.83566443e-01  3.95985475e-01  5.54365098e-01 -2.42159262e-01\n",
      " -5.81311802e-01 -5.48958267e-01  8.27375073e-02  1.24129575e-01\n",
      " -6.76561993e-01 -8.72313057e-01  1.63183028e-01  2.87977855e-01\n",
      " -2.79617564e-01  4.06070073e-01  1.63384120e-01  3.80727912e-01\n",
      "  2.19806902e-01 -2.45722269e-01 -6.39211905e-01 -1.06594733e+00\n",
      " -1.13315796e-01  1.27624457e-01 -9.07730911e-01  2.09384219e-01\n",
      " -3.45552068e-02 -2.89886246e-01 -3.48849826e-01 -5.45465814e-01\n",
      "  4.35701026e-02 -2.71828196e-02  4.18028998e-01 -2.57235601e-02\n",
      "  2.42358369e-01 -4.00986688e-01 -5.08410357e-01 -2.66943145e-01\n",
      "  9.63377166e-03  4.62458168e-02  4.13108920e-01 -4.28232481e-01\n",
      " -3.87335655e-01 -5.88862972e-02 -5.94772020e-02 -2.22079734e-01\n",
      " -5.76970032e-01 -5.10643681e-01  1.12619844e-01  4.13790170e-01\n",
      "  8.44159202e-01 -8.67187857e-01  1.86633455e-01  6.55232963e-01\n",
      "  2.19232353e-01 -2.33012614e-01  7.28220823e-02  1.01304958e-01\n",
      "  2.09848445e-01 -2.36357938e-01  1.52182577e-01  6.63351631e-01\n",
      "  2.23352972e-01 -7.19782909e-02 -1.13067432e-01  1.48311101e-01\n",
      "  1.70751250e-01 -1.59584422e-02  3.98088179e-01  2.60299918e-01\n",
      "  1.38877463e-01  2.79948785e-02 -2.73434866e-01  1.47649850e-01\n",
      " -4.50696480e-01  3.28129152e-01 -4.02365228e-01  6.20119071e-01\n",
      " -8.10643578e-01 -3.33186598e-02  4.32622424e-01 -4.84185795e-01\n",
      " -3.70912556e-01 -3.96675087e-01  7.39652537e-01 -2.34166122e-01\n",
      " -1.70203842e-01  1.25733647e-01  3.97633681e-01  1.94365556e-01\n",
      "  2.55719488e-01 -1.38879731e-01 -8.40861032e-02  3.42247366e-01\n",
      " -1.36035214e-01 -1.62515818e-02  2.74051052e-01 -2.74792579e-01\n",
      " -1.51420981e-01 -5.55467718e-01 -4.72858054e-01  9.08272125e-02\n",
      "  7.80036549e-01  2.76571625e-02  1.08517172e-04 -1.79724411e-01\n",
      "  7.08545959e-01 -4.41213967e-01 -1.34388710e-01 -2.90030501e-01\n",
      "  7.31628903e-02  3.34296214e-01  1.94645115e-01  4.04281486e-01\n",
      " -3.05962768e-01  4.80764168e-01 -1.00088886e-01 -5.92174955e-02\n",
      "  8.93362386e-02  3.34045547e-02  1.67621729e-01  3.91691135e-01\n",
      "  2.41195178e-01  3.46653783e-01 -6.48987311e-02  1.56828102e-01\n",
      "  7.62929251e-01  1.50823028e-02  9.77867492e-02 -5.35341475e-01\n",
      "  4.89593317e-01  2.73790595e-01  1.27026541e-01 -7.33151652e-03\n",
      "  2.45448530e-01 -1.45203705e-01 -6.32309589e-02 -2.18650048e-01\n",
      " -1.92666269e-01  3.11309471e-02 -3.88032165e-01 -7.14277365e-01\n",
      "  6.90958082e-01  2.09517551e-01 -6.91841211e-01 -7.21839579e-02\n",
      " -2.28104914e-01  3.09919129e-02  4.54625357e-01 -5.90454946e-02\n",
      "  2.22662010e-01 -1.41862073e-01  1.27807129e-01  1.27780972e-02\n",
      "  7.07142768e-01 -1.77892072e+00  2.86805482e-01  2.67199232e-01\n",
      " -1.54626150e-01 -1.73085140e-01  5.03229615e-01 -5.99066467e-01\n",
      " -5.15326162e-01  4.23835466e-01  3.38364896e-01  1.00977968e+00\n",
      "  4.98957719e-01 -2.04556982e-01 -9.59773699e-03  5.73169304e-01\n",
      "  5.22077468e-02  6.56850317e-01  4.27591195e-01  2.63663400e-01\n",
      "  1.97710560e-01 -2.81333065e-01  6.71768863e-02  1.15245263e-01\n",
      "  4.87885270e-01  1.41201555e-01 -1.73342758e-01  4.53641996e-03\n",
      "  8.53359573e-02  1.00412028e-01 -1.99512445e-01  3.66410632e-01\n",
      " -1.75269194e-01 -1.89141935e-01  6.40003625e-01  2.28099855e-01\n",
      "  1.54302318e-01 -7.04199818e-01 -5.43460558e-02 -2.47207006e-01\n",
      " -4.60304593e-01  1.83304201e-02  7.76654594e-03  2.41589512e-01\n",
      "  3.74226415e-01  5.70672451e-01 -6.37737162e-01 -3.21434906e-02\n",
      " -4.59919330e-01 -5.91974647e-01  4.97931035e-01  6.43751833e-01\n",
      "  4.56282608e-02  3.75617472e-01  4.62088661e-01 -3.33191464e-01\n",
      " -2.82726654e-01  5.51658799e-01  1.48604315e-01 -2.15014280e-01\n",
      " -1.12020209e-01  1.41485456e-01 -3.09992756e-01  9.82126023e-02\n",
      "  4.30193885e-01 -1.91800695e-01 -1.77290211e-01 -1.44532365e+00\n",
      " -4.94717796e-01 -6.58515783e-01  2.93873479e-01  2.49056409e-01\n",
      " -5.39499312e-02 -2.82706107e-01  8.86283573e-01  8.54276938e-02\n",
      " -1.00284677e+00  4.02742215e-02  6.38158969e-01  2.29497861e-01\n",
      "  2.58979978e-01  3.27687676e-02  8.05923085e-01  1.71997707e-02\n",
      " -1.96188467e-01  2.56993384e-01  5.57637719e-01 -3.32457884e-01\n",
      " -2.40145528e-02  2.82545926e-01  1.46704964e-01  4.38722504e-01\n",
      "  5.14862159e-01  1.78963676e-01 -5.92957611e-01 -3.20358135e-02\n",
      "  2.87718513e-01  5.62614212e-01  1.11226691e-01  2.72717717e-01\n",
      "  1.27677621e-02  2.94077796e-02  1.17790143e+00  8.92906866e-01\n",
      "  1.22192491e-02  6.98926271e-02  3.57527137e-01  3.81402886e-01\n",
      " -2.15197014e-01  3.24744862e-01 -1.47672668e-03 -4.09612115e-01\n",
      "  4.50227308e-01  3.53723902e-01  5.14129401e-02  4.83600149e-01\n",
      "  6.84875296e-02  4.80684136e-01 -2.00835768e-02 -1.77802013e-01\n",
      " -3.45013625e-01  2.56619913e-01 -2.81375698e-01  3.15542601e-02\n",
      "  1.35639145e-01  7.66130384e-02 -1.12482049e+00  3.62550747e-01\n",
      "  5.08491130e-01 -3.93365564e-01 -6.09133276e-01  3.60700549e-01\n",
      "  5.48745606e-01  4.68135823e-01 -8.25587598e-02 -4.66260260e-01\n",
      " -2.49753326e-02  4.76888215e-01  5.22691665e-01 -1.31205638e-01\n",
      "  1.78624592e-01  6.43074324e-02 -1.95985051e-01  7.46211514e-01\n",
      "  4.08556325e-01  6.27675521e-01  3.83523638e-01 -2.16646441e-01\n",
      "  4.98650031e-01 -3.28350931e-01 -9.26702831e-02  3.02185521e-01\n",
      " -5.48821255e-01  8.16315168e-01  5.76661020e-01 -2.09512624e-01\n",
      "  4.54618298e-01  2.64758395e-01 -8.65976450e-01 -4.52472432e-01\n",
      "  4.32735112e-01 -2.07599471e-02 -6.98011788e-03  2.35052567e-01\n",
      " -2.19615337e-01 -5.41798942e-03  3.37449038e-01 -2.91602058e-01\n",
      " -1.47226108e-01  4.48106301e-03]\n"
     ]
    }
   ],
   "source": [
    "print(mf.b_u)"
   ]
  },
  {
   "cell_type": "markdown",
   "metadata": {},
   "source": [
    "#### Sesgo (Bias) por película:"
   ]
  },
  {
   "cell_type": "code",
   "execution_count": 22,
   "metadata": {},
   "outputs": [
    {
     "name": "stdout",
     "output_type": "stream",
     "text": [
      "[ 0.39094774 -0.23567605  0.39861317 ... -0.07797136 -0.07903556\n",
      " -0.08047292]\n"
     ]
    }
   ],
   "source": [
    "print(mf.b_i)"
   ]
  },
  {
   "cell_type": "markdown",
   "metadata": {},
   "source": [
    "#### Tiempo de procesamiento (SGD):"
   ]
  },
  {
   "cell_type": "code",
   "execution_count": 23,
   "metadata": {},
   "outputs": [
    {
     "name": "stdout",
     "output_type": "stream",
     "text": [
      "Tiempo de procesamiento: 890.8100957870483\n"
     ]
    }
   ],
   "source": [
    "t_2 = time()\n",
    "print(\"Tiempo de procesamiento:\",t_2 - t_1)"
   ]
  },
  {
   "cell_type": "markdown",
   "metadata": {},
   "source": [
    "#### Gráfico Iteraciones vs Raíz del Error Cuadrático Medio (RMSE)"
   ]
  },
  {
   "cell_type": "code",
   "execution_count": 25,
   "metadata": {},
   "outputs": [
    {
     "data": {
      "image/png": "[encoded data removed]",
      "text/plain": [
       "<Figure size 1152x288 with 1 Axes>"
      ]
     },
     "metadata": {
      "needs_background": "light"
     },
     "output_type": "display_data"
    }
   ],
   "source": [
    "import matplotlib.pyplot as plt\n",
    "x = [x for x, y in training_process]\n",
    "y = [y for x, y in training_process]\n",
    "plt.figure(figsize=((16,4)))\n",
    "plt.plot(x, y)\n",
    "plt.xticks(x, x)\n",
    "plt.xlabel(\"Iteraciones\")\n",
    "plt.ylabel(\"RMSE\")\n",
    "plt.grid(axis=\"y\")"
   ]
  },
  {
   "cell_type": "markdown",
   "metadata": {},
   "source": [
    "### Comparaciones de Predicciones"
   ]
  },
  {
   "cell_type": "code",
   "execution_count": 32,
   "metadata": {},
   "outputs": [],
   "source": [
    "CUR_df = pd.DataFrame\n",
    "CUR_df = CUR\n",
    "SVD90_df = pd.DataFrame\n",
    "SVD90_df = SVD90\n",
    "\n",
    "compara = pd.DataFrame(columns=['Usr', 'Película', 'Original', 'Pred CUR', 'Pred SVD_90', 'Pred SGD'])\n",
    "compara = compara.append({'Usr': '0', 'Película': '0', 'Original': matriz_uspl[0][0], 'Pred CUR': CUR_df[0][0], 'Pred SVD_90': SVD90_df[0][0], 'Pred SGD': mf.full_matrix()[0][0]}, ignore_index=True)\n",
    "compara = compara.append({'Usr': '5', 'Película': '2', 'Original': matriz_uspl[5][2], 'Pred CUR': CUR_df[5][2], 'Pred SVD_90': SVD90_df[5][2], 'Pred SGD': mf.full_matrix()[5][2]}, ignore_index=True)\n",
    "compara = compara.append({'Usr': '7', 'Película': '4', 'Original': matriz_uspl[7][4], 'Pred CUR': CUR_df[7][4], 'Pred SVD_90': SVD90_df[7][4], 'Pred SGD': mf.full_matrix()[7][4]}, ignore_index=True)\n",
    "compara = compara.append({'Usr': '313', 'Película': '3', 'Original': matriz_uspl[313][3], 'Pred CUR': CUR_df[313][3], 'Pred SVD_90': SVD90_df[313][3], 'Pred SGD': mf.full_matrix()[313][3]}, ignore_index=True)\n",
    "compara = compara.append({'Usr': '316', 'Película': '16', 'Original': matriz_uspl[316][16], 'Pred CUR': CUR_df[316][16], 'Pred SVD_90': SVD90_df[316][16], 'Pred SGD': mf.full_matrix()[316][16]}, ignore_index=True)\n",
    "compara = compara.append({'Usr': '609', 'Película': '3', 'Original': matriz_uspl[609][3], 'Pred CUR': CUR_df[609][3], 'Pred SVD_90': SVD90_df[609][3], 'Pred SGD': mf.full_matrix()[609][3]}, ignore_index=True)"
   ]
  },
  {
   "cell_type": "code",
   "execution_count": 33,
   "metadata": {},
   "outputs": [
    {
     "name": "stdout",
     "output_type": "stream",
     "text": [
      "   Usr Película  Original  Pred CUR  Pred SVD_90  Pred SGD\n",
      "0    0        0       4.0       0.0     1.722981  4.599835\n",
      "1    5        2       4.0       0.0    -0.170279  4.025648\n",
      "2    7        4       5.0       5.0     0.784783  4.183601\n",
      "3  313        3       1.0       0.0     3.280314  3.569334\n",
      "4  316       16       5.0       0.0     4.093029  4.011689\n",
      "5  609        3       5.0       5.0     1.682595  3.859338\n"
     ]
    }
   ],
   "source": [
    "print(compara)"
   ]
  },
  {
   "cell_type": "markdown",
   "metadata": {},
   "source": [
    "#### Prueba con 20 factores\n",
    "##### K = 20 factores\n",
    "##### alpha (tasa de aprendizaje) = 0.01\n",
    "##### beta (parámetro de regularización) = 0.1\n",
    "##### iterations (iteraciones) = 20"
   ]
  },
  {
   "cell_type": "code",
   "execution_count": 36,
   "metadata": {},
   "outputs": [
    {
     "name": "stdout",
     "output_type": "stream",
     "text": [
      "Iteration: 10 ; error = 0.8162\n",
      "Iteration: 20 ; error = 0.7978\n",
      "Tiempo de procesamiento: 277.1121208667755\n"
     ]
    }
   ],
   "source": [
    "t_1 = time() # Se cuenta el tiempo de procesamiento\n",
    "mf_2 = MF(matriz_uspl, K=20, alpha=0.01, beta=0.1, iterations=20) # Se ingresa la matriz de \n",
    "# usuarios y películas\n",
    "training_process_2 = mf_2.train() #Los valores de iteración y error se guardan en esta variable\n",
    "t_2 = time()\n",
    "print(\"Tiempo de procesamiento:\",t_2 - t_1)"
   ]
  },
  {
   "cell_type": "code",
   "execution_count": 37,
   "metadata": {},
   "outputs": [
    {
     "data": {
      "image/png": "[encoded data removed]",
      "text/plain": [
       "<Figure size 1152x288 with 1 Axes>"
      ]
     },
     "metadata": {
      "needs_background": "light"
     },
     "output_type": "display_data"
    }
   ],
   "source": [
    "import matplotlib.pyplot as plt\n",
    "x = [x for x, y in training_process_2]\n",
    "y = [y for x, y in training_process_2]\n",
    "plt.figure(figsize=((16,4)))\n",
    "plt.plot(x, y)\n",
    "plt.xticks(x, x)\n",
    "plt.xlabel(\"Iteraciones\")\n",
    "plt.ylabel(\"RMSE\")\n",
    "plt.grid(axis=\"y\")"
   ]
  },
  {
   "cell_type": "markdown",
   "metadata": {},
   "source": [
    "#### Prueba con 30 factores\n",
    "##### K = 30 factores\n",
    "##### alpha (tasa de aprendizaje) = 0.01\n",
    "##### beta (parámetro de regularización) = 0.1\n",
    "##### iterations (iteraciones) = 20"
   ]
  },
  {
   "cell_type": "code",
   "execution_count": 40,
   "metadata": {},
   "outputs": [
    {
     "name": "stdout",
     "output_type": "stream",
     "text": [
      "Iteration: 10 ; error = 0.8164\n",
      "Iteration: 20 ; error = 0.8001\n",
      "Tiempo de procesamiento: 380.79756569862366\n"
     ]
    }
   ],
   "source": [
    "t_1 = time() # Se cuenta el tiempo de procesamiento\n",
    "mf_3 = MF(matriz_uspl, K=30, alpha=0.01, beta=0.1, iterations=20) # Se ingresa la matriz de \n",
    "# usuarios y películas\n",
    "training_process_3 = mf_3.train() #Los valores de iteración y error se guardan en esta variable\n",
    "t_2 = time()\n",
    "print(\"Tiempo de procesamiento:\",t_2 - t_1)"
   ]
  },
  {
   "cell_type": "code",
   "execution_count": 41,
   "metadata": {},
   "outputs": [
    {
     "data": {
      "image/png": "[encoded data removed]",
      "text/plain": [
       "<Figure size 1152x288 with 1 Axes>"
      ]
     },
     "metadata": {
      "needs_background": "light"
     },
     "output_type": "display_data"
    }
   ],
   "source": [
    "import matplotlib.pyplot as plt\n",
    "x = [x for x, y in training_process_3]\n",
    "y = [y for x, y in training_process_3]\n",
    "plt.figure(figsize=((16,4)))\n",
    "plt.plot(x, y)\n",
    "plt.xticks(x, x)\n",
    "plt.xlabel(\"Iteraciones\")\n",
    "plt.ylabel(\"RMSE\")\n",
    "plt.grid(axis=\"y\")"
   ]
  },
  {
   "cell_type": "markdown",
   "metadata": {},
   "source": [
    "#### Prueba con 40 factores\n",
    "##### K = 40 factores\n",
    "##### alpha (tasa de aprendizaje) = 0.01\n",
    "##### beta (parámetro de regularización) = 0.1\n",
    "##### iterations (iteraciones) = 20"
   ]
  },
  {
   "cell_type": "code",
   "execution_count": 42,
   "metadata": {},
   "outputs": [
    {
     "name": "stdout",
     "output_type": "stream",
     "text": [
      "Iteration: 10 ; error = 0.8171\n",
      "Iteration: 20 ; error = 0.8007\n",
      "Tiempo de procesamiento: 521.5442752838135\n"
     ]
    }
   ],
   "source": [
    "t_1 = time() # Se cuenta el tiempo de procesamiento\n",
    "mf_4 = MF(matriz_uspl, K=40, alpha=0.01, beta=0.1, iterations=20) # Se ingresa la matriz de \n",
    "# usuarios y películas\n",
    "training_process_4 = mf_4.train() #Los valores de iteración y error se guardan en esta variable\n",
    "t_2 = time()\n",
    "print(\"Tiempo de procesamiento:\",t_2 - t_1)"
   ]
  },
  {
   "cell_type": "code",
   "execution_count": 43,
   "metadata": {},
   "outputs": [
    {
     "data": {
      "image/png": "[encoded data removed]",
      "text/plain": [
       "<Figure size 1152x288 with 1 Axes>"
      ]
     },
     "metadata": {
      "needs_background": "light"
     },
     "output_type": "display_data"
    }
   ],
   "source": [
    "import matplotlib.pyplot as plt\n",
    "x = [x for x, y in training_process_4]\n",
    "y = [y for x, y in training_process_4]\n",
    "plt.figure(figsize=((16,4)))\n",
    "plt.plot(x, y)\n",
    "plt.xticks(x, x)\n",
    "plt.xlabel(\"Iteraciones\")\n",
    "plt.ylabel(\"RMSE\")\n",
    "plt.grid(axis=\"y\")"
   ]
  },
  {
   "cell_type": "markdown",
   "metadata": {},
   "source": [
    "#### Prueba con 20 factores, 40 iteraciones\n",
    "##### K = 20 factores\n",
    "##### alpha (tasa de aprendizaje) = 0.01\n",
    "##### beta (parámetro de regularización) = 0.1\n",
    "##### iterations (iteraciones) = 40"
   ]
  },
  {
   "cell_type": "code",
   "execution_count": 44,
   "metadata": {},
   "outputs": [
    {
     "name": "stdout",
     "output_type": "stream",
     "text": [
      "Iteration: 10 ; error = 0.8157\n",
      "Iteration: 20 ; error = 0.7973\n",
      "Iteration: 30 ; error = 0.7726\n",
      "Iteration: 40 ; error = 0.7400\n",
      "Tiempo de procesamiento: 603.7711415290833\n"
     ]
    }
   ],
   "source": [
    "t_1 = time() # Se cuenta el tiempo de procesamiento\n",
    "mf_5 = MF(matriz_uspl, K=20, alpha=0.01, beta=0.1, iterations=40) # Se ingresa la matriz de usuarios y películas\n",
    "training_process_5 = mf_5.train() # Los valores de iteración y error se guardan en esta variable\n",
    "t_2 = time()\n",
    "print(\"Tiempo de procesamiento:\",t_2 - t_1)"
   ]
  },
  {
   "cell_type": "code",
   "execution_count": 45,
   "metadata": {},
   "outputs": [
    {
     "data": {
      "image/png": "[encoded data removed]",
      "text/plain": [
       "<Figure size 1152x288 with 1 Axes>"
      ]
     },
     "metadata": {
      "needs_background": "light"
     },
     "output_type": "display_data"
    }
   ],
   "source": [
    "import matplotlib.pyplot as plt\n",
    "x = [x for x, y in training_process_5]\n",
    "y = [y for x, y in training_process_5]\n",
    "plt.figure(figsize=((16,4)))\n",
    "plt.plot(x, y)\n",
    "plt.xticks(x, x)\n",
    "plt.xlabel(\"Iteraciones\")\n",
    "plt.ylabel(\"RMSE\")\n",
    "plt.grid(axis=\"y\")"
   ]
  },
  {
   "cell_type": "markdown",
   "metadata": {},
   "source": [
    "#### Prueba con 20 factores, 100 iteraciones\n",
    "##### K = 20 factores\n",
    "##### alpha (tasa de aprendizaje) = 0.01\n",
    "##### beta (parámetro de regularización) = 0.1\n",
    "##### iterations (iteraciones) = 100"
   ]
  },
  {
   "cell_type": "code",
   "execution_count": 46,
   "metadata": {},
   "outputs": [
    {
     "name": "stdout",
     "output_type": "stream",
     "text": [
      "Iteration: 10 ; error = 0.8160\n",
      "Iteration: 20 ; error = 0.7978\n",
      "Iteration: 30 ; error = 0.7757\n",
      "Iteration: 40 ; error = 0.7416\n",
      "Iteration: 50 ; error = 0.7049\n",
      "Iteration: 60 ; error = 0.6727\n",
      "Iteration: 70 ; error = 0.6475\n",
      "Iteration: 80 ; error = 0.6272\n",
      "Iteration: 90 ; error = 0.6120\n",
      "Iteration: 100 ; error = 0.5999\n",
      "Tiempo de procesamiento: 1306.313010931015\n"
     ]
    }
   ],
   "source": [
    "t_1 = time() # Se cuenta el tiempo de procesamiento\n",
    "mf_5 = MF(matriz_uspl, K=20, alpha=0.01, beta=0.1, iterations=100) # Se ingresa la matriz de usuarios y películas\n",
    "training_process_5 = mf_5.train() # Los valores de iteración y error se guardan en esta variable\n",
    "t_2 = time()\n",
    "print(\"Tiempo de procesamiento:\",t_2 - t_1)"
   ]
  },
  {
   "cell_type": "code",
   "execution_count": 47,
   "metadata": {},
   "outputs": [
    {
     "data": {
      "image/png": "[encoded data removed]",
      "text/plain": [
       "<Figure size 1152x288 with 1 Axes>"
      ]
     },
     "metadata": {
      "needs_background": "light"
     },
     "output_type": "display_data"
    }
   ],
   "source": [
    "import matplotlib.pyplot as plt\n",
    "x = [x for x, y in training_process_5]\n",
    "y = [y for x, y in training_process_5]\n",
    "plt.figure(figsize=((16,4)))\n",
    "plt.plot(x, y)\n",
    "plt.xticks(x, x)\n",
    "plt.xlabel(\"Iteraciones\")\n",
    "plt.ylabel(\"RMSE\")\n",
    "plt.grid(axis=\"y\")"
   ]
  },
  {
   "cell_type": "markdown",
   "metadata": {},
   "source": [
    "### Comparaciones de Predicciones SGD"
   ]
  },
  {
   "cell_type": "code",
   "execution_count": 50,
   "metadata": {},
   "outputs": [],
   "source": [
    "compara_2 = pd.DataFrame(columns=['Usr', 'Película', 'Original', 'SGD_K10_I20', 'SGD_K20_I100'])\n",
    "compara_2 = compara_2.append({'Usr': '0', 'Película': '0', 'Original': matriz_uspl[0][0], 'SGD_K10_I20': mf.full_matrix()[0][0], 'SGD_K20_I100': mf_5.full_matrix()[0][0]},ignore_index=True)\n",
    "compara_2 = compara_2.append({'Usr': '5', 'Película': '2', 'Original': matriz_uspl[5][2], 'SGD_K10_I20': mf.full_matrix()[5][2], 'SGD_K20_I100': mf_5.full_matrix()[5][2]},ignore_index=True)\n",
    "compara_2 = compara_2.append({'Usr': '7', 'Película': '4', 'Original': matriz_uspl[7][4], 'SGD_K10_I20': mf.full_matrix()[7][4], 'SGD_K20_I100': mf_5.full_matrix()[7][4]},ignore_index=True)\n",
    "compara_2 = compara_2.append({'Usr': '313', 'Película': '3', 'Original': matriz_uspl[313][3], 'SGD_K10_I20': mf.full_matrix()[313][3],'SGD_K20_I100': mf_5.full_matrix()[313][3]}, ignore_index=True)\n",
    "compara_2 = compara_2.append({'Usr': '316', 'Película': '16', 'Original': matriz_uspl[316][16], 'SGD_K10_I20': mf.full_matrix()[316][16], 'SGD_K20_I100': mf_5.full_matrix()[316][16]},ignore_index=True)\n",
    "compara_2 = compara_2.append({'Usr': '609', 'Película': '3', 'Original': matriz_uspl[609][3], 'SGD_K10_I20': mf.full_matrix()[609][3], 'SGD_K20_I100': mf_5.full_matrix()[609][3]},ignore_index=True)"
   ]
  },
  {
   "cell_type": "code",
   "execution_count": 51,
   "metadata": {},
   "outputs": [
    {
     "name": "stdout",
     "output_type": "stream",
     "text": [
      "   Usr Película  Original  SGD_K10_I20  SGD_K20_I100\n",
      "0    0        0       4.0     4.599835      4.476277\n",
      "1    5        2       4.0     4.025648      3.949980\n",
      "2    7        4       5.0     4.183601      4.281579\n",
      "3  313        3       1.0     3.569334      3.353286\n",
      "4  316       16       5.0     4.011689      4.649035\n",
      "5  609        3       5.0     3.859338      4.188230\n"
     ]
    }
   ],
   "source": [
    "print(compara_2)"
   ]
  }
 ],
 "metadata": {
  "kernelspec": {
   "display_name": "Python 3",
   "language": "python",
   "name": "python3"
  },
  "language_info": {
   "codemirror_mode": {
    "name": "ipython",
    "version": 3
   },
   "file_extension": ".py",
   "mimetype": "text/x-python",
   "name": "python",
   "nbconvert_exporter": "python",
   "pygments_lexer": "ipython3",
   "version": "3.6.6"
  }
 },
 "nbformat": 4,
 "nbformat_minor": 2
}
