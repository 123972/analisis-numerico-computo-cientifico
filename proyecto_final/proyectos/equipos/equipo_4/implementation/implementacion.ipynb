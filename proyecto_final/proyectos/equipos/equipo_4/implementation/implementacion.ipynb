{
 "cells": [
  {
   "cell_type": "markdown",
   "metadata": {},
   "source": [
    "## 1. Código para obtener la anomalía sintética de los tres cilindros"
   ]
  },
  {
   "cell_type": "code",
   "execution_count": 7,
   "metadata": {},
   "outputs": [],
   "source": [
    "import numpy as np\n",
    "from matplotlib import pyplot as plt\n",
    "from mpl_toolkits import mplot3d"
   ]
  },
  {
   "cell_type": "code",
   "execution_count": 8,
   "metadata": {},
   "outputs": [
    {
     "data": {
      "text/plain": [
       "Text(0,0.5,'g(mgal)')"
      ]
     },
     "execution_count": 8,
     "metadata": {},
     "output_type": "execute_result"
    },
    {
     "data": {
      "image/png": "[encoded data removed]",
      "text/plain": [
       "<Figure size 432x288 with 1 Axes>"
      ]
     },
     "metadata": {},
     "output_type": "display_data"
    }
   ],
   "source": [
    "\n",
    "\n",
    "#p =np.array([1500,10,11,125,1000,20,22.5,300,-1000,5,6,425])\n",
    "p =np.array([1000,20,22.5,300,-1000,5,6,425,1500,10,11,125])\n",
    "x=np.linspace(0,500,201)\n",
    "#p =np.array([1500,10,11,125])\n",
    "#p =np.array([1000,20,22.5,300])\n",
    "#p =np.array([-1000,5,6,425])\n",
    "gamma=6.6673e-5\n",
    "gcalc = np.zeros((201,))\n",
    "sintetica = np.zeros(len(x))\n",
    "\n",
    "for i in np.arange(len(x)):\n",
    "    k=0\n",
    "    for j in np.arange(3):\n",
    "        sintetica[i] =  sintetica[i] + 2*np.pi*gamma*np.power(p[1+k],2)*p[0+k]*p[2+k]/ np.power((( x[i] - p[3+k])**2 + (p[2+k])**2),1.5)\n",
    "        k=k+4\n",
    "plt.plot(x,sintetica,'*')\n",
    "#plt.plot(anomalia[0:100])\n",
    "plt.xlabel(\"distancia(m)\")\n",
    "plt.ylabel(\"g(mgal)\")"
   ]
  },
  {
   "cell_type": "markdown",
   "metadata": {},
   "source": [
    "## 2. Aplicación de PSO a la anomalía sintética de los tres cilindros"
   ]
  },
  {
   "cell_type": "markdown",
   "metadata": {},
   "source": [
    "A continuación se brinda un breve resumen de las variables y subrutinas en las que consiste el programa:"
   ]
  },
  {
   "cell_type": "markdown",
   "metadata": {},
   "source": [
    "###  Variable tipo objeto \"swarm\""
   ]
  },
  {
   "cell_type": "markdown",
   "metadata": {},
   "source": [
    "Para hacer más fácil la implementación de PSO a nuestro problema, se generó una variable tipo objeto denominada \"swarm\", la cual almacena lo siguiente: "
   ]
  },
  {
   "cell_type": "markdown",
   "metadata": {},
   "source": [
    "entero:\n",
    "\n",
    "    n= tamaño de la poblacion\n",
    "\n",
    "    dim = numero de parametros a optimizar\n",
    "\n",
    "    modsize = tamaño del modelo (numero de datos de la anomalia)\n",
    "\n",
    "reales:\n",
    "\n",
    "    minerr = error mínimo encontrado hasta ahora en todo el enjambre\n",
    "\n",
    "matrices:\n",
    "    \n",
    "    pob(n,dim) = posiciones de cada una de las partículas\n",
    "    \n",
    "    bestpob(n,dim)=almacena la mejor posición de cada poblador hasta el momento\n",
    "    \n",
    "    vel(n,dim)= almacena la velocidad actual de cada poblador en cada dirección posible \n",
    "    \n",
    "    rango(n,2)= Almacena el rango de búsqueda de cada parámetro, rango(i,1)= Límite inferior\n",
    "    \n",
    "    Rango(i,2)=limite superior\n",
    "    \n",
    "    modcalc(n,modsize)=almacena la anomalía generada por cada poblador\n",
    "\n",
    "vectores:\n",
    "\n",
    "    \n",
    "    gbest(dim)=almacena el mejor modelo global\n",
    "    \n",
    "    parterr(n)=almacena el error minimo que ha encontrado cada poblador hasta el momento"
   ]
  },
  {
   "cell_type": "markdown",
   "metadata": {},
   "source": [
    "### Subrutina pini_obj"
   ]
  },
  {
   "cell_type": "markdown",
   "metadata": {},
   "source": [
    "Esta función inicializa todas las variables necesarias para ejecutar el algoritmo,\n",
    "genera un enjambre con las características definidas por el usuario \n",
    "(tamaño del enjambre y # de parámetros).\n",
    "Inicializa el vector de Velocidades el cual es necesario para poder mover las partículas."
   ]
  },
  {
   "cell_type": "markdown",
   "metadata": {},
   "source": [
    "parametros de entrada: \n",
    "\n",
    "    n = numero de partículas que se desea tenga el enjambre n\n",
    "\n",
    "    range= vector en el que se indican los valores máximos y minimos de búsqueda para cada\n",
    "\n",
    "    parámetro, debe de ser de diemsnion (dim,2): dim=# de parámetros \n",
    "\n",
    "    range(i,1)=Valor minimo aceptable para el parametro i\n",
    "\n",
    "    range(i,2)=Valor minimo aceptable para el parametro i\n",
    "\n",
    "    sw= Variable tipo enjambre donde se almacenará toda la información de los modelos\n",
    "\n"
   ]
  },
  {
   "cell_type": "markdown",
   "metadata": {},
   "source": [
    "parametros de salida:\n",
    "    \n",
    "    n=numero de particulas\n",
    "\n",
    "    dim = parametros por particula\n",
    "\n",
    "    pob=arreglo que almacena la posición de cada poblador de dimensiones (n,dim)\n",
    "\n",
    "    bestpob = Arreglo que almacena la mejor posición para cada poblador, dimensiones (n,dim)\n",
    "\n",
    "       vel = Arreglo que almacena la velocidad en cada dimension para cada poblador, dimensiones (n,dim) \n",
    "\n",
    "    rango = arreglo que almacena los límites superior en inferior para cada parámetro, dimensiones (dim,2) \n",
    "\n",
    "    gbest = Vector que almmacena el mejor modelo (parámetros de los cilindros) global ,dimensiones (dim) \n",
    "\n",
    "    parterr = Arreglo que almacena el error minimo para cada partícula, dimensiones (n) \n",
    "\n",
    "    minerr = Valor que almacena el error actual del mejor modelo hasta el momento"
   ]
  },
  {
   "cell_type": "markdown",
   "metadata": {},
   "source": [
    "### Subrutina  swarmerr\n",
    "Se trata de una subrutina de calculo del error.\n",
    "\n",
    "Esta función calcula el error de cada modelo y lo compara con el error global y local actualizando los modelos y valores de error en caso de ser necesario.\n",
    "\n",
    "Parametros de entrada : \n",
    "    sw tipo enjambre con modelos previamente calculados\n",
    "\n",
    "    func = Anomalía de la cual se busca encontrar los parámetros\n",
    "\n",
    "Parametros de salida :\n",
    "\n",
    "    sw Con valores de modelos y error actualizados"
   ]
  },
  {
   "cell_type": "markdown",
   "metadata": {},
   "source": [
    "### Subrutina P_move_fobj"
   ]
  },
  {
   "cell_type": "markdown",
   "metadata": {},
   "source": [
    "Es una función que realiza el movimiento de partículas.\n",
    "\n",
    "Mueve cada partícula del enjambre según las ecuaciones propuestas por Eberheart para el PSO :\n",
    "\n",
    "    v(i,d)=w*(v(i,d))+beta*(gb(d)-x(i,d))+alpha*(pbest(i,d)-x(i,d))\n",
    "\n",
    "    x(i,d)=x(i,d)+v(i,d)\n",
    "\n",
    "Parametros de entrada :  \n",
    "\n",
    "    sw tipo enjambre con valores ya inicializados\n",
    "\n",
    "    w = Peso inercial \n",
    "\n",
    "    alpha y beta = Parámetros de aprendizaje\n",
    "\n",
    "Parametros de salida :\n",
    "\n",
    "    p_move(dim,n)= Posiciones nuevas para cada partícula en el espacio \"dim\"-dimensional"
   ]
  },
  {
   "cell_type": "markdown",
   "metadata": {},
   "source": [
    "### Input del programa"
   ]
  },
  {
   "cell_type": "code",
   "execution_count": 9,
   "metadata": {},
   "outputs": [],
   "source": [
    "#minerr,pob,bestpob,vel,rango,modcalc,Tfobj,Tmodcalc,gbest,parterr,fobj,we\n",
    "class swarm():\n",
    "    def __init__(self,n,dim,minerr,pob,bestpob,vel,rango,modcalc,gbest,parterr):\n",
    "        self.n = n\n",
    "        self.dim = dim\n",
    "        #self.modsize = modsize\n",
    "        self.minerr = minerr\n",
    "        self.pob = pob\n",
    "        self.bestpob = bestpob\n",
    "        self.vel = vel\n",
    "        self.rango = rango\n",
    "        self.modcalc = modcalc\n",
    "        #self.Tfobj = Tfobj\n",
    "        #self.modcalc = modcalc\n",
    "        self.gbest = gbest\n",
    "        self.parterr = parterr\n",
    "        #self.fobj = fobj\n",
    "        #self.we = we"
   ]
  },
  {
   "cell_type": "code",
   "execution_count": 10,
   "metadata": {
    "scrolled": true
   },
   "outputs": [],
   "source": [
    "def pini_obj(n,range_m):\n",
    "\n",
    "    #n =n_pob\n",
    "    #range_m=rango\n",
    "    dim = range_m.shape[0]\n",
    "    modsize = len(anomalia)\n",
    "    minerr = 999999\n",
    "    pob = np.random.random((n,dim))\n",
    "    bestpob = np.zeros((n,dim))\n",
    "    vel = np.zeros((n,dim))\n",
    "    rango = range_m\n",
    "    modcalc =np.zeros((n,modsize)) #modsize num datos de anomalia\n",
    "    #Tfobj = Tfobj\n",
    "    #Tmodcalc = Tmodcalc\n",
    "    gbest = np.zeros((dim,))\n",
    "    parterr = np.full((n,),np.inf)\n",
    "    \n",
    "    sw = swarm(n,dim,minerr,pob,bestpob,vel,rango,modcalc,gbest,parterr)\n",
    " \n",
    "    sw.dim= dim\n",
    "    sw.n=n    \n",
    "    \n",
    "    sw.pob=pob \n",
    "    sw.bestpob=bestpob\n",
    "    sw.vel=vel\n",
    "    sw.gbest=gbest\n",
    "    sw.parterr = parterr\n",
    "    sw.modcalc= modcalc\n",
    "    sw.modsize=modsize\n",
    "    #fobj = fobj\n",
    "    #we = we\n",
    "    np.random.random((n,dim)) \n",
    "    sw.rango = range_m\n",
    "\n",
    "    for j in np.arange(dim):\n",
    "        dimr = sw.rango[j,1]-sw.rango[j,0]\n",
    "        for i in np.arange(n):\n",
    "            sw.pob[i,j]= sw.pob[i,j]*dimr + sw.rango[j,0]\n",
    "    sw.bestpob = sw.pob\n",
    "   \n",
    "    sw.parterr = np.full((n,),np.inf) \n",
    "    sw.minerr = np.inf \n",
    "    print(\"se han generado n pobladores de dimensiones dim :\",n,dim)\n",
    "\n",
    "    return sw\n",
    "\n",
    "\n",
    "\n"
   ]
  },
  {
   "cell_type": "code",
   "execution_count": 11,
   "metadata": {},
   "outputs": [],
   "source": [
    "def swarmerr(sw,func):\n",
    "#func=anomalia\n",
    "    for i in np.arange(sw.n):\n",
    "    #se guarda la anomalía calculada en una nueva variable\n",
    "        f2 = sw.modcalc[i,:] #modelo calculado\n",
    "    #se calcula el error l2 entre el modelo i y la anomalía\n",
    "        errtemp = errn(func,f2,2)\n",
    "    #se evalúa el error local y se actualiza la memoria de ser necesario\n",
    "        if(errtemp<sw.parterr[i]):\n",
    "            sw.parterr[i]=errtemp\n",
    "            sw.bestpob[i,:] = sw.pob[i,:]\n",
    "    #se evalúa el error global y se actualiza la memoria de ser necesario\n",
    "        if(errtemp<sw.minerr):    \n",
    "            sw.minerr = errtemp\n",
    "            sw.gbest=sw.pob[i,:]\n",
    " "
   ]
  },
  {
   "cell_type": "code",
   "execution_count": 12,
   "metadata": {},
   "outputs": [],
   "source": [
    "def errn(obs,calc,norm):\n",
    "    #obs=anomalia\n",
    "    #calc=sw.modcalc[i,:]\n",
    "    #norm=2\n",
    "    n=len(obs)\n",
    "    i = len(calc)\n",
    "    if(n!=i):\n",
    "        print(\"tamanos distintos\")\n",
    "    else:\n",
    "        suma = 0.0\n",
    "        suma2 = 0.0\n",
    "        for i in np.arange(n):\n",
    "            suma = suma + np.abs(obs[i]-calc[i])**norm\n",
    "            suma2 = suma2 + obs[i]**norm\n",
    "    errn = suma**(1.0/norm)/suma2\n",
    "    \n",
    "    return errn    "
   ]
  },
  {
   "cell_type": "code",
   "execution_count": 13,
   "metadata": {},
   "outputs": [],
   "source": [
    "def P_move_fobj(sw,w,alpha,beta):\n",
    "#w=we\n",
    "    n=sw.n\n",
    "    dim = sw.dim\n",
    "    randaux=np.random.random((n,dim,3))\n",
    "    for i in np.arange(n):\n",
    "        for j in np.arange(dim):\n",
    "            temp = sw.pob[i,j]\n",
    "            sw.vel[i,j]= sw.vel[i,j]*w + alpha*randaux[i,j,0]*(sw.gbest[j]-sw.pob[i,j])\n",
    "            sw.vel[i,j]= sw.vel[i,j] + beta*randaux[i,j,1]*(sw.bestpob[i,j]-sw.pob[i,j])\n",
    "            sw.pob[i,j]=sw.pob[i,j]+ sw.vel[i,j]\n",
    "            dimrange = sw.rango[j,1] - sw.rango[j,0]\n",
    "            if(sw.pob[i,j] < sw.rango[j,0]) or (sw.pob[i,j]>sw.rango[j,1]):\n",
    "                sw.pob[i,j] = temp\n",
    "                sw.vel[i,j] = -sw.vel[i,j]\n"
   ]
  },
  {
   "cell_type": "markdown",
   "metadata": {},
   "source": [
    "## Programa principal:"
   ]
  },
  {
   "cell_type": "code",
   "execution_count": 14,
   "metadata": {},
   "outputs": [],
   "source": [
    "#PARAMETROS DEL PROGRAMA\n",
    "alpha = 1.5\n",
    "beta = 1.2\n",
    "we = 0.5\n",
    "gamma=6.6673e-5\n",
    "n_pob = 100\n",
    "itera = 1000\n",
    "prm = 10**(-20)\n",
    "tol= 0.001\n",
    "\n",
    "\n",
    "anomalia = sintetica\n",
    "n = len(anomalia)\n",
    "dobs=np.zeros((n,2))\n",
    "matdcalc=np.zeros((n,2))\n",
    "dobs[:,0] = x\n",
    "dobs[:,1]= anomalia\n",
    "\n",
    "#Límites para el dominio de búsqueda de densidad,radio y profundidad\n",
    "rango=np.array([[1400,1600],[0,20],[0,20],[100,200],[900,1100],\n",
    "        [10,30],[10,30],[220,320],[-1200,0],[0,10],[0,10],[300,500]]) #los rangos no estaban bien"
   ]
  },
  {
   "cell_type": "code",
   "execution_count": 16,
   "metadata": {},
   "outputs": [
    {
     "name": "stdout",
     "output_type": "stream",
     "text": [
      "se han generado n pobladores de dimensiones dim : 100 12\n"
     ]
    }
   ],
   "source": [
    "sw=pini_obj(n_pob,rango)\n",
    "d_c = anomalia\n",
    "#aqui comienza el verdadero PSO\n",
    "minerr=1\n",
    "l=0\n",
    "#archivo en el cual se escribira el error l2 obtenido en cada iteración:\n",
    "file=open(\"salida.dat\",\"w\")\n",
    "\n"
   ]
  },
  {
   "cell_type": "code",
   "execution_count": 256,
   "metadata": {},
   "outputs": [
    {
     "name": "stdout",
     "output_type": "stream",
     "text": [
      "1.0538780878908136\n",
      "0.7056395059082072\n",
      "0.6167700744650183\n",
      "0.5859352751656145\n",
      "0.4443691413509355\n",
      "0.4237474115024679\n",
      "0.4019585584158723\n",
      "0.38123490128338416\n",
      "0.3260051176162316\n",
      "0.32151328779377925\n",
      "0.29321694144739846\n",
      "0.29321694144739846\n",
      "0.29321694144739846\n",
      "0.29321694144739846\n",
      "0.29321694144739846\n",
      "0.29321694144739846\n",
      "0.29321694144739846\n",
      "0.29321694144739846\n",
      "0.29321694144739846\n",
      "0.29321694144739846\n",
      "0.29321694144739846\n",
      "0.29321694144739846\n"
     ]
    },
    {
     "ename": "KeyboardInterrupt",
     "evalue": "",
     "output_type": "error",
     "traceback": [
      "\u001b[0;31m---------------------------------------------------------------------------\u001b[0m",
      "\u001b[0;31mKeyboardInterrupt\u001b[0m                         Traceback (most recent call last)",
      "\u001b[0;32m<ipython-input-256-2128de897a7b>\u001b[0m in \u001b[0;36m<module>\u001b[0;34m()\u001b[0m\n\u001b[1;32m     11\u001b[0m             \u001b[0mi\u001b[0m\u001b[0;34m\u001b[0m\u001b[0m\n\u001b[1;32m     12\u001b[0m             \u001b[0;32mfor\u001b[0m \u001b[0mj\u001b[0m \u001b[0;32min\u001b[0m \u001b[0mnp\u001b[0m\u001b[0;34m.\u001b[0m\u001b[0marange\u001b[0m\u001b[0;34m(\u001b[0m\u001b[0;36m3\u001b[0m\u001b[0;34m)\u001b[0m\u001b[0;34m:\u001b[0m\u001b[0;34m\u001b[0m\u001b[0m\n\u001b[0;32m---> 13\u001b[0;31m                 \u001b[0msw\u001b[0m\u001b[0;34m.\u001b[0m\u001b[0mmodcalc\u001b[0m\u001b[0;34m[\u001b[0m\u001b[0mw\u001b[0m\u001b[0;34m,\u001b[0m\u001b[0mi\u001b[0m\u001b[0;34m]\u001b[0m \u001b[0;34m=\u001b[0m \u001b[0msw\u001b[0m\u001b[0;34m.\u001b[0m\u001b[0mmodcalc\u001b[0m\u001b[0;34m[\u001b[0m\u001b[0mw\u001b[0m\u001b[0;34m,\u001b[0m\u001b[0mi\u001b[0m\u001b[0;34m]\u001b[0m\u001b[0;34m+\u001b[0m \u001b[0;36m2\u001b[0m\u001b[0;34m*\u001b[0m\u001b[0mnp\u001b[0m\u001b[0;34m.\u001b[0m\u001b[0mpi\u001b[0m\u001b[0;34m*\u001b[0m\u001b[0mgamma\u001b[0m\u001b[0;34m*\u001b[0m\u001b[0mnp\u001b[0m\u001b[0;34m.\u001b[0m\u001b[0mpower\u001b[0m\u001b[0;34m(\u001b[0m\u001b[0mm\u001b[0m\u001b[0;34m[\u001b[0m\u001b[0mw\u001b[0m\u001b[0;34m,\u001b[0m\u001b[0;36m1\u001b[0m\u001b[0;34m+\u001b[0m\u001b[0mk\u001b[0m\u001b[0;34m]\u001b[0m\u001b[0;34m,\u001b[0m\u001b[0;36m2\u001b[0m\u001b[0;34m)\u001b[0m\u001b[0;34m*\u001b[0m\u001b[0mm\u001b[0m\u001b[0;34m[\u001b[0m\u001b[0mw\u001b[0m\u001b[0;34m,\u001b[0m\u001b[0;36m0\u001b[0m\u001b[0;34m+\u001b[0m\u001b[0mk\u001b[0m\u001b[0;34m]\u001b[0m\u001b[0;34m*\u001b[0m\u001b[0mm\u001b[0m\u001b[0;34m[\u001b[0m\u001b[0mw\u001b[0m\u001b[0;34m,\u001b[0m\u001b[0;36m3\u001b[0m\u001b[0;34m+\u001b[0m\u001b[0mk\u001b[0m\u001b[0;34m]\u001b[0m\u001b[0;34m/\u001b[0m\u001b[0mnp\u001b[0m\u001b[0;34m.\u001b[0m\u001b[0mpower\u001b[0m\u001b[0;34m(\u001b[0m\u001b[0;34m(\u001b[0m\u001b[0mnp\u001b[0m\u001b[0;34m.\u001b[0m\u001b[0mpower\u001b[0m\u001b[0;34m(\u001b[0m\u001b[0;34m(\u001b[0m \u001b[0mx\u001b[0m\u001b[0;34m[\u001b[0m\u001b[0mi\u001b[0m\u001b[0;34m]\u001b[0m \u001b[0;34m-\u001b[0m \u001b[0mm\u001b[0m\u001b[0;34m[\u001b[0m\u001b[0mw\u001b[0m\u001b[0;34m,\u001b[0m\u001b[0;36m3\u001b[0m\u001b[0;34m+\u001b[0m\u001b[0mk\u001b[0m\u001b[0;34m]\u001b[0m\u001b[0;34m)\u001b[0m\u001b[0;34m,\u001b[0m\u001b[0;36m2\u001b[0m\u001b[0;34m)\u001b[0m \u001b[0;34m+\u001b[0m \u001b[0mm\u001b[0m\u001b[0;34m[\u001b[0m\u001b[0mw\u001b[0m\u001b[0;34m,\u001b[0m\u001b[0;36m2\u001b[0m\u001b[0;34m+\u001b[0m\u001b[0mk\u001b[0m\u001b[0;34m]\u001b[0m\u001b[0;34m**\u001b[0m\u001b[0;36m2\u001b[0m\u001b[0;34m)\u001b[0m\u001b[0;34m,\u001b[0m\u001b[0;36m1.5\u001b[0m\u001b[0;34m)\u001b[0m\u001b[0;34m\u001b[0m\u001b[0m\n\u001b[0m\u001b[1;32m     14\u001b[0m                 \u001b[0mk\u001b[0m\u001b[0;34m=\u001b[0m\u001b[0mk\u001b[0m\u001b[0;34m+\u001b[0m\u001b[0;36m4\u001b[0m\u001b[0;34m\u001b[0m\u001b[0m\n\u001b[1;32m     15\u001b[0m \u001b[0;34m\u001b[0m\u001b[0m\n",
      "\u001b[0;31mKeyboardInterrupt\u001b[0m: "
     ]
    }
   ],
   "source": [
    "\n",
    "#ciclo que controla el número de iteraciones según una tolerancia o bien numero máximo de iteraciones permitido\n",
    "while minerr> tol and l<itera:   \n",
    "#se copia la posición de cada partícula a una variable para hacer el cálculo de la anomalía\n",
    "    m = sw.pob\n",
    "    sw.modcalc=np.zeros((n_pob,n)) #es necesario reiniciar la variable cada iteración\n",
    "#se calcula la anomalia por cada modelo, se podría paralelizar\n",
    "    for w in np.arange(n_pob):\n",
    "        for i in np.arange(n):\n",
    "            k=0\n",
    "            i\n",
    "            for j in np.arange(3):\n",
    "                sw.modcalc[w,i] = sw.modcalc[w,i]+ 2*np.pi*gamma*np.power(m[w,1+k],2)*m[w,0+k]*m[w,3+k]/np.power((np.power(( x[i] - m[w,3+k]),2) + m[w,2+k]**2),1.5)\n",
    "                k=k+4\n",
    "               \n",
    "                \n",
    "#Se evalua el error l2 de cada partícula respecto a la función objetivo\n",
    "    swarmerr(sw,d_c)\n",
    "#Una vez calculado el error, se mueven las partículas de posición de acuerdo a los parámetros preestablecidos\n",
    "    P_move_fobj(sw,we,alpha,beta)\n",
    "    minerr = sw.minerr\n",
    "    file.write(\"%i %7.5f\\n\" % (l, minerr))\n",
    "    \n",
    "#se repite el ciclo hasta que se cumpla el número de iteraciones o la tolerancia, aumentando el contador en 1    \n",
    "    l = l+1\n",
    "    \n",
    "file.close()"
   ]
  },
  {
   "cell_type": "markdown",
   "metadata": {},
   "source": [
    "Los parámetros de los tres cilindros que calculó la inversión son los siguientes:"
   ]
  },
  {
   "cell_type": "code",
   "execution_count": 257,
   "metadata": {},
   "outputs": [
    {
     "data": {
      "text/plain": [
       "array([ 1.45279523e+03,  7.63289613e+00,  1.28055649e+01,  1.23728033e+02,\n",
       "        9.16503846e+02,  1.04210689e+01,  2.95725738e+01,  3.04089439e+02,\n",
       "       -4.49437772e+02,  2.42881393e-01,  7.30668319e+00,  3.58563216e+02])"
      ]
     },
     "execution_count": 257,
     "metadata": {},
     "output_type": "execute_result"
    }
   ],
   "source": [
    "sw.gbest"
   ]
  },
  {
   "cell_type": "code",
   "execution_count": 258,
   "metadata": {},
   "outputs": [
    {
     "data": {
      "text/plain": [
       "0.29321694144739846"
      ]
     },
     "execution_count": 258,
     "metadata": {},
     "output_type": "execute_result"
    }
   ],
   "source": [
    "minerr"
   ]
  },
  {
   "cell_type": "markdown",
   "metadata": {},
   "source": [
    "Graficamos el mejor modelo resultante:"
   ]
  },
  {
   "cell_type": "code",
   "execution_count": 259,
   "metadata": {},
   "outputs": [],
   "source": [
    "mod_resultante = np.zeros(n)\n",
    "for i in np.arange(n):\n",
    "    k=0\n",
    "    \n",
    "    for j in np.arange(3):\n",
    "        mod_resultante[i] = mod_resultante[i]+ 2*np.pi*gamma*np.power(sw.gbest[1+k],2)*sw.gbest[0+k]*sw.gbest[2+k]/np.power((np.power(( x[i] - sw.gbest[3+k]),2) + sw.gbest[2+k]**2),1.5)\n",
    "        k=k+4"
   ]
  },
  {
   "cell_type": "markdown",
   "metadata": {},
   "source": [
    "A continuación se muestra la gráfica del error obtenida contra el número de iteraciones:"
   ]
  },
  {
   "cell_type": "code",
   "execution_count": 260,
   "metadata": {},
   "outputs": [
    {
     "data": {
      "text/plain": [
       "Text(0,0.5,'error')"
      ]
     },
     "execution_count": 260,
     "metadata": {},
     "output_type": "execute_result"
    },
    {
     "data": {
      "image/png": "[encoded data removed]",
      "text/plain": [
       "<Figure size 432x288 with 1 Axes>"
      ]
     },
     "metadata": {},
     "output_type": "display_data"
    }
   ],
   "source": [
    "salida = np.loadtxt(\"salida.dat\")\n",
    "plt.plot(salida[0:10,0],salida[0:10,1])\n",
    "plt.xlabel(\"num iteracion\")\n",
    "plt.ylabel(\"error\")"
   ]
  },
  {
   "cell_type": "code",
   "execution_count": 261,
   "metadata": {},
   "outputs": [
    {
     "data": {
      "image/png": "[encoded data removed]",
      "text/plain": [
       "<Figure size 432x288 with 1 Axes>"
      ]
     },
     "metadata": {},
     "output_type": "display_data"
    }
   ],
   "source": [
    "plt.plot(x,mod_resultante,label = \"modelo\")\n",
    "plt.plot(x,anomalia,label = \"datos\")\n",
    "plt.xlabel(\"distancia (m)\")\n",
    "plt.ylabel(\"g(mgal)\")\n",
    "plt.legend()\n",
    "plt.show()"
   ]
  }
 ],
 "metadata": {
  "kernelspec": {
   "display_name": "Python 3",
   "language": "python",
   "name": "python3"
  },
  "language_info": {
   "codemirror_mode": {
    "name": "ipython",
    "version": 3
   },
   "file_extension": ".py",
   "mimetype": "text/x-python",
   "name": "python",
   "nbconvert_exporter": "python",
   "pygments_lexer": "ipython3",
   "version": "3.6.5"
  }
 },
 "nbformat": 4,
 "nbformat_minor": 2
}
