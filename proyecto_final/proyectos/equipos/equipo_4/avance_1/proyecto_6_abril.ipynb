{
 "cells": [
  {
   "cell_type": "markdown",
   "metadata": {},
   "source": [
    "RESUMEN\n",
    "\n",
    "La rama de la ciencia que se conoce como la Geofísica utiliza una gran variedad de métodos con la finalidad de hacer inferencias del subsuelo y poder obtener modelos geológicos de interés. Uno de estos métodos es el método inverso.  En general, se define a la teoría de inversión como “un conjunto organizado de técnicas matemáticas que permiten reducir información para obtener conocimiento sobre el mundo físico basándonos en inferencias tomadas de las observaciones”. (Menke, 2012). \n",
    "\n",
    "En los problemas de inversión geofísicos se desea determinar  parámetros de alguna estructura, modelo o sistema de interés en el subsuelo a través de datos observados en superficie (anomalías). La detección de minerales, gas, aceite carbón o metales es esencialmente un problema de inversión de datos geofísicos.\n",
    "\n",
    "A diferencia del problema inverso, en el problema directo (forward model) la estructura o materiales son conocidos y lo que se quiere encontrar son por ejemplo, los campos gravimétricos, magnéticos u electromagnéticos que producen. El problema inverso es más complejo que el directo por razones que se verán más adelante.\n",
    "\n",
    "Los problemas de inversión y optimización se encuentran fuertemente ligados, ya que si se dispone del problema directo el problema de inversión se puede formular como un problema de optimización.  En general, resolver problemas de inversión geofísica a través de métodos de optimización es un problema de cómputo intensivo . Además la mayoría de los problemas geofísicos son nolineales. Recientemente se han formulado métodos denominados heurísticos que han resultado ser muy útiles en el área de la geofísica como por ejemplo el de Simmulated Annealing (Mauricio Nava Flores, 2018).\n",
    "\n",
    "En este trabajo es de mi interés comenzar a abordar la inversión de datos geofísicos de origen gravimétrico través del método de optimización conocido como Particle swarm optimization (Kennedy y Eberhart, 1995). Debido a que  invertir datos geofísicos reales constituye en sí un trabajo de tesis, se propone en el proyecto de la Materia de Métodos Numéricos escribir el código en Python para invertir un problema sencillo teórico y con ello verificar la implementación correcta del método. El problema teórico se explica a continuación.\n",
    "\n"
   ]
  },
  {
   "cell_type": "markdown",
   "metadata": {},
   "source": [
    "PROBLEMA\n",
    "\n",
    "El problema teórico a invertir es similar al del artículo de Yuan (2009). Se asumen tres cilindros horizontales enterrados como los de la siguiente figura. Sus radios son R1, R2, R3 de 30, 22.5 y 30 m. Enterrados a las profundidades que se indican en el diagrama 100, 50 y 100 m. Los contrastes de densidad lineal son lambda1, lambda2, lambda 3: 2827.4, 1590.4 y -2827.4. Los datos del problema son en realidad datos sintéticos que se conocen como la anomalía gravimétrica, que en el caso de Yuan(2009) está dada por la curva de la parte superior de la figura. La idea es invertir la anomalía gravimétrica para generar los parámetros de los cilindros."
   ]
  },
  {
   "cell_type": "markdown",
   "metadata": {},
   "source": [
    "![](./fotos/problema_teorico.png)"
   ]
  },
  {
   "cell_type": "markdown",
   "metadata": {},
   "source": [
    "MODELO DE CILINDRO INFINITO\n",
    "\n",
    "De acuerdo a lo anterior, debemos modelar la atracción gravitatoria producida por un cilindro horizontal infinito, donde se consideran las siguientes simplificaciones (Blakely, 1996):\n",
    "\n",
    "La fuerza de atracción gravitacional de un cilindro infinitamente largo es inversamente proporcional a la distancia del punto de interés al cilindro.\n",
    "\n",
    "Se considera que la distancia entre el punto de prueba P y el cilindro solo existe en el plano perpendicular al eje del cilindro\n",
    "\n",
    "La densidad es constante para todo el volumen del cilindro\n",
    "\n",
    "Un eje coordenado será paralelo al eje longitudinal del cilindro\n",
    "\n",
    "\n",
    "Siguiendo el desarrollo descrito en Blakely (1996) la ecuación para obtener la anomalía gravimétrica debida a un cilindro infinito en el punto P(x,y,0) es la siguiente :\n",
    "\n",
    "$g(P) = {-2\\pi\\gamma R^2 z} / r $\n",
    "\n",
    "donde $\\gamma$ es una constante, R es el radio del cilindro, z es la distancia y r es la distancia del punto P(x,y,0) al cilindro,"
   ]
  },
  {
   "cell_type": "markdown",
   "metadata": {},
   "source": [
    "![](./fotos/blakely.png)"
   ]
  },
  {
   "cell_type": "markdown",
   "metadata": {},
   "source": [
    "MÉTODO DE OPTIMIZACIÓN\n",
    "\n",
    "Método Particle Swarm Optimization (PSO) \n",
    "\n",
    "El método PSO (Kennedy y Eberhart,1995) se basa en el comportamiento de lo que se conoce en la naturaleza como inteligencia de enjambre (swarm intelligence). Es uno de los tantos algoritmos de inteligencia de enjambre que existen en la literatura y que han sido ampliamente utilizados en la Ingeniería por ser fáciles y flexibles. En este tipo de métodos la búsqueda de la mejor solución se asemeja a la búsqueda de alimento por parte de enjambres de abejas o bien de grupos de aves u hormigas. Primero, se genera de forma aleatoria un grupo de individuos que llevan información del modelo inicial con ciertas restricciones o información a priori. Después estos individuos buscan una solución satisfactoria de forma heurística a través de simular comunicación entre los individuos y de la coordinación entre los mismos, lo cual en términos computacionales quiere decir buscar individuos óptimos con datos calculados que concuerden con los datos reales.\n",
    "\n",
    "Este tipo de problema de optimización pertence a los denominados problemas de Optimización de Derivación libres, lo cual quiere decir que a diferencia de otros métodos de optimización, en estos no se busca aproximar el gradiente de las funciones involucradas. Los métodos de derivación libres no se encuentran desarrollados por completo sino más bien son objeto actual de investigación. \n",
    "\n",
    "PSO es un método de tipo no determinísticos o estocástico, es no lineal y se trata de un método global.\n",
    "\n",
    "El método se explica utilizando la siguiente figura tomada de Yuan (2009). Supóngase un espacio de modelos el cual se puede ilustrar como un cubo con partículas. Las partículas son los modelos sujetos a ciertas restricciones. En la figura los círculos rellenos corresponden a vectores con la posible solución. Los vectores indican la dirección de vuelo de la partícula (dirección de la perturbación de la solución). El círculo vacío indica el vector solución a la verdadera inversión. La distancia de las posibles soluciones a la verdadera solución nos dice qué tan cerca estamos de la solución.\n",
    "\n",
    "\n",
    "\n",
    "\n"
   ]
  },
  {
   "cell_type": "markdown",
   "metadata": {},
   "source": [
    "![](./fotos/particulas.png)"
   ]
  },
  {
   "cell_type": "markdown",
   "metadata": {},
   "source": [
    "La función a optimizar es :\n",
    "\n",
    "$g(\\textbf m)=\\lVert{D^{cal} - D^{obs}\\rVert}_p + g_{res}(\\cdot) \\rightarrow min$\n",
    "\n",
    "donde $\\textbf m$ es un vector que contiene los parámetros del modelo geofísico (círculos rellenos), $D^{cal}$ son los datos calculados y $D^{obs}$ los datos geofísicos observados, $g_{res}$ es el término de restricciones"
   ]
  },
  {
   "cell_type": "markdown",
   "metadata": {},
   "source": [
    "Sean $x_i$ y $v_i$ el vector de posición y velocidad para la partícula $i$. Se puede determinar el vector velocidad para cada tiempo como sigue:\n",
    "\n",
    "$v_i^{t+1} = \\omega v_i^t + \\alpha \\epsilon_1 [g^* - x_i^t] + \\beta\\epsilon_2[x_i^{*(t)} - x_i^t]$"
   ]
  },
  {
   "cell_type": "markdown",
   "metadata": {},
   "source": [
    "Donde $\\omega$ es un peso de inercia que se le da a cada partícula para que las velocidades se mantengan en valores aceptables a lo largo de la ejecución, $\\epsilon_1$ y $\\epsilon_2$ son dos vectores aleatorios que pueden tomar valores entre 0 y 1, los parámetros $\\alpha$ y $\\beta$ son pesos que indican a cada partícula qué importancia darle a la dirección hacia el óptimo global ($\\alpha$) y la dirección hacia el óptimo local ($\\beta$), $g^*$ el valor de mejor ajuste global conocido en el instante $t$, $x_i^{(t)}$ es la posición actual de la partícula y $x_i^{(*t)}$ es la mejor posición previamente encontrada por la misma partícula.\n",
    "\n",
    "Una vez creadas las partículas se considera que la velocidad inicial de las partículas en t=0 es de $v_i = 0$. Las posiciones de las partículas se calculan así:\n",
    "\n",
    "$x_i^{t+1} = x_i^t + \\omega v_i^{t+1}$\n",
    "\n",
    "Las localidades iniciales de las partículas se deben distribuir relativamente uniformemente tal que puedan muestrar casi todas las regiones. La velocidad inicial de la partícula puede ser cero, esto es $v_i^{t=0}$.  Aunque "
   ]
  },
  {
   "cell_type": "markdown",
   "metadata": {},
   "source": [
    "ALGORITMO \n",
    "\n",
    "A continuación se muestra un pseudocódigo de PSO:\n",
    "    \n",
    "1. Función objetivo $g(x)$, $x=(x_1, ..., x_d)$\n",
    "\n",
    "2. Inicializar las localidades $x_i$ y velocidades $v_i$ de las $n$ partículas\n",
    "\n",
    "3. Encontrar $g^*$ a partir de $min\\{g(x_1),...,g(x_n)\\}$ en $t=0$\n",
    "\n",
    "4. while (criterio)\n",
    "\n",
    "     for loop sobre todas las n partículas y todas las $d$ dimensiones\n",
    "    \n",
    "     generar velocidad nueva $v_i^{t+1}$ utilizando la ecuación 3\n",
    "    \n",
    "     Calcular las nuevas localidades $x_i^{t+1} = x_i + v_i^{t+1}$\n",
    "    \n",
    "     Evaluar las funciones objetivo en las nuevas localidades $x_i^{t+1}$\n",
    "    \n",
    "     Encontrar el mejor valor actual para cada partícula $x_i^*$\n",
    "    \n",
    "     end for\n",
    "    \n",
    "     Encontrar el mejor global actual $g^*$\n",
    "     \n",
    "     Actualizar $t=t+1$\n",
    "\n",
    "end while\n",
    "\n",
    "5. Salida de los resultados finales $x_i^*$ y $g^*$\n"
   ]
  },
  {
   "cell_type": "markdown",
   "metadata": {},
   "source": [
    "ACTIVIDADES A REALIZAR:\n",
    "\n",
    "1. Programar el algorito en python \n",
    "2. Probar el algoritmo con una función sencilla antes de probarlo con la anomalía sintética\n",
    "3. Generar la anomalía sintética de tres cilindros infinitos\n",
    "4. Aplicar el algoritmo para la anomalía sintética\n"
   ]
  },
  {
   "cell_type": "markdown",
   "metadata": {},
   "source": [
    "PIE DE FIGURAS\n",
    "Figura 2. Modelo simplificado del PSO. Tomado de Yuan, 2009."
   ]
  },
  {
   "cell_type": "code",
   "execution_count": null,
   "metadata": {},
   "outputs": [],
   "source": []
  },
  {
   "cell_type": "markdown",
   "metadata": {},
   "source": [
    "BIBLIOGRAFIA\n",
    "\n",
    "https://es.wikipedia.org/wiki/Optimización_por_enjambre_de_part%C3%ADculas\n",
    "    \n",
    "Jorge Nocedal, Stephen J. Wright. Numerical Optimization. Second Edition. Springer Series in Operations Research.Springer\n",
    "\n",
    "Karl F. Warnick. Numerical Methods For Engineering. An introduction Using MATLAB and Computational Electromagnetics Examples.\n",
    "\n",
    "Menke W., 2012. Geophysical Data Analysis: discrete inverse theory: MATLAB edition, volumen 45. Academic press.\n",
    "\n",
    "\n",
    "Yuan Sanyi, Wang Shangxi y Tian Nan. 2009. Applied Geophysics Vol. 6, No.2 Swarm intelligence optimization and its application in geophysical data inversion.\n",
    "\n",
    "Eberhart, R. y Kennedy, J. 1995. A new optimizer using particle swarm theory. En Micro Machine and Human Science. MHS' 95., Proceedings of the Sixth International Sympsium on, pp. 39-43. IEEE.\n",
    "\n",
    "Blakely, R. J. 1996. Potential Theory in gravity and magnetic applications. Cambridge University Press.\n",
    "\n"
   ]
  },
  {
   "cell_type": "code",
   "execution_count": 179,
   "metadata": {},
   "outputs": [
    {
     "data": {
      "text/plain": [
       "array([0])"
      ]
     },
     "execution_count": 179,
     "metadata": {},
     "output_type": "execute_result"
    }
   ],
   "source": []
  },
  {
   "cell_type": "code",
   "execution_count": null,
   "metadata": {},
   "outputs": [],
   "source": []
  }
 ],
 "metadata": {
  "kernelspec": {
   "display_name": "Python 3",
   "language": "python",
   "name": "python3"
  },
  "language_info": {
   "codemirror_mode": {
    "name": "ipython",
    "version": 3
   },
   "file_extension": ".py",
   "mimetype": "text/x-python",
   "name": "python",
   "nbconvert_exporter": "python",
   "pygments_lexer": "ipython3",
   "version": "3.6.5"
  }
 },
 "nbformat": 4,
 "nbformat_minor": 2
}
